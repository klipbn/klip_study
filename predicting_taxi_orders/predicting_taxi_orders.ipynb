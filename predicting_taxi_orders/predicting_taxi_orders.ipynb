{
 "cells": [
  {
   "cell_type": "markdown",
   "metadata": {
    "id": "glqmbes-OmiS"
   },
   "source": [
    "#  Прогнозирование заказов такси"
   ]
  },
  {
   "cell_type": "markdown",
   "metadata": {
    "id": "N4nhCaleOmiT"
   },
   "source": [
    "Имеются исторические данные о заказах такси в аэропортах. С целью привлечение большего количества водителей в период пиковой нагрузки, требуется спрогнозировать количество заказов такси на следующий час.  \n",
    "Для этого построим модель предсказания.\n",
    "\n",
    "При этом, значение метрики *RMSE* на тестовой выборке должно быть не больше 48.\n",
    "\n",
    "План исследования составим слеудющим образом:\n",
    "\n",
    "1. Загрузить данные и выполнить их ресемплирование по одному часу.\n",
    "2. Проанализировать данные.\n",
    "3. Обучить разные модели с различными гиперпараметрами. Сделать тестовую выборку размером 10% от исходных данных.\n",
    "4. Проверить данные на тестовой выборке и сделать выводы."
   ]
  },
  {
   "cell_type": "markdown",
   "metadata": {
    "id": "lNGBRO-1OmiU"
   },
   "source": [
    "## Подготовка"
   ]
  },
  {
   "cell_type": "code",
   "execution_count": 3,
   "metadata": {
    "colab": {
     "base_uri": "https://localhost:8080/"
    },
    "id": "0i_v4MwQO8X-",
    "outputId": "b915a8fd-4a04-446b-c9e0-5e41806515b0"
   },
   "outputs": [],
   "source": [
    "import lightgbm as lgb\n",
    "import matplotlib.pyplot as plt\n",
    "import pandas as pd\n",
    "import seaborn as sns\n",
    "import time\n",
    "import xgboost as xgb\n",
    "\n",
    "from catboost import CatBoostRegressor, cv\n",
    "from sklearn.linear_model import LinearRegression\n",
    "from sklearn.metrics import mean_squared_error\n",
    "from sklearn.model_selection import train_test_split, GridSearchCV, TimeSeriesSplit\n",
    "from statsmodels.tsa.seasonal import seasonal_decompose\n",
    "from statsmodels.tsa.stattools import adfuller"
   ]
  },
  {
   "cell_type": "markdown",
   "metadata": {
    "id": "EiFMKnozbTwH"
   },
   "source": [
    "Прочитаем даннные:"
   ]
  },
  {
   "cell_type": "code",
   "execution_count": 4,
   "metadata": {
    "id": "FPX1y7YhOmiV"
   },
   "outputs": [],
   "source": [
    "df = pd.read_csv('taxi.csv', parse_dates=[0], index_col=[0])"
   ]
  },
  {
   "cell_type": "code",
   "execution_count": 5,
   "metadata": {
    "colab": {
     "base_uri": "https://localhost:8080/",
     "height": 238
    },
    "id": "neGa4HRCPBum",
    "outputId": "c6bcd747-acda-4eee-d08d-0fb86c26538b"
   },
   "outputs": [
    {
     "data": {
      "text/html": [
       "<div>\n",
       "<style scoped>\n",
       "    .dataframe tbody tr th:only-of-type {\n",
       "        vertical-align: middle;\n",
       "    }\n",
       "\n",
       "    .dataframe tbody tr th {\n",
       "        vertical-align: top;\n",
       "    }\n",
       "\n",
       "    .dataframe thead th {\n",
       "        text-align: right;\n",
       "    }\n",
       "</style>\n",
       "<table border=\"1\" class=\"dataframe\">\n",
       "  <thead>\n",
       "    <tr style=\"text-align: right;\">\n",
       "      <th></th>\n",
       "      <th>num_orders</th>\n",
       "    </tr>\n",
       "    <tr>\n",
       "      <th>datetime</th>\n",
       "      <th></th>\n",
       "    </tr>\n",
       "  </thead>\n",
       "  <tbody>\n",
       "    <tr>\n",
       "      <th>2018-03-01 00:00:00</th>\n",
       "      <td>9</td>\n",
       "    </tr>\n",
       "    <tr>\n",
       "      <th>2018-03-01 00:10:00</th>\n",
       "      <td>14</td>\n",
       "    </tr>\n",
       "    <tr>\n",
       "      <th>2018-03-01 00:20:00</th>\n",
       "      <td>28</td>\n",
       "    </tr>\n",
       "    <tr>\n",
       "      <th>2018-03-01 00:30:00</th>\n",
       "      <td>20</td>\n",
       "    </tr>\n",
       "    <tr>\n",
       "      <th>2018-03-01 00:40:00</th>\n",
       "      <td>32</td>\n",
       "    </tr>\n",
       "  </tbody>\n",
       "</table>\n",
       "</div>"
      ],
      "text/plain": [
       "                     num_orders\n",
       "datetime                       \n",
       "2018-03-01 00:00:00           9\n",
       "2018-03-01 00:10:00          14\n",
       "2018-03-01 00:20:00          28\n",
       "2018-03-01 00:30:00          20\n",
       "2018-03-01 00:40:00          32"
      ]
     },
     "execution_count": 5,
     "metadata": {},
     "output_type": "execute_result"
    }
   ],
   "source": [
    "df.head()"
   ]
  },
  {
   "cell_type": "code",
   "execution_count": 6,
   "metadata": {
    "colab": {
     "base_uri": "https://localhost:8080/"
    },
    "id": "2HUiGEo2PBtC",
    "outputId": "bfdf81ea-a964-4fae-925c-0b9396d8a781"
   },
   "outputs": [
    {
     "name": "stdout",
     "output_type": "stream",
     "text": [
      "<class 'pandas.core.frame.DataFrame'>\n",
      "DatetimeIndex: 26496 entries, 2018-03-01 00:00:00 to 2018-08-31 23:50:00\n",
      "Data columns (total 1 columns):\n",
      " #   Column      Non-Null Count  Dtype\n",
      "---  ------      --------------  -----\n",
      " 0   num_orders  26496 non-null  int64\n",
      "dtypes: int64(1)\n",
      "memory usage: 414.0 KB\n"
     ]
    }
   ],
   "source": [
    "df.info()"
   ]
  },
  {
   "cell_type": "code",
   "execution_count": 7,
   "metadata": {
    "colab": {
     "base_uri": "https://localhost:8080/"
    },
    "id": "y_eOYTHOPBrB",
    "outputId": "efb19a75-2780-47f6-97b8-9447e223323f"
   },
   "outputs": [
    {
     "data": {
      "text/plain": [
       "True"
      ]
     },
     "execution_count": 7,
     "metadata": {},
     "output_type": "execute_result"
    }
   ],
   "source": [
    "df.index.is_monotonic"
   ]
  },
  {
   "cell_type": "code",
   "execution_count": 8,
   "metadata": {
    "colab": {
     "base_uri": "https://localhost:8080/"
    },
    "id": "9OV3L1vtPBmX",
    "outputId": "c73eec15-6a2b-4fc5-8dc7-87663316143c"
   },
   "outputs": [
    {
     "data": {
      "text/plain": [
       "Timestamp('2018-03-01 00:00:00')"
      ]
     },
     "execution_count": 8,
     "metadata": {},
     "output_type": "execute_result"
    }
   ],
   "source": [
    "df.index.min()"
   ]
  },
  {
   "cell_type": "code",
   "execution_count": 9,
   "metadata": {
    "colab": {
     "base_uri": "https://localhost:8080/"
    },
    "id": "xPvS_80MPBog",
    "outputId": "12c25a81-6691-45c4-8487-78f76e28448f"
   },
   "outputs": [
    {
     "data": {
      "text/plain": [
       "Timestamp('2018-08-31 23:50:00')"
      ]
     },
     "execution_count": 9,
     "metadata": {},
     "output_type": "execute_result"
    }
   ],
   "source": [
    "df.index.max()"
   ]
  },
  {
   "cell_type": "markdown",
   "metadata": {
    "id": "vN3ukqOmeo7e"
   },
   "source": [
    "Проведем ресемплирование с длиной ряда в 1 час суммарными значениями:"
   ]
  },
  {
   "cell_type": "code",
   "execution_count": 10,
   "metadata": {
    "colab": {
     "base_uri": "https://localhost:8080/"
    },
    "id": "aYQUUxpDe6qP",
    "outputId": "a9ea7b4e-148e-4cb9-834b-a0927268f652"
   },
   "outputs": [
    {
     "name": "stdout",
     "output_type": "stream",
     "text": [
      "<class 'pandas.core.frame.DataFrame'>\n",
      "DatetimeIndex: 4416 entries, 2018-03-01 00:00:00 to 2018-08-31 23:00:00\n",
      "Freq: H\n",
      "Data columns (total 1 columns):\n",
      " #   Column      Non-Null Count  Dtype\n",
      "---  ------      --------------  -----\n",
      " 0   num_orders  4416 non-null   int64\n",
      "dtypes: int64(1)\n",
      "memory usage: 69.0 KB\n"
     ]
    }
   ],
   "source": [
    "df = df.resample('1H').sum()\n",
    "df.info()"
   ]
  },
  {
   "cell_type": "markdown",
   "metadata": {
    "id": "e7mr03ZIPBkC"
   },
   "source": [
    "Вывод:  \n",
    "Пропусков нет, индексы упорядочены.  \n",
    "Данные представлены с 00:00 2018-03-01 по 23:50 2018-08-31."
   ]
  },
  {
   "cell_type": "markdown",
   "metadata": {
    "id": "3Y1zDzOKOmiV"
   },
   "source": [
    "## Анализ"
   ]
  },
  {
   "cell_type": "markdown",
   "metadata": {
    "id": "GEaPHluQiwJE"
   },
   "source": [
    "### Тренд"
   ]
  },
  {
   "cell_type": "markdown",
   "metadata": {
    "id": "XqfHFEHkfcns"
   },
   "source": [
    "Разложим ряд на тренд и сезонную компонентны:"
   ]
  },
  {
   "cell_type": "code",
   "execution_count": 11,
   "metadata": {
    "colab": {
     "base_uri": "https://localhost:8080/",
     "height": 416
    },
    "id": "jtEVCa91fiRt",
    "outputId": "643e4ef0-e524-4114-8979-757407d79ccb"
   },
   "outputs": [
    {
     "data": {
      "image/png": "[encoded data removed]",
      "text/plain": [
       "<Figure size 1296x432 with 1 Axes>"
      ]
     },
     "metadata": {
      "needs_background": "light"
     },
     "output_type": "display_data"
    }
   ],
   "source": [
    "decomposed = seasonal_decompose(df)\n",
    "plt.figure(figsize=(18, 6))\n",
    "decomposed.trend.plot(ax=plt.gca())\n",
    "plt.grid(color='grey', axis='both', alpha=0.5)\n",
    "plt.title('Тренд')\n",
    "plt.show()"
   ]
  },
  {
   "cell_type": "markdown",
   "metadata": {
    "id": "mCzed_MQix1j"
   },
   "source": [
    "### Сезонность"
   ]
  },
  {
   "cell_type": "code",
   "execution_count": 12,
   "metadata": {
    "colab": {
     "base_uri": "https://localhost:8080/",
     "height": 319
    },
    "id": "Feh_vj87fiZ3",
    "outputId": "20e4e56b-9e51-4ef0-8f6e-004bc738c0cc"
   },
   "outputs": [
    {
     "data": {
      "image/png": "[encoded data removed]",
      "text/plain": [
       "<Figure size 432x288 with 1 Axes>"
      ]
     },
     "metadata": {
      "needs_background": "light"
     },
     "output_type": "display_data"
    }
   ],
   "source": [
    "decomposed = seasonal_decompose(df['2018-07-02':'2018-07-08'])\n",
    "decomposed.seasonal.plot(ax=plt.gca())\n",
    "plt.grid(color='grey', axis='both', alpha=0.5)\n",
    "plt.title('Сезонность')\n",
    "plt.show()"
   ]
  },
  {
   "cell_type": "markdown",
   "metadata": {
    "id": "TPqSEykPgjrs"
   },
   "source": [
    "Видна сезонность с периодом в один день, с  подъемом спроса к вечеру и спад к утру, при этом средние показатели днем."
   ]
  },
  {
   "cell_type": "markdown",
   "metadata": {
    "id": "gVhaDF6Qi1E7"
   },
   "source": [
    "### Количество заказов такси"
   ]
  },
  {
   "cell_type": "code",
   "execution_count": 13,
   "metadata": {
    "colab": {
     "base_uri": "https://localhost:8080/",
     "height": 567
    },
    "id": "KXYmwuPefigU",
    "outputId": "fbcdb699-4e34-47b9-f130-9e2d298a9d81"
   },
   "outputs": [
    {
     "data": {
      "image/png": "[encoded data removed]",
      "text/plain": [
       "<Figure size 1296x648 with 2 Axes>"
      ]
     },
     "metadata": {
      "needs_background": "light"
     },
     "output_type": "display_data"
    }
   ],
   "source": [
    "plt.figure(figsize=(18, 9))\n",
    "plt.subplot(211)\n",
    "sns.histplot(data=df, x='num_orders', kde=True, bins=60, color='green')\n",
    "plt.title(f'Распределение количество заказов такси')\n",
    "plt.ylabel('Amount')\n",
    "plt.xlabel('Количество заказов, шт.')\n",
    "plt.grid(color='grey', axis='both', alpha=0.5)\n",
    "plt.subplot(212)\n",
    "sns.boxplot( data=df['num_orders'], orient=\"h\" )\n",
    "plt.title(f'Диаграмма размаха количества заказов такси')\n",
    "plt.xlabel('Количество заказов, шт.')\n",
    "plt.grid(color='grey', axis='both', alpha=.8)\n",
    "plt.show()"
   ]
  },
  {
   "cell_type": "markdown",
   "metadata": {
    "id": "ozWELEsUfiwU"
   },
   "source": [
    "Распределение нормальное, виден небольшой хвост с выбросами, трогатить их не будем ввиду, того, что максимальное количество заказов в пиковые часы нам тоже важны."
   ]
  },
  {
   "cell_type": "markdown",
   "metadata": {
    "id": "3k9IRjboQjOy"
   },
   "source": [
    "### Стационарность ряда"
   ]
  },
  {
   "cell_type": "code",
   "execution_count": 14,
   "metadata": {
    "colab": {
     "base_uri": "https://localhost:8080/",
     "height": 345
    },
    "id": "wkZp3A62QjL6",
    "outputId": "3fc1e4a8-7d6d-4a40-bd65-5537c15a663b"
   },
   "outputs": [
    {
     "data": {
      "image/png": "[encoded data removed]",
      "text/plain": [
       "<Figure size 1080x360 with 1 Axes>"
      ]
     },
     "metadata": {
      "needs_background": "light"
     },
     "output_type": "display_data"
    }
   ],
   "source": [
    "plt.rcParams[\"figure.figsize\"] = (15, 5)\n",
    "df.plot()\n",
    "plt.grid(color='grey', axis='both', alpha=0.5)\n",
    "plt.show()"
   ]
  },
  {
   "cell_type": "markdown",
   "metadata": {
    "id": "iAj1k7XUQjEG"
   },
   "source": [
    "Ряд похож на стационарный.  \n",
    " Стоит сравнить средние значения и дисперсии."
   ]
  },
  {
   "cell_type": "code",
   "execution_count": 15,
   "metadata": {
    "colab": {
     "base_uri": "https://localhost:8080/"
    },
    "id": "EM20FFaYQjBj",
    "outputId": "0588629e-c826-41cf-831f-9031c091ee06"
   },
   "outputs": [
    {
     "name": "stdout",
     "output_type": "stream",
     "text": [
      "mean1=65.180556, mean2=104.087912\n",
      "variance1=1084.163261, variance2=2226.325754\n"
     ]
    }
   ],
   "source": [
    "X = df\n",
    "split = len(X) / 2\n",
    "X1, X2 = X['2018-03-01':'2018-06-01'], X['2018-06-02':'2018-08-31']\n",
    "mean1, mean2 = X1.mean(), X2.mean()\n",
    "var1, var2 = X1.var(), X2.var()\n",
    "print('mean1=%f, mean2=%f' % (mean1, mean2))\n",
    "print('variance1=%f, variance2=%f' % (var1, var2))"
   ]
  },
  {
   "cell_type": "markdown",
   "metadata": {
    "id": "Gkw4cZhmQiqa"
   },
   "source": [
    "Имеется какая-то нестационарость, для уточнея проведем тест Дики-Фуллера:"
   ]
  },
  {
   "cell_type": "markdown",
   "metadata": {
    "id": "aOl2m_vbk6Jb"
   },
   "source": [
    "Нулевая гипотеза теста состоит в том, что временной ряд может быть представлен единичным корнем, что он не является стационарным (имеет некоторую зависящую от времени структуру). Альтернативная гипотеза (отвергающая нулевую гипотезу) состоит в том, что временной ряд является стационарным.\n",
    "\n",
    "- Нулевая гипотеза (H0): Если не удалось отклонить, он предполагает, что временной ряд имеет единичный корень, то есть он нестационарный. Он имеет некоторую временную структуру.\n",
    "- Альтернативная гипотеза (H1): Нулевая гипотеза отвергается; он предполагает, что временной ряд не имеет единичного корня, то есть он является стационарным. Он не имеет временной структуры.  \n",
    "\n",
    "Мы интерпретируем этот результат, используя значение p из теста. Значение p ниже порогового значения (например, 5% или 1%) предполагает, что мы отвергаем нулевую гипотезу (стационарную), в противном случае значение p выше порогового значения указывает на то, что мы не можем отклонить нулевую гипотезу (нестационарную).  \n",
    "\n",
    "- р-значение & gt; 0,05: Не удается отклонить нулевую гипотезу (H0), данные имеют единичный корень и являются нестационарными.\n",
    "- р-значение & lt; = 0,05: Отклонить нулевую гипотезу (H0), данные не имеют единичного корня и являются стационарными.\n",
    "\n",
    "[Ссылка](https://www.machinelearningmastery.ru/time-series-data-stationary-python/)"
   ]
  },
  {
   "cell_type": "code",
   "execution_count": 16,
   "metadata": {
    "colab": {
     "base_uri": "https://localhost:8080/"
    },
    "id": "H4uag-Q9jcLk",
    "outputId": "80fdceed-8f39-49ca-ae0c-034c80711c76"
   },
   "outputs": [
    {
     "name": "stdout",
     "output_type": "stream",
     "text": [
      "adf:  -3.0689242890279567\n",
      "p-value:  0.02894005140261284\n",
      "Critical Values:\n",
      "\t\t1%: -3.432\n",
      "\t\t5%: -2.862\n",
      "\t\t10%: -2.567\n",
      "Единичных корней нет, ряд стационарен\n"
     ]
    }
   ],
   "source": [
    "X = df['num_orders']\n",
    "\n",
    "test = adfuller(X)\n",
    "\n",
    "print('adf: ', test[0])\n",
    "print('p-value: ', test[1])\n",
    "print('Critical Values:')\n",
    "for key, value in test[4].items():\n",
    "    print('\\t\\t%s: %.3f' % (key, value))\n",
    "if test[0]> test[4]['5%']: \n",
    "    print('Есть единичные корни, ряд не стационарен')\n",
    "else:\n",
    "    print('Единичных корней нет, ряд стационарен')"
   ]
  },
  {
   "cell_type": "markdown",
   "metadata": {
    "id": "rDfamdYMjcKN"
   },
   "source": [
    "### Создание признаков"
   ]
  },
  {
   "cell_type": "markdown",
   "metadata": {
    "id": "ypVUhzbRjcGq"
   },
   "source": [
    "Напишем функцию make_features():\n",
    "- добавим четыре новых календарных признака: месяц, день, час, день недели;\n",
    "- добавим отстающие значения;\n",
    "- добавим скользящее среднее и скользящую медиану"
   ]
  },
  {
   "cell_type": "code",
   "execution_count": 17,
   "metadata": {
    "id": "TQDwnc5OjcFH"
   },
   "outputs": [],
   "source": [
    "def make_features(data, max_lag, rolling_mean_size):\n",
    "    '''\n",
    "    Получает data, \n",
    "    max_lag - глубина отстающих значений, \n",
    "    rolling_mean_size - размер выборки для скользящего среднего\n",
    "    \n",
    "    Создает признаки в data\n",
    "    Первая часть выделяет календарные признаки (месяц/день etc.)\n",
    "    Вторая добавляет отстающие значения\n",
    "    Третья добавляет скользящее среднее и медианну\n",
    "    '''\n",
    "    \n",
    "    data['dayofweek'] = data.index.dayofweek\n",
    "    data['hour'] = data.index.hour\n",
    "\n",
    "    for lag in range(1, max_lag + 1):\n",
    "        data['lag_{}'.format(lag)] = data['num_orders'].shift(lag)\n",
    "\n",
    "    data['rolling_mean'] = data['num_orders'].shift().rolling(rolling_mean_size).mean()\n",
    "    data['rolling_median'] = data['num_orders'].shift().rolling(rolling_mean_size).median()"
   ]
  },
  {
   "cell_type": "code",
   "execution_count": 18,
   "metadata": {
    "id": "a-H-b8qKmSEe"
   },
   "outputs": [],
   "source": [
    "make_features(df, 6, 12)"
   ]
  },
  {
   "cell_type": "code",
   "execution_count": 19,
   "metadata": {
    "colab": {
     "base_uri": "https://localhost:8080/",
     "height": 238
    },
    "id": "lITvsUqwmSCM",
    "outputId": "cf4c6278-19c3-4cbf-bbdc-24c4c8d309a3"
   },
   "outputs": [
    {
     "data": {
      "text/html": [
       "<div>\n",
       "<style scoped>\n",
       "    .dataframe tbody tr th:only-of-type {\n",
       "        vertical-align: middle;\n",
       "    }\n",
       "\n",
       "    .dataframe tbody tr th {\n",
       "        vertical-align: top;\n",
       "    }\n",
       "\n",
       "    .dataframe thead th {\n",
       "        text-align: right;\n",
       "    }\n",
       "</style>\n",
       "<table border=\"1\" class=\"dataframe\">\n",
       "  <thead>\n",
       "    <tr style=\"text-align: right;\">\n",
       "      <th></th>\n",
       "      <th>num_orders</th>\n",
       "      <th>dayofweek</th>\n",
       "      <th>hour</th>\n",
       "      <th>lag_1</th>\n",
       "      <th>lag_2</th>\n",
       "      <th>lag_3</th>\n",
       "      <th>lag_4</th>\n",
       "      <th>lag_5</th>\n",
       "      <th>lag_6</th>\n",
       "      <th>rolling_mean</th>\n",
       "      <th>rolling_median</th>\n",
       "    </tr>\n",
       "    <tr>\n",
       "      <th>datetime</th>\n",
       "      <th></th>\n",
       "      <th></th>\n",
       "      <th></th>\n",
       "      <th></th>\n",
       "      <th></th>\n",
       "      <th></th>\n",
       "      <th></th>\n",
       "      <th></th>\n",
       "      <th></th>\n",
       "      <th></th>\n",
       "      <th></th>\n",
       "    </tr>\n",
       "  </thead>\n",
       "  <tbody>\n",
       "    <tr>\n",
       "      <th>2018-08-31 19:00:00</th>\n",
       "      <td>136</td>\n",
       "      <td>4</td>\n",
       "      <td>19</td>\n",
       "      <td>207.0</td>\n",
       "      <td>217.0</td>\n",
       "      <td>197.0</td>\n",
       "      <td>116.0</td>\n",
       "      <td>133.0</td>\n",
       "      <td>166.0</td>\n",
       "      <td>163.416667</td>\n",
       "      <td>174.5</td>\n",
       "    </tr>\n",
       "    <tr>\n",
       "      <th>2018-08-31 20:00:00</th>\n",
       "      <td>154</td>\n",
       "      <td>4</td>\n",
       "      <td>20</td>\n",
       "      <td>136.0</td>\n",
       "      <td>207.0</td>\n",
       "      <td>217.0</td>\n",
       "      <td>197.0</td>\n",
       "      <td>116.0</td>\n",
       "      <td>133.0</td>\n",
       "      <td>170.916667</td>\n",
       "      <td>174.5</td>\n",
       "    </tr>\n",
       "    <tr>\n",
       "      <th>2018-08-31 21:00:00</th>\n",
       "      <td>159</td>\n",
       "      <td>4</td>\n",
       "      <td>21</td>\n",
       "      <td>154.0</td>\n",
       "      <td>136.0</td>\n",
       "      <td>207.0</td>\n",
       "      <td>217.0</td>\n",
       "      <td>197.0</td>\n",
       "      <td>116.0</td>\n",
       "      <td>168.583333</td>\n",
       "      <td>166.5</td>\n",
       "    </tr>\n",
       "    <tr>\n",
       "      <th>2018-08-31 22:00:00</th>\n",
       "      <td>223</td>\n",
       "      <td>4</td>\n",
       "      <td>22</td>\n",
       "      <td>159.0</td>\n",
       "      <td>154.0</td>\n",
       "      <td>136.0</td>\n",
       "      <td>207.0</td>\n",
       "      <td>217.0</td>\n",
       "      <td>197.0</td>\n",
       "      <td>164.916667</td>\n",
       "      <td>162.5</td>\n",
       "    </tr>\n",
       "    <tr>\n",
       "      <th>2018-08-31 23:00:00</th>\n",
       "      <td>205</td>\n",
       "      <td>4</td>\n",
       "      <td>23</td>\n",
       "      <td>223.0</td>\n",
       "      <td>159.0</td>\n",
       "      <td>154.0</td>\n",
       "      <td>136.0</td>\n",
       "      <td>207.0</td>\n",
       "      <td>217.0</td>\n",
       "      <td>167.583333</td>\n",
       "      <td>162.5</td>\n",
       "    </tr>\n",
       "  </tbody>\n",
       "</table>\n",
       "</div>"
      ],
      "text/plain": [
       "                     num_orders  dayofweek  hour  lag_1  lag_2  lag_3  lag_4  \\\n",
       "datetime                                                                       \n",
       "2018-08-31 19:00:00         136          4    19  207.0  217.0  197.0  116.0   \n",
       "2018-08-31 20:00:00         154          4    20  136.0  207.0  217.0  197.0   \n",
       "2018-08-31 21:00:00         159          4    21  154.0  136.0  207.0  217.0   \n",
       "2018-08-31 22:00:00         223          4    22  159.0  154.0  136.0  207.0   \n",
       "2018-08-31 23:00:00         205          4    23  223.0  159.0  154.0  136.0   \n",
       "\n",
       "                     lag_5  lag_6  rolling_mean  rolling_median  \n",
       "datetime                                                         \n",
       "2018-08-31 19:00:00  133.0  166.0    163.416667           174.5  \n",
       "2018-08-31 20:00:00  116.0  133.0    170.916667           174.5  \n",
       "2018-08-31 21:00:00  197.0  116.0    168.583333           166.5  \n",
       "2018-08-31 22:00:00  217.0  197.0    164.916667           162.5  \n",
       "2018-08-31 23:00:00  207.0  217.0    167.583333           162.5  "
      ]
     },
     "execution_count": 19,
     "metadata": {},
     "output_type": "execute_result"
    }
   ],
   "source": [
    "df.tail()"
   ]
  },
  {
   "cell_type": "markdown",
   "metadata": {
    "id": "rKO9Jzs-jcC5"
   },
   "source": [
    "Вывод: данные подготовленыи. Приступаем к обучению."
   ]
  },
  {
   "cell_type": "markdown",
   "metadata": {
    "id": "DFIygP--OmiX"
   },
   "source": [
    "## Обучение"
   ]
  },
  {
   "cell_type": "markdown",
   "metadata": {
    "id": "fO1PywXb1Rpt"
   },
   "source": [
    "### Разбиение данных на выборки"
   ]
  },
  {
   "cell_type": "markdown",
   "metadata": {
    "id": "ck42tY6C1cdM"
   },
   "source": [
    "Разобьем данные: 90% - train set, 10% - test set:"
   ]
  },
  {
   "cell_type": "code",
   "execution_count": 20,
   "metadata": {
    "id": "p0eVMVWU1oft"
   },
   "outputs": [],
   "source": [
    "df = df.dropna()\n",
    "features = df.drop(columns=['num_orders'])\n",
    "target = df['num_orders']"
   ]
  },
  {
   "cell_type": "code",
   "execution_count": 21,
   "metadata": {
    "id": "RLxqe7oA1U4g"
   },
   "outputs": [],
   "source": [
    "X_train, X_test, y_train, y_test = train_test_split(features, target, test_size=.1, shuffle=False)"
   ]
  },
  {
   "cell_type": "code",
   "execution_count": 22,
   "metadata": {
    "colab": {
     "base_uri": "https://localhost:8080/"
    },
    "id": "Etfpes242P3E",
    "outputId": "c12c146d-a7a3-498e-d8f3-3e69036c196b"
   },
   "outputs": [
    {
     "name": "stdout",
     "output_type": "stream",
     "text": [
      "(3963, 10) (441, 10)\n",
      "(3963,) (441,)\n"
     ]
    }
   ],
   "source": [
    "print(X_train.shape, X_test.shape)\n",
    "print(y_train.shape, y_test.shape)"
   ]
  },
  {
   "cell_type": "code",
   "execution_count": 23,
   "metadata": {
    "colab": {
     "base_uri": "https://localhost:8080/"
    },
    "id": "v7N-VI6zv8Lw",
    "outputId": "177000ad-f7ec-44ed-9fc6-09434cd39cd5"
   },
   "outputs": [
    {
     "name": "stdout",
     "output_type": "stream",
     "text": [
      "2018-03-01 12:00:00 2018-08-13 14:00:00\n",
      "2018-08-13 15:00:00 2018-08-31 23:00:00\n"
     ]
    }
   ],
   "source": [
    "print(X_train.index.min(), X_train.index.max())\n",
    "print(X_test.index.min(), X_test.index.max())"
   ]
  },
  {
   "cell_type": "markdown",
   "metadata": {
    "id": "cN878pPStkCt"
   },
   "source": [
    "### LinearRegression"
   ]
  },
  {
   "cell_type": "code",
   "execution_count": 24,
   "metadata": {
    "colab": {
     "base_uri": "https://localhost:8080/"
    },
    "id": "jq2sAXIw4NB1",
    "outputId": "52c2f0c8-2af5-4bc6-c128-b172df66ec6e"
   },
   "outputs": [
    {
     "name": "stdout",
     "output_type": "stream",
     "text": [
      "Wall time: 0 ns\n"
     ]
    }
   ],
   "source": [
    "%%time\n",
    "start = time.time()\n",
    "\n",
    "lr_model = LinearRegression()\n",
    "lr_model.fit(X_train, y_train)\n",
    "\n",
    "end = time.time()\n",
    "lr_fit_time = end - start"
   ]
  },
  {
   "cell_type": "code",
   "execution_count": 25,
   "metadata": {
    "id": "Tfl7yyjP4Nvp"
   },
   "outputs": [],
   "source": [
    "lr_predict = lr_model.predict(X_train)"
   ]
  },
  {
   "cell_type": "code",
   "execution_count": 26,
   "metadata": {
    "id": "Y4YO68X94Nt1"
   },
   "outputs": [],
   "source": [
    "lr_rsme = mean_squared_error(y_train, lr_predict) ** 0.5"
   ]
  },
  {
   "cell_type": "markdown",
   "metadata": {
    "id": "F_F9fCqLtj96"
   },
   "source": [
    "### Extreme gradient boosting regressor"
   ]
  },
  {
   "cell_type": "code",
   "execution_count": 27,
   "metadata": {
    "colab": {
     "base_uri": "https://localhost:8080/"
    },
    "id": "qa8xFooXtj7k",
    "outputId": "f0cb102a-20ee-4406-8df4-3a8e49d4ecd0"
   },
   "outputs": [
    {
     "name": "stdout",
     "output_type": "stream",
     "text": [
      "Wall time: 5.56 s\n"
     ]
    }
   ],
   "source": [
    "%%time\n",
    "start = time.time()\n",
    "\n",
    "xgbr = xgb.XGBRegressor(verbosity=0, random_state=42)\n",
    "params = {'n_estimators': [50, 100, 150],\n",
    "          'objective': ['reg:squarederror'],\n",
    "          'learning_rate' : [0.1, 0.3],\n",
    "          'max_depth': [3, 5]}\n",
    "xgbr_model = GridSearchCV(estimator=xgbr, param_grid=params, n_jobs=-1, cv=TimeSeriesSplit(n_splits=6))\n",
    "xgbr_model.fit(X_train, y_train)\n",
    "\n",
    "end = time.time()\n",
    "xgbr_search_time = end - start"
   ]
  },
  {
   "cell_type": "code",
   "execution_count": 28,
   "metadata": {
    "colab": {
     "base_uri": "https://localhost:8080/"
    },
    "id": "vjbbzh6Itj5k",
    "outputId": "717585f6-cb6c-4ae6-e62d-a12a5eeb52cc"
   },
   "outputs": [
    {
     "data": {
      "text/plain": [
       "{'learning_rate': 0.1,\n",
       " 'max_depth': 3,\n",
       " 'n_estimators': 150,\n",
       " 'objective': 'reg:squarederror'}"
      ]
     },
     "execution_count": 28,
     "metadata": {},
     "output_type": "execute_result"
    }
   ],
   "source": [
    "xgbr_model.best_params_"
   ]
  },
  {
   "cell_type": "code",
   "execution_count": 29,
   "metadata": {
    "colab": {
     "base_uri": "https://localhost:8080/"
    },
    "id": "S-pp_i2btj4A",
    "outputId": "c02318ae-aa6c-49f5-f742-56cc76c5026e"
   },
   "outputs": [
    {
     "name": "stdout",
     "output_type": "stream",
     "text": [
      "Wall time: 136 ms\n"
     ]
    }
   ],
   "source": [
    "%%time\n",
    "\n",
    "start = time.time()\n",
    "\n",
    "xgbr_best_model = xgb.XGBRegressor(n_estimators=150, objective='reg:squarederror', learning_rate=0.3, max_depth=3)\n",
    "xgbr_best_model.fit(X_train, y_train)\n",
    "\n",
    "end = time.time()\n",
    "xgbr_fit_time = end - start"
   ]
  },
  {
   "cell_type": "code",
   "execution_count": 30,
   "metadata": {
    "id": "VlxawWM1tj1C"
   },
   "outputs": [],
   "source": [
    "xgbr_predict = xgbr_best_model.predict(X_train)"
   ]
  },
  {
   "cell_type": "code",
   "execution_count": 31,
   "metadata": {
    "id": "YyVIw2atefLN"
   },
   "outputs": [],
   "source": [
    "xgbr_rsme = mean_squared_error(y_train, xgbr_predict) ** 0.5"
   ]
  },
  {
   "cell_type": "markdown",
   "metadata": {
    "id": "RRCXndzfefI4"
   },
   "source": [
    "### Light Gradient Boosting Machine"
   ]
  },
  {
   "cell_type": "code",
   "execution_count": 32,
   "metadata": {
    "colab": {
     "base_uri": "https://localhost:8080/"
    },
    "id": "cXjUWpn6efGC",
    "outputId": "c6a92cfd-2544-43b4-d4de-4d82c71b433e"
   },
   "outputs": [
    {
     "name": "stdout",
     "output_type": "stream",
     "text": [
      "Wall time: 6.72 s\n"
     ]
    }
   ],
   "source": [
    "%%time\n",
    "start = time.time()\n",
    "\n",
    "gbm = lgb.LGBMRegressor()\n",
    "params = {'num_leaves': [50, 100, 150],\n",
    "          'learning_rate' : [0.1, 0.3, 0.5],\n",
    "          'n_estimators': [100, 250],\n",
    "         'metric': ['rmse']}\n",
    "gbm_model = GridSearchCV(estimator=gbm, param_grid=params, n_jobs=-1, cv=TimeSeriesSplit(n_splits=6))\n",
    "gbm_model.fit(X_train, y_train)\n",
    "\n",
    "end = time.time()\n",
    "gbm_search_time = end - start"
   ]
  },
  {
   "cell_type": "code",
   "execution_count": 33,
   "metadata": {
    "colab": {
     "base_uri": "https://localhost:8080/"
    },
    "id": "zNFKU5ihyMZ-",
    "outputId": "dd1b3b69-66fb-403c-e261-c4622dde4a20"
   },
   "outputs": [
    {
     "data": {
      "text/plain": [
       "{'learning_rate': 0.1, 'metric': 'rmse', 'n_estimators': 100, 'num_leaves': 50}"
      ]
     },
     "execution_count": 33,
     "metadata": {},
     "output_type": "execute_result"
    }
   ],
   "source": [
    "gbm_model.best_params_"
   ]
  },
  {
   "cell_type": "code",
   "execution_count": 34,
   "metadata": {
    "colab": {
     "base_uri": "https://localhost:8080/"
    },
    "id": "3PVWsZ4nyMYA",
    "outputId": "29b1f991-da7f-4920-c270-68087d56da9f"
   },
   "outputs": [
    {
     "name": "stdout",
     "output_type": "stream",
     "text": [
      "Wall time: 275 ms\n"
     ]
    }
   ],
   "source": [
    "%%time\n",
    "start = time.time()\n",
    "\n",
    "gbm = lgb.LGBMRegressor(num_leaves=100, learning_rate=0.1, n_estimators=100, metric='rmse')\n",
    "gbm.fit(X_train, y_train)\n",
    "\n",
    "end = time.time()\n",
    "gbm_fit_time = end - start"
   ]
  },
  {
   "cell_type": "code",
   "execution_count": 35,
   "metadata": {
    "id": "ErMb20J4yMWg"
   },
   "outputs": [],
   "source": [
    "gbm_predict = gbm.predict(X_train, num_iteration=gbm.best_iteration_)"
   ]
  },
  {
   "cell_type": "code",
   "execution_count": 36,
   "metadata": {
    "id": "IExBQ9bEyMT1"
   },
   "outputs": [],
   "source": [
    "gbm_rsme = mean_squared_error(y_train, gbm_predict) ** 0.5"
   ]
  },
  {
   "cell_type": "markdown",
   "metadata": {
    "id": "uCbFpE-2yMQ9"
   },
   "source": [
    "### Cat Boost Regressor"
   ]
  },
  {
   "cell_type": "code",
   "execution_count": 37,
   "metadata": {
    "colab": {
     "base_uri": "https://localhost:8080/"
    },
    "collapsed": true,
    "id": "_eMO2kFaefBY",
    "outputId": "398d970a-5156-41ff-bb74-d2da5231fe06"
   },
   "outputs": [
    {
     "name": "stdout",
     "output_type": "stream",
     "text": [
      "0:\tlearn: 38.2397182\ttotal: 163ms\tremaining: 1m 21s\n",
      "1:\tlearn: 37.7032405\ttotal: 166ms\tremaining: 41.3s\n",
      "2:\tlearn: 37.2135467\ttotal: 168ms\tremaining: 27.9s\n",
      "3:\tlearn: 36.7748328\ttotal: 171ms\tremaining: 21.2s\n",
      "4:\tlearn: 36.3002741\ttotal: 173ms\tremaining: 17.2s\n",
      "5:\tlearn: 35.9366234\ttotal: 176ms\tremaining: 14.5s\n",
      "6:\tlearn: 35.5157920\ttotal: 177ms\tremaining: 12.5s\n",
      "7:\tlearn: 35.0681544\ttotal: 179ms\tremaining: 11s\n",
      "8:\tlearn: 34.6450934\ttotal: 181ms\tremaining: 9.86s\n",
      "9:\tlearn: 34.2650500\ttotal: 182ms\tremaining: 8.93s\n",
      "10:\tlearn: 33.9476588\ttotal: 184ms\tremaining: 8.18s\n",
      "11:\tlearn: 33.6785293\ttotal: 186ms\tremaining: 7.55s\n",
      "12:\tlearn: 33.3992426\ttotal: 187ms\tremaining: 7.01s\n",
      "13:\tlearn: 33.0476204\ttotal: 189ms\tremaining: 6.55s\n",
      "14:\tlearn: 32.7411258\ttotal: 190ms\tremaining: 6.16s\n",
      "15:\tlearn: 32.4581797\ttotal: 192ms\tremaining: 5.81s\n",
      "16:\tlearn: 32.1788230\ttotal: 194ms\tremaining: 5.5s\n",
      "17:\tlearn: 31.9265374\ttotal: 195ms\tremaining: 5.23s\n",
      "18:\tlearn: 31.6909365\ttotal: 197ms\tremaining: 4.98s\n",
      "19:\tlearn: 31.4406667\ttotal: 198ms\tremaining: 4.76s\n",
      "20:\tlearn: 31.1837464\ttotal: 200ms\tremaining: 4.56s\n",
      "21:\tlearn: 30.9598203\ttotal: 201ms\tremaining: 4.38s\n",
      "22:\tlearn: 30.7431765\ttotal: 203ms\tremaining: 4.21s\n",
      "23:\tlearn: 30.5907513\ttotal: 205ms\tremaining: 4.06s\n",
      "24:\tlearn: 30.3716172\ttotal: 206ms\tremaining: 3.92s\n",
      "25:\tlearn: 30.1744282\ttotal: 208ms\tremaining: 3.79s\n",
      "26:\tlearn: 30.0297405\ttotal: 209ms\tremaining: 3.67s\n",
      "27:\tlearn: 29.8686769\ttotal: 211ms\tremaining: 3.56s\n",
      "28:\tlearn: 29.6746214\ttotal: 213ms\tremaining: 3.45s\n",
      "29:\tlearn: 29.4994144\ttotal: 214ms\tremaining: 3.35s\n",
      "30:\tlearn: 29.3792310\ttotal: 216ms\tremaining: 3.26s\n",
      "31:\tlearn: 29.2068781\ttotal: 217ms\tremaining: 3.18s\n",
      "32:\tlearn: 29.0889852\ttotal: 219ms\tremaining: 3.1s\n",
      "33:\tlearn: 28.9404792\ttotal: 220ms\tremaining: 3.02s\n",
      "34:\tlearn: 28.8301084\ttotal: 222ms\tremaining: 2.95s\n",
      "35:\tlearn: 28.6974148\ttotal: 223ms\tremaining: 2.88s\n",
      "36:\tlearn: 28.5349519\ttotal: 225ms\tremaining: 2.82s\n",
      "37:\tlearn: 28.4355158\ttotal: 227ms\tremaining: 2.75s\n",
      "38:\tlearn: 28.3256869\ttotal: 228ms\tremaining: 2.7s\n",
      "39:\tlearn: 28.2143128\ttotal: 230ms\tremaining: 2.64s\n",
      "40:\tlearn: 28.0975910\ttotal: 232ms\tremaining: 2.59s\n",
      "41:\tlearn: 27.9490713\ttotal: 233ms\tremaining: 2.54s\n",
      "42:\tlearn: 27.8699870\ttotal: 235ms\tremaining: 2.5s\n",
      "43:\tlearn: 27.7541174\ttotal: 237ms\tremaining: 2.45s\n",
      "44:\tlearn: 27.6418929\ttotal: 238ms\tremaining: 2.41s\n",
      "45:\tlearn: 27.5426794\ttotal: 240ms\tremaining: 2.37s\n",
      "46:\tlearn: 27.4217895\ttotal: 242ms\tremaining: 2.33s\n",
      "47:\tlearn: 27.3030241\ttotal: 243ms\tremaining: 2.29s\n",
      "48:\tlearn: 27.1759502\ttotal: 245ms\tremaining: 2.25s\n",
      "49:\tlearn: 27.0447934\ttotal: 246ms\tremaining: 2.22s\n",
      "50:\tlearn: 26.9377579\ttotal: 248ms\tremaining: 2.18s\n",
      "51:\tlearn: 26.8257948\ttotal: 250ms\tremaining: 2.15s\n",
      "52:\tlearn: 26.7397185\ttotal: 251ms\tremaining: 2.12s\n",
      "53:\tlearn: 26.6327084\ttotal: 253ms\tremaining: 2.09s\n",
      "54:\tlearn: 26.5620109\ttotal: 254ms\tremaining: 2.06s\n",
      "55:\tlearn: 26.5217488\ttotal: 256ms\tremaining: 2.03s\n",
      "56:\tlearn: 26.4688347\ttotal: 258ms\tremaining: 2s\n",
      "57:\tlearn: 26.3698882\ttotal: 260ms\tremaining: 1.98s\n",
      "58:\tlearn: 26.2850711\ttotal: 261ms\tremaining: 1.95s\n",
      "59:\tlearn: 26.2001801\ttotal: 263ms\tremaining: 1.93s\n",
      "60:\tlearn: 26.1250469\ttotal: 265ms\tremaining: 1.91s\n",
      "61:\tlearn: 26.0726314\ttotal: 266ms\tremaining: 1.88s\n",
      "62:\tlearn: 26.0018763\ttotal: 268ms\tremaining: 1.86s\n",
      "63:\tlearn: 25.9540490\ttotal: 269ms\tremaining: 1.83s\n",
      "64:\tlearn: 25.8993446\ttotal: 271ms\tremaining: 1.81s\n",
      "65:\tlearn: 25.8525622\ttotal: 273ms\tremaining: 1.79s\n",
      "66:\tlearn: 25.7827897\ttotal: 274ms\tremaining: 1.77s\n",
      "67:\tlearn: 25.7491907\ttotal: 276ms\tremaining: 1.75s\n",
      "68:\tlearn: 25.6925892\ttotal: 278ms\tremaining: 1.73s\n",
      "69:\tlearn: 25.6245422\ttotal: 279ms\tremaining: 1.72s\n",
      "70:\tlearn: 25.5740633\ttotal: 281ms\tremaining: 1.7s\n",
      "71:\tlearn: 25.5400206\ttotal: 283ms\tremaining: 1.68s\n",
      "72:\tlearn: 25.4955813\ttotal: 285ms\tremaining: 1.66s\n",
      "73:\tlearn: 25.4287971\ttotal: 286ms\tremaining: 1.65s\n",
      "74:\tlearn: 25.3717867\ttotal: 288ms\tremaining: 1.63s\n",
      "75:\tlearn: 25.3577428\ttotal: 289ms\tremaining: 1.61s\n",
      "76:\tlearn: 25.3265797\ttotal: 291ms\tremaining: 1.6s\n",
      "77:\tlearn: 25.2949533\ttotal: 292ms\tremaining: 1.58s\n",
      "78:\tlearn: 25.2346578\ttotal: 294ms\tremaining: 1.57s\n",
      "79:\tlearn: 25.1951408\ttotal: 296ms\tremaining: 1.55s\n",
      "80:\tlearn: 25.1876109\ttotal: 297ms\tremaining: 1.54s\n",
      "81:\tlearn: 25.1788703\ttotal: 299ms\tremaining: 1.52s\n",
      "82:\tlearn: 25.1504407\ttotal: 300ms\tremaining: 1.51s\n",
      "83:\tlearn: 25.1221745\ttotal: 302ms\tremaining: 1.5s\n",
      "84:\tlearn: 25.0788945\ttotal: 304ms\tremaining: 1.48s\n",
      "85:\tlearn: 25.0464012\ttotal: 306ms\tremaining: 1.47s\n",
      "86:\tlearn: 24.9989737\ttotal: 308ms\tremaining: 1.46s\n",
      "87:\tlearn: 24.9589175\ttotal: 309ms\tremaining: 1.45s\n",
      "88:\tlearn: 24.9211066\ttotal: 311ms\tremaining: 1.44s\n",
      "89:\tlearn: 24.8927906\ttotal: 313ms\tremaining: 1.42s\n",
      "90:\tlearn: 24.8491152\ttotal: 314ms\tremaining: 1.41s\n",
      "91:\tlearn: 24.8053510\ttotal: 316ms\tremaining: 1.4s\n",
      "92:\tlearn: 24.7994187\ttotal: 317ms\tremaining: 1.39s\n",
      "93:\tlearn: 24.7692346\ttotal: 319ms\tremaining: 1.38s\n",
      "94:\tlearn: 24.7306392\ttotal: 321ms\tremaining: 1.37s\n",
      "95:\tlearn: 24.6984115\ttotal: 322ms\tremaining: 1.36s\n",
      "96:\tlearn: 24.6924522\ttotal: 324ms\tremaining: 1.34s\n",
      "97:\tlearn: 24.6638134\ttotal: 325ms\tremaining: 1.33s\n",
      "98:\tlearn: 24.6233341\ttotal: 327ms\tremaining: 1.32s\n",
      "99:\tlearn: 24.6019240\ttotal: 328ms\tremaining: 1.31s\n",
      "100:\tlearn: 24.5800287\ttotal: 330ms\tremaining: 1.3s\n",
      "101:\tlearn: 24.5708472\ttotal: 332ms\tremaining: 1.29s\n",
      "102:\tlearn: 24.5659174\ttotal: 333ms\tremaining: 1.28s\n",
      "103:\tlearn: 24.5603123\ttotal: 335ms\tremaining: 1.27s\n",
      "104:\tlearn: 24.5284062\ttotal: 336ms\tremaining: 1.26s\n",
      "105:\tlearn: 24.5177946\ttotal: 339ms\tremaining: 1.26s\n",
      "106:\tlearn: 24.5125531\ttotal: 341ms\tremaining: 1.25s\n",
      "107:\tlearn: 24.4662694\ttotal: 343ms\tremaining: 1.24s\n",
      "108:\tlearn: 24.4470882\ttotal: 344ms\tremaining: 1.24s\n",
      "109:\tlearn: 24.4395654\ttotal: 346ms\tremaining: 1.23s\n",
      "110:\tlearn: 24.4182796\ttotal: 348ms\tremaining: 1.22s\n",
      "111:\tlearn: 24.4130979\ttotal: 350ms\tremaining: 1.21s\n",
      "112:\tlearn: 24.3838844\ttotal: 352ms\tremaining: 1.2s\n",
      "113:\tlearn: 24.3432043\ttotal: 353ms\tremaining: 1.2s\n",
      "114:\tlearn: 24.3203294\ttotal: 356ms\tremaining: 1.19s\n",
      "115:\tlearn: 24.2825725\ttotal: 357ms\tremaining: 1.18s\n",
      "116:\tlearn: 24.2514791\ttotal: 359ms\tremaining: 1.18s\n",
      "117:\tlearn: 24.2421850\ttotal: 361ms\tremaining: 1.17s\n",
      "118:\tlearn: 24.2160993\ttotal: 362ms\tremaining: 1.16s\n",
      "119:\tlearn: 24.1890298\ttotal: 364ms\tremaining: 1.15s\n",
      "120:\tlearn: 24.1708068\ttotal: 365ms\tremaining: 1.14s\n",
      "121:\tlearn: 24.1627258\ttotal: 367ms\tremaining: 1.14s\n",
      "122:\tlearn: 24.1569384\ttotal: 369ms\tremaining: 1.13s\n",
      "123:\tlearn: 24.1524394\ttotal: 370ms\tremaining: 1.12s\n",
      "124:\tlearn: 24.1380713\ttotal: 372ms\tremaining: 1.11s\n",
      "125:\tlearn: 24.1163286\ttotal: 373ms\tremaining: 1.11s\n",
      "126:\tlearn: 24.1003046\ttotal: 375ms\tremaining: 1.1s\n",
      "127:\tlearn: 24.0876786\ttotal: 377ms\tremaining: 1.09s\n",
      "128:\tlearn: 24.0798411\ttotal: 378ms\tremaining: 1.09s\n",
      "129:\tlearn: 24.0586799\ttotal: 380ms\tremaining: 1.08s\n",
      "130:\tlearn: 24.0294216\ttotal: 381ms\tremaining: 1.07s\n",
      "131:\tlearn: 24.0175463\ttotal: 383ms\tremaining: 1.07s\n",
      "132:\tlearn: 24.0102828\ttotal: 385ms\tremaining: 1.06s\n",
      "133:\tlearn: 23.9855805\ttotal: 386ms\tremaining: 1.05s\n",
      "134:\tlearn: 23.9559496\ttotal: 388ms\tremaining: 1.05s\n",
      "135:\tlearn: 23.9484884\ttotal: 389ms\tremaining: 1.04s\n",
      "136:\tlearn: 23.9446715\ttotal: 391ms\tremaining: 1.03s\n",
      "137:\tlearn: 23.9417921\ttotal: 392ms\tremaining: 1.03s\n",
      "138:\tlearn: 23.9122973\ttotal: 394ms\tremaining: 1.02s\n",
      "139:\tlearn: 23.9087844\ttotal: 395ms\tremaining: 1.02s\n",
      "140:\tlearn: 23.8994910\ttotal: 397ms\tremaining: 1.01s\n",
      "141:\tlearn: 23.8890355\ttotal: 399ms\tremaining: 1s\n",
      "142:\tlearn: 23.8750967\ttotal: 400ms\tremaining: 1000ms\n",
      "143:\tlearn: 23.8569670\ttotal: 402ms\tremaining: 994ms\n",
      "144:\tlearn: 23.8408876\ttotal: 404ms\tremaining: 989ms\n",
      "145:\tlearn: 23.8197231\ttotal: 406ms\tremaining: 983ms\n",
      "146:\tlearn: 23.8143935\ttotal: 407ms\tremaining: 977ms\n",
      "147:\tlearn: 23.8093872\ttotal: 409ms\tremaining: 972ms\n",
      "148:\tlearn: 23.7971492\ttotal: 410ms\tremaining: 966ms\n",
      "149:\tlearn: 23.7870086\ttotal: 412ms\tremaining: 961ms\n",
      "150:\tlearn: 23.7787007\ttotal: 413ms\tremaining: 955ms\n",
      "151:\tlearn: 23.7723800\ttotal: 415ms\tremaining: 950ms\n",
      "152:\tlearn: 23.7628653\ttotal: 417ms\tremaining: 945ms\n",
      "153:\tlearn: 23.7508386\ttotal: 418ms\tremaining: 940ms\n",
      "154:\tlearn: 23.7269538\ttotal: 420ms\tremaining: 935ms\n",
      "155:\tlearn: 23.6980256\ttotal: 422ms\tremaining: 930ms\n",
      "156:\tlearn: 23.6841613\ttotal: 423ms\tremaining: 925ms\n",
      "157:\tlearn: 23.6783556\ttotal: 425ms\tremaining: 920ms\n",
      "158:\tlearn: 23.6549966\ttotal: 427ms\tremaining: 915ms\n",
      "159:\tlearn: 23.6459299\ttotal: 428ms\tremaining: 910ms\n",
      "160:\tlearn: 23.6289713\ttotal: 430ms\tremaining: 906ms\n",
      "161:\tlearn: 23.6107157\ttotal: 432ms\tremaining: 901ms\n",
      "162:\tlearn: 23.5886074\ttotal: 433ms\tremaining: 896ms\n",
      "163:\tlearn: 23.5859780\ttotal: 434ms\tremaining: 890ms\n",
      "164:\tlearn: 23.5673451\ttotal: 436ms\tremaining: 885ms\n",
      "165:\tlearn: 23.5257353\ttotal: 438ms\tremaining: 881ms\n",
      "166:\tlearn: 23.5062501\ttotal: 439ms\tremaining: 876ms\n",
      "167:\tlearn: 23.4910279\ttotal: 441ms\tremaining: 871ms\n",
      "168:\tlearn: 23.4864037\ttotal: 442ms\tremaining: 866ms\n",
      "169:\tlearn: 23.4467082\ttotal: 444ms\tremaining: 862ms\n",
      "170:\tlearn: 23.4440610\ttotal: 446ms\tremaining: 857ms\n",
      "171:\tlearn: 23.4317303\ttotal: 447ms\tremaining: 853ms\n",
      "172:\tlearn: 23.4137037\ttotal: 449ms\tremaining: 848ms\n",
      "173:\tlearn: 23.4063543\ttotal: 450ms\tremaining: 843ms\n",
      "174:\tlearn: 23.3878329\ttotal: 452ms\tremaining: 839ms\n",
      "175:\tlearn: 23.3735867\ttotal: 453ms\tremaining: 835ms\n",
      "176:\tlearn: 23.3711256\ttotal: 454ms\tremaining: 829ms\n",
      "177:\tlearn: 23.3369217\ttotal: 456ms\tremaining: 825ms\n",
      "178:\tlearn: 23.3210445\ttotal: 458ms\tremaining: 821ms\n",
      "179:\tlearn: 23.3150040\ttotal: 459ms\tremaining: 816ms\n",
      "180:\tlearn: 23.3078647\ttotal: 461ms\tremaining: 812ms\n",
      "181:\tlearn: 23.2953451\ttotal: 462ms\tremaining: 808ms\n",
      "182:\tlearn: 23.2867506\ttotal: 464ms\tremaining: 804ms\n",
      "183:\tlearn: 23.2676212\ttotal: 466ms\tremaining: 799ms\n",
      "184:\tlearn: 23.2604298\ttotal: 467ms\tremaining: 795ms\n",
      "185:\tlearn: 23.2302049\ttotal: 469ms\tremaining: 791ms\n",
      "186:\tlearn: 23.2242984\ttotal: 470ms\tremaining: 787ms\n",
      "187:\tlearn: 23.1989433\ttotal: 472ms\tremaining: 783ms\n",
      "188:\tlearn: 23.1965326\ttotal: 474ms\tremaining: 779ms\n",
      "189:\tlearn: 23.1581587\ttotal: 475ms\tremaining: 775ms\n",
      "190:\tlearn: 23.1489387\ttotal: 477ms\tremaining: 772ms\n",
      "191:\tlearn: 23.1155445\ttotal: 479ms\tremaining: 768ms\n",
      "192:\tlearn: 23.0987966\ttotal: 480ms\tremaining: 764ms\n",
      "193:\tlearn: 23.0951129\ttotal: 482ms\tremaining: 760ms\n",
      "194:\tlearn: 23.0765193\ttotal: 483ms\tremaining: 756ms\n",
      "195:\tlearn: 23.0678565\ttotal: 485ms\tremaining: 752ms\n",
      "196:\tlearn: 23.0538784\ttotal: 487ms\tremaining: 748ms\n",
      "197:\tlearn: 23.0480798\ttotal: 488ms\tremaining: 744ms\n",
      "198:\tlearn: 23.0452267\ttotal: 490ms\tremaining: 741ms\n",
      "199:\tlearn: 23.0419291\ttotal: 491ms\tremaining: 737ms\n",
      "200:\tlearn: 23.0217116\ttotal: 493ms\tremaining: 733ms\n",
      "201:\tlearn: 23.0118587\ttotal: 494ms\tremaining: 729ms\n",
      "202:\tlearn: 22.9943458\ttotal: 496ms\tremaining: 725ms\n",
      "203:\tlearn: 22.9738806\ttotal: 497ms\tremaining: 722ms\n",
      "204:\tlearn: 22.9585063\ttotal: 499ms\tremaining: 718ms\n",
      "205:\tlearn: 22.9490577\ttotal: 501ms\tremaining: 715ms\n",
      "206:\tlearn: 22.9425890\ttotal: 503ms\tremaining: 711ms\n",
      "207:\tlearn: 22.9371532\ttotal: 504ms\tremaining: 708ms\n",
      "208:\tlearn: 22.9312212\ttotal: 506ms\tremaining: 704ms\n",
      "209:\tlearn: 22.9072783\ttotal: 507ms\tremaining: 701ms\n",
      "210:\tlearn: 22.9050709\ttotal: 509ms\tremaining: 697ms\n",
      "211:\tlearn: 22.8889688\ttotal: 511ms\tremaining: 694ms\n",
      "212:\tlearn: 22.8488846\ttotal: 512ms\tremaining: 690ms\n",
      "213:\tlearn: 22.8455614\ttotal: 514ms\tremaining: 687ms\n",
      "214:\tlearn: 22.8401437\ttotal: 515ms\tremaining: 683ms\n",
      "215:\tlearn: 22.8322083\ttotal: 517ms\tremaining: 680ms\n",
      "216:\tlearn: 22.8280871\ttotal: 519ms\tremaining: 676ms\n",
      "217:\tlearn: 22.8135722\ttotal: 520ms\tremaining: 673ms\n",
      "218:\tlearn: 22.8031997\ttotal: 522ms\tremaining: 670ms\n",
      "219:\tlearn: 22.7920911\ttotal: 524ms\tremaining: 667ms\n",
      "220:\tlearn: 22.7898188\ttotal: 526ms\tremaining: 663ms\n",
      "221:\tlearn: 22.7757008\ttotal: 527ms\tremaining: 660ms\n",
      "222:\tlearn: 22.7636319\ttotal: 529ms\tremaining: 657ms\n",
      "223:\tlearn: 22.7608354\ttotal: 530ms\tremaining: 653ms\n",
      "224:\tlearn: 22.7443451\ttotal: 532ms\tremaining: 650ms\n",
      "225:\tlearn: 22.7332258\ttotal: 534ms\tremaining: 647ms\n",
      "226:\tlearn: 22.7281970\ttotal: 536ms\tremaining: 644ms\n",
      "227:\tlearn: 22.7210401\ttotal: 538ms\tremaining: 641ms\n",
      "228:\tlearn: 22.7096668\ttotal: 540ms\tremaining: 639ms\n",
      "229:\tlearn: 22.7005122\ttotal: 541ms\tremaining: 636ms\n",
      "230:\tlearn: 22.6912222\ttotal: 543ms\tremaining: 632ms\n",
      "231:\tlearn: 22.6836188\ttotal: 545ms\tremaining: 629ms\n",
      "232:\tlearn: 22.6756351\ttotal: 546ms\tremaining: 626ms\n",
      "233:\tlearn: 22.6719530\ttotal: 548ms\tremaining: 623ms\n",
      "234:\tlearn: 22.6670499\ttotal: 550ms\tremaining: 620ms\n",
      "235:\tlearn: 22.6606617\ttotal: 552ms\tremaining: 617ms\n",
      "236:\tlearn: 22.6490811\ttotal: 554ms\tremaining: 614ms\n",
      "237:\tlearn: 22.6375577\ttotal: 555ms\tremaining: 611ms\n",
      "238:\tlearn: 22.6354077\ttotal: 557ms\tremaining: 608ms\n",
      "239:\tlearn: 22.6320837\ttotal: 559ms\tremaining: 605ms\n",
      "240:\tlearn: 22.6255221\ttotal: 560ms\tremaining: 602ms\n",
      "241:\tlearn: 22.6196261\ttotal: 562ms\tremaining: 599ms\n",
      "242:\tlearn: 22.6131158\ttotal: 563ms\tremaining: 596ms\n",
      "243:\tlearn: 22.5979136\ttotal: 565ms\tremaining: 593ms\n",
      "244:\tlearn: 22.5918216\ttotal: 567ms\tremaining: 590ms\n",
      "245:\tlearn: 22.5818105\ttotal: 568ms\tremaining: 587ms\n",
      "246:\tlearn: 22.5721577\ttotal: 570ms\tremaining: 584ms\n",
      "247:\tlearn: 22.5634115\ttotal: 572ms\tremaining: 581ms\n",
      "248:\tlearn: 22.5616055\ttotal: 573ms\tremaining: 578ms\n",
      "249:\tlearn: 22.5558123\ttotal: 575ms\tremaining: 575ms\n",
      "250:\tlearn: 22.5543878\ttotal: 576ms\tremaining: 572ms\n",
      "251:\tlearn: 22.5511163\ttotal: 578ms\tremaining: 569ms\n",
      "252:\tlearn: 22.5409572\ttotal: 580ms\tremaining: 566ms\n",
      "253:\tlearn: 22.5141427\ttotal: 581ms\tremaining: 563ms\n",
      "254:\tlearn: 22.5081343\ttotal: 583ms\tremaining: 560ms\n",
      "255:\tlearn: 22.4952093\ttotal: 584ms\tremaining: 557ms\n",
      "256:\tlearn: 22.4898698\ttotal: 586ms\tremaining: 554ms\n",
      "257:\tlearn: 22.4827445\ttotal: 588ms\tremaining: 551ms\n",
      "258:\tlearn: 22.4768749\ttotal: 589ms\tremaining: 548ms\n",
      "259:\tlearn: 22.4756064\ttotal: 590ms\tremaining: 545ms\n",
      "260:\tlearn: 22.4742206\ttotal: 592ms\tremaining: 542ms\n",
      "261:\tlearn: 22.4711941\ttotal: 594ms\tremaining: 539ms\n",
      "262:\tlearn: 22.4552041\ttotal: 595ms\tremaining: 536ms\n",
      "263:\tlearn: 22.4444492\ttotal: 597ms\tremaining: 533ms\n",
      "264:\tlearn: 22.4144774\ttotal: 598ms\tremaining: 531ms\n",
      "265:\tlearn: 22.3996059\ttotal: 600ms\tremaining: 528ms\n",
      "266:\tlearn: 22.3956355\ttotal: 602ms\tremaining: 525ms\n",
      "267:\tlearn: 22.3850592\ttotal: 603ms\tremaining: 522ms\n",
      "268:\tlearn: 22.3710929\ttotal: 605ms\tremaining: 520ms\n",
      "269:\tlearn: 22.3639352\ttotal: 607ms\tremaining: 517ms\n",
      "270:\tlearn: 22.3604329\ttotal: 608ms\tremaining: 514ms\n",
      "271:\tlearn: 22.3456727\ttotal: 610ms\tremaining: 511ms\n",
      "272:\tlearn: 22.3242271\ttotal: 611ms\tremaining: 508ms\n",
      "273:\tlearn: 22.3172707\ttotal: 613ms\tremaining: 506ms\n",
      "274:\tlearn: 22.3052490\ttotal: 615ms\tremaining: 503ms\n",
      "275:\tlearn: 22.2961761\ttotal: 616ms\tremaining: 500ms\n",
      "276:\tlearn: 22.2789346\ttotal: 618ms\tremaining: 497ms\n",
      "277:\tlearn: 22.2774631\ttotal: 619ms\tremaining: 495ms\n",
      "278:\tlearn: 22.2547443\ttotal: 621ms\tremaining: 492ms\n",
      "279:\tlearn: 22.2427871\ttotal: 623ms\tremaining: 489ms\n",
      "280:\tlearn: 22.2413945\ttotal: 624ms\tremaining: 486ms\n",
      "281:\tlearn: 22.2402002\ttotal: 625ms\tremaining: 483ms\n",
      "282:\tlearn: 22.2387012\ttotal: 627ms\tremaining: 481ms\n",
      "283:\tlearn: 22.2163354\ttotal: 628ms\tremaining: 478ms\n",
      "284:\tlearn: 22.2031075\ttotal: 630ms\tremaining: 475ms\n",
      "285:\tlearn: 22.1878888\ttotal: 632ms\tremaining: 473ms\n",
      "286:\tlearn: 22.1766143\ttotal: 633ms\tremaining: 470ms\n",
      "287:\tlearn: 22.1755769\ttotal: 634ms\tremaining: 467ms\n",
      "288:\tlearn: 22.1743851\ttotal: 636ms\tremaining: 464ms\n",
      "289:\tlearn: 22.1667726\ttotal: 637ms\tremaining: 461ms\n",
      "290:\tlearn: 22.1639330\ttotal: 639ms\tremaining: 459ms\n",
      "291:\tlearn: 22.1620801\ttotal: 640ms\tremaining: 456ms\n",
      "292:\tlearn: 22.1514624\ttotal: 642ms\tremaining: 453ms\n",
      "293:\tlearn: 22.1488215\ttotal: 643ms\tremaining: 451ms\n",
      "294:\tlearn: 22.1223777\ttotal: 645ms\tremaining: 448ms\n",
      "295:\tlearn: 22.1168452\ttotal: 646ms\tremaining: 445ms\n",
      "296:\tlearn: 22.0996621\ttotal: 648ms\tremaining: 443ms\n",
      "297:\tlearn: 22.0949596\ttotal: 650ms\tremaining: 440ms\n",
      "298:\tlearn: 22.0913897\ttotal: 651ms\tremaining: 438ms\n",
      "299:\tlearn: 22.0900393\ttotal: 653ms\tremaining: 435ms\n",
      "300:\tlearn: 22.0872792\ttotal: 654ms\tremaining: 432ms\n",
      "301:\tlearn: 22.0731385\ttotal: 656ms\tremaining: 430ms\n",
      "302:\tlearn: 22.0720751\ttotal: 657ms\tremaining: 427ms\n",
      "303:\tlearn: 22.0663516\ttotal: 659ms\tremaining: 425ms\n",
      "304:\tlearn: 22.0556163\ttotal: 661ms\tremaining: 422ms\n",
      "305:\tlearn: 22.0476613\ttotal: 662ms\tremaining: 420ms\n",
      "306:\tlearn: 22.0409818\ttotal: 664ms\tremaining: 417ms\n",
      "307:\tlearn: 22.0166478\ttotal: 666ms\tremaining: 415ms\n",
      "308:\tlearn: 22.0065519\ttotal: 667ms\tremaining: 412ms\n",
      "309:\tlearn: 21.9803670\ttotal: 669ms\tremaining: 410ms\n",
      "310:\tlearn: 21.9792869\ttotal: 670ms\tremaining: 407ms\n",
      "311:\tlearn: 21.9730427\ttotal: 672ms\tremaining: 405ms\n",
      "312:\tlearn: 21.9625050\ttotal: 673ms\tremaining: 402ms\n",
      "313:\tlearn: 21.9522332\ttotal: 675ms\tremaining: 400ms\n",
      "314:\tlearn: 21.9493965\ttotal: 677ms\tremaining: 398ms\n",
      "315:\tlearn: 21.9473268\ttotal: 679ms\tremaining: 395ms\n",
      "316:\tlearn: 21.9395912\ttotal: 680ms\tremaining: 393ms\n",
      "317:\tlearn: 21.9386169\ttotal: 682ms\tremaining: 390ms\n",
      "318:\tlearn: 21.9141916\ttotal: 683ms\tremaining: 388ms\n",
      "319:\tlearn: 21.9063099\ttotal: 685ms\tremaining: 385ms\n",
      "320:\tlearn: 21.8858732\ttotal: 687ms\tremaining: 383ms\n",
      "321:\tlearn: 21.8813643\ttotal: 688ms\tremaining: 381ms\n",
      "322:\tlearn: 21.8714062\ttotal: 690ms\tremaining: 378ms\n",
      "323:\tlearn: 21.8622322\ttotal: 692ms\tremaining: 376ms\n",
      "324:\tlearn: 21.8599526\ttotal: 693ms\tremaining: 373ms\n",
      "325:\tlearn: 21.8588157\ttotal: 695ms\tremaining: 371ms\n",
      "326:\tlearn: 21.8530396\ttotal: 697ms\tremaining: 369ms\n",
      "327:\tlearn: 21.8386921\ttotal: 699ms\tremaining: 366ms\n",
      "328:\tlearn: 21.8303564\ttotal: 700ms\tremaining: 364ms\n",
      "329:\tlearn: 21.8221136\ttotal: 702ms\tremaining: 362ms\n",
      "330:\tlearn: 21.8190151\ttotal: 703ms\tremaining: 359ms\n",
      "331:\tlearn: 21.8050038\ttotal: 705ms\tremaining: 357ms\n",
      "332:\tlearn: 21.8032664\ttotal: 706ms\tremaining: 354ms\n",
      "333:\tlearn: 21.7960630\ttotal: 708ms\tremaining: 352ms\n",
      "334:\tlearn: 21.7740160\ttotal: 709ms\tremaining: 349ms\n",
      "335:\tlearn: 21.7632936\ttotal: 711ms\tremaining: 347ms\n",
      "336:\tlearn: 21.7542065\ttotal: 713ms\tremaining: 345ms\n",
      "337:\tlearn: 21.7472726\ttotal: 714ms\tremaining: 342ms\n",
      "338:\tlearn: 21.7292623\ttotal: 716ms\tremaining: 340ms\n",
      "339:\tlearn: 21.7178131\ttotal: 718ms\tremaining: 338ms\n",
      "340:\tlearn: 21.7076148\ttotal: 719ms\tremaining: 335ms\n",
      "341:\tlearn: 21.7012761\ttotal: 721ms\tremaining: 333ms\n",
      "342:\tlearn: 21.6900255\ttotal: 723ms\tremaining: 331ms\n",
      "343:\tlearn: 21.6859974\ttotal: 724ms\tremaining: 328ms\n",
      "344:\tlearn: 21.6762785\ttotal: 726ms\tremaining: 326ms\n",
      "345:\tlearn: 21.6753353\ttotal: 727ms\tremaining: 324ms\n",
      "346:\tlearn: 21.6740291\ttotal: 729ms\tremaining: 321ms\n",
      "347:\tlearn: 21.6621421\ttotal: 731ms\tremaining: 319ms\n",
      "348:\tlearn: 21.6428186\ttotal: 732ms\tremaining: 317ms\n",
      "349:\tlearn: 21.6348788\ttotal: 734ms\tremaining: 314ms\n",
      "350:\tlearn: 21.6340367\ttotal: 735ms\tremaining: 312ms\n",
      "351:\tlearn: 21.6258699\ttotal: 737ms\tremaining: 310ms\n",
      "352:\tlearn: 21.6227593\ttotal: 738ms\tremaining: 307ms\n",
      "353:\tlearn: 21.6128998\ttotal: 740ms\tremaining: 305ms\n",
      "354:\tlearn: 21.5981394\ttotal: 742ms\tremaining: 303ms\n",
      "355:\tlearn: 21.5894673\ttotal: 743ms\tremaining: 301ms\n",
      "356:\tlearn: 21.5730293\ttotal: 745ms\tremaining: 298ms\n",
      "357:\tlearn: 21.5657593\ttotal: 746ms\tremaining: 296ms\n",
      "358:\tlearn: 21.5551092\ttotal: 748ms\tremaining: 294ms\n",
      "359:\tlearn: 21.5331205\ttotal: 749ms\tremaining: 291ms\n",
      "360:\tlearn: 21.5216870\ttotal: 751ms\tremaining: 289ms\n",
      "361:\tlearn: 21.5208366\ttotal: 753ms\tremaining: 287ms\n",
      "362:\tlearn: 21.5200363\ttotal: 754ms\tremaining: 285ms\n",
      "363:\tlearn: 21.5125587\ttotal: 756ms\tremaining: 282ms\n",
      "364:\tlearn: 21.5014735\ttotal: 757ms\tremaining: 280ms\n",
      "365:\tlearn: 21.4979418\ttotal: 759ms\tremaining: 278ms\n",
      "366:\tlearn: 21.4854906\ttotal: 761ms\tremaining: 276ms\n",
      "367:\tlearn: 21.4714338\ttotal: 762ms\tremaining: 273ms\n",
      "368:\tlearn: 21.4636344\ttotal: 764ms\tremaining: 271ms\n",
      "369:\tlearn: 21.4586977\ttotal: 765ms\tremaining: 269ms\n",
      "370:\tlearn: 21.4473604\ttotal: 767ms\tremaining: 267ms\n",
      "371:\tlearn: 21.4382826\ttotal: 768ms\tremaining: 264ms\n",
      "372:\tlearn: 21.4169256\ttotal: 770ms\tremaining: 262ms\n",
      "373:\tlearn: 21.4159628\ttotal: 772ms\tremaining: 260ms\n",
      "374:\tlearn: 21.4077024\ttotal: 773ms\tremaining: 258ms\n",
      "375:\tlearn: 21.3921159\ttotal: 775ms\tremaining: 256ms\n",
      "376:\tlearn: 21.3864602\ttotal: 777ms\tremaining: 253ms\n",
      "377:\tlearn: 21.3811398\ttotal: 778ms\tremaining: 251ms\n",
      "378:\tlearn: 21.3660069\ttotal: 780ms\tremaining: 249ms\n",
      "379:\tlearn: 21.3613455\ttotal: 781ms\tremaining: 247ms\n",
      "380:\tlearn: 21.3408015\ttotal: 783ms\tremaining: 245ms\n",
      "381:\tlearn: 21.3395086\ttotal: 784ms\tremaining: 242ms\n",
      "382:\tlearn: 21.3306279\ttotal: 786ms\tremaining: 240ms\n",
      "383:\tlearn: 21.3263328\ttotal: 788ms\tremaining: 238ms\n",
      "384:\tlearn: 21.3062897\ttotal: 790ms\tremaining: 236ms\n",
      "385:\tlearn: 21.3000409\ttotal: 791ms\tremaining: 234ms\n",
      "386:\tlearn: 21.2891255\ttotal: 793ms\tremaining: 231ms\n",
      "387:\tlearn: 21.2829227\ttotal: 794ms\tremaining: 229ms\n",
      "388:\tlearn: 21.2752155\ttotal: 796ms\tremaining: 227ms\n",
      "389:\tlearn: 21.2743753\ttotal: 797ms\tremaining: 225ms\n",
      "390:\tlearn: 21.2663511\ttotal: 799ms\tremaining: 223ms\n",
      "391:\tlearn: 21.2586056\ttotal: 801ms\tremaining: 221ms\n",
      "392:\tlearn: 21.2565672\ttotal: 802ms\tremaining: 218ms\n",
      "393:\tlearn: 21.2411817\ttotal: 804ms\tremaining: 216ms\n",
      "394:\tlearn: 21.2352893\ttotal: 806ms\tremaining: 214ms\n",
      "395:\tlearn: 21.2342645\ttotal: 807ms\tremaining: 212ms\n",
      "396:\tlearn: 21.2164276\ttotal: 809ms\tremaining: 210ms\n",
      "397:\tlearn: 21.2037161\ttotal: 811ms\tremaining: 208ms\n",
      "398:\tlearn: 21.1952290\ttotal: 812ms\tremaining: 206ms\n",
      "399:\tlearn: 21.1904745\ttotal: 814ms\tremaining: 203ms\n",
      "400:\tlearn: 21.1767406\ttotal: 816ms\tremaining: 201ms\n",
      "401:\tlearn: 21.1686301\ttotal: 817ms\tremaining: 199ms\n",
      "402:\tlearn: 21.1594073\ttotal: 819ms\tremaining: 197ms\n",
      "403:\tlearn: 21.1487098\ttotal: 832ms\tremaining: 198ms\n",
      "404:\tlearn: 21.1446724\ttotal: 834ms\tremaining: 196ms\n",
      "405:\tlearn: 21.1365858\ttotal: 835ms\tremaining: 193ms\n",
      "406:\tlearn: 21.1300579\ttotal: 838ms\tremaining: 191ms\n",
      "407:\tlearn: 21.1278548\ttotal: 840ms\tremaining: 189ms\n",
      "408:\tlearn: 21.1176490\ttotal: 842ms\tremaining: 187ms\n",
      "409:\tlearn: 21.1120202\ttotal: 843ms\tremaining: 185ms\n",
      "410:\tlearn: 21.1060654\ttotal: 845ms\tremaining: 183ms\n",
      "411:\tlearn: 21.0938367\ttotal: 847ms\tremaining: 181ms\n",
      "412:\tlearn: 21.0763535\ttotal: 849ms\tremaining: 179ms\n",
      "413:\tlearn: 21.0714162\ttotal: 850ms\tremaining: 177ms\n",
      "414:\tlearn: 21.0706401\ttotal: 852ms\tremaining: 175ms\n",
      "415:\tlearn: 21.0565199\ttotal: 854ms\tremaining: 172ms\n",
      "416:\tlearn: 21.0473181\ttotal: 856ms\tremaining: 170ms\n",
      "417:\tlearn: 21.0368168\ttotal: 858ms\tremaining: 168ms\n",
      "418:\tlearn: 21.0359655\ttotal: 859ms\tremaining: 166ms\n",
      "419:\tlearn: 21.0345444\ttotal: 861ms\tremaining: 164ms\n",
      "420:\tlearn: 21.0310124\ttotal: 862ms\tremaining: 162ms\n",
      "421:\tlearn: 21.0302482\ttotal: 864ms\tremaining: 160ms\n",
      "422:\tlearn: 21.0227959\ttotal: 866ms\tremaining: 158ms\n",
      "423:\tlearn: 21.0131346\ttotal: 867ms\tremaining: 155ms\n",
      "424:\tlearn: 21.0043667\ttotal: 869ms\tremaining: 153ms\n",
      "425:\tlearn: 21.0032884\ttotal: 871ms\tremaining: 151ms\n",
      "426:\tlearn: 20.9916692\ttotal: 872ms\tremaining: 149ms\n",
      "427:\tlearn: 20.9811167\ttotal: 874ms\tremaining: 147ms\n",
      "428:\tlearn: 20.9730158\ttotal: 876ms\tremaining: 145ms\n",
      "429:\tlearn: 20.9641000\ttotal: 878ms\tremaining: 143ms\n",
      "430:\tlearn: 20.9522385\ttotal: 880ms\tremaining: 141ms\n",
      "431:\tlearn: 20.9423787\ttotal: 881ms\tremaining: 139ms\n",
      "432:\tlearn: 20.9409181\ttotal: 883ms\tremaining: 137ms\n",
      "433:\tlearn: 20.9305246\ttotal: 885ms\tremaining: 135ms\n",
      "434:\tlearn: 20.9249440\ttotal: 887ms\tremaining: 133ms\n",
      "435:\tlearn: 20.9243520\ttotal: 888ms\tremaining: 130ms\n",
      "436:\tlearn: 20.9151774\ttotal: 890ms\tremaining: 128ms\n",
      "437:\tlearn: 20.8996101\ttotal: 892ms\tremaining: 126ms\n",
      "438:\tlearn: 20.8927243\ttotal: 894ms\tremaining: 124ms\n",
      "439:\tlearn: 20.8834186\ttotal: 895ms\tremaining: 122ms\n",
      "440:\tlearn: 20.8738429\ttotal: 897ms\tremaining: 120ms\n",
      "441:\tlearn: 20.8714747\ttotal: 899ms\tremaining: 118ms\n",
      "442:\tlearn: 20.8608599\ttotal: 901ms\tremaining: 116ms\n",
      "443:\tlearn: 20.8525032\ttotal: 902ms\tremaining: 114ms\n",
      "444:\tlearn: 20.8494551\ttotal: 904ms\tremaining: 112ms\n",
      "445:\tlearn: 20.8415901\ttotal: 906ms\tremaining: 110ms\n",
      "446:\tlearn: 20.8373868\ttotal: 907ms\tremaining: 108ms\n",
      "447:\tlearn: 20.8315212\ttotal: 909ms\tremaining: 106ms\n",
      "448:\tlearn: 20.8199354\ttotal: 911ms\tremaining: 103ms\n",
      "449:\tlearn: 20.8169329\ttotal: 912ms\tremaining: 101ms\n",
      "450:\tlearn: 20.8111254\ttotal: 914ms\tremaining: 99.3ms\n",
      "451:\tlearn: 20.8076395\ttotal: 916ms\tremaining: 97.3ms\n",
      "452:\tlearn: 20.8064718\ttotal: 917ms\tremaining: 95.2ms\n",
      "453:\tlearn: 20.7998569\ttotal: 919ms\tremaining: 93.1ms\n",
      "454:\tlearn: 20.7894732\ttotal: 921ms\tremaining: 91.1ms\n",
      "455:\tlearn: 20.7847996\ttotal: 922ms\tremaining: 89ms\n",
      "456:\tlearn: 20.7781619\ttotal: 924ms\tremaining: 86.9ms\n",
      "457:\tlearn: 20.7707599\ttotal: 926ms\tremaining: 84.9ms\n",
      "458:\tlearn: 20.7648999\ttotal: 927ms\tremaining: 82.8ms\n",
      "459:\tlearn: 20.7607519\ttotal: 929ms\tremaining: 80.8ms\n",
      "460:\tlearn: 20.7595992\ttotal: 931ms\tremaining: 78.7ms\n",
      "461:\tlearn: 20.7497539\ttotal: 932ms\tremaining: 76.7ms\n",
      "462:\tlearn: 20.7384480\ttotal: 934ms\tremaining: 74.7ms\n",
      "463:\tlearn: 20.7321986\ttotal: 936ms\tremaining: 72.7ms\n",
      "464:\tlearn: 20.7221309\ttotal: 938ms\tremaining: 70.6ms\n",
      "465:\tlearn: 20.7147793\ttotal: 940ms\tremaining: 68.6ms\n",
      "466:\tlearn: 20.7016006\ttotal: 942ms\tremaining: 66.5ms\n",
      "467:\tlearn: 20.6919966\ttotal: 943ms\tremaining: 64.5ms\n",
      "468:\tlearn: 20.6837309\ttotal: 945ms\tremaining: 62.5ms\n",
      "469:\tlearn: 20.6753036\ttotal: 947ms\tremaining: 60.4ms\n",
      "470:\tlearn: 20.6575526\ttotal: 949ms\tremaining: 58.4ms\n",
      "471:\tlearn: 20.6499565\ttotal: 951ms\tremaining: 56.4ms\n",
      "472:\tlearn: 20.6449280\ttotal: 952ms\tremaining: 54.4ms\n",
      "473:\tlearn: 20.6346717\ttotal: 954ms\tremaining: 52.3ms\n",
      "474:\tlearn: 20.6271097\ttotal: 956ms\tremaining: 50.3ms\n",
      "475:\tlearn: 20.6230812\ttotal: 958ms\tremaining: 48.3ms\n",
      "476:\tlearn: 20.6183746\ttotal: 961ms\tremaining: 46.3ms\n",
      "477:\tlearn: 20.6042050\ttotal: 964ms\tremaining: 44.4ms\n",
      "478:\tlearn: 20.5982423\ttotal: 966ms\tremaining: 42.4ms\n",
      "479:\tlearn: 20.5864492\ttotal: 968ms\tremaining: 40.3ms\n",
      "480:\tlearn: 20.5817488\ttotal: 970ms\tremaining: 38.3ms\n",
      "481:\tlearn: 20.5737712\ttotal: 971ms\tremaining: 36.3ms\n",
      "482:\tlearn: 20.5670129\ttotal: 973ms\tremaining: 34.2ms\n",
      "483:\tlearn: 20.5553693\ttotal: 975ms\tremaining: 32.2ms\n",
      "484:\tlearn: 20.5482261\ttotal: 977ms\tremaining: 30.2ms\n",
      "485:\tlearn: 20.5405700\ttotal: 979ms\tremaining: 28.2ms\n",
      "486:\tlearn: 20.5310305\ttotal: 980ms\tremaining: 26.2ms\n",
      "487:\tlearn: 20.5256557\ttotal: 982ms\tremaining: 24.1ms\n",
      "488:\tlearn: 20.5176866\ttotal: 984ms\tremaining: 22.1ms\n",
      "489:\tlearn: 20.5101691\ttotal: 985ms\tremaining: 20.1ms\n",
      "490:\tlearn: 20.5040265\ttotal: 987ms\tremaining: 18.1ms\n",
      "491:\tlearn: 20.4862157\ttotal: 989ms\tremaining: 16.1ms\n",
      "492:\tlearn: 20.4816818\ttotal: 991ms\tremaining: 14.1ms\n",
      "493:\tlearn: 20.4753388\ttotal: 993ms\tremaining: 12.1ms\n",
      "494:\tlearn: 20.4625647\ttotal: 995ms\tremaining: 10ms\n",
      "495:\tlearn: 20.4541979\ttotal: 996ms\tremaining: 8.04ms\n",
      "496:\tlearn: 20.4470303\ttotal: 998ms\tremaining: 6.02ms\n",
      "497:\tlearn: 20.4421175\ttotal: 1000ms\tremaining: 4.01ms\n",
      "498:\tlearn: 20.4292181\ttotal: 1s\tremaining: 2.01ms\n",
      "499:\tlearn: 20.4245280\ttotal: 1s\tremaining: 0us\n",
      "Wall time: 10.6 s\n"
     ]
    }
   ],
   "source": [
    "%%time\n",
    "start = time.time()\n",
    "\n",
    "CBR = CatBoostRegressor()\n",
    "\n",
    "parameters = {'max_depth' : [3, 5],\n",
    "              'learning_rate' : [0.01, 0.03],\n",
    "              'iterations' :  [250, 500],\n",
    "              'eval_metric' : ['RMSE']}\n",
    "\n",
    "Grid_CBR = GridSearchCV(estimator=CBR, param_grid=parameters, cv=TimeSeriesSplit(n_splits=6), n_jobs=-1)\n",
    "Grid_CBR.fit(X_train, y_train)\n",
    "\n",
    "end = time.time()\n",
    "cbr_search_time = end - start"
   ]
  },
  {
   "cell_type": "code",
   "execution_count": 38,
   "metadata": {
    "colab": {
     "base_uri": "https://localhost:8080/"
    },
    "id": "Nqlv1pzoee8i",
    "outputId": "41141275-4152-44ac-973f-f4fa1f69f1fa"
   },
   "outputs": [
    {
     "data": {
      "text/plain": [
       "{'eval_metric': 'RMSE',\n",
       " 'iterations': 500,\n",
       " 'learning_rate': 0.03,\n",
       " 'max_depth': 5}"
      ]
     },
     "execution_count": 38,
     "metadata": {},
     "output_type": "execute_result"
    }
   ],
   "source": [
    "Grid_CBR.best_params_"
   ]
  },
  {
   "cell_type": "code",
   "execution_count": 39,
   "metadata": {
    "colab": {
     "base_uri": "https://localhost:8080/"
    },
    "collapsed": true,
    "id": "-29QjvptzK2L",
    "outputId": "baa12cfc-40c3-45b5-acd1-adcbfd170d0f"
   },
   "outputs": [
    {
     "name": "stdout",
     "output_type": "stream",
     "text": [
      "0:\tlearn: 38.2397182\ttotal: 46.9ms\tremaining: 23.4s\n",
      "1:\tlearn: 37.7032405\ttotal: 49.3ms\tremaining: 12.3s\n",
      "2:\tlearn: 37.2135467\ttotal: 51.8ms\tremaining: 8.57s\n",
      "3:\tlearn: 36.7748328\ttotal: 54.3ms\tremaining: 6.73s\n",
      "4:\tlearn: 36.3002741\ttotal: 56.5ms\tremaining: 5.59s\n",
      "5:\tlearn: 35.9366234\ttotal: 58.9ms\tremaining: 4.85s\n",
      "6:\tlearn: 35.5157920\ttotal: 60.9ms\tremaining: 4.29s\n",
      "7:\tlearn: 35.0681544\ttotal: 62.6ms\tremaining: 3.85s\n",
      "8:\tlearn: 34.6450934\ttotal: 64.2ms\tremaining: 3.5s\n",
      "9:\tlearn: 34.2650500\ttotal: 65.8ms\tremaining: 3.22s\n",
      "10:\tlearn: 33.9476588\ttotal: 67.3ms\tremaining: 2.99s\n",
      "11:\tlearn: 33.6785293\ttotal: 68.8ms\tremaining: 2.8s\n",
      "12:\tlearn: 33.3992426\ttotal: 70.5ms\tremaining: 2.64s\n",
      "13:\tlearn: 33.0476204\ttotal: 72.1ms\tremaining: 2.5s\n",
      "14:\tlearn: 32.7411258\ttotal: 73.8ms\tremaining: 2.39s\n",
      "15:\tlearn: 32.4581797\ttotal: 75.8ms\tremaining: 2.29s\n",
      "16:\tlearn: 32.1788230\ttotal: 77.7ms\tremaining: 2.21s\n",
      "17:\tlearn: 31.9265374\ttotal: 79.5ms\tremaining: 2.13s\n",
      "18:\tlearn: 31.6909365\ttotal: 81.1ms\tremaining: 2.05s\n",
      "19:\tlearn: 31.4406667\ttotal: 83.1ms\tremaining: 2s\n",
      "20:\tlearn: 31.1837464\ttotal: 85ms\tremaining: 1.94s\n",
      "21:\tlearn: 30.9598203\ttotal: 86.9ms\tremaining: 1.89s\n",
      "22:\tlearn: 30.7431765\ttotal: 88.9ms\tremaining: 1.84s\n",
      "23:\tlearn: 30.5907513\ttotal: 91.3ms\tremaining: 1.81s\n",
      "24:\tlearn: 30.3716172\ttotal: 93.4ms\tremaining: 1.77s\n",
      "25:\tlearn: 30.1744282\ttotal: 95.1ms\tremaining: 1.73s\n",
      "26:\tlearn: 30.0297405\ttotal: 96.8ms\tremaining: 1.7s\n",
      "27:\tlearn: 29.8686769\ttotal: 98.4ms\tremaining: 1.66s\n",
      "28:\tlearn: 29.6746214\ttotal: 100ms\tremaining: 1.62s\n",
      "29:\tlearn: 29.4994144\ttotal: 102ms\tremaining: 1.59s\n",
      "30:\tlearn: 29.3792310\ttotal: 103ms\tremaining: 1.56s\n",
      "31:\tlearn: 29.2068781\ttotal: 105ms\tremaining: 1.53s\n",
      "32:\tlearn: 29.0889852\ttotal: 107ms\tremaining: 1.51s\n",
      "33:\tlearn: 28.9404792\ttotal: 108ms\tremaining: 1.48s\n",
      "34:\tlearn: 28.8301084\ttotal: 110ms\tremaining: 1.46s\n",
      "35:\tlearn: 28.6974148\ttotal: 111ms\tremaining: 1.43s\n",
      "36:\tlearn: 28.5349519\ttotal: 113ms\tremaining: 1.41s\n",
      "37:\tlearn: 28.4355158\ttotal: 115ms\tremaining: 1.39s\n",
      "38:\tlearn: 28.3256869\ttotal: 116ms\tremaining: 1.37s\n",
      "39:\tlearn: 28.2143128\ttotal: 118ms\tremaining: 1.35s\n",
      "40:\tlearn: 28.0975910\ttotal: 119ms\tremaining: 1.33s\n",
      "41:\tlearn: 27.9490713\ttotal: 121ms\tremaining: 1.32s\n",
      "42:\tlearn: 27.8699870\ttotal: 123ms\tremaining: 1.31s\n",
      "43:\tlearn: 27.7541174\ttotal: 125ms\tremaining: 1.29s\n",
      "44:\tlearn: 27.6418929\ttotal: 126ms\tremaining: 1.28s\n",
      "45:\tlearn: 27.5426794\ttotal: 128ms\tremaining: 1.26s\n",
      "46:\tlearn: 27.4217895\ttotal: 129ms\tremaining: 1.25s\n",
      "47:\tlearn: 27.3030241\ttotal: 131ms\tremaining: 1.23s\n",
      "48:\tlearn: 27.1759502\ttotal: 133ms\tremaining: 1.22s\n",
      "49:\tlearn: 27.0447934\ttotal: 134ms\tremaining: 1.21s\n",
      "50:\tlearn: 26.9377579\ttotal: 136ms\tremaining: 1.2s\n",
      "51:\tlearn: 26.8257948\ttotal: 138ms\tremaining: 1.19s\n",
      "52:\tlearn: 26.7397185\ttotal: 140ms\tremaining: 1.18s\n",
      "53:\tlearn: 26.6327084\ttotal: 142ms\tremaining: 1.17s\n",
      "54:\tlearn: 26.5620109\ttotal: 143ms\tremaining: 1.16s\n",
      "55:\tlearn: 26.5217488\ttotal: 145ms\tremaining: 1.15s\n",
      "56:\tlearn: 26.4688347\ttotal: 146ms\tremaining: 1.14s\n",
      "57:\tlearn: 26.3698882\ttotal: 148ms\tremaining: 1.13s\n",
      "58:\tlearn: 26.2850711\ttotal: 150ms\tremaining: 1.12s\n",
      "59:\tlearn: 26.2001801\ttotal: 152ms\tremaining: 1.11s\n",
      "60:\tlearn: 26.1250469\ttotal: 153ms\tremaining: 1.1s\n",
      "61:\tlearn: 26.0726314\ttotal: 155ms\tremaining: 1.09s\n",
      "62:\tlearn: 26.0018763\ttotal: 157ms\tremaining: 1.09s\n",
      "63:\tlearn: 25.9540490\ttotal: 158ms\tremaining: 1.08s\n",
      "64:\tlearn: 25.8993446\ttotal: 160ms\tremaining: 1.07s\n",
      "65:\tlearn: 25.8525622\ttotal: 161ms\tremaining: 1.06s\n",
      "66:\tlearn: 25.7827897\ttotal: 163ms\tremaining: 1.05s\n",
      "67:\tlearn: 25.7491907\ttotal: 165ms\tremaining: 1.05s\n",
      "68:\tlearn: 25.6925892\ttotal: 167ms\tremaining: 1.04s\n",
      "69:\tlearn: 25.6245422\ttotal: 169ms\tremaining: 1.03s\n",
      "70:\tlearn: 25.5740633\ttotal: 171ms\tremaining: 1.03s\n",
      "71:\tlearn: 25.5400206\ttotal: 172ms\tremaining: 1.02s\n",
      "72:\tlearn: 25.4955813\ttotal: 174ms\tremaining: 1.02s\n",
      "73:\tlearn: 25.4287971\ttotal: 176ms\tremaining: 1.01s\n",
      "74:\tlearn: 25.3717867\ttotal: 178ms\tremaining: 1.01s\n",
      "75:\tlearn: 25.3577428\ttotal: 180ms\tremaining: 1s\n",
      "76:\tlearn: 25.3265797\ttotal: 182ms\tremaining: 1s\n",
      "77:\tlearn: 25.2949533\ttotal: 184ms\tremaining: 996ms\n",
      "78:\tlearn: 25.2346578\ttotal: 186ms\tremaining: 992ms\n",
      "79:\tlearn: 25.1951408\ttotal: 188ms\tremaining: 989ms\n",
      "80:\tlearn: 25.1876109\ttotal: 190ms\tremaining: 985ms\n",
      "81:\tlearn: 25.1788703\ttotal: 193ms\tremaining: 983ms\n",
      "82:\tlearn: 25.1504407\ttotal: 195ms\tremaining: 979ms\n",
      "83:\tlearn: 25.1221745\ttotal: 197ms\tremaining: 976ms\n",
      "84:\tlearn: 25.0788945\ttotal: 199ms\tremaining: 972ms\n",
      "85:\tlearn: 25.0464012\ttotal: 201ms\tremaining: 967ms\n",
      "86:\tlearn: 24.9989737\ttotal: 203ms\tremaining: 963ms\n",
      "87:\tlearn: 24.9589175\ttotal: 205ms\tremaining: 958ms\n",
      "88:\tlearn: 24.9211066\ttotal: 207ms\tremaining: 956ms\n",
      "89:\tlearn: 24.8927906\ttotal: 209ms\tremaining: 951ms\n",
      "90:\tlearn: 24.8491152\ttotal: 211ms\tremaining: 947ms\n",
      "91:\tlearn: 24.8053510\ttotal: 212ms\tremaining: 942ms\n",
      "92:\tlearn: 24.7994187\ttotal: 214ms\tremaining: 937ms\n",
      "93:\tlearn: 24.7692346\ttotal: 216ms\tremaining: 933ms\n",
      "94:\tlearn: 24.7306392\ttotal: 218ms\tremaining: 929ms\n",
      "95:\tlearn: 24.6984115\ttotal: 220ms\tremaining: 924ms\n",
      "96:\tlearn: 24.6924522\ttotal: 221ms\tremaining: 919ms\n",
      "97:\tlearn: 24.6638134\ttotal: 223ms\tremaining: 914ms\n",
      "98:\tlearn: 24.6233341\ttotal: 225ms\tremaining: 909ms\n",
      "99:\tlearn: 24.6019240\ttotal: 226ms\tremaining: 905ms\n",
      "100:\tlearn: 24.5800287\ttotal: 228ms\tremaining: 900ms\n",
      "101:\tlearn: 24.5708472\ttotal: 229ms\tremaining: 895ms\n",
      "102:\tlearn: 24.5659174\ttotal: 231ms\tremaining: 890ms\n",
      "103:\tlearn: 24.5603123\ttotal: 232ms\tremaining: 885ms\n",
      "104:\tlearn: 24.5284062\ttotal: 234ms\tremaining: 881ms\n",
      "105:\tlearn: 24.5177946\ttotal: 236ms\tremaining: 876ms\n",
      "106:\tlearn: 24.5125531\ttotal: 238ms\tremaining: 872ms\n",
      "107:\tlearn: 24.4662694\ttotal: 239ms\tremaining: 869ms\n",
      "108:\tlearn: 24.4470882\ttotal: 241ms\tremaining: 864ms\n",
      "109:\tlearn: 24.4395654\ttotal: 242ms\tremaining: 860ms\n",
      "110:\tlearn: 24.4182796\ttotal: 244ms\tremaining: 855ms\n",
      "111:\tlearn: 24.4130979\ttotal: 246ms\tremaining: 851ms\n",
      "112:\tlearn: 24.3838844\ttotal: 247ms\tremaining: 847ms\n",
      "113:\tlearn: 24.3432043\ttotal: 249ms\tremaining: 843ms\n",
      "114:\tlearn: 24.3203294\ttotal: 251ms\tremaining: 840ms\n",
      "115:\tlearn: 24.2825725\ttotal: 253ms\tremaining: 837ms\n",
      "116:\tlearn: 24.2514791\ttotal: 255ms\tremaining: 834ms\n",
      "117:\tlearn: 24.2421850\ttotal: 256ms\tremaining: 830ms\n",
      "118:\tlearn: 24.2160993\ttotal: 258ms\tremaining: 827ms\n",
      "119:\tlearn: 24.1890298\ttotal: 260ms\tremaining: 824ms\n",
      "120:\tlearn: 24.1708068\ttotal: 262ms\tremaining: 820ms\n",
      "121:\tlearn: 24.1627258\ttotal: 263ms\tremaining: 815ms\n",
      "122:\tlearn: 24.1569384\ttotal: 265ms\tremaining: 811ms\n",
      "123:\tlearn: 24.1524394\ttotal: 266ms\tremaining: 807ms\n",
      "124:\tlearn: 24.1380713\ttotal: 268ms\tremaining: 804ms\n",
      "125:\tlearn: 24.1163286\ttotal: 269ms\tremaining: 800ms\n",
      "126:\tlearn: 24.1003046\ttotal: 271ms\tremaining: 796ms\n",
      "127:\tlearn: 24.0876786\ttotal: 273ms\tremaining: 793ms\n",
      "128:\tlearn: 24.0798411\ttotal: 275ms\tremaining: 789ms\n",
      "129:\tlearn: 24.0586799\ttotal: 276ms\tremaining: 787ms\n",
      "130:\tlearn: 24.0294216\ttotal: 278ms\tremaining: 784ms\n",
      "131:\tlearn: 24.0175463\ttotal: 280ms\tremaining: 780ms\n",
      "132:\tlearn: 24.0102828\ttotal: 281ms\tremaining: 777ms\n",
      "133:\tlearn: 23.9855805\ttotal: 283ms\tremaining: 773ms\n",
      "134:\tlearn: 23.9559496\ttotal: 285ms\tremaining: 770ms\n",
      "135:\tlearn: 23.9484884\ttotal: 286ms\tremaining: 766ms\n",
      "136:\tlearn: 23.9446715\ttotal: 288ms\tremaining: 762ms\n",
      "137:\tlearn: 23.9417921\ttotal: 289ms\tremaining: 759ms\n",
      "138:\tlearn: 23.9122973\ttotal: 291ms\tremaining: 756ms\n",
      "139:\tlearn: 23.9087844\ttotal: 293ms\tremaining: 753ms\n",
      "140:\tlearn: 23.8994910\ttotal: 295ms\tremaining: 750ms\n",
      "141:\tlearn: 23.8890355\ttotal: 296ms\tremaining: 747ms\n",
      "142:\tlearn: 23.8750967\ttotal: 298ms\tremaining: 744ms\n",
      "143:\tlearn: 23.8569670\ttotal: 299ms\tremaining: 740ms\n",
      "144:\tlearn: 23.8408876\ttotal: 301ms\tremaining: 737ms\n",
      "145:\tlearn: 23.8197231\ttotal: 303ms\tremaining: 734ms\n",
      "146:\tlearn: 23.8143935\ttotal: 304ms\tremaining: 731ms\n",
      "147:\tlearn: 23.8093872\ttotal: 306ms\tremaining: 728ms\n",
      "148:\tlearn: 23.7971492\ttotal: 308ms\tremaining: 725ms\n",
      "149:\tlearn: 23.7870086\ttotal: 309ms\tremaining: 722ms\n",
      "150:\tlearn: 23.7787007\ttotal: 311ms\tremaining: 719ms\n",
      "151:\tlearn: 23.7723800\ttotal: 312ms\tremaining: 715ms\n",
      "152:\tlearn: 23.7628653\ttotal: 314ms\tremaining: 712ms\n",
      "153:\tlearn: 23.7508386\ttotal: 316ms\tremaining: 709ms\n",
      "154:\tlearn: 23.7269538\ttotal: 317ms\tremaining: 706ms\n",
      "155:\tlearn: 23.6980256\ttotal: 319ms\tremaining: 703ms\n",
      "156:\tlearn: 23.6841613\ttotal: 321ms\tremaining: 701ms\n",
      "157:\tlearn: 23.6783556\ttotal: 322ms\tremaining: 698ms\n",
      "158:\tlearn: 23.6549966\ttotal: 324ms\tremaining: 695ms\n",
      "159:\tlearn: 23.6459299\ttotal: 325ms\tremaining: 691ms\n",
      "160:\tlearn: 23.6289713\ttotal: 327ms\tremaining: 688ms\n",
      "161:\tlearn: 23.6107157\ttotal: 328ms\tremaining: 685ms\n",
      "162:\tlearn: 23.5886074\ttotal: 330ms\tremaining: 683ms\n",
      "163:\tlearn: 23.5859780\ttotal: 331ms\tremaining: 679ms\n",
      "164:\tlearn: 23.5673451\ttotal: 333ms\tremaining: 676ms\n",
      "165:\tlearn: 23.5257353\ttotal: 334ms\tremaining: 673ms\n",
      "166:\tlearn: 23.5062501\ttotal: 336ms\tremaining: 670ms\n",
      "167:\tlearn: 23.4910279\ttotal: 338ms\tremaining: 668ms\n",
      "168:\tlearn: 23.4864037\ttotal: 339ms\tremaining: 665ms\n",
      "169:\tlearn: 23.4467082\ttotal: 341ms\tremaining: 662ms\n",
      "170:\tlearn: 23.4440610\ttotal: 342ms\tremaining: 659ms\n",
      "171:\tlearn: 23.4317303\ttotal: 344ms\tremaining: 656ms\n",
      "172:\tlearn: 23.4137037\ttotal: 346ms\tremaining: 653ms\n",
      "173:\tlearn: 23.4063543\ttotal: 347ms\tremaining: 650ms\n",
      "174:\tlearn: 23.3878329\ttotal: 349ms\tremaining: 648ms\n",
      "175:\tlearn: 23.3735867\ttotal: 351ms\tremaining: 645ms\n",
      "176:\tlearn: 23.3711256\ttotal: 352ms\tremaining: 642ms\n",
      "177:\tlearn: 23.3369217\ttotal: 353ms\tremaining: 639ms\n",
      "178:\tlearn: 23.3210445\ttotal: 355ms\tremaining: 636ms\n",
      "179:\tlearn: 23.3150040\ttotal: 356ms\tremaining: 634ms\n",
      "180:\tlearn: 23.3078647\ttotal: 358ms\tremaining: 631ms\n",
      "181:\tlearn: 23.2953451\ttotal: 360ms\tremaining: 628ms\n",
      "182:\tlearn: 23.2867506\ttotal: 361ms\tremaining: 626ms\n",
      "183:\tlearn: 23.2676212\ttotal: 363ms\tremaining: 623ms\n",
      "184:\tlearn: 23.2604298\ttotal: 364ms\tremaining: 620ms\n",
      "185:\tlearn: 23.2302049\ttotal: 366ms\tremaining: 618ms\n",
      "186:\tlearn: 23.2242984\ttotal: 368ms\tremaining: 615ms\n",
      "187:\tlearn: 23.1989433\ttotal: 369ms\tremaining: 613ms\n",
      "188:\tlearn: 23.1965326\ttotal: 371ms\tremaining: 611ms\n",
      "189:\tlearn: 23.1581587\ttotal: 373ms\tremaining: 608ms\n",
      "190:\tlearn: 23.1489387\ttotal: 374ms\tremaining: 605ms\n",
      "191:\tlearn: 23.1155445\ttotal: 376ms\tremaining: 603ms\n",
      "192:\tlearn: 23.0987966\ttotal: 377ms\tremaining: 600ms\n",
      "193:\tlearn: 23.0951129\ttotal: 379ms\tremaining: 598ms\n",
      "194:\tlearn: 23.0765193\ttotal: 380ms\tremaining: 595ms\n",
      "195:\tlearn: 23.0678565\ttotal: 382ms\tremaining: 593ms\n",
      "196:\tlearn: 23.0538784\ttotal: 384ms\tremaining: 590ms\n",
      "197:\tlearn: 23.0480798\ttotal: 385ms\tremaining: 587ms\n",
      "198:\tlearn: 23.0452267\ttotal: 387ms\tremaining: 585ms\n",
      "199:\tlearn: 23.0419291\ttotal: 388ms\tremaining: 582ms\n",
      "200:\tlearn: 23.0217116\ttotal: 390ms\tremaining: 580ms\n",
      "201:\tlearn: 23.0118587\ttotal: 392ms\tremaining: 578ms\n",
      "202:\tlearn: 22.9943458\ttotal: 393ms\tremaining: 576ms\n",
      "203:\tlearn: 22.9738806\ttotal: 395ms\tremaining: 573ms\n",
      "204:\tlearn: 22.9585063\ttotal: 397ms\tremaining: 572ms\n",
      "205:\tlearn: 22.9490577\ttotal: 399ms\tremaining: 570ms\n",
      "206:\tlearn: 22.9425890\ttotal: 401ms\tremaining: 568ms\n",
      "207:\tlearn: 22.9371532\ttotal: 403ms\tremaining: 566ms\n",
      "208:\tlearn: 22.9312212\ttotal: 405ms\tremaining: 564ms\n",
      "209:\tlearn: 22.9072783\ttotal: 407ms\tremaining: 561ms\n",
      "210:\tlearn: 22.9050709\ttotal: 424ms\tremaining: 580ms\n",
      "211:\tlearn: 22.8889688\ttotal: 425ms\tremaining: 578ms\n",
      "212:\tlearn: 22.8488846\ttotal: 427ms\tremaining: 576ms\n",
      "213:\tlearn: 22.8455614\ttotal: 429ms\tremaining: 573ms\n",
      "214:\tlearn: 22.8401437\ttotal: 430ms\tremaining: 571ms\n",
      "215:\tlearn: 22.8322083\ttotal: 432ms\tremaining: 568ms\n",
      "216:\tlearn: 22.8280871\ttotal: 434ms\tremaining: 566ms\n",
      "217:\tlearn: 22.8135722\ttotal: 436ms\tremaining: 564ms\n",
      "218:\tlearn: 22.8031997\ttotal: 438ms\tremaining: 561ms\n",
      "219:\tlearn: 22.7920911\ttotal: 439ms\tremaining: 559ms\n",
      "220:\tlearn: 22.7898188\ttotal: 441ms\tremaining: 557ms\n",
      "221:\tlearn: 22.7757008\ttotal: 443ms\tremaining: 554ms\n",
      "222:\tlearn: 22.7636319\ttotal: 444ms\tremaining: 552ms\n",
      "223:\tlearn: 22.7608354\ttotal: 446ms\tremaining: 550ms\n",
      "224:\tlearn: 22.7443451\ttotal: 448ms\tremaining: 548ms\n",
      "225:\tlearn: 22.7332258\ttotal: 450ms\tremaining: 545ms\n",
      "226:\tlearn: 22.7281970\ttotal: 451ms\tremaining: 543ms\n",
      "227:\tlearn: 22.7210401\ttotal: 453ms\tremaining: 541ms\n",
      "228:\tlearn: 22.7096668\ttotal: 455ms\tremaining: 538ms\n",
      "229:\tlearn: 22.7005122\ttotal: 456ms\tremaining: 536ms\n",
      "230:\tlearn: 22.6912222\ttotal: 458ms\tremaining: 533ms\n",
      "231:\tlearn: 22.6836188\ttotal: 460ms\tremaining: 531ms\n",
      "232:\tlearn: 22.6756351\ttotal: 461ms\tremaining: 529ms\n",
      "233:\tlearn: 22.6719530\ttotal: 463ms\tremaining: 527ms\n",
      "234:\tlearn: 22.6670499\ttotal: 465ms\tremaining: 524ms\n",
      "235:\tlearn: 22.6606617\ttotal: 467ms\tremaining: 522ms\n",
      "236:\tlearn: 22.6490811\ttotal: 468ms\tremaining: 520ms\n",
      "237:\tlearn: 22.6375577\ttotal: 470ms\tremaining: 517ms\n",
      "238:\tlearn: 22.6354077\ttotal: 472ms\tremaining: 515ms\n",
      "239:\tlearn: 22.6320837\ttotal: 473ms\tremaining: 513ms\n",
      "240:\tlearn: 22.6255221\ttotal: 475ms\tremaining: 510ms\n",
      "241:\tlearn: 22.6196261\ttotal: 477ms\tremaining: 508ms\n",
      "242:\tlearn: 22.6131158\ttotal: 478ms\tremaining: 506ms\n",
      "243:\tlearn: 22.5979136\ttotal: 480ms\tremaining: 504ms\n",
      "244:\tlearn: 22.5918216\ttotal: 482ms\tremaining: 502ms\n",
      "245:\tlearn: 22.5818105\ttotal: 484ms\tremaining: 500ms\n",
      "246:\tlearn: 22.5721577\ttotal: 486ms\tremaining: 497ms\n",
      "247:\tlearn: 22.5634115\ttotal: 487ms\tremaining: 495ms\n",
      "248:\tlearn: 22.5616055\ttotal: 489ms\tremaining: 493ms\n",
      "249:\tlearn: 22.5558123\ttotal: 491ms\tremaining: 491ms\n",
      "250:\tlearn: 22.5543878\ttotal: 493ms\tremaining: 489ms\n",
      "251:\tlearn: 22.5511163\ttotal: 495ms\tremaining: 488ms\n",
      "252:\tlearn: 22.5409572\ttotal: 498ms\tremaining: 486ms\n",
      "253:\tlearn: 22.5141427\ttotal: 499ms\tremaining: 484ms\n",
      "254:\tlearn: 22.5081343\ttotal: 501ms\tremaining: 482ms\n",
      "255:\tlearn: 22.4952093\ttotal: 503ms\tremaining: 479ms\n",
      "256:\tlearn: 22.4898698\ttotal: 505ms\tremaining: 477ms\n",
      "257:\tlearn: 22.4827445\ttotal: 506ms\tremaining: 475ms\n",
      "258:\tlearn: 22.4768749\ttotal: 508ms\tremaining: 473ms\n",
      "259:\tlearn: 22.4756064\ttotal: 510ms\tremaining: 471ms\n",
      "260:\tlearn: 22.4742206\ttotal: 511ms\tremaining: 468ms\n",
      "261:\tlearn: 22.4711941\ttotal: 513ms\tremaining: 466ms\n",
      "262:\tlearn: 22.4552041\ttotal: 515ms\tremaining: 464ms\n",
      "263:\tlearn: 22.4444492\ttotal: 516ms\tremaining: 462ms\n",
      "264:\tlearn: 22.4144774\ttotal: 518ms\tremaining: 459ms\n",
      "265:\tlearn: 22.3996059\ttotal: 520ms\tremaining: 457ms\n",
      "266:\tlearn: 22.3956355\ttotal: 521ms\tremaining: 455ms\n",
      "267:\tlearn: 22.3850592\ttotal: 523ms\tremaining: 453ms\n",
      "268:\tlearn: 22.3710929\ttotal: 525ms\tremaining: 451ms\n",
      "269:\tlearn: 22.3639352\ttotal: 527ms\tremaining: 449ms\n",
      "270:\tlearn: 22.3604329\ttotal: 529ms\tremaining: 447ms\n",
      "271:\tlearn: 22.3456727\ttotal: 530ms\tremaining: 445ms\n",
      "272:\tlearn: 22.3242271\ttotal: 532ms\tremaining: 442ms\n",
      "273:\tlearn: 22.3172707\ttotal: 534ms\tremaining: 440ms\n",
      "274:\tlearn: 22.3052490\ttotal: 535ms\tremaining: 438ms\n",
      "275:\tlearn: 22.2961761\ttotal: 537ms\tremaining: 436ms\n",
      "276:\tlearn: 22.2789346\ttotal: 539ms\tremaining: 434ms\n",
      "277:\tlearn: 22.2774631\ttotal: 541ms\tremaining: 432ms\n",
      "278:\tlearn: 22.2547443\ttotal: 542ms\tremaining: 430ms\n",
      "279:\tlearn: 22.2427871\ttotal: 544ms\tremaining: 427ms\n",
      "280:\tlearn: 22.2413945\ttotal: 545ms\tremaining: 425ms\n",
      "281:\tlearn: 22.2402002\ttotal: 547ms\tremaining: 423ms\n",
      "282:\tlearn: 22.2387012\ttotal: 548ms\tremaining: 420ms\n",
      "283:\tlearn: 22.2163354\ttotal: 550ms\tremaining: 418ms\n",
      "284:\tlearn: 22.2031075\ttotal: 552ms\tremaining: 416ms\n",
      "285:\tlearn: 22.1878888\ttotal: 553ms\tremaining: 414ms\n",
      "286:\tlearn: 22.1766143\ttotal: 555ms\tremaining: 412ms\n",
      "287:\tlearn: 22.1755769\ttotal: 556ms\tremaining: 410ms\n",
      "288:\tlearn: 22.1743851\ttotal: 558ms\tremaining: 407ms\n",
      "289:\tlearn: 22.1667726\ttotal: 559ms\tremaining: 405ms\n",
      "290:\tlearn: 22.1639330\ttotal: 561ms\tremaining: 403ms\n",
      "291:\tlearn: 22.1620801\ttotal: 562ms\tremaining: 401ms\n",
      "292:\tlearn: 22.1514624\ttotal: 564ms\tremaining: 398ms\n",
      "293:\tlearn: 22.1488215\ttotal: 566ms\tremaining: 396ms\n",
      "294:\tlearn: 22.1223777\ttotal: 568ms\tremaining: 395ms\n",
      "295:\tlearn: 22.1168452\ttotal: 570ms\tremaining: 393ms\n",
      "296:\tlearn: 22.0996621\ttotal: 572ms\tremaining: 391ms\n",
      "297:\tlearn: 22.0949596\ttotal: 573ms\tremaining: 389ms\n",
      "298:\tlearn: 22.0913897\ttotal: 575ms\tremaining: 387ms\n",
      "299:\tlearn: 22.0900393\ttotal: 577ms\tremaining: 384ms\n",
      "300:\tlearn: 22.0872792\ttotal: 578ms\tremaining: 382ms\n",
      "301:\tlearn: 22.0731385\ttotal: 580ms\tremaining: 380ms\n",
      "302:\tlearn: 22.0720751\ttotal: 581ms\tremaining: 378ms\n",
      "303:\tlearn: 22.0663516\ttotal: 583ms\tremaining: 376ms\n",
      "304:\tlearn: 22.0556163\ttotal: 585ms\tremaining: 374ms\n",
      "305:\tlearn: 22.0476613\ttotal: 586ms\tremaining: 372ms\n",
      "306:\tlearn: 22.0409818\ttotal: 588ms\tremaining: 369ms\n",
      "307:\tlearn: 22.0166478\ttotal: 589ms\tremaining: 367ms\n",
      "308:\tlearn: 22.0065519\ttotal: 591ms\tremaining: 365ms\n",
      "309:\tlearn: 21.9803670\ttotal: 593ms\tremaining: 363ms\n",
      "310:\tlearn: 21.9792869\ttotal: 594ms\tremaining: 361ms\n",
      "311:\tlearn: 21.9730427\ttotal: 596ms\tremaining: 359ms\n",
      "312:\tlearn: 21.9625050\ttotal: 597ms\tremaining: 357ms\n",
      "313:\tlearn: 21.9522332\ttotal: 599ms\tremaining: 355ms\n",
      "314:\tlearn: 21.9493965\ttotal: 601ms\tremaining: 353ms\n",
      "315:\tlearn: 21.9473268\ttotal: 603ms\tremaining: 351ms\n",
      "316:\tlearn: 21.9395912\ttotal: 605ms\tremaining: 349ms\n",
      "317:\tlearn: 21.9386169\ttotal: 606ms\tremaining: 347ms\n",
      "318:\tlearn: 21.9141916\ttotal: 608ms\tremaining: 345ms\n",
      "319:\tlearn: 21.9063099\ttotal: 609ms\tremaining: 343ms\n",
      "320:\tlearn: 21.8858732\ttotal: 611ms\tremaining: 341ms\n",
      "321:\tlearn: 21.8813643\ttotal: 613ms\tremaining: 339ms\n",
      "322:\tlearn: 21.8714062\ttotal: 614ms\tremaining: 337ms\n",
      "323:\tlearn: 21.8622322\ttotal: 616ms\tremaining: 335ms\n",
      "324:\tlearn: 21.8599526\ttotal: 618ms\tremaining: 333ms\n",
      "325:\tlearn: 21.8588157\ttotal: 620ms\tremaining: 331ms\n",
      "326:\tlearn: 21.8530396\ttotal: 621ms\tremaining: 329ms\n",
      "327:\tlearn: 21.8386921\ttotal: 623ms\tremaining: 327ms\n",
      "328:\tlearn: 21.8303564\ttotal: 624ms\tremaining: 325ms\n",
      "329:\tlearn: 21.8221136\ttotal: 626ms\tremaining: 322ms\n",
      "330:\tlearn: 21.8190151\ttotal: 627ms\tremaining: 320ms\n",
      "331:\tlearn: 21.8050038\ttotal: 629ms\tremaining: 318ms\n",
      "332:\tlearn: 21.8032664\ttotal: 631ms\tremaining: 316ms\n",
      "333:\tlearn: 21.7960630\ttotal: 632ms\tremaining: 314ms\n",
      "334:\tlearn: 21.7740160\ttotal: 634ms\tremaining: 312ms\n",
      "335:\tlearn: 21.7632936\ttotal: 636ms\tremaining: 310ms\n",
      "336:\tlearn: 21.7542065\ttotal: 637ms\tremaining: 308ms\n",
      "337:\tlearn: 21.7472726\ttotal: 639ms\tremaining: 306ms\n",
      "338:\tlearn: 21.7292623\ttotal: 641ms\tremaining: 304ms\n",
      "339:\tlearn: 21.7178131\ttotal: 642ms\tremaining: 302ms\n",
      "340:\tlearn: 21.7076148\ttotal: 644ms\tremaining: 300ms\n",
      "341:\tlearn: 21.7012761\ttotal: 645ms\tremaining: 298ms\n",
      "342:\tlearn: 21.6900255\ttotal: 647ms\tremaining: 296ms\n",
      "343:\tlearn: 21.6859974\ttotal: 649ms\tremaining: 294ms\n",
      "344:\tlearn: 21.6762785\ttotal: 651ms\tremaining: 292ms\n",
      "345:\tlearn: 21.6753353\ttotal: 652ms\tremaining: 290ms\n",
      "346:\tlearn: 21.6740291\ttotal: 654ms\tremaining: 288ms\n",
      "347:\tlearn: 21.6621421\ttotal: 656ms\tremaining: 286ms\n",
      "348:\tlearn: 21.6428186\ttotal: 657ms\tremaining: 284ms\n",
      "349:\tlearn: 21.6348788\ttotal: 659ms\tremaining: 282ms\n",
      "350:\tlearn: 21.6340367\ttotal: 660ms\tremaining: 280ms\n",
      "351:\tlearn: 21.6258699\ttotal: 662ms\tremaining: 278ms\n",
      "352:\tlearn: 21.6227593\ttotal: 664ms\tremaining: 277ms\n",
      "353:\tlearn: 21.6128998\ttotal: 666ms\tremaining: 275ms\n",
      "354:\tlearn: 21.5981394\ttotal: 667ms\tremaining: 273ms\n",
      "355:\tlearn: 21.5894673\ttotal: 669ms\tremaining: 271ms\n",
      "356:\tlearn: 21.5730293\ttotal: 670ms\tremaining: 269ms\n",
      "357:\tlearn: 21.5657593\ttotal: 672ms\tremaining: 267ms\n",
      "358:\tlearn: 21.5551092\ttotal: 674ms\tremaining: 265ms\n",
      "359:\tlearn: 21.5331205\ttotal: 675ms\tremaining: 263ms\n",
      "360:\tlearn: 21.5216870\ttotal: 677ms\tremaining: 261ms\n",
      "361:\tlearn: 21.5208366\ttotal: 679ms\tremaining: 259ms\n",
      "362:\tlearn: 21.5200363\ttotal: 681ms\tremaining: 257ms\n",
      "363:\tlearn: 21.5125587\ttotal: 682ms\tremaining: 255ms\n",
      "364:\tlearn: 21.5014735\ttotal: 684ms\tremaining: 253ms\n",
      "365:\tlearn: 21.4979418\ttotal: 686ms\tremaining: 251ms\n",
      "366:\tlearn: 21.4854906\ttotal: 688ms\tremaining: 249ms\n",
      "367:\tlearn: 21.4714338\ttotal: 689ms\tremaining: 247ms\n",
      "368:\tlearn: 21.4636344\ttotal: 691ms\tremaining: 245ms\n",
      "369:\tlearn: 21.4586977\ttotal: 693ms\tremaining: 243ms\n",
      "370:\tlearn: 21.4473604\ttotal: 694ms\tremaining: 241ms\n",
      "371:\tlearn: 21.4382826\ttotal: 696ms\tremaining: 239ms\n",
      "372:\tlearn: 21.4169256\ttotal: 697ms\tremaining: 237ms\n",
      "373:\tlearn: 21.4159628\ttotal: 699ms\tremaining: 235ms\n",
      "374:\tlearn: 21.4077024\ttotal: 701ms\tremaining: 234ms\n",
      "375:\tlearn: 21.3921159\ttotal: 702ms\tremaining: 232ms\n",
      "376:\tlearn: 21.3864602\ttotal: 704ms\tremaining: 230ms\n",
      "377:\tlearn: 21.3811398\ttotal: 706ms\tremaining: 228ms\n",
      "378:\tlearn: 21.3660069\ttotal: 707ms\tremaining: 226ms\n",
      "379:\tlearn: 21.3613455\ttotal: 709ms\tremaining: 224ms\n",
      "380:\tlearn: 21.3408015\ttotal: 711ms\tremaining: 222ms\n",
      "381:\tlearn: 21.3395086\ttotal: 712ms\tremaining: 220ms\n",
      "382:\tlearn: 21.3306279\ttotal: 714ms\tremaining: 218ms\n",
      "383:\tlearn: 21.3263328\ttotal: 715ms\tremaining: 216ms\n",
      "384:\tlearn: 21.3062897\ttotal: 717ms\tremaining: 214ms\n",
      "385:\tlearn: 21.3000409\ttotal: 719ms\tremaining: 212ms\n",
      "386:\tlearn: 21.2891255\ttotal: 720ms\tremaining: 210ms\n",
      "387:\tlearn: 21.2829227\ttotal: 722ms\tremaining: 208ms\n",
      "388:\tlearn: 21.2752155\ttotal: 723ms\tremaining: 206ms\n",
      "389:\tlearn: 21.2743753\ttotal: 725ms\tremaining: 204ms\n",
      "390:\tlearn: 21.2663511\ttotal: 726ms\tremaining: 203ms\n",
      "391:\tlearn: 21.2586056\ttotal: 728ms\tremaining: 201ms\n",
      "392:\tlearn: 21.2565672\ttotal: 730ms\tremaining: 199ms\n",
      "393:\tlearn: 21.2411817\ttotal: 731ms\tremaining: 197ms\n",
      "394:\tlearn: 21.2352893\ttotal: 733ms\tremaining: 195ms\n",
      "395:\tlearn: 21.2342645\ttotal: 735ms\tremaining: 193ms\n",
      "396:\tlearn: 21.2164276\ttotal: 736ms\tremaining: 191ms\n",
      "397:\tlearn: 21.2037161\ttotal: 738ms\tremaining: 189ms\n",
      "398:\tlearn: 21.1952290\ttotal: 740ms\tremaining: 187ms\n",
      "399:\tlearn: 21.1904745\ttotal: 741ms\tremaining: 185ms\n",
      "400:\tlearn: 21.1767406\ttotal: 743ms\tremaining: 183ms\n",
      "401:\tlearn: 21.1686301\ttotal: 745ms\tremaining: 182ms\n",
      "402:\tlearn: 21.1594073\ttotal: 746ms\tremaining: 180ms\n",
      "403:\tlearn: 21.1487098\ttotal: 748ms\tremaining: 178ms\n",
      "404:\tlearn: 21.1446724\ttotal: 750ms\tremaining: 176ms\n",
      "405:\tlearn: 21.1365858\ttotal: 751ms\tremaining: 174ms\n",
      "406:\tlearn: 21.1300579\ttotal: 753ms\tremaining: 172ms\n",
      "407:\tlearn: 21.1278548\ttotal: 755ms\tremaining: 170ms\n",
      "408:\tlearn: 21.1176490\ttotal: 756ms\tremaining: 168ms\n",
      "409:\tlearn: 21.1120202\ttotal: 758ms\tremaining: 166ms\n",
      "410:\tlearn: 21.1060654\ttotal: 760ms\tremaining: 165ms\n",
      "411:\tlearn: 21.0938367\ttotal: 761ms\tremaining: 163ms\n",
      "412:\tlearn: 21.0763535\ttotal: 763ms\tremaining: 161ms\n",
      "413:\tlearn: 21.0714162\ttotal: 765ms\tremaining: 159ms\n",
      "414:\tlearn: 21.0706401\ttotal: 767ms\tremaining: 157ms\n",
      "415:\tlearn: 21.0565199\ttotal: 768ms\tremaining: 155ms\n",
      "416:\tlearn: 21.0473181\ttotal: 770ms\tremaining: 153ms\n",
      "417:\tlearn: 21.0368168\ttotal: 772ms\tremaining: 151ms\n",
      "418:\tlearn: 21.0359655\ttotal: 773ms\tremaining: 150ms\n",
      "419:\tlearn: 21.0345444\ttotal: 775ms\tremaining: 148ms\n",
      "420:\tlearn: 21.0310124\ttotal: 776ms\tremaining: 146ms\n",
      "421:\tlearn: 21.0302482\ttotal: 778ms\tremaining: 144ms\n",
      "422:\tlearn: 21.0227959\ttotal: 779ms\tremaining: 142ms\n",
      "423:\tlearn: 21.0131346\ttotal: 781ms\tremaining: 140ms\n",
      "424:\tlearn: 21.0043667\ttotal: 783ms\tremaining: 138ms\n",
      "425:\tlearn: 21.0032884\ttotal: 784ms\tremaining: 136ms\n",
      "426:\tlearn: 20.9916692\ttotal: 786ms\tremaining: 134ms\n",
      "427:\tlearn: 20.9811167\ttotal: 787ms\tremaining: 132ms\n",
      "428:\tlearn: 20.9730158\ttotal: 789ms\tremaining: 131ms\n",
      "429:\tlearn: 20.9641000\ttotal: 790ms\tremaining: 129ms\n",
      "430:\tlearn: 20.9522385\ttotal: 792ms\tremaining: 127ms\n",
      "431:\tlearn: 20.9423787\ttotal: 794ms\tremaining: 125ms\n",
      "432:\tlearn: 20.9409181\ttotal: 795ms\tremaining: 123ms\n",
      "433:\tlearn: 20.9305246\ttotal: 797ms\tremaining: 121ms\n",
      "434:\tlearn: 20.9249440\ttotal: 798ms\tremaining: 119ms\n",
      "435:\tlearn: 20.9243520\ttotal: 800ms\tremaining: 117ms\n",
      "436:\tlearn: 20.9151774\ttotal: 801ms\tremaining: 116ms\n",
      "437:\tlearn: 20.8996101\ttotal: 803ms\tremaining: 114ms\n",
      "438:\tlearn: 20.8927243\ttotal: 805ms\tremaining: 112ms\n",
      "439:\tlearn: 20.8834186\ttotal: 806ms\tremaining: 110ms\n",
      "440:\tlearn: 20.8738429\ttotal: 808ms\tremaining: 108ms\n",
      "441:\tlearn: 20.8714747\ttotal: 809ms\tremaining: 106ms\n",
      "442:\tlearn: 20.8608599\ttotal: 811ms\tremaining: 104ms\n",
      "443:\tlearn: 20.8525032\ttotal: 813ms\tremaining: 103ms\n",
      "444:\tlearn: 20.8494551\ttotal: 814ms\tremaining: 101ms\n",
      "445:\tlearn: 20.8415901\ttotal: 816ms\tremaining: 98.8ms\n",
      "446:\tlearn: 20.8373868\ttotal: 818ms\tremaining: 96.9ms\n",
      "447:\tlearn: 20.8315212\ttotal: 819ms\tremaining: 95.1ms\n",
      "448:\tlearn: 20.8199354\ttotal: 821ms\tremaining: 93.2ms\n",
      "449:\tlearn: 20.8169329\ttotal: 822ms\tremaining: 91.4ms\n",
      "450:\tlearn: 20.8111254\ttotal: 824ms\tremaining: 89.5ms\n",
      "451:\tlearn: 20.8076395\ttotal: 825ms\tremaining: 87.6ms\n",
      "452:\tlearn: 20.8064718\ttotal: 827ms\tremaining: 85.8ms\n",
      "453:\tlearn: 20.7998569\ttotal: 828ms\tremaining: 83.9ms\n",
      "454:\tlearn: 20.7894732\ttotal: 830ms\tremaining: 82.1ms\n",
      "455:\tlearn: 20.7847996\ttotal: 832ms\tremaining: 80.3ms\n",
      "456:\tlearn: 20.7781619\ttotal: 833ms\tremaining: 78.4ms\n",
      "457:\tlearn: 20.7707599\ttotal: 835ms\tremaining: 76.6ms\n",
      "458:\tlearn: 20.7648999\ttotal: 836ms\tremaining: 74.7ms\n",
      "459:\tlearn: 20.7607519\ttotal: 838ms\tremaining: 72.9ms\n",
      "460:\tlearn: 20.7595992\ttotal: 839ms\tremaining: 71ms\n",
      "461:\tlearn: 20.7497539\ttotal: 841ms\tremaining: 69.2ms\n",
      "462:\tlearn: 20.7384480\ttotal: 843ms\tremaining: 67.3ms\n",
      "463:\tlearn: 20.7321986\ttotal: 844ms\tremaining: 65.5ms\n",
      "464:\tlearn: 20.7221309\ttotal: 846ms\tremaining: 63.7ms\n",
      "465:\tlearn: 20.7147793\ttotal: 847ms\tremaining: 61.8ms\n",
      "466:\tlearn: 20.7016006\ttotal: 849ms\tremaining: 60ms\n",
      "467:\tlearn: 20.6919966\ttotal: 851ms\tremaining: 58.2ms\n",
      "468:\tlearn: 20.6837309\ttotal: 853ms\tremaining: 56.4ms\n",
      "469:\tlearn: 20.6753036\ttotal: 854ms\tremaining: 54.5ms\n",
      "470:\tlearn: 20.6575526\ttotal: 856ms\tremaining: 52.7ms\n",
      "471:\tlearn: 20.6499565\ttotal: 858ms\tremaining: 50.9ms\n",
      "472:\tlearn: 20.6449280\ttotal: 860ms\tremaining: 49.1ms\n",
      "473:\tlearn: 20.6346717\ttotal: 861ms\tremaining: 47.2ms\n",
      "474:\tlearn: 20.6271097\ttotal: 863ms\tremaining: 45.4ms\n",
      "475:\tlearn: 20.6230812\ttotal: 864ms\tremaining: 43.6ms\n",
      "476:\tlearn: 20.6183746\ttotal: 866ms\tremaining: 41.8ms\n",
      "477:\tlearn: 20.6042050\ttotal: 868ms\tremaining: 39.9ms\n",
      "478:\tlearn: 20.5982423\ttotal: 869ms\tremaining: 38.1ms\n",
      "479:\tlearn: 20.5864492\ttotal: 871ms\tremaining: 36.3ms\n",
      "480:\tlearn: 20.5817488\ttotal: 872ms\tremaining: 34.5ms\n",
      "481:\tlearn: 20.5737712\ttotal: 874ms\tremaining: 32.6ms\n",
      "482:\tlearn: 20.5670129\ttotal: 876ms\tremaining: 30.8ms\n",
      "483:\tlearn: 20.5553693\ttotal: 877ms\tremaining: 29ms\n",
      "484:\tlearn: 20.5482261\ttotal: 879ms\tremaining: 27.2ms\n",
      "485:\tlearn: 20.5405700\ttotal: 880ms\tremaining: 25.4ms\n",
      "486:\tlearn: 20.5310305\ttotal: 882ms\tremaining: 23.5ms\n",
      "487:\tlearn: 20.5256557\ttotal: 884ms\tremaining: 21.7ms\n",
      "488:\tlearn: 20.5176866\ttotal: 885ms\tremaining: 19.9ms\n",
      "489:\tlearn: 20.5101691\ttotal: 887ms\tremaining: 18.1ms\n",
      "490:\tlearn: 20.5040265\ttotal: 888ms\tremaining: 16.3ms\n",
      "491:\tlearn: 20.4862157\ttotal: 890ms\tremaining: 14.5ms\n",
      "492:\tlearn: 20.4816818\ttotal: 892ms\tremaining: 12.7ms\n",
      "493:\tlearn: 20.4753388\ttotal: 893ms\tremaining: 10.9ms\n",
      "494:\tlearn: 20.4625647\ttotal: 895ms\tremaining: 9.04ms\n",
      "495:\tlearn: 20.4541979\ttotal: 897ms\tremaining: 7.23ms\n",
      "496:\tlearn: 20.4470303\ttotal: 898ms\tremaining: 5.42ms\n",
      "497:\tlearn: 20.4421175\ttotal: 900ms\tremaining: 3.62ms\n",
      "498:\tlearn: 20.4292181\ttotal: 902ms\tremaining: 1.81ms\n",
      "499:\tlearn: 20.4245280\ttotal: 904ms\tremaining: 0us\n",
      "Wall time: 991 ms\n"
     ]
    }
   ],
   "source": [
    "%%time\n",
    "start = time.time()\n",
    "\n",
    "cbr_best_model = CatBoostRegressor(eval_metric='RMSE', \n",
    "                                   iterations=500, learning_rate=0.03, \n",
    "                                   max_depth=5)\n",
    "cbr_best_model.fit(X_train, y_train)\n",
    "end = time.time()\n",
    "cbr_fit_time = end - start"
   ]
  },
  {
   "cell_type": "code",
   "execution_count": 40,
   "metadata": {
    "id": "F4fytY3wzK0G"
   },
   "outputs": [],
   "source": [
    "cbr_predict = cbr_best_model.predict(X_train)"
   ]
  },
  {
   "cell_type": "code",
   "execution_count": 41,
   "metadata": {
    "id": "VkkaojXRzKyb"
   },
   "outputs": [],
   "source": [
    "cbr_rmse = mean_squared_error(y_train, cbr_predict) ** 0.5"
   ]
  },
  {
   "cell_type": "markdown",
   "metadata": {
    "id": "i8MTO_sLOmiY"
   },
   "source": [
    "## Тестирование"
   ]
  },
  {
   "cell_type": "markdown",
   "metadata": {
    "id": "JJkcHrUb9Ehi"
   },
   "source": [
    "### Предсказания"
   ]
  },
  {
   "cell_type": "code",
   "execution_count": 42,
   "metadata": {
    "id": "NAE4TduHOmiZ"
   },
   "outputs": [],
   "source": [
    "# Linear Regression\n",
    "lr_predict = lr_model.predict(X_test)\n",
    "lr_rsme_test = mean_squared_error(y_test, lr_predict) ** 0.5\n",
    "# Extreme gradien boosting regressor\n",
    "xgbr_predict = xgbr_best_model.predict(X_test)\n",
    "xgbr_rsme_test = mean_squared_error(y_test, xgbr_predict) ** 0.5\n",
    "# light gradien boosting machine\n",
    "gbm_predict = gbm.predict(X_test)\n",
    "gbm_rsme_test = mean_squared_error(y_test, gbm_predict) ** 0.5\n",
    "# Cat Boost regressor\n",
    "cbr_predict = cbr_best_model.predict(X_test)\n",
    "cbr_rmse_test = mean_squared_error(y_test, cbr_predict) ** 0.5"
   ]
  },
  {
   "cell_type": "code",
   "execution_count": 43,
   "metadata": {
    "id": "Xr0M9l8A4CwA"
   },
   "outputs": [],
   "source": [
    "model_results = {\n",
    "                'RMSE test score': [lr_rsme_test, xgbr_rsme_test, gbm_rsme_test, cbr_rmse_test],\n",
    "                'RMSE train score': [lr_rsme, xgbr_rsme, gbm_rsme, cbr_rmse],\n",
    "                'Search time, sec': ['NaN', xgbr_search_time, gbm_search_time, cbr_search_time],\n",
    "                'Fit time, sec': [lr_fit_time, xgbr_fit_time, gbm_fit_time, cbr_fit_time]\n",
    "                 }"
   ]
  },
  {
   "cell_type": "code",
   "execution_count": 44,
   "metadata": {
    "colab": {
     "base_uri": "https://localhost:8080/",
     "height": 175
    },
    "id": "Wt16o5ej4CuJ",
    "outputId": "b1056c51-83d9-4c57-8629-cfcc0b282915",
    "scrolled": true
   },
   "outputs": [
    {
     "data": {
      "text/html": [
       "<div>\n",
       "<style scoped>\n",
       "    .dataframe tbody tr th:only-of-type {\n",
       "        vertical-align: middle;\n",
       "    }\n",
       "\n",
       "    .dataframe tbody tr th {\n",
       "        vertical-align: top;\n",
       "    }\n",
       "\n",
       "    .dataframe thead th {\n",
       "        text-align: right;\n",
       "    }\n",
       "</style>\n",
       "<table border=\"1\" class=\"dataframe\">\n",
       "  <thead>\n",
       "    <tr style=\"text-align: right;\">\n",
       "      <th></th>\n",
       "      <th>RMSE test score</th>\n",
       "      <th>RMSE train score</th>\n",
       "      <th>Search time, sec</th>\n",
       "      <th>Fit time, sec</th>\n",
       "    </tr>\n",
       "  </thead>\n",
       "  <tbody>\n",
       "    <tr>\n",
       "      <th>Linear Regression</th>\n",
       "      <td>52.679353</td>\n",
       "      <td>31.090388</td>\n",
       "      <td>NaN</td>\n",
       "      <td>0.000000</td>\n",
       "    </tr>\n",
       "    <tr>\n",
       "      <th>XGBoost</th>\n",
       "      <td>47.266744</td>\n",
       "      <td>16.761398</td>\n",
       "      <td>5.561425</td>\n",
       "      <td>0.135960</td>\n",
       "    </tr>\n",
       "    <tr>\n",
       "      <th>LightGBM</th>\n",
       "      <td>44.843525</td>\n",
       "      <td>8.704801</td>\n",
       "      <td>6.717372</td>\n",
       "      <td>0.275062</td>\n",
       "    </tr>\n",
       "    <tr>\n",
       "      <th>Catboost</th>\n",
       "      <td>45.371571</td>\n",
       "      <td>20.424528</td>\n",
       "      <td>10.622285</td>\n",
       "      <td>0.990959</td>\n",
       "    </tr>\n",
       "  </tbody>\n",
       "</table>\n",
       "</div>"
      ],
      "text/plain": [
       "                   RMSE test score  RMSE train score Search time, sec  \\\n",
       "Linear Regression        52.679353         31.090388              NaN   \n",
       "XGBoost                  47.266744         16.761398         5.561425   \n",
       "LightGBM                 44.843525          8.704801         6.717372   \n",
       "Catboost                 45.371571         20.424528        10.622285   \n",
       "\n",
       "                   Fit time, sec  \n",
       "Linear Regression       0.000000  \n",
       "XGBoost                 0.135960  \n",
       "LightGBM                0.275062  \n",
       "Catboost                0.990959  "
      ]
     },
     "execution_count": 44,
     "metadata": {},
     "output_type": "execute_result"
    }
   ],
   "source": [
    "results = pd.DataFrame(data=model_results, index=('Linear Regression', 'XGBoost', 'LightGBM', 'Catboost'))\n",
    "results"
   ]
  },
  {
   "cell_type": "markdown",
   "metadata": {
    "id": "spa_Jlvd9G7v"
   },
   "source": [
    "Проверка:"
   ]
  },
  {
   "cell_type": "code",
   "execution_count": 45,
   "metadata": {
    "id": "5TI-GFe54Coa"
   },
   "outputs": [],
   "source": [
    "predictions = pd.DataFrame(data = cbr_predict, index = y_test.index)"
   ]
  },
  {
   "cell_type": "code",
   "execution_count": 46,
   "metadata": {
    "colab": {
     "base_uri": "https://localhost:8080/",
     "height": 426
    },
    "id": "kkkqg0y_4Cmm",
    "outputId": "20004376-fda4-493a-9fdf-69954dd2b599"
   },
   "outputs": [
    {
     "data": {
      "image/png": "[encoded data removed]",
      "text/plain": [
       "<Figure size 1152x432 with 1 Axes>"
      ]
     },
     "metadata": {
      "needs_background": "light"
     },
     "output_type": "display_data"
    }
   ],
   "source": [
    "plt.figure(figsize=(16, 6))\n",
    "y_test['2018-08-13':'2018-08-31'].plot(ax=plt.gca())\n",
    "predictions['2018-07-13':'2018-08-31'].plot(ax=plt.gca())\n",
    "plt.title('Настоящие значения против предсказанных нами')\n",
    "plt.legend(['Настоящие значения', 'Предсказанные значения'])\n",
    "plt.grid(color='grey', axis='both', alpha=0.5)\n",
    "plt.show()"
   ]
  },
  {
   "cell_type": "markdown",
   "metadata": {
    "id": "slt9rj-H4CjA"
   },
   "source": [
    "Вывод"
   ]
  },
  {
   "cell_type": "markdown",
   "metadata": {
    "id": "O3MELQ3z9Wi9"
   },
   "source": [
    "- Модели обученные нами имеют тенденецию к переобучению, при этом на тестовой выборке RMSE получено согласно условию.\n",
    "- Лучшая RMSE показала модель Catbosot = 45.37.\n",
    "- Можель немного занижает прогноз в пиковые часы."
   ]
  }
 ],
 "metadata": {
  "ExecuteTimeLog": [
   {
    "duration": 114,
    "start_time": "2022-04-24T08:13:47.204Z"
   }
  ],
  "colab": {
   "collapsed_sections": [],
   "name": "project_12_predicting_taxi_orders.ipynb",
   "provenance": [],
   "toc_visible": true
  },
  "kernelspec": {
   "display_name": "Python 3 (ipykernel)",
   "language": "python",
   "name": "python3"
  },
  "language_info": {
   "codemirror_mode": {
    "name": "ipython",
    "version": 3
   },
   "file_extension": ".py",
   "mimetype": "text/x-python",
   "name": "python",
   "nbconvert_exporter": "python",
   "pygments_lexer": "ipython3",
   "version": "3.9.7"
  },
  "toc": {
   "base_numbering": 1,
   "nav_menu": {},
   "number_sections": true,
   "sideBar": true,
   "skip_h1_title": false,
   "title_cell": "Table of Contents",
   "title_sidebar": "Contents",
   "toc_cell": false,
   "toc_position": {},
   "toc_section_display": true,
   "toc_window_display": true
  }
 },
 "nbformat": 4,
 "nbformat_minor": 1
}
