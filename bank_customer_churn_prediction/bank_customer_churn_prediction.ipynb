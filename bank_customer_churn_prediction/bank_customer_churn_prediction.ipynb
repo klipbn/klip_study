{
  "cells": [
    {
      "cell_type": "markdown",
      "metadata": {
        "id": "teC3M8zP2_gU"
      },
      "source": [
        "# Отток клиентов"
      ]
    },
    {
      "cell_type": "markdown",
      "metadata": {
        "id": "WktYMbJ22_gV"
      },
      "source": [
        "Из «Бета-Банка» стали уходить клиенты. Каждый месяц. Немного, но заметно. Банковские маркетологи посчитали: сохранять текущих клиентов дешевле, чем привлекать новых.\n",
        "\n",
        "Нужно спрогнозировать, уйдёт клиент из банка в ближайшее время или нет. Вам предоставлены исторические данные о поведении клиентов и расторжении договоров с банком. \n",
        "\n",
        "Постройте модель с предельно большим значением *F1*-меры. Чтобы сдать проект успешно, нужно довести метрику до 0.59. Проверьте *F1*-меру на тестовой выборке самостоятельно.\n",
        "\n",
        "Дополнительно измеряйте *AUC-ROC*, сравнивайте её значение с *F1*-мерой.\n",
        "\n",
        "Источник данных: [https://www.kaggle.com/barelydedicated/bank-customer-churn-modeling](https://www.kaggle.com/barelydedicated/bank-customer-churn-modeling)"
      ]
    },
    {
      "cell_type": "code",
      "execution_count": null,
      "metadata": {
        "id": "jsE-eL8U3x2T"
      },
      "outputs": [],
      "source": [
        "import pandas as pd\n",
        "import numpy as np\n",
        "\n",
        "import matplotlib.pyplot as plt\n",
        "import seaborn as sns\n",
        "\n",
        "from sklearn.preprocessing import StandardScaler\n",
        "from sklearn.model_selection import train_test_split\n",
        "from sklearn.tree import DecisionTreeClassifier\n",
        "from sklearn.linear_model import LogisticRegression\n",
        "from sklearn.ensemble import RandomForestClassifier, RandomForestRegressor\n",
        "from sklearn.linear_model import LinearRegression\n",
        "from sklearn.neighbors import KNeighborsClassifier\n",
        "from sklearn.svm import SVC\n",
        "from sklearn.metrics import accuracy_score, f1_score, roc_auc_score, r2_score\n",
        "from sklearn.utils import shuffle\n",
        "from sklearn.metrics import roc_curve "
      ]
    },
    {
      "cell_type": "markdown",
      "metadata": {
        "id": "VOi_zfb32_gW"
      },
      "source": [
        "## Подготовка данных"
      ]
    },
    {
      "cell_type": "markdown",
      "metadata": {
        "id": "0P3v73dtKgda"
      },
      "source": [
        "Прочитаем данные:"
      ]
    },
    {
      "cell_type": "code",
      "execution_count": null,
      "metadata": {
        "id": "HzrCTnGH2_gW"
      },
      "outputs": [],
      "source": [
        "df = pd.read_csv('https://code.s3.yandex.net/datasets/Churn.csv')"
      ]
    },
    {
      "cell_type": "code",
      "execution_count": null,
      "metadata": {
        "colab": {
          "base_uri": "https://localhost:8080/",
          "height": 206
        },
        "id": "_iQhlIah36jM",
        "outputId": "0efd8839-56e5-4d0f-8513-eb164387b080"
      },
      "outputs": [
        {
          "data": {
            "text/html": [
              "<div>\n",
              "<style scoped>\n",
              "    .dataframe tbody tr th:only-of-type {\n",
              "        vertical-align: middle;\n",
              "    }\n",
              "\n",
              "    .dataframe tbody tr th {\n",
              "        vertical-align: top;\n",
              "    }\n",
              "\n",
              "    .dataframe thead th {\n",
              "        text-align: right;\n",
              "    }\n",
              "</style>\n",
              "<table border=\"1\" class=\"dataframe\">\n",
              "  <thead>\n",
              "    <tr style=\"text-align: right;\">\n",
              "      <th></th>\n",
              "      <th>RowNumber</th>\n",
              "      <th>CustomerId</th>\n",
              "      <th>Surname</th>\n",
              "      <th>CreditScore</th>\n",
              "      <th>Geography</th>\n",
              "      <th>Gender</th>\n",
              "      <th>Age</th>\n",
              "      <th>Tenure</th>\n",
              "      <th>Balance</th>\n",
              "      <th>NumOfProducts</th>\n",
              "      <th>HasCrCard</th>\n",
              "      <th>IsActiveMember</th>\n",
              "      <th>EstimatedSalary</th>\n",
              "      <th>Exited</th>\n",
              "    </tr>\n",
              "  </thead>\n",
              "  <tbody>\n",
              "    <tr>\n",
              "      <td>0</td>\n",
              "      <td>1</td>\n",
              "      <td>15634602</td>\n",
              "      <td>Hargrave</td>\n",
              "      <td>619</td>\n",
              "      <td>France</td>\n",
              "      <td>Female</td>\n",
              "      <td>42</td>\n",
              "      <td>2.0</td>\n",
              "      <td>0.00</td>\n",
              "      <td>1</td>\n",
              "      <td>1</td>\n",
              "      <td>1</td>\n",
              "      <td>101348.88</td>\n",
              "      <td>1</td>\n",
              "    </tr>\n",
              "    <tr>\n",
              "      <td>1</td>\n",
              "      <td>2</td>\n",
              "      <td>15647311</td>\n",
              "      <td>Hill</td>\n",
              "      <td>608</td>\n",
              "      <td>Spain</td>\n",
              "      <td>Female</td>\n",
              "      <td>41</td>\n",
              "      <td>1.0</td>\n",
              "      <td>83807.86</td>\n",
              "      <td>1</td>\n",
              "      <td>0</td>\n",
              "      <td>1</td>\n",
              "      <td>112542.58</td>\n",
              "      <td>0</td>\n",
              "    </tr>\n",
              "    <tr>\n",
              "      <td>2</td>\n",
              "      <td>3</td>\n",
              "      <td>15619304</td>\n",
              "      <td>Onio</td>\n",
              "      <td>502</td>\n",
              "      <td>France</td>\n",
              "      <td>Female</td>\n",
              "      <td>42</td>\n",
              "      <td>8.0</td>\n",
              "      <td>159660.80</td>\n",
              "      <td>3</td>\n",
              "      <td>1</td>\n",
              "      <td>0</td>\n",
              "      <td>113931.57</td>\n",
              "      <td>1</td>\n",
              "    </tr>\n",
              "    <tr>\n",
              "      <td>3</td>\n",
              "      <td>4</td>\n",
              "      <td>15701354</td>\n",
              "      <td>Boni</td>\n",
              "      <td>699</td>\n",
              "      <td>France</td>\n",
              "      <td>Female</td>\n",
              "      <td>39</td>\n",
              "      <td>1.0</td>\n",
              "      <td>0.00</td>\n",
              "      <td>2</td>\n",
              "      <td>0</td>\n",
              "      <td>0</td>\n",
              "      <td>93826.63</td>\n",
              "      <td>0</td>\n",
              "    </tr>\n",
              "    <tr>\n",
              "      <td>4</td>\n",
              "      <td>5</td>\n",
              "      <td>15737888</td>\n",
              "      <td>Mitchell</td>\n",
              "      <td>850</td>\n",
              "      <td>Spain</td>\n",
              "      <td>Female</td>\n",
              "      <td>43</td>\n",
              "      <td>2.0</td>\n",
              "      <td>125510.82</td>\n",
              "      <td>1</td>\n",
              "      <td>1</td>\n",
              "      <td>1</td>\n",
              "      <td>79084.10</td>\n",
              "      <td>0</td>\n",
              "    </tr>\n",
              "  </tbody>\n",
              "</table>\n",
              "</div>"
            ],
            "text/plain": [
              "   RowNumber  CustomerId   Surname  CreditScore Geography  Gender  Age  \\\n",
              "0          1    15634602  Hargrave          619    France  Female   42   \n",
              "1          2    15647311      Hill          608     Spain  Female   41   \n",
              "2          3    15619304      Onio          502    France  Female   42   \n",
              "3          4    15701354      Boni          699    France  Female   39   \n",
              "4          5    15737888  Mitchell          850     Spain  Female   43   \n",
              "\n",
              "   Tenure    Balance  NumOfProducts  HasCrCard  IsActiveMember  \\\n",
              "0     2.0       0.00              1          1               1   \n",
              "1     1.0   83807.86              1          0               1   \n",
              "2     8.0  159660.80              3          1               0   \n",
              "3     1.0       0.00              2          0               0   \n",
              "4     2.0  125510.82              1          1               1   \n",
              "\n",
              "   EstimatedSalary  Exited  \n",
              "0        101348.88       1  \n",
              "1        112542.58       0  \n",
              "2        113931.57       1  \n",
              "3         93826.63       0  \n",
              "4         79084.10       0  "
            ]
          },
          "execution_count": 3,
          "metadata": {},
          "output_type": "execute_result"
        }
      ],
      "source": [
        "df.head()"
      ]
    },
    {
      "cell_type": "markdown",
      "metadata": {
        "id": "EZDiHjs837NB"
      },
      "source": [
        "**Признаки:**  \n",
        "- `RowNumber` — индекс строки в данных  \n",
        "- `CustomerId` — уникальный идентификатор клиента  \n",
        "- `Surname` — фамилия  \n",
        "- `CreditScore` — кредитный рейтинг  \n",
        "- `Geography` — страна проживания  \n",
        "- `Gender` — пол  \n",
        "- `Age` — возраст  \n",
        "- `Tenure` — сколько лет человек является клиентом банка  \n",
        "- `Balance` — баланс на счёте  \n",
        "- `NumOfProducts` — количество продуктов банка, используемых клиентом  \n",
        "- `HasCrCard` — наличие кредитной карты  \n",
        "- `IsActiveMember` — активность клиента  \n",
        "- `EstimatedSalary` — предполагаемая зарплата  \n",
        "\n",
        "**Целевой признак:**  \n",
        "- `Exited` — факт ухода клиента"
      ]
    },
    {
      "cell_type": "code",
      "execution_count": null,
      "metadata": {
        "colab": {
          "base_uri": "https://localhost:8080/"
        },
        "id": "W7C1znjf37K8",
        "outputId": "3843fac3-d931-4c05-e459-cd64baa4d1fd",
        "scrolled": true
      },
      "outputs": [
        {
          "name": "stdout",
          "output_type": "stream",
          "text": [
            "<class 'pandas.core.frame.DataFrame'>\n",
            "RangeIndex: 10000 entries, 0 to 9999\n",
            "Data columns (total 14 columns):\n",
            "RowNumber          10000 non-null int64\n",
            "CustomerId         10000 non-null int64\n",
            "Surname            10000 non-null object\n",
            "CreditScore        10000 non-null int64\n",
            "Geography          10000 non-null object\n",
            "Gender             10000 non-null object\n",
            "Age                10000 non-null int64\n",
            "Tenure             9091 non-null float64\n",
            "Balance            10000 non-null float64\n",
            "NumOfProducts      10000 non-null int64\n",
            "HasCrCard          10000 non-null int64\n",
            "IsActiveMember     10000 non-null int64\n",
            "EstimatedSalary    10000 non-null float64\n",
            "Exited             10000 non-null int64\n",
            "dtypes: float64(3), int64(8), object(3)\n",
            "memory usage: 1.1+ MB\n"
          ]
        }
      ],
      "source": [
        "df.info()"
      ]
    },
    {
      "cell_type": "markdown",
      "metadata": {
        "id": "A6kD3QR5K1Km"
      },
      "source": [
        "Заменим пропущенные значения в признаке `Tenure` медианным значением:"
      ]
    },
    {
      "cell_type": "code",
      "execution_count": null,
      "metadata": {
        "id": "fvMG8-Fc37JN"
      },
      "outputs": [],
      "source": [
        "df['Tenure'] = df['Tenure'].fillna(df['Tenure'].median())"
      ]
    },
    {
      "cell_type": "markdown",
      "metadata": {
        "id": "2x85Mx9tK-lz"
      },
      "source": [
        "Удалим лишние признаки, которые явно не влияют на предсказания:"
      ]
    },
    {
      "cell_type": "code",
      "execution_count": null,
      "metadata": {
        "id": "K8U23-DM37GB"
      },
      "outputs": [],
      "source": [
        "df = df.drop(['RowNumber', 'CustomerId', 'Surname'], axis=1)"
      ]
    },
    {
      "cell_type": "markdown",
      "metadata": {
        "id": "ayVIaEDJLFsC"
      },
      "source": [
        "Преобразуем данные из текста в числовой тип используя прямое кодирование:"
      ]
    },
    {
      "cell_type": "code",
      "execution_count": null,
      "metadata": {
        "colab": {
          "base_uri": "https://localhost:8080/",
          "height": 206
        },
        "id": "GLxi_OL337EG",
        "outputId": "8d74f1ab-d0bd-43bb-98c2-b82c35e61911",
        "scrolled": true
      },
      "outputs": [
        {
          "data": {
            "text/html": [
              "<div>\n",
              "<style scoped>\n",
              "    .dataframe tbody tr th:only-of-type {\n",
              "        vertical-align: middle;\n",
              "    }\n",
              "\n",
              "    .dataframe tbody tr th {\n",
              "        vertical-align: top;\n",
              "    }\n",
              "\n",
              "    .dataframe thead th {\n",
              "        text-align: right;\n",
              "    }\n",
              "</style>\n",
              "<table border=\"1\" class=\"dataframe\">\n",
              "  <thead>\n",
              "    <tr style=\"text-align: right;\">\n",
              "      <th></th>\n",
              "      <th>CreditScore</th>\n",
              "      <th>Age</th>\n",
              "      <th>Tenure</th>\n",
              "      <th>Balance</th>\n",
              "      <th>NumOfProducts</th>\n",
              "      <th>HasCrCard</th>\n",
              "      <th>IsActiveMember</th>\n",
              "      <th>EstimatedSalary</th>\n",
              "      <th>Exited</th>\n",
              "      <th>Geography_Germany</th>\n",
              "      <th>Geography_Spain</th>\n",
              "      <th>Gender_Male</th>\n",
              "    </tr>\n",
              "  </thead>\n",
              "  <tbody>\n",
              "    <tr>\n",
              "      <td>0</td>\n",
              "      <td>619</td>\n",
              "      <td>42</td>\n",
              "      <td>2.0</td>\n",
              "      <td>0.00</td>\n",
              "      <td>1</td>\n",
              "      <td>1</td>\n",
              "      <td>1</td>\n",
              "      <td>101348.88</td>\n",
              "      <td>1</td>\n",
              "      <td>0</td>\n",
              "      <td>0</td>\n",
              "      <td>0</td>\n",
              "    </tr>\n",
              "    <tr>\n",
              "      <td>1</td>\n",
              "      <td>608</td>\n",
              "      <td>41</td>\n",
              "      <td>1.0</td>\n",
              "      <td>83807.86</td>\n",
              "      <td>1</td>\n",
              "      <td>0</td>\n",
              "      <td>1</td>\n",
              "      <td>112542.58</td>\n",
              "      <td>0</td>\n",
              "      <td>0</td>\n",
              "      <td>1</td>\n",
              "      <td>0</td>\n",
              "    </tr>\n",
              "    <tr>\n",
              "      <td>2</td>\n",
              "      <td>502</td>\n",
              "      <td>42</td>\n",
              "      <td>8.0</td>\n",
              "      <td>159660.80</td>\n",
              "      <td>3</td>\n",
              "      <td>1</td>\n",
              "      <td>0</td>\n",
              "      <td>113931.57</td>\n",
              "      <td>1</td>\n",
              "      <td>0</td>\n",
              "      <td>0</td>\n",
              "      <td>0</td>\n",
              "    </tr>\n",
              "    <tr>\n",
              "      <td>3</td>\n",
              "      <td>699</td>\n",
              "      <td>39</td>\n",
              "      <td>1.0</td>\n",
              "      <td>0.00</td>\n",
              "      <td>2</td>\n",
              "      <td>0</td>\n",
              "      <td>0</td>\n",
              "      <td>93826.63</td>\n",
              "      <td>0</td>\n",
              "      <td>0</td>\n",
              "      <td>0</td>\n",
              "      <td>0</td>\n",
              "    </tr>\n",
              "    <tr>\n",
              "      <td>4</td>\n",
              "      <td>850</td>\n",
              "      <td>43</td>\n",
              "      <td>2.0</td>\n",
              "      <td>125510.82</td>\n",
              "      <td>1</td>\n",
              "      <td>1</td>\n",
              "      <td>1</td>\n",
              "      <td>79084.10</td>\n",
              "      <td>0</td>\n",
              "      <td>0</td>\n",
              "      <td>1</td>\n",
              "      <td>0</td>\n",
              "    </tr>\n",
              "  </tbody>\n",
              "</table>\n",
              "</div>"
            ],
            "text/plain": [
              "   CreditScore  Age  Tenure    Balance  NumOfProducts  HasCrCard  \\\n",
              "0          619   42     2.0       0.00              1          1   \n",
              "1          608   41     1.0   83807.86              1          0   \n",
              "2          502   42     8.0  159660.80              3          1   \n",
              "3          699   39     1.0       0.00              2          0   \n",
              "4          850   43     2.0  125510.82              1          1   \n",
              "\n",
              "   IsActiveMember  EstimatedSalary  Exited  Geography_Germany  \\\n",
              "0               1        101348.88       1                  0   \n",
              "1               1        112542.58       0                  0   \n",
              "2               0        113931.57       1                  0   \n",
              "3               0         93826.63       0                  0   \n",
              "4               1         79084.10       0                  0   \n",
              "\n",
              "   Geography_Spain  Gender_Male  \n",
              "0                0            0  \n",
              "1                1            0  \n",
              "2                0            0  \n",
              "3                0            0  \n",
              "4                1            0  "
            ]
          },
          "execution_count": 7,
          "metadata": {},
          "output_type": "execute_result"
        }
      ],
      "source": [
        "df = pd.get_dummies(df, drop_first=True)\n",
        "df.head()"
      ]
    },
    {
      "cell_type": "markdown",
      "metadata": {
        "id": "YwkS_NFXLbbl"
      },
      "source": [
        "Проверим, есть ли сильная зависимость между признаками:"
      ]
    },
    {
      "cell_type": "code",
      "execution_count": null,
      "metadata": {
        "colab": {
          "base_uri": "https://localhost:8080/",
          "height": 426
        },
        "id": "dWMsx7kt37CH",
        "outputId": "c2e2a5e6-05b2-4400-cd18-2b7349ad9438"
      },
      "outputs": [
        {
          "data": {
            "text/html": [
              "<div>\n",
              "<style scoped>\n",
              "    .dataframe tbody tr th:only-of-type {\n",
              "        vertical-align: middle;\n",
              "    }\n",
              "\n",
              "    .dataframe tbody tr th {\n",
              "        vertical-align: top;\n",
              "    }\n",
              "\n",
              "    .dataframe thead th {\n",
              "        text-align: right;\n",
              "    }\n",
              "</style>\n",
              "<table border=\"1\" class=\"dataframe\">\n",
              "  <thead>\n",
              "    <tr style=\"text-align: right;\">\n",
              "      <th></th>\n",
              "      <th>CreditScore</th>\n",
              "      <th>Age</th>\n",
              "      <th>Tenure</th>\n",
              "      <th>Balance</th>\n",
              "      <th>NumOfProducts</th>\n",
              "      <th>HasCrCard</th>\n",
              "      <th>IsActiveMember</th>\n",
              "      <th>EstimatedSalary</th>\n",
              "      <th>Exited</th>\n",
              "      <th>Geography_Germany</th>\n",
              "      <th>Geography_Spain</th>\n",
              "      <th>Gender_Male</th>\n",
              "    </tr>\n",
              "  </thead>\n",
              "  <tbody>\n",
              "    <tr>\n",
              "      <td>CreditScore</td>\n",
              "      <td>1.000000</td>\n",
              "      <td>-0.003965</td>\n",
              "      <td>-0.000060</td>\n",
              "      <td>0.006268</td>\n",
              "      <td>0.012238</td>\n",
              "      <td>-0.005458</td>\n",
              "      <td>0.025651</td>\n",
              "      <td>-0.001384</td>\n",
              "      <td>-0.027094</td>\n",
              "      <td>0.005538</td>\n",
              "      <td>0.004780</td>\n",
              "      <td>-0.002857</td>\n",
              "    </tr>\n",
              "    <tr>\n",
              "      <td>Age</td>\n",
              "      <td>-0.003965</td>\n",
              "      <td>1.000000</td>\n",
              "      <td>-0.012606</td>\n",
              "      <td>0.028308</td>\n",
              "      <td>-0.030680</td>\n",
              "      <td>-0.011721</td>\n",
              "      <td>0.085472</td>\n",
              "      <td>-0.007201</td>\n",
              "      <td>0.285323</td>\n",
              "      <td>0.046897</td>\n",
              "      <td>-0.001685</td>\n",
              "      <td>-0.027544</td>\n",
              "    </tr>\n",
              "    <tr>\n",
              "      <td>Tenure</td>\n",
              "      <td>-0.000060</td>\n",
              "      <td>-0.012606</td>\n",
              "      <td>1.000000</td>\n",
              "      <td>-0.007535</td>\n",
              "      <td>0.011409</td>\n",
              "      <td>0.025979</td>\n",
              "      <td>-0.030681</td>\n",
              "      <td>0.010049</td>\n",
              "      <td>-0.015989</td>\n",
              "      <td>-0.003153</td>\n",
              "      <td>0.000772</td>\n",
              "      <td>0.012041</td>\n",
              "    </tr>\n",
              "    <tr>\n",
              "      <td>Balance</td>\n",
              "      <td>0.006268</td>\n",
              "      <td>0.028308</td>\n",
              "      <td>-0.007535</td>\n",
              "      <td>1.000000</td>\n",
              "      <td>-0.304180</td>\n",
              "      <td>-0.014858</td>\n",
              "      <td>-0.010084</td>\n",
              "      <td>0.012797</td>\n",
              "      <td>0.118533</td>\n",
              "      <td>0.401110</td>\n",
              "      <td>-0.134892</td>\n",
              "      <td>0.012087</td>\n",
              "    </tr>\n",
              "    <tr>\n",
              "      <td>NumOfProducts</td>\n",
              "      <td>0.012238</td>\n",
              "      <td>-0.030680</td>\n",
              "      <td>0.011409</td>\n",
              "      <td>-0.304180</td>\n",
              "      <td>1.000000</td>\n",
              "      <td>0.003183</td>\n",
              "      <td>0.009612</td>\n",
              "      <td>0.014204</td>\n",
              "      <td>-0.047820</td>\n",
              "      <td>-0.010419</td>\n",
              "      <td>0.009039</td>\n",
              "      <td>-0.021859</td>\n",
              "    </tr>\n",
              "    <tr>\n",
              "      <td>HasCrCard</td>\n",
              "      <td>-0.005458</td>\n",
              "      <td>-0.011721</td>\n",
              "      <td>0.025979</td>\n",
              "      <td>-0.014858</td>\n",
              "      <td>0.003183</td>\n",
              "      <td>1.000000</td>\n",
              "      <td>-0.011866</td>\n",
              "      <td>-0.009933</td>\n",
              "      <td>-0.007138</td>\n",
              "      <td>0.010577</td>\n",
              "      <td>-0.013480</td>\n",
              "      <td>0.005766</td>\n",
              "    </tr>\n",
              "    <tr>\n",
              "      <td>IsActiveMember</td>\n",
              "      <td>0.025651</td>\n",
              "      <td>0.085472</td>\n",
              "      <td>-0.030681</td>\n",
              "      <td>-0.010084</td>\n",
              "      <td>0.009612</td>\n",
              "      <td>-0.011866</td>\n",
              "      <td>1.000000</td>\n",
              "      <td>-0.011421</td>\n",
              "      <td>-0.156128</td>\n",
              "      <td>-0.020486</td>\n",
              "      <td>0.016732</td>\n",
              "      <td>0.022544</td>\n",
              "    </tr>\n",
              "    <tr>\n",
              "      <td>EstimatedSalary</td>\n",
              "      <td>-0.001384</td>\n",
              "      <td>-0.007201</td>\n",
              "      <td>0.010049</td>\n",
              "      <td>0.012797</td>\n",
              "      <td>0.014204</td>\n",
              "      <td>-0.009933</td>\n",
              "      <td>-0.011421</td>\n",
              "      <td>1.000000</td>\n",
              "      <td>0.012097</td>\n",
              "      <td>0.010297</td>\n",
              "      <td>-0.006482</td>\n",
              "      <td>-0.008112</td>\n",
              "    </tr>\n",
              "    <tr>\n",
              "      <td>Exited</td>\n",
              "      <td>-0.027094</td>\n",
              "      <td>0.285323</td>\n",
              "      <td>-0.015989</td>\n",
              "      <td>0.118533</td>\n",
              "      <td>-0.047820</td>\n",
              "      <td>-0.007138</td>\n",
              "      <td>-0.156128</td>\n",
              "      <td>0.012097</td>\n",
              "      <td>1.000000</td>\n",
              "      <td>0.173488</td>\n",
              "      <td>-0.052667</td>\n",
              "      <td>-0.106512</td>\n",
              "    </tr>\n",
              "    <tr>\n",
              "      <td>Geography_Germany</td>\n",
              "      <td>0.005538</td>\n",
              "      <td>0.046897</td>\n",
              "      <td>-0.003153</td>\n",
              "      <td>0.401110</td>\n",
              "      <td>-0.010419</td>\n",
              "      <td>0.010577</td>\n",
              "      <td>-0.020486</td>\n",
              "      <td>0.010297</td>\n",
              "      <td>0.173488</td>\n",
              "      <td>1.000000</td>\n",
              "      <td>-0.332084</td>\n",
              "      <td>-0.024628</td>\n",
              "    </tr>\n",
              "    <tr>\n",
              "      <td>Geography_Spain</td>\n",
              "      <td>0.004780</td>\n",
              "      <td>-0.001685</td>\n",
              "      <td>0.000772</td>\n",
              "      <td>-0.134892</td>\n",
              "      <td>0.009039</td>\n",
              "      <td>-0.013480</td>\n",
              "      <td>0.016732</td>\n",
              "      <td>-0.006482</td>\n",
              "      <td>-0.052667</td>\n",
              "      <td>-0.332084</td>\n",
              "      <td>1.000000</td>\n",
              "      <td>0.016889</td>\n",
              "    </tr>\n",
              "    <tr>\n",
              "      <td>Gender_Male</td>\n",
              "      <td>-0.002857</td>\n",
              "      <td>-0.027544</td>\n",
              "      <td>0.012041</td>\n",
              "      <td>0.012087</td>\n",
              "      <td>-0.021859</td>\n",
              "      <td>0.005766</td>\n",
              "      <td>0.022544</td>\n",
              "      <td>-0.008112</td>\n",
              "      <td>-0.106512</td>\n",
              "      <td>-0.024628</td>\n",
              "      <td>0.016889</td>\n",
              "      <td>1.000000</td>\n",
              "    </tr>\n",
              "  </tbody>\n",
              "</table>\n",
              "</div>"
            ],
            "text/plain": [
              "                   CreditScore       Age    Tenure   Balance  NumOfProducts  \\\n",
              "CreditScore           1.000000 -0.003965 -0.000060  0.006268       0.012238   \n",
              "Age                  -0.003965  1.000000 -0.012606  0.028308      -0.030680   \n",
              "Tenure               -0.000060 -0.012606  1.000000 -0.007535       0.011409   \n",
              "Balance               0.006268  0.028308 -0.007535  1.000000      -0.304180   \n",
              "NumOfProducts         0.012238 -0.030680  0.011409 -0.304180       1.000000   \n",
              "HasCrCard            -0.005458 -0.011721  0.025979 -0.014858       0.003183   \n",
              "IsActiveMember        0.025651  0.085472 -0.030681 -0.010084       0.009612   \n",
              "EstimatedSalary      -0.001384 -0.007201  0.010049  0.012797       0.014204   \n",
              "Exited               -0.027094  0.285323 -0.015989  0.118533      -0.047820   \n",
              "Geography_Germany     0.005538  0.046897 -0.003153  0.401110      -0.010419   \n",
              "Geography_Spain       0.004780 -0.001685  0.000772 -0.134892       0.009039   \n",
              "Gender_Male          -0.002857 -0.027544  0.012041  0.012087      -0.021859   \n",
              "\n",
              "                   HasCrCard  IsActiveMember  EstimatedSalary    Exited  \\\n",
              "CreditScore        -0.005458        0.025651        -0.001384 -0.027094   \n",
              "Age                -0.011721        0.085472        -0.007201  0.285323   \n",
              "Tenure              0.025979       -0.030681         0.010049 -0.015989   \n",
              "Balance            -0.014858       -0.010084         0.012797  0.118533   \n",
              "NumOfProducts       0.003183        0.009612         0.014204 -0.047820   \n",
              "HasCrCard           1.000000       -0.011866        -0.009933 -0.007138   \n",
              "IsActiveMember     -0.011866        1.000000        -0.011421 -0.156128   \n",
              "EstimatedSalary    -0.009933       -0.011421         1.000000  0.012097   \n",
              "Exited             -0.007138       -0.156128         0.012097  1.000000   \n",
              "Geography_Germany   0.010577       -0.020486         0.010297  0.173488   \n",
              "Geography_Spain    -0.013480        0.016732        -0.006482 -0.052667   \n",
              "Gender_Male         0.005766        0.022544        -0.008112 -0.106512   \n",
              "\n",
              "                   Geography_Germany  Geography_Spain  Gender_Male  \n",
              "CreditScore                 0.005538         0.004780    -0.002857  \n",
              "Age                         0.046897        -0.001685    -0.027544  \n",
              "Tenure                     -0.003153         0.000772     0.012041  \n",
              "Balance                     0.401110        -0.134892     0.012087  \n",
              "NumOfProducts              -0.010419         0.009039    -0.021859  \n",
              "HasCrCard                   0.010577        -0.013480     0.005766  \n",
              "IsActiveMember             -0.020486         0.016732     0.022544  \n",
              "EstimatedSalary             0.010297        -0.006482    -0.008112  \n",
              "Exited                      0.173488        -0.052667    -0.106512  \n",
              "Geography_Germany           1.000000        -0.332084    -0.024628  \n",
              "Geography_Spain            -0.332084         1.000000     0.016889  \n",
              "Gender_Male                -0.024628         0.016889     1.000000  "
            ]
          },
          "execution_count": 8,
          "metadata": {},
          "output_type": "execute_result"
        }
      ],
      "source": [
        "df.corr()"
      ]
    },
    {
      "cell_type": "markdown",
      "metadata": {
        "id": "J8UY74AsLfNU"
      },
      "source": [
        "Откровенно зависимых признаков нет."
      ]
    },
    {
      "cell_type": "markdown",
      "metadata": {
        "id": "cNC6dSJc2_gX"
      },
      "source": [
        "## Исследование задачи"
      ]
    },
    {
      "cell_type": "markdown",
      "metadata": {
        "id": "EKppfZkWTo2m"
      },
      "source": [
        "### Разбиение данных на выборки"
      ]
    },
    {
      "cell_type": "markdown",
      "metadata": {
        "id": "ahlvqBSr2_gY"
      },
      "source": [
        "Разобьем данные: 60% - train set, 20% - validation set, 20% - test set:"
      ]
    },
    {
      "cell_type": "code",
      "execution_count": null,
      "metadata": {
        "id": "xhR2urxMDtrz"
      },
      "outputs": [],
      "source": [
        "target = df['Exited']\n",
        "features = df.drop(['Exited'], axis=1)"
      ]
    },
    {
      "cell_type": "code",
      "execution_count": null,
      "metadata": {
        "id": "B5QDmx3sDtp5"
      },
      "outputs": [],
      "source": [
        "features_train, features, target_train, target = train_test_split(features, target, test_size=.4, random_state=12345, stratify=target)\n",
        "features_valid, features_test, target_valid, target_test = train_test_split(features, target, test_size=.5, random_state=12345, stratify=target)"
      ]
    },
    {
      "cell_type": "code",
      "execution_count": null,
      "metadata": {
        "colab": {
          "base_uri": "https://localhost:8080/"
        },
        "id": "ZUCxqkyPDtoc",
        "outputId": "b70c5535-343b-431b-96f0-ebb06d124025",
        "scrolled": true
      },
      "outputs": [
        {
          "name": "stdout",
          "output_type": "stream",
          "text": [
            "(6000, 11) (2000, 11) (2000, 11)\n",
            "(6000,) (2000,) (2000,)\n"
          ]
        }
      ],
      "source": [
        "print(features_train.shape, features_valid.shape, features_test.shape)\n",
        "print(target_train.shape, target_valid.shape, target_test.shape)"
      ]
    },
    {
      "cell_type": "markdown",
      "metadata": {
        "id": "lwaL-LyJTtzN"
      },
      "source": [
        "### Масштабирование"
      ]
    },
    {
      "cell_type": "markdown",
      "metadata": {
        "id": "Us9IzsuLDtl7"
      },
      "source": [
        "Масштабируем признаки (стандартизируем):"
      ]
    },
    {
      "cell_type": "code",
      "execution_count": null,
      "metadata": {
        "colab": {
          "base_uri": "https://localhost:8080/",
          "height": 424
        },
        "id": "I5qxnxnQDtkH",
        "outputId": "688149c3-38cc-4ee2-91d2-e28cf0d69634",
        "scrolled": true
      },
      "outputs": [
        {
          "data": {
            "text/html": [
              "<div>\n",
              "<style scoped>\n",
              "    .dataframe tbody tr th:only-of-type {\n",
              "        vertical-align: middle;\n",
              "    }\n",
              "\n",
              "    .dataframe tbody tr th {\n",
              "        vertical-align: top;\n",
              "    }\n",
              "\n",
              "    .dataframe thead th {\n",
              "        text-align: right;\n",
              "    }\n",
              "</style>\n",
              "<table border=\"1\" class=\"dataframe\">\n",
              "  <thead>\n",
              "    <tr style=\"text-align: right;\">\n",
              "      <th></th>\n",
              "      <th>CreditScore</th>\n",
              "      <th>Age</th>\n",
              "      <th>Tenure</th>\n",
              "      <th>Balance</th>\n",
              "      <th>NumOfProducts</th>\n",
              "      <th>HasCrCard</th>\n",
              "      <th>IsActiveMember</th>\n",
              "      <th>EstimatedSalary</th>\n",
              "      <th>Geography_Germany</th>\n",
              "      <th>Geography_Spain</th>\n",
              "      <th>Gender_Male</th>\n",
              "    </tr>\n",
              "  </thead>\n",
              "  <tbody>\n",
              "    <tr>\n",
              "      <td>2837</td>\n",
              "      <td>-1.040434</td>\n",
              "      <td>0.953312</td>\n",
              "      <td>0.360600</td>\n",
              "      <td>0.774657</td>\n",
              "      <td>-0.914708</td>\n",
              "      <td>0</td>\n",
              "      <td>1</td>\n",
              "      <td>-0.119110</td>\n",
              "      <td>1</td>\n",
              "      <td>0</td>\n",
              "      <td>0</td>\n",
              "    </tr>\n",
              "    <tr>\n",
              "      <td>9925</td>\n",
              "      <td>0.454006</td>\n",
              "      <td>-0.095244</td>\n",
              "      <td>-0.002786</td>\n",
              "      <td>1.910540</td>\n",
              "      <td>-0.914708</td>\n",
              "      <td>1</td>\n",
              "      <td>1</td>\n",
              "      <td>-0.258658</td>\n",
              "      <td>0</td>\n",
              "      <td>0</td>\n",
              "      <td>0</td>\n",
              "    </tr>\n",
              "    <tr>\n",
              "      <td>8746</td>\n",
              "      <td>0.103585</td>\n",
              "      <td>-0.476537</td>\n",
              "      <td>1.087371</td>\n",
              "      <td>0.481608</td>\n",
              "      <td>0.820981</td>\n",
              "      <td>0</td>\n",
              "      <td>1</td>\n",
              "      <td>1.422836</td>\n",
              "      <td>0</td>\n",
              "      <td>0</td>\n",
              "      <td>1</td>\n",
              "    </tr>\n",
              "    <tr>\n",
              "      <td>660</td>\n",
              "      <td>-0.184996</td>\n",
              "      <td>0.190726</td>\n",
              "      <td>-0.002786</td>\n",
              "      <td>0.088439</td>\n",
              "      <td>-0.914708</td>\n",
              "      <td>1</td>\n",
              "      <td>1</td>\n",
              "      <td>-1.160427</td>\n",
              "      <td>1</td>\n",
              "      <td>0</td>\n",
              "      <td>0</td>\n",
              "    </tr>\n",
              "    <tr>\n",
              "      <td>3610</td>\n",
              "      <td>-0.720933</td>\n",
              "      <td>1.620574</td>\n",
              "      <td>-1.456328</td>\n",
              "      <td>0.879129</td>\n",
              "      <td>-0.914708</td>\n",
              "      <td>1</td>\n",
              "      <td>0</td>\n",
              "      <td>0.113236</td>\n",
              "      <td>0</td>\n",
              "      <td>0</td>\n",
              "      <td>0</td>\n",
              "    </tr>\n",
              "    <tr>\n",
              "      <td>...</td>\n",
              "      <td>...</td>\n",
              "      <td>...</td>\n",
              "      <td>...</td>\n",
              "      <td>...</td>\n",
              "      <td>...</td>\n",
              "      <td>...</td>\n",
              "      <td>...</td>\n",
              "      <td>...</td>\n",
              "      <td>...</td>\n",
              "      <td>...</td>\n",
              "      <td>...</td>\n",
              "    </tr>\n",
              "    <tr>\n",
              "      <td>6172</td>\n",
              "      <td>-0.844611</td>\n",
              "      <td>0.381372</td>\n",
              "      <td>-0.002786</td>\n",
              "      <td>0.180068</td>\n",
              "      <td>4.292357</td>\n",
              "      <td>1</td>\n",
              "      <td>1</td>\n",
              "      <td>0.117350</td>\n",
              "      <td>1</td>\n",
              "      <td>0</td>\n",
              "      <td>1</td>\n",
              "    </tr>\n",
              "    <tr>\n",
              "      <td>2360</td>\n",
              "      <td>-1.359935</td>\n",
              "      <td>0.190726</td>\n",
              "      <td>-0.002786</td>\n",
              "      <td>0.547724</td>\n",
              "      <td>-0.914708</td>\n",
              "      <td>1</td>\n",
              "      <td>0</td>\n",
              "      <td>-0.192524</td>\n",
              "      <td>1</td>\n",
              "      <td>0</td>\n",
              "      <td>0</td>\n",
              "    </tr>\n",
              "    <tr>\n",
              "      <td>4499</td>\n",
              "      <td>-1.174418</td>\n",
              "      <td>0.476696</td>\n",
              "      <td>-0.366172</td>\n",
              "      <td>0.727840</td>\n",
              "      <td>-0.914708</td>\n",
              "      <td>0</td>\n",
              "      <td>0</td>\n",
              "      <td>0.531933</td>\n",
              "      <td>1</td>\n",
              "      <td>0</td>\n",
              "      <td>0</td>\n",
              "    </tr>\n",
              "    <tr>\n",
              "      <td>9162</td>\n",
              "      <td>0.155118</td>\n",
              "      <td>2.287837</td>\n",
              "      <td>-0.002786</td>\n",
              "      <td>0.449382</td>\n",
              "      <td>-0.914708</td>\n",
              "      <td>1</td>\n",
              "      <td>1</td>\n",
              "      <td>-1.307769</td>\n",
              "      <td>1</td>\n",
              "      <td>0</td>\n",
              "      <td>1</td>\n",
              "    </tr>\n",
              "    <tr>\n",
              "      <td>700</td>\n",
              "      <td>1.031168</td>\n",
              "      <td>-0.667183</td>\n",
              "      <td>-0.002786</td>\n",
              "      <td>-1.219673</td>\n",
              "      <td>0.820981</td>\n",
              "      <td>1</td>\n",
              "      <td>0</td>\n",
              "      <td>-0.083302</td>\n",
              "      <td>0</td>\n",
              "      <td>0</td>\n",
              "      <td>0</td>\n",
              "    </tr>\n",
              "  </tbody>\n",
              "</table>\n",
              "<p>6000 rows × 11 columns</p>\n",
              "</div>"
            ],
            "text/plain": [
              "      CreditScore       Age    Tenure   Balance  NumOfProducts  HasCrCard  \\\n",
              "2837    -1.040434  0.953312  0.360600  0.774657      -0.914708          0   \n",
              "9925     0.454006 -0.095244 -0.002786  1.910540      -0.914708          1   \n",
              "8746     0.103585 -0.476537  1.087371  0.481608       0.820981          0   \n",
              "660     -0.184996  0.190726 -0.002786  0.088439      -0.914708          1   \n",
              "3610    -0.720933  1.620574 -1.456328  0.879129      -0.914708          1   \n",
              "...           ...       ...       ...       ...            ...        ...   \n",
              "6172    -0.844611  0.381372 -0.002786  0.180068       4.292357          1   \n",
              "2360    -1.359935  0.190726 -0.002786  0.547724      -0.914708          1   \n",
              "4499    -1.174418  0.476696 -0.366172  0.727840      -0.914708          0   \n",
              "9162     0.155118  2.287837 -0.002786  0.449382      -0.914708          1   \n",
              "700      1.031168 -0.667183 -0.002786 -1.219673       0.820981          1   \n",
              "\n",
              "      IsActiveMember  EstimatedSalary  Geography_Germany  Geography_Spain  \\\n",
              "2837               1        -0.119110                  1                0   \n",
              "9925               1        -0.258658                  0                0   \n",
              "8746               1         1.422836                  0                0   \n",
              "660                1        -1.160427                  1                0   \n",
              "3610               0         0.113236                  0                0   \n",
              "...              ...              ...                ...              ...   \n",
              "6172               1         0.117350                  1                0   \n",
              "2360               0        -0.192524                  1                0   \n",
              "4499               0         0.531933                  1                0   \n",
              "9162               1        -1.307769                  1                0   \n",
              "700                0        -0.083302                  0                0   \n",
              "\n",
              "      Gender_Male  \n",
              "2837            0  \n",
              "9925            0  \n",
              "8746            1  \n",
              "660             0  \n",
              "3610            0  \n",
              "...           ...  \n",
              "6172            1  \n",
              "2360            0  \n",
              "4499            0  \n",
              "9162            1  \n",
              "700             0  \n",
              "\n",
              "[6000 rows x 11 columns]"
            ]
          },
          "execution_count": 12,
          "metadata": {},
          "output_type": "execute_result"
        }
      ],
      "source": [
        "numeric = ['CreditScore', 'Age', 'Tenure', 'Balance', 'NumOfProducts', 'EstimatedSalary']\n",
        "scaler = StandardScaler()\n",
        "pd.options.mode.chained_assignment = None\n",
        "scaler.fit(features_train[numeric])\n",
        "features_train[numeric] = scaler.transform(features_train[numeric])\n",
        "features_valid[numeric] = scaler.transform(features_valid[numeric])\n",
        "features_test[numeric] = scaler.transform(features_test[numeric])\n",
        "features_train"
      ]
    },
    {
      "cell_type": "markdown",
      "metadata": {
        "id": "lBYRNyWxTwxN"
      },
      "source": [
        "### Баланс классов"
      ]
    },
    {
      "cell_type": "markdown",
      "metadata": {
        "id": "IEwvFyHcDthq"
      },
      "source": [
        "Исследуем баланс классов:"
      ]
    },
    {
      "cell_type": "code",
      "execution_count": null,
      "metadata": {
        "colab": {
          "base_uri": "https://localhost:8080/"
        },
        "id": "R7EYW9PrDtgc",
        "outputId": "82297725-83b6-4d25-b5a5-5e7020f329a7",
        "scrolled": true
      },
      "outputs": [
        {
          "data": {
            "text/plain": [
              "0    0.796333\n",
              "1    0.203667\n",
              "Name: Exited, dtype: float64"
            ]
          },
          "execution_count": 13,
          "metadata": {},
          "output_type": "execute_result"
        }
      ],
      "source": [
        "target_train.value_counts(normalize=True)"
      ]
    },
    {
      "cell_type": "markdown",
      "metadata": {
        "id": "BomqyyOLMClT"
      },
      "source": [
        "Имеется дисбаланс 80 к 20.  \n",
        "Обучим модели на несбалансированной выборке и посмотрим результаты."
      ]
    },
    {
      "cell_type": "markdown",
      "metadata": {
        "id": "WBvXGqUnT0qb"
      },
      "source": [
        "### Решающее дерево"
      ]
    },
    {
      "cell_type": "markdown",
      "metadata": {
        "id": "XnWqawwTDtdW"
      },
      "source": [
        "Подберём лучшую глубину на валидационной выборке и выведем время обучения:"
      ]
    },
    {
      "cell_type": "code",
      "execution_count": null,
      "metadata": {
        "colab": {
          "base_uri": "https://localhost:8080/"
        },
        "id": "oz7yMnAwDtbm",
        "outputId": "98f68105-b386-43fd-e30d-f2b2637bf47f"
      },
      "outputs": [
        {
          "name": "stdout",
          "output_type": "stream",
          "text": [
            "F1-мера решающего дерева: 0.6 , при глубине: 7 , и AUC-ROC: 0.83\n",
            "CPU times: user 464 ms, sys: 0 ns, total: 464 ms\n",
            "Wall time: 470 ms\n"
          ]
        }
      ],
      "source": [
        "%%time\n",
        "\n",
        "best_tree_model = None\n",
        "best_depth = 0\n",
        "best_f1_tree = 0\n",
        "best_auc_roc_tree = 0\n",
        "\n",
        "for depth in range(2, 21):\n",
        "    model_tree = DecisionTreeClassifier(max_depth=depth, random_state=555).fit(features_train, target_train)\n",
        "    tree_predictions = model_tree.predict(features_valid)\n",
        "    f1_tree_score = f1_score(target_valid, tree_predictions)\n",
        "\n",
        "    probabilities_test = model_tree.predict_proba(features_valid)\n",
        "    probabilities_one_test = probabilities_test[:, 1]\n",
        "    roc_auc_score_tree = roc_auc_score(target_valid, probabilities_one_test)   \n",
        "\n",
        "    if f1_tree_score > best_f1_tree:\n",
        "        best_tree_model = model_tree\n",
        "        best_depth = depth\n",
        "        best_f1_tree = f1_tree_score\n",
        "        best_auc_roc_tree = roc_auc_score_tree\n",
        "\n",
        "print('F1-мера решающего дерева:', best_f1_tree.round(2), ', при глубине:', best_depth, ', и AUC-ROC:', best_auc_roc_tree.round(2))"
      ]
    },
    {
      "cell_type": "markdown",
      "metadata": {
        "id": "nEDCpurUDtZ-"
      },
      "source": [
        "### Случайный лес\n",
        "Подберём глубину и количество деревьев и выведем результаты на валидационной выборке:"
      ]
    },
    {
      "cell_type": "code",
      "execution_count": null,
      "metadata": {
        "colab": {
          "base_uri": "https://localhost:8080/"
        },
        "id": "oPpB1EgdDtYE",
        "outputId": "b72f030c-fe2f-4b54-8605-00da3bbc7879"
      },
      "outputs": [
        {
          "name": "stdout",
          "output_type": "stream",
          "text": [
            "F1-мера случайного леса: 0.63 при глубине: 17 и количестве деревьев: 60 , и AUC-ROC: 0.86\n",
            "CPU times: user 57.9 s, sys: 179 ms, total: 58 s\n",
            "Wall time: 58.6 s\n"
          ]
        }
      ],
      "source": [
        "%%time\n",
        "\n",
        "best_forest_model = None\n",
        "best_depth = 0\n",
        "best_est = 0\n",
        "best_f1_forest = 0\n",
        "best_auc_roc_forest = 0\n",
        "\n",
        "for est in range(10, 101, 10):\n",
        "    for depth in range(2, 21):\n",
        "        model_forest = RandomForestClassifier(n_estimators=est, max_depth=depth, random_state=555).fit(features_train, target_train)\n",
        "        forest_predictions = model_forest.predict(features_valid)\n",
        "        f1_forest_score = f1_score(target_valid, forest_predictions)\n",
        "\n",
        "        probabilities_test = model_forest.predict_proba(features_valid)\n",
        "        probabilities_one_test = probabilities_test[:, 1]\n",
        "        roc_auc_score_forest = roc_auc_score(target_valid, probabilities_one_test)  \n",
        "    \n",
        "        if f1_forest_score > best_f1_forest:\n",
        "            best_forest_model = model_forest\n",
        "            best_depth = depth\n",
        "            best_est = est\n",
        "            best_f1_forest = f1_forest_score\n",
        "            best_auc_roc_forest = roc_auc_score_forest\n",
        "        \n",
        "print('F1-мера случайного леса:', best_f1_forest.round(2),\n",
        "    'при глубине:', best_depth, 'и количестве деревьев:', best_est, ', и AUC-ROC:', best_auc_roc_forest.round(2))"
      ]
    },
    {
      "cell_type": "markdown",
      "metadata": {
        "id": "EttjXC-KDtU7"
      },
      "source": [
        "### Логическая регрессия"
      ]
    },
    {
      "cell_type": "code",
      "execution_count": null,
      "metadata": {
        "colab": {
          "base_uri": "https://localhost:8080/"
        },
        "id": "C1v2q13yDtSk",
        "outputId": "f9561e0c-01a8-4104-f5e1-dd7ac3d52abf"
      },
      "outputs": [
        {
          "name": "stdout",
          "output_type": "stream",
          "text": [
            "F1-мера логистической регресии: 0.31 AUC-ROC: 0.79\n",
            "CPU times: user 54.4 ms, sys: 36.1 ms, total: 90.5 ms\n",
            "Wall time: 57.4 ms\n"
          ]
        }
      ],
      "source": [
        "%%time\n",
        "\n",
        "model_regression = LogisticRegression(random_state=555, solver='liblinear').fit(features_train, target_train)\n",
        "reg_predictions = model_regression.predict(features_valid)\n",
        "f1_reg_score = f1_score(target_valid, reg_predictions)\n",
        "\n",
        "probabilities_test = model_regression.predict_proba(features_valid)\n",
        "probabilities_one_test = probabilities_test[:, 1]\n",
        "roc_auc_reg_score = roc_auc_score(target_valid, probabilities_one_test)  \n",
        "\n",
        "print('F1-мера логистической регресии:', f1_reg_score.round(2), 'AUC-ROC:', roc_auc_reg_score.round(2))"
      ]
    },
    {
      "cell_type": "markdown",
      "metadata": {
        "id": "Ep4xyFk85rMi"
      },
      "source": [
        "### Тестрирование несбалансированных моделей\n"
      ]
    },
    {
      "cell_type": "code",
      "execution_count": null,
      "metadata": {
        "colab": {
          "base_uri": "https://localhost:8080/",
          "height": 330
        },
        "id": "XhiMpyVe5rMj",
        "outputId": "f6cb8778-55ab-40c4-8bc9-9580f5411d32"
      },
      "outputs": [
        {
          "name": "stdout",
          "output_type": "stream",
          "text": [
            "F1-мера решающего дерева на тестовой выборке: 0.5542\n",
            "AUC-ROC Score: 0.4752\n"
          ]
        },
        {
          "data": {
            "image/png": "[encoded data removed]",
            "text/plain": [
              "<Figure size 432x288 with 1 Axes>"
            ]
          },
          "metadata": {
            "needs_background": "light"
          },
          "output_type": "display_data"
        }
      ],
      "source": [
        "test_tree_predictions = best_tree_model.predict(features_test)\n",
        "print('F1-мера решающего дерева на тестовой выборке:', f1_score(target_test, test_tree_predictions).round(4))\n",
        "probabilities_test = best_tree_model.predict_proba(features_valid)\n",
        "probabilities_one_test = probabilities_test[:, 1]\n",
        "print('AUC-ROC Score:', roc_auc_score(target_test, probabilities_one_test).round(4))\n",
        "\n",
        "fpr, tpr, thresholds = roc_curve(target_test, probabilities_one_test)\n",
        "plt.plot(fpr, tpr)\n",
        "plt.grid()\n",
        "plt.xlim([0.0, 1.0])\n",
        "plt.ylim([0.0, 1.0])\n",
        "plt.xlabel('False Positive Rate')\n",
        "plt.ylabel('True Positive Rate')\n",
        "plt.title('ROC-кривая')\n",
        "plt.show()"
      ]
    },
    {
      "cell_type": "code",
      "execution_count": null,
      "metadata": {
        "colab": {
          "base_uri": "https://localhost:8080/",
          "height": 330
        },
        "id": "vA6xO4y65rMj",
        "outputId": "5392a405-5a68-427d-80e4-899a424f2936"
      },
      "outputs": [
        {
          "name": "stdout",
          "output_type": "stream",
          "text": [
            "F1-мера случайного леса на тестовой выборке: 0.5485\n",
            "AUC-ROC Score: 0.4889\n"
          ]
        },
        {
          "data": {
            "image/png": "[encoded data removed]",
            "text/plain": [
              "<Figure size 432x288 with 1 Axes>"
            ]
          },
          "metadata": {
            "needs_background": "light"
          },
          "output_type": "display_data"
        }
      ],
      "source": [
        "test_forest_predictions = best_forest_model.predict(features_test)\n",
        "print('F1-мера случайного леса на тестовой выборке:', f1_score(target_test, test_forest_predictions).round(4))\n",
        "probabilities_test = best_forest_model.predict_proba(features_valid)\n",
        "probabilities_one_test = probabilities_test[:, 1]\n",
        "print('AUC-ROC Score:', roc_auc_score(target_test, probabilities_one_test).round(4))\n",
        "\n",
        "fpr, tpr, thresholds = roc_curve(target_test, probabilities_one_test)\n",
        "plt.plot(fpr, tpr)\n",
        "plt.grid()\n",
        "plt.xlim([0.0, 1.0])\n",
        "plt.ylim([0.0, 1.0])\n",
        "plt.xlabel('False Positive Rate')\n",
        "plt.ylabel('True Positive Rate')\n",
        "plt.title('ROC-кривая')\n",
        "plt.show()"
      ]
    },
    {
      "cell_type": "code",
      "execution_count": null,
      "metadata": {
        "colab": {
          "base_uri": "https://localhost:8080/",
          "height": 330
        },
        "id": "DUUnnaG25rMl",
        "outputId": "e13743bf-6fbf-4ce6-e2f3-3d118264195f"
      },
      "outputs": [
        {
          "name": "stdout",
          "output_type": "stream",
          "text": [
            "F1-мера логистической регрессии на тестовой выборке: 0.2932\n",
            "AUC-ROC Score: 0.4994\n"
          ]
        },
        {
          "data": {
            "image/png": "[encoded data removed]",
            "text/plain": [
              "<Figure size 432x288 with 1 Axes>"
            ]
          },
          "metadata": {
            "needs_background": "light"
          },
          "output_type": "display_data"
        }
      ],
      "source": [
        "test_regression_predictions = model_regression.predict(features_test)\n",
        "print('F1-мера логистической регрессии на тестовой выборке:', f1_score(\n",
        "    target_test, test_regression_predictions).round(4))\n",
        "probabilities_test = model_regression.predict_proba(features_valid)\n",
        "probabilities_one_test = probabilities_test[:, 1]\n",
        "print('AUC-ROC Score:', roc_auc_score(target_test, probabilities_one_test).round(4))\n",
        "\n",
        "fpr, tpr, thresholds = roc_curve(target_test, probabilities_one_test)\n",
        "plt.plot(fpr, tpr)\n",
        "plt.grid()\n",
        "plt.xlim([0.0, 1.0])\n",
        "plt.ylim([0.0, 1.0])\n",
        "plt.xlabel('False Positive Rate')\n",
        "plt.ylabel('True Positive Rate')\n",
        "plt.title('ROC-кривая')\n",
        "plt.show()"
      ]
    },
    {
      "cell_type": "markdown",
      "metadata": {
        "id": "ORMURqmH5rMl"
      },
      "source": [
        "На тестовой выборке лучший результат показала модель Решающее дерево: F1 - `0.5542`, AUC-ROC - `0.4752`.  \n",
        "Случайный лес: F1 - `0.5485`, AUC-ROC - `0.4889`; логическая регрессия: F1 - `0.2932`, AUC-ROC - `0.4994`.  \n",
        "\n",
        "Целевый показатель в F1 - `0.59` не достигнут, требуется работа с дисбалансом.  \n",
        "Стоит отметить, что ROC-кривая близка к кривой случайной модели."
      ]
    },
    {
      "cell_type": "markdown",
      "metadata": {
        "id": "y0xTAdzo2_gY"
      },
      "source": [
        "## Борьба с дисбалансом"
      ]
    },
    {
      "cell_type": "markdown",
      "metadata": {
        "id": "d48pHJupUUh-"
      },
      "source": [
        "### Вспомогательные функции"
      ]
    },
    {
      "cell_type": "markdown",
      "metadata": {
        "id": "YT4_jJGH5rMm"
      },
      "source": [
        "Определим функцию для увеличения обучающей выборки:"
      ]
    },
    {
      "cell_type": "code",
      "execution_count": null,
      "metadata": {
        "id": "W7Hj4MrD5rMm"
      },
      "outputs": [],
      "source": [
        "def upsample(features, target, repeat):\n",
        "    features_zeros = features[target == 0]\n",
        "    features_ones = features[target == 1]\n",
        "    target_zeros = target[target == 0]\n",
        "    target_ones = target[target == 1]\n",
        "    \n",
        "    features_upsampled = pd.concat([features_zeros] + [features_ones] * repeat)\n",
        "    target_upsampled = pd.concat([target_zeros] + [target_ones] * repeat)\n",
        "    \n",
        "    features_upsampled, target_upsampled = shuffle(features_upsampled, target_upsampled, random_state=555)\n",
        "    return features_upsampled, target_upsampled"
      ]
    },
    {
      "cell_type": "markdown",
      "metadata": {
        "id": "JLFAvzE95rMm"
      },
      "source": [
        "Увеличем обучающею выборку:"
      ]
    },
    {
      "cell_type": "code",
      "execution_count": null,
      "metadata": {
        "colab": {
          "base_uri": "https://localhost:8080/"
        },
        "id": "zi1qosZ45rMm",
        "outputId": "03c8e781-375a-4c3a-bfde-52f7b5d6946d"
      },
      "outputs": [
        {
          "name": "stdout",
          "output_type": "stream",
          "text": [
            "(9666, 11)\n",
            "(9666,)\n"
          ]
        }
      ],
      "source": [
        "features_train_up, target_train_up = upsample(features_train, target_train, 4)\n",
        "print(features_train_up.shape)\n",
        "print(target_train_up.shape)"
      ]
    },
    {
      "cell_type": "markdown",
      "metadata": {
        "id": "YWLhPoFT5rMm"
      },
      "source": [
        "Посмотрим теперь на баланс:"
      ]
    },
    {
      "cell_type": "code",
      "execution_count": null,
      "metadata": {
        "colab": {
          "base_uri": "https://localhost:8080/"
        },
        "id": "mHWrSHqmOuTs",
        "outputId": "b9d7e423-9040-49de-f2c2-b1efe10be859"
      },
      "outputs": [
        {
          "data": {
            "text/plain": [
              "1    0.50569\n",
              "0    0.49431\n",
              "Name: Exited, dtype: float64"
            ]
          },
          "execution_count": 22,
          "metadata": {},
          "output_type": "execute_result"
        }
      ],
      "source": [
        "target_train_up.value_counts(normalize=True)"
      ]
    },
    {
      "cell_type": "markdown",
      "metadata": {
        "id": "At_rrU83PQ01"
      },
      "source": [
        "Выборка сбалансирована"
      ]
    },
    {
      "cell_type": "markdown",
      "metadata": {
        "id": "7G_QhlNp5rMn"
      },
      "source": [
        "Определим функцию для уменьшения обучающей выборки:"
      ]
    },
    {
      "cell_type": "code",
      "execution_count": null,
      "metadata": {
        "id": "GlUT2kl55rMn"
      },
      "outputs": [],
      "source": [
        "def downsample(features, target, fraction):\n",
        "    features_zeros = features[target == 0]\n",
        "    features_ones = features[target == 1]\n",
        "    target_zeros = target[target == 0]\n",
        "    target_ones = target[target == 1]\n",
        "    \n",
        "    features_downsampled = pd.concat(\n",
        "        [features_zeros.sample(frac=fraction, random_state=555)] + [features_ones])\n",
        "    target_downsampled = pd.concat(\n",
        "        [target_zeros.sample(frac=fraction, random_state=555)] + [target_ones])\n",
        "    \n",
        "    features_downsampled, target_downsampled = shuffle(features_downsampled, target_downsampled, random_state=555)\n",
        "    return features_downsampled, target_downsampled"
      ]
    },
    {
      "cell_type": "markdown",
      "metadata": {
        "id": "rbaDgRQp5rMo"
      },
      "source": [
        "Применим функцию и посмотрим на распределение:"
      ]
    },
    {
      "cell_type": "code",
      "execution_count": null,
      "metadata": {
        "colab": {
          "base_uri": "https://localhost:8080/"
        },
        "id": "r5pcXhQS5rMo",
        "outputId": "9cb208ae-4895-4b1f-a47e-19eb8f74f16c"
      },
      "outputs": [
        {
          "name": "stdout",
          "output_type": "stream",
          "text": [
            "(2416, 11)\n",
            "(2416,)\n"
          ]
        }
      ],
      "source": [
        "features_train_down, target_train_down = downsample(features_train, target_train, 0.25)\n",
        "print(features_train_down.shape)\n",
        "print(target_train_down.shape)"
      ]
    },
    {
      "cell_type": "code",
      "execution_count": null,
      "metadata": {
        "colab": {
          "base_uri": "https://localhost:8080/"
        },
        "id": "BfOm6-z25rMo",
        "outputId": "ca247d32-a492-4af1-d60b-02f4e44c8f15"
      },
      "outputs": [
        {
          "data": {
            "text/plain": [
              "1    0.505795\n",
              "0    0.494205\n",
              "Name: Exited, dtype: float64"
            ]
          },
          "execution_count": 25,
          "metadata": {},
          "output_type": "execute_result"
        }
      ],
      "source": [
        "\n",
        "target_train_down.value_counts(normalize=True)"
      ]
    },
    {
      "cell_type": "markdown",
      "metadata": {
        "id": "BdQ9O_DG5rMo"
      },
      "source": [
        "Выборка сбалансирована"
      ]
    },
    {
      "cell_type": "markdown",
      "metadata": {
        "id": "MjfjC_Tv5rMo"
      },
      "source": [
        "### Решающее дерево"
      ]
    },
    {
      "cell_type": "markdown",
      "metadata": {
        "id": "yMttDhwn5rMp"
      },
      "source": [
        "Обучим методом взвешивания классов:"
      ]
    },
    {
      "cell_type": "code",
      "execution_count": null,
      "metadata": {
        "colab": {
          "base_uri": "https://localhost:8080/"
        },
        "id": "uWN3XnON5rMp",
        "outputId": "648908a5-c17e-4c06-89f9-769e26cfc095"
      },
      "outputs": [
        {
          "name": "stdout",
          "output_type": "stream",
          "text": [
            "F1-мера решающего дерева: 0.5754 при глубине: 6 , и AUC-ROC: 0.8227\n",
            "CPU times: user 462 ms, sys: 3.96 ms, total: 466 ms\n",
            "Wall time: 472 ms\n"
          ]
        }
      ],
      "source": [
        "%%time\n",
        "\n",
        "best_tree_model_balanced = None\n",
        "best_depth = 0\n",
        "best_f1_tree = 0\n",
        "best_auc_roc_tree = 0\n",
        "\n",
        "for depth in range(2, 21):\n",
        "    model_tree = DecisionTreeClassifier(\n",
        "        max_depth=depth, class_weight='balanced', random_state=555).fit(features_train, target_train)\n",
        "    \n",
        "    tree_predictions = model_tree.predict(features_valid)\n",
        "    \n",
        "    f1_tree_score = f1_score(target_valid, tree_predictions)\n",
        "\n",
        "    probabilities_test = model_tree.predict_proba(features_valid)\n",
        "    probabilities_one_test = probabilities_test[:, 1]\n",
        "    roc_auc_score_tree = roc_auc_score(target_valid, probabilities_one_test)\n",
        "    \n",
        "    if f1_tree_score > best_f1_tree:\n",
        "        best_tree_model_balanced = model_tree\n",
        "        best_depth = depth\n",
        "        best_f1_tree = f1_tree_score\n",
        "        best_auc_roc_tree = roc_auc_score_tree\n",
        "\n",
        "print('F1-мера решающего дерева:', best_f1_tree.round(4), 'при глубине:', best_depth, ', и AUC-ROC:', best_auc_roc_tree.round(4))"
      ]
    },
    {
      "cell_type": "markdown",
      "metadata": {
        "id": "rzQYrGuQPxmt"
      },
      "source": [
        "Обучим на увеличенной выборке:"
      ]
    },
    {
      "cell_type": "code",
      "execution_count": null,
      "metadata": {
        "colab": {
          "base_uri": "https://localhost:8080/"
        },
        "id": "Eiexh72k5rMp",
        "outputId": "d7f8d1fd-1a73-4ed7-d9da-536c7756e3b7"
      },
      "outputs": [
        {
          "name": "stdout",
          "output_type": "stream",
          "text": [
            "F1-мера решающего дерева: 0.5754 при глубине: 6 , и AUC-ROC: 0.8227\n",
            "CPU times: user 597 ms, sys: 0 ns, total: 597 ms\n",
            "Wall time: 607 ms\n"
          ]
        }
      ],
      "source": [
        "%%time\n",
        "\n",
        "best_tree_model_upsampled = None\n",
        "best_depth = 0\n",
        "best_f1_tree = 0\n",
        "best_auc_roc_tree = 0\n",
        "\n",
        "for depth in range(2, 21):\n",
        "    model_tree = DecisionTreeClassifier(\n",
        "        max_depth=depth, random_state=555).fit(features_train_up, target_train_up)\n",
        "    \n",
        "    tree_predictions = model_tree.predict(features_valid)\n",
        "    \n",
        "    f1_tree_score = f1_score(target_valid, tree_predictions)\n",
        "\n",
        "    probabilities_test = model_tree.predict_proba(features_valid)\n",
        "    probabilities_one_test = probabilities_test[:, 1]\n",
        "    roc_auc_score_tree = roc_auc_score(target_valid, probabilities_one_test)\n",
        "    \n",
        "    if f1_tree_score > best_f1_tree:\n",
        "        best_tree_model_upsampled = model_tree\n",
        "        best_depth = depth\n",
        "        best_f1_tree = f1_tree_score\n",
        "        best_auc_roc_tree = roc_auc_score_tree\n",
        "        \n",
        "print('F1-мера решающего дерева:', best_f1_tree.round(4), 'при глубине:', best_depth, ', и AUC-ROC:', best_auc_roc_tree.round(4))"
      ]
    },
    {
      "cell_type": "markdown",
      "metadata": {
        "id": "ZqmdTcBb5rMq"
      },
      "source": [
        "Обучим на уменьшенной выборке:"
      ]
    },
    {
      "cell_type": "code",
      "execution_count": null,
      "metadata": {
        "colab": {
          "base_uri": "https://localhost:8080/"
        },
        "id": "P6JnWMMr5rMq",
        "outputId": "ff509248-82c4-4bde-913c-ead6d67535f7"
      },
      "outputs": [
        {
          "name": "stdout",
          "output_type": "stream",
          "text": [
            "F1-мера решающего дерева: 0.5753 при глубине: 5 , и AUC-ROC: 0.8328\n",
            "CPU times: user 224 ms, sys: 3.94 ms, total: 228 ms\n",
            "Wall time: 230 ms\n"
          ]
        }
      ],
      "source": [
        "%%time\n",
        "\n",
        "best_tree_model_downsampled = None\n",
        "best_depth = 0\n",
        "best_f1_tree = 0\n",
        "best_auc_roc_tree = 0\n",
        "best_auc_roc_tree = 0\n",
        "\n",
        "for depth in range(2, 21):\n",
        "    model_tree = DecisionTreeClassifier(\n",
        "        max_depth=depth, random_state=555).fit(features_train_down, target_train_down)\n",
        "    \n",
        "    tree_predictions = model_tree.predict(features_valid)\n",
        "    \n",
        "    f1_tree_score = f1_score(target_valid, tree_predictions)\n",
        "\n",
        "    probabilities_test = model_tree.predict_proba(features_valid)\n",
        "    probabilities_one_test = probabilities_test[:, 1]\n",
        "    roc_auc_score_tree = roc_auc_score(target_valid, probabilities_one_test)\n",
        " \n",
        "    if f1_tree_score > best_f1_tree:\n",
        "        best_tree_model_downsampled = model_tree\n",
        "        best_depth = depth\n",
        "        best_f1_tree = f1_tree_score\n",
        "        best_auc_roc_tree = roc_auc_score_tree\n",
        "\n",
        "print('F1-мера решающего дерева:', best_f1_tree.round(4), 'при глубине:', best_depth, ', и AUC-ROC:', best_auc_roc_tree.round(4))"
      ]
    },
    {
      "cell_type": "markdown",
      "metadata": {
        "id": "dfGra_li5rMq"
      },
      "source": [
        "Результаты обучение с балансированными классами алгоритмов Решающее дерево, показало примерно одинаковые результаты с F1-мера ~ `0.57` и AUC-ROC ~ `0.82`, при этом на уменьшенной выборке с меньшем временем обучения."
      ]
    },
    {
      "cell_type": "markdown",
      "metadata": {
        "id": "cyO_UIb05rMq"
      },
      "source": [
        "### Случайный лес"
      ]
    },
    {
      "cell_type": "markdown",
      "metadata": {
        "id": "h2Qd2hCh5rMr"
      },
      "source": [
        "Обучим методом взвешивания классов:"
      ]
    },
    {
      "cell_type": "code",
      "execution_count": null,
      "metadata": {
        "colab": {
          "base_uri": "https://localhost:8080/"
        },
        "id": "GoMnSMaQ5rMr",
        "outputId": "55cd8bbc-33de-4c78-cc04-c140724a9310",
        "scrolled": true
      },
      "outputs": [
        {
          "name": "stdout",
          "output_type": "stream",
          "text": [
            "F1-мера случайного леса: 0.6492 при глубине: 7 и количестве деревьев: 30 , и AUC-ROC: 0.8693\n",
            "CPU times: user 56.6 s, sys: 183 ms, total: 56.8 s\n",
            "Wall time: 57.2 s\n"
          ]
        }
      ],
      "source": [
        "%%time\n",
        "\n",
        "best_forest_model_balanced = None\n",
        "best_depth = 0\n",
        "best_est = 0\n",
        "best_f1_forest = 0\n",
        "best_auc_roc_forest = 0\n",
        "\n",
        "for est in range(10, 101, 10):\n",
        "    for depth in range(2, 21):\n",
        "        \n",
        "        model_forest = RandomForestClassifier(\n",
        "            n_estimators=est, max_depth=depth, class_weight='balanced', random_state=555\n",
        "        ).fit(features_train, target_train)\n",
        "    \n",
        "        forest_predictions = model_forest.predict(features_valid)\n",
        "    \n",
        "        f1_forest_score = f1_score(target_valid, forest_predictions)\n",
        "\n",
        "        probabilities_test = model_forest.predict_proba(features_valid)\n",
        "        probabilities_one_test = probabilities_test[:, 1]\n",
        "        roc_auc_score_forest = roc_auc_score(target_valid, probabilities_one_test)  \n",
        "\n",
        "        if f1_forest_score > best_f1_forest:\n",
        "            best_forest_model_balanced = model_forest\n",
        "            best_depth = depth\n",
        "            best_est = est\n",
        "            best_f1_forest = f1_forest_score\n",
        "            best_auc_roc_forest = roc_auc_score_forest\n",
        "\n",
        "print(\n",
        "    'F1-мера случайного леса:', best_f1_forest.round(4),\n",
        "    'при глубине:', best_depth, 'и количестве деревьев:', best_est, ', и AUC-ROC:', best_auc_roc_forest.round(4))"
      ]
    },
    {
      "cell_type": "markdown",
      "metadata": {
        "id": "bNOumCEt5rMr"
      },
      "source": [
        "Обучим на увеличенной выборке:"
      ]
    },
    {
      "cell_type": "code",
      "execution_count": null,
      "metadata": {
        "colab": {
          "base_uri": "https://localhost:8080/"
        },
        "id": "LzhwLc6w5rMr",
        "outputId": "33706cab-76f7-4934-a614-14bf84307090",
        "scrolled": false
      },
      "outputs": [
        {
          "name": "stdout",
          "output_type": "stream",
          "text": [
            "F1-мера случайного леса: 0.6541 при глубине: 10 и количестве деревьев: 70 , и AUC-ROC: 0.8713\n",
            "CPU times: user 1min 19s, sys: 276 ms, total: 1min 19s\n",
            "Wall time: 1min 20s\n"
          ]
        }
      ],
      "source": [
        "%%time\n",
        "\n",
        "best_forest_model_upsampled = None\n",
        "best_depth = 0\n",
        "best_est = 0\n",
        "best_f1_forest = 0\n",
        "best_auc_roc_forest = 0\n",
        "\n",
        "for est in range(10, 101, 10):\n",
        "    for depth in range(2, 21):\n",
        "        \n",
        "        model_forest = RandomForestClassifier(\n",
        "            n_estimators=est, max_depth=depth, random_state=555\n",
        "        ).fit(features_train_up, target_train_up)\n",
        "    \n",
        "        forest_predictions = model_forest.predict(features_valid)\n",
        "    \n",
        "        f1_forest_score = f1_score(target_valid, forest_predictions)\n",
        "\n",
        "        probabilities_test = model_forest.predict_proba(features_valid)\n",
        "        probabilities_one_test = probabilities_test[:, 1]\n",
        "        roc_auc_score_forest = roc_auc_score(target_valid, probabilities_one_test)  \n",
        "    \n",
        "        if f1_forest_score > best_f1_forest:\n",
        "            best_forest_model_upsampled = model_forest\n",
        "            best_depth = depth\n",
        "            best_est = est\n",
        "            best_f1_forest = f1_forest_score\n",
        "            best_auc_roc_forest = roc_auc_score_forest\n",
        "\n",
        "print(\n",
        "    'F1-мера случайного леса:', best_f1_forest.round(4),\n",
        "    'при глубине:', best_depth, 'и количестве деревьев:', best_est, ', и AUC-ROC:', best_auc_roc_forest.round(4))"
      ]
    },
    {
      "cell_type": "markdown",
      "metadata": {
        "id": "Br9sZ7_c5rMs"
      },
      "source": [
        "Обучим на уменьшенной выборке:"
      ]
    },
    {
      "cell_type": "code",
      "execution_count": null,
      "metadata": {
        "colab": {
          "base_uri": "https://localhost:8080/"
        },
        "id": "nT88Wk5q5rMs",
        "outputId": "7ffb6750-9462-4d00-d534-1a431ec89fa8"
      },
      "outputs": [
        {
          "name": "stdout",
          "output_type": "stream",
          "text": [
            "F1-мера случайного леса: 0.6306 при глубине: 7 и количестве деревьев: 70 , и AUC-ROC: 0.8696\n",
            "CPU times: user 33.3 s, sys: 124 ms, total: 33.4 s\n",
            "Wall time: 33.7 s\n"
          ]
        }
      ],
      "source": [
        "%%time\n",
        "\n",
        "best_forest_model_downsampled = None\n",
        "best_depth = 0\n",
        "best_est = 0\n",
        "best_f1_forest = 0\n",
        "best_auc_roc_forest = 0\n",
        "\n",
        "for est in range(10, 101, 10):\n",
        "    for depth in range(2, 21):\n",
        "        \n",
        "        model_forest = RandomForestClassifier(\n",
        "            n_estimators=est, max_depth=depth, random_state=555\n",
        "        ).fit(features_train_down, target_train_down)\n",
        "    \n",
        "        forest_predictions = model_forest.predict(features_valid)\n",
        "    \n",
        "        f1_forest_score = f1_score(target_valid, forest_predictions)\n",
        "\n",
        "        probabilities_test = model_forest.predict_proba(features_valid)\n",
        "        probabilities_one_test = probabilities_test[:, 1]\n",
        "        roc_auc_score_forest = roc_auc_score(target_valid, probabilities_one_test)  \n",
        "    \n",
        "        if f1_forest_score > best_f1_forest:\n",
        "            best_forest_model_downsampled = model_forest\n",
        "            best_depth = depth\n",
        "            best_est = est\n",
        "            best_f1_forest = f1_forest_score\n",
        "            best_auc_roc_forest = roc_auc_score_forest\n",
        "\n",
        "print(\n",
        "    'F1-мера случайного леса:', best_f1_forest.round(4),\n",
        "    'при глубине:', best_depth, 'и количестве деревьев:', best_est, ', и AUC-ROC:', best_auc_roc_forest.round(4))"
      ]
    },
    {
      "cell_type": "markdown",
      "metadata": {
        "id": "K_s-DZYZ5rMu"
      },
      "source": [
        "Результаты обучение с балансированными классами алгоритма Случайный лес, дольше, чем у Решающего дерева, но с лучшей метрикой F1 = 0.65, при этом на уменьшенной выборке с меньшем временем обучения."
      ]
    },
    {
      "cell_type": "markdown",
      "metadata": {
        "id": "_y51ABmA5rMu"
      },
      "source": [
        "### Логистическая регрессия"
      ]
    },
    {
      "cell_type": "markdown",
      "metadata": {
        "id": "6atLNBDg5rMu"
      },
      "source": [
        "Обучим методом взвешивания классов:"
      ]
    },
    {
      "cell_type": "code",
      "execution_count": null,
      "metadata": {
        "colab": {
          "base_uri": "https://localhost:8080/"
        },
        "id": "l9qhhZCJ5rMu",
        "outputId": "90847b67-dfbd-45c1-ac87-4c9bb81d6564",
        "scrolled": true
      },
      "outputs": [
        {
          "name": "stdout",
          "output_type": "stream",
          "text": [
            "F1-мера логистической регресии: 0.529 AUC-ROC: 0.7937\n",
            "CPU times: user 56.3 ms, sys: 28.2 ms, total: 84.5 ms\n",
            "Wall time: 69.4 ms\n"
          ]
        }
      ],
      "source": [
        "%%time\n",
        "\n",
        "model_regression_balanced = LogisticRegression(\n",
        "    random_state=555, class_weight='balanced', solver='liblinear').fit(features_train, target_train)\n",
        "reg_predictions = model_regression_balanced.predict(features_valid)\n",
        "f1_reg_score = f1_score(target_valid, reg_predictions)\n",
        "probabilities_test = model_regression_balanced.predict_proba(features_valid)\n",
        "probabilities_one_test = probabilities_test[:, 1]\n",
        "roc_auc_reg_score = roc_auc_score(target_valid, probabilities_one_test)  \n",
        "print('F1-мера логистической регресии:', f1_reg_score.round(4), 'AUC-ROC:', roc_auc_reg_score.round(4))"
      ]
    },
    {
      "cell_type": "markdown",
      "metadata": {
        "id": "J4ld0giW5rMu"
      },
      "source": [
        "Обучим на увеличенной выборке:"
      ]
    },
    {
      "cell_type": "code",
      "execution_count": null,
      "metadata": {
        "colab": {
          "base_uri": "https://localhost:8080/"
        },
        "id": "9-tISOPy5rMv",
        "outputId": "9e5a765a-1a7b-4eec-c2f8-8d5672667295"
      },
      "outputs": [
        {
          "name": "stdout",
          "output_type": "stream",
          "text": [
            "F1-мера логистической регресии: 0.5247 AUC-ROC: 0.7938\n",
            "CPU times: user 62.2 ms, sys: 20.1 ms, total: 82.4 ms\n",
            "Wall time: 113 ms\n"
          ]
        }
      ],
      "source": [
        "%%time\n",
        "model_regression_upsampled = LogisticRegression(\n",
        "    random_state=555, solver='liblinear').fit(features_train_up, target_train_up)\n",
        "reg_predictions = model_regression_upsampled.predict(features_valid)\n",
        "f1_reg_score = f1_score(target_valid, reg_predictions)\n",
        "probabilities_test = model_regression_upsampled.predict_proba(features_valid)\n",
        "probabilities_one_test = probabilities_test[:, 1]\n",
        "roc_auc_reg_score = roc_auc_score(target_valid, probabilities_one_test)  \n",
        "print('F1-мера логистической регресии:', f1_reg_score.round(4), 'AUC-ROC:', roc_auc_reg_score.round(4))"
      ]
    },
    {
      "cell_type": "markdown",
      "metadata": {
        "id": "ZCnQ6deb5rMv"
      },
      "source": [
        "Обучим на уменьшенной выборке:"
      ]
    },
    {
      "cell_type": "code",
      "execution_count": null,
      "metadata": {
        "colab": {
          "base_uri": "https://localhost:8080/"
        },
        "id": "NugV9XtK5rMv",
        "outputId": "a4df8ac6-306d-4544-fbcc-2eee3d8f805c"
      },
      "outputs": [
        {
          "name": "stdout",
          "output_type": "stream",
          "text": [
            "F1-мера логистической регресии: 0.3077 AUC-ROC: 0.7875\n",
            "CPU times: user 46.7 ms, sys: 36.1 ms, total: 82.8 ms\n",
            "Wall time: 106 ms\n"
          ]
        }
      ],
      "source": [
        "%%time\n",
        "\n",
        "model_regression_downsampled = LogisticRegression(\n",
        "    random_state=555, solver='liblinear').fit(features_train, target_train)\n",
        "reg_predictions = model_regression_downsampled.predict(features_valid)\n",
        "f1_reg_score = f1_score(target_valid, reg_predictions)\n",
        "probabilities_test = model_regression_downsampled.predict_proba(features_valid)\n",
        "probabilities_one_test = probabilities_test[:, 1]\n",
        "roc_auc_reg_score = roc_auc_score(target_valid, probabilities_one_test)  \n",
        "print('F1-мера логистической регресии:', f1_reg_score.round(4), 'AUC-ROC:', roc_auc_reg_score.round(4))"
      ]
    },
    {
      "cell_type": "markdown",
      "metadata": {
        "id": "PODpTXJ65rMv"
      },
      "source": [
        "Результаты обучение с балансированными классами алгоритма Логическая регрессия, быстро, но с низкой точностью. F1 = 0.53, при этом на уменьшенной выборке с F1 = 0.31. Данный алгоритм показал себя хуже всех."
      ]
    },
    {
      "cell_type": "markdown",
      "metadata": {
        "id": "ZolNNZWO2_ga"
      },
      "source": [
        "## Тестирование модели"
      ]
    },
    {
      "cell_type": "markdown",
      "metadata": {
        "id": "rdFNG1B55rMw"
      },
      "source": [
        "Для удобства определим функцию для вывода метрик F1 и AUC-ROC:"
      ]
    },
    {
      "cell_type": "code",
      "execution_count": null,
      "metadata": {
        "id": "vhYGLx3T5rMw"
      },
      "outputs": [],
      "source": [
        "def results(predictions, probabilities):\n",
        "    probabilities_one_test = probabilities[:, 1]\n",
        "    print('F1-мера решающего дерева на тестовой выборке:', f1_score(target_test, predictions).round(4))\n",
        "    print('AUC-ROC Score:', roc_auc_score(target_test, probabilities_one_test).round(4))"
      ]
    },
    {
      "cell_type": "markdown",
      "metadata": {
        "id": "_NCJgzy55rMw"
      },
      "source": [
        "### Решающеe дерево"
      ]
    },
    {
      "cell_type": "markdown",
      "metadata": {
        "id": "I_gZPlsV5rMw"
      },
      "source": [
        "Взвешивания классов:"
      ]
    },
    {
      "cell_type": "code",
      "execution_count": null,
      "metadata": {
        "colab": {
          "base_uri": "https://localhost:8080/"
        },
        "id": "qvb3rl_75rMx",
        "outputId": "11bd8d63-859a-44fc-c6f0-af7ea90a9ed8",
        "scrolled": true
      },
      "outputs": [
        {
          "name": "stdout",
          "output_type": "stream",
          "text": [
            "F1-мера решающего дерева на тестовой выборке: 0.5304\n",
            "AUC-ROC Score: 0.8007\n"
          ]
        }
      ],
      "source": [
        "test_tree_predictions = best_tree_model_balanced.predict(features_test)\n",
        "probabilities_test = best_tree_model_balanced.predict_proba(features_test)\n",
        "results(test_tree_predictions, probabilities_test)"
      ]
    },
    {
      "cell_type": "markdown",
      "metadata": {
        "id": "qRGhz9jo5rMx"
      },
      "source": [
        "Увеличенная выборка:"
      ]
    },
    {
      "cell_type": "code",
      "execution_count": null,
      "metadata": {
        "colab": {
          "base_uri": "https://localhost:8080/"
        },
        "id": "TA8ohqNx5rMx",
        "outputId": "3a7bd5e2-c5b1-417d-992e-b97877cf7230"
      },
      "outputs": [
        {
          "name": "stdout",
          "output_type": "stream",
          "text": [
            "F1-мера решающего дерева на тестовой выборке: 0.5314\n",
            "AUC-ROC Score: 0.8017\n"
          ]
        }
      ],
      "source": [
        "test_tree_predictions = best_tree_model_upsampled.predict(features_test)\n",
        "probabilities_test = best_tree_model_upsampled.predict_proba(features_test)\n",
        "results(test_tree_predictions, probabilities_test)"
      ]
    },
    {
      "cell_type": "markdown",
      "metadata": {
        "id": "iPbZ-S0H5rMx"
      },
      "source": [
        "Уменьшенная выборка:"
      ]
    },
    {
      "cell_type": "code",
      "execution_count": null,
      "metadata": {
        "colab": {
          "base_uri": "https://localhost:8080/"
        },
        "id": "GThu3ec55rMx",
        "outputId": "b40ecf0e-8367-4645-e411-691fcf6c052f"
      },
      "outputs": [
        {
          "name": "stdout",
          "output_type": "stream",
          "text": [
            "F1-мера решающего дерева на тестовой выборке: 0.5304\n",
            "AUC-ROC Score: 0.8025\n"
          ]
        }
      ],
      "source": [
        "test_tree_predictions = best_tree_model_downsampled.predict(features_test)\n",
        "probabilities_test = best_tree_model_downsampled.predict_proba(features_test)\n",
        "results(test_tree_predictions, probabilities_test)"
      ]
    },
    {
      "cell_type": "markdown",
      "metadata": {
        "id": "JIRsLQhN5rMy"
      },
      "source": [
        "На тестовой выборке модель Решающее дерево показывет примерно одни и теже метрики при балансированных классах, F1 ~ `0.53`, AUC-ROC ~ `0.8`.  \n",
        "Результат нас не устраивает."
      ]
    },
    {
      "cell_type": "markdown",
      "metadata": {
        "id": "ZQZkT_oL5rMy"
      },
      "source": [
        "### Случайный лес"
      ]
    },
    {
      "cell_type": "markdown",
      "metadata": {
        "id": "Cm_dn-d95rMy"
      },
      "source": [
        "Взвешивания классов:"
      ]
    },
    {
      "cell_type": "code",
      "execution_count": null,
      "metadata": {
        "colab": {
          "base_uri": "https://localhost:8080/"
        },
        "id": "1xAMQvIr5rMy",
        "outputId": "2da4ae72-9186-478c-9dfe-0f5056408f89"
      },
      "outputs": [
        {
          "name": "stdout",
          "output_type": "stream",
          "text": [
            "F1-мера решающего дерева на тестовой выборке: 0.6118\n",
            "AUC-ROC Score: 0.8538\n"
          ]
        }
      ],
      "source": [
        "test_forest_predictions = best_forest_model_balanced.predict(features_test)\n",
        "probabilities_test = best_forest_model_balanced.predict_proba(features_test)\n",
        "results(test_forest_predictions, probabilities_test)"
      ]
    },
    {
      "cell_type": "markdown",
      "metadata": {
        "id": "06MFYfGr5rMy"
      },
      "source": [
        "Увеличенная выборка:"
      ]
    },
    {
      "cell_type": "code",
      "execution_count": null,
      "metadata": {
        "colab": {
          "base_uri": "https://localhost:8080/"
        },
        "id": "gXJQAszW5rMz",
        "outputId": "fc225d4c-7d67-4125-8c06-006fe8999e87"
      },
      "outputs": [
        {
          "name": "stdout",
          "output_type": "stream",
          "text": [
            "F1-мера решающего дерева на тестовой выборке: 0.598\n",
            "AUC-ROC Score: 0.8515\n"
          ]
        }
      ],
      "source": [
        "test_forest_predictions = best_forest_model_upsampled.predict(features_test)\n",
        "probabilities_test = best_forest_model_upsampled.predict_proba(features_test)\n",
        "results(test_forest_predictions, probabilities_test)"
      ]
    },
    {
      "cell_type": "markdown",
      "metadata": {
        "id": "E7lmz2_u5rMz"
      },
      "source": [
        "Уменьшенная выборка:"
      ]
    },
    {
      "cell_type": "code",
      "execution_count": null,
      "metadata": {
        "colab": {
          "base_uri": "https://localhost:8080/"
        },
        "id": "2FdJqIyc5rMz",
        "outputId": "9b4e4520-2b03-404e-8f45-9c82f1adf15e"
      },
      "outputs": [
        {
          "name": "stdout",
          "output_type": "stream",
          "text": [
            "F1-мера решающего дерева на тестовой выборке: 0.5842\n",
            "AUC-ROC Score: 0.8523\n"
          ]
        }
      ],
      "source": [
        "test_forest_predictions = best_forest_model_downsampled.predict(features_test)\n",
        "probabilities_test = best_forest_model_downsampled.predict_proba(features_test)\n",
        "results(test_forest_predictions, probabilities_test)"
      ]
    },
    {
      "cell_type": "markdown",
      "metadata": {
        "id": "W73DYzxW5rM0"
      },
      "source": [
        "Модель случайный лес показывается себя хорошо.  \n",
        "При балансе взвешивания классов F1 ~ `0.61`, AUC-ROC ~ `0.86`;   \n",
        "при увеличенной выборке F1 ~ `0.60`, AUC-ROC ~ `0.85`;   \n",
        "немного хуже уменьшенная выборка: ~ `0.58`, ~ `0.85`.  "
      ]
    },
    {
      "cell_type": "markdown",
      "metadata": {
        "id": "TaozbIpV5rM0"
      },
      "source": [
        "### Логическая регрессия"
      ]
    },
    {
      "cell_type": "markdown",
      "metadata": {
        "id": "fMPGS_Qv5rM0"
      },
      "source": [
        "Взвешивания классов:"
      ]
    },
    {
      "cell_type": "code",
      "execution_count": null,
      "metadata": {
        "colab": {
          "base_uri": "https://localhost:8080/"
        },
        "id": "evecgRgb5rM0",
        "outputId": "aa54d87a-35b5-4a41-cd72-97f4e6785c74"
      },
      "outputs": [
        {
          "name": "stdout",
          "output_type": "stream",
          "text": [
            "F1-мера решающего дерева на тестовой выборке: 0.4752\n",
            "AUC-ROC Score: 0.7542\n"
          ]
        }
      ],
      "source": [
        "test_logistic_predictions = model_regression_balanced.predict(features_test)\n",
        "probabilities_test = model_regression_balanced.predict_proba(features_test)\n",
        "results(test_logistic_predictions, probabilities_test)"
      ]
    },
    {
      "cell_type": "markdown",
      "metadata": {
        "id": "U2_uvsro5rM0"
      },
      "source": [
        "Увеличенная выборка:"
      ]
    },
    {
      "cell_type": "code",
      "execution_count": null,
      "metadata": {
        "colab": {
          "base_uri": "https://localhost:8080/"
        },
        "id": "rFcMHPOv5rM0",
        "outputId": "214ec6c5-8331-491b-b90e-4dfbcfd04224"
      },
      "outputs": [
        {
          "name": "stdout",
          "output_type": "stream",
          "text": [
            "F1-мера решающего дерева на тестовой выборке: 0.4782\n",
            "AUC-ROC Score: 0.7542\n"
          ]
        }
      ],
      "source": [
        "test_logistic_predictions = model_regression_upsampled.predict(features_test)\n",
        "probabilities_test = model_regression_upsampled.predict_proba(features_test)\n",
        "results(test_logistic_predictions, probabilities_test)"
      ]
    },
    {
      "cell_type": "markdown",
      "metadata": {
        "id": "-_zz-wSW5rM2"
      },
      "source": [
        "Уменьшенная выборка:"
      ]
    },
    {
      "cell_type": "code",
      "execution_count": null,
      "metadata": {
        "colab": {
          "base_uri": "https://localhost:8080/"
        },
        "id": "5YZXUbpM5rM2",
        "outputId": "7d4a50da-105b-471a-8d6d-3d790234c556"
      },
      "outputs": [
        {
          "name": "stdout",
          "output_type": "stream",
          "text": [
            "F1-мера решающего дерева на тестовой выборке: 0.2932\n",
            "AUC-ROC Score: 0.7505\n"
          ]
        }
      ],
      "source": [
        "test_logistic_predictions = model_regression_downsampled.predict(features_test)\n",
        "probabilities_test = model_regression_downsampled.predict_proba(features_test)\n",
        "results(test_logistic_predictions, probabilities_test)"
      ]
    },
    {
      "cell_type": "markdown",
      "metadata": {
        "id": "k9a2n-6O5rM3"
      },
      "source": [
        "Метрики модели логической регрессия низкие, F1 ~ 0.47, AUC-ROC ~ 0.75.  \n",
        "Для нашей задачи, является не приемлемым."
      ]
    },
    {
      "cell_type": "markdown",
      "metadata": {
        "id": "KDI8MWqW5rM3"
      },
      "source": [
        "## Общий вывод"
      ]
    },
    {
      "cell_type": "markdown",
      "metadata": {
        "id": "JEMa19fB5rM3"
      },
      "source": [
        "Налиучшая модель для прогназирования оттока клиентов:  \n",
        "Случайный лес, с гиперпараметрами: глубиной деревьев - 9, количеством деревьев - 100.   \n",
        "Такая модель позволяет получить самые высокие метрики: F1-мера: ~ `0.61` и AUC-ROC Score: ~ `0.85`."
      ]
    }
  ],
  "metadata": {
    "ExecuteTimeLog": [
      {
        "duration": 2501,
        "start_time": "2022-03-08T21:00:30.814Z"
      },
      {
        "duration": 145,
        "start_time": "2022-03-08T21:00:33.318Z"
      },
      {
        "duration": 25,
        "start_time": "2022-03-08T21:00:33.466Z"
      },
      {
        "duration": 19,
        "start_time": "2022-03-08T21:00:33.493Z"
      },
      {
        "duration": 6,
        "start_time": "2022-03-08T21:00:33.514Z"
      },
      {
        "duration": 31,
        "start_time": "2022-03-08T21:00:33.522Z"
      },
      {
        "duration": 47,
        "start_time": "2022-03-08T21:00:33.555Z"
      },
      {
        "duration": 27,
        "start_time": "2022-03-08T21:00:33.606Z"
      },
      {
        "duration": 17,
        "start_time": "2022-03-08T21:00:33.636Z"
      },
      {
        "duration": 21,
        "start_time": "2022-03-08T21:00:33.655Z"
      },
      {
        "duration": 5,
        "start_time": "2022-03-08T21:00:33.678Z"
      },
      {
        "duration": 83,
        "start_time": "2022-03-08T21:00:33.685Z"
      },
      {
        "duration": 12,
        "start_time": "2022-03-08T21:00:33.770Z"
      },
      {
        "duration": 614,
        "start_time": "2022-03-08T21:00:33.784Z"
      },
      {
        "duration": 79624,
        "start_time": "2022-03-08T21:00:34.400Z"
      },
      {
        "duration": 47,
        "start_time": "2022-03-08T21:01:54.026Z"
      },
      {
        "duration": 102,
        "start_time": "2022-03-08T21:01:54.153Z"
      },
      {
        "duration": 39,
        "start_time": "2022-03-08T21:01:54.257Z"
      },
      {
        "duration": 10,
        "start_time": "2022-03-08T21:01:54.298Z"
      },
      {
        "duration": 101,
        "start_time": "2022-03-08T21:01:54.352Z"
      },
      {
        "duration": 19,
        "start_time": "2022-03-08T21:01:54.455Z"
      },
      {
        "duration": 10,
        "start_time": "2022-03-08T21:01:54.477Z"
      },
      {
        "duration": 6,
        "start_time": "2022-03-08T21:01:54.491Z"
      },
      {
        "duration": 52,
        "start_time": "2022-03-08T21:01:54.500Z"
      },
      {
        "duration": 8,
        "start_time": "2022-03-08T21:01:54.555Z"
      },
      {
        "duration": 613,
        "start_time": "2022-03-08T21:01:54.565Z"
      },
      {
        "duration": 791,
        "start_time": "2022-03-08T21:01:55.181Z"
      },
      {
        "duration": 279,
        "start_time": "2022-03-08T21:01:55.974Z"
      },
      {
        "duration": 77950,
        "start_time": "2022-03-08T21:01:56.255Z"
      },
      {
        "duration": 113216,
        "start_time": "2022-03-08T21:03:14.208Z"
      },
      {
        "duration": 43245,
        "start_time": "2022-03-08T21:05:07.426Z"
      },
      {
        "duration": 82,
        "start_time": "2022-03-08T21:05:50.674Z"
      },
      {
        "duration": 193,
        "start_time": "2022-03-08T21:05:50.759Z"
      },
      {
        "duration": 199,
        "start_time": "2022-03-08T21:05:50.956Z"
      },
      {
        "duration": 94,
        "start_time": "2022-03-08T21:05:51.158Z"
      },
      {
        "duration": 14,
        "start_time": "2022-03-08T21:05:51.255Z"
      },
      {
        "duration": 12,
        "start_time": "2022-03-08T21:05:51.272Z"
      },
      {
        "duration": 12,
        "start_time": "2022-03-08T21:05:51.287Z"
      },
      {
        "duration": 81,
        "start_time": "2022-03-08T21:05:51.302Z"
      },
      {
        "duration": 91,
        "start_time": "2022-03-08T21:05:51.385Z"
      },
      {
        "duration": 77,
        "start_time": "2022-03-08T21:05:51.479Z"
      },
      {
        "duration": 194,
        "start_time": "2022-03-08T21:05:51.558Z"
      },
      {
        "duration": 196,
        "start_time": "2022-03-08T21:05:51.756Z"
      },
      {
        "duration": 96,
        "start_time": "2022-03-08T21:05:51.955Z"
      },
      {
        "duration": 1257,
        "start_time": "2022-03-10T09:00:57.436Z"
      },
      {
        "duration": 375,
        "start_time": "2022-03-10T09:00:58.695Z"
      },
      {
        "duration": 18,
        "start_time": "2022-03-10T09:00:59.072Z"
      },
      {
        "duration": 11,
        "start_time": "2022-03-10T09:00:59.092Z"
      },
      {
        "duration": 5,
        "start_time": "2022-03-10T09:00:59.105Z"
      },
      {
        "duration": 4,
        "start_time": "2022-03-10T09:00:59.111Z"
      },
      {
        "duration": 50,
        "start_time": "2022-03-10T09:00:59.117Z"
      },
      {
        "duration": 17,
        "start_time": "2022-03-10T09:00:59.170Z"
      },
      {
        "duration": 4,
        "start_time": "2022-03-10T09:00:59.189Z"
      },
      {
        "duration": 13,
        "start_time": "2022-03-10T09:00:59.195Z"
      },
      {
        "duration": 4,
        "start_time": "2022-03-10T09:00:59.210Z"
      },
      {
        "duration": 73,
        "start_time": "2022-03-10T09:00:59.216Z"
      },
      {
        "duration": 10,
        "start_time": "2022-03-10T09:00:59.290Z"
      },
      {
        "duration": 475,
        "start_time": "2022-03-10T09:00:59.302Z"
      },
      {
        "duration": 58628,
        "start_time": "2022-03-10T09:00:59.779Z"
      },
      {
        "duration": 62,
        "start_time": "2022-03-10T09:01:58.409Z"
      },
      {
        "duration": 357,
        "start_time": "2022-03-10T09:01:58.473Z"
      },
      {
        "duration": 218,
        "start_time": "2022-03-10T09:01:58.832Z"
      },
      {
        "duration": 417,
        "start_time": "2022-03-10T09:01:59.052Z"
      },
      {
        "duration": 4,
        "start_time": "2022-03-10T09:01:59.470Z"
      },
      {
        "duration": 16,
        "start_time": "2022-03-10T09:01:59.475Z"
      },
      {
        "duration": 5,
        "start_time": "2022-03-10T09:01:59.493Z"
      },
      {
        "duration": 5,
        "start_time": "2022-03-10T09:01:59.501Z"
      },
      {
        "duration": 12,
        "start_time": "2022-03-10T09:01:59.508Z"
      },
      {
        "duration": 41,
        "start_time": "2022-03-10T09:01:59.522Z"
      },
      {
        "duration": 477,
        "start_time": "2022-03-10T09:01:59.565Z"
      },
      {
        "duration": 613,
        "start_time": "2022-03-10T09:02:00.044Z"
      },
      {
        "duration": 235,
        "start_time": "2022-03-10T09:02:00.663Z"
      },
      {
        "duration": 57175,
        "start_time": "2022-03-10T09:02:00.900Z"
      },
      {
        "duration": 80618,
        "start_time": "2022-03-10T09:02:58.077Z"
      },
      {
        "duration": 33694,
        "start_time": "2022-03-10T09:04:18.697Z"
      },
      {
        "duration": 75,
        "start_time": "2022-03-10T09:04:52.393Z"
      },
      {
        "duration": 292,
        "start_time": "2022-03-10T09:04:52.471Z"
      },
      {
        "duration": 114,
        "start_time": "2022-03-10T09:04:52.769Z"
      },
      {
        "duration": 196,
        "start_time": "2022-03-10T09:04:52.885Z"
      },
      {
        "duration": 39,
        "start_time": "2022-03-10T09:04:53.083Z"
      },
      {
        "duration": 33,
        "start_time": "2022-03-10T09:04:53.124Z"
      },
      {
        "duration": 45,
        "start_time": "2022-03-10T09:04:53.159Z"
      },
      {
        "duration": 65,
        "start_time": "2022-03-10T09:04:53.206Z"
      },
      {
        "duration": 52,
        "start_time": "2022-03-10T09:04:53.273Z"
      },
      {
        "duration": 55,
        "start_time": "2022-03-10T09:04:53.326Z"
      },
      {
        "duration": 86,
        "start_time": "2022-03-10T09:04:53.382Z"
      },
      {
        "duration": 106,
        "start_time": "2022-03-10T09:04:53.470Z"
      },
      {
        "duration": 187,
        "start_time": "2022-03-10T09:04:53.578Z"
      }
    ],
    "colab": {
      "collapsed_sections": [],
      "name": "bank_customer_churn_prediction.ipynb",
      "provenance": [],
      "toc_visible": true
    },
    "kernelspec": {
      "display_name": "Python 3 (ipykernel)",
      "language": "python",
      "name": "python3"
    },
    "language_info": {
      "codemirror_mode": {
        "name": "ipython",
        "version": 3
      },
      "file_extension": ".py",
      "mimetype": "text/x-python",
      "name": "python",
      "nbconvert_exporter": "python",
      "pygments_lexer": "ipython3",
      "version": "3.9.7"
    },
    "toc": {
      "base_numbering": 1,
      "nav_menu": {},
      "number_sections": true,
      "sideBar": true,
      "skip_h1_title": true,
      "title_cell": "Содержание",
      "title_sidebar": "Contents",
      "toc_cell": true,
      "toc_position": {
        "height": "calc(100% - 180px)",
        "left": "10px",
        "top": "150px",
        "width": "504px"
      },
      "toc_section_display": true,
      "toc_window_display": true
    }
  },
  "nbformat": 4,
  "nbformat_minor": 0
}