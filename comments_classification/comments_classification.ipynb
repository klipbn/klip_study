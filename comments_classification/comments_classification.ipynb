{
 "cells": [
  {
   "cell_type": "code",
   "execution_count": 2,
   "metadata": {
    "executionInfo": {
     "elapsed": 1760,
     "status": "ok",
     "timestamp": 1652020354096,
     "user": {
      "displayName": "Aleksey Efremov",
      "userId": "00286921861262744042"
     },
     "user_tz": -180
    },
    "id": "51FH286f0WkH"
   },
   "outputs": [],
   "source": [
    "import nltk\n",
    "import numpy as np\n",
    "import pandas as pd\n",
    "import re\n",
    "import time\n",
    "from lightgbm import LGBMClassifier\n",
    "from nltk.corpus import wordnet, stopwords as nltk_stopwords\n",
    "from nltk.stem import WordNetLemmatizer\n",
    "from sklearn.feature_extraction.text import TfidfVectorizer, CountVectorizer\n",
    "from sklearn.linear_model import LogisticRegression\n",
    "from sklearn.metrics import f1_score\n",
    "from sklearn.model_selection import train_test_split, GridSearchCV, StratifiedKFold, KFold\n",
    "from xgboost import XGBClassifier"
   ]
  },
  {
   "cell_type": "code",
   "execution_count": 3,
   "metadata": {
    "colab": {
     "base_uri": "https://localhost:8080/"
    },
    "executionInfo": {
     "elapsed": 18,
     "status": "ok",
     "timestamp": 1652020354097,
     "user": {
      "displayName": "Aleksey Efremov",
      "userId": "00286921861262744042"
     },
     "user_tz": -180
    },
    "id": "FKJfErgp4Le6",
    "outputId": "f971ad12-e0eb-44fe-8f9d-8ff39d09c273",
    "scrolled": false
   },
   "outputs": [
    {
     "name": "stderr",
     "output_type": "stream",
     "text": [
      "[nltk_data] Downloading package wordnet to /home/jovyan/nltk_data...\n",
      "[nltk_data]   Package wordnet is already up-to-date!\n",
      "[nltk_data] Downloading package averaged_perceptron_tagger to\n",
      "[nltk_data]     /home/jovyan/nltk_data...\n",
      "[nltk_data]   Unzipping taggers/averaged_perceptron_tagger.zip.\n"
     ]
    },
    {
     "data": {
      "text/plain": [
       "True"
      ]
     },
     "execution_count": 3,
     "metadata": {},
     "output_type": "execute_result"
    }
   ],
   "source": [
    "nltk.download('wordnet')\n",
    "nltk.download('averaged_perceptron_tagger')"
   ]
  },
  {
   "cell_type": "markdown",
   "metadata": {
    "id": "GrQ8XlL7ze0i"
   },
   "source": [
    "# Проект для «Викишоп»"
   ]
  },
  {
   "cell_type": "markdown",
   "metadata": {
    "id": "YRAN2jCTze0j"
   },
   "source": [
    "Интернет-магазин «Викишоп» запускает новый сервис. Теперь пользователи могут редактировать и дополнять описания товаров, как в вики-сообществах. То есть клиенты предлагают свои правки и комментируют изменения других. Магазину нужен инструмент, который будет искать токсичные комментарии и отправлять их на модерацию. \n",
    "\n",
    "Обучите модель классифицировать комментарии на позитивные и негативные. В вашем распоряжении набор данных с разметкой о токсичности правок.\n",
    "\n",
    "Постройте модель со значением метрики качества *F1* не меньше 0.75. \n",
    "\n",
    "**Инструкция по выполнению проекта**\n",
    "\n",
    "1. Загрузите и подготовьте данные.\n",
    "2. Обучите разные модели. \n",
    "3. Сделайте выводы.\n",
    "\n",
    "Для выполнения проекта применять *BERT* необязательно, но вы можете попробовать.\n",
    "\n",
    "**Описание данных**\n",
    "\n",
    "Данные находятся в файле `toxic_comments.csv`. Столбец *text* в нём содержит текст комментария, а *toxic* — целевой признак."
   ]
  },
  {
   "cell_type": "markdown",
   "metadata": {
    "id": "xpvdImGdze0k"
   },
   "source": [
    "## Подготовка"
   ]
  },
  {
   "cell_type": "markdown",
   "metadata": {
    "id": "0v5CUchvze0l"
   },
   "source": [
    "Загрузим данные:"
   ]
  },
  {
   "cell_type": "code",
   "execution_count": 3,
   "metadata": {
    "executionInfo": {
     "elapsed": 7875,
     "status": "ok",
     "timestamp": 1652020361967,
     "user": {
      "displayName": "Aleksey Efremov",
      "userId": "00286921861262744042"
     },
     "user_tz": -180
    },
    "id": "ZN7amU-j0Xyz"
   },
   "outputs": [],
   "source": [
    "df = pd.read_csv('/datasets/toxic_comments.csv')"
   ]
  },
  {
   "cell_type": "code",
   "execution_count": 4,
   "metadata": {
    "colab": {
     "base_uri": "https://localhost:8080/"
    },
    "executionInfo": {
     "elapsed": 25,
     "status": "ok",
     "timestamp": 1652020361971,
     "user": {
      "displayName": "Aleksey Efremov",
      "userId": "00286921861262744042"
     },
     "user_tz": -180
    },
    "id": "Mm7R-MoU0Xxj",
    "outputId": "2b1ef82d-8ce1-4ea2-a638-a1cd02cec28e"
   },
   "outputs": [
    {
     "name": "stdout",
     "output_type": "stream",
     "text": [
      "<class 'pandas.core.frame.DataFrame'>\n",
      "RangeIndex: 159571 entries, 0 to 159570\n",
      "Data columns (total 2 columns):\n",
      " #   Column  Non-Null Count   Dtype \n",
      "---  ------  --------------   ----- \n",
      " 0   text    159571 non-null  object\n",
      " 1   toxic   159571 non-null  int64 \n",
      "dtypes: int64(1), object(1)\n",
      "memory usage: 2.4+ MB\n"
     ]
    }
   ],
   "source": [
    "df.info()"
   ]
  },
  {
   "cell_type": "code",
   "execution_count": 5,
   "metadata": {
    "colab": {
     "base_uri": "https://localhost:8080/",
     "height": 206
    },
    "executionInfo": {
     "elapsed": 21,
     "status": "ok",
     "timestamp": 1652020361971,
     "user": {
      "displayName": "Aleksey Efremov",
      "userId": "00286921861262744042"
     },
     "user_tz": -180
    },
    "id": "ANSH4GSi0Xvv",
    "outputId": "33be076c-c9b6-4b61-c70c-1fbaf6d2ff59"
   },
   "outputs": [
    {
     "data": {
      "text/html": [
       "<div>\n",
       "<style scoped>\n",
       "    .dataframe tbody tr th:only-of-type {\n",
       "        vertical-align: middle;\n",
       "    }\n",
       "\n",
       "    .dataframe tbody tr th {\n",
       "        vertical-align: top;\n",
       "    }\n",
       "\n",
       "    .dataframe thead th {\n",
       "        text-align: right;\n",
       "    }\n",
       "</style>\n",
       "<table border=\"1\" class=\"dataframe\">\n",
       "  <thead>\n",
       "    <tr style=\"text-align: right;\">\n",
       "      <th></th>\n",
       "      <th>text</th>\n",
       "      <th>toxic</th>\n",
       "    </tr>\n",
       "  </thead>\n",
       "  <tbody>\n",
       "    <tr>\n",
       "      <th>0</th>\n",
       "      <td>Explanation\\nWhy the edits made under my usern...</td>\n",
       "      <td>0</td>\n",
       "    </tr>\n",
       "    <tr>\n",
       "      <th>1</th>\n",
       "      <td>D'aww! He matches this background colour I'm s...</td>\n",
       "      <td>0</td>\n",
       "    </tr>\n",
       "    <tr>\n",
       "      <th>2</th>\n",
       "      <td>Hey man, I'm really not trying to edit war. It...</td>\n",
       "      <td>0</td>\n",
       "    </tr>\n",
       "    <tr>\n",
       "      <th>3</th>\n",
       "      <td>\"\\nMore\\nI can't make any real suggestions on ...</td>\n",
       "      <td>0</td>\n",
       "    </tr>\n",
       "    <tr>\n",
       "      <th>4</th>\n",
       "      <td>You, sir, are my hero. Any chance you remember...</td>\n",
       "      <td>0</td>\n",
       "    </tr>\n",
       "  </tbody>\n",
       "</table>\n",
       "</div>"
      ],
      "text/plain": [
       "                                                text  toxic\n",
       "0  Explanation\\nWhy the edits made under my usern...      0\n",
       "1  D'aww! He matches this background colour I'm s...      0\n",
       "2  Hey man, I'm really not trying to edit war. It...      0\n",
       "3  \"\\nMore\\nI can't make any real suggestions on ...      0\n",
       "4  You, sir, are my hero. Any chance you remember...      0"
      ]
     },
     "execution_count": 5,
     "metadata": {},
     "output_type": "execute_result"
    }
   ],
   "source": [
    "df.head()"
   ]
  },
  {
   "cell_type": "code",
   "execution_count": 6,
   "metadata": {
    "colab": {
     "base_uri": "https://localhost:8080/",
     "height": 35
    },
    "executionInfo": {
     "elapsed": 13,
     "status": "ok",
     "timestamp": 1652020361972,
     "user": {
      "displayName": "Aleksey Efremov",
      "userId": "00286921861262744042"
     },
     "user_tz": -180
    },
    "id": "EgUa1ijw0Xtu",
    "outputId": "37f561e9-5656-4801-dd89-19115cb8ddd3"
   },
   "outputs": [
    {
     "data": {
      "text/plain": [
       "'10.2% токсичных комментариев'"
      ]
     },
     "execution_count": 6,
     "metadata": {},
     "output_type": "execute_result"
    }
   ],
   "source": [
    "f\"{df.toxic.mean():.1%} токсичных комментариев\""
   ]
  },
  {
   "cell_type": "markdown",
   "metadata": {
    "id": "tZqjfNsw0Xru"
   },
   "source": [
    "Имеем датасет с английскими комментариями в которых ~ 10% токсичных комментов;  \n",
    "При этом содержится много не нужных символов, треубется преобработоать текст."
   ]
  },
  {
   "cell_type": "markdown",
   "metadata": {
    "id": "5sER030Z1Y5-"
   },
   "source": [
    "### Очистка `text`"
   ]
  },
  {
   "cell_type": "markdown",
   "metadata": {
    "id": "TCf-PXMI3GKB"
   },
   "source": [
    "Проведем текст к нижнему регистру, очистим от линщних знаков:"
   ]
  },
  {
   "cell_type": "code",
   "execution_count": 7,
   "metadata": {
    "executionInfo": {
     "elapsed": 11,
     "status": "ok",
     "timestamp": 1652020361972,
     "user": {
      "displayName": "Aleksey Efremov",
      "userId": "00286921861262744042"
     },
     "user_tz": -180
    },
    "id": "-qTc77eF1Y4b"
   },
   "outputs": [],
   "source": [
    "def cleaner(row):\n",
    "    text = row['text'].lower()\n",
    "    text = re.sub(r\"(?:\\n|\\r)\", \" \", text)\n",
    "    text = re.sub(r\"[^a-z ]+\", \"\", text).strip()\n",
    "    return text"
   ]
  },
  {
   "cell_type": "code",
   "execution_count": 8,
   "metadata": {
    "executionInfo": {
     "elapsed": 402,
     "status": "ok",
     "timestamp": 1652020362364,
     "user": {
      "displayName": "Aleksey Efremov",
      "userId": "00286921861262744042"
     },
     "user_tz": -180
    },
    "id": "oUA0XuM_1Y28"
   },
   "outputs": [],
   "source": [
    "df['cleaned_text'] = df.apply(cleaner, axis=1)"
   ]
  },
  {
   "cell_type": "code",
   "execution_count": 9,
   "metadata": {
    "colab": {
     "base_uri": "https://localhost:8080/",
     "height": 175
    },
    "executionInfo": {
     "elapsed": 6,
     "status": "ok",
     "timestamp": 1652020362365,
     "user": {
      "displayName": "Aleksey Efremov",
      "userId": "00286921861262744042"
     },
     "user_tz": -180
    },
    "id": "zuulPF021Y1C",
    "outputId": "77ee5ced-60ba-49dd-fd22-efda8650fb81"
   },
   "outputs": [
    {
     "data": {
      "text/html": [
       "<div>\n",
       "<style scoped>\n",
       "    .dataframe tbody tr th:only-of-type {\n",
       "        vertical-align: middle;\n",
       "    }\n",
       "\n",
       "    .dataframe tbody tr th {\n",
       "        vertical-align: top;\n",
       "    }\n",
       "\n",
       "    .dataframe thead th {\n",
       "        text-align: right;\n",
       "    }\n",
       "</style>\n",
       "<table border=\"1\" class=\"dataframe\">\n",
       "  <thead>\n",
       "    <tr style=\"text-align: right;\">\n",
       "      <th></th>\n",
       "      <th>text</th>\n",
       "      <th>toxic</th>\n",
       "      <th>cleaned_text</th>\n",
       "    </tr>\n",
       "  </thead>\n",
       "  <tbody>\n",
       "    <tr>\n",
       "      <th>131826</th>\n",
       "      <td>How do you create a project? Because i'm tryin...</td>\n",
       "      <td>0</td>\n",
       "      <td>how do you create a project because im trying ...</td>\n",
       "    </tr>\n",
       "    <tr>\n",
       "      <th>61983</th>\n",
       "      <td>So does this mean I have been Wiki-vanquished?</td>\n",
       "      <td>0</td>\n",
       "      <td>so does this mean i have been wikivanquished</td>\n",
       "    </tr>\n",
       "    <tr>\n",
       "      <th>116101</th>\n",
       "      <td>Welcome!\\n\\nHello, , and welcome to Wikipedia!...</td>\n",
       "      <td>0</td>\n",
       "      <td>welcome  hello  and welcome to wikipedia thank...</td>\n",
       "    </tr>\n",
       "    <tr>\n",
       "      <th>16477</th>\n",
       "      <td>Yes, but this encyclopedia articles at their b...</td>\n",
       "      <td>0</td>\n",
       "      <td>yes but this encyclopedia articles at their be...</td>\n",
       "    </tr>\n",
       "  </tbody>\n",
       "</table>\n",
       "</div>"
      ],
      "text/plain": [
       "                                                     text  toxic  \\\n",
       "131826  How do you create a project? Because i'm tryin...      0   \n",
       "61983      So does this mean I have been Wiki-vanquished?      0   \n",
       "116101  Welcome!\\n\\nHello, , and welcome to Wikipedia!...      0   \n",
       "16477   Yes, but this encyclopedia articles at their b...      0   \n",
       "\n",
       "                                             cleaned_text  \n",
       "131826  how do you create a project because im trying ...  \n",
       "61983        so does this mean i have been wikivanquished  \n",
       "116101  welcome  hello  and welcome to wikipedia thank...  \n",
       "16477   yes but this encyclopedia articles at their be...  "
      ]
     },
     "execution_count": 9,
     "metadata": {},
     "output_type": "execute_result"
    }
   ],
   "source": [
    "df.sample(4)"
   ]
  },
  {
   "cell_type": "markdown",
   "metadata": {
    "id": "KqmwNPFr1YzG"
   },
   "source": [
    "### Леммитизация"
   ]
  },
  {
   "cell_type": "markdown",
   "metadata": {
    "id": "P9q1dcZY4zYD"
   },
   "source": [
    "Определим функции `lemmatization` и `pos_tag_wordnet`:"
   ]
  },
  {
   "cell_type": "code",
   "execution_count": 10,
   "metadata": {
    "executionInfo": {
     "elapsed": 4,
     "status": "ok",
     "timestamp": 1652020362365,
     "user": {
      "displayName": "Aleksey Efremov",
      "userId": "00286921861262744042"
     },
     "user_tz": -180
    },
    "id": "6W2N_L-o1YxA"
   },
   "outputs": [],
   "source": [
    "def pos_tag_wordnet(text):\n",
    "    \"\"\"\n",
    "        Create pos_tag with wordnet format\n",
    "    \"\"\"\n",
    "    wordnet_map = {\n",
    "        \"N\": wordnet.NOUN,\n",
    "        \"V\": wordnet.VERB,\n",
    "        \"J\": wordnet.ADJ,\n",
    "        \"R\": wordnet.ADV\n",
    "    }\n",
    "\n",
    "    pos_tagged_text = nltk.pos_tag(text)\n",
    "\n",
    "    pos_tagged_text = [\n",
    "        (word,\n",
    "         wordnet_map.get(pos_tag[0])) if pos_tag[0] in wordnet_map.keys() else\n",
    "        (word, wordnet.NOUN) for (word, pos_tag) in pos_tagged_text\n",
    "    ]\n",
    "\n",
    "    return pos_tagged_text\n",
    "\n",
    "\n",
    "def lemmatization(clmn: pd.Series):\n",
    "\n",
    "    wordnet_lemmatizer = WordNetLemmatizer()\n",
    "\n",
    "    new_result = []\n",
    "\n",
    "    for phrase in clmn:\n",
    "        pos_tag = pos_tag_wordnet([i for i in phrase.split()])\n",
    "        new_phrase = str()\n",
    "        for word in pos_tag:\n",
    "            new_phrase += \" \" + (wordnet_lemmatizer.lemmatize(word[0],\n",
    "                                                              pos=word[1]))\n",
    "        new_result.append(new_phrase)\n",
    "\n",
    "    return pd.Series(new_result)"
   ]
  },
  {
   "cell_type": "code",
   "execution_count": 11,
   "metadata": {
    "colab": {
     "base_uri": "https://localhost:8080/"
    },
    "executionInfo": {
     "elapsed": 28775,
     "status": "ok",
     "timestamp": 1652020391136,
     "user": {
      "displayName": "Aleksey Efremov",
      "userId": "00286921861262744042"
     },
     "user_tz": -180
    },
    "id": "Ikuy__C01Yup",
    "outputId": "f7dca95d-366e-4c1e-be85-599c82060063"
   },
   "outputs": [
    {
     "name": "stdout",
     "output_type": "stream",
     "text": [
      "Wall time: 6min 11s\n"
     ]
    }
   ],
   "source": [
    "%%time\n",
    "df['lemmas'] = lemmatization(df['cleaned_text'])"
   ]
  },
  {
   "cell_type": "code",
   "execution_count": 12,
   "metadata": {
    "executionInfo": {
     "elapsed": 16,
     "status": "ok",
     "timestamp": 1652020391136,
     "user": {
      "displayName": "Aleksey Efremov",
      "userId": "00286921861262744042"
     },
     "user_tz": -180
    },
    "id": "AWaew3Dg1Yso"
   },
   "outputs": [],
   "source": [
    "df_lemm = df.drop(columns=['text', 'cleaned_text'])"
   ]
  },
  {
   "cell_type": "code",
   "execution_count": 13,
   "metadata": {
    "colab": {
     "base_uri": "https://localhost:8080/",
     "height": 206
    },
    "executionInfo": {
     "elapsed": 16,
     "status": "ok",
     "timestamp": 1652020391137,
     "user": {
      "displayName": "Aleksey Efremov",
      "userId": "00286921861262744042"
     },
     "user_tz": -180
    },
    "id": "mlnxv-Wv58Pc",
    "outputId": "28fb397d-7743-4012-f7ea-e836eae00f47"
   },
   "outputs": [
    {
     "data": {
      "text/html": [
       "<div>\n",
       "<style scoped>\n",
       "    .dataframe tbody tr th:only-of-type {\n",
       "        vertical-align: middle;\n",
       "    }\n",
       "\n",
       "    .dataframe tbody tr th {\n",
       "        vertical-align: top;\n",
       "    }\n",
       "\n",
       "    .dataframe thead th {\n",
       "        text-align: right;\n",
       "    }\n",
       "</style>\n",
       "<table border=\"1\" class=\"dataframe\">\n",
       "  <thead>\n",
       "    <tr style=\"text-align: right;\">\n",
       "      <th></th>\n",
       "      <th>toxic</th>\n",
       "      <th>lemmas</th>\n",
       "    </tr>\n",
       "  </thead>\n",
       "  <tbody>\n",
       "    <tr>\n",
       "      <th>0</th>\n",
       "      <td>0</td>\n",
       "      <td>explanation why the edits make under my usern...</td>\n",
       "    </tr>\n",
       "    <tr>\n",
       "      <th>1</th>\n",
       "      <td>0</td>\n",
       "      <td>daww he match this background colour im seemi...</td>\n",
       "    </tr>\n",
       "    <tr>\n",
       "      <th>2</th>\n",
       "      <td>0</td>\n",
       "      <td>hey man im really not try to edit war it just...</td>\n",
       "    </tr>\n",
       "    <tr>\n",
       "      <th>3</th>\n",
       "      <td>0</td>\n",
       "      <td>more i cant make any real suggestion on impro...</td>\n",
       "    </tr>\n",
       "    <tr>\n",
       "      <th>4</th>\n",
       "      <td>0</td>\n",
       "      <td>you sir be my hero any chance you remember wh...</td>\n",
       "    </tr>\n",
       "  </tbody>\n",
       "</table>\n",
       "</div>"
      ],
      "text/plain": [
       "   toxic                                             lemmas\n",
       "0      0   explanation why the edits make under my usern...\n",
       "1      0   daww he match this background colour im seemi...\n",
       "2      0   hey man im really not try to edit war it just...\n",
       "3      0   more i cant make any real suggestion on impro...\n",
       "4      0   you sir be my hero any chance you remember wh..."
      ]
     },
     "execution_count": 13,
     "metadata": {},
     "output_type": "execute_result"
    }
   ],
   "source": [
    "df_lemm.head()"
   ]
  },
  {
   "cell_type": "markdown",
   "metadata": {
    "id": "2SyPmheZze0l"
   },
   "source": [
    "## Обучение"
   ]
  },
  {
   "cell_type": "markdown",
   "metadata": {
    "id": "TScEA8tAze0m"
   },
   "source": [
    "### Признаки TF-IDF"
   ]
  },
  {
   "cell_type": "code",
   "execution_count": 14,
   "metadata": {
    "executionInfo": {
     "elapsed": 15,
     "status": "ok",
     "timestamp": 1652020391137,
     "user": {
      "displayName": "Aleksey Efremov",
      "userId": "00286921861262744042"
     },
     "user_tz": -180
    },
    "id": "daQWcwmQ1N78"
   },
   "outputs": [],
   "source": [
    "train, test = train_test_split(df_lemm,\n",
    "                               test_size=0.25,\n",
    "                               random_state=42,\n",
    "                               stratify=df_lemm['toxic'])"
   ]
  },
  {
   "cell_type": "code",
   "execution_count": 15,
   "metadata": {
    "colab": {
     "base_uri": "https://localhost:8080/"
    },
    "executionInfo": {
     "elapsed": 15,
     "status": "ok",
     "timestamp": 1652020391137,
     "user": {
      "displayName": "Aleksey Efremov",
      "userId": "00286921861262744042"
     },
     "user_tz": -180
    },
    "id": "GRxVztW21N6M",
    "outputId": "88f47312-2d0a-4c6f-af1d-ab045637daae"
   },
   "outputs": [
    {
     "name": "stderr",
     "output_type": "stream",
     "text": [
      "[nltk_data] Downloading package stopwords to\n",
      "[nltk_data]     C:\\Users\\Администратор\\AppData\\Roaming\\nltk_data...\n",
      "[nltk_data]   Package stopwords is already up-to-date!\n"
     ]
    }
   ],
   "source": [
    "nltk.download('stopwords')\n",
    "stopwords = set(nltk_stopwords.words('english'))\n",
    "count_tf_idf = TfidfVectorizer(stop_words=stopwords)"
   ]
  },
  {
   "cell_type": "code",
   "execution_count": 16,
   "metadata": {
    "executionInfo": {
     "elapsed": 447,
     "status": "ok",
     "timestamp": 1652020391572,
     "user": {
      "displayName": "Aleksey Efremov",
      "userId": "00286921861262744042"
     },
     "user_tz": -180
    },
    "id": "wuE1NXRu1N4A"
   },
   "outputs": [],
   "source": [
    "tf_idf_train = count_tf_idf.fit_transform(train['lemmas'])\n",
    "tf_idf_test = count_tf_idf.transform(test['lemmas'])"
   ]
  },
  {
   "cell_type": "code",
   "execution_count": 17,
   "metadata": {
    "colab": {
     "base_uri": "https://localhost:8080/"
    },
    "executionInfo": {
     "elapsed": 8,
     "status": "ok",
     "timestamp": 1652020391573,
     "user": {
      "displayName": "Aleksey Efremov",
      "userId": "00286921861262744042"
     },
     "user_tz": -180
    },
    "id": "HhwWqEen1N0Y",
    "outputId": "0e37b92a-b713-4ee5-a8fc-f9992bc25b3e"
   },
   "outputs": [
    {
     "name": "stdout",
     "output_type": "stream",
     "text": [
      "Размер матрицы признаков обучающей выборки: (119678, 175251)\n",
      "Размер матрицы признаков тестовой выборки: (39893, 175251)\n"
     ]
    }
   ],
   "source": [
    "print(\"Размер матрицы признаков обучающей выборки:\", tf_idf_train.shape)\n",
    "print(\"Размер матрицы признаков тестовой выборки:\", tf_idf_test.shape)"
   ]
  },
  {
   "cell_type": "markdown",
   "metadata": {
    "id": "xDzek6px1NwD"
   },
   "source": [
    "### Logistic Regression"
   ]
  },
  {
   "cell_type": "markdown",
   "metadata": {
    "id": "GKlvCICjF9f8"
   },
   "source": [
    "Обучим модель логистической регрессии:"
   ]
  },
  {
   "cell_type": "code",
   "execution_count": 18,
   "metadata": {
    "executionInfo": {
     "elapsed": 5,
     "status": "ok",
     "timestamp": 1652020391573,
     "user": {
      "displayName": "Aleksey Efremov",
      "userId": "00286921861262744042"
     },
     "user_tz": -180
    },
    "id": "bvsZgnNw9PIG"
   },
   "outputs": [],
   "source": [
    "log_reg = LogisticRegression(random_state=42,\n",
    "                                    solver='liblinear',\n",
    "                                    max_iter=500,\n",
    "                                    verbose=True)\n",
    "\n",
    "params = [{\n",
    "    'penalty': ['l1'],\n",
    "    'solver': ['liblinear'],\n",
    "    'C': [0.001, 0.01, 0.1, 1, 10, 50, 100, 200]\n",
    "}]\n",
    "\n",
    "cv = StratifiedKFold(n_splits=3, shuffle=True, random_state=42)\n",
    "\n",
    "grid_log_reg = GridSearchCV(log_reg,\n",
    "                            param_grid=params,\n",
    "                            scoring='f1',\n",
    "                            cv=cv,\n",
    "                            verbose=True,\n",
    "                            n_jobs=-1)"
   ]
  },
  {
   "cell_type": "code",
   "execution_count": 19,
   "metadata": {
    "colab": {
     "base_uri": "https://localhost:8080/"
    },
    "executionInfo": {
     "elapsed": 32531,
     "status": "ok",
     "timestamp": 1652020424100,
     "user": {
      "displayName": "Aleksey Efremov",
      "userId": "00286921861262744042"
     },
     "user_tz": -180
    },
    "id": "epkMTP6I9PGE",
    "outputId": "b4385354-26e6-4030-d662-6750458b1b1b"
   },
   "outputs": [
    {
     "name": "stdout",
     "output_type": "stream",
     "text": [
      "Fitting 3 folds for each of 8 candidates, totalling 24 fits\n",
      "[LibLinear]Wall time: 45.5 s\n"
     ]
    }
   ],
   "source": [
    "%%time\n",
    "start = time.time()\n",
    "\n",
    "grid_log_reg.fit(tf_idf_train, train.toxic)\n",
    "\n",
    "end = time.time()\n",
    "log_reg_fit_time = end - start"
   ]
  },
  {
   "cell_type": "code",
   "execution_count": 20,
   "metadata": {
    "executionInfo": {
     "elapsed": 7,
     "status": "ok",
     "timestamp": 1652020424101,
     "user": {
      "displayName": "Aleksey Efremov",
      "userId": "00286921861262744042"
     },
     "user_tz": -180
    },
    "id": "CRtVzAvf9PEO"
   },
   "outputs": [],
   "source": [
    "best_grid_log_reg = grid_log_reg.best_estimator_"
   ]
  },
  {
   "cell_type": "markdown",
   "metadata": {
    "id": "ePjTT5MZ9O9E"
   },
   "source": [
    "### XGBClassifier"
   ]
  },
  {
   "cell_type": "markdown",
   "metadata": {
    "id": "W46srFFUGA7c"
   },
   "source": [
    "Обучим модель eXtreme Gradient Boosting Сlassifier"
   ]
  },
  {
   "cell_type": "code",
   "execution_count": 21,
   "metadata": {
    "colab": {
     "base_uri": "https://localhost:8080/"
    },
    "executionInfo": {
     "elapsed": 23056,
     "status": "ok",
     "timestamp": 1652020447152,
     "user": {
      "displayName": "Aleksey Efremov",
      "userId": "00286921861262744042"
     },
     "user_tz": -180
    },
    "id": "wP18GyDu1Nt7",
    "outputId": "63e205ad-acb5-4b94-b93a-3f86607214e6",
    "scrolled": true
   },
   "outputs": [
    {
     "name": "stderr",
     "output_type": "stream",
     "text": [
      "C:\\ProgramData\\Anaconda3\\lib\\site-packages\\xgboost\\sklearn.py:1224: UserWarning: The use of label encoder in XGBClassifier is deprecated and will be removed in a future release. To remove this warning, do the following: 1) Pass option use_label_encoder=False when constructing XGBClassifier object; and 2) Encode your labels (y) as integers starting with 0, i.e. 0, 1, 2, ..., [num_class - 1].\n",
      "  warnings.warn(label_encoder_deprecation_msg, UserWarning)\n"
     ]
    },
    {
     "name": "stdout",
     "output_type": "stream",
     "text": [
      "[19:37:07] WARNING: C:/Users/Administrator/workspace/xgboost-win64_release_1.5.1/src/learner.cc:576: \n",
      "Parameters: { \"class_weight\" } might not be used.\n",
      "\n",
      "  This could be a false alarm, with some parameters getting used by language bindings but\n",
      "  then being mistakenly passed down to XGBoost core, or some parameter actually being used\n",
      "  but getting flagged wrongly here. Please open an issue if you find any such cases.\n",
      "\n",
      "\n",
      "[19:37:07] WARNING: C:/Users/Administrator/workspace/xgboost-win64_release_1.5.1/src/learner.cc:1115: Starting in XGBoost 1.3.0, the default evaluation metric used with the objective 'binary:logistic' was changed from 'error' to 'logloss'. Explicitly set eval_metric if you'd like to restore the old behavior.\n",
      "Wall time: 18min\n"
     ]
    }
   ],
   "source": [
    "%%time\n",
    "start = time.time()\n",
    "\n",
    "xgbc = XGBClassifier()\n",
    "params = {'n_estimators': [150, 200, 350],\n",
    "          'learning_rate' : [0.1, 0.3, 0.5],\n",
    "          'max_depth': [3],\n",
    "          'class_weight' : ['balanced'],}\n",
    "xgbc_model = GridSearchCV(estimator=xgbc, param_grid=params, n_jobs=-1, cv=5, scoring='f1')\n",
    "xgbc_model.fit(tf_idf_train, train['toxic'])\n",
    "\n",
    "end = time.time()\n",
    "xgbc_fit_time = end - start"
   ]
  },
  {
   "cell_type": "markdown",
   "metadata": {
    "id": "6KNG_nz2_hNb"
   },
   "source": [
    "### LGBMClassifier"
   ]
  },
  {
   "cell_type": "markdown",
   "metadata": {
    "id": "9ogG348EGGuM"
   },
   "source": [
    "Обучим модель Light Gradient Boosted Machine"
   ]
  },
  {
   "cell_type": "code",
   "execution_count": 22,
   "metadata": {
    "colab": {
     "base_uri": "https://localhost:8080/"
    },
    "executionInfo": {
     "elapsed": 10070,
     "status": "ok",
     "timestamp": 1652020457218,
     "user": {
      "displayName": "Aleksey Efremov",
      "userId": "00286921861262744042"
     },
     "user_tz": -180
    },
    "id": "6HfDtq1R_hLW",
    "outputId": "5df02e48-97bd-4f6b-dbe6-36558e05c470"
   },
   "outputs": [
    {
     "name": "stdout",
     "output_type": "stream",
     "text": [
      "Wall time: 5min 18s\n"
     ]
    }
   ],
   "source": [
    "%%time\n",
    "start = time.time()\n",
    "\n",
    "gbm = LGBMClassifier()\n",
    "params = {'num_leaves': [50],\n",
    "          'learning_rate' : [0.1, 0.3, 0.5],\n",
    "          'n_estimators': [100],\n",
    "         'metric': ['F1']}\n",
    "gbm_model = GridSearchCV(estimator=gbm, param_grid=params, n_jobs=-1, cv=5)\n",
    "gbm_model.fit(tf_idf_train, train['toxic'])\n",
    "\n",
    "end = time.time()\n",
    "gbm_fit_time = end - start"
   ]
  },
  {
   "cell_type": "markdown",
   "metadata": {
    "id": "2JC-hp-zze0n"
   },
   "source": [
    "## Выводы"
   ]
  },
  {
   "cell_type": "markdown",
   "metadata": {
    "id": "0gGzswb9GM3m"
   },
   "source": [
    "Построим таблицу с результатами:"
   ]
  },
  {
   "cell_type": "code",
   "execution_count": 23,
   "metadata": {
    "executionInfo": {
     "elapsed": 25,
     "status": "ok",
     "timestamp": 1652020457219,
     "user": {
      "displayName": "Aleksey Efremov",
      "userId": "00286921861262744042"
     },
     "user_tz": -180
    },
    "id": "c02jtj-kze0r"
   },
   "outputs": [],
   "source": [
    "# Logistic Regression\n",
    "f1_log_reg = f1_score(test['toxic'], best_grid_log_reg.predict(tf_idf_test))\n",
    "# XGBClassifier\n",
    "f1_xgbc = f1_score(test['toxic'], xgbc_model.predict(tf_idf_test))\n",
    "# LGBMClassifier\n",
    "f1_gbm = f1_score(test['toxic'], gbm_model.predict(tf_idf_test))"
   ]
  },
  {
   "cell_type": "code",
   "execution_count": 24,
   "metadata": {
    "executionInfo": {
     "elapsed": 25,
     "status": "ok",
     "timestamp": 1652020457220,
     "user": {
      "displayName": "Aleksey Efremov",
      "userId": "00286921861262744042"
     },
     "user_tz": -180
    },
    "id": "YMExamLpDtmW"
   },
   "outputs": [],
   "source": [
    "model_results = {\n",
    "                'F1 score': [f1_log_reg, f1_xgbc, f1_gbm],\n",
    "                'Time, sec': [log_reg_fit_time, xgbc_fit_time, gbm_fit_time]\n",
    "                 }"
   ]
  },
  {
   "cell_type": "code",
   "execution_count": 25,
   "metadata": {
    "colab": {
     "base_uri": "https://localhost:8080/",
     "height": 143
    },
    "executionInfo": {
     "elapsed": 24,
     "status": "ok",
     "timestamp": 1652020457220,
     "user": {
      "displayName": "Aleksey Efremov",
      "userId": "00286921861262744042"
     },
     "user_tz": -180
    },
    "id": "cA3vwaMyDtkR",
    "outputId": "2cab1312-294e-4c9e-e2d5-2662f370b226",
    "scrolled": true
   },
   "outputs": [
    {
     "data": {
      "text/html": [
       "<div>\n",
       "<style scoped>\n",
       "    .dataframe tbody tr th:only-of-type {\n",
       "        vertical-align: middle;\n",
       "    }\n",
       "\n",
       "    .dataframe tbody tr th {\n",
       "        vertical-align: top;\n",
       "    }\n",
       "\n",
       "    .dataframe thead th {\n",
       "        text-align: right;\n",
       "    }\n",
       "</style>\n",
       "<table border=\"1\" class=\"dataframe\">\n",
       "  <thead>\n",
       "    <tr style=\"text-align: right;\">\n",
       "      <th></th>\n",
       "      <th>F1 score</th>\n",
       "      <th>Time, sec</th>\n",
       "    </tr>\n",
       "  </thead>\n",
       "  <tbody>\n",
       "    <tr>\n",
       "      <th>Logistic Regression</th>\n",
       "      <td>0.775799</td>\n",
       "      <td>45.522501</td>\n",
       "    </tr>\n",
       "    <tr>\n",
       "      <th>XGBClassifier</th>\n",
       "      <td>0.761852</td>\n",
       "      <td>1080.018915</td>\n",
       "    </tr>\n",
       "    <tr>\n",
       "      <th>LGBMClassifier</th>\n",
       "      <td>0.768203</td>\n",
       "      <td>318.196656</td>\n",
       "    </tr>\n",
       "  </tbody>\n",
       "</table>\n",
       "</div>"
      ],
      "text/plain": [
       "                     F1 score    Time, sec\n",
       "Logistic Regression  0.775799    45.522501\n",
       "XGBClassifier        0.761852  1080.018915\n",
       "LGBMClassifier       0.768203   318.196656"
      ]
     },
     "execution_count": 25,
     "metadata": {},
     "output_type": "execute_result"
    }
   ],
   "source": [
    "results = pd.DataFrame(data=model_results, index=('Logistic Regression', 'XGBClassifier', 'LGBMClassifier'))\n",
    "results"
   ]
  },
  {
   "cell_type": "markdown",
   "metadata": {},
   "source": [
    "Вывод:\n",
    "Были обучены 3 модели для классификации комментариев на позитивные и негативные.  \n",
    "Лучшая модель Logistic Regression с F1-score: 0.78, что соответвуеют поставленной задаче.  \n",
    "При этом XGBClassifier и LGBMClassifier показали F1-score 0.76 и 0.77 соответственно, но большим временем обучения."
   ]
  }
 ],
 "metadata": {
  "ExecuteTimeLog": [
   {
    "duration": 45,
    "start_time": "2022-05-09T11:59:49.007Z"
   },
   {
    "duration": 64063,
    "start_time": "2022-05-09T12:00:01.648Z"
   },
   {
    "duration": 576,
    "start_time": "2022-05-09T12:01:05.713Z"
   },
   {
    "duration": 106,
    "start_time": "2022-05-09T12:01:54.911Z"
   },
   {
    "duration": 3,
    "start_time": "2022-05-09T12:03:09.100Z"
   },
   {
    "duration": 6,
    "start_time": "2022-05-09T12:03:11.374Z"
   },
   {
    "duration": 129,
    "start_time": "2022-05-09T12:03:22.741Z"
   },
   {
    "duration": 5,
    "start_time": "2022-05-09T12:03:30.767Z"
   },
   {
    "duration": 10,
    "start_time": "2022-05-09T12:03:57.920Z"
   },
   {
    "duration": 5,
    "start_time": "2022-05-09T12:03:59.967Z"
   },
   {
    "duration": 1309,
    "start_time": "2022-05-09T12:04:01.341Z"
   }
  ],
  "colab": {
   "collapsed_sections": [],
   "name": "project_13_comments_classification.ipynb",
   "provenance": [],
   "toc_visible": true
  },
  "kernelspec": {
   "display_name": "Python 3 (ipykernel)",
   "language": "python",
   "name": "python3"
  },
  "language_info": {
   "codemirror_mode": {
    "name": "ipython",
    "version": 3
   },
   "file_extension": ".py",
   "mimetype": "text/x-python",
   "name": "python",
   "nbconvert_exporter": "python",
   "pygments_lexer": "ipython3",
   "version": "3.9.7"
  },
  "toc": {
   "base_numbering": 1,
   "nav_menu": {},
   "number_sections": true,
   "sideBar": true,
   "skip_h1_title": true,
   "title_cell": "Содержание",
   "title_sidebar": "Contents",
   "toc_cell": true,
   "toc_position": {
    "height": "calc(100% - 180px)",
    "left": "10px",
    "top": "150px",
    "width": "302.391px"
   },
   "toc_section_display": true,
   "toc_window_display": false
  }
 },
 "nbformat": 4,
 "nbformat_minor": 1
}
