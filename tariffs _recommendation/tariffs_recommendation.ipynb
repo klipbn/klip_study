{
  "cells": [
    {
      "cell_type": "markdown",
      "metadata": {
        "id": "SbGMBOeSGORp"
      },
      "source": [
        "# Рекомендация тарифов"
      ]
    },
    {
      "cell_type": "markdown",
      "metadata": {
        "id": "Wn5n4eFtPv3h"
      },
      "source": [
        "Оператор мобильной связи «Мегалайн» выяснил: многие клиенты пользуются архивными тарифами. Они хотят построить систему, способную проанализировать поведение клиентов и предложить пользователям новый тариф: «Смарт» или «Ультра».  \n",
        "В нашем распоряжении данные о поведении клиентов, которые уже перешли на эти тарифы.  \n",
        "Нужно построить модель для задачи классификации, которая выберет подходящий тариф. При этом построенная модель должна быть с максимально большим значением accuracy (не менее 0.75)."
      ]
    },
    {
      "cell_type": "markdown",
      "metadata": {
        "id": "ucvDLr8aGORu"
      },
      "source": [
        "## Изучение общей информации о данных"
      ]
    },
    {
      "cell_type": "code",
      "execution_count": null,
      "metadata": {
        "id": "RJFaERU_GORu"
      },
      "outputs": [],
      "source": [
        "import pandas as pd\n",
        "import numpy as np\n",
        "\n",
        "from tqdm import tqdm\n",
        "from pandas.core.common import random_state\n",
        "from sklearn.tree import DecisionTreeClassifier \n",
        "from sklearn.ensemble import RandomForestClassifier\n",
        "from sklearn.linear_model import LogisticRegression\n",
        "from sklearn.dummy import DummyClassifier\n",
        "\n",
        "from sklearn.model_selection import train_test_split\n",
        "from sklearn.metrics import accuracy_score"
      ]
    },
    {
      "cell_type": "code",
      "execution_count": null,
      "metadata": {
        "id": "pcCDvTPxGepJ"
      },
      "outputs": [],
      "source": [
        "df = pd.read_csv('~/datasets/users_behavior.csv')"
      ]
    },
    {
      "cell_type": "code",
      "execution_count": null,
      "metadata": {
        "colab": {
          "base_uri": "https://localhost:8080/",
          "height": 206
        },
        "id": "EL6iP2tuGkg4",
        "outputId": "b33cada5-a48f-487f-8c8a-188271408025"
      },
      "outputs": [
        {
          "output_type": "execute_result",
          "data": {
            "text/html": [
              "\n",
              "  <div id=\"df-f7befb66-3cc0-42d2-a5e8-8aecd7c7f7f2\">\n",
              "    <div class=\"colab-df-container\">\n",
              "      <div>\n",
              "<style scoped>\n",
              "    .dataframe tbody tr th:only-of-type {\n",
              "        vertical-align: middle;\n",
              "    }\n",
              "\n",
              "    .dataframe tbody tr th {\n",
              "        vertical-align: top;\n",
              "    }\n",
              "\n",
              "    .dataframe thead th {\n",
              "        text-align: right;\n",
              "    }\n",
              "</style>\n",
              "<table border=\"1\" class=\"dataframe\">\n",
              "  <thead>\n",
              "    <tr style=\"text-align: right;\">\n",
              "      <th></th>\n",
              "      <th>calls</th>\n",
              "      <th>minutes</th>\n",
              "      <th>messages</th>\n",
              "      <th>mb_used</th>\n",
              "      <th>is_ultra</th>\n",
              "    </tr>\n",
              "  </thead>\n",
              "  <tbody>\n",
              "    <tr>\n",
              "      <th>0</th>\n",
              "      <td>40.0</td>\n",
              "      <td>311.90</td>\n",
              "      <td>83.0</td>\n",
              "      <td>19915.42</td>\n",
              "      <td>0</td>\n",
              "    </tr>\n",
              "    <tr>\n",
              "      <th>1</th>\n",
              "      <td>85.0</td>\n",
              "      <td>516.75</td>\n",
              "      <td>56.0</td>\n",
              "      <td>22696.96</td>\n",
              "      <td>0</td>\n",
              "    </tr>\n",
              "    <tr>\n",
              "      <th>2</th>\n",
              "      <td>77.0</td>\n",
              "      <td>467.66</td>\n",
              "      <td>86.0</td>\n",
              "      <td>21060.45</td>\n",
              "      <td>0</td>\n",
              "    </tr>\n",
              "    <tr>\n",
              "      <th>3</th>\n",
              "      <td>106.0</td>\n",
              "      <td>745.53</td>\n",
              "      <td>81.0</td>\n",
              "      <td>8437.39</td>\n",
              "      <td>1</td>\n",
              "    </tr>\n",
              "    <tr>\n",
              "      <th>4</th>\n",
              "      <td>66.0</td>\n",
              "      <td>418.74</td>\n",
              "      <td>1.0</td>\n",
              "      <td>14502.75</td>\n",
              "      <td>0</td>\n",
              "    </tr>\n",
              "  </tbody>\n",
              "</table>\n",
              "</div>\n",
              "      <button class=\"colab-df-convert\" onclick=\"convertToInteractive('df-f7befb66-3cc0-42d2-a5e8-8aecd7c7f7f2')\"\n",
              "              title=\"Convert this dataframe to an interactive table.\"\n",
              "              style=\"display:none;\">\n",
              "        \n",
              "  <svg xmlns=\"http://www.w3.org/2000/svg\" height=\"24px\"viewBox=\"0 0 24 24\"\n",
              "       width=\"24px\">\n",
              "    <path d=\"M0 0h24v24H0V0z\" fill=\"none\"/>\n",
              "    <path d=\"M18.56 5.44l.94 2.06.94-2.06 2.06-.94-2.06-.94-.94-2.06-.94 2.06-2.06.94zm-11 1L8.5 8.5l.94-2.06 2.06-.94-2.06-.94L8.5 2.5l-.94 2.06-2.06.94zm10 10l.94 2.06.94-2.06 2.06-.94-2.06-.94-.94-2.06-.94 2.06-2.06.94z\"/><path d=\"M17.41 7.96l-1.37-1.37c-.4-.4-.92-.59-1.43-.59-.52 0-1.04.2-1.43.59L10.3 9.45l-7.72 7.72c-.78.78-.78 2.05 0 2.83L4 21.41c.39.39.9.59 1.41.59.51 0 1.02-.2 1.41-.59l7.78-7.78 2.81-2.81c.8-.78.8-2.07 0-2.86zM5.41 20L4 18.59l7.72-7.72 1.47 1.35L5.41 20z\"/>\n",
              "  </svg>\n",
              "      </button>\n",
              "      \n",
              "  <style>\n",
              "    .colab-df-container {\n",
              "      display:flex;\n",
              "      flex-wrap:wrap;\n",
              "      gap: 12px;\n",
              "    }\n",
              "\n",
              "    .colab-df-convert {\n",
              "      background-color: #E8F0FE;\n",
              "      border: none;\n",
              "      border-radius: 50%;\n",
              "      cursor: pointer;\n",
              "      display: none;\n",
              "      fill: #1967D2;\n",
              "      height: 32px;\n",
              "      padding: 0 0 0 0;\n",
              "      width: 32px;\n",
              "    }\n",
              "\n",
              "    .colab-df-convert:hover {\n",
              "      background-color: #E2EBFA;\n",
              "      box-shadow: 0px 1px 2px rgba(60, 64, 67, 0.3), 0px 1px 3px 1px rgba(60, 64, 67, 0.15);\n",
              "      fill: #174EA6;\n",
              "    }\n",
              "\n",
              "    [theme=dark] .colab-df-convert {\n",
              "      background-color: #3B4455;\n",
              "      fill: #D2E3FC;\n",
              "    }\n",
              "\n",
              "    [theme=dark] .colab-df-convert:hover {\n",
              "      background-color: #434B5C;\n",
              "      box-shadow: 0px 1px 3px 1px rgba(0, 0, 0, 0.15);\n",
              "      filter: drop-shadow(0px 1px 2px rgba(0, 0, 0, 0.3));\n",
              "      fill: #FFFFFF;\n",
              "    }\n",
              "  </style>\n",
              "\n",
              "      <script>\n",
              "        const buttonEl =\n",
              "          document.querySelector('#df-f7befb66-3cc0-42d2-a5e8-8aecd7c7f7f2 button.colab-df-convert');\n",
              "        buttonEl.style.display =\n",
              "          google.colab.kernel.accessAllowed ? 'block' : 'none';\n",
              "\n",
              "        async function convertToInteractive(key) {\n",
              "          const element = document.querySelector('#df-f7befb66-3cc0-42d2-a5e8-8aecd7c7f7f2');\n",
              "          const dataTable =\n",
              "            await google.colab.kernel.invokeFunction('convertToInteractive',\n",
              "                                                     [key], {});\n",
              "          if (!dataTable) return;\n",
              "\n",
              "          const docLinkHtml = 'Like what you see? Visit the ' +\n",
              "            '<a target=\"_blank\" href=https://colab.research.google.com/notebooks/data_table.ipynb>data table notebook</a>'\n",
              "            + ' to learn more about interactive tables.';\n",
              "          element.innerHTML = '';\n",
              "          dataTable['output_type'] = 'display_data';\n",
              "          await google.colab.output.renderOutput(dataTable, element);\n",
              "          const docLink = document.createElement('div');\n",
              "          docLink.innerHTML = docLinkHtml;\n",
              "          element.appendChild(docLink);\n",
              "        }\n",
              "      </script>\n",
              "    </div>\n",
              "  </div>\n",
              "  "
            ],
            "text/plain": [
              "   calls  minutes  messages   mb_used  is_ultra\n",
              "0   40.0   311.90      83.0  19915.42         0\n",
              "1   85.0   516.75      56.0  22696.96         0\n",
              "2   77.0   467.66      86.0  21060.45         0\n",
              "3  106.0   745.53      81.0   8437.39         1\n",
              "4   66.0   418.74       1.0  14502.75         0"
            ]
          },
          "metadata": {},
          "execution_count": 3
        }
      ],
      "source": [
        "df.head()"
      ]
    },
    {
      "cell_type": "markdown",
      "metadata": {
        "id": "FBlkfXgyGvJu"
      },
      "source": [
        "**Описание данных**   \n",
        "   \n",
        "- `сalls` — количество звонков,    \n",
        "- `minutes` — суммарная длительность звонков в минутах,    \n",
        "- `messages` — количество sms-сообщений,    \n",
        "- `mb_used` — израсходованный интернет-трафик в Мб,   \n",
        "- `is_ultra` — каким тарифом пользовался в течение месяца («Ультра» — 1, «Смарт» — 0).  "
      ]
    },
    {
      "cell_type": "code",
      "execution_count": null,
      "metadata": {
        "colab": {
          "base_uri": "https://localhost:8080/"
        },
        "id": "PAdmRCl1GmVc",
        "outputId": "e1f8e524-0f33-4a0a-fbc8-c5639acab87e"
      },
      "outputs": [
        {
          "output_type": "stream",
          "name": "stdout",
          "text": [
            "<class 'pandas.core.frame.DataFrame'>\n",
            "RangeIndex: 3214 entries, 0 to 3213\n",
            "Data columns (total 5 columns):\n",
            " #   Column    Non-Null Count  Dtype  \n",
            "---  ------    --------------  -----  \n",
            " 0   calls     3214 non-null   float64\n",
            " 1   minutes   3214 non-null   float64\n",
            " 2   messages  3214 non-null   float64\n",
            " 3   mb_used   3214 non-null   float64\n",
            " 4   is_ultra  3214 non-null   int64  \n",
            "dtypes: float64(4), int64(1)\n",
            "memory usage: 125.7 KB\n"
          ]
        }
      ],
      "source": [
        "df.info()"
      ]
    },
    {
      "cell_type": "markdown",
      "metadata": {
        "id": "eQD4KcSGQc2S"
      },
      "source": [
        "Данные хорошие, предобработка не требуется."
      ]
    },
    {
      "cell_type": "markdown",
      "metadata": {
        "id": "ljDKtPtZGORv"
      },
      "source": [
        "## Разбиение данных на выборки"
      ]
    },
    {
      "cell_type": "markdown",
      "metadata": {
        "id": "-PN67hPfjPLG"
      },
      "source": [
        "Выведем сбалансированность целевого признака:"
      ]
    },
    {
      "cell_type": "code",
      "execution_count": null,
      "metadata": {
        "colab": {
          "base_uri": "https://localhost:8080/"
        },
        "id": "iBP6duSyLv72",
        "outputId": "630916ef-9de0-42a2-fdb4-cc4aa02f6a09"
      },
      "outputs": [
        {
          "output_type": "execute_result",
          "data": {
            "text/plain": [
              "0.30647168637212197"
            ]
          },
          "metadata": {},
          "execution_count": 5
        }
      ],
      "source": [
        "df['is_ultra'].mean()"
      ]
    },
    {
      "cell_type": "markdown",
      "metadata": {
        "id": "pot37dJRjjOc"
      },
      "source": [
        "Создадим два датафрейма с обучающими признакми и целевым:"
      ]
    },
    {
      "cell_type": "code",
      "execution_count": null,
      "metadata": {
        "id": "Nc5V8AaoM334"
      },
      "outputs": [],
      "source": [
        "features = df.drop('is_ultra', axis=1)\n",
        "target = df['is_ultra']"
      ]
    },
    {
      "cell_type": "markdown",
      "metadata": {
        "id": "1_N4z-70jV7D"
      },
      "source": [
        "Разобьем данные: 60% - train set, 20% - validation set, 20% - test set"
      ]
    },
    {
      "cell_type": "code",
      "execution_count": null,
      "metadata": {
        "id": "aMyax_mJKhgk"
      },
      "outputs": [],
      "source": [
        "# Мне таким способом разделить датасет понравилось больше, но ниже сделаю как учили в уроке.\n",
        "# features_train, features_valid, features_test = np.split(features.sample(frac=1, random_state=12345), [int(.6*len(features)), int(.8*len(features))])\n",
        "# target_train, target_valid, target_test = np.split(target.sample(frac=1, random_state=12345), [int(.6*len(target)), int(.8*len(target))])"
      ]
    },
    {
      "cell_type": "code",
      "execution_count": null,
      "metadata": {
        "id": "X6RA5XH4GORw"
      },
      "outputs": [],
      "source": [
        "features_train, valid_test = train_test_split(features, test_size=0.4, random_state=12345)\n",
        "features_valid, features_test = train_test_split(valid_test, test_size=0.5, random_state=12345)"
      ]
    },
    {
      "cell_type": "code",
      "execution_count": null,
      "metadata": {
        "id": "Gvdp8KVCMyFG"
      },
      "outputs": [],
      "source": [
        "target_train, valid_test = train_test_split(target, test_size=0.4, random_state=12345)\n",
        "target_valid, target_test = train_test_split(valid_test, test_size=0.5, random_state=12345)"
      ]
    },
    {
      "cell_type": "markdown",
      "metadata": {
        "id": "EISyENgYR6Pv"
      },
      "source": [
        "Посмотрим на разбиение выборок:"
      ]
    },
    {
      "cell_type": "code",
      "execution_count": null,
      "metadata": {
        "colab": {
          "base_uri": "https://localhost:8080/",
          "height": 175
        },
        "id": "EZfRS7xXSGbX",
        "outputId": "48a24321-b201-4d0e-bfac-2d62dabe5bc1"
      },
      "outputs": [
        {
          "output_type": "execute_result",
          "data": {
            "text/html": [
              "\n",
              "  <div id=\"df-5f4bbe4a-9917-4cd9-80ca-97359125e586\">\n",
              "    <div class=\"colab-df-container\">\n",
              "      <div>\n",
              "<style scoped>\n",
              "    .dataframe tbody tr th:only-of-type {\n",
              "        vertical-align: middle;\n",
              "    }\n",
              "\n",
              "    .dataframe tbody tr th {\n",
              "        vertical-align: top;\n",
              "    }\n",
              "\n",
              "    .dataframe thead th {\n",
              "        text-align: right;\n",
              "    }\n",
              "</style>\n",
              "<table border=\"1\" class=\"dataframe\">\n",
              "  <thead>\n",
              "    <tr style=\"text-align: right;\">\n",
              "      <th></th>\n",
              "      <th>Примечание</th>\n",
              "      <th>Обущающая_выборка</th>\n",
              "      <th>Валидационная_выборка</th>\n",
              "      <th>Тестовая_выборка</th>\n",
              "    </tr>\n",
              "  </thead>\n",
              "  <tbody>\n",
              "    <tr>\n",
              "      <th>0</th>\n",
              "      <td>Доля обучающих признаков</td>\n",
              "      <td>0.6</td>\n",
              "      <td>0.2</td>\n",
              "      <td>0.2</td>\n",
              "    </tr>\n",
              "    <tr>\n",
              "      <th>1</th>\n",
              "      <td>Кол. обущаюших признаков</td>\n",
              "      <td>1928.0</td>\n",
              "      <td>643.0</td>\n",
              "      <td>643.0</td>\n",
              "    </tr>\n",
              "    <tr>\n",
              "      <th>2</th>\n",
              "      <td>Доля целевых признаков</td>\n",
              "      <td>0.6</td>\n",
              "      <td>0.2</td>\n",
              "      <td>0.2</td>\n",
              "    </tr>\n",
              "    <tr>\n",
              "      <th>3</th>\n",
              "      <td>Кол. целевых признаков</td>\n",
              "      <td>1928.0</td>\n",
              "      <td>643.0</td>\n",
              "      <td>643.0</td>\n",
              "    </tr>\n",
              "  </tbody>\n",
              "</table>\n",
              "</div>\n",
              "      <button class=\"colab-df-convert\" onclick=\"convertToInteractive('df-5f4bbe4a-9917-4cd9-80ca-97359125e586')\"\n",
              "              title=\"Convert this dataframe to an interactive table.\"\n",
              "              style=\"display:none;\">\n",
              "        \n",
              "  <svg xmlns=\"http://www.w3.org/2000/svg\" height=\"24px\"viewBox=\"0 0 24 24\"\n",
              "       width=\"24px\">\n",
              "    <path d=\"M0 0h24v24H0V0z\" fill=\"none\"/>\n",
              "    <path d=\"M18.56 5.44l.94 2.06.94-2.06 2.06-.94-2.06-.94-.94-2.06-.94 2.06-2.06.94zm-11 1L8.5 8.5l.94-2.06 2.06-.94-2.06-.94L8.5 2.5l-.94 2.06-2.06.94zm10 10l.94 2.06.94-2.06 2.06-.94-2.06-.94-.94-2.06-.94 2.06-2.06.94z\"/><path d=\"M17.41 7.96l-1.37-1.37c-.4-.4-.92-.59-1.43-.59-.52 0-1.04.2-1.43.59L10.3 9.45l-7.72 7.72c-.78.78-.78 2.05 0 2.83L4 21.41c.39.39.9.59 1.41.59.51 0 1.02-.2 1.41-.59l7.78-7.78 2.81-2.81c.8-.78.8-2.07 0-2.86zM5.41 20L4 18.59l7.72-7.72 1.47 1.35L5.41 20z\"/>\n",
              "  </svg>\n",
              "      </button>\n",
              "      \n",
              "  <style>\n",
              "    .colab-df-container {\n",
              "      display:flex;\n",
              "      flex-wrap:wrap;\n",
              "      gap: 12px;\n",
              "    }\n",
              "\n",
              "    .colab-df-convert {\n",
              "      background-color: #E8F0FE;\n",
              "      border: none;\n",
              "      border-radius: 50%;\n",
              "      cursor: pointer;\n",
              "      display: none;\n",
              "      fill: #1967D2;\n",
              "      height: 32px;\n",
              "      padding: 0 0 0 0;\n",
              "      width: 32px;\n",
              "    }\n",
              "\n",
              "    .colab-df-convert:hover {\n",
              "      background-color: #E2EBFA;\n",
              "      box-shadow: 0px 1px 2px rgba(60, 64, 67, 0.3), 0px 1px 3px 1px rgba(60, 64, 67, 0.15);\n",
              "      fill: #174EA6;\n",
              "    }\n",
              "\n",
              "    [theme=dark] .colab-df-convert {\n",
              "      background-color: #3B4455;\n",
              "      fill: #D2E3FC;\n",
              "    }\n",
              "\n",
              "    [theme=dark] .colab-df-convert:hover {\n",
              "      background-color: #434B5C;\n",
              "      box-shadow: 0px 1px 3px 1px rgba(0, 0, 0, 0.15);\n",
              "      filter: drop-shadow(0px 1px 2px rgba(0, 0, 0, 0.3));\n",
              "      fill: #FFFFFF;\n",
              "    }\n",
              "  </style>\n",
              "\n",
              "      <script>\n",
              "        const buttonEl =\n",
              "          document.querySelector('#df-5f4bbe4a-9917-4cd9-80ca-97359125e586 button.colab-df-convert');\n",
              "        buttonEl.style.display =\n",
              "          google.colab.kernel.accessAllowed ? 'block' : 'none';\n",
              "\n",
              "        async function convertToInteractive(key) {\n",
              "          const element = document.querySelector('#df-5f4bbe4a-9917-4cd9-80ca-97359125e586');\n",
              "          const dataTable =\n",
              "            await google.colab.kernel.invokeFunction('convertToInteractive',\n",
              "                                                     [key], {});\n",
              "          if (!dataTable) return;\n",
              "\n",
              "          const docLinkHtml = 'Like what you see? Visit the ' +\n",
              "            '<a target=\"_blank\" href=https://colab.research.google.com/notebooks/data_table.ipynb>data table notebook</a>'\n",
              "            + ' to learn more about interactive tables.';\n",
              "          element.innerHTML = '';\n",
              "          dataTable['output_type'] = 'display_data';\n",
              "          await google.colab.output.renderOutput(dataTable, element);\n",
              "          const docLink = document.createElement('div');\n",
              "          docLink.innerHTML = docLinkHtml;\n",
              "          element.appendChild(docLink);\n",
              "        }\n",
              "      </script>\n",
              "    </div>\n",
              "  </div>\n",
              "  "
            ],
            "text/plain": [
              "                 Примечание  ...  Тестовая_выборка\n",
              "0  Доля обучающих признаков  ...               0.2\n",
              "1  Кол. обущаюших признаков  ...             643.0\n",
              "2    Доля целевых признаков  ...               0.2\n",
              "3    Кол. целевых признаков  ...             643.0\n",
              "\n",
              "[4 rows x 4 columns]"
            ]
          },
          "metadata": {},
          "execution_count": 10
        }
      ],
      "source": [
        "df_volumes = pd.DataFrame(\n",
        "    {\n",
        "     \"Примечание\": ['Доля обучающих признаков', 'Кол. обущаюших признаков', 'Доля целевых признаков', 'Кол. целевых признаков'],   \n",
        "     \"Обущающая_выборка\": [round(len(features_train) / len(df), 2), len(features_train), round(len(target_train) / len(df), 2), len(target_train),],\n",
        "     \"Валидационная_выборка\": [round(len(features_valid) / len(df), 2), len(features_valid), round(len(target_valid) / len(df), 2), len(target_valid),],\n",
        "     \"Тестовая_выборка\": [round(len(features_test) / len(df), 2), len(features_test), round(len(target_test) / len(df), 2), len(target_test),],\n",
        "    }\n",
        ")\n",
        "df_volumes"
      ]
    },
    {
      "cell_type": "markdown",
      "metadata": {
        "id": "o9n3J0n0GORw"
      },
      "source": [
        "## Исследование моделей"
      ]
    },
    {
      "cell_type": "markdown",
      "metadata": {
        "id": "9NqqDO8FMWb2"
      },
      "source": [
        "### Дерево решений"
      ]
    },
    {
      "cell_type": "markdown",
      "metadata": {
        "id": "z20hEfs9kANN"
      },
      "source": [
        "Обучим модель дерево решений:"
      ]
    },
    {
      "cell_type": "code",
      "execution_count": null,
      "metadata": {
        "colab": {
          "base_uri": "https://localhost:8080/"
        },
        "id": "WEuup1hdPaiA",
        "outputId": "dd45e795-b691-4803-e792-a8cf50600413"
      },
      "outputs": [
        {
          "output_type": "stream",
          "name": "stdout",
          "text": [
            "CPU times: user 63 ms, sys: 107 µs, total: 63.1 ms\n",
            "Wall time: 63.3 ms\n"
          ]
        }
      ],
      "source": [
        "%%time\n",
        "\n",
        "best_model = None\n",
        "best_result = 0\n",
        "best_depth = 0 \n",
        "\n",
        "for depth in range(1, 10):\n",
        "  dtc_model = DecisionTreeClassifier(random_state=12345, max_depth=depth)\n",
        "  dtc_model.fit(features_train, target_train)\n",
        "  predictions = dtc_model.predict(features_valid)\n",
        "  result = accuracy_score(target_valid, predictions)\n",
        "  if result > best_result:\n",
        "    best_model = dtc_model\n",
        "    best_result = 0\n",
        "    best_depth = depth\n",
        "    best_result = result"
      ]
    },
    {
      "cell_type": "markdown",
      "metadata": {
        "id": "IuVkbYmLkhJ1"
      },
      "source": [
        "Выведем на экран долю правильных ответов и глубину лучшей модели дерева решений:"
      ]
    },
    {
      "cell_type": "code",
      "execution_count": null,
      "metadata": {
        "colab": {
          "base_uri": "https://localhost:8080/",
          "height": 35
        },
        "id": "w3Cs9NpXhXCF",
        "outputId": "baa116c6-aa97-48d9-e9aa-d15d98c89cf4"
      },
      "outputs": [
        {
          "output_type": "execute_result",
          "data": {
            "application/vnd.google.colaboratory.intrinsic+json": {
              "type": "string"
            },
            "text/plain": [
              "'Доля правильных ответов: 0.785, при глубине: 3'"
            ]
          },
          "metadata": {},
          "execution_count": 12
        }
      ],
      "source": [
        "f\"Доля правильных ответов: {best_result:.3f}, при глубине: {best_depth}\""
      ]
    },
    {
      "cell_type": "markdown",
      "metadata": {
        "id": "B_xcb37JVcZw"
      },
      "source": [
        "### Случайный лес"
      ]
    },
    {
      "cell_type": "markdown",
      "metadata": {
        "id": "HXrKQWUhlTO-"
      },
      "source": [
        "Обучим модель случайный лес:"
      ]
    },
    {
      "cell_type": "code",
      "execution_count": null,
      "metadata": {
        "colab": {
          "base_uri": "https://localhost:8080/"
        },
        "id": "5-5bD3tPTzJD",
        "outputId": "c396f6f6-e55f-46f1-fd10-f55c2af91e71"
      },
      "outputs": [
        {
          "output_type": "stream",
          "name": "stdout",
          "text": [
            "CPU times: user 14.5 s, sys: 91.7 ms, total: 14.6 s\n",
            "Wall time: 16.4 s\n"
          ]
        }
      ],
      "source": [
        "%%time\n",
        "\n",
        "best_model = None\n",
        "best_result = 10000\n",
        "best_est = 0\n",
        "rfc_best_result = 0\n",
        "\n",
        "for est in range(1, 30):\n",
        "    for depth in range (1, 10):\n",
        "        # инициализируйте модель RandomForestRegressor с параметрами random_state=12345, n_estimators=est и max_depth=depth\n",
        "        rfc_model = RandomForestClassifier(random_state=12345, n_estimators=est, max_depth=depth) \n",
        "        rfc_model.fit(features_train, target_train) # обучите модель на тренировочной выборке\n",
        "        predictions_valid = rfc_model.predict(features_valid) # получите предсказания модели на валидационной выборке\n",
        "        rfc_result = rfc_model.score(features_valid, target_valid)\n",
        "        if rfc_result > rfc_best_result:\n",
        "            rfc_best_model = rfc_model\n",
        "            rfc_best_result = rfc_result\n",
        "            best_est = est\n",
        "            rfc_best_depth = depth"
      ]
    },
    {
      "cell_type": "markdown",
      "metadata": {
        "id": "DpBPltf3le1U"
      },
      "source": [
        "Выведем на экран долю правильных ответов, количеством оценщиков и глубиной лучшей модели случайный лес:"
      ]
    },
    {
      "cell_type": "code",
      "execution_count": null,
      "metadata": {
        "colab": {
          "base_uri": "https://localhost:8080/",
          "height": 35
        },
        "id": "iUWfO-dNltp7",
        "outputId": "de774a9e-e178-47f8-844f-74056d72f066"
      },
      "outputs": [
        {
          "output_type": "execute_result",
          "data": {
            "application/vnd.google.colaboratory.intrinsic+json": {
              "type": "string"
            },
            "text/plain": [
              "'Доля правильных ответов: 0.807, при количестве оценщиков: 26 и глубине: 7'"
            ]
          },
          "metadata": {},
          "execution_count": 14
        }
      ],
      "source": [
        "f\"Доля правильных ответов: {rfc_best_result:.3f}, при количестве оценщиков: {best_est} и глубине: {rfc_best_depth}\""
      ]
    },
    {
      "cell_type": "markdown",
      "metadata": {
        "id": "jb4boQWxVh9F"
      },
      "source": [
        "### Логистическая регрессия"
      ]
    },
    {
      "cell_type": "markdown",
      "metadata": {
        "id": "hNGLTv2RmElN"
      },
      "source": [
        "Обучим модель логистическую регрессию:"
      ]
    },
    {
      "cell_type": "code",
      "execution_count": null,
      "metadata": {
        "colab": {
          "base_uri": "https://localhost:8080/"
        },
        "id": "pd5QrRoGVmZk",
        "outputId": "4bd5c50e-8936-44a5-d801-c0442cc734c3"
      },
      "outputs": [
        {
          "output_type": "stream",
          "name": "stdout",
          "text": [
            "CPU times: user 29.8 ms, sys: 0 ns, total: 29.8 ms\n",
            "Wall time: 35.5 ms\n"
          ]
        }
      ],
      "source": [
        "%%time\n",
        "\n",
        "lr_model = LogisticRegression(random_state=12345)\n",
        "lr_model.fit(features_train, target_train)\n",
        "result = lr_model.score(features_valid, target_valid)"
      ]
    },
    {
      "cell_type": "markdown",
      "metadata": {
        "id": "IuYPLgHwmJcE"
      },
      "source": [
        "Выведем на экран долю правильных ответов модели логистической регрессии:"
      ]
    },
    {
      "cell_type": "code",
      "execution_count": null,
      "metadata": {
        "colab": {
          "base_uri": "https://localhost:8080/",
          "height": 35
        },
        "id": "R1J3pfjlmOdF",
        "outputId": "a949aead-7d12-453c-de56-0608c49389d0"
      },
      "outputs": [
        {
          "output_type": "execute_result",
          "data": {
            "application/vnd.google.colaboratory.intrinsic+json": {
              "type": "string"
            },
            "text/plain": [
              "'Доля правильных ответов: 0.711'"
            ]
          },
          "metadata": {},
          "execution_count": 16
        }
      ],
      "source": [
        "f\"Доля правильных ответов: {result:.3f}\""
      ]
    },
    {
      "cell_type": "markdown",
      "metadata": {
        "id": "L0X8ULAEVyOu"
      },
      "source": [
        "### Вывод"
      ]
    },
    {
      "cell_type": "markdown",
      "metadata": {
        "id": "jmWJKVLhV0q_"
      },
      "source": [
        "1. Обучение модели на алгоритме Дерево решений: Время обучения: `~ 54 ms`, Доля правильных ответов: `0.785`, при глубине: `3 `. \n",
        "2. Обучение модели на алгоритме Случайный лес: Время обучения: `~ 10 s` Доля правильных ответов: `0.807`, при количестве оценщиков: `26` и глубине: `7`. \n",
        "3. Обучение модели на алгоритме Логистическся реггрессия: Время обучения: `~ 29 ms` Доля правильных ответов: `0.711`."
      ]
    },
    {
      "cell_type": "markdown",
      "metadata": {
        "id": "InHYybKfGOR0"
      },
      "source": [
        "## Проверьте модель на тестовой выборке"
      ]
    },
    {
      "cell_type": "markdown",
      "metadata": {
        "id": "9106D1SFzPBo"
      },
      "source": [
        "Посмотрим на время предсказаний разных алгоритмов:"
      ]
    },
    {
      "cell_type": "code",
      "execution_count": null,
      "metadata": {
        "colab": {
          "base_uri": "https://localhost:8080/"
        },
        "id": "0Ye-YPcXyfPq",
        "outputId": "627dca53-b25a-4b25-c8f3-e583375d63b1"
      },
      "outputs": [
        {
          "output_type": "stream",
          "name": "stdout",
          "text": [
            "CPU times: user 3.09 ms, sys: 3 µs, total: 3.09 ms\n",
            "Wall time: 3.1 ms\n"
          ]
        }
      ],
      "source": [
        "%%time \n",
        "\n",
        "dtc = dtc_model.predict(features_test)\n",
        "dtc_accuracy = accuracy_score(target_test, dtc)"
      ]
    },
    {
      "cell_type": "code",
      "execution_count": null,
      "metadata": {
        "colab": {
          "base_uri": "https://localhost:8080/"
        },
        "id": "V8O5fnR6xeRA",
        "outputId": "177806c5-020b-4e14-96d3-d4502fbdcbca"
      },
      "outputs": [
        {
          "output_type": "stream",
          "name": "stdout",
          "text": [
            "CPU times: user 10.1 ms, sys: 5 µs, total: 10.2 ms\n",
            "Wall time: 10.4 ms\n"
          ]
        }
      ],
      "source": [
        "%%time \n",
        "\n",
        "rfc = rfc_model.predict(features_test)\n",
        "rfc_accuracy = accuracy_score(target_test, rfc)"
      ]
    },
    {
      "cell_type": "code",
      "execution_count": null,
      "metadata": {
        "colab": {
          "base_uri": "https://localhost:8080/"
        },
        "id": "uvtGAmFnzGEK",
        "outputId": "f87dd4a9-18e6-419a-8a15-2aea67546109",
        "scrolled": true
      },
      "outputs": [
        {
          "output_type": "stream",
          "name": "stdout",
          "text": [
            "CPU times: user 3.58 ms, sys: 0 ns, total: 3.58 ms\n",
            "Wall time: 4.52 ms\n"
          ]
        }
      ],
      "source": [
        "%%time \n",
        "\n",
        "lr = lr_model.predict(features_test)\n",
        "lr_accuracy = accuracy_score(target_test, lr)"
      ]
    },
    {
      "cell_type": "code",
      "execution_count": null,
      "metadata": {
        "colab": {
          "base_uri": "https://localhost:8080/",
          "height": 206
        },
        "id": "nUKEdNKCUJv-",
        "outputId": "bdde117a-8f4b-4e04-c482-d529889e57f3",
        "scrolled": true
      },
      "outputs": [
        {
          "output_type": "execute_result",
          "data": {
            "text/html": [
              "\n",
              "  <div id=\"df-fe7242d5-dce6-4e52-aca6-b1e19087904e\">\n",
              "    <div class=\"colab-df-container\">\n",
              "      <div>\n",
              "<style scoped>\n",
              "    .dataframe tbody tr th:only-of-type {\n",
              "        vertical-align: middle;\n",
              "    }\n",
              "\n",
              "    .dataframe tbody tr th {\n",
              "        vertical-align: top;\n",
              "    }\n",
              "\n",
              "    .dataframe thead th {\n",
              "        text-align: right;\n",
              "    }\n",
              "</style>\n",
              "<table border=\"1\" class=\"dataframe\">\n",
              "  <thead>\n",
              "    <tr style=\"text-align: right;\">\n",
              "      <th></th>\n",
              "      <th>Доля_правильных_ответов</th>\n",
              "      <th>Дерево_решений</th>\n",
              "      <th>Случайный_лес</th>\n",
              "      <th>Логистическая_регрессия</th>\n",
              "    </tr>\n",
              "  </thead>\n",
              "  <tbody>\n",
              "    <tr>\n",
              "      <th>0</th>\n",
              "      <td>Обущающая выборка выборка</td>\n",
              "      <td>0.88</td>\n",
              "      <td>0.88</td>\n",
              "      <td>0.71</td>\n",
              "    </tr>\n",
              "    <tr>\n",
              "      <th>1</th>\n",
              "      <td>Валидационная выборка</td>\n",
              "      <td>0.78</td>\n",
              "      <td>0.79</td>\n",
              "      <td>0.71</td>\n",
              "    </tr>\n",
              "    <tr>\n",
              "      <th>2</th>\n",
              "      <td>Тестовая выборка</td>\n",
              "      <td>0.78</td>\n",
              "      <td>0.81</td>\n",
              "      <td>0.68</td>\n",
              "    </tr>\n",
              "    <tr>\n",
              "      <th>3</th>\n",
              "      <td>Время обучения</td>\n",
              "      <td>~ 60 ms</td>\n",
              "      <td>~ 16 s</td>\n",
              "      <td>~ 25 ms</td>\n",
              "    </tr>\n",
              "    <tr>\n",
              "      <th>4</th>\n",
              "      <td>Время предсказания</td>\n",
              "      <td>~ 5 ms</td>\n",
              "      <td>~ 31 ms</td>\n",
              "      <td>~ 7 ms</td>\n",
              "    </tr>\n",
              "  </tbody>\n",
              "</table>\n",
              "</div>\n",
              "      <button class=\"colab-df-convert\" onclick=\"convertToInteractive('df-fe7242d5-dce6-4e52-aca6-b1e19087904e')\"\n",
              "              title=\"Convert this dataframe to an interactive table.\"\n",
              "              style=\"display:none;\">\n",
              "        \n",
              "  <svg xmlns=\"http://www.w3.org/2000/svg\" height=\"24px\"viewBox=\"0 0 24 24\"\n",
              "       width=\"24px\">\n",
              "    <path d=\"M0 0h24v24H0V0z\" fill=\"none\"/>\n",
              "    <path d=\"M18.56 5.44l.94 2.06.94-2.06 2.06-.94-2.06-.94-.94-2.06-.94 2.06-2.06.94zm-11 1L8.5 8.5l.94-2.06 2.06-.94-2.06-.94L8.5 2.5l-.94 2.06-2.06.94zm10 10l.94 2.06.94-2.06 2.06-.94-2.06-.94-.94-2.06-.94 2.06-2.06.94z\"/><path d=\"M17.41 7.96l-1.37-1.37c-.4-.4-.92-.59-1.43-.59-.52 0-1.04.2-1.43.59L10.3 9.45l-7.72 7.72c-.78.78-.78 2.05 0 2.83L4 21.41c.39.39.9.59 1.41.59.51 0 1.02-.2 1.41-.59l7.78-7.78 2.81-2.81c.8-.78.8-2.07 0-2.86zM5.41 20L4 18.59l7.72-7.72 1.47 1.35L5.41 20z\"/>\n",
              "  </svg>\n",
              "      </button>\n",
              "      \n",
              "  <style>\n",
              "    .colab-df-container {\n",
              "      display:flex;\n",
              "      flex-wrap:wrap;\n",
              "      gap: 12px;\n",
              "    }\n",
              "\n",
              "    .colab-df-convert {\n",
              "      background-color: #E8F0FE;\n",
              "      border: none;\n",
              "      border-radius: 50%;\n",
              "      cursor: pointer;\n",
              "      display: none;\n",
              "      fill: #1967D2;\n",
              "      height: 32px;\n",
              "      padding: 0 0 0 0;\n",
              "      width: 32px;\n",
              "    }\n",
              "\n",
              "    .colab-df-convert:hover {\n",
              "      background-color: #E2EBFA;\n",
              "      box-shadow: 0px 1px 2px rgba(60, 64, 67, 0.3), 0px 1px 3px 1px rgba(60, 64, 67, 0.15);\n",
              "      fill: #174EA6;\n",
              "    }\n",
              "\n",
              "    [theme=dark] .colab-df-convert {\n",
              "      background-color: #3B4455;\n",
              "      fill: #D2E3FC;\n",
              "    }\n",
              "\n",
              "    [theme=dark] .colab-df-convert:hover {\n",
              "      background-color: #434B5C;\n",
              "      box-shadow: 0px 1px 3px 1px rgba(0, 0, 0, 0.15);\n",
              "      filter: drop-shadow(0px 1px 2px rgba(0, 0, 0, 0.3));\n",
              "      fill: #FFFFFF;\n",
              "    }\n",
              "  </style>\n",
              "\n",
              "      <script>\n",
              "        const buttonEl =\n",
              "          document.querySelector('#df-fe7242d5-dce6-4e52-aca6-b1e19087904e button.colab-df-convert');\n",
              "        buttonEl.style.display =\n",
              "          google.colab.kernel.accessAllowed ? 'block' : 'none';\n",
              "\n",
              "        async function convertToInteractive(key) {\n",
              "          const element = document.querySelector('#df-fe7242d5-dce6-4e52-aca6-b1e19087904e');\n",
              "          const dataTable =\n",
              "            await google.colab.kernel.invokeFunction('convertToInteractive',\n",
              "                                                     [key], {});\n",
              "          if (!dataTable) return;\n",
              "\n",
              "          const docLinkHtml = 'Like what you see? Visit the ' +\n",
              "            '<a target=\"_blank\" href=https://colab.research.google.com/notebooks/data_table.ipynb>data table notebook</a>'\n",
              "            + ' to learn more about interactive tables.';\n",
              "          element.innerHTML = '';\n",
              "          dataTable['output_type'] = 'display_data';\n",
              "          await google.colab.output.renderOutput(dataTable, element);\n",
              "          const docLink = document.createElement('div');\n",
              "          docLink.innerHTML = docLinkHtml;\n",
              "          element.appendChild(docLink);\n",
              "        }\n",
              "      </script>\n",
              "    </div>\n",
              "  </div>\n",
              "  "
            ],
            "text/plain": [
              "     Доля_правильных_ответов  ... Логистическая_регрессия\n",
              "0  Обущающая выборка выборка  ...                    0.71\n",
              "1      Валидационная выборка  ...                    0.71\n",
              "2           Тестовая выборка  ...                    0.68\n",
              "3             Время обучения  ...                 ~ 25 ms\n",
              "4         Время предсказания  ...                  ~ 7 ms\n",
              "\n",
              "[5 rows x 4 columns]"
            ]
          },
          "metadata": {},
          "execution_count": 20
        }
      ],
      "source": [
        "df_scores = pd.DataFrame(\n",
        "    {\n",
        "     \"Доля_правильных_ответов\": ['Обущающая выборка выборка', 'Валидационная выборка', 'Тестовая выборка', 'Время обучения', 'Время предсказания'],   \n",
        "     \"Дерево_решений\": [round(dtc_model.score(features_train, target_train), 2), \n",
        "                        round(dtc_model.score(features_valid, target_valid), 2), \n",
        "                        round(dtc_model.score(features_test, target_test), 2),\n",
        "                        '~ 60 ms', '~ 5 ms'],\n",
        "     \"Случайный_лес\": [round(rfc_model.score(features_train, target_train), 2), \n",
        "                        round(rfc_model.score(features_valid, target_valid), 2), \n",
        "                        round(rfc_model.score(features_test, target_test), 2),\n",
        "                       '~ 16 s', '~ 31 ms',],\n",
        "     \"Логистическая_регрессия\": [round(lr_model.score(features_train, target_train), 2), \n",
        "                        round(lr_model.score(features_valid, target_valid), 2), \n",
        "                        round(lr_model.score(features_test, target_test), 2),\n",
        "                        '~ 25 ms', '~ 7 ms',],          \n",
        "    }\n",
        ")\n",
        "df_scores"
      ]
    },
    {
      "cell_type": "markdown",
      "metadata": {
        "id": "ZARPepbfGOR1"
      },
      "source": [
        "## Проверка модели на адекватность"
      ]
    },
    {
      "cell_type": "markdown",
      "metadata": {
        "id": "-cLl5HnKqPcb"
      },
      "source": [
        "Проверить нашу модель на адекватность сравнив долю правильных ответов с алгоритмом Dummy:"
      ]
    },
    {
      "cell_type": "code",
      "execution_count": null,
      "metadata": {
        "colab": {
          "base_uri": "https://localhost:8080/"
        },
        "id": "QCu-8lHNGOR2",
        "outputId": "79193929-2920-4d81-eebf-15adaf084368"
      },
      "outputs": [
        {
          "output_type": "stream",
          "name": "stdout",
          "text": [
            "CPU times: user 742 µs, sys: 737 µs, total: 1.48 ms\n",
            "Wall time: 1.49 ms\n"
          ]
        }
      ],
      "source": [
        "%%time \n",
        "\n",
        "dummy_clf = DummyClassifier(random_state=12345)\n",
        "dummy_clf.fit(features_train, target_train)\n",
        "\n",
        "f\"Доля правильных ответов Dummy: {dummy_clf.score(features_valid, target_valid):.2f}\""
      ]
    },
    {
      "cell_type": "markdown",
      "metadata": {
        "id": "EFhgqDGkp8xy"
      },
      "source": [
        "## Вывод"
      ]
    },
    {
      "cell_type": "markdown",
      "metadata": {
        "id": "557xEWgkp_Mz"
      },
      "source": [
        "На тестовой выборке наилучший accuracy (доля правильных ответов) у алгоритма Случайный лес: `0.81`, у Дерева решений и Логистической регрессии: `0.78` и `0.68` соотственно.  \n",
        "Важно ответить, что алгоритм Dummy показал accuracy: `0.71`, что означает алгоритм логистическая регрессия себя показывает очень плохо, им пользоваться нельзя.  \n",
        "\n",
        "Сравнивая алгоритмы Дерево решений и Случайный лес, хоть и случайный лес показывает немного лучшее accuracy, но за много большее время обучения модели (`~ 60 ms` и `~ 10 s` соотвественно).  \n",
        "\n",
        "Поэтому, для ответов на вопрос нашего исследования следуют выбрать алгоритм `Дерево решений`."
      ]
    }
  ],
  "metadata": {
    "ExecuteTimeLog": [
      {
        "duration": 1173,
        "start_time": "2022-01-30T11:43:52.511Z"
      },
      {
        "duration": 62,
        "start_time": "2022-01-30T11:43:53.686Z"
      },
      {
        "duration": 17,
        "start_time": "2022-01-30T11:43:53.751Z"
      },
      {
        "duration": 8,
        "start_time": "2022-01-30T11:43:53.770Z"
      },
      {
        "duration": 16,
        "start_time": "2022-01-30T11:43:53.780Z"
      },
      {
        "duration": 25,
        "start_time": "2022-01-30T11:43:53.798Z"
      },
      {
        "duration": 9,
        "start_time": "2022-01-30T11:43:53.825Z"
      },
      {
        "duration": 11,
        "start_time": "2022-01-30T11:43:53.836Z"
      },
      {
        "duration": 7,
        "start_time": "2022-01-30T11:43:53.850Z"
      },
      {
        "duration": 18,
        "start_time": "2022-01-30T11:43:53.859Z"
      },
      {
        "duration": 61,
        "start_time": "2022-01-30T11:43:53.879Z"
      },
      {
        "duration": 4,
        "start_time": "2022-01-30T11:43:53.942Z"
      },
      {
        "duration": 11187,
        "start_time": "2022-01-30T11:43:53.948Z"
      },
      {
        "duration": 4,
        "start_time": "2022-01-30T11:44:05.137Z"
      },
      {
        "duration": 24,
        "start_time": "2022-01-30T11:44:05.143Z"
      },
      {
        "duration": 3,
        "start_time": "2022-01-30T11:44:05.169Z"
      },
      {
        "duration": 12,
        "start_time": "2022-01-30T11:44:05.174Z"
      },
      {
        "duration": 11,
        "start_time": "2022-01-30T11:44:05.208Z"
      },
      {
        "duration": 6,
        "start_time": "2022-01-30T11:44:05.221Z"
      },
      {
        "duration": 44,
        "start_time": "2022-01-30T11:44:05.229Z"
      },
      {
        "duration": 35,
        "start_time": "2022-01-30T11:44:05.275Z"
      }
    ],
    "colab": {
      "collapsed_sections": [],
      "name": "tariffs _recommendation.ipynb",
      "provenance": [],
      "toc_visible": true
    },
    "kernelspec": {
      "display_name": "Python 3",
      "language": "python",
      "name": "python3"
    },
    "language_info": {
      "codemirror_mode": {
        "name": "ipython",
        "version": 3
      },
      "file_extension": ".py",
      "mimetype": "text/x-python",
      "name": "python",
      "nbconvert_exporter": "python",
      "pygments_lexer": "ipython3",
      "version": "3.7.8"
    },
    "toc": {
      "base_numbering": 1,
      "nav_menu": {},
      "number_sections": true,
      "sideBar": true,
      "skip_h1_title": true,
      "title_cell": "Table of Contents",
      "title_sidebar": "Contents",
      "toc_cell": false,
      "toc_position": {
        "height": "calc(100% - 180px)",
        "left": "10px",
        "top": "150px",
        "width": "384px"
      },
      "toc_section_display": true,
      "toc_window_display": false
    }
  },
  "nbformat": 4,
  "nbformat_minor": 0
}