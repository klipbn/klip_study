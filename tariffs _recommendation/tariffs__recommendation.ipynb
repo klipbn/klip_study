{
  "cells": [
    {
      "cell_type": "markdown",
      "metadata": {
        "id": "SbGMBOeSGORp"
      },
      "source": [
        "# Рекомендация тарифов"
      ]
    },
    {
      "cell_type": "markdown",
      "source": [
        "Оператор мобильной связи «Мегалайн» выяснил: многие клиенты пользуются архивными тарифами. Они хотят построить систему, способную проанализировать поведение клиентов и предложить пользователям новый тариф: «Смарт» или «Ультра».  \n",
        "В нашем распоряжении данные о поведении клиентов, которые уже перешли на эти тарифы.  \n",
        "Нужно построить модель для задачи классификации, которая выберет подходящий тариф. При этом построенная модель должна быть с максимально большим значением accuracy (не менее 0.75)."
      ],
      "metadata": {
        "id": "Wn5n4eFtPv3h"
      }
    },
    {
      "cell_type": "markdown",
      "metadata": {
        "id": "ucvDLr8aGORu"
      },
      "source": [
        "## Изучение общей информации о данных"
      ]
    },
    {
      "cell_type": "code",
      "execution_count": 18,
      "metadata": {
        "id": "RJFaERU_GORu"
      },
      "outputs": [],
      "source": [
        "import pandas as pd\n",
        "import numpy as np\n",
        "\n",
        "from tqdm import tqdm\n",
        "from pandas.core.common import random_state\n",
        "from sklearn.tree import DecisionTreeClassifier \n",
        "from sklearn.ensemble import RandomForestClassifier\n",
        "from sklearn.linear_model import LogisticRegression\n",
        "from sklearn.dummy import DummyClassifier\n",
        "\n",
        "from sklearn.model_selection import train_test_split\n",
        "from sklearn.metrics import accuracy_score"
      ]
    },
    {
      "cell_type": "code",
      "source": [
        "df = pd.read_csv('https://code.s3.yandex.net/datasets/users_behavior.csv')"
      ],
      "metadata": {
        "id": "pcCDvTPxGepJ"
      },
      "execution_count": 19,
      "outputs": []
    },
    {
      "cell_type": "code",
      "source": [
        "df.head()"
      ],
      "metadata": {
        "colab": {
          "base_uri": "https://localhost:8080/",
          "height": 0
        },
        "id": "EL6iP2tuGkg4",
        "outputId": "d6cc11fd-eb5a-41c6-cf4e-84df53ecac9b"
      },
      "execution_count": 20,
      "outputs": [
        {
          "output_type": "execute_result",
          "data": {
            "text/html": [
              "\n",
              "  <div id=\"df-ec6c1f32-7a35-4232-b6a7-ae7b101580ee\">\n",
              "    <div class=\"colab-df-container\">\n",
              "      <div>\n",
              "<style scoped>\n",
              "    .dataframe tbody tr th:only-of-type {\n",
              "        vertical-align: middle;\n",
              "    }\n",
              "\n",
              "    .dataframe tbody tr th {\n",
              "        vertical-align: top;\n",
              "    }\n",
              "\n",
              "    .dataframe thead th {\n",
              "        text-align: right;\n",
              "    }\n",
              "</style>\n",
              "<table border=\"1\" class=\"dataframe\">\n",
              "  <thead>\n",
              "    <tr style=\"text-align: right;\">\n",
              "      <th></th>\n",
              "      <th>calls</th>\n",
              "      <th>minutes</th>\n",
              "      <th>messages</th>\n",
              "      <th>mb_used</th>\n",
              "      <th>is_ultra</th>\n",
              "    </tr>\n",
              "  </thead>\n",
              "  <tbody>\n",
              "    <tr>\n",
              "      <th>0</th>\n",
              "      <td>40.0</td>\n",
              "      <td>311.90</td>\n",
              "      <td>83.0</td>\n",
              "      <td>19915.42</td>\n",
              "      <td>0</td>\n",
              "    </tr>\n",
              "    <tr>\n",
              "      <th>1</th>\n",
              "      <td>85.0</td>\n",
              "      <td>516.75</td>\n",
              "      <td>56.0</td>\n",
              "      <td>22696.96</td>\n",
              "      <td>0</td>\n",
              "    </tr>\n",
              "    <tr>\n",
              "      <th>2</th>\n",
              "      <td>77.0</td>\n",
              "      <td>467.66</td>\n",
              "      <td>86.0</td>\n",
              "      <td>21060.45</td>\n",
              "      <td>0</td>\n",
              "    </tr>\n",
              "    <tr>\n",
              "      <th>3</th>\n",
              "      <td>106.0</td>\n",
              "      <td>745.53</td>\n",
              "      <td>81.0</td>\n",
              "      <td>8437.39</td>\n",
              "      <td>1</td>\n",
              "    </tr>\n",
              "    <tr>\n",
              "      <th>4</th>\n",
              "      <td>66.0</td>\n",
              "      <td>418.74</td>\n",
              "      <td>1.0</td>\n",
              "      <td>14502.75</td>\n",
              "      <td>0</td>\n",
              "    </tr>\n",
              "  </tbody>\n",
              "</table>\n",
              "</div>\n",
              "      <button class=\"colab-df-convert\" onclick=\"convertToInteractive('df-ec6c1f32-7a35-4232-b6a7-ae7b101580ee')\"\n",
              "              title=\"Convert this dataframe to an interactive table.\"\n",
              "              style=\"display:none;\">\n",
              "        \n",
              "  <svg xmlns=\"http://www.w3.org/2000/svg\" height=\"24px\"viewBox=\"0 0 24 24\"\n",
              "       width=\"24px\">\n",
              "    <path d=\"M0 0h24v24H0V0z\" fill=\"none\"/>\n",
              "    <path d=\"M18.56 5.44l.94 2.06.94-2.06 2.06-.94-2.06-.94-.94-2.06-.94 2.06-2.06.94zm-11 1L8.5 8.5l.94-2.06 2.06-.94-2.06-.94L8.5 2.5l-.94 2.06-2.06.94zm10 10l.94 2.06.94-2.06 2.06-.94-2.06-.94-.94-2.06-.94 2.06-2.06.94z\"/><path d=\"M17.41 7.96l-1.37-1.37c-.4-.4-.92-.59-1.43-.59-.52 0-1.04.2-1.43.59L10.3 9.45l-7.72 7.72c-.78.78-.78 2.05 0 2.83L4 21.41c.39.39.9.59 1.41.59.51 0 1.02-.2 1.41-.59l7.78-7.78 2.81-2.81c.8-.78.8-2.07 0-2.86zM5.41 20L4 18.59l7.72-7.72 1.47 1.35L5.41 20z\"/>\n",
              "  </svg>\n",
              "      </button>\n",
              "      \n",
              "  <style>\n",
              "    .colab-df-container {\n",
              "      display:flex;\n",
              "      flex-wrap:wrap;\n",
              "      gap: 12px;\n",
              "    }\n",
              "\n",
              "    .colab-df-convert {\n",
              "      background-color: #E8F0FE;\n",
              "      border: none;\n",
              "      border-radius: 50%;\n",
              "      cursor: pointer;\n",
              "      display: none;\n",
              "      fill: #1967D2;\n",
              "      height: 32px;\n",
              "      padding: 0 0 0 0;\n",
              "      width: 32px;\n",
              "    }\n",
              "\n",
              "    .colab-df-convert:hover {\n",
              "      background-color: #E2EBFA;\n",
              "      box-shadow: 0px 1px 2px rgba(60, 64, 67, 0.3), 0px 1px 3px 1px rgba(60, 64, 67, 0.15);\n",
              "      fill: #174EA6;\n",
              "    }\n",
              "\n",
              "    [theme=dark] .colab-df-convert {\n",
              "      background-color: #3B4455;\n",
              "      fill: #D2E3FC;\n",
              "    }\n",
              "\n",
              "    [theme=dark] .colab-df-convert:hover {\n",
              "      background-color: #434B5C;\n",
              "      box-shadow: 0px 1px 3px 1px rgba(0, 0, 0, 0.15);\n",
              "      filter: drop-shadow(0px 1px 2px rgba(0, 0, 0, 0.3));\n",
              "      fill: #FFFFFF;\n",
              "    }\n",
              "  </style>\n",
              "\n",
              "      <script>\n",
              "        const buttonEl =\n",
              "          document.querySelector('#df-ec6c1f32-7a35-4232-b6a7-ae7b101580ee button.colab-df-convert');\n",
              "        buttonEl.style.display =\n",
              "          google.colab.kernel.accessAllowed ? 'block' : 'none';\n",
              "\n",
              "        async function convertToInteractive(key) {\n",
              "          const element = document.querySelector('#df-ec6c1f32-7a35-4232-b6a7-ae7b101580ee');\n",
              "          const dataTable =\n",
              "            await google.colab.kernel.invokeFunction('convertToInteractive',\n",
              "                                                     [key], {});\n",
              "          if (!dataTable) return;\n",
              "\n",
              "          const docLinkHtml = 'Like what you see? Visit the ' +\n",
              "            '<a target=\"_blank\" href=https://colab.research.google.com/notebooks/data_table.ipynb>data table notebook</a>'\n",
              "            + ' to learn more about interactive tables.';\n",
              "          element.innerHTML = '';\n",
              "          dataTable['output_type'] = 'display_data';\n",
              "          await google.colab.output.renderOutput(dataTable, element);\n",
              "          const docLink = document.createElement('div');\n",
              "          docLink.innerHTML = docLinkHtml;\n",
              "          element.appendChild(docLink);\n",
              "        }\n",
              "      </script>\n",
              "    </div>\n",
              "  </div>\n",
              "  "
            ],
            "text/plain": [
              "   calls  minutes  messages   mb_used  is_ultra\n",
              "0   40.0   311.90      83.0  19915.42         0\n",
              "1   85.0   516.75      56.0  22696.96         0\n",
              "2   77.0   467.66      86.0  21060.45         0\n",
              "3  106.0   745.53      81.0   8437.39         1\n",
              "4   66.0   418.74       1.0  14502.75         0"
            ]
          },
          "metadata": {},
          "execution_count": 20
        }
      ]
    },
    {
      "cell_type": "markdown",
      "source": [
        "**Описание данных**   \n",
        "   \n",
        "- `сalls` — количество звонков,    \n",
        "- `minutes` — суммарная длительность звонков в минутах,    \n",
        "- `messages` — количество sms-сообщений,    \n",
        "- `mb_used` — израсходованный интернет-трафик в Мб,   \n",
        "- `is_ultra` — каким тарифом пользовался в течение месяца («Ультра» — 1, «Смарт» — 0).  "
      ],
      "metadata": {
        "id": "FBlkfXgyGvJu"
      }
    },
    {
      "cell_type": "code",
      "source": [
        "df.info()"
      ],
      "metadata": {
        "colab": {
          "base_uri": "https://localhost:8080/"
        },
        "id": "PAdmRCl1GmVc",
        "outputId": "5c194c56-354e-408d-ff67-24927ad4ed0b"
      },
      "execution_count": 21,
      "outputs": [
        {
          "output_type": "stream",
          "name": "stdout",
          "text": [
            "<class 'pandas.core.frame.DataFrame'>\n",
            "RangeIndex: 3214 entries, 0 to 3213\n",
            "Data columns (total 5 columns):\n",
            " #   Column    Non-Null Count  Dtype  \n",
            "---  ------    --------------  -----  \n",
            " 0   calls     3214 non-null   float64\n",
            " 1   minutes   3214 non-null   float64\n",
            " 2   messages  3214 non-null   float64\n",
            " 3   mb_used   3214 non-null   float64\n",
            " 4   is_ultra  3214 non-null   int64  \n",
            "dtypes: float64(4), int64(1)\n",
            "memory usage: 125.7 KB\n"
          ]
        }
      ]
    },
    {
      "cell_type": "markdown",
      "source": [
        "Данные хорошие, предобработка не требуется."
      ],
      "metadata": {
        "id": "eQD4KcSGQc2S"
      }
    },
    {
      "cell_type": "markdown",
      "metadata": {
        "id": "ljDKtPtZGORv"
      },
      "source": [
        "## Разбиение данных на выборки"
      ]
    },
    {
      "cell_type": "markdown",
      "source": [
        "Выведем сбалансированность целевого признака:"
      ],
      "metadata": {
        "id": "-PN67hPfjPLG"
      }
    },
    {
      "cell_type": "code",
      "source": [
        "df['is_ultra'].mean()"
      ],
      "metadata": {
        "colab": {
          "base_uri": "https://localhost:8080/"
        },
        "id": "iBP6duSyLv72",
        "outputId": "d2aee622-3f19-44b8-ad5a-6d3dc0b7481f"
      },
      "execution_count": 22,
      "outputs": [
        {
          "output_type": "execute_result",
          "data": {
            "text/plain": [
              "0.30647168637212197"
            ]
          },
          "metadata": {},
          "execution_count": 22
        }
      ]
    },
    {
      "cell_type": "markdown",
      "source": [
        "Создадим два датафрейма с обучающими признакми и целевым:"
      ],
      "metadata": {
        "id": "pot37dJRjjOc"
      }
    },
    {
      "cell_type": "code",
      "source": [
        "features = df.drop('is_ultra', axis=1)\n",
        "target = df['is_ultra']"
      ],
      "metadata": {
        "id": "Nc5V8AaoM334"
      },
      "execution_count": 23,
      "outputs": []
    },
    {
      "cell_type": "markdown",
      "source": [
        "Разобьем данные: 60% - train set, 20% - validation set, 20% - test set"
      ],
      "metadata": {
        "id": "1_N4z-70jV7D"
      }
    },
    {
      "cell_type": "code",
      "source": [
        "# Мне таким способом разделить датасет понравилось больше, но ниже сделаю как учили в уроке.\n",
        "# features_train, features_valid, features_test = np.split(features.sample(frac=1, random_state=12345), [int(.6*len(features)), int(.8*len(features))])\n",
        "# target_train, target_valid, target_test = np.split(target.sample(frac=1, random_state=12345), [int(.6*len(target)), int(.8*len(target))])"
      ],
      "metadata": {
        "id": "aMyax_mJKhgk"
      },
      "execution_count": 24,
      "outputs": []
    },
    {
      "cell_type": "code",
      "execution_count": 25,
      "metadata": {
        "id": "X6RA5XH4GORw"
      },
      "outputs": [],
      "source": [
        "features_train, valid_test = train_test_split(features, test_size=0.4, random_state=12345)\n",
        "features_valid, features_test = train_test_split(valid_test, test_size=0.5, random_state=12345)"
      ]
    },
    {
      "cell_type": "code",
      "source": [
        "target_train, valid_test = train_test_split(target, test_size=0.4, random_state=12345)\n",
        "target_valid, target_test = train_test_split(valid_test, test_size=0.5, random_state=12345)"
      ],
      "metadata": {
        "id": "Gvdp8KVCMyFG"
      },
      "execution_count": 26,
      "outputs": []
    },
    {
      "cell_type": "markdown",
      "source": [
        "Посмотрим на разбиение выборок:"
      ],
      "metadata": {
        "id": "EISyENgYR6Pv"
      }
    },
    {
      "cell_type": "code",
      "source": [
        "df_volumes = pd.DataFrame(\n",
        "    {\n",
        "     \"Примечание\": ['Доля обучающих признаков', 'Кол. обущаюших признаков', 'Доля целевых признаков', 'Кол. целевых признаков'],   \n",
        "     \"Обущающая_выборка\": [round(len(features_train) / len(df), 2), len(features_train), round(len(target_train) / len(df), 2), len(target_train),],\n",
        "     \"Валидационная_выборка\": [round(len(features_valid) / len(df), 2), len(features_valid), round(len(target_valid) / len(df), 2), len(target_valid),],\n",
        "     \"Тестовая_выборка\": [round(len(features_test) / len(df), 2), len(features_test), round(len(target_test) / len(df), 2), len(target_test),],\n",
        "    }\n",
        ")\n",
        "df_volumes"
      ],
      "metadata": {
        "colab": {
          "base_uri": "https://localhost:8080/",
          "height": 0
        },
        "id": "EZfRS7xXSGbX",
        "outputId": "ed6a6101-c72d-4b08-9950-a630d71a0457"
      },
      "execution_count": 27,
      "outputs": [
        {
          "output_type": "execute_result",
          "data": {
            "text/html": [
              "\n",
              "  <div id=\"df-d35835f2-d6e9-4371-8bce-389e590c1c4a\">\n",
              "    <div class=\"colab-df-container\">\n",
              "      <div>\n",
              "<style scoped>\n",
              "    .dataframe tbody tr th:only-of-type {\n",
              "        vertical-align: middle;\n",
              "    }\n",
              "\n",
              "    .dataframe tbody tr th {\n",
              "        vertical-align: top;\n",
              "    }\n",
              "\n",
              "    .dataframe thead th {\n",
              "        text-align: right;\n",
              "    }\n",
              "</style>\n",
              "<table border=\"1\" class=\"dataframe\">\n",
              "  <thead>\n",
              "    <tr style=\"text-align: right;\">\n",
              "      <th></th>\n",
              "      <th>Примечание</th>\n",
              "      <th>Обущающая_выборка</th>\n",
              "      <th>Валидационная_выборка</th>\n",
              "      <th>Тестовая_выборка</th>\n",
              "    </tr>\n",
              "  </thead>\n",
              "  <tbody>\n",
              "    <tr>\n",
              "      <th>0</th>\n",
              "      <td>Доля обучающих признаков</td>\n",
              "      <td>0.6</td>\n",
              "      <td>0.2</td>\n",
              "      <td>0.2</td>\n",
              "    </tr>\n",
              "    <tr>\n",
              "      <th>1</th>\n",
              "      <td>Кол. обущаюших признаков</td>\n",
              "      <td>1928.0</td>\n",
              "      <td>643.0</td>\n",
              "      <td>643.0</td>\n",
              "    </tr>\n",
              "    <tr>\n",
              "      <th>2</th>\n",
              "      <td>Доля целевых признаков</td>\n",
              "      <td>0.6</td>\n",
              "      <td>0.2</td>\n",
              "      <td>0.2</td>\n",
              "    </tr>\n",
              "    <tr>\n",
              "      <th>3</th>\n",
              "      <td>Кол. целевых признаков</td>\n",
              "      <td>1928.0</td>\n",
              "      <td>643.0</td>\n",
              "      <td>643.0</td>\n",
              "    </tr>\n",
              "  </tbody>\n",
              "</table>\n",
              "</div>\n",
              "      <button class=\"colab-df-convert\" onclick=\"convertToInteractive('df-d35835f2-d6e9-4371-8bce-389e590c1c4a')\"\n",
              "              title=\"Convert this dataframe to an interactive table.\"\n",
              "              style=\"display:none;\">\n",
              "        \n",
              "  <svg xmlns=\"http://www.w3.org/2000/svg\" height=\"24px\"viewBox=\"0 0 24 24\"\n",
              "       width=\"24px\">\n",
              "    <path d=\"M0 0h24v24H0V0z\" fill=\"none\"/>\n",
              "    <path d=\"M18.56 5.44l.94 2.06.94-2.06 2.06-.94-2.06-.94-.94-2.06-.94 2.06-2.06.94zm-11 1L8.5 8.5l.94-2.06 2.06-.94-2.06-.94L8.5 2.5l-.94 2.06-2.06.94zm10 10l.94 2.06.94-2.06 2.06-.94-2.06-.94-.94-2.06-.94 2.06-2.06.94z\"/><path d=\"M17.41 7.96l-1.37-1.37c-.4-.4-.92-.59-1.43-.59-.52 0-1.04.2-1.43.59L10.3 9.45l-7.72 7.72c-.78.78-.78 2.05 0 2.83L4 21.41c.39.39.9.59 1.41.59.51 0 1.02-.2 1.41-.59l7.78-7.78 2.81-2.81c.8-.78.8-2.07 0-2.86zM5.41 20L4 18.59l7.72-7.72 1.47 1.35L5.41 20z\"/>\n",
              "  </svg>\n",
              "      </button>\n",
              "      \n",
              "  <style>\n",
              "    .colab-df-container {\n",
              "      display:flex;\n",
              "      flex-wrap:wrap;\n",
              "      gap: 12px;\n",
              "    }\n",
              "\n",
              "    .colab-df-convert {\n",
              "      background-color: #E8F0FE;\n",
              "      border: none;\n",
              "      border-radius: 50%;\n",
              "      cursor: pointer;\n",
              "      display: none;\n",
              "      fill: #1967D2;\n",
              "      height: 32px;\n",
              "      padding: 0 0 0 0;\n",
              "      width: 32px;\n",
              "    }\n",
              "\n",
              "    .colab-df-convert:hover {\n",
              "      background-color: #E2EBFA;\n",
              "      box-shadow: 0px 1px 2px rgba(60, 64, 67, 0.3), 0px 1px 3px 1px rgba(60, 64, 67, 0.15);\n",
              "      fill: #174EA6;\n",
              "    }\n",
              "\n",
              "    [theme=dark] .colab-df-convert {\n",
              "      background-color: #3B4455;\n",
              "      fill: #D2E3FC;\n",
              "    }\n",
              "\n",
              "    [theme=dark] .colab-df-convert:hover {\n",
              "      background-color: #434B5C;\n",
              "      box-shadow: 0px 1px 3px 1px rgba(0, 0, 0, 0.15);\n",
              "      filter: drop-shadow(0px 1px 2px rgba(0, 0, 0, 0.3));\n",
              "      fill: #FFFFFF;\n",
              "    }\n",
              "  </style>\n",
              "\n",
              "      <script>\n",
              "        const buttonEl =\n",
              "          document.querySelector('#df-d35835f2-d6e9-4371-8bce-389e590c1c4a button.colab-df-convert');\n",
              "        buttonEl.style.display =\n",
              "          google.colab.kernel.accessAllowed ? 'block' : 'none';\n",
              "\n",
              "        async function convertToInteractive(key) {\n",
              "          const element = document.querySelector('#df-d35835f2-d6e9-4371-8bce-389e590c1c4a');\n",
              "          const dataTable =\n",
              "            await google.colab.kernel.invokeFunction('convertToInteractive',\n",
              "                                                     [key], {});\n",
              "          if (!dataTable) return;\n",
              "\n",
              "          const docLinkHtml = 'Like what you see? Visit the ' +\n",
              "            '<a target=\"_blank\" href=https://colab.research.google.com/notebooks/data_table.ipynb>data table notebook</a>'\n",
              "            + ' to learn more about interactive tables.';\n",
              "          element.innerHTML = '';\n",
              "          dataTable['output_type'] = 'display_data';\n",
              "          await google.colab.output.renderOutput(dataTable, element);\n",
              "          const docLink = document.createElement('div');\n",
              "          docLink.innerHTML = docLinkHtml;\n",
              "          element.appendChild(docLink);\n",
              "        }\n",
              "      </script>\n",
              "    </div>\n",
              "  </div>\n",
              "  "
            ],
            "text/plain": [
              "                 Примечание  ...  Тестовая_выборка\n",
              "0  Доля обучающих признаков  ...               0.2\n",
              "1  Кол. обущаюших признаков  ...             643.0\n",
              "2    Доля целевых признаков  ...               0.2\n",
              "3    Кол. целевых признаков  ...             643.0\n",
              "\n",
              "[4 rows x 4 columns]"
            ]
          },
          "metadata": {},
          "execution_count": 27
        }
      ]
    },
    {
      "cell_type": "markdown",
      "metadata": {
        "id": "o9n3J0n0GORw"
      },
      "source": [
        "## Исследование моделей"
      ]
    },
    {
      "cell_type": "markdown",
      "source": [
        "### Дерево решений"
      ],
      "metadata": {
        "id": "9NqqDO8FMWb2"
      }
    },
    {
      "cell_type": "markdown",
      "source": [
        "Обучим модель дерево решений:"
      ],
      "metadata": {
        "id": "z20hEfs9kANN"
      }
    },
    {
      "cell_type": "code",
      "source": [
        "%%time\n",
        "\n",
        "best_model = None\n",
        "best_result = 0\n",
        "best_depth = 0 \n",
        "\n",
        "for depth in range(1, 10):\n",
        "  dtc_model = DecisionTreeClassifier(random_state=12345, max_depth=depth)\n",
        "  dtc_model.fit(features_train, target_train)\n",
        "  predictions = dtc_model.predict(features_valid)\n",
        "  result = accuracy_score(target_valid, predictions)\n",
        "  if result > best_result:\n",
        "    best_model = dtc_model\n",
        "    best_result = 0\n",
        "    best_depth = depth\n",
        "    best_result = result"
      ],
      "metadata": {
        "colab": {
          "base_uri": "https://localhost:8080/"
        },
        "id": "WEuup1hdPaiA",
        "outputId": "0e687080-fd2b-4c3e-b48f-8474ef7d2d52"
      },
      "execution_count": 28,
      "outputs": [
        {
          "output_type": "stream",
          "name": "stdout",
          "text": [
            "CPU times: user 80.9 ms, sys: 0 ns, total: 80.9 ms\n",
            "Wall time: 83 ms\n"
          ]
        }
      ]
    },
    {
      "cell_type": "markdown",
      "source": [
        "Выведем на экран долю правильных ответов и глубину лучшей модели дерева решений:"
      ],
      "metadata": {
        "id": "IuVkbYmLkhJ1"
      }
    },
    {
      "cell_type": "code",
      "source": [
        "f\"Доля правильных ответов: {best_result:.3f}, при глубине: {best_depth}\""
      ],
      "metadata": {
        "colab": {
          "base_uri": "https://localhost:8080/",
          "height": 35
        },
        "id": "w3Cs9NpXhXCF",
        "outputId": "71b283c0-9597-4434-cc04-d0d256492d20"
      },
      "execution_count": 29,
      "outputs": [
        {
          "output_type": "execute_result",
          "data": {
            "application/vnd.google.colaboratory.intrinsic+json": {
              "type": "string"
            },
            "text/plain": [
              "'Доля правильных ответов: 0.785, при глубине: 3'"
            ]
          },
          "metadata": {},
          "execution_count": 29
        }
      ]
    },
    {
      "cell_type": "markdown",
      "source": [
        "### Случайный лес"
      ],
      "metadata": {
        "id": "B_xcb37JVcZw"
      }
    },
    {
      "cell_type": "markdown",
      "source": [
        "Обучим модель случайный лес:"
      ],
      "metadata": {
        "id": "HXrKQWUhlTO-"
      }
    },
    {
      "cell_type": "code",
      "source": [
        "%%time\n",
        "\n",
        "best_model = None\n",
        "best_result = 10000\n",
        "best_est = 0\n",
        "rfc_best_result = 0\n",
        "\n",
        "for est in range(1, 30):\n",
        "    for depth in range (1, 10):\n",
        "        # инициализируйте модель RandomForestRegressor с параметрами random_state=12345, n_estimators=est и max_depth=depth\n",
        "        rfc_model = RandomForestClassifier(random_state=12345, n_estimators=est, max_depth=depth) \n",
        "        rfc_model.fit(features_train, target_train) # обучите модель на тренировочной выборке\n",
        "        predictions_valid = rfc_model.predict(features_valid) # получите предсказания модели на валидационной выборке\n",
        "        rfc_result = rfc_model.score(features_valid, target_valid)\n",
        "        if rfc_result > rfc_best_result:\n",
        "            rfc_best_model = rfc_model\n",
        "            rfc_best_result = rfc_result\n",
        "            best_est = est\n",
        "            rfc_best_depth = depth"
      ],
      "metadata": {
        "colab": {
          "base_uri": "https://localhost:8080/"
        },
        "id": "5-5bD3tPTzJD",
        "outputId": "9f5dc7ab-a1b5-4316-d370-112733640976"
      },
      "execution_count": 37,
      "outputs": [
        {
          "output_type": "stream",
          "name": "stdout",
          "text": [
            "CPU times: user 15.2 s, sys: 102 ms, total: 15.3 s\n",
            "Wall time: 15.9 s\n"
          ]
        }
      ]
    },
    {
      "cell_type": "markdown",
      "source": [
        "Выведем на экран долю правильных ответов, количеством оценщиков и глубиной лучшей модели случайный лес:"
      ],
      "metadata": {
        "id": "DpBPltf3le1U"
      }
    },
    {
      "cell_type": "code",
      "source": [
        "f\"Доля правильных ответов: {rfc_best_result:.3f}, при количестве оценщиков: {best_est} и глубине: {rfc_best_depth}\""
      ],
      "metadata": {
        "colab": {
          "base_uri": "https://localhost:8080/",
          "height": 35
        },
        "id": "iUWfO-dNltp7",
        "outputId": "068b84ec-fd0f-4354-a74d-9d54a425a060"
      },
      "execution_count": 38,
      "outputs": [
        {
          "output_type": "execute_result",
          "data": {
            "application/vnd.google.colaboratory.intrinsic+json": {
              "type": "string"
            },
            "text/plain": [
              "'Доля правильных ответов: 0.807, при количестве оценщиков: 26 и глубине: 7'"
            ]
          },
          "metadata": {},
          "execution_count": 38
        }
      ]
    },
    {
      "cell_type": "markdown",
      "source": [
        "### Логистическая регрессия"
      ],
      "metadata": {
        "id": "jb4boQWxVh9F"
      }
    },
    {
      "cell_type": "markdown",
      "source": [
        "Обучим модель логистическую регрессию:"
      ],
      "metadata": {
        "id": "hNGLTv2RmElN"
      }
    },
    {
      "cell_type": "code",
      "source": [
        "%%time\n",
        "\n",
        "lr_model = LogisticRegression(random_state=12345)\n",
        "lr_model.fit(features_train, target_train)\n",
        "result = lr_model.score(features_valid, target_valid)"
      ],
      "metadata": {
        "colab": {
          "base_uri": "https://localhost:8080/"
        },
        "id": "pd5QrRoGVmZk",
        "outputId": "d1bedec8-757d-422f-8037-2c7e9ab77a36"
      },
      "execution_count": 32,
      "outputs": [
        {
          "output_type": "stream",
          "name": "stdout",
          "text": [
            "CPU times: user 29.6 ms, sys: 0 ns, total: 29.6 ms\n",
            "Wall time: 33.7 ms\n"
          ]
        }
      ]
    },
    {
      "cell_type": "markdown",
      "source": [
        "Выведем на экран долю правильных ответов модели логистической регрессии:"
      ],
      "metadata": {
        "id": "IuYPLgHwmJcE"
      }
    },
    {
      "cell_type": "code",
      "source": [
        "f\"Доля правильных ответов: {result:.3f}\""
      ],
      "metadata": {
        "colab": {
          "base_uri": "https://localhost:8080/",
          "height": 35
        },
        "id": "R1J3pfjlmOdF",
        "outputId": "df2c85f0-eee4-44c2-9cc2-0c91c7136021"
      },
      "execution_count": 33,
      "outputs": [
        {
          "output_type": "execute_result",
          "data": {
            "application/vnd.google.colaboratory.intrinsic+json": {
              "type": "string"
            },
            "text/plain": [
              "'Доля правильных ответов: 0.711'"
            ]
          },
          "metadata": {},
          "execution_count": 33
        }
      ]
    },
    {
      "cell_type": "markdown",
      "source": [
        "### Вывод"
      ],
      "metadata": {
        "id": "L0X8ULAEVyOu"
      }
    },
    {
      "cell_type": "markdown",
      "source": [
        "1. Обучение модели на алгоритме Дерево решений: Время обучения: `122 ms`, Доля правильных ответов: `0.785`, при глубине: `3 `. \n",
        "2. Обучение модели на алгоритме Случайный лес: Время обучения: `36.7 s` Доля правильных ответов: `0.807`, при количестве оценщиков: `26` и глубине: `7`. \n",
        "3. Обучение модели на алгоритме Логистическся реггрессия: Время обучения: `34.6` ms Доля правильных ответов: `0.711`."
      ],
      "metadata": {
        "id": "jmWJKVLhV0q_"
      }
    },
    {
      "cell_type": "markdown",
      "metadata": {
        "id": "InHYybKfGOR0"
      },
      "source": [
        "## Проверьте модель на тестовой выборке"
      ]
    },
    {
      "cell_type": "code",
      "source": [
        "df_scores = pd.DataFrame(\n",
        "    {\n",
        "     \"Доля_правильных_ответов\": ['Обущающая выборка выборка', 'Валидационная выборка', 'Тестовая выборка', 'Время моделирования'],   \n",
        "     \"Дерево_решений\": [round(dtc_model.score(features_train, target_train), 2), \n",
        "                        round(dtc_model.score(features_valid, target_valid), 2), \n",
        "                        round(dtc_model.score(features_test, target_test), 2),\n",
        "                        '~ 60 ms'],\n",
        "     \"Случайный_лес\": [round(rfc_model.score(features_train, target_train), 2), \n",
        "                        round(rfc_model.score(features_valid, target_valid), 2), \n",
        "                        round(rfc_model.score(features_test, target_test), 2),\n",
        "                       '~ 16 s'],\n",
        "     \"Логистическая_регрессия\": [round(lr_model.score(features_train, target_train), 2), \n",
        "                        round(lr_model.score(features_valid, target_valid), 2), \n",
        "                        round(lr_model.score(features_test, target_test), 2),\n",
        "                        '~ 25 ms'],          \n",
        "    }\n",
        ")\n",
        "df_scores"
      ],
      "metadata": {
        "colab": {
          "base_uri": "https://localhost:8080/",
          "height": 175
        },
        "id": "nUKEdNKCUJv-",
        "outputId": "ec79acb7-002b-46f4-f81d-9babe2a9375c"
      },
      "execution_count": 39,
      "outputs": [
        {
          "output_type": "execute_result",
          "data": {
            "text/html": [
              "\n",
              "  <div id=\"df-53c21cbb-bdb1-42d0-98d5-bc15bb4d7192\">\n",
              "    <div class=\"colab-df-container\">\n",
              "      <div>\n",
              "<style scoped>\n",
              "    .dataframe tbody tr th:only-of-type {\n",
              "        vertical-align: middle;\n",
              "    }\n",
              "\n",
              "    .dataframe tbody tr th {\n",
              "        vertical-align: top;\n",
              "    }\n",
              "\n",
              "    .dataframe thead th {\n",
              "        text-align: right;\n",
              "    }\n",
              "</style>\n",
              "<table border=\"1\" class=\"dataframe\">\n",
              "  <thead>\n",
              "    <tr style=\"text-align: right;\">\n",
              "      <th></th>\n",
              "      <th>Доля_правильных_ответов</th>\n",
              "      <th>Дерево_решений</th>\n",
              "      <th>Случайный_лес</th>\n",
              "      <th>Логистическая_регрессия</th>\n",
              "    </tr>\n",
              "  </thead>\n",
              "  <tbody>\n",
              "    <tr>\n",
              "      <th>0</th>\n",
              "      <td>Обущающая выборка выборка</td>\n",
              "      <td>0.88</td>\n",
              "      <td>0.88</td>\n",
              "      <td>0.71</td>\n",
              "    </tr>\n",
              "    <tr>\n",
              "      <th>1</th>\n",
              "      <td>Валидационная выборка</td>\n",
              "      <td>0.78</td>\n",
              "      <td>0.79</td>\n",
              "      <td>0.71</td>\n",
              "    </tr>\n",
              "    <tr>\n",
              "      <th>2</th>\n",
              "      <td>Тестовая выборка</td>\n",
              "      <td>0.78</td>\n",
              "      <td>0.81</td>\n",
              "      <td>0.68</td>\n",
              "    </tr>\n",
              "    <tr>\n",
              "      <th>3</th>\n",
              "      <td>Время моделирования</td>\n",
              "      <td>~ 60 ms</td>\n",
              "      <td>~ 16 s</td>\n",
              "      <td>~ 25 ms</td>\n",
              "    </tr>\n",
              "  </tbody>\n",
              "</table>\n",
              "</div>\n",
              "      <button class=\"colab-df-convert\" onclick=\"convertToInteractive('df-53c21cbb-bdb1-42d0-98d5-bc15bb4d7192')\"\n",
              "              title=\"Convert this dataframe to an interactive table.\"\n",
              "              style=\"display:none;\">\n",
              "        \n",
              "  <svg xmlns=\"http://www.w3.org/2000/svg\" height=\"24px\"viewBox=\"0 0 24 24\"\n",
              "       width=\"24px\">\n",
              "    <path d=\"M0 0h24v24H0V0z\" fill=\"none\"/>\n",
              "    <path d=\"M18.56 5.44l.94 2.06.94-2.06 2.06-.94-2.06-.94-.94-2.06-.94 2.06-2.06.94zm-11 1L8.5 8.5l.94-2.06 2.06-.94-2.06-.94L8.5 2.5l-.94 2.06-2.06.94zm10 10l.94 2.06.94-2.06 2.06-.94-2.06-.94-.94-2.06-.94 2.06-2.06.94z\"/><path d=\"M17.41 7.96l-1.37-1.37c-.4-.4-.92-.59-1.43-.59-.52 0-1.04.2-1.43.59L10.3 9.45l-7.72 7.72c-.78.78-.78 2.05 0 2.83L4 21.41c.39.39.9.59 1.41.59.51 0 1.02-.2 1.41-.59l7.78-7.78 2.81-2.81c.8-.78.8-2.07 0-2.86zM5.41 20L4 18.59l7.72-7.72 1.47 1.35L5.41 20z\"/>\n",
              "  </svg>\n",
              "      </button>\n",
              "      \n",
              "  <style>\n",
              "    .colab-df-container {\n",
              "      display:flex;\n",
              "      flex-wrap:wrap;\n",
              "      gap: 12px;\n",
              "    }\n",
              "\n",
              "    .colab-df-convert {\n",
              "      background-color: #E8F0FE;\n",
              "      border: none;\n",
              "      border-radius: 50%;\n",
              "      cursor: pointer;\n",
              "      display: none;\n",
              "      fill: #1967D2;\n",
              "      height: 32px;\n",
              "      padding: 0 0 0 0;\n",
              "      width: 32px;\n",
              "    }\n",
              "\n",
              "    .colab-df-convert:hover {\n",
              "      background-color: #E2EBFA;\n",
              "      box-shadow: 0px 1px 2px rgba(60, 64, 67, 0.3), 0px 1px 3px 1px rgba(60, 64, 67, 0.15);\n",
              "      fill: #174EA6;\n",
              "    }\n",
              "\n",
              "    [theme=dark] .colab-df-convert {\n",
              "      background-color: #3B4455;\n",
              "      fill: #D2E3FC;\n",
              "    }\n",
              "\n",
              "    [theme=dark] .colab-df-convert:hover {\n",
              "      background-color: #434B5C;\n",
              "      box-shadow: 0px 1px 3px 1px rgba(0, 0, 0, 0.15);\n",
              "      filter: drop-shadow(0px 1px 2px rgba(0, 0, 0, 0.3));\n",
              "      fill: #FFFFFF;\n",
              "    }\n",
              "  </style>\n",
              "\n",
              "      <script>\n",
              "        const buttonEl =\n",
              "          document.querySelector('#df-53c21cbb-bdb1-42d0-98d5-bc15bb4d7192 button.colab-df-convert');\n",
              "        buttonEl.style.display =\n",
              "          google.colab.kernel.accessAllowed ? 'block' : 'none';\n",
              "\n",
              "        async function convertToInteractive(key) {\n",
              "          const element = document.querySelector('#df-53c21cbb-bdb1-42d0-98d5-bc15bb4d7192');\n",
              "          const dataTable =\n",
              "            await google.colab.kernel.invokeFunction('convertToInteractive',\n",
              "                                                     [key], {});\n",
              "          if (!dataTable) return;\n",
              "\n",
              "          const docLinkHtml = 'Like what you see? Visit the ' +\n",
              "            '<a target=\"_blank\" href=https://colab.research.google.com/notebooks/data_table.ipynb>data table notebook</a>'\n",
              "            + ' to learn more about interactive tables.';\n",
              "          element.innerHTML = '';\n",
              "          dataTable['output_type'] = 'display_data';\n",
              "          await google.colab.output.renderOutput(dataTable, element);\n",
              "          const docLink = document.createElement('div');\n",
              "          docLink.innerHTML = docLinkHtml;\n",
              "          element.appendChild(docLink);\n",
              "        }\n",
              "      </script>\n",
              "    </div>\n",
              "  </div>\n",
              "  "
            ],
            "text/plain": [
              "     Доля_правильных_ответов  ... Логистическая_регрессия\n",
              "0  Обущающая выборка выборка  ...                    0.71\n",
              "1      Валидационная выборка  ...                    0.71\n",
              "2           Тестовая выборка  ...                    0.68\n",
              "3        Время моделирования  ...                 ~ 25 ms\n",
              "\n",
              "[4 rows x 4 columns]"
            ]
          },
          "metadata": {},
          "execution_count": 39
        }
      ]
    },
    {
      "cell_type": "markdown",
      "metadata": {
        "id": "ZARPepbfGOR1"
      },
      "source": [
        "## Проверка модели на адекватность"
      ]
    },
    {
      "cell_type": "markdown",
      "source": [
        "Проверить нашу модель на адекватность сравнив долю правильных ответов с алгоритмом Dummy:"
      ],
      "metadata": {
        "id": "-cLl5HnKqPcb"
      }
    },
    {
      "cell_type": "code",
      "execution_count": 48,
      "metadata": {
        "colab": {
          "base_uri": "https://localhost:8080/"
        },
        "id": "QCu-8lHNGOR2",
        "outputId": "b8f7f330-1655-4365-989d-99b3c11e4cff"
      },
      "outputs": [
        {
          "output_type": "stream",
          "name": "stdout",
          "text": [
            "CPU times: user 2.26 ms, sys: 0 ns, total: 2.26 ms\n",
            "Wall time: 8.7 ms\n"
          ]
        }
      ],
      "source": [
        "%%time \n",
        "\n",
        "dummy_clf = DummyClassifier(random_state=12345)\n",
        "dummy_clf.fit(features_train, target_train)\n",
        "\n",
        "f\"Доля правильных ответов Dummy: {dummy_clf.score(features_valid, target_valid):.2f}\""
      ]
    },
    {
      "cell_type": "markdown",
      "source": [
        "## Вывод"
      ],
      "metadata": {
        "id": "EFhgqDGkp8xy"
      }
    },
    {
      "cell_type": "markdown",
      "source": [
        "На тестовой выборке наилучший accuracy (доля правильных ответов) у алгоритма Случайный лес: `0.81`, у Дерева решений и Логистической регрессии: `0.78` и `0.68` соотственно.  \n",
        "Важно ответить, что алгоритм Dummy показал accuracy: `0.71`, что означает алгоритм логистическая регрессия себя показывает очень плохо, им пользоваться нельзя.  \n",
        "\n",
        "Сравнивая алгоритмы Дерево решений и Случайный лес, хоть и случайный лес показывает немного лучшее accuracy, но за много большее время обучения модели (`~ 60ms` и `~ 16s` соотвественно).  \n",
        "\n",
        "Поэтому, для ответов на вопрос нашего исследования следуют выбрать алгоритм `Дерево решений`."
      ],
      "metadata": {
        "id": "557xEWgkp_Mz"
      }
    }
  ],
  "metadata": {
    "kernelspec": {
      "display_name": "Python 3",
      "language": "python",
      "name": "python3"
    },
    "language_info": {
      "codemirror_mode": {
        "name": "ipython",
        "version": 3
      },
      "file_extension": ".py",
      "mimetype": "text/x-python",
      "name": "python",
      "nbconvert_exporter": "python",
      "pygments_lexer": "ipython3",
      "version": "3.7.8"
    },
    "toc": {
      "base_numbering": 1,
      "nav_menu": {},
      "number_sections": true,
      "sideBar": true,
      "skip_h1_title": true,
      "title_cell": "Table of Contents",
      "title_sidebar": "Contents",
      "toc_cell": false,
      "toc_position": {},
      "toc_section_display": true,
      "toc_window_display": false
    },
    "colab": {
      "name": "tariffs _recommendation_ML.ipynb",
      "provenance": [],
      "collapsed_sections": [
        "ucvDLr8aGORu",
        "ljDKtPtZGORv",
        "o9n3J0n0GORw",
        "9NqqDO8FMWb2",
        "InHYybKfGOR0",
        "ZARPepbfGOR1",
        "EFhgqDGkp8xy"
      ],
      "toc_visible": true
    }
  },
  "nbformat": 4,
  "nbformat_minor": 0
}