{
  "nbformat": 4,
  "nbformat_minor": 0,
  "metadata": {
    "colab": {
      "name": "determining_number_licenses_lodsman.ipynb",
      "provenance": [],
      "collapsed_sections": [],
      "toc_visible": true,
      "authorship_tag": "ABX9TyOEM/P7Y5GNPK0TMuIQV9dE"
    },
    "kernelspec": {
      "name": "python3",
      "display_name": "Python 3"
    },
    "language_info": {
      "name": "python"
    }
  },
  "cells": [
    {
      "cell_type": "markdown",
      "source": [
        "# Определение количества лицензий ЛОЦМАН:КБ "
      ],
      "metadata": {
        "id": "ZoUe7nOfOgom"
      }
    },
    {
      "cell_type": "markdown",
      "source": [
        "Компаниям, разрабатывающим и использующим конструкторскую документацию, требуется специализированная среда, в которой бы можно было реализовать управление жизненным циклом документации — от разработки до аннулирования. Системы, которые обеспечивают инженерный документооборот, относятся к классу PDM (Product Data Management – Управление инженерными данными).  \n",
        "\n",
        "*ЛОЦМАН:КБ позволяет:*\n",
        "- организовать файловый архив и архив электронных структур изделия;  \n",
        "- обеспечить среду для коллективной (в т.ч. удалённой) разработки;  \n",
        "- автоматизировать процедуры согласования документации;  \n",
        "- корректно проводить изменения, поддерживая тем самым актуальность архива.\n",
        "    \n",
        "При этом ЛОЦМАН:КБ продается только с сетевой лицензией.  \n",
        "\n",
        "Cетевая лицензия — даёт право установить продукт на несколько компьютеров, но при этом количество одновременных пользователей не должно превышать количества купленных лицензий.   \n",
        "\n",
        "*Общий алгоритм работы сетевой версии:*\n",
        "- На одном компьютере разворачивается специальная программа-менеджер лицензий — это сервер.\n",
        "- На рабочих местах устанавливается само приложение. Количество таких установок неограниченно.\n",
        "- В момент запуска приложения на рабочем месте, оно обращается на сервер и берет лицензию (если на сервере есть свободные лицензии).\n",
        "- В момент окончания работы приложения или по таймауту лицензия возвращается на сервер.\n",
        "\n",
        "\n",
        "Таким образом, количество одновременно работающих в сети рабочих мест ограничено количеством приобретенных сетевых лицензий.    \n",
        "\n",
        "  \n",
        "  \n",
        "\n",
        "**Цель исселедования:**   \n",
        "Определить оптимальное число требуемых сетевых лицензий ЛОЦМАН-КБ."
      ],
      "metadata": {
        "id": "Fb3kiUh-P_W9"
      }
    },
    {
      "cell_type": "markdown",
      "source": [
        "## Шаг 1. Изучение общей информации о данных и предобработка данных для анализа"
      ],
      "metadata": {
        "id": "0JiE5bzvOTuH"
      }
    },
    {
      "cell_type": "code",
      "execution_count": 1,
      "metadata": {
        "id": "gD03zBmaDBPB"
      },
      "outputs": [],
      "source": [
        "import pandas as pd\n",
        "import numpy as np\n",
        "import re\n",
        "from matplotlib import pyplot as plt\n",
        "import seaborn as sns\n",
        "from math import factorial"
      ]
    },
    {
      "cell_type": "code",
      "source": [
        "pd.options.display.max_colwidth = 100"
      ],
      "metadata": {
        "id": "egR7Fsf6Ydqj"
      },
      "execution_count": 2,
      "outputs": []
    },
    {
      "cell_type": "code",
      "source": [
        "from google.colab import drive\n",
        "drive.mount('/content/drive')"
      ],
      "metadata": {
        "colab": {
          "base_uri": "https://localhost:8080/"
        },
        "id": "vCsQ88YLEozb",
        "outputId": "e7060b05-0251-4e06-abb5-2319b0f337a0"
      },
      "execution_count": 3,
      "outputs": [
        {
          "output_type": "stream",
          "name": "stdout",
          "text": [
            "Mounted at /content/drive\n"
          ]
        }
      ]
    },
    {
      "cell_type": "markdown",
      "source": [
        "Читаем данные с логами:"
      ],
      "metadata": {
        "id": "lcYfrdx3FOR9"
      }
    },
    {
      "cell_type": "code",
      "source": [
        "def merge_logs(year, month, day):\n",
        "\n",
        "  for i in range(1, day):\n",
        "\n",
        "    # чтение файла\n",
        "    df = pd.read_csv(f\"/content/drive/My Drive/projects/determination_average_number_lodsman_users/logs/{year}_{month:02d}_{i:02d}_access.log\", \n",
        "                    sep=r' ', skiprows=1, error_bad_lines=False, warn_bad_lines=False) \n",
        "    # задаем признаки\n",
        "    df.columns = ['nan',\t'nan1',\t'date', 'time',\t'ip',\t'user',\t'port',\t'api' ,\t'features' ,\t'result' ,\t'nan2']\n",
        "    # уберем лишнии признаки\n",
        "    df.drop(['nan', 'nan1', 'nan2'], axis=1, inplace=True)\n",
        "    # удалим пропущенные значения\n",
        "    df = df.dropna(subset=['user', 'features'])\n",
        "\n",
        "    # проведем логическую индексацию\n",
        "    mask = df[\"user\"].str.contains(r\"Администратор\")\n",
        "    dff = df.loc[mask]\n",
        "    mask = dff[\"features\"].str.contains(r\"productid=3197\")\n",
        "    dff = dff.loc[mask]\n",
        "\n",
        "\n",
        "  # соединим логи в одну таблицу\n",
        "    if i == 1: \n",
        "      df_null = pd.DataFrame([np.NaN, np.NaN, np.NaN, np.NaN, np.NaN, np.NaN, np.NaN, np.NaN]).T\n",
        "      df_null.columns = ['median_time', 'haspid', 'productid', 'feat', 'sess', 'api', 'span', 'dtype' ]\n",
        "\n",
        "      df_null = pd.concat([df_null, dff], ignore_index=True)\n",
        "    else:\n",
        "\n",
        "      df_null = pd.concat([df_null, dff], ignore_index=True)  \n",
        "\n",
        "  # уберем лишние признаки и пропущенные значения из созданного переходного датафрейма\n",
        "  df_null.drop(['median_time', 'haspid', 'productid', 'feat', 'sess', 'api', 'span', 'dtype'], axis=1, inplace=True) \n",
        "  df_null = df_null.dropna()\n",
        "  return df_null"
      ],
      "metadata": {
        "id": "yczQT6NXS3NB"
      },
      "execution_count": 4,
      "outputs": []
    },
    {
      "cell_type": "markdown",
      "source": [
        "Key ID:  \n",
        "458744584072543631 - not actived  \n",
        "719635943846940421 - ЛОЦМАН:КБ 2022,HSL,сетвр  \n",
        "834732166184233058 - ОЭ КОМПАC-3D v20,HSL,сетвр  \n",
        "982786152807025115 - ЛОЦМАН:КБ 2021,HSL,сетвр  \n",
        "\n",
        "Productid:  \n",
        "3197 ЛОЦМАН:КБ 2022,HSL,сетвр   \n",
        "3258 КОМПАC-3D v20,HSL,сетвр "
      ],
      "metadata": {
        "id": "QdZQ6FdpV1I_"
      }
    },
    {
      "cell_type": "markdown",
      "source": [
        "Сделаем из признака `'features'` датафрейм:"
      ],
      "metadata": {
        "id": "npJpsueMJEow"
      }
    },
    {
      "cell_type": "code",
      "source": [
        "def split_features(data):\n",
        "  for i in range(len(data)-1):\n",
        "    try:\n",
        "      if i == 0: \n",
        "        zz555 = pd.DataFrame([np.NaN, np.NaN, np.NaN, np.NaN, np.NaN, np.NaN, np.NaN, np.NaN]).T\n",
        "        zz555.columns = ['log', 'haspid', 'productid', 'feat', 'sess', 'api', 'span', 'dtype' ]\n",
        "        zz = pd.DataFrame(str(data[\"features\"][i:i+1]).split(',')).T\n",
        "        zz.columns = ['log', 'haspid', 'productid', 'feat', 'sess', 'api', 'span', 'dtype' ]\n",
        "        zz2 = pd.DataFrame(str(data[\"features\"][i+1:i+2]).split(',')).T\n",
        "        zz2.columns = ['log', 'haspid', 'productid', 'feat', 'sess', 'api', 'span', 'dtype' ]\n",
        "        zz555 = pd.concat([zz555, zz, zz2], ignore_index=True)\n",
        "      else:\n",
        "        zz = pd.DataFrame(str(data[\"features\"][i:i+1]).split(',')).T\n",
        "        zz.columns = ['log', 'haspid', 'productid', 'feat', 'sess', 'api', 'span', 'dtype' ]\n",
        "        zz2 = pd.DataFrame(str(data[\"features\"][i+1:i+2]).split(',')).T\n",
        "        zz2.columns = ['log', 'haspid', 'productid', 'feat', 'sess', 'api', 'span', 'dtype' ]\n",
        "        zz555 = pd.concat([zz555, zz, zz2], ignore_index=True)\n",
        "    except: # если будет проблемная строка\n",
        "      i += 1\n",
        "\n",
        "  zzz5556 = zz555.drop_duplicates().dropna().reset_index()   # датафрейм из признака \n",
        "  return zzz5556"
      ],
      "metadata": {
        "id": "tYQWmE4VUlmk"
      },
      "execution_count": 5,
      "outputs": []
    },
    {
      "cell_type": "markdown",
      "source": [
        "Соединим наши датафреймы с признаком `'features'` и с логами. Уберем лишние признаки, пропуски:"
      ],
      "metadata": {
        "id": "43wHNdOpV9Oy"
      }
    },
    {
      "cell_type": "code",
      "source": [
        "def merge_logs_features(data1, data2):\n",
        "  df = data1.merge(data2, how='outer', left_index=True, right_index=True)\n",
        "  df.drop(['port', 'features', 'result', 'index', 'span', 'dtype'], axis=1, inplace=True)\n",
        "  df = df.dropna().reset_index()\n",
        "  return df"
      ],
      "metadata": {
        "id": "YI4TVb8HVQoS"
      },
      "execution_count": 6,
      "outputs": []
    },
    {
      "cell_type": "markdown",
      "source": [
        "Прочитаем данные за октябрь 2021:"
      ],
      "metadata": {
        "id": "1uYKGtmcWNDi"
      }
    },
    {
      "cell_type": "code",
      "source": [
        "oct = merge_logs(2021, 10, 32)\n",
        "oct_feat = split_features(oct)\n",
        "df_oct = merge_logs_features(oct, oct_feat)"
      ],
      "metadata": {
        "id": "v8YUP9CRTZ6X"
      },
      "execution_count": 7,
      "outputs": []
    },
    {
      "cell_type": "markdown",
      "source": [
        "Прочитаем данные за ноябрь 2021:"
      ],
      "metadata": {
        "id": "18tiSaRNWPQe"
      }
    },
    {
      "cell_type": "code",
      "source": [
        "nov = merge_logs(2021, 11, 31)\n",
        "nov_feat = split_features(nov)\n",
        "df_nov = merge_logs_features(nov, nov_feat)"
      ],
      "metadata": {
        "id": "wAaXAQGzUy4_"
      },
      "execution_count": 8,
      "outputs": []
    },
    {
      "cell_type": "markdown",
      "source": [
        "Прочитаем данные за декабрь 2021:"
      ],
      "metadata": {
        "id": "mm2_4acdWRHo"
      }
    },
    {
      "cell_type": "code",
      "source": [
        "dec = merge_logs(2021, 12, 32)\n",
        "dec_feat = split_features(dec)\n",
        "df_dec = merge_logs_features(dec, dec_feat)"
      ],
      "metadata": {
        "id": "gcLzJB28Vg7l"
      },
      "execution_count": 9,
      "outputs": []
    },
    {
      "cell_type": "markdown",
      "source": [
        "Прочитаем данные за январь 2022:"
      ],
      "metadata": {
        "id": "iTK2qPvU1IYo"
      }
    },
    {
      "cell_type": "code",
      "source": [
        "jan = merge_logs(2022, 1, 19)\n",
        "jan_feat = split_features(jan)\n",
        "df_jan = merge_logs_features(jan, jan_feat)"
      ],
      "metadata": {
        "id": "4Ho-aFeB1LZm"
      },
      "execution_count": null,
      "outputs": []
    },
    {
      "cell_type": "markdown",
      "source": [
        "Соединим все данные вместе и выведем информацию на экран:"
      ],
      "metadata": {
        "id": "Nxgcb1EeYq9H"
      }
    },
    {
      "cell_type": "code",
      "source": [
        "df = pd.concat([df_oct, df_nov, df_dec, df_jan], ignore_index=True)"
      ],
      "metadata": {
        "id": "P1PzwAPkXOD1"
      },
      "execution_count": 11,
      "outputs": []
    },
    {
      "cell_type": "markdown",
      "source": [
        "Вывыдем последние 5 строк:"
      ],
      "metadata": {
        "id": "kbslXLZwILju"
      }
    },
    {
      "cell_type": "code",
      "source": [
        "df.tail()"
      ],
      "metadata": {
        "colab": {
          "base_uri": "https://localhost:8080/",
          "height": 206
        },
        "id": "Vl_HVVLGYlb4",
        "outputId": "d0845c62-7626-43b2-81b2-7b3911fdb13b"
      },
      "execution_count": 12,
      "outputs": [
        {
          "output_type": "execute_result",
          "data": {
            "text/html": [
              "\n",
              "  <div id=\"df-fea2932c-3325-428e-83ae-cb3b724cf920\">\n",
              "    <div class=\"colab-df-container\">\n",
              "      <div>\n",
              "<style scoped>\n",
              "    .dataframe tbody tr th:only-of-type {\n",
              "        vertical-align: middle;\n",
              "    }\n",
              "\n",
              "    .dataframe tbody tr th {\n",
              "        vertical-align: top;\n",
              "    }\n",
              "\n",
              "    .dataframe thead th {\n",
              "        text-align: right;\n",
              "    }\n",
              "</style>\n",
              "<table border=\"1\" class=\"dataframe\">\n",
              "  <thead>\n",
              "    <tr style=\"text-align: right;\">\n",
              "      <th></th>\n",
              "      <th>index</th>\n",
              "      <th>date</th>\n",
              "      <th>time</th>\n",
              "      <th>ip</th>\n",
              "      <th>user</th>\n",
              "      <th>log</th>\n",
              "      <th>haspid</th>\n",
              "      <th>productid</th>\n",
              "      <th>feat</th>\n",
              "      <th>sess</th>\n",
              "      <th>api</th>\n",
              "    </tr>\n",
              "  </thead>\n",
              "  <tbody>\n",
              "    <tr>\n",
              "      <th>7543</th>\n",
              "      <td>135</td>\n",
              "      <td>0}2022-01-18</td>\n",
              "      <td>17:09:36</td>\n",
              "      <td>192.168.0.158:54035</td>\n",
              "      <td>Администратор@SRV-KB</td>\n",
              "      <td>136    LOGOUT(lm=local</td>\n",
              "      <td>haspid=719635943846940421</td>\n",
              "      <td>productid=3197</td>\n",
              "      <td>feat=622</td>\n",
              "      <td>sess=000004E0</td>\n",
              "      <td>duration=24653</td>\n",
              "    </tr>\n",
              "    <tr>\n",
              "      <th>7544</th>\n",
              "      <td>136</td>\n",
              "      <td>0}2022-01-18</td>\n",
              "      <td>17:14:33</td>\n",
              "      <td>192.168.0.158:57951</td>\n",
              "      <td>Администратор@SRV-KB</td>\n",
              "      <td>137    LOGIN_EX(lm=local</td>\n",
              "      <td>haspid=719635943846940421</td>\n",
              "      <td>productid=3197</td>\n",
              "      <td>feat=622</td>\n",
              "      <td>sess=0000051D</td>\n",
              "      <td>api=7.50</td>\n",
              "    </tr>\n",
              "    <tr>\n",
              "      <th>7545</th>\n",
              "      <td>137</td>\n",
              "      <td>0}2022-01-18</td>\n",
              "      <td>17:41:16</td>\n",
              "      <td>192.168.0.158:57932</td>\n",
              "      <td>Администратор@SRV-KB</td>\n",
              "      <td>138    LOGOUT(lm=local</td>\n",
              "      <td>haspid=719635943846940421</td>\n",
              "      <td>productid=3197</td>\n",
              "      <td>feat=622</td>\n",
              "      <td>sess=0000051D</td>\n",
              "      <td>duration=151</td>\n",
              "    </tr>\n",
              "    <tr>\n",
              "      <th>7546</th>\n",
              "      <td>138</td>\n",
              "      <td>0}2022-01-18</td>\n",
              "      <td>17:43:47</td>\n",
              "      <td>192.168.0.158:61336</td>\n",
              "      <td>Администратор@SRV-KB</td>\n",
              "      <td>139    LOGOUT(lm=local</td>\n",
              "      <td>haspid=719635943846940421</td>\n",
              "      <td>productid=3197</td>\n",
              "      <td>feat=622</td>\n",
              "      <td>sess=00000511</td>\n",
              "      <td>duration=8065</td>\n",
              "    </tr>\n",
              "    <tr>\n",
              "      <th>7547</th>\n",
              "      <td>139</td>\n",
              "      <td>0}2022-01-18</td>\n",
              "      <td>17:54:23</td>\n",
              "      <td>192.168.0.158:56374</td>\n",
              "      <td>Администратор@SRV-KB</td>\n",
              "      <td>140    LOGOUT(lm=local</td>\n",
              "      <td>haspid=719635943846940421</td>\n",
              "      <td>productid=3197</td>\n",
              "      <td>feat=622</td>\n",
              "      <td>sess=000004D9</td>\n",
              "      <td>duration=31040</td>\n",
              "    </tr>\n",
              "  </tbody>\n",
              "</table>\n",
              "</div>\n",
              "      <button class=\"colab-df-convert\" onclick=\"convertToInteractive('df-fea2932c-3325-428e-83ae-cb3b724cf920')\"\n",
              "              title=\"Convert this dataframe to an interactive table.\"\n",
              "              style=\"display:none;\">\n",
              "        \n",
              "  <svg xmlns=\"http://www.w3.org/2000/svg\" height=\"24px\"viewBox=\"0 0 24 24\"\n",
              "       width=\"24px\">\n",
              "    <path d=\"M0 0h24v24H0V0z\" fill=\"none\"/>\n",
              "    <path d=\"M18.56 5.44l.94 2.06.94-2.06 2.06-.94-2.06-.94-.94-2.06-.94 2.06-2.06.94zm-11 1L8.5 8.5l.94-2.06 2.06-.94-2.06-.94L8.5 2.5l-.94 2.06-2.06.94zm10 10l.94 2.06.94-2.06 2.06-.94-2.06-.94-.94-2.06-.94 2.06-2.06.94z\"/><path d=\"M17.41 7.96l-1.37-1.37c-.4-.4-.92-.59-1.43-.59-.52 0-1.04.2-1.43.59L10.3 9.45l-7.72 7.72c-.78.78-.78 2.05 0 2.83L4 21.41c.39.39.9.59 1.41.59.51 0 1.02-.2 1.41-.59l7.78-7.78 2.81-2.81c.8-.78.8-2.07 0-2.86zM5.41 20L4 18.59l7.72-7.72 1.47 1.35L5.41 20z\"/>\n",
              "  </svg>\n",
              "      </button>\n",
              "      \n",
              "  <style>\n",
              "    .colab-df-container {\n",
              "      display:flex;\n",
              "      flex-wrap:wrap;\n",
              "      gap: 12px;\n",
              "    }\n",
              "\n",
              "    .colab-df-convert {\n",
              "      background-color: #E8F0FE;\n",
              "      border: none;\n",
              "      border-radius: 50%;\n",
              "      cursor: pointer;\n",
              "      display: none;\n",
              "      fill: #1967D2;\n",
              "      height: 32px;\n",
              "      padding: 0 0 0 0;\n",
              "      width: 32px;\n",
              "    }\n",
              "\n",
              "    .colab-df-convert:hover {\n",
              "      background-color: #E2EBFA;\n",
              "      box-shadow: 0px 1px 2px rgba(60, 64, 67, 0.3), 0px 1px 3px 1px rgba(60, 64, 67, 0.15);\n",
              "      fill: #174EA6;\n",
              "    }\n",
              "\n",
              "    [theme=dark] .colab-df-convert {\n",
              "      background-color: #3B4455;\n",
              "      fill: #D2E3FC;\n",
              "    }\n",
              "\n",
              "    [theme=dark] .colab-df-convert:hover {\n",
              "      background-color: #434B5C;\n",
              "      box-shadow: 0px 1px 3px 1px rgba(0, 0, 0, 0.15);\n",
              "      filter: drop-shadow(0px 1px 2px rgba(0, 0, 0, 0.3));\n",
              "      fill: #FFFFFF;\n",
              "    }\n",
              "  </style>\n",
              "\n",
              "      <script>\n",
              "        const buttonEl =\n",
              "          document.querySelector('#df-fea2932c-3325-428e-83ae-cb3b724cf920 button.colab-df-convert');\n",
              "        buttonEl.style.display =\n",
              "          google.colab.kernel.accessAllowed ? 'block' : 'none';\n",
              "\n",
              "        async function convertToInteractive(key) {\n",
              "          const element = document.querySelector('#df-fea2932c-3325-428e-83ae-cb3b724cf920');\n",
              "          const dataTable =\n",
              "            await google.colab.kernel.invokeFunction('convertToInteractive',\n",
              "                                                     [key], {});\n",
              "          if (!dataTable) return;\n",
              "\n",
              "          const docLinkHtml = 'Like what you see? Visit the ' +\n",
              "            '<a target=\"_blank\" href=https://colab.research.google.com/notebooks/data_table.ipynb>data table notebook</a>'\n",
              "            + ' to learn more about interactive tables.';\n",
              "          element.innerHTML = '';\n",
              "          dataTable['output_type'] = 'display_data';\n",
              "          await google.colab.output.renderOutput(dataTable, element);\n",
              "          const docLink = document.createElement('div');\n",
              "          docLink.innerHTML = docLinkHtml;\n",
              "          element.appendChild(docLink);\n",
              "        }\n",
              "      </script>\n",
              "    </div>\n",
              "  </div>\n",
              "  "
            ],
            "text/plain": [
              "      index          date      time  ...      feat           sess             api\n",
              "7543    135  0}2022-01-18  17:09:36  ...  feat=622  sess=000004E0  duration=24653\n",
              "7544    136  0}2022-01-18  17:14:33  ...  feat=622  sess=0000051D        api=7.50\n",
              "7545    137  0}2022-01-18  17:41:16  ...  feat=622  sess=0000051D    duration=151\n",
              "7546    138  0}2022-01-18  17:43:47  ...  feat=622  sess=00000511   duration=8065\n",
              "7547    139  0}2022-01-18  17:54:23  ...  feat=622  sess=000004D9  duration=31040\n",
              "\n",
              "[5 rows x 11 columns]"
            ]
          },
          "metadata": {},
          "execution_count": 12
        }
      ]
    },
    {
      "cell_type": "markdown",
      "source": [
        "Удалим лишние признаки:"
      ],
      "metadata": {
        "id": "eXlreQBpINvq"
      }
    },
    {
      "cell_type": "code",
      "source": [
        "df.drop(['index', 'haspid', 'productid'], axis=1, inplace=True)"
      ],
      "metadata": {
        "id": "7KVp6fWlHidN"
      },
      "execution_count": 13,
      "outputs": []
    },
    {
      "cell_type": "markdown",
      "source": [
        "Приведем столбец `'log'` к нормальному виду:"
      ],
      "metadata": {
        "id": "DXvDd4nDMEAu"
      }
    },
    {
      "cell_type": "code",
      "source": [
        "def replace_bad_space(row):\n",
        "  text = re.sub(r'\\w+\\ ', '', row)\n",
        "  return text"
      ],
      "metadata": {
        "id": "2TckHLuAKtrd"
      },
      "execution_count": 14,
      "outputs": []
    },
    {
      "cell_type": "code",
      "source": [
        "df['log'] = df['log'].apply(replace_bad_space)"
      ],
      "metadata": {
        "id": "T94HWsvJLyRm"
      },
      "execution_count": 15,
      "outputs": []
    },
    {
      "cell_type": "code",
      "source": [
        "df['log'] = df['log'].str.split('(').str[0].add('')"
      ],
      "metadata": {
        "id": "Xn7d_7g7LQ5J"
      },
      "execution_count": 16,
      "outputs": []
    },
    {
      "cell_type": "code",
      "source": [
        "df['log'].value_counts()"
      ],
      "metadata": {
        "colab": {
          "base_uri": "https://localhost:8080/"
        },
        "id": "DemCrU9pLXQD",
        "outputId": "2f9d8605-0a50-408b-a7ac-9251b1198934"
      },
      "execution_count": 17,
      "outputs": [
        {
          "output_type": "execute_result",
          "data": {
            "text/plain": [
              "   LOGIN_EX    3812\n",
              "   LOGOUT      3736\n",
              "Name: log, dtype: int64"
            ]
          },
          "metadata": {},
          "execution_count": 17
        }
      ]
    },
    {
      "cell_type": "code",
      "source": [
        "df['log'] = df['log'].replace('   LOGIN_EX', 'login')\n",
        "df['log'] = df['log'].replace('   LOGOUT', 'logout')"
      ],
      "metadata": {
        "id": "40z49avpMXek"
      },
      "execution_count": 18,
      "outputs": []
    },
    {
      "cell_type": "markdown",
      "source": [
        "Приведем признаки с датами и временем к нужнемому типу:"
      ],
      "metadata": {
        "id": "JwRe-QiTGX67"
      }
    },
    {
      "cell_type": "code",
      "source": [
        "def replace_bad_symbols(row):\n",
        "  text = re.sub(r'\\w+\\}', '', row)\n",
        "  return text"
      ],
      "metadata": {
        "id": "6sgHATpHFzH8"
      },
      "execution_count": 19,
      "outputs": []
    },
    {
      "cell_type": "code",
      "source": [
        "df['date'] = df['date'].apply(replace_bad_symbols)"
      ],
      "metadata": {
        "id": "zH5o39LvGpxB"
      },
      "execution_count": 20,
      "outputs": []
    },
    {
      "cell_type": "code",
      "source": [
        "df['date'] = pd.to_datetime(df['date'], format='%Y-%m-%d')"
      ],
      "metadata": {
        "id": "b4xnAIskGGhU"
      },
      "execution_count": 21,
      "outputs": []
    },
    {
      "cell_type": "code",
      "source": [
        "df['time'] = pd.to_datetime(df['time'], format='%H:%M:%S')"
      ],
      "metadata": {
        "id": "16aDyRXTmeCS"
      },
      "execution_count": 22,
      "outputs": []
    },
    {
      "cell_type": "markdown",
      "source": [
        "Создадим столбец с переводом времени в секунды:"
      ],
      "metadata": {
        "id": "qx1eoQA4nnMG"
      }
    },
    {
      "cell_type": "code",
      "source": [
        "df['duration'] = (df['time'].dt.hour*60+df['time'].dt.minute)*60 + df['time'].dt.second"
      ],
      "metadata": {
        "id": "uaC6TTHSYban"
      },
      "execution_count": 23,
      "outputs": []
    },
    {
      "cell_type": "code",
      "source": [
        "df['time'] = (pd.to_datetime(df['time'], format='%H:%M:%S')).dt.time"
      ],
      "metadata": {
        "id": "lDUidSgpwbZd"
      },
      "execution_count": 24,
      "outputs": []
    },
    {
      "cell_type": "markdown",
      "source": [
        "Выведем информацию о получившийся таблице:"
      ],
      "metadata": {
        "id": "TxHpo5-bHZ-P"
      }
    },
    {
      "cell_type": "code",
      "source": [
        "df.info()"
      ],
      "metadata": {
        "colab": {
          "base_uri": "https://localhost:8080/"
        },
        "id": "aHg2ZaVhHWaP",
        "outputId": "6a527277-0b73-4147-8610-3799862cb5ed"
      },
      "execution_count": 25,
      "outputs": [
        {
          "output_type": "stream",
          "name": "stdout",
          "text": [
            "<class 'pandas.core.frame.DataFrame'>\n",
            "RangeIndex: 7548 entries, 0 to 7547\n",
            "Data columns (total 9 columns):\n",
            " #   Column    Non-Null Count  Dtype         \n",
            "---  ------    --------------  -----         \n",
            " 0   date      7548 non-null   datetime64[ns]\n",
            " 1   time      7548 non-null   object        \n",
            " 2   ip        7548 non-null   object        \n",
            " 3   user      7548 non-null   object        \n",
            " 4   log       7548 non-null   object        \n",
            " 5   feat      7548 non-null   object        \n",
            " 6   sess      7548 non-null   object        \n",
            " 7   api       7548 non-null   object        \n",
            " 8   duration  7548 non-null   int64         \n",
            "dtypes: datetime64[ns](1), int64(1), object(7)\n",
            "memory usage: 530.8+ KB\n"
          ]
        }
      ]
    },
    {
      "cell_type": "code",
      "source": [
        "df.head()"
      ],
      "metadata": {
        "colab": {
          "base_uri": "https://localhost:8080/",
          "height": 206
        },
        "id": "g4nciyfYnVSx",
        "outputId": "a64a7dec-f6ae-417e-df74-2e2143699e05"
      },
      "execution_count": 26,
      "outputs": [
        {
          "output_type": "execute_result",
          "data": {
            "text/html": [
              "\n",
              "  <div id=\"df-643efae2-0c35-4468-a4a7-acfb9b9f8471\">\n",
              "    <div class=\"colab-df-container\">\n",
              "      <div>\n",
              "<style scoped>\n",
              "    .dataframe tbody tr th:only-of-type {\n",
              "        vertical-align: middle;\n",
              "    }\n",
              "\n",
              "    .dataframe tbody tr th {\n",
              "        vertical-align: top;\n",
              "    }\n",
              "\n",
              "    .dataframe thead th {\n",
              "        text-align: right;\n",
              "    }\n",
              "</style>\n",
              "<table border=\"1\" class=\"dataframe\">\n",
              "  <thead>\n",
              "    <tr style=\"text-align: right;\">\n",
              "      <th></th>\n",
              "      <th>date</th>\n",
              "      <th>time</th>\n",
              "      <th>ip</th>\n",
              "      <th>user</th>\n",
              "      <th>log</th>\n",
              "      <th>feat</th>\n",
              "      <th>sess</th>\n",
              "      <th>api</th>\n",
              "      <th>duration</th>\n",
              "    </tr>\n",
              "  </thead>\n",
              "  <tbody>\n",
              "    <tr>\n",
              "      <th>0</th>\n",
              "      <td>2021-10-01</td>\n",
              "      <td>00:40:58</td>\n",
              "      <td>192.168.0.158:59813</td>\n",
              "      <td>Администратор@SRV-KB</td>\n",
              "      <td>login</td>\n",
              "      <td>feat=594</td>\n",
              "      <td>sess=000003F3</td>\n",
              "      <td>api=7.50</td>\n",
              "      <td>2458</td>\n",
              "    </tr>\n",
              "    <tr>\n",
              "      <th>1</th>\n",
              "      <td>2021-10-01</td>\n",
              "      <td>05:03:18</td>\n",
              "      <td>192.168.0.158:60775</td>\n",
              "      <td>Администратор@SRV-KB</td>\n",
              "      <td>logout</td>\n",
              "      <td>feat=594</td>\n",
              "      <td>sess=000003F3</td>\n",
              "      <td>duration=1</td>\n",
              "      <td>18198</td>\n",
              "    </tr>\n",
              "    <tr>\n",
              "      <th>2</th>\n",
              "      <td>2021-10-01</td>\n",
              "      <td>05:03:18</td>\n",
              "      <td>192.168.0.158:60775</td>\n",
              "      <td>Администратор@SRV-KB</td>\n",
              "      <td>login</td>\n",
              "      <td>feat=594</td>\n",
              "      <td>sess=00000404</td>\n",
              "      <td>api=7.50</td>\n",
              "      <td>18198</td>\n",
              "    </tr>\n",
              "    <tr>\n",
              "      <th>3</th>\n",
              "      <td>2021-10-01</td>\n",
              "      <td>08:03:42</td>\n",
              "      <td>192.168.0.158:61435</td>\n",
              "      <td>Администратор@SRV-KB</td>\n",
              "      <td>logout</td>\n",
              "      <td>feat=594</td>\n",
              "      <td>sess=00000404</td>\n",
              "      <td>duration=0</td>\n",
              "      <td>29022</td>\n",
              "    </tr>\n",
              "    <tr>\n",
              "      <th>4</th>\n",
              "      <td>2021-10-01</td>\n",
              "      <td>08:03:43</td>\n",
              "      <td>192.168.0.158:61435</td>\n",
              "      <td>Администратор@SRV-KB</td>\n",
              "      <td>login</td>\n",
              "      <td>feat=594</td>\n",
              "      <td>sess=00000406</td>\n",
              "      <td>api=7.50</td>\n",
              "      <td>29023</td>\n",
              "    </tr>\n",
              "  </tbody>\n",
              "</table>\n",
              "</div>\n",
              "      <button class=\"colab-df-convert\" onclick=\"convertToInteractive('df-643efae2-0c35-4468-a4a7-acfb9b9f8471')\"\n",
              "              title=\"Convert this dataframe to an interactive table.\"\n",
              "              style=\"display:none;\">\n",
              "        \n",
              "  <svg xmlns=\"http://www.w3.org/2000/svg\" height=\"24px\"viewBox=\"0 0 24 24\"\n",
              "       width=\"24px\">\n",
              "    <path d=\"M0 0h24v24H0V0z\" fill=\"none\"/>\n",
              "    <path d=\"M18.56 5.44l.94 2.06.94-2.06 2.06-.94-2.06-.94-.94-2.06-.94 2.06-2.06.94zm-11 1L8.5 8.5l.94-2.06 2.06-.94-2.06-.94L8.5 2.5l-.94 2.06-2.06.94zm10 10l.94 2.06.94-2.06 2.06-.94-2.06-.94-.94-2.06-.94 2.06-2.06.94z\"/><path d=\"M17.41 7.96l-1.37-1.37c-.4-.4-.92-.59-1.43-.59-.52 0-1.04.2-1.43.59L10.3 9.45l-7.72 7.72c-.78.78-.78 2.05 0 2.83L4 21.41c.39.39.9.59 1.41.59.51 0 1.02-.2 1.41-.59l7.78-7.78 2.81-2.81c.8-.78.8-2.07 0-2.86zM5.41 20L4 18.59l7.72-7.72 1.47 1.35L5.41 20z\"/>\n",
              "  </svg>\n",
              "      </button>\n",
              "      \n",
              "  <style>\n",
              "    .colab-df-container {\n",
              "      display:flex;\n",
              "      flex-wrap:wrap;\n",
              "      gap: 12px;\n",
              "    }\n",
              "\n",
              "    .colab-df-convert {\n",
              "      background-color: #E8F0FE;\n",
              "      border: none;\n",
              "      border-radius: 50%;\n",
              "      cursor: pointer;\n",
              "      display: none;\n",
              "      fill: #1967D2;\n",
              "      height: 32px;\n",
              "      padding: 0 0 0 0;\n",
              "      width: 32px;\n",
              "    }\n",
              "\n",
              "    .colab-df-convert:hover {\n",
              "      background-color: #E2EBFA;\n",
              "      box-shadow: 0px 1px 2px rgba(60, 64, 67, 0.3), 0px 1px 3px 1px rgba(60, 64, 67, 0.15);\n",
              "      fill: #174EA6;\n",
              "    }\n",
              "\n",
              "    [theme=dark] .colab-df-convert {\n",
              "      background-color: #3B4455;\n",
              "      fill: #D2E3FC;\n",
              "    }\n",
              "\n",
              "    [theme=dark] .colab-df-convert:hover {\n",
              "      background-color: #434B5C;\n",
              "      box-shadow: 0px 1px 3px 1px rgba(0, 0, 0, 0.15);\n",
              "      filter: drop-shadow(0px 1px 2px rgba(0, 0, 0, 0.3));\n",
              "      fill: #FFFFFF;\n",
              "    }\n",
              "  </style>\n",
              "\n",
              "      <script>\n",
              "        const buttonEl =\n",
              "          document.querySelector('#df-643efae2-0c35-4468-a4a7-acfb9b9f8471 button.colab-df-convert');\n",
              "        buttonEl.style.display =\n",
              "          google.colab.kernel.accessAllowed ? 'block' : 'none';\n",
              "\n",
              "        async function convertToInteractive(key) {\n",
              "          const element = document.querySelector('#df-643efae2-0c35-4468-a4a7-acfb9b9f8471');\n",
              "          const dataTable =\n",
              "            await google.colab.kernel.invokeFunction('convertToInteractive',\n",
              "                                                     [key], {});\n",
              "          if (!dataTable) return;\n",
              "\n",
              "          const docLinkHtml = 'Like what you see? Visit the ' +\n",
              "            '<a target=\"_blank\" href=https://colab.research.google.com/notebooks/data_table.ipynb>data table notebook</a>'\n",
              "            + ' to learn more about interactive tables.';\n",
              "          element.innerHTML = '';\n",
              "          dataTable['output_type'] = 'display_data';\n",
              "          await google.colab.output.renderOutput(dataTable, element);\n",
              "          const docLink = document.createElement('div');\n",
              "          docLink.innerHTML = docLinkHtml;\n",
              "          element.appendChild(docLink);\n",
              "        }\n",
              "      </script>\n",
              "    </div>\n",
              "  </div>\n",
              "  "
            ],
            "text/plain": [
              "        date      time  ...         api duration\n",
              "0 2021-10-01  00:40:58  ...    api=7.50     2458\n",
              "1 2021-10-01  05:03:18  ...  duration=1    18198\n",
              "2 2021-10-01  05:03:18  ...    api=7.50    18198\n",
              "3 2021-10-01  08:03:42  ...  duration=0    29022\n",
              "4 2021-10-01  08:03:43  ...    api=7.50    29023\n",
              "\n",
              "[5 rows x 9 columns]"
            ]
          },
          "metadata": {},
          "execution_count": 26
        }
      ]
    },
    {
      "cell_type": "markdown",
      "source": [
        "## Шаг 2. Исследовательский анализ данных"
      ],
      "metadata": {
        "id": "5ptq5g0WO5iO"
      }
    },
    {
      "cell_type": "markdown",
      "source": [
        "Создадим сводную таблицу по датам, в которую положим индификатор сессии, дату, продолжительность сессии:"
      ],
      "metadata": {
        "id": "3C1lMTPAvfVz"
      }
    },
    {
      "cell_type": "code",
      "source": [
        "df_group_sess = df.pivot_table(index=['sess', 'date'], values='duration', aggfunc=['first', 'last']).reset_index().droplevel(level=1, axis=1)"
      ],
      "metadata": {
        "id": "pnkz5yB0qcND"
      },
      "execution_count": 28,
      "outputs": []
    },
    {
      "cell_type": "code",
      "source": [
        "df_group_sess['duration'] = df_group_sess['last'] - df_group_sess['first']"
      ],
      "metadata": {
        "id": "N31tVG9rvrdk"
      },
      "execution_count": 30,
      "outputs": []
    },
    {
      "cell_type": "markdown",
      "source": [
        "Выберем сессии продолжительностью более чем 2 минуты:"
      ],
      "metadata": {
        "id": "jK_7h_2EzpTL"
      }
    },
    {
      "cell_type": "code",
      "source": [
        "df_group_sess = (df_group_sess[df_group_sess['duration'] > 120]).reset_index()"
      ],
      "metadata": {
        "id": "MeOnDqQ3yXFN"
      },
      "execution_count": 31,
      "outputs": []
    },
    {
      "cell_type": "code",
      "source": [
        "df_group_sess = df_group_sess.drop(['index', 'first', 'last'], axis=1)"
      ],
      "metadata": {
        "id": "KHy1Hs6Myi_N"
      },
      "execution_count": 32,
      "outputs": []
    },
    {
      "cell_type": "code",
      "source": [
        "df_group_sess['month'] = df_group_sess['date'].dt.month"
      ],
      "metadata": {
        "id": "RH4Pwo2e3XQ4"
      },
      "execution_count": 33,
      "outputs": []
    },
    {
      "cell_type": "code",
      "source": [
        "df_group_sess.head()"
      ],
      "metadata": {
        "colab": {
          "base_uri": "https://localhost:8080/",
          "height": 206
        },
        "id": "bqgiWtaH3TdL",
        "outputId": "a3772739-7ccc-4360-e066-37b9798d2846"
      },
      "execution_count": 34,
      "outputs": [
        {
          "output_type": "execute_result",
          "data": {
            "text/html": [
              "\n",
              "  <div id=\"df-1f4fa7fb-9d31-45bf-8e8e-eda44722a2ca\">\n",
              "    <div class=\"colab-df-container\">\n",
              "      <div>\n",
              "<style scoped>\n",
              "    .dataframe tbody tr th:only-of-type {\n",
              "        vertical-align: middle;\n",
              "    }\n",
              "\n",
              "    .dataframe tbody tr th {\n",
              "        vertical-align: top;\n",
              "    }\n",
              "\n",
              "    .dataframe thead th {\n",
              "        text-align: right;\n",
              "    }\n",
              "</style>\n",
              "<table border=\"1\" class=\"dataframe\">\n",
              "  <thead>\n",
              "    <tr style=\"text-align: right;\">\n",
              "      <th></th>\n",
              "      <th>sess</th>\n",
              "      <th>date</th>\n",
              "      <th>duration</th>\n",
              "      <th>month</th>\n",
              "    </tr>\n",
              "  </thead>\n",
              "  <tbody>\n",
              "    <tr>\n",
              "      <th>0</th>\n",
              "      <td>sess=00000002</td>\n",
              "      <td>2021-11-18</td>\n",
              "      <td>15409</td>\n",
              "      <td>11</td>\n",
              "    </tr>\n",
              "    <tr>\n",
              "      <th>1</th>\n",
              "      <td>sess=00000002</td>\n",
              "      <td>2021-12-23</td>\n",
              "      <td>522</td>\n",
              "      <td>12</td>\n",
              "    </tr>\n",
              "    <tr>\n",
              "      <th>2</th>\n",
              "      <td>sess=00000004</td>\n",
              "      <td>2021-11-18</td>\n",
              "      <td>165</td>\n",
              "      <td>11</td>\n",
              "    </tr>\n",
              "    <tr>\n",
              "      <th>3</th>\n",
              "      <td>sess=00000006</td>\n",
              "      <td>2021-11-10</td>\n",
              "      <td>4059</td>\n",
              "      <td>11</td>\n",
              "    </tr>\n",
              "    <tr>\n",
              "      <th>4</th>\n",
              "      <td>sess=00000006</td>\n",
              "      <td>2021-11-18</td>\n",
              "      <td>10681</td>\n",
              "      <td>11</td>\n",
              "    </tr>\n",
              "  </tbody>\n",
              "</table>\n",
              "</div>\n",
              "      <button class=\"colab-df-convert\" onclick=\"convertToInteractive('df-1f4fa7fb-9d31-45bf-8e8e-eda44722a2ca')\"\n",
              "              title=\"Convert this dataframe to an interactive table.\"\n",
              "              style=\"display:none;\">\n",
              "        \n",
              "  <svg xmlns=\"http://www.w3.org/2000/svg\" height=\"24px\"viewBox=\"0 0 24 24\"\n",
              "       width=\"24px\">\n",
              "    <path d=\"M0 0h24v24H0V0z\" fill=\"none\"/>\n",
              "    <path d=\"M18.56 5.44l.94 2.06.94-2.06 2.06-.94-2.06-.94-.94-2.06-.94 2.06-2.06.94zm-11 1L8.5 8.5l.94-2.06 2.06-.94-2.06-.94L8.5 2.5l-.94 2.06-2.06.94zm10 10l.94 2.06.94-2.06 2.06-.94-2.06-.94-.94-2.06-.94 2.06-2.06.94z\"/><path d=\"M17.41 7.96l-1.37-1.37c-.4-.4-.92-.59-1.43-.59-.52 0-1.04.2-1.43.59L10.3 9.45l-7.72 7.72c-.78.78-.78 2.05 0 2.83L4 21.41c.39.39.9.59 1.41.59.51 0 1.02-.2 1.41-.59l7.78-7.78 2.81-2.81c.8-.78.8-2.07 0-2.86zM5.41 20L4 18.59l7.72-7.72 1.47 1.35L5.41 20z\"/>\n",
              "  </svg>\n",
              "      </button>\n",
              "      \n",
              "  <style>\n",
              "    .colab-df-container {\n",
              "      display:flex;\n",
              "      flex-wrap:wrap;\n",
              "      gap: 12px;\n",
              "    }\n",
              "\n",
              "    .colab-df-convert {\n",
              "      background-color: #E8F0FE;\n",
              "      border: none;\n",
              "      border-radius: 50%;\n",
              "      cursor: pointer;\n",
              "      display: none;\n",
              "      fill: #1967D2;\n",
              "      height: 32px;\n",
              "      padding: 0 0 0 0;\n",
              "      width: 32px;\n",
              "    }\n",
              "\n",
              "    .colab-df-convert:hover {\n",
              "      background-color: #E2EBFA;\n",
              "      box-shadow: 0px 1px 2px rgba(60, 64, 67, 0.3), 0px 1px 3px 1px rgba(60, 64, 67, 0.15);\n",
              "      fill: #174EA6;\n",
              "    }\n",
              "\n",
              "    [theme=dark] .colab-df-convert {\n",
              "      background-color: #3B4455;\n",
              "      fill: #D2E3FC;\n",
              "    }\n",
              "\n",
              "    [theme=dark] .colab-df-convert:hover {\n",
              "      background-color: #434B5C;\n",
              "      box-shadow: 0px 1px 3px 1px rgba(0, 0, 0, 0.15);\n",
              "      filter: drop-shadow(0px 1px 2px rgba(0, 0, 0, 0.3));\n",
              "      fill: #FFFFFF;\n",
              "    }\n",
              "  </style>\n",
              "\n",
              "      <script>\n",
              "        const buttonEl =\n",
              "          document.querySelector('#df-1f4fa7fb-9d31-45bf-8e8e-eda44722a2ca button.colab-df-convert');\n",
              "        buttonEl.style.display =\n",
              "          google.colab.kernel.accessAllowed ? 'block' : 'none';\n",
              "\n",
              "        async function convertToInteractive(key) {\n",
              "          const element = document.querySelector('#df-1f4fa7fb-9d31-45bf-8e8e-eda44722a2ca');\n",
              "          const dataTable =\n",
              "            await google.colab.kernel.invokeFunction('convertToInteractive',\n",
              "                                                     [key], {});\n",
              "          if (!dataTable) return;\n",
              "\n",
              "          const docLinkHtml = 'Like what you see? Visit the ' +\n",
              "            '<a target=\"_blank\" href=https://colab.research.google.com/notebooks/data_table.ipynb>data table notebook</a>'\n",
              "            + ' to learn more about interactive tables.';\n",
              "          element.innerHTML = '';\n",
              "          dataTable['output_type'] = 'display_data';\n",
              "          await google.colab.output.renderOutput(dataTable, element);\n",
              "          const docLink = document.createElement('div');\n",
              "          docLink.innerHTML = docLinkHtml;\n",
              "          element.appendChild(docLink);\n",
              "        }\n",
              "      </script>\n",
              "    </div>\n",
              "  </div>\n",
              "  "
            ],
            "text/plain": [
              "            sess       date  duration  month\n",
              "0  sess=00000002 2021-11-18     15409     11\n",
              "1  sess=00000002 2021-12-23       522     12\n",
              "2  sess=00000004 2021-11-18       165     11\n",
              "3  sess=00000006 2021-11-10      4059     11\n",
              "4  sess=00000006 2021-11-18     10681     11"
            ]
          },
          "metadata": {},
          "execution_count": 34
        }
      ]
    },
    {
      "cell_type": "markdown",
      "source": [
        "Проведем группировку по датам, и создадим признаки количество сессий, продолжительность, среднеяя, медианна:"
      ],
      "metadata": {
        "id": "rDUkTv6Ey3Qg"
      }
    },
    {
      "cell_type": "code",
      "source": [
        "df_group_sess_days = df_group_sess.pivot_table(index=['date', 'month'], values=['duration'], aggfunc=['count', 'sum', 'mean', 'median']).reset_index()"
      ],
      "metadata": {
        "id": "qxibdjJIu3l4"
      },
      "execution_count": 35,
      "outputs": []
    },
    {
      "cell_type": "code",
      "source": [
        "df_group_sess_days = df_group_sess_days.droplevel(level=1, axis=1)\n",
        "\n",
        "\n",
        "df_group_sess_days['count_session'] = round(df_group_sess_days['count'], 2)\n",
        "df_group_sess_days['total_time'] = round(df_group_sess_days['sum'] / 60, 2)\n",
        "df_group_sess_days['median_time'] = round(df_group_sess_days['median'] / 60, 2)\n",
        "df_group_sess_days['mean_time'] = round(df_group_sess_days['mean'] / 60,2)\n",
        "\n",
        "df_group_sess_days = df_group_sess_days.drop(['mean', 'median', 'count', 'sum'], axis=1)"
      ],
      "metadata": {
        "id": "85ALwn_Czzi4"
      },
      "execution_count": 36,
      "outputs": []
    },
    {
      "cell_type": "markdown",
      "source": [
        "Посмотрим на таблицу:"
      ],
      "metadata": {
        "id": "As7xQPfy0A8B"
      }
    },
    {
      "cell_type": "code",
      "source": [
        "df_group_sess_days.head()"
      ],
      "metadata": {
        "colab": {
          "base_uri": "https://localhost:8080/",
          "height": 206
        },
        "id": "Z4Fz24Egytfl",
        "outputId": "31f3357c-dd94-495f-f806-7e3fc562239a"
      },
      "execution_count": 37,
      "outputs": [
        {
          "output_type": "execute_result",
          "data": {
            "text/html": [
              "\n",
              "  <div id=\"df-65afc594-36fa-4c07-b85c-4f2696ae00ae\">\n",
              "    <div class=\"colab-df-container\">\n",
              "      <div>\n",
              "<style scoped>\n",
              "    .dataframe tbody tr th:only-of-type {\n",
              "        vertical-align: middle;\n",
              "    }\n",
              "\n",
              "    .dataframe tbody tr th {\n",
              "        vertical-align: top;\n",
              "    }\n",
              "\n",
              "    .dataframe thead th {\n",
              "        text-align: right;\n",
              "    }\n",
              "</style>\n",
              "<table border=\"1\" class=\"dataframe\">\n",
              "  <thead>\n",
              "    <tr style=\"text-align: right;\">\n",
              "      <th></th>\n",
              "      <th>date</th>\n",
              "      <th>month</th>\n",
              "      <th>count_session</th>\n",
              "      <th>total_time</th>\n",
              "      <th>median_time</th>\n",
              "      <th>mean_time</th>\n",
              "    </tr>\n",
              "  </thead>\n",
              "  <tbody>\n",
              "    <tr>\n",
              "      <th>0</th>\n",
              "      <td>2021-10-01</td>\n",
              "      <td>10</td>\n",
              "      <td>9</td>\n",
              "      <td>885.37</td>\n",
              "      <td>48.58</td>\n",
              "      <td>98.37</td>\n",
              "    </tr>\n",
              "    <tr>\n",
              "      <th>1</th>\n",
              "      <td>2021-10-02</td>\n",
              "      <td>10</td>\n",
              "      <td>1</td>\n",
              "      <td>328.00</td>\n",
              "      <td>328.00</td>\n",
              "      <td>328.00</td>\n",
              "    </tr>\n",
              "    <tr>\n",
              "      <th>2</th>\n",
              "      <td>2021-10-04</td>\n",
              "      <td>10</td>\n",
              "      <td>13</td>\n",
              "      <td>1162.57</td>\n",
              "      <td>16.32</td>\n",
              "      <td>89.43</td>\n",
              "    </tr>\n",
              "    <tr>\n",
              "      <th>3</th>\n",
              "      <td>2021-10-05</td>\n",
              "      <td>10</td>\n",
              "      <td>13</td>\n",
              "      <td>876.55</td>\n",
              "      <td>22.52</td>\n",
              "      <td>67.43</td>\n",
              "    </tr>\n",
              "    <tr>\n",
              "      <th>4</th>\n",
              "      <td>2021-10-06</td>\n",
              "      <td>10</td>\n",
              "      <td>18</td>\n",
              "      <td>1171.27</td>\n",
              "      <td>23.46</td>\n",
              "      <td>65.07</td>\n",
              "    </tr>\n",
              "  </tbody>\n",
              "</table>\n",
              "</div>\n",
              "      <button class=\"colab-df-convert\" onclick=\"convertToInteractive('df-65afc594-36fa-4c07-b85c-4f2696ae00ae')\"\n",
              "              title=\"Convert this dataframe to an interactive table.\"\n",
              "              style=\"display:none;\">\n",
              "        \n",
              "  <svg xmlns=\"http://www.w3.org/2000/svg\" height=\"24px\"viewBox=\"0 0 24 24\"\n",
              "       width=\"24px\">\n",
              "    <path d=\"M0 0h24v24H0V0z\" fill=\"none\"/>\n",
              "    <path d=\"M18.56 5.44l.94 2.06.94-2.06 2.06-.94-2.06-.94-.94-2.06-.94 2.06-2.06.94zm-11 1L8.5 8.5l.94-2.06 2.06-.94-2.06-.94L8.5 2.5l-.94 2.06-2.06.94zm10 10l.94 2.06.94-2.06 2.06-.94-2.06-.94-.94-2.06-.94 2.06-2.06.94z\"/><path d=\"M17.41 7.96l-1.37-1.37c-.4-.4-.92-.59-1.43-.59-.52 0-1.04.2-1.43.59L10.3 9.45l-7.72 7.72c-.78.78-.78 2.05 0 2.83L4 21.41c.39.39.9.59 1.41.59.51 0 1.02-.2 1.41-.59l7.78-7.78 2.81-2.81c.8-.78.8-2.07 0-2.86zM5.41 20L4 18.59l7.72-7.72 1.47 1.35L5.41 20z\"/>\n",
              "  </svg>\n",
              "      </button>\n",
              "      \n",
              "  <style>\n",
              "    .colab-df-container {\n",
              "      display:flex;\n",
              "      flex-wrap:wrap;\n",
              "      gap: 12px;\n",
              "    }\n",
              "\n",
              "    .colab-df-convert {\n",
              "      background-color: #E8F0FE;\n",
              "      border: none;\n",
              "      border-radius: 50%;\n",
              "      cursor: pointer;\n",
              "      display: none;\n",
              "      fill: #1967D2;\n",
              "      height: 32px;\n",
              "      padding: 0 0 0 0;\n",
              "      width: 32px;\n",
              "    }\n",
              "\n",
              "    .colab-df-convert:hover {\n",
              "      background-color: #E2EBFA;\n",
              "      box-shadow: 0px 1px 2px rgba(60, 64, 67, 0.3), 0px 1px 3px 1px rgba(60, 64, 67, 0.15);\n",
              "      fill: #174EA6;\n",
              "    }\n",
              "\n",
              "    [theme=dark] .colab-df-convert {\n",
              "      background-color: #3B4455;\n",
              "      fill: #D2E3FC;\n",
              "    }\n",
              "\n",
              "    [theme=dark] .colab-df-convert:hover {\n",
              "      background-color: #434B5C;\n",
              "      box-shadow: 0px 1px 3px 1px rgba(0, 0, 0, 0.15);\n",
              "      filter: drop-shadow(0px 1px 2px rgba(0, 0, 0, 0.3));\n",
              "      fill: #FFFFFF;\n",
              "    }\n",
              "  </style>\n",
              "\n",
              "      <script>\n",
              "        const buttonEl =\n",
              "          document.querySelector('#df-65afc594-36fa-4c07-b85c-4f2696ae00ae button.colab-df-convert');\n",
              "        buttonEl.style.display =\n",
              "          google.colab.kernel.accessAllowed ? 'block' : 'none';\n",
              "\n",
              "        async function convertToInteractive(key) {\n",
              "          const element = document.querySelector('#df-65afc594-36fa-4c07-b85c-4f2696ae00ae');\n",
              "          const dataTable =\n",
              "            await google.colab.kernel.invokeFunction('convertToInteractive',\n",
              "                                                     [key], {});\n",
              "          if (!dataTable) return;\n",
              "\n",
              "          const docLinkHtml = 'Like what you see? Visit the ' +\n",
              "            '<a target=\"_blank\" href=https://colab.research.google.com/notebooks/data_table.ipynb>data table notebook</a>'\n",
              "            + ' to learn more about interactive tables.';\n",
              "          element.innerHTML = '';\n",
              "          dataTable['output_type'] = 'display_data';\n",
              "          await google.colab.output.renderOutput(dataTable, element);\n",
              "          const docLink = document.createElement('div');\n",
              "          docLink.innerHTML = docLinkHtml;\n",
              "          element.appendChild(docLink);\n",
              "        }\n",
              "      </script>\n",
              "    </div>\n",
              "  </div>\n",
              "  "
            ],
            "text/plain": [
              "        date  month  count_session  total_time  median_time  mean_time\n",
              "0 2021-10-01     10              9      885.37        48.58      98.37\n",
              "1 2021-10-02     10              1      328.00       328.00     328.00\n",
              "2 2021-10-04     10             13     1162.57        16.32      89.43\n",
              "3 2021-10-05     10             13      876.55        22.52      67.43\n",
              "4 2021-10-06     10             18     1171.27        23.46      65.07"
            ]
          },
          "metadata": {},
          "execution_count": 37
        }
      ]
    },
    {
      "cell_type": "markdown",
      "source": [
        "Посмотрим на статистические показатели:"
      ],
      "metadata": {
        "id": "xbytfkccLd_v"
      }
    },
    {
      "cell_type": "code",
      "source": [
        "df_group_sess_days[['count_session', 'total_time', 'median_time', 'mean_time']].describe()"
      ],
      "metadata": {
        "colab": {
          "base_uri": "https://localhost:8080/",
          "height": 300
        },
        "id": "FkHEDVdY6nIB",
        "outputId": "179f44f7-68bf-43b1-c2af-563c273712bd"
      },
      "execution_count": 39,
      "outputs": [
        {
          "output_type": "execute_result",
          "data": {
            "text/html": [
              "\n",
              "  <div id=\"df-107092b5-8c0d-4691-9d46-739a1ea02c4c\">\n",
              "    <div class=\"colab-df-container\">\n",
              "      <div>\n",
              "<style scoped>\n",
              "    .dataframe tbody tr th:only-of-type {\n",
              "        vertical-align: middle;\n",
              "    }\n",
              "\n",
              "    .dataframe tbody tr th {\n",
              "        vertical-align: top;\n",
              "    }\n",
              "\n",
              "    .dataframe thead th {\n",
              "        text-align: right;\n",
              "    }\n",
              "</style>\n",
              "<table border=\"1\" class=\"dataframe\">\n",
              "  <thead>\n",
              "    <tr style=\"text-align: right;\">\n",
              "      <th></th>\n",
              "      <th>count_session</th>\n",
              "      <th>total_time</th>\n",
              "      <th>median_time</th>\n",
              "      <th>mean_time</th>\n",
              "    </tr>\n",
              "  </thead>\n",
              "  <tbody>\n",
              "    <tr>\n",
              "      <th>count</th>\n",
              "      <td>67.000000</td>\n",
              "      <td>67.000000</td>\n",
              "      <td>67.000000</td>\n",
              "      <td>67.000000</td>\n",
              "    </tr>\n",
              "    <tr>\n",
              "      <th>mean</th>\n",
              "      <td>18.671642</td>\n",
              "      <td>1266.426418</td>\n",
              "      <td>51.588507</td>\n",
              "      <td>92.338806</td>\n",
              "    </tr>\n",
              "    <tr>\n",
              "      <th>std</th>\n",
              "      <td>15.729135</td>\n",
              "      <td>821.560912</td>\n",
              "      <td>74.939892</td>\n",
              "      <td>67.481964</td>\n",
              "    </tr>\n",
              "    <tr>\n",
              "      <th>min</th>\n",
              "      <td>1.000000</td>\n",
              "      <td>133.720000</td>\n",
              "      <td>6.620000</td>\n",
              "      <td>25.190000</td>\n",
              "    </tr>\n",
              "    <tr>\n",
              "      <th>25%</th>\n",
              "      <td>7.000000</td>\n",
              "      <td>636.640000</td>\n",
              "      <td>14.295000</td>\n",
              "      <td>51.825000</td>\n",
              "    </tr>\n",
              "    <tr>\n",
              "      <th>50%</th>\n",
              "      <td>13.000000</td>\n",
              "      <td>1197.080000</td>\n",
              "      <td>26.500000</td>\n",
              "      <td>72.360000</td>\n",
              "    </tr>\n",
              "    <tr>\n",
              "      <th>75%</th>\n",
              "      <td>29.000000</td>\n",
              "      <td>1687.900000</td>\n",
              "      <td>56.335000</td>\n",
              "      <td>105.750000</td>\n",
              "    </tr>\n",
              "    <tr>\n",
              "      <th>max</th>\n",
              "      <td>81.000000</td>\n",
              "      <td>4972.950000</td>\n",
              "      <td>401.800000</td>\n",
              "      <td>367.480000</td>\n",
              "    </tr>\n",
              "  </tbody>\n",
              "</table>\n",
              "</div>\n",
              "      <button class=\"colab-df-convert\" onclick=\"convertToInteractive('df-107092b5-8c0d-4691-9d46-739a1ea02c4c')\"\n",
              "              title=\"Convert this dataframe to an interactive table.\"\n",
              "              style=\"display:none;\">\n",
              "        \n",
              "  <svg xmlns=\"http://www.w3.org/2000/svg\" height=\"24px\"viewBox=\"0 0 24 24\"\n",
              "       width=\"24px\">\n",
              "    <path d=\"M0 0h24v24H0V0z\" fill=\"none\"/>\n",
              "    <path d=\"M18.56 5.44l.94 2.06.94-2.06 2.06-.94-2.06-.94-.94-2.06-.94 2.06-2.06.94zm-11 1L8.5 8.5l.94-2.06 2.06-.94-2.06-.94L8.5 2.5l-.94 2.06-2.06.94zm10 10l.94 2.06.94-2.06 2.06-.94-2.06-.94-.94-2.06-.94 2.06-2.06.94z\"/><path d=\"M17.41 7.96l-1.37-1.37c-.4-.4-.92-.59-1.43-.59-.52 0-1.04.2-1.43.59L10.3 9.45l-7.72 7.72c-.78.78-.78 2.05 0 2.83L4 21.41c.39.39.9.59 1.41.59.51 0 1.02-.2 1.41-.59l7.78-7.78 2.81-2.81c.8-.78.8-2.07 0-2.86zM5.41 20L4 18.59l7.72-7.72 1.47 1.35L5.41 20z\"/>\n",
              "  </svg>\n",
              "      </button>\n",
              "      \n",
              "  <style>\n",
              "    .colab-df-container {\n",
              "      display:flex;\n",
              "      flex-wrap:wrap;\n",
              "      gap: 12px;\n",
              "    }\n",
              "\n",
              "    .colab-df-convert {\n",
              "      background-color: #E8F0FE;\n",
              "      border: none;\n",
              "      border-radius: 50%;\n",
              "      cursor: pointer;\n",
              "      display: none;\n",
              "      fill: #1967D2;\n",
              "      height: 32px;\n",
              "      padding: 0 0 0 0;\n",
              "      width: 32px;\n",
              "    }\n",
              "\n",
              "    .colab-df-convert:hover {\n",
              "      background-color: #E2EBFA;\n",
              "      box-shadow: 0px 1px 2px rgba(60, 64, 67, 0.3), 0px 1px 3px 1px rgba(60, 64, 67, 0.15);\n",
              "      fill: #174EA6;\n",
              "    }\n",
              "\n",
              "    [theme=dark] .colab-df-convert {\n",
              "      background-color: #3B4455;\n",
              "      fill: #D2E3FC;\n",
              "    }\n",
              "\n",
              "    [theme=dark] .colab-df-convert:hover {\n",
              "      background-color: #434B5C;\n",
              "      box-shadow: 0px 1px 3px 1px rgba(0, 0, 0, 0.15);\n",
              "      filter: drop-shadow(0px 1px 2px rgba(0, 0, 0, 0.3));\n",
              "      fill: #FFFFFF;\n",
              "    }\n",
              "  </style>\n",
              "\n",
              "      <script>\n",
              "        const buttonEl =\n",
              "          document.querySelector('#df-107092b5-8c0d-4691-9d46-739a1ea02c4c button.colab-df-convert');\n",
              "        buttonEl.style.display =\n",
              "          google.colab.kernel.accessAllowed ? 'block' : 'none';\n",
              "\n",
              "        async function convertToInteractive(key) {\n",
              "          const element = document.querySelector('#df-107092b5-8c0d-4691-9d46-739a1ea02c4c');\n",
              "          const dataTable =\n",
              "            await google.colab.kernel.invokeFunction('convertToInteractive',\n",
              "                                                     [key], {});\n",
              "          if (!dataTable) return;\n",
              "\n",
              "          const docLinkHtml = 'Like what you see? Visit the ' +\n",
              "            '<a target=\"_blank\" href=https://colab.research.google.com/notebooks/data_table.ipynb>data table notebook</a>'\n",
              "            + ' to learn more about interactive tables.';\n",
              "          element.innerHTML = '';\n",
              "          dataTable['output_type'] = 'display_data';\n",
              "          await google.colab.output.renderOutput(dataTable, element);\n",
              "          const docLink = document.createElement('div');\n",
              "          docLink.innerHTML = docLinkHtml;\n",
              "          element.appendChild(docLink);\n",
              "        }\n",
              "      </script>\n",
              "    </div>\n",
              "  </div>\n",
              "  "
            ],
            "text/plain": [
              "       count_session   total_time  median_time   mean_time\n",
              "count      67.000000    67.000000    67.000000   67.000000\n",
              "mean       18.671642  1266.426418    51.588507   92.338806\n",
              "std        15.729135   821.560912    74.939892   67.481964\n",
              "min         1.000000   133.720000     6.620000   25.190000\n",
              "25%         7.000000   636.640000    14.295000   51.825000\n",
              "50%        13.000000  1197.080000    26.500000   72.360000\n",
              "75%        29.000000  1687.900000    56.335000  105.750000\n",
              "max        81.000000  4972.950000   401.800000  367.480000"
            ]
          },
          "metadata": {},
          "execution_count": 39
        }
      ]
    },
    {
      "cell_type": "markdown",
      "source": [
        "Среднее среднего и среднее меданного времени сессий, а также среднее количество сессий по месяцам:"
      ],
      "metadata": {
        "id": "6z4PQ8Li315o"
      }
    },
    {
      "cell_type": "code",
      "source": [
        "df_average_session = df_group_sess_days.pivot_table(index=['month'], values=['mean_time', 'count_session', 'median_time', 'total_time']).reset_index()\n",
        "\n",
        "df_average_session['average_count_session'] = round(df_average_session['count_session'], 2)\n",
        "df_average_session['average_total_time'] = round(df_average_session['total_time'], 2)\n",
        "df_average_session['average_median_time'] = round(df_average_session['median_time'], 2)\n",
        "df_average_session['average_mean_time'] = round(df_average_session['mean_time'],2)\n",
        "\n",
        "df_average_session = df_average_session.drop(['mean_time', 'median_time', 'count_session', 'total_time'], axis=1)\n",
        "\n",
        "df_average_session"
      ],
      "metadata": {
        "colab": {
          "base_uri": "https://localhost:8080/",
          "height": 175
        },
        "id": "xj2mNEyc39-F",
        "outputId": "cb0864d2-45a2-4202-dc3a-caaace73052a"
      },
      "execution_count": 38,
      "outputs": [
        {
          "output_type": "execute_result",
          "data": {
            "text/html": [
              "\n",
              "  <div id=\"df-ea2dd7b3-9f1f-4957-b389-1e66b5615811\">\n",
              "    <div class=\"colab-df-container\">\n",
              "      <div>\n",
              "<style scoped>\n",
              "    .dataframe tbody tr th:only-of-type {\n",
              "        vertical-align: middle;\n",
              "    }\n",
              "\n",
              "    .dataframe tbody tr th {\n",
              "        vertical-align: top;\n",
              "    }\n",
              "\n",
              "    .dataframe thead th {\n",
              "        text-align: right;\n",
              "    }\n",
              "</style>\n",
              "<table border=\"1\" class=\"dataframe\">\n",
              "  <thead>\n",
              "    <tr style=\"text-align: right;\">\n",
              "      <th></th>\n",
              "      <th>month</th>\n",
              "      <th>average_count_session</th>\n",
              "      <th>average_total_time</th>\n",
              "      <th>average_median_time</th>\n",
              "      <th>average_mean_time</th>\n",
              "    </tr>\n",
              "  </thead>\n",
              "  <tbody>\n",
              "    <tr>\n",
              "      <th>0</th>\n",
              "      <td>1</td>\n",
              "      <td>8.57</td>\n",
              "      <td>1324.35</td>\n",
              "      <td>154.23</td>\n",
              "      <td>187.41</td>\n",
              "    </tr>\n",
              "    <tr>\n",
              "      <th>1</th>\n",
              "      <td>10</td>\n",
              "      <td>15.95</td>\n",
              "      <td>961.94</td>\n",
              "      <td>39.15</td>\n",
              "      <td>82.98</td>\n",
              "    </tr>\n",
              "    <tr>\n",
              "      <th>2</th>\n",
              "      <td>11</td>\n",
              "      <td>35.80</td>\n",
              "      <td>2092.26</td>\n",
              "      <td>18.44</td>\n",
              "      <td>62.16</td>\n",
              "    </tr>\n",
              "    <tr>\n",
              "      <th>3</th>\n",
              "      <td>12</td>\n",
              "      <td>6.89</td>\n",
              "      <td>698.46</td>\n",
              "      <td>63.70</td>\n",
              "      <td>100.34</td>\n",
              "    </tr>\n",
              "  </tbody>\n",
              "</table>\n",
              "</div>\n",
              "      <button class=\"colab-df-convert\" onclick=\"convertToInteractive('df-ea2dd7b3-9f1f-4957-b389-1e66b5615811')\"\n",
              "              title=\"Convert this dataframe to an interactive table.\"\n",
              "              style=\"display:none;\">\n",
              "        \n",
              "  <svg xmlns=\"http://www.w3.org/2000/svg\" height=\"24px\"viewBox=\"0 0 24 24\"\n",
              "       width=\"24px\">\n",
              "    <path d=\"M0 0h24v24H0V0z\" fill=\"none\"/>\n",
              "    <path d=\"M18.56 5.44l.94 2.06.94-2.06 2.06-.94-2.06-.94-.94-2.06-.94 2.06-2.06.94zm-11 1L8.5 8.5l.94-2.06 2.06-.94-2.06-.94L8.5 2.5l-.94 2.06-2.06.94zm10 10l.94 2.06.94-2.06 2.06-.94-2.06-.94-.94-2.06-.94 2.06-2.06.94z\"/><path d=\"M17.41 7.96l-1.37-1.37c-.4-.4-.92-.59-1.43-.59-.52 0-1.04.2-1.43.59L10.3 9.45l-7.72 7.72c-.78.78-.78 2.05 0 2.83L4 21.41c.39.39.9.59 1.41.59.51 0 1.02-.2 1.41-.59l7.78-7.78 2.81-2.81c.8-.78.8-2.07 0-2.86zM5.41 20L4 18.59l7.72-7.72 1.47 1.35L5.41 20z\"/>\n",
              "  </svg>\n",
              "      </button>\n",
              "      \n",
              "  <style>\n",
              "    .colab-df-container {\n",
              "      display:flex;\n",
              "      flex-wrap:wrap;\n",
              "      gap: 12px;\n",
              "    }\n",
              "\n",
              "    .colab-df-convert {\n",
              "      background-color: #E8F0FE;\n",
              "      border: none;\n",
              "      border-radius: 50%;\n",
              "      cursor: pointer;\n",
              "      display: none;\n",
              "      fill: #1967D2;\n",
              "      height: 32px;\n",
              "      padding: 0 0 0 0;\n",
              "      width: 32px;\n",
              "    }\n",
              "\n",
              "    .colab-df-convert:hover {\n",
              "      background-color: #E2EBFA;\n",
              "      box-shadow: 0px 1px 2px rgba(60, 64, 67, 0.3), 0px 1px 3px 1px rgba(60, 64, 67, 0.15);\n",
              "      fill: #174EA6;\n",
              "    }\n",
              "\n",
              "    [theme=dark] .colab-df-convert {\n",
              "      background-color: #3B4455;\n",
              "      fill: #D2E3FC;\n",
              "    }\n",
              "\n",
              "    [theme=dark] .colab-df-convert:hover {\n",
              "      background-color: #434B5C;\n",
              "      box-shadow: 0px 1px 3px 1px rgba(0, 0, 0, 0.15);\n",
              "      filter: drop-shadow(0px 1px 2px rgba(0, 0, 0, 0.3));\n",
              "      fill: #FFFFFF;\n",
              "    }\n",
              "  </style>\n",
              "\n",
              "      <script>\n",
              "        const buttonEl =\n",
              "          document.querySelector('#df-ea2dd7b3-9f1f-4957-b389-1e66b5615811 button.colab-df-convert');\n",
              "        buttonEl.style.display =\n",
              "          google.colab.kernel.accessAllowed ? 'block' : 'none';\n",
              "\n",
              "        async function convertToInteractive(key) {\n",
              "          const element = document.querySelector('#df-ea2dd7b3-9f1f-4957-b389-1e66b5615811');\n",
              "          const dataTable =\n",
              "            await google.colab.kernel.invokeFunction('convertToInteractive',\n",
              "                                                     [key], {});\n",
              "          if (!dataTable) return;\n",
              "\n",
              "          const docLinkHtml = 'Like what you see? Visit the ' +\n",
              "            '<a target=\"_blank\" href=https://colab.research.google.com/notebooks/data_table.ipynb>data table notebook</a>'\n",
              "            + ' to learn more about interactive tables.';\n",
              "          element.innerHTML = '';\n",
              "          dataTable['output_type'] = 'display_data';\n",
              "          await google.colab.output.renderOutput(dataTable, element);\n",
              "          const docLink = document.createElement('div');\n",
              "          docLink.innerHTML = docLinkHtml;\n",
              "          element.appendChild(docLink);\n",
              "        }\n",
              "      </script>\n",
              "    </div>\n",
              "  </div>\n",
              "  "
            ],
            "text/plain": [
              "   month  average_count_session  ...  average_median_time  average_mean_time\n",
              "0      1                   8.57  ...               154.23             187.41\n",
              "1     10                  15.95  ...                39.15              82.98\n",
              "2     11                  35.80  ...                18.44              62.16\n",
              "3     12                   6.89  ...                63.70             100.34\n",
              "\n",
              "[4 rows x 5 columns]"
            ]
          },
          "metadata": {},
          "execution_count": 38
        }
      ]
    },
    {
      "cell_type": "markdown",
      "source": [
        "Построим графики распределения и диаграмму размаха:"
      ],
      "metadata": {
        "id": "OGe5-6N8PDlF"
      }
    },
    {
      "cell_type": "code",
      "source": [
        "plt.figure(figsize=(15, 5))\n",
        "sns.histplot(data=df_group_sess_days[df_group_sess_days['count_session'] < 50], x=\"count_session\", kde=True, bins=17)\n",
        "plt.title('Распределение количества среднего количества сессий в день за 3 месяца')\n",
        "plt.ylabel('Сколько раз встречается')\n",
        "plt.xlabel('Среднее количество сесиий за 3 месяца')\n",
        "plt.grid(color='grey', axis='both', alpha=0.5)\n",
        "plt.xticks(np.arange(0, 50, 2))\n",
        "plt.yticks(np.arange(0, 10, 1))\n",
        "plt.show()"
      ],
      "metadata": {
        "colab": {
          "base_uri": "https://localhost:8080/",
          "height": 350
        },
        "id": "T-jMYBJn4Iev",
        "outputId": "b1e185bd-e3f1-4105-dc6d-7e6fe57b8766"
      },
      "execution_count": 40,
      "outputs": [
        {
          "output_type": "display_data",
          "data": {
            "image/png": "[encoded data removed]",
            "text/plain": [
              "<Figure size 1080x360 with 1 Axes>"
            ]
          },
          "metadata": {
            "needs_background": "light"
          }
        }
      ]
    },
    {
      "cell_type": "code",
      "source": [
        "plt.rcParams['figure.figsize']=(15, 2)\n",
        "sns.boxplot(x=df_group_sess_days['count_session'][df_group_sess_days['count_session'] < 50])\n",
        "plt.title('Диаграмма размаха количества среднего количества сессий в день за 3 месяца')\n",
        "plt.xlabel('Среднее количество сесиий за 3 месяца')\n",
        "plt.grid(color='grey', axis='both', alpha=.8)\n",
        "plt.xticks(np.arange(0, 50, 1))\n",
        "plt.show()"
      ],
      "metadata": {
        "colab": {
          "base_uri": "https://localhost:8080/",
          "height": 187
        },
        "id": "sdkXTZAkKizq",
        "outputId": "b2dd5043-729f-488f-f0cb-7ec2c6ebe2e4"
      },
      "execution_count": 41,
      "outputs": [
        {
          "output_type": "display_data",
          "data": {
            "image/png": "[encoded data removed]",
            "text/plain": [
              "<Figure size 1080x144 with 1 Axes>"
            ]
          },
          "metadata": {
            "needs_background": "light"
          }
        }
      ]
    },
    {
      "cell_type": "code",
      "source": [
        "plt.figure(figsize=(15, 5))\n",
        "sns.histplot(data=df_group_sess_days[df_group_sess_days['mean_time'] < 200], x=\"mean_time\", kde=True, bins=18)\n",
        "plt.title('Распределение количества средней продолжительности сессии в день за период 10.2021 по 01.2022 гг.')\n",
        "plt.ylabel('Сколько раз встречается')\n",
        "plt.xlabel('Средняя продолжительность сессии, мин.')\n",
        "plt.grid(color='grey', axis='both', alpha=0.5)\n",
        "plt.xticks(np.arange(20, 180, 5))\n",
        "\n",
        "plt.show()"
      ],
      "metadata": {
        "colab": {
          "base_uri": "https://localhost:8080/",
          "height": 350
        },
        "id": "FqXczGIoPgQH",
        "outputId": "942b1afb-8a5a-4947-faeb-301dd933f595"
      },
      "execution_count": 42,
      "outputs": [
        {
          "output_type": "display_data",
          "data": {
            "image/png": "[encoded data removed]",
            "text/plain": [
              "<Figure size 1080x360 with 1 Axes>"
            ]
          },
          "metadata": {
            "needs_background": "light"
          }
        }
      ]
    },
    {
      "cell_type": "code",
      "source": [
        "plt.rcParams['figure.figsize']=(15, 2)\n",
        "sns.boxplot(x=df_group_sess_days['mean_time'][df_group_sess_days['mean_time'] < 200])\n",
        "plt.title('Диграмма размаха количества средней продолжительности сессии в день за период 10.2021 по 01.2022 гг.')\n",
        "plt.xlabel('Средняя продолжительность сессии, мин.')\n",
        "plt.grid(color='grey', axis='both', alpha=.8)\n",
        "plt.xticks(np.arange(20, 180, 5))\n",
        "\n",
        "plt.show()"
      ],
      "metadata": {
        "colab": {
          "base_uri": "https://localhost:8080/",
          "height": 187
        },
        "id": "HNL0-LInMPTx",
        "outputId": "cd2f2c3c-1aa6-4ed1-cf82-5a81517bab0a"
      },
      "execution_count": 43,
      "outputs": [
        {
          "output_type": "display_data",
          "data": {
            "image/png": "[encoded data removed]",
            "text/plain": [
              "<Figure size 1080x144 with 1 Axes>"
            ]
          },
          "metadata": {
            "needs_background": "light"
          }
        }
      ]
    },
    {
      "cell_type": "markdown",
      "source": [
        "## Шаг 3. Определим количество требуемых лицензий"
      ],
      "metadata": {
        "id": "0z9uanstYIkk"
      }
    },
    {
      "cell_type": "markdown",
      "source": [
        "Выведем на экран, среднее среднего числа сессий, среднее серднего времени использования лицензий:"
      ],
      "metadata": {
        "id": "sXBOKfZUNG4b"
      }
    },
    {
      "cell_type": "code",
      "source": [
        "df_group_sess_days['count_session'].mean()"
      ],
      "metadata": {
        "colab": {
          "base_uri": "https://localhost:8080/"
        },
        "id": "Zn9eR534NOh0",
        "outputId": "7f04b432-e7a5-4191-9982-7a918f0b5861"
      },
      "execution_count": 46,
      "outputs": [
        {
          "output_type": "execute_result",
          "data": {
            "text/plain": [
              "18.671641791044777"
            ]
          },
          "metadata": {},
          "execution_count": 46
        }
      ]
    },
    {
      "cell_type": "code",
      "source": [
        "df_group_sess_days['mean_time'].mean()"
      ],
      "metadata": {
        "colab": {
          "base_uri": "https://localhost:8080/"
        },
        "id": "mg76RRXWNVCV",
        "outputId": "5de3d6a9-c318-4ad2-894c-d1fa79b6cd0a"
      },
      "execution_count": 49,
      "outputs": [
        {
          "output_type": "execute_result",
          "data": {
            "text/plain": [
              "92.33880597014925"
            ]
          },
          "metadata": {},
          "execution_count": 49
        }
      ]
    },
    {
      "cell_type": "markdown",
      "source": [
        "Исходные данные:  \n",
        "За 480 минут (8 часовой рабочий день) в среднем `18.67` сессий с ипользованием лицензий.  Среднее время использования лицензии `92.34` минут.  \n",
        "Найдем оптимальное число лицензий для использования ПО ЛОЦМАН:"
      ],
      "metadata": {
        "id": "hhOZc8WEmAHG"
      }
    },
    {
      "cell_type": "code",
      "source": [
        "day_duration = 8 # продолжительность рабочего дня\n",
        "clients = 18.67 # среднее число сессий\n",
        "lambda_m = clients / day_duration # час^-1 интенсивность потока\n",
        "t = 92.34/60 # среднее время использовании одной лицензии, час\n",
        "nu = 1 / t # интенсивность использования лицензии, час^-1\n",
        "\n",
        "ro = lambda_m / nu # интенсивность нагрузки"
      ],
      "metadata": {
        "id": "z52dBlZrk8LR"
      },
      "execution_count": 50,
      "outputs": []
    },
    {
      "cell_type": "markdown",
      "source": [
        "По формуле Эрланга определим вероятность того, что пользователь лицензию получил, при этом найдем значения вероятности при количестве лицензий от 1 до 10:"
      ],
      "metadata": {
        "id": "RkgNiKVWmc1E"
      }
    },
    {
      "cell_type": "code",
      "source": [
        "n = 10 # максимальное число лицензий\n",
        "n_column = []\n",
        "\n",
        "for j in range(1, n+1):\n",
        "  po = 1\n",
        "  count = 0\n",
        "\n",
        "  for i in range(1, j+1):\n",
        "    count= ro ** i / factorial(i)\n",
        "    po += count\n",
        "\n",
        "  po = po ** -1  \n",
        "  p_otkaza = (ro ** j) * po / factorial(j)\n",
        "  p_obsl = 1 - p_otkaza\n",
        "  n_column.append([j, p_obsl])\n",
        "\n",
        "columns = ['number_of_lic', 'p_give']\n",
        "df_number_lic = pd.DataFrame(n_column, columns=columns) \n",
        "\n",
        "df_number_lic"
      ],
      "metadata": {
        "colab": {
          "base_uri": "https://localhost:8080/",
          "height": 363
        },
        "id": "3EU7-UDRvKr7",
        "outputId": "881a0a8d-aa10-4d3b-cd4c-6c1e5c3b0eff"
      },
      "execution_count": 52,
      "outputs": [
        {
          "output_type": "execute_result",
          "data": {
            "text/html": [
              "\n",
              "  <div id=\"df-ec71e676-08e0-444f-bc65-c7d86b5b0f8f\">\n",
              "    <div class=\"colab-df-container\">\n",
              "      <div>\n",
              "<style scoped>\n",
              "    .dataframe tbody tr th:only-of-type {\n",
              "        vertical-align: middle;\n",
              "    }\n",
              "\n",
              "    .dataframe tbody tr th {\n",
              "        vertical-align: top;\n",
              "    }\n",
              "\n",
              "    .dataframe thead th {\n",
              "        text-align: right;\n",
              "    }\n",
              "</style>\n",
              "<table border=\"1\" class=\"dataframe\">\n",
              "  <thead>\n",
              "    <tr style=\"text-align: right;\">\n",
              "      <th></th>\n",
              "      <th>number_of_lic</th>\n",
              "      <th>p_give</th>\n",
              "    </tr>\n",
              "  </thead>\n",
              "  <tbody>\n",
              "    <tr>\n",
              "      <th>0</th>\n",
              "      <td>1</td>\n",
              "      <td>0.217787</td>\n",
              "    </tr>\n",
              "    <tr>\n",
              "      <th>1</th>\n",
              "      <td>2</td>\n",
              "      <td>0.415850</td>\n",
              "    </tr>\n",
              "    <tr>\n",
              "      <th>2</th>\n",
              "      <td>3</td>\n",
              "      <td>0.588459</td>\n",
              "    </tr>\n",
              "    <tr>\n",
              "      <th>3</th>\n",
              "      <td>4</td>\n",
              "      <td>0.730179</td>\n",
              "    </tr>\n",
              "    <tr>\n",
              "      <th>4</th>\n",
              "      <td>5</td>\n",
              "      <td>0.837647</td>\n",
              "    </tr>\n",
              "    <tr>\n",
              "      <th>5</th>\n",
              "      <td>6</td>\n",
              "      <td>0.911423</td>\n",
              "    </tr>\n",
              "    <tr>\n",
              "      <th>6</th>\n",
              "      <td>7</td>\n",
              "      <td>0.956528</td>\n",
              "    </tr>\n",
              "    <tr>\n",
              "      <th>7</th>\n",
              "      <td>8</td>\n",
              "      <td>0.980856</td>\n",
              "    </tr>\n",
              "    <tr>\n",
              "      <th>8</th>\n",
              "      <td>9</td>\n",
              "      <td>0.992418</td>\n",
              "    </tr>\n",
              "    <tr>\n",
              "      <th>9</th>\n",
              "      <td>10</td>\n",
              "      <td>0.997284</td>\n",
              "    </tr>\n",
              "  </tbody>\n",
              "</table>\n",
              "</div>\n",
              "      <button class=\"colab-df-convert\" onclick=\"convertToInteractive('df-ec71e676-08e0-444f-bc65-c7d86b5b0f8f')\"\n",
              "              title=\"Convert this dataframe to an interactive table.\"\n",
              "              style=\"display:none;\">\n",
              "        \n",
              "  <svg xmlns=\"http://www.w3.org/2000/svg\" height=\"24px\"viewBox=\"0 0 24 24\"\n",
              "       width=\"24px\">\n",
              "    <path d=\"M0 0h24v24H0V0z\" fill=\"none\"/>\n",
              "    <path d=\"M18.56 5.44l.94 2.06.94-2.06 2.06-.94-2.06-.94-.94-2.06-.94 2.06-2.06.94zm-11 1L8.5 8.5l.94-2.06 2.06-.94-2.06-.94L8.5 2.5l-.94 2.06-2.06.94zm10 10l.94 2.06.94-2.06 2.06-.94-2.06-.94-.94-2.06-.94 2.06-2.06.94z\"/><path d=\"M17.41 7.96l-1.37-1.37c-.4-.4-.92-.59-1.43-.59-.52 0-1.04.2-1.43.59L10.3 9.45l-7.72 7.72c-.78.78-.78 2.05 0 2.83L4 21.41c.39.39.9.59 1.41.59.51 0 1.02-.2 1.41-.59l7.78-7.78 2.81-2.81c.8-.78.8-2.07 0-2.86zM5.41 20L4 18.59l7.72-7.72 1.47 1.35L5.41 20z\"/>\n",
              "  </svg>\n",
              "      </button>\n",
              "      \n",
              "  <style>\n",
              "    .colab-df-container {\n",
              "      display:flex;\n",
              "      flex-wrap:wrap;\n",
              "      gap: 12px;\n",
              "    }\n",
              "\n",
              "    .colab-df-convert {\n",
              "      background-color: #E8F0FE;\n",
              "      border: none;\n",
              "      border-radius: 50%;\n",
              "      cursor: pointer;\n",
              "      display: none;\n",
              "      fill: #1967D2;\n",
              "      height: 32px;\n",
              "      padding: 0 0 0 0;\n",
              "      width: 32px;\n",
              "    }\n",
              "\n",
              "    .colab-df-convert:hover {\n",
              "      background-color: #E2EBFA;\n",
              "      box-shadow: 0px 1px 2px rgba(60, 64, 67, 0.3), 0px 1px 3px 1px rgba(60, 64, 67, 0.15);\n",
              "      fill: #174EA6;\n",
              "    }\n",
              "\n",
              "    [theme=dark] .colab-df-convert {\n",
              "      background-color: #3B4455;\n",
              "      fill: #D2E3FC;\n",
              "    }\n",
              "\n",
              "    [theme=dark] .colab-df-convert:hover {\n",
              "      background-color: #434B5C;\n",
              "      box-shadow: 0px 1px 3px 1px rgba(0, 0, 0, 0.15);\n",
              "      filter: drop-shadow(0px 1px 2px rgba(0, 0, 0, 0.3));\n",
              "      fill: #FFFFFF;\n",
              "    }\n",
              "  </style>\n",
              "\n",
              "      <script>\n",
              "        const buttonEl =\n",
              "          document.querySelector('#df-ec71e676-08e0-444f-bc65-c7d86b5b0f8f button.colab-df-convert');\n",
              "        buttonEl.style.display =\n",
              "          google.colab.kernel.accessAllowed ? 'block' : 'none';\n",
              "\n",
              "        async function convertToInteractive(key) {\n",
              "          const element = document.querySelector('#df-ec71e676-08e0-444f-bc65-c7d86b5b0f8f');\n",
              "          const dataTable =\n",
              "            await google.colab.kernel.invokeFunction('convertToInteractive',\n",
              "                                                     [key], {});\n",
              "          if (!dataTable) return;\n",
              "\n",
              "          const docLinkHtml = 'Like what you see? Visit the ' +\n",
              "            '<a target=\"_blank\" href=https://colab.research.google.com/notebooks/data_table.ipynb>data table notebook</a>'\n",
              "            + ' to learn more about interactive tables.';\n",
              "          element.innerHTML = '';\n",
              "          dataTable['output_type'] = 'display_data';\n",
              "          await google.colab.output.renderOutput(dataTable, element);\n",
              "          const docLink = document.createElement('div');\n",
              "          docLink.innerHTML = docLinkHtml;\n",
              "          element.appendChild(docLink);\n",
              "        }\n",
              "      </script>\n",
              "    </div>\n",
              "  </div>\n",
              "  "
            ],
            "text/plain": [
              "   number_of_lic    p_give\n",
              "0              1  0.217787\n",
              "1              2  0.415850\n",
              "2              3  0.588459\n",
              "3              4  0.730179\n",
              "4              5  0.837647\n",
              "5              6  0.911423\n",
              "6              7  0.956528\n",
              "7              8  0.980856\n",
              "8              9  0.992418\n",
              "9             10  0.997284"
            ]
          },
          "metadata": {},
          "execution_count": 52
        }
      ]
    },
    {
      "cell_type": "markdown",
      "source": [
        "Оптимальное количество лицензий можно считать `n = 7`, когда пользователь с вероятностью `95.7 %` получит лицензию. "
      ],
      "metadata": {
        "id": "DKX5SOJQ0X3x"
      }
    },
    {
      "cell_type": "markdown",
      "source": [
        "## Шаг 4. Вывод"
      ],
      "metadata": {
        "id": "x1DaxJpdyi4x"
      }
    },
    {
      "cell_type": "markdown",
      "source": [
        "Исходя из анализа *.log файлов сессий пользователей при использовании ЛОЦМАН:КБ начиная с 01.10.2021 г. по 19.01.2022 г. были определены статистические показатели портера пользователя.  \n",
        "Данные показатели позволили определить среднее число сессий, среднее время использования лицензий, на основании которых выполнен расчет по определению оптимального числа лицензий.  \n",
        "При закупке программного обеспечения ЛОЦМАН:КБ, оптимальное количество лицензий:  `7 штук`, такое количество лицензий позволит с вероятностью `95.7 %` получить пользователю доступ к программе."
      ],
      "metadata": {
        "id": "Dq4yu4mdPOUd"
      }
    },
    {
      "cell_type": "code",
      "source": [
        ""
      ],
      "metadata": {
        "id": "SThDgLEtUmqG"
      },
      "execution_count": null,
      "outputs": []
    }
  ]
}