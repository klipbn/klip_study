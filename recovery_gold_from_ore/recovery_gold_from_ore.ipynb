{
  "cells": [
    {
      "cell_type": "markdown",
      "metadata": {
        "id": "GJIF38ZJcmSs"
      },
      "source": [
        "# Восстановление золота из руды"
      ]
    },
    {
      "cell_type": "markdown",
      "metadata": {
        "id": "Fpv4Q7TWdAMH"
      },
      "source": [
        "Проект предоставлен компанией «Цифра».\n",
        "\n",
        "**Постановка задачи**  \n",
        "Подготовим прототип модели машинного обучения для «Цифры». Компания разрабатывает решения для эффективной работы промышленных предприятий.  \n",
        "Модель должна предсказать коэффициент восстановления золота из золотосодержащей руды. В нашем распоряжении данные с параметрами добычи и очистки.  \n",
        "Модель поможет оптимизировать производство, чтобы не запускать предприятие с убыточными характеристиками.  "
      ]
    },
    {
      "cell_type": "markdown",
      "metadata": {
        "id": "kLbU19WZdRvO"
      },
      "source": [
        "**Данные**  \n",
        "Данные находятся в трёх файлах:  \n",
        "`gold_recovery_train_new.csv` — обучающая выборка;  \n",
        "`gold_recovery_test_new.csv` — тестовая выборка;  \n",
        "`gold_recovery_full_new.csv` — исходные данные.  \n",
        "\n",
        "Данные индексируются датой и временем получения информации (признак date).   Соседние по времени параметры часто похожи.  \n",
        "Некоторые параметры недоступны, потому что замеряются и/или рассчитываются значительно позже. Из-за этого в тестовой выборке отсутствуют некоторые признаки, которые могут быть в обучающей. Также в тестовом наборе нет целевых признаков.  \n",
        "Исходный датасет содержит обучающую и тестовую выборки со всеми признаками.\n",
        "В нашем распоряжении сырые данные: их просто выгрузили из хранилища.   "
      ]
    },
    {
      "cell_type": "code",
      "execution_count": null,
      "metadata": {
        "id": "LkJ9jd4tdRfl"
      },
      "outputs": [],
      "source": [
        "import pandas as pd\n",
        "import numpy as np\n",
        "import matplotlib.pyplot as plt\n",
        "import seaborn as sns\n",
        "\n",
        "from sklearn.metrics import mean_absolute_error, make_scorer\n",
        "from sklearn.tree import DecisionTreeRegressor\n",
        "from sklearn.ensemble import RandomForestRegressor\n",
        "from sklearn.linear_model import LinearRegression\n",
        "from sklearn.model_selection import GridSearchCV\n",
        "from sklearn.dummy import DummyRegressor"
      ]
    },
    {
      "cell_type": "markdown",
      "metadata": {
        "id": "x6_NKi2jcmSv"
      },
      "source": [
        "## Подготовка данных"
      ]
    },
    {
      "cell_type": "markdown",
      "metadata": {
        "id": "QuWcUImP7gAI"
      },
      "source": [
        "### Изучение файлов"
      ]
    },
    {
      "cell_type": "code",
      "execution_count": null,
      "metadata": {
        "id": "_YPLwgWCcmSv"
      },
      "outputs": [],
      "source": [
        "df_train = pd.read_csv('https://code.s3.yandex.net/datasets/gold_recovery_train_new.csv', index_col = 'date')"
      ]
    },
    {
      "cell_type": "code",
      "execution_count": null,
      "metadata": {
        "colab": {
          "base_uri": "https://localhost:8080/",
          "height": 504
        },
        "id": "nkMUJJRS7tqx",
        "outputId": "ceb1fd0b-d149-4db3-ab71-4d980acaf0d8"
      },
      "outputs": [
        {
          "data": {
            "text/html": [
              "<div>\n",
              "<style scoped>\n",
              "    .dataframe tbody tr th:only-of-type {\n",
              "        vertical-align: middle;\n",
              "    }\n",
              "\n",
              "    .dataframe tbody tr th {\n",
              "        vertical-align: top;\n",
              "    }\n",
              "\n",
              "    .dataframe thead th {\n",
              "        text-align: right;\n",
              "    }\n",
              "</style>\n",
              "<table border=\"1\" class=\"dataframe\">\n",
              "  <thead>\n",
              "    <tr style=\"text-align: right;\">\n",
              "      <th></th>\n",
              "      <th>final.output.concentrate_ag</th>\n",
              "      <th>final.output.concentrate_pb</th>\n",
              "      <th>final.output.concentrate_sol</th>\n",
              "      <th>final.output.concentrate_au</th>\n",
              "      <th>final.output.recovery</th>\n",
              "      <th>final.output.tail_ag</th>\n",
              "      <th>final.output.tail_pb</th>\n",
              "      <th>final.output.tail_sol</th>\n",
              "      <th>final.output.tail_au</th>\n",
              "      <th>primary_cleaner.input.sulfate</th>\n",
              "      <th>...</th>\n",
              "      <th>secondary_cleaner.state.floatbank4_a_air</th>\n",
              "      <th>secondary_cleaner.state.floatbank4_a_level</th>\n",
              "      <th>secondary_cleaner.state.floatbank4_b_air</th>\n",
              "      <th>secondary_cleaner.state.floatbank4_b_level</th>\n",
              "      <th>secondary_cleaner.state.floatbank5_a_air</th>\n",
              "      <th>secondary_cleaner.state.floatbank5_a_level</th>\n",
              "      <th>secondary_cleaner.state.floatbank5_b_air</th>\n",
              "      <th>secondary_cleaner.state.floatbank5_b_level</th>\n",
              "      <th>secondary_cleaner.state.floatbank6_a_air</th>\n",
              "      <th>secondary_cleaner.state.floatbank6_a_level</th>\n",
              "    </tr>\n",
              "    <tr>\n",
              "      <th>date</th>\n",
              "      <th></th>\n",
              "      <th></th>\n",
              "      <th></th>\n",
              "      <th></th>\n",
              "      <th></th>\n",
              "      <th></th>\n",
              "      <th></th>\n",
              "      <th></th>\n",
              "      <th></th>\n",
              "      <th></th>\n",
              "      <th></th>\n",
              "      <th></th>\n",
              "      <th></th>\n",
              "      <th></th>\n",
              "      <th></th>\n",
              "      <th></th>\n",
              "      <th></th>\n",
              "      <th></th>\n",
              "      <th></th>\n",
              "      <th></th>\n",
              "      <th></th>\n",
              "    </tr>\n",
              "  </thead>\n",
              "  <tbody>\n",
              "    <tr>\n",
              "      <td>2016-01-15 00:00:00</td>\n",
              "      <td>6.055403</td>\n",
              "      <td>9.889648</td>\n",
              "      <td>5.507324</td>\n",
              "      <td>42.192020</td>\n",
              "      <td>70.541216</td>\n",
              "      <td>10.411962</td>\n",
              "      <td>0.895447</td>\n",
              "      <td>16.904297</td>\n",
              "      <td>2.143149</td>\n",
              "      <td>127.092003</td>\n",
              "      <td>...</td>\n",
              "      <td>14.016835</td>\n",
              "      <td>-502.488007</td>\n",
              "      <td>12.099931</td>\n",
              "      <td>-504.715942</td>\n",
              "      <td>9.925633</td>\n",
              "      <td>-498.310211</td>\n",
              "      <td>8.079666</td>\n",
              "      <td>-500.470978</td>\n",
              "      <td>14.151341</td>\n",
              "      <td>-605.841980</td>\n",
              "    </tr>\n",
              "    <tr>\n",
              "      <td>2016-01-15 01:00:00</td>\n",
              "      <td>6.029369</td>\n",
              "      <td>9.968944</td>\n",
              "      <td>5.257781</td>\n",
              "      <td>42.701629</td>\n",
              "      <td>69.266198</td>\n",
              "      <td>10.462676</td>\n",
              "      <td>0.927452</td>\n",
              "      <td>16.634514</td>\n",
              "      <td>2.224930</td>\n",
              "      <td>125.629232</td>\n",
              "      <td>...</td>\n",
              "      <td>13.992281</td>\n",
              "      <td>-505.503262</td>\n",
              "      <td>11.950531</td>\n",
              "      <td>-501.331529</td>\n",
              "      <td>10.039245</td>\n",
              "      <td>-500.169983</td>\n",
              "      <td>7.984757</td>\n",
              "      <td>-500.582168</td>\n",
              "      <td>13.998353</td>\n",
              "      <td>-599.787184</td>\n",
              "    </tr>\n",
              "    <tr>\n",
              "      <td>2016-01-15 02:00:00</td>\n",
              "      <td>6.055926</td>\n",
              "      <td>10.213995</td>\n",
              "      <td>5.383759</td>\n",
              "      <td>42.657501</td>\n",
              "      <td>68.116445</td>\n",
              "      <td>10.507046</td>\n",
              "      <td>0.953716</td>\n",
              "      <td>16.208849</td>\n",
              "      <td>2.257889</td>\n",
              "      <td>123.819808</td>\n",
              "      <td>...</td>\n",
              "      <td>14.015015</td>\n",
              "      <td>-502.520901</td>\n",
              "      <td>11.912783</td>\n",
              "      <td>-501.133383</td>\n",
              "      <td>10.070913</td>\n",
              "      <td>-500.129135</td>\n",
              "      <td>8.013877</td>\n",
              "      <td>-500.517572</td>\n",
              "      <td>14.028663</td>\n",
              "      <td>-601.427363</td>\n",
              "    </tr>\n",
              "    <tr>\n",
              "      <td>2016-01-15 03:00:00</td>\n",
              "      <td>6.047977</td>\n",
              "      <td>9.977019</td>\n",
              "      <td>4.858634</td>\n",
              "      <td>42.689819</td>\n",
              "      <td>68.347543</td>\n",
              "      <td>10.422762</td>\n",
              "      <td>0.883763</td>\n",
              "      <td>16.532835</td>\n",
              "      <td>2.146849</td>\n",
              "      <td>122.270188</td>\n",
              "      <td>...</td>\n",
              "      <td>14.036510</td>\n",
              "      <td>-500.857308</td>\n",
              "      <td>11.999550</td>\n",
              "      <td>-501.193686</td>\n",
              "      <td>9.970366</td>\n",
              "      <td>-499.201640</td>\n",
              "      <td>7.977324</td>\n",
              "      <td>-500.255908</td>\n",
              "      <td>14.005551</td>\n",
              "      <td>-599.996129</td>\n",
              "    </tr>\n",
              "    <tr>\n",
              "      <td>2016-01-15 04:00:00</td>\n",
              "      <td>6.148599</td>\n",
              "      <td>10.142511</td>\n",
              "      <td>4.939416</td>\n",
              "      <td>42.774141</td>\n",
              "      <td>66.927016</td>\n",
              "      <td>10.360302</td>\n",
              "      <td>0.792826</td>\n",
              "      <td>16.525686</td>\n",
              "      <td>2.055292</td>\n",
              "      <td>117.988169</td>\n",
              "      <td>...</td>\n",
              "      <td>14.027298</td>\n",
              "      <td>-499.838632</td>\n",
              "      <td>11.953070</td>\n",
              "      <td>-501.053894</td>\n",
              "      <td>9.925709</td>\n",
              "      <td>-501.686727</td>\n",
              "      <td>7.894242</td>\n",
              "      <td>-500.356035</td>\n",
              "      <td>13.996647</td>\n",
              "      <td>-601.496691</td>\n",
              "    </tr>\n",
              "  </tbody>\n",
              "</table>\n",
              "<p>5 rows × 86 columns</p>\n",
              "</div>"
            ],
            "text/plain": [
              "                     final.output.concentrate_ag  final.output.concentrate_pb  \\\n",
              "date                                                                            \n",
              "2016-01-15 00:00:00                     6.055403                     9.889648   \n",
              "2016-01-15 01:00:00                     6.029369                     9.968944   \n",
              "2016-01-15 02:00:00                     6.055926                    10.213995   \n",
              "2016-01-15 03:00:00                     6.047977                     9.977019   \n",
              "2016-01-15 04:00:00                     6.148599                    10.142511   \n",
              "\n",
              "                     final.output.concentrate_sol  \\\n",
              "date                                                \n",
              "2016-01-15 00:00:00                      5.507324   \n",
              "2016-01-15 01:00:00                      5.257781   \n",
              "2016-01-15 02:00:00                      5.383759   \n",
              "2016-01-15 03:00:00                      4.858634   \n",
              "2016-01-15 04:00:00                      4.939416   \n",
              "\n",
              "                     final.output.concentrate_au  final.output.recovery  \\\n",
              "date                                                                      \n",
              "2016-01-15 00:00:00                    42.192020              70.541216   \n",
              "2016-01-15 01:00:00                    42.701629              69.266198   \n",
              "2016-01-15 02:00:00                    42.657501              68.116445   \n",
              "2016-01-15 03:00:00                    42.689819              68.347543   \n",
              "2016-01-15 04:00:00                    42.774141              66.927016   \n",
              "\n",
              "                     final.output.tail_ag  final.output.tail_pb  \\\n",
              "date                                                              \n",
              "2016-01-15 00:00:00             10.411962              0.895447   \n",
              "2016-01-15 01:00:00             10.462676              0.927452   \n",
              "2016-01-15 02:00:00             10.507046              0.953716   \n",
              "2016-01-15 03:00:00             10.422762              0.883763   \n",
              "2016-01-15 04:00:00             10.360302              0.792826   \n",
              "\n",
              "                     final.output.tail_sol  final.output.tail_au  \\\n",
              "date                                                               \n",
              "2016-01-15 00:00:00              16.904297              2.143149   \n",
              "2016-01-15 01:00:00              16.634514              2.224930   \n",
              "2016-01-15 02:00:00              16.208849              2.257889   \n",
              "2016-01-15 03:00:00              16.532835              2.146849   \n",
              "2016-01-15 04:00:00              16.525686              2.055292   \n",
              "\n",
              "                     primary_cleaner.input.sulfate  ...  \\\n",
              "date                                                ...   \n",
              "2016-01-15 00:00:00                     127.092003  ...   \n",
              "2016-01-15 01:00:00                     125.629232  ...   \n",
              "2016-01-15 02:00:00                     123.819808  ...   \n",
              "2016-01-15 03:00:00                     122.270188  ...   \n",
              "2016-01-15 04:00:00                     117.988169  ...   \n",
              "\n",
              "                     secondary_cleaner.state.floatbank4_a_air  \\\n",
              "date                                                            \n",
              "2016-01-15 00:00:00                                 14.016835   \n",
              "2016-01-15 01:00:00                                 13.992281   \n",
              "2016-01-15 02:00:00                                 14.015015   \n",
              "2016-01-15 03:00:00                                 14.036510   \n",
              "2016-01-15 04:00:00                                 14.027298   \n",
              "\n",
              "                     secondary_cleaner.state.floatbank4_a_level  \\\n",
              "date                                                              \n",
              "2016-01-15 00:00:00                                 -502.488007   \n",
              "2016-01-15 01:00:00                                 -505.503262   \n",
              "2016-01-15 02:00:00                                 -502.520901   \n",
              "2016-01-15 03:00:00                                 -500.857308   \n",
              "2016-01-15 04:00:00                                 -499.838632   \n",
              "\n",
              "                     secondary_cleaner.state.floatbank4_b_air  \\\n",
              "date                                                            \n",
              "2016-01-15 00:00:00                                 12.099931   \n",
              "2016-01-15 01:00:00                                 11.950531   \n",
              "2016-01-15 02:00:00                                 11.912783   \n",
              "2016-01-15 03:00:00                                 11.999550   \n",
              "2016-01-15 04:00:00                                 11.953070   \n",
              "\n",
              "                     secondary_cleaner.state.floatbank4_b_level  \\\n",
              "date                                                              \n",
              "2016-01-15 00:00:00                                 -504.715942   \n",
              "2016-01-15 01:00:00                                 -501.331529   \n",
              "2016-01-15 02:00:00                                 -501.133383   \n",
              "2016-01-15 03:00:00                                 -501.193686   \n",
              "2016-01-15 04:00:00                                 -501.053894   \n",
              "\n",
              "                     secondary_cleaner.state.floatbank5_a_air  \\\n",
              "date                                                            \n",
              "2016-01-15 00:00:00                                  9.925633   \n",
              "2016-01-15 01:00:00                                 10.039245   \n",
              "2016-01-15 02:00:00                                 10.070913   \n",
              "2016-01-15 03:00:00                                  9.970366   \n",
              "2016-01-15 04:00:00                                  9.925709   \n",
              "\n",
              "                     secondary_cleaner.state.floatbank5_a_level  \\\n",
              "date                                                              \n",
              "2016-01-15 00:00:00                                 -498.310211   \n",
              "2016-01-15 01:00:00                                 -500.169983   \n",
              "2016-01-15 02:00:00                                 -500.129135   \n",
              "2016-01-15 03:00:00                                 -499.201640   \n",
              "2016-01-15 04:00:00                                 -501.686727   \n",
              "\n",
              "                     secondary_cleaner.state.floatbank5_b_air  \\\n",
              "date                                                            \n",
              "2016-01-15 00:00:00                                  8.079666   \n",
              "2016-01-15 01:00:00                                  7.984757   \n",
              "2016-01-15 02:00:00                                  8.013877   \n",
              "2016-01-15 03:00:00                                  7.977324   \n",
              "2016-01-15 04:00:00                                  7.894242   \n",
              "\n",
              "                     secondary_cleaner.state.floatbank5_b_level  \\\n",
              "date                                                              \n",
              "2016-01-15 00:00:00                                 -500.470978   \n",
              "2016-01-15 01:00:00                                 -500.582168   \n",
              "2016-01-15 02:00:00                                 -500.517572   \n",
              "2016-01-15 03:00:00                                 -500.255908   \n",
              "2016-01-15 04:00:00                                 -500.356035   \n",
              "\n",
              "                     secondary_cleaner.state.floatbank6_a_air  \\\n",
              "date                                                            \n",
              "2016-01-15 00:00:00                                 14.151341   \n",
              "2016-01-15 01:00:00                                 13.998353   \n",
              "2016-01-15 02:00:00                                 14.028663   \n",
              "2016-01-15 03:00:00                                 14.005551   \n",
              "2016-01-15 04:00:00                                 13.996647   \n",
              "\n",
              "                     secondary_cleaner.state.floatbank6_a_level  \n",
              "date                                                             \n",
              "2016-01-15 00:00:00                                 -605.841980  \n",
              "2016-01-15 01:00:00                                 -599.787184  \n",
              "2016-01-15 02:00:00                                 -601.427363  \n",
              "2016-01-15 03:00:00                                 -599.996129  \n",
              "2016-01-15 04:00:00                                 -601.496691  \n",
              "\n",
              "[5 rows x 86 columns]"
            ]
          },
          "execution_count": 4,
          "metadata": {},
          "output_type": "execute_result"
        }
      ],
      "source": [
        "df_train.head()"
      ]
    },
    {
      "cell_type": "code",
      "execution_count": null,
      "metadata": {
        "colab": {
          "base_uri": "https://localhost:8080/"
        },
        "id": "LpzEQpDZ7seo",
        "outputId": "6cdc5999-8ade-4a0d-dbe0-b6f4958bf64e"
      },
      "outputs": [
        {
          "name": "stdout",
          "output_type": "stream",
          "text": [
            "<class 'pandas.core.frame.DataFrame'>\n",
            "Index: 14149 entries, 2016-01-15 00:00:00 to 2018-08-18 10:59:59\n",
            "Data columns (total 86 columns):\n",
            "final.output.concentrate_ag                           14148 non-null float64\n",
            "final.output.concentrate_pb                           14148 non-null float64\n",
            "final.output.concentrate_sol                          13938 non-null float64\n",
            "final.output.concentrate_au                           14149 non-null float64\n",
            "final.output.recovery                                 14149 non-null float64\n",
            "final.output.tail_ag                                  14149 non-null float64\n",
            "final.output.tail_pb                                  14049 non-null float64\n",
            "final.output.tail_sol                                 14144 non-null float64\n",
            "final.output.tail_au                                  14149 non-null float64\n",
            "primary_cleaner.input.sulfate                         14129 non-null float64\n",
            "primary_cleaner.input.depressant                      14117 non-null float64\n",
            "primary_cleaner.input.feed_size                       14149 non-null float64\n",
            "primary_cleaner.input.xanthate                        14049 non-null float64\n",
            "primary_cleaner.output.concentrate_ag                 14149 non-null float64\n",
            "primary_cleaner.output.concentrate_pb                 14063 non-null float64\n",
            "primary_cleaner.output.concentrate_sol                13863 non-null float64\n",
            "primary_cleaner.output.concentrate_au                 14149 non-null float64\n",
            "primary_cleaner.output.tail_ag                        14148 non-null float64\n",
            "primary_cleaner.output.tail_pb                        14134 non-null float64\n",
            "primary_cleaner.output.tail_sol                       14103 non-null float64\n",
            "primary_cleaner.output.tail_au                        14149 non-null float64\n",
            "primary_cleaner.state.floatbank8_a_air                14145 non-null float64\n",
            "primary_cleaner.state.floatbank8_a_level              14148 non-null float64\n",
            "primary_cleaner.state.floatbank8_b_air                14145 non-null float64\n",
            "primary_cleaner.state.floatbank8_b_level              14148 non-null float64\n",
            "primary_cleaner.state.floatbank8_c_air                14147 non-null float64\n",
            "primary_cleaner.state.floatbank8_c_level              14148 non-null float64\n",
            "primary_cleaner.state.floatbank8_d_air                14146 non-null float64\n",
            "primary_cleaner.state.floatbank8_d_level              14148 non-null float64\n",
            "rougher.calculation.sulfate_to_au_concentrate         14148 non-null float64\n",
            "rougher.calculation.floatbank10_sulfate_to_au_feed    14148 non-null float64\n",
            "rougher.calculation.floatbank11_sulfate_to_au_feed    14148 non-null float64\n",
            "rougher.calculation.au_pb_ratio                       14149 non-null float64\n",
            "rougher.input.feed_ag                                 14149 non-null float64\n",
            "rougher.input.feed_pb                                 14049 non-null float64\n",
            "rougher.input.feed_rate                               14141 non-null float64\n",
            "rougher.input.feed_size                               14005 non-null float64\n",
            "rougher.input.feed_sol                                14071 non-null float64\n",
            "rougher.input.feed_au                                 14149 non-null float64\n",
            "rougher.input.floatbank10_sulfate                     14120 non-null float64\n",
            "rougher.input.floatbank10_xanthate                    14141 non-null float64\n",
            "rougher.input.floatbank11_sulfate                     14113 non-null float64\n",
            "rougher.input.floatbank11_xanthate                    13721 non-null float64\n",
            "rougher.output.concentrate_ag                         14149 non-null float64\n",
            "rougher.output.concentrate_pb                         14149 non-null float64\n",
            "rougher.output.concentrate_sol                        14127 non-null float64\n",
            "rougher.output.concentrate_au                         14149 non-null float64\n",
            "rougher.output.recovery                               14149 non-null float64\n",
            "rougher.output.tail_ag                                14148 non-null float64\n",
            "rougher.output.tail_pb                                14149 non-null float64\n",
            "rougher.output.tail_sol                               14149 non-null float64\n",
            "rougher.output.tail_au                                14149 non-null float64\n",
            "rougher.state.floatbank10_a_air                       14148 non-null float64\n",
            "rougher.state.floatbank10_a_level                     14148 non-null float64\n",
            "rougher.state.floatbank10_b_air                       14148 non-null float64\n",
            "rougher.state.floatbank10_b_level                     14148 non-null float64\n",
            "rougher.state.floatbank10_c_air                       14148 non-null float64\n",
            "rougher.state.floatbank10_c_level                     14148 non-null float64\n",
            "rougher.state.floatbank10_d_air                       14149 non-null float64\n",
            "rougher.state.floatbank10_d_level                     14149 non-null float64\n",
            "rougher.state.floatbank10_e_air                       13713 non-null float64\n",
            "rougher.state.floatbank10_e_level                     14149 non-null float64\n",
            "rougher.state.floatbank10_f_air                       14149 non-null float64\n",
            "rougher.state.floatbank10_f_level                     14149 non-null float64\n",
            "secondary_cleaner.output.tail_ag                      14147 non-null float64\n",
            "secondary_cleaner.output.tail_pb                      14139 non-null float64\n",
            "secondary_cleaner.output.tail_sol                     12544 non-null float64\n",
            "secondary_cleaner.output.tail_au                      14149 non-null float64\n",
            "secondary_cleaner.state.floatbank2_a_air              13932 non-null float64\n",
            "secondary_cleaner.state.floatbank2_a_level            14148 non-null float64\n",
            "secondary_cleaner.state.floatbank2_b_air              14128 non-null float64\n",
            "secondary_cleaner.state.floatbank2_b_level            14148 non-null float64\n",
            "secondary_cleaner.state.floatbank3_a_air              14145 non-null float64\n",
            "secondary_cleaner.state.floatbank3_a_level            14148 non-null float64\n",
            "secondary_cleaner.state.floatbank3_b_air              14148 non-null float64\n",
            "secondary_cleaner.state.floatbank3_b_level            14148 non-null float64\n",
            "secondary_cleaner.state.floatbank4_a_air              14143 non-null float64\n",
            "secondary_cleaner.state.floatbank4_a_level            14148 non-null float64\n",
            "secondary_cleaner.state.floatbank4_b_air              14148 non-null float64\n",
            "secondary_cleaner.state.floatbank4_b_level            14148 non-null float64\n",
            "secondary_cleaner.state.floatbank5_a_air              14148 non-null float64\n",
            "secondary_cleaner.state.floatbank5_a_level            14148 non-null float64\n",
            "secondary_cleaner.state.floatbank5_b_air              14148 non-null float64\n",
            "secondary_cleaner.state.floatbank5_b_level            14148 non-null float64\n",
            "secondary_cleaner.state.floatbank6_a_air              14147 non-null float64\n",
            "secondary_cleaner.state.floatbank6_a_level            14148 non-null float64\n",
            "dtypes: float64(86)\n",
            "memory usage: 9.4+ MB\n"
          ]
        }
      ],
      "source": [
        "df_train.info()"
      ]
    },
    {
      "cell_type": "code",
      "execution_count": null,
      "metadata": {
        "id": "LjAKO76DfHUh"
      },
      "outputs": [],
      "source": [
        "df_test = pd.read_csv('https://code.s3.yandex.net/datasets/gold_recovery_test_new.csv', index_col = 'date')"
      ]
    },
    {
      "cell_type": "code",
      "execution_count": null,
      "metadata": {
        "colab": {
          "base_uri": "https://localhost:8080/",
          "height": 504
        },
        "id": "K8hNLVoZ7uCc",
        "outputId": "64ea9c3a-78bf-4b96-c402-0aa4297ebb63"
      },
      "outputs": [
        {
          "data": {
            "text/html": [
              "<div>\n",
              "<style scoped>\n",
              "    .dataframe tbody tr th:only-of-type {\n",
              "        vertical-align: middle;\n",
              "    }\n",
              "\n",
              "    .dataframe tbody tr th {\n",
              "        vertical-align: top;\n",
              "    }\n",
              "\n",
              "    .dataframe thead th {\n",
              "        text-align: right;\n",
              "    }\n",
              "</style>\n",
              "<table border=\"1\" class=\"dataframe\">\n",
              "  <thead>\n",
              "    <tr style=\"text-align: right;\">\n",
              "      <th></th>\n",
              "      <th>primary_cleaner.input.sulfate</th>\n",
              "      <th>primary_cleaner.input.depressant</th>\n",
              "      <th>primary_cleaner.input.feed_size</th>\n",
              "      <th>primary_cleaner.input.xanthate</th>\n",
              "      <th>primary_cleaner.state.floatbank8_a_air</th>\n",
              "      <th>primary_cleaner.state.floatbank8_a_level</th>\n",
              "      <th>primary_cleaner.state.floatbank8_b_air</th>\n",
              "      <th>primary_cleaner.state.floatbank8_b_level</th>\n",
              "      <th>primary_cleaner.state.floatbank8_c_air</th>\n",
              "      <th>primary_cleaner.state.floatbank8_c_level</th>\n",
              "      <th>...</th>\n",
              "      <th>secondary_cleaner.state.floatbank4_a_air</th>\n",
              "      <th>secondary_cleaner.state.floatbank4_a_level</th>\n",
              "      <th>secondary_cleaner.state.floatbank4_b_air</th>\n",
              "      <th>secondary_cleaner.state.floatbank4_b_level</th>\n",
              "      <th>secondary_cleaner.state.floatbank5_a_air</th>\n",
              "      <th>secondary_cleaner.state.floatbank5_a_level</th>\n",
              "      <th>secondary_cleaner.state.floatbank5_b_air</th>\n",
              "      <th>secondary_cleaner.state.floatbank5_b_level</th>\n",
              "      <th>secondary_cleaner.state.floatbank6_a_air</th>\n",
              "      <th>secondary_cleaner.state.floatbank6_a_level</th>\n",
              "    </tr>\n",
              "    <tr>\n",
              "      <th>date</th>\n",
              "      <th></th>\n",
              "      <th></th>\n",
              "      <th></th>\n",
              "      <th></th>\n",
              "      <th></th>\n",
              "      <th></th>\n",
              "      <th></th>\n",
              "      <th></th>\n",
              "      <th></th>\n",
              "      <th></th>\n",
              "      <th></th>\n",
              "      <th></th>\n",
              "      <th></th>\n",
              "      <th></th>\n",
              "      <th></th>\n",
              "      <th></th>\n",
              "      <th></th>\n",
              "      <th></th>\n",
              "      <th></th>\n",
              "      <th></th>\n",
              "      <th></th>\n",
              "    </tr>\n",
              "  </thead>\n",
              "  <tbody>\n",
              "    <tr>\n",
              "      <td>2016-09-01 00:59:59</td>\n",
              "      <td>210.800909</td>\n",
              "      <td>14.993118</td>\n",
              "      <td>8.080000</td>\n",
              "      <td>1.005021</td>\n",
              "      <td>1398.981301</td>\n",
              "      <td>-500.225577</td>\n",
              "      <td>1399.144926</td>\n",
              "      <td>-499.919735</td>\n",
              "      <td>1400.102998</td>\n",
              "      <td>-500.704369</td>\n",
              "      <td>...</td>\n",
              "      <td>12.023554</td>\n",
              "      <td>-497.795834</td>\n",
              "      <td>8.016656</td>\n",
              "      <td>-501.289139</td>\n",
              "      <td>7.946562</td>\n",
              "      <td>-432.317850</td>\n",
              "      <td>4.872511</td>\n",
              "      <td>-500.037437</td>\n",
              "      <td>26.705889</td>\n",
              "      <td>-499.709414</td>\n",
              "    </tr>\n",
              "    <tr>\n",
              "      <td>2016-09-01 01:59:59</td>\n",
              "      <td>215.392455</td>\n",
              "      <td>14.987471</td>\n",
              "      <td>8.080000</td>\n",
              "      <td>0.990469</td>\n",
              "      <td>1398.777912</td>\n",
              "      <td>-500.057435</td>\n",
              "      <td>1398.055362</td>\n",
              "      <td>-499.778182</td>\n",
              "      <td>1396.151033</td>\n",
              "      <td>-499.240168</td>\n",
              "      <td>...</td>\n",
              "      <td>12.058140</td>\n",
              "      <td>-498.695773</td>\n",
              "      <td>8.130979</td>\n",
              "      <td>-499.634209</td>\n",
              "      <td>7.958270</td>\n",
              "      <td>-525.839648</td>\n",
              "      <td>4.878850</td>\n",
              "      <td>-500.162375</td>\n",
              "      <td>25.019940</td>\n",
              "      <td>-499.819438</td>\n",
              "    </tr>\n",
              "    <tr>\n",
              "      <td>2016-09-01 02:59:59</td>\n",
              "      <td>215.259946</td>\n",
              "      <td>12.884934</td>\n",
              "      <td>7.786667</td>\n",
              "      <td>0.996043</td>\n",
              "      <td>1398.493666</td>\n",
              "      <td>-500.868360</td>\n",
              "      <td>1398.860436</td>\n",
              "      <td>-499.764529</td>\n",
              "      <td>1398.075709</td>\n",
              "      <td>-502.151509</td>\n",
              "      <td>...</td>\n",
              "      <td>11.962366</td>\n",
              "      <td>-498.767484</td>\n",
              "      <td>8.096893</td>\n",
              "      <td>-500.827423</td>\n",
              "      <td>8.071056</td>\n",
              "      <td>-500.801673</td>\n",
              "      <td>4.905125</td>\n",
              "      <td>-499.828510</td>\n",
              "      <td>24.994862</td>\n",
              "      <td>-500.622559</td>\n",
              "    </tr>\n",
              "    <tr>\n",
              "      <td>2016-09-01 03:59:59</td>\n",
              "      <td>215.336236</td>\n",
              "      <td>12.006805</td>\n",
              "      <td>7.640000</td>\n",
              "      <td>0.863514</td>\n",
              "      <td>1399.618111</td>\n",
              "      <td>-498.863574</td>\n",
              "      <td>1397.440120</td>\n",
              "      <td>-499.211024</td>\n",
              "      <td>1400.129303</td>\n",
              "      <td>-498.355873</td>\n",
              "      <td>...</td>\n",
              "      <td>12.033091</td>\n",
              "      <td>-498.350935</td>\n",
              "      <td>8.074946</td>\n",
              "      <td>-499.474407</td>\n",
              "      <td>7.897085</td>\n",
              "      <td>-500.868509</td>\n",
              "      <td>4.931400</td>\n",
              "      <td>-499.963623</td>\n",
              "      <td>24.948919</td>\n",
              "      <td>-498.709987</td>\n",
              "    </tr>\n",
              "    <tr>\n",
              "      <td>2016-09-01 04:59:59</td>\n",
              "      <td>199.099327</td>\n",
              "      <td>10.682530</td>\n",
              "      <td>7.530000</td>\n",
              "      <td>0.805575</td>\n",
              "      <td>1401.268123</td>\n",
              "      <td>-500.808305</td>\n",
              "      <td>1398.128818</td>\n",
              "      <td>-499.504543</td>\n",
              "      <td>1402.172226</td>\n",
              "      <td>-500.810606</td>\n",
              "      <td>...</td>\n",
              "      <td>12.025367</td>\n",
              "      <td>-500.786497</td>\n",
              "      <td>8.054678</td>\n",
              "      <td>-500.397500</td>\n",
              "      <td>8.107890</td>\n",
              "      <td>-509.526725</td>\n",
              "      <td>4.957674</td>\n",
              "      <td>-500.360026</td>\n",
              "      <td>25.003331</td>\n",
              "      <td>-500.856333</td>\n",
              "    </tr>\n",
              "  </tbody>\n",
              "</table>\n",
              "<p>5 rows × 52 columns</p>\n",
              "</div>"
            ],
            "text/plain": [
              "                     primary_cleaner.input.sulfate  \\\n",
              "date                                                 \n",
              "2016-09-01 00:59:59                     210.800909   \n",
              "2016-09-01 01:59:59                     215.392455   \n",
              "2016-09-01 02:59:59                     215.259946   \n",
              "2016-09-01 03:59:59                     215.336236   \n",
              "2016-09-01 04:59:59                     199.099327   \n",
              "\n",
              "                     primary_cleaner.input.depressant  \\\n",
              "date                                                    \n",
              "2016-09-01 00:59:59                         14.993118   \n",
              "2016-09-01 01:59:59                         14.987471   \n",
              "2016-09-01 02:59:59                         12.884934   \n",
              "2016-09-01 03:59:59                         12.006805   \n",
              "2016-09-01 04:59:59                         10.682530   \n",
              "\n",
              "                     primary_cleaner.input.feed_size  \\\n",
              "date                                                   \n",
              "2016-09-01 00:59:59                         8.080000   \n",
              "2016-09-01 01:59:59                         8.080000   \n",
              "2016-09-01 02:59:59                         7.786667   \n",
              "2016-09-01 03:59:59                         7.640000   \n",
              "2016-09-01 04:59:59                         7.530000   \n",
              "\n",
              "                     primary_cleaner.input.xanthate  \\\n",
              "date                                                  \n",
              "2016-09-01 00:59:59                        1.005021   \n",
              "2016-09-01 01:59:59                        0.990469   \n",
              "2016-09-01 02:59:59                        0.996043   \n",
              "2016-09-01 03:59:59                        0.863514   \n",
              "2016-09-01 04:59:59                        0.805575   \n",
              "\n",
              "                     primary_cleaner.state.floatbank8_a_air  \\\n",
              "date                                                          \n",
              "2016-09-01 00:59:59                             1398.981301   \n",
              "2016-09-01 01:59:59                             1398.777912   \n",
              "2016-09-01 02:59:59                             1398.493666   \n",
              "2016-09-01 03:59:59                             1399.618111   \n",
              "2016-09-01 04:59:59                             1401.268123   \n",
              "\n",
              "                     primary_cleaner.state.floatbank8_a_level  \\\n",
              "date                                                            \n",
              "2016-09-01 00:59:59                               -500.225577   \n",
              "2016-09-01 01:59:59                               -500.057435   \n",
              "2016-09-01 02:59:59                               -500.868360   \n",
              "2016-09-01 03:59:59                               -498.863574   \n",
              "2016-09-01 04:59:59                               -500.808305   \n",
              "\n",
              "                     primary_cleaner.state.floatbank8_b_air  \\\n",
              "date                                                          \n",
              "2016-09-01 00:59:59                             1399.144926   \n",
              "2016-09-01 01:59:59                             1398.055362   \n",
              "2016-09-01 02:59:59                             1398.860436   \n",
              "2016-09-01 03:59:59                             1397.440120   \n",
              "2016-09-01 04:59:59                             1398.128818   \n",
              "\n",
              "                     primary_cleaner.state.floatbank8_b_level  \\\n",
              "date                                                            \n",
              "2016-09-01 00:59:59                               -499.919735   \n",
              "2016-09-01 01:59:59                               -499.778182   \n",
              "2016-09-01 02:59:59                               -499.764529   \n",
              "2016-09-01 03:59:59                               -499.211024   \n",
              "2016-09-01 04:59:59                               -499.504543   \n",
              "\n",
              "                     primary_cleaner.state.floatbank8_c_air  \\\n",
              "date                                                          \n",
              "2016-09-01 00:59:59                             1400.102998   \n",
              "2016-09-01 01:59:59                             1396.151033   \n",
              "2016-09-01 02:59:59                             1398.075709   \n",
              "2016-09-01 03:59:59                             1400.129303   \n",
              "2016-09-01 04:59:59                             1402.172226   \n",
              "\n",
              "                     primary_cleaner.state.floatbank8_c_level  ...  \\\n",
              "date                                                           ...   \n",
              "2016-09-01 00:59:59                               -500.704369  ...   \n",
              "2016-09-01 01:59:59                               -499.240168  ...   \n",
              "2016-09-01 02:59:59                               -502.151509  ...   \n",
              "2016-09-01 03:59:59                               -498.355873  ...   \n",
              "2016-09-01 04:59:59                               -500.810606  ...   \n",
              "\n",
              "                     secondary_cleaner.state.floatbank4_a_air  \\\n",
              "date                                                            \n",
              "2016-09-01 00:59:59                                 12.023554   \n",
              "2016-09-01 01:59:59                                 12.058140   \n",
              "2016-09-01 02:59:59                                 11.962366   \n",
              "2016-09-01 03:59:59                                 12.033091   \n",
              "2016-09-01 04:59:59                                 12.025367   \n",
              "\n",
              "                     secondary_cleaner.state.floatbank4_a_level  \\\n",
              "date                                                              \n",
              "2016-09-01 00:59:59                                 -497.795834   \n",
              "2016-09-01 01:59:59                                 -498.695773   \n",
              "2016-09-01 02:59:59                                 -498.767484   \n",
              "2016-09-01 03:59:59                                 -498.350935   \n",
              "2016-09-01 04:59:59                                 -500.786497   \n",
              "\n",
              "                     secondary_cleaner.state.floatbank4_b_air  \\\n",
              "date                                                            \n",
              "2016-09-01 00:59:59                                  8.016656   \n",
              "2016-09-01 01:59:59                                  8.130979   \n",
              "2016-09-01 02:59:59                                  8.096893   \n",
              "2016-09-01 03:59:59                                  8.074946   \n",
              "2016-09-01 04:59:59                                  8.054678   \n",
              "\n",
              "                     secondary_cleaner.state.floatbank4_b_level  \\\n",
              "date                                                              \n",
              "2016-09-01 00:59:59                                 -501.289139   \n",
              "2016-09-01 01:59:59                                 -499.634209   \n",
              "2016-09-01 02:59:59                                 -500.827423   \n",
              "2016-09-01 03:59:59                                 -499.474407   \n",
              "2016-09-01 04:59:59                                 -500.397500   \n",
              "\n",
              "                     secondary_cleaner.state.floatbank5_a_air  \\\n",
              "date                                                            \n",
              "2016-09-01 00:59:59                                  7.946562   \n",
              "2016-09-01 01:59:59                                  7.958270   \n",
              "2016-09-01 02:59:59                                  8.071056   \n",
              "2016-09-01 03:59:59                                  7.897085   \n",
              "2016-09-01 04:59:59                                  8.107890   \n",
              "\n",
              "                     secondary_cleaner.state.floatbank5_a_level  \\\n",
              "date                                                              \n",
              "2016-09-01 00:59:59                                 -432.317850   \n",
              "2016-09-01 01:59:59                                 -525.839648   \n",
              "2016-09-01 02:59:59                                 -500.801673   \n",
              "2016-09-01 03:59:59                                 -500.868509   \n",
              "2016-09-01 04:59:59                                 -509.526725   \n",
              "\n",
              "                     secondary_cleaner.state.floatbank5_b_air  \\\n",
              "date                                                            \n",
              "2016-09-01 00:59:59                                  4.872511   \n",
              "2016-09-01 01:59:59                                  4.878850   \n",
              "2016-09-01 02:59:59                                  4.905125   \n",
              "2016-09-01 03:59:59                                  4.931400   \n",
              "2016-09-01 04:59:59                                  4.957674   \n",
              "\n",
              "                     secondary_cleaner.state.floatbank5_b_level  \\\n",
              "date                                                              \n",
              "2016-09-01 00:59:59                                 -500.037437   \n",
              "2016-09-01 01:59:59                                 -500.162375   \n",
              "2016-09-01 02:59:59                                 -499.828510   \n",
              "2016-09-01 03:59:59                                 -499.963623   \n",
              "2016-09-01 04:59:59                                 -500.360026   \n",
              "\n",
              "                     secondary_cleaner.state.floatbank6_a_air  \\\n",
              "date                                                            \n",
              "2016-09-01 00:59:59                                 26.705889   \n",
              "2016-09-01 01:59:59                                 25.019940   \n",
              "2016-09-01 02:59:59                                 24.994862   \n",
              "2016-09-01 03:59:59                                 24.948919   \n",
              "2016-09-01 04:59:59                                 25.003331   \n",
              "\n",
              "                     secondary_cleaner.state.floatbank6_a_level  \n",
              "date                                                             \n",
              "2016-09-01 00:59:59                                 -499.709414  \n",
              "2016-09-01 01:59:59                                 -499.819438  \n",
              "2016-09-01 02:59:59                                 -500.622559  \n",
              "2016-09-01 03:59:59                                 -498.709987  \n",
              "2016-09-01 04:59:59                                 -500.856333  \n",
              "\n",
              "[5 rows x 52 columns]"
            ]
          },
          "execution_count": 7,
          "metadata": {},
          "output_type": "execute_result"
        }
      ],
      "source": [
        "df_test.head()"
      ]
    },
    {
      "cell_type": "code",
      "execution_count": null,
      "metadata": {
        "colab": {
          "base_uri": "https://localhost:8080/"
        },
        "id": "XSnhDMgD7t_y",
        "outputId": "f4e5083e-9db4-4d66-9a6d-073ad5b30616"
      },
      "outputs": [
        {
          "name": "stdout",
          "output_type": "stream",
          "text": [
            "<class 'pandas.core.frame.DataFrame'>\n",
            "Index: 5290 entries, 2016-09-01 00:59:59 to 2017-12-31 23:59:59\n",
            "Data columns (total 52 columns):\n",
            "primary_cleaner.input.sulfate                 5286 non-null float64\n",
            "primary_cleaner.input.depressant              5285 non-null float64\n",
            "primary_cleaner.input.feed_size               5290 non-null float64\n",
            "primary_cleaner.input.xanthate                5286 non-null float64\n",
            "primary_cleaner.state.floatbank8_a_air        5290 non-null float64\n",
            "primary_cleaner.state.floatbank8_a_level      5290 non-null float64\n",
            "primary_cleaner.state.floatbank8_b_air        5290 non-null float64\n",
            "primary_cleaner.state.floatbank8_b_level      5290 non-null float64\n",
            "primary_cleaner.state.floatbank8_c_air        5290 non-null float64\n",
            "primary_cleaner.state.floatbank8_c_level      5290 non-null float64\n",
            "primary_cleaner.state.floatbank8_d_air        5290 non-null float64\n",
            "primary_cleaner.state.floatbank8_d_level      5290 non-null float64\n",
            "rougher.input.feed_ag                         5290 non-null float64\n",
            "rougher.input.feed_pb                         5290 non-null float64\n",
            "rougher.input.feed_rate                       5287 non-null float64\n",
            "rougher.input.feed_size                       5289 non-null float64\n",
            "rougher.input.feed_sol                        5269 non-null float64\n",
            "rougher.input.feed_au                         5290 non-null float64\n",
            "rougher.input.floatbank10_sulfate             5285 non-null float64\n",
            "rougher.input.floatbank10_xanthate            5290 non-null float64\n",
            "rougher.input.floatbank11_sulfate             5282 non-null float64\n",
            "rougher.input.floatbank11_xanthate            5265 non-null float64\n",
            "rougher.state.floatbank10_a_air               5290 non-null float64\n",
            "rougher.state.floatbank10_a_level             5290 non-null float64\n",
            "rougher.state.floatbank10_b_air               5290 non-null float64\n",
            "rougher.state.floatbank10_b_level             5290 non-null float64\n",
            "rougher.state.floatbank10_c_air               5290 non-null float64\n",
            "rougher.state.floatbank10_c_level             5290 non-null float64\n",
            "rougher.state.floatbank10_d_air               5290 non-null float64\n",
            "rougher.state.floatbank10_d_level             5290 non-null float64\n",
            "rougher.state.floatbank10_e_air               5290 non-null float64\n",
            "rougher.state.floatbank10_e_level             5290 non-null float64\n",
            "rougher.state.floatbank10_f_air               5290 non-null float64\n",
            "rougher.state.floatbank10_f_level             5290 non-null float64\n",
            "secondary_cleaner.state.floatbank2_a_air      5287 non-null float64\n",
            "secondary_cleaner.state.floatbank2_a_level    5290 non-null float64\n",
            "secondary_cleaner.state.floatbank2_b_air      5288 non-null float64\n",
            "secondary_cleaner.state.floatbank2_b_level    5290 non-null float64\n",
            "secondary_cleaner.state.floatbank3_a_air      5281 non-null float64\n",
            "secondary_cleaner.state.floatbank3_a_level    5290 non-null float64\n",
            "secondary_cleaner.state.floatbank3_b_air      5290 non-null float64\n",
            "secondary_cleaner.state.floatbank3_b_level    5290 non-null float64\n",
            "secondary_cleaner.state.floatbank4_a_air      5290 non-null float64\n",
            "secondary_cleaner.state.floatbank4_a_level    5290 non-null float64\n",
            "secondary_cleaner.state.floatbank4_b_air      5290 non-null float64\n",
            "secondary_cleaner.state.floatbank4_b_level    5290 non-null float64\n",
            "secondary_cleaner.state.floatbank5_a_air      5290 non-null float64\n",
            "secondary_cleaner.state.floatbank5_a_level    5290 non-null float64\n",
            "secondary_cleaner.state.floatbank5_b_air      5290 non-null float64\n",
            "secondary_cleaner.state.floatbank5_b_level    5290 non-null float64\n",
            "secondary_cleaner.state.floatbank6_a_air      5290 non-null float64\n",
            "secondary_cleaner.state.floatbank6_a_level    5290 non-null float64\n",
            "dtypes: float64(52)\n",
            "memory usage: 2.1+ MB\n"
          ]
        }
      ],
      "source": [
        "df_test.info()"
      ]
    },
    {
      "cell_type": "code",
      "execution_count": null,
      "metadata": {
        "id": "uxesBPvqfHRt"
      },
      "outputs": [],
      "source": [
        "df_full = pd.read_csv('https://code.s3.yandex.net/datasets/gold_recovery_full_new.csv', index_col = 'date')"
      ]
    },
    {
      "cell_type": "code",
      "execution_count": null,
      "metadata": {
        "colab": {
          "base_uri": "https://localhost:8080/",
          "height": 504
        },
        "id": "avcp_aVmfHNf",
        "outputId": "09bc17fb-b9d0-4a02-c7db-a0d0a58adc9c"
      },
      "outputs": [
        {
          "data": {
            "text/html": [
              "<div>\n",
              "<style scoped>\n",
              "    .dataframe tbody tr th:only-of-type {\n",
              "        vertical-align: middle;\n",
              "    }\n",
              "\n",
              "    .dataframe tbody tr th {\n",
              "        vertical-align: top;\n",
              "    }\n",
              "\n",
              "    .dataframe thead th {\n",
              "        text-align: right;\n",
              "    }\n",
              "</style>\n",
              "<table border=\"1\" class=\"dataframe\">\n",
              "  <thead>\n",
              "    <tr style=\"text-align: right;\">\n",
              "      <th></th>\n",
              "      <th>final.output.concentrate_ag</th>\n",
              "      <th>final.output.concentrate_pb</th>\n",
              "      <th>final.output.concentrate_sol</th>\n",
              "      <th>final.output.concentrate_au</th>\n",
              "      <th>final.output.recovery</th>\n",
              "      <th>final.output.tail_ag</th>\n",
              "      <th>final.output.tail_pb</th>\n",
              "      <th>final.output.tail_sol</th>\n",
              "      <th>final.output.tail_au</th>\n",
              "      <th>primary_cleaner.input.sulfate</th>\n",
              "      <th>...</th>\n",
              "      <th>secondary_cleaner.state.floatbank4_a_air</th>\n",
              "      <th>secondary_cleaner.state.floatbank4_a_level</th>\n",
              "      <th>secondary_cleaner.state.floatbank4_b_air</th>\n",
              "      <th>secondary_cleaner.state.floatbank4_b_level</th>\n",
              "      <th>secondary_cleaner.state.floatbank5_a_air</th>\n",
              "      <th>secondary_cleaner.state.floatbank5_a_level</th>\n",
              "      <th>secondary_cleaner.state.floatbank5_b_air</th>\n",
              "      <th>secondary_cleaner.state.floatbank5_b_level</th>\n",
              "      <th>secondary_cleaner.state.floatbank6_a_air</th>\n",
              "      <th>secondary_cleaner.state.floatbank6_a_level</th>\n",
              "    </tr>\n",
              "    <tr>\n",
              "      <th>date</th>\n",
              "      <th></th>\n",
              "      <th></th>\n",
              "      <th></th>\n",
              "      <th></th>\n",
              "      <th></th>\n",
              "      <th></th>\n",
              "      <th></th>\n",
              "      <th></th>\n",
              "      <th></th>\n",
              "      <th></th>\n",
              "      <th></th>\n",
              "      <th></th>\n",
              "      <th></th>\n",
              "      <th></th>\n",
              "      <th></th>\n",
              "      <th></th>\n",
              "      <th></th>\n",
              "      <th></th>\n",
              "      <th></th>\n",
              "      <th></th>\n",
              "      <th></th>\n",
              "    </tr>\n",
              "  </thead>\n",
              "  <tbody>\n",
              "    <tr>\n",
              "      <td>2016-01-15 00:00:00</td>\n",
              "      <td>6.055403</td>\n",
              "      <td>9.889648</td>\n",
              "      <td>5.507324</td>\n",
              "      <td>42.192020</td>\n",
              "      <td>70.541216</td>\n",
              "      <td>10.411962</td>\n",
              "      <td>0.895447</td>\n",
              "      <td>16.904297</td>\n",
              "      <td>2.143149</td>\n",
              "      <td>127.092003</td>\n",
              "      <td>...</td>\n",
              "      <td>14.016835</td>\n",
              "      <td>-502.488007</td>\n",
              "      <td>12.099931</td>\n",
              "      <td>-504.715942</td>\n",
              "      <td>9.925633</td>\n",
              "      <td>-498.310211</td>\n",
              "      <td>8.079666</td>\n",
              "      <td>-500.470978</td>\n",
              "      <td>14.151341</td>\n",
              "      <td>-605.841980</td>\n",
              "    </tr>\n",
              "    <tr>\n",
              "      <td>2016-01-15 01:00:00</td>\n",
              "      <td>6.029369</td>\n",
              "      <td>9.968944</td>\n",
              "      <td>5.257781</td>\n",
              "      <td>42.701629</td>\n",
              "      <td>69.266198</td>\n",
              "      <td>10.462676</td>\n",
              "      <td>0.927452</td>\n",
              "      <td>16.634514</td>\n",
              "      <td>2.224930</td>\n",
              "      <td>125.629232</td>\n",
              "      <td>...</td>\n",
              "      <td>13.992281</td>\n",
              "      <td>-505.503262</td>\n",
              "      <td>11.950531</td>\n",
              "      <td>-501.331529</td>\n",
              "      <td>10.039245</td>\n",
              "      <td>-500.169983</td>\n",
              "      <td>7.984757</td>\n",
              "      <td>-500.582168</td>\n",
              "      <td>13.998353</td>\n",
              "      <td>-599.787184</td>\n",
              "    </tr>\n",
              "    <tr>\n",
              "      <td>2016-01-15 02:00:00</td>\n",
              "      <td>6.055926</td>\n",
              "      <td>10.213995</td>\n",
              "      <td>5.383759</td>\n",
              "      <td>42.657501</td>\n",
              "      <td>68.116445</td>\n",
              "      <td>10.507046</td>\n",
              "      <td>0.953716</td>\n",
              "      <td>16.208849</td>\n",
              "      <td>2.257889</td>\n",
              "      <td>123.819808</td>\n",
              "      <td>...</td>\n",
              "      <td>14.015015</td>\n",
              "      <td>-502.520901</td>\n",
              "      <td>11.912783</td>\n",
              "      <td>-501.133383</td>\n",
              "      <td>10.070913</td>\n",
              "      <td>-500.129135</td>\n",
              "      <td>8.013877</td>\n",
              "      <td>-500.517572</td>\n",
              "      <td>14.028663</td>\n",
              "      <td>-601.427363</td>\n",
              "    </tr>\n",
              "    <tr>\n",
              "      <td>2016-01-15 03:00:00</td>\n",
              "      <td>6.047977</td>\n",
              "      <td>9.977019</td>\n",
              "      <td>4.858634</td>\n",
              "      <td>42.689819</td>\n",
              "      <td>68.347543</td>\n",
              "      <td>10.422762</td>\n",
              "      <td>0.883763</td>\n",
              "      <td>16.532835</td>\n",
              "      <td>2.146849</td>\n",
              "      <td>122.270188</td>\n",
              "      <td>...</td>\n",
              "      <td>14.036510</td>\n",
              "      <td>-500.857308</td>\n",
              "      <td>11.999550</td>\n",
              "      <td>-501.193686</td>\n",
              "      <td>9.970366</td>\n",
              "      <td>-499.201640</td>\n",
              "      <td>7.977324</td>\n",
              "      <td>-500.255908</td>\n",
              "      <td>14.005551</td>\n",
              "      <td>-599.996129</td>\n",
              "    </tr>\n",
              "    <tr>\n",
              "      <td>2016-01-15 04:00:00</td>\n",
              "      <td>6.148599</td>\n",
              "      <td>10.142511</td>\n",
              "      <td>4.939416</td>\n",
              "      <td>42.774141</td>\n",
              "      <td>66.927016</td>\n",
              "      <td>10.360302</td>\n",
              "      <td>0.792826</td>\n",
              "      <td>16.525686</td>\n",
              "      <td>2.055292</td>\n",
              "      <td>117.988169</td>\n",
              "      <td>...</td>\n",
              "      <td>14.027298</td>\n",
              "      <td>-499.838632</td>\n",
              "      <td>11.953070</td>\n",
              "      <td>-501.053894</td>\n",
              "      <td>9.925709</td>\n",
              "      <td>-501.686727</td>\n",
              "      <td>7.894242</td>\n",
              "      <td>-500.356035</td>\n",
              "      <td>13.996647</td>\n",
              "      <td>-601.496691</td>\n",
              "    </tr>\n",
              "  </tbody>\n",
              "</table>\n",
              "<p>5 rows × 86 columns</p>\n",
              "</div>"
            ],
            "text/plain": [
              "                     final.output.concentrate_ag  final.output.concentrate_pb  \\\n",
              "date                                                                            \n",
              "2016-01-15 00:00:00                     6.055403                     9.889648   \n",
              "2016-01-15 01:00:00                     6.029369                     9.968944   \n",
              "2016-01-15 02:00:00                     6.055926                    10.213995   \n",
              "2016-01-15 03:00:00                     6.047977                     9.977019   \n",
              "2016-01-15 04:00:00                     6.148599                    10.142511   \n",
              "\n",
              "                     final.output.concentrate_sol  \\\n",
              "date                                                \n",
              "2016-01-15 00:00:00                      5.507324   \n",
              "2016-01-15 01:00:00                      5.257781   \n",
              "2016-01-15 02:00:00                      5.383759   \n",
              "2016-01-15 03:00:00                      4.858634   \n",
              "2016-01-15 04:00:00                      4.939416   \n",
              "\n",
              "                     final.output.concentrate_au  final.output.recovery  \\\n",
              "date                                                                      \n",
              "2016-01-15 00:00:00                    42.192020              70.541216   \n",
              "2016-01-15 01:00:00                    42.701629              69.266198   \n",
              "2016-01-15 02:00:00                    42.657501              68.116445   \n",
              "2016-01-15 03:00:00                    42.689819              68.347543   \n",
              "2016-01-15 04:00:00                    42.774141              66.927016   \n",
              "\n",
              "                     final.output.tail_ag  final.output.tail_pb  \\\n",
              "date                                                              \n",
              "2016-01-15 00:00:00             10.411962              0.895447   \n",
              "2016-01-15 01:00:00             10.462676              0.927452   \n",
              "2016-01-15 02:00:00             10.507046              0.953716   \n",
              "2016-01-15 03:00:00             10.422762              0.883763   \n",
              "2016-01-15 04:00:00             10.360302              0.792826   \n",
              "\n",
              "                     final.output.tail_sol  final.output.tail_au  \\\n",
              "date                                                               \n",
              "2016-01-15 00:00:00              16.904297              2.143149   \n",
              "2016-01-15 01:00:00              16.634514              2.224930   \n",
              "2016-01-15 02:00:00              16.208849              2.257889   \n",
              "2016-01-15 03:00:00              16.532835              2.146849   \n",
              "2016-01-15 04:00:00              16.525686              2.055292   \n",
              "\n",
              "                     primary_cleaner.input.sulfate  ...  \\\n",
              "date                                                ...   \n",
              "2016-01-15 00:00:00                     127.092003  ...   \n",
              "2016-01-15 01:00:00                     125.629232  ...   \n",
              "2016-01-15 02:00:00                     123.819808  ...   \n",
              "2016-01-15 03:00:00                     122.270188  ...   \n",
              "2016-01-15 04:00:00                     117.988169  ...   \n",
              "\n",
              "                     secondary_cleaner.state.floatbank4_a_air  \\\n",
              "date                                                            \n",
              "2016-01-15 00:00:00                                 14.016835   \n",
              "2016-01-15 01:00:00                                 13.992281   \n",
              "2016-01-15 02:00:00                                 14.015015   \n",
              "2016-01-15 03:00:00                                 14.036510   \n",
              "2016-01-15 04:00:00                                 14.027298   \n",
              "\n",
              "                     secondary_cleaner.state.floatbank4_a_level  \\\n",
              "date                                                              \n",
              "2016-01-15 00:00:00                                 -502.488007   \n",
              "2016-01-15 01:00:00                                 -505.503262   \n",
              "2016-01-15 02:00:00                                 -502.520901   \n",
              "2016-01-15 03:00:00                                 -500.857308   \n",
              "2016-01-15 04:00:00                                 -499.838632   \n",
              "\n",
              "                     secondary_cleaner.state.floatbank4_b_air  \\\n",
              "date                                                            \n",
              "2016-01-15 00:00:00                                 12.099931   \n",
              "2016-01-15 01:00:00                                 11.950531   \n",
              "2016-01-15 02:00:00                                 11.912783   \n",
              "2016-01-15 03:00:00                                 11.999550   \n",
              "2016-01-15 04:00:00                                 11.953070   \n",
              "\n",
              "                     secondary_cleaner.state.floatbank4_b_level  \\\n",
              "date                                                              \n",
              "2016-01-15 00:00:00                                 -504.715942   \n",
              "2016-01-15 01:00:00                                 -501.331529   \n",
              "2016-01-15 02:00:00                                 -501.133383   \n",
              "2016-01-15 03:00:00                                 -501.193686   \n",
              "2016-01-15 04:00:00                                 -501.053894   \n",
              "\n",
              "                     secondary_cleaner.state.floatbank5_a_air  \\\n",
              "date                                                            \n",
              "2016-01-15 00:00:00                                  9.925633   \n",
              "2016-01-15 01:00:00                                 10.039245   \n",
              "2016-01-15 02:00:00                                 10.070913   \n",
              "2016-01-15 03:00:00                                  9.970366   \n",
              "2016-01-15 04:00:00                                  9.925709   \n",
              "\n",
              "                     secondary_cleaner.state.floatbank5_a_level  \\\n",
              "date                                                              \n",
              "2016-01-15 00:00:00                                 -498.310211   \n",
              "2016-01-15 01:00:00                                 -500.169983   \n",
              "2016-01-15 02:00:00                                 -500.129135   \n",
              "2016-01-15 03:00:00                                 -499.201640   \n",
              "2016-01-15 04:00:00                                 -501.686727   \n",
              "\n",
              "                     secondary_cleaner.state.floatbank5_b_air  \\\n",
              "date                                                            \n",
              "2016-01-15 00:00:00                                  8.079666   \n",
              "2016-01-15 01:00:00                                  7.984757   \n",
              "2016-01-15 02:00:00                                  8.013877   \n",
              "2016-01-15 03:00:00                                  7.977324   \n",
              "2016-01-15 04:00:00                                  7.894242   \n",
              "\n",
              "                     secondary_cleaner.state.floatbank5_b_level  \\\n",
              "date                                                              \n",
              "2016-01-15 00:00:00                                 -500.470978   \n",
              "2016-01-15 01:00:00                                 -500.582168   \n",
              "2016-01-15 02:00:00                                 -500.517572   \n",
              "2016-01-15 03:00:00                                 -500.255908   \n",
              "2016-01-15 04:00:00                                 -500.356035   \n",
              "\n",
              "                     secondary_cleaner.state.floatbank6_a_air  \\\n",
              "date                                                            \n",
              "2016-01-15 00:00:00                                 14.151341   \n",
              "2016-01-15 01:00:00                                 13.998353   \n",
              "2016-01-15 02:00:00                                 14.028663   \n",
              "2016-01-15 03:00:00                                 14.005551   \n",
              "2016-01-15 04:00:00                                 13.996647   \n",
              "\n",
              "                     secondary_cleaner.state.floatbank6_a_level  \n",
              "date                                                             \n",
              "2016-01-15 00:00:00                                 -605.841980  \n",
              "2016-01-15 01:00:00                                 -599.787184  \n",
              "2016-01-15 02:00:00                                 -601.427363  \n",
              "2016-01-15 03:00:00                                 -599.996129  \n",
              "2016-01-15 04:00:00                                 -601.496691  \n",
              "\n",
              "[5 rows x 86 columns]"
            ]
          },
          "execution_count": 10,
          "metadata": {},
          "output_type": "execute_result"
        }
      ],
      "source": [
        "df_full.head()"
      ]
    },
    {
      "cell_type": "code",
      "execution_count": null,
      "metadata": {
        "colab": {
          "base_uri": "https://localhost:8080/"
        },
        "id": "F9qeIjhbfHLp",
        "outputId": "795613ae-7755-4e69-b67d-d24e40b58723"
      },
      "outputs": [
        {
          "name": "stdout",
          "output_type": "stream",
          "text": [
            "<class 'pandas.core.frame.DataFrame'>\n",
            "Index: 19439 entries, 2016-01-15 00:00:00 to 2018-08-18 10:59:59\n",
            "Data columns (total 86 columns):\n",
            "final.output.concentrate_ag                           19438 non-null float64\n",
            "final.output.concentrate_pb                           19438 non-null float64\n",
            "final.output.concentrate_sol                          19228 non-null float64\n",
            "final.output.concentrate_au                           19439 non-null float64\n",
            "final.output.recovery                                 19439 non-null float64\n",
            "final.output.tail_ag                                  19438 non-null float64\n",
            "final.output.tail_pb                                  19338 non-null float64\n",
            "final.output.tail_sol                                 19433 non-null float64\n",
            "final.output.tail_au                                  19439 non-null float64\n",
            "primary_cleaner.input.sulfate                         19415 non-null float64\n",
            "primary_cleaner.input.depressant                      19402 non-null float64\n",
            "primary_cleaner.input.feed_size                       19439 non-null float64\n",
            "primary_cleaner.input.xanthate                        19335 non-null float64\n",
            "primary_cleaner.output.concentrate_ag                 19439 non-null float64\n",
            "primary_cleaner.output.concentrate_pb                 19323 non-null float64\n",
            "primary_cleaner.output.concentrate_sol                19069 non-null float64\n",
            "primary_cleaner.output.concentrate_au                 19439 non-null float64\n",
            "primary_cleaner.output.tail_ag                        19435 non-null float64\n",
            "primary_cleaner.output.tail_pb                        19418 non-null float64\n",
            "primary_cleaner.output.tail_sol                       19377 non-null float64\n",
            "primary_cleaner.output.tail_au                        19439 non-null float64\n",
            "primary_cleaner.state.floatbank8_a_air                19435 non-null float64\n",
            "primary_cleaner.state.floatbank8_a_level              19438 non-null float64\n",
            "primary_cleaner.state.floatbank8_b_air                19435 non-null float64\n",
            "primary_cleaner.state.floatbank8_b_level              19438 non-null float64\n",
            "primary_cleaner.state.floatbank8_c_air                19437 non-null float64\n",
            "primary_cleaner.state.floatbank8_c_level              19438 non-null float64\n",
            "primary_cleaner.state.floatbank8_d_air                19436 non-null float64\n",
            "primary_cleaner.state.floatbank8_d_level              19438 non-null float64\n",
            "rougher.calculation.sulfate_to_au_concentrate         19437 non-null float64\n",
            "rougher.calculation.floatbank10_sulfate_to_au_feed    19437 non-null float64\n",
            "rougher.calculation.floatbank11_sulfate_to_au_feed    19437 non-null float64\n",
            "rougher.calculation.au_pb_ratio                       19439 non-null float64\n",
            "rougher.input.feed_ag                                 19439 non-null float64\n",
            "rougher.input.feed_pb                                 19339 non-null float64\n",
            "rougher.input.feed_rate                               19428 non-null float64\n",
            "rougher.input.feed_size                               19294 non-null float64\n",
            "rougher.input.feed_sol                                19340 non-null float64\n",
            "rougher.input.feed_au                                 19439 non-null float64\n",
            "rougher.input.floatbank10_sulfate                     19405 non-null float64\n",
            "rougher.input.floatbank10_xanthate                    19431 non-null float64\n",
            "rougher.input.floatbank11_sulfate                     19395 non-null float64\n",
            "rougher.input.floatbank11_xanthate                    18986 non-null float64\n",
            "rougher.output.concentrate_ag                         19439 non-null float64\n",
            "rougher.output.concentrate_pb                         19439 non-null float64\n",
            "rougher.output.concentrate_sol                        19416 non-null float64\n",
            "rougher.output.concentrate_au                         19439 non-null float64\n",
            "rougher.output.recovery                               19439 non-null float64\n",
            "rougher.output.tail_ag                                19438 non-null float64\n",
            "rougher.output.tail_pb                                19439 non-null float64\n",
            "rougher.output.tail_sol                               19439 non-null float64\n",
            "rougher.output.tail_au                                19439 non-null float64\n",
            "rougher.state.floatbank10_a_air                       19438 non-null float64\n",
            "rougher.state.floatbank10_a_level                     19438 non-null float64\n",
            "rougher.state.floatbank10_b_air                       19438 non-null float64\n",
            "rougher.state.floatbank10_b_level                     19438 non-null float64\n",
            "rougher.state.floatbank10_c_air                       19438 non-null float64\n",
            "rougher.state.floatbank10_c_level                     19438 non-null float64\n",
            "rougher.state.floatbank10_d_air                       19439 non-null float64\n",
            "rougher.state.floatbank10_d_level                     19439 non-null float64\n",
            "rougher.state.floatbank10_e_air                       19003 non-null float64\n",
            "rougher.state.floatbank10_e_level                     19439 non-null float64\n",
            "rougher.state.floatbank10_f_air                       19439 non-null float64\n",
            "rougher.state.floatbank10_f_level                     19439 non-null float64\n",
            "secondary_cleaner.output.tail_ag                      19437 non-null float64\n",
            "secondary_cleaner.output.tail_pb                      19427 non-null float64\n",
            "secondary_cleaner.output.tail_sol                     17691 non-null float64\n",
            "secondary_cleaner.output.tail_au                      19439 non-null float64\n",
            "secondary_cleaner.state.floatbank2_a_air              19219 non-null float64\n",
            "secondary_cleaner.state.floatbank2_a_level            19438 non-null float64\n",
            "secondary_cleaner.state.floatbank2_b_air              19416 non-null float64\n",
            "secondary_cleaner.state.floatbank2_b_level            19438 non-null float64\n",
            "secondary_cleaner.state.floatbank3_a_air              19426 non-null float64\n",
            "secondary_cleaner.state.floatbank3_a_level            19438 non-null float64\n",
            "secondary_cleaner.state.floatbank3_b_air              19438 non-null float64\n",
            "secondary_cleaner.state.floatbank3_b_level            19438 non-null float64\n",
            "secondary_cleaner.state.floatbank4_a_air              19433 non-null float64\n",
            "secondary_cleaner.state.floatbank4_a_level            19438 non-null float64\n",
            "secondary_cleaner.state.floatbank4_b_air              19438 non-null float64\n",
            "secondary_cleaner.state.floatbank4_b_level            19438 non-null float64\n",
            "secondary_cleaner.state.floatbank5_a_air              19438 non-null float64\n",
            "secondary_cleaner.state.floatbank5_a_level            19438 non-null float64\n",
            "secondary_cleaner.state.floatbank5_b_air              19438 non-null float64\n",
            "secondary_cleaner.state.floatbank5_b_level            19438 non-null float64\n",
            "secondary_cleaner.state.floatbank6_a_air              19437 non-null float64\n",
            "secondary_cleaner.state.floatbank6_a_level            19438 non-null float64\n",
            "dtypes: float64(86)\n",
            "memory usage: 12.9+ MB\n"
          ]
        }
      ],
      "source": [
        "df_full.info()"
      ]
    },
    {
      "cell_type": "markdown",
      "metadata": {
        "id": "8GhJXd6R_eEx"
      },
      "source": [
        "**Описание данных**  \n",
        "\n",
        "*Технологический процесс*\n",
        "- `Rougher feed` — исходное сырье\n",
        "- `Rougher additions` (или reagent additions) — флотационные реагенты: Xanthate, - `Sulphate, Depressant\n",
        "- `Xanthate` **— ксантогенат (промотер, или активатор флотации);\n",
        "- `Sulphate` — сульфат (на данном производстве сульфид натрия);\n",
        "- `Depressant` — депрессант (силикат натрия).\n",
        "- `Rougher process` (англ. «грубый процесс») — флотация\n",
        "- `Rougher tails` — отвальные хвосты\n",
        "- `Float banks` — флотационная установка\n",
        "- `Cleaner process` — очистка\n",
        "- `Rougher Au` — черновой концентрат золота\n",
        "- `Final Au` — финальный концентрат золота \n",
        "\n",
        "*Параметры этапов*\n",
        "- `air amount` — объём воздуха\n",
        "- `fluid levels` — уровень жидкости\n",
        "- `feed size` — размер гранул сырья\n",
        "- `feed rate` — скорость подачи  \n",
        "\n",
        "*Наименование признаков*  \n",
        "\n",
        "Наименование признаков должно быть такое:  \n",
        "`[этап].[тип_параметра].[название_параметра]`  \n",
        "Пример: rougher.input.feed_ag  \n",
        "\n",
        "*Возможные значения для блока [этап]:*\n",
        "- `rougher` — флотация\n",
        "- `primary_cleaner` — первичная очистка\n",
        "- `secondary_cleaner` — вторичная очистка\n",
        "- `final` — финальные характеристики  \n",
        "\n",
        "*Возможные значения для блока [тип_параметра]:*\n",
        "- `input` — параметры сырья\n",
        "- `output` — параметры продукта\n",
        "- `state` — параметры, характеризующие текущее состояние этапа\n",
        "- `calculation` — расчётные характеристики"
      ]
    },
    {
      "cell_type": "markdown",
      "metadata": {
        "id": "byQbBDUjgNYS"
      },
      "source": [
        "Сравним, действительно ли обущающая и тестовая выборки взяти из сходной:"
      ]
    },
    {
      "cell_type": "code",
      "execution_count": null,
      "metadata": {
        "colab": {
          "base_uri": "https://localhost:8080/"
        },
        "id": "HJuwR0F5fHJh",
        "outputId": "7608e949-33a6-41d4-e5d9-f2adffa3487a"
      },
      "outputs": [
        {
          "data": {
            "text/plain": [
              "0"
            ]
          },
          "execution_count": 12,
          "metadata": {},
          "output_type": "execute_result"
        }
      ],
      "source": [
        "len(df_train) + len(df_test) - len(df_full)"
      ]
    },
    {
      "cell_type": "markdown",
      "metadata": {
        "id": "0SV1etN-fHHU"
      },
      "source": [
        "### Проверка рассчета эффективности обогащения  \n",
        "\n",
        "Проверим, что эффективность обогащения рассчитана правильно. Вычислим её на обучающей выборке для признака rougher.output.recovery и найдем MAE между  расчётами и значением признака."
      ]
    },
    {
      "cell_type": "markdown",
      "metadata": {
        "id": "HbSpfxTlAbWV"
      },
      "source": [
        "Эффективность обогащения рассчитывается по формуле: \n",
        "\n",
        "![image.png](data:image/png;base64,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),\n",
        "\n",
        "где:   \n",
        "- `C` — доля золота в концентрате после флотации/очистки, колонка: `rougher.output.concentrate_au`;\n",
        "- `F` — доля золота в сырье/концентрате до флотации/очистки, колонка: `rougher.input.feed_au`;\n",
        "- `T` — доля золота в отвальных хвостах после флотации/очистки, колонка: `rougher.output.tail_au`."
      ]
    },
    {
      "cell_type": "code",
      "execution_count": null,
      "metadata": {
        "id": "fZIyW_OxA1QD"
      },
      "outputs": [],
      "source": [
        "C = df_train.loc[~df_train['rougher.output.recovery'].isna(), 'rougher.output.concentrate_au']\n",
        "F = df_train.loc[~df_train['rougher.output.recovery'].isna(), 'rougher.input.feed_au']\n",
        "T = df_train.loc[~df_train['rougher.output.recovery'].isna(), 'rougher.output.tail_au']"
      ]
    },
    {
      "cell_type": "markdown",
      "metadata": {
        "id": "TPMILaHOgkoN"
      },
      "source": [
        "Создадим столбце `rougher.output.calculated`, в который положим значения эффетивности обогащения:"
      ]
    },
    {
      "cell_type": "code",
      "execution_count": null,
      "metadata": {
        "colab": {
          "base_uri": "https://localhost:8080/"
        },
        "id": "ha2hSa-6gjMe",
        "outputId": "102156a4-9450-4123-b6bd-e77153526a0b"
      },
      "outputs": [
        {
          "data": {
            "text/plain": [
              "date\n",
              "2016-01-15 00:00:00    87.107763\n",
              "2016-01-15 01:00:00    86.843261\n",
              "2016-01-15 02:00:00    86.842308\n",
              "2016-01-15 03:00:00    87.226430\n",
              "2016-01-15 04:00:00    86.688794\n",
              "Name: rougher.output.calculated, dtype: float64"
            ]
          },
          "execution_count": 14,
          "metadata": {},
          "output_type": "execute_result"
        }
      ],
      "source": [
        "df_train['rougher.output.calculated'] = C * (F - T) / (F * (C - T)) * 100\n",
        "df_train['rougher.output.calculated'].head()"
      ]
    },
    {
      "cell_type": "markdown",
      "metadata": {
        "id": "RbKnkpsog3L1"
      },
      "source": [
        "Выведем на экран значения на обучающей выборке:"
      ]
    },
    {
      "cell_type": "code",
      "execution_count": null,
      "metadata": {
        "colab": {
          "base_uri": "https://localhost:8080/"
        },
        "id": "EmA0hC8RFO9i",
        "outputId": "1be64602-ee8c-4edc-e798-3fda596e4fd3"
      },
      "outputs": [
        {
          "data": {
            "text/plain": [
              "date\n",
              "2016-01-15 00:00:00    87.107763\n",
              "2016-01-15 01:00:00    86.843261\n",
              "2016-01-15 02:00:00    86.842308\n",
              "2016-01-15 03:00:00    87.226430\n",
              "2016-01-15 04:00:00    86.688794\n",
              "Name: rougher.output.recovery, dtype: float64"
            ]
          },
          "execution_count": 15,
          "metadata": {},
          "output_type": "execute_result"
        }
      ],
      "source": [
        "rough_recov_train = df_train.loc[~df_train['rougher.output.recovery'].isna(), 'rougher.output.recovery']\n",
        "rough_recov_train.head()"
      ]
    },
    {
      "cell_type": "markdown",
      "metadata": {
        "id": "6-YLS4CPhDMS"
      },
      "source": [
        "Рассчитаем MAE:"
      ]
    },
    {
      "cell_type": "code",
      "execution_count": null,
      "metadata": {
        "colab": {
          "base_uri": "https://localhost:8080/"
        },
        "id": "o8Ac6DV2A1LJ",
        "outputId": "3d772c00-8702-4b24-da8d-ae621bfb29b7"
      },
      "outputs": [
        {
          "data": {
            "text/plain": [
              "9.682896147825551e-15"
            ]
          },
          "execution_count": 16,
          "metadata": {},
          "output_type": "execute_result"
        }
      ],
      "source": [
        "mean_absolute_error(df_train['rougher.output.recovery'], df_train['rougher.output.calculated'])"
      ]
    },
    {
      "cell_type": "markdown",
      "metadata": {
        "id": "FME_HAsYA1JN"
      },
      "source": [
        "Вывод"
      ]
    },
    {
      "cell_type": "markdown",
      "metadata": {
        "id": "ePrNhrXCA1Hd"
      },
      "source": [
        "Метрика MAE достаточно мала, следовательно, показатель эффективности рассчитан верно"
      ]
    },
    {
      "cell_type": "markdown",
      "metadata": {
        "id": "rihd2IpxAbUi"
      },
      "source": [
        "### Анализ признаков, недоступных в тестовой выборке\n",
        "\n",
        "Проведем аналищ признаков, недоступных в тестовой выборке:"
      ]
    },
    {
      "cell_type": "code",
      "execution_count": null,
      "metadata": {
        "id": "My70nVs8GWQd"
      },
      "outputs": [],
      "source": [
        "out_test_list = sorted(list(set(list(df_full.columns)) - set(list(df_test.columns))))"
      ]
    },
    {
      "cell_type": "markdown",
      "metadata": {
        "id": "SVqzg7J8hSFr"
      },
      "source": [
        "Выведем количество отсутсвующих признаков:"
      ]
    },
    {
      "cell_type": "code",
      "execution_count": null,
      "metadata": {
        "colab": {
          "base_uri": "https://localhost:8080/"
        },
        "id": "fer30Te2GWNz",
        "outputId": "ef021fda-1b46-45f8-8308-75e36c083102"
      },
      "outputs": [
        {
          "data": {
            "text/plain": [
              "34"
            ]
          },
          "execution_count": 18,
          "metadata": {},
          "output_type": "execute_result"
        }
      ],
      "source": [
        "len(out_test_list)"
      ]
    },
    {
      "cell_type": "markdown",
      "metadata": {
        "id": "sxAahA_ohV9K"
      },
      "source": [
        "Выведем отсутсвующие признаки:"
      ]
    },
    {
      "cell_type": "code",
      "execution_count": null,
      "metadata": {
        "colab": {
          "base_uri": "https://localhost:8080/"
        },
        "id": "UWf0MotdGWJK",
        "outputId": "45426644-33c9-4df6-902b-282b5fafd145"
      },
      "outputs": [
        {
          "data": {
            "text/plain": [
              "['final.output.concentrate_ag',\n",
              " 'final.output.concentrate_au',\n",
              " 'final.output.concentrate_pb',\n",
              " 'final.output.concentrate_sol',\n",
              " 'final.output.recovery',\n",
              " 'final.output.tail_ag',\n",
              " 'final.output.tail_au',\n",
              " 'final.output.tail_pb',\n",
              " 'final.output.tail_sol',\n",
              " 'primary_cleaner.output.concentrate_ag',\n",
              " 'primary_cleaner.output.concentrate_au',\n",
              " 'primary_cleaner.output.concentrate_pb',\n",
              " 'primary_cleaner.output.concentrate_sol',\n",
              " 'primary_cleaner.output.tail_ag',\n",
              " 'primary_cleaner.output.tail_au',\n",
              " 'primary_cleaner.output.tail_pb',\n",
              " 'primary_cleaner.output.tail_sol',\n",
              " 'rougher.calculation.au_pb_ratio',\n",
              " 'rougher.calculation.floatbank10_sulfate_to_au_feed',\n",
              " 'rougher.calculation.floatbank11_sulfate_to_au_feed',\n",
              " 'rougher.calculation.sulfate_to_au_concentrate',\n",
              " 'rougher.output.concentrate_ag',\n",
              " 'rougher.output.concentrate_au',\n",
              " 'rougher.output.concentrate_pb',\n",
              " 'rougher.output.concentrate_sol',\n",
              " 'rougher.output.recovery',\n",
              " 'rougher.output.tail_ag',\n",
              " 'rougher.output.tail_au',\n",
              " 'rougher.output.tail_pb',\n",
              " 'rougher.output.tail_sol',\n",
              " 'secondary_cleaner.output.tail_ag',\n",
              " 'secondary_cleaner.output.tail_au',\n",
              " 'secondary_cleaner.output.tail_pb',\n",
              " 'secondary_cleaner.output.tail_sol']"
            ]
          },
          "execution_count": 19,
          "metadata": {},
          "output_type": "execute_result"
        }
      ],
      "source": [
        "out_test_list"
      ]
    },
    {
      "cell_type": "markdown",
      "metadata": {
        "id": "mw7XSLJjGWEn"
      },
      "source": [
        "Вывод\n",
        "- В тестовой выборке отсутствуют выходные параметры продукта `output` на каждом этапе техпроцесса. Это концентраты и \"отвальные хвосты\" для металлов и солей, а также рассчитанное `recovery` на разных этапах. Эти данные в любом случае не подходят для тренировки модели, так как появляются во время или после измерения целевых признаков.\n",
        "- Также в тестовой выборке отсутствуют расчётные признаки на этапе флотации `rougher.calculation` (концентрация сульфатов относительно золота, соотношение золота и свинца, и др.)."
      ]
    },
    {
      "cell_type": "markdown",
      "metadata": {
        "id": "CDS5E5z9AbQn"
      },
      "source": [
        "### Предобработка данных"
      ]
    },
    {
      "cell_type": "markdown",
      "metadata": {
        "id": "fOSu0dokhqX2"
      },
      "source": [
        "Посмотрим размер тестовой выборки:"
      ]
    },
    {
      "cell_type": "code",
      "execution_count": null,
      "metadata": {
        "colab": {
          "base_uri": "https://localhost:8080/"
        },
        "id": "7mR7566bKaIq",
        "outputId": "6b70ab77-b614-41fe-b855-f168ef7b9980"
      },
      "outputs": [
        {
          "data": {
            "text/plain": [
              "(5290, 52)"
            ]
          },
          "execution_count": 20,
          "metadata": {},
          "output_type": "execute_result"
        }
      ],
      "source": [
        "df_test.shape"
      ]
    },
    {
      "cell_type": "markdown",
      "metadata": {
        "id": "j4y6S3EshteZ"
      },
      "source": [
        "Выведем размер обучающей выборки:"
      ]
    },
    {
      "cell_type": "code",
      "execution_count": null,
      "metadata": {
        "colab": {
          "base_uri": "https://localhost:8080/"
        },
        "id": "pV9lBeJKKaJ7",
        "outputId": "f1de35a3-88e9-4243-f23c-e26e06965704"
      },
      "outputs": [
        {
          "data": {
            "text/plain": [
              "(14149, 52)"
            ]
          },
          "execution_count": 21,
          "metadata": {},
          "output_type": "execute_result"
        }
      ],
      "source": [
        "df_train = df_train[df_test.columns]\n",
        "df_train.shape"
      ]
    },
    {
      "cell_type": "markdown",
      "metadata": {
        "id": "yuFM2JOOhwdQ"
      },
      "source": [
        "Выведем долю пропущенных значений в признаках тестовой выборки:"
      ]
    },
    {
      "cell_type": "code",
      "execution_count": null,
      "metadata": {
        "colab": {
          "base_uri": "https://localhost:8080/"
        },
        "id": "1_spkgbXKaGl",
        "outputId": "f58b5dcd-acc2-49e9-b7be-53fb9b7db9b0"
      },
      "outputs": [
        {
          "data": {
            "text/plain": [
              "rougher.input.floatbank11_xanthate          0.004726\n",
              "rougher.input.feed_sol                      0.003970\n",
              "secondary_cleaner.state.floatbank3_a_air    0.001701\n",
              "rougher.input.floatbank11_sulfate           0.001512\n",
              "primary_cleaner.input.depressant            0.000945\n",
              "rougher.input.floatbank10_sulfate           0.000945\n",
              "primary_cleaner.input.sulfate               0.000756\n",
              "primary_cleaner.input.xanthate              0.000756\n",
              "secondary_cleaner.state.floatbank2_a_air    0.000567\n",
              "rougher.input.feed_rate                     0.000567\n",
              "secondary_cleaner.state.floatbank2_b_air    0.000378\n",
              "rougher.input.feed_size                     0.000189\n",
              "primary_cleaner.input.feed_size             0.000000\n",
              "rougher.input.floatbank10_xanthate          0.000000\n",
              "primary_cleaner.state.floatbank8_a_air      0.000000\n",
              "dtype: float64"
            ]
          },
          "execution_count": 22,
          "metadata": {},
          "output_type": "execute_result"
        }
      ],
      "source": [
        "df_test.isna().mean().sort_values(ascending=False).head(15)"
      ]
    },
    {
      "cell_type": "markdown",
      "metadata": {
        "id": "wP9lgKCkh2hI"
      },
      "source": [
        "Выведем долю пропущенных значений в признаках обущающей выборки:"
      ]
    },
    {
      "cell_type": "code",
      "execution_count": null,
      "metadata": {
        "colab": {
          "base_uri": "https://localhost:8080/"
        },
        "id": "lXfVhhipKaE0",
        "outputId": "4485887b-f826-4fb8-ed44-5b8488304c3e"
      },
      "outputs": [
        {
          "data": {
            "text/plain": [
              "rougher.state.floatbank10_e_air             0.030815\n",
              "rougher.input.floatbank11_xanthate          0.030249\n",
              "secondary_cleaner.state.floatbank2_a_air    0.015337\n",
              "rougher.input.feed_size                     0.010177\n",
              "primary_cleaner.input.xanthate              0.007068\n",
              "rougher.input.feed_pb                       0.007068\n",
              "rougher.input.feed_sol                      0.005513\n",
              "rougher.input.floatbank11_sulfate           0.002544\n",
              "primary_cleaner.input.depressant            0.002262\n",
              "rougher.input.floatbank10_sulfate           0.002050\n",
              "secondary_cleaner.state.floatbank2_b_air    0.001484\n",
              "primary_cleaner.input.sulfate               0.001414\n",
              "rougher.input.floatbank10_xanthate          0.000565\n",
              "rougher.input.feed_rate                     0.000565\n",
              "secondary_cleaner.state.floatbank4_a_air    0.000424\n",
              "dtype: float64"
            ]
          },
          "execution_count": 23,
          "metadata": {},
          "output_type": "execute_result"
        }
      ],
      "source": [
        "df_train.isna().mean().sort_values(ascending=False).head(15)"
      ]
    },
    {
      "cell_type": "markdown",
      "metadata": {
        "id": "VyS36JCFh9Te"
      },
      "source": [
        "Исходя из условий сборка данных, а именно: \"Данные индексируются датой и временем получения информации (признак date). Соседние по времени параметры часто похожи\", воспользуется методом заполнения пропущенных значений \"ffill\":"
      ]
    },
    {
      "cell_type": "code",
      "execution_count": null,
      "metadata": {
        "id": "ULyBuOPVKaC2"
      },
      "outputs": [],
      "source": [
        "df_train.fillna(method='ffill', inplace=True)"
      ]
    },
    {
      "cell_type": "code",
      "execution_count": null,
      "metadata": {
        "id": "xTunrQeUKaAq"
      },
      "outputs": [],
      "source": [
        "df_test.fillna(method='ffill', inplace=True)"
      ]
    },
    {
      "cell_type": "markdown",
      "metadata": {
        "id": "2x-ICby0iVje"
      },
      "source": [
        "Предобработка выполнена"
      ]
    },
    {
      "cell_type": "markdown",
      "metadata": {
        "id": "EULVr56bcmSw"
      },
      "source": [
        "## Анализ данных"
      ]
    },
    {
      "cell_type": "markdown",
      "metadata": {
        "id": "kwdOWGYccmSx"
      },
      "source": [
        "### Концентрация металлов\n",
        "Посмотрим, как меняется концентрация металлов (Au, Ag, Pb) на различных этапах очистки\n"
      ]
    },
    {
      "cell_type": "markdown",
      "metadata": {
        "id": "lgJepcVbibPW"
      },
      "source": [
        "Определим функцию для постраения распределений и диаграмммы размаха:"
      ]
    },
    {
      "cell_type": "code",
      "execution_count": null,
      "metadata": {
        "id": "bN6jh-PtgW8u"
      },
      "outputs": [],
      "source": [
        "def metall_concentration(metall, pltx, plty):\n",
        "  plt.figure(figsize=(20, 5))\n",
        "  sns.histplot(data=df_full, x=f\"rougher.input.feed_{metall}\", kde=True, bins=30, color='grey')\n",
        "  sns.histplot(data=df_full, x=f\"rougher.output.concentrate_{metall}\", kde=True, bins=30, color='red')\n",
        "  sns.histplot(data=df_full, x=f\"primary_cleaner.output.concentrate_{metall}\", kde=True, bins=30, color='yellow')\n",
        "  sns.histplot(data=df_full, x=f\"final.output.concentrate_{metall}\", kde=True, bins=30, color='green')\n",
        "  plt.title(f'Распределение концентрации {metall} на различных этапах очистки')\n",
        "  plt.ylabel('Количество')\n",
        "  plt.xlabel('Концентрация')\n",
        "  plt.grid(color='grey', axis='both', alpha=0.5)\n",
        "  plt.xticks(pltx)\n",
        "  plt.yticks(plty)\n",
        "  plt.legend(['Начальный этап', 'Этап флотации', 'Первичная очистка', 'Финальный этап'])\n",
        "  plt.show()\n",
        "  plt.rcParams['figure.figsize']=(17, 3)\n",
        "  sns.boxplot( data=df_full[[f'rougher.input.feed_{metall}',\n",
        "                             f'rougher.output.concentrate_{metall}',\n",
        "                             f'primary_cleaner.output.concentrate_{metall}',\n",
        "                             f'final.output.concentrate_{metall}']], orient=\"h\" )\n",
        "  plt.title(f'Диаграмма размаха концентрации {metall} на различных этапах очистки')\n",
        "  plt.ylabel('Наименование этапа')\n",
        "  plt.xlabel('Концентрация')\n",
        "  plt.grid(color='grey', axis='both', alpha=.8)\n",
        "  plt.xticks(pltx)\n",
        "  plt.show()"
      ]
    },
    {
      "cell_type": "markdown",
      "metadata": {
        "id": "ZREWbEL9if02"
      },
      "source": [
        "Выведем на экран концентрацию Золота на различных этапах очистки:"
      ]
    },
    {
      "cell_type": "code",
      "execution_count": null,
      "metadata": {
        "colab": {
          "base_uri": "https://localhost:8080/",
          "height": 574
        },
        "id": "XkvBEMptiRal",
        "outputId": "718c34f2-b116-49a9-f31f-a990ba80c10d"
      },
      "outputs": [
        {
          "data": {
            "image/png": "[encoded data removed]",
            "text/plain": [
              "<Figure size 1440x360 with 1 Axes>"
            ]
          },
          "metadata": {
            "needs_background": "light"
          },
          "output_type": "display_data"
        },
        {
          "data": {
            "image/png": "[encoded data removed]",
            "text/plain": [
              "<Figure size 1224x216 with 1 Axes>"
            ]
          },
          "metadata": {
            "needs_background": "light"
          },
          "output_type": "display_data"
        }
      ],
      "source": [
        "metall_concentration(metall='au', pltx=np.arange(0, 56, 2), plty=np.arange(0, 6000, 500))"
      ]
    },
    {
      "cell_type": "markdown",
      "metadata": {
        "id": "a0HLA7J9isXE"
      },
      "source": [
        "Как мы видим, по мере прохождения исходного материала последовательно по стадиям технологического процесса, доля золота в концентрате возрастает"
      ]
    },
    {
      "cell_type": "markdown",
      "metadata": {
        "id": "lsLk1Cb-itM1"
      },
      "source": [
        "Выведем на экран концентрацию Серебра на различных этапах очистки:"
      ]
    },
    {
      "cell_type": "code",
      "execution_count": null,
      "metadata": {
        "colab": {
          "base_uri": "https://localhost:8080/",
          "height": 574
        },
        "id": "SXLxrh1qd-lO",
        "outputId": "54890365-3cbf-4753-e146-f20e72f85f45"
      },
      "outputs": [
        {
          "data": {
            "image/png": "[encoded data removed]",
            "text/plain": [
              "<Figure size 1440x360 with 1 Axes>"
            ]
          },
          "metadata": {
            "needs_background": "light"
          },
          "output_type": "display_data"
        },
        {
          "data": {
            "image/png": "[encoded data removed]",
            "text/plain": [
              "<Figure size 1224x216 with 1 Axes>"
            ]
          },
          "metadata": {
            "needs_background": "light"
          },
          "output_type": "display_data"
        }
      ],
      "source": [
        "metall_concentration(metall='ag', pltx=np.arange(0, 26, 1), plty=np.arange(0, 3500, 250))"
      ]
    },
    {
      "cell_type": "markdown",
      "metadata": {
        "id": "ULFpXakTi7Vn"
      },
      "source": [
        "На каждом этапе распределение становится меньше, а конценрация серебра снижается, но при этом при флотации концентрация повысилась, а дальше спуск."
      ]
    },
    {
      "cell_type": "markdown",
      "metadata": {
        "id": "JO6GFw4RjHKt"
      },
      "source": [
        "Выведем на экран концентрацию Свинца на различных этапах очистки:"
      ]
    },
    {
      "cell_type": "code",
      "execution_count": null,
      "metadata": {
        "colab": {
          "base_uri": "https://localhost:8080/",
          "height": 574
        },
        "id": "jvDO1MutWWcn",
        "outputId": "6395b687-4b34-4030-a5a3-8bae49ecea1c"
      },
      "outputs": [
        {
          "data": {
            "image/png": "[encoded data removed]",
            "text/plain": [
              "<Figure size 1440x360 with 1 Axes>"
            ]
          },
          "metadata": {
            "needs_background": "light"
          },
          "output_type": "display_data"
        },
        {
          "data": {
            "image/png": "[encoded data removed]",
            "text/plain": [
              "<Figure size 1224x216 with 1 Axes>"
            ]
          },
          "metadata": {
            "needs_background": "light"
          },
          "output_type": "display_data"
        }
      ],
      "source": [
        "metall_concentration(metall='pb', pltx=np.arange(0, 18, 1), plty=np.arange(0, 3500, 250))"
      ]
    },
    {
      "cell_type": "markdown",
      "metadata": {
        "id": "PVnLlJWNWWV_"
      },
      "source": [
        "С начального до первичной очистки этапов концетрация свинца немного повышается, но на финальном этапе снижается."
      ]
    },
    {
      "cell_type": "markdown",
      "metadata": {
        "id": "fWkkvBSqVR55"
      },
      "source": [
        "### Распределения размеров гранул сырья\n",
        "Сравним распределения размеров гранул сырья на обучающей и тестовой выборках\n"
      ]
    },
    {
      "cell_type": "markdown",
      "metadata": {
        "id": "a3-UKmkUjbWk"
      },
      "source": [
        "Построим графики распределения:"
      ]
    },
    {
      "cell_type": "code",
      "execution_count": null,
      "metadata": {
        "colab": {
          "base_uri": "https://localhost:8080/",
          "height": 350
        },
        "id": "f5ZpqSL6kj9j",
        "outputId": "98d4d1f2-a159-48a0-d593-fa8623e83f90"
      },
      "outputs": [
        {
          "data": {
            "image/png": "[encoded data removed]",
            "text/plain": [
              "<Figure size 1440x360 with 1 Axes>"
            ]
          },
          "metadata": {
            "needs_background": "light"
          },
          "output_type": "display_data"
        }
      ],
      "source": [
        "plt.figure(figsize=(20, 5))\n",
        "sns.histplot(data=df_train, x='primary_cleaner.input.feed_size', kde=True, bins=30, color='blue')\n",
        "sns.histplot(data=df_test, x='primary_cleaner.input.feed_size', kde=True, bins=30, color='red')\n",
        "plt.title(f'Распределение размера гранул сырья на выборках')\n",
        "plt.ylabel('Количество')\n",
        "plt.xlabel('Размер гранулы')\n",
        "plt.grid(color='grey', axis='both', alpha=0.5)\n",
        "plt.xticks(np.arange(0, 18, 2))\n",
        "plt.yticks(np.arange(0, 4000, 500))\n",
        "plt.legend(['Обучающая выборка', 'Тестовая выборка'])\n",
        "plt.show()"
      ]
    },
    {
      "cell_type": "markdown",
      "metadata": {
        "id": "dKJ-_GW4kytN"
      },
      "source": [
        "Выведем статистические показатели размера гранул сырья:"
      ]
    },
    {
      "cell_type": "code",
      "execution_count": null,
      "metadata": {
        "colab": {
          "base_uri": "https://localhost:8080/"
        },
        "id": "SZe63B4ckreN",
        "outputId": "08497b50-0661-4785-d40b-9a384151436a"
      },
      "outputs": [
        {
          "data": {
            "text/plain": [
              "count    14149.000000\n",
              "mean         7.322310\n",
              "std          0.614062\n",
              "min          1.080000\n",
              "25%          6.960000\n",
              "50%          7.290000\n",
              "75%          7.700000\n",
              "max         10.470000\n",
              "Name: primary_cleaner.input.feed_size, dtype: float64"
            ]
          },
          "execution_count": 31,
          "metadata": {},
          "output_type": "execute_result"
        }
      ],
      "source": [
        "df_train['primary_cleaner.input.feed_size'].describe()"
      ]
    },
    {
      "cell_type": "code",
      "execution_count": null,
      "metadata": {
        "colab": {
          "base_uri": "https://localhost:8080/"
        },
        "id": "999TY6_zktvN",
        "outputId": "6bb281b4-90c6-4943-ffe0-1f0ba824809d"
      },
      "outputs": [
        {
          "data": {
            "text/plain": [
              "count    5290.000000\n",
              "mean        7.266339\n",
              "std         0.610219\n",
              "min         5.650000\n",
              "25%         6.890000\n",
              "50%         7.250000\n",
              "75%         7.600000\n",
              "max        15.500000\n",
              "Name: primary_cleaner.input.feed_size, dtype: float64"
            ]
          },
          "execution_count": 32,
          "metadata": {},
          "output_type": "execute_result"
        }
      ],
      "source": [
        "df_test['primary_cleaner.input.feed_size'].describe()"
      ]
    },
    {
      "cell_type": "markdown",
      "metadata": {
        "id": "-yFegrEoj-U-"
      },
      "source": [
        "Выведем диаграмму размаха:"
      ]
    },
    {
      "cell_type": "code",
      "execution_count": null,
      "metadata": {
        "colab": {
          "base_uri": "https://localhost:8080/",
          "height": 435
        },
        "id": "IirbmyXPkj0k",
        "outputId": "f3976a1d-a651-4e85-8ae1-06f2222aba56"
      },
      "outputs": [
        {
          "data": {
            "image/png": "[encoded data removed]",
            "text/plain": [
              "<Figure size 1224x216 with 1 Axes>"
            ]
          },
          "metadata": {
            "needs_background": "light"
          },
          "output_type": "display_data"
        },
        {
          "data": {
            "image/png": "[encoded data removed]",
            "text/plain": [
              "<Figure size 1224x216 with 1 Axes>"
            ]
          },
          "metadata": {
            "needs_background": "light"
          },
          "output_type": "display_data"
        }
      ],
      "source": [
        "plt.rcParams['figure.figsize']=(17, 3)\n",
        "sns.boxplot(data=df_train['primary_cleaner.input.feed_size'][(df_train['primary_cleaner.input.feed_size'] > 5) & (df_train['primary_cleaner.input.feed_size'] <9)], orient=\"h\" )\n",
        "plt.title(f'Диаграмма размаха концентрации на различных этапах очистки')\n",
        "plt.ylabel('Наименование этапа')\n",
        "plt.xlabel('Концентрация')\n",
        "plt.grid(color='grey', axis='both', alpha=.8)\n",
        "plt.xticks(np.arange(0, 12, 1))\n",
        "plt.show()\n",
        "\n",
        "plt.rcParams['figure.figsize']=(17, 3)\n",
        "sns.boxplot( data=df_test['primary_cleaner.input.feed_size'][(df_test['primary_cleaner.input.feed_size'] > 5) & (df_test['primary_cleaner.input.feed_size'] <9)], orient=\"h\" )\n",
        "plt.grid(color='grey', axis='both', alpha=.8)\n",
        "plt.xticks(np.arange(0, 12, 1))\n",
        "plt.show()"
      ]
    },
    {
      "cell_type": "markdown",
      "metadata": {
        "id": "_rCtyLFUkjyI"
      },
      "source": [
        "Размеры гранул в обучающей и тестовой выборках имеются очень сходижие распределения, а также близкие средние значения."
      ]
    },
    {
      "cell_type": "markdown",
      "metadata": {
        "id": "aJ0kc0RrVR1o"
      },
      "source": [
        "### Суммарная концентрация всех веществ\n",
        "Исследуем суммарную концентрацию всех веществ на разных стадиях: в сырье, в черновом и финальном концентратах."
      ]
    },
    {
      "cell_type": "markdown",
      "metadata": {
        "id": "Ge1uxeRSlF0o"
      },
      "source": [
        "Подсчитаем суммарную концентрацию:"
      ]
    },
    {
      "cell_type": "code",
      "execution_count": null,
      "metadata": {
        "id": "xQCIe6GWVRz_"
      },
      "outputs": [],
      "source": [
        "rougher_input_sum = df_full['rougher.input.feed_au'] + df_full['rougher.input.feed_ag'] + df_full['rougher.input.feed_pb'] + df_full['rougher.input.feed_sol']\n",
        "rougher_output_sum = df_full['rougher.output.concentrate_au'] + df_full['rougher.output.concentrate_ag'] + df_full['rougher.output.concentrate_pb'] + df_full['rougher.output.concentrate_sol']\n",
        "primary_cleaner_sum = df_full['primary_cleaner.output.concentrate_au'] + df_full['primary_cleaner.output.concentrate_ag'] + df_full['primary_cleaner.output.concentrate_pb'] + df_full['primary_cleaner.output.concentrate_sol']\n",
        "final_output_sum = df_full['final.output.concentrate_au'] + df_full['final.output.concentrate_ag'] + df_full['final.output.concentrate_pb'] + df_full['final.output.concentrate_sol']"
      ]
    },
    {
      "cell_type": "markdown",
      "metadata": {
        "id": "6yVPNj3flJbV"
      },
      "source": [
        "Построим графики распределения суммарной концентрации на разных стадиях:"
      ]
    },
    {
      "cell_type": "code",
      "execution_count": null,
      "metadata": {
        "colab": {
          "base_uri": "https://localhost:8080/",
          "height": 350
        },
        "id": "e6aTt74KVRuN",
        "outputId": "8664d282-0933-446a-ee29-55e1c207f5d2"
      },
      "outputs": [
        {
          "data": {
            "image/png": "[encoded data removed]",
            "text/plain": [
              "<Figure size 1440x360 with 1 Axes>"
            ]
          },
          "metadata": {
            "needs_background": "light"
          },
          "output_type": "display_data"
        }
      ],
      "source": [
        "plt.figure(figsize=(20, 5))\n",
        "sns.kdeplot(rougher_input_sum, fill=True, color='grey')\n",
        "sns.kdeplot(rougher_output_sum, fill=True, color='red')\n",
        "sns.kdeplot(primary_cleaner_sum, fill=True, color='yellow')\n",
        "sns.kdeplot(final_output_sum, fill=True, color='green')\n",
        "plt.title('Распределение суммарной концентрации на разных стадиях')\n",
        "plt.ylabel('Количество')\n",
        "plt.xlabel('Концентрация')\n",
        "plt.grid(color='grey', axis='both', alpha=0.5)\n",
        "plt.xticks(np.arange(0, 100, 5))\n",
        "plt.yticks(np.arange(0, 0.15, 0.01))\n",
        "plt.legend(['Начальный этап', 'Этап флотации', 'Первичная очистка', 'Финальный этап'])\n",
        "\n",
        "plt.show()"
      ]
    },
    {
      "cell_type": "markdown",
      "metadata": {
        "id": "Osl4k-wIlOxv"
      },
      "source": [
        "Удалим нулевы значения, т.к. их не должно быть, и скорее всего это какие-то неточности в данных:"
      ]
    },
    {
      "cell_type": "code",
      "execution_count": null,
      "metadata": {
        "id": "6trN7fHdv4bW"
      },
      "outputs": [],
      "source": [
        "def drop_zeros(df):\n",
        "    df_done = df.drop(rougher_input_sum[rougher_input_sum == 0].index, errors='ignore')\n",
        "    df_done = df.drop(rougher_output_sum[rougher_output_sum == 0].index, errors='ignore')\n",
        "    df_done = df.drop(primary_cleaner_sum[primary_cleaner_sum == 0].index, errors='ignore')\n",
        "    df_done = df.drop(final_output_sum[final_output_sum == 0].index, errors='ignore')\n",
        "    return df_done"
      ]
    },
    {
      "cell_type": "code",
      "execution_count": null,
      "metadata": {
        "id": "iNFrE_oSVRqR"
      },
      "outputs": [],
      "source": [
        "df_train_done = drop_zeros(df_train)"
      ]
    },
    {
      "cell_type": "markdown",
      "metadata": {
        "id": "IQm36AO4lWEn"
      },
      "source": [
        "Выведем процент удаленных данных:"
      ]
    },
    {
      "cell_type": "code",
      "execution_count": null,
      "metadata": {
        "colab": {
          "base_uri": "https://localhost:8080/"
        },
        "id": "f_uoGyvNy8zr",
        "outputId": "652d5f4c-0f11-4b63-8c24-abf3fa07d837"
      },
      "outputs": [
        {
          "data": {
            "text/plain": [
              "0.40992296275355056"
            ]
          },
          "execution_count": 38,
          "metadata": {},
          "output_type": "execute_result"
        }
      ],
      "source": [
        "(1 - len(df_train_done) / len(df_train)) * 100"
      ]
    },
    {
      "cell_type": "code",
      "execution_count": null,
      "metadata": {
        "id": "-rRm0RabVRn6"
      },
      "outputs": [],
      "source": [
        "df_test_done = drop_zeros(df_test)"
      ]
    },
    {
      "cell_type": "markdown",
      "metadata": {
        "id": "1gsOmZcxlYjl"
      },
      "source": [
        "Выведем процент удаленных данных:"
      ]
    },
    {
      "cell_type": "code",
      "execution_count": null,
      "metadata": {
        "colab": {
          "base_uri": "https://localhost:8080/"
        },
        "id": "is5KraPgy8qg",
        "outputId": "6e1d5297-bd2b-41a9-bb0a-4292b718a3bd"
      },
      "outputs": [
        {
          "data": {
            "text/plain": [
              "0.7561436672967825"
            ]
          },
          "execution_count": 40,
          "metadata": {},
          "output_type": "execute_result"
        }
      ],
      "source": [
        "(1 - len(df_test_done) / len(df_test)) * 100"
      ]
    },
    {
      "cell_type": "markdown",
      "metadata": {
        "id": "mcfsgY-dzRBb"
      },
      "source": [
        "Данные проанализированы и обработаны, приступим к построению моделей"
      ]
    },
    {
      "cell_type": "markdown",
      "metadata": {
        "id": "dTJ2aRCxcmSx"
      },
      "source": [
        "## Модель"
      ]
    },
    {
      "cell_type": "markdown",
      "metadata": {
        "id": "ckJTQGTccmSy"
      },
      "source": [
        "### Функция sMAPE\n",
        "Напишим функцию для вычисления sMAPE (англ. Symmetric Mean Absolute Percentage Error, «симметричное среднее абсолютное процентное отклонение»), а также итоговой sMAPE."
      ]
    },
    {
      "cell_type": "code",
      "execution_count": null,
      "metadata": {
        "id": "PrPqm9uSzP_k"
      },
      "outputs": [],
      "source": [
        "def sMAPE(target, predictions):\n",
        "    sMAPE = (1 / len(target)) * (abs(target - predictions) / ((abs(target) + abs(predictions)) / 2)).sum() * 100\n",
        "    return sMAPE"
      ]
    },
    {
      "cell_type": "code",
      "execution_count": null,
      "metadata": {
        "id": "olCxn6C00bLR"
      },
      "outputs": [],
      "source": [
        "def total_smape(smape_rougher, smape_final):\n",
        "    final_result = 0.25 * smape_rougher + 0.75 * smape_final\n",
        "    return final_result"
      ]
    },
    {
      "cell_type": "markdown",
      "metadata": {
        "id": "1Xg6ZxuyzP9i"
      },
      "source": [
        "### Обучение и проверка моделей"
      ]
    },
    {
      "cell_type": "markdown",
      "metadata": {
        "id": "L3CGS8qV-mgy"
      },
      "source": [
        "Обучим несколько разных моделей на получившейся обучающей выборке, посчитаем получившийся sMAPE и проверим их на тестовой выборке.\n",
        "\n",
        "Для обучения моделей воспользуемся кросс валидацией.\n",
        "\n",
        "Ещё нам надо добавить к обучающей и тестовой выборкам целевые признаки. Это колонки \"rougher.output.recovery\" и \"final.output.recovery\".   \n",
        "Создадим под каждый целевой признак свои обучающие и тестовые выборки, и таргеты:"
      ]
    },
    {
      "cell_type": "markdown",
      "metadata": {
        "id": "hr4LiBqa-mgy"
      },
      "source": [
        "Создадим выборки под черновой целевой признак:"
      ]
    },
    {
      "cell_type": "code",
      "execution_count": null,
      "metadata": {
        "colab": {
          "base_uri": "https://localhost:8080/"
        },
        "id": "4VrguyHa-mgy",
        "outputId": "3160e88f-cdc6-44ed-b6b9-22ab6356eb03"
      },
      "outputs": [
        {
          "name": "stdout",
          "output_type": "stream",
          "text": [
            "(14091, 22) | (14091,) | (5250, 22) | (5250,)\n"
          ]
        }
      ],
      "source": [
        "rougher_columns = ['rougher.input.feed_ag', 'rougher.input.feed_pb',\n",
        "    'rougher.input.feed_rate', 'rougher.input.feed_size', 'rougher.input.feed_sol',\n",
        "    'rougher.input.feed_au', 'rougher.input.floatbank10_sulfate', 'rougher.input.floatbank10_xanthate', \n",
        "    'rougher.input.floatbank11_sulfate', 'rougher.input.floatbank11_xanthate', 'rougher.state.floatbank10_a_air',\n",
        "    'rougher.state.floatbank10_a_level', 'rougher.state.floatbank10_b_air', 'rougher.state.floatbank10_b_level',\n",
        "    'rougher.state.floatbank10_c_air', 'rougher.state.floatbank10_c_level', 'rougher.state.floatbank10_d_air',\n",
        "    'rougher.state.floatbank10_d_level', 'rougher.state.floatbank10_e_air', 'rougher.state.floatbank10_e_level',\n",
        "    'rougher.state.floatbank10_f_air', 'rougher.state.floatbank10_f_level']\n",
        "\n",
        "train_rougher = df_train_done[rougher_columns]\n",
        "target_train_rougher = df_full['rougher.output.recovery'][train_rougher.index]\n",
        "test_rougher = df_test_done[rougher_columns]\n",
        "target_test_rougher = df_full['rougher.output.recovery'][test_rougher.index]\n",
        "\n",
        "print(train_rougher.shape, target_train_rougher.shape, test_rougher.shape, target_test_rougher.shape, sep=' | ')"
      ]
    },
    {
      "cell_type": "markdown",
      "metadata": {
        "id": "Ai2QRa5X-mgz"
      },
      "source": [
        "Создадим выборки под финальный целевой признак:"
      ]
    },
    {
      "cell_type": "code",
      "execution_count": null,
      "metadata": {
        "colab": {
          "base_uri": "https://localhost:8080/"
        },
        "id": "mCyPYA87-mg0",
        "outputId": "c54645bb-c764-4cb4-944f-41956c9f2ddd"
      },
      "outputs": [
        {
          "name": "stdout",
          "output_type": "stream",
          "text": [
            "(14091, 30) | (14091,) | (5250, 30) | (5250,)\n"
          ]
        }
      ],
      "source": [
        "train_final = df_train_done.drop(rougher_columns, axis=1)\n",
        "target_train_final = df_full['final.output.recovery'][train_final.index]\n",
        "test_final = df_test_done.drop(rougher_columns, axis=1)\n",
        "target_test_final = df_full['final.output.recovery'][test_final.index]\n",
        "\n",
        "print(train_final.shape, target_train_final.shape, test_final.shape, target_test_final.shape, sep=' | ')"
      ]
    },
    {
      "cell_type": "markdown",
      "metadata": {
        "id": "-UT1O92S-mg3"
      },
      "source": [
        "Выборки созданы, теперь можно заняться моделями."
      ]
    },
    {
      "cell_type": "markdown",
      "metadata": {
        "id": "GOaL23d2-mhE"
      },
      "source": [
        "Определим функцию для обучения, выбора и оценки лучшей модели:"
      ]
    },
    {
      "cell_type": "code",
      "execution_count": null,
      "metadata": {
        "id": "uO3EJw7i-mhE"
      },
      "outputs": [],
      "source": [
        "def fit_and_check(model, params, df_train, df_target):\n",
        "    my_scorer = make_scorer(sMAPE, greater_is_better=False)\n",
        "    clf = GridSearchCV(model, params, scoring=my_scorer, cv=5)\n",
        "    clf.fit(df_train, df_target)\n",
        "    \n",
        "    return clf.best_estimator_, clf.best_score_"
      ]
    },
    {
      "cell_type": "markdown",
      "metadata": {
        "id": "YlzOjvPK-mhE"
      },
      "source": [
        "Выберем модели: Решающее дерево, Случайный лес и Линейную регрессию.  \n",
        "\n",
        "Создадим функцию для определения гиперпараметров по выбранным моделям, сохраненим лучшие модели и подчитаем время подбора каждой модели:"
      ]
    },
    {
      "cell_type": "code",
      "execution_count": null,
      "metadata": {
        "id": "aajXP-3k-mhE"
      },
      "outputs": [],
      "source": [
        "def models_score(train, target):\n",
        "    \n",
        "    print('Время обучения и подбора лучшей модели Решающее дерево:')\n",
        "    model_tree = DecisionTreeRegressor()\n",
        "    params = {'max_depth': range(1, 20), 'random_state': [555]}\n",
        "    best_tree_model, best_tree_model_result = %time fit_and_check(model_tree, params, train, target)\n",
        "    print('__________________________________________________________')\n",
        "    \n",
        "    print('Время обучения и подбора лучшей модели Случайный лес:')    \n",
        "    model_forest = RandomForestRegressor()\n",
        "    params = {'n_estimators': range(50, 100, 10), 'max_depth': range(1, 5), 'random_state': [555]}\n",
        "    best_forest_model, best_forest_model_result = %time fit_and_check(model_forest, params, train, target)\n",
        "    print('__________________________________________________________')\n",
        "    \n",
        "    print('Время обучения и подбора лучшей модели Линейная регрессия:')    \n",
        "    model_linear = LinearRegression()\n",
        "    params = {}\n",
        "    best_lin_model, best_lin_model_result = %time fit_and_check(model_linear, params, train, target)\n",
        "    \n",
        "    results = [best_tree_model_result, best_forest_model_result, best_lin_model_result]\n",
        "    \n",
        "    return best_tree_model, best_forest_model, best_lin_model, results"
      ]
    },
    {
      "cell_type": "markdown",
      "metadata": {
        "id": "m4ED3OVa-mhF"
      },
      "source": [
        "Проведём исследования на обучающих выборках по черновому процессу:"
      ]
    },
    {
      "cell_type": "code",
      "execution_count": null,
      "metadata": {
        "colab": {
          "base_uri": "https://localhost:8080/"
        },
        "id": "osq5yuWE-mhF",
        "outputId": "8036b71e-5ba7-45df-8a37-f2a45311d748"
      },
      "outputs": [
        {
          "name": "stdout",
          "output_type": "stream",
          "text": [
            "Время обучения и подбора лучшей модели Решающее дерево:\n",
            "CPU times: user 22.7 s, sys: 0 ns, total: 22.7 s\n",
            "Wall time: 22.7 s\n",
            "__________________________________________________________\n",
            "Время обучения и подбора лучшей модели Случайный лес:\n",
            "CPU times: user 5min 20s, sys: 247 ms, total: 5min 20s\n",
            "Wall time: 5min 20s\n",
            "__________________________________________________________\n",
            "Время обучения и подбора лучшей модели Линейная регрессия:\n",
            "CPU times: user 456 ms, sys: 525 ms, total: 981 ms\n",
            "Wall time: 959 ms\n"
          ]
        }
      ],
      "source": [
        "best_tree_model_1, best_forest_model_1, best_lin_model_1, results_train_rougher = models_score(\n",
        "    train_rougher, target_train_rougher)"
      ]
    },
    {
      "cell_type": "markdown",
      "metadata": {
        "id": "hk674Q3H-mhF"
      },
      "source": [
        "Проведём исследования на обучающих выборках по финальной очистке:"
      ]
    },
    {
      "cell_type": "code",
      "execution_count": null,
      "metadata": {
        "colab": {
          "base_uri": "https://localhost:8080/"
        },
        "id": "EBhA9iXK-mhF",
        "outputId": "d0fbbb03-a49f-49a0-dbca-c24fd4795fda"
      },
      "outputs": [
        {
          "name": "stdout",
          "output_type": "stream",
          "text": [
            "Время обучения и подбора лучшей модели Решающее дерево:\n",
            "CPU times: user 29.1 s, sys: 83.9 ms, total: 29.2 s\n",
            "Wall time: 29.3 s\n",
            "__________________________________________________________\n",
            "Время обучения и подбора лучшей модели Случайный лес:\n",
            "CPU times: user 6min 51s, sys: 370 ms, total: 6min 51s\n",
            "Wall time: 6min 51s\n",
            "__________________________________________________________\n",
            "Время обучения и подбора лучшей модели Линейная регрессия:\n",
            "CPU times: user 520 ms, sys: 589 ms, total: 1.11 s\n",
            "Wall time: 1.08 s\n"
          ]
        }
      ],
      "source": [
        "best_tree_model_2, best_forest_model_2, best_lin_model_2, results_train_final = models_score(\n",
        "    train_final, target_train_final)"
      ]
    },
    {
      "cell_type": "markdown",
      "metadata": {
        "id": "mxuuMpNu-mhG"
      },
      "source": [
        "Воспользуемся функцией по вычислению итоговой sMAPE и посмотрим на результаты:"
      ]
    },
    {
      "cell_type": "code",
      "execution_count": null,
      "metadata": {
        "colab": {
          "base_uri": "https://localhost:8080/",
          "height": 143
        },
        "id": "N2kfnM-g-mhG",
        "outputId": "a02e4370-cda6-4991-e9a6-c45fb414d954"
      },
      "outputs": [
        {
          "data": {
            "text/html": [
              "<div>\n",
              "<style scoped>\n",
              "    .dataframe tbody tr th:only-of-type {\n",
              "        vertical-align: middle;\n",
              "    }\n",
              "\n",
              "    .dataframe tbody tr th {\n",
              "        vertical-align: top;\n",
              "    }\n",
              "\n",
              "    .dataframe thead th {\n",
              "        text-align: right;\n",
              "    }\n",
              "</style>\n",
              "<table border=\"1\" class=\"dataframe\">\n",
              "  <thead>\n",
              "    <tr style=\"text-align: right;\">\n",
              "      <th></th>\n",
              "      <th>sMAPE rougher output</th>\n",
              "      <th>sMAPE final output</th>\n",
              "      <th>sMAPE total</th>\n",
              "    </tr>\n",
              "  </thead>\n",
              "  <tbody>\n",
              "    <tr>\n",
              "      <td>Решающее дерево</td>\n",
              "      <td>-12.111020</td>\n",
              "      <td>-10.193962</td>\n",
              "      <td>-10.673226</td>\n",
              "    </tr>\n",
              "    <tr>\n",
              "      <td>Случайный лес</td>\n",
              "      <td>-11.500535</td>\n",
              "      <td>-10.043035</td>\n",
              "      <td>-10.407410</td>\n",
              "    </tr>\n",
              "    <tr>\n",
              "      <td>Линейная регрессия</td>\n",
              "      <td>-12.427463</td>\n",
              "      <td>-9.811392</td>\n",
              "      <td>-10.465410</td>\n",
              "    </tr>\n",
              "  </tbody>\n",
              "</table>\n",
              "</div>"
            ],
            "text/plain": [
              "                    sMAPE rougher output  sMAPE final output  sMAPE total\n",
              "Решающее дерево               -12.111020          -10.193962   -10.673226\n",
              "Случайный лес                 -11.500535          -10.043035   -10.407410\n",
              "Линейная регрессия            -12.427463           -9.811392   -10.465410"
            ]
          },
          "execution_count": 49,
          "metadata": {},
          "output_type": "execute_result"
        }
      ],
      "source": [
        "res_train = {'sMAPE rougher output': results_train_rougher,\n",
        "       'sMAPE final output': results_train_final,\n",
        "       'sMAPE total': [total_smape(results_train_rougher[0], results_train_final[0]),\n",
        "                      total_smape(results_train_rougher[1], results_train_final[1]),\n",
        "                      total_smape(results_train_rougher[2], results_train_final[2])]}\n",
        "train_results = pd.DataFrame(data=res_train, index=('Решающее дерево', 'Случайный лес', 'Линейная регрессия'))\n",
        "train_results"
      ]
    },
    {
      "cell_type": "markdown",
      "metadata": {
        "id": "brUnyciW-mhG"
      },
      "source": [
        "Показатель sMAPE очень близок для всех моделей, но с учетом времени обучения и показателя sMAPE лучше всего себя показала модель Линейная регрессия."
      ]
    },
    {
      "cell_type": "markdown",
      "metadata": {
        "id": "FeIXJ5al-mhG"
      },
      "source": [
        "### Тест лучших моделей"
      ]
    },
    {
      "cell_type": "markdown",
      "metadata": {
        "id": "ubd-HTC7-mhG"
      },
      "source": [
        "Теперь проверим лучшие модели на тестовых выборках.\n",
        "\n",
        "Создадим функцию по тестированию и выводу результатов, для сравнения наших моделей добавим модель Дамми:"
      ]
    },
    {
      "cell_type": "code",
      "execution_count": null,
      "metadata": {
        "id": "JjHnzWJ3-mhG"
      },
      "outputs": [],
      "source": [
        "def final_test(model_tree, model_forest, model_linear, df_test, df_target, df_test_dummy, df_target_dummy):\n",
        "    \n",
        "    print('Время предсказания решающего дерева:') \n",
        "    predictions_tree = %time model_tree.predict(df_test)\n",
        "    score_tree = sMAPE(df_target, predictions_tree)\n",
        "    print('--------------------------------------------')\n",
        "    \n",
        "    print('Время предсказания случайного леса:')\n",
        "    predictions_forest = %time model_forest.predict(df_test)\n",
        "    score_forest = sMAPE(df_target, predictions_forest)\n",
        "    print('--------------------------------------------')\n",
        "    \n",
        "    print('Время предсказания линейной регрессии:')\n",
        "    predictions_linear = %time model_linear.predict(df_test)\n",
        "    score_linear = sMAPE(df_target, predictions_linear)\n",
        "    \n",
        "    dummy = DummyRegressor(strategy='median').fit(df_test_dummy, df_target_dummy)\n",
        "    predictions_dummy = dummy.predict(df_test)\n",
        "    score_dummy = sMAPE(df_target, predictions_dummy)\n",
        "    \n",
        "    results = [score_tree, score_forest, score_linear, score_dummy]\n",
        "    \n",
        "    return results"
      ]
    },
    {
      "cell_type": "markdown",
      "metadata": {
        "id": "8jOfm-uF-mhH"
      },
      "source": [
        "Проведём исследования:"
      ]
    },
    {
      "cell_type": "code",
      "execution_count": null,
      "metadata": {
        "colab": {
          "base_uri": "https://localhost:8080/"
        },
        "id": "2PtbWIiT-mhH",
        "outputId": "1efd4858-62dd-4316-d03f-7ca9005e0ac2"
      },
      "outputs": [
        {
          "name": "stdout",
          "output_type": "stream",
          "text": [
            "Время предсказания решающего дерева:\n",
            "CPU times: user 2.1 ms, sys: 12 µs, total: 2.11 ms\n",
            "Wall time: 1.55 ms\n",
            "--------------------------------------------\n",
            "Время предсказания случайного леса:\n",
            "CPU times: user 13.4 ms, sys: 0 ns, total: 13.4 ms\n",
            "Wall time: 12.9 ms\n",
            "--------------------------------------------\n",
            "Время предсказания линейной регрессии:\n",
            "CPU times: user 2.38 ms, sys: 0 ns, total: 2.38 ms\n",
            "Wall time: 1.23 ms\n"
          ]
        }
      ],
      "source": [
        "results_test_rougher = final_test(best_tree_model_1, best_forest_model_1, best_lin_model_1,\n",
        "                          test_rougher, target_test_rougher, train_rougher, target_train_rougher)"
      ]
    },
    {
      "cell_type": "code",
      "execution_count": null,
      "metadata": {
        "colab": {
          "base_uri": "https://localhost:8080/"
        },
        "id": "WoOLfB-B-mhH",
        "outputId": "9ee1e42c-c567-4435-825f-e28bc1955081"
      },
      "outputs": [
        {
          "name": "stdout",
          "output_type": "stream",
          "text": [
            "Время предсказания решающего дерева:\n",
            "CPU times: user 15 ms, sys: 16 ms, total: 31 ms\n",
            "Wall time: 89.9 ms\n",
            "--------------------------------------------\n",
            "Время предсказания случайного леса:\n",
            "CPU times: user 7.96 ms, sys: 0 ns, total: 7.96 ms\n",
            "Wall time: 7.34 ms\n",
            "--------------------------------------------\n",
            "Время предсказания линейной регрессии:\n",
            "CPU times: user 25.5 ms, sys: 24 ms, total: 49.5 ms\n",
            "Wall time: 9.29 ms\n"
          ]
        }
      ],
      "source": [
        "results_test_final = final_test(best_tree_model_2, best_forest_model_2, best_lin_model_2,\n",
        "                          test_final, target_test_final, train_final, target_train_final)"
      ]
    },
    {
      "cell_type": "markdown",
      "metadata": {
        "id": "7_syV8PK-mhH"
      },
      "source": [
        "Посмотрим на результаты:"
      ]
    },
    {
      "cell_type": "code",
      "execution_count": null,
      "metadata": {
        "colab": {
          "base_uri": "https://localhost:8080/",
          "height": 175
        },
        "id": "j6EhhG5_-mhH",
        "outputId": "5b62b7ce-8173-4708-a9a5-ecc51023f2b4"
      },
      "outputs": [
        {
          "data": {
            "text/html": [
              "<div>\n",
              "<style scoped>\n",
              "    .dataframe tbody tr th:only-of-type {\n",
              "        vertical-align: middle;\n",
              "    }\n",
              "\n",
              "    .dataframe tbody tr th {\n",
              "        vertical-align: top;\n",
              "    }\n",
              "\n",
              "    .dataframe thead th {\n",
              "        text-align: right;\n",
              "    }\n",
              "</style>\n",
              "<table border=\"1\" class=\"dataframe\">\n",
              "  <thead>\n",
              "    <tr style=\"text-align: right;\">\n",
              "      <th></th>\n",
              "      <th>test sMAPE rougher output</th>\n",
              "      <th>test sMAPE final output</th>\n",
              "      <th>test sMAPE total</th>\n",
              "    </tr>\n",
              "  </thead>\n",
              "  <tbody>\n",
              "    <tr>\n",
              "      <td>Решающее дерево</td>\n",
              "      <td>11.138162</td>\n",
              "      <td>7.927526</td>\n",
              "      <td>8.730185</td>\n",
              "    </tr>\n",
              "    <tr>\n",
              "      <td>Случайный лес</td>\n",
              "      <td>9.559088</td>\n",
              "      <td>7.793134</td>\n",
              "      <td>8.234622</td>\n",
              "    </tr>\n",
              "    <tr>\n",
              "      <td>Линейная регрессия</td>\n",
              "      <td>9.223832</td>\n",
              "      <td>8.758820</td>\n",
              "      <td>8.875073</td>\n",
              "    </tr>\n",
              "    <tr>\n",
              "      <td>Дамми</td>\n",
              "      <td>8.484803</td>\n",
              "      <td>8.301838</td>\n",
              "      <td>8.347579</td>\n",
              "    </tr>\n",
              "  </tbody>\n",
              "</table>\n",
              "</div>"
            ],
            "text/plain": [
              "                    test sMAPE rougher output  test sMAPE final output  \\\n",
              "Решающее дерево                     11.138162                 7.927526   \n",
              "Случайный лес                        9.559088                 7.793134   \n",
              "Линейная регрессия                   9.223832                 8.758820   \n",
              "Дамми                                8.484803                 8.301838   \n",
              "\n",
              "                    test sMAPE total  \n",
              "Решающее дерево             8.730185  \n",
              "Случайный лес               8.234622  \n",
              "Линейная регрессия          8.875073  \n",
              "Дамми                       8.347579  "
            ]
          },
          "execution_count": 53,
          "metadata": {},
          "output_type": "execute_result"
        }
      ],
      "source": [
        "res_test = {'test sMAPE rougher output': results_test_rougher,\n",
        "       'test sMAPE final output': results_test_final,\n",
        "       'test sMAPE total': [total_smape(results_test_rougher[0], results_test_final[0]),\n",
        "                      total_smape(results_test_rougher[1], results_test_final[1]),\n",
        "                      total_smape(results_test_rougher[2], results_test_final[2]),\n",
        "                        total_smape(results_test_rougher[3], results_test_final[3])]}\n",
        "train_results = pd.DataFrame(data=res_test, index=(\n",
        "    'Решающее дерево', 'Случайный лес', 'Линейная регрессия', 'Дамми'))\n",
        "train_results"
      ]
    },
    {
      "cell_type": "markdown",
      "metadata": {
        "id": "xxSNar_D-mhI"
      },
      "source": [
        "Итоговый результаты на тесте у всех моделей очень близки.  \n",
        "При этом резльутаты дамми модели не сильно отсаются, а на черновом этапе даже превосходят наши модели.  "
      ]
    },
    {
      "cell_type": "markdown",
      "metadata": {
        "id": "Dq92Hnab-mhI"
      },
      "source": [
        "## Общий вывод"
      ]
    },
    {
      "cell_type": "markdown",
      "metadata": {
        "id": "W_oel8Ls-mhI"
      },
      "source": [
        "К сожалению наши модели выдют предсказания близкие к Дамми модели. Поэтому использовать их для оценки не целесообразно.  \n",
        "Данные результаты связан со сложностью анализруемых данных, понимаем технологического процесса, сложностью интерпретации признаков и их корректного анализа.  \n",
        "Требуется дальнеший анализ и тесная работа с заказчиком, в т.м. числе технологом-химиком в металлургии."
      ]
    }
  ],
  "metadata": {
    "ExecuteTimeLog": [
      {
        "duration": 1286,
        "start_time": "2022-03-15T08:11:59.503Z"
      },
      {
        "duration": 565,
        "start_time": "2022-03-15T08:12:00.792Z"
      },
      {
        "duration": 32,
        "start_time": "2022-03-15T08:12:01.360Z"
      },
      {
        "duration": 38,
        "start_time": "2022-03-15T08:12:01.394Z"
      },
      {
        "duration": 1250,
        "start_time": "2022-03-15T08:12:01.434Z"
      },
      {
        "duration": 25,
        "start_time": "2022-03-15T08:12:02.686Z"
      },
      {
        "duration": 31,
        "start_time": "2022-03-15T08:12:02.713Z"
      },
      {
        "duration": 1259,
        "start_time": "2022-03-15T08:12:02.746Z"
      },
      {
        "duration": 26,
        "start_time": "2022-03-15T08:12:04.007Z"
      },
      {
        "duration": 21,
        "start_time": "2022-03-15T08:12:04.034Z"
      },
      {
        "duration": 4,
        "start_time": "2022-03-15T08:12:04.057Z"
      },
      {
        "duration": 11,
        "start_time": "2022-03-15T08:12:04.063Z"
      },
      {
        "duration": 15,
        "start_time": "2022-03-15T08:12:04.076Z"
      },
      {
        "duration": 12,
        "start_time": "2022-03-15T08:12:04.093Z"
      },
      {
        "duration": 7,
        "start_time": "2022-03-15T08:12:04.133Z"
      },
      {
        "duration": 12,
        "start_time": "2022-03-15T08:12:04.142Z"
      },
      {
        "duration": 19,
        "start_time": "2022-03-15T08:12:04.156Z"
      },
      {
        "duration": 16,
        "start_time": "2022-03-15T08:12:04.177Z"
      },
      {
        "duration": 22,
        "start_time": "2022-03-15T08:12:04.195Z"
      },
      {
        "duration": 19,
        "start_time": "2022-03-15T08:12:04.219Z"
      },
      {
        "duration": 15,
        "start_time": "2022-03-15T08:12:04.240Z"
      },
      {
        "duration": 27,
        "start_time": "2022-03-15T08:12:04.257Z"
      },
      {
        "duration": 8,
        "start_time": "2022-03-15T08:12:04.288Z"
      },
      {
        "duration": 20,
        "start_time": "2022-03-15T08:12:04.299Z"
      },
      {
        "duration": 13,
        "start_time": "2022-03-15T08:12:04.321Z"
      },
      {
        "duration": 1758,
        "start_time": "2022-03-15T08:12:04.336Z"
      },
      {
        "duration": -929,
        "start_time": "2022-03-15T08:12:07.025Z"
      },
      {
        "duration": -943,
        "start_time": "2022-03-15T08:12:07.040Z"
      },
      {
        "duration": -946,
        "start_time": "2022-03-15T08:12:07.044Z"
      },
      {
        "duration": -949,
        "start_time": "2022-03-15T08:12:07.048Z"
      },
      {
        "duration": -950,
        "start_time": "2022-03-15T08:12:07.051Z"
      },
      {
        "duration": -953,
        "start_time": "2022-03-15T08:12:07.055Z"
      },
      {
        "duration": -955,
        "start_time": "2022-03-15T08:12:07.058Z"
      },
      {
        "duration": -957,
        "start_time": "2022-03-15T08:12:07.061Z"
      },
      {
        "duration": -960,
        "start_time": "2022-03-15T08:12:07.065Z"
      },
      {
        "duration": -962,
        "start_time": "2022-03-15T08:12:07.068Z"
      },
      {
        "duration": -964,
        "start_time": "2022-03-15T08:12:07.071Z"
      },
      {
        "duration": -966,
        "start_time": "2022-03-15T08:12:07.074Z"
      },
      {
        "duration": -968,
        "start_time": "2022-03-15T08:12:07.077Z"
      },
      {
        "duration": -975,
        "start_time": "2022-03-15T08:12:07.085Z"
      },
      {
        "duration": -977,
        "start_time": "2022-03-15T08:12:07.088Z"
      },
      {
        "duration": -981,
        "start_time": "2022-03-15T08:12:07.093Z"
      },
      {
        "duration": -983,
        "start_time": "2022-03-15T08:12:07.097Z"
      },
      {
        "duration": -985,
        "start_time": "2022-03-15T08:12:07.100Z"
      },
      {
        "duration": -987,
        "start_time": "2022-03-15T08:12:07.103Z"
      },
      {
        "duration": -990,
        "start_time": "2022-03-15T08:12:07.106Z"
      },
      {
        "duration": -993,
        "start_time": "2022-03-15T08:12:07.110Z"
      },
      {
        "duration": -995,
        "start_time": "2022-03-15T08:12:07.113Z"
      },
      {
        "duration": -998,
        "start_time": "2022-03-15T08:12:07.117Z"
      },
      {
        "duration": -1000,
        "start_time": "2022-03-15T08:12:07.120Z"
      },
      {
        "duration": -1001,
        "start_time": "2022-03-15T08:12:07.122Z"
      },
      {
        "duration": -1003,
        "start_time": "2022-03-15T08:12:07.125Z"
      },
      {
        "duration": 55125,
        "start_time": "2022-03-15T08:15:31.738Z"
      },
      {
        "duration": 46085,
        "start_time": "2022-03-15T08:17:31.945Z"
      },
      {
        "duration": 1288,
        "start_time": "2022-03-15T08:18:18.032Z"
      },
      {
        "duration": 558,
        "start_time": "2022-03-15T08:18:19.322Z"
      },
      {
        "duration": 29,
        "start_time": "2022-03-15T08:18:19.882Z"
      },
      {
        "duration": 27,
        "start_time": "2022-03-15T08:18:19.913Z"
      },
      {
        "duration": 231,
        "start_time": "2022-03-15T08:18:19.942Z"
      },
      {
        "duration": 25,
        "start_time": "2022-03-15T08:18:20.175Z"
      },
      {
        "duration": 14,
        "start_time": "2022-03-15T08:18:20.204Z"
      },
      {
        "duration": 1866,
        "start_time": "2022-03-15T08:18:20.233Z"
      },
      {
        "duration": 23,
        "start_time": "2022-03-15T08:18:22.101Z"
      },
      {
        "duration": 17,
        "start_time": "2022-03-15T08:18:22.132Z"
      },
      {
        "duration": 4,
        "start_time": "2022-03-15T08:18:22.151Z"
      },
      {
        "duration": 14,
        "start_time": "2022-03-15T08:18:22.157Z"
      },
      {
        "duration": 14,
        "start_time": "2022-03-15T08:18:22.173Z"
      },
      {
        "duration": 46,
        "start_time": "2022-03-15T08:18:22.188Z"
      },
      {
        "duration": 14,
        "start_time": "2022-03-15T08:18:22.236Z"
      },
      {
        "duration": 4,
        "start_time": "2022-03-15T08:18:22.253Z"
      },
      {
        "duration": 7,
        "start_time": "2022-03-15T08:18:22.259Z"
      },
      {
        "duration": 7,
        "start_time": "2022-03-15T08:18:22.268Z"
      },
      {
        "duration": 9,
        "start_time": "2022-03-15T08:18:22.277Z"
      },
      {
        "duration": 45,
        "start_time": "2022-03-15T08:18:22.288Z"
      },
      {
        "duration": 9,
        "start_time": "2022-03-15T08:18:22.336Z"
      },
      {
        "duration": 11,
        "start_time": "2022-03-15T08:18:22.351Z"
      },
      {
        "duration": 5,
        "start_time": "2022-03-15T08:18:22.365Z"
      },
      {
        "duration": 6,
        "start_time": "2022-03-15T08:18:22.372Z"
      },
      {
        "duration": 8,
        "start_time": "2022-03-15T08:18:22.380Z"
      },
      {
        "duration": 8195,
        "start_time": "2022-03-15T08:18:29.143Z"
      },
      {
        "duration": 1332,
        "start_time": "2022-03-15T08:18:37.340Z"
      },
      {
        "duration": 556,
        "start_time": "2022-03-15T08:18:38.674Z"
      },
      {
        "duration": 30,
        "start_time": "2022-03-15T08:18:39.232Z"
      },
      {
        "duration": 36,
        "start_time": "2022-03-15T08:18:39.264Z"
      },
      {
        "duration": 1633,
        "start_time": "2022-03-15T08:18:39.303Z"
      },
      {
        "duration": 23,
        "start_time": "2022-03-15T08:18:40.938Z"
      },
      {
        "duration": 35,
        "start_time": "2022-03-15T08:18:40.963Z"
      },
      {
        "duration": 789,
        "start_time": "2022-03-15T08:18:41.001Z"
      },
      {
        "duration": 31,
        "start_time": "2022-03-15T08:18:41.792Z"
      },
      {
        "duration": 31,
        "start_time": "2022-03-15T08:18:41.824Z"
      },
      {
        "duration": 9,
        "start_time": "2022-03-15T08:18:41.857Z"
      },
      {
        "duration": 35,
        "start_time": "2022-03-15T08:18:41.867Z"
      },
      {
        "duration": 22,
        "start_time": "2022-03-15T08:18:41.904Z"
      },
      {
        "duration": 14,
        "start_time": "2022-03-15T08:18:41.928Z"
      },
      {
        "duration": 22,
        "start_time": "2022-03-15T08:18:41.944Z"
      },
      {
        "duration": 20,
        "start_time": "2022-03-15T08:18:41.968Z"
      },
      {
        "duration": 15,
        "start_time": "2022-03-15T08:18:41.990Z"
      },
      {
        "duration": 10,
        "start_time": "2022-03-15T08:18:42.008Z"
      },
      {
        "duration": 12,
        "start_time": "2022-03-15T08:18:42.020Z"
      },
      {
        "duration": 21,
        "start_time": "2022-03-15T08:18:42.034Z"
      },
      {
        "duration": 12,
        "start_time": "2022-03-15T08:18:42.057Z"
      },
      {
        "duration": 19,
        "start_time": "2022-03-15T08:18:42.074Z"
      },
      {
        "duration": 31,
        "start_time": "2022-03-15T08:18:42.096Z"
      },
      {
        "duration": 18,
        "start_time": "2022-03-15T08:18:42.128Z"
      },
      {
        "duration": 24,
        "start_time": "2022-03-15T08:18:42.148Z"
      },
      {
        "duration": 2509,
        "start_time": "2022-03-15T08:18:42.174Z"
      },
      {
        "duration": 2204,
        "start_time": "2022-03-15T08:18:44.685Z"
      },
      {
        "duration": 2150,
        "start_time": "2022-03-15T08:18:46.892Z"
      },
      {
        "duration": 927,
        "start_time": "2022-03-15T08:18:49.044Z"
      },
      {
        "duration": 9,
        "start_time": "2022-03-15T08:18:49.973Z"
      },
      {
        "duration": 8,
        "start_time": "2022-03-15T08:18:49.984Z"
      },
      {
        "duration": 403,
        "start_time": "2022-03-15T08:18:49.994Z"
      },
      {
        "duration": 6,
        "start_time": "2022-03-15T08:18:50.399Z"
      },
      {
        "duration": 1319,
        "start_time": "2022-03-15T08:18:50.407Z"
      },
      {
        "duration": 4,
        "start_time": "2022-03-15T08:18:51.732Z"
      },
      {
        "duration": 24,
        "start_time": "2022-03-15T08:18:51.738Z"
      },
      {
        "duration": 4,
        "start_time": "2022-03-15T08:18:51.764Z"
      },
      {
        "duration": 15,
        "start_time": "2022-03-15T08:18:51.771Z"
      },
      {
        "duration": 4,
        "start_time": "2022-03-15T08:18:51.788Z"
      },
      {
        "duration": 10,
        "start_time": "2022-03-15T08:18:51.794Z"
      },
      {
        "duration": 25,
        "start_time": "2022-03-15T08:18:51.806Z"
      },
      {
        "duration": 16,
        "start_time": "2022-03-15T08:18:51.833Z"
      },
      {
        "duration": 14,
        "start_time": "2022-03-15T08:18:51.851Z"
      },
      {
        "duration": 10,
        "start_time": "2022-03-15T08:18:51.867Z"
      },
      {
        "duration": 13,
        "start_time": "2022-03-15T08:18:51.880Z"
      },
      {
        "duration": 344647,
        "start_time": "2022-03-15T08:18:51.895Z"
      },
      {
        "duration": 442394,
        "start_time": "2022-03-15T08:24:36.546Z"
      },
      {
        "duration": 96,
        "start_time": "2022-03-15T08:31:58.943Z"
      },
      {
        "duration": 101,
        "start_time": "2022-03-15T08:31:59.042Z"
      },
      {
        "duration": 90,
        "start_time": "2022-03-15T08:31:59.144Z"
      },
      {
        "duration": 201,
        "start_time": "2022-03-15T08:31:59.237Z"
      },
      {
        "duration": 101,
        "start_time": "2022-03-15T08:31:59.440Z"
      }
    ],
    "colab": {
      "collapsed_sections": [],
      "name": "recovery_gold_from_ore.ipynb",
      "provenance": [],
      "toc_visible": true
    },
    "kernelspec": {
      "display_name": "Python 3 (ipykernel)",
      "language": "python",
      "name": "python3"
    },
    "language_info": {
      "codemirror_mode": {
        "name": "ipython",
        "version": 3
      },
      "file_extension": ".py",
      "mimetype": "text/x-python",
      "name": "python",
      "nbconvert_exporter": "python",
      "pygments_lexer": "ipython3",
      "version": "3.9.7"
    },
    "toc": {
      "base_numbering": 1,
      "nav_menu": {},
      "number_sections": true,
      "sideBar": true,
      "skip_h1_title": true,
      "title_cell": "Содержание",
      "title_sidebar": "Contents",
      "toc_cell": true,
      "toc_position": {
        "height": "calc(100% - 180px)",
        "left": "10px",
        "top": "150px",
        "width": "376px"
      },
      "toc_section_display": true,
      "toc_window_display": true
    }
  },
  "nbformat": 4,
  "nbformat_minor": 0
}