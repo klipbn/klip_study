{
  "nbformat": 4,
  "nbformat_minor": 0,
  "metadata": {
    "colab": {
      "name": "prediction_churn_bank_customer.ipynb",
      "provenance": [],
      "collapsed_sections": [],
      "toc_visible": true
    },
    "kernelspec": {
      "name": "python3",
      "display_name": "Python 3"
    },
    "language_info": {
      "name": "python"
    }
  },
  "cells": [
    {
      "cell_type": "markdown",
      "source": [
        "# Предсказание оттока клиентов"
      ],
      "metadata": {
        "id": "xtLruj7lfssu"
      }
    },
    {
      "cell_type": "markdown",
      "metadata": {
        "id": "IrDNNkNTEEYz"
      },
      "source": [
        "# Первая часть. Исследование"
      ]
    },
    {
      "cell_type": "markdown",
      "metadata": {
        "id": "oorR63-nilXY"
      },
      "source": [
        "Установим библиотеки для работы:"
      ]
    },
    {
      "cell_type": "code",
      "execution_count": null,
      "metadata": {
        "id": "93Vz0nsHJeOZ",
        "scrolled": true
      },
      "outputs": [],
      "source": [
        "!pip install catboost\n",
        "!pip install scikit-plot\n",
        "!pip install xgboost\n",
        "!pip install seaborn"
      ]
    },
    {
      "cell_type": "markdown",
      "metadata": {
        "id": "AHqrdSdiior2"
      },
      "source": [
        "Проведем импорт библиотек:"
      ]
    },
    {
      "cell_type": "code",
      "execution_count": null,
      "metadata": {
        "id": "lzLqEeZKEEYz"
      },
      "outputs": [],
      "source": [
        "import matplotlib.pyplot as plt\n",
        "import numpy as np\n",
        "import pandas as pd\n",
        "import scikitplot as skplt\n",
        "import seaborn as sns\n",
        "import warnings\n",
        "\n",
        "from catboost import Pool, CatBoostClassifier, cv\n",
        "\n",
        "from pandas.core.common import random_state\n",
        "\n",
        "from sklearn.dummy import DummyClassifier\n",
        "from sklearn.ensemble import RandomForestClassifier\n",
        "from sklearn.linear_model import LogisticRegression, LogisticRegressionCV\n",
        "from sklearn.metrics import accuracy_score, roc_auc_score, roc_curve\n",
        "from sklearn.model_selection import train_test_split, cross_val_score, GridSearchCV, KFold, StratifiedShuffleSplit\n",
        "from sklearn.pipeline import make_pipeline\n",
        "from sklearn.preprocessing import StandardScaler, RobustScaler, LabelEncoder, OneHotEncoder\n",
        "from sklearn.utils import shuffle\n",
        "\n",
        "from xgboost import XGBClassifier"
      ]
    },
    {
      "cell_type": "code",
      "execution_count": null,
      "metadata": {
        "id": "Zkfefl5kIkRg"
      },
      "outputs": [],
      "source": [
        "warnings.filterwarnings('ignore')"
      ]
    },
    {
      "cell_type": "markdown",
      "metadata": {
        "id": "LOlxdURSEEY3"
      },
      "source": [
        "## Загрузка данных"
      ]
    },
    {
      "cell_type": "markdown",
      "metadata": {
        "id": "o0oLkBBTivmm"
      },
      "source": [
        "Прочитаем файлы с данными для обучения:"
      ]
    },
    {
      "cell_type": "code",
      "execution_count": null,
      "metadata": {
        "id": "pw-Brue9EEY3"
      },
      "outputs": [],
      "source": [
        "df_train = pd.read_csv(f\"/content/train.csv\")"
      ]
    },
    {
      "cell_type": "code",
      "execution_count": null,
      "metadata": {
        "colab": {
          "base_uri": "https://localhost:8080/",
          "height": 322
        },
        "id": "qTE5MMOFId1p",
        "outputId": "7f269c62-2a21-493f-d003-ca940acd44f8"
      },
      "outputs": [
        {
          "output_type": "execute_result",
          "data": {
            "text/plain": [
              "   ClientPeriod  MonthlySpending TotalSpent     Sex  IsSeniorCitizen  \\\n",
              "0            55            19.50    1026.35    Male                0   \n",
              "1            72            25.85     1872.2    Male                0   \n",
              "2             1            75.90       75.9    Male                0   \n",
              "3            32            79.30       2570  Female                1   \n",
              "4            60           115.25    6758.45  Female                0   \n",
              "\n",
              "  HasPartner HasChild HasPhoneService HasMultiplePhoneNumbers  \\\n",
              "0        Yes      Yes             Yes                      No   \n",
              "1        Yes       No             Yes                     Yes   \n",
              "2         No       No             Yes                      No   \n",
              "3        Yes       No             Yes                     Yes   \n",
              "4        Yes      Yes             Yes                     Yes   \n",
              "\n",
              "  HasInternetService HasOnlineSecurityService      HasOnlineBackup  \\\n",
              "0                 No      No internet service  No internet service   \n",
              "1                 No      No internet service  No internet service   \n",
              "2        Fiber optic                       No                   No   \n",
              "3        Fiber optic                       No                   No   \n",
              "4        Fiber optic                      Yes                  Yes   \n",
              "\n",
              "   HasDeviceProtection HasTechSupportAccess          HasOnlineTV  \\\n",
              "0  No internet service  No internet service  No internet service   \n",
              "1  No internet service  No internet service  No internet service   \n",
              "2                   No                  Yes                   No   \n",
              "3                  Yes                   No                   No   \n",
              "4                  Yes                  Yes                  Yes   \n",
              "\n",
              "  HasMovieSubscription HasContractPhone IsBillingPaperless  \\\n",
              "0  No internet service         One year                 No   \n",
              "1  No internet service         Two year                 No   \n",
              "2                   No   Month-to-month                Yes   \n",
              "3                   No   Month-to-month                 No   \n",
              "4                  Yes         Two year                 No   \n",
              "\n",
              "             PaymentMethod  Churn  \n",
              "0             Mailed check      0  \n",
              "1  Credit card (automatic)      0  \n",
              "2         Electronic check      1  \n",
              "3             Mailed check      0  \n",
              "4  Credit card (automatic)      0  "
            ],
            "text/html": [
              "\n",
              "  <div id=\"df-b797401e-b0ec-44c4-9c64-50c23dea7f6b\">\n",
              "    <div class=\"colab-df-container\">\n",
              "      <div>\n",
              "<style scoped>\n",
              "    .dataframe tbody tr th:only-of-type {\n",
              "        vertical-align: middle;\n",
              "    }\n",
              "\n",
              "    .dataframe tbody tr th {\n",
              "        vertical-align: top;\n",
              "    }\n",
              "\n",
              "    .dataframe thead th {\n",
              "        text-align: right;\n",
              "    }\n",
              "</style>\n",
              "<table border=\"1\" class=\"dataframe\">\n",
              "  <thead>\n",
              "    <tr style=\"text-align: right;\">\n",
              "      <th></th>\n",
              "      <th>ClientPeriod</th>\n",
              "      <th>MonthlySpending</th>\n",
              "      <th>TotalSpent</th>\n",
              "      <th>Sex</th>\n",
              "      <th>IsSeniorCitizen</th>\n",
              "      <th>HasPartner</th>\n",
              "      <th>HasChild</th>\n",
              "      <th>HasPhoneService</th>\n",
              "      <th>HasMultiplePhoneNumbers</th>\n",
              "      <th>HasInternetService</th>\n",
              "      <th>HasOnlineSecurityService</th>\n",
              "      <th>HasOnlineBackup</th>\n",
              "      <th>HasDeviceProtection</th>\n",
              "      <th>HasTechSupportAccess</th>\n",
              "      <th>HasOnlineTV</th>\n",
              "      <th>HasMovieSubscription</th>\n",
              "      <th>HasContractPhone</th>\n",
              "      <th>IsBillingPaperless</th>\n",
              "      <th>PaymentMethod</th>\n",
              "      <th>Churn</th>\n",
              "    </tr>\n",
              "  </thead>\n",
              "  <tbody>\n",
              "    <tr>\n",
              "      <th>0</th>\n",
              "      <td>55</td>\n",
              "      <td>19.50</td>\n",
              "      <td>1026.35</td>\n",
              "      <td>Male</td>\n",
              "      <td>0</td>\n",
              "      <td>Yes</td>\n",
              "      <td>Yes</td>\n",
              "      <td>Yes</td>\n",
              "      <td>No</td>\n",
              "      <td>No</td>\n",
              "      <td>No internet service</td>\n",
              "      <td>No internet service</td>\n",
              "      <td>No internet service</td>\n",
              "      <td>No internet service</td>\n",
              "      <td>No internet service</td>\n",
              "      <td>No internet service</td>\n",
              "      <td>One year</td>\n",
              "      <td>No</td>\n",
              "      <td>Mailed check</td>\n",
              "      <td>0</td>\n",
              "    </tr>\n",
              "    <tr>\n",
              "      <th>1</th>\n",
              "      <td>72</td>\n",
              "      <td>25.85</td>\n",
              "      <td>1872.2</td>\n",
              "      <td>Male</td>\n",
              "      <td>0</td>\n",
              "      <td>Yes</td>\n",
              "      <td>No</td>\n",
              "      <td>Yes</td>\n",
              "      <td>Yes</td>\n",
              "      <td>No</td>\n",
              "      <td>No internet service</td>\n",
              "      <td>No internet service</td>\n",
              "      <td>No internet service</td>\n",
              "      <td>No internet service</td>\n",
              "      <td>No internet service</td>\n",
              "      <td>No internet service</td>\n",
              "      <td>Two year</td>\n",
              "      <td>No</td>\n",
              "      <td>Credit card (automatic)</td>\n",
              "      <td>0</td>\n",
              "    </tr>\n",
              "    <tr>\n",
              "      <th>2</th>\n",
              "      <td>1</td>\n",
              "      <td>75.90</td>\n",
              "      <td>75.9</td>\n",
              "      <td>Male</td>\n",
              "      <td>0</td>\n",
              "      <td>No</td>\n",
              "      <td>No</td>\n",
              "      <td>Yes</td>\n",
              "      <td>No</td>\n",
              "      <td>Fiber optic</td>\n",
              "      <td>No</td>\n",
              "      <td>No</td>\n",
              "      <td>No</td>\n",
              "      <td>Yes</td>\n",
              "      <td>No</td>\n",
              "      <td>No</td>\n",
              "      <td>Month-to-month</td>\n",
              "      <td>Yes</td>\n",
              "      <td>Electronic check</td>\n",
              "      <td>1</td>\n",
              "    </tr>\n",
              "    <tr>\n",
              "      <th>3</th>\n",
              "      <td>32</td>\n",
              "      <td>79.30</td>\n",
              "      <td>2570</td>\n",
              "      <td>Female</td>\n",
              "      <td>1</td>\n",
              "      <td>Yes</td>\n",
              "      <td>No</td>\n",
              "      <td>Yes</td>\n",
              "      <td>Yes</td>\n",
              "      <td>Fiber optic</td>\n",
              "      <td>No</td>\n",
              "      <td>No</td>\n",
              "      <td>Yes</td>\n",
              "      <td>No</td>\n",
              "      <td>No</td>\n",
              "      <td>No</td>\n",
              "      <td>Month-to-month</td>\n",
              "      <td>No</td>\n",
              "      <td>Mailed check</td>\n",
              "      <td>0</td>\n",
              "    </tr>\n",
              "    <tr>\n",
              "      <th>4</th>\n",
              "      <td>60</td>\n",
              "      <td>115.25</td>\n",
              "      <td>6758.45</td>\n",
              "      <td>Female</td>\n",
              "      <td>0</td>\n",
              "      <td>Yes</td>\n",
              "      <td>Yes</td>\n",
              "      <td>Yes</td>\n",
              "      <td>Yes</td>\n",
              "      <td>Fiber optic</td>\n",
              "      <td>Yes</td>\n",
              "      <td>Yes</td>\n",
              "      <td>Yes</td>\n",
              "      <td>Yes</td>\n",
              "      <td>Yes</td>\n",
              "      <td>Yes</td>\n",
              "      <td>Two year</td>\n",
              "      <td>No</td>\n",
              "      <td>Credit card (automatic)</td>\n",
              "      <td>0</td>\n",
              "    </tr>\n",
              "  </tbody>\n",
              "</table>\n",
              "</div>\n",
              "      <button class=\"colab-df-convert\" onclick=\"convertToInteractive('df-b797401e-b0ec-44c4-9c64-50c23dea7f6b')\"\n",
              "              title=\"Convert this dataframe to an interactive table.\"\n",
              "              style=\"display:none;\">\n",
              "        \n",
              "  <svg xmlns=\"http://www.w3.org/2000/svg\" height=\"24px\"viewBox=\"0 0 24 24\"\n",
              "       width=\"24px\">\n",
              "    <path d=\"M0 0h24v24H0V0z\" fill=\"none\"/>\n",
              "    <path d=\"M18.56 5.44l.94 2.06.94-2.06 2.06-.94-2.06-.94-.94-2.06-.94 2.06-2.06.94zm-11 1L8.5 8.5l.94-2.06 2.06-.94-2.06-.94L8.5 2.5l-.94 2.06-2.06.94zm10 10l.94 2.06.94-2.06 2.06-.94-2.06-.94-.94-2.06-.94 2.06-2.06.94z\"/><path d=\"M17.41 7.96l-1.37-1.37c-.4-.4-.92-.59-1.43-.59-.52 0-1.04.2-1.43.59L10.3 9.45l-7.72 7.72c-.78.78-.78 2.05 0 2.83L4 21.41c.39.39.9.59 1.41.59.51 0 1.02-.2 1.41-.59l7.78-7.78 2.81-2.81c.8-.78.8-2.07 0-2.86zM5.41 20L4 18.59l7.72-7.72 1.47 1.35L5.41 20z\"/>\n",
              "  </svg>\n",
              "      </button>\n",
              "      \n",
              "  <style>\n",
              "    .colab-df-container {\n",
              "      display:flex;\n",
              "      flex-wrap:wrap;\n",
              "      gap: 12px;\n",
              "    }\n",
              "\n",
              "    .colab-df-convert {\n",
              "      background-color: #E8F0FE;\n",
              "      border: none;\n",
              "      border-radius: 50%;\n",
              "      cursor: pointer;\n",
              "      display: none;\n",
              "      fill: #1967D2;\n",
              "      height: 32px;\n",
              "      padding: 0 0 0 0;\n",
              "      width: 32px;\n",
              "    }\n",
              "\n",
              "    .colab-df-convert:hover {\n",
              "      background-color: #E2EBFA;\n",
              "      box-shadow: 0px 1px 2px rgba(60, 64, 67, 0.3), 0px 1px 3px 1px rgba(60, 64, 67, 0.15);\n",
              "      fill: #174EA6;\n",
              "    }\n",
              "\n",
              "    [theme=dark] .colab-df-convert {\n",
              "      background-color: #3B4455;\n",
              "      fill: #D2E3FC;\n",
              "    }\n",
              "\n",
              "    [theme=dark] .colab-df-convert:hover {\n",
              "      background-color: #434B5C;\n",
              "      box-shadow: 0px 1px 3px 1px rgba(0, 0, 0, 0.15);\n",
              "      filter: drop-shadow(0px 1px 2px rgba(0, 0, 0, 0.3));\n",
              "      fill: #FFFFFF;\n",
              "    }\n",
              "  </style>\n",
              "\n",
              "      <script>\n",
              "        const buttonEl =\n",
              "          document.querySelector('#df-b797401e-b0ec-44c4-9c64-50c23dea7f6b button.colab-df-convert');\n",
              "        buttonEl.style.display =\n",
              "          google.colab.kernel.accessAllowed ? 'block' : 'none';\n",
              "\n",
              "        async function convertToInteractive(key) {\n",
              "          const element = document.querySelector('#df-b797401e-b0ec-44c4-9c64-50c23dea7f6b');\n",
              "          const dataTable =\n",
              "            await google.colab.kernel.invokeFunction('convertToInteractive',\n",
              "                                                     [key], {});\n",
              "          if (!dataTable) return;\n",
              "\n",
              "          const docLinkHtml = 'Like what you see? Visit the ' +\n",
              "            '<a target=\"_blank\" href=https://colab.research.google.com/notebooks/data_table.ipynb>data table notebook</a>'\n",
              "            + ' to learn more about interactive tables.';\n",
              "          element.innerHTML = '';\n",
              "          dataTable['output_type'] = 'display_data';\n",
              "          await google.colab.output.renderOutput(dataTable, element);\n",
              "          const docLink = document.createElement('div');\n",
              "          docLink.innerHTML = docLinkHtml;\n",
              "          element.appendChild(docLink);\n",
              "        }\n",
              "      </script>\n",
              "    </div>\n",
              "  </div>\n",
              "  "
            ]
          },
          "metadata": {},
          "execution_count": 7
        }
      ],
      "source": [
        "df_train.head()"
      ]
    },
    {
      "cell_type": "code",
      "execution_count": null,
      "metadata": {
        "colab": {
          "base_uri": "https://localhost:8080/"
        },
        "id": "ZVxPi67lJF_4",
        "outputId": "c179f0ae-40ba-418a-8492-7eadca4abdf7"
      },
      "outputs": [
        {
          "output_type": "stream",
          "name": "stdout",
          "text": [
            "<class 'pandas.core.frame.DataFrame'>\n",
            "RangeIndex: 5282 entries, 0 to 5281\n",
            "Data columns (total 20 columns):\n",
            " #   Column                    Non-Null Count  Dtype  \n",
            "---  ------                    --------------  -----  \n",
            " 0   ClientPeriod              5282 non-null   int64  \n",
            " 1   MonthlySpending           5282 non-null   float64\n",
            " 2   TotalSpent                5282 non-null   object \n",
            " 3   Sex                       5282 non-null   object \n",
            " 4   IsSeniorCitizen           5282 non-null   int64  \n",
            " 5   HasPartner                5282 non-null   object \n",
            " 6   HasChild                  5282 non-null   object \n",
            " 7   HasPhoneService           5282 non-null   object \n",
            " 8   HasMultiplePhoneNumbers   5282 non-null   object \n",
            " 9   HasInternetService        5282 non-null   object \n",
            " 10  HasOnlineSecurityService  5282 non-null   object \n",
            " 11  HasOnlineBackup           5282 non-null   object \n",
            " 12  HasDeviceProtection       5282 non-null   object \n",
            " 13  HasTechSupportAccess      5282 non-null   object \n",
            " 14  HasOnlineTV               5282 non-null   object \n",
            " 15  HasMovieSubscription      5282 non-null   object \n",
            " 16  HasContractPhone          5282 non-null   object \n",
            " 17  IsBillingPaperless        5282 non-null   object \n",
            " 18  PaymentMethod             5282 non-null   object \n",
            " 19  Churn                     5282 non-null   int64  \n",
            "dtypes: float64(1), int64(3), object(16)\n",
            "memory usage: 825.4+ KB\n"
          ]
        }
      ],
      "source": [
        "df_train.info()"
      ]
    },
    {
      "cell_type": "code",
      "execution_count": null,
      "metadata": {
        "id": "zNoxb--VJ_Vw"
      },
      "outputs": [],
      "source": [
        "df_test = pd.read_csv(f\"/content/test.csv)"
      ]
    },
    {
      "cell_type": "code",
      "execution_count": null,
      "metadata": {
        "colab": {
          "base_uri": "https://localhost:8080/",
          "height": 322
        },
        "id": "FFa0P3TzKC1A",
        "outputId": "150cf394-d92f-4ee2-dc7c-e00322625ea1"
      },
      "outputs": [
        {
          "output_type": "execute_result",
          "data": {
            "text/plain": [
              "   ClientPeriod  MonthlySpending TotalSpent     Sex  IsSeniorCitizen  \\\n",
              "0            42            56.10    2386.85    Male                0   \n",
              "1            29            98.50    3004.15    Male                1   \n",
              "2             9            76.25     684.85    Male                0   \n",
              "3            67            74.00     4868.4  Female                0   \n",
              "4            71            20.10     1389.6  Female                0   \n",
              "\n",
              "  HasPartner HasChild HasPhoneService HasMultiplePhoneNumbers  \\\n",
              "0        Yes       No             Yes                     Yes   \n",
              "1        Yes       No             Yes                     Yes   \n",
              "2         No       No             Yes                     Yes   \n",
              "3        Yes      Yes             Yes                     Yes   \n",
              "4        Yes      Yes             Yes                      No   \n",
              "\n",
              "  HasInternetService HasOnlineSecurityService      HasOnlineBackup  \\\n",
              "0                DSL                      Yes                   No   \n",
              "1        Fiber optic                       No                   No   \n",
              "2        Fiber optic                       No                   No   \n",
              "3                DSL                      Yes                  Yes   \n",
              "4                 No      No internet service  No internet service   \n",
              "\n",
              "   HasDeviceProtection HasTechSupportAccess          HasOnlineTV  \\\n",
              "0                   No                   No                   No   \n",
              "1                  Yes                   No                  Yes   \n",
              "2                   No                   No                   No   \n",
              "3                   No                  Yes                  Yes   \n",
              "4  No internet service  No internet service  No internet service   \n",
              "\n",
              "  HasMovieSubscription HasContractPhone IsBillingPaperless  \\\n",
              "0                   No         One year                 No   \n",
              "1                  Yes   Month-to-month                Yes   \n",
              "2                   No   Month-to-month                Yes   \n",
              "3                   No         Two year                 No   \n",
              "4  No internet service         Two year                 No   \n",
              "\n",
              "               PaymentMethod  \n",
              "0    Credit card (automatic)  \n",
              "1           Electronic check  \n",
              "2           Electronic check  \n",
              "3    Credit card (automatic)  \n",
              "4  Bank transfer (automatic)  "
            ],
            "text/html": [
              "\n",
              "  <div id=\"df-ed82b3a7-8c86-439b-914f-c67ad4cb500f\">\n",
              "    <div class=\"colab-df-container\">\n",
              "      <div>\n",
              "<style scoped>\n",
              "    .dataframe tbody tr th:only-of-type {\n",
              "        vertical-align: middle;\n",
              "    }\n",
              "\n",
              "    .dataframe tbody tr th {\n",
              "        vertical-align: top;\n",
              "    }\n",
              "\n",
              "    .dataframe thead th {\n",
              "        text-align: right;\n",
              "    }\n",
              "</style>\n",
              "<table border=\"1\" class=\"dataframe\">\n",
              "  <thead>\n",
              "    <tr style=\"text-align: right;\">\n",
              "      <th></th>\n",
              "      <th>ClientPeriod</th>\n",
              "      <th>MonthlySpending</th>\n",
              "      <th>TotalSpent</th>\n",
              "      <th>Sex</th>\n",
              "      <th>IsSeniorCitizen</th>\n",
              "      <th>HasPartner</th>\n",
              "      <th>HasChild</th>\n",
              "      <th>HasPhoneService</th>\n",
              "      <th>HasMultiplePhoneNumbers</th>\n",
              "      <th>HasInternetService</th>\n",
              "      <th>HasOnlineSecurityService</th>\n",
              "      <th>HasOnlineBackup</th>\n",
              "      <th>HasDeviceProtection</th>\n",
              "      <th>HasTechSupportAccess</th>\n",
              "      <th>HasOnlineTV</th>\n",
              "      <th>HasMovieSubscription</th>\n",
              "      <th>HasContractPhone</th>\n",
              "      <th>IsBillingPaperless</th>\n",
              "      <th>PaymentMethod</th>\n",
              "    </tr>\n",
              "  </thead>\n",
              "  <tbody>\n",
              "    <tr>\n",
              "      <th>0</th>\n",
              "      <td>42</td>\n",
              "      <td>56.10</td>\n",
              "      <td>2386.85</td>\n",
              "      <td>Male</td>\n",
              "      <td>0</td>\n",
              "      <td>Yes</td>\n",
              "      <td>No</td>\n",
              "      <td>Yes</td>\n",
              "      <td>Yes</td>\n",
              "      <td>DSL</td>\n",
              "      <td>Yes</td>\n",
              "      <td>No</td>\n",
              "      <td>No</td>\n",
              "      <td>No</td>\n",
              "      <td>No</td>\n",
              "      <td>No</td>\n",
              "      <td>One year</td>\n",
              "      <td>No</td>\n",
              "      <td>Credit card (automatic)</td>\n",
              "    </tr>\n",
              "    <tr>\n",
              "      <th>1</th>\n",
              "      <td>29</td>\n",
              "      <td>98.50</td>\n",
              "      <td>3004.15</td>\n",
              "      <td>Male</td>\n",
              "      <td>1</td>\n",
              "      <td>Yes</td>\n",
              "      <td>No</td>\n",
              "      <td>Yes</td>\n",
              "      <td>Yes</td>\n",
              "      <td>Fiber optic</td>\n",
              "      <td>No</td>\n",
              "      <td>No</td>\n",
              "      <td>Yes</td>\n",
              "      <td>No</td>\n",
              "      <td>Yes</td>\n",
              "      <td>Yes</td>\n",
              "      <td>Month-to-month</td>\n",
              "      <td>Yes</td>\n",
              "      <td>Electronic check</td>\n",
              "    </tr>\n",
              "    <tr>\n",
              "      <th>2</th>\n",
              "      <td>9</td>\n",
              "      <td>76.25</td>\n",
              "      <td>684.85</td>\n",
              "      <td>Male</td>\n",
              "      <td>0</td>\n",
              "      <td>No</td>\n",
              "      <td>No</td>\n",
              "      <td>Yes</td>\n",
              "      <td>Yes</td>\n",
              "      <td>Fiber optic</td>\n",
              "      <td>No</td>\n",
              "      <td>No</td>\n",
              "      <td>No</td>\n",
              "      <td>No</td>\n",
              "      <td>No</td>\n",
              "      <td>No</td>\n",
              "      <td>Month-to-month</td>\n",
              "      <td>Yes</td>\n",
              "      <td>Electronic check</td>\n",
              "    </tr>\n",
              "    <tr>\n",
              "      <th>3</th>\n",
              "      <td>67</td>\n",
              "      <td>74.00</td>\n",
              "      <td>4868.4</td>\n",
              "      <td>Female</td>\n",
              "      <td>0</td>\n",
              "      <td>Yes</td>\n",
              "      <td>Yes</td>\n",
              "      <td>Yes</td>\n",
              "      <td>Yes</td>\n",
              "      <td>DSL</td>\n",
              "      <td>Yes</td>\n",
              "      <td>Yes</td>\n",
              "      <td>No</td>\n",
              "      <td>Yes</td>\n",
              "      <td>Yes</td>\n",
              "      <td>No</td>\n",
              "      <td>Two year</td>\n",
              "      <td>No</td>\n",
              "      <td>Credit card (automatic)</td>\n",
              "    </tr>\n",
              "    <tr>\n",
              "      <th>4</th>\n",
              "      <td>71</td>\n",
              "      <td>20.10</td>\n",
              "      <td>1389.6</td>\n",
              "      <td>Female</td>\n",
              "      <td>0</td>\n",
              "      <td>Yes</td>\n",
              "      <td>Yes</td>\n",
              "      <td>Yes</td>\n",
              "      <td>No</td>\n",
              "      <td>No</td>\n",
              "      <td>No internet service</td>\n",
              "      <td>No internet service</td>\n",
              "      <td>No internet service</td>\n",
              "      <td>No internet service</td>\n",
              "      <td>No internet service</td>\n",
              "      <td>No internet service</td>\n",
              "      <td>Two year</td>\n",
              "      <td>No</td>\n",
              "      <td>Bank transfer (automatic)</td>\n",
              "    </tr>\n",
              "  </tbody>\n",
              "</table>\n",
              "</div>\n",
              "      <button class=\"colab-df-convert\" onclick=\"convertToInteractive('df-ed82b3a7-8c86-439b-914f-c67ad4cb500f')\"\n",
              "              title=\"Convert this dataframe to an interactive table.\"\n",
              "              style=\"display:none;\">\n",
              "        \n",
              "  <svg xmlns=\"http://www.w3.org/2000/svg\" height=\"24px\"viewBox=\"0 0 24 24\"\n",
              "       width=\"24px\">\n",
              "    <path d=\"M0 0h24v24H0V0z\" fill=\"none\"/>\n",
              "    <path d=\"M18.56 5.44l.94 2.06.94-2.06 2.06-.94-2.06-.94-.94-2.06-.94 2.06-2.06.94zm-11 1L8.5 8.5l.94-2.06 2.06-.94-2.06-.94L8.5 2.5l-.94 2.06-2.06.94zm10 10l.94 2.06.94-2.06 2.06-.94-2.06-.94-.94-2.06-.94 2.06-2.06.94z\"/><path d=\"M17.41 7.96l-1.37-1.37c-.4-.4-.92-.59-1.43-.59-.52 0-1.04.2-1.43.59L10.3 9.45l-7.72 7.72c-.78.78-.78 2.05 0 2.83L4 21.41c.39.39.9.59 1.41.59.51 0 1.02-.2 1.41-.59l7.78-7.78 2.81-2.81c.8-.78.8-2.07 0-2.86zM5.41 20L4 18.59l7.72-7.72 1.47 1.35L5.41 20z\"/>\n",
              "  </svg>\n",
              "      </button>\n",
              "      \n",
              "  <style>\n",
              "    .colab-df-container {\n",
              "      display:flex;\n",
              "      flex-wrap:wrap;\n",
              "      gap: 12px;\n",
              "    }\n",
              "\n",
              "    .colab-df-convert {\n",
              "      background-color: #E8F0FE;\n",
              "      border: none;\n",
              "      border-radius: 50%;\n",
              "      cursor: pointer;\n",
              "      display: none;\n",
              "      fill: #1967D2;\n",
              "      height: 32px;\n",
              "      padding: 0 0 0 0;\n",
              "      width: 32px;\n",
              "    }\n",
              "\n",
              "    .colab-df-convert:hover {\n",
              "      background-color: #E2EBFA;\n",
              "      box-shadow: 0px 1px 2px rgba(60, 64, 67, 0.3), 0px 1px 3px 1px rgba(60, 64, 67, 0.15);\n",
              "      fill: #174EA6;\n",
              "    }\n",
              "\n",
              "    [theme=dark] .colab-df-convert {\n",
              "      background-color: #3B4455;\n",
              "      fill: #D2E3FC;\n",
              "    }\n",
              "\n",
              "    [theme=dark] .colab-df-convert:hover {\n",
              "      background-color: #434B5C;\n",
              "      box-shadow: 0px 1px 3px 1px rgba(0, 0, 0, 0.15);\n",
              "      filter: drop-shadow(0px 1px 2px rgba(0, 0, 0, 0.3));\n",
              "      fill: #FFFFFF;\n",
              "    }\n",
              "  </style>\n",
              "\n",
              "      <script>\n",
              "        const buttonEl =\n",
              "          document.querySelector('#df-ed82b3a7-8c86-439b-914f-c67ad4cb500f button.colab-df-convert');\n",
              "        buttonEl.style.display =\n",
              "          google.colab.kernel.accessAllowed ? 'block' : 'none';\n",
              "\n",
              "        async function convertToInteractive(key) {\n",
              "          const element = document.querySelector('#df-ed82b3a7-8c86-439b-914f-c67ad4cb500f');\n",
              "          const dataTable =\n",
              "            await google.colab.kernel.invokeFunction('convertToInteractive',\n",
              "                                                     [key], {});\n",
              "          if (!dataTable) return;\n",
              "\n",
              "          const docLinkHtml = 'Like what you see? Visit the ' +\n",
              "            '<a target=\"_blank\" href=https://colab.research.google.com/notebooks/data_table.ipynb>data table notebook</a>'\n",
              "            + ' to learn more about interactive tables.';\n",
              "          element.innerHTML = '';\n",
              "          dataTable['output_type'] = 'display_data';\n",
              "          await google.colab.output.renderOutput(dataTable, element);\n",
              "          const docLink = document.createElement('div');\n",
              "          docLink.innerHTML = docLinkHtml;\n",
              "          element.appendChild(docLink);\n",
              "        }\n",
              "      </script>\n",
              "    </div>\n",
              "  </div>\n",
              "  "
            ]
          },
          "metadata": {},
          "execution_count": 10
        }
      ],
      "source": [
        "df_test.head()"
      ]
    },
    {
      "cell_type": "code",
      "execution_count": null,
      "metadata": {
        "colab": {
          "base_uri": "https://localhost:8080/"
        },
        "id": "iqUXmtgmKFV9",
        "outputId": "58a37541-3cc8-4d4a-ff4a-f208841f2066"
      },
      "outputs": [
        {
          "output_type": "stream",
          "name": "stdout",
          "text": [
            "<class 'pandas.core.frame.DataFrame'>\n",
            "RangeIndex: 1761 entries, 0 to 1760\n",
            "Data columns (total 19 columns):\n",
            " #   Column                    Non-Null Count  Dtype  \n",
            "---  ------                    --------------  -----  \n",
            " 0   ClientPeriod              1761 non-null   int64  \n",
            " 1   MonthlySpending           1761 non-null   float64\n",
            " 2   TotalSpent                1761 non-null   object \n",
            " 3   Sex                       1761 non-null   object \n",
            " 4   IsSeniorCitizen           1761 non-null   int64  \n",
            " 5   HasPartner                1761 non-null   object \n",
            " 6   HasChild                  1761 non-null   object \n",
            " 7   HasPhoneService           1761 non-null   object \n",
            " 8   HasMultiplePhoneNumbers   1761 non-null   object \n",
            " 9   HasInternetService        1761 non-null   object \n",
            " 10  HasOnlineSecurityService  1761 non-null   object \n",
            " 11  HasOnlineBackup           1761 non-null   object \n",
            " 12  HasDeviceProtection       1761 non-null   object \n",
            " 13  HasTechSupportAccess      1761 non-null   object \n",
            " 14  HasOnlineTV               1761 non-null   object \n",
            " 15  HasMovieSubscription      1761 non-null   object \n",
            " 16  HasContractPhone          1761 non-null   object \n",
            " 17  IsBillingPaperless        1761 non-null   object \n",
            " 18  PaymentMethod             1761 non-null   object \n",
            "dtypes: float64(1), int64(2), object(16)\n",
            "memory usage: 261.5+ KB\n"
          ]
        }
      ],
      "source": [
        "df_test.info()"
      ]
    },
    {
      "cell_type": "markdown",
      "metadata": {
        "id": "Yusqb-F3i2BV"
      },
      "source": [
        "Разеделим колонки на числовые и категориальные:"
      ]
    },
    {
      "cell_type": "code",
      "execution_count": null,
      "metadata": {
        "id": "KgnkkF5bEEY9"
      },
      "outputs": [],
      "source": [
        "# Числовые признаки\n",
        "num_cols = [\n",
        "    'ClientPeriod',\n",
        "    'MonthlySpending',\n",
        "    'TotalSpent'\n",
        "]\n",
        "\n",
        "# Категориальные признаки\n",
        "cat_cols = [\n",
        "    'Sex',\n",
        "    'IsSeniorCitizen',\n",
        "    'HasPartner',\n",
        "    'HasChild',\n",
        "    'HasPhoneService',\n",
        "    'HasMultiplePhoneNumbers',\n",
        "    'HasInternetService',\n",
        "    'HasOnlineSecurityService',\n",
        "    'HasOnlineBackup',\n",
        "    'HasDeviceProtection',\n",
        "    'HasTechSupportAccess',\n",
        "    'HasOnlineTV',\n",
        "    'HasMovieSubscription',\n",
        "    'HasContractPhone',\n",
        "    'IsBillingPaperless',\n",
        "    'PaymentMethod'\n",
        "]\n",
        "\n",
        "feature_cols = num_cols + cat_cols\n",
        "target_col = 'Churn'"
      ]
    },
    {
      "cell_type": "markdown",
      "metadata": {
        "id": "OdA4sfnnKNpC"
      },
      "source": [
        "## Подготовка данных\n"
      ]
    },
    {
      "cell_type": "markdown",
      "metadata": {
        "id": "fPUQde_IsH6a"
      },
      "source": [
        "### Обработка пропущенный значений. Тип данных"
      ]
    },
    {
      "cell_type": "markdown",
      "metadata": {
        "id": "ib51f5FMqfPy"
      },
      "source": [
        "Обработаем колонку `TotalSpent` - она должна быть числовой, и колонку `IsSeniorCitizen` - ее мы следаелм категориальной."
      ]
    },
    {
      "cell_type": "markdown",
      "metadata": {
        "id": "Cxtnq0zSqqWA"
      },
      "source": [
        "Поскольку сразу мы не может изменить тип, нужно найти в ней не числовые данные:"
      ]
    },
    {
      "cell_type": "code",
      "execution_count": null,
      "metadata": {
        "colab": {
          "base_uri": "https://localhost:8080/"
        },
        "id": "7xucYimUoUx9",
        "outputId": "8a025082-0b5c-4461-89a5-15948b7dac1a"
      },
      "outputs": [
        {
          "output_type": "execute_result",
          "data": {
            "text/plain": [
              "19.65    6\n",
              "20.05    6\n",
              "19.75    8\n",
              "20.2     9\n",
              "         9\n",
              "Name: TotalSpent, dtype: int64"
            ]
          },
          "metadata": {},
          "execution_count": 13
        }
      ],
      "source": [
        "df_train['TotalSpent'].value_counts().sort_values().tail()"
      ]
    },
    {
      "cell_type": "markdown",
      "metadata": {
        "id": "P4DUkaLVquwY"
      },
      "source": [
        "Посмотрим сколько данных пропущено в колонке `TotalSpent`:"
      ]
    },
    {
      "cell_type": "code",
      "execution_count": null,
      "metadata": {
        "colab": {
          "base_uri": "https://localhost:8080/"
        },
        "id": "yukPM5Lvp20g",
        "outputId": "5786610a-3107-4f25-bf08-998074fd1cfd"
      },
      "outputs": [
        {
          "output_type": "execute_result",
          "data": {
            "text/plain": [
              "9"
            ]
          },
          "metadata": {},
          "execution_count": 14
        }
      ],
      "source": [
        "df_train[df_train['TotalSpent'] == ' '].shape[0]"
      ]
    },
    {
      "cell_type": "code",
      "execution_count": null,
      "metadata": {
        "colab": {
          "base_uri": "https://localhost:8080/"
        },
        "id": "L1iIvgFHGH8J",
        "outputId": "adb637b4-0f2a-4699-d4b0-d0f27f742817"
      },
      "outputs": [
        {
          "output_type": "execute_result",
          "data": {
            "text/plain": [
              "2"
            ]
          },
          "metadata": {},
          "execution_count": 15
        }
      ],
      "source": [
        "df_test[df_test['TotalSpent'] == ' '].shape[0]"
      ]
    },
    {
      "cell_type": "markdown",
      "metadata": {
        "id": "Aqw5z76Uq4II"
      },
      "source": [
        "Перезапишем наши данные для обучения и тестрирования, а также приведем в нужный тип колонки `TotalSpent` и `IsSeniorCitizen`:"
      ]
    },
    {
      "cell_type": "code",
      "execution_count": null,
      "metadata": {
        "id": "aEZofibYGH8L"
      },
      "outputs": [],
      "source": [
        "median_total_spent_train = df_train['TotalSpent'][df_train['TotalSpent']!=' '].astype('float').median()\n",
        "df_train['TotalSpent'] = df_train['TotalSpent'].replace(' ', median_total_spent_train)\n",
        "df_train['TotalSpent'] = df_train['TotalSpent'].astype('float')"
      ]
    },
    {
      "cell_type": "code",
      "execution_count": null,
      "metadata": {
        "id": "meQ0PG2HGH8L"
      },
      "outputs": [],
      "source": [
        "median_total_spent_test = df_test['TotalSpent'][df_test['TotalSpent']!=' '].astype('float').median()\n",
        "df_test['TotalSpent'] = df_test['TotalSpent'].replace(' ', median_total_spent_train)\n",
        "df_test['TotalSpent'] = df_test['TotalSpent'].astype('float')"
      ]
    },
    {
      "cell_type": "code",
      "execution_count": null,
      "metadata": {
        "id": "rtylZkGfsCqG"
      },
      "outputs": [],
      "source": [
        "df_train['IsSeniorCitizen'] = df_train['IsSeniorCitizen'].astype('object')"
      ]
    },
    {
      "cell_type": "code",
      "execution_count": null,
      "metadata": {
        "id": "OskwbjSnrRmW"
      },
      "outputs": [],
      "source": [
        "df_test['IsSeniorCitizen'] = df_test['IsSeniorCitizen'].astype('object')"
      ]
    },
    {
      "cell_type": "markdown",
      "metadata": {
        "id": "gBLHlEKFrSVp"
      },
      "source": [
        "### Разделение выборки на обучающую и валидационную"
      ]
    },
    {
      "cell_type": "markdown",
      "metadata": {
        "id": "yFeCAVCusRf0"
      },
      "source": [
        "Разделим выборки на обучающую и валидационную, а также определим признаки для обучения, и целевые признаки:"
      ]
    },
    {
      "cell_type": "code",
      "execution_count": null,
      "metadata": {
        "id": "_kfirqwB3Ryx"
      },
      "outputs": [],
      "source": [
        "features_train = df_train.drop('Churn', axis=1)\n",
        "target_train = df_train['Churn']"
      ]
    },
    {
      "cell_type": "code",
      "execution_count": null,
      "metadata": {
        "id": "SEwN8AWXBYVB"
      },
      "outputs": [],
      "source": [
        "features_train, features_valid = train_test_split(features_train, test_size=0.25, random_state=123)\n",
        "target_train, target_valid = train_test_split(target_train, test_size=0.25, random_state=123)"
      ]
    },
    {
      "cell_type": "markdown",
      "metadata": {
        "id": "LIJ3Lw-_sbWn"
      },
      "source": [
        "Посмотрим на баланс классов:"
      ]
    },
    {
      "cell_type": "code",
      "execution_count": null,
      "metadata": {
        "colab": {
          "base_uri": "https://localhost:8080/"
        },
        "id": "zB0MJ7uCrQ5b",
        "outputId": "1aec54c9-3026-445d-e15b-e7a2474dd502"
      },
      "outputs": [
        {
          "output_type": "execute_result",
          "data": {
            "text/plain": [
              "0    2910\n",
              "1    1051\n",
              "Name: Churn, dtype: int64"
            ]
          },
          "metadata": {},
          "execution_count": 22
        }
      ],
      "source": [
        "target_train.value_counts()"
      ]
    },
    {
      "cell_type": "markdown",
      "metadata": {
        "id": "41l1W7ImrQ4I"
      },
      "source": [
        "Наблюдается дисбаланс, что требуется учитывать при дальнешей работе"
      ]
    },
    {
      "cell_type": "markdown",
      "metadata": {
        "id": "nSxfCBoou9vj"
      },
      "source": [
        "### Масштабирование числовых признаков"
      ]
    },
    {
      "cell_type": "code",
      "execution_count": null,
      "metadata": {
        "id": "fW5dKXYxvBOb"
      },
      "outputs": [],
      "source": [
        "numeric = num_cols\n",
        "scaler = StandardScaler()\n",
        "pd.options.mode.chained_assignment = None\n",
        "scaler.fit(features_train[numeric])\n",
        "features_train[numeric] = scaler.transform(features_train[numeric])\n",
        "features_valid[numeric] = scaler.transform(features_valid[numeric])"
      ]
    },
    {
      "cell_type": "code",
      "execution_count": null,
      "metadata": {
        "colab": {
          "base_uri": "https://localhost:8080/",
          "height": 206
        },
        "id": "Q4Fhn_3FvClw",
        "outputId": "7a77edaa-013f-4dc5-fb35-55d3875ed547",
        "scrolled": true
      },
      "outputs": [
        {
          "output_type": "execute_result",
          "data": {
            "text/plain": [
              "      ClientPeriod  MonthlySpending  TotalSpent\n",
              "2286     -0.213608        -1.468881   -0.769002\n",
              "5142      0.883167         0.840399    1.172112\n",
              "4014      0.720682         1.443396    1.392507\n",
              "3478      0.314469         0.480920    0.423075\n",
              "3989      1.614350        -0.123734    1.003265"
            ],
            "text/html": [
              "\n",
              "  <div id=\"df-e8cb8bba-c1ad-48eb-8a52-99cc6b67dfcc\">\n",
              "    <div class=\"colab-df-container\">\n",
              "      <div>\n",
              "<style scoped>\n",
              "    .dataframe tbody tr th:only-of-type {\n",
              "        vertical-align: middle;\n",
              "    }\n",
              "\n",
              "    .dataframe tbody tr th {\n",
              "        vertical-align: top;\n",
              "    }\n",
              "\n",
              "    .dataframe thead th {\n",
              "        text-align: right;\n",
              "    }\n",
              "</style>\n",
              "<table border=\"1\" class=\"dataframe\">\n",
              "  <thead>\n",
              "    <tr style=\"text-align: right;\">\n",
              "      <th></th>\n",
              "      <th>ClientPeriod</th>\n",
              "      <th>MonthlySpending</th>\n",
              "      <th>TotalSpent</th>\n",
              "    </tr>\n",
              "  </thead>\n",
              "  <tbody>\n",
              "    <tr>\n",
              "      <th>2286</th>\n",
              "      <td>-0.213608</td>\n",
              "      <td>-1.468881</td>\n",
              "      <td>-0.769002</td>\n",
              "    </tr>\n",
              "    <tr>\n",
              "      <th>5142</th>\n",
              "      <td>0.883167</td>\n",
              "      <td>0.840399</td>\n",
              "      <td>1.172112</td>\n",
              "    </tr>\n",
              "    <tr>\n",
              "      <th>4014</th>\n",
              "      <td>0.720682</td>\n",
              "      <td>1.443396</td>\n",
              "      <td>1.392507</td>\n",
              "    </tr>\n",
              "    <tr>\n",
              "      <th>3478</th>\n",
              "      <td>0.314469</td>\n",
              "      <td>0.480920</td>\n",
              "      <td>0.423075</td>\n",
              "    </tr>\n",
              "    <tr>\n",
              "      <th>3989</th>\n",
              "      <td>1.614350</td>\n",
              "      <td>-0.123734</td>\n",
              "      <td>1.003265</td>\n",
              "    </tr>\n",
              "  </tbody>\n",
              "</table>\n",
              "</div>\n",
              "      <button class=\"colab-df-convert\" onclick=\"convertToInteractive('df-e8cb8bba-c1ad-48eb-8a52-99cc6b67dfcc')\"\n",
              "              title=\"Convert this dataframe to an interactive table.\"\n",
              "              style=\"display:none;\">\n",
              "        \n",
              "  <svg xmlns=\"http://www.w3.org/2000/svg\" height=\"24px\"viewBox=\"0 0 24 24\"\n",
              "       width=\"24px\">\n",
              "    <path d=\"M0 0h24v24H0V0z\" fill=\"none\"/>\n",
              "    <path d=\"M18.56 5.44l.94 2.06.94-2.06 2.06-.94-2.06-.94-.94-2.06-.94 2.06-2.06.94zm-11 1L8.5 8.5l.94-2.06 2.06-.94-2.06-.94L8.5 2.5l-.94 2.06-2.06.94zm10 10l.94 2.06.94-2.06 2.06-.94-2.06-.94-.94-2.06-.94 2.06-2.06.94z\"/><path d=\"M17.41 7.96l-1.37-1.37c-.4-.4-.92-.59-1.43-.59-.52 0-1.04.2-1.43.59L10.3 9.45l-7.72 7.72c-.78.78-.78 2.05 0 2.83L4 21.41c.39.39.9.59 1.41.59.51 0 1.02-.2 1.41-.59l7.78-7.78 2.81-2.81c.8-.78.8-2.07 0-2.86zM5.41 20L4 18.59l7.72-7.72 1.47 1.35L5.41 20z\"/>\n",
              "  </svg>\n",
              "      </button>\n",
              "      \n",
              "  <style>\n",
              "    .colab-df-container {\n",
              "      display:flex;\n",
              "      flex-wrap:wrap;\n",
              "      gap: 12px;\n",
              "    }\n",
              "\n",
              "    .colab-df-convert {\n",
              "      background-color: #E8F0FE;\n",
              "      border: none;\n",
              "      border-radius: 50%;\n",
              "      cursor: pointer;\n",
              "      display: none;\n",
              "      fill: #1967D2;\n",
              "      height: 32px;\n",
              "      padding: 0 0 0 0;\n",
              "      width: 32px;\n",
              "    }\n",
              "\n",
              "    .colab-df-convert:hover {\n",
              "      background-color: #E2EBFA;\n",
              "      box-shadow: 0px 1px 2px rgba(60, 64, 67, 0.3), 0px 1px 3px 1px rgba(60, 64, 67, 0.15);\n",
              "      fill: #174EA6;\n",
              "    }\n",
              "\n",
              "    [theme=dark] .colab-df-convert {\n",
              "      background-color: #3B4455;\n",
              "      fill: #D2E3FC;\n",
              "    }\n",
              "\n",
              "    [theme=dark] .colab-df-convert:hover {\n",
              "      background-color: #434B5C;\n",
              "      box-shadow: 0px 1px 3px 1px rgba(0, 0, 0, 0.15);\n",
              "      filter: drop-shadow(0px 1px 2px rgba(0, 0, 0, 0.3));\n",
              "      fill: #FFFFFF;\n",
              "    }\n",
              "  </style>\n",
              "\n",
              "      <script>\n",
              "        const buttonEl =\n",
              "          document.querySelector('#df-e8cb8bba-c1ad-48eb-8a52-99cc6b67dfcc button.colab-df-convert');\n",
              "        buttonEl.style.display =\n",
              "          google.colab.kernel.accessAllowed ? 'block' : 'none';\n",
              "\n",
              "        async function convertToInteractive(key) {\n",
              "          const element = document.querySelector('#df-e8cb8bba-c1ad-48eb-8a52-99cc6b67dfcc');\n",
              "          const dataTable =\n",
              "            await google.colab.kernel.invokeFunction('convertToInteractive',\n",
              "                                                     [key], {});\n",
              "          if (!dataTable) return;\n",
              "\n",
              "          const docLinkHtml = 'Like what you see? Visit the ' +\n",
              "            '<a target=\"_blank\" href=https://colab.research.google.com/notebooks/data_table.ipynb>data table notebook</a>'\n",
              "            + ' to learn more about interactive tables.';\n",
              "          element.innerHTML = '';\n",
              "          dataTable['output_type'] = 'display_data';\n",
              "          await google.colab.output.renderOutput(dataTable, element);\n",
              "          const docLink = document.createElement('div');\n",
              "          docLink.innerHTML = docLinkHtml;\n",
              "          element.appendChild(docLink);\n",
              "        }\n",
              "      </script>\n",
              "    </div>\n",
              "  </div>\n",
              "  "
            ]
          },
          "metadata": {},
          "execution_count": 24
        }
      ],
      "source": [
        "features_train[numeric].head()"
      ]
    },
    {
      "cell_type": "code",
      "execution_count": null,
      "metadata": {
        "id": "RddzCR6FGH8U"
      },
      "outputs": [],
      "source": [
        "scaler.fit(df_test[numeric])\n",
        "df_test[numeric] = scaler.transform(df_test[numeric])"
      ]
    },
    {
      "cell_type": "code",
      "execution_count": null,
      "metadata": {
        "colab": {
          "base_uri": "https://localhost:8080/",
          "height": 206
        },
        "id": "Mawowx5CGH8V",
        "outputId": "ea429489-cd29-4429-ed56-f8708ed43997"
      },
      "outputs": [
        {
          "output_type": "execute_result",
          "data": {
            "text/plain": [
              "   ClientPeriod  MonthlySpending  TotalSpent\n",
              "0      0.394782        -0.274027    0.057007\n",
              "1     -0.133958         1.147644    0.330299\n",
              "2     -0.947404         0.401602   -0.696504\n",
              "3      1.411590         0.326160    1.155641\n",
              "4      1.574279        -1.481107   -0.384496"
            ],
            "text/html": [
              "\n",
              "  <div id=\"df-b9995393-f976-4598-8496-e6ddbb143111\">\n",
              "    <div class=\"colab-df-container\">\n",
              "      <div>\n",
              "<style scoped>\n",
              "    .dataframe tbody tr th:only-of-type {\n",
              "        vertical-align: middle;\n",
              "    }\n",
              "\n",
              "    .dataframe tbody tr th {\n",
              "        vertical-align: top;\n",
              "    }\n",
              "\n",
              "    .dataframe thead th {\n",
              "        text-align: right;\n",
              "    }\n",
              "</style>\n",
              "<table border=\"1\" class=\"dataframe\">\n",
              "  <thead>\n",
              "    <tr style=\"text-align: right;\">\n",
              "      <th></th>\n",
              "      <th>ClientPeriod</th>\n",
              "      <th>MonthlySpending</th>\n",
              "      <th>TotalSpent</th>\n",
              "    </tr>\n",
              "  </thead>\n",
              "  <tbody>\n",
              "    <tr>\n",
              "      <th>0</th>\n",
              "      <td>0.394782</td>\n",
              "      <td>-0.274027</td>\n",
              "      <td>0.057007</td>\n",
              "    </tr>\n",
              "    <tr>\n",
              "      <th>1</th>\n",
              "      <td>-0.133958</td>\n",
              "      <td>1.147644</td>\n",
              "      <td>0.330299</td>\n",
              "    </tr>\n",
              "    <tr>\n",
              "      <th>2</th>\n",
              "      <td>-0.947404</td>\n",
              "      <td>0.401602</td>\n",
              "      <td>-0.696504</td>\n",
              "    </tr>\n",
              "    <tr>\n",
              "      <th>3</th>\n",
              "      <td>1.411590</td>\n",
              "      <td>0.326160</td>\n",
              "      <td>1.155641</td>\n",
              "    </tr>\n",
              "    <tr>\n",
              "      <th>4</th>\n",
              "      <td>1.574279</td>\n",
              "      <td>-1.481107</td>\n",
              "      <td>-0.384496</td>\n",
              "    </tr>\n",
              "  </tbody>\n",
              "</table>\n",
              "</div>\n",
              "      <button class=\"colab-df-convert\" onclick=\"convertToInteractive('df-b9995393-f976-4598-8496-e6ddbb143111')\"\n",
              "              title=\"Convert this dataframe to an interactive table.\"\n",
              "              style=\"display:none;\">\n",
              "        \n",
              "  <svg xmlns=\"http://www.w3.org/2000/svg\" height=\"24px\"viewBox=\"0 0 24 24\"\n",
              "       width=\"24px\">\n",
              "    <path d=\"M0 0h24v24H0V0z\" fill=\"none\"/>\n",
              "    <path d=\"M18.56 5.44l.94 2.06.94-2.06 2.06-.94-2.06-.94-.94-2.06-.94 2.06-2.06.94zm-11 1L8.5 8.5l.94-2.06 2.06-.94-2.06-.94L8.5 2.5l-.94 2.06-2.06.94zm10 10l.94 2.06.94-2.06 2.06-.94-2.06-.94-.94-2.06-.94 2.06-2.06.94z\"/><path d=\"M17.41 7.96l-1.37-1.37c-.4-.4-.92-.59-1.43-.59-.52 0-1.04.2-1.43.59L10.3 9.45l-7.72 7.72c-.78.78-.78 2.05 0 2.83L4 21.41c.39.39.9.59 1.41.59.51 0 1.02-.2 1.41-.59l7.78-7.78 2.81-2.81c.8-.78.8-2.07 0-2.86zM5.41 20L4 18.59l7.72-7.72 1.47 1.35L5.41 20z\"/>\n",
              "  </svg>\n",
              "      </button>\n",
              "      \n",
              "  <style>\n",
              "    .colab-df-container {\n",
              "      display:flex;\n",
              "      flex-wrap:wrap;\n",
              "      gap: 12px;\n",
              "    }\n",
              "\n",
              "    .colab-df-convert {\n",
              "      background-color: #E8F0FE;\n",
              "      border: none;\n",
              "      border-radius: 50%;\n",
              "      cursor: pointer;\n",
              "      display: none;\n",
              "      fill: #1967D2;\n",
              "      height: 32px;\n",
              "      padding: 0 0 0 0;\n",
              "      width: 32px;\n",
              "    }\n",
              "\n",
              "    .colab-df-convert:hover {\n",
              "      background-color: #E2EBFA;\n",
              "      box-shadow: 0px 1px 2px rgba(60, 64, 67, 0.3), 0px 1px 3px 1px rgba(60, 64, 67, 0.15);\n",
              "      fill: #174EA6;\n",
              "    }\n",
              "\n",
              "    [theme=dark] .colab-df-convert {\n",
              "      background-color: #3B4455;\n",
              "      fill: #D2E3FC;\n",
              "    }\n",
              "\n",
              "    [theme=dark] .colab-df-convert:hover {\n",
              "      background-color: #434B5C;\n",
              "      box-shadow: 0px 1px 3px 1px rgba(0, 0, 0, 0.15);\n",
              "      filter: drop-shadow(0px 1px 2px rgba(0, 0, 0, 0.3));\n",
              "      fill: #FFFFFF;\n",
              "    }\n",
              "  </style>\n",
              "\n",
              "      <script>\n",
              "        const buttonEl =\n",
              "          document.querySelector('#df-b9995393-f976-4598-8496-e6ddbb143111 button.colab-df-convert');\n",
              "        buttonEl.style.display =\n",
              "          google.colab.kernel.accessAllowed ? 'block' : 'none';\n",
              "\n",
              "        async function convertToInteractive(key) {\n",
              "          const element = document.querySelector('#df-b9995393-f976-4598-8496-e6ddbb143111');\n",
              "          const dataTable =\n",
              "            await google.colab.kernel.invokeFunction('convertToInteractive',\n",
              "                                                     [key], {});\n",
              "          if (!dataTable) return;\n",
              "\n",
              "          const docLinkHtml = 'Like what you see? Visit the ' +\n",
              "            '<a target=\"_blank\" href=https://colab.research.google.com/notebooks/data_table.ipynb>data table notebook</a>'\n",
              "            + ' to learn more about interactive tables.';\n",
              "          element.innerHTML = '';\n",
              "          dataTable['output_type'] = 'display_data';\n",
              "          await google.colab.output.renderOutput(dataTable, element);\n",
              "          const docLink = document.createElement('div');\n",
              "          docLink.innerHTML = docLinkHtml;\n",
              "          element.appendChild(docLink);\n",
              "        }\n",
              "      </script>\n",
              "    </div>\n",
              "  </div>\n",
              "  "
            ]
          },
          "metadata": {},
          "execution_count": 26
        }
      ],
      "source": [
        "df_test[numeric].head()"
      ]
    },
    {
      "cell_type": "markdown",
      "metadata": {
        "id": "_Fp1TWrut0S0"
      },
      "source": [
        "### Увеличение обучающей выборки"
      ]
    },
    {
      "cell_type": "markdown",
      "metadata": {
        "id": "M_mxF9-NsliE"
      },
      "source": [
        "Поскольку данных немного, а также наблюдается дисбаланс классов целевых переменных, возможно при увеличении выборки, мы получим лучшие результаты.  \n",
        "Определим функцию для увеличения обучающей выборки:"
      ]
    },
    {
      "cell_type": "code",
      "execution_count": null,
      "metadata": {
        "id": "igtoQS5Jt0S1"
      },
      "outputs": [],
      "source": [
        "def upsample(features, target, repeat):\n",
        "    features_zeros = features[target == 0]\n",
        "    features_ones = features[target == 1]\n",
        "    target_zeros = target[target == 0]\n",
        "    target_ones = target[target == 1]\n",
        "    \n",
        "    features_upsampled = pd.concat([features_zeros] + [features_ones] * repeat)\n",
        "    target_upsampled = pd.concat([target_zeros] + [target_ones] * repeat)\n",
        "    \n",
        "    features_upsampled, target_upsampled = shuffle(features_upsampled, target_upsampled, random_state=555)\n",
        "    return features_upsampled, target_upsampled"
      ]
    },
    {
      "cell_type": "markdown",
      "metadata": {
        "id": "CEiP9roxt0S1"
      },
      "source": [
        "Увеличем обучающею выборку:"
      ]
    },
    {
      "cell_type": "code",
      "execution_count": null,
      "metadata": {
        "colab": {
          "base_uri": "https://localhost:8080/"
        },
        "id": "R2NPrcOvt0S1",
        "outputId": "00821520-914f-4dd5-f3c7-d14c139b5ce6"
      },
      "outputs": [
        {
          "output_type": "stream",
          "name": "stdout",
          "text": [
            "(7114, 19)\n",
            "(7114,)\n"
          ]
        }
      ],
      "source": [
        "features_train_up, target_train_up = upsample(features_train, target_train, 4)\n",
        "print(features_train_up.shape)\n",
        "print(target_train_up.shape)"
      ]
    },
    {
      "cell_type": "markdown",
      "metadata": {
        "id": "PtTcRb3at0S1"
      },
      "source": [
        "Посмотрим теперь на баланс:"
      ]
    },
    {
      "cell_type": "code",
      "execution_count": null,
      "metadata": {
        "colab": {
          "base_uri": "https://localhost:8080/"
        },
        "id": "JisZT-vkt0S1",
        "outputId": "cb47e635-03a7-4e22-bb9c-a052bfac58f3"
      },
      "outputs": [
        {
          "output_type": "execute_result",
          "data": {
            "text/plain": [
              "1    0.590947\n",
              "0    0.409053\n",
              "Name: Churn, dtype: float64"
            ]
          },
          "metadata": {},
          "execution_count": 29
        }
      ],
      "source": [
        "target_train_up.value_counts(normalize=True)"
      ]
    },
    {
      "cell_type": "markdown",
      "metadata": {
        "id": "dK370bPCEEZD"
      },
      "source": [
        "## Анализ данных"
      ]
    },
    {
      "cell_type": "markdown",
      "metadata": {
        "id": "PibGCTYd9I-i"
      },
      "source": [
        "### Анализ числовых признаков"
      ]
    },
    {
      "cell_type": "markdown",
      "metadata": {
        "id": "uCJN3DgmvvEZ"
      },
      "source": [
        "Посмотрим на распределение числовых признаков, для этого построим график распределения, а также диаграмму размаха:"
      ]
    },
    {
      "cell_type": "code",
      "execution_count": null,
      "metadata": {
        "colab": {
          "base_uri": "https://localhost:8080/",
          "height": 465
        },
        "id": "_P6bTEBgn6zs",
        "outputId": "357b06e5-5fa7-4db2-ffcd-c9408bb59a44"
      },
      "outputs": [
        {
          "output_type": "display_data",
          "data": {
            "text/plain": [
              "<Figure size 1080x216 with 1 Axes>"
            ],
            "image/png": "[encoded data removed]"
          },
          "metadata": {
            "needs_background": "light"
          }
        },
        {
          "output_type": "display_data",
          "data": {
            "text/plain": [
              "<Figure size 1080x216 with 1 Axes>"
            ],
            "image/png": "[encoded data removed]"
          },
          "metadata": {
            "needs_background": "light"
          }
        }
      ],
      "source": [
        "plt.figure(figsize=(15, 3))\n",
        "sns.histplot(data=df_train, x='ClientPeriod', kde=True, bins=30, color='green')\n",
        "\n",
        "plt.title(f'Distribution Client Period')\n",
        "plt.ylabel('Amount')\n",
        "plt.xlabel('Period')\n",
        "plt.grid(color='grey', axis='both', alpha=0.5)\n",
        "# plt.xticks(np.arange(0, 105, 10))\n",
        "# plt.yticks(np.arange(0, 75000, 5000))\n",
        "plt.show()\n",
        "\n",
        "plt.rcParams['figure.figsize']=(15, 3)\n",
        "sns.boxplot( data=df_train['ClientPeriod'], orient=\"h\" )\n",
        "plt.title(f'Boxplot')\n",
        "plt.xlabel('Period')\n",
        "plt.grid(color='grey', axis='both', alpha=.8)\n",
        "# plt.xticks(np.arange(0, 105, 10))\n",
        "plt.show()"
      ]
    },
    {
      "cell_type": "code",
      "execution_count": null,
      "metadata": {
        "colab": {
          "base_uri": "https://localhost:8080/"
        },
        "id": "uoE1_NywwIp4",
        "outputId": "a16b7da7-96fb-4684-c60c-37c3eb7d59bd"
      },
      "outputs": [
        {
          "output_type": "execute_result",
          "data": {
            "text/plain": [
              "count    5282.000000\n",
              "mean       32.397009\n",
              "std        24.550326\n",
              "min         0.000000\n",
              "25%         9.000000\n",
              "50%        29.000000\n",
              "75%        55.000000\n",
              "max        72.000000\n",
              "Name: ClientPeriod, dtype: float64"
            ]
          },
          "metadata": {},
          "execution_count": 31
        }
      ],
      "source": [
        "df_train['ClientPeriod'].describe()"
      ]
    },
    {
      "cell_type": "markdown",
      "metadata": {
        "id": "09rd9Vi3wPGp"
      },
      "source": [
        "В целом данные достаточно распределены равномерно"
      ]
    },
    {
      "cell_type": "code",
      "execution_count": null,
      "metadata": {
        "colab": {
          "base_uri": "https://localhost:8080/",
          "height": 465
        },
        "id": "TqeLOgtXznF8",
        "outputId": "9aad904e-4378-454e-9901-a5f96d7521dd"
      },
      "outputs": [
        {
          "output_type": "display_data",
          "data": {
            "text/plain": [
              "<Figure size 1080x216 with 1 Axes>"
            ],
            "image/png": "[encoded data removed]"
          },
          "metadata": {
            "needs_background": "light"
          }
        },
        {
          "output_type": "display_data",
          "data": {
            "text/plain": [
              "<Figure size 1080x216 with 1 Axes>"
            ],
            "image/png": "[encoded data removed]"
          },
          "metadata": {
            "needs_background": "light"
          }
        }
      ],
      "source": [
        "plt.figure(figsize=(15, 3))\n",
        "sns.histplot(data=df_train, x='MonthlySpending', kde=True, bins=30, color='green')\n",
        "\n",
        "plt.title(f'Distribution Monthly Spending')\n",
        "plt.ylabel('Amount')\n",
        "plt.xlabel('Spending')\n",
        "plt.grid(color='grey', axis='both', alpha=0.5)\n",
        "# plt.xticks(np.arange(0, 105, 10))\n",
        "# plt.yticks(np.arange(0, 75000, 5000))\n",
        "plt.show()\n",
        "\n",
        "plt.rcParams['figure.figsize']=(15, 3)\n",
        "sns.boxplot( data=df_train['MonthlySpending'], orient=\"h\" )\n",
        "plt.title(f'Boxplot')\n",
        "plt.xlabel('Spending')\n",
        "plt.grid(color='grey', axis='both', alpha=.8)\n",
        "# plt.xticks(np.arange(0, 105, 10))\n",
        "plt.show()"
      ]
    },
    {
      "cell_type": "code",
      "execution_count": null,
      "metadata": {
        "colab": {
          "base_uri": "https://localhost:8080/"
        },
        "id": "kLGfFjKswh_F",
        "outputId": "597bd600-6b61-4255-abf7-6faa485099d5"
      },
      "outputs": [
        {
          "output_type": "execute_result",
          "data": {
            "text/plain": [
              "count    5282.000000\n",
              "mean       64.924754\n",
              "std        30.176464\n",
              "min        18.250000\n",
              "25%        35.462500\n",
              "50%        70.400000\n",
              "75%        90.050000\n",
              "max       118.750000\n",
              "Name: MonthlySpending, dtype: float64"
            ]
          },
          "metadata": {},
          "execution_count": 33
        }
      ],
      "source": [
        "df_train['MonthlySpending'].describe()"
      ]
    },
    {
      "cell_type": "code",
      "execution_count": null,
      "metadata": {
        "colab": {
          "base_uri": "https://localhost:8080/",
          "height": 465
        },
        "id": "Gvrj90G4m3jf",
        "outputId": "5758776c-4e2e-45c2-96b9-44fe683c6b54"
      },
      "outputs": [
        {
          "output_type": "display_data",
          "data": {
            "text/plain": [
              "<Figure size 1080x216 with 1 Axes>"
            ],
            "image/png": "[encoded data removed]"
          },
          "metadata": {
            "needs_background": "light"
          }
        },
        {
          "output_type": "display_data",
          "data": {
            "text/plain": [
              "<Figure size 1080x216 with 1 Axes>"
            ],
            "image/png": "[encoded data removed]"
          },
          "metadata": {
            "needs_background": "light"
          }
        }
      ],
      "source": [
        "plt.figure(figsize=(15, 3))\n",
        "sns.histplot(data=df_train, x='TotalSpent', kde=True, bins=30, color='green')\n",
        "\n",
        "plt.title(f'Distribution Total Spent')\n",
        "plt.ylabel('Amount')\n",
        "plt.xlabel('Spent')\n",
        "plt.grid(color='grey', axis='both', alpha=0.5)\n",
        "# plt.xticks(np.arange(0, 105, 10))\n",
        "# plt.yticks(np.arange(0, 75000, 5000))\n",
        "plt.show()\n",
        "\n",
        "plt.rcParams['figure.figsize']=(15, 3)\n",
        "sns.boxplot( data=df_train['TotalSpent'], orient=\"h\" )\n",
        "plt.title(f'Boxplot')\n",
        "plt.xlabel('Spent')\n",
        "plt.grid(color='grey', axis='both', alpha=.8)\n",
        "# plt.xticks(np.arange(0, 105, 10))\n",
        "plt.show()"
      ]
    },
    {
      "cell_type": "code",
      "execution_count": null,
      "metadata": {
        "colab": {
          "base_uri": "https://localhost:8080/"
        },
        "id": "CnQTmglgwjuB",
        "outputId": "25f64d0e-d1b2-4749-ef4e-b7298938b9ea"
      },
      "outputs": [
        {
          "output_type": "execute_result",
          "data": {
            "text/plain": [
              "count    5282.000000\n",
              "mean     2289.889086\n",
              "std      2267.371263\n",
              "min        18.800000\n",
              "25%       401.587500\n",
              "50%      1410.250000\n",
              "75%      3795.212500\n",
              "max      8684.800000\n",
              "Name: TotalSpent, dtype: float64"
            ]
          },
          "metadata": {},
          "execution_count": 35
        }
      ],
      "source": [
        "df_train['TotalSpent'].describe()"
      ]
    },
    {
      "cell_type": "markdown",
      "metadata": {
        "id": "ekrolbiCwmsk"
      },
      "source": [
        "В числовых данных наблюдается скопления данных в начале графике, и постепенно снижается.  \n",
        "При этом миданна для `ClientPeriod` и `TotalSpent` смешещена влево, а для `MonthlySpending` вправо."
      ]
    },
    {
      "cell_type": "code",
      "execution_count": null,
      "metadata": {
        "colab": {
          "base_uri": "https://localhost:8080/",
          "height": 413
        },
        "id": "9c-7ya6Dm3hB",
        "outputId": "6ba8af4b-b385-40e7-df6f-23c179aeba37"
      },
      "outputs": [
        {
          "output_type": "execute_result",
          "data": {
            "text/plain": [
              "Text(0.5, 1.0, 'Correlation Heatmap')"
            ]
          },
          "metadata": {},
          "execution_count": 36
        },
        {
          "output_type": "display_data",
          "data": {
            "text/plain": [
              "<Figure size 1152x432 with 2 Axes>"
            ],
            "image/png": "[encoded data removed]"
          },
          "metadata": {
            "needs_background": "light"
          }
        }
      ],
      "source": [
        "plt.figure(figsize=(16, 6))\n",
        "heatmap = sns.heatmap(df_train.corr(), vmin=-1, vmax=1, annot=True)\n",
        "heatmap.set_title('Correlation Heatmap', fontdict={'fontsize':12}, pad=12)"
      ]
    },
    {
      "cell_type": "markdown",
      "metadata": {
        "id": "bG-L-bCKxHF9"
      },
      "source": [
        "Видим достаточно высокую корреляцию между TotalSpent и ClientPeriod."
      ]
    },
    {
      "cell_type": "markdown",
      "metadata": {
        "id": "DsDfngGcm3en"
      },
      "source": [
        "### Анализ категориальных признаков"
      ]
    },
    {
      "cell_type": "markdown",
      "metadata": {
        "id": "MAzsGcA8xLv5"
      },
      "source": [
        "Посмотрим на количество данных категориальных, чтобы понять как строить график:"
      ]
    },
    {
      "cell_type": "code",
      "execution_count": null,
      "metadata": {
        "colab": {
          "base_uri": "https://localhost:8080/"
        },
        "id": "uEdKrrWnm3cQ",
        "outputId": "8ee67c56-48ee-411f-defe-54d31569ff0b"
      },
      "outputs": [
        {
          "output_type": "execute_result",
          "data": {
            "text/plain": [
              "16"
            ]
          },
          "metadata": {},
          "execution_count": 37
        }
      ],
      "source": [
        "len(cat_cols)"
      ]
    },
    {
      "cell_type": "markdown",
      "metadata": {
        "id": "f2Zrt-c7PC7l"
      },
      "source": [
        "Посмотрим диграммы для категориальных данных:"
      ]
    },
    {
      "cell_type": "code",
      "execution_count": null,
      "metadata": {
        "colab": {
          "base_uri": "https://localhost:8080/",
          "height": 729
        },
        "id": "sSOImzdFLOUL",
        "outputId": "5b43ee0d-37d6-4f02-ee35-cdcd0f7dc342"
      },
      "outputs": [
        {
          "output_type": "display_data",
          "data": {
            "text/plain": [
              "<Figure size 1080x720 with 16 Axes>"
            ],
            "image/png": "[encoded data removed]"
          },
          "metadata": {}
        }
      ],
      "source": [
        "plt.figure(figsize=(15, 10))\n",
        "sns.set_style('darkgrid')\n",
        "sns.set_palette('Set1')\n",
        "plt.rcParams[\"figure.autolayout\"] = True\n",
        "\n",
        "\n",
        "for i in range(len(cat_cols)):\n",
        "    plt.subplot(4, 4, i+1)\n",
        "    data_barplot = df_train.groupby(cat_cols[i])['MonthlySpending'].agg(['count']).reset_index()\n",
        "    data_barplot = data_barplot.sort_values(by=['count'], ascending=False)\n",
        "    plt.title(f\"Колонка {data_barplot.columns[0]}\")\n",
        "    sns.barplot(x=data_barplot.columns[0], y='count', data=data_barplot, linewidth=5).set(xlabel=None, ylabel=None)\n",
        "    \n",
        "locs, labels = plt.xticks()\n",
        "plt.setp(labels, rotation=15)\n",
        "sns.despine()"
      ]
    },
    {
      "cell_type": "markdown",
      "metadata": {
        "id": "t17PrUrc1Yv8"
      },
      "source": [
        "Наблюдаются не равнемерности в колонках `IsSeniorCitizen`, `HasChild`, `HasPhoneService`, возможно данные признаки целесообразно убрать из задачи обучения"
      ]
    },
    {
      "cell_type": "markdown",
      "metadata": {
        "id": "XkuwaYjJxVoF"
      },
      "source": [
        "Выведем количество значений в категориальных колонках:"
      ]
    },
    {
      "cell_type": "markdown",
      "metadata": {
        "id": "DviiJd8REEZK"
      },
      "source": [
        "## Применение линейных моделей"
      ]
    },
    {
      "cell_type": "markdown",
      "metadata": {
        "id": "4O-OP__L1-uy"
      },
      "source": [
        "Создадим признаки с one-hot-encoding кодированием:"
      ]
    },
    {
      "cell_type": "code",
      "execution_count": null,
      "metadata": {
        "id": "osQxeSnzqamq"
      },
      "outputs": [],
      "source": [
        "features_train_lr = pd.get_dummies(features_train, drop_first=True)\n",
        "features_valid_lr = pd.get_dummies(features_valid, drop_first=True)\n",
        "target_train_lr = pd.get_dummies(target_train, drop_first=True)\n",
        "target_valid_lr = pd.get_dummies(target_valid, drop_first=True)\n",
        "df_train_lr = pd.get_dummies(df_train, drop_first=True)"
      ]
    },
    {
      "cell_type": "markdown",
      "metadata": {
        "id": "b8_mGqIZRNNl"
      },
      "source": [
        "### Logistic Regression"
      ]
    },
    {
      "cell_type": "markdown",
      "metadata": {
        "id": "GUGALAR82E__"
      },
      "source": [
        "Обучим модель логической регрессии:"
      ]
    },
    {
      "cell_type": "code",
      "execution_count": null,
      "metadata": {
        "colab": {
          "base_uri": "https://localhost:8080/"
        },
        "id": "z0G_rMzOeX6T",
        "outputId": "3d6b0481-5816-49bd-b4dc-cc8396aa6b57"
      },
      "outputs": [
        {
          "output_type": "execute_result",
          "data": {
            "text/plain": [
              "LogisticRegression()"
            ]
          },
          "metadata": {},
          "execution_count": 41
        }
      ],
      "source": [
        "lr_model = LogisticRegression()\n",
        "lr_model.fit(features_train_lr, target_train_lr)"
      ]
    },
    {
      "cell_type": "code",
      "execution_count": null,
      "metadata": {
        "id": "_9gRCN81eX4e"
      },
      "outputs": [],
      "source": [
        "predictions_valid = lr_model.predict_proba(features_valid_lr)[:, 1]"
      ]
    },
    {
      "cell_type": "code",
      "execution_count": null,
      "metadata": {
        "colab": {
          "base_uri": "https://localhost:8080/",
          "height": 35
        },
        "id": "AkGVs8DiqafW",
        "outputId": "a1d6b512-4b90-4bb4-d6d7-d1deed45d8c5"
      },
      "outputs": [
        {
          "output_type": "execute_result",
          "data": {
            "text/plain": [
              "'ROC-AUC score: 0.8359'"
            ],
            "application/vnd.google.colaboratory.intrinsic+json": {
              "type": "string"
            }
          },
          "metadata": {},
          "execution_count": 43
        }
      ],
      "source": [
        "probabilities_test = lr_model.predict_proba(features_valid_lr)\n",
        "probabilities_one_test = probabilities_test[:, 1]\n",
        "roc_auc_score_tree = roc_auc_score(target_valid_lr, probabilities_one_test) \n",
        "\"ROC-AUC score: %.4f\" % roc_auc_score_tree"
      ]
    },
    {
      "cell_type": "markdown",
      "metadata": {
        "id": "UUnMXv9X2OFa"
      },
      "source": [
        "Обучим логическую регрессию с кросс валдиацией и подбором гиперпараметров:"
      ]
    },
    {
      "cell_type": "code",
      "execution_count": null,
      "metadata": {
        "execution": {
          "iopub.execute_input": "2022-03-12T13:34:47.345263Z",
          "iopub.status.busy": "2022-03-12T13:34:47.344359Z",
          "iopub.status.idle": "2022-03-12T13:34:47.346756Z",
          "shell.execute_reply": "2022-03-12T13:34:47.347192Z",
          "shell.execute_reply.started": "2022-03-12T13:32:56.882476Z"
        },
        "id": "a737cd63",
        "papermill": {
          "duration": 0.069714,
          "end_time": "2022-03-12T13:34:47.347363",
          "exception": false,
          "start_time": "2022-03-12T13:34:47.277649",
          "status": "completed"
        },
        "tags": []
      },
      "outputs": [],
      "source": [
        "lr_cv_model = LogisticRegressionCV(Cs=np.logspace(-3, 2, 30), random_state=777, scoring='roc_auc')"
      ]
    },
    {
      "cell_type": "code",
      "execution_count": null,
      "metadata": {
        "colab": {
          "base_uri": "https://localhost:8080/"
        },
        "execution": {
          "iopub.execute_input": "2022-03-12T13:34:47.469544Z",
          "iopub.status.busy": "2022-03-12T13:34:47.466674Z",
          "iopub.status.idle": "2022-03-12T13:34:51.756403Z",
          "shell.execute_reply": "2022-03-12T13:34:51.757180Z",
          "shell.execute_reply.started": "2022-03-12T13:32:56.900308Z"
        },
        "id": "9567e357",
        "outputId": "82e9f66b-1eac-4e58-c08e-36290a857377",
        "papermill": {
          "duration": 4.351619,
          "end_time": "2022-03-12T13:34:51.757472",
          "exception": false,
          "start_time": "2022-03-12T13:34:47.405853",
          "status": "completed"
        },
        "tags": []
      },
      "outputs": [
        {
          "output_type": "execute_result",
          "data": {
            "text/plain": [
              "LogisticRegressionCV(Cs=array([1.00000000e-03, 1.48735211e-03, 2.21221629e-03, 3.29034456e-03,\n",
              "       4.89390092e-03, 7.27895384e-03, 1.08263673e-02, 1.61026203e-02,\n",
              "       2.39502662e-02, 3.56224789e-02, 5.29831691e-02, 7.88046282e-02,\n",
              "       1.17210230e-01, 1.74332882e-01, 2.59294380e-01, 3.85662042e-01,\n",
              "       5.73615251e-01, 8.53167852e-01, 1.26896100e+00, 1.88739182e+00,\n",
              "       2.80721620e+00, 4.17531894e+00, 6.21016942e+00, 9.23670857e+00,\n",
              "       1.37382380e+01, 2.04335972e+01, 3.03919538e+01, 4.52035366e+01,\n",
              "       6.72335754e+01, 1.00000000e+02]),\n",
              "                     random_state=777, scoring='roc_auc')"
            ]
          },
          "metadata": {},
          "execution_count": 45
        }
      ],
      "source": [
        "lr_cv_model.fit(features_train_lr, target_train_lr)"
      ]
    },
    {
      "cell_type": "code",
      "execution_count": null,
      "metadata": {
        "colab": {
          "base_uri": "https://localhost:8080/",
          "height": 35
        },
        "id": "HfloSygE2hjc",
        "outputId": "f49d0bc4-beb4-43dd-af94-d673a8df6bc2"
      },
      "outputs": [
        {
          "output_type": "execute_result",
          "data": {
            "text/plain": [
              "'ROC-AUC: 0.8361'"
            ],
            "application/vnd.google.colaboratory.intrinsic+json": {
              "type": "string"
            }
          },
          "metadata": {},
          "execution_count": 46
        }
      ],
      "source": [
        "probabilities_test = lr_cv_model.predict_proba(features_valid_lr)\n",
        "probabilities_one_test = probabilities_test[:, 1]\n",
        "roc_auc_score_tree = roc_auc_score(target_valid_lr, probabilities_one_test) \n",
        "\"ROC-AUC: %.4f\" % roc_auc_score_tree"
      ]
    },
    {
      "cell_type": "markdown",
      "metadata": {
        "id": "ZiKi8Z6iGH8x"
      },
      "source": [
        "### Вывод"
      ]
    },
    {
      "cell_type": "markdown",
      "metadata": {
        "id": "uVahy6JKEEZQ"
      },
      "source": [
        "Лучший ROC-AUC логичтиеской регрессии = 0.8361."
      ]
    },
    {
      "cell_type": "markdown",
      "metadata": {
        "id": "BlTeVy7fEEZR"
      },
      "source": [
        "## Применение градиентного бустинга"
      ]
    },
    {
      "cell_type": "markdown",
      "metadata": {
        "id": "KQRKonusqack"
      },
      "source": [
        "### eXtreme Gradient Boosting Сlassifier"
      ]
    },
    {
      "cell_type": "markdown",
      "metadata": {
        "id": "txiMIu7dvW_q"
      },
      "source": [
        "XGBoost расшифровывается как eXtreme Gradient Boosting, алгоритм повышения, основанный на алгоритме деревьев решений с градиентным усилением. XGBoost применяет лучший метод регуляризации для уменьшения переобучения, и это одно из отличий от повышения градиента.  \n",
        "- «xgboost» — это открытый исходная библиотека, которая предоставляет алгоритмы машинного обучения для методов повышения градиента.   \n",
        "- xgboost.XGBClassifier — это класс, совместимый с scikit-learn API для классификации."
      ]
    },
    {
      "cell_type": "code",
      "execution_count": null,
      "metadata": {
        "colab": {
          "base_uri": "https://localhost:8080/"
        },
        "id": "S91NbcnnvW90",
        "outputId": "6fbfbe00-3cd2-4ebe-e1c2-8f00a27a8fdd"
      },
      "outputs": [
        {
          "output_type": "stream",
          "name": "stdout",
          "text": [
            "CPU times: user 576 ms, sys: 89.8 ms, total: 666 ms\n",
            "Wall time: 849 ms\n"
          ]
        }
      ],
      "source": [
        "%%time\n",
        "\n",
        "xgbc = XGBClassifier()\n",
        "\n",
        "XGBClassifier(base_score=0.5, booster='gbtree', colsample_bylevel=1,\n",
        "       colsample_bynode=1, colsample_bytree=1, gamma=0, learning_rate=0.1,\n",
        "       max_delta_step=0, max_depth=3, min_child_weight=1, missing=None,\n",
        "       n_estimators=100, n_jobs=1, nthread=None,\n",
        "       objective='multi:softprob', random_state=0, reg_alpha=0,\n",
        "       reg_lambda=1, scale_pos_weight=1, seed=None, silent=None,\n",
        "       subsample=1, verbosity=1) \n",
        "\n",
        "xgbc.fit(features_train_lr, target_train_lr)"
      ]
    },
    {
      "cell_type": "markdown",
      "metadata": {
        "id": "1BaJnt2XvW5U"
      },
      "source": [
        "Выведем ROC-AUC score:"
      ]
    },
    {
      "cell_type": "code",
      "execution_count": null,
      "metadata": {
        "id": "7Vv5zSO7vW23"
      },
      "outputs": [],
      "source": [
        "scores = cross_val_score(xgbc, features_valid_lr, target_valid_lr, cv=5, scoring='roc_auc')"
      ]
    },
    {
      "cell_type": "code",
      "execution_count": null,
      "metadata": {
        "colab": {
          "base_uri": "https://localhost:8080/"
        },
        "id": "xEFjhzXVw8T5",
        "outputId": "8dbcd1ca-6c1c-4a98-906d-0c82c12c190c"
      },
      "outputs": [
        {
          "output_type": "stream",
          "name": "stdout",
          "text": [
            "ROC-AUC score: 0.8198\n"
          ]
        }
      ],
      "source": [
        "print(\"ROC-AUC score: %.4f\" % scores.mean())"
      ]
    },
    {
      "cell_type": "code",
      "execution_count": null,
      "metadata": {
        "id": "mmzU9zsjwmA3"
      },
      "outputs": [],
      "source": [
        "kfold = KFold(n_splits=10, shuffle=True)\n",
        "kf_cv_scores = cross_val_score(xgbc, features_valid_lr, target_valid_lr, cv=kfold, scoring='roc_auc' )"
      ]
    },
    {
      "cell_type": "code",
      "execution_count": null,
      "metadata": {
        "colab": {
          "base_uri": "https://localhost:8080/"
        },
        "id": "N-kPRFVLwl-2",
        "outputId": "7164cd9e-6b16-4a94-d30a-174a81c3e5ab"
      },
      "outputs": [
        {
          "output_type": "stream",
          "name": "stdout",
          "text": [
            "ROC-AUC score: 0.8142\n"
          ]
        }
      ],
      "source": [
        "print(\"ROC-AUC score: %.4f\" % kf_cv_scores.mean())"
      ]
    },
    {
      "cell_type": "markdown",
      "metadata": {
        "id": "FFwxhkx44OOC"
      },
      "source": [
        "Применем подбор параметров по сетке:"
      ]
    },
    {
      "cell_type": "markdown",
      "source": [
        "Для экономии времени, закоментим поиск гиперпараметров"
      ],
      "metadata": {
        "id": "O_FYTNWUGqs-"
      }
    },
    {
      "cell_type": "code",
      "execution_count": null,
      "metadata": {
        "id": "oNcx6RvU4uxH"
      },
      "outputs": [],
      "source": [
        "# %%time\n",
        "\n",
        "# xgbc_cv = XGBClassifier()\n",
        "\n",
        "# parameters = {'nthread':[4],\n",
        "#               'objective':['binary:logistic'],\n",
        "#               'learning_rate': np.linspace(0.01, 0.7, 10),\n",
        "#               'max_depth': [6, 7, 8],\n",
        "#               'min_child_weight': [11],\n",
        "#               'silent': [1],\n",
        "#               'subsample': [0.8],\n",
        "#               'colsample_bytree': [0.7],\n",
        "#               'n_estimators': [100, 200, 500],\n",
        "#               'missing':[-999],\n",
        "#               'seed': [123]}\n",
        "\n",
        "# xgbc_cv_model = GridSearchCV(xgbc_cv, parameters, n_jobs=5, \n",
        "#                    scoring='roc_auc', verbose=2, refit=True)\n",
        "\n",
        "# xgbc_cv_model.fit(features_train_lr, target_train_lr)"
      ]
    },
    {
      "cell_type": "markdown",
      "metadata": {
        "id": "r7olf4WC40xp"
      },
      "source": [
        "Лучшие параметры:"
      ]
    },
    {
      "cell_type": "code",
      "execution_count": null,
      "metadata": {
        "id": "7c9wYVlgcVAq"
      },
      "outputs": [],
      "source": [
        "# xgbc_cv_model.best_params_"
      ]
    },
    {
      "cell_type": "markdown",
      "metadata": {
        "id": "3kBSsUV17n2Z"
      },
      "source": [
        "{'colsample_bytree': 0.7,\n",
        " 'learning_rate': 0.01,\n",
        " 'max_depth': 6,\n",
        " 'min_child_weight': 11,\n",
        " 'missing': -999,\n",
        " 'n_estimators': 200,\n",
        " 'nthread': 4,\n",
        " 'objective': 'binary:logistic',\n",
        " 'seed': 123,\n",
        " 'silent': 1,\n",
        " 'subsample': 0.8}"
      ]
    },
    {
      "cell_type": "code",
      "execution_count": null,
      "metadata": {
        "colab": {
          "base_uri": "https://localhost:8080/"
        },
        "id": "7ylv5qXy4FL6",
        "outputId": "c9e49e86-e768-4b85-9871-9a4bea4b1d7e"
      },
      "outputs": [
        {
          "output_type": "stream",
          "name": "stdout",
          "text": [
            "CPU times: user 574 ms, sys: 4.12 ms, total: 579 ms\n",
            "Wall time: 731 ms\n"
          ]
        }
      ],
      "source": [
        "%%time\n",
        "\n",
        "xgbc_best = XGBClassifier()\n",
        "\n",
        "XGBClassifier(colsample_bytree=0.7,\n",
        "              learning_rate=0.01,\n",
        "              max_depth=6,\n",
        "              min_child_weight=11,\n",
        "              missing=-999,\n",
        "              n_estimators=200,\n",
        "              nthread=4,\n",
        "              objective='binary:logistic',\n",
        "              seed=123,\n",
        "              silent=1,\n",
        "              subsample=0.8\n",
        "              ) \n",
        "\n",
        "xgbc_best.fit(features_train_lr, target_train_lr)"
      ]
    },
    {
      "cell_type": "code",
      "execution_count": null,
      "metadata": {
        "colab": {
          "base_uri": "https://localhost:8080/",
          "height": 35
        },
        "id": "lYFUTybBWPqk",
        "outputId": "23b721fc-5059-4ec8-9edd-b5a76549a4b5"
      },
      "outputs": [
        {
          "output_type": "execute_result",
          "data": {
            "text/plain": [
              "'ROC-AUC: 0.8391'"
            ],
            "application/vnd.google.colaboratory.intrinsic+json": {
              "type": "string"
            }
          },
          "metadata": {},
          "execution_count": 55
        }
      ],
      "source": [
        "probabilities_test = xgbc_best.predict_proba(features_valid_lr)\n",
        "probabilities_one_test = probabilities_test[:, 1]\n",
        "roc_auc_score_tree = roc_auc_score(target_valid_lr, probabilities_one_test) \n",
        "\"ROC-AUC: %.4f\" % roc_auc_score_tree"
      ]
    },
    {
      "cell_type": "markdown",
      "metadata": {
        "id": "YstDoQ6z5twB"
      },
      "source": [
        "Построим ROC кривую:"
      ]
    },
    {
      "cell_type": "code",
      "execution_count": null,
      "metadata": {
        "colab": {
          "base_uri": "https://localhost:8080/",
          "height": 513
        },
        "id": "V5yTOaDsSY9h",
        "outputId": "c34de30b-8ea1-4f17-ff4f-86e31e17ec9f"
      },
      "outputs": [
        {
          "output_type": "display_data",
          "data": {
            "text/plain": [
              "<Figure size 504x504 with 1 Axes>"
            ],
            "image/png": "[encoded data removed]"
          },
          "metadata": {}
        }
      ],
      "source": [
        "plt.rcParams[\"figure.figsize\"] = (7, 7)\n",
        "y_true = target_valid_lr\n",
        "y_probas = xgbc_best.predict_proba(features_valid_lr)\n",
        "skplt.metrics.plot_roc_curve(y_true, y_probas)\n",
        "plt.show()"
      ]
    },
    {
      "cell_type": "markdown",
      "metadata": {
        "id": "36729TOQEEZR"
      },
      "source": [
        "### Cat Boost Classifier"
      ]
    },
    {
      "cell_type": "markdown",
      "metadata": {
        "id": "5uzUfvlg5x8l"
      },
      "source": [
        "Обучим cat boost clasifier, без подбора гиперпараметров:"
      ]
    },
    {
      "cell_type": "code",
      "execution_count": null,
      "metadata": {
        "id": "Fioxxlp-EEZS"
      },
      "outputs": [],
      "source": [
        "cbc_model = CatBoostClassifier(eval_metric='AUC:hints=skip_train~false', use_best_model=True, random_seed=123)"
      ]
    },
    {
      "cell_type": "code",
      "execution_count": null,
      "metadata": {
        "id": "qOCNycXIK1w2",
        "colab": {
          "base_uri": "https://localhost:8080/"
        },
        "outputId": "c32d90d5-81d9-4254-8cc5-0a4ab20c6c41"
      },
      "outputs": [
        {
          "output_type": "stream",
          "name": "stdout",
          "text": [
            "Learning rate set to 0.044521\n",
            "0:\tlearn: 0.8029550\ttest: 0.7896864\tbest: 0.7896864 (0)\ttotal: 104ms\tremaining: 1m 44s\n",
            "1:\tlearn: 0.8217726\ttest: 0.7992167\tbest: 0.7992167 (1)\ttotal: 134ms\tremaining: 1m 6s\n",
            "2:\tlearn: 0.8231454\ttest: 0.8027744\tbest: 0.8027744 (2)\ttotal: 167ms\tremaining: 55.4s\n",
            "3:\tlearn: 0.8212094\ttest: 0.8009827\tbest: 0.8027744 (2)\ttotal: 216ms\tremaining: 53.7s\n",
            "4:\tlearn: 0.8234834\ttest: 0.8065555\tbest: 0.8065555 (4)\ttotal: 230ms\tremaining: 45.8s\n",
            "5:\tlearn: 0.8241577\ttest: 0.8069841\tbest: 0.8069841 (5)\ttotal: 250ms\tremaining: 41.5s\n",
            "6:\tlearn: 0.8326666\ttest: 0.8155190\tbest: 0.8155190 (6)\ttotal: 329ms\tremaining: 46.7s\n",
            "7:\tlearn: 0.8389784\ttest: 0.8212286\tbest: 0.8212286 (7)\ttotal: 371ms\tremaining: 46s\n",
            "8:\tlearn: 0.8438806\ttest: 0.8244383\tbest: 0.8244383 (8)\ttotal: 415ms\tremaining: 45.7s\n",
            "9:\tlearn: 0.8452817\ttest: 0.8254231\tbest: 0.8254231 (9)\ttotal: 435ms\tremaining: 43s\n",
            "10:\tlearn: 0.8464040\ttest: 0.8258669\tbest: 0.8258669 (10)\ttotal: 468ms\tremaining: 42.1s\n",
            "11:\tlearn: 0.8460336\ttest: 0.8249155\tbest: 0.8258669 (10)\ttotal: 508ms\tremaining: 41.8s\n",
            "12:\tlearn: 0.8461941\ttest: 0.8257453\tbest: 0.8258669 (10)\ttotal: 537ms\tremaining: 40.8s\n",
            "13:\tlearn: 0.8464975\ttest: 0.8261161\tbest: 0.8261161 (13)\ttotal: 570ms\tremaining: 40.1s\n",
            "14:\tlearn: 0.8470472\ttest: 0.8256298\tbest: 0.8261161 (13)\ttotal: 595ms\tremaining: 39s\n",
            "15:\tlearn: 0.8483797\ttest: 0.8258957\tbest: 0.8261161 (13)\ttotal: 633ms\tremaining: 38.9s\n",
            "16:\tlearn: 0.8486706\ttest: 0.8259945\tbest: 0.8261161 (13)\ttotal: 669ms\tremaining: 38.7s\n",
            "17:\tlearn: 0.8491432\ttest: 0.8264140\tbest: 0.8264140 (17)\ttotal: 703ms\tremaining: 38.3s\n",
            "18:\tlearn: 0.8491561\ttest: 0.8263517\tbest: 0.8264140 (17)\ttotal: 729ms\tremaining: 37.6s\n",
            "19:\tlearn: 0.8496351\ttest: 0.8273714\tbest: 0.8273714 (19)\ttotal: 770ms\tremaining: 37.7s\n",
            "20:\tlearn: 0.8499830\ttest: 0.8278440\tbest: 0.8278440 (20)\ttotal: 801ms\tremaining: 37.4s\n",
            "21:\tlearn: 0.8504046\ttest: 0.8284899\tbest: 0.8284899 (21)\ttotal: 831ms\tremaining: 37s\n",
            "22:\tlearn: 0.8505207\ttest: 0.8285750\tbest: 0.8285750 (22)\ttotal: 854ms\tremaining: 36.3s\n",
            "23:\tlearn: 0.8511812\ttest: 0.8287528\tbest: 0.8287528 (23)\ttotal: 874ms\tremaining: 35.5s\n",
            "24:\tlearn: 0.8519271\ttest: 0.8290294\tbest: 0.8290294 (24)\ttotal: 894ms\tremaining: 34.9s\n",
            "25:\tlearn: 0.8525294\ttest: 0.8297042\tbest: 0.8297042 (25)\ttotal: 921ms\tremaining: 34.5s\n",
            "26:\tlearn: 0.8530083\ttest: 0.8299641\tbest: 0.8299641 (26)\ttotal: 945ms\tremaining: 34.1s\n",
            "27:\tlearn: 0.8539234\ttest: 0.8307027\tbest: 0.8307027 (27)\ttotal: 1.01s\tremaining: 35.1s\n",
            "28:\tlearn: 0.8546081\ttest: 0.8310127\tbest: 0.8310127 (28)\ttotal: 1.04s\tremaining: 34.8s\n",
            "29:\tlearn: 0.8547592\ttest: 0.8313349\tbest: 0.8313349 (29)\ttotal: 1.06s\tremaining: 34.4s\n",
            "30:\tlearn: 0.8558257\ttest: 0.8316464\tbest: 0.8316464 (30)\ttotal: 1.09s\tremaining: 34s\n",
            "31:\tlearn: 0.8560294\ttest: 0.8318014\tbest: 0.8318014 (31)\ttotal: 1.11s\tremaining: 33.5s\n",
            "32:\tlearn: 0.8563904\ttest: 0.8323090\tbest: 0.8323090 (32)\ttotal: 1.14s\tremaining: 33.4s\n",
            "33:\tlearn: 0.8567628\ttest: 0.8328105\tbest: 0.8328105 (33)\ttotal: 1.17s\tremaining: 33.3s\n",
            "34:\tlearn: 0.8572255\ttest: 0.8332254\tbest: 0.8332254 (34)\ttotal: 1.21s\tremaining: 33.4s\n",
            "35:\tlearn: 0.8577913\ttest: 0.8334625\tbest: 0.8334625 (35)\ttotal: 1.25s\tremaining: 33.4s\n",
            "36:\tlearn: 0.8584910\ttest: 0.8340613\tbest: 0.8340613 (36)\ttotal: 1.31s\tremaining: 34.2s\n",
            "37:\tlearn: 0.8588111\ttest: 0.8343136\tbest: 0.8343136 (37)\ttotal: 1.35s\tremaining: 34.1s\n",
            "38:\tlearn: 0.8591196\ttest: 0.8346570\tbest: 0.8346570 (38)\ttotal: 1.39s\tremaining: 34.2s\n",
            "39:\tlearn: 0.8592448\ttest: 0.8345689\tbest: 0.8346570 (38)\ttotal: 1.42s\tremaining: 34s\n",
            "40:\tlearn: 0.8595453\ttest: 0.8347330\tbest: 0.8347330 (40)\ttotal: 1.49s\tremaining: 34.8s\n",
            "41:\tlearn: 0.8596553\ttest: 0.8346707\tbest: 0.8347330 (40)\ttotal: 1.54s\tremaining: 35.2s\n",
            "42:\tlearn: 0.8599924\ttest: 0.8348926\tbest: 0.8348926 (42)\ttotal: 1.61s\tremaining: 35.9s\n",
            "43:\tlearn: 0.8600729\ttest: 0.8348044\tbest: 0.8348926 (42)\ttotal: 1.66s\tremaining: 36.1s\n",
            "44:\tlearn: 0.8602164\ttest: 0.8349990\tbest: 0.8349990 (44)\ttotal: 1.71s\tremaining: 36.4s\n",
            "45:\tlearn: 0.8603904\ttest: 0.8351722\tbest: 0.8351722 (45)\ttotal: 1.73s\tremaining: 35.8s\n",
            "46:\tlearn: 0.8603541\ttest: 0.8351357\tbest: 0.8351722 (45)\ttotal: 1.76s\tremaining: 35.6s\n",
            "47:\tlearn: 0.8607265\ttest: 0.8352452\tbest: 0.8352452 (47)\ttotal: 1.81s\tremaining: 36s\n",
            "48:\tlearn: 0.8615946\ttest: 0.8351722\tbest: 0.8352452 (47)\ttotal: 1.87s\tremaining: 36.4s\n",
            "49:\tlearn: 0.8617515\ttest: 0.8349959\tbest: 0.8352452 (47)\ttotal: 1.93s\tremaining: 36.7s\n",
            "50:\tlearn: 0.8619830\ttest: 0.8351388\tbest: 0.8352452 (47)\ttotal: 1.97s\tremaining: 36.7s\n",
            "51:\tlearn: 0.8622577\ttest: 0.8353090\tbest: 0.8353090 (51)\ttotal: 2.02s\tremaining: 36.9s\n",
            "52:\tlearn: 0.8625150\ttest: 0.8353835\tbest: 0.8353835 (52)\ttotal: 2.07s\tremaining: 37s\n",
            "53:\tlearn: 0.8628125\ttest: 0.8355233\tbest: 0.8355233 (53)\ttotal: 2.12s\tremaining: 37.2s\n",
            "54:\tlearn: 0.8628174\ttest: 0.8356023\tbest: 0.8356023 (54)\ttotal: 2.14s\tremaining: 36.8s\n",
            "55:\tlearn: 0.8632386\ttest: 0.8356236\tbest: 0.8356236 (55)\ttotal: 2.17s\tremaining: 36.7s\n",
            "56:\tlearn: 0.8635449\ttest: 0.8357300\tbest: 0.8357300 (56)\ttotal: 2.21s\tremaining: 36.6s\n",
            "57:\tlearn: 0.8637258\ttest: 0.8355932\tbest: 0.8357300 (56)\ttotal: 2.25s\tremaining: 36.6s\n",
            "58:\tlearn: 0.8638433\ttest: 0.8357041\tbest: 0.8357300 (56)\ttotal: 2.31s\tremaining: 36.9s\n",
            "59:\tlearn: 0.8647313\ttest: 0.8356236\tbest: 0.8357300 (56)\ttotal: 2.35s\tremaining: 36.9s\n",
            "60:\tlearn: 0.8654817\ttest: 0.8359214\tbest: 0.8359214 (60)\ttotal: 2.44s\tremaining: 37.5s\n",
            "61:\tlearn: 0.8656335\ttest: 0.8358789\tbest: 0.8359214 (60)\ttotal: 2.49s\tremaining: 37.6s\n",
            "62:\tlearn: 0.8658893\ttest: 0.8360126\tbest: 0.8360126 (62)\ttotal: 2.56s\tremaining: 38s\n",
            "63:\tlearn: 0.8659724\ttest: 0.8360339\tbest: 0.8360339 (63)\ttotal: 2.6s\tremaining: 38.1s\n",
            "64:\tlearn: 0.8661427\ttest: 0.8361494\tbest: 0.8361494 (64)\ttotal: 2.65s\tremaining: 38.1s\n",
            "65:\tlearn: 0.8660989\ttest: 0.8361373\tbest: 0.8361494 (64)\ttotal: 2.68s\tremaining: 37.9s\n",
            "66:\tlearn: 0.8661159\ttest: 0.8361221\tbest: 0.8361494 (64)\ttotal: 2.69s\tremaining: 37.5s\n",
            "67:\tlearn: 0.8664474\ttest: 0.8361707\tbest: 0.8361707 (67)\ttotal: 2.76s\tremaining: 37.8s\n",
            "68:\tlearn: 0.8666676\ttest: 0.8361980\tbest: 0.8361980 (68)\ttotal: 2.81s\tremaining: 37.9s\n",
            "69:\tlearn: 0.8668583\ttest: 0.8364898\tbest: 0.8364898 (69)\ttotal: 2.84s\tremaining: 37.7s\n",
            "70:\tlearn: 0.8669501\ttest: 0.8366175\tbest: 0.8366175 (70)\ttotal: 2.88s\tremaining: 37.7s\n",
            "71:\tlearn: 0.8671182\ttest: 0.8368424\tbest: 0.8368424 (71)\ttotal: 2.93s\tremaining: 37.7s\n",
            "72:\tlearn: 0.8671375\ttest: 0.8368181\tbest: 0.8368424 (71)\ttotal: 2.94s\tremaining: 37.4s\n",
            "73:\tlearn: 0.8674328\ttest: 0.8369883\tbest: 0.8369883 (73)\ttotal: 3.02s\tremaining: 37.7s\n",
            "74:\tlearn: 0.8678313\ttest: 0.8367573\tbest: 0.8369883 (73)\ttotal: 3.04s\tremaining: 37.5s\n",
            "75:\tlearn: 0.8681838\ttest: 0.8368059\tbest: 0.8369883 (73)\ttotal: 3.08s\tremaining: 37.4s\n",
            "76:\tlearn: 0.8685696\ttest: 0.8368880\tbest: 0.8369883 (73)\ttotal: 3.1s\tremaining: 37.2s\n",
            "77:\tlearn: 0.8685735\ttest: 0.8369032\tbest: 0.8369883 (73)\ttotal: 3.12s\tremaining: 36.9s\n",
            "78:\tlearn: 0.8689267\ttest: 0.8369154\tbest: 0.8369883 (73)\ttotal: 3.15s\tremaining: 36.7s\n",
            "79:\tlearn: 0.8689747\ttest: 0.8369731\tbest: 0.8369883 (73)\ttotal: 3.18s\tremaining: 36.6s\n",
            "80:\tlearn: 0.8691258\ttest: 0.8371342\tbest: 0.8371342 (80)\ttotal: 3.23s\tremaining: 36.7s\n",
            "81:\tlearn: 0.8694207\ttest: 0.8372284\tbest: 0.8372284 (81)\ttotal: 3.31s\tremaining: 37.1s\n",
            "82:\tlearn: 0.8695348\ttest: 0.8372527\tbest: 0.8372527 (82)\ttotal: 3.34s\tremaining: 37s\n",
            "83:\tlearn: 0.8697706\ttest: 0.8372679\tbest: 0.8372679 (83)\ttotal: 3.4s\tremaining: 37s\n",
            "84:\tlearn: 0.8700439\ttest: 0.8374047\tbest: 0.8374047 (84)\ttotal: 3.42s\tremaining: 36.8s\n",
            "85:\tlearn: 0.8700966\ttest: 0.8374837\tbest: 0.8374837 (85)\ttotal: 3.44s\tremaining: 36.5s\n",
            "86:\tlearn: 0.8702010\ttest: 0.8374868\tbest: 0.8374868 (86)\ttotal: 3.45s\tremaining: 36.3s\n",
            "87:\tlearn: 0.8705129\ttest: 0.8376843\tbest: 0.8376843 (87)\ttotal: 3.49s\tremaining: 36.2s\n",
            "88:\tlearn: 0.8706375\ttest: 0.8374989\tbest: 0.8376843 (87)\ttotal: 3.53s\tremaining: 36.1s\n",
            "89:\tlearn: 0.8707229\ttest: 0.8375172\tbest: 0.8376843 (87)\ttotal: 3.57s\tremaining: 36.1s\n",
            "90:\tlearn: 0.8708788\ttest: 0.8378090\tbest: 0.8378090 (90)\ttotal: 3.61s\tremaining: 36.1s\n",
            "91:\tlearn: 0.8709792\ttest: 0.8378120\tbest: 0.8378120 (91)\ttotal: 3.64s\tremaining: 35.9s\n",
            "92:\tlearn: 0.8712646\ttest: 0.8377755\tbest: 0.8378120 (91)\ttotal: 3.73s\tremaining: 36.4s\n",
            "93:\tlearn: 0.8713444\ttest: 0.8378394\tbest: 0.8378394 (93)\ttotal: 3.77s\tremaining: 36.3s\n",
            "94:\tlearn: 0.8715932\ttest: 0.8376813\tbest: 0.8378394 (93)\ttotal: 3.8s\tremaining: 36.2s\n",
            "95:\tlearn: 0.8716828\ttest: 0.8377512\tbest: 0.8378394 (93)\ttotal: 3.83s\tremaining: 36s\n",
            "96:\tlearn: 0.8716868\ttest: 0.8377755\tbest: 0.8378394 (93)\ttotal: 3.84s\tremaining: 35.7s\n",
            "97:\tlearn: 0.8720006\ttest: 0.8380521\tbest: 0.8380521 (97)\ttotal: 3.87s\tremaining: 35.6s\n",
            "98:\tlearn: 0.8721625\ttest: 0.8381038\tbest: 0.8381038 (98)\ttotal: 3.93s\tremaining: 35.7s\n",
            "99:\tlearn: 0.8723600\ttest: 0.8380673\tbest: 0.8381038 (98)\ttotal: 3.97s\tremaining: 35.7s\n",
            "100:\tlearn: 0.8724489\ttest: 0.8380308\tbest: 0.8381038 (98)\ttotal: 4s\tremaining: 35.6s\n",
            "101:\tlearn: 0.8727419\ttest: 0.8378606\tbest: 0.8381038 (98)\ttotal: 4.04s\tremaining: 35.6s\n",
            "102:\tlearn: 0.8728194\ttest: 0.8378941\tbest: 0.8381038 (98)\ttotal: 4.07s\tremaining: 35.4s\n",
            "103:\tlearn: 0.8729750\ttest: 0.8379822\tbest: 0.8381038 (98)\ttotal: 4.12s\tremaining: 35.5s\n",
            "104:\tlearn: 0.8731615\ttest: 0.8379974\tbest: 0.8381038 (98)\ttotal: 4.16s\tremaining: 35.5s\n",
            "105:\tlearn: 0.8732488\ttest: 0.8380156\tbest: 0.8381038 (98)\ttotal: 4.18s\tremaining: 35.3s\n",
            "106:\tlearn: 0.8732583\ttest: 0.8380035\tbest: 0.8381038 (98)\ttotal: 4.2s\tremaining: 35.1s\n",
            "107:\tlearn: 0.8732786\ttest: 0.8380004\tbest: 0.8381038 (98)\ttotal: 4.23s\tremaining: 35s\n",
            "108:\tlearn: 0.8735761\ttest: 0.8381129\tbest: 0.8381129 (108)\ttotal: 4.27s\tremaining: 34.9s\n",
            "109:\tlearn: 0.8736258\ttest: 0.8381433\tbest: 0.8381433 (109)\ttotal: 4.32s\tremaining: 34.9s\n",
            "110:\tlearn: 0.8736504\ttest: 0.8381859\tbest: 0.8381859 (110)\ttotal: 4.36s\tremaining: 34.9s\n",
            "111:\tlearn: 0.8737838\ttest: 0.8382193\tbest: 0.8382193 (111)\ttotal: 4.39s\tremaining: 34.8s\n",
            "112:\tlearn: 0.8743014\ttest: 0.8383409\tbest: 0.8383409 (112)\ttotal: 4.44s\tremaining: 34.9s\n",
            "113:\tlearn: 0.8744119\ttest: 0.8383150\tbest: 0.8383409 (112)\ttotal: 4.49s\tremaining: 34.9s\n",
            "114:\tlearn: 0.8744462\ttest: 0.8383667\tbest: 0.8383667 (114)\ttotal: 4.53s\tremaining: 34.8s\n",
            "115:\tlearn: 0.8746015\ttest: 0.8387527\tbest: 0.8387527 (115)\ttotal: 4.56s\tremaining: 34.8s\n",
            "116:\tlearn: 0.8745904\ttest: 0.8387345\tbest: 0.8387527 (115)\ttotal: 4.58s\tremaining: 34.6s\n",
            "117:\tlearn: 0.8747653\ttest: 0.8386737\tbest: 0.8387527 (115)\ttotal: 4.61s\tremaining: 34.5s\n",
            "118:\tlearn: 0.8747761\ttest: 0.8386737\tbest: 0.8387527 (115)\ttotal: 4.62s\tremaining: 34.2s\n",
            "119:\tlearn: 0.8747934\ttest: 0.8386463\tbest: 0.8387527 (115)\ttotal: 4.63s\tremaining: 33.9s\n",
            "120:\tlearn: 0.8748261\ttest: 0.8385977\tbest: 0.8387527 (115)\ttotal: 4.65s\tremaining: 33.8s\n",
            "121:\tlearn: 0.8748837\ttest: 0.8385156\tbest: 0.8387527 (115)\ttotal: 4.67s\tremaining: 33.6s\n",
            "122:\tlearn: 0.8749527\ttest: 0.8385855\tbest: 0.8387527 (115)\ttotal: 4.72s\tremaining: 33.6s\n",
            "123:\tlearn: 0.8749523\ttest: 0.8386099\tbest: 0.8387527 (115)\ttotal: 4.73s\tremaining: 33.4s\n",
            "124:\tlearn: 0.8750959\ttest: 0.8387010\tbest: 0.8387527 (115)\ttotal: 4.77s\tremaining: 33.4s\n",
            "125:\tlearn: 0.8753741\ttest: 0.8387193\tbest: 0.8387527 (115)\ttotal: 4.8s\tremaining: 33.3s\n",
            "126:\tlearn: 0.8755030\ttest: 0.8386615\tbest: 0.8387527 (115)\ttotal: 4.83s\tremaining: 33.2s\n",
            "127:\tlearn: 0.8757449\ttest: 0.8388241\tbest: 0.8388241 (127)\ttotal: 4.85s\tremaining: 33.1s\n",
            "128:\tlearn: 0.8758430\ttest: 0.8388393\tbest: 0.8388393 (128)\ttotal: 4.88s\tremaining: 32.9s\n",
            "129:\tlearn: 0.8759506\ttest: 0.8388758\tbest: 0.8388758 (129)\ttotal: 4.91s\tremaining: 32.8s\n",
            "130:\tlearn: 0.8760686\ttest: 0.8389488\tbest: 0.8389488 (130)\ttotal: 4.94s\tremaining: 32.8s\n",
            "131:\tlearn: 0.8761193\ttest: 0.8389245\tbest: 0.8389488 (130)\ttotal: 4.96s\tremaining: 32.6s\n",
            "132:\tlearn: 0.8761507\ttest: 0.8389640\tbest: 0.8389640 (132)\ttotal: 4.98s\tremaining: 32.4s\n",
            "133:\tlearn: 0.8762851\ttest: 0.8391737\tbest: 0.8391737 (133)\ttotal: 5s\tremaining: 32.3s\n",
            "134:\tlearn: 0.8763253\ttest: 0.8391798\tbest: 0.8391798 (134)\ttotal: 5.05s\tremaining: 32.4s\n",
            "135:\tlearn: 0.8764286\ttest: 0.8391220\tbest: 0.8391798 (134)\ttotal: 5.1s\tremaining: 32.4s\n",
            "136:\tlearn: 0.8764881\ttest: 0.8391737\tbest: 0.8391798 (134)\ttotal: 5.11s\tremaining: 32.2s\n",
            "137:\tlearn: 0.8765506\ttest: 0.8390886\tbest: 0.8391798 (134)\ttotal: 5.16s\tremaining: 32.2s\n",
            "138:\tlearn: 0.8765506\ttest: 0.8390886\tbest: 0.8391798 (134)\ttotal: 5.17s\tremaining: 32s\n",
            "139:\tlearn: 0.8765764\ttest: 0.8391463\tbest: 0.8391798 (134)\ttotal: 5.18s\tremaining: 31.8s\n",
            "140:\tlearn: 0.8766058\ttest: 0.8391737\tbest: 0.8391798 (134)\ttotal: 5.21s\tremaining: 31.8s\n",
            "141:\tlearn: 0.8767562\ttest: 0.8393044\tbest: 0.8393044 (141)\ttotal: 5.26s\tremaining: 31.8s\n",
            "142:\tlearn: 0.8770652\ttest: 0.8392527\tbest: 0.8393044 (141)\ttotal: 5.29s\tremaining: 31.7s\n",
            "143:\tlearn: 0.8771519\ttest: 0.8394108\tbest: 0.8394108 (143)\ttotal: 5.34s\tremaining: 31.8s\n",
            "144:\tlearn: 0.8773726\ttest: 0.8394381\tbest: 0.8394381 (144)\ttotal: 5.38s\tremaining: 31.7s\n",
            "145:\tlearn: 0.8773935\ttest: 0.8394290\tbest: 0.8394381 (144)\ttotal: 5.42s\tremaining: 31.7s\n",
            "146:\tlearn: 0.8774353\ttest: 0.8394412\tbest: 0.8394412 (146)\ttotal: 5.46s\tremaining: 31.7s\n",
            "147:\tlearn: 0.8777034\ttest: 0.8394229\tbest: 0.8394412 (146)\ttotal: 5.49s\tremaining: 31.6s\n",
            "148:\tlearn: 0.8778630\ttest: 0.8393956\tbest: 0.8394412 (146)\ttotal: 5.52s\tremaining: 31.5s\n",
            "149:\tlearn: 0.8779117\ttest: 0.8393652\tbest: 0.8394412 (146)\ttotal: 5.55s\tremaining: 31.4s\n",
            "150:\tlearn: 0.8779117\ttest: 0.8393652\tbest: 0.8394412 (146)\ttotal: 5.56s\tremaining: 31.3s\n",
            "151:\tlearn: 0.8780334\ttest: 0.8393940\tbest: 0.8394412 (146)\ttotal: 5.6s\tremaining: 31.3s\n",
            "152:\tlearn: 0.8780687\ttest: 0.8393910\tbest: 0.8394412 (146)\ttotal: 5.62s\tremaining: 31.1s\n",
            "153:\tlearn: 0.8782037\ttest: 0.8393910\tbest: 0.8394412 (146)\ttotal: 5.63s\tremaining: 31s\n",
            "154:\tlearn: 0.8783571\ttest: 0.8394001\tbest: 0.8394412 (146)\ttotal: 5.68s\tremaining: 31s\n",
            "155:\tlearn: 0.8783989\ttest: 0.8393789\tbest: 0.8394412 (146)\ttotal: 5.71s\tremaining: 30.9s\n",
            "156:\tlearn: 0.8785271\ttest: 0.8393971\tbest: 0.8394412 (146)\ttotal: 5.73s\tremaining: 30.7s\n",
            "157:\tlearn: 0.8786541\ttest: 0.8394305\tbest: 0.8394412 (146)\ttotal: 5.74s\tremaining: 30.6s\n",
            "158:\tlearn: 0.8786567\ttest: 0.8394305\tbest: 0.8394412 (146)\ttotal: 5.76s\tremaining: 30.4s\n",
            "159:\tlearn: 0.8788222\ttest: 0.8395278\tbest: 0.8395278 (159)\ttotal: 5.78s\tremaining: 30.3s\n",
            "160:\tlearn: 0.8788248\ttest: 0.8395278\tbest: 0.8395278 (159)\ttotal: 5.78s\tremaining: 30.1s\n",
            "161:\tlearn: 0.8789628\ttest: 0.8395916\tbest: 0.8395916 (161)\ttotal: 5.8s\tremaining: 30s\n",
            "162:\tlearn: 0.8790914\ttest: 0.8395886\tbest: 0.8395916 (161)\ttotal: 5.81s\tremaining: 29.9s\n",
            "163:\tlearn: 0.8791853\ttest: 0.8392330\tbest: 0.8395916 (161)\ttotal: 5.87s\tremaining: 29.9s\n",
            "164:\tlearn: 0.8793275\ttest: 0.8392451\tbest: 0.8395916 (161)\ttotal: 5.89s\tremaining: 29.8s\n",
            "165:\tlearn: 0.8796973\ttest: 0.8390172\tbest: 0.8395916 (161)\ttotal: 5.91s\tremaining: 29.7s\n",
            "166:\tlearn: 0.8797624\ttest: 0.8390688\tbest: 0.8395916 (161)\ttotal: 5.95s\tremaining: 29.7s\n",
            "167:\tlearn: 0.8799141\ttest: 0.8391114\tbest: 0.8395916 (161)\ttotal: 6s\tremaining: 29.7s\n",
            "168:\tlearn: 0.8800847\ttest: 0.8392147\tbest: 0.8395916 (161)\ttotal: 6.04s\tremaining: 29.7s\n",
            "169:\tlearn: 0.8801387\ttest: 0.8392482\tbest: 0.8395916 (161)\ttotal: 6.09s\tremaining: 29.7s\n",
            "170:\tlearn: 0.8801403\ttest: 0.8392482\tbest: 0.8395916 (161)\ttotal: 6.12s\tremaining: 29.6s\n",
            "171:\tlearn: 0.8803574\ttest: 0.8392542\tbest: 0.8395916 (161)\ttotal: 6.15s\tremaining: 29.6s\n",
            "172:\tlearn: 0.8805121\ttest: 0.8393424\tbest: 0.8395916 (161)\ttotal: 6.2s\tremaining: 29.6s\n",
            "173:\tlearn: 0.8806360\ttest: 0.8393880\tbest: 0.8395916 (161)\ttotal: 6.24s\tremaining: 29.6s\n",
            "174:\tlearn: 0.8807858\ttest: 0.8395703\tbest: 0.8395916 (161)\ttotal: 6.27s\tremaining: 29.5s\n",
            "175:\tlearn: 0.8808446\ttest: 0.8395855\tbest: 0.8395916 (161)\ttotal: 6.31s\tremaining: 29.5s\n",
            "176:\tlearn: 0.8808930\ttest: 0.8396615\tbest: 0.8396615 (176)\ttotal: 6.32s\tremaining: 29.4s\n",
            "177:\tlearn: 0.8810039\ttest: 0.8396190\tbest: 0.8396615 (176)\ttotal: 6.35s\tremaining: 29.3s\n",
            "178:\tlearn: 0.8812205\ttest: 0.8395126\tbest: 0.8396615 (176)\ttotal: 6.37s\tremaining: 29.2s\n",
            "179:\tlearn: 0.8813516\ttest: 0.8394731\tbest: 0.8396615 (176)\ttotal: 6.41s\tremaining: 29.2s\n",
            "180:\tlearn: 0.8814538\ttest: 0.8395734\tbest: 0.8396615 (176)\ttotal: 6.44s\tremaining: 29.2s\n",
            "181:\tlearn: 0.8817801\ttest: 0.8395308\tbest: 0.8396615 (176)\ttotal: 6.49s\tremaining: 29.2s\n",
            "182:\tlearn: 0.8818540\ttest: 0.8395096\tbest: 0.8396615 (176)\ttotal: 6.51s\tremaining: 29s\n",
            "183:\tlearn: 0.8819001\ttest: 0.8394974\tbest: 0.8396615 (176)\ttotal: 6.53s\tremaining: 29s\n",
            "184:\tlearn: 0.8821322\ttest: 0.8394974\tbest: 0.8396615 (176)\ttotal: 6.57s\tremaining: 29s\n",
            "185:\tlearn: 0.8821345\ttest: 0.8395308\tbest: 0.8396615 (176)\ttotal: 6.64s\tremaining: 29.1s\n",
            "186:\tlearn: 0.8822297\ttest: 0.8395308\tbest: 0.8396615 (176)\ttotal: 6.68s\tremaining: 29s\n",
            "187:\tlearn: 0.8823444\ttest: 0.8395764\tbest: 0.8396615 (176)\ttotal: 6.71s\tremaining: 29s\n",
            "188:\tlearn: 0.8825187\ttest: 0.8395339\tbest: 0.8396615 (176)\ttotal: 6.76s\tremaining: 29s\n",
            "189:\tlearn: 0.8829303\ttest: 0.8395916\tbest: 0.8396615 (176)\ttotal: 6.8s\tremaining: 29s\n",
            "190:\tlearn: 0.8830677\ttest: 0.8396798\tbest: 0.8396798 (190)\ttotal: 6.84s\tremaining: 29s\n",
            "191:\tlearn: 0.8835313\ttest: 0.8398226\tbest: 0.8398226 (191)\ttotal: 6.88s\tremaining: 28.9s\n",
            "192:\tlearn: 0.8838092\ttest: 0.8398500\tbest: 0.8398500 (192)\ttotal: 6.91s\tremaining: 28.9s\n",
            "193:\tlearn: 0.8839691\ttest: 0.8398317\tbest: 0.8398500 (192)\ttotal: 6.94s\tremaining: 28.8s\n",
            "194:\tlearn: 0.8842122\ttest: 0.8398439\tbest: 0.8398500 (192)\ttotal: 6.96s\tremaining: 28.7s\n",
            "195:\tlearn: 0.8843577\ttest: 0.8396980\tbest: 0.8398500 (192)\ttotal: 6.98s\tremaining: 28.6s\n",
            "196:\tlearn: 0.8843943\ttest: 0.8397162\tbest: 0.8398500 (192)\ttotal: 7s\tremaining: 28.5s\n",
            "197:\tlearn: 0.8847283\ttest: 0.8399290\tbest: 0.8399290 (197)\ttotal: 7.02s\tremaining: 28.4s\n",
            "198:\tlearn: 0.8848062\ttest: 0.8399624\tbest: 0.8399624 (198)\ttotal: 7.04s\tremaining: 28.3s\n",
            "199:\tlearn: 0.8851642\ttest: 0.8400810\tbest: 0.8400810 (199)\ttotal: 7.09s\tremaining: 28.4s\n",
            "200:\tlearn: 0.8853241\ttest: 0.8400840\tbest: 0.8400840 (200)\ttotal: 7.13s\tremaining: 28.3s\n",
            "201:\tlearn: 0.8853231\ttest: 0.8400840\tbest: 0.8400840 (200)\ttotal: 7.14s\tremaining: 28.2s\n",
            "202:\tlearn: 0.8855209\ttest: 0.8401114\tbest: 0.8401114 (202)\ttotal: 7.19s\tremaining: 28.2s\n",
            "203:\tlearn: 0.8857733\ttest: 0.8401478\tbest: 0.8401478 (203)\ttotal: 7.24s\tremaining: 28.2s\n",
            "204:\tlearn: 0.8858256\ttest: 0.8401995\tbest: 0.8401995 (204)\ttotal: 7.26s\tremaining: 28.1s\n",
            "205:\tlearn: 0.8859950\ttest: 0.8402481\tbest: 0.8402481 (205)\ttotal: 7.29s\tremaining: 28.1s\n",
            "206:\tlearn: 0.8861287\ttest: 0.8402877\tbest: 0.8402877 (206)\ttotal: 7.35s\tremaining: 28.1s\n",
            "207:\tlearn: 0.8862069\ttest: 0.8402633\tbest: 0.8402877 (206)\ttotal: 7.39s\tremaining: 28.1s\n",
            "208:\tlearn: 0.8862399\ttest: 0.8402877\tbest: 0.8402877 (206)\ttotal: 7.43s\tremaining: 28.1s\n",
            "209:\tlearn: 0.8865777\ttest: 0.8402573\tbest: 0.8402877 (206)\ttotal: 7.47s\tremaining: 28.1s\n",
            "210:\tlearn: 0.8867405\ttest: 0.8403211\tbest: 0.8403211 (210)\ttotal: 7.51s\tremaining: 28.1s\n",
            "211:\tlearn: 0.8867604\ttest: 0.8402026\tbest: 0.8403211 (210)\ttotal: 7.54s\tremaining: 28s\n",
            "212:\tlearn: 0.8869877\ttest: 0.8402177\tbest: 0.8403211 (210)\ttotal: 7.59s\tremaining: 28s\n",
            "213:\tlearn: 0.8872525\ttest: 0.8401813\tbest: 0.8403211 (210)\ttotal: 7.62s\tremaining: 28s\n",
            "214:\tlearn: 0.8872829\ttest: 0.8401828\tbest: 0.8403211 (210)\ttotal: 7.66s\tremaining: 28s\n",
            "215:\tlearn: 0.8874095\ttest: 0.8402831\tbest: 0.8403211 (210)\ttotal: 7.72s\tremaining: 28s\n",
            "216:\tlearn: 0.8877933\ttest: 0.8402527\tbest: 0.8403211 (210)\ttotal: 7.76s\tremaining: 28s\n",
            "217:\tlearn: 0.8880670\ttest: 0.8402618\tbest: 0.8403211 (210)\ttotal: 7.8s\tremaining: 28s\n",
            "218:\tlearn: 0.8881118\ttest: 0.8402861\tbest: 0.8403211 (210)\ttotal: 7.84s\tremaining: 28s\n",
            "219:\tlearn: 0.8881903\ttest: 0.8402679\tbest: 0.8403211 (210)\ttotal: 7.88s\tremaining: 27.9s\n",
            "220:\tlearn: 0.8883662\ttest: 0.8402588\tbest: 0.8403211 (210)\ttotal: 7.92s\tremaining: 27.9s\n",
            "221:\tlearn: 0.8884404\ttest: 0.8402831\tbest: 0.8403211 (210)\ttotal: 7.94s\tremaining: 27.8s\n",
            "222:\tlearn: 0.8888128\ttest: 0.8404229\tbest: 0.8404229 (222)\ttotal: 7.97s\tremaining: 27.8s\n",
            "223:\tlearn: 0.8891568\ttest: 0.8404837\tbest: 0.8404837 (223)\ttotal: 8.04s\tremaining: 27.9s\n",
            "224:\tlearn: 0.8892987\ttest: 0.8405688\tbest: 0.8405688 (224)\ttotal: 8.06s\tremaining: 27.8s\n",
            "225:\tlearn: 0.8894511\ttest: 0.8405962\tbest: 0.8405962 (225)\ttotal: 8.12s\tremaining: 27.8s\n",
            "226:\tlearn: 0.8895642\ttest: 0.8406053\tbest: 0.8406053 (226)\ttotal: 8.15s\tremaining: 27.8s\n",
            "227:\tlearn: 0.8896018\ttest: 0.8406205\tbest: 0.8406205 (227)\ttotal: 8.17s\tremaining: 27.7s\n",
            "228:\tlearn: 0.8897783\ttest: 0.8406418\tbest: 0.8406418 (228)\ttotal: 8.21s\tremaining: 27.6s\n",
            "229:\tlearn: 0.8897908\ttest: 0.8406022\tbest: 0.8406418 (228)\ttotal: 8.29s\tremaining: 27.8s\n",
            "230:\tlearn: 0.8899608\ttest: 0.8406965\tbest: 0.8406965 (230)\ttotal: 8.32s\tremaining: 27.7s\n",
            "231:\tlearn: 0.8900899\ttest: 0.8407755\tbest: 0.8407755 (231)\ttotal: 8.35s\tremaining: 27.6s\n",
            "232:\tlearn: 0.8903433\ttest: 0.8407694\tbest: 0.8407755 (231)\ttotal: 8.38s\tremaining: 27.6s\n",
            "233:\tlearn: 0.8904980\ttest: 0.8407041\tbest: 0.8407755 (231)\ttotal: 8.42s\tremaining: 27.6s\n",
            "234:\tlearn: 0.8906634\ttest: 0.8405460\tbest: 0.8407755 (231)\ttotal: 8.47s\tremaining: 27.6s\n",
            "235:\tlearn: 0.8907393\ttest: 0.8405035\tbest: 0.8407755 (231)\ttotal: 8.52s\tremaining: 27.6s\n",
            "236:\tlearn: 0.8910009\ttest: 0.8405187\tbest: 0.8407755 (231)\ttotal: 8.57s\tremaining: 27.6s\n",
            "237:\tlearn: 0.8912428\ttest: 0.8406129\tbest: 0.8407755 (231)\ttotal: 8.61s\tremaining: 27.6s\n",
            "238:\tlearn: 0.8913782\ttest: 0.8405460\tbest: 0.8407755 (231)\ttotal: 8.66s\tremaining: 27.6s\n",
            "239:\tlearn: 0.8914681\ttest: 0.8406007\tbest: 0.8407755 (231)\ttotal: 8.71s\tremaining: 27.6s\n",
            "240:\tlearn: 0.8915662\ttest: 0.8405399\tbest: 0.8407755 (231)\ttotal: 8.75s\tremaining: 27.5s\n",
            "241:\tlearn: 0.8915989\ttest: 0.8405369\tbest: 0.8407755 (231)\ttotal: 8.78s\tremaining: 27.5s\n",
            "242:\tlearn: 0.8918415\ttest: 0.8405004\tbest: 0.8407755 (231)\ttotal: 8.83s\tremaining: 27.5s\n",
            "243:\tlearn: 0.8920171\ttest: 0.8405004\tbest: 0.8407755 (231)\ttotal: 8.86s\tremaining: 27.5s\n",
            "244:\tlearn: 0.8920616\ttest: 0.8405339\tbest: 0.8407755 (231)\ttotal: 8.9s\tremaining: 27.4s\n",
            "245:\tlearn: 0.8921675\ttest: 0.8404791\tbest: 0.8407755 (231)\ttotal: 8.94s\tremaining: 27.4s\n",
            "246:\tlearn: 0.8922751\ttest: 0.8405278\tbest: 0.8407755 (231)\ttotal: 8.97s\tremaining: 27.4s\n",
            "247:\tlearn: 0.8926743\ttest: 0.8403849\tbest: 0.8407755 (231)\ttotal: 9.03s\tremaining: 27.4s\n",
            "248:\tlearn: 0.8928005\ttest: 0.8402968\tbest: 0.8407755 (231)\ttotal: 9.05s\tremaining: 27.3s\n",
            "249:\tlearn: 0.8928244\ttest: 0.8402664\tbest: 0.8407755 (231)\ttotal: 9.07s\tremaining: 27.2s\n",
            "250:\tlearn: 0.8930153\ttest: 0.8403849\tbest: 0.8407755 (231)\ttotal: 9.09s\tremaining: 27.1s\n",
            "251:\tlearn: 0.8930608\ttest: 0.8403545\tbest: 0.8407755 (231)\ttotal: 9.13s\tremaining: 27.1s\n",
            "252:\tlearn: 0.8930634\ttest: 0.8403545\tbest: 0.8407755 (231)\ttotal: 9.17s\tremaining: 27.1s\n",
            "253:\tlearn: 0.8930621\ttest: 0.8403849\tbest: 0.8407755 (231)\ttotal: 9.23s\tremaining: 27.1s\n",
            "254:\tlearn: 0.8932978\ttest: 0.8403454\tbest: 0.8407755 (231)\ttotal: 9.27s\tremaining: 27.1s\n",
            "255:\tlearn: 0.8934561\ttest: 0.8402390\tbest: 0.8407755 (231)\ttotal: 9.3s\tremaining: 27s\n",
            "256:\tlearn: 0.8935015\ttest: 0.8402603\tbest: 0.8407755 (231)\ttotal: 9.34s\tremaining: 27s\n",
            "257:\tlearn: 0.8936169\ttest: 0.8402299\tbest: 0.8407755 (231)\ttotal: 9.38s\tremaining: 27s\n",
            "258:\tlearn: 0.8937415\ttest: 0.8403332\tbest: 0.8407755 (231)\ttotal: 9.43s\tremaining: 27s\n",
            "259:\tlearn: 0.8937539\ttest: 0.8403089\tbest: 0.8407755 (231)\ttotal: 9.46s\tremaining: 26.9s\n",
            "260:\tlearn: 0.8939299\ttest: 0.8403120\tbest: 0.8407755 (231)\ttotal: 9.49s\tremaining: 26.9s\n",
            "261:\tlearn: 0.8941349\ttest: 0.8402299\tbest: 0.8407755 (231)\ttotal: 9.51s\tremaining: 26.8s\n",
            "262:\tlearn: 0.8942209\ttest: 0.8403424\tbest: 0.8407755 (231)\ttotal: 9.56s\tremaining: 26.8s\n",
            "263:\tlearn: 0.8943082\ttest: 0.8403545\tbest: 0.8407755 (231)\ttotal: 9.59s\tremaining: 26.7s\n",
            "264:\tlearn: 0.8943991\ttest: 0.8404427\tbest: 0.8407755 (231)\ttotal: 9.61s\tremaining: 26.7s\n",
            "265:\tlearn: 0.8945210\ttest: 0.8403241\tbest: 0.8407755 (231)\ttotal: 9.63s\tremaining: 26.6s\n",
            "266:\tlearn: 0.8947312\ttest: 0.8403150\tbest: 0.8407755 (231)\ttotal: 9.68s\tremaining: 26.6s\n",
            "267:\tlearn: 0.8948261\ttest: 0.8403606\tbest: 0.8407755 (231)\ttotal: 9.72s\tremaining: 26.6s\n",
            "268:\tlearn: 0.8951445\ttest: 0.8402573\tbest: 0.8407755 (231)\ttotal: 9.77s\tremaining: 26.5s\n",
            "269:\tlearn: 0.8953571\ttest: 0.8401965\tbest: 0.8407755 (231)\ttotal: 9.81s\tremaining: 26.5s\n",
            "270:\tlearn: 0.8955081\ttest: 0.8402573\tbest: 0.8407755 (231)\ttotal: 9.85s\tremaining: 26.5s\n",
            "271:\tlearn: 0.8956010\ttest: 0.8401144\tbest: 0.8407755 (231)\ttotal: 9.9s\tremaining: 26.5s\n",
            "272:\tlearn: 0.8958286\ttest: 0.8400536\tbest: 0.8407755 (231)\ttotal: 9.94s\tremaining: 26.5s\n",
            "273:\tlearn: 0.8960097\ttest: 0.8399867\tbest: 0.8407755 (231)\ttotal: 9.99s\tremaining: 26.5s\n",
            "274:\tlearn: 0.8960741\ttest: 0.8399989\tbest: 0.8407755 (231)\ttotal: 10.1s\tremaining: 26.5s\n",
            "275:\tlearn: 0.8961967\ttest: 0.8399959\tbest: 0.8407755 (231)\ttotal: 10.1s\tremaining: 26.5s\n",
            "276:\tlearn: 0.8962925\ttest: 0.8400810\tbest: 0.8407755 (231)\ttotal: 10.2s\tremaining: 26.5s\n",
            "277:\tlearn: 0.8963301\ttest: 0.8401296\tbest: 0.8407755 (231)\ttotal: 10.2s\tremaining: 26.5s\n",
            "278:\tlearn: 0.8963517\ttest: 0.8401114\tbest: 0.8407755 (231)\ttotal: 10.3s\tremaining: 26.5s\n",
            "279:\tlearn: 0.8965093\ttest: 0.8401782\tbest: 0.8407755 (231)\ttotal: 10.3s\tremaining: 26.5s\n",
            "280:\tlearn: 0.8965941\ttest: 0.8401326\tbest: 0.8407755 (231)\ttotal: 10.3s\tremaining: 26.4s\n",
            "281:\tlearn: 0.8968390\ttest: 0.8401174\tbest: 0.8407755 (231)\ttotal: 10.4s\tremaining: 26.4s\n",
            "282:\tlearn: 0.8971830\ttest: 0.8400901\tbest: 0.8407755 (231)\ttotal: 10.4s\tremaining: 26.3s\n",
            "283:\tlearn: 0.8972556\ttest: 0.8399685\tbest: 0.8407755 (231)\ttotal: 10.4s\tremaining: 26.3s\n",
            "284:\tlearn: 0.8973063\ttest: 0.8399685\tbest: 0.8407755 (231)\ttotal: 10.5s\tremaining: 26.2s\n",
            "285:\tlearn: 0.8976784\ttest: 0.8400992\tbest: 0.8407755 (231)\ttotal: 10.5s\tremaining: 26.2s\n",
            "286:\tlearn: 0.8977647\ttest: 0.8400263\tbest: 0.8407755 (231)\ttotal: 10.5s\tremaining: 26.1s\n",
            "287:\tlearn: 0.8978101\ttest: 0.8400445\tbest: 0.8407755 (231)\ttotal: 10.6s\tremaining: 26.1s\n",
            "288:\tlearn: 0.8978605\ttest: 0.8401326\tbest: 0.8407755 (231)\ttotal: 10.6s\tremaining: 26.1s\n",
            "289:\tlearn: 0.8978916\ttest: 0.8401296\tbest: 0.8407755 (231)\ttotal: 10.6s\tremaining: 26s\n",
            "290:\tlearn: 0.8978974\ttest: 0.8401114\tbest: 0.8407755 (231)\ttotal: 10.7s\tremaining: 26s\n",
            "291:\tlearn: 0.8980622\ttest: 0.8401904\tbest: 0.8407755 (231)\ttotal: 10.7s\tremaining: 25.9s\n",
            "292:\tlearn: 0.8982927\ttest: 0.8399807\tbest: 0.8407755 (231)\ttotal: 10.7s\tremaining: 25.9s\n",
            "293:\tlearn: 0.8983787\ttest: 0.8400840\tbest: 0.8407755 (231)\ttotal: 10.8s\tremaining: 25.9s\n",
            "294:\tlearn: 0.8984494\ttest: 0.8400901\tbest: 0.8407755 (231)\ttotal: 10.8s\tremaining: 25.8s\n",
            "295:\tlearn: 0.8985635\ttest: 0.8401114\tbest: 0.8407755 (231)\ttotal: 10.8s\tremaining: 25.8s\n",
            "296:\tlearn: 0.8989081\ttest: 0.8401418\tbest: 0.8407755 (231)\ttotal: 10.9s\tremaining: 25.8s\n",
            "297:\tlearn: 0.8989604\ttest: 0.8400931\tbest: 0.8407755 (231)\ttotal: 10.9s\tremaining: 25.7s\n",
            "298:\tlearn: 0.8990915\ttest: 0.8400597\tbest: 0.8407755 (231)\ttotal: 11s\tremaining: 25.7s\n",
            "299:\tlearn: 0.8992625\ttest: 0.8401053\tbest: 0.8407755 (231)\ttotal: 11s\tremaining: 25.7s\n",
            "300:\tlearn: 0.8995552\ttest: 0.8400263\tbest: 0.8407755 (231)\ttotal: 11s\tremaining: 25.6s\n",
            "301:\tlearn: 0.8995548\ttest: 0.8400323\tbest: 0.8407755 (231)\ttotal: 11.1s\tremaining: 25.6s\n",
            "302:\tlearn: 0.8995924\ttest: 0.8400263\tbest: 0.8407755 (231)\ttotal: 11.1s\tremaining: 25.6s\n",
            "303:\tlearn: 0.8997736\ttest: 0.8401843\tbest: 0.8407755 (231)\ttotal: 11.1s\tremaining: 25.5s\n",
            "304:\tlearn: 0.8998334\ttest: 0.8402147\tbest: 0.8407755 (231)\ttotal: 11.2s\tremaining: 25.5s\n",
            "305:\tlearn: 0.8999099\ttest: 0.8402451\tbest: 0.8407755 (231)\ttotal: 11.2s\tremaining: 25.4s\n",
            "306:\tlearn: 0.9001090\ttest: 0.8402360\tbest: 0.8407755 (231)\ttotal: 11.3s\tremaining: 25.5s\n",
            "307:\tlearn: 0.9003088\ttest: 0.8404184\tbest: 0.8407755 (231)\ttotal: 11.3s\tremaining: 25.5s\n",
            "308:\tlearn: 0.9003830\ttest: 0.8403424\tbest: 0.8407755 (231)\ttotal: 11.4s\tremaining: 25.4s\n",
            "309:\tlearn: 0.9004187\ttest: 0.8404487\tbest: 0.8407755 (231)\ttotal: 11.4s\tremaining: 25.3s\n",
            "310:\tlearn: 0.9004216\ttest: 0.8404305\tbest: 0.8407755 (231)\ttotal: 11.4s\tremaining: 25.2s\n",
            "311:\tlearn: 0.9004416\ttest: 0.8404092\tbest: 0.8407755 (231)\ttotal: 11.4s\tremaining: 25.2s\n",
            "312:\tlearn: 0.9005802\ttest: 0.8404731\tbest: 0.8407755 (231)\ttotal: 11.5s\tremaining: 25.2s\n",
            "313:\tlearn: 0.9006335\ttest: 0.8404548\tbest: 0.8407755 (231)\ttotal: 11.5s\tremaining: 25.1s\n",
            "314:\tlearn: 0.9007859\ttest: 0.8405491\tbest: 0.8407755 (231)\ttotal: 11.5s\tremaining: 25s\n",
            "315:\tlearn: 0.9008585\ttest: 0.8405460\tbest: 0.8407755 (231)\ttotal: 11.5s\tremaining: 24.9s\n",
            "316:\tlearn: 0.9010334\ttest: 0.8406190\tbest: 0.8407755 (231)\ttotal: 11.6s\tremaining: 24.9s\n",
            "317:\tlearn: 0.9012521\ttest: 0.8406372\tbest: 0.8407755 (231)\ttotal: 11.6s\tremaining: 24.8s\n",
            "318:\tlearn: 0.9013757\ttest: 0.8406250\tbest: 0.8407755 (231)\ttotal: 11.6s\tremaining: 24.8s\n",
            "319:\tlearn: 0.9016213\ttest: 0.8405582\tbest: 0.8407755 (231)\ttotal: 11.7s\tremaining: 24.8s\n",
            "320:\tlearn: 0.9017128\ttest: 0.8405035\tbest: 0.8407755 (231)\ttotal: 11.7s\tremaining: 24.7s\n",
            "321:\tlearn: 0.9019198\ttest: 0.8406858\tbest: 0.8407755 (231)\ttotal: 11.7s\tremaining: 24.7s\n",
            "322:\tlearn: 0.9020967\ttest: 0.8406068\tbest: 0.8407755 (231)\ttotal: 11.8s\tremaining: 24.6s\n",
            "323:\tlearn: 0.9022209\ttest: 0.8404518\tbest: 0.8407755 (231)\ttotal: 11.8s\tremaining: 24.6s\n",
            "324:\tlearn: 0.9022141\ttest: 0.8404518\tbest: 0.8407755 (231)\ttotal: 11.8s\tremaining: 24.5s\n",
            "325:\tlearn: 0.9022631\ttest: 0.8404670\tbest: 0.8407755 (231)\ttotal: 11.9s\tremaining: 24.5s\n",
            "326:\tlearn: 0.9022860\ttest: 0.8404852\tbest: 0.8407755 (231)\ttotal: 11.9s\tremaining: 24.5s\n",
            "327:\tlearn: 0.9023295\ttest: 0.8404883\tbest: 0.8407755 (231)\ttotal: 11.9s\tremaining: 24.5s\n",
            "328:\tlearn: 0.9023256\ttest: 0.8404883\tbest: 0.8407755 (231)\ttotal: 12s\tremaining: 24.4s\n",
            "329:\tlearn: 0.9024459\ttest: 0.8404214\tbest: 0.8407755 (231)\ttotal: 12s\tremaining: 24.4s\n",
            "330:\tlearn: 0.9025266\ttest: 0.8404275\tbest: 0.8407755 (231)\ttotal: 12.1s\tremaining: 24.4s\n",
            "331:\tlearn: 0.9026548\ttest: 0.8404731\tbest: 0.8407755 (231)\ttotal: 12.1s\tremaining: 24.4s\n",
            "332:\tlearn: 0.9026954\ttest: 0.8404670\tbest: 0.8407755 (231)\ttotal: 12.2s\tremaining: 24.4s\n",
            "333:\tlearn: 0.9027225\ttest: 0.8404487\tbest: 0.8407755 (231)\ttotal: 12.2s\tremaining: 24.4s\n",
            "334:\tlearn: 0.9029399\ttest: 0.8405035\tbest: 0.8407755 (231)\ttotal: 12.3s\tremaining: 24.4s\n",
            "335:\tlearn: 0.9032643\ttest: 0.8405764\tbest: 0.8407755 (231)\ttotal: 12.3s\tremaining: 24.4s\n",
            "336:\tlearn: 0.9033186\ttest: 0.8405187\tbest: 0.8407755 (231)\ttotal: 12.4s\tremaining: 24.3s\n",
            "337:\tlearn: 0.9037122\ttest: 0.8406372\tbest: 0.8407755 (231)\ttotal: 12.4s\tremaining: 24.3s\n",
            "338:\tlearn: 0.9037887\ttest: 0.8407162\tbest: 0.8407755 (231)\ttotal: 12.4s\tremaining: 24.2s\n",
            "339:\tlearn: 0.9037995\ttest: 0.8407162\tbest: 0.8407755 (231)\ttotal: 12.5s\tremaining: 24.2s\n",
            "340:\tlearn: 0.9038878\ttest: 0.8407618\tbest: 0.8407755 (231)\ttotal: 12.5s\tremaining: 24.2s\n",
            "341:\tlearn: 0.9040745\ttest: 0.8408226\tbest: 0.8408226 (341)\ttotal: 12.6s\tremaining: 24.2s\n",
            "342:\tlearn: 0.9040794\ttest: 0.8408591\tbest: 0.8408591 (342)\ttotal: 12.6s\tremaining: 24.1s\n",
            "343:\tlearn: 0.9041912\ttest: 0.8409411\tbest: 0.8409411 (343)\ttotal: 12.7s\tremaining: 24.1s\n",
            "344:\tlearn: 0.9041922\ttest: 0.8409320\tbest: 0.8409411 (343)\ttotal: 12.7s\tremaining: 24.1s\n",
            "345:\tlearn: 0.9042017\ttest: 0.8409320\tbest: 0.8409411 (343)\ttotal: 12.8s\tremaining: 24.1s\n",
            "346:\tlearn: 0.9046650\ttest: 0.8409715\tbest: 0.8409715 (346)\ttotal: 12.8s\tremaining: 24.1s\n",
            "347:\tlearn: 0.9046608\ttest: 0.8409776\tbest: 0.8409776 (347)\ttotal: 12.9s\tremaining: 24.1s\n",
            "348:\tlearn: 0.9047363\ttest: 0.8408378\tbest: 0.8409776 (347)\ttotal: 12.9s\tremaining: 24.1s\n",
            "349:\tlearn: 0.9047925\ttest: 0.8408652\tbest: 0.8409776 (347)\ttotal: 12.9s\tremaining: 24s\n",
            "350:\tlearn: 0.9047955\ttest: 0.8408682\tbest: 0.8409776 (347)\ttotal: 13s\tremaining: 24s\n",
            "351:\tlearn: 0.9050005\ttest: 0.8408226\tbest: 0.8409776 (347)\ttotal: 13s\tremaining: 24s\n",
            "352:\tlearn: 0.9050129\ttest: 0.8407861\tbest: 0.8409776 (347)\ttotal: 13.1s\tremaining: 23.9s\n",
            "353:\tlearn: 0.9050292\ttest: 0.8408530\tbest: 0.8409776 (347)\ttotal: 13.1s\tremaining: 23.9s\n",
            "354:\tlearn: 0.9051865\ttest: 0.8408469\tbest: 0.8409776 (347)\ttotal: 13.2s\tremaining: 23.9s\n",
            "355:\tlearn: 0.9053794\ttest: 0.8408226\tbest: 0.8409776 (347)\ttotal: 13.2s\tremaining: 23.9s\n",
            "356:\tlearn: 0.9057872\ttest: 0.8407557\tbest: 0.8409776 (347)\ttotal: 13.3s\tremaining: 23.9s\n",
            "357:\tlearn: 0.9058274\ttest: 0.8406585\tbest: 0.8409776 (347)\ttotal: 13.3s\tremaining: 23.8s\n",
            "358:\tlearn: 0.9059281\ttest: 0.8407952\tbest: 0.8409776 (347)\ttotal: 13.3s\tremaining: 23.8s\n",
            "359:\tlearn: 0.9059912\ttest: 0.8408287\tbest: 0.8409776 (347)\ttotal: 13.4s\tremaining: 23.8s\n",
            "360:\tlearn: 0.9060317\ttest: 0.8408348\tbest: 0.8409776 (347)\ttotal: 13.5s\tremaining: 23.8s\n",
            "361:\tlearn: 0.9062864\ttest: 0.8407557\tbest: 0.8409776 (347)\ttotal: 13.5s\tremaining: 23.8s\n",
            "362:\tlearn: 0.9064427\ttest: 0.8407861\tbest: 0.8409776 (347)\ttotal: 13.6s\tremaining: 23.8s\n",
            "363:\tlearn: 0.9065496\ttest: 0.8408135\tbest: 0.8409776 (347)\ttotal: 13.6s\tremaining: 23.8s\n",
            "364:\tlearn: 0.9066530\ttest: 0.8407466\tbest: 0.8409776 (347)\ttotal: 13.7s\tremaining: 23.8s\n",
            "365:\tlearn: 0.9067991\ttest: 0.8408104\tbest: 0.8409776 (347)\ttotal: 13.7s\tremaining: 23.7s\n",
            "366:\tlearn: 0.9068547\ttest: 0.8407740\tbest: 0.8409776 (347)\ttotal: 13.7s\tremaining: 23.7s\n",
            "367:\tlearn: 0.9069740\ttest: 0.8408348\tbest: 0.8409776 (347)\ttotal: 13.8s\tremaining: 23.7s\n",
            "368:\tlearn: 0.9070224\ttest: 0.8408530\tbest: 0.8409776 (347)\ttotal: 13.8s\tremaining: 23.7s\n",
            "369:\tlearn: 0.9070944\ttest: 0.8407801\tbest: 0.8409776 (347)\ttotal: 13.9s\tremaining: 23.6s\n",
            "370:\tlearn: 0.9071921\ttest: 0.8407588\tbest: 0.8409776 (347)\ttotal: 13.9s\tremaining: 23.6s\n",
            "371:\tlearn: 0.9071941\ttest: 0.8407436\tbest: 0.8409776 (347)\ttotal: 14s\tremaining: 23.6s\n",
            "372:\tlearn: 0.9074132\ttest: 0.8406858\tbest: 0.8409776 (347)\ttotal: 14s\tremaining: 23.6s\n",
            "373:\tlearn: 0.9076120\ttest: 0.8406554\tbest: 0.8409776 (347)\ttotal: 14.1s\tremaining: 23.5s\n",
            "374:\tlearn: 0.9077604\ttest: 0.8406615\tbest: 0.8409776 (347)\ttotal: 14.1s\tremaining: 23.5s\n",
            "375:\tlearn: 0.9079085\ttest: 0.8406676\tbest: 0.8409776 (347)\ttotal: 14.2s\tremaining: 23.5s\n",
            "376:\tlearn: 0.9079236\ttest: 0.8406494\tbest: 0.8409776 (347)\ttotal: 14.2s\tremaining: 23.5s\n",
            "377:\tlearn: 0.9078971\ttest: 0.8406433\tbest: 0.8409776 (347)\ttotal: 14.2s\tremaining: 23.4s\n",
            "378:\tlearn: 0.9079984\ttest: 0.8406266\tbest: 0.8409776 (347)\ttotal: 14.2s\tremaining: 23.3s\n",
            "379:\tlearn: 0.9082963\ttest: 0.8404776\tbest: 0.8409776 (347)\ttotal: 14.3s\tremaining: 23.3s\n",
            "380:\tlearn: 0.9085108\ttest: 0.8404016\tbest: 0.8409776 (347)\ttotal: 14.3s\tremaining: 23.3s\n",
            "381:\tlearn: 0.9087930\ttest: 0.8404108\tbest: 0.8409776 (347)\ttotal: 14.4s\tremaining: 23.2s\n",
            "382:\tlearn: 0.9088312\ttest: 0.8403895\tbest: 0.8409776 (347)\ttotal: 14.4s\tremaining: 23.2s\n",
            "383:\tlearn: 0.9090931\ttest: 0.8403074\tbest: 0.8409776 (347)\ttotal: 14.5s\tremaining: 23.2s\n",
            "384:\tlearn: 0.9091317\ttest: 0.8402953\tbest: 0.8409776 (347)\ttotal: 14.5s\tremaining: 23.2s\n",
            "385:\tlearn: 0.9091526\ttest: 0.8402922\tbest: 0.8409776 (347)\ttotal: 14.6s\tremaining: 23.2s\n",
            "386:\tlearn: 0.9093665\ttest: 0.8401250\tbest: 0.8409776 (347)\ttotal: 14.6s\tremaining: 23.1s\n",
            "387:\tlearn: 0.9094623\ttest: 0.8400795\tbest: 0.8409776 (347)\ttotal: 14.6s\tremaining: 23.1s\n",
            "388:\tlearn: 0.9095692\ttest: 0.8400795\tbest: 0.8409776 (347)\ttotal: 14.7s\tremaining: 23s\n",
            "389:\tlearn: 0.9096385\ttest: 0.8399700\tbest: 0.8409776 (347)\ttotal: 14.7s\tremaining: 23s\n",
            "390:\tlearn: 0.9100701\ttest: 0.8399123\tbest: 0.8409776 (347)\ttotal: 14.7s\tremaining: 22.9s\n",
            "391:\tlearn: 0.9103124\ttest: 0.8399092\tbest: 0.8409776 (347)\ttotal: 14.7s\tremaining: 22.9s\n",
            "392:\tlearn: 0.9103470\ttest: 0.8398819\tbest: 0.8409776 (347)\ttotal: 14.8s\tremaining: 22.8s\n",
            "393:\tlearn: 0.9104857\ttest: 0.8398576\tbest: 0.8409776 (347)\ttotal: 14.8s\tremaining: 22.8s\n",
            "394:\tlearn: 0.9105468\ttest: 0.8397907\tbest: 0.8409776 (347)\ttotal: 14.9s\tremaining: 22.8s\n",
            "395:\tlearn: 0.9105769\ttest: 0.8398150\tbest: 0.8409776 (347)\ttotal: 14.9s\tremaining: 22.7s\n",
            "396:\tlearn: 0.9106282\ttest: 0.8398515\tbest: 0.8409776 (347)\ttotal: 14.9s\tremaining: 22.6s\n",
            "397:\tlearn: 0.9106498\ttest: 0.8398819\tbest: 0.8409776 (347)\ttotal: 14.9s\tremaining: 22.6s\n",
            "398:\tlearn: 0.9108064\ttest: 0.8398181\tbest: 0.8409776 (347)\ttotal: 14.9s\tremaining: 22.5s\n",
            "399:\tlearn: 0.9109169\ttest: 0.8398515\tbest: 0.8409776 (347)\ttotal: 15s\tremaining: 22.4s\n",
            "400:\tlearn: 0.9110350\ttest: 0.8398788\tbest: 0.8409776 (347)\ttotal: 15s\tremaining: 22.4s\n",
            "401:\tlearn: 0.9111236\ttest: 0.8398150\tbest: 0.8409776 (347)\ttotal: 15s\tremaining: 22.3s\n",
            "402:\tlearn: 0.9112851\ttest: 0.8398059\tbest: 0.8409776 (347)\ttotal: 15s\tremaining: 22.3s\n",
            "403:\tlearn: 0.9113113\ttest: 0.8398697\tbest: 0.8409776 (347)\ttotal: 15s\tremaining: 22.2s\n",
            "404:\tlearn: 0.9115048\ttest: 0.8399761\tbest: 0.8409776 (347)\ttotal: 15.1s\tremaining: 22.1s\n",
            "405:\tlearn: 0.9116199\ttest: 0.8399123\tbest: 0.8409776 (347)\ttotal: 15.1s\tremaining: 22.1s\n",
            "406:\tlearn: 0.9116042\ttest: 0.8399123\tbest: 0.8409776 (347)\ttotal: 15.1s\tremaining: 22s\n",
            "407:\tlearn: 0.9117435\ttest: 0.8398454\tbest: 0.8409776 (347)\ttotal: 15.1s\tremaining: 21.9s\n",
            "408:\tlearn: 0.9117850\ttest: 0.8397785\tbest: 0.8409776 (347)\ttotal: 15.2s\tremaining: 22s\n",
            "409:\tlearn: 0.9119616\ttest: 0.8397269\tbest: 0.8409776 (347)\ttotal: 15.3s\tremaining: 22s\n",
            "410:\tlearn: 0.9119796\ttest: 0.8397451\tbest: 0.8409776 (347)\ttotal: 15.3s\tremaining: 22s\n",
            "411:\tlearn: 0.9121293\ttest: 0.8397481\tbest: 0.8409776 (347)\ttotal: 15.4s\tremaining: 22s\n",
            "412:\tlearn: 0.9122304\ttest: 0.8397451\tbest: 0.8409776 (347)\ttotal: 15.4s\tremaining: 22s\n",
            "413:\tlearn: 0.9122598\ttest: 0.8396904\tbest: 0.8409776 (347)\ttotal: 15.5s\tremaining: 21.9s\n",
            "414:\tlearn: 0.9124171\ttest: 0.8395749\tbest: 0.8409776 (347)\ttotal: 15.5s\tremaining: 21.9s\n",
            "415:\tlearn: 0.9124481\ttest: 0.8395202\tbest: 0.8409776 (347)\ttotal: 15.5s\tremaining: 21.8s\n",
            "416:\tlearn: 0.9124834\ttest: 0.8394412\tbest: 0.8409776 (347)\ttotal: 15.6s\tremaining: 21.8s\n",
            "417:\tlearn: 0.9125760\ttest: 0.8396144\tbest: 0.8409776 (347)\ttotal: 15.6s\tremaining: 21.7s\n",
            "418:\tlearn: 0.9127218\ttest: 0.8396266\tbest: 0.8409776 (347)\ttotal: 15.7s\tremaining: 21.7s\n",
            "419:\tlearn: 0.9128088\ttest: 0.8395779\tbest: 0.8409776 (347)\ttotal: 15.7s\tremaining: 21.6s\n",
            "420:\tlearn: 0.9130985\ttest: 0.8395627\tbest: 0.8409776 (347)\ttotal: 15.7s\tremaining: 21.6s\n",
            "421:\tlearn: 0.9132996\ttest: 0.8396205\tbest: 0.8409776 (347)\ttotal: 15.7s\tremaining: 21.5s\n",
            "422:\tlearn: 0.9133780\ttest: 0.8396175\tbest: 0.8409776 (347)\ttotal: 15.7s\tremaining: 21.5s\n",
            "423:\tlearn: 0.9136733\ttest: 0.8393834\tbest: 0.8409776 (347)\ttotal: 15.8s\tremaining: 21.4s\n",
            "424:\tlearn: 0.9137262\ttest: 0.8393743\tbest: 0.8409776 (347)\ttotal: 15.8s\tremaining: 21.4s\n",
            "425:\tlearn: 0.9138332\ttest: 0.8393074\tbest: 0.8409776 (347)\ttotal: 15.9s\tremaining: 21.4s\n",
            "426:\tlearn: 0.9138786\ttest: 0.8392132\tbest: 0.8409776 (347)\ttotal: 15.9s\tremaining: 21.4s\n",
            "427:\tlearn: 0.9138809\ttest: 0.8392132\tbest: 0.8409776 (347)\ttotal: 16s\tremaining: 21.3s\n",
            "428:\tlearn: 0.9140137\ttest: 0.8391858\tbest: 0.8409776 (347)\ttotal: 16s\tremaining: 21.3s\n",
            "429:\tlearn: 0.9141343\ttest: 0.8392497\tbest: 0.8409776 (347)\ttotal: 16s\tremaining: 21.3s\n",
            "430:\tlearn: 0.9143750\ttest: 0.8392649\tbest: 0.8409776 (347)\ttotal: 16.1s\tremaining: 21.2s\n",
            "431:\tlearn: 0.9144197\ttest: 0.8392558\tbest: 0.8409776 (347)\ttotal: 16.1s\tremaining: 21.2s\n",
            "432:\tlearn: 0.9146921\ttest: 0.8391038\tbest: 0.8409776 (347)\ttotal: 16.1s\tremaining: 21.1s\n",
            "433:\tlearn: 0.9147153\ttest: 0.8391068\tbest: 0.8409776 (347)\ttotal: 16.2s\tremaining: 21.1s\n",
            "434:\tlearn: 0.9147359\ttest: 0.8391524\tbest: 0.8409776 (347)\ttotal: 16.2s\tremaining: 21.1s\n",
            "435:\tlearn: 0.9147582\ttest: 0.8391646\tbest: 0.8409776 (347)\ttotal: 16.2s\tremaining: 21s\n",
            "436:\tlearn: 0.9150217\ttest: 0.8390643\tbest: 0.8409776 (347)\ttotal: 16.3s\tremaining: 21s\n",
            "437:\tlearn: 0.9151309\ttest: 0.8389822\tbest: 0.8409776 (347)\ttotal: 16.3s\tremaining: 20.9s\n",
            "438:\tlearn: 0.9152473\ttest: 0.8389822\tbest: 0.8409776 (347)\ttotal: 16.4s\tremaining: 20.9s\n",
            "439:\tlearn: 0.9152610\ttest: 0.8389761\tbest: 0.8409776 (347)\ttotal: 16.4s\tremaining: 20.9s\n",
            "440:\tlearn: 0.9154085\ttest: 0.8388758\tbest: 0.8409776 (347)\ttotal: 16.5s\tremaining: 20.9s\n",
            "441:\tlearn: 0.9154461\ttest: 0.8390278\tbest: 0.8409776 (347)\ttotal: 16.5s\tremaining: 20.8s\n",
            "442:\tlearn: 0.9154759\ttest: 0.8390643\tbest: 0.8409776 (347)\ttotal: 16.6s\tremaining: 20.8s\n",
            "443:\tlearn: 0.9154651\ttest: 0.8390339\tbest: 0.8409776 (347)\ttotal: 16.6s\tremaining: 20.8s\n",
            "444:\tlearn: 0.9155475\ttest: 0.8390369\tbest: 0.8409776 (347)\ttotal: 16.6s\tremaining: 20.7s\n",
            "445:\tlearn: 0.9155896\ttest: 0.8390430\tbest: 0.8409776 (347)\ttotal: 16.7s\tremaining: 20.7s\n",
            "446:\tlearn: 0.9156707\ttest: 0.8391220\tbest: 0.8409776 (347)\ttotal: 16.7s\tremaining: 20.7s\n",
            "447:\tlearn: 0.9159330\ttest: 0.8391403\tbest: 0.8409776 (347)\ttotal: 16.7s\tremaining: 20.6s\n",
            "448:\tlearn: 0.9160582\ttest: 0.8391889\tbest: 0.8409776 (347)\ttotal: 16.8s\tremaining: 20.6s\n",
            "449:\tlearn: 0.9162318\ttest: 0.8391950\tbest: 0.8409776 (347)\ttotal: 16.8s\tremaining: 20.5s\n",
            "450:\tlearn: 0.9164630\ttest: 0.8393621\tbest: 0.8409776 (347)\ttotal: 16.8s\tremaining: 20.5s\n",
            "451:\tlearn: 0.9164731\ttest: 0.8393895\tbest: 0.8409776 (347)\ttotal: 16.8s\tremaining: 20.4s\n",
            "452:\tlearn: 0.9167252\ttest: 0.8395354\tbest: 0.8409776 (347)\ttotal: 16.9s\tremaining: 20.4s\n",
            "453:\tlearn: 0.9167896\ttest: 0.8395749\tbest: 0.8409776 (347)\ttotal: 16.9s\tremaining: 20.3s\n",
            "454:\tlearn: 0.9169583\ttest: 0.8395080\tbest: 0.8409776 (347)\ttotal: 16.9s\tremaining: 20.3s\n",
            "455:\tlearn: 0.9171744\ttest: 0.8394776\tbest: 0.8409776 (347)\ttotal: 17s\tremaining: 20.2s\n",
            "456:\tlearn: 0.9172392\ttest: 0.8395871\tbest: 0.8409776 (347)\ttotal: 17s\tremaining: 20.2s\n",
            "457:\tlearn: 0.9172915\ttest: 0.8395597\tbest: 0.8409776 (347)\ttotal: 17.1s\tremaining: 20.2s\n",
            "458:\tlearn: 0.9175619\ttest: 0.8395141\tbest: 0.8409776 (347)\ttotal: 17.1s\tremaining: 20.2s\n",
            "459:\tlearn: 0.9177113\ttest: 0.8394928\tbest: 0.8409776 (347)\ttotal: 17.2s\tremaining: 20.1s\n",
            "460:\tlearn: 0.9179435\ttest: 0.8393561\tbest: 0.8409776 (347)\ttotal: 17.2s\tremaining: 20.1s\n",
            "461:\tlearn: 0.9179801\ttest: 0.8393317\tbest: 0.8409776 (347)\ttotal: 17.2s\tremaining: 20.1s\n",
            "462:\tlearn: 0.9180036\ttest: 0.8393500\tbest: 0.8409776 (347)\ttotal: 17.3s\tremaining: 20s\n",
            "463:\tlearn: 0.9180406\ttest: 0.8393500\tbest: 0.8409776 (347)\ttotal: 17.3s\tremaining: 20s\n",
            "464:\tlearn: 0.9182770\ttest: 0.8392588\tbest: 0.8409776 (347)\ttotal: 17.3s\tremaining: 19.9s\n",
            "465:\tlearn: 0.9183375\ttest: 0.8391858\tbest: 0.8409776 (347)\ttotal: 17.3s\tremaining: 19.9s\n",
            "466:\tlearn: 0.9184519\ttest: 0.8391524\tbest: 0.8409776 (347)\ttotal: 17.4s\tremaining: 19.8s\n",
            "467:\tlearn: 0.9185327\ttest: 0.8392162\tbest: 0.8409776 (347)\ttotal: 17.4s\tremaining: 19.8s\n",
            "468:\tlearn: 0.9186399\ttest: 0.8393013\tbest: 0.8409776 (347)\ttotal: 17.4s\tremaining: 19.7s\n",
            "469:\tlearn: 0.9189482\ttest: 0.8393409\tbest: 0.8409776 (347)\ttotal: 17.5s\tremaining: 19.7s\n",
            "470:\tlearn: 0.9192657\ttest: 0.8393773\tbest: 0.8409776 (347)\ttotal: 17.5s\tremaining: 19.7s\n",
            "471:\tlearn: 0.9193220\ttest: 0.8392983\tbest: 0.8409776 (347)\ttotal: 17.6s\tremaining: 19.6s\n",
            "472:\tlearn: 0.9194858\ttest: 0.8392102\tbest: 0.8409776 (347)\ttotal: 17.6s\tremaining: 19.6s\n",
            "473:\tlearn: 0.9198660\ttest: 0.8392953\tbest: 0.8409776 (347)\ttotal: 17.6s\tremaining: 19.6s\n",
            "474:\tlearn: 0.9200763\ttest: 0.8389792\tbest: 0.8409776 (347)\ttotal: 17.7s\tremaining: 19.5s\n",
            "475:\tlearn: 0.9203110\ttest: 0.8388606\tbest: 0.8409776 (347)\ttotal: 17.7s\tremaining: 19.5s\n",
            "476:\tlearn: 0.9204137\ttest: 0.8387330\tbest: 0.8409776 (347)\ttotal: 17.7s\tremaining: 19.4s\n",
            "477:\tlearn: 0.9204180\ttest: 0.8387390\tbest: 0.8409776 (347)\ttotal: 17.7s\tremaining: 19.4s\n",
            "478:\tlearn: 0.9204631\ttest: 0.8387603\tbest: 0.8409776 (347)\ttotal: 17.8s\tremaining: 19.3s\n",
            "479:\tlearn: 0.9207305\ttest: 0.8388758\tbest: 0.8409776 (347)\ttotal: 17.8s\tremaining: 19.3s\n",
            "480:\tlearn: 0.9207260\ttest: 0.8388880\tbest: 0.8409776 (347)\ttotal: 17.9s\tremaining: 19.3s\n",
            "481:\tlearn: 0.9208221\ttest: 0.8387816\tbest: 0.8409776 (347)\ttotal: 17.9s\tremaining: 19.2s\n",
            "482:\tlearn: 0.9210726\ttest: 0.8389761\tbest: 0.8409776 (347)\ttotal: 17.9s\tremaining: 19.2s\n",
            "483:\tlearn: 0.9211736\ttest: 0.8389579\tbest: 0.8409776 (347)\ttotal: 18s\tremaining: 19.2s\n",
            "484:\tlearn: 0.9212020\ttest: 0.8389609\tbest: 0.8409776 (347)\ttotal: 18s\tremaining: 19.1s\n",
            "485:\tlearn: 0.9214034\ttest: 0.8389366\tbest: 0.8409776 (347)\ttotal: 18.1s\tremaining: 19.1s\n",
            "486:\tlearn: 0.9215614\ttest: 0.8389123\tbest: 0.8409776 (347)\ttotal: 18.1s\tremaining: 19.1s\n",
            "487:\tlearn: 0.9216536\ttest: 0.8388059\tbest: 0.8409776 (347)\ttotal: 18.1s\tremaining: 19s\n",
            "488:\tlearn: 0.9218648\ttest: 0.8387664\tbest: 0.8409776 (347)\ttotal: 18.2s\tremaining: 19s\n",
            "489:\tlearn: 0.9218854\ttest: 0.8388302\tbest: 0.8409776 (347)\ttotal: 18.2s\tremaining: 18.9s\n",
            "490:\tlearn: 0.9219645\ttest: 0.8386783\tbest: 0.8409776 (347)\ttotal: 18.2s\tremaining: 18.9s\n",
            "491:\tlearn: 0.9220806\ttest: 0.8385962\tbest: 0.8409776 (347)\ttotal: 18.2s\tremaining: 18.8s\n",
            "492:\tlearn: 0.9221136\ttest: 0.8385962\tbest: 0.8409776 (347)\ttotal: 18.3s\tremaining: 18.8s\n",
            "493:\tlearn: 0.9221784\ttest: 0.8385780\tbest: 0.8409776 (347)\ttotal: 18.3s\tremaining: 18.7s\n",
            "494:\tlearn: 0.9222843\ttest: 0.8384655\tbest: 0.8409776 (347)\ttotal: 18.3s\tremaining: 18.7s\n",
            "495:\tlearn: 0.9224700\ttest: 0.8384807\tbest: 0.8409776 (347)\ttotal: 18.4s\tremaining: 18.7s\n",
            "496:\tlearn: 0.9224949\ttest: 0.8385111\tbest: 0.8409776 (347)\ttotal: 18.4s\tremaining: 18.6s\n",
            "497:\tlearn: 0.9227198\ttest: 0.8384989\tbest: 0.8409776 (347)\ttotal: 18.4s\tremaining: 18.6s\n",
            "498:\tlearn: 0.9228594\ttest: 0.8384017\tbest: 0.8409776 (347)\ttotal: 18.5s\tremaining: 18.6s\n",
            "499:\tlearn: 0.9229510\ttest: 0.8384260\tbest: 0.8409776 (347)\ttotal: 18.5s\tremaining: 18.5s\n",
            "500:\tlearn: 0.9230553\ttest: 0.8384229\tbest: 0.8409776 (347)\ttotal: 18.5s\tremaining: 18.5s\n",
            "501:\tlearn: 0.9232050\ttest: 0.8383226\tbest: 0.8409776 (347)\ttotal: 18.6s\tremaining: 18.4s\n",
            "502:\tlearn: 0.9233855\ttest: 0.8382497\tbest: 0.8409776 (347)\ttotal: 18.6s\tremaining: 18.4s\n",
            "503:\tlearn: 0.9234287\ttest: 0.8382041\tbest: 0.8409776 (347)\ttotal: 18.7s\tremaining: 18.4s\n",
            "504:\tlearn: 0.9235000\ttest: 0.8382284\tbest: 0.8409776 (347)\ttotal: 18.7s\tremaining: 18.4s\n",
            "505:\tlearn: 0.9235644\ttest: 0.8382406\tbest: 0.8409776 (347)\ttotal: 18.8s\tremaining: 18.3s\n",
            "506:\tlearn: 0.9236821\ttest: 0.8381889\tbest: 0.8409776 (347)\ttotal: 18.8s\tremaining: 18.3s\n",
            "507:\tlearn: 0.9238452\ttest: 0.8381980\tbest: 0.8409776 (347)\ttotal: 18.8s\tremaining: 18.2s\n",
            "508:\tlearn: 0.9238492\ttest: 0.8381889\tbest: 0.8409776 (347)\ttotal: 18.9s\tremaining: 18.2s\n",
            "509:\tlearn: 0.9239214\ttest: 0.8381889\tbest: 0.8409776 (347)\ttotal: 18.9s\tremaining: 18.2s\n",
            "510:\tlearn: 0.9239100\ttest: 0.8381980\tbest: 0.8409776 (347)\ttotal: 18.9s\tremaining: 18.1s\n",
            "511:\tlearn: 0.9239778\ttest: 0.8382163\tbest: 0.8409776 (347)\ttotal: 19s\tremaining: 18.1s\n",
            "512:\tlearn: 0.9240053\ttest: 0.8381646\tbest: 0.8409776 (347)\ttotal: 19s\tremaining: 18.1s\n",
            "513:\tlearn: 0.9242015\ttest: 0.8380825\tbest: 0.8409776 (347)\ttotal: 19s\tremaining: 18s\n",
            "514:\tlearn: 0.9242754\ttest: 0.8380612\tbest: 0.8409776 (347)\ttotal: 19.1s\tremaining: 18s\n",
            "515:\tlearn: 0.9243499\ttest: 0.8381281\tbest: 0.8409776 (347)\ttotal: 19.1s\tremaining: 18s\n",
            "516:\tlearn: 0.9244287\ttest: 0.8380308\tbest: 0.8409776 (347)\ttotal: 19.2s\tremaining: 17.9s\n",
            "517:\tlearn: 0.9245592\ttest: 0.8381555\tbest: 0.8409776 (347)\ttotal: 19.2s\tremaining: 17.9s\n",
            "518:\tlearn: 0.9245817\ttest: 0.8382558\tbest: 0.8409776 (347)\ttotal: 19.2s\tremaining: 17.8s\n",
            "519:\tlearn: 0.9246595\ttest: 0.8380795\tbest: 0.8409776 (347)\ttotal: 19.3s\tremaining: 17.8s\n",
            "520:\tlearn: 0.9247900\ttest: 0.8379913\tbest: 0.8409776 (347)\ttotal: 19.3s\tremaining: 17.8s\n",
            "521:\tlearn: 0.9248646\ttest: 0.8379731\tbest: 0.8409776 (347)\ttotal: 19.4s\tremaining: 17.7s\n",
            "522:\tlearn: 0.9248721\ttest: 0.8379822\tbest: 0.8409776 (347)\ttotal: 19.4s\tremaining: 17.7s\n",
            "523:\tlearn: 0.9249545\ttest: 0.8380339\tbest: 0.8409776 (347)\ttotal: 19.4s\tremaining: 17.7s\n",
            "524:\tlearn: 0.9250267\ttest: 0.8379853\tbest: 0.8409776 (347)\ttotal: 19.5s\tremaining: 17.6s\n",
            "525:\tlearn: 0.9250774\ttest: 0.8380430\tbest: 0.8409776 (347)\ttotal: 19.5s\tremaining: 17.6s\n",
            "526:\tlearn: 0.9253550\ttest: 0.8376752\tbest: 0.8409776 (347)\ttotal: 19.6s\tremaining: 17.5s\n",
            "527:\tlearn: 0.9254436\ttest: 0.8377451\tbest: 0.8409776 (347)\ttotal: 19.6s\tremaining: 17.5s\n",
            "528:\tlearn: 0.9255231\ttest: 0.8377968\tbest: 0.8409776 (347)\ttotal: 19.6s\tremaining: 17.4s\n",
            "529:\tlearn: 0.9256941\ttest: 0.8378242\tbest: 0.8409776 (347)\ttotal: 19.6s\tremaining: 17.4s\n",
            "530:\tlearn: 0.9258549\ttest: 0.8377968\tbest: 0.8409776 (347)\ttotal: 19.6s\tremaining: 17.3s\n",
            "531:\tlearn: 0.9259380\ttest: 0.8376752\tbest: 0.8409776 (347)\ttotal: 19.7s\tremaining: 17.3s\n",
            "532:\tlearn: 0.9260178\ttest: 0.8375567\tbest: 0.8409776 (347)\ttotal: 19.7s\tremaining: 17.2s\n",
            "533:\tlearn: 0.9261129\ttest: 0.8375840\tbest: 0.8409776 (347)\ttotal: 19.7s\tremaining: 17.2s\n",
            "534:\tlearn: 0.9262202\ttest: 0.8376053\tbest: 0.8409776 (347)\ttotal: 19.8s\tremaining: 17.2s\n",
            "535:\tlearn: 0.9264069\ttest: 0.8376388\tbest: 0.8409776 (347)\ttotal: 19.8s\tremaining: 17.1s\n",
            "536:\tlearn: 0.9266155\ttest: 0.8375202\tbest: 0.8409776 (347)\ttotal: 19.9s\tremaining: 17.1s\n",
            "537:\tlearn: 0.9266913\ttest: 0.8374564\tbest: 0.8409776 (347)\ttotal: 19.9s\tremaining: 17.1s\n",
            "538:\tlearn: 0.9267750\ttest: 0.8375628\tbest: 0.8409776 (347)\ttotal: 19.9s\tremaining: 17s\n",
            "539:\tlearn: 0.9268201\ttest: 0.8375597\tbest: 0.8409776 (347)\ttotal: 19.9s\tremaining: 17s\n",
            "540:\tlearn: 0.9268826\ttest: 0.8376296\tbest: 0.8409776 (347)\ttotal: 19.9s\tremaining: 16.9s\n",
            "541:\tlearn: 0.9271125\ttest: 0.8376904\tbest: 0.8409776 (347)\ttotal: 19.9s\tremaining: 16.8s\n",
            "542:\tlearn: 0.9271072\ttest: 0.8376935\tbest: 0.8409776 (347)\ttotal: 20s\tremaining: 16.8s\n",
            "543:\tlearn: 0.9271932\ttest: 0.8376813\tbest: 0.8409776 (347)\ttotal: 20s\tremaining: 16.7s\n",
            "544:\tlearn: 0.9273475\ttest: 0.8376388\tbest: 0.8409776 (347)\ttotal: 20s\tremaining: 16.7s\n",
            "545:\tlearn: 0.9274358\ttest: 0.8375445\tbest: 0.8409776 (347)\ttotal: 20s\tremaining: 16.6s\n",
            "546:\tlearn: 0.9275421\ttest: 0.8375081\tbest: 0.8409776 (347)\ttotal: 20s\tremaining: 16.6s\n",
            "547:\tlearn: 0.9276042\ttest: 0.8375141\tbest: 0.8409776 (347)\ttotal: 20s\tremaining: 16.5s\n",
            "548:\tlearn: 0.9275993\ttest: 0.8375111\tbest: 0.8409776 (347)\ttotal: 20.1s\tremaining: 16.5s\n",
            "549:\tlearn: 0.9276134\ttest: 0.8375111\tbest: 0.8409776 (347)\ttotal: 20.1s\tremaining: 16.4s\n",
            "550:\tlearn: 0.9278292\ttest: 0.8374594\tbest: 0.8409776 (347)\ttotal: 20.1s\tremaining: 16.4s\n",
            "551:\tlearn: 0.9280525\ttest: 0.8375688\tbest: 0.8409776 (347)\ttotal: 20.1s\tremaining: 16.3s\n",
            "552:\tlearn: 0.9281681\ttest: 0.8375384\tbest: 0.8409776 (347)\ttotal: 20.1s\tremaining: 16.3s\n",
            "553:\tlearn: 0.9281939\ttest: 0.8374078\tbest: 0.8409776 (347)\ttotal: 20.1s\tremaining: 16.2s\n",
            "554:\tlearn: 0.9282871\ttest: 0.8373895\tbest: 0.8409776 (347)\ttotal: 20.1s\tremaining: 16.2s\n",
            "555:\tlearn: 0.9282766\ttest: 0.8373926\tbest: 0.8409776 (347)\ttotal: 20.2s\tremaining: 16.1s\n",
            "556:\tlearn: 0.9283391\ttest: 0.8373591\tbest: 0.8409776 (347)\ttotal: 20.2s\tremaining: 16.1s\n",
            "557:\tlearn: 0.9284179\ttest: 0.8372983\tbest: 0.8409776 (347)\ttotal: 20.2s\tremaining: 16s\n",
            "558:\tlearn: 0.9284538\ttest: 0.8373348\tbest: 0.8409776 (347)\ttotal: 20.2s\tremaining: 16s\n",
            "559:\tlearn: 0.9285402\ttest: 0.8371828\tbest: 0.8409776 (347)\ttotal: 20.2s\tremaining: 15.9s\n",
            "560:\tlearn: 0.9286046\ttest: 0.8370795\tbest: 0.8409776 (347)\ttotal: 20.3s\tremaining: 15.8s\n",
            "561:\tlearn: 0.9286098\ttest: 0.8370461\tbest: 0.8409776 (347)\ttotal: 20.3s\tremaining: 15.8s\n",
            "562:\tlearn: 0.9286268\ttest: 0.8370795\tbest: 0.8409776 (347)\ttotal: 20.3s\tremaining: 15.7s\n",
            "563:\tlearn: 0.9287844\ttest: 0.8370461\tbest: 0.8409776 (347)\ttotal: 20.3s\tremaining: 15.7s\n",
            "564:\tlearn: 0.9287975\ttest: 0.8370400\tbest: 0.8409776 (347)\ttotal: 20.3s\tremaining: 15.6s\n",
            "565:\tlearn: 0.9288753\ttest: 0.8370430\tbest: 0.8409776 (347)\ttotal: 20.3s\tremaining: 15.6s\n",
            "566:\tlearn: 0.9288822\ttest: 0.8370248\tbest: 0.8409776 (347)\ttotal: 20.4s\tremaining: 15.5s\n",
            "567:\tlearn: 0.9289374\ttest: 0.8370096\tbest: 0.8409776 (347)\ttotal: 20.4s\tremaining: 15.5s\n",
            "568:\tlearn: 0.9290417\ttest: 0.8369853\tbest: 0.8409776 (347)\ttotal: 20.4s\tremaining: 15.4s\n",
            "569:\tlearn: 0.9291987\ttest: 0.8369701\tbest: 0.8409776 (347)\ttotal: 20.4s\tremaining: 15.4s\n",
            "570:\tlearn: 0.9292919\ttest: 0.8369518\tbest: 0.8409776 (347)\ttotal: 20.4s\tremaining: 15.3s\n",
            "571:\tlearn: 0.9293151\ttest: 0.8369275\tbest: 0.8409776 (347)\ttotal: 20.4s\tremaining: 15.3s\n",
            "572:\tlearn: 0.9293608\ttest: 0.8369245\tbest: 0.8409776 (347)\ttotal: 20.5s\tremaining: 15.2s\n",
            "573:\tlearn: 0.9294687\ttest: 0.8370582\tbest: 0.8409776 (347)\ttotal: 20.5s\tremaining: 15.2s\n",
            "574:\tlearn: 0.9295312\ttest: 0.8369944\tbest: 0.8409776 (347)\ttotal: 20.5s\tremaining: 15.1s\n",
            "575:\tlearn: 0.9295276\ttest: 0.8369792\tbest: 0.8409776 (347)\ttotal: 20.5s\tremaining: 15.1s\n",
            "576:\tlearn: 0.9295577\ttest: 0.8369670\tbest: 0.8409776 (347)\ttotal: 20.5s\tremaining: 15s\n",
            "577:\tlearn: 0.9296989\ttest: 0.8369002\tbest: 0.8409776 (347)\ttotal: 20.5s\tremaining: 15s\n",
            "578:\tlearn: 0.9297509\ttest: 0.8368850\tbest: 0.8409776 (347)\ttotal: 20.6s\tremaining: 14.9s\n",
            "579:\tlearn: 0.9298042\ttest: 0.8369366\tbest: 0.8409776 (347)\ttotal: 20.6s\tremaining: 14.9s\n",
            "580:\tlearn: 0.9298372\ttest: 0.8369549\tbest: 0.8409776 (347)\ttotal: 20.6s\tremaining: 14.8s\n",
            "581:\tlearn: 0.9299245\ttest: 0.8370248\tbest: 0.8409776 (347)\ttotal: 20.6s\tremaining: 14.8s\n",
            "582:\tlearn: 0.9299324\ttest: 0.8370248\tbest: 0.8409776 (347)\ttotal: 20.6s\tremaining: 14.8s\n",
            "583:\tlearn: 0.9299530\ttest: 0.8370248\tbest: 0.8409776 (347)\ttotal: 20.6s\tremaining: 14.7s\n",
            "584:\tlearn: 0.9300194\ttest: 0.8370795\tbest: 0.8409776 (347)\ttotal: 20.7s\tremaining: 14.7s\n",
            "585:\tlearn: 0.9300880\ttest: 0.8370461\tbest: 0.8409776 (347)\ttotal: 20.7s\tremaining: 14.6s\n",
            "586:\tlearn: 0.9302437\ttest: 0.8370673\tbest: 0.8409776 (347)\ttotal: 20.7s\tremaining: 14.6s\n",
            "587:\tlearn: 0.9302685\ttest: 0.8369609\tbest: 0.8409776 (347)\ttotal: 20.7s\tremaining: 14.5s\n",
            "588:\tlearn: 0.9302757\ttest: 0.8369701\tbest: 0.8409776 (347)\ttotal: 20.7s\tremaining: 14.5s\n",
            "589:\tlearn: 0.9303388\ttest: 0.8369944\tbest: 0.8409776 (347)\ttotal: 20.7s\tremaining: 14.4s\n",
            "590:\tlearn: 0.9303604\ttest: 0.8369913\tbest: 0.8409776 (347)\ttotal: 20.8s\tremaining: 14.4s\n",
            "591:\tlearn: 0.9305186\ttest: 0.8369974\tbest: 0.8409776 (347)\ttotal: 20.8s\tremaining: 14.3s\n",
            "592:\tlearn: 0.9307165\ttest: 0.8369275\tbest: 0.8409776 (347)\ttotal: 20.8s\tremaining: 14.3s\n",
            "593:\tlearn: 0.9308011\ttest: 0.8364594\tbest: 0.8409776 (347)\ttotal: 20.8s\tremaining: 14.2s\n",
            "594:\tlearn: 0.9308760\ttest: 0.8364108\tbest: 0.8409776 (347)\ttotal: 20.8s\tremaining: 14.2s\n",
            "595:\tlearn: 0.9310120\ttest: 0.8363834\tbest: 0.8409776 (347)\ttotal: 20.8s\tremaining: 14.1s\n",
            "596:\tlearn: 0.9310800\ttest: 0.8363105\tbest: 0.8409776 (347)\ttotal: 20.9s\tremaining: 14.1s\n",
            "597:\tlearn: 0.9310872\ttest: 0.8363014\tbest: 0.8409776 (347)\ttotal: 20.9s\tremaining: 14s\n",
            "598:\tlearn: 0.9311340\ttest: 0.8362619\tbest: 0.8409776 (347)\ttotal: 20.9s\tremaining: 14s\n",
            "599:\tlearn: 0.9311670\ttest: 0.8362619\tbest: 0.8409776 (347)\ttotal: 20.9s\tremaining: 13.9s\n",
            "600:\tlearn: 0.9313194\ttest: 0.8362041\tbest: 0.8409776 (347)\ttotal: 20.9s\tremaining: 13.9s\n",
            "601:\tlearn: 0.9313688\ttest: 0.8362072\tbest: 0.8409776 (347)\ttotal: 20.9s\tremaining: 13.8s\n",
            "602:\tlearn: 0.9314358\ttest: 0.8362315\tbest: 0.8409776 (347)\ttotal: 21s\tremaining: 13.8s\n",
            "603:\tlearn: 0.9314786\ttest: 0.8362983\tbest: 0.8409776 (347)\ttotal: 21s\tremaining: 13.8s\n",
            "604:\tlearn: 0.9316202\ttest: 0.8362801\tbest: 0.8409776 (347)\ttotal: 21s\tremaining: 13.7s\n",
            "605:\tlearn: 0.9318275\ttest: 0.8361099\tbest: 0.8409776 (347)\ttotal: 21s\tremaining: 13.7s\n",
            "606:\tlearn: 0.9318919\ttest: 0.8361129\tbest: 0.8409776 (347)\ttotal: 21s\tremaining: 13.6s\n",
            "607:\tlearn: 0.9318834\ttest: 0.8359488\tbest: 0.8409776 (347)\ttotal: 21s\tremaining: 13.6s\n",
            "608:\tlearn: 0.9320191\ttest: 0.8359883\tbest: 0.8409776 (347)\ttotal: 21.1s\tremaining: 13.5s\n",
            "609:\tlearn: 0.9320619\ttest: 0.8360673\tbest: 0.8409776 (347)\ttotal: 21.1s\tremaining: 13.5s\n",
            "610:\tlearn: 0.9321201\ttest: 0.8360066\tbest: 0.8409776 (347)\ttotal: 21.1s\tremaining: 13.4s\n",
            "611:\tlearn: 0.9322130\ttest: 0.8360552\tbest: 0.8409776 (347)\ttotal: 21.1s\tremaining: 13.4s\n",
            "612:\tlearn: 0.9322300\ttest: 0.8360795\tbest: 0.8409776 (347)\ttotal: 21.1s\tremaining: 13.3s\n",
            "613:\tlearn: 0.9322352\ttest: 0.8360825\tbest: 0.8409776 (347)\ttotal: 21.1s\tremaining: 13.3s\n",
            "614:\tlearn: 0.9323039\ttest: 0.8360886\tbest: 0.8409776 (347)\ttotal: 21.2s\tremaining: 13.2s\n",
            "615:\tlearn: 0.9324902\ttest: 0.8360552\tbest: 0.8409776 (347)\ttotal: 21.2s\tremaining: 13.2s\n",
            "616:\tlearn: 0.9325524\ttest: 0.8359670\tbest: 0.8409776 (347)\ttotal: 21.2s\tremaining: 13.2s\n",
            "617:\tlearn: 0.9325753\ttest: 0.8359579\tbest: 0.8409776 (347)\ttotal: 21.2s\tremaining: 13.1s\n",
            "618:\tlearn: 0.9326446\ttest: 0.8359427\tbest: 0.8409776 (347)\ttotal: 21.2s\tremaining: 13.1s\n",
            "619:\tlearn: 0.9327289\ttest: 0.8359731\tbest: 0.8409776 (347)\ttotal: 21.2s\tremaining: 13s\n",
            "620:\tlearn: 0.9328388\ttest: 0.8359731\tbest: 0.8409776 (347)\ttotal: 21.3s\tremaining: 13s\n",
            "621:\tlearn: 0.9328829\ttest: 0.8360218\tbest: 0.8409776 (347)\ttotal: 21.3s\tremaining: 12.9s\n",
            "622:\tlearn: 0.9330314\ttest: 0.8360765\tbest: 0.8409776 (347)\ttotal: 21.3s\tremaining: 12.9s\n",
            "623:\tlearn: 0.9331233\ttest: 0.8359914\tbest: 0.8409776 (347)\ttotal: 21.3s\tremaining: 12.8s\n",
            "624:\tlearn: 0.9332083\ttest: 0.8361129\tbest: 0.8409776 (347)\ttotal: 21.3s\tremaining: 12.8s\n",
            "625:\tlearn: 0.9333263\ttest: 0.8361920\tbest: 0.8409776 (347)\ttotal: 21.3s\tremaining: 12.8s\n",
            "626:\tlearn: 0.9333773\ttest: 0.8362224\tbest: 0.8409776 (347)\ttotal: 21.4s\tremaining: 12.7s\n",
            "627:\tlearn: 0.9338665\ttest: 0.8361524\tbest: 0.8409776 (347)\ttotal: 21.4s\tremaining: 12.7s\n",
            "628:\tlearn: 0.9339184\ttest: 0.8361281\tbest: 0.8409776 (347)\ttotal: 21.4s\tremaining: 12.6s\n",
            "629:\tlearn: 0.9340649\ttest: 0.8361038\tbest: 0.8409776 (347)\ttotal: 21.4s\tremaining: 12.6s\n",
            "630:\tlearn: 0.9340721\ttest: 0.8361038\tbest: 0.8409776 (347)\ttotal: 21.4s\tremaining: 12.5s\n",
            "631:\tlearn: 0.9342049\ttest: 0.8361312\tbest: 0.8409776 (347)\ttotal: 21.4s\tremaining: 12.5s\n",
            "632:\tlearn: 0.9342307\ttest: 0.8360491\tbest: 0.8409776 (347)\ttotal: 21.5s\tremaining: 12.4s\n",
            "633:\tlearn: 0.9342786\ttest: 0.8362740\tbest: 0.8409776 (347)\ttotal: 21.5s\tremaining: 12.4s\n",
            "634:\tlearn: 0.9343401\ttest: 0.8362376\tbest: 0.8409776 (347)\ttotal: 21.5s\tremaining: 12.4s\n",
            "635:\tlearn: 0.9343904\ttest: 0.8362679\tbest: 0.8409776 (347)\ttotal: 21.5s\tremaining: 12.3s\n",
            "636:\tlearn: 0.9344038\ttest: 0.8363227\tbest: 0.8409776 (347)\ttotal: 21.5s\tremaining: 12.3s\n",
            "637:\tlearn: 0.9344771\ttest: 0.8362436\tbest: 0.8409776 (347)\ttotal: 21.5s\tremaining: 12.2s\n",
            "638:\tlearn: 0.9346526\ttest: 0.8363166\tbest: 0.8409776 (347)\ttotal: 21.6s\tremaining: 12.2s\n",
            "639:\tlearn: 0.9347030\ttest: 0.8363257\tbest: 0.8409776 (347)\ttotal: 21.6s\tremaining: 12.1s\n",
            "640:\tlearn: 0.9347880\ttest: 0.8362315\tbest: 0.8409776 (347)\ttotal: 21.6s\tremaining: 12.1s\n",
            "641:\tlearn: 0.9349074\ttest: 0.8360552\tbest: 0.8409776 (347)\ttotal: 21.6s\tremaining: 12.1s\n",
            "642:\tlearn: 0.9350329\ttest: 0.8361221\tbest: 0.8409776 (347)\ttotal: 21.6s\tremaining: 12s\n",
            "643:\tlearn: 0.9350463\ttest: 0.8361160\tbest: 0.8409776 (347)\ttotal: 21.6s\tremaining: 12s\n",
            "644:\tlearn: 0.9351035\ttest: 0.8360552\tbest: 0.8409776 (347)\ttotal: 21.7s\tremaining: 11.9s\n",
            "645:\tlearn: 0.9351889\ttest: 0.8359579\tbest: 0.8409776 (347)\ttotal: 21.7s\tremaining: 11.9s\n",
            "646:\tlearn: 0.9352811\ttest: 0.8358272\tbest: 0.8409776 (347)\ttotal: 21.7s\tremaining: 11.8s\n",
            "647:\tlearn: 0.9353919\ttest: 0.8358789\tbest: 0.8409776 (347)\ttotal: 21.7s\tremaining: 11.8s\n",
            "648:\tlearn: 0.9354138\ttest: 0.8358576\tbest: 0.8409776 (347)\ttotal: 21.7s\tremaining: 11.8s\n",
            "649:\tlearn: 0.9355914\ttest: 0.8358515\tbest: 0.8409776 (347)\ttotal: 21.7s\tremaining: 11.7s\n",
            "650:\tlearn: 0.9356849\ttest: 0.8358576\tbest: 0.8409776 (347)\ttotal: 21.8s\tremaining: 11.7s\n",
            "651:\tlearn: 0.9356934\ttest: 0.8357816\tbest: 0.8409776 (347)\ttotal: 21.8s\tremaining: 11.6s\n",
            "652:\tlearn: 0.9357385\ttest: 0.8358151\tbest: 0.8409776 (347)\ttotal: 21.8s\tremaining: 11.6s\n",
            "653:\tlearn: 0.9357529\ttest: 0.8357816\tbest: 0.8409776 (347)\ttotal: 21.8s\tremaining: 11.5s\n",
            "654:\tlearn: 0.9358699\ttest: 0.8356327\tbest: 0.8409776 (347)\ttotal: 21.8s\tremaining: 11.5s\n",
            "655:\tlearn: 0.9360387\ttest: 0.8354625\tbest: 0.8409776 (347)\ttotal: 21.8s\tremaining: 11.5s\n",
            "656:\tlearn: 0.9361887\ttest: 0.8354990\tbest: 0.8409776 (347)\ttotal: 21.9s\tremaining: 11.4s\n",
            "657:\tlearn: 0.9362312\ttest: 0.8355537\tbest: 0.8409776 (347)\ttotal: 21.9s\tremaining: 11.4s\n",
            "658:\tlearn: 0.9364627\ttest: 0.8355202\tbest: 0.8409776 (347)\ttotal: 21.9s\tremaining: 11.3s\n",
            "659:\tlearn: 0.9364788\ttest: 0.8355142\tbest: 0.8409776 (347)\ttotal: 21.9s\tremaining: 11.3s\n",
            "660:\tlearn: 0.9365445\ttest: 0.8354199\tbest: 0.8409776 (347)\ttotal: 21.9s\tremaining: 11.3s\n",
            "661:\tlearn: 0.9367286\ttest: 0.8355415\tbest: 0.8409776 (347)\ttotal: 22s\tremaining: 11.2s\n",
            "662:\tlearn: 0.9367962\ttest: 0.8356418\tbest: 0.8409776 (347)\ttotal: 22s\tremaining: 11.2s\n",
            "663:\tlearn: 0.9368015\ttest: 0.8356509\tbest: 0.8409776 (347)\ttotal: 22s\tremaining: 11.1s\n",
            "664:\tlearn: 0.9368544\ttest: 0.8357056\tbest: 0.8409776 (347)\ttotal: 22s\tremaining: 11.1s\n",
            "665:\tlearn: 0.9368950\ttest: 0.8356114\tbest: 0.8409776 (347)\ttotal: 22s\tremaining: 11s\n",
            "666:\tlearn: 0.9369398\ttest: 0.8356084\tbest: 0.8409776 (347)\ttotal: 22s\tremaining: 11s\n",
            "667:\tlearn: 0.9369470\ttest: 0.8356266\tbest: 0.8409776 (347)\ttotal: 22.1s\tremaining: 11s\n",
            "668:\tlearn: 0.9371226\ttest: 0.8356570\tbest: 0.8409776 (347)\ttotal: 22.1s\tremaining: 10.9s\n",
            "669:\tlearn: 0.9371971\ttest: 0.8356904\tbest: 0.8409776 (347)\ttotal: 22.1s\tremaining: 10.9s\n",
            "670:\tlearn: 0.9373129\ttest: 0.8355993\tbest: 0.8409776 (347)\ttotal: 22.1s\tremaining: 10.8s\n",
            "671:\tlearn: 0.9373367\ttest: 0.8356783\tbest: 0.8409776 (347)\ttotal: 22.1s\tremaining: 10.8s\n",
            "672:\tlearn: 0.9374482\ttest: 0.8356114\tbest: 0.8409776 (347)\ttotal: 22.1s\tremaining: 10.8s\n",
            "673:\tlearn: 0.9374888\ttest: 0.8355871\tbest: 0.8409776 (347)\ttotal: 22.2s\tremaining: 10.7s\n",
            "674:\tlearn: 0.9375712\ttest: 0.8355749\tbest: 0.8409776 (347)\ttotal: 22.2s\tremaining: 10.7s\n",
            "675:\tlearn: 0.9376163\ttest: 0.8355780\tbest: 0.8409776 (347)\ttotal: 22.2s\tremaining: 10.6s\n",
            "676:\tlearn: 0.9376477\ttest: 0.8355202\tbest: 0.8409776 (347)\ttotal: 22.2s\tremaining: 10.6s\n",
            "677:\tlearn: 0.9376951\ttest: 0.8355871\tbest: 0.8409776 (347)\ttotal: 22.2s\tremaining: 10.6s\n",
            "678:\tlearn: 0.9377667\ttest: 0.8355810\tbest: 0.8409776 (347)\ttotal: 22.3s\tremaining: 10.5s\n",
            "679:\tlearn: 0.9378671\ttest: 0.8354807\tbest: 0.8409776 (347)\ttotal: 22.3s\tremaining: 10.5s\n",
            "680:\tlearn: 0.9379115\ttest: 0.8355385\tbest: 0.8409776 (347)\ttotal: 22.3s\tremaining: 10.4s\n",
            "681:\tlearn: 0.9379792\ttest: 0.8355810\tbest: 0.8409776 (347)\ttotal: 22.3s\tremaining: 10.4s\n",
            "682:\tlearn: 0.9380610\ttest: 0.8354898\tbest: 0.8409776 (347)\ttotal: 22.3s\tremaining: 10.4s\n",
            "683:\tlearn: 0.9381316\ttest: 0.8355081\tbest: 0.8409776 (347)\ttotal: 22.3s\tremaining: 10.3s\n",
            "684:\tlearn: 0.9381816\ttest: 0.8355233\tbest: 0.8409776 (347)\ttotal: 22.4s\tremaining: 10.3s\n",
            "685:\tlearn: 0.9382186\ttest: 0.8355263\tbest: 0.8409776 (347)\ttotal: 22.4s\tremaining: 10.2s\n",
            "686:\tlearn: 0.9382702\ttest: 0.8354625\tbest: 0.8409776 (347)\ttotal: 22.4s\tremaining: 10.2s\n",
            "687:\tlearn: 0.9382797\ttest: 0.8355081\tbest: 0.8409776 (347)\ttotal: 22.4s\tremaining: 10.2s\n",
            "688:\tlearn: 0.9383804\ttest: 0.8354473\tbest: 0.8409776 (347)\ttotal: 22.4s\tremaining: 10.1s\n",
            "689:\tlearn: 0.9385217\ttest: 0.8355294\tbest: 0.8409776 (347)\ttotal: 22.4s\tremaining: 10.1s\n",
            "690:\tlearn: 0.9386900\ttest: 0.8354260\tbest: 0.8409776 (347)\ttotal: 22.5s\tremaining: 10s\n",
            "691:\tlearn: 0.9387603\ttest: 0.8353287\tbest: 0.8409776 (347)\ttotal: 22.5s\tremaining: 10s\n",
            "692:\tlearn: 0.9387800\ttest: 0.8353318\tbest: 0.8409776 (347)\ttotal: 22.5s\tremaining: 9.96s\n",
            "693:\tlearn: 0.9388349\ttest: 0.8353500\tbest: 0.8409776 (347)\ttotal: 22.5s\tremaining: 9.92s\n",
            "694:\tlearn: 0.9388744\ttest: 0.8353470\tbest: 0.8409776 (347)\ttotal: 22.5s\tremaining: 9.88s\n",
            "695:\tlearn: 0.9388918\ttest: 0.8353652\tbest: 0.8409776 (347)\ttotal: 22.5s\tremaining: 9.85s\n",
            "696:\tlearn: 0.9389457\ttest: 0.8353379\tbest: 0.8409776 (347)\ttotal: 22.6s\tremaining: 9.81s\n",
            "697:\tlearn: 0.9389804\ttest: 0.8353379\tbest: 0.8409776 (347)\ttotal: 22.6s\tremaining: 9.78s\n",
            "698:\tlearn: 0.9391190\ttest: 0.8353743\tbest: 0.8409776 (347)\ttotal: 22.6s\tremaining: 9.74s\n",
            "699:\tlearn: 0.9391324\ttest: 0.8353652\tbest: 0.8409776 (347)\ttotal: 22.6s\tremaining: 9.7s\n",
            "700:\tlearn: 0.9391677\ttest: 0.8353470\tbest: 0.8409776 (347)\ttotal: 22.6s\tremaining: 9.66s\n",
            "701:\tlearn: 0.9392269\ttest: 0.8353774\tbest: 0.8409776 (347)\ttotal: 22.7s\tremaining: 9.62s\n",
            "702:\tlearn: 0.9392642\ttest: 0.8353257\tbest: 0.8409776 (347)\ttotal: 22.7s\tremaining: 9.58s\n",
            "703:\tlearn: 0.9394247\ttest: 0.8352740\tbest: 0.8409776 (347)\ttotal: 22.7s\tremaining: 9.54s\n",
            "704:\tlearn: 0.9394506\ttest: 0.8352011\tbest: 0.8409776 (347)\ttotal: 22.7s\tremaining: 9.5s\n",
            "705:\tlearn: 0.9395310\ttest: 0.8351373\tbest: 0.8409776 (347)\ttotal: 22.7s\tremaining: 9.46s\n",
            "706:\tlearn: 0.9396566\ttest: 0.8351768\tbest: 0.8409776 (347)\ttotal: 22.7s\tremaining: 9.43s\n",
            "707:\tlearn: 0.9398387\ttest: 0.8352011\tbest: 0.8409776 (347)\ttotal: 22.8s\tremaining: 9.39s\n",
            "708:\tlearn: 0.9398397\ttest: 0.8352102\tbest: 0.8409776 (347)\ttotal: 22.8s\tremaining: 9.35s\n",
            "709:\tlearn: 0.9399296\ttest: 0.8352224\tbest: 0.8409776 (347)\ttotal: 22.8s\tremaining: 9.31s\n",
            "710:\tlearn: 0.9400313\ttest: 0.8352345\tbest: 0.8409776 (347)\ttotal: 22.8s\tremaining: 9.28s\n",
            "711:\tlearn: 0.9400574\ttest: 0.8352588\tbest: 0.8409776 (347)\ttotal: 22.8s\tremaining: 9.24s\n",
            "712:\tlearn: 0.9401650\ttest: 0.8351525\tbest: 0.8409776 (347)\ttotal: 22.9s\tremaining: 9.2s\n",
            "713:\tlearn: 0.9402431\ttest: 0.8351342\tbest: 0.8409776 (347)\ttotal: 22.9s\tremaining: 9.16s\n",
            "714:\tlearn: 0.9403432\ttest: 0.8350491\tbest: 0.8409776 (347)\ttotal: 22.9s\tremaining: 9.12s\n",
            "715:\tlearn: 0.9404439\ttest: 0.8350734\tbest: 0.8409776 (347)\ttotal: 22.9s\tremaining: 9.08s\n",
            "716:\tlearn: 0.9404727\ttest: 0.8350552\tbest: 0.8409776 (347)\ttotal: 22.9s\tremaining: 9.05s\n",
            "717:\tlearn: 0.9405057\ttest: 0.8350582\tbest: 0.8409776 (347)\ttotal: 22.9s\tremaining: 9.01s\n",
            "718:\tlearn: 0.9405959\ttest: 0.8349944\tbest: 0.8409776 (347)\ttotal: 23s\tremaining: 8.97s\n",
            "719:\tlearn: 0.9406100\ttest: 0.8349914\tbest: 0.8409776 (347)\ttotal: 23s\tremaining: 8.93s\n",
            "720:\tlearn: 0.9407630\ttest: 0.8350886\tbest: 0.8409776 (347)\ttotal: 23s\tremaining: 8.9s\n",
            "721:\tlearn: 0.9409517\ttest: 0.8351069\tbest: 0.8409776 (347)\ttotal: 23s\tremaining: 8.86s\n",
            "722:\tlearn: 0.9410086\ttest: 0.8349883\tbest: 0.8409776 (347)\ttotal: 23s\tremaining: 8.82s\n",
            "723:\tlearn: 0.9411629\ttest: 0.8349610\tbest: 0.8409776 (347)\ttotal: 23s\tremaining: 8.78s\n",
            "724:\tlearn: 0.9412989\ttest: 0.8350582\tbest: 0.8409776 (347)\ttotal: 23.1s\tremaining: 8.75s\n",
            "725:\tlearn: 0.9413185\ttest: 0.8350643\tbest: 0.8409776 (347)\ttotal: 23.1s\tremaining: 8.71s\n",
            "726:\tlearn: 0.9413375\ttest: 0.8351129\tbest: 0.8409776 (347)\ttotal: 23.1s\tremaining: 8.67s\n",
            "727:\tlearn: 0.9413666\ttest: 0.8352588\tbest: 0.8409776 (347)\ttotal: 23.1s\tremaining: 8.63s\n",
            "728:\tlearn: 0.9415791\ttest: 0.8351129\tbest: 0.8409776 (347)\ttotal: 23.1s\tremaining: 8.6s\n",
            "729:\tlearn: 0.9417076\ttest: 0.8350765\tbest: 0.8409776 (347)\ttotal: 23.1s\tremaining: 8.56s\n",
            "730:\tlearn: 0.9417125\ttest: 0.8350765\tbest: 0.8409776 (347)\ttotal: 23.2s\tremaining: 8.52s\n",
            "731:\tlearn: 0.9417946\ttest: 0.8350917\tbest: 0.8409776 (347)\ttotal: 23.2s\tremaining: 8.48s\n",
            "732:\tlearn: 0.9418619\ttest: 0.8349792\tbest: 0.8409776 (347)\ttotal: 23.2s\tremaining: 8.45s\n",
            "733:\tlearn: 0.9418946\ttest: 0.8349762\tbest: 0.8409776 (347)\ttotal: 23.2s\tremaining: 8.41s\n",
            "734:\tlearn: 0.9419306\ttest: 0.8349367\tbest: 0.8409776 (347)\ttotal: 23.2s\tremaining: 8.38s\n",
            "735:\tlearn: 0.9419604\ttest: 0.8349397\tbest: 0.8409776 (347)\ttotal: 23.3s\tremaining: 8.34s\n",
            "736:\tlearn: 0.9421618\ttest: 0.8348333\tbest: 0.8409776 (347)\ttotal: 23.3s\tremaining: 8.3s\n",
            "737:\tlearn: 0.9422004\ttest: 0.8348060\tbest: 0.8409776 (347)\ttotal: 23.3s\tremaining: 8.27s\n",
            "738:\tlearn: 0.9422121\ttest: 0.8348029\tbest: 0.8409776 (347)\ttotal: 23.3s\tremaining: 8.23s\n",
            "739:\tlearn: 0.9422677\ttest: 0.8347330\tbest: 0.8409776 (347)\ttotal: 23.3s\tremaining: 8.19s\n",
            "740:\tlearn: 0.9424819\ttest: 0.8347269\tbest: 0.8409776 (347)\ttotal: 23.3s\tremaining: 8.16s\n",
            "741:\tlearn: 0.9425989\ttest: 0.8347148\tbest: 0.8409776 (347)\ttotal: 23.4s\tremaining: 8.12s\n",
            "742:\tlearn: 0.9427824\ttest: 0.8346388\tbest: 0.8409776 (347)\ttotal: 23.4s\tremaining: 8.08s\n",
            "743:\tlearn: 0.9428298\ttest: 0.8346722\tbest: 0.8409776 (347)\ttotal: 23.4s\tremaining: 8.05s\n",
            "744:\tlearn: 0.9429037\ttest: 0.8346631\tbest: 0.8409776 (347)\ttotal: 23.4s\tremaining: 8.01s\n",
            "745:\tlearn: 0.9429053\ttest: 0.8346509\tbest: 0.8409776 (347)\ttotal: 23.4s\tremaining: 7.98s\n",
            "746:\tlearn: 0.9430106\ttest: 0.8345202\tbest: 0.8409776 (347)\ttotal: 23.4s\tremaining: 7.94s\n",
            "747:\tlearn: 0.9430861\ttest: 0.8344321\tbest: 0.8409776 (347)\ttotal: 23.5s\tremaining: 7.9s\n",
            "748:\tlearn: 0.9431430\ttest: 0.8343744\tbest: 0.8409776 (347)\ttotal: 23.5s\tremaining: 7.87s\n",
            "749:\tlearn: 0.9431665\ttest: 0.8343683\tbest: 0.8409776 (347)\ttotal: 23.5s\tremaining: 7.83s\n",
            "750:\tlearn: 0.9432493\ttest: 0.8344534\tbest: 0.8409776 (347)\ttotal: 23.5s\tremaining: 7.79s\n",
            "751:\tlearn: 0.9432650\ttest: 0.8344655\tbest: 0.8409776 (347)\ttotal: 23.5s\tremaining: 7.76s\n",
            "752:\tlearn: 0.9433801\ttest: 0.8344443\tbest: 0.8409776 (347)\ttotal: 23.5s\tremaining: 7.72s\n",
            "753:\tlearn: 0.9434304\ttest: 0.8344260\tbest: 0.8409776 (347)\ttotal: 23.6s\tremaining: 7.69s\n",
            "754:\tlearn: 0.9436076\ttest: 0.8345111\tbest: 0.8409776 (347)\ttotal: 23.6s\tremaining: 7.65s\n",
            "755:\tlearn: 0.9436809\ttest: 0.8343926\tbest: 0.8409776 (347)\ttotal: 23.6s\tremaining: 7.62s\n",
            "756:\tlearn: 0.9438081\ttest: 0.8344503\tbest: 0.8409776 (347)\ttotal: 23.6s\tremaining: 7.58s\n",
            "757:\tlearn: 0.9438927\ttest: 0.8344078\tbest: 0.8409776 (347)\ttotal: 23.6s\tremaining: 7.54s\n",
            "758:\tlearn: 0.9439820\ttest: 0.8343865\tbest: 0.8409776 (347)\ttotal: 23.6s\tremaining: 7.51s\n",
            "759:\tlearn: 0.9440392\ttest: 0.8343652\tbest: 0.8409776 (347)\ttotal: 23.7s\tremaining: 7.47s\n",
            "760:\tlearn: 0.9441609\ttest: 0.8343500\tbest: 0.8409776 (347)\ttotal: 23.7s\tremaining: 7.44s\n",
            "761:\tlearn: 0.9441919\ttest: 0.8344108\tbest: 0.8409776 (347)\ttotal: 23.7s\tremaining: 7.4s\n",
            "762:\tlearn: 0.9442504\ttest: 0.8344078\tbest: 0.8409776 (347)\ttotal: 23.7s\tremaining: 7.37s\n",
            "763:\tlearn: 0.9442511\ttest: 0.8344260\tbest: 0.8409776 (347)\ttotal: 23.7s\tremaining: 7.33s\n",
            "764:\tlearn: 0.9442782\ttest: 0.8343409\tbest: 0.8409776 (347)\ttotal: 23.8s\tremaining: 7.3s\n",
            "765:\tlearn: 0.9443204\ttest: 0.8343592\tbest: 0.8409776 (347)\ttotal: 23.8s\tremaining: 7.26s\n",
            "766:\tlearn: 0.9443417\ttest: 0.8344351\tbest: 0.8409776 (347)\ttotal: 23.8s\tremaining: 7.22s\n",
            "767:\tlearn: 0.9444551\ttest: 0.8344351\tbest: 0.8409776 (347)\ttotal: 23.8s\tremaining: 7.19s\n",
            "768:\tlearn: 0.9444891\ttest: 0.8344078\tbest: 0.8409776 (347)\ttotal: 23.8s\tremaining: 7.15s\n",
            "769:\tlearn: 0.9445166\ttest: 0.8344017\tbest: 0.8409776 (347)\ttotal: 23.8s\tremaining: 7.12s\n",
            "770:\tlearn: 0.9445137\ttest: 0.8344321\tbest: 0.8409776 (347)\ttotal: 23.8s\tremaining: 7.08s\n",
            "771:\tlearn: 0.9445519\ttest: 0.8343257\tbest: 0.8409776 (347)\ttotal: 23.9s\tremaining: 7.05s\n",
            "772:\tlearn: 0.9445849\ttest: 0.8343440\tbest: 0.8409776 (347)\ttotal: 23.9s\tremaining: 7.01s\n",
            "773:\tlearn: 0.9446091\ttest: 0.8343500\tbest: 0.8409776 (347)\ttotal: 23.9s\tremaining: 6.98s\n",
            "774:\tlearn: 0.9447213\ttest: 0.8343105\tbest: 0.8409776 (347)\ttotal: 23.9s\tremaining: 6.94s\n",
            "775:\tlearn: 0.9448449\ttest: 0.8342801\tbest: 0.8409776 (347)\ttotal: 23.9s\tremaining: 6.91s\n",
            "776:\tlearn: 0.9449070\ttest: 0.8343105\tbest: 0.8409776 (347)\ttotal: 23.9s\tremaining: 6.87s\n",
            "777:\tlearn: 0.9450394\ttest: 0.8344139\tbest: 0.8409776 (347)\ttotal: 24s\tremaining: 6.84s\n",
            "778:\tlearn: 0.9450822\ttest: 0.8343926\tbest: 0.8409776 (347)\ttotal: 24s\tremaining: 6.8s\n",
            "779:\tlearn: 0.9451198\ttest: 0.8344139\tbest: 0.8409776 (347)\ttotal: 24s\tremaining: 6.77s\n",
            "780:\tlearn: 0.9452258\ttest: 0.8344230\tbest: 0.8409776 (347)\ttotal: 24s\tremaining: 6.73s\n",
            "781:\tlearn: 0.9452546\ttest: 0.8343561\tbest: 0.8409776 (347)\ttotal: 24s\tremaining: 6.7s\n",
            "782:\tlearn: 0.9453222\ttest: 0.8343318\tbest: 0.8409776 (347)\ttotal: 24s\tremaining: 6.66s\n",
            "783:\tlearn: 0.9453494\ttest: 0.8343531\tbest: 0.8409776 (347)\ttotal: 24.1s\tremaining: 6.63s\n",
            "784:\tlearn: 0.9453605\ttest: 0.8344899\tbest: 0.8409776 (347)\ttotal: 24.1s\tremaining: 6.59s\n",
            "785:\tlearn: 0.9455429\ttest: 0.8343409\tbest: 0.8409776 (347)\ttotal: 24.1s\tremaining: 6.56s\n",
            "786:\tlearn: 0.9455684\ttest: 0.8342832\tbest: 0.8409776 (347)\ttotal: 24.1s\tremaining: 6.53s\n",
            "787:\tlearn: 0.9455825\ttest: 0.8342801\tbest: 0.8409776 (347)\ttotal: 24.1s\tremaining: 6.49s\n",
            "788:\tlearn: 0.9456842\ttest: 0.8342467\tbest: 0.8409776 (347)\ttotal: 24.1s\tremaining: 6.46s\n",
            "789:\tlearn: 0.9457506\ttest: 0.8344017\tbest: 0.8409776 (347)\ttotal: 24.2s\tremaining: 6.42s\n",
            "790:\tlearn: 0.9458111\ttest: 0.8343075\tbest: 0.8409776 (347)\ttotal: 24.2s\tremaining: 6.39s\n",
            "791:\tlearn: 0.9458634\ttest: 0.8342619\tbest: 0.8409776 (347)\ttotal: 24.2s\tremaining: 6.36s\n",
            "792:\tlearn: 0.9459039\ttest: 0.8342923\tbest: 0.8409776 (347)\ttotal: 24.2s\tremaining: 6.33s\n",
            "793:\tlearn: 0.9459481\ttest: 0.8343288\tbest: 0.8409776 (347)\ttotal: 24.2s\tremaining: 6.29s\n",
            "794:\tlearn: 0.9459723\ttest: 0.8343774\tbest: 0.8409776 (347)\ttotal: 24.3s\tremaining: 6.26s\n",
            "795:\tlearn: 0.9459837\ttest: 0.8343804\tbest: 0.8409776 (347)\ttotal: 24.3s\tremaining: 6.22s\n",
            "796:\tlearn: 0.9460779\ttest: 0.8343409\tbest: 0.8409776 (347)\ttotal: 24.3s\tremaining: 6.19s\n",
            "797:\tlearn: 0.9461482\ttest: 0.8343500\tbest: 0.8409776 (347)\ttotal: 24.3s\tremaining: 6.16s\n",
            "798:\tlearn: 0.9462263\ttest: 0.8344564\tbest: 0.8409776 (347)\ttotal: 24.3s\tremaining: 6.12s\n",
            "799:\tlearn: 0.9463097\ttest: 0.8342254\tbest: 0.8409776 (347)\ttotal: 24.4s\tremaining: 6.09s\n",
            "800:\tlearn: 0.9463015\ttest: 0.8341707\tbest: 0.8409776 (347)\ttotal: 24.4s\tremaining: 6.05s\n",
            "801:\tlearn: 0.9464336\ttest: 0.8343136\tbest: 0.8409776 (347)\ttotal: 24.4s\tremaining: 6.02s\n",
            "802:\tlearn: 0.9464470\ttest: 0.8343652\tbest: 0.8409776 (347)\ttotal: 24.4s\tremaining: 5.99s\n",
            "803:\tlearn: 0.9464882\ttest: 0.8342649\tbest: 0.8409776 (347)\ttotal: 24.4s\tremaining: 5.95s\n",
            "804:\tlearn: 0.9465791\ttest: 0.8342953\tbest: 0.8409776 (347)\ttotal: 24.4s\tremaining: 5.92s\n",
            "805:\tlearn: 0.9466926\ttest: 0.8342345\tbest: 0.8409776 (347)\ttotal: 24.5s\tremaining: 5.88s\n",
            "806:\tlearn: 0.9466965\ttest: 0.8342376\tbest: 0.8409776 (347)\ttotal: 24.5s\tremaining: 5.85s\n",
            "807:\tlearn: 0.9467521\ttest: 0.8342315\tbest: 0.8409776 (347)\ttotal: 24.5s\tremaining: 5.82s\n",
            "808:\tlearn: 0.9467602\ttest: 0.8342345\tbest: 0.8409776 (347)\ttotal: 24.5s\tremaining: 5.79s\n",
            "809:\tlearn: 0.9467599\ttest: 0.8341555\tbest: 0.8409776 (347)\ttotal: 24.5s\tremaining: 5.75s\n",
            "810:\tlearn: 0.9468387\ttest: 0.8341190\tbest: 0.8409776 (347)\ttotal: 24.5s\tremaining: 5.72s\n",
            "811:\tlearn: 0.9469875\ttest: 0.8340552\tbest: 0.8409776 (347)\ttotal: 24.6s\tremaining: 5.68s\n",
            "812:\tlearn: 0.9470568\ttest: 0.8341038\tbest: 0.8409776 (347)\ttotal: 24.6s\tremaining: 5.65s\n",
            "813:\tlearn: 0.9472255\ttest: 0.8341464\tbest: 0.8409776 (347)\ttotal: 24.6s\tremaining: 5.62s\n",
            "814:\tlearn: 0.9472275\ttest: 0.8341464\tbest: 0.8409776 (347)\ttotal: 24.6s\tremaining: 5.58s\n",
            "815:\tlearn: 0.9472831\ttest: 0.8341889\tbest: 0.8409776 (347)\ttotal: 24.6s\tremaining: 5.55s\n",
            "816:\tlearn: 0.9473364\ttest: 0.8342619\tbest: 0.8409776 (347)\ttotal: 24.6s\tremaining: 5.52s\n",
            "817:\tlearn: 0.9474004\ttest: 0.8343440\tbest: 0.8409776 (347)\ttotal: 24.7s\tremaining: 5.49s\n",
            "818:\tlearn: 0.9474606\ttest: 0.8342710\tbest: 0.8409776 (347)\ttotal: 24.7s\tremaining: 5.45s\n",
            "819:\tlearn: 0.9474747\ttest: 0.8342741\tbest: 0.8409776 (347)\ttotal: 24.7s\tremaining: 5.42s\n",
            "820:\tlearn: 0.9475289\ttest: 0.8342680\tbest: 0.8409776 (347)\ttotal: 24.7s\tremaining: 5.39s\n",
            "821:\tlearn: 0.9475561\ttest: 0.8342376\tbest: 0.8409776 (347)\ttotal: 24.7s\tremaining: 5.35s\n",
            "822:\tlearn: 0.9475734\ttest: 0.8342224\tbest: 0.8409776 (347)\ttotal: 24.7s\tremaining: 5.32s\n",
            "823:\tlearn: 0.9477055\ttest: 0.8341646\tbest: 0.8409776 (347)\ttotal: 24.8s\tremaining: 5.29s\n",
            "824:\tlearn: 0.9477088\ttest: 0.8341282\tbest: 0.8409776 (347)\ttotal: 24.8s\tremaining: 5.25s\n",
            "825:\tlearn: 0.9477487\ttest: 0.8341555\tbest: 0.8409776 (347)\ttotal: 24.8s\tremaining: 5.22s\n",
            "826:\tlearn: 0.9479475\ttest: 0.8341373\tbest: 0.8409776 (347)\ttotal: 24.8s\tremaining: 5.19s\n",
            "827:\tlearn: 0.9479870\ttest: 0.8341160\tbest: 0.8409776 (347)\ttotal: 24.8s\tremaining: 5.16s\n",
            "828:\tlearn: 0.9480165\ttest: 0.8341282\tbest: 0.8409776 (347)\ttotal: 24.8s\tremaining: 5.12s\n",
            "829:\tlearn: 0.9480400\ttest: 0.8341251\tbest: 0.8409776 (347)\ttotal: 24.9s\tremaining: 5.09s\n",
            "830:\tlearn: 0.9481070\ttest: 0.8340917\tbest: 0.8409776 (347)\ttotal: 24.9s\tremaining: 5.06s\n",
            "831:\tlearn: 0.9481361\ttest: 0.8341464\tbest: 0.8409776 (347)\ttotal: 24.9s\tremaining: 5.03s\n",
            "832:\tlearn: 0.9482185\ttest: 0.8341737\tbest: 0.8409776 (347)\ttotal: 24.9s\tremaining: 4.99s\n",
            "833:\tlearn: 0.9483496\ttest: 0.8341464\tbest: 0.8409776 (347)\ttotal: 24.9s\tremaining: 4.96s\n",
            "834:\tlearn: 0.9483869\ttest: 0.8341737\tbest: 0.8409776 (347)\ttotal: 24.9s\tremaining: 4.93s\n",
            "835:\tlearn: 0.9484794\ttest: 0.8340582\tbest: 0.8409776 (347)\ttotal: 25s\tremaining: 4.89s\n",
            "836:\tlearn: 0.9485559\ttest: 0.8341616\tbest: 0.8409776 (347)\ttotal: 25s\tremaining: 4.86s\n",
            "837:\tlearn: 0.9485828\ttest: 0.8340795\tbest: 0.8409776 (347)\ttotal: 25s\tremaining: 4.83s\n",
            "838:\tlearn: 0.9487502\ttest: 0.8341221\tbest: 0.8409776 (347)\ttotal: 25s\tremaining: 4.8s\n",
            "839:\tlearn: 0.9488175\ttest: 0.8339154\tbest: 0.8409776 (347)\ttotal: 25s\tremaining: 4.76s\n",
            "840:\tlearn: 0.9488349\ttest: 0.8339306\tbest: 0.8409776 (347)\ttotal: 25s\tremaining: 4.73s\n",
            "841:\tlearn: 0.9488751\ttest: 0.8339701\tbest: 0.8409776 (347)\ttotal: 25.1s\tremaining: 4.7s\n",
            "842:\tlearn: 0.9488731\ttest: 0.8338485\tbest: 0.8409776 (347)\ttotal: 25.1s\tremaining: 4.67s\n",
            "843:\tlearn: 0.9489473\ttest: 0.8338637\tbest: 0.8409776 (347)\ttotal: 25.1s\tremaining: 4.64s\n",
            "844:\tlearn: 0.9490356\ttest: 0.8338242\tbest: 0.8409776 (347)\ttotal: 25.1s\tremaining: 4.61s\n",
            "845:\tlearn: 0.9490909\ttest: 0.8337817\tbest: 0.8409776 (347)\ttotal: 25.1s\tremaining: 4.57s\n",
            "846:\tlearn: 0.9492161\ttest: 0.8337421\tbest: 0.8409776 (347)\ttotal: 25.1s\tremaining: 4.54s\n",
            "847:\tlearn: 0.9492409\ttest: 0.8337330\tbest: 0.8409776 (347)\ttotal: 25.2s\tremaining: 4.51s\n",
            "848:\tlearn: 0.9493430\ttest: 0.8337057\tbest: 0.8409776 (347)\ttotal: 25.2s\tremaining: 4.48s\n",
            "849:\tlearn: 0.9493959\ttest: 0.8337361\tbest: 0.8409776 (347)\ttotal: 25.2s\tremaining: 4.45s\n",
            "850:\tlearn: 0.9494469\ttest: 0.8337391\tbest: 0.8409776 (347)\ttotal: 25.2s\tremaining: 4.41s\n",
            "851:\tlearn: 0.9494636\ttest: 0.8337786\tbest: 0.8409776 (347)\ttotal: 25.2s\tremaining: 4.38s\n",
            "852:\tlearn: 0.9496340\ttest: 0.8336510\tbest: 0.8409776 (347)\ttotal: 25.3s\tremaining: 4.35s\n",
            "853:\tlearn: 0.9497160\ttest: 0.8338242\tbest: 0.8409776 (347)\ttotal: 25.3s\tremaining: 4.32s\n",
            "854:\tlearn: 0.9497667\ttest: 0.8337786\tbest: 0.8409776 (347)\ttotal: 25.3s\tremaining: 4.29s\n",
            "855:\tlearn: 0.9498475\ttest: 0.8337908\tbest: 0.8409776 (347)\ttotal: 25.3s\tremaining: 4.26s\n",
            "856:\tlearn: 0.9499599\ttest: 0.8336966\tbest: 0.8409776 (347)\ttotal: 25.3s\tremaining: 4.22s\n",
            "857:\tlearn: 0.9500250\ttest: 0.8336662\tbest: 0.8409776 (347)\ttotal: 25.3s\tremaining: 4.19s\n",
            "858:\tlearn: 0.9500469\ttest: 0.8337057\tbest: 0.8409776 (347)\ttotal: 25.4s\tremaining: 4.16s\n",
            "859:\tlearn: 0.9500911\ttest: 0.8337543\tbest: 0.8409776 (347)\ttotal: 25.4s\tremaining: 4.13s\n",
            "860:\tlearn: 0.9501601\ttest: 0.8337421\tbest: 0.8409776 (347)\ttotal: 25.4s\tremaining: 4.1s\n",
            "861:\tlearn: 0.9502251\ttest: 0.8337756\tbest: 0.8409776 (347)\ttotal: 25.4s\tremaining: 4.07s\n",
            "862:\tlearn: 0.9502438\ttest: 0.8338090\tbest: 0.8409776 (347)\ttotal: 25.4s\tremaining: 4.04s\n",
            "863:\tlearn: 0.9503186\ttest: 0.8337969\tbest: 0.8409776 (347)\ttotal: 25.4s\tremaining: 4s\n",
            "864:\tlearn: 0.9503415\ttest: 0.8337391\tbest: 0.8409776 (347)\ttotal: 25.5s\tremaining: 3.97s\n",
            "865:\tlearn: 0.9503693\ttest: 0.8337391\tbest: 0.8409776 (347)\ttotal: 25.5s\tremaining: 3.94s\n",
            "866:\tlearn: 0.9503919\ttest: 0.8337087\tbest: 0.8409776 (347)\ttotal: 25.5s\tremaining: 3.91s\n",
            "867:\tlearn: 0.9504553\ttest: 0.8336631\tbest: 0.8409776 (347)\ttotal: 25.5s\tremaining: 3.88s\n",
            "868:\tlearn: 0.9505299\ttest: 0.8336418\tbest: 0.8409776 (347)\ttotal: 25.5s\tremaining: 3.85s\n",
            "869:\tlearn: 0.9506332\ttest: 0.8337269\tbest: 0.8409776 (347)\ttotal: 25.5s\tremaining: 3.82s\n",
            "870:\tlearn: 0.9506819\ttest: 0.8337908\tbest: 0.8409776 (347)\ttotal: 25.6s\tremaining: 3.79s\n",
            "871:\tlearn: 0.9508022\ttest: 0.8338121\tbest: 0.8409776 (347)\ttotal: 25.6s\tremaining: 3.76s\n",
            "872:\tlearn: 0.9509238\ttest: 0.8337573\tbest: 0.8409776 (347)\ttotal: 25.6s\tremaining: 3.73s\n",
            "873:\tlearn: 0.9510576\ttest: 0.8335932\tbest: 0.8409776 (347)\ttotal: 25.6s\tremaining: 3.69s\n",
            "874:\tlearn: 0.9510628\ttest: 0.8336388\tbest: 0.8409776 (347)\ttotal: 25.6s\tremaining: 3.66s\n",
            "875:\tlearn: 0.9511256\ttest: 0.8336753\tbest: 0.8409776 (347)\ttotal: 25.7s\tremaining: 3.63s\n",
            "876:\tlearn: 0.9511887\ttest: 0.8336510\tbest: 0.8409776 (347)\ttotal: 25.7s\tremaining: 3.6s\n",
            "877:\tlearn: 0.9512211\ttest: 0.8336175\tbest: 0.8409776 (347)\ttotal: 25.7s\tremaining: 3.57s\n",
            "878:\tlearn: 0.9512946\ttest: 0.8335902\tbest: 0.8409776 (347)\ttotal: 25.7s\tremaining: 3.54s\n",
            "879:\tlearn: 0.9515134\ttest: 0.8335628\tbest: 0.8409776 (347)\ttotal: 25.7s\tremaining: 3.51s\n",
            "880:\tlearn: 0.9515320\ttest: 0.8335567\tbest: 0.8409776 (347)\ttotal: 25.7s\tremaining: 3.48s\n",
            "881:\tlearn: 0.9516834\ttest: 0.8335051\tbest: 0.8409776 (347)\ttotal: 25.8s\tremaining: 3.45s\n",
            "882:\tlearn: 0.9517622\ttest: 0.8335142\tbest: 0.8409776 (347)\ttotal: 25.8s\tremaining: 3.42s\n",
            "883:\tlearn: 0.9518492\ttest: 0.8335263\tbest: 0.8409776 (347)\ttotal: 25.8s\tremaining: 3.38s\n",
            "884:\tlearn: 0.9519155\ttest: 0.8335507\tbest: 0.8409776 (347)\ttotal: 25.8s\tremaining: 3.35s\n",
            "885:\tlearn: 0.9520211\ttest: 0.8334625\tbest: 0.8409776 (347)\ttotal: 25.8s\tremaining: 3.32s\n",
            "886:\tlearn: 0.9520555\ttest: 0.8334534\tbest: 0.8409776 (347)\ttotal: 25.8s\tremaining: 3.29s\n",
            "887:\tlearn: 0.9520833\ttest: 0.8334838\tbest: 0.8409776 (347)\ttotal: 25.9s\tremaining: 3.26s\n",
            "888:\tlearn: 0.9521045\ttest: 0.8334595\tbest: 0.8409776 (347)\ttotal: 25.9s\tremaining: 3.23s\n",
            "889:\tlearn: 0.9521827\ttest: 0.8333652\tbest: 0.8409776 (347)\ttotal: 25.9s\tremaining: 3.2s\n",
            "890:\tlearn: 0.9522912\ttest: 0.8333896\tbest: 0.8409776 (347)\ttotal: 25.9s\tremaining: 3.17s\n",
            "891:\tlearn: 0.9523095\ttest: 0.8333531\tbest: 0.8409776 (347)\ttotal: 25.9s\tremaining: 3.14s\n",
            "892:\tlearn: 0.9523605\ttest: 0.8333531\tbest: 0.8409776 (347)\ttotal: 26s\tremaining: 3.11s\n",
            "893:\tlearn: 0.9523661\ttest: 0.8333197\tbest: 0.8409776 (347)\ttotal: 26s\tremaining: 3.08s\n",
            "894:\tlearn: 0.9524756\ttest: 0.8332893\tbest: 0.8409776 (347)\ttotal: 26s\tremaining: 3.05s\n",
            "895:\tlearn: 0.9525567\ttest: 0.8333014\tbest: 0.8409776 (347)\ttotal: 26s\tremaining: 3.02s\n",
            "896:\tlearn: 0.9525996\ttest: 0.8333409\tbest: 0.8409776 (347)\ttotal: 26s\tremaining: 2.99s\n",
            "897:\tlearn: 0.9527209\ttest: 0.8333014\tbest: 0.8409776 (347)\ttotal: 26s\tremaining: 2.96s\n",
            "898:\tlearn: 0.9528346\ttest: 0.8332528\tbest: 0.8409776 (347)\ttotal: 26.1s\tremaining: 2.93s\n",
            "899:\tlearn: 0.9529537\ttest: 0.8332042\tbest: 0.8409776 (347)\ttotal: 26.1s\tremaining: 2.9s\n",
            "900:\tlearn: 0.9530187\ttest: 0.8331586\tbest: 0.8409776 (347)\ttotal: 26.1s\tremaining: 2.87s\n",
            "901:\tlearn: 0.9531119\ttest: 0.8332285\tbest: 0.8409776 (347)\ttotal: 26.1s\tremaining: 2.84s\n",
            "902:\tlearn: 0.9531113\ttest: 0.8332163\tbest: 0.8409776 (347)\ttotal: 26.1s\tremaining: 2.81s\n",
            "903:\tlearn: 0.9531335\ttest: 0.8332376\tbest: 0.8409776 (347)\ttotal: 26.1s\tremaining: 2.78s\n",
            "904:\tlearn: 0.9531734\ttest: 0.8332346\tbest: 0.8409776 (347)\ttotal: 26.2s\tremaining: 2.75s\n",
            "905:\tlearn: 0.9532845\ttest: 0.8332406\tbest: 0.8409776 (347)\ttotal: 26.2s\tremaining: 2.71s\n",
            "906:\tlearn: 0.9532989\ttest: 0.8331950\tbest: 0.8409776 (347)\ttotal: 26.2s\tremaining: 2.69s\n",
            "907:\tlearn: 0.9534176\ttest: 0.8331251\tbest: 0.8409776 (347)\ttotal: 26.2s\tremaining: 2.66s\n",
            "908:\tlearn: 0.9534402\ttest: 0.8331434\tbest: 0.8409776 (347)\ttotal: 26.2s\tremaining: 2.63s\n",
            "909:\tlearn: 0.9535556\ttest: 0.8330036\tbest: 0.8409776 (347)\ttotal: 26.2s\tremaining: 2.6s\n",
            "910:\tlearn: 0.9537132\ttest: 0.8330066\tbest: 0.8409776 (347)\ttotal: 26.3s\tremaining: 2.56s\n",
            "911:\tlearn: 0.9537103\ttest: 0.8329580\tbest: 0.8409776 (347)\ttotal: 26.3s\tremaining: 2.54s\n",
            "912:\tlearn: 0.9537727\ttest: 0.8329762\tbest: 0.8409776 (347)\ttotal: 26.3s\tremaining: 2.51s\n",
            "913:\tlearn: 0.9538822\ttest: 0.8328880\tbest: 0.8409776 (347)\ttotal: 26.3s\tremaining: 2.48s\n",
            "914:\tlearn: 0.9539856\ttest: 0.8328303\tbest: 0.8409776 (347)\ttotal: 26.3s\tremaining: 2.45s\n",
            "915:\tlearn: 0.9540281\ttest: 0.8328060\tbest: 0.8409776 (347)\ttotal: 26.4s\tremaining: 2.42s\n",
            "916:\tlearn: 0.9541448\ttest: 0.8326935\tbest: 0.8409776 (347)\ttotal: 26.4s\tremaining: 2.39s\n",
            "917:\tlearn: 0.9542520\ttest: 0.8326905\tbest: 0.8409776 (347)\ttotal: 26.4s\tremaining: 2.36s\n",
            "918:\tlearn: 0.9543590\ttest: 0.8327847\tbest: 0.8409776 (347)\ttotal: 26.4s\tremaining: 2.33s\n",
            "919:\tlearn: 0.9543796\ttest: 0.8328060\tbest: 0.8409776 (347)\ttotal: 26.4s\tremaining: 2.3s\n",
            "920:\tlearn: 0.9544051\ttest: 0.8327877\tbest: 0.8409776 (347)\ttotal: 26.4s\tremaining: 2.27s\n",
            "921:\tlearn: 0.9545306\ttest: 0.8328850\tbest: 0.8409776 (347)\ttotal: 26.4s\tremaining: 2.24s\n",
            "922:\tlearn: 0.9545483\ttest: 0.8328850\tbest: 0.8409776 (347)\ttotal: 26.5s\tremaining: 2.21s\n",
            "923:\tlearn: 0.9546660\ttest: 0.8328972\tbest: 0.8409776 (347)\ttotal: 26.5s\tremaining: 2.18s\n",
            "924:\tlearn: 0.9547020\ttest: 0.8329671\tbest: 0.8409776 (347)\ttotal: 26.5s\tremaining: 2.15s\n",
            "925:\tlearn: 0.9548000\ttest: 0.8329032\tbest: 0.8409776 (347)\ttotal: 26.5s\tremaining: 2.12s\n",
            "926:\tlearn: 0.9548769\ttest: 0.8329580\tbest: 0.8409776 (347)\ttotal: 26.5s\tremaining: 2.09s\n",
            "927:\tlearn: 0.9548900\ttest: 0.8328789\tbest: 0.8409776 (347)\ttotal: 26.6s\tremaining: 2.06s\n",
            "928:\tlearn: 0.9549213\ttest: 0.8328698\tbest: 0.8409776 (347)\ttotal: 26.6s\tremaining: 2.03s\n",
            "929:\tlearn: 0.9549805\ttest: 0.8328364\tbest: 0.8409776 (347)\ttotal: 26.6s\tremaining: 2s\n",
            "930:\tlearn: 0.9549956\ttest: 0.8328273\tbest: 0.8409776 (347)\ttotal: 26.6s\tremaining: 1.97s\n",
            "931:\tlearn: 0.9550538\ttest: 0.8328333\tbest: 0.8409776 (347)\ttotal: 26.6s\tremaining: 1.94s\n",
            "932:\tlearn: 0.9550462\ttest: 0.8328333\tbest: 0.8409776 (347)\ttotal: 26.6s\tremaining: 1.91s\n",
            "933:\tlearn: 0.9550665\ttest: 0.8328090\tbest: 0.8409776 (347)\ttotal: 26.7s\tremaining: 1.88s\n",
            "934:\tlearn: 0.9551806\ttest: 0.8328577\tbest: 0.8409776 (347)\ttotal: 26.7s\tremaining: 1.85s\n",
            "935:\tlearn: 0.9552454\ttest: 0.8328242\tbest: 0.8409776 (347)\ttotal: 26.7s\tremaining: 1.82s\n",
            "936:\tlearn: 0.9553474\ttest: 0.8327422\tbest: 0.8409776 (347)\ttotal: 26.7s\tremaining: 1.79s\n",
            "937:\tlearn: 0.9553981\ttest: 0.8327695\tbest: 0.8409776 (347)\ttotal: 26.7s\tremaining: 1.77s\n",
            "938:\tlearn: 0.9554504\ttest: 0.8327087\tbest: 0.8409776 (347)\ttotal: 26.7s\tremaining: 1.74s\n",
            "939:\tlearn: 0.9554641\ttest: 0.8327209\tbest: 0.8409776 (347)\ttotal: 26.8s\tremaining: 1.71s\n",
            "940:\tlearn: 0.9555795\ttest: 0.8327847\tbest: 0.8409776 (347)\ttotal: 26.8s\tremaining: 1.68s\n",
            "941:\tlearn: 0.9556672\ttest: 0.8328090\tbest: 0.8409776 (347)\ttotal: 26.8s\tremaining: 1.65s\n",
            "942:\tlearn: 0.9557290\ttest: 0.8328333\tbest: 0.8409776 (347)\ttotal: 26.8s\tremaining: 1.62s\n",
            "943:\tlearn: 0.9557744\ttest: 0.8328212\tbest: 0.8409776 (347)\ttotal: 26.8s\tremaining: 1.59s\n",
            "944:\tlearn: 0.9557947\ttest: 0.8326966\tbest: 0.8409776 (347)\ttotal: 26.8s\tremaining: 1.56s\n",
            "945:\tlearn: 0.9558692\ttest: 0.8325871\tbest: 0.8409776 (347)\ttotal: 26.9s\tremaining: 1.53s\n",
            "946:\tlearn: 0.9559284\ttest: 0.8325355\tbest: 0.8409776 (347)\ttotal: 26.9s\tremaining: 1.5s\n",
            "947:\tlearn: 0.9559323\ttest: 0.8325324\tbest: 0.8409776 (347)\ttotal: 26.9s\tremaining: 1.48s\n",
            "948:\tlearn: 0.9560432\ttest: 0.8323683\tbest: 0.8409776 (347)\ttotal: 26.9s\tremaining: 1.45s\n",
            "949:\tlearn: 0.9560716\ttest: 0.8323257\tbest: 0.8409776 (347)\ttotal: 26.9s\tremaining: 1.42s\n",
            "950:\tlearn: 0.9562439\ttest: 0.8323105\tbest: 0.8409776 (347)\ttotal: 26.9s\tremaining: 1.39s\n",
            "951:\tlearn: 0.9563185\ttest: 0.8323501\tbest: 0.8409776 (347)\ttotal: 27s\tremaining: 1.36s\n",
            "952:\tlearn: 0.9565022\ttest: 0.8323957\tbest: 0.8409776 (347)\ttotal: 27s\tremaining: 1.33s\n",
            "953:\tlearn: 0.9566108\ttest: 0.8323683\tbest: 0.8409776 (347)\ttotal: 27s\tremaining: 1.3s\n",
            "954:\tlearn: 0.9566693\ttest: 0.8323683\tbest: 0.8409776 (347)\ttotal: 27s\tremaining: 1.27s\n",
            "955:\tlearn: 0.9566713\ttest: 0.8323896\tbest: 0.8409776 (347)\ttotal: 27s\tremaining: 1.24s\n",
            "956:\tlearn: 0.9567131\ttest: 0.8322923\tbest: 0.8409776 (347)\ttotal: 27s\tremaining: 1.22s\n",
            "957:\tlearn: 0.9567697\ttest: 0.8322406\tbest: 0.8409776 (347)\ttotal: 27.1s\tremaining: 1.19s\n",
            "958:\tlearn: 0.9568377\ttest: 0.8321981\tbest: 0.8409776 (347)\ttotal: 27.1s\tremaining: 1.16s\n",
            "959:\tlearn: 0.9568671\ttest: 0.8321282\tbest: 0.8409776 (347)\ttotal: 27.1s\tremaining: 1.13s\n",
            "960:\tlearn: 0.9569028\ttest: 0.8321981\tbest: 0.8409776 (347)\ttotal: 27.1s\tremaining: 1.1s\n",
            "961:\tlearn: 0.9569459\ttest: 0.8321677\tbest: 0.8409776 (347)\ttotal: 27.1s\tremaining: 1.07s\n",
            "962:\tlearn: 0.9569476\ttest: 0.8321677\tbest: 0.8409776 (347)\ttotal: 27.2s\tremaining: 1.04s\n",
            "963:\tlearn: 0.9569430\ttest: 0.8321343\tbest: 0.8409776 (347)\ttotal: 27.2s\tremaining: 1.01s\n",
            "964:\tlearn: 0.9570659\ttest: 0.8319580\tbest: 0.8409776 (347)\ttotal: 27.2s\tremaining: 986ms\n",
            "965:\tlearn: 0.9570852\ttest: 0.8319154\tbest: 0.8409776 (347)\ttotal: 27.2s\tremaining: 958ms\n",
            "966:\tlearn: 0.9571630\ttest: 0.8319640\tbest: 0.8409776 (347)\ttotal: 27.2s\tremaining: 929ms\n",
            "967:\tlearn: 0.9571722\ttest: 0.8319884\tbest: 0.8409776 (347)\ttotal: 27.2s\tremaining: 901ms\n",
            "968:\tlearn: 0.9571918\ttest: 0.8320309\tbest: 0.8409776 (347)\ttotal: 27.3s\tremaining: 872ms\n",
            "969:\tlearn: 0.9572196\ttest: 0.8319610\tbest: 0.8409776 (347)\ttotal: 27.3s\tremaining: 843ms\n",
            "970:\tlearn: 0.9572971\ttest: 0.8319215\tbest: 0.8409776 (347)\ttotal: 27.3s\tremaining: 815ms\n",
            "971:\tlearn: 0.9574861\ttest: 0.8320978\tbest: 0.8409776 (347)\ttotal: 27.3s\tremaining: 787ms\n",
            "972:\tlearn: 0.9576224\ttest: 0.8320583\tbest: 0.8409776 (347)\ttotal: 27.3s\tremaining: 758ms\n",
            "973:\tlearn: 0.9576306\ttest: 0.8320370\tbest: 0.8409776 (347)\ttotal: 27.3s\tremaining: 730ms\n",
            "974:\tlearn: 0.9576868\ttest: 0.8320157\tbest: 0.8409776 (347)\ttotal: 27.4s\tremaining: 701ms\n",
            "975:\tlearn: 0.9577565\ttest: 0.8320613\tbest: 0.8409776 (347)\ttotal: 27.4s\tremaining: 673ms\n",
            "976:\tlearn: 0.9578386\ttest: 0.8320096\tbest: 0.8409776 (347)\ttotal: 27.4s\tremaining: 645ms\n",
            "977:\tlearn: 0.9579504\ttest: 0.8320552\tbest: 0.8409776 (347)\ttotal: 27.4s\tremaining: 617ms\n",
            "978:\tlearn: 0.9580004\ttest: 0.8319154\tbest: 0.8409776 (347)\ttotal: 27.4s\tremaining: 588ms\n",
            "979:\tlearn: 0.9580151\ttest: 0.8319154\tbest: 0.8409776 (347)\ttotal: 27.4s\tremaining: 560ms\n",
            "980:\tlearn: 0.9580991\ttest: 0.8319732\tbest: 0.8409776 (347)\ttotal: 27.5s\tremaining: 532ms\n",
            "981:\tlearn: 0.9581345\ttest: 0.8319732\tbest: 0.8409776 (347)\ttotal: 27.5s\tremaining: 504ms\n",
            "982:\tlearn: 0.9581907\ttest: 0.8318911\tbest: 0.8409776 (347)\ttotal: 27.5s\tremaining: 476ms\n",
            "983:\tlearn: 0.9582051\ttest: 0.8318303\tbest: 0.8409776 (347)\ttotal: 27.5s\tremaining: 447ms\n",
            "984:\tlearn: 0.9582280\ttest: 0.8318303\tbest: 0.8409776 (347)\ttotal: 27.5s\tremaining: 419ms\n",
            "985:\tlearn: 0.9582718\ttest: 0.8318425\tbest: 0.8409776 (347)\ttotal: 27.6s\tremaining: 391ms\n",
            "986:\tlearn: 0.9583663\ttest: 0.8318425\tbest: 0.8409776 (347)\ttotal: 27.6s\tremaining: 363ms\n",
            "987:\tlearn: 0.9583820\ttest: 0.8318455\tbest: 0.8409776 (347)\ttotal: 27.6s\tremaining: 335ms\n",
            "988:\tlearn: 0.9584281\ttest: 0.8317847\tbest: 0.8409776 (347)\ttotal: 27.6s\tremaining: 307ms\n",
            "989:\tlearn: 0.9585085\ttest: 0.8317999\tbest: 0.8409776 (347)\ttotal: 27.6s\tremaining: 279ms\n",
            "990:\tlearn: 0.9585546\ttest: 0.8317665\tbest: 0.8409776 (347)\ttotal: 27.6s\tremaining: 251ms\n",
            "991:\tlearn: 0.9586259\ttest: 0.8317330\tbest: 0.8409776 (347)\ttotal: 27.7s\tremaining: 223ms\n",
            "992:\tlearn: 0.9586573\ttest: 0.8317148\tbest: 0.8409776 (347)\ttotal: 27.7s\tremaining: 195ms\n",
            "993:\tlearn: 0.9588812\ttest: 0.8316601\tbest: 0.8409776 (347)\ttotal: 27.7s\tremaining: 167ms\n",
            "994:\tlearn: 0.9589316\ttest: 0.8316236\tbest: 0.8409776 (347)\ttotal: 27.7s\tremaining: 139ms\n",
            "995:\tlearn: 0.9589424\ttest: 0.8316601\tbest: 0.8409776 (347)\ttotal: 27.7s\tremaining: 111ms\n",
            "996:\tlearn: 0.9590388\ttest: 0.8316935\tbest: 0.8409776 (347)\ttotal: 27.7s\tremaining: 83.4ms\n",
            "997:\tlearn: 0.9590954\ttest: 0.8317270\tbest: 0.8409776 (347)\ttotal: 27.7s\tremaining: 55.6ms\n",
            "998:\tlearn: 0.9591817\ttest: 0.8316844\tbest: 0.8409776 (347)\ttotal: 27.8s\tremaining: 27.8ms\n",
            "999:\tlearn: 0.9591909\ttest: 0.8315780\tbest: 0.8409776 (347)\ttotal: 27.8s\tremaining: 0us\n",
            "\n",
            "bestTest = 0.8409776173\n",
            "bestIteration = 347\n",
            "\n",
            "Shrink model to first 348 iterations.\n"
          ]
        },
        {
          "output_type": "execute_result",
          "data": {
            "text/plain": [
              "<catboost.core.CatBoostClassifier at 0x7fa6cb463390>"
            ]
          },
          "metadata": {},
          "execution_count": 58
        }
      ],
      "source": [
        "cbc_model.fit(features_train, target_train, cat_features=cat_cols, eval_set=(features_valid, target_valid))"
      ]
    },
    {
      "cell_type": "markdown",
      "metadata": {
        "id": "6lmjw1aOGH84"
      },
      "source": [
        "Выведем AUC:"
      ]
    },
    {
      "cell_type": "code",
      "execution_count": null,
      "metadata": {
        "colab": {
          "base_uri": "https://localhost:8080/"
        },
        "id": "JfnVYjMIGH84",
        "outputId": "65b41e7a-166d-4e20-f9d8-f3c6467b6950"
      },
      "outputs": [
        {
          "output_type": "execute_result",
          "data": {
            "text/plain": [
              "0.8409776172934067"
            ]
          },
          "metadata": {},
          "execution_count": 59
        }
      ],
      "source": [
        "roc_auc_score(target_valid, cbc_model.predict_proba(features_valid)[:, 1]) "
      ]
    },
    {
      "cell_type": "markdown",
      "metadata": {
        "id": "m_ZM-VENmQUi"
      },
      "source": [
        "Обучим модель с подбором гиперпараметров:\n"
      ]
    },
    {
      "cell_type": "code",
      "execution_count": null,
      "metadata": {
        "id": "AHo-N0FemQUi"
      },
      "outputs": [],
      "source": [
        "# %%time\n",
        "\n",
        "# CBC = CatBoostClassifier()\n",
        "# parameters = {\n",
        "#               'depth': [2, 3], \n",
        "#               'loss_function': ['Logloss'],\n",
        "#               #\"task_type\" : \"GPU\",\n",
        "#               'grow_policy': ['Lossguide'],\n",
        "#               'auto_class_weights': ['Balanced'],\n",
        "#               'learning_rate': np.linspace(0.03, 0.1, 10), \n",
        "#               'iterations': [250, 300], \n",
        "#               'subsample': np.linspace(0.55, 0.6, 5), \n",
        "#               'l2_leaf_reg': np.linspace(3, 3.5, 5), \n",
        "#               'random_strength': np.linspace(1.1, 1.2, 5), \n",
        "#               'min_data_in_leaf': [5],               \n",
        "#               'eval_metric' : ['AUC:hints=skip_train~false'], \n",
        "#               'use_best_model' : [True],\n",
        "#               'random_seed' : [123]}\n",
        "# Grid_CBC = GridSearchCV(estimator=CBC, param_grid = parameters, cv = 5, n_jobs=-1)\n",
        "# Grid_CBC.fit(features_train, target_train, cat_features=cat_cols, eval_set=(features_valid, target_valid))"
      ]
    },
    {
      "cell_type": "markdown",
      "source": [
        "Поиск лучших гиперпараметров занял: Wall time: 2h 22min 25s"
      ],
      "metadata": {
        "id": "5bYk-ZflHFOf"
      }
    },
    {
      "cell_type": "code",
      "execution_count": null,
      "metadata": {
        "id": "f_pA3-pbmQUi",
        "scrolled": true
      },
      "outputs": [],
      "source": [
        "# Grid_CBC.best_params_"
      ]
    },
    {
      "cell_type": "markdown",
      "source": [
        "{'auto_class_weights': 'Balanced',\n",
        " 'depth': 3,\n",
        " 'eval_metric': 'AUC:hints=skip_train~false',\n",
        " 'grow_policy': 'Lossguide',\n",
        " 'iterations': 250,\n",
        " 'l2_leaf_reg': 3.25,\n",
        " 'learning_rate': 0.06888888888888889,\n",
        " 'loss_function': 'Logloss',\n",
        " 'min_data_in_leaf': 5,\n",
        " 'random_seed': 123,\n",
        " 'random_strength': 1.2,\n",
        " 'subsample': 0.5875,\n",
        " 'use_best_model': True}"
      ],
      "metadata": {
        "id": "AhqDVMm2HKlV"
      }
    },
    {
      "cell_type": "markdown",
      "metadata": {
        "id": "W7Qk9MoJnrAn"
      },
      "source": [
        "### Лучшая модель"
      ]
    },
    {
      "cell_type": "markdown",
      "metadata": {
        "id": "VKFe_m1A7Yga"
      },
      "source": [
        "Обучим модель с лучшими гиперпараметрами, и сохраним ее:"
      ]
    },
    {
      "cell_type": "code",
      "execution_count": null,
      "metadata": {
        "collapsed": true,
        "id": "34RNtwDKnrAm",
        "colab": {
          "base_uri": "https://localhost:8080/"
        },
        "outputId": "82f897d2-6da7-4706-a452-b3301e996c7c"
      },
      "outputs": [
        {
          "output_type": "stream",
          "name": "stdout",
          "text": [
            "0:\tlearn: 0.7983091\ttest: 0.7689815\tbest: 0.7689815 (0)\ttotal: 7.51ms\tremaining: 1.87s\n",
            "1:\tlearn: 0.8158623\ttest: 0.7908566\tbest: 0.7908566 (1)\ttotal: 15.7ms\tremaining: 1.95s\n",
            "2:\tlearn: 0.8307966\ttest: 0.8042516\tbest: 0.8042516 (2)\ttotal: 24.4ms\tremaining: 2s\n",
            "3:\tlearn: 0.8368638\ttest: 0.8110297\tbest: 0.8110297 (3)\ttotal: 30.9ms\tremaining: 1.9s\n",
            "4:\tlearn: 0.8373590\ttest: 0.8147667\tbest: 0.8147667 (4)\ttotal: 37ms\tremaining: 1.81s\n",
            "5:\tlearn: 0.8373169\ttest: 0.8152105\tbest: 0.8152105 (5)\ttotal: 44.9ms\tremaining: 1.82s\n",
            "6:\tlearn: 0.8397627\ttest: 0.8160281\tbest: 0.8160281 (6)\ttotal: 53.4ms\tremaining: 1.85s\n",
            "7:\tlearn: 0.8404282\ttest: 0.8172651\tbest: 0.8172651 (7)\ttotal: 59.6ms\tremaining: 1.8s\n",
            "8:\tlearn: 0.8418083\ttest: 0.8178609\tbest: 0.8178609 (8)\ttotal: 66.5ms\tremaining: 1.78s\n",
            "9:\tlearn: 0.8427945\ttest: 0.8203381\tbest: 0.8203381 (9)\ttotal: 72.9ms\tremaining: 1.75s\n",
            "10:\tlearn: 0.8441978\ttest: 0.8232438\tbest: 0.8232438 (10)\ttotal: 79.2ms\tremaining: 1.72s\n",
            "11:\tlearn: 0.8463255\ttest: 0.8271039\tbest: 0.8271039 (11)\ttotal: 85.2ms\tremaining: 1.69s\n",
            "12:\tlearn: 0.8461086\ttest: 0.8277179\tbest: 0.8277179 (12)\ttotal: 91.1ms\tremaining: 1.66s\n",
            "13:\tlearn: 0.8462312\ttest: 0.8270310\tbest: 0.8277179 (12)\ttotal: 96.9ms\tremaining: 1.63s\n",
            "14:\tlearn: 0.8462515\ttest: 0.8273030\tbest: 0.8277179 (12)\ttotal: 103ms\tremaining: 1.61s\n",
            "15:\tlearn: 0.8473351\ttest: 0.8278592\tbest: 0.8278592 (15)\ttotal: 109ms\tremaining: 1.59s\n",
            "16:\tlearn: 0.8475764\ttest: 0.8277908\tbest: 0.8278592 (15)\ttotal: 115ms\tremaining: 1.58s\n",
            "17:\tlearn: 0.8478306\ttest: 0.8284200\tbest: 0.8284200 (17)\ttotal: 121ms\tremaining: 1.56s\n",
            "18:\tlearn: 0.8478940\ttest: 0.8279991\tbest: 0.8284200 (17)\ttotal: 128ms\tremaining: 1.55s\n",
            "19:\tlearn: 0.8482573\ttest: 0.8280598\tbest: 0.8284200 (17)\ttotal: 134ms\tremaining: 1.53s\n",
            "20:\tlearn: 0.8495424\ttest: 0.8289899\tbest: 0.8289899 (20)\ttotal: 139ms\tremaining: 1.52s\n",
            "21:\tlearn: 0.8501105\ttest: 0.8291237\tbest: 0.8291237 (21)\ttotal: 146ms\tremaining: 1.51s\n",
            "22:\tlearn: 0.8505688\ttest: 0.8294200\tbest: 0.8294200 (22)\ttotal: 152ms\tremaining: 1.5s\n",
            "23:\tlearn: 0.8507022\ttest: 0.8293045\tbest: 0.8294200 (22)\ttotal: 159ms\tremaining: 1.49s\n",
            "24:\tlearn: 0.8514539\ttest: 0.8299154\tbest: 0.8299154 (24)\ttotal: 165ms\tremaining: 1.49s\n",
            "25:\tlearn: 0.8514370\ttest: 0.8300963\tbest: 0.8300963 (25)\ttotal: 171ms\tremaining: 1.48s\n",
            "26:\tlearn: 0.8517985\ttest: 0.8303394\tbest: 0.8303394 (26)\ttotal: 178ms\tremaining: 1.47s\n",
            "27:\tlearn: 0.8517001\ttest: 0.8305598\tbest: 0.8305598 (27)\ttotal: 184ms\tremaining: 1.46s\n",
            "28:\tlearn: 0.8516574\ttest: 0.8303501\tbest: 0.8305598 (27)\ttotal: 191ms\tremaining: 1.45s\n",
            "29:\tlearn: 0.8519963\ttest: 0.8306130\tbest: 0.8306130 (29)\ttotal: 200ms\tremaining: 1.47s\n",
            "30:\tlearn: 0.8520007\ttest: 0.8306069\tbest: 0.8306130 (29)\ttotal: 208ms\tremaining: 1.47s\n",
            "31:\tlearn: 0.8521353\ttest: 0.8309990\tbest: 0.8309990 (31)\ttotal: 217ms\tremaining: 1.48s\n",
            "32:\tlearn: 0.8524635\ttest: 0.8312923\tbest: 0.8312923 (32)\ttotal: 224ms\tremaining: 1.47s\n",
            "33:\tlearn: 0.8526715\ttest: 0.8315993\tbest: 0.8315993 (33)\ttotal: 233ms\tremaining: 1.48s\n",
            "34:\tlearn: 0.8532635\ttest: 0.8319656\tbest: 0.8319656 (34)\ttotal: 242ms\tremaining: 1.48s\n",
            "35:\tlearn: 0.8533609\ttest: 0.8319960\tbest: 0.8319960 (35)\ttotal: 249ms\tremaining: 1.48s\n",
            "36:\tlearn: 0.8534273\ttest: 0.8319048\tbest: 0.8319960 (35)\ttotal: 255ms\tremaining: 1.47s\n",
            "37:\tlearn: 0.8535919\ttest: 0.8320461\tbest: 0.8320461 (37)\ttotal: 262ms\tremaining: 1.46s\n",
            "38:\tlearn: 0.8535738\ttest: 0.8319610\tbest: 0.8320461 (37)\ttotal: 268ms\tremaining: 1.45s\n",
            "39:\tlearn: 0.8535811\ttest: 0.8318607\tbest: 0.8320461 (37)\ttotal: 274ms\tremaining: 1.44s\n",
            "40:\tlearn: 0.8538527\ttest: 0.8323850\tbest: 0.8323850 (40)\ttotal: 282ms\tremaining: 1.44s\n",
            "41:\tlearn: 0.8539995\ttest: 0.8323987\tbest: 0.8323987 (41)\ttotal: 290ms\tremaining: 1.43s\n",
            "42:\tlearn: 0.8546541\ttest: 0.8331707\tbest: 0.8331707 (42)\ttotal: 296ms\tremaining: 1.42s\n",
            "43:\tlearn: 0.8549315\ttest: 0.8333820\tbest: 0.8333820 (43)\ttotal: 301ms\tremaining: 1.41s\n",
            "44:\tlearn: 0.8550953\ttest: 0.8333576\tbest: 0.8333820 (43)\ttotal: 307ms\tremaining: 1.4s\n",
            "45:\tlearn: 0.8551499\ttest: 0.8333759\tbest: 0.8333820 (43)\ttotal: 313ms\tremaining: 1.39s\n",
            "46:\tlearn: 0.8551277\ttest: 0.8330811\tbest: 0.8333820 (43)\ttotal: 319ms\tremaining: 1.38s\n",
            "47:\tlearn: 0.8554056\ttest: 0.8330309\tbest: 0.8333820 (43)\ttotal: 326ms\tremaining: 1.37s\n",
            "48:\tlearn: 0.8553601\ttest: 0.8331221\tbest: 0.8333820 (43)\ttotal: 332ms\tremaining: 1.36s\n",
            "49:\tlearn: 0.8554872\ttest: 0.8332665\tbest: 0.8333820 (43)\ttotal: 339ms\tremaining: 1.35s\n",
            "50:\tlearn: 0.8556330\ttest: 0.8333546\tbest: 0.8333820 (43)\ttotal: 346ms\tremaining: 1.35s\n",
            "51:\tlearn: 0.8556578\ttest: 0.8333333\tbest: 0.8333820 (43)\ttotal: 355ms\tremaining: 1.35s\n",
            "52:\tlearn: 0.8557929\ttest: 0.8335902\tbest: 0.8335902 (52)\ttotal: 362ms\tremaining: 1.34s\n",
            "53:\tlearn: 0.8558920\ttest: 0.8333409\tbest: 0.8335902 (52)\ttotal: 368ms\tremaining: 1.34s\n",
            "54:\tlearn: 0.8559621\ttest: 0.8333409\tbest: 0.8335902 (52)\ttotal: 375ms\tremaining: 1.33s\n",
            "55:\tlearn: 0.8560272\ttest: 0.8334519\tbest: 0.8335902 (52)\ttotal: 381ms\tremaining: 1.32s\n",
            "56:\tlearn: 0.8560265\ttest: 0.8334883\tbest: 0.8335902 (52)\ttotal: 388ms\tremaining: 1.31s\n",
            "57:\tlearn: 0.8561382\ttest: 0.8336981\tbest: 0.8336981 (57)\ttotal: 399ms\tremaining: 1.32s\n",
            "58:\tlearn: 0.8563510\ttest: 0.8337771\tbest: 0.8337771 (58)\ttotal: 406ms\tremaining: 1.31s\n",
            "59:\tlearn: 0.8565351\ttest: 0.8340355\tbest: 0.8340355 (59)\ttotal: 418ms\tremaining: 1.32s\n",
            "60:\tlearn: 0.8565953\ttest: 0.8341054\tbest: 0.8341054 (60)\ttotal: 424ms\tremaining: 1.31s\n",
            "61:\tlearn: 0.8566257\ttest: 0.8340567\tbest: 0.8341054 (60)\ttotal: 430ms\tremaining: 1.3s\n",
            "62:\tlearn: 0.8569425\ttest: 0.8342604\tbest: 0.8342604 (62)\ttotal: 436ms\tremaining: 1.29s\n",
            "63:\tlearn: 0.8569834\ttest: 0.8344823\tbest: 0.8344823 (63)\ttotal: 442ms\tremaining: 1.28s\n",
            "64:\tlearn: 0.8570690\ttest: 0.8345643\tbest: 0.8345643 (64)\ttotal: 448ms\tremaining: 1.27s\n",
            "65:\tlearn: 0.8572793\ttest: 0.8346935\tbest: 0.8346935 (65)\ttotal: 455ms\tremaining: 1.27s\n",
            "66:\tlearn: 0.8573720\ttest: 0.8347710\tbest: 0.8347710 (66)\ttotal: 461ms\tremaining: 1.26s\n",
            "67:\tlearn: 0.8575891\ttest: 0.8348743\tbest: 0.8348743 (67)\ttotal: 469ms\tremaining: 1.25s\n",
            "68:\tlearn: 0.8578549\ttest: 0.8353728\tbest: 0.8353728 (68)\ttotal: 475ms\tremaining: 1.25s\n",
            "69:\tlearn: 0.8581848\ttest: 0.8355126\tbest: 0.8355126 (69)\ttotal: 481ms\tremaining: 1.24s\n",
            "70:\tlearn: 0.8583205\ttest: 0.8357710\tbest: 0.8357710 (70)\ttotal: 486ms\tremaining: 1.22s\n",
            "71:\tlearn: 0.8583836\ttest: 0.8357862\tbest: 0.8357862 (71)\ttotal: 492ms\tremaining: 1.22s\n",
            "72:\tlearn: 0.8584894\ttest: 0.8360324\tbest: 0.8360324 (72)\ttotal: 498ms\tremaining: 1.21s\n",
            "73:\tlearn: 0.8585881\ttest: 0.8360081\tbest: 0.8360324 (72)\ttotal: 504ms\tremaining: 1.2s\n",
            "74:\tlearn: 0.8586532\ttest: 0.8360476\tbest: 0.8360476 (74)\ttotal: 510ms\tremaining: 1.19s\n",
            "75:\tlearn: 0.8588127\ttest: 0.8361996\tbest: 0.8361996 (75)\ttotal: 517ms\tremaining: 1.18s\n",
            "76:\tlearn: 0.8588320\ttest: 0.8361752\tbest: 0.8361996 (75)\ttotal: 530ms\tremaining: 1.19s\n",
            "77:\tlearn: 0.8588464\ttest: 0.8361859\tbest: 0.8361996 (75)\ttotal: 543ms\tremaining: 1.2s\n",
            "78:\tlearn: 0.8588510\ttest: 0.8361859\tbest: 0.8361996 (75)\ttotal: 549ms\tremaining: 1.19s\n",
            "79:\tlearn: 0.8588647\ttest: 0.8362421\tbest: 0.8362421 (79)\ttotal: 556ms\tremaining: 1.18s\n",
            "80:\tlearn: 0.8589108\ttest: 0.8363090\tbest: 0.8363090 (80)\ttotal: 563ms\tremaining: 1.18s\n",
            "81:\tlearn: 0.8589941\ttest: 0.8364564\tbest: 0.8364564 (81)\ttotal: 570ms\tremaining: 1.17s\n",
            "82:\tlearn: 0.8590016\ttest: 0.8364929\tbest: 0.8364929 (82)\ttotal: 575ms\tremaining: 1.16s\n",
            "83:\tlearn: 0.8590993\ttest: 0.8363743\tbest: 0.8364929 (82)\ttotal: 585ms\tremaining: 1.16s\n",
            "84:\tlearn: 0.8591755\ttest: 0.8367482\tbest: 0.8367482 (84)\ttotal: 596ms\tremaining: 1.16s\n",
            "85:\tlearn: 0.8592033\ttest: 0.8367026\tbest: 0.8367482 (84)\ttotal: 603ms\tremaining: 1.15s\n",
            "86:\tlearn: 0.8592151\ttest: 0.8367026\tbest: 0.8367482 (84)\ttotal: 609ms\tremaining: 1.14s\n",
            "87:\tlearn: 0.8592308\ttest: 0.8367239\tbest: 0.8367482 (84)\ttotal: 616ms\tremaining: 1.13s\n",
            "88:\tlearn: 0.8592777\ttest: 0.8367816\tbest: 0.8367816 (88)\ttotal: 621ms\tremaining: 1.12s\n",
            "89:\tlearn: 0.8593948\ttest: 0.8370096\tbest: 0.8370096 (89)\ttotal: 627ms\tremaining: 1.11s\n",
            "90:\tlearn: 0.8595541\ttest: 0.8370430\tbest: 0.8370430 (90)\ttotal: 634ms\tremaining: 1.11s\n",
            "91:\tlearn: 0.8596110\ttest: 0.8370825\tbest: 0.8370825 (91)\ttotal: 640ms\tremaining: 1.1s\n",
            "92:\tlearn: 0.8597399\ttest: 0.8371524\tbest: 0.8371524 (92)\ttotal: 645ms\tremaining: 1.09s\n",
            "93:\tlearn: 0.8598298\ttest: 0.8371676\tbest: 0.8371676 (93)\ttotal: 653ms\tremaining: 1.08s\n",
            "94:\tlearn: 0.8598530\ttest: 0.8372284\tbest: 0.8372284 (94)\ttotal: 660ms\tremaining: 1.08s\n",
            "95:\tlearn: 0.8598429\ttest: 0.8372071\tbest: 0.8372284 (94)\ttotal: 666ms\tremaining: 1.07s\n",
            "96:\tlearn: 0.8600191\ttest: 0.8372163\tbest: 0.8372284 (94)\ttotal: 672ms\tremaining: 1.06s\n",
            "97:\tlearn: 0.8600142\ttest: 0.8372041\tbest: 0.8372284 (94)\ttotal: 678ms\tremaining: 1.05s\n",
            "98:\tlearn: 0.8600897\ttest: 0.8372923\tbest: 0.8372923 (98)\ttotal: 684ms\tremaining: 1.04s\n",
            "99:\tlearn: 0.8602342\ttest: 0.8373120\tbest: 0.8373120 (99)\ttotal: 691ms\tremaining: 1.04s\n",
            "100:\tlearn: 0.8602483\ttest: 0.8373454\tbest: 0.8373454 (100)\ttotal: 697ms\tremaining: 1.03s\n",
            "101:\tlearn: 0.8602418\ttest: 0.8374305\tbest: 0.8374305 (101)\ttotal: 705ms\tremaining: 1.02s\n",
            "102:\tlearn: 0.8602565\ttest: 0.8374822\tbest: 0.8374822 (102)\ttotal: 711ms\tremaining: 1.01s\n",
            "103:\tlearn: 0.8604621\ttest: 0.8376509\tbest: 0.8376509 (103)\ttotal: 717ms\tremaining: 1.01s\n",
            "104:\tlearn: 0.8606073\ttest: 0.8378363\tbest: 0.8378363 (104)\ttotal: 724ms\tremaining: 1000ms\n",
            "105:\tlearn: 0.8608378\ttest: 0.8377603\tbest: 0.8378363 (104)\ttotal: 731ms\tremaining: 992ms\n",
            "106:\tlearn: 0.8609153\ttest: 0.8378789\tbest: 0.8378789 (106)\ttotal: 737ms\tremaining: 985ms\n",
            "107:\tlearn: 0.8609330\ttest: 0.8378758\tbest: 0.8378789 (106)\ttotal: 744ms\tremaining: 978ms\n",
            "108:\tlearn: 0.8609840\ttest: 0.8378758\tbest: 0.8378789 (106)\ttotal: 751ms\tremaining: 971ms\n",
            "109:\tlearn: 0.8609869\ttest: 0.8379275\tbest: 0.8379275 (109)\ttotal: 757ms\tremaining: 963ms\n",
            "110:\tlearn: 0.8610605\ttest: 0.8379883\tbest: 0.8379883 (110)\ttotal: 763ms\tremaining: 955ms\n",
            "111:\tlearn: 0.8611394\ttest: 0.8380248\tbest: 0.8380248 (111)\ttotal: 770ms\tremaining: 948ms\n",
            "112:\tlearn: 0.8613096\ttest: 0.8381281\tbest: 0.8381281 (112)\ttotal: 778ms\tremaining: 943ms\n",
            "113:\tlearn: 0.8613559\ttest: 0.8381828\tbest: 0.8381828 (113)\ttotal: 785ms\tremaining: 937ms\n",
            "114:\tlearn: 0.8613592\ttest: 0.8382193\tbest: 0.8382193 (114)\ttotal: 794ms\tremaining: 932ms\n",
            "115:\tlearn: 0.8613863\ttest: 0.8381950\tbest: 0.8382193 (114)\ttotal: 800ms\tremaining: 924ms\n",
            "116:\tlearn: 0.8615468\ttest: 0.8381463\tbest: 0.8382193 (114)\ttotal: 807ms\tremaining: 917ms\n",
            "117:\tlearn: 0.8616230\ttest: 0.8380856\tbest: 0.8382193 (114)\ttotal: 813ms\tremaining: 910ms\n",
            "118:\tlearn: 0.8617541\ttest: 0.8382497\tbest: 0.8382497 (118)\ttotal: 820ms\tremaining: 903ms\n",
            "119:\tlearn: 0.8617738\ttest: 0.8381980\tbest: 0.8382497 (118)\ttotal: 827ms\tremaining: 895ms\n",
            "120:\tlearn: 0.8617878\ttest: 0.8382588\tbest: 0.8382588 (120)\ttotal: 832ms\tremaining: 887ms\n",
            "121:\tlearn: 0.8617888\ttest: 0.8382466\tbest: 0.8382588 (120)\ttotal: 838ms\tremaining: 880ms\n",
            "122:\tlearn: 0.8619232\ttest: 0.8384685\tbest: 0.8384685 (122)\ttotal: 845ms\tremaining: 873ms\n",
            "123:\tlearn: 0.8620831\ttest: 0.8385780\tbest: 0.8385780 (123)\ttotal: 852ms\tremaining: 866ms\n",
            "124:\tlearn: 0.8621576\ttest: 0.8386129\tbest: 0.8386129 (124)\ttotal: 859ms\tremaining: 859ms\n",
            "125:\tlearn: 0.8621779\ttest: 0.8386494\tbest: 0.8386494 (125)\ttotal: 866ms\tremaining: 852ms\n",
            "126:\tlearn: 0.8622626\ttest: 0.8386980\tbest: 0.8386980 (126)\ttotal: 873ms\tremaining: 845ms\n",
            "127:\tlearn: 0.8623293\ttest: 0.8388561\tbest: 0.8388561 (127)\ttotal: 880ms\tremaining: 839ms\n",
            "128:\tlearn: 0.8624565\ttest: 0.8388682\tbest: 0.8388682 (128)\ttotal: 889ms\tremaining: 834ms\n",
            "129:\tlearn: 0.8625428\ttest: 0.8389351\tbest: 0.8389351 (129)\ttotal: 895ms\tremaining: 826ms\n",
            "130:\tlearn: 0.8625869\ttest: 0.8389381\tbest: 0.8389381 (130)\ttotal: 902ms\tremaining: 819ms\n",
            "131:\tlearn: 0.8627478\ttest: 0.8389290\tbest: 0.8389381 (130)\ttotal: 908ms\tremaining: 812ms\n",
            "132:\tlearn: 0.8628511\ttest: 0.8390931\tbest: 0.8390931 (132)\ttotal: 915ms\tremaining: 805ms\n",
            "133:\tlearn: 0.8628485\ttest: 0.8390931\tbest: 0.8390931 (132)\ttotal: 922ms\tremaining: 798ms\n",
            "134:\tlearn: 0.8629737\ttest: 0.8392208\tbest: 0.8392208 (134)\ttotal: 928ms\tremaining: 791ms\n",
            "135:\tlearn: 0.8630905\ttest: 0.8392026\tbest: 0.8392208 (134)\ttotal: 935ms\tremaining: 783ms\n",
            "136:\tlearn: 0.8631055\ttest: 0.8392026\tbest: 0.8392208 (134)\ttotal: 941ms\tremaining: 776ms\n",
            "137:\tlearn: 0.8631179\ttest: 0.8392238\tbest: 0.8392238 (137)\ttotal: 947ms\tremaining: 769ms\n",
            "138:\tlearn: 0.8631693\ttest: 0.8393849\tbest: 0.8393849 (138)\ttotal: 954ms\tremaining: 762ms\n",
            "139:\tlearn: 0.8633350\ttest: 0.8394092\tbest: 0.8394092 (139)\ttotal: 962ms\tremaining: 755ms\n",
            "140:\tlearn: 0.8633334\ttest: 0.8395825\tbest: 0.8395825 (140)\ttotal: 968ms\tremaining: 748ms\n",
            "141:\tlearn: 0.8636597\ttest: 0.8397466\tbest: 0.8397466 (141)\ttotal: 976ms\tremaining: 742ms\n",
            "142:\tlearn: 0.8637715\ttest: 0.8397193\tbest: 0.8397466 (141)\ttotal: 986ms\tremaining: 738ms\n",
            "143:\tlearn: 0.8639105\ttest: 0.8397770\tbest: 0.8397770 (143)\ttotal: 993ms\tremaining: 731ms\n",
            "144:\tlearn: 0.8640504\ttest: 0.8400019\tbest: 0.8400019 (144)\ttotal: 1s\tremaining: 724ms\n",
            "145:\tlearn: 0.8644060\ttest: 0.8400156\tbest: 0.8400156 (145)\ttotal: 1.01s\tremaining: 718ms\n",
            "146:\tlearn: 0.8649661\ttest: 0.8402588\tbest: 0.8402588 (146)\ttotal: 1.02s\tremaining: 714ms\n",
            "147:\tlearn: 0.8650750\ttest: 0.8402588\tbest: 0.8402588 (146)\ttotal: 1.02s\tremaining: 707ms\n",
            "148:\tlearn: 0.8650848\ttest: 0.8402588\tbest: 0.8402588 (146)\ttotal: 1.03s\tremaining: 700ms\n",
            "149:\tlearn: 0.8653572\ttest: 0.8404503\tbest: 0.8404503 (149)\ttotal: 1.04s\tremaining: 694ms\n",
            "150:\tlearn: 0.8654598\ttest: 0.8405415\tbest: 0.8405415 (150)\ttotal: 1.05s\tremaining: 687ms\n",
            "151:\tlearn: 0.8655540\ttest: 0.8405339\tbest: 0.8405415 (150)\ttotal: 1.05s\tremaining: 680ms\n",
            "152:\tlearn: 0.8656966\ttest: 0.8405673\tbest: 0.8405673 (152)\ttotal: 1.06s\tremaining: 674ms\n",
            "153:\tlearn: 0.8658116\ttest: 0.8405369\tbest: 0.8405673 (152)\ttotal: 1.07s\tremaining: 667ms\n",
            "154:\tlearn: 0.8659745\ttest: 0.8406190\tbest: 0.8406190 (154)\ttotal: 1.07s\tremaining: 659ms\n",
            "155:\tlearn: 0.8659918\ttest: 0.8406190\tbest: 0.8406190 (154)\ttotal: 1.08s\tremaining: 652ms\n",
            "156:\tlearn: 0.8660082\ttest: 0.8405855\tbest: 0.8406190 (154)\ttotal: 1.09s\tremaining: 645ms\n",
            "157:\tlearn: 0.8661085\ttest: 0.8406706\tbest: 0.8406706 (157)\ttotal: 1.09s\tremaining: 638ms\n",
            "158:\tlearn: 0.8662295\ttest: 0.8406372\tbest: 0.8406706 (157)\ttotal: 1.1s\tremaining: 631ms\n",
            "159:\tlearn: 0.8662652\ttest: 0.8408408\tbest: 0.8408408 (159)\ttotal: 1.11s\tremaining: 626ms\n",
            "160:\tlearn: 0.8664803\ttest: 0.8406585\tbest: 0.8408408 (159)\ttotal: 1.12s\tremaining: 618ms\n",
            "161:\tlearn: 0.8669183\ttest: 0.8407071\tbest: 0.8408408 (159)\ttotal: 1.13s\tremaining: 611ms\n",
            "162:\tlearn: 0.8670366\ttest: 0.8407253\tbest: 0.8408408 (159)\ttotal: 1.13s\tremaining: 604ms\n",
            "163:\tlearn: 0.8672152\ttest: 0.8407801\tbest: 0.8408408 (159)\ttotal: 1.14s\tremaining: 597ms\n",
            "164:\tlearn: 0.8672560\ttest: 0.8407801\tbest: 0.8408408 (159)\ttotal: 1.14s\tremaining: 590ms\n",
            "165:\tlearn: 0.8674076\ttest: 0.8407679\tbest: 0.8408408 (159)\ttotal: 1.15s\tremaining: 583ms\n",
            "166:\tlearn: 0.8674072\ttest: 0.8407679\tbest: 0.8408408 (159)\ttotal: 1.16s\tremaining: 576ms\n",
            "167:\tlearn: 0.8675505\ttest: 0.8407405\tbest: 0.8408408 (159)\ttotal: 1.17s\tremaining: 569ms\n",
            "168:\tlearn: 0.8676672\ttest: 0.8406904\tbest: 0.8408408 (159)\ttotal: 1.17s\tremaining: 562ms\n",
            "169:\tlearn: 0.8679095\ttest: 0.8406418\tbest: 0.8408408 (159)\ttotal: 1.18s\tremaining: 555ms\n",
            "170:\tlearn: 0.8679431\ttest: 0.8406418\tbest: 0.8408408 (159)\ttotal: 1.19s\tremaining: 548ms\n",
            "171:\tlearn: 0.8680079\ttest: 0.8405810\tbest: 0.8408408 (159)\ttotal: 1.2s\tremaining: 542ms\n",
            "172:\tlearn: 0.8680419\ttest: 0.8406235\tbest: 0.8408408 (159)\ttotal: 1.21s\tremaining: 539ms\n",
            "173:\tlearn: 0.8681102\ttest: 0.8406721\tbest: 0.8408408 (159)\ttotal: 1.22s\tremaining: 533ms\n",
            "174:\tlearn: 0.8685363\ttest: 0.8407208\tbest: 0.8408408 (159)\ttotal: 1.23s\tremaining: 526ms\n",
            "175:\tlearn: 0.8687589\ttest: 0.8406174\tbest: 0.8408408 (159)\ttotal: 1.23s\tremaining: 519ms\n",
            "176:\tlearn: 0.8689888\ttest: 0.8407451\tbest: 0.8408408 (159)\ttotal: 1.24s\tremaining: 511ms\n",
            "177:\tlearn: 0.8691585\ttest: 0.8406873\tbest: 0.8408408 (159)\ttotal: 1.25s\tremaining: 504ms\n",
            "178:\tlearn: 0.8692468\ttest: 0.8407147\tbest: 0.8408408 (159)\ttotal: 1.25s\tremaining: 497ms\n",
            "179:\tlearn: 0.8694443\ttest: 0.8404898\tbest: 0.8408408 (159)\ttotal: 1.26s\tremaining: 490ms\n",
            "180:\tlearn: 0.8696110\ttest: 0.8404381\tbest: 0.8408408 (159)\ttotal: 1.27s\tremaining: 483ms\n",
            "181:\tlearn: 0.8697212\ttest: 0.8403925\tbest: 0.8408408 (159)\ttotal: 1.27s\tremaining: 476ms\n",
            "182:\tlearn: 0.8697617\ttest: 0.8404138\tbest: 0.8408408 (159)\ttotal: 1.28s\tremaining: 470ms\n",
            "183:\tlearn: 0.8698654\ttest: 0.8405323\tbest: 0.8408408 (159)\ttotal: 1.29s\tremaining: 463ms\n",
            "184:\tlearn: 0.8699092\ttest: 0.8405323\tbest: 0.8408408 (159)\ttotal: 1.3s\tremaining: 456ms\n",
            "185:\tlearn: 0.8699916\ttest: 0.8405946\tbest: 0.8408408 (159)\ttotal: 1.3s\tremaining: 449ms\n",
            "186:\tlearn: 0.8702316\ttest: 0.8406919\tbest: 0.8408408 (159)\ttotal: 1.31s\tremaining: 442ms\n",
            "187:\tlearn: 0.8702993\ttest: 0.8406919\tbest: 0.8408408 (159)\ttotal: 1.32s\tremaining: 435ms\n",
            "188:\tlearn: 0.8703035\ttest: 0.8406433\tbest: 0.8408408 (159)\ttotal: 1.32s\tremaining: 428ms\n",
            "189:\tlearn: 0.8703156\ttest: 0.8406433\tbest: 0.8408408 (159)\ttotal: 1.33s\tremaining: 420ms\n",
            "190:\tlearn: 0.8703879\ttest: 0.8407861\tbest: 0.8408408 (159)\ttotal: 1.34s\tremaining: 413ms\n",
            "191:\tlearn: 0.8704243\ttest: 0.8408469\tbest: 0.8408469 (191)\ttotal: 1.34s\tremaining: 406ms\n",
            "192:\tlearn: 0.8706336\ttest: 0.8407284\tbest: 0.8408469 (191)\ttotal: 1.35s\tremaining: 399ms\n",
            "193:\tlearn: 0.8706741\ttest: 0.8406797\tbest: 0.8408469 (191)\ttotal: 1.36s\tremaining: 392ms\n",
            "194:\tlearn: 0.8707032\ttest: 0.8407223\tbest: 0.8408469 (191)\ttotal: 1.36s\tremaining: 385ms\n",
            "195:\tlearn: 0.8709630\ttest: 0.8408378\tbest: 0.8408469 (191)\ttotal: 1.37s\tremaining: 378ms\n",
            "196:\tlearn: 0.8710503\ttest: 0.8409320\tbest: 0.8409320 (196)\ttotal: 1.38s\tremaining: 372ms\n",
            "197:\tlearn: 0.8712692\ttest: 0.8409791\tbest: 0.8409791 (197)\ttotal: 1.39s\tremaining: 364ms\n",
            "198:\tlearn: 0.8716250\ttest: 0.8410825\tbest: 0.8410825 (198)\ttotal: 1.39s\tremaining: 357ms\n",
            "199:\tlearn: 0.8716740\ttest: 0.8411190\tbest: 0.8411190 (199)\ttotal: 1.4s\tremaining: 350ms\n",
            "200:\tlearn: 0.8717011\ttest: 0.8411068\tbest: 0.8411190 (199)\ttotal: 1.41s\tremaining: 343ms\n",
            "201:\tlearn: 0.8717724\ttest: 0.8411068\tbest: 0.8411190 (199)\ttotal: 1.42s\tremaining: 336ms\n",
            "202:\tlearn: 0.8719402\ttest: 0.8411342\tbest: 0.8411342 (202)\ttotal: 1.42s\tremaining: 329ms\n",
            "203:\tlearn: 0.8719908\ttest: 0.8411372\tbest: 0.8411372 (203)\ttotal: 1.43s\tremaining: 322ms\n",
            "204:\tlearn: 0.8720657\ttest: 0.8411372\tbest: 0.8411372 (203)\ttotal: 1.44s\tremaining: 315ms\n",
            "205:\tlearn: 0.8720886\ttest: 0.8411554\tbest: 0.8411554 (205)\ttotal: 1.44s\tremaining: 308ms\n",
            "206:\tlearn: 0.8721890\ttest: 0.8411372\tbest: 0.8411554 (205)\ttotal: 1.45s\tremaining: 301ms\n",
            "207:\tlearn: 0.8721965\ttest: 0.8411615\tbest: 0.8411615 (207)\ttotal: 1.45s\tremaining: 294ms\n",
            "208:\tlearn: 0.8723453\ttest: 0.8411980\tbest: 0.8411980 (208)\ttotal: 1.46s\tremaining: 287ms\n",
            "209:\tlearn: 0.8725473\ttest: 0.8411797\tbest: 0.8411980 (208)\ttotal: 1.47s\tremaining: 280ms\n",
            "210:\tlearn: 0.8726752\ttest: 0.8412375\tbest: 0.8412375 (210)\ttotal: 1.48s\tremaining: 274ms\n",
            "211:\tlearn: 0.8727370\ttest: 0.8412101\tbest: 0.8412375 (210)\ttotal: 1.49s\tremaining: 267ms\n",
            "212:\tlearn: 0.8727484\ttest: 0.8412101\tbest: 0.8412375 (210)\ttotal: 1.5s\tremaining: 260ms\n",
            "213:\tlearn: 0.8728534\ttest: 0.8412010\tbest: 0.8412375 (210)\ttotal: 1.5s\tremaining: 253ms\n",
            "214:\tlearn: 0.8728812\ttest: 0.8412010\tbest: 0.8412375 (210)\ttotal: 1.51s\tremaining: 246ms\n",
            "215:\tlearn: 0.8729368\ttest: 0.8412071\tbest: 0.8412375 (210)\ttotal: 1.51s\tremaining: 238ms\n",
            "216:\tlearn: 0.8729616\ttest: 0.8412071\tbest: 0.8412375 (210)\ttotal: 1.52s\tremaining: 231ms\n",
            "217:\tlearn: 0.8730061\ttest: 0.8412071\tbest: 0.8412375 (210)\ttotal: 1.53s\tremaining: 224ms\n",
            "218:\tlearn: 0.8730133\ttest: 0.8412071\tbest: 0.8412375 (210)\ttotal: 1.53s\tremaining: 217ms\n",
            "219:\tlearn: 0.8730159\ttest: 0.8412071\tbest: 0.8412375 (210)\ttotal: 1.54s\tremaining: 210ms\n",
            "220:\tlearn: 0.8730453\ttest: 0.8412071\tbest: 0.8412375 (210)\ttotal: 1.54s\tremaining: 203ms\n",
            "221:\tlearn: 0.8732297\ttest: 0.8411038\tbest: 0.8412375 (210)\ttotal: 1.55s\tremaining: 196ms\n",
            "222:\tlearn: 0.8733121\ttest: 0.8411433\tbest: 0.8412375 (210)\ttotal: 1.56s\tremaining: 189ms\n",
            "223:\tlearn: 0.8734406\ttest: 0.8413955\tbest: 0.8413955 (223)\ttotal: 1.57s\tremaining: 182ms\n",
            "224:\tlearn: 0.8735711\ttest: 0.8413560\tbest: 0.8413955 (223)\ttotal: 1.57s\tremaining: 175ms\n",
            "225:\tlearn: 0.8735662\ttest: 0.8413591\tbest: 0.8413955 (223)\ttotal: 1.58s\tremaining: 168ms\n",
            "226:\tlearn: 0.8735998\ttest: 0.8414594\tbest: 0.8414594 (226)\ttotal: 1.59s\tremaining: 161ms\n",
            "227:\tlearn: 0.8736348\ttest: 0.8414655\tbest: 0.8414655 (227)\ttotal: 1.59s\tremaining: 154ms\n",
            "228:\tlearn: 0.8736744\ttest: 0.8414199\tbest: 0.8414655 (227)\ttotal: 1.6s\tremaining: 147ms\n",
            "229:\tlearn: 0.8736829\ttest: 0.8414199\tbest: 0.8414655 (227)\ttotal: 1.61s\tremaining: 140ms\n",
            "230:\tlearn: 0.8737185\ttest: 0.8413591\tbest: 0.8414655 (227)\ttotal: 1.61s\tremaining: 133ms\n",
            "231:\tlearn: 0.8738320\ttest: 0.8413469\tbest: 0.8414655 (227)\ttotal: 1.62s\tremaining: 126ms\n",
            "232:\tlearn: 0.8738506\ttest: 0.8413469\tbest: 0.8414655 (227)\ttotal: 1.63s\tremaining: 119ms\n",
            "233:\tlearn: 0.8738500\ttest: 0.8413469\tbest: 0.8414655 (227)\ttotal: 1.63s\tremaining: 112ms\n",
            "234:\tlearn: 0.8738549\ttest: 0.8413591\tbest: 0.8414655 (227)\ttotal: 1.64s\tremaining: 105ms\n",
            "235:\tlearn: 0.8741053\ttest: 0.8416326\tbest: 0.8416326 (235)\ttotal: 1.65s\tremaining: 97.6ms\n",
            "236:\tlearn: 0.8741256\ttest: 0.8416326\tbest: 0.8416326 (235)\ttotal: 1.65s\tremaining: 90.6ms\n",
            "237:\tlearn: 0.8741570\ttest: 0.8416326\tbest: 0.8416326 (235)\ttotal: 1.66s\tremaining: 83.6ms\n",
            "238:\tlearn: 0.8742142\ttest: 0.8415475\tbest: 0.8416326 (235)\ttotal: 1.67s\tremaining: 76.7ms\n",
            "239:\tlearn: 0.8743535\ttest: 0.8412831\tbest: 0.8416326 (235)\ttotal: 1.67s\tremaining: 69.7ms\n",
            "240:\tlearn: 0.8743898\ttest: 0.8412679\tbest: 0.8416326 (235)\ttotal: 1.68s\tremaining: 62.7ms\n",
            "241:\tlearn: 0.8744624\ttest: 0.8412770\tbest: 0.8416326 (235)\ttotal: 1.69s\tremaining: 55.8ms\n",
            "242:\tlearn: 0.8745360\ttest: 0.8411919\tbest: 0.8416326 (235)\ttotal: 1.69s\tremaining: 48.8ms\n",
            "243:\tlearn: 0.8747328\ttest: 0.8410916\tbest: 0.8416326 (235)\ttotal: 1.7s\tremaining: 41.8ms\n",
            "244:\tlearn: 0.8747495\ttest: 0.8410916\tbest: 0.8416326 (235)\ttotal: 1.71s\tremaining: 34.8ms\n",
            "245:\tlearn: 0.8747975\ttest: 0.8410582\tbest: 0.8416326 (235)\ttotal: 1.71s\tremaining: 27.9ms\n",
            "246:\tlearn: 0.8748695\ttest: 0.8410217\tbest: 0.8416326 (235)\ttotal: 1.72s\tremaining: 20.9ms\n",
            "247:\tlearn: 0.8748878\ttest: 0.8410794\tbest: 0.8416326 (235)\ttotal: 1.73s\tremaining: 14ms\n",
            "248:\tlearn: 0.8751091\ttest: 0.8410582\tbest: 0.8416326 (235)\ttotal: 1.74s\tremaining: 6.98ms\n",
            "249:\tlearn: 0.8751644\ttest: 0.8410338\tbest: 0.8416326 (235)\ttotal: 1.74s\tremaining: 0us\n",
            "\n",
            "bestTest = 0.8416326245\n",
            "bestIteration = 235\n",
            "\n",
            "Shrink model to first 236 iterations.\n"
          ]
        },
        {
          "output_type": "execute_result",
          "data": {
            "text/plain": [
              "<catboost.core.CatBoostClassifier at 0x7fa6cb3df290>"
            ]
          },
          "metadata": {},
          "execution_count": 62
        }
      ],
      "source": [
        "cbc_best_model = CatBoostClassifier(\n",
        "    auto_class_weights = 'Balanced', depth = 3, \n",
        "    grow_policy = 'Lossguide', iterations = 250, l2_leaf_reg = 3.25,\n",
        "    learning_rate =  0.06888888888888889, loss_function = 'Logloss', min_data_in_leaf = 5,\n",
        "    random_seed = 123, random_strength = 1.2, subsample = 0.5875, use_best_model = True,\n",
        "    eval_metric ='AUC:hints=skip_train~false')\n",
        "\n",
        "cbc_best_model.fit(features_train, target_train, cat_features=cat_cols, eval_set=(features_valid, target_valid))"
      ]
    },
    {
      "cell_type": "markdown",
      "metadata": {
        "id": "nHnou_JDGH86"
      },
      "source": [
        "Сохраним лучшую модель:"
      ]
    },
    {
      "cell_type": "code",
      "execution_count": null,
      "metadata": {
        "id": "1xdZ9G00nrAn"
      },
      "outputs": [],
      "source": [
        "# cbc_best_model.save_model('/content/CBC_model')"
      ]
    },
    {
      "cell_type": "markdown",
      "metadata": {
        "id": "ZVV-8525GH87"
      },
      "source": [
        "Вызов сохранненой модели:"
      ]
    },
    {
      "cell_type": "code",
      "execution_count": null,
      "metadata": {
        "id": "X9V6C8cInrAn",
        "scrolled": true
      },
      "outputs": [],
      "source": [
        "# cbc_best_model = CatBoostClassifier()\n",
        "# cbc_best_model.load_model('/content/CBC_model')"
      ]
    },
    {
      "cell_type": "markdown",
      "metadata": {
        "id": "hpZselwXGH87"
      },
      "source": [
        "Проверим ROC-AUС:"
      ]
    },
    {
      "cell_type": "code",
      "execution_count": null,
      "metadata": {
        "colab": {
          "base_uri": "https://localhost:8080/"
        },
        "id": "-bXQGlysGH87",
        "outputId": "c9d48703-d6c3-4c60-c23a-9246bd573ec4"
      },
      "outputs": [
        {
          "output_type": "execute_result",
          "data": {
            "text/plain": [
              "0.8416326245273613"
            ]
          },
          "metadata": {},
          "execution_count": 65
        }
      ],
      "source": [
        "roc_auc_score(target_valid, cbc_best_model.predict_proba(features_valid)[:, 1])"
      ]
    },
    {
      "cell_type": "markdown",
      "metadata": {
        "id": "XORkkh-_GH87"
      },
      "source": [
        "Запишем score с kaggle:"
      ]
    },
    {
      "cell_type": "markdown",
      "metadata": {
        "id": "K7fsVa3jGH88"
      },
      "source": [
        "Score: 0.85124"
      ]
    },
    {
      "cell_type": "markdown",
      "metadata": {
        "id": "dqIdk4ZkGH88"
      },
      "source": [
        "### ROC-кривые"
      ]
    },
    {
      "cell_type": "code",
      "execution_count": null,
      "metadata": {
        "colab": {
          "base_uri": "https://localhost:8080/",
          "height": 513
        },
        "id": "l5zIIzhPnrAn",
        "outputId": "b66b57b4-d7fd-4af5-d7d6-0f04ddfdda9f"
      },
      "outputs": [
        {
          "output_type": "display_data",
          "data": {
            "text/plain": [
              "<Figure size 504x504 with 1 Axes>"
            ],
            "image/png": "[encoded data removed]"
          },
          "metadata": {}
        }
      ],
      "source": [
        "y_true = target_valid\n",
        "y_probas = cbc_best_model.predict_proba(features_valid)\n",
        "skplt.metrics.plot_roc_curve(y_true, y_probas)\n",
        "plt.show()"
      ]
    },
    {
      "cell_type": "code",
      "execution_count": null,
      "metadata": {
        "colab": {
          "base_uri": "https://localhost:8080/",
          "height": 513
        },
        "id": "tSObnqxMGH88",
        "outputId": "6adf0174-c770-43d0-a611-dd9dd1a56eb2"
      },
      "outputs": [
        {
          "output_type": "display_data",
          "data": {
            "text/plain": [
              "<Figure size 504x504 with 1 Axes>"
            ],
            "image/png": "[encoded data removed]"
          },
          "metadata": {}
        }
      ],
      "source": [
        "train_pred = cbc_best_model.predict_proba(features_train)[:, 1]\n",
        "train_auc = roc_auc_score(target_train, train_pred)\n",
        "valid_pred = cbc_best_model.predict_proba(features_valid)[:, 1]\n",
        "valid_auc = roc_auc_score(target_valid, valid_pred)\n",
        "\n",
        "plt.plot(*roc_curve(target_train, train_pred)[:2], label='train AUC = {:.4f}'.format(train_auc))\n",
        "plt.plot(*roc_curve(target_valid, valid_pred)[:2], label='train AUC = {:.4f}'.format(valid_auc))\n",
        "\n",
        "legend_box = plt.legend(fontsize='large', framealpha=1).get_frame()\n",
        "legend_box.set_facecolor('white')\n",
        "legend_box.set_edgecolor('black')\n",
        "plt.plot(np.linspace(0, 1, 100), np.linspace(0, 1, 100))\n",
        "\n",
        "plt.show()"
      ]
    },
    {
      "cell_type": "markdown",
      "metadata": {
        "id": "5fxl4iDpRWgw"
      },
      "source": [
        "### Вывод"
      ]
    },
    {
      "cell_type": "markdown",
      "metadata": {
        "id": "rf4Kjt96EEZU"
      },
      "source": [
        "Лучшее качество Cat Boost Classifier удалось достить с параметрами:  \n",
        "- 'auto_class_weights': 'Balanced',   \n",
        "- 'depth': 3,   \n",
        "- 'eval_metric': 'AUC:hints=skip_train~false',   \n",
        "- 'grow_policy': 'Lossguide',   \n",
        "- 'iterations': 250,   \n",
        "- 'l2_leaf_reg': 3.25,  \n",
        "- 'learning_rate': 0.06888888888888889, \n",
        "- 'loss_function': 'Logloss',\n",
        "- 'min_data_in_leaf': 5, \n",
        "- 'random_seed': 123, \n",
        "- 'random_strength': 1.2,\n",
        "- 'subsample': 0.5875, \n",
        "- 'use_best_model': True.  \n",
        "\n",
        "При этом `ROC-AUC` = 0.84163"
      ]
    },
    {
      "cell_type": "markdown",
      "metadata": {
        "id": "dDMXbvNZEEZV"
      },
      "source": [
        "# Предсказания"
      ]
    },
    {
      "cell_type": "code",
      "execution_count": null,
      "metadata": {
        "id": "FfSufx0CEEZZ"
      },
      "outputs": [],
      "source": [
        "pred = cbc_best_model.predict_proba(df_test)[:, 1]\n",
        "\n",
        "submission = pd.DataFrame({'Id':df_test.index,'Churn':pred})"
      ]
    },
    {
      "cell_type": "code",
      "execution_count": null,
      "metadata": {
        "colab": {
          "base_uri": "https://localhost:8080/",
          "height": 206
        },
        "id": "pEiG2nlrGH89",
        "outputId": "2944565b-b8fc-4f71-ac36-7bd48f5a3589"
      },
      "outputs": [
        {
          "output_type": "execute_result",
          "data": {
            "text/plain": [
              "   Id     Churn\n",
              "0   0  0.111615\n",
              "1   1  0.870067\n",
              "2   2  0.896343\n",
              "3   3  0.032472\n",
              "4   4  0.018982"
            ],
            "text/html": [
              "\n",
              "  <div id=\"df-93a369d7-668f-4341-9971-74da140cde3f\">\n",
              "    <div class=\"colab-df-container\">\n",
              "      <div>\n",
              "<style scoped>\n",
              "    .dataframe tbody tr th:only-of-type {\n",
              "        vertical-align: middle;\n",
              "    }\n",
              "\n",
              "    .dataframe tbody tr th {\n",
              "        vertical-align: top;\n",
              "    }\n",
              "\n",
              "    .dataframe thead th {\n",
              "        text-align: right;\n",
              "    }\n",
              "</style>\n",
              "<table border=\"1\" class=\"dataframe\">\n",
              "  <thead>\n",
              "    <tr style=\"text-align: right;\">\n",
              "      <th></th>\n",
              "      <th>Id</th>\n",
              "      <th>Churn</th>\n",
              "    </tr>\n",
              "  </thead>\n",
              "  <tbody>\n",
              "    <tr>\n",
              "      <th>0</th>\n",
              "      <td>0</td>\n",
              "      <td>0.111615</td>\n",
              "    </tr>\n",
              "    <tr>\n",
              "      <th>1</th>\n",
              "      <td>1</td>\n",
              "      <td>0.870067</td>\n",
              "    </tr>\n",
              "    <tr>\n",
              "      <th>2</th>\n",
              "      <td>2</td>\n",
              "      <td>0.896343</td>\n",
              "    </tr>\n",
              "    <tr>\n",
              "      <th>3</th>\n",
              "      <td>3</td>\n",
              "      <td>0.032472</td>\n",
              "    </tr>\n",
              "    <tr>\n",
              "      <th>4</th>\n",
              "      <td>4</td>\n",
              "      <td>0.018982</td>\n",
              "    </tr>\n",
              "  </tbody>\n",
              "</table>\n",
              "</div>\n",
              "      <button class=\"colab-df-convert\" onclick=\"convertToInteractive('df-93a369d7-668f-4341-9971-74da140cde3f')\"\n",
              "              title=\"Convert this dataframe to an interactive table.\"\n",
              "              style=\"display:none;\">\n",
              "        \n",
              "  <svg xmlns=\"http://www.w3.org/2000/svg\" height=\"24px\"viewBox=\"0 0 24 24\"\n",
              "       width=\"24px\">\n",
              "    <path d=\"M0 0h24v24H0V0z\" fill=\"none\"/>\n",
              "    <path d=\"M18.56 5.44l.94 2.06.94-2.06 2.06-.94-2.06-.94-.94-2.06-.94 2.06-2.06.94zm-11 1L8.5 8.5l.94-2.06 2.06-.94-2.06-.94L8.5 2.5l-.94 2.06-2.06.94zm10 10l.94 2.06.94-2.06 2.06-.94-2.06-.94-.94-2.06-.94 2.06-2.06.94z\"/><path d=\"M17.41 7.96l-1.37-1.37c-.4-.4-.92-.59-1.43-.59-.52 0-1.04.2-1.43.59L10.3 9.45l-7.72 7.72c-.78.78-.78 2.05 0 2.83L4 21.41c.39.39.9.59 1.41.59.51 0 1.02-.2 1.41-.59l7.78-7.78 2.81-2.81c.8-.78.8-2.07 0-2.86zM5.41 20L4 18.59l7.72-7.72 1.47 1.35L5.41 20z\"/>\n",
              "  </svg>\n",
              "      </button>\n",
              "      \n",
              "  <style>\n",
              "    .colab-df-container {\n",
              "      display:flex;\n",
              "      flex-wrap:wrap;\n",
              "      gap: 12px;\n",
              "    }\n",
              "\n",
              "    .colab-df-convert {\n",
              "      background-color: #E8F0FE;\n",
              "      border: none;\n",
              "      border-radius: 50%;\n",
              "      cursor: pointer;\n",
              "      display: none;\n",
              "      fill: #1967D2;\n",
              "      height: 32px;\n",
              "      padding: 0 0 0 0;\n",
              "      width: 32px;\n",
              "    }\n",
              "\n",
              "    .colab-df-convert:hover {\n",
              "      background-color: #E2EBFA;\n",
              "      box-shadow: 0px 1px 2px rgba(60, 64, 67, 0.3), 0px 1px 3px 1px rgba(60, 64, 67, 0.15);\n",
              "      fill: #174EA6;\n",
              "    }\n",
              "\n",
              "    [theme=dark] .colab-df-convert {\n",
              "      background-color: #3B4455;\n",
              "      fill: #D2E3FC;\n",
              "    }\n",
              "\n",
              "    [theme=dark] .colab-df-convert:hover {\n",
              "      background-color: #434B5C;\n",
              "      box-shadow: 0px 1px 3px 1px rgba(0, 0, 0, 0.15);\n",
              "      filter: drop-shadow(0px 1px 2px rgba(0, 0, 0, 0.3));\n",
              "      fill: #FFFFFF;\n",
              "    }\n",
              "  </style>\n",
              "\n",
              "      <script>\n",
              "        const buttonEl =\n",
              "          document.querySelector('#df-93a369d7-668f-4341-9971-74da140cde3f button.colab-df-convert');\n",
              "        buttonEl.style.display =\n",
              "          google.colab.kernel.accessAllowed ? 'block' : 'none';\n",
              "\n",
              "        async function convertToInteractive(key) {\n",
              "          const element = document.querySelector('#df-93a369d7-668f-4341-9971-74da140cde3f');\n",
              "          const dataTable =\n",
              "            await google.colab.kernel.invokeFunction('convertToInteractive',\n",
              "                                                     [key], {});\n",
              "          if (!dataTable) return;\n",
              "\n",
              "          const docLinkHtml = 'Like what you see? Visit the ' +\n",
              "            '<a target=\"_blank\" href=https://colab.research.google.com/notebooks/data_table.ipynb>data table notebook</a>'\n",
              "            + ' to learn more about interactive tables.';\n",
              "          element.innerHTML = '';\n",
              "          dataTable['output_type'] = 'display_data';\n",
              "          await google.colab.output.renderOutput(dataTable, element);\n",
              "          const docLink = document.createElement('div');\n",
              "          docLink.innerHTML = docLinkHtml;\n",
              "          element.appendChild(docLink);\n",
              "        }\n",
              "      </script>\n",
              "    </div>\n",
              "  </div>\n",
              "  "
            ]
          },
          "metadata": {},
          "execution_count": 69
        }
      ],
      "source": [
        "submission.head()"
      ]
    },
    {
      "cell_type": "code",
      "execution_count": null,
      "metadata": {
        "id": "LSZKuHwNGH89"
      },
      "outputs": [],
      "source": [
        "# submission.to_csv('/content/submission.csv', index=False)"
      ]
    },
    {
      "cell_type": "markdown",
      "source": [
        "Score kaggle = 0.85124"
      ],
      "metadata": {
        "id": "HP8HU-dSMe7C"
      }
    }
  ]
}