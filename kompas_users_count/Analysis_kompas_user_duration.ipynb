{
 "cells": [
  {
   "cell_type": "markdown",
   "id": "TXpM-Nv1j2qP",
   "metadata": {
    "id": "TXpM-Nv1j2qP"
   },
   "source": [
    "# Анализ использования программного обеспечения КОМПАС-3D. Ноябрь"
   ]
  },
  {
   "cell_type": "markdown",
   "id": "nGUAt2zZj2bP",
   "metadata": {
    "id": "nGUAt2zZj2bP"
   },
   "source": [
    "В настоящее время в АО \"МНИИРС\" имеется 4 сетевых лицензии ПО КОМПАС-3D. Это означает, что одновременно могут пользоваться 4 сотрудника, при этом если один из сотрудников выключит приложение, его может запустить 5 сотруднико.\n",
    "\n",
    "\n",
    "**Цель исследования**:\n",
    "1. Определить количество используемых лицензий по дням пользователями АО \"МНИИРС\" ПО КОМПАС-3D.\n",
    "2. Количество активных пользователей ПО КОМПАС-3D.\n",
    "3. Время использования, загрузки лицензии ПО КОМПАС-3D по пользователям. \n",
    "\n",
    "\n",
    "**Ход исследования**\n",
    "\n",
    "Данные о поведении пользователей получаем из файла с сервера лицензий \"SRV-KB\" sentinel hasp.\n",
    "\n",
    "Таким образом, исследование проведем в три этапа:\n",
    " 1. Обзор данных и предобработка данных.\n",
    " 2. Расчет использования лицензии по пользователям.\n",
    " 3. Итоги исследования."
   ]
  },
  {
   "cell_type": "markdown",
   "id": "rWg-JRRuj1mW",
   "metadata": {
    "id": "rWg-JRRuj1mW"
   },
   "source": [
    "## Обзор данных и предобработка данных\n",
    "\n",
    "Данные получены из *.log файлов создаваемых платформой ключей защиты Sentinel hasp. Файлы были предобратоны  в excel и скомпонованы для дальнешей обработки."
   ]
  },
  {
   "cell_type": "markdown",
   "id": "7hsN7DEtnGHc",
   "metadata": {
    "id": "7hsN7DEtnGHc"
   },
   "source": [
    "Импортируем `библиотеки` Python"
   ]
  },
  {
   "cell_type": "code",
   "execution_count": null,
   "id": "dacs_1D9Gs2D",
   "metadata": {
    "id": "dacs_1D9Gs2D"
   },
   "outputs": [],
   "source": [
    "import os\n",
    "import pandas as pd\n",
    "import datetime\n",
    "import seaborn as sns\n",
    "import matplotlib.pyplot as plt\n",
    "import sys"
   ]
  },
  {
   "cell_type": "markdown",
   "id": "tHIVzA4BnNwg",
   "metadata": {
    "id": "tHIVzA4BnNwg"
   },
   "source": [
    "Список users получен из *.log файлов. Не все имена на сервере лицензии, совпадают с реальными ФИО пользователей, для этого создадим дублирующий список users_true."
   ]
  },
  {
   "cell_type": "code",
   "execution_count": null,
   "id": "5edsOWi5MRnV",
   "metadata": {
    "id": "5edsOWi5MRnV"
   },
   "outputs": [],
   "source": [
    "# задаем пользователей КОМПАС\n",
    "users = ['Bogdanets@BULYGINA', 'Kopylenkov@KB_KOPYLENKOV', 'ershov_aa@KB_ERSHOV', 'dikin@DIKIN', 'markelova@MARKELOVA', 'kashmov@KASHMOV']\n",
    "users_true = ['Воронко', 'Копыленков', 'Ершов', 'Дыкин', 'Маркелова', 'Кашмов']"
   ]
  },
  {
   "cell_type": "markdown",
   "id": "Wv-pqwVMnhyh",
   "metadata": {
    "id": "Wv-pqwVMnhyh"
   },
   "source": [
    "В целом, представленные пользователи в списке users_true, являются активными пользователями ПО КОМПАС-3D."
   ]
  },
  {
   "cell_type": "markdown",
   "id": "sZknHyronwJ3",
   "metadata": {
    "id": "sZknHyronwJ3"
   },
   "source": [
    "Далее, требуется обработать *.log файлы, с целью взять в работу только те строки, из которых пользователь обращается или отдает лицензию ПО."
   ]
  },
  {
   "cell_type": "code",
   "execution_count": null,
   "id": "d53dbe29",
   "metadata": {
    "id": "d53dbe29"
   },
   "outputs": [],
   "source": [
    "# запускаем цикл по дате текущего анализа\n",
    "for date in range(1, 20):\n",
    "    # читаем Excel таблицу. Log- файл меняем расширение на *.csv, далее открываем через Excel,\n",
    "    # редактируем заголовки, сохраняем как книгу с расширением *.xlsx\n",
    "    logs_lodsman = pd.read_excel(f'/content/drive/My Drive/Analysis_KOMPAS_user_duration/data_logs_kompas/2021_11_{date:02d}_access.xlsx')\n",
    "    # определяем заголовки\n",
    "    logs_lodsman_columns = logs_lodsman.columns\n",
    "\n",
    "    # определяем функцию фильтрации таблицы по имени пользователя\n",
    "    def analise_logs(user):\n",
    "        global user_time\n",
    "        # проходим по заголовкам пользователи\n",
    "        for i in range(len(logs_lodsman_columns)):\n",
    "            user_time = logs_lodsman[logs_lodsman[logs_lodsman_columns[i]] == user]\n",
    "            # проверяем, если датафрейм не пустой, то стираем пустые столбы и заканчиваем функцию\n",
    "            if not user_time.empty:\n",
    "                user_time = user_time.dropna(axis=1)\n",
    "                break\n",
    "        return user_time\n",
    "\n",
    "\n",
    "    # создаем файлы с именем пользователя c уникальными значениями\n",
    "    for files in range(len(users)):\n",
    "        # создаем временный файл с юзером\n",
    "        analise_logs(users[files]).to_csv(f'/content/drive/My Drive/Analysis_KOMPAS_user_duration/{users[files]}.csv', index=False)\n",
    "        # читаем временный файл\n",
    "        user = pd.read_csv(f'/content/drive/My Drive/Analysis_KOMPAS_user_duration/{users[files]}.csv')\n",
    "        # фильтр по нужным столбцам, заголовкам\n",
    "        user = user.loc[:, ['time', 'name', 'what']]\n",
    "        # удаляем дупликаты\n",
    "        user = user.drop_duplicates().reset_index(drop=True)\n",
    "        # сохраняем набор данных для анализа по пользователю на одну дату\n",
    "        user.to_csv(f'/content/drive/My Drive/Analysis_KOMPAS_user_duration/Out/{users[files]}_filtered_{date:02d}_11_2021.csv', index=False)\n",
    "        # удаляем временный файл с юзером\n",
    "        #os.remove(os.path.join(os.path.abspath(os.path.dirname(__file__)), f'{users[files]}.csv'))\n",
    "        # print(user)"
   ]
  },
  {
   "cell_type": "markdown",
   "id": "he1q-XhfoKcv",
   "metadata": {
    "id": "he1q-XhfoKcv"
   },
   "source": [
    "##Расчет использования лицензии по пользователям\n",
    "\n",
    "Определяем функцию для обработки таблиц с данными обращения пользователей на получения и отдачи лицензии ПО КОМПАС-3D."
   ]
  },
  {
   "cell_type": "code",
   "execution_count": null,
   "id": "710262f2",
   "metadata": {
    "id": "710262f2"
   },
   "outputs": [],
   "source": [
    "def time_long(user, user_true):\n",
    "    access_long = {} # словарь для хранения данных по продолжительности\n",
    "    delta_list = [] # список со всеми данными по времени использования\n",
    "    delta_data = [] # список с датами врмени\n",
    "    global df_date_duration\n",
    "    global df_date_duration_count\n",
    "    for date in range(1, 20):\n",
    "        # читаем каждый файл с данным по датам\n",
    "        data_user_lodsman = pd.read_csv(f'/content/drive/My Drive/Analysis_KOMPAS_user_duration/Out/{user}_filtered_{date:02d}_11_2021.csv')\n",
    "        # задаем начальное время использования компас\n",
    "        delta = datetime.timedelta(days=0,\n",
    "                                   seconds=0,\n",
    "                                   minutes=0,\n",
    "                                   hours=0)\n",
    "        # проходим по таблице считая, сколько пользователй использовал нон стоп КОМПАС\n",
    "        for i in range(len(data_user_lodsman)):\n",
    "            if data_user_lodsman['what'][i] == '/api/loginex':\n",
    "                try:\n",
    "                    delta += pd.to_datetime(data_user_lodsman['time'][i+1]) - pd.to_datetime(data_user_lodsman['time'][i])\n",
    "                except BaseException:\n",
    "                    delta += datetime.timedelta(minutes=1)\n",
    "        # добавляем в списки даты и время использования в минутах\n",
    "        delta_list.append(delta.total_seconds()/60)\n",
    "        delta_data.append(f'{date:02d}')\n",
    "\n",
    "    # добавляем в словарь списки из продолжительности и даты\n",
    "    access_long['date'] = delta_data\n",
    "    access_long['duration'] = delta_list\n",
    "\n",
    "    # получаем датафрейм с датой и продолжнительости\n",
    "    df_date_duration = pd.DataFrame(access_long)\n",
    "    #df_date_duration_count = df_date_duration\n",
    "    #df_date_duration = df_date_duration.loc[[0, 1, 2, 7, 9, 10, 11, 14, 15, 16, 17, 18]]\n",
    "\n",
    "\n",
    "    # строим график\n",
    "    sns.barplot(x = df_date_duration['date'], y = df_date_duration['duration'])\n",
    "    date_duration_sum = round(df_date_duration['duration'].sum(), 1)\n",
    "    print(f'Сводная информация по пользователю: {user_true}.')\n",
    "    print(f'Общее время использования КОМПАС-3D: {date_duration_sum} минут, или {round(date_duration_sum / 60, 2)} часов.')\n",
    "    print(f'\\n\\n График по дням\\n')\n",
    "    plt.show()"
   ]
  },
  {
   "cell_type": "markdown",
   "id": "yx10rc3QoaAP",
   "metadata": {
    "id": "yx10rc3QoaAP"
   },
   "source": [
    "Строим график для пользователя Воронко:"
   ]
  },
  {
   "cell_type": "code",
   "execution_count": null,
   "id": "xPGe0FAUd3i9",
   "metadata": {
    "colab": {
     "base_uri": "https://localhost:8080/",
     "height": 381
    },
    "id": "xPGe0FAUd3i9",
    "outputId": "03d16c49-27c1-40f8-c308-ea650a36efa5"
   },
   "outputs": [
    {
     "name": "stdout",
     "output_type": "stream",
     "text": [
      "Сводная информация по пользователю: Воронко.\n",
      "Общее время использования КОМПАС-3D: 1184.1 минут, или 19.74 часов.\n",
      "\n",
      "\n",
      " График по дням\n",
      "\n"
     ]
    },
    {
     "data": {
      "image/png": "[encoded data removed]",
      "text/plain": [
       "<Figure size 432x288 with 1 Axes>"
      ]
     },
     "metadata": {
      "needs_background": "light"
     },
     "output_type": "display_data"
    }
   ],
   "source": [
    "#вызываем функцию построения графика для пользователя\n",
    "time_long(users[0], users_true[0])\n",
    "user_0 = df_date_duration['duration'].loc[[0, 1, 2, 7, 9, 10, 11, 14, 15, 16, 17, 18]]\n",
    "user_0_count = df_date_duration['duration']"
   ]
  },
  {
   "cell_type": "markdown",
   "id": "JRNjjWyNofBW",
   "metadata": {
    "id": "JRNjjWyNofBW"
   },
   "source": [
    "Строим график для пользователя Воронко:"
   ]
  },
  {
   "cell_type": "code",
   "execution_count": null,
   "id": "jsWqkOmYd3dt",
   "metadata": {
    "colab": {
     "base_uri": "https://localhost:8080/",
     "height": 381
    },
    "id": "jsWqkOmYd3dt",
    "outputId": "f77b639e-5291-4c68-c366-263e47a338ac"
   },
   "outputs": [
    {
     "name": "stdout",
     "output_type": "stream",
     "text": [
      "Сводная информация по пользователю: Копыленков.\n",
      "Общее время использования КОМПАС-3D: 1148.7 минут, или 19.14 часов.\n",
      "\n",
      "\n",
      " График по дням\n",
      "\n"
     ]
    },
    {
     "data": {
      "image/png": "[encoded data removed]",
      "text/plain": [
       "<Figure size 432x288 with 1 Axes>"
      ]
     },
     "metadata": {
      "needs_background": "light"
     },
     "output_type": "display_data"
    }
   ],
   "source": [
    "#вызываем функцию построения графика для пользователя\n",
    "time_long(users[1], users_true[1])\n",
    "user_1 = df_date_duration['duration'].loc[[0, 1, 2, 7, 9, 10, 11, 14, 15, 16, 17, 18]]\n",
    "user_1_count = df_date_duration['duration']"
   ]
  },
  {
   "cell_type": "markdown",
   "id": "kUTHX0Q2ogwe",
   "metadata": {
    "id": "kUTHX0Q2ogwe"
   },
   "source": [
    "Строим график для пользователя Воронко:"
   ]
  },
  {
   "cell_type": "code",
   "execution_count": null,
   "id": "SAC53JQed3X8",
   "metadata": {
    "colab": {
     "base_uri": "https://localhost:8080/",
     "height": 381
    },
    "id": "SAC53JQed3X8",
    "outputId": "2853da0d-132f-43f9-81cd-17f2169a7769"
   },
   "outputs": [
    {
     "name": "stdout",
     "output_type": "stream",
     "text": [
      "Сводная информация по пользователю: Ершов.\n",
      "Общее время использования КОМПАС-3D: 2388.3 минут, или 39.8 часов.\n",
      "\n",
      "\n",
      " График по дням\n",
      "\n"
     ]
    },
    {
     "data": {
      "image/png": "[encoded data removed]",
      "text/plain": [
       "<Figure size 432x288 with 1 Axes>"
      ]
     },
     "metadata": {
      "needs_background": "light"
     },
     "output_type": "display_data"
    }
   ],
   "source": [
    "#вызываем функцию построения графика для пользователя\n",
    "time_long(users[2], users_true[2])\n",
    "user_2 = df_date_duration['duration'].loc[[0, 1, 2, 7, 9, 10, 11, 14, 15, 16, 17, 18]]\n",
    "user_2_count = df_date_duration['duration']"
   ]
  },
  {
   "cell_type": "markdown",
   "id": "hzDwJr5Zohxl",
   "metadata": {
    "id": "hzDwJr5Zohxl"
   },
   "source": [
    "Строим график для пользователя Дыкин:"
   ]
  },
  {
   "cell_type": "code",
   "execution_count": null,
   "id": "ZvfKRf3Yd3SE",
   "metadata": {
    "colab": {
     "base_uri": "https://localhost:8080/",
     "height": 381
    },
    "id": "ZvfKRf3Yd3SE",
    "outputId": "ce9d607a-b114-43bb-cdba-001758ba8f71"
   },
   "outputs": [
    {
     "name": "stdout",
     "output_type": "stream",
     "text": [
      "Сводная информация по пользователю: Дыкин.\n",
      "Общее время использования КОМПАС-3D: 621.0 минут, или 10.35 часов.\n",
      "\n",
      "\n",
      " График по дням\n",
      "\n"
     ]
    },
    {
     "data": {
      "image/png": "[encoded data removed]",
      "text/plain": [
       "<Figure size 432x288 with 1 Axes>"
      ]
     },
     "metadata": {
      "needs_background": "light"
     },
     "output_type": "display_data"
    }
   ],
   "source": [
    "#вызываем функцию построения графика для пользователя\n",
    "time_long(users[3], users_true[3])\n",
    "user_3 = df_date_duration['duration'].loc[[0, 1, 2, 7, 9, 10, 11, 14, 15, 16, 17, 18]]\n",
    "user_3_count = df_date_duration['duration']"
   ]
  },
  {
   "cell_type": "markdown",
   "id": "GhRYoobeok-f",
   "metadata": {
    "id": "GhRYoobeok-f"
   },
   "source": [
    "Строим график для пользователя Маркелова:"
   ]
  },
  {
   "cell_type": "code",
   "execution_count": null,
   "id": "eNVPDijod3K0",
   "metadata": {
    "colab": {
     "base_uri": "https://localhost:8080/",
     "height": 382
    },
    "id": "eNVPDijod3K0",
    "outputId": "cb0ba814-e3eb-4bfa-ec88-3d6e0e14e281"
   },
   "outputs": [
    {
     "name": "stdout",
     "output_type": "stream",
     "text": [
      "Сводная информация по пользователю: Маркелова.\n",
      "Общее время использования КОМПАС-3D: 14.0 минут, или 0.23 часов.\n",
      "\n",
      "\n",
      " График по дням\n",
      "\n"
     ]
    },
    {
     "data": {
      "image/png": "[encoded data removed]",
      "text/plain": [
       "<Figure size 432x288 with 1 Axes>"
      ]
     },
     "metadata": {
      "needs_background": "light"
     },
     "output_type": "display_data"
    }
   ],
   "source": [
    "#вызываем функцию построения графика для пользователя\n",
    "time_long(users[4], users_true[4])\n",
    "user_4 = df_date_duration['duration'].loc[[0, 1, 2, 7, 9, 10, 11, 14, 15, 16, 17, 18]]\n",
    "user_4_count = df_date_duration['duration']"
   ]
  },
  {
   "cell_type": "markdown",
   "id": "HRXFMnqLooiF",
   "metadata": {
    "id": "HRXFMnqLooiF"
   },
   "source": [
    "Строим график для пользователя Кашмов:"
   ]
  },
  {
   "cell_type": "code",
   "execution_count": null,
   "id": "xQX6cupad3Ds",
   "metadata": {
    "colab": {
     "base_uri": "https://localhost:8080/",
     "height": 381
    },
    "id": "xQX6cupad3Ds",
    "outputId": "ff577deb-00ce-4299-e5d1-70af01f052f2"
   },
   "outputs": [
    {
     "name": "stdout",
     "output_type": "stream",
     "text": [
      "Сводная информация по пользователю: Кашмов.\n",
      "Общее время использования КОМПАС-3D: 314.6 минут, или 5.24 часов.\n",
      "\n",
      "\n",
      " График по дням\n",
      "\n"
     ]
    },
    {
     "data": {
      "image/png": "[encoded data removed]",
      "text/plain": [
       "<Figure size 432x288 with 1 Axes>"
      ]
     },
     "metadata": {
      "needs_background": "light"
     },
     "output_type": "display_data"
    }
   ],
   "source": [
    "#вызываем функцию построения графика для пользователя\n",
    "time_long(users[5], users_true[5])\n",
    "user_5 = df_date_duration['duration'].loc[[0, 1, 2, 7, 9, 10, 11, 14, 15, 16, 17, 18]]\n",
    "user_5_count = df_date_duration['duration']"
   ]
  },
  {
   "cell_type": "markdown",
   "id": "s8Wp6_3Qoq3d",
   "metadata": {
    "id": "s8Wp6_3Qoq3d"
   },
   "source": [
    "Строим график общего времени использования ПО КОМПАС-3D:"
   ]
  },
  {
   "cell_type": "code",
   "execution_count": null,
   "id": "-BVTnS1hcg-p",
   "metadata": {
    "colab": {
     "base_uri": "https://localhost:8080/",
     "height": 364
    },
    "id": "-BVTnS1hcg-p",
    "outputId": "f8324a4a-dda5-40ef-f201-64e313717e76"
   },
   "outputs": [
    {
     "name": "stdout",
     "output_type": "stream",
     "text": [
      "Сводная информация по всем пользователям КОМПАС-3D.\n",
      "Общее время использования КОМПАС-3D: 5564.2 минут, или 92.74 часов\n",
      "\n",
      "\n",
      " График время использования по дням\n"
     ]
    },
    {
     "data": {
      "image/png": "[encoded data removed]",
      "text/plain": [
       "<Figure size 432x288 with 1 Axes>"
      ]
     },
     "metadata": {
      "needs_background": "light"
     },
     "output_type": "display_data"
    }
   ],
   "source": [
    "#строим общий график для всех пользователей. Время использования\n",
    "data_table = df_date_duration['date']\n",
    "data_table = data_table.loc[[0, 1, 2, 7, 9, 10, 11, 14, 15, 16, 17, 18]]\n",
    "sum_all_users = user_0 + user_1 + user_2 + user_3 + user_4 + user_5\n",
    "table_all_users = pd.concat([data_table,sum_all_users], axis=1)\n",
    "sns.barplot(x=table_all_users['date'], y=table_all_users['duration'])\n",
    "date_duration_sum = table_all_users['duration'].sum()\n",
    "print(f'Сводная информация по всем пользователям КОМПАС-3D.')\n",
    "print(f'Общее время использования КОМПАС-3D: {round(date_duration_sum, 2)} минут, или {round(date_duration_sum / 60, 2)} часов')\n",
    "print(f'\\n\\n График время использования по дням')\n",
    "plt.show()"
   ]
  },
  {
   "cell_type": "markdown",
   "id": "1zStLMW5owR9",
   "metadata": {
    "id": "1zStLMW5owR9"
   },
   "source": [
    "Далее, определим количество активных пользователей по дням"
   ]
  },
  {
   "cell_type": "code",
   "execution_count": null,
   "id": "P9UX2Yk2SZ3d",
   "metadata": {
    "id": "P9UX2Yk2SZ3d"
   },
   "outputs": [],
   "source": [
    "# Определим функцию для изменении даты в \"1\", т.е. елси пользователь запускал компас на время более, чем 10 минут, мы говорим, что он пользовался КОМПАСОМ\n",
    "def all_users(users_all):\n",
    "  \n",
    "  for i in range(len(list(users_all))):\n",
    "    if users_all[i] < 10:\n",
    "      users_all[i] = 0\n",
    "    else:\n",
    "      users_all[i] = 1\n",
    "  users_all.loc[[0, 1, 2, 7, 9, 10, 11, 14, 15, 16, 17, 18]]"
   ]
  },
  {
   "cell_type": "code",
   "execution_count": null,
   "id": "Dqn_MY0BWm2E",
   "metadata": {
    "id": "Dqn_MY0BWm2E"
   },
   "outputs": [],
   "source": [
    "# заменяем данные с даты на 1 для всех пользователей\n",
    "all_users(user_0_count)\n",
    "all_users(user_1_count)\n",
    "all_users(user_2_count)\n",
    "all_users(user_3_count)\n",
    "all_users(user_4_count)\n",
    "all_users(user_5_count)"
   ]
  },
  {
   "cell_type": "markdown",
   "id": "QEZFAXFwo1DO",
   "metadata": {
    "id": "QEZFAXFwo1DO"
   },
   "source": [
    "Строим график количества активных пользователей"
   ]
  },
  {
   "cell_type": "code",
   "execution_count": null,
   "id": "jcPhDWfxYCxz",
   "metadata": {
    "colab": {
     "base_uri": "https://localhost:8080/",
     "height": 364
    },
    "id": "jcPhDWfxYCxz",
    "outputId": "712b60e5-f27d-4614-e0fb-2d5f4e612883"
   },
   "outputs": [
    {
     "name": "stdout",
     "output_type": "stream",
     "text": [
      "Сводная информация по всем пользователям КОМПАС\n",
      "\n",
      "\n",
      " График показывающий сколько пользователей пользуются компасом не менее 10 минут\n",
      "\n"
     ]
    },
    {
     "data": {
      "image/png": "[encoded data removed]",
      "text/plain": [
       "<Figure size 432x288 with 1 Axes>"
      ]
     },
     "metadata": {
      "needs_background": "light"
     },
     "output_type": "display_data"
    }
   ],
   "source": [
    "#строим общий график кол-во пользователей в день\n",
    "sum_all_users = user_0_count + user_1_count + user_2_count + user_3_count + user_4_count + user_5_count\n",
    "table_all_users = pd.concat([data_table,sum_all_users], axis=1)\n",
    "sns.barplot(x=table_all_users['date'], y=table_all_users['duration'])\n",
    "print(f'Сводная информация по всем пользователям КОМПАС')\n",
    "print(f'\\n\\n График показывающий сколько пользователей пользуются компасом не менее 10 минут\\n')\n",
    "plt.show()"
   ]
  },
  {
   "cell_type": "markdown",
   "id": "DWpGR8ATrMHx",
   "metadata": {
    "id": "DWpGR8ATrMHx"
   },
   "source": [
    "Определим медианное и среднее число пользователей ПО КОМПАС-3D"
   ]
  },
  {
   "cell_type": "code",
   "execution_count": null,
   "id": "TTNVwQdSpZlT",
   "metadata": {
    "colab": {
     "base_uri": "https://localhost:8080/"
    },
    "id": "TTNVwQdSpZlT",
    "outputId": "966ad79a-6b7a-486f-b465-743faaf0179f"
   },
   "outputs": [
    {
     "name": "stdout",
     "output_type": "stream",
     "text": [
      "Медианное число пользователей ПО КОМПАС-3D: 2.00\n",
      "Среднее число пользователей ПО КОМПАС-3D: 1.84\n"
     ]
    }
   ],
   "source": [
    "median_users = table_all_users['duration'].median()\n",
    "print(f'Медианное число пользователей ПО КОМПАС-3D: {median_users:.02f}')\n",
    "mean_users = mean_users = table_all_users['duration'].mean()\n",
    "print(f'Среднее число пользователей ПО КОМПАС-3D: {mean_users:.02f}')"
   ]
  },
  {
   "cell_type": "markdown",
   "id": "OlLqcaJXo5Ol",
   "metadata": {
    "id": "OlLqcaJXo5Ol"
   },
   "source": [
    "## Итоги исследования\n",
    "\n",
    "\n",
    "Как мы видим активность пользователей не равномерна. \n",
    "Максимальное число активных пользователей: 5 человек.\n",
    "\n",
    "Медианное число пользователей: 2 человека.\n",
    "Среднее число пользователей: 1.84 человека.\n",
    "\n",
    "\n",
    "Исходя из количества пользователей используемых ПО КОМПАС-3D можно сделать вывод, что количество требуемых лицензий: 4 штуки."
   ]
  }
 ],
 "metadata": {
  "colab": {
   "collapsed_sections": [],
   "name": "Analysis_kompas_user_duration.ipynb",
   "provenance": [],
   "toc_visible": true
  },
  "kernelspec": {
   "display_name": "Python 3",
   "language": "python",
   "name": "python3"
  },
  "language_info": {
   "codemirror_mode": {
    "name": "ipython",
    "version": 3
   },
   "file_extension": ".py",
   "mimetype": "text/x-python",
   "name": "python",
   "nbconvert_exporter": "python",
   "pygments_lexer": "ipython3",
   "version": "3.8.8"
  },
  "toc": {
   "base_numbering": 1,
   "nav_menu": {},
   "number_sections": true,
   "sideBar": true,
   "skip_h1_title": false,
   "title_cell": "Table of Contents",
   "title_sidebar": "Contents",
   "toc_cell": false,
   "toc_position": {},
   "toc_section_display": true,
   "toc_window_display": true
  }
 },
 "nbformat": 4,
 "nbformat_minor": 5
}
