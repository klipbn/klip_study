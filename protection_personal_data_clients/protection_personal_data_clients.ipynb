{
 "cells": [
  {
   "cell_type": "markdown",
   "metadata": {
    "id": "lpvtiK5bbHBC"
   },
   "source": [
    "# Защита персональных данных клиентов"
   ]
  },
  {
   "cell_type": "markdown",
   "metadata": {
    "id": "__BtzRN0bHBD"
   },
   "source": [
    "Требуется защитить данные клиентов страховой компании.   \n",
    "Для этого мы разработаем метод преобразования данных, для усложнения восстановления персональной информации, с обоснованием выбранного метода.  \n",
    "При этом наше преобразование не ухудшит качество моделей машинного обучения."
   ]
  },
  {
   "cell_type": "markdown",
   "metadata": {
    "id": "5e5Lm1OKbHBE"
   },
   "source": [
    "## Загрузка данных"
   ]
  },
  {
   "cell_type": "code",
   "execution_count": 1,
   "metadata": {
    "id": "dBwSeKzybHBE"
   },
   "outputs": [],
   "source": [
    "import pandas as pd\n",
    "import seaborn as sns\n",
    "import matplotlib.pyplot as plt\n",
    "import numpy as np\n",
    "from sklearn.linear_model import LinearRegression\n",
    "from sklearn.metrics import r2_score"
   ]
  },
  {
   "cell_type": "code",
   "execution_count": 2,
   "metadata": {
    "id": "7pUtQ4isbI9s"
   },
   "outputs": [],
   "source": [
    "df = pd.read_csv('/datasets/insurance.csv')"
   ]
  },
  {
   "cell_type": "code",
   "execution_count": 3,
   "metadata": {
    "colab": {
     "base_uri": "https://localhost:8080/",
     "height": 206
    },
    "id": "0DEnmaUBbI7y",
    "outputId": "41b01147-3d4e-43a4-85f5-5de7cb4af7c5"
   },
   "outputs": [
    {
     "data": {
      "text/html": [
       "<div>\n",
       "<style scoped>\n",
       "    .dataframe tbody tr th:only-of-type {\n",
       "        vertical-align: middle;\n",
       "    }\n",
       "\n",
       "    .dataframe tbody tr th {\n",
       "        vertical-align: top;\n",
       "    }\n",
       "\n",
       "    .dataframe thead th {\n",
       "        text-align: right;\n",
       "    }\n",
       "</style>\n",
       "<table border=\"1\" class=\"dataframe\">\n",
       "  <thead>\n",
       "    <tr style=\"text-align: right;\">\n",
       "      <th></th>\n",
       "      <th>Пол</th>\n",
       "      <th>Возраст</th>\n",
       "      <th>Зарплата</th>\n",
       "      <th>Члены семьи</th>\n",
       "      <th>Страховые выплаты</th>\n",
       "    </tr>\n",
       "  </thead>\n",
       "  <tbody>\n",
       "    <tr>\n",
       "      <th>0</th>\n",
       "      <td>1</td>\n",
       "      <td>41.0</td>\n",
       "      <td>49600.0</td>\n",
       "      <td>1</td>\n",
       "      <td>0</td>\n",
       "    </tr>\n",
       "    <tr>\n",
       "      <th>1</th>\n",
       "      <td>0</td>\n",
       "      <td>46.0</td>\n",
       "      <td>38000.0</td>\n",
       "      <td>1</td>\n",
       "      <td>1</td>\n",
       "    </tr>\n",
       "    <tr>\n",
       "      <th>2</th>\n",
       "      <td>0</td>\n",
       "      <td>29.0</td>\n",
       "      <td>21000.0</td>\n",
       "      <td>0</td>\n",
       "      <td>0</td>\n",
       "    </tr>\n",
       "    <tr>\n",
       "      <th>3</th>\n",
       "      <td>0</td>\n",
       "      <td>21.0</td>\n",
       "      <td>41700.0</td>\n",
       "      <td>2</td>\n",
       "      <td>0</td>\n",
       "    </tr>\n",
       "    <tr>\n",
       "      <th>4</th>\n",
       "      <td>1</td>\n",
       "      <td>28.0</td>\n",
       "      <td>26100.0</td>\n",
       "      <td>0</td>\n",
       "      <td>0</td>\n",
       "    </tr>\n",
       "  </tbody>\n",
       "</table>\n",
       "</div>"
      ],
      "text/plain": [
       "   Пол  Возраст  Зарплата  Члены семьи  Страховые выплаты\n",
       "0    1     41.0   49600.0            1                  0\n",
       "1    0     46.0   38000.0            1                  1\n",
       "2    0     29.0   21000.0            0                  0\n",
       "3    0     21.0   41700.0            2                  0\n",
       "4    1     28.0   26100.0            0                  0"
      ]
     },
     "execution_count": 3,
     "metadata": {},
     "output_type": "execute_result"
    }
   ],
   "source": [
    "df.head()"
   ]
  },
  {
   "cell_type": "code",
   "execution_count": 4,
   "metadata": {
    "colab": {
     "base_uri": "https://localhost:8080/"
    },
    "id": "K_hO0nC7bI5-",
    "outputId": "eba88d1d-297e-4e20-bce9-34fc170da6da"
   },
   "outputs": [
    {
     "name": "stdout",
     "output_type": "stream",
     "text": [
      "<class 'pandas.core.frame.DataFrame'>\n",
      "RangeIndex: 5000 entries, 0 to 4999\n",
      "Data columns (total 5 columns):\n",
      " #   Column             Non-Null Count  Dtype  \n",
      "---  ------             --------------  -----  \n",
      " 0   Пол                5000 non-null   int64  \n",
      " 1   Возраст            5000 non-null   float64\n",
      " 2   Зарплата           5000 non-null   float64\n",
      " 3   Члены семьи        5000 non-null   int64  \n",
      " 4   Страховые выплаты  5000 non-null   int64  \n",
      "dtypes: float64(2), int64(3)\n",
      "memory usage: 195.4 KB\n"
     ]
    }
   ],
   "source": [
    "df.info()"
   ]
  },
  {
   "cell_type": "code",
   "execution_count": 5,
   "metadata": {
    "id": "ej3iinc7bI3_"
   },
   "outputs": [],
   "source": [
    "df['Возраст'] = df['Возраст'].astype('int')"
   ]
  },
  {
   "cell_type": "code",
   "execution_count": 6,
   "metadata": {
    "colab": {
     "base_uri": "https://localhost:8080/",
     "height": 381
    },
    "id": "JAejRXfhbI16",
    "outputId": "bcd5d07e-a9dd-46d6-ac02-3bd43a97109b"
   },
   "outputs": [
    {
     "data": {
      "image/png": "[encoded data removed]",
      "text/plain": [
       "<Figure size 360x360 with 1 Axes>"
      ]
     },
     "metadata": {},
     "output_type": "display_data"
    }
   ],
   "source": [
    "sns.set(rc={'figure.figsize':(15, 5)})\n",
    "sns.displot(data=df, x='Возраст', kde=True, bins=24)\n",
    "plt.grid(color='grey', linestyle='-', linewidth=0.8, alpha=0.8)\n",
    "plt.title('Распределение возраста')\n",
    "plt.ylabel('Количество')\n",
    "plt.show()"
   ]
  },
  {
   "cell_type": "code",
   "execution_count": 7,
   "metadata": {
    "colab": {
     "base_uri": "https://localhost:8080/"
    },
    "id": "OlejX1Wgd8nI",
    "outputId": "f5ae1dd0-b3bd-447c-915b-10684e4bbe32"
   },
   "outputs": [
    {
     "data": {
      "text/plain": [
       "count    5000.000000\n",
       "mean       30.952800\n",
       "std         8.440807\n",
       "min        18.000000\n",
       "25%        24.000000\n",
       "50%        30.000000\n",
       "75%        37.000000\n",
       "max        65.000000\n",
       "Name: Возраст, dtype: float64"
      ]
     },
     "execution_count": 7,
     "metadata": {},
     "output_type": "execute_result"
    }
   ],
   "source": [
    "df['Возраст'].describe()"
   ]
  },
  {
   "cell_type": "code",
   "execution_count": 8,
   "metadata": {
    "colab": {
     "base_uri": "https://localhost:8080/",
     "height": 381
    },
    "id": "DqlBejJ2bpgD",
    "outputId": "38d6e44c-812d-4553-ec4d-2e24a1a7cf55"
   },
   "outputs": [
    {
     "data": {
      "image/png": "[encoded data removed]",
      "text/plain": [
       "<Figure size 360x360 with 1 Axes>"
      ]
     },
     "metadata": {},
     "output_type": "display_data"
    }
   ],
   "source": [
    "sns.set(rc={'figure.figsize':(15, 5)})\n",
    "sns.displot(data=df, x='Зарплата', kde=True, bins=24, )\n",
    "plt.grid(color='grey', linestyle='-', linewidth=0.8, alpha=0.8)\n",
    "plt.title('Распределение зарплаты')\n",
    "plt.ylabel('Количество')\n",
    "plt.show()"
   ]
  },
  {
   "cell_type": "code",
   "execution_count": 9,
   "metadata": {
    "colab": {
     "base_uri": "https://localhost:8080/"
    },
    "id": "AYO5ehLEbpep",
    "outputId": "35baa6d8-0c06-40a0-cd2e-41fd54d655c6"
   },
   "outputs": [
    {
     "data": {
      "text/plain": [
       "count     5000.000000\n",
       "mean     39916.360000\n",
       "std       9900.083569\n",
       "min       5300.000000\n",
       "25%      33300.000000\n",
       "50%      40200.000000\n",
       "75%      46600.000000\n",
       "max      79000.000000\n",
       "Name: Зарплата, dtype: float64"
      ]
     },
     "execution_count": 9,
     "metadata": {},
     "output_type": "execute_result"
    }
   ],
   "source": [
    "df['Зарплата'].describe()"
   ]
  },
  {
   "cell_type": "code",
   "execution_count": 10,
   "metadata": {
    "colab": {
     "base_uri": "https://localhost:8080/"
    },
    "id": "0diCfcbtbpdj",
    "outputId": "cf742036-9912-48e6-f674-6b52f9834126"
   },
   "outputs": [
    {
     "data": {
      "text/plain": [
       "0    2505\n",
       "1    2495\n",
       "Name: Пол, dtype: int64"
      ]
     },
     "execution_count": 10,
     "metadata": {},
     "output_type": "execute_result"
    }
   ],
   "source": [
    "df['Пол'].value_counts()"
   ]
  },
  {
   "cell_type": "code",
   "execution_count": 11,
   "metadata": {
    "colab": {
     "base_uri": "https://localhost:8080/"
    },
    "id": "3JpIcnQTbpZ1",
    "outputId": "69722d3f-b95d-42cb-c9b2-612ef52f4e17"
   },
   "outputs": [
    {
     "data": {
      "text/plain": [
       "1    1814\n",
       "0    1513\n",
       "2    1071\n",
       "3     439\n",
       "4     124\n",
       "5      32\n",
       "6       7\n",
       "Name: Члены семьи, dtype: int64"
      ]
     },
     "execution_count": 11,
     "metadata": {},
     "output_type": "execute_result"
    }
   ],
   "source": [
    "df['Члены семьи'].value_counts()"
   ]
  },
  {
   "cell_type": "code",
   "execution_count": 12,
   "metadata": {
    "colab": {
     "base_uri": "https://localhost:8080/"
    },
    "id": "LSm9E8UubpXo",
    "outputId": "df8e1a14-2f3e-4403-a55e-48bbe6d51783"
   },
   "outputs": [
    {
     "data": {
      "text/plain": [
       "0    4436\n",
       "1     423\n",
       "2     115\n",
       "3      18\n",
       "4       7\n",
       "5       1\n",
       "Name: Страховые выплаты, dtype: int64"
      ]
     },
     "execution_count": 12,
     "metadata": {},
     "output_type": "execute_result"
    }
   ],
   "source": [
    "df['Страховые выплаты'].value_counts()"
   ]
  },
  {
   "cell_type": "code",
   "execution_count": null,
   "metadata": {},
   "outputs": [],
   "source": []
  },
  {
   "cell_type": "markdown",
   "metadata": {
    "id": "sVK_GBrjbHBF"
   },
   "source": [
    "## Умножение матриц"
   ]
  },
  {
   "cell_type": "markdown",
   "metadata": {
    "id": "9HN2xPWUbHBH"
   },
   "source": [
    "Обозначения:\n",
    "\n",
    "- $X$ — матрица признаков (нулевой столбец состоит из единиц)\n",
    "\n",
    "- $y$ — вектор целевого признака\n",
    "\n",
    "- $P$ — матрица, на которую умножаются признаки\n",
    "\n",
    "- $w$ — вектор весов линейной регрессии (нулевой элемент равен сдвигу)"
   ]
  },
  {
   "cell_type": "markdown",
   "metadata": {
    "id": "qtmiAPXebHBH"
   },
   "source": [
    "Предсказания:\n",
    "\n",
    "$$\n",
    "a = Xw\n",
    "$$\n",
    "\n",
    "Задача обучения:\n",
    "\n",
    "$$\n",
    "w = \\arg\\min_w MSE(Xw, y)\n",
    "$$\n",
    "\n",
    "Формула обучения:\n",
    "\n",
    "$$\n",
    "w = (X^T X)^{-1} X^T y\n",
    "$$"
   ]
  },
  {
   "cell_type": "markdown",
   "metadata": {
    "id": "WDkeryNPbHBI"
   },
   "source": [
    "**Вопрос:** Признаки умножают на обратимую матрицу. Изменится ли качество линейной регрессии?\n",
    "\n",
    "\n",
    "**Обоснование:**   \n",
    "Формула обучения:\n",
    "\n",
    "$$\n",
    "w_{2} = ((XZ)^T XZ)^{-1} (XZ)^T y \n",
    "$$\n",
    "\n",
    "Расскроем скобки. Для этого воспользуемся следующими свойствами матриц:\n",
    "1. $(AB)^T=B^TA^T$\n",
    "2. $(AB)^{-1} = B^{-1}A^{-1}$ - данное равенство верно только для двух квадратных обратимых матриц\n",
    "3. $AA^{-1}=A^{-1}A=E$, где $E$ - единичная матрица.\n",
    "4. $AE=EA=A$\n",
    "\n",
    "$$\n",
    "w_{2} = (Z^T X^T XZ)^{-1} Z^T X^T y = (X^T (XZ))^{-1} (Z^T)^{-1} Z^T X^T y = Z^{-1} (X^T X)^{-1} X^T y = Z^{-1} w\n",
    "$$\n",
    "\n",
    "Предсказания:\n",
    "\n",
    "$$\n",
    "a_{2} = X Z w_{2} = X Z Z^{-1} w = X w = a\n",
    "$$\n",
    "\n",
    "**Ответ:** Не изменится.\n",
    "\n",
    "\n",
    "***\n",
    "Преобразования имеют силу только если матрица признаков обратима."
   ]
  },
  {
   "cell_type": "markdown",
   "metadata": {
    "id": "O1EHK1q9bHBJ"
   },
   "source": [
    "## Алгоритм преобразования"
   ]
  },
  {
   "cell_type": "markdown",
   "metadata": {
    "id": "50fSEUo1bHBJ"
   },
   "source": [
    "**Алгоритм**\n",
    "\n",
    "Имеются данные пользовалелей: $X$.\n",
    "\n",
    "Преобразуем данные путём умножения матрицы признаков $X$ на обратимую матрицу $Z$. Получим преобразованную матрицу $XZ$.\n",
    "\n",
    "Обучим модель линейной регрессии на исходных данных: $w = Inv(X) * y$\\\n",
    "Сделаем предсказания на исодных данных: $a = Xw$\n",
    "\n",
    "Обучим модель на преобразованных данных: $wZ = Inv(Z) * w$\\\n",
    "Сделаем предсказания на преобразованных данных: $a_{2} = X_{2}wP$"
   ]
  },
  {
   "cell_type": "markdown",
   "metadata": {
    "id": "YxZdW2EibHBK"
   },
   "source": [
    "**Обоснование**\n",
    "\n",
    "Если всё правильно, то при преобразовании матрицы путём умножения её на обратимую матрицу, мы можем получить одинаковые результаты на обоих выборках с небольшой погрешностью."
   ]
  },
  {
   "cell_type": "markdown",
   "metadata": {
    "id": "psBwaDtHbHBK"
   },
   "source": [
    "## Проверка алгоритма"
   ]
  },
  {
   "cell_type": "markdown",
   "metadata": {
    "id": "j7kyh1bBbHBK"
   },
   "source": [
    "Проведем операции согласно алгоритма:"
   ]
  },
  {
   "cell_type": "code",
   "execution_count": 13,
   "metadata": {
    "id": "nckQveEB8_fd"
   },
   "outputs": [],
   "source": [
    "features = df.drop(['Страховые выплаты'], axis='columns').values\n",
    "target = df['Страховые выплаты'].values"
   ]
  },
  {
   "cell_type": "code",
   "execution_count": 14,
   "metadata": {
    "colab": {
     "base_uri": "https://localhost:8080/"
    },
    "id": "I2hBe-XV80_H",
    "outputId": "4829fe97-5492-4531-939b-1d645e891530"
   },
   "outputs": [
    {
     "name": "stdout",
     "output_type": "stream",
     "text": [
      "R2-score на исходных данных: 0.4249455028666801\n"
     ]
    }
   ],
   "source": [
    "model = LinearRegression()\n",
    "model.fit(features, target)\n",
    "predictions = model.predict(features)\n",
    "print('R2-score на исходных данных:', r2_score(target, predictions))"
   ]
  },
  {
   "cell_type": "code",
   "execution_count": 15,
   "metadata": {
    "id": "Ck0SbvZe8095"
   },
   "outputs": [],
   "source": [
    "converted_matrix = np.random.RandomState(12345).normal(size = [features.shape[1], features.shape[1]])\n",
    "converted_matrix_inv = np.linalg.inv(converted_matrix)\n",
    "converted_features = features.dot(converted_matrix)"
   ]
  },
  {
   "cell_type": "raw",
   "metadata": {},
   "source": [
    "def generate_invertible_matrix(size):\n",
    "    try:\n",
    "        matrix = np.random.normal(size=(size, size))\n",
    "        # проверим матрицу на обратимость, если нет, пробуем сгенерировать еще раз\n",
    "        # таким образом гарантируем, что матрица стопроцентно будет обратимой\n",
    "        np.linalg.inv(matrix)\n",
    "    except np.linalg.LinAlgError:\n",
    "        matrix = generate_invertible_matrix()\n",
    "    \n",
    "    return matrix"
   ]
  },
  {
   "cell_type": "code",
   "execution_count": 16,
   "metadata": {
    "colab": {
     "base_uri": "https://localhost:8080/"
    },
    "id": "QiGhmp-7808L",
    "outputId": "3304c1fd-d28f-4ac5-8f20-7d49128b050d"
   },
   "outputs": [
    {
     "name": "stdout",
     "output_type": "stream",
     "text": [
      "R2-score на преобразованных данных: 0.42494550286667687\n"
     ]
    }
   ],
   "source": [
    "model.fit(converted_features, target)\n",
    "converted_predictions = model.predict(converted_features)\n",
    "print('R2-score на преобразованных данных:', r2_score(target, converted_predictions))"
   ]
  },
  {
   "cell_type": "markdown",
   "metadata": {
    "id": "pg2H9DGV804h"
   },
   "source": [
    "## Вывод"
   ]
  },
  {
   "cell_type": "markdown",
   "metadata": {
    "id": "IwpcgR2-802f"
   },
   "source": [
    "Наш алгоритм преобразования данных для защиты клиентов работает, и выполняет условия поставленной задачи."
   ]
  }
 ],
 "metadata": {
  "ExecuteTimeLog": [
   {
    "duration": 1823,
    "start_time": "2022-04-06T17:54:56.688Z"
   },
   {
    "duration": 141,
    "start_time": "2022-04-06T17:54:58.514Z"
   },
   {
    "duration": 15,
    "start_time": "2022-04-06T17:54:58.657Z"
   },
   {
    "duration": 13,
    "start_time": "2022-04-06T17:54:58.673Z"
   },
   {
    "duration": 8,
    "start_time": "2022-04-06T17:54:58.688Z"
   },
   {
    "duration": 485,
    "start_time": "2022-04-06T17:54:58.698Z"
   },
   {
    "duration": 8,
    "start_time": "2022-04-06T17:54:59.185Z"
   },
   {
    "duration": 454,
    "start_time": "2022-04-06T17:54:59.195Z"
   },
   {
    "duration": 9,
    "start_time": "2022-04-06T17:54:59.650Z"
   },
   {
    "duration": 5,
    "start_time": "2022-04-06T17:54:59.661Z"
   },
   {
    "duration": 8,
    "start_time": "2022-04-06T17:54:59.668Z"
   },
   {
    "duration": 16,
    "start_time": "2022-04-06T17:54:59.678Z"
   },
   {
    "duration": 7,
    "start_time": "2022-04-06T17:54:59.695Z"
   },
   {
    "duration": 19,
    "start_time": "2022-04-06T17:54:59.731Z"
   },
   {
    "duration": 103,
    "start_time": "2022-04-06T17:54:59.833Z"
   },
   {
    "duration": 94,
    "start_time": "2022-04-06T17:54:59.942Z"
   },
   {
    "duration": 1656,
    "start_time": "2022-04-06T18:02:24.309Z"
   },
   {
    "duration": 77,
    "start_time": "2022-04-06T18:02:25.968Z"
   },
   {
    "duration": 15,
    "start_time": "2022-04-06T18:02:26.047Z"
   },
   {
    "duration": 25,
    "start_time": "2022-04-06T18:02:26.065Z"
   },
   {
    "duration": 15,
    "start_time": "2022-04-06T18:02:26.093Z"
   },
   {
    "duration": 500,
    "start_time": "2022-04-06T18:02:26.110Z"
   },
   {
    "duration": 21,
    "start_time": "2022-04-06T18:02:26.612Z"
   },
   {
    "duration": 442,
    "start_time": "2022-04-06T18:02:26.636Z"
   },
   {
    "duration": 9,
    "start_time": "2022-04-06T18:02:27.080Z"
   },
   {
    "duration": 15,
    "start_time": "2022-04-06T18:02:27.093Z"
   },
   {
    "duration": 26,
    "start_time": "2022-04-06T18:02:27.110Z"
   },
   {
    "duration": 15,
    "start_time": "2022-04-06T18:02:27.138Z"
   },
   {
    "duration": 20,
    "start_time": "2022-04-06T18:02:27.156Z"
   },
   {
    "duration": 57,
    "start_time": "2022-04-06T18:02:27.178Z"
   },
   {
    "duration": 114,
    "start_time": "2022-04-06T18:02:27.237Z"
   },
   {
    "duration": 180,
    "start_time": "2022-04-06T18:02:27.354Z"
   },
   {
    "duration": 3706,
    "start_time": "2022-04-06T19:07:23.312Z"
   },
   {
    "duration": 1841,
    "start_time": "2022-04-06T19:07:27.021Z"
   },
   {
    "duration": 14,
    "start_time": "2022-04-06T19:07:28.864Z"
   },
   {
    "duration": 12,
    "start_time": "2022-04-06T19:07:28.881Z"
   },
   {
    "duration": 4,
    "start_time": "2022-04-06T19:07:28.895Z"
   },
   {
    "duration": 471,
    "start_time": "2022-04-06T19:07:28.901Z"
   },
   {
    "duration": 10,
    "start_time": "2022-04-06T19:07:29.374Z"
   },
   {
    "duration": 454,
    "start_time": "2022-04-06T19:07:29.386Z"
   },
   {
    "duration": 9,
    "start_time": "2022-04-06T19:07:29.842Z"
   },
   {
    "duration": 5,
    "start_time": "2022-04-06T19:07:29.854Z"
   },
   {
    "duration": 9,
    "start_time": "2022-04-06T19:07:29.861Z"
   },
   {
    "duration": 8,
    "start_time": "2022-04-06T19:07:29.872Z"
   },
   {
    "duration": 4,
    "start_time": "2022-04-06T19:08:51.725Z"
   },
   {
    "duration": 9,
    "start_time": "2022-04-06T19:08:52.201Z"
   },
   {
    "duration": 5,
    "start_time": "2022-04-06T19:08:52.421Z"
   },
   {
    "duration": 7,
    "start_time": "2022-04-06T19:08:52.625Z"
   }
  ],
  "colab": {
   "collapsed_sections": [],
   "name": "project_10_protection_personal_data_clients.ipynb",
   "provenance": [],
   "toc_visible": true
  },
  "kernelspec": {
   "display_name": "Python 3 (ipykernel)",
   "language": "python",
   "name": "python3"
  },
  "language_info": {
   "codemirror_mode": {
    "name": "ipython",
    "version": 3
   },
   "file_extension": ".py",
   "mimetype": "text/x-python",
   "name": "python",
   "nbconvert_exporter": "python",
   "pygments_lexer": "ipython3",
   "version": "3.9.7"
  },
  "toc": {
   "base_numbering": 1,
   "nav_menu": {},
   "number_sections": true,
   "sideBar": true,
   "skip_h1_title": true,
   "title_cell": "Содержание",
   "title_sidebar": "Contents",
   "toc_cell": true,
   "toc_position": {
    "height": "calc(100% - 180px)",
    "left": "10px",
    "top": "150px",
    "width": "336.484px"
   },
   "toc_section_display": true,
   "toc_window_display": true
  }
 },
 "nbformat": 4,
 "nbformat_minor": 1
}
