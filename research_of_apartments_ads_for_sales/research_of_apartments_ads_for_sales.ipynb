{
  "cells": [
    {
      "cell_type": "markdown",
      "metadata": {
        "id": "view-in-github",
        "colab_type": "text"
      },
      "source": [
        "<a href=\"https://colab.research.google.com/github/klipbn/klip_alex/blob/main/research_of_apartments_ads_for_sales/research_of_apartments_ads_for_sales.ipynb\" target=\"_parent\"><img src=\"https://colab.research.google.com/assets/colab-badge.svg\" alt=\"Open In Colab\"/></a>"
      ]
    },
    {
      "cell_type": "markdown",
      "metadata": {
        "id": "ZIsfpfxCGK43"
      },
      "source": [
        "# Исследование объявлений о продаже квартир\n",
        "\n",
        "В нашей распоряжении данные сервиса Яндекс.Недвижимость — архив объявлений о продаже квартир в Санкт-Петербурге и соседних населённых пунктах за несколько лет. Нужно научиться определять рыночную стоимость объектов недвижимости.   \n",
        "Наша задача — установить параметры. Это позволит построить автоматизированную систему: она отследит аномалии и мошенническую деятельность. \n",
        "\n",
        "По каждой квартире на продажу доступны два вида данных. Первые вписаны пользователем, вторые получены автоматически на основе картографических данных. Например, расстояние до центра, аэропорта, ближайшего парка и водоёма.   \n",
        "\n",
        "\n",
        "**Этапы проведения исследования**\n",
        "\n",
        "Шаг 1. Изучить общую информацию  \n",
        "\n",
        "Путь к файлу: /datasets/real_estate_data.csv.  \n",
        "\n",
        "**Шаг 2.** Предобработка данных  \n",
        "\n",
        "Определить и изучить пропущенные значения:  \n",
        "- Для некоторых пропущенных значений можно предположить логичную замену. Например, если человек не указал число балконов — скорее всего, их нет. Такие пропуски правильно заменить на 0. Для других типов данных нет подходящего значения на замену. В этом случае правильно оставить эти значения пустыми. Отсутствие значения — тоже важный сигнал, который не нужно прятать.\n",
        "- Заполните пропуски, где это уместно. Опишите, почему вы решили заполнить пропуски именно в этих столбцах и как выбрали значения.\n",
        "- Укажите причины, которые могли привести к пропускам в данных.\n",
        "\n",
        "Привести данные к нужным типам:  \n",
        "- Поясните, в каких столбцах нужно изменить тип данных и почему. \n",
        "\n",
        "**Шаг 3.** Посчитать и добавить в таблицу  \n",
        "\n",
        "- цену квадратного метра;\n",
        "- день недели, месяц и год публикации объявления;\n",
        "- этаж квартиры; варианты — первый, последний, другой;\n",
        "- соотношение жилой и общей площади, а также отношение площади кухни к общей. \n",
        "\n",
        "**Шаг 4.** Провести исследовательский анализ данных и выполнить инструкции  \n",
        "\n",
        "- Изучить следующие параметры: площадь, цена, число комнат, высота потолков. - Построить гистограммы для каждого параметра.\n",
        "- Изучить время продажи квартиры. Построить гистограмму. Посчитать среднее и медиану. Описать, сколько обычно занимает продажа. Когда можно считать, что продажи прошли очень быстро, а когда необычно долго?\n",
        "- Убрать редкие и выбивающиеся значения. Описать, какие особенности обнаружены.\n",
        "- Какие факторы больше всего влияют на стоимость квартиры? Изучить, зависит ли цена от площади, числа комнат, удалённости от центра. Изучить зависимость цены от того, на каком этаже расположена квартира: первом, последнем или другом. Также изучить зависимость от даты размещения: дня недели, месяца и года.\n",
        "- Выбрать 10 населённых пунктов с наибольшим числом объявлений. Посчитать среднюю цену квадратного метра в этих населённых пунктах. Выделить населённые пункты с самой высокой и низкой стоимостью жилья. Эти данные можно найти по имени в столбце `'locality_name'`.\n",
        "- Изучить предложения квартир: для каждой квартиры есть информация о расстоянии до центра. Выделите квартиры в Санкт-Петербурге (`'locality_name'`). Задача — выяснить, какая область входит в центр. Создать столбец с расстоянием до центра в километрах: округлите до целых значений. После этого посчитать среднюю цену для каждого километра. Построить график: он должен показывать, как цена зависит от удалённости от центра. Определить границу, где график сильно меняется, — это и будет центральная зона.\n",
        "- Выделить сегмент квартир в центре. Проанализировать  эту территорию и изучите следующие параметры: площадь, цена, число комнат, высота потолков. Также выделить факторы, которые влияют на стоимость квартиры (число комнат, этаж, удалённость от центра, дата размещения объявления). Сделать выводы. Отличаются ли они от общих выводов по всему городу?  \n",
        "\n",
        "**Шаг 5.** Написать общий вывод"
      ]
    },
    {
      "cell_type": "markdown",
      "metadata": {
        "id": "ayva2_mPGK44"
      },
      "source": [
        "## Изучение данных из файла"
      ]
    },
    {
      "cell_type": "markdown",
      "metadata": {
        "id": "H1_MulIhS3ua"
      },
      "source": [
        "Импортируем библиотеки необходмы для проекта:"
      ]
    },
    {
      "cell_type": "code",
      "execution_count": null,
      "metadata": {
        "id": "FN5efQ1dGqCT"
      },
      "outputs": [],
      "source": [
        "import pandas as pd\n",
        "import numpy as np\n",
        "import matplotlib.pyplot as plt"
      ]
    },
    {
      "cell_type": "markdown",
      "metadata": {
        "id": "g2k71TG9Ee4D"
      },
      "source": [
        "Читаем данные:"
      ]
    },
    {
      "cell_type": "code",
      "execution_count": null,
      "metadata": {
        "id": "VATGVH9TGK44"
      },
      "outputs": [],
      "source": [
        "df = pd.read_csv('/datasets/real_estate_data.csv', sep='\\t')"
      ]
    },
    {
      "cell_type": "markdown",
      "metadata": {
        "id": "7oym5EW5Ej_x"
      },
      "source": [
        "Посмотрим первые 5 строк:"
      ]
    },
    {
      "cell_type": "code",
      "execution_count": null,
      "metadata": {
        "colab": {
          "base_uri": "https://localhost:8080/",
          "height": 357
        },
        "id": "69Y10pEpG6rz",
        "outputId": "02e8ac63-9a43-454d-b016-112edf3aa0cd"
      },
      "outputs": [
        {
          "data": {
            "text/html": [
              "<div>\n",
              "<style scoped>\n",
              "    .dataframe tbody tr th:only-of-type {\n",
              "        vertical-align: middle;\n",
              "    }\n",
              "\n",
              "    .dataframe tbody tr th {\n",
              "        vertical-align: top;\n",
              "    }\n",
              "\n",
              "    .dataframe thead th {\n",
              "        text-align: right;\n",
              "    }\n",
              "</style>\n",
              "<table border=\"1\" class=\"dataframe\">\n",
              "  <thead>\n",
              "    <tr style=\"text-align: right;\">\n",
              "      <th></th>\n",
              "      <th>total_images</th>\n",
              "      <th>last_price</th>\n",
              "      <th>total_area</th>\n",
              "      <th>first_day_exposition</th>\n",
              "      <th>rooms</th>\n",
              "      <th>ceiling_height</th>\n",
              "      <th>floors_total</th>\n",
              "      <th>living_area</th>\n",
              "      <th>floor</th>\n",
              "      <th>is_apartment</th>\n",
              "      <th>...</th>\n",
              "      <th>kitchen_area</th>\n",
              "      <th>balcony</th>\n",
              "      <th>locality_name</th>\n",
              "      <th>airports_nearest</th>\n",
              "      <th>cityCenters_nearest</th>\n",
              "      <th>parks_around3000</th>\n",
              "      <th>parks_nearest</th>\n",
              "      <th>ponds_around3000</th>\n",
              "      <th>ponds_nearest</th>\n",
              "      <th>days_exposition</th>\n",
              "    </tr>\n",
              "  </thead>\n",
              "  <tbody>\n",
              "    <tr>\n",
              "      <td>0</td>\n",
              "      <td>20</td>\n",
              "      <td>13000000.0</td>\n",
              "      <td>108.0</td>\n",
              "      <td>2019-03-07T00:00:00</td>\n",
              "      <td>3</td>\n",
              "      <td>2.70</td>\n",
              "      <td>16.0</td>\n",
              "      <td>51.0</td>\n",
              "      <td>8</td>\n",
              "      <td>NaN</td>\n",
              "      <td>...</td>\n",
              "      <td>25.0</td>\n",
              "      <td>NaN</td>\n",
              "      <td>Санкт-Петербург</td>\n",
              "      <td>18863.0</td>\n",
              "      <td>16028.0</td>\n",
              "      <td>1.0</td>\n",
              "      <td>482.0</td>\n",
              "      <td>2.0</td>\n",
              "      <td>755.0</td>\n",
              "      <td>NaN</td>\n",
              "    </tr>\n",
              "    <tr>\n",
              "      <td>1</td>\n",
              "      <td>7</td>\n",
              "      <td>3350000.0</td>\n",
              "      <td>40.4</td>\n",
              "      <td>2018-12-04T00:00:00</td>\n",
              "      <td>1</td>\n",
              "      <td>NaN</td>\n",
              "      <td>11.0</td>\n",
              "      <td>18.6</td>\n",
              "      <td>1</td>\n",
              "      <td>NaN</td>\n",
              "      <td>...</td>\n",
              "      <td>11.0</td>\n",
              "      <td>2.0</td>\n",
              "      <td>посёлок Шушары</td>\n",
              "      <td>12817.0</td>\n",
              "      <td>18603.0</td>\n",
              "      <td>0.0</td>\n",
              "      <td>NaN</td>\n",
              "      <td>0.0</td>\n",
              "      <td>NaN</td>\n",
              "      <td>81.0</td>\n",
              "    </tr>\n",
              "    <tr>\n",
              "      <td>2</td>\n",
              "      <td>10</td>\n",
              "      <td>5196000.0</td>\n",
              "      <td>56.0</td>\n",
              "      <td>2015-08-20T00:00:00</td>\n",
              "      <td>2</td>\n",
              "      <td>NaN</td>\n",
              "      <td>5.0</td>\n",
              "      <td>34.3</td>\n",
              "      <td>4</td>\n",
              "      <td>NaN</td>\n",
              "      <td>...</td>\n",
              "      <td>8.3</td>\n",
              "      <td>0.0</td>\n",
              "      <td>Санкт-Петербург</td>\n",
              "      <td>21741.0</td>\n",
              "      <td>13933.0</td>\n",
              "      <td>1.0</td>\n",
              "      <td>90.0</td>\n",
              "      <td>2.0</td>\n",
              "      <td>574.0</td>\n",
              "      <td>558.0</td>\n",
              "    </tr>\n",
              "    <tr>\n",
              "      <td>3</td>\n",
              "      <td>0</td>\n",
              "      <td>64900000.0</td>\n",
              "      <td>159.0</td>\n",
              "      <td>2015-07-24T00:00:00</td>\n",
              "      <td>3</td>\n",
              "      <td>NaN</td>\n",
              "      <td>14.0</td>\n",
              "      <td>NaN</td>\n",
              "      <td>9</td>\n",
              "      <td>NaN</td>\n",
              "      <td>...</td>\n",
              "      <td>NaN</td>\n",
              "      <td>0.0</td>\n",
              "      <td>Санкт-Петербург</td>\n",
              "      <td>28098.0</td>\n",
              "      <td>6800.0</td>\n",
              "      <td>2.0</td>\n",
              "      <td>84.0</td>\n",
              "      <td>3.0</td>\n",
              "      <td>234.0</td>\n",
              "      <td>424.0</td>\n",
              "    </tr>\n",
              "    <tr>\n",
              "      <td>4</td>\n",
              "      <td>2</td>\n",
              "      <td>10000000.0</td>\n",
              "      <td>100.0</td>\n",
              "      <td>2018-06-19T00:00:00</td>\n",
              "      <td>2</td>\n",
              "      <td>3.03</td>\n",
              "      <td>14.0</td>\n",
              "      <td>32.0</td>\n",
              "      <td>13</td>\n",
              "      <td>NaN</td>\n",
              "      <td>...</td>\n",
              "      <td>41.0</td>\n",
              "      <td>NaN</td>\n",
              "      <td>Санкт-Петербург</td>\n",
              "      <td>31856.0</td>\n",
              "      <td>8098.0</td>\n",
              "      <td>2.0</td>\n",
              "      <td>112.0</td>\n",
              "      <td>1.0</td>\n",
              "      <td>48.0</td>\n",
              "      <td>121.0</td>\n",
              "    </tr>\n",
              "  </tbody>\n",
              "</table>\n",
              "<p>5 rows × 22 columns</p>\n",
              "</div>"
            ],
            "text/plain": [
              "   total_images  last_price  total_area first_day_exposition  rooms  \\\n",
              "0            20  13000000.0       108.0  2019-03-07T00:00:00      3   \n",
              "1             7   3350000.0        40.4  2018-12-04T00:00:00      1   \n",
              "2            10   5196000.0        56.0  2015-08-20T00:00:00      2   \n",
              "3             0  64900000.0       159.0  2015-07-24T00:00:00      3   \n",
              "4             2  10000000.0       100.0  2018-06-19T00:00:00      2   \n",
              "\n",
              "   ceiling_height  floors_total  living_area  floor is_apartment  ...  \\\n",
              "0            2.70          16.0         51.0      8          NaN  ...   \n",
              "1             NaN          11.0         18.6      1          NaN  ...   \n",
              "2             NaN           5.0         34.3      4          NaN  ...   \n",
              "3             NaN          14.0          NaN      9          NaN  ...   \n",
              "4            3.03          14.0         32.0     13          NaN  ...   \n",
              "\n",
              "   kitchen_area  balcony    locality_name  airports_nearest  \\\n",
              "0          25.0      NaN  Санкт-Петербург           18863.0   \n",
              "1          11.0      2.0   посёлок Шушары           12817.0   \n",
              "2           8.3      0.0  Санкт-Петербург           21741.0   \n",
              "3           NaN      0.0  Санкт-Петербург           28098.0   \n",
              "4          41.0      NaN  Санкт-Петербург           31856.0   \n",
              "\n",
              "  cityCenters_nearest  parks_around3000  parks_nearest  ponds_around3000  \\\n",
              "0             16028.0               1.0          482.0               2.0   \n",
              "1             18603.0               0.0            NaN               0.0   \n",
              "2             13933.0               1.0           90.0               2.0   \n",
              "3              6800.0               2.0           84.0               3.0   \n",
              "4              8098.0               2.0          112.0               1.0   \n",
              "\n",
              "   ponds_nearest  days_exposition  \n",
              "0          755.0              NaN  \n",
              "1            NaN             81.0  \n",
              "2          574.0            558.0  \n",
              "3          234.0            424.0  \n",
              "4           48.0            121.0  \n",
              "\n",
              "[5 rows x 22 columns]"
            ]
          },
          "execution_count": 3,
          "metadata": {},
          "output_type": "execute_result"
        }
      ],
      "source": [
        "df.head()"
      ]
    },
    {
      "cell_type": "markdown",
      "metadata": {
        "id": "wSMqgutAHU4W"
      },
      "source": [
        "Описание признаков:  \n",
        "- `airports_nearest` — расстояние до ближайшего аэропорта в метрах (м)\n",
        "- `balcony` — число балконов\n",
        "- `ceiling_height` — высота потолков (м)\n",
        "- `city_centers_nearest` — расстояние до центра города (м)\n",
        "- `days_exposition` — сколько дней было размещено объявление (от публикации до снятия)\n",
        "- `first_day_exposition` — дата публикации\n",
        "- `floor` — этаж\n",
        "- `floors_total` — всего этажей в доме\n",
        "- `is_apartment` — апартаменты (булев тип)\n",
        "- `kitchen_area` — площадь кухни в квадратных метрах (м²)\n",
        "- `last_price` — цена на момент снятия с публикации\n",
        "- `living_area` — жилая площадь в квадратных метрах (м²)\n",
        "- `locality_name` — название населённого пункта\n",
        "- `open_plan` — свободная планировка (булев тип)\n",
        "- `parks_around3000` — число парков в радиусе 3 км\n",
        "- `parks_nearest` — расстояние до ближайшего парка (м)\n",
        "- `ponds_around3000` — число водоёмов в радиусе 3 км\n",
        "- `ponds_nearest` — расстояние до ближайшего водоёма (м)\n",
        "- `rooms` — число комнат\n",
        "- `studio` — квартира-студия (булев тип)\n",
        "- `total_area` — площадь квартиры в квадратных метрах (м²)\n",
        "- `total_images` — число фотографий квартиры в объявлении"
      ]
    },
    {
      "cell_type": "markdown",
      "metadata": {
        "id": "_sHJScquEpay"
      },
      "source": [
        "Для удобства расположин признаки в алфовитном порядке, и уберем лишние, которые нам в с исследовании не потебуются:"
      ]
    },
    {
      "cell_type": "code",
      "execution_count": null,
      "metadata": {
        "colab": {
          "base_uri": "https://localhost:8080/"
        },
        "id": "PutU57VGFt19",
        "outputId": "87d3a09b-dc7b-4c02-bdbe-fbd8b0c39fa2"
      },
      "outputs": [
        {
          "data": {
            "text/plain": [
              "Index(['airports_nearest', 'balcony', 'ceiling_height', 'cityCenters_nearest',\n",
              "       'days_exposition', 'first_day_exposition', 'floor', 'floors_total',\n",
              "       'is_apartment', 'kitchen_area', 'last_price', 'living_area',\n",
              "       'locality_name', 'open_plan', 'parks_around3000', 'parks_nearest',\n",
              "       'ponds_around3000', 'ponds_nearest', 'rooms', 'studio', 'total_area',\n",
              "       'total_images'],\n",
              "      dtype='object')"
            ]
          },
          "execution_count": 4,
          "metadata": {},
          "output_type": "execute_result"
        }
      ],
      "source": [
        "df.columns.sort_values()"
      ]
    },
    {
      "cell_type": "code",
      "execution_count": null,
      "metadata": {
        "id": "opVP0xjjEiju"
      },
      "outputs": [],
      "source": [
        "# переназначим признаки, убрав: ['airports_nearest', 'parks_around3000', 'parks_nearest', 'ponds_around3000', 'ponds_nearest', 'open_plan']\n",
        "df = df[['balcony', 'ceiling_height', 'cityCenters_nearest',\n",
        "       'days_exposition', 'first_day_exposition', 'floor', 'floors_total',\n",
        "       'is_apartment', 'kitchen_area', 'last_price', 'living_area',\n",
        "       'locality_name', 'rooms', 'studio', 'total_area',\n",
        "       'total_images']]"
      ]
    },
    {
      "cell_type": "markdown",
      "metadata": {
        "id": "zwZDx6QEE1Z6"
      },
      "source": [
        "Выведем информацию о типах данных в столбцах, а также их количество:"
      ]
    },
    {
      "cell_type": "code",
      "execution_count": null,
      "metadata": {
        "colab": {
          "base_uri": "https://localhost:8080/"
        },
        "id": "dOwIZN-wG1cF",
        "outputId": "91a63857-b6b8-48a1-cadd-1fd9afddecea"
      },
      "outputs": [
        {
          "name": "stdout",
          "output_type": "stream",
          "text": [
            "<class 'pandas.core.frame.DataFrame'>\n",
            "RangeIndex: 23699 entries, 0 to 23698\n",
            "Data columns (total 16 columns):\n",
            "balcony                 12180 non-null float64\n",
            "ceiling_height          14504 non-null float64\n",
            "cityCenters_nearest     18180 non-null float64\n",
            "days_exposition         20518 non-null float64\n",
            "first_day_exposition    23699 non-null object\n",
            "floor                   23699 non-null int64\n",
            "floors_total            23613 non-null float64\n",
            "is_apartment            2775 non-null object\n",
            "kitchen_area            21421 non-null float64\n",
            "last_price              23699 non-null float64\n",
            "living_area             21796 non-null float64\n",
            "locality_name           23650 non-null object\n",
            "rooms                   23699 non-null int64\n",
            "studio                  23699 non-null bool\n",
            "total_area              23699 non-null float64\n",
            "total_images            23699 non-null int64\n",
            "dtypes: bool(1), float64(9), int64(3), object(3)\n",
            "memory usage: 2.7+ MB\n"
          ]
        }
      ],
      "source": [
        "df.info()"
      ]
    },
    {
      "cell_type": "markdown",
      "metadata": {
        "id": "VdsWO2HZE9fL"
      },
      "source": [
        "Посмотрим значения в колонках:"
      ]
    },
    {
      "cell_type": "code",
      "execution_count": null,
      "metadata": {
        "colab": {
          "base_uri": "https://localhost:8080/",
          "height": 551
        },
        "id": "HLnGAs8VHHE6",
        "outputId": "68b8a51c-074d-414c-896e-7312473b9db5"
      },
      "outputs": [
        {
          "data": {
            "text/html": [
              "<div>\n",
              "<style scoped>\n",
              "    .dataframe tbody tr th:only-of-type {\n",
              "        vertical-align: middle;\n",
              "    }\n",
              "\n",
              "    .dataframe tbody tr th {\n",
              "        vertical-align: top;\n",
              "    }\n",
              "\n",
              "    .dataframe thead th {\n",
              "        text-align: right;\n",
              "    }\n",
              "</style>\n",
              "<table border=\"1\" class=\"dataframe\">\n",
              "  <thead>\n",
              "    <tr style=\"text-align: right;\">\n",
              "      <th></th>\n",
              "      <th>count</th>\n",
              "      <th>unique</th>\n",
              "      <th>top</th>\n",
              "      <th>freq</th>\n",
              "      <th>mean</th>\n",
              "      <th>std</th>\n",
              "      <th>min</th>\n",
              "      <th>25%</th>\n",
              "      <th>50%</th>\n",
              "      <th>75%</th>\n",
              "      <th>max</th>\n",
              "    </tr>\n",
              "  </thead>\n",
              "  <tbody>\n",
              "    <tr>\n",
              "      <td>balcony</td>\n",
              "      <td>12180</td>\n",
              "      <td>NaN</td>\n",
              "      <td>NaN</td>\n",
              "      <td>NaN</td>\n",
              "      <td>1.15008</td>\n",
              "      <td>1.0713</td>\n",
              "      <td>0</td>\n",
              "      <td>0</td>\n",
              "      <td>1</td>\n",
              "      <td>2</td>\n",
              "      <td>5</td>\n",
              "    </tr>\n",
              "    <tr>\n",
              "      <td>ceiling_height</td>\n",
              "      <td>14504</td>\n",
              "      <td>NaN</td>\n",
              "      <td>NaN</td>\n",
              "      <td>NaN</td>\n",
              "      <td>2.7715</td>\n",
              "      <td>1.26106</td>\n",
              "      <td>1</td>\n",
              "      <td>2.52</td>\n",
              "      <td>2.65</td>\n",
              "      <td>2.8</td>\n",
              "      <td>100</td>\n",
              "    </tr>\n",
              "    <tr>\n",
              "      <td>cityCenters_nearest</td>\n",
              "      <td>18180</td>\n",
              "      <td>NaN</td>\n",
              "      <td>NaN</td>\n",
              "      <td>NaN</td>\n",
              "      <td>14191.3</td>\n",
              "      <td>8608.39</td>\n",
              "      <td>181</td>\n",
              "      <td>9238</td>\n",
              "      <td>13098.5</td>\n",
              "      <td>16293</td>\n",
              "      <td>65968</td>\n",
              "    </tr>\n",
              "    <tr>\n",
              "      <td>days_exposition</td>\n",
              "      <td>20518</td>\n",
              "      <td>NaN</td>\n",
              "      <td>NaN</td>\n",
              "      <td>NaN</td>\n",
              "      <td>180.889</td>\n",
              "      <td>219.728</td>\n",
              "      <td>1</td>\n",
              "      <td>45</td>\n",
              "      <td>95</td>\n",
              "      <td>232</td>\n",
              "      <td>1580</td>\n",
              "    </tr>\n",
              "    <tr>\n",
              "      <td>first_day_exposition</td>\n",
              "      <td>23699</td>\n",
              "      <td>1491</td>\n",
              "      <td>2018-02-01T00:00:00</td>\n",
              "      <td>368</td>\n",
              "      <td>NaN</td>\n",
              "      <td>NaN</td>\n",
              "      <td>NaN</td>\n",
              "      <td>NaN</td>\n",
              "      <td>NaN</td>\n",
              "      <td>NaN</td>\n",
              "      <td>NaN</td>\n",
              "    </tr>\n",
              "    <tr>\n",
              "      <td>floor</td>\n",
              "      <td>23699</td>\n",
              "      <td>NaN</td>\n",
              "      <td>NaN</td>\n",
              "      <td>NaN</td>\n",
              "      <td>5.89236</td>\n",
              "      <td>4.88525</td>\n",
              "      <td>1</td>\n",
              "      <td>2</td>\n",
              "      <td>4</td>\n",
              "      <td>8</td>\n",
              "      <td>33</td>\n",
              "    </tr>\n",
              "    <tr>\n",
              "      <td>floors_total</td>\n",
              "      <td>23613</td>\n",
              "      <td>NaN</td>\n",
              "      <td>NaN</td>\n",
              "      <td>NaN</td>\n",
              "      <td>10.6738</td>\n",
              "      <td>6.59717</td>\n",
              "      <td>1</td>\n",
              "      <td>5</td>\n",
              "      <td>9</td>\n",
              "      <td>16</td>\n",
              "      <td>60</td>\n",
              "    </tr>\n",
              "    <tr>\n",
              "      <td>is_apartment</td>\n",
              "      <td>2775</td>\n",
              "      <td>2</td>\n",
              "      <td>False</td>\n",
              "      <td>2725</td>\n",
              "      <td>NaN</td>\n",
              "      <td>NaN</td>\n",
              "      <td>NaN</td>\n",
              "      <td>NaN</td>\n",
              "      <td>NaN</td>\n",
              "      <td>NaN</td>\n",
              "      <td>NaN</td>\n",
              "    </tr>\n",
              "    <tr>\n",
              "      <td>kitchen_area</td>\n",
              "      <td>21421</td>\n",
              "      <td>NaN</td>\n",
              "      <td>NaN</td>\n",
              "      <td>NaN</td>\n",
              "      <td>10.5698</td>\n",
              "      <td>5.90544</td>\n",
              "      <td>1.3</td>\n",
              "      <td>7</td>\n",
              "      <td>9.1</td>\n",
              "      <td>12</td>\n",
              "      <td>112</td>\n",
              "    </tr>\n",
              "    <tr>\n",
              "      <td>last_price</td>\n",
              "      <td>23699</td>\n",
              "      <td>NaN</td>\n",
              "      <td>NaN</td>\n",
              "      <td>NaN</td>\n",
              "      <td>6.54155e+06</td>\n",
              "      <td>1.0887e+07</td>\n",
              "      <td>12190</td>\n",
              "      <td>3.4e+06</td>\n",
              "      <td>4.65e+06</td>\n",
              "      <td>6.8e+06</td>\n",
              "      <td>7.63e+08</td>\n",
              "    </tr>\n",
              "    <tr>\n",
              "      <td>living_area</td>\n",
              "      <td>21796</td>\n",
              "      <td>NaN</td>\n",
              "      <td>NaN</td>\n",
              "      <td>NaN</td>\n",
              "      <td>34.4579</td>\n",
              "      <td>22.0304</td>\n",
              "      <td>2</td>\n",
              "      <td>18.6</td>\n",
              "      <td>30</td>\n",
              "      <td>42.3</td>\n",
              "      <td>409.7</td>\n",
              "    </tr>\n",
              "    <tr>\n",
              "      <td>locality_name</td>\n",
              "      <td>23650</td>\n",
              "      <td>364</td>\n",
              "      <td>Санкт-Петербург</td>\n",
              "      <td>15721</td>\n",
              "      <td>NaN</td>\n",
              "      <td>NaN</td>\n",
              "      <td>NaN</td>\n",
              "      <td>NaN</td>\n",
              "      <td>NaN</td>\n",
              "      <td>NaN</td>\n",
              "      <td>NaN</td>\n",
              "    </tr>\n",
              "    <tr>\n",
              "      <td>rooms</td>\n",
              "      <td>23699</td>\n",
              "      <td>NaN</td>\n",
              "      <td>NaN</td>\n",
              "      <td>NaN</td>\n",
              "      <td>2.07064</td>\n",
              "      <td>1.0784</td>\n",
              "      <td>0</td>\n",
              "      <td>1</td>\n",
              "      <td>2</td>\n",
              "      <td>3</td>\n",
              "      <td>19</td>\n",
              "    </tr>\n",
              "    <tr>\n",
              "      <td>studio</td>\n",
              "      <td>23699</td>\n",
              "      <td>2</td>\n",
              "      <td>False</td>\n",
              "      <td>23550</td>\n",
              "      <td>NaN</td>\n",
              "      <td>NaN</td>\n",
              "      <td>NaN</td>\n",
              "      <td>NaN</td>\n",
              "      <td>NaN</td>\n",
              "      <td>NaN</td>\n",
              "      <td>NaN</td>\n",
              "    </tr>\n",
              "    <tr>\n",
              "      <td>total_area</td>\n",
              "      <td>23699</td>\n",
              "      <td>NaN</td>\n",
              "      <td>NaN</td>\n",
              "      <td>NaN</td>\n",
              "      <td>60.3487</td>\n",
              "      <td>35.6541</td>\n",
              "      <td>12</td>\n",
              "      <td>40</td>\n",
              "      <td>52</td>\n",
              "      <td>69.9</td>\n",
              "      <td>900</td>\n",
              "    </tr>\n",
              "    <tr>\n",
              "      <td>total_images</td>\n",
              "      <td>23699</td>\n",
              "      <td>NaN</td>\n",
              "      <td>NaN</td>\n",
              "      <td>NaN</td>\n",
              "      <td>9.85848</td>\n",
              "      <td>5.68253</td>\n",
              "      <td>0</td>\n",
              "      <td>6</td>\n",
              "      <td>9</td>\n",
              "      <td>14</td>\n",
              "      <td>50</td>\n",
              "    </tr>\n",
              "  </tbody>\n",
              "</table>\n",
              "</div>"
            ],
            "text/plain": [
              "                      count unique                  top   freq         mean  \\\n",
              "balcony               12180    NaN                  NaN    NaN      1.15008   \n",
              "ceiling_height        14504    NaN                  NaN    NaN       2.7715   \n",
              "cityCenters_nearest   18180    NaN                  NaN    NaN      14191.3   \n",
              "days_exposition       20518    NaN                  NaN    NaN      180.889   \n",
              "first_day_exposition  23699   1491  2018-02-01T00:00:00    368          NaN   \n",
              "floor                 23699    NaN                  NaN    NaN      5.89236   \n",
              "floors_total          23613    NaN                  NaN    NaN      10.6738   \n",
              "is_apartment           2775      2                False   2725          NaN   \n",
              "kitchen_area          21421    NaN                  NaN    NaN      10.5698   \n",
              "last_price            23699    NaN                  NaN    NaN  6.54155e+06   \n",
              "living_area           21796    NaN                  NaN    NaN      34.4579   \n",
              "locality_name         23650    364      Санкт-Петербург  15721          NaN   \n",
              "rooms                 23699    NaN                  NaN    NaN      2.07064   \n",
              "studio                23699      2                False  23550          NaN   \n",
              "total_area            23699    NaN                  NaN    NaN      60.3487   \n",
              "total_images          23699    NaN                  NaN    NaN      9.85848   \n",
              "\n",
              "                             std    min      25%       50%      75%       max  \n",
              "balcony                   1.0713      0        0         1        2         5  \n",
              "ceiling_height           1.26106      1     2.52      2.65      2.8       100  \n",
              "cityCenters_nearest      8608.39    181     9238   13098.5    16293     65968  \n",
              "days_exposition          219.728      1       45        95      232      1580  \n",
              "first_day_exposition         NaN    NaN      NaN       NaN      NaN       NaN  \n",
              "floor                    4.88525      1        2         4        8        33  \n",
              "floors_total             6.59717      1        5         9       16        60  \n",
              "is_apartment                 NaN    NaN      NaN       NaN      NaN       NaN  \n",
              "kitchen_area             5.90544    1.3        7       9.1       12       112  \n",
              "last_price            1.0887e+07  12190  3.4e+06  4.65e+06  6.8e+06  7.63e+08  \n",
              "living_area              22.0304      2     18.6        30     42.3     409.7  \n",
              "locality_name                NaN    NaN      NaN       NaN      NaN       NaN  \n",
              "rooms                     1.0784      0        1         2        3        19  \n",
              "studio                       NaN    NaN      NaN       NaN      NaN       NaN  \n",
              "total_area               35.6541     12       40        52     69.9       900  \n",
              "total_images             5.68253      0        6         9       14        50  "
            ]
          },
          "execution_count": 7,
          "metadata": {},
          "output_type": "execute_result"
        }
      ],
      "source": [
        "df.describe(include='all').T"
      ]
    },
    {
      "cell_type": "markdown",
      "metadata": {
        "id": "62bno3H0GK46"
      },
      "source": [
        "### Вывод"
      ]
    },
    {
      "cell_type": "markdown",
      "metadata": {
        "id": "nJR9JonHGK46"
      },
      "source": [
        "При осмотре данных, видно:  \n",
        "- имеется большое количество пропущенных значений;\n",
        "- столбец с датами, потребуется привести к формату даты;\n",
        "- наименование столбца `'cityCenters_nearest'` привести к \"змеиному\" виду;\n",
        "- явно имеются некорректные максимальные и минимальные значения (выборосы), например: высота потолков, возможно балконы и т.д."
      ]
    },
    {
      "cell_type": "markdown",
      "metadata": {
        "id": "86C8pRpqGK47"
      },
      "source": [
        "## Предобработка данных"
      ]
    },
    {
      "cell_type": "markdown",
      "metadata": {
        "id": "fJIR-roQQO-T"
      },
      "source": [
        "Переименуем столбцы с расстоянием до центра:"
      ]
    },
    {
      "cell_type": "code",
      "execution_count": null,
      "metadata": {
        "id": "571rcV9nHFZs"
      },
      "outputs": [],
      "source": [
        "df = df.rename(columns={'cityCenters_nearest': 'city_centers_nearest'})"
      ]
    },
    {
      "cell_type": "markdown",
      "metadata": {
        "id": "obAjZX50QVLJ"
      },
      "source": [
        "Посмотрим количество пропусков в данных:"
      ]
    },
    {
      "cell_type": "code",
      "execution_count": null,
      "metadata": {
        "colab": {
          "base_uri": "https://localhost:8080/"
        },
        "id": "tT8ShVOQGK48",
        "outputId": "d73a2ecc-3229-4f9a-cb9e-0d5bcf0bee21",
        "scrolled": true
      },
      "outputs": [
        {
          "data": {
            "text/plain": [
              "balcony                 11519\n",
              "ceiling_height           9195\n",
              "city_centers_nearest     5519\n",
              "days_exposition          3181\n",
              "first_day_exposition        0\n",
              "floor                       0\n",
              "floors_total               86\n",
              "is_apartment            20924\n",
              "kitchen_area             2278\n",
              "last_price                  0\n",
              "living_area              1903\n",
              "locality_name              49\n",
              "rooms                       0\n",
              "studio                      0\n",
              "total_area                  0\n",
              "total_images                0\n",
              "dtype: int64"
            ]
          },
          "execution_count": 9,
          "metadata": {},
          "output_type": "execute_result"
        }
      ],
      "source": [
        "df.isna().sum()"
      ]
    },
    {
      "cell_type": "markdown",
      "metadata": {
        "id": "HmWZP8NvPnF9"
      },
      "source": [
        "Посмотрим пропущенные значения в проценте от общего числа значения в данном признаке:"
      ]
    },
    {
      "cell_type": "code",
      "execution_count": null,
      "metadata": {
        "scrolled": true,
        "id": "AZdAfz1uPnF9",
        "outputId": "db4a9ba3-b1ca-423c-ffd3-68d4e67e7c78"
      },
      "outputs": [
        {
          "data": {
            "text/plain": [
              "balcony                 49.0\n",
              "ceiling_height          39.0\n",
              "city_centers_nearest    23.0\n",
              "days_exposition         13.0\n",
              "first_day_exposition     0.0\n",
              "floor                    0.0\n",
              "floors_total             0.0\n",
              "is_apartment            88.0\n",
              "kitchen_area            10.0\n",
              "last_price               0.0\n",
              "living_area              8.0\n",
              "locality_name            0.0\n",
              "rooms                    0.0\n",
              "studio                   0.0\n",
              "total_area               0.0\n",
              "total_images             0.0\n",
              "dtype: float64"
            ]
          },
          "execution_count": 10,
          "metadata": {},
          "output_type": "execute_result"
        }
      ],
      "source": [
        "(df.isna().mean()*100).round()"
      ]
    },
    {
      "cell_type": "markdown",
      "metadata": {
        "id": "3n02jWpaQZtq"
      },
      "source": [
        "Предполжим, что пропущенные значения в столбце балкон связаны с тем, что пользователи не указали его, потому что балконов в квартире нет:"
      ]
    },
    {
      "cell_type": "code",
      "execution_count": null,
      "metadata": {
        "id": "_it4I8tbPBTj"
      },
      "outputs": [],
      "source": [
        "df['balcony'] = df['balcony'].fillna(0)"
      ]
    },
    {
      "cell_type": "markdown",
      "metadata": {
        "id": "mTbqQ2QTQm9T"
      },
      "source": [
        "Заполним пропуска в колонке с апартаментами:"
      ]
    },
    {
      "cell_type": "code",
      "execution_count": null,
      "metadata": {
        "id": "vsH3k8TiPBBa"
      },
      "outputs": [],
      "source": [
        "df['is_apartment'] = df['is_apartment'].fillna(False)"
      ]
    },
    {
      "cell_type": "markdown",
      "metadata": {
        "id": "_UuC8s0D9V41"
      },
      "source": [
        "Заполнил нулями количество дней от публикации до снятия, т.к. скорее всего объявление еще не снято:"
      ]
    },
    {
      "cell_type": "code",
      "execution_count": null,
      "metadata": {
        "id": "_ebO6yQp9XuB"
      },
      "outputs": [],
      "source": [
        "df['days_exposition'] = df['days_exposition'].fillna(0)"
      ]
    },
    {
      "cell_type": "markdown",
      "metadata": {
        "id": "SZoIaIOHQt9r"
      },
      "source": [
        "Пропущенные значения в колонке с высотой потолков, с площадью кухни, жилой площадью, а также количество этажей заполним медианными значениями:"
      ]
    },
    {
      "cell_type": "code",
      "execution_count": null,
      "metadata": {
        "id": "DtkE8szdb8vL"
      },
      "outputs": [],
      "source": [
        "df['ceiling_height'] = df['ceiling_height'].fillna(df['ceiling_height'].median())"
      ]
    },
    {
      "cell_type": "code",
      "execution_count": null,
      "metadata": {
        "id": "TYixVR9WcX2t"
      },
      "outputs": [],
      "source": [
        "df['kitchen_area'] = df['kitchen_area'].fillna(df['kitchen_area'].median())"
      ]
    },
    {
      "cell_type": "code",
      "execution_count": null,
      "metadata": {
        "id": "KiF3CeNOcj4D"
      },
      "outputs": [],
      "source": [
        "df['living_area'] = df['living_area'].fillna(df['living_area'].median())"
      ]
    },
    {
      "cell_type": "code",
      "execution_count": null,
      "metadata": {
        "id": "2hCGzx2pcoFz"
      },
      "outputs": [],
      "source": [
        "df['floors_total'] = df['floors_total'].fillna(df['floors_total'].median())"
      ]
    },
    {
      "cell_type": "markdown",
      "metadata": {
        "id": "SDpFgSUaQ9JS"
      },
      "source": [
        "Для пропущенных населенных пунктах, поставим значение `'None'`:"
      ]
    },
    {
      "cell_type": "code",
      "execution_count": null,
      "metadata": {
        "id": "zdzf_JjZc-XF"
      },
      "outputs": [],
      "source": [
        "df['locality_name'] = df['locality_name'].fillna('None')"
      ]
    },
    {
      "cell_type": "markdown",
      "metadata": {
        "id": "-gJrs_NgnuFS"
      },
      "source": [
        "Поработаем с названиями населенных пунктов в столбце `'locality_name'`:"
      ]
    },
    {
      "cell_type": "markdown",
      "metadata": {
        "id": "jpqSoQ3CxJ5x"
      },
      "source": [
        "Посмотрим уникальные значения:"
      ]
    },
    {
      "cell_type": "code",
      "execution_count": null,
      "metadata": {
        "colab": {
          "base_uri": "https://localhost:8080/"
        },
        "id": "8eYch-wosgJf",
        "outputId": "3e8e85a7-ab33-4780-de9b-1bad12e22c3f"
      },
      "outputs": [
        {
          "data": {
            "text/plain": [
              "array(['Санкт-Петербург', 'посёлок Шушары', 'городской посёлок Янино-1',\n",
              "       'посёлок Парголово', 'посёлок Мурино', 'Ломоносов', 'Сертолово',\n",
              "       'Петергоф', 'Пушкин', 'деревня Кудрово', 'Коммунар', 'Колпино',\n",
              "       'поселок городского типа Красный Бор', 'Гатчина', 'поселок Мурино',\n",
              "       'деревня Фёдоровское', 'Выборг', 'Кронштадт', 'Кировск',\n",
              "       'деревня Новое Девяткино', 'посёлок Металлострой',\n",
              "       'посёлок городского типа Лебяжье',\n",
              "       'посёлок городского типа Сиверский', 'поселок Молодцово',\n",
              "       'поселок городского типа Кузьмоловский',\n",
              "       'садовое товарищество Новая Ропша', 'Павловск',\n",
              "       'деревня Пикколово', 'Всеволожск', 'Волхов', 'Кингисепп',\n",
              "       'Приозерск', 'Сестрорецк', 'деревня Куттузи', 'посёлок Аннино',\n",
              "       'поселок городского типа Ефимовский', 'посёлок Плодовое',\n",
              "       'деревня Заклинье', 'поселок Торковичи', 'поселок Первомайское',\n",
              "       'Красное Село', 'посёлок Понтонный', 'Сясьстрой', 'деревня Старая',\n",
              "       'деревня Лесколово', 'посёлок Новый Свет', 'Сланцы',\n",
              "       'село Путилово', 'Ивангород', 'Мурино', 'Шлиссельбург',\n",
              "       'Никольское', 'Зеленогорск', 'Сосновый Бор', 'поселок Новый Свет',\n",
              "       'деревня Оржицы', 'деревня Кальтино', 'Кудрово',\n",
              "       'поселок Романовка', 'посёлок Бугры', 'поселок Бугры',\n",
              "       'поселок городского типа Рощино', 'Кириши', 'Луга', 'Волосово',\n",
              "       'Отрадное', 'село Павлово', 'поселок Оредеж', 'село Копорье',\n",
              "       'посёлок городского типа Красный Бор', 'посёлок Молодёжное',\n",
              "       'Тихвин', 'посёлок Победа', 'деревня Нурма',\n",
              "       'поселок городского типа Синявино', 'Тосно',\n",
              "       'посёлок городского типа Кузьмоловский', 'посёлок Стрельна',\n",
              "       'Бокситогорск', 'посёлок Александровская', 'деревня Лопухинка',\n",
              "       'Пикалёво', 'поселок Терволово',\n",
              "       'поселок городского типа Советский', 'Подпорожье',\n",
              "       'посёлок Петровское', 'посёлок городского типа Токсово',\n",
              "       'поселок Сельцо', 'посёлок городского типа Вырица',\n",
              "       'деревня Кипень', 'деревня Келози', 'деревня Вартемяги',\n",
              "       'посёлок Тельмана', 'поселок Севастьяново',\n",
              "       'городской поселок Большая Ижора', 'None',\n",
              "       'городской посёлок Павлово', 'деревня Агалатово',\n",
              "       'посёлок Новогорелово', 'городской посёлок Лесогорский',\n",
              "       'деревня Лаголово', 'поселок Цвелодубово',\n",
              "       'поселок городского типа Рахья', 'поселок городского типа Вырица',\n",
              "       'деревня Белогорка', 'поселок Заводской',\n",
              "       'городской посёлок Новоселье', 'деревня Большие Колпаны',\n",
              "       'деревня Горбунки', 'деревня Батово', 'деревня Заневка',\n",
              "       'деревня Иссад', 'Приморск', 'городской посёлок Фёдоровское',\n",
              "       'деревня Мистолово', 'Новая Ладога', 'поселок Зимитицы',\n",
              "       'поселок Барышево', 'деревня Разметелево',\n",
              "       'поселок городского типа имени Свердлова', 'деревня Пеники',\n",
              "       'поселок Рябово', 'деревня Пудомяги', 'поселок станции Корнево',\n",
              "       'деревня Низино', 'деревня Бегуницы', 'посёлок Поляны',\n",
              "       'городской посёлок Мга', 'поселок Елизаветино',\n",
              "       'посёлок городского типа Кузнечное', 'деревня Колтуши',\n",
              "       'поселок Запорожское', 'посёлок городского типа Рощино',\n",
              "       'деревня Гостилицы', 'деревня Малое Карлино',\n",
              "       'посёлок Мичуринское', 'посёлок городского типа имени Морозова',\n",
              "       'посёлок Песочный', 'посёлок Сосново', 'деревня Аро',\n",
              "       'поселок Ильичёво', 'посёлок городского типа Тайцы',\n",
              "       'деревня Малое Верево', 'деревня Извара', 'поселок станции Вещево',\n",
              "       'село Паша', 'деревня Калитино',\n",
              "       'посёлок городского типа Ульяновка', 'деревня Чудской Бор',\n",
              "       'поселок городского типа Дубровка', 'деревня Мины',\n",
              "       'поселок Войсковицы', 'посёлок городского типа имени Свердлова',\n",
              "       'деревня Коркино', 'посёлок Ропша',\n",
              "       'поселок городского типа Приладожский', 'посёлок Щеглово',\n",
              "       'посёлок Гаврилово', 'Лодейное Поле', 'деревня Рабитицы',\n",
              "       'поселок городского типа Никольский', 'деревня Кузьмолово',\n",
              "       'деревня Малые Колпаны', 'поселок Тельмана',\n",
              "       'посёлок Петро-Славянка', 'городской посёлок Назия',\n",
              "       'посёлок Репино', 'посёлок Ильичёво', 'поселок Углово',\n",
              "       'поселок Старая Малукса', 'садовое товарищество Рахья',\n",
              "       'поселок Аннино', 'поселок Победа', 'деревня Меньково',\n",
              "       'деревня Старые Бегуницы', 'посёлок Сапёрный', 'поселок Семрино',\n",
              "       'поселок Гаврилово', 'поселок Глажево', 'поселок Кобринское',\n",
              "       'деревня Гарболово', 'деревня Юкки',\n",
              "       'поселок станции Приветнинское', 'деревня Мануйлово',\n",
              "       'деревня Пчева', 'поселок Поляны', 'поселок Цвылёво',\n",
              "       'поселок Мельниково', 'посёлок Пудость', 'посёлок Усть-Луга',\n",
              "       'Светогорск', 'Любань', 'поселок Селезнёво',\n",
              "       'поселок городского типа Рябово', 'Каменногорск', 'деревня Кривко',\n",
              "       'поселок Глебычево', 'деревня Парицы', 'поселок Жилпосёлок',\n",
              "       'посёлок городского типа Мга', 'городской поселок Янино-1',\n",
              "       'посёлок Войскорово', 'село Никольское', 'посёлок Терволово',\n",
              "       'поселок Стеклянный', 'посёлок городского типа Важины',\n",
              "       'посёлок Мыза-Ивановка', 'село Русско-Высоцкое',\n",
              "       'поселок городского типа Лебяжье',\n",
              "       'поселок городского типа Форносово', 'село Старая Ладога',\n",
              "       'поселок Житково', 'городской посёлок Виллози', 'деревня Лампово',\n",
              "       'деревня Шпаньково', 'деревня Лаврики', 'посёлок Сумино',\n",
              "       'посёлок Возрождение', 'деревня Старосиверская',\n",
              "       'посёлок Кикерино', 'поселок Возрождение',\n",
              "       'деревня Старое Хинколово', 'посёлок Пригородный',\n",
              "       'посёлок Торфяное', 'городской посёлок Будогощь',\n",
              "       'поселок Суходолье', 'поселок Красная Долина', 'деревня Хапо-Ое',\n",
              "       'поселок городского типа Дружная Горка', 'поселок Лисий Нос',\n",
              "       'деревня Яльгелево', 'посёлок Стеклянный', 'село Рождествено',\n",
              "       'деревня Старополье', 'посёлок Левашово', 'деревня Сяськелево',\n",
              "       'деревня Камышовка',\n",
              "       'садоводческое некоммерческое товарищество Лесная Поляна',\n",
              "       'деревня Хязельки', 'поселок Жилгородок',\n",
              "       'посёлок городского типа Павлово', 'деревня Ялгино',\n",
              "       'поселок Новый Учхоз', 'городской посёлок Рощино',\n",
              "       'поселок Гончарово', 'поселок Почап', 'посёлок Сапёрное',\n",
              "       'посёлок Платформа 69-й километр', 'поселок Каложицы',\n",
              "       'деревня Фалилеево', 'деревня Пельгора',\n",
              "       'поселок городского типа Лесогорский', 'деревня Торошковичи',\n",
              "       'посёлок Белоостров', 'посёлок Алексеевка', 'поселок Серебрянский',\n",
              "       'поселок Лукаши', 'поселок Петровское', 'деревня Щеглово',\n",
              "       'поселок Мичуринское', 'деревня Тарасово', 'поселок Кингисеппский',\n",
              "       'посёлок при железнодорожной станции Вещево', 'поселок Ушаки',\n",
              "       'деревня Котлы', 'деревня Сижно', 'деревня Торосово',\n",
              "       'посёлок Форт Красная Горка', 'поселок городского типа Токсово',\n",
              "       'деревня Новолисино', 'посёлок станции Громово', 'деревня Глинка',\n",
              "       'посёлок Мельниково', 'поселок городского типа Назия',\n",
              "       'деревня Старая Пустошь', 'поселок Коммунары', 'поселок Починок',\n",
              "       'посёлок городского типа Вознесенье', 'деревня Разбегаево',\n",
              "       'посёлок городского типа Рябово', 'поселок Гладкое',\n",
              "       'посёлок при железнодорожной станции Приветнинское',\n",
              "       'поселок Тёсово-4', 'посёлок Жилгородок', 'деревня Бор',\n",
              "       'посёлок Коробицыно', 'деревня Большая Вруда', 'деревня Курковицы',\n",
              "       'посёлок Лисий Нос', 'городской посёлок Советский',\n",
              "       'посёлок Кобралово', 'деревня Суоранда', 'поселок Кобралово',\n",
              "       'поселок городского типа Кондратьево',\n",
              "       'коттеджный поселок Счастье', 'поселок Любань', 'деревня Реброво',\n",
              "       'деревня Зимитицы', 'деревня Тойворово', 'поселок Семиозерье',\n",
              "       'поселок Лесное', 'поселок Совхозный', 'поселок Усть-Луга',\n",
              "       'посёлок Ленинское', 'посёлок Суйда',\n",
              "       'посёлок городского типа Форносово', 'деревня Нижние Осельки',\n",
              "       'посёлок станции Свирь', 'поселок Перово', 'Высоцк',\n",
              "       'поселок Гарболово', 'село Шум', 'поселок Котельский',\n",
              "       'поселок станции Лужайка', 'деревня Большая Пустомержа',\n",
              "       'поселок Красносельское', 'деревня Вахнова Кара', 'деревня Пижма',\n",
              "       'коттеджный поселок Кивеннапа Север', 'поселок Коробицыно',\n",
              "       'поселок Ромашки', 'посёлок Перово', 'деревня Каськово',\n",
              "       'деревня Куровицы', 'посёлок Плоское', 'поселок Сумино',\n",
              "       'поселок городского типа Большая Ижора', 'поселок Кирпичное',\n",
              "       'деревня Ям-Тесово', 'деревня Раздолье', 'деревня Терпилицы',\n",
              "       'посёлок Шугозеро', 'деревня Ваганово', 'поселок Пушное',\n",
              "       'садовое товарищество Садко', 'посёлок Усть-Ижора',\n",
              "       'деревня Выскатка', 'городской посёлок Свирьстрой',\n",
              "       'поселок Громово', 'деревня Кисельня', 'посёлок Старая Малукса',\n",
              "       'деревня Трубников Бор', 'поселок Калитино',\n",
              "       'посёлок Высокоключевой', 'садовое товарищество Приладожский',\n",
              "       'посёлок Пансионат Зелёный Бор', 'деревня Ненимяки',\n",
              "       'поселок Пансионат Зелёный Бор', 'деревня Снегирёвка',\n",
              "       'деревня Рапполово', 'деревня Пустынка', 'поселок Рабитицы',\n",
              "       'деревня Большой Сабск', 'деревня Русско', 'деревня Лупполово',\n",
              "       'деревня Большое Рейзино', 'деревня Малая Романовка',\n",
              "       'поселок Дружноселье', 'поселок Пчевжа', 'поселок Володарское',\n",
              "       'деревня Нижняя', 'коттеджный посёлок Лесное', 'деревня Тихковицы',\n",
              "       'деревня Борисова Грива', 'посёлок Дзержинского'], dtype=object)"
            ]
          },
          "execution_count": 19,
          "metadata": {},
          "output_type": "execute_result"
        }
      ],
      "source": [
        "df['locality_name'].unique()"
      ]
    },
    {
      "cell_type": "markdown",
      "metadata": {
        "id": "81wKj-5_xVQX"
      },
      "source": [
        "Количество уникальных значений в столбце:"
      ]
    },
    {
      "cell_type": "code",
      "execution_count": null,
      "metadata": {
        "colab": {
          "base_uri": "https://localhost:8080/"
        },
        "id": "hbWL55LQv-ls",
        "outputId": "e4a54997-28b4-411d-c948-229b5d5ecca8"
      },
      "outputs": [
        {
          "data": {
            "text/plain": [
              "365"
            ]
          },
          "execution_count": 20,
          "metadata": {},
          "output_type": "execute_result"
        }
      ],
      "source": [
        "len(df['locality_name'].unique())"
      ]
    },
    {
      "cell_type": "markdown",
      "metadata": {
        "id": "OdBgrT9Q0H69"
      },
      "source": [
        "Посмотрим на первые 10 уникальных значений:"
      ]
    },
    {
      "cell_type": "code",
      "execution_count": null,
      "metadata": {
        "colab": {
          "base_uri": "https://localhost:8080/"
        },
        "id": "nZaixBBGz6Fv",
        "outputId": "ae2411cd-03c1-4945-fb3c-9d74a9fef7ba"
      },
      "outputs": [
        {
          "data": {
            "text/plain": [
              "Санкт-Петербург      15721\n",
              "посёлок Мурино         522\n",
              "посёлок Шушары         440\n",
              "Всеволожск             398\n",
              "Пушкин                 369\n",
              "Колпино                338\n",
              "посёлок Парголово      327\n",
              "Гатчина                307\n",
              "деревня Кудрово        299\n",
              "Выборг                 237\n",
              "Name: locality_name, dtype: int64"
            ]
          },
          "execution_count": 21,
          "metadata": {},
          "output_type": "execute_result"
        }
      ],
      "source": [
        "df['locality_name'].value_counts().head(10)"
      ]
    },
    {
      "cell_type": "markdown",
      "metadata": {
        "id": "zxr8E9mSxPGD"
      },
      "source": [
        "Заменим \"ё\" на \"е\":"
      ]
    },
    {
      "cell_type": "code",
      "execution_count": null,
      "metadata": {
        "id": "TfStl2b2nuk5"
      },
      "outputs": [],
      "source": [
        "df['locality_name'] = df['locality_name'].str.replace('ё','е')"
      ]
    },
    {
      "cell_type": "markdown",
      "metadata": {
        "id": "heM6iz07xewj"
      },
      "source": [
        "Поскольку наименований типов населенных пунктов не так много, можно вручную их заменить, оставим только название населенного пунтка:"
      ]
    },
    {
      "cell_type": "code",
      "execution_count": null,
      "metadata": {
        "id": "jI5kbywIpId7"
      },
      "outputs": [],
      "source": [
        "name_for_replace = ['поселок ', 'деревня ', 'городского ', 'городской ', 'типа ', 'станции ', 'садовое ', 'товарищество ', 'некоммерческое ', 'коттеджный ', 'село']\n",
        "\n",
        "for name in name_for_replace:\n",
        "  df['locality_name'] = df['locality_name'].str.replace(name,'')"
      ]
    },
    {
      "cell_type": "markdown",
      "metadata": {
        "id": "EXCYrxlGxrxe"
      },
      "source": [
        "Посмотрим на замену:"
      ]
    },
    {
      "cell_type": "code",
      "execution_count": null,
      "metadata": {
        "colab": {
          "base_uri": "https://localhost:8080/"
        },
        "id": "BF8wHarUxqE8",
        "outputId": "cbccf874-5449-43b4-c7ef-473bda6b71e2"
      },
      "outputs": [
        {
          "data": {
            "text/plain": [
              "array(['Санкт-Петербург', 'Шушары', 'Янино-1', 'Парголово', 'Мурино',\n",
              "       'Ломоносов', 'Сертолово', 'Петергоф', 'Пушкин', 'Кудрово',\n",
              "       'Коммунар', 'Колпино', 'Красный Бор', 'Гатчина', 'Федоровское',\n",
              "       'Выборг', 'Кронштадт', 'Кировск', 'Новое Девяткино',\n",
              "       'Металлострой', 'Лебяжье', 'Сиверский', 'Молодцово',\n",
              "       'Кузьмоловский', 'Новая Ропша', 'Павловск', 'Пикколово',\n",
              "       'Всеволожск', 'Волхов', 'Кингисепп', 'Приозерск', 'Сестрорецк',\n",
              "       'Куттузи', 'Аннино', 'Ефимовский', 'Плодовое', 'Заклинье',\n",
              "       'Торковичи', 'Первомайское', 'Красное Село', 'Понтонный',\n",
              "       'Сясьстрой', 'Старая', 'Лесколово', 'Новый Свет', 'Сланцы',\n",
              "       ' Путилово', 'Ивангород', 'Шлиссельбург', 'Никольское',\n",
              "       'Зеленогорск', 'Сосновый Бор', 'Оржицы', 'Кальтино', 'Романовка',\n",
              "       'Бугры', 'Рощино', 'Кириши', 'Луга', 'Волосово', 'Отрадное',\n",
              "       ' Павлово', 'Оредеж', ' Копорье', 'Молодежное', 'Тихвин', 'Победа',\n",
              "       'Нурма', 'Синявино', 'Тосно', 'Стрельна', 'Бокситогорск',\n",
              "       'Александровская', 'Лопухинка', 'Пикалево', 'Терволово',\n",
              "       'Советский', 'Подпорожье', 'Петровское', 'Токсово', 'Сельцо',\n",
              "       'Вырица', 'Кипень', 'Келози', 'Вартемяги', 'Тельмана',\n",
              "       'Севастьяново', 'Большая Ижора', 'None', 'Павлово', 'Агалатово',\n",
              "       'Новогорелово', 'Лесогорский', 'Лаголово', 'Цвелодубово', 'Рахья',\n",
              "       'Белогорка', 'Заводской', 'Новоселье', 'Большие Колпаны',\n",
              "       'Горбунки', 'Батово', 'Заневка', 'Иссад', 'Приморск', 'Мистолово',\n",
              "       'Новая Ладога', 'Зимитицы', 'Барышево', 'Разметелево',\n",
              "       'имени Свердлова', 'Пеники', 'Рябово', 'Пудомяги', 'Корнево',\n",
              "       'Низино', 'Бегуницы', 'Поляны', 'Мга', 'Елизаветино', 'Кузнечное',\n",
              "       'Колтуши', 'Запорожское', 'Гостилицы', 'Малое Карлино',\n",
              "       'Мичуринское', 'имени Морозова', 'Песочный', 'Сосново', 'Аро',\n",
              "       'Ильичево', 'Тайцы', 'Малое Верево', 'Извара', 'Вещево', ' Паша',\n",
              "       'Калитино', 'Ульяновка', 'Чудской Бор', 'Дубровка', 'Мины',\n",
              "       'Войсковицы', 'Коркино', 'Ропша', 'Приладожский', 'Щеглово',\n",
              "       'Гаврилово', 'Лодейное Поле', 'Рабитицы', 'Никольский',\n",
              "       'Кузьмолово', 'Малые Колпаны', 'Петро-Славянка', 'Назия', 'Репино',\n",
              "       'Углово', 'Старая Малукса', 'Меньково', 'Старые Бегуницы',\n",
              "       'Саперный', 'Семрино', 'Глажево', 'Кобринское', 'Гарболово',\n",
              "       'Юкки', 'Приветнинское', 'Мануйлово', 'Пчева', 'Цвылево',\n",
              "       'Мельниково', 'Пудость', 'Усть-Луга', 'Светогорск', 'Любань',\n",
              "       'Селезнево', 'Каменногорск', 'Кривко', 'Глебычево', 'Парицы',\n",
              "       'Жилпок', 'Войскорово', ' Никольское', 'Стеклянный', 'Важины',\n",
              "       'Мыза-Ивановка', ' Русско-Высоцкое', 'Форносово', ' Старая Ладога',\n",
              "       'Житково', 'Виллози', 'Лампово', 'Шпаньково', 'Лаврики', 'Сумино',\n",
              "       'Возрождение', 'Старосиверская', 'Кикерино', 'Старое Хинколово',\n",
              "       'Пригородный', 'Торфяное', 'Будогощь', 'Суходолье',\n",
              "       'Красная Долина', 'Хапо-Ое', 'Дружная Горка', 'Лисий Нос',\n",
              "       'Яльгелево', ' Рождествено', 'Старополье', 'Левашово',\n",
              "       'Сяськелево', 'Камышовка', 'садоводческое Лесная Поляна',\n",
              "       'Хязельки', 'Жилгородок', 'Ялгино', 'Новый Учхоз', 'Гончарово',\n",
              "       'Почап', 'Саперное', 'Платформа 69-й километр', 'Каложицы',\n",
              "       'Фалилеево', 'Пельгора', 'Торошковичи', 'Белоостров', 'Алексеевка',\n",
              "       'Серебрянский', 'Лукаши', 'Тарасово', 'Кингисеппский',\n",
              "       'при железнодорожной Вещево', 'Ушаки', 'Котлы', 'Сижно',\n",
              "       'Торосово', 'Форт Красная Горка', 'Новолисино', 'Громово',\n",
              "       'Глинка', 'Старая Пустошь', 'Коммунары', 'Починок', 'Вознесенье',\n",
              "       'Разбегаево', 'Гладкое', 'при железнодорожной Приветнинское',\n",
              "       'Тесово-4', 'Бор', 'Коробицыно', 'Большая Вруда', 'Курковицы',\n",
              "       'Кобралово', 'Суоранда', 'Кондратьево', 'Счастье', 'Реброво',\n",
              "       'Тойворово', 'Семиозерье', 'Лесное', 'Совхозный', 'Ленинское',\n",
              "       'Суйда', 'Нижние Осельки', 'Свирь', 'Перово', 'Высоцк', ' Шум',\n",
              "       'Котельский', 'Лужайка', 'Большая Пустомержа', 'Красносельское',\n",
              "       'Вахнова Кара', 'Пижма', 'Кивеннапа Север', 'Ромашки', 'Каськово',\n",
              "       'Куровицы', 'Плоское', 'Кирпичное', 'Ям-Тесово', 'Раздолье',\n",
              "       'Терпилицы', 'Шугозеро', 'Ваганово', 'Пушное', 'Садко',\n",
              "       'Усть-Ижора', 'Выскатка', 'Свирьстрой', 'Кисельня',\n",
              "       'Трубников Бор', 'Высокоключевой', 'Пансионат Зеленый Бор',\n",
              "       'Ненимяки', 'Снегиревка', 'Рапполово', 'Пустынка', 'Большой Сабск',\n",
              "       'Русско', 'Лупполово', 'Большое Рейзино', 'Малая Романовка',\n",
              "       'Дружноселье', 'Пчевжа', 'Володарское', 'Нижняя', 'Тихковицы',\n",
              "       'Борисова Грива', 'Дзержинского'], dtype=object)"
            ]
          },
          "execution_count": 24,
          "metadata": {},
          "output_type": "execute_result"
        }
      ],
      "source": [
        "df['locality_name'].unique()"
      ]
    },
    {
      "cell_type": "code",
      "execution_count": null,
      "metadata": {
        "colab": {
          "base_uri": "https://localhost:8080/"
        },
        "id": "vIEYdgAgxoj0",
        "outputId": "685c33f5-0a4e-4d30-870d-6485f2bf03d6"
      },
      "outputs": [
        {
          "data": {
            "text/plain": [
              "310"
            ]
          },
          "execution_count": 25,
          "metadata": {},
          "output_type": "execute_result"
        }
      ],
      "source": [
        "len(df['locality_name'].unique())"
      ]
    },
    {
      "cell_type": "markdown",
      "metadata": {
        "id": "9f0XjWaJ0M4p"
      },
      "source": [
        "Посмотрим как изменился топ 10 уникальных значений:"
      ]
    },
    {
      "cell_type": "code",
      "execution_count": null,
      "metadata": {
        "colab": {
          "base_uri": "https://localhost:8080/"
        },
        "id": "kFi9qnxr0MIk",
        "outputId": "c5a941e1-710b-4dc2-9b80-b43a6bf65ae8"
      },
      "outputs": [
        {
          "data": {
            "text/plain": [
              "Санкт-Петербург    15721\n",
              "Мурино               590\n",
              "Кудрово              472\n",
              "Шушары               440\n",
              "Всеволожск           398\n",
              "Пушкин               369\n",
              "Колпино              338\n",
              "Парголово            327\n",
              "Гатчина              307\n",
              "Выборг               237\n",
              "Name: locality_name, dtype: int64"
            ]
          },
          "execution_count": 26,
          "metadata": {},
          "output_type": "execute_result"
        }
      ],
      "source": [
        "df['locality_name'].value_counts().head(10)"
      ]
    },
    {
      "cell_type": "markdown",
      "metadata": {
        "id": "k-SJ3Q3XyZAV"
      },
      "source": [
        "Посмотрим не ошиблись ли при вводе названий населенных пунктов в части строчных и прописных букв:"
      ]
    },
    {
      "cell_type": "code",
      "execution_count": null,
      "metadata": {
        "colab": {
          "base_uri": "https://localhost:8080/"
        },
        "id": "3rNHtAEiyKF0",
        "outputId": "b3f36dc9-fcc4-4218-fa71-a8f2f11037a6"
      },
      "outputs": [
        {
          "data": {
            "text/plain": [
              "310"
            ]
          },
          "execution_count": 27,
          "metadata": {},
          "output_type": "execute_result"
        }
      ],
      "source": [
        "len(df['locality_name'].str.lower().unique())"
      ]
    },
    {
      "cell_type": "markdown",
      "metadata": {
        "id": "P6wEvZR0ykmz"
      },
      "source": [
        "Поскольку количество уникальных значений не изменилось, можно сделать вывод, что строчные или прописные буквы на наш расчет не повлияют:"
      ]
    },
    {
      "cell_type": "markdown",
      "metadata": {
        "id": "zw4a-p1FRFna"
      },
      "source": [
        "Заменим типы данных:"
      ]
    },
    {
      "cell_type": "code",
      "execution_count": null,
      "metadata": {
        "id": "tVd0cWvMHpOj"
      },
      "outputs": [],
      "source": [
        "df['balcony'] = df['balcony'].astype('uint8')\n",
        "df['ceiling_height'] = df['ceiling_height'].astype('float32')\n",
        "df['first_day_exposition'] = pd.to_datetime(df['first_day_exposition'], format='%Y-%m-%d')\n",
        "df['floor'] = df['floor'].astype('uint8')\n",
        "df['floors_total'] = df['floors_total'].astype('uint8')\n",
        "df['kitchen_area'] = df['kitchen_area'].astype('float32')\n",
        "df['last_price'] = (df['last_price']/1000000).astype('float32')\n",
        "df['living_area'] = df['living_area'].astype('float32')\n",
        "#df['locality_name'] = df['locality_name'].astype('category') - оставим object\n",
        "df['rooms'] = df['rooms'].astype('uint8')\n",
        "df['total_area'] = df['total_area'].astype('float32')\n",
        "df['total_images'] = df['total_images'].astype('uint8')"
      ]
    },
    {
      "cell_type": "markdown",
      "metadata": {
        "id": "2HJYonlJRL6q"
      },
      "source": [
        "Проверим количество дубликатов:"
      ]
    },
    {
      "cell_type": "code",
      "execution_count": null,
      "metadata": {
        "colab": {
          "base_uri": "https://localhost:8080/"
        },
        "id": "xY_41mBCOyPy",
        "outputId": "fba4a832-87d6-4443-9584-36dc4240ddb4"
      },
      "outputs": [
        {
          "data": {
            "text/plain": [
              "0"
            ]
          },
          "execution_count": 29,
          "metadata": {},
          "output_type": "execute_result"
        }
      ],
      "source": [
        "df.duplicated().sum()"
      ]
    },
    {
      "cell_type": "markdown",
      "metadata": {
        "id": "yU3vI8FpRO4i"
      },
      "source": [
        "Посмотрим информацию о датасете:"
      ]
    },
    {
      "cell_type": "code",
      "execution_count": null,
      "metadata": {
        "colab": {
          "base_uri": "https://localhost:8080/"
        },
        "id": "A96Gu3Jte3wE",
        "outputId": "5706fc19-dcd4-4df2-cbb8-3645509a3fcd"
      },
      "outputs": [
        {
          "name": "stdout",
          "output_type": "stream",
          "text": [
            "<class 'pandas.core.frame.DataFrame'>\n",
            "RangeIndex: 23699 entries, 0 to 23698\n",
            "Data columns (total 16 columns):\n",
            "balcony                 23699 non-null uint8\n",
            "ceiling_height          23699 non-null float32\n",
            "city_centers_nearest    18180 non-null float64\n",
            "days_exposition         23699 non-null float64\n",
            "first_day_exposition    23699 non-null datetime64[ns]\n",
            "floor                   23699 non-null uint8\n",
            "floors_total            23699 non-null uint8\n",
            "is_apartment            23699 non-null bool\n",
            "kitchen_area            23699 non-null float32\n",
            "last_price              23699 non-null float32\n",
            "living_area             23699 non-null float32\n",
            "locality_name           23699 non-null object\n",
            "rooms                   23699 non-null uint8\n",
            "studio                  23699 non-null bool\n",
            "total_area              23699 non-null float32\n",
            "total_images            23699 non-null uint8\n",
            "dtypes: bool(2), datetime64[ns](1), float32(5), float64(2), object(1), uint8(5)\n",
            "memory usage: 1.3+ MB\n"
          ]
        }
      ],
      "source": [
        "df.info()"
      ]
    },
    {
      "cell_type": "markdown",
      "metadata": {
        "id": "AZglsqCERYOC"
      },
      "source": [
        "### Вывод"
      ]
    },
    {
      "cell_type": "markdown",
      "metadata": {
        "id": "-rcVhacVRXLK"
      },
      "source": [
        "При предобработке данных:\n",
        "- заменили пропущенные значения, кроме в двух столбцах: `'city_centers_nearest'` и `'days_exposition'`, так как точно определить расстояние до центра мы не можем, а пропущенные значения в днях публикации, могут быть связаны с тем, что объявление еще не снято;\n",
        "- при изменении типов данных удалось снизить размер датасета с `2,7+ MB` до `1,3 MB`;\n",
        "- проработали с наименованиями населенных пунктов, с целью исключить ошибки при вводе названий пунктов."
      ]
    },
    {
      "cell_type": "markdown",
      "metadata": {
        "id": "rFdXqtknGK49"
      },
      "source": [
        "## Расчёты и добавление результатов в таблицу"
      ]
    },
    {
      "cell_type": "markdown",
      "metadata": {
        "id": "w98Bw5Bwg6fc"
      },
      "source": [
        "Посчитайте и добавьте в таблицу  \n",
        "\n",
        "цену квадратного метра;  \n",
        "день недели, месяц и год публикации объявления;  \n",
        "этаж квартиры; варианты — первый, последний, другой;  \n",
        "соотношение жилой и общей площади, а также отношение площади кухни к общей."
      ]
    },
    {
      "cell_type": "markdown",
      "metadata": {
        "id": "VqyaBuIISYzA"
      },
      "source": [
        "Расчитаем и добавим в данные цену квадратного метра:"
      ]
    },
    {
      "cell_type": "code",
      "execution_count": null,
      "metadata": {
        "id": "geORL5aZGK4-"
      },
      "outputs": [],
      "source": [
        "df['square_meter_price'] = (df['last_price']*1000000/df['total_area']).astype('int')"
      ]
    },
    {
      "cell_type": "markdown",
      "metadata": {
        "id": "tqPUhMOkSefR"
      },
      "source": [
        "Расчитаем и добавим в данные день недели публикации объявления:"
      ]
    },
    {
      "cell_type": "code",
      "execution_count": null,
      "metadata": {
        "id": "qiOPQdzcnkyO"
      },
      "outputs": [],
      "source": [
        "df['weekday'] = df['first_day_exposition'].dt.weekday"
      ]
    },
    {
      "cell_type": "markdown",
      "metadata": {
        "id": "QyJaf9GTSfah"
      },
      "source": [
        "Расчитаем и добавим в данные месяц публикации объявления:"
      ]
    },
    {
      "cell_type": "code",
      "execution_count": null,
      "metadata": {
        "id": "FuEzBQ56oT3G"
      },
      "outputs": [],
      "source": [
        "df['month'] = df['first_day_exposition'].dt.month"
      ]
    },
    {
      "cell_type": "markdown",
      "metadata": {
        "id": "bj7oyM71SgEi"
      },
      "source": [
        "Расчитаем и добавим в данные год публикации объявления:"
      ]
    },
    {
      "cell_type": "code",
      "execution_count": null,
      "metadata": {
        "id": "GMb9hMsPou9W"
      },
      "outputs": [],
      "source": [
        "df['year'] = df['first_day_exposition'].dt.year"
      ]
    },
    {
      "cell_type": "markdown",
      "metadata": {
        "id": "B3QKifTCSh-i"
      },
      "source": [
        "Расчитаем и добавим в данные этаж квартиры создав категории (первый, последний, другой) объявления:"
      ]
    },
    {
      "cell_type": "code",
      "execution_count": null,
      "metadata": {
        "id": "Qf6xbIuXpmjW"
      },
      "outputs": [],
      "source": [
        "# определяем функцию для категоризации данных о этажах\n",
        "def floor(df):\n",
        "  # добавим конструкцию try-except с целью, если значения нельзя будет поделить\n",
        "  try:\n",
        "    if df['floor'] == 1:\n",
        "     return 'первый'\n",
        "    elif df['floor']/df['floors_total'] == 1:\n",
        "     return 'последний'\n",
        "    else:\n",
        "      return 'другой'\n",
        "  except:\n",
        "    np.NaN"
      ]
    },
    {
      "cell_type": "markdown",
      "metadata": {
        "id": "hzfwlnPXTCaS"
      },
      "source": [
        "Создадим новый столбец с категориями:"
      ]
    },
    {
      "cell_type": "code",
      "execution_count": null,
      "metadata": {
        "id": "CFUHC_RJqR2n"
      },
      "outputs": [],
      "source": [
        "df['floor_kind'] = df.apply(floor, axis=1)"
      ]
    },
    {
      "cell_type": "markdown",
      "metadata": {
        "id": "4AeEQdbTTKnS"
      },
      "source": [
        "Расчитаем и добавим в данные соотношение жилой и общей площади:"
      ]
    },
    {
      "cell_type": "code",
      "execution_count": null,
      "metadata": {
        "id": "63-xTKIqtOyP"
      },
      "outputs": [],
      "source": [
        "def living_area_ratio(df):\n",
        "  try:\n",
        "    return df['living_area']/df['total_area']\n",
        "  except:\n",
        "    np.NaN"
      ]
    },
    {
      "cell_type": "markdown",
      "metadata": {
        "id": "sJGHUCs2TR4L"
      },
      "source": [
        "Создадим столбец с соотношением:"
      ]
    },
    {
      "cell_type": "code",
      "execution_count": null,
      "metadata": {
        "id": "mOe2RdHMtVDB"
      },
      "outputs": [],
      "source": [
        "df['living_area_ratio'] = df.apply(living_area_ratio, axis=1)"
      ]
    },
    {
      "cell_type": "markdown",
      "metadata": {
        "id": "UWk334-ATVd8"
      },
      "source": [
        "Расчитаем и добавим в данные отношение площади кухни к общей:"
      ]
    },
    {
      "cell_type": "code",
      "execution_count": null,
      "metadata": {
        "id": "j_H0lx7PuQJv"
      },
      "outputs": [],
      "source": [
        "def kitchen_area_ratio(df):\n",
        "  try:\n",
        "    return df['kitchen_area']/df['total_area']\n",
        "  except:\n",
        "    np.NaN"
      ]
    },
    {
      "cell_type": "markdown",
      "metadata": {
        "id": "_3cnjbZwTb6S"
      },
      "source": [
        "Создадим столбец с соотношением:"
      ]
    },
    {
      "cell_type": "code",
      "execution_count": null,
      "metadata": {
        "id": "vaXN2oMIuSYX"
      },
      "outputs": [],
      "source": [
        "df['kitchen_area_ratio'] = df.apply(kitchen_area_ratio, axis=1)"
      ]
    },
    {
      "cell_type": "markdown",
      "metadata": {
        "id": "cFXgfa3TTjHB"
      },
      "source": [
        "Посмотрим на первые 5 строк с добавленными признаками:"
      ]
    },
    {
      "cell_type": "code",
      "execution_count": null,
      "metadata": {
        "colab": {
          "base_uri": "https://localhost:8080/",
          "height": 340
        },
        "id": "9G180YQls2o4",
        "outputId": "8209a811-77a6-48e6-b951-06f2881b954b"
      },
      "outputs": [
        {
          "data": {
            "text/html": [
              "<div>\n",
              "<style scoped>\n",
              "    .dataframe tbody tr th:only-of-type {\n",
              "        vertical-align: middle;\n",
              "    }\n",
              "\n",
              "    .dataframe tbody tr th {\n",
              "        vertical-align: top;\n",
              "    }\n",
              "\n",
              "    .dataframe thead th {\n",
              "        text-align: right;\n",
              "    }\n",
              "</style>\n",
              "<table border=\"1\" class=\"dataframe\">\n",
              "  <thead>\n",
              "    <tr style=\"text-align: right;\">\n",
              "      <th></th>\n",
              "      <th>balcony</th>\n",
              "      <th>ceiling_height</th>\n",
              "      <th>city_centers_nearest</th>\n",
              "      <th>days_exposition</th>\n",
              "      <th>first_day_exposition</th>\n",
              "      <th>floor</th>\n",
              "      <th>floors_total</th>\n",
              "      <th>is_apartment</th>\n",
              "      <th>kitchen_area</th>\n",
              "      <th>last_price</th>\n",
              "      <th>...</th>\n",
              "      <th>studio</th>\n",
              "      <th>total_area</th>\n",
              "      <th>total_images</th>\n",
              "      <th>square_meter_price</th>\n",
              "      <th>weekday</th>\n",
              "      <th>month</th>\n",
              "      <th>year</th>\n",
              "      <th>floor_kind</th>\n",
              "      <th>living_area_ratio</th>\n",
              "      <th>kitchen_area_ratio</th>\n",
              "    </tr>\n",
              "  </thead>\n",
              "  <tbody>\n",
              "    <tr>\n",
              "      <td>0</td>\n",
              "      <td>0</td>\n",
              "      <td>2.70</td>\n",
              "      <td>16028.0</td>\n",
              "      <td>0.0</td>\n",
              "      <td>2019-03-07</td>\n",
              "      <td>8</td>\n",
              "      <td>16</td>\n",
              "      <td>False</td>\n",
              "      <td>25.0</td>\n",
              "      <td>13.000000</td>\n",
              "      <td>...</td>\n",
              "      <td>False</td>\n",
              "      <td>108.000000</td>\n",
              "      <td>20</td>\n",
              "      <td>120370</td>\n",
              "      <td>3</td>\n",
              "      <td>3</td>\n",
              "      <td>2019</td>\n",
              "      <td>другой</td>\n",
              "      <td>0.472222</td>\n",
              "      <td>0.231481</td>\n",
              "    </tr>\n",
              "    <tr>\n",
              "      <td>1</td>\n",
              "      <td>2</td>\n",
              "      <td>2.65</td>\n",
              "      <td>18603.0</td>\n",
              "      <td>81.0</td>\n",
              "      <td>2018-12-04</td>\n",
              "      <td>1</td>\n",
              "      <td>11</td>\n",
              "      <td>False</td>\n",
              "      <td>11.0</td>\n",
              "      <td>3.350000</td>\n",
              "      <td>...</td>\n",
              "      <td>False</td>\n",
              "      <td>40.400002</td>\n",
              "      <td>7</td>\n",
              "      <td>82920</td>\n",
              "      <td>1</td>\n",
              "      <td>12</td>\n",
              "      <td>2018</td>\n",
              "      <td>первый</td>\n",
              "      <td>0.460396</td>\n",
              "      <td>0.272277</td>\n",
              "    </tr>\n",
              "    <tr>\n",
              "      <td>2</td>\n",
              "      <td>0</td>\n",
              "      <td>2.65</td>\n",
              "      <td>13933.0</td>\n",
              "      <td>558.0</td>\n",
              "      <td>2015-08-20</td>\n",
              "      <td>4</td>\n",
              "      <td>5</td>\n",
              "      <td>False</td>\n",
              "      <td>8.3</td>\n",
              "      <td>5.196000</td>\n",
              "      <td>...</td>\n",
              "      <td>False</td>\n",
              "      <td>56.000000</td>\n",
              "      <td>10</td>\n",
              "      <td>92785</td>\n",
              "      <td>3</td>\n",
              "      <td>8</td>\n",
              "      <td>2015</td>\n",
              "      <td>другой</td>\n",
              "      <td>0.612500</td>\n",
              "      <td>0.148214</td>\n",
              "    </tr>\n",
              "    <tr>\n",
              "      <td>3</td>\n",
              "      <td>0</td>\n",
              "      <td>2.65</td>\n",
              "      <td>6800.0</td>\n",
              "      <td>424.0</td>\n",
              "      <td>2015-07-24</td>\n",
              "      <td>9</td>\n",
              "      <td>14</td>\n",
              "      <td>False</td>\n",
              "      <td>9.1</td>\n",
              "      <td>64.900002</td>\n",
              "      <td>...</td>\n",
              "      <td>False</td>\n",
              "      <td>159.000000</td>\n",
              "      <td>0</td>\n",
              "      <td>408176</td>\n",
              "      <td>4</td>\n",
              "      <td>7</td>\n",
              "      <td>2015</td>\n",
              "      <td>другой</td>\n",
              "      <td>0.188679</td>\n",
              "      <td>0.057233</td>\n",
              "    </tr>\n",
              "    <tr>\n",
              "      <td>4</td>\n",
              "      <td>0</td>\n",
              "      <td>3.03</td>\n",
              "      <td>8098.0</td>\n",
              "      <td>121.0</td>\n",
              "      <td>2018-06-19</td>\n",
              "      <td>13</td>\n",
              "      <td>14</td>\n",
              "      <td>False</td>\n",
              "      <td>41.0</td>\n",
              "      <td>10.000000</td>\n",
              "      <td>...</td>\n",
              "      <td>False</td>\n",
              "      <td>100.000000</td>\n",
              "      <td>2</td>\n",
              "      <td>100000</td>\n",
              "      <td>1</td>\n",
              "      <td>6</td>\n",
              "      <td>2018</td>\n",
              "      <td>другой</td>\n",
              "      <td>0.320000</td>\n",
              "      <td>0.410000</td>\n",
              "    </tr>\n",
              "  </tbody>\n",
              "</table>\n",
              "<p>5 rows × 23 columns</p>\n",
              "</div>"
            ],
            "text/plain": [
              "   balcony  ceiling_height  city_centers_nearest  days_exposition  \\\n",
              "0        0            2.70               16028.0              0.0   \n",
              "1        2            2.65               18603.0             81.0   \n",
              "2        0            2.65               13933.0            558.0   \n",
              "3        0            2.65                6800.0            424.0   \n",
              "4        0            3.03                8098.0            121.0   \n",
              "\n",
              "  first_day_exposition  floor  floors_total  is_apartment  kitchen_area  \\\n",
              "0           2019-03-07      8            16         False          25.0   \n",
              "1           2018-12-04      1            11         False          11.0   \n",
              "2           2015-08-20      4             5         False           8.3   \n",
              "3           2015-07-24      9            14         False           9.1   \n",
              "4           2018-06-19     13            14         False          41.0   \n",
              "\n",
              "   last_price  ...  studio  total_area  total_images  square_meter_price  \\\n",
              "0   13.000000  ...   False  108.000000            20              120370   \n",
              "1    3.350000  ...   False   40.400002             7               82920   \n",
              "2    5.196000  ...   False   56.000000            10               92785   \n",
              "3   64.900002  ...   False  159.000000             0              408176   \n",
              "4   10.000000  ...   False  100.000000             2              100000   \n",
              "\n",
              "   weekday  month  year  floor_kind  living_area_ratio  kitchen_area_ratio  \n",
              "0        3      3  2019      другой           0.472222            0.231481  \n",
              "1        1     12  2018      первый           0.460396            0.272277  \n",
              "2        3      8  2015      другой           0.612500            0.148214  \n",
              "3        4      7  2015      другой           0.188679            0.057233  \n",
              "4        1      6  2018      другой           0.320000            0.410000  \n",
              "\n",
              "[5 rows x 23 columns]"
            ]
          },
          "execution_count": 41,
          "metadata": {},
          "output_type": "execute_result"
        }
      ],
      "source": [
        "df.head()"
      ]
    },
    {
      "cell_type": "markdown",
      "metadata": {
        "id": "nnhv6BWBGK4_"
      },
      "source": [
        "## Исследовательский анализ данных"
      ]
    },
    {
      "cell_type": "markdown",
      "metadata": {
        "id": "qgvpCo5KvHWG"
      },
      "source": [
        "### Изучение площади, цены, числа комнат, высоты потолков"
      ]
    },
    {
      "cell_type": "markdown",
      "metadata": {
        "id": "mTZTILbE1Ezq"
      },
      "source": [
        "Рассмотрим признак площадь - `'total_area'`:"
      ]
    },
    {
      "cell_type": "code",
      "execution_count": null,
      "metadata": {
        "colab": {
          "base_uri": "https://localhost:8080/"
        },
        "id": "YASFtCzllfGT",
        "outputId": "3b1e7410-a316-4518-f33a-720d21d86f3e"
      },
      "outputs": [
        {
          "data": {
            "text/plain": [
              "count    23699.000000\n",
              "mean        60.348648\n",
              "std         35.654083\n",
              "min         12.000000\n",
              "25%         40.000000\n",
              "50%         52.000000\n",
              "75%         69.900002\n",
              "max        900.000000\n",
              "Name: total_area, dtype: float64"
            ]
          },
          "execution_count": 42,
          "metadata": {},
          "output_type": "execute_result"
        }
      ],
      "source": [
        "df['total_area'].describe()"
      ]
    },
    {
      "cell_type": "markdown",
      "metadata": {
        "id": "HqOnxic91KMJ"
      },
      "source": [
        "Построим гистограмму и boxplot:"
      ]
    },
    {
      "cell_type": "code",
      "execution_count": null,
      "metadata": {
        "colab": {
          "base_uri": "https://localhost:8080/",
          "height": 490
        },
        "id": "iksk28mWzSkA",
        "outputId": "1157d143-e56a-47ee-9db7-326472042901"
      },
      "outputs": [
        {
          "data": {
            "image/png": "[encoded data removed]",
            "text/plain": [
              "<Figure size 720x360 with 1 Axes>"
            ]
          },
          "metadata": {
            "needs_background": "light"
          },
          "output_type": "display_data"
        },
        {
          "data": {
            "image/png": "[encoded data removed]",
            "text/plain": [
              "<Figure size 1440x144 with 1 Axes>"
            ]
          },
          "metadata": {
            "needs_background": "light"
          },
          "output_type": "display_data"
        }
      ],
      "source": [
        "# строим график гистограмму с параметрами\n",
        "df['total_area'].plot(kind='hist', bins=25, title='Площадь', grid=True, range=(10, 200), figsize=(10, 5))\n",
        "plt.ylabel('Частота')\n",
        "plt.xlabel('Площадь квартиры в квадратных метрах')\n",
        "plt.show()\n",
        "df.boxplot(column='total_area', vert=0, figsize=(20, 2))\n",
        "plt.show()"
      ]
    },
    {
      "cell_type": "markdown",
      "metadata": {
        "id": "7ugHwMsJ1Rji"
      },
      "source": [
        "Видим явные выбросы, где площадь более 200.  \n",
        "При этом можно сказать, наиболее популярные кваритры площадью в районе 30 - 50."
      ]
    },
    {
      "cell_type": "markdown",
      "metadata": {
        "id": "z6BRPPod2E5j"
      },
      "source": [
        "Рассмотрим признак цена `'last_price'`:"
      ]
    },
    {
      "cell_type": "code",
      "execution_count": null,
      "metadata": {
        "colab": {
          "base_uri": "https://localhost:8080/"
        },
        "id": "JiY3tky0llTU",
        "outputId": "44707d7f-bf6f-44fb-ac0e-7edaaff757b4"
      },
      "outputs": [
        {
          "data": {
            "text/plain": [
              "count    23699.000000\n",
              "mean         6.541548\n",
              "std         10.887013\n",
              "min          0.012190\n",
              "25%          3.400000\n",
              "50%          4.650000\n",
              "75%          6.800000\n",
              "max        763.000000\n",
              "Name: last_price, dtype: float64"
            ]
          },
          "execution_count": 44,
          "metadata": {},
          "output_type": "execute_result"
        }
      ],
      "source": [
        "df['last_price'].describe()"
      ]
    },
    {
      "cell_type": "markdown",
      "metadata": {
        "id": "86iXCB_02JB_"
      },
      "source": [
        "Построим гистограмму и boxplot:"
      ]
    },
    {
      "cell_type": "code",
      "execution_count": null,
      "metadata": {
        "colab": {
          "base_uri": "https://localhost:8080/",
          "height": 490
        },
        "id": "iibOQwWn0V3x",
        "outputId": "dc6c2b14-65c3-43d3-d637-3a9e2b4a1b94"
      },
      "outputs": [
        {
          "data": {
            "image/png": "[encoded data removed]",
            "text/plain": [
              "<Figure size 720x360 with 1 Axes>"
            ]
          },
          "metadata": {
            "needs_background": "light"
          },
          "output_type": "display_data"
        },
        {
          "data": {
            "image/png": "[encoded data removed]",
            "text/plain": [
              "<Figure size 1440x144 with 1 Axes>"
            ]
          },
          "metadata": {
            "needs_background": "light"
          },
          "output_type": "display_data"
        }
      ],
      "source": [
        "df['last_price'].plot(kind='hist', bins=30, title='Цена', grid=True, range=(0, 25), figsize=(10, 5))\n",
        "plt.ylabel('Частота')\n",
        "plt.xlabel('Цена на момент снятия с публикации, млн. руб')\n",
        "plt.show()\n",
        "df.boxplot(column='last_price', vert=0, figsize=(20, 2))\n",
        "plt.show()"
      ]
    },
    {
      "cell_type": "markdown",
      "metadata": {
        "id": "zziwzyyw3NaD"
      },
      "source": [
        "Имеются выбросы, с ценой выше 250 млн. руб.  \n",
        "Медианная цена 4,65 млн. руб."
      ]
    },
    {
      "cell_type": "markdown",
      "metadata": {
        "id": "cKS8Tvqi3c9K"
      },
      "source": [
        "Рассмотрим признак количество комнат `'rooms'`:"
      ]
    },
    {
      "cell_type": "code",
      "execution_count": null,
      "metadata": {
        "colab": {
          "base_uri": "https://localhost:8080/"
        },
        "id": "kFeumxeklpiT",
        "outputId": "5c971c64-679c-4884-af92-a87135df1fde"
      },
      "outputs": [
        {
          "data": {
            "text/plain": [
              "count    23699.000000\n",
              "mean         2.070636\n",
              "std          1.078405\n",
              "min          0.000000\n",
              "25%          1.000000\n",
              "50%          2.000000\n",
              "75%          3.000000\n",
              "max         19.000000\n",
              "Name: rooms, dtype: float64"
            ]
          },
          "execution_count": 46,
          "metadata": {},
          "output_type": "execute_result"
        }
      ],
      "source": [
        "df['rooms'].describe()"
      ]
    },
    {
      "cell_type": "markdown",
      "metadata": {
        "id": "nCOh6xSk3gEp"
      },
      "source": [
        "Построим гистограмму и boxplot:"
      ]
    },
    {
      "cell_type": "code",
      "execution_count": null,
      "metadata": {
        "colab": {
          "base_uri": "https://localhost:8080/",
          "height": 490
        },
        "id": "7v7feMrh0VcI",
        "outputId": "262460c6-5232-4ba3-f5a8-67dd538a8b8b"
      },
      "outputs": [
        {
          "data": {
            "image/png": "[encoded data removed]",
            "text/plain": [
              "<Figure size 720x360 with 1 Axes>"
            ]
          },
          "metadata": {
            "needs_background": "light"
          },
          "output_type": "display_data"
        },
        {
          "data": {
            "image/png": "[encoded data removed]",
            "text/plain": [
              "<Figure size 1440x144 with 1 Axes>"
            ]
          },
          "metadata": {
            "needs_background": "light"
          },
          "output_type": "display_data"
        }
      ],
      "source": [
        "df['rooms'].plot(kind='hist', bins=10, title='Число комнат', grid=True, range=(0, 10), figsize=(10, 5))\n",
        "plt.ylabel('Частота')\n",
        "plt.xlabel('Число комнат')\n",
        "plt.show()\n",
        "df.boxplot(column='rooms', vert=0, figsize=(20, 2))\n",
        "plt.show()"
      ]
    },
    {
      "cell_type": "markdown",
      "metadata": {
        "id": "yONRoGsi3rOy"
      },
      "source": [
        "В столбце с комнатами присутствуют выбросы, с числом комнат более 7.  \n",
        "Наиболее массовые квартиры это 1-3 комнатные."
      ]
    },
    {
      "cell_type": "markdown",
      "metadata": {
        "id": "sw4OG-BB35GS"
      },
      "source": [
        "Рассмотрим признак высоту потолков `'ceiling_height'`:"
      ]
    },
    {
      "cell_type": "code",
      "execution_count": null,
      "metadata": {
        "colab": {
          "base_uri": "https://localhost:8080/"
        },
        "id": "SAHtbgrzltpn",
        "outputId": "47160fac-f0be-40ca-c82a-30d8f8e1cd8f"
      },
      "outputs": [
        {
          "data": {
            "text/plain": [
              "count    23699.000000\n",
              "mean         2.724358\n",
              "std          0.988298\n",
              "min          1.000000\n",
              "25%          2.600000\n",
              "50%          2.650000\n",
              "75%          2.700000\n",
              "max        100.000000\n",
              "Name: ceiling_height, dtype: float64"
            ]
          },
          "execution_count": 48,
          "metadata": {},
          "output_type": "execute_result"
        }
      ],
      "source": [
        "df['ceiling_height'].describe()"
      ]
    },
    {
      "cell_type": "markdown",
      "metadata": {
        "id": "hqWHB6Zk39xL"
      },
      "source": [
        "Построим гистограмму и boxplot:"
      ]
    },
    {
      "cell_type": "code",
      "execution_count": null,
      "metadata": {
        "colab": {
          "base_uri": "https://localhost:8080/",
          "height": 490
        },
        "id": "3gM_n8Qa0UiY",
        "outputId": "17b52085-9774-48b5-b3b8-eb95f2a3cc9f"
      },
      "outputs": [
        {
          "data": {
            "image/png": "[encoded data removed]",
            "text/plain": [
              "<Figure size 720x360 with 1 Axes>"
            ]
          },
          "metadata": {
            "needs_background": "light"
          },
          "output_type": "display_data"
        },
        {
          "data": {
            "image/png": "[encoded data removed]",
            "text/plain": [
              "<Figure size 1440x144 with 1 Axes>"
            ]
          },
          "metadata": {
            "needs_background": "light"
          },
          "output_type": "display_data"
        }
      ],
      "source": [
        "df['ceiling_height'].plot(kind='hist', bins=10, title='Высота потолков в метрах', grid=True, range=(2, 3), figsize=(10, 5))\n",
        "plt.ylabel('Частота')\n",
        "plt.xlabel('Высота потолков комнат')\n",
        "plt.show()\n",
        "df.boxplot(column='ceiling_height', vert=0, figsize=(20, 2))\n",
        "plt.show()"
      ]
    },
    {
      "cell_type": "markdown",
      "metadata": {
        "id": "KbDRHX2n4EjJ"
      },
      "source": [
        "Имеются странные значения высоты потолка, при этом явно можно отрезать выбросы с потолками выше 4 м."
      ]
    },
    {
      "cell_type": "markdown",
      "metadata": {
        "id": "QN3bAC2qHayW"
      },
      "source": [
        "### Время продажи квартиры"
      ]
    },
    {
      "cell_type": "markdown",
      "metadata": {
        "id": "M1efzLME4ll0"
      },
      "source": [
        "Посмотрим среднее и медиану времени продажи квартиры:"
      ]
    },
    {
      "cell_type": "code",
      "execution_count": null,
      "metadata": {
        "colab": {
          "base_uri": "https://localhost:8080/"
        },
        "id": "lQR8CwAyJcoG",
        "outputId": "45b1e436-66cd-43cd-9948-28ecb7288bff"
      },
      "outputs": [
        {
          "data": {
            "text/plain": [
              "count    23699.000000\n",
              "mean       156.608844\n",
              "std        213.546873\n",
              "min          0.000000\n",
              "25%         22.000000\n",
              "50%         74.000000\n",
              "75%        199.000000\n",
              "max       1580.000000\n",
              "Name: days_exposition, dtype: float64"
            ]
          },
          "execution_count": 50,
          "metadata": {},
          "output_type": "execute_result"
        }
      ],
      "source": [
        "df['days_exposition'].describe()"
      ]
    },
    {
      "cell_type": "markdown",
      "metadata": {
        "id": "fBR4GR_t4sNi"
      },
      "source": [
        "Построим гистограмму:"
      ]
    },
    {
      "cell_type": "code",
      "execution_count": null,
      "metadata": {
        "colab": {
          "base_uri": "https://localhost:8080/",
          "height": 367
        },
        "id": "GM7nvDjLIAPE",
        "outputId": "4937bfea-cdda-4267-8bb5-1031144e004a"
      },
      "outputs": [
        {
          "data": {
            "text/plain": [
              "Text(0.5, 0, 'Cколько дней было размещено объявление (от публикации до снятия)')"
            ]
          },
          "execution_count": 51,
          "metadata": {},
          "output_type": "execute_result"
        },
        {
          "data": {
            "image/png": "[encoded data removed]",
            "text/plain": [
              "<Figure size 1080x360 with 1 Axes>"
            ]
          },
          "metadata": {
            "needs_background": "light"
          },
          "output_type": "display_data"
        }
      ],
      "source": [
        "df['days_exposition'].plot(kind='hist', bins=100, title='Время продажи квартиры', grid=True, range=(0, 1000), figsize=(15, 5))\n",
        "plt.ylabel('Частота')\n",
        "plt.xlabel('Cколько дней было размещено объявление (от публикации до снятия)')"
      ]
    },
    {
      "cell_type": "markdown",
      "metadata": {
        "id": "x9Fenv6F4xGy"
      },
      "source": [
        "Построим boxplot:"
      ]
    },
    {
      "cell_type": "code",
      "execution_count": null,
      "metadata": {
        "colab": {
          "base_uri": "https://localhost:8080/",
          "height": 188
        },
        "id": "PuyUi8gaJg4O",
        "outputId": "faceea78-e38a-45f5-f39b-72cd69bd20ce"
      },
      "outputs": [
        {
          "data": {
            "text/plain": [
              "Text(0.5, 0, 'Cколько дней было размещено объявление (от публикации до снятия)')"
            ]
          },
          "execution_count": 52,
          "metadata": {},
          "output_type": "execute_result"
        },
        {
          "data": {
            "image/png": "[encoded data removed]",
            "text/plain": [
              "<Figure size 1440x144 with 1 Axes>"
            ]
          },
          "metadata": {
            "needs_background": "light"
          },
          "output_type": "display_data"
        }
      ],
      "source": [
        "df.boxplot(column='days_exposition', vert=0, figsize=(20, 2))\n",
        "plt.xlabel('Cколько дней было размещено объявление (от публикации до снятия)')"
      ]
    },
    {
      "cell_type": "markdown",
      "metadata": {
        "id": "NFXM3Fgp47Ha"
      },
      "source": [
        "Среднее время продажи: 180 дней.  \n",
        "Медианное время продажи: 95 дней.  \n",
        "Быстрые продажи: менее 45 дней.  \n",
        "Долгие продажи: более 231 дня."
      ]
    },
    {
      "cell_type": "markdown",
      "metadata": {
        "id": "QoYz0PJfHfX1"
      },
      "source": [
        "### Редкие и выбивающиеся значения\n"
      ]
    },
    {
      "cell_type": "markdown",
      "metadata": {
        "id": "3zvVjOqp5d7S"
      },
      "source": [
        "Исходя из критериев определенных выше, можно отсеить следующие значения:\n",
        "\n",
        "- признак площадь - `'total_area'`: более 200 м2;\n",
        "- признак цена `'last_price'`:  более 250 млн. руб. \n",
        "- признак количество комнат `'rooms'`:  более 7 комнат \n",
        "- признак высоту потолков `'ceiling_height'`:  менее 2 м., и более 10 м; \n",
        "- признак время продажи `'days_exposition'`: более 600 дней."
      ]
    },
    {
      "cell_type": "code",
      "execution_count": null,
      "metadata": {
        "id": "ixXiAdGRmbmx"
      },
      "outputs": [],
      "source": [
        "# количество строк в данных\n",
        "number_cells = len(df)\n",
        "\n",
        "# применим логическую индексацию согласно критериев\n",
        "df = df[\n",
        "        (df['total_area'] < 200) \n",
        "        & (df['last_price'] < 250) \n",
        "        & (df['rooms'] < 7) \n",
        "        & ((df['ceiling_height'] < 10) & (df['ceiling_height'] > 1.5))\n",
        "        & (df['days_exposition'] < 600)\n",
        "        ]\n",
        "\n",
        "# количество строк в отфильтрованных данных\n",
        "number_cells_new = len(df)"
      ]
    },
    {
      "cell_type": "markdown",
      "metadata": {
        "id": "QZwT3wFW1_bG"
      },
      "source": [
        "Посмотрим какой процент данных мы отфильтровали:"
      ]
    },
    {
      "cell_type": "code",
      "execution_count": null,
      "metadata": {
        "colab": {
          "base_uri": "https://localhost:8080/",
          "height": 35
        },
        "id": "tKb436z01Gyd",
        "outputId": "2e4da523-7601-404e-f46f-2b92683bf2ec"
      },
      "outputs": [
        {
          "data": {
            "text/plain": [
              "'Было строк: 23699. Стало строк: 22245. Доля удаленных строк: 6.1%'"
            ]
          },
          "execution_count": 54,
          "metadata": {},
          "output_type": "execute_result"
        }
      ],
      "source": [
        "f'Было строк: {number_cells}. Стало строк: {number_cells_new}. Доля удаленных строк: {((number_cells - number_cells_new)/number_cells):.1%}'"
      ]
    },
    {
      "cell_type": "markdown",
      "metadata": {
        "id": "WHWjxB_89rF-"
      },
      "source": [
        "Отфильтрованные значения выбраны достаточно корректно.  \n",
        "Удалено: `6,1 %` строк от изначального датасета."
      ]
    },
    {
      "cell_type": "markdown",
      "metadata": {
        "id": "BpHfFxBiHhte"
      },
      "source": [
        "### Факторы влияющие на стоимость квартиры"
      ]
    },
    {
      "cell_type": "markdown",
      "metadata": {
        "id": "UNpC4akU7sHC"
      },
      "source": [
        "Проверим зависит ли цена от площади, числа комнат, удалённости от центра.  \n",
        "Изучим зависимость цены от того, на каком этаже расположена квартира: первом, последнем или другом.  \n",
        "Также изучим зависимость от даты размещения: дня недели, месяца и года."
      ]
    },
    {
      "cell_type": "markdown",
      "metadata": {
        "id": "tqy-xe3z7U_F"
      },
      "source": [
        "Посмотрим корреляцию признаков:"
      ]
    },
    {
      "cell_type": "code",
      "execution_count": null,
      "metadata": {
        "colab": {
          "base_uri": "https://localhost:8080/",
          "height": 175
        },
        "id": "9nXdxhcfqhbr",
        "outputId": "f14f572c-c701-4464-c472-5844a560c1d5"
      },
      "outputs": [
        {
          "data": {
            "text/html": [
              "<div>\n",
              "<style scoped>\n",
              "    .dataframe tbody tr th:only-of-type {\n",
              "        vertical-align: middle;\n",
              "    }\n",
              "\n",
              "    .dataframe tbody tr th {\n",
              "        vertical-align: top;\n",
              "    }\n",
              "\n",
              "    .dataframe thead th {\n",
              "        text-align: right;\n",
              "    }\n",
              "</style>\n",
              "<table border=\"1\" class=\"dataframe\">\n",
              "  <thead>\n",
              "    <tr style=\"text-align: right;\">\n",
              "      <th></th>\n",
              "      <th>last_price</th>\n",
              "      <th>total_area</th>\n",
              "      <th>rooms</th>\n",
              "      <th>city_centers_nearest</th>\n",
              "    </tr>\n",
              "  </thead>\n",
              "  <tbody>\n",
              "    <tr>\n",
              "      <td>last_price</td>\n",
              "      <td>1.000000</td>\n",
              "      <td>0.714881</td>\n",
              "      <td>0.416802</td>\n",
              "      <td>-0.297836</td>\n",
              "    </tr>\n",
              "    <tr>\n",
              "      <td>total_area</td>\n",
              "      <td>0.714881</td>\n",
              "      <td>1.000000</td>\n",
              "      <td>0.782794</td>\n",
              "      <td>-0.230973</td>\n",
              "    </tr>\n",
              "    <tr>\n",
              "      <td>rooms</td>\n",
              "      <td>0.416802</td>\n",
              "      <td>0.782794</td>\n",
              "      <td>1.000000</td>\n",
              "      <td>-0.156335</td>\n",
              "    </tr>\n",
              "    <tr>\n",
              "      <td>city_centers_nearest</td>\n",
              "      <td>-0.297836</td>\n",
              "      <td>-0.230973</td>\n",
              "      <td>-0.156335</td>\n",
              "      <td>1.000000</td>\n",
              "    </tr>\n",
              "  </tbody>\n",
              "</table>\n",
              "</div>"
            ],
            "text/plain": [
              "                      last_price  total_area     rooms  city_centers_nearest\n",
              "last_price              1.000000    0.714881  0.416802             -0.297836\n",
              "total_area              0.714881    1.000000  0.782794             -0.230973\n",
              "rooms                   0.416802    0.782794  1.000000             -0.156335\n",
              "city_centers_nearest   -0.297836   -0.230973 -0.156335              1.000000"
            ]
          },
          "execution_count": 55,
          "metadata": {},
          "output_type": "execute_result"
        }
      ],
      "source": [
        "df[['last_price', 'total_area', 'rooms', 'city_centers_nearest']].corr()"
      ]
    },
    {
      "cell_type": "markdown",
      "metadata": {
        "id": "8UlHj3gh7Y8S"
      },
      "source": [
        "Построим матрицу диаграмм рассеяния:"
      ]
    },
    {
      "cell_type": "code",
      "execution_count": null,
      "metadata": {
        "colab": {
          "base_uri": "https://localhost:8080/",
          "height": 569
        },
        "id": "j2Vl-Ar4rmbU",
        "outputId": "27ef1711-205a-46ac-af2b-a7971469d5c6"
      },
      "outputs": [
        {
          "data": {
            "image/png": "[encoded data removed]",
            "text/plain": [
              "<Figure size 648x648 with 16 Axes>"
            ]
          },
          "metadata": {
            "needs_background": "light"
          },
          "output_type": "display_data"
        }
      ],
      "source": [
        "pd.plotting.scatter_matrix(df[['last_price', 'total_area', 'rooms', 'city_centers_nearest']], figsize=(9, 9), color='r', s=4)\n",
        "plt.show()"
      ]
    },
    {
      "cell_type": "markdown",
      "metadata": {
        "id": "keSMO1xjPDho"
      },
      "source": [
        "#### Цена от площади"
      ]
    },
    {
      "cell_type": "markdown",
      "metadata": {
        "id": "uKAc3gaU8AIa"
      },
      "source": [
        "Для оценки зависимости цены от площади разобьем на 10 равных частей по площади:"
      ]
    },
    {
      "cell_type": "code",
      "execution_count": null,
      "metadata": {
        "colab": {
          "base_uri": "https://localhost:8080/",
          "height": 394
        },
        "id": "I1M06nsGsdDn",
        "outputId": "acc59e2f-7bad-4ab8-ab26-21fddf383b97"
      },
      "outputs": [
        {
          "data": {
            "text/html": [
              "<div>\n",
              "<style scoped>\n",
              "    .dataframe tbody tr th:only-of-type {\n",
              "        vertical-align: middle;\n",
              "    }\n",
              "\n",
              "    .dataframe tbody tr th {\n",
              "        vertical-align: top;\n",
              "    }\n",
              "\n",
              "    .dataframe thead th {\n",
              "        text-align: right;\n",
              "    }\n",
              "</style>\n",
              "<table border=\"1\" class=\"dataframe\">\n",
              "  <thead>\n",
              "    <tr style=\"text-align: right;\">\n",
              "      <th></th>\n",
              "      <th>count</th>\n",
              "      <th>mean</th>\n",
              "      <th>median</th>\n",
              "    </tr>\n",
              "    <tr>\n",
              "      <th>total_area2</th>\n",
              "      <th></th>\n",
              "      <th></th>\n",
              "      <th></th>\n",
              "    </tr>\n",
              "  </thead>\n",
              "  <tbody>\n",
              "    <tr>\n",
              "      <td>(11.999, 32.9]</td>\n",
              "      <td>2244</td>\n",
              "      <td>2.847387</td>\n",
              "      <td>2.95</td>\n",
              "    </tr>\n",
              "    <tr>\n",
              "      <td>(32.9, 37.2]</td>\n",
              "      <td>2225</td>\n",
              "      <td>3.430675</td>\n",
              "      <td>3.45</td>\n",
              "    </tr>\n",
              "    <tr>\n",
              "      <td>(37.2, 42.0]</td>\n",
              "      <td>2400</td>\n",
              "      <td>3.892883</td>\n",
              "      <td>3.90</td>\n",
              "    </tr>\n",
              "    <tr>\n",
              "      <td>(42.0, 45.5]</td>\n",
              "      <td>2059</td>\n",
              "      <td>3.898355</td>\n",
              "      <td>3.95</td>\n",
              "    </tr>\n",
              "    <tr>\n",
              "      <td>(45.5, 51.1]</td>\n",
              "      <td>2199</td>\n",
              "      <td>4.396827</td>\n",
              "      <td>4.30</td>\n",
              "    </tr>\n",
              "    <tr>\n",
              "      <td>(51.1, 57.358]</td>\n",
              "      <td>2220</td>\n",
              "      <td>4.853627</td>\n",
              "      <td>4.90</td>\n",
              "    </tr>\n",
              "    <tr>\n",
              "      <td>(57.358, 63.5]</td>\n",
              "      <td>2236</td>\n",
              "      <td>5.350770</td>\n",
              "      <td>5.19</td>\n",
              "    </tr>\n",
              "    <tr>\n",
              "      <td>(63.5, 73.0]</td>\n",
              "      <td>2215</td>\n",
              "      <td>6.624643</td>\n",
              "      <td>6.45</td>\n",
              "    </tr>\n",
              "    <tr>\n",
              "      <td>(73.0, 90.0]</td>\n",
              "      <td>2292</td>\n",
              "      <td>8.243583</td>\n",
              "      <td>7.60</td>\n",
              "    </tr>\n",
              "    <tr>\n",
              "      <td>(90.0, 199.2]</td>\n",
              "      <td>2155</td>\n",
              "      <td>15.908439</td>\n",
              "      <td>12.98</td>\n",
              "    </tr>\n",
              "  </tbody>\n",
              "</table>\n",
              "</div>"
            ],
            "text/plain": [
              "                count       mean  median\n",
              "total_area2                             \n",
              "(11.999, 32.9]   2244   2.847387    2.95\n",
              "(32.9, 37.2]     2225   3.430675    3.45\n",
              "(37.2, 42.0]     2400   3.892883    3.90\n",
              "(42.0, 45.5]     2059   3.898355    3.95\n",
              "(45.5, 51.1]     2199   4.396827    4.30\n",
              "(51.1, 57.358]   2220   4.853627    4.90\n",
              "(57.358, 63.5]   2236   5.350770    5.19\n",
              "(63.5, 73.0]     2215   6.624643    6.45\n",
              "(73.0, 90.0]     2292   8.243583    7.60\n",
              "(90.0, 199.2]    2155  15.908439   12.98"
            ]
          },
          "execution_count": 57,
          "metadata": {},
          "output_type": "execute_result"
        }
      ],
      "source": [
        "df['total_area2'] = pd.qcut(df['total_area'], 10)\n",
        "df.groupby('total_area2')['last_price'].agg(['count', 'mean', 'median'])"
      ]
    },
    {
      "cell_type": "markdown",
      "metadata": {
        "id": "jdhS4nbn8MDp"
      },
      "source": [
        "Построим столбчатый график:"
      ]
    },
    {
      "cell_type": "code",
      "execution_count": null,
      "metadata": {
        "colab": {
          "base_uri": "https://localhost:8080/",
          "height": 374
        },
        "id": "LsF2HcpMsoYf",
        "outputId": "ad5d6907-1d1d-4326-9e58-771686f1366d"
      },
      "outputs": [
        {
          "data": {
            "text/plain": [
              "Text(0, 0.5, 'Цена, млн. руб.')"
            ]
          },
          "execution_count": 58,
          "metadata": {},
          "output_type": "execute_result"
        },
        {
          "data": {
            "image/png": "[encoded data removed]",
            "text/plain": [
              "<Figure size 864x288 with 1 Axes>"
            ]
          },
          "metadata": {
            "needs_background": "light"
          },
          "output_type": "display_data"
        }
      ],
      "source": [
        "# проведем группировку и построим график\n",
        "df.groupby('total_area2')['last_price'].agg(['mean']).plot(\n",
        "    kind='bar', grid=True, figsize=(12, 4), color='b', legend=True, linewidth=2.5, alpha=0.8)\n",
        "\n",
        "plt.title('График зависимости цены от площади')\n",
        "plt.xlabel('Площадь')\n",
        "plt.ylabel('Цена, млн. руб.')"
      ]
    },
    {
      "cell_type": "markdown",
      "metadata": {
        "id": "eAiOHpAO9NSk"
      },
      "source": [
        "Ожидаемо, чем больше плошадь, тем выше стоимость.  \n",
        "При этом коэффициент Пирсона: 0,77"
      ]
    },
    {
      "cell_type": "markdown",
      "metadata": {
        "id": "WL2U8mQJMFtX"
      },
      "source": [
        " #### Цена от числа комнат"
      ]
    },
    {
      "cell_type": "markdown",
      "metadata": {
        "id": "2OAFtJtB9x6_"
      },
      "source": [
        "Построим сводную таблицу по признакам количество комнат и цены:"
      ]
    },
    {
      "cell_type": "code",
      "execution_count": null,
      "metadata": {
        "colab": {
          "base_uri": "https://localhost:8080/",
          "height": 300
        },
        "id": "_kxs1_ACRJM2",
        "outputId": "50f35888-ad6f-4f9b-fa62-739b7b94906c"
      },
      "outputs": [
        {
          "data": {
            "text/html": [
              "<div>\n",
              "<style scoped>\n",
              "    .dataframe tbody tr th:only-of-type {\n",
              "        vertical-align: middle;\n",
              "    }\n",
              "\n",
              "    .dataframe tbody tr th {\n",
              "        vertical-align: top;\n",
              "    }\n",
              "\n",
              "    .dataframe thead th {\n",
              "        text-align: right;\n",
              "    }\n",
              "</style>\n",
              "<table border=\"1\" class=\"dataframe\">\n",
              "  <thead>\n",
              "    <tr style=\"text-align: right;\">\n",
              "      <th></th>\n",
              "      <th>count</th>\n",
              "      <th>mean</th>\n",
              "      <th>median</th>\n",
              "    </tr>\n",
              "    <tr>\n",
              "      <th>rooms</th>\n",
              "      <th></th>\n",
              "      <th></th>\n",
              "      <th></th>\n",
              "    </tr>\n",
              "  </thead>\n",
              "  <tbody>\n",
              "    <tr>\n",
              "      <td>0</td>\n",
              "      <td>191</td>\n",
              "      <td>3.005349</td>\n",
              "      <td>2.700000</td>\n",
              "    </tr>\n",
              "    <tr>\n",
              "      <td>1</td>\n",
              "      <td>7707</td>\n",
              "      <td>3.819544</td>\n",
              "      <td>3.600000</td>\n",
              "    </tr>\n",
              "    <tr>\n",
              "      <td>2</td>\n",
              "      <td>7564</td>\n",
              "      <td>5.516888</td>\n",
              "      <td>4.750000</td>\n",
              "    </tr>\n",
              "    <tr>\n",
              "      <td>3</td>\n",
              "      <td>5452</td>\n",
              "      <td>7.932275</td>\n",
              "      <td>6.177621</td>\n",
              "    </tr>\n",
              "    <tr>\n",
              "      <td>4</td>\n",
              "      <td>1039</td>\n",
              "      <td>11.667352</td>\n",
              "      <td>8.750000</td>\n",
              "    </tr>\n",
              "    <tr>\n",
              "      <td>5</td>\n",
              "      <td>235</td>\n",
              "      <td>15.206776</td>\n",
              "      <td>12.500000</td>\n",
              "    </tr>\n",
              "    <tr>\n",
              "      <td>6</td>\n",
              "      <td>57</td>\n",
              "      <td>16.969435</td>\n",
              "      <td>14.500000</td>\n",
              "    </tr>\n",
              "  </tbody>\n",
              "</table>\n",
              "</div>"
            ],
            "text/plain": [
              "       count       mean     median\n",
              "rooms                             \n",
              "0        191   3.005349   2.700000\n",
              "1       7707   3.819544   3.600000\n",
              "2       7564   5.516888   4.750000\n",
              "3       5452   7.932275   6.177621\n",
              "4       1039  11.667352   8.750000\n",
              "5        235  15.206776  12.500000\n",
              "6         57  16.969435  14.500000"
            ]
          },
          "execution_count": 59,
          "metadata": {},
          "output_type": "execute_result"
        }
      ],
      "source": [
        "df.groupby('rooms')['last_price'].agg(['count', 'mean', 'median'])"
      ]
    },
    {
      "cell_type": "markdown",
      "metadata": {
        "id": "zj06enCy94ep"
      },
      "source": [
        "Построим график зависимости цены от количества комнат:"
      ]
    },
    {
      "cell_type": "code",
      "execution_count": null,
      "metadata": {
        "colab": {
          "base_uri": "https://localhost:8080/",
          "height": 312
        },
        "id": "kr17aHSdsTBl",
        "outputId": "ff0b0c22-934f-4cea-8e21-14e29d10ab88"
      },
      "outputs": [
        {
          "data": {
            "text/plain": [
              "Text(0, 0.5, 'Цена, млн. руб.')"
            ]
          },
          "execution_count": 60,
          "metadata": {},
          "output_type": "execute_result"
        },
        {
          "data": {
            "image/png": "[encoded data removed]",
            "text/plain": [
              "<Figure size 864x288 with 1 Axes>"
            ]
          },
          "metadata": {
            "needs_background": "light"
          },
          "output_type": "display_data"
        }
      ],
      "source": [
        "df.groupby('rooms')['last_price'].agg(['mean'])['mean'].plot(\n",
        "    grid=True, figsize=(12, 4), color='b', legend=True, linewidth=2.5, alpha=0.8)\n",
        "\n",
        "plt.title('График зависимости цены от количества комнат')\n",
        "plt.xlabel('Количество комнат')\n",
        "plt.ylabel('Цена, млн. руб.')"
      ]
    },
    {
      "cell_type": "markdown",
      "metadata": {
        "id": "kEJbtiOx-Bj6"
      },
      "source": [
        "Видим прямую линейную зависимость цены от количества комнат.  \n",
        "Ожидаемо, чем больше комнат, тем выше цена квартиры"
      ]
    },
    {
      "cell_type": "markdown",
      "metadata": {
        "id": "PkZJhuq1Pl5N"
      },
      "source": [
        " #### Цена от удаленности от центра"
      ]
    },
    {
      "cell_type": "markdown",
      "metadata": {
        "id": "cr5uA2MK-vSa"
      },
      "source": [
        "Разобъем признак расстояние до центра на 15 равных частей и переведем в км:"
      ]
    },
    {
      "cell_type": "code",
      "execution_count": null,
      "metadata": {
        "colab": {
          "base_uri": "https://localhost:8080/",
          "height": 551
        },
        "id": "cRzSAfYxP_KP",
        "outputId": "88b6ae21-24e0-4d3c-bd9a-5ebf339d34c9"
      },
      "outputs": [
        {
          "data": {
            "text/html": [
              "<div>\n",
              "<style scoped>\n",
              "    .dataframe tbody tr th:only-of-type {\n",
              "        vertical-align: middle;\n",
              "    }\n",
              "\n",
              "    .dataframe tbody tr th {\n",
              "        vertical-align: top;\n",
              "    }\n",
              "\n",
              "    .dataframe thead th {\n",
              "        text-align: right;\n",
              "    }\n",
              "</style>\n",
              "<table border=\"1\" class=\"dataframe\">\n",
              "  <thead>\n",
              "    <tr style=\"text-align: right;\">\n",
              "      <th></th>\n",
              "      <th>count</th>\n",
              "      <th>mean</th>\n",
              "      <th>median</th>\n",
              "    </tr>\n",
              "    <tr>\n",
              "      <th>city_centers_nearest2</th>\n",
              "      <th></th>\n",
              "      <th></th>\n",
              "      <th></th>\n",
              "    </tr>\n",
              "  </thead>\n",
              "  <tbody>\n",
              "    <tr>\n",
              "      <td>(0.18, 4.256]</td>\n",
              "      <td>1133</td>\n",
              "      <td>11.599475</td>\n",
              "      <td>9.0000</td>\n",
              "    </tr>\n",
              "    <tr>\n",
              "      <td>(4.256, 5.818]</td>\n",
              "      <td>1132</td>\n",
              "      <td>11.501323</td>\n",
              "      <td>8.9000</td>\n",
              "    </tr>\n",
              "    <tr>\n",
              "      <td>(5.818, 8.344]</td>\n",
              "      <td>1134</td>\n",
              "      <td>11.368394</td>\n",
              "      <td>7.5000</td>\n",
              "    </tr>\n",
              "    <tr>\n",
              "      <td>(8.344, 10.087]</td>\n",
              "      <td>1131</td>\n",
              "      <td>7.079003</td>\n",
              "      <td>5.5000</td>\n",
              "    </tr>\n",
              "    <tr>\n",
              "      <td>(10.087, 11.27]</td>\n",
              "      <td>1137</td>\n",
              "      <td>6.297789</td>\n",
              "      <td>5.0000</td>\n",
              "    </tr>\n",
              "    <tr>\n",
              "      <td>(11.27, 12.062]</td>\n",
              "      <td>1131</td>\n",
              "      <td>5.716789</td>\n",
              "      <td>4.9500</td>\n",
              "    </tr>\n",
              "    <tr>\n",
              "      <td>(12.062, 12.831]</td>\n",
              "      <td>1131</td>\n",
              "      <td>5.994186</td>\n",
              "      <td>5.0950</td>\n",
              "    </tr>\n",
              "    <tr>\n",
              "      <td>(12.831, 13.671]</td>\n",
              "      <td>1134</td>\n",
              "      <td>5.946808</td>\n",
              "      <td>5.1000</td>\n",
              "    </tr>\n",
              "    <tr>\n",
              "      <td>(13.671, 14.562]</td>\n",
              "      <td>1132</td>\n",
              "      <td>5.589104</td>\n",
              "      <td>4.9000</td>\n",
              "    </tr>\n",
              "    <tr>\n",
              "      <td>(14.562, 15.247]</td>\n",
              "      <td>1134</td>\n",
              "      <td>5.852815</td>\n",
              "      <td>4.9000</td>\n",
              "    </tr>\n",
              "    <tr>\n",
              "      <td>(15.247, 16.134]</td>\n",
              "      <td>1137</td>\n",
              "      <td>5.462067</td>\n",
              "      <td>4.8000</td>\n",
              "    </tr>\n",
              "    <tr>\n",
              "      <td>(16.134, 17.369]</td>\n",
              "      <td>1125</td>\n",
              "      <td>5.289063</td>\n",
              "      <td>4.5800</td>\n",
              "    </tr>\n",
              "    <tr>\n",
              "      <td>(17.369, 21.672]</td>\n",
              "      <td>1132</td>\n",
              "      <td>4.749820</td>\n",
              "      <td>4.2465</td>\n",
              "    </tr>\n",
              "    <tr>\n",
              "      <td>(21.672, 30.568]</td>\n",
              "      <td>1132</td>\n",
              "      <td>4.727941</td>\n",
              "      <td>4.0810</td>\n",
              "    </tr>\n",
              "    <tr>\n",
              "      <td>(30.568, 65.952]</td>\n",
              "      <td>1133</td>\n",
              "      <td>4.623293</td>\n",
              "      <td>3.9900</td>\n",
              "    </tr>\n",
              "  </tbody>\n",
              "</table>\n",
              "</div>"
            ],
            "text/plain": [
              "                       count       mean  median\n",
              "city_centers_nearest2                          \n",
              "(0.18, 4.256]           1133  11.599475  9.0000\n",
              "(4.256, 5.818]          1132  11.501323  8.9000\n",
              "(5.818, 8.344]          1134  11.368394  7.5000\n",
              "(8.344, 10.087]         1131   7.079003  5.5000\n",
              "(10.087, 11.27]         1137   6.297789  5.0000\n",
              "(11.27, 12.062]         1131   5.716789  4.9500\n",
              "(12.062, 12.831]        1131   5.994186  5.0950\n",
              "(12.831, 13.671]        1134   5.946808  5.1000\n",
              "(13.671, 14.562]        1132   5.589104  4.9000\n",
              "(14.562, 15.247]        1134   5.852815  4.9000\n",
              "(15.247, 16.134]        1137   5.462067  4.8000\n",
              "(16.134, 17.369]        1125   5.289063  4.5800\n",
              "(17.369, 21.672]        1132   4.749820  4.2465\n",
              "(21.672, 30.568]        1132   4.727941  4.0810\n",
              "(30.568, 65.952]        1133   4.623293  3.9900"
            ]
          },
          "execution_count": 61,
          "metadata": {},
          "output_type": "execute_result"
        }
      ],
      "source": [
        "df['city_centers_nearest2'] = pd.qcut((df['city_centers_nearest']/1000), 15)\n",
        "df.groupby('city_centers_nearest2')['last_price'].agg(['count', 'mean', 'median'])"
      ]
    },
    {
      "cell_type": "markdown",
      "metadata": {
        "id": "cQ3gkqDN_tmo"
      },
      "source": [
        "Построим график зависимости цены от расстояния до центра:"
      ]
    },
    {
      "cell_type": "code",
      "execution_count": null,
      "metadata": {
        "colab": {
          "base_uri": "https://localhost:8080/",
          "height": 312
        },
        "id": "FilP5JMc_B36",
        "outputId": "603fc955-3831-4816-98e2-55cbb35e67f1"
      },
      "outputs": [
        {
          "data": {
            "text/plain": [
              "Text(0, 0.5, 'Цена, млн. руб.')"
            ]
          },
          "execution_count": 62,
          "metadata": {},
          "output_type": "execute_result"
        },
        {
          "data": {
            "image/png": "[encoded data removed]",
            "text/plain": [
              "<Figure size 864x288 with 1 Axes>"
            ]
          },
          "metadata": {
            "needs_background": "light"
          },
          "output_type": "display_data"
        }
      ],
      "source": [
        "df.groupby('city_centers_nearest2')['last_price'].agg(['mean'])['mean'].plot(\n",
        "    grid=True, figsize=(12, 4), color='b', legend=True, linewidth=2.5, alpha=0.8)\n",
        "\n",
        "plt.title('График зависимости цены от удаленности от центра')\n",
        "plt.xlabel('Удаленность от центра в км.')\n",
        "plt.ylabel('Цена, млн. руб.')"
      ]
    },
    {
      "cell_type": "markdown",
      "metadata": {
        "id": "LwfPK5JC_yPK"
      },
      "source": [
        "Примерно до 5 км. цена квартиры почти не меняется, далее чем дальше от центра, тем ниже стоимость"
      ]
    },
    {
      "cell_type": "markdown",
      "metadata": {
        "id": "Nu9OGIuuPusn"
      },
      "source": [
        "#### Цена взависимости от этажа"
      ]
    },
    {
      "cell_type": "markdown",
      "metadata": {
        "id": "-dp7-USwA2LZ"
      },
      "source": [
        "Рассмотрим средние значения по этажам:"
      ]
    },
    {
      "cell_type": "code",
      "execution_count": null,
      "metadata": {
        "colab": {
          "base_uri": "https://localhost:8080/",
          "height": 175
        },
        "id": "CKDWmrqqQh8v",
        "outputId": "17a5afac-1250-45b9-93ea-90f1a95a7c12"
      },
      "outputs": [
        {
          "data": {
            "text/html": [
              "<div>\n",
              "<style scoped>\n",
              "    .dataframe tbody tr th:only-of-type {\n",
              "        vertical-align: middle;\n",
              "    }\n",
              "\n",
              "    .dataframe tbody tr th {\n",
              "        vertical-align: top;\n",
              "    }\n",
              "\n",
              "    .dataframe thead th {\n",
              "        text-align: right;\n",
              "    }\n",
              "</style>\n",
              "<table border=\"1\" class=\"dataframe\">\n",
              "  <thead>\n",
              "    <tr style=\"text-align: right;\">\n",
              "      <th></th>\n",
              "      <th>count</th>\n",
              "      <th>mean</th>\n",
              "      <th>median</th>\n",
              "    </tr>\n",
              "    <tr>\n",
              "      <th>floor_kind</th>\n",
              "      <th></th>\n",
              "      <th></th>\n",
              "      <th></th>\n",
              "    </tr>\n",
              "  </thead>\n",
              "  <tbody>\n",
              "    <tr>\n",
              "      <td>другой</td>\n",
              "      <td>16435</td>\n",
              "      <td>6.191254</td>\n",
              "      <td>4.799</td>\n",
              "    </tr>\n",
              "    <tr>\n",
              "      <td>первый</td>\n",
              "      <td>2734</td>\n",
              "      <td>4.589160</td>\n",
              "      <td>3.899</td>\n",
              "    </tr>\n",
              "    <tr>\n",
              "      <td>последний</td>\n",
              "      <td>3076</td>\n",
              "      <td>5.640752</td>\n",
              "      <td>4.200</td>\n",
              "    </tr>\n",
              "  </tbody>\n",
              "</table>\n",
              "</div>"
            ],
            "text/plain": [
              "            count      mean  median\n",
              "floor_kind                         \n",
              "другой      16435  6.191254   4.799\n",
              "первый       2734  4.589160   3.899\n",
              "последний    3076  5.640752   4.200"
            ]
          },
          "execution_count": 63,
          "metadata": {},
          "output_type": "execute_result"
        }
      ],
      "source": [
        "df.groupby('floor_kind')['last_price'].agg(['count', 'mean', 'median'])"
      ]
    },
    {
      "cell_type": "markdown",
      "metadata": {
        "id": "7RoOJ89zAx8z"
      },
      "source": [
        "Построим график зависимости цены от этажности:"
      ]
    },
    {
      "cell_type": "code",
      "execution_count": null,
      "metadata": {
        "colab": {
          "base_uri": "https://localhost:8080/",
          "height": 312
        },
        "id": "OCU5h6bmAQ_r",
        "outputId": "1a2a1df7-e569-4409-c7a4-c86a394c8d3e"
      },
      "outputs": [
        {
          "data": {
            "text/plain": [
              "Text(0.5, 0, 'Стоимость')"
            ]
          },
          "execution_count": 64,
          "metadata": {},
          "output_type": "execute_result"
        },
        {
          "data": {
            "image/png": "[encoded data removed]",
            "text/plain": [
              "<Figure size 864x288 with 1 Axes>"
            ]
          },
          "metadata": {
            "needs_background": "light"
          },
          "output_type": "display_data"
        }
      ],
      "source": [
        "# проведем логическую индексацию и построим график\n",
        "df[df['floor_kind'] == 'первый']['last_price'].plot(\n",
        "    kind='hist', y='ceiling_height', histtype='step', density=True, figsize=(12, 4), color='b', \n",
        "    range=(0, 15), bins=10, label='первый этаж', grid=True, legend=True, linewidth=2.5, alpha=0.8)\n",
        "\n",
        "df[df['floor_kind'] == 'другой']['last_price'].plot(\n",
        "    kind='hist', y='ceiling_height', histtype='step', density=True, figsize=(12, 4), color='r', \n",
        "    range=(0, 15), bins=10, label='другой этаж', grid=True, legend=True, linewidth=2.5, alpha=0.8)\n",
        "\n",
        "df[df['floor_kind'] == 'последний']['last_price'].plot(\n",
        "    kind='hist', y='ceiling_height', histtype='step', density=True, figsize=(12, 4), color='g', \n",
        "    range=(0, 15), bins=10, label='последний этаж', grid=True, legend=True, linewidth=2.5, alpha=0.8)\n",
        "\n",
        "plt.title('График зависимости цены от этажа')\n",
        "plt.ylabel('Частота')\n",
        "plt.xlabel('Стоимость')"
      ]
    },
    {
      "cell_type": "markdown",
      "metadata": {
        "id": "JNUfsbj_AqJj"
      },
      "source": [
        "В среднем первый этаж стоит 4,3 млн. руб, последний 5,39 млн. руб, другие 5,91 млн. руб."
      ]
    },
    {
      "cell_type": "markdown",
      "metadata": {
        "id": "Xvh-DwWIP49o"
      },
      "source": [
        "#### Цена от даты размещения"
      ]
    },
    {
      "cell_type": "markdown",
      "metadata": {
        "id": "fDtLHZSaBudj"
      },
      "source": [
        "Посмотрим средние значения по дням неделям:"
      ]
    },
    {
      "cell_type": "code",
      "execution_count": null,
      "metadata": {
        "colab": {
          "base_uri": "https://localhost:8080/",
          "height": 300
        },
        "id": "4TVtZLYeihRr",
        "outputId": "b41efda3-23a2-4aa1-c678-b6eb40c4be09"
      },
      "outputs": [
        {
          "data": {
            "text/html": [
              "<div>\n",
              "<style scoped>\n",
              "    .dataframe tbody tr th:only-of-type {\n",
              "        vertical-align: middle;\n",
              "    }\n",
              "\n",
              "    .dataframe tbody tr th {\n",
              "        vertical-align: top;\n",
              "    }\n",
              "\n",
              "    .dataframe thead th {\n",
              "        text-align: right;\n",
              "    }\n",
              "</style>\n",
              "<table border=\"1\" class=\"dataframe\">\n",
              "  <thead>\n",
              "    <tr style=\"text-align: right;\">\n",
              "      <th></th>\n",
              "      <th>count</th>\n",
              "      <th>mean</th>\n",
              "      <th>median</th>\n",
              "    </tr>\n",
              "    <tr>\n",
              "      <th>weekday</th>\n",
              "      <th></th>\n",
              "      <th></th>\n",
              "      <th></th>\n",
              "    </tr>\n",
              "  </thead>\n",
              "  <tbody>\n",
              "    <tr>\n",
              "      <td>0</td>\n",
              "      <td>3397</td>\n",
              "      <td>5.975400</td>\n",
              "      <td>4.6000</td>\n",
              "    </tr>\n",
              "    <tr>\n",
              "      <td>1</td>\n",
              "      <td>3929</td>\n",
              "      <td>5.934372</td>\n",
              "      <td>4.6750</td>\n",
              "    </tr>\n",
              "    <tr>\n",
              "      <td>2</td>\n",
              "      <td>3701</td>\n",
              "      <td>5.868796</td>\n",
              "      <td>4.6000</td>\n",
              "    </tr>\n",
              "    <tr>\n",
              "      <td>3</td>\n",
              "      <td>3995</td>\n",
              "      <td>6.125392</td>\n",
              "      <td>4.5936</td>\n",
              "    </tr>\n",
              "    <tr>\n",
              "      <td>4</td>\n",
              "      <td>3799</td>\n",
              "      <td>5.809681</td>\n",
              "      <td>4.5000</td>\n",
              "    </tr>\n",
              "    <tr>\n",
              "      <td>5</td>\n",
              "      <td>1828</td>\n",
              "      <td>5.856784</td>\n",
              "      <td>4.5000</td>\n",
              "    </tr>\n",
              "    <tr>\n",
              "      <td>6</td>\n",
              "      <td>1596</td>\n",
              "      <td>5.681618</td>\n",
              "      <td>4.5000</td>\n",
              "    </tr>\n",
              "  </tbody>\n",
              "</table>\n",
              "</div>"
            ],
            "text/plain": [
              "         count      mean  median\n",
              "weekday                         \n",
              "0         3397  5.975400  4.6000\n",
              "1         3929  5.934372  4.6750\n",
              "2         3701  5.868796  4.6000\n",
              "3         3995  6.125392  4.5936\n",
              "4         3799  5.809681  4.5000\n",
              "5         1828  5.856784  4.5000\n",
              "6         1596  5.681618  4.5000"
            ]
          },
          "execution_count": 65,
          "metadata": {},
          "output_type": "execute_result"
        }
      ],
      "source": [
        "df.sort_values(['weekday'],ascending=False).groupby('weekday')['last_price'].agg(['count', 'mean', 'median'])"
      ]
    },
    {
      "cell_type": "code",
      "execution_count": null,
      "metadata": {
        "colab": {
          "base_uri": "https://localhost:8080/",
          "height": 312
        },
        "id": "Lgu0rnXMSzzo",
        "outputId": "689ef1e8-c651-4787-b82b-ab8c9b8a9010"
      },
      "outputs": [
        {
          "data": {
            "text/plain": [
              "Text(0.5, 0, 'День недели')"
            ]
          },
          "execution_count": 66,
          "metadata": {},
          "output_type": "execute_result"
        },
        {
          "data": {
            "image/png": "[encoded data removed]",
            "text/plain": [
              "<Figure size 864x288 with 1 Axes>"
            ]
          },
          "metadata": {
            "needs_background": "light"
          },
          "output_type": "display_data"
        }
      ],
      "source": [
        "df.groupby('weekday')['last_price'].agg(['mean', 'median']).plot(\n",
        "    grid=True, figsize=(12, 4), legend=True, linewidth=2.5, alpha=0.8)\n",
        "\n",
        "plt.xticks(range(7), ['Пн','Вт','Ср','Чт', 'Пт','Сб', 'Вс'])\n",
        "plt.title('График стоимости квартиры взависимости от дня недели')\n",
        "plt.ylabel('Стоимость квартиры')\n",
        "plt.xlabel('День недели')"
      ]
    },
    {
      "cell_type": "markdown",
      "metadata": {
        "id": "lu-uxn24DfZz"
      },
      "source": [
        "Цена расчет до четверга, снижась в пятницу, и немного поднимается в субботу. При этом видно, что в выходные дни размещают мало объявлений"
      ]
    },
    {
      "cell_type": "markdown",
      "metadata": {
        "id": "wVe2UeOcC2T0"
      },
      "source": [
        "Посмотрим средние значения по месяцам:"
      ]
    },
    {
      "cell_type": "code",
      "execution_count": null,
      "metadata": {
        "colab": {
          "base_uri": "https://localhost:8080/",
          "height": 457
        },
        "id": "pMLW5UoOB24Z",
        "outputId": "485b0087-9b67-4259-e4d4-de038669f193"
      },
      "outputs": [
        {
          "data": {
            "text/html": [
              "<div>\n",
              "<style scoped>\n",
              "    .dataframe tbody tr th:only-of-type {\n",
              "        vertical-align: middle;\n",
              "    }\n",
              "\n",
              "    .dataframe tbody tr th {\n",
              "        vertical-align: top;\n",
              "    }\n",
              "\n",
              "    .dataframe thead th {\n",
              "        text-align: right;\n",
              "    }\n",
              "</style>\n",
              "<table border=\"1\" class=\"dataframe\">\n",
              "  <thead>\n",
              "    <tr style=\"text-align: right;\">\n",
              "      <th></th>\n",
              "      <th>count</th>\n",
              "      <th>mean</th>\n",
              "      <th>median</th>\n",
              "    </tr>\n",
              "    <tr>\n",
              "      <th>month</th>\n",
              "      <th></th>\n",
              "      <th></th>\n",
              "      <th></th>\n",
              "    </tr>\n",
              "  </thead>\n",
              "  <tbody>\n",
              "    <tr>\n",
              "      <td>1</td>\n",
              "      <td>1394</td>\n",
              "      <td>5.845301</td>\n",
              "      <td>4.55</td>\n",
              "    </tr>\n",
              "    <tr>\n",
              "      <td>2</td>\n",
              "      <td>2501</td>\n",
              "      <td>6.060751</td>\n",
              "      <td>4.60</td>\n",
              "    </tr>\n",
              "    <tr>\n",
              "      <td>3</td>\n",
              "      <td>2386</td>\n",
              "      <td>5.806507</td>\n",
              "      <td>4.60</td>\n",
              "    </tr>\n",
              "    <tr>\n",
              "      <td>4</td>\n",
              "      <td>2259</td>\n",
              "      <td>5.953671</td>\n",
              "      <td>4.75</td>\n",
              "    </tr>\n",
              "    <tr>\n",
              "      <td>5</td>\n",
              "      <td>1168</td>\n",
              "      <td>5.883731</td>\n",
              "      <td>4.50</td>\n",
              "    </tr>\n",
              "    <tr>\n",
              "      <td>6</td>\n",
              "      <td>1638</td>\n",
              "      <td>5.783906</td>\n",
              "      <td>4.35</td>\n",
              "    </tr>\n",
              "    <tr>\n",
              "      <td>7</td>\n",
              "      <td>1588</td>\n",
              "      <td>5.991916</td>\n",
              "      <td>4.60</td>\n",
              "    </tr>\n",
              "    <tr>\n",
              "      <td>8</td>\n",
              "      <td>1670</td>\n",
              "      <td>5.983244</td>\n",
              "      <td>4.55</td>\n",
              "    </tr>\n",
              "    <tr>\n",
              "      <td>9</td>\n",
              "      <td>1871</td>\n",
              "      <td>5.996791</td>\n",
              "      <td>4.60</td>\n",
              "    </tr>\n",
              "    <tr>\n",
              "      <td>10</td>\n",
              "      <td>2028</td>\n",
              "      <td>5.748220</td>\n",
              "      <td>4.50</td>\n",
              "    </tr>\n",
              "    <tr>\n",
              "      <td>11</td>\n",
              "      <td>2257</td>\n",
              "      <td>5.997505</td>\n",
              "      <td>4.65</td>\n",
              "    </tr>\n",
              "    <tr>\n",
              "      <td>12</td>\n",
              "      <td>1485</td>\n",
              "      <td>5.908318</td>\n",
              "      <td>4.60</td>\n",
              "    </tr>\n",
              "  </tbody>\n",
              "</table>\n",
              "</div>"
            ],
            "text/plain": [
              "       count      mean  median\n",
              "month                         \n",
              "1       1394  5.845301    4.55\n",
              "2       2501  6.060751    4.60\n",
              "3       2386  5.806507    4.60\n",
              "4       2259  5.953671    4.75\n",
              "5       1168  5.883731    4.50\n",
              "6       1638  5.783906    4.35\n",
              "7       1588  5.991916    4.60\n",
              "8       1670  5.983244    4.55\n",
              "9       1871  5.996791    4.60\n",
              "10      2028  5.748220    4.50\n",
              "11      2257  5.997505    4.65\n",
              "12      1485  5.908318    4.60"
            ]
          },
          "execution_count": 67,
          "metadata": {},
          "output_type": "execute_result"
        }
      ],
      "source": [
        "df.groupby('month')['last_price'].agg(['count', 'mean', 'median'])"
      ]
    },
    {
      "cell_type": "markdown",
      "metadata": {
        "id": "r22XLZjWC5lR"
      },
      "source": [
        "Построим график цены взависимости от месяца:"
      ]
    },
    {
      "cell_type": "code",
      "execution_count": null,
      "metadata": {
        "colab": {
          "base_uri": "https://localhost:8080/",
          "height": 312
        },
        "id": "ByDqkWHTTCso",
        "outputId": "20237dbf-4341-414d-f282-d99b021b08d2"
      },
      "outputs": [
        {
          "data": {
            "text/plain": [
              "Text(0.5, 0, 'Месяц')"
            ]
          },
          "execution_count": 68,
          "metadata": {},
          "output_type": "execute_result"
        },
        {
          "data": {
            "image/png": "[encoded data removed]",
            "text/plain": [
              "<Figure size 864x288 with 1 Axes>"
            ]
          },
          "metadata": {
            "needs_background": "light"
          },
          "output_type": "display_data"
        }
      ],
      "source": [
        "df.groupby('month')['last_price'].agg(['mean', 'median']).plot(\n",
        "    grid=True, figsize=(12, 4), legend=True, linewidth=2.5, alpha=0.8)\n",
        "\n",
        "plt.title('График стоимости квартиры взависимости от месяца')\n",
        "plt.ylabel('Стоимость квартиры')\n",
        "plt.xlabel('Месяц')"
      ]
    },
    {
      "cell_type": "markdown",
      "metadata": {
        "id": "gES4l6DWDoXq"
      },
      "source": [
        "Цена немного проседает в начале лета, и потом растет к концу года. При этом наибольшая активность в феврале и в ноябрe"
      ]
    },
    {
      "cell_type": "markdown",
      "metadata": {
        "id": "qFO2EA_kDDG7"
      },
      "source": [
        "Посмотрим среднее по годам:"
      ]
    },
    {
      "cell_type": "code",
      "execution_count": null,
      "metadata": {
        "colab": {
          "base_uri": "https://localhost:8080/",
          "height": 269
        },
        "id": "539nfkCBDBhs",
        "outputId": "9ee911f2-b2dd-46ef-8a8c-10232f46dc37"
      },
      "outputs": [
        {
          "data": {
            "text/html": [
              "<div>\n",
              "<style scoped>\n",
              "    .dataframe tbody tr th:only-of-type {\n",
              "        vertical-align: middle;\n",
              "    }\n",
              "\n",
              "    .dataframe tbody tr th {\n",
              "        vertical-align: top;\n",
              "    }\n",
              "\n",
              "    .dataframe thead th {\n",
              "        text-align: right;\n",
              "    }\n",
              "</style>\n",
              "<table border=\"1\" class=\"dataframe\">\n",
              "  <thead>\n",
              "    <tr style=\"text-align: right;\">\n",
              "      <th></th>\n",
              "      <th>count</th>\n",
              "      <th>mean</th>\n",
              "      <th>median</th>\n",
              "    </tr>\n",
              "    <tr>\n",
              "      <th>year</th>\n",
              "      <th></th>\n",
              "      <th></th>\n",
              "      <th></th>\n",
              "    </tr>\n",
              "  </thead>\n",
              "  <tbody>\n",
              "    <tr>\n",
              "      <td>2014</td>\n",
              "      <td>46</td>\n",
              "      <td>12.742363</td>\n",
              "      <td>9.05</td>\n",
              "    </tr>\n",
              "    <tr>\n",
              "      <td>2015</td>\n",
              "      <td>651</td>\n",
              "      <td>7.323101</td>\n",
              "      <td>5.10</td>\n",
              "    </tr>\n",
              "    <tr>\n",
              "      <td>2016</td>\n",
              "      <td>2305</td>\n",
              "      <td>5.965936</td>\n",
              "      <td>4.45</td>\n",
              "    </tr>\n",
              "    <tr>\n",
              "      <td>2017</td>\n",
              "      <td>7952</td>\n",
              "      <td>5.899939</td>\n",
              "      <td>4.50</td>\n",
              "    </tr>\n",
              "    <tr>\n",
              "      <td>2018</td>\n",
              "      <td>8447</td>\n",
              "      <td>5.631465</td>\n",
              "      <td>4.55</td>\n",
              "    </tr>\n",
              "    <tr>\n",
              "      <td>2019</td>\n",
              "      <td>2844</td>\n",
              "      <td>6.350460</td>\n",
              "      <td>5.00</td>\n",
              "    </tr>\n",
              "  </tbody>\n",
              "</table>\n",
              "</div>"
            ],
            "text/plain": [
              "      count       mean  median\n",
              "year                          \n",
              "2014     46  12.742363    9.05\n",
              "2015    651   7.323101    5.10\n",
              "2016   2305   5.965936    4.45\n",
              "2017   7952   5.899939    4.50\n",
              "2018   8447   5.631465    4.55\n",
              "2019   2844   6.350460    5.00"
            ]
          },
          "execution_count": 69,
          "metadata": {},
          "output_type": "execute_result"
        }
      ],
      "source": [
        "df.groupby('year')['last_price'].agg(['count', 'mean', 'median'])"
      ]
    },
    {
      "cell_type": "markdown",
      "metadata": {
        "id": "th2EY4sVDLyL"
      },
      "source": [
        "Построим график цены взависимости от года:"
      ]
    },
    {
      "cell_type": "code",
      "execution_count": null,
      "metadata": {
        "colab": {
          "base_uri": "https://localhost:8080/",
          "height": 312
        },
        "id": "iTvsYlXWTCZY",
        "outputId": "4235d7f1-3a2b-464a-bf8e-8c72f6b29259"
      },
      "outputs": [
        {
          "data": {
            "text/plain": [
              "Text(0.5, 0, 'Год')"
            ]
          },
          "execution_count": 70,
          "metadata": {},
          "output_type": "execute_result"
        },
        {
          "data": {
            "image/png": "[encoded data removed]",
            "text/plain": [
              "<Figure size 864x288 with 1 Axes>"
            ]
          },
          "metadata": {
            "needs_background": "light"
          },
          "output_type": "display_data"
        }
      ],
      "source": [
        "df.groupby('year')['last_price'].agg(['mean', 'median']).plot(\n",
        "    grid=True, figsize=(12, 4), legend=True, linewidth=2.5, alpha=0.8)\n",
        "\n",
        "plt.title('График стоимости квартиры взависимости от года')\n",
        "plt.ylabel('Стоимость квартиры')\n",
        "plt.xlabel('Год')"
      ]
    },
    {
      "cell_type": "markdown",
      "metadata": {
        "id": "IeXd4DuyDt1a"
      },
      "source": [
        "Видны сплески в 2014, 2015, но из-за небольшой выборки, сложно оценить данные подъемы цены. В целом цена равномерная, и не сильно менялась по годам"
      ]
    },
    {
      "cell_type": "markdown",
      "metadata": {
        "id": "LiNQyCm3KiRk"
      },
      "source": [
        "#### Вывод"
      ]
    },
    {
      "cell_type": "markdown",
      "metadata": {
        "id": "xIQcHic3Km_t"
      },
      "source": [
        "- Чем больше плошадь квартиры, тем выше стоимость.\n",
        "- Чем больше комнат, тем выше цена квартиры.\n",
        "- Примерно до 5 км. от центра цена квартиры почти не меняется, далее чем дальше от центра, тем ниже стоимость.\n",
        "- В среднем первый этаж стоит 4,3 млн. руб, последний 5,39 млн. руб, другие 5,91 млн. руб.\n",
        "- Цена кваритры расчет до четверга, снижась в пятницу, и немного поднимается в субботу. \n",
        "- При этом видно, что в выходные дни размещают мало объявлений.\n",
        "- Цена немного проседает в начале лета, и потом растет к концу года. При этом наибольшая активность в феврале и в ноябрe.\n",
        "- Видны сплески в 2014, 2015, но из-за небольшой выборки, сложно оценить данные подъемы цены. В целом цена равномерная, и не сильно менялась по годам."
      ]
    },
    {
      "cell_type": "markdown",
      "metadata": {
        "id": "8iuXy91jHkVN"
      },
      "source": [
        "### Топ 10 населенных пунктов\n"
      ]
    },
    {
      "cell_type": "markdown",
      "metadata": {
        "id": "TmHki4q_EW1R"
      },
      "source": [
        "Посмотрим топ 10 населенных пунктов с наибольшим числом объявлений:"
      ]
    },
    {
      "cell_type": "code",
      "execution_count": null,
      "metadata": {
        "colab": {
          "base_uri": "https://localhost:8080/",
          "height": 394
        },
        "id": "fkbwWUHcUN2s",
        "outputId": "0cd4d1b5-31fb-4d81-baa1-daae472d6d77"
      },
      "outputs": [
        {
          "data": {
            "text/html": [
              "<div>\n",
              "<style scoped>\n",
              "    .dataframe tbody tr th:only-of-type {\n",
              "        vertical-align: middle;\n",
              "    }\n",
              "\n",
              "    .dataframe tbody tr th {\n",
              "        vertical-align: top;\n",
              "    }\n",
              "\n",
              "    .dataframe thead th {\n",
              "        text-align: right;\n",
              "    }\n",
              "</style>\n",
              "<table border=\"1\" class=\"dataframe\">\n",
              "  <thead>\n",
              "    <tr style=\"text-align: right;\">\n",
              "      <th></th>\n",
              "      <th>count</th>\n",
              "      <th>mean</th>\n",
              "    </tr>\n",
              "    <tr>\n",
              "      <th>locality_name</th>\n",
              "      <th></th>\n",
              "      <th></th>\n",
              "    </tr>\n",
              "  </thead>\n",
              "  <tbody>\n",
              "    <tr>\n",
              "      <td>Санкт-Петербург</td>\n",
              "      <td>14650</td>\n",
              "      <td>113076.521024</td>\n",
              "    </tr>\n",
              "    <tr>\n",
              "      <td>Мурино</td>\n",
              "      <td>568</td>\n",
              "      <td>86203.149648</td>\n",
              "    </tr>\n",
              "    <tr>\n",
              "      <td>Кудрово</td>\n",
              "      <td>448</td>\n",
              "      <td>95610.676339</td>\n",
              "    </tr>\n",
              "    <tr>\n",
              "      <td>Шушары</td>\n",
              "      <td>426</td>\n",
              "      <td>78660.741784</td>\n",
              "    </tr>\n",
              "    <tr>\n",
              "      <td>Всеволожск</td>\n",
              "      <td>377</td>\n",
              "      <td>68718.618037</td>\n",
              "    </tr>\n",
              "    <tr>\n",
              "      <td>Пушкин</td>\n",
              "      <td>346</td>\n",
              "      <td>102972.361272</td>\n",
              "    </tr>\n",
              "    <tr>\n",
              "      <td>Колпино</td>\n",
              "      <td>328</td>\n",
              "      <td>75206.783537</td>\n",
              "    </tr>\n",
              "    <tr>\n",
              "      <td>Парголово</td>\n",
              "      <td>317</td>\n",
              "      <td>90166.476341</td>\n",
              "    </tr>\n",
              "    <tr>\n",
              "      <td>Гатчина</td>\n",
              "      <td>288</td>\n",
              "      <td>68980.958333</td>\n",
              "    </tr>\n",
              "    <tr>\n",
              "      <td>Выборг</td>\n",
              "      <td>225</td>\n",
              "      <td>58190.853333</td>\n",
              "    </tr>\n",
              "  </tbody>\n",
              "</table>\n",
              "</div>"
            ],
            "text/plain": [
              "                 count           mean\n",
              "locality_name                        \n",
              "Санкт-Петербург  14650  113076.521024\n",
              "Мурино             568   86203.149648\n",
              "Кудрово            448   95610.676339\n",
              "Шушары             426   78660.741784\n",
              "Всеволожск         377   68718.618037\n",
              "Пушкин             346  102972.361272\n",
              "Колпино            328   75206.783537\n",
              "Парголово          317   90166.476341\n",
              "Гатчина            288   68980.958333\n",
              "Выборг             225   58190.853333"
            ]
          },
          "execution_count": 71,
          "metadata": {},
          "output_type": "execute_result"
        }
      ],
      "source": [
        "df.groupby('locality_name')['square_meter_price'].agg(['count', 'mean']).sort_values(by='count', ascending=False).head(10)"
      ]
    },
    {
      "cell_type": "markdown",
      "metadata": {
        "id": "V4fikwvcEnRJ"
      },
      "source": [
        "Самая высокая стоимость жилья в Санкт-Петербурге, самая низкая в Выборге, 108007 руб. за м2 и 57181 руб. за м2 соотвественно."
      ]
    },
    {
      "cell_type": "markdown",
      "metadata": {
        "id": "frcAnw7AHmPt"
      },
      "source": [
        "### Удаленность от центра\n",
        "\n",
        " "
      ]
    },
    {
      "cell_type": "markdown",
      "metadata": {
        "id": "SWmUHgqdFwgs"
      },
      "source": [
        "Для удобства работы определим датасет в которым поместим объявления только с СПБ:"
      ]
    },
    {
      "cell_type": "code",
      "execution_count": null,
      "metadata": {
        "id": "-JxxlQo-WcWL"
      },
      "outputs": [],
      "source": [
        "df_spb = df # определим датасет СПБ\n",
        "df_spb.dropna(subset = ['city_centers_nearest'], inplace = True) # удалим пустые значения до центра\n",
        "df_spb['city_centers_nearest_km'] = ((df_spb['city_centers_nearest']/1000).round()).astype(int) # создадим столбец с км\n",
        "df_spb = df_spb[df_spb['locality_name'] == 'Санкт-Петербург'] # оставим значения только СПБ"
      ]
    },
    {
      "cell_type": "markdown",
      "metadata": {
        "id": "0xphGMIXF6IJ"
      },
      "source": [
        "Посторим график средней цены за кв. м зависящий от расстояния до центра:"
      ]
    },
    {
      "cell_type": "code",
      "execution_count": null,
      "metadata": {
        "colab": {
          "base_uri": "https://localhost:8080/",
          "height": 315
        },
        "id": "itjKb5kcZnTa",
        "outputId": "7b05b930-23e1-4678-d109-224a09018a78"
      },
      "outputs": [
        {
          "data": {
            "text/plain": [
              "Text(0.5, 0, 'Расстояние до центра, км')"
            ]
          },
          "execution_count": 73,
          "metadata": {},
          "output_type": "execute_result"
        },
        {
          "data": {
            "image/png": "[encoded data removed]",
            "text/plain": [
              "<Figure size 864x288 with 1 Axes>"
            ]
          },
          "metadata": {
            "needs_background": "light"
          },
          "output_type": "display_data"
        }
      ],
      "source": [
        "# составим сводную таблицу цены за м2 и удаленности от центра в СПБ\n",
        "df_spb.groupby('city_centers_nearest_km')['square_meter_price'].agg(\n",
        "    ['mean']).plot(kind='bar', grid=True, figsize=(12, 4)\n",
        "    )\n",
        "\n",
        "plt.ylim(60000, 160000)\n",
        "plt.title('Зависимость средней цены квадратного метра от расстояния до центра для СПб')\n",
        "plt.ylabel('Средняя цена, руб./м2')\n",
        "plt.xlabel('Расстояние до центра, км')"
      ]
    },
    {
      "cell_type": "markdown",
      "metadata": {
        "id": "qDt9LSYbJ-hc"
      },
      "source": [
        "Начиная с 8 км, цена за кв. м2 начинает стабилизироваться и небалюдается резких скачков.  \n",
        "По этой причине можно сделать вывод, что центр - 8 км."
      ]
    },
    {
      "cell_type": "markdown",
      "metadata": {
        "id": "1ftIH3UvHoTt"
      },
      "source": [
        "### Факторы влияющие на стоимость квартиры в центре"
      ]
    },
    {
      "cell_type": "markdown",
      "metadata": {
        "id": "UYXNhXsgXi6V"
      },
      "source": [
        "#### Изучение площади, цены, числа комнат, высоты потолков в центре"
      ]
    },
    {
      "cell_type": "markdown",
      "metadata": {
        "id": "1zITDPSjLoSK"
      },
      "source": [
        "Создадим датафрейм в который поместим только объявления входящие в категорию центр:"
      ]
    },
    {
      "cell_type": "code",
      "execution_count": null,
      "metadata": {
        "id": "zT-TTYqXcK8r"
      },
      "outputs": [],
      "source": [
        "df_spb_center = df_spb[df_spb['city_centers_nearest_km'] <= 8]"
      ]
    },
    {
      "cell_type": "markdown",
      "metadata": {
        "id": "yGhz8wjRLwnO"
      },
      "source": [
        "Построим гистрограмму общей площади для СПб и центра СПб:"
      ]
    },
    {
      "cell_type": "code",
      "execution_count": null,
      "metadata": {
        "colab": {
          "base_uri": "https://localhost:8080/",
          "height": 312
        },
        "id": "6fJiNuidXVWT",
        "outputId": "4e846186-5fc1-4833-a6cf-a54897d08d1d"
      },
      "outputs": [
        {
          "data": {
            "text/plain": [
              "Text(0.5, 0, 'Общая площадь, м2')"
            ]
          },
          "execution_count": 75,
          "metadata": {},
          "output_type": "execute_result"
        },
        {
          "data": {
            "image/png": "[encoded data removed]",
            "text/plain": [
              "<Figure size 864x288 with 1 Axes>"
            ]
          },
          "metadata": {
            "needs_background": "light"
          },
          "output_type": "display_data"
        }
      ],
      "source": [
        "# строим график для центра СПб, передадим ему график для СПб\n",
        "ax = df_spb.plot(kind='hist', y='total_area', histtype='step', density=True, figsize=(12, 4), color='b', \n",
        "    range=(0, 200), bins=50, label='площадь СПб', grid=True, legend=True, linewidth=2.5, alpha=0.8)\n",
        "df_spb_center.plot(kind='hist', y='total_area', histtype='step', ax=ax, density=True, figsize=(12, 4), color='r',\n",
        "    range=(0, 200), bins=50, label='площадь СПб центр', grid=True, legend=True, linewidth=2.5, alpha=0.8)\n",
        "plt.title('Гистограмма общей площади для СПб и центра СПб')\n",
        "plt.ylabel('Частота')\n",
        "plt.xlabel('Общая площадь, м2')"
      ]
    },
    {
      "cell_type": "markdown",
      "metadata": {
        "id": "UpWWrJ5FL7Z6"
      },
      "source": [
        "Построим гистрограмму количества комнат для СПб и центра СПб:"
      ]
    },
    {
      "cell_type": "code",
      "execution_count": null,
      "metadata": {
        "colab": {
          "base_uri": "https://localhost:8080/",
          "height": 312
        },
        "id": "mOrE3cohXVsb",
        "outputId": "05d05790-cd7b-406d-dd82-87e376295378"
      },
      "outputs": [
        {
          "data": {
            "text/plain": [
              "Text(0.5, 0, 'Количество комнат')"
            ]
          },
          "execution_count": 76,
          "metadata": {},
          "output_type": "execute_result"
        },
        {
          "data": {
            "image/png": "[encoded data removed]",
            "text/plain": [
              "<Figure size 864x288 with 1 Axes>"
            ]
          },
          "metadata": {
            "needs_background": "light"
          },
          "output_type": "display_data"
        }
      ],
      "source": [
        "ax = df_spb.plot(\n",
        "    kind='hist', y='rooms', histtype='step', density=True, figsize=(12, 4), color='b', \n",
        "    range=(0, 8), bins=8, label='количество комнат СПб', grid=True, legend=True, linewidth=2.5, alpha=0.8)\n",
        "df_spb_center.plot(\n",
        "    kind='hist', y='rooms', histtype='step', ax=ax, density=True, figsize=(12, 4), color='r',\n",
        "    range=(0, 8), bins=8, label='количество комнат СПб центр', grid=True, legend=True, linewidth=2.5, alpha=0.8)\n",
        "plt.title('Гистограмма количество комнат для СПб и центра СПб')\n",
        "plt.ylabel('Частота')\n",
        "plt.xlabel('Количество комнат')"
      ]
    },
    {
      "cell_type": "markdown",
      "metadata": {
        "id": "tzjn7aqgL_xc"
      },
      "source": [
        "Построим гистрограмму стоимости для СПб и центра СПб:"
      ]
    },
    {
      "cell_type": "code",
      "execution_count": null,
      "metadata": {
        "colab": {
          "base_uri": "https://localhost:8080/",
          "height": 312
        },
        "id": "fSY1QzfNXV8C",
        "outputId": "5eacb57f-38f9-4a13-de2a-d335e514022f"
      },
      "outputs": [
        {
          "data": {
            "text/plain": [
              "Text(0.5, 0, 'Стоимость квартиры')"
            ]
          },
          "execution_count": 77,
          "metadata": {},
          "output_type": "execute_result"
        },
        {
          "data": {
            "image/png": "[encoded data removed]",
            "text/plain": [
              "<Figure size 864x288 with 1 Axes>"
            ]
          },
          "metadata": {
            "needs_background": "light"
          },
          "output_type": "display_data"
        }
      ],
      "source": [
        "ax = df_spb.plot(\n",
        "    kind='hist', y='last_price', histtype='step', density=True, figsize=(12, 4), color='b', \n",
        "    range=(0, 20), bins=50, label='стоимость СПб', grid=True, legend=True, linewidth=2.5, alpha=0.8)\n",
        "df_spb_center.plot(\n",
        "    kind='hist', y='last_price', histtype='step', ax=ax, density=True, figsize=(12, 4), color='r',\n",
        "    range=(0, 20), bins=50, label='стоимост СПб центр', grid=True, legend=True, linewidth=2.5, alpha=0.8)\n",
        "plt.title('Гистограмма стоимости квартир СПб и центра СПб')\n",
        "plt.ylabel('Частота')\n",
        "plt.xlabel('Стоимость квартиры')"
      ]
    },
    {
      "cell_type": "markdown",
      "metadata": {
        "id": "nVvjM3WHMGDL"
      },
      "source": [
        "Построим гистрограмму высоты потолков для СПб и центра СПб:"
      ]
    },
    {
      "cell_type": "code",
      "execution_count": null,
      "metadata": {
        "colab": {
          "base_uri": "https://localhost:8080/",
          "height": 312
        },
        "id": "EQBT1rnoXUl-",
        "outputId": "9dec0075-d492-41e6-ef27-269e7a8379d7"
      },
      "outputs": [
        {
          "data": {
            "text/plain": [
              "Text(0.5, 0, 'Высота потолков')"
            ]
          },
          "execution_count": 78,
          "metadata": {},
          "output_type": "execute_result"
        },
        {
          "data": {
            "image/png": "[encoded data removed]",
            "text/plain": [
              "<Figure size 864x288 with 1 Axes>"
            ]
          },
          "metadata": {
            "needs_background": "light"
          },
          "output_type": "display_data"
        }
      ],
      "source": [
        "ax = df_spb.plot(\n",
        "    kind='hist', y='ceiling_height', histtype='step', density=True, figsize=(12, 4), color='b', \n",
        "    range=(2, 5), bins=15, label='высота потолков СПб', grid=True, legend=True, linewidth=2.5, alpha=0.8)\n",
        "df_spb_center.plot(\n",
        "    kind='hist', y='ceiling_height', histtype='step', ax=ax, density=True, figsize=(12, 4), color='r',\n",
        "    range=(2, 5), bins=15, label='высота потолков СПб центр', grid=True, legend=True, linewidth=2.5, alpha=0.8)\n",
        "plt.title('Гистограмма высоты потолков в квартирах для СПб и центра СПб')\n",
        "plt.ylabel('Частота')\n",
        "plt.xlabel('Высота потолков')"
      ]
    },
    {
      "cell_type": "markdown",
      "metadata": {
        "id": "IkJDG-M_MVAi"
      },
      "source": [
        "##### Вывод"
      ]
    },
    {
      "cell_type": "markdown",
      "metadata": {
        "id": "MMYZ4S4kMaxp"
      },
      "source": [
        "Средняя площадь , цена, число комнат, а также высота потолков квартир в центре СПб больше, чем в среднем для СПб."
      ]
    },
    {
      "cell_type": "markdown",
      "metadata": {
        "id": "xqA20VVse2k7"
      },
      "source": [
        "#### Факторы влияющие на стоимость квартиры в центре"
      ]
    },
    {
      "cell_type": "markdown",
      "metadata": {
        "id": "ZjT4m-C8-Wnn"
      },
      "source": [
        "Посмотрим корреляцию признаков выведем корреляции для СПб и для центра СПб:"
      ]
    },
    {
      "cell_type": "code",
      "execution_count": null,
      "metadata": {
        "colab": {
          "base_uri": "https://localhost:8080/",
          "height": 175
        },
        "id": "7xqwL4QG-18n",
        "outputId": "8285ba95-6f58-40d4-b4ea-d62016853cad"
      },
      "outputs": [
        {
          "data": {
            "text/html": [
              "<div>\n",
              "<style scoped>\n",
              "    .dataframe tbody tr th:only-of-type {\n",
              "        vertical-align: middle;\n",
              "    }\n",
              "\n",
              "    .dataframe tbody tr th {\n",
              "        vertical-align: top;\n",
              "    }\n",
              "\n",
              "    .dataframe thead th {\n",
              "        text-align: right;\n",
              "    }\n",
              "</style>\n",
              "<table border=\"1\" class=\"dataframe\">\n",
              "  <thead>\n",
              "    <tr style=\"text-align: right;\">\n",
              "      <th></th>\n",
              "      <th>last_price</th>\n",
              "      <th>total_area</th>\n",
              "      <th>rooms</th>\n",
              "      <th>city_centers_nearest</th>\n",
              "    </tr>\n",
              "  </thead>\n",
              "  <tbody>\n",
              "    <tr>\n",
              "      <td>last_price</td>\n",
              "      <td>1.000000</td>\n",
              "      <td>0.728061</td>\n",
              "      <td>0.434759</td>\n",
              "      <td>-0.359454</td>\n",
              "    </tr>\n",
              "    <tr>\n",
              "      <td>total_area</td>\n",
              "      <td>0.728061</td>\n",
              "      <td>1.000000</td>\n",
              "      <td>0.781735</td>\n",
              "      <td>-0.341550</td>\n",
              "    </tr>\n",
              "    <tr>\n",
              "      <td>rooms</td>\n",
              "      <td>0.434759</td>\n",
              "      <td>0.781735</td>\n",
              "      <td>1.000000</td>\n",
              "      <td>-0.256193</td>\n",
              "    </tr>\n",
              "    <tr>\n",
              "      <td>city_centers_nearest</td>\n",
              "      <td>-0.359454</td>\n",
              "      <td>-0.341550</td>\n",
              "      <td>-0.256193</td>\n",
              "      <td>1.000000</td>\n",
              "    </tr>\n",
              "  </tbody>\n",
              "</table>\n",
              "</div>"
            ],
            "text/plain": [
              "                      last_price  total_area     rooms  city_centers_nearest\n",
              "last_price              1.000000    0.728061  0.434759             -0.359454\n",
              "total_area              0.728061    1.000000  0.781735             -0.341550\n",
              "rooms                   0.434759    0.781735  1.000000             -0.256193\n",
              "city_centers_nearest   -0.359454   -0.341550 -0.256193              1.000000"
            ]
          },
          "execution_count": 79,
          "metadata": {},
          "output_type": "execute_result"
        }
      ],
      "source": [
        "df_spb[['last_price', 'total_area', 'rooms', 'city_centers_nearest']].corr()"
      ]
    },
    {
      "cell_type": "code",
      "execution_count": null,
      "metadata": {
        "colab": {
          "base_uri": "https://localhost:8080/",
          "height": 175
        },
        "id": "r6pMrXt--Q6_",
        "outputId": "9f633377-491a-48a7-ebf7-6293d26ac610"
      },
      "outputs": [
        {
          "data": {
            "text/html": [
              "<div>\n",
              "<style scoped>\n",
              "    .dataframe tbody tr th:only-of-type {\n",
              "        vertical-align: middle;\n",
              "    }\n",
              "\n",
              "    .dataframe tbody tr th {\n",
              "        vertical-align: top;\n",
              "    }\n",
              "\n",
              "    .dataframe thead th {\n",
              "        text-align: right;\n",
              "    }\n",
              "</style>\n",
              "<table border=\"1\" class=\"dataframe\">\n",
              "  <thead>\n",
              "    <tr style=\"text-align: right;\">\n",
              "      <th></th>\n",
              "      <th>last_price</th>\n",
              "      <th>total_area</th>\n",
              "      <th>rooms</th>\n",
              "      <th>city_centers_nearest</th>\n",
              "    </tr>\n",
              "  </thead>\n",
              "  <tbody>\n",
              "    <tr>\n",
              "      <td>last_price</td>\n",
              "      <td>1.000000</td>\n",
              "      <td>0.648639</td>\n",
              "      <td>0.349391</td>\n",
              "      <td>-0.069249</td>\n",
              "    </tr>\n",
              "    <tr>\n",
              "      <td>total_area</td>\n",
              "      <td>0.648639</td>\n",
              "      <td>1.000000</td>\n",
              "      <td>0.775057</td>\n",
              "      <td>-0.162640</td>\n",
              "    </tr>\n",
              "    <tr>\n",
              "      <td>rooms</td>\n",
              "      <td>0.349391</td>\n",
              "      <td>0.775057</td>\n",
              "      <td>1.000000</td>\n",
              "      <td>-0.201939</td>\n",
              "    </tr>\n",
              "    <tr>\n",
              "      <td>city_centers_nearest</td>\n",
              "      <td>-0.069249</td>\n",
              "      <td>-0.162640</td>\n",
              "      <td>-0.201939</td>\n",
              "      <td>1.000000</td>\n",
              "    </tr>\n",
              "  </tbody>\n",
              "</table>\n",
              "</div>"
            ],
            "text/plain": [
              "                      last_price  total_area     rooms  city_centers_nearest\n",
              "last_price              1.000000    0.648639  0.349391             -0.069249\n",
              "total_area              0.648639    1.000000  0.775057             -0.162640\n",
              "rooms                   0.349391    0.775057  1.000000             -0.201939\n",
              "city_centers_nearest   -0.069249   -0.162640 -0.201939              1.000000"
            ]
          },
          "execution_count": 80,
          "metadata": {},
          "output_type": "execute_result"
        }
      ],
      "source": [
        "df_spb_center[['last_price', 'total_area', 'rooms', 'city_centers_nearest']].corr()"
      ]
    },
    {
      "cell_type": "markdown",
      "metadata": {
        "id": "XRXMsLiR_FVf"
      },
      "source": [
        "Исходя из корреляционных зависимостей, можно сделать выводы для центра СПб в сравнении с СПб:  \n",
        "- Цена продажи менее зависит от расстояния до центра, практически не зависит, коэф. Пирсона = `-0.069`\n",
        "- Зависимости цены продажи от общей площади и количества комнат менее выраженны."
      ]
    },
    {
      "cell_type": "markdown",
      "metadata": {
        "id": "AVzBC1n7fRcz"
      },
      "source": [
        "##### Число комнат"
      ]
    },
    {
      "cell_type": "markdown",
      "metadata": {
        "id": "umq_2wWLNRBL"
      },
      "source": [
        "Построим график сравнения цены взависимоти от количества комнат для СПб и центра СПб:"
      ]
    },
    {
      "cell_type": "code",
      "execution_count": null,
      "metadata": {
        "colab": {
          "base_uri": "https://localhost:8080/",
          "height": 312
        },
        "id": "zIG7GEJ0eKCC",
        "outputId": "1997c45b-d511-40b5-a920-bd9266fd10d3"
      },
      "outputs": [
        {
          "data": {
            "text/plain": [
              "Text(0.5, 0, 'Количество комнат')"
            ]
          },
          "execution_count": 81,
          "metadata": {},
          "output_type": "execute_result"
        },
        {
          "data": {
            "image/png": "[encoded data removed]",
            "text/plain": [
              "<Figure size 864x288 with 1 Axes>"
            ]
          },
          "metadata": {
            "needs_background": "light"
          },
          "output_type": "display_data"
        }
      ],
      "source": [
        "df_spb.groupby('rooms')['last_price'].agg(['mean'])['mean'].plot(\n",
        "    figsize=(12, 4), color='b', label='количество комнат СПБ', grid=True, \n",
        "    legend=True, linewidth=2.5, alpha=0.8) \n",
        "\n",
        "df_spb_center.groupby('rooms')['last_price'].agg(['mean'])['mean'].plot(\n",
        "    figsize=(12, 4), color='r', label='количество комнат центр СПБ', grid=True, \n",
        "    legend=True, linewidth=2.5, alpha=0.8) \n",
        "\n",
        "plt.title('График количества комнат для СПб и центра СПб')\n",
        "plt.ylabel('Стоимость квартиры, млн. руб')\n",
        "plt.xlabel('Количество комнат')"
      ]
    },
    {
      "cell_type": "code",
      "execution_count": null,
      "metadata": {
        "colab": {
          "base_uri": "https://localhost:8080/",
          "height": 312
        },
        "id": "clXUpgTNQJHi",
        "outputId": "0605c30b-bb7f-413b-b05d-25c5ca7d573f"
      },
      "outputs": [
        {
          "data": {
            "text/plain": [
              "Text(0.5, 0, 'Количество комнат')"
            ]
          },
          "execution_count": 82,
          "metadata": {},
          "output_type": "execute_result"
        },
        {
          "data": {
            "image/png": "[encoded data removed]",
            "text/plain": [
              "<Figure size 864x288 with 1 Axes>"
            ]
          },
          "metadata": {
            "needs_background": "light"
          },
          "output_type": "display_data"
        }
      ],
      "source": [
        "df_spb.groupby('rooms')['last_price'].agg(['count'])['count'].plot(\n",
        "    figsize=(12, 4), color='b', label='количество комнат СПБ', grid=True, \n",
        "    legend=True, linewidth=2.5, alpha=0.8) \n",
        "\n",
        "df_spb_center.groupby('rooms')['last_price'].agg(['count'])['count'].plot(\n",
        "    figsize=(12, 4), color='r', label='количество комнат центр СПБ', grid=True, \n",
        "    legend=True, linewidth=2.5, alpha=0.8) \n",
        "\n",
        "plt.title('График количества комнат для СПб и центра СПб')\n",
        "plt.ylabel('Общее число комнат')\n",
        "plt.xlabel('Количество комнат')"
      ]
    },
    {
      "cell_type": "markdown",
      "metadata": {
        "id": "qrp1wuB3OiDF"
      },
      "source": [
        "В серднем наблюдаем линейный положительный рост цены квартиры взависимоти от количества комнат. При этом цена в центре СПб выше, чем для СПб в целом, ожидаемо."
      ]
    },
    {
      "cell_type": "markdown",
      "metadata": {
        "id": "jkICmHDSfWuT"
      },
      "source": [
        "##### Этаж"
      ]
    },
    {
      "cell_type": "markdown",
      "metadata": {
        "id": "8oedu4NzReI6"
      },
      "source": [
        "Рассмотрим средние значения по этажам:"
      ]
    },
    {
      "cell_type": "code",
      "execution_count": null,
      "metadata": {
        "colab": {
          "base_uri": "https://localhost:8080/",
          "height": 175
        },
        "id": "tMLaLGpdRYa1",
        "outputId": "f3188378-b87d-431b-b233-a08c703e2e01"
      },
      "outputs": [
        {
          "data": {
            "text/html": [
              "<div>\n",
              "<style scoped>\n",
              "    .dataframe tbody tr th:only-of-type {\n",
              "        vertical-align: middle;\n",
              "    }\n",
              "\n",
              "    .dataframe tbody tr th {\n",
              "        vertical-align: top;\n",
              "    }\n",
              "\n",
              "    .dataframe thead th {\n",
              "        text-align: right;\n",
              "    }\n",
              "</style>\n",
              "<table border=\"1\" class=\"dataframe\">\n",
              "  <thead>\n",
              "    <tr style=\"text-align: right;\">\n",
              "      <th></th>\n",
              "      <th>count</th>\n",
              "      <th>mean</th>\n",
              "      <th>median</th>\n",
              "    </tr>\n",
              "    <tr>\n",
              "      <th>floor_kind</th>\n",
              "      <th></th>\n",
              "      <th></th>\n",
              "      <th></th>\n",
              "    </tr>\n",
              "  </thead>\n",
              "  <tbody>\n",
              "    <tr>\n",
              "      <td>другой</td>\n",
              "      <td>2589</td>\n",
              "      <td>11.988355</td>\n",
              "      <td>8.9710</td>\n",
              "    </tr>\n",
              "    <tr>\n",
              "      <td>первый</td>\n",
              "      <td>398</td>\n",
              "      <td>8.193724</td>\n",
              "      <td>6.2995</td>\n",
              "    </tr>\n",
              "    <tr>\n",
              "      <td>последний</td>\n",
              "      <td>574</td>\n",
              "      <td>11.195395</td>\n",
              "      <td>8.5000</td>\n",
              "    </tr>\n",
              "  </tbody>\n",
              "</table>\n",
              "</div>"
            ],
            "text/plain": [
              "            count       mean  median\n",
              "floor_kind                          \n",
              "другой       2589  11.988355  8.9710\n",
              "первый        398   8.193724  6.2995\n",
              "последний     574  11.195395  8.5000"
            ]
          },
          "execution_count": 83,
          "metadata": {},
          "output_type": "execute_result"
        }
      ],
      "source": [
        "df_spb_center.groupby('floor_kind')['last_price'].agg(['count', 'mean', 'median'])"
      ]
    },
    {
      "cell_type": "markdown",
      "metadata": {
        "id": "wCmzpFteNyLs"
      },
      "source": [
        "Построим график сравнения цены взависимоти от этажа для СПб и центра СПб:"
      ]
    },
    {
      "cell_type": "code",
      "execution_count": null,
      "metadata": {
        "colab": {
          "base_uri": "https://localhost:8080/",
          "height": 312
        },
        "id": "5CRvZaHOsp2D",
        "outputId": "e8cfb515-f1bf-4045-c8cd-f765b58e955a"
      },
      "outputs": [
        {
          "data": {
            "text/plain": [
              "Text(0.5, 0, 'Стоимость')"
            ]
          },
          "execution_count": 84,
          "metadata": {},
          "output_type": "execute_result"
        },
        {
          "data": {
            "image/png": "[encoded data removed]",
            "text/plain": [
              "<Figure size 864x288 with 1 Axes>"
            ]
          },
          "metadata": {
            "needs_background": "light"
          },
          "output_type": "display_data"
        }
      ],
      "source": [
        "df_spb[df_spb['floor_kind'] == 'первый']['last_price'].plot(\n",
        "    kind='hist', y='ceiling_height', histtype='step', density=True, figsize=(12, 4), color='b', \n",
        "    range=(0, 15), bins=10, label='первый этаж СПБ', grid=True, legend=True, linewidth=2.5, alpha=0.8)\n",
        "df_spb_center[df_spb_center['floor_kind'] == 'первый']['last_price'].plot(\n",
        "    kind='hist', y='ceiling_height', histtype='step', density=True, figsize=(12, 4), color='r', \n",
        "    range=(0, 15), bins=10, label='первый этаж СПБ в центре', grid=True, legend=True, linewidth=2.5, alpha=0.8)\n",
        "\n",
        "plt.title('График стоимости первых этажей для СПБ и центра СПБ')\n",
        "plt.ylabel('Частота')\n",
        "plt.xlabel('Стоимость')"
      ]
    },
    {
      "cell_type": "markdown",
      "metadata": {
        "id": "5J94Na33O7zC"
      },
      "source": [
        "Стоимость квартир на первой этаже в среднем немного выше для центра СПб, при этом в среднем как в целом городу"
      ]
    },
    {
      "cell_type": "code",
      "execution_count": null,
      "metadata": {
        "colab": {
          "base_uri": "https://localhost:8080/",
          "height": 312
        },
        "id": "SViDlWRduDOL",
        "outputId": "af75dcb0-330d-4299-ef19-fa218db6076d"
      },
      "outputs": [
        {
          "data": {
            "text/plain": [
              "Text(0.5, 0, 'Стоимость')"
            ]
          },
          "execution_count": 85,
          "metadata": {},
          "output_type": "execute_result"
        },
        {
          "data": {
            "image/png": "[encoded data removed]",
            "text/plain": [
              "<Figure size 864x288 with 1 Axes>"
            ]
          },
          "metadata": {
            "needs_background": "light"
          },
          "output_type": "display_data"
        }
      ],
      "source": [
        "df_spb[df_spb['floor_kind'] == 'последний']['last_price'].plot(\n",
        "    kind='hist', y='ceiling_height', histtype='step', density=True, figsize=(12, 4), color='b', \n",
        "    range=(0, 15), bins=10, label='последний этаж СПБ', grid=True, legend=True, linewidth=2.5, alpha=0.8)\n",
        "df_spb_center[df_spb_center['floor_kind'] == 'последний']['last_price'].plot(\n",
        "    kind='hist', y='ceiling_height', histtype='step', density=True, figsize=(12, 4), color='r', \n",
        "    range=(0, 15), bins=10, label='последний этаж СПБ в центре', grid=True, legend=True, linewidth=2.5, alpha=0.8)\n",
        "\n",
        "plt.title('График стоимости последних этажей для СПБ и центра СПБ')\n",
        "plt.ylabel('Частота')\n",
        "plt.xlabel('Стоимость')"
      ]
    },
    {
      "cell_type": "markdown",
      "metadata": {
        "id": "6RZEqG4jPDwj"
      },
      "source": [
        "Цена последних этажей для центра СПб выше, чем в среднем по СПб"
      ]
    },
    {
      "cell_type": "code",
      "execution_count": null,
      "metadata": {
        "colab": {
          "base_uri": "https://localhost:8080/",
          "height": 312
        },
        "id": "S6MQEXbnt0O0",
        "outputId": "d83aae26-01ed-45db-dc38-dc10387e1dd4"
      },
      "outputs": [
        {
          "data": {
            "text/plain": [
              "Text(0.5, 0, 'Стоимость')"
            ]
          },
          "execution_count": 86,
          "metadata": {},
          "output_type": "execute_result"
        },
        {
          "data": {
            "image/png": "[encoded data removed]",
            "text/plain": [
              "<Figure size 864x288 with 1 Axes>"
            ]
          },
          "metadata": {
            "needs_background": "light"
          },
          "output_type": "display_data"
        }
      ],
      "source": [
        "df_spb[df_spb['floor_kind'] == 'другой']['last_price'].plot(\n",
        "    kind='hist', y='ceiling_height', histtype='step', density=True, figsize=(12, 4), color='b', \n",
        "    range=(0, 15), bins=10, label='другой этаж СПБ', grid=True, legend=True, linewidth=2.5, alpha=0.8)\n",
        "df_spb_center[df_spb_center['floor_kind'] == 'другой']['last_price'].plot(\n",
        "    kind='hist', y='ceiling_height', histtype='step', density=True, figsize=(12, 4), color='r', \n",
        "    range=(0, 15), bins=10, label='другой этаж СПБ в центре', grid=True, legend=True, linewidth=2.5, alpha=0.8)\n",
        "\n",
        "plt.title('График стоимости других этажей для СПБ и центра СПБ')\n",
        "plt.ylabel('Частота')\n",
        "plt.xlabel('Стоимость')"
      ]
    },
    {
      "cell_type": "markdown",
      "metadata": {
        "id": "ULGcZ1_9PJ0Z"
      },
      "source": [
        "Средняя цена других этаже выше для центра СПб"
      ]
    },
    {
      "cell_type": "code",
      "execution_count": null,
      "metadata": {
        "colab": {
          "base_uri": "https://localhost:8080/",
          "height": 347
        },
        "id": "PspeCHOyuRXC",
        "outputId": "0196bcba-76f0-4eb0-9d59-2d6ab81f9f93"
      },
      "outputs": [
        {
          "name": "stderr",
          "output_type": "stream",
          "text": [
            "/opt/conda/lib/python3.7/site-packages/ipykernel_launcher.py:1: UserWarning: Boolean Series key will be reindexed to match DataFrame index.\n",
            "  \"\"\"Entry point for launching an IPython kernel.\n"
          ]
        },
        {
          "data": {
            "text/plain": [
              "Text(0.5, 0, 'Стоимость')"
            ]
          },
          "execution_count": 87,
          "metadata": {},
          "output_type": "execute_result"
        },
        {
          "data": {
            "image/png": "[encoded data removed]",
            "text/plain": [
              "<Figure size 864x288 with 1 Axes>"
            ]
          },
          "metadata": {
            "needs_background": "light"
          },
          "output_type": "display_data"
        }
      ],
      "source": [
        "df_spb_center[df_spb['floor_kind'] == 'первый']['last_price'].plot(\n",
        "    kind='hist', y='ceiling_height', histtype='step', density=True, figsize=(12, 4), color='b', \n",
        "    range=(0, 15), bins=10, label='первый этаж СПБ', grid=True, legend=True, linewidth=2.5, alpha=0.8)\n",
        "\n",
        "df_spb_center[df_spb_center['floor_kind'] == 'другой']['last_price'].plot(\n",
        "    kind='hist', y='ceiling_height', histtype='step', density=True, figsize=(12, 4), color='r', \n",
        "    range=(0, 15), bins=10, label='другой этаж СПБ в центре', grid=True, legend=True, linewidth=2.5, alpha=0.8)\n",
        "\n",
        "df_spb_center[df_spb_center['floor_kind'] == 'последний']['last_price'].plot(\n",
        "    kind='hist', y='ceiling_height', histtype='step', density=True, figsize=(12, 4), color='g', \n",
        "    range=(0, 15), bins=10, label='последний этаж СПБ в центре', grid=True, legend=True, linewidth=2.5, alpha=0.8)\n",
        "\n",
        "plt.title('График стоимости других этажей для СПБ и центра СПБ')\n",
        "plt.ylabel('Частота')\n",
        "plt.xlabel('Стоимость')"
      ]
    },
    {
      "cell_type": "markdown",
      "metadata": {
        "id": "EuS4Tr3NPUWq"
      },
      "source": [
        "Доля квартир на первем этаже больше, чем на других, но и средняя цена ниже"
      ]
    },
    {
      "cell_type": "markdown",
      "metadata": {
        "id": "z13cCsAefZh7"
      },
      "source": [
        "##### Удалённость от центра"
      ]
    },
    {
      "cell_type": "markdown",
      "metadata": {
        "id": "SIPBjILXN6ci"
      },
      "source": [
        "Построим график сравнения цены взависимоти от удаленности для центра СПб:"
      ]
    },
    {
      "cell_type": "code",
      "execution_count": null,
      "metadata": {
        "colab": {
          "base_uri": "https://localhost:8080/",
          "height": 312
        },
        "id": "hkRdPzzefotD",
        "outputId": "751b84cd-4b95-4974-954e-578b86e1a080"
      },
      "outputs": [
        {
          "data": {
            "text/plain": [
              "Text(0.5, 0, 'Удаленность от центра, км')"
            ]
          },
          "execution_count": 88,
          "metadata": {},
          "output_type": "execute_result"
        },
        {
          "data": {
            "image/png": "[encoded data removed]",
            "text/plain": [
              "<Figure size 864x288 with 1 Axes>"
            ]
          },
          "metadata": {
            "needs_background": "light"
          },
          "output_type": "display_data"
        }
      ],
      "source": [
        "df_spb_center.groupby('city_centers_nearest_km')['last_price'].agg(['mean'])['mean'].plot(\n",
        "    figsize=(12, 4), color='b', grid=True, \n",
        "    legend=True, linewidth=2.5, alpha=0.8) \n",
        "plt.title('График стоимости квартир взависимости удаленности от центра СПБ')\n",
        "plt.ylabel('Стоимость квартиры, млн. руб')\n",
        "plt.xlabel('Удаленность от центра, км')"
      ]
    },
    {
      "cell_type": "markdown",
      "metadata": {
        "id": "sR6llqqmPbbq"
      },
      "source": [
        "В целом тренд цены взависимсоти от удаленностир от центра такое же как и в целом по СПб, но небольшая просадка цены в районе 3 км, выглядит не понятно"
      ]
    },
    {
      "cell_type": "markdown",
      "metadata": {
        "id": "3EEv5DmVfb5C"
      },
      "source": [
        "##### Дата размещения объявления"
      ]
    },
    {
      "cell_type": "markdown",
      "metadata": {
        "id": "xcIkporlOApi"
      },
      "source": [
        "Посмотрим средние значения по дням неделям:"
      ]
    },
    {
      "cell_type": "code",
      "execution_count": null,
      "metadata": {
        "colab": {
          "base_uri": "https://localhost:8080/",
          "height": 312
        },
        "id": "F6BOKY5lgr_v",
        "outputId": "a2d9f2d2-ab20-4c17-c328-31e94da2d1aa"
      },
      "outputs": [
        {
          "data": {
            "text/plain": [
              "Text(0.5, 0, 'День недели')"
            ]
          },
          "execution_count": 89,
          "metadata": {},
          "output_type": "execute_result"
        },
        {
          "data": {
            "image/png": "[encoded data removed]",
            "text/plain": [
              "<Figure size 864x288 with 1 Axes>"
            ]
          },
          "metadata": {
            "needs_background": "light"
          },
          "output_type": "display_data"
        }
      ],
      "source": [
        "df_spb.groupby('weekday')['last_price'].agg(['mean'])['mean'].plot(\n",
        "    figsize=(12, 4), color='b', label='стоимость квартир СПБ', grid=True, \n",
        "    legend=True, linewidth=2.5, alpha=0.8)\n",
        "\n",
        "df_spb_center.groupby('weekday')['last_price'].agg(['mean'])['mean'].plot(\n",
        "    figsize=(12, 4), color='r', label='стоимость квартир центр СПБ', grid=True, \n",
        "    legend=True, linewidth=2.5, alpha=0.8)\n",
        "\n",
        "plt.xticks(range(7), ['Пн','Вт','Ср','Чт', 'Пт','Сб', 'Вс'])\n",
        "plt.title('График стоимости квартиры взамисимоти от дня недели для СПБ и центра СПБ')\n",
        "plt.ylabel('Стоимость квартиры')\n",
        "plt.xlabel('День недели')"
      ]
    },
    {
      "cell_type": "markdown",
      "metadata": {
        "id": "mRurreHlOE1a"
      },
      "source": [
        "Построим график цены взависимости от месяца:"
      ]
    },
    {
      "cell_type": "code",
      "execution_count": null,
      "metadata": {
        "colab": {
          "base_uri": "https://localhost:8080/",
          "height": 312
        },
        "id": "XuVEjE9fhWas",
        "outputId": "68d649cf-d46a-4d3a-e5dd-b390ee9b3e24"
      },
      "outputs": [
        {
          "data": {
            "text/plain": [
              "Text(0.5, 0, 'Месяц')"
            ]
          },
          "execution_count": 90,
          "metadata": {},
          "output_type": "execute_result"
        },
        {
          "data": {
            "image/png": "[encoded data removed]",
            "text/plain": [
              "<Figure size 864x288 with 1 Axes>"
            ]
          },
          "metadata": {
            "needs_background": "light"
          },
          "output_type": "display_data"
        }
      ],
      "source": [
        "df_spb.groupby('month')['last_price'].agg(['mean'])['mean'].plot(\n",
        "    figsize=(12, 4), color='b', label='стоимость квартир СПБ', grid=True, \n",
        "    legend=True, linewidth=2.5, alpha=0.8)\n",
        "\n",
        "df_spb_center.groupby('month')['last_price'].agg(['mean'])['mean'].plot(\n",
        "    figsize=(12, 4), color='r', label='стоимость квартир центр СПБ', grid=True, \n",
        "    legend=True, linewidth=2.5, alpha=0.8)\n",
        "plt.xticks(range(12), ['Январь','Февраль','Март','Апрель', 'Май','Июнь', 'Июль', 'Август', 'Сентябрь', 'Октябрь', 'Ноябрь', 'Декабрь'])\n",
        "plt.title('График стоимости квартиры взамисимоти от месяца для СПБ и центра СПБ')\n",
        "plt.ylabel('Стоимость квартиры')\n",
        "plt.xlabel('Месяц')"
      ]
    },
    {
      "cell_type": "markdown",
      "metadata": {
        "id": "yL7oLhu6OLrK"
      },
      "source": [
        "Построим график цены взависимости от года:"
      ]
    },
    {
      "cell_type": "code",
      "execution_count": null,
      "metadata": {
        "colab": {
          "base_uri": "https://localhost:8080/",
          "height": 312
        },
        "id": "vbevDRDDhaOK",
        "outputId": "bb4c54ba-3891-4ab4-d663-6dd337ea09a7"
      },
      "outputs": [
        {
          "data": {
            "text/plain": [
              "Text(0.5, 0, 'Год')"
            ]
          },
          "execution_count": 91,
          "metadata": {},
          "output_type": "execute_result"
        },
        {
          "data": {
            "image/png": "[encoded data removed]",
            "text/plain": [
              "<Figure size 864x288 with 1 Axes>"
            ]
          },
          "metadata": {
            "needs_background": "light"
          },
          "output_type": "display_data"
        }
      ],
      "source": [
        "df_spb.groupby('year')['last_price'].agg(['mean'])['mean'].plot(\n",
        "    figsize=(12, 4), color='b', label='стоимость квартир СПБ', grid=True, \n",
        "    legend=True, linewidth=2.5, alpha=0.8)\n",
        "\n",
        "df_spb_center.groupby('year')['last_price'].agg(['mean'])['mean'].plot(\n",
        "    figsize=(12, 4), color='r', label='стоимость квартир центр СПБ', grid=True, \n",
        "    legend=True, linewidth=2.5, alpha=0.8)\n",
        "\n",
        "plt.title('График стоимости квартиры взамисимоти от года для СПБ и центра СПБ')\n",
        "plt.ylabel('Стоимость квартиры')\n",
        "plt.xlabel('Год')"
      ]
    },
    {
      "cell_type": "markdown",
      "metadata": {
        "id": "yi6gLiEmPvN5"
      },
      "source": [
        "По дням недели, активность размещения объявлений в начале неделе выше, чем в других днях, а по месяцам, а также по годам, тренд такойже как и в целом СПб"
      ]
    },
    {
      "cell_type": "markdown",
      "metadata": {
        "id": "4VRo822sOOkp"
      },
      "source": [
        "##### Вывод"
      ]
    },
    {
      "cell_type": "markdown",
      "metadata": {
        "id": "97DtiLuaORwZ"
      },
      "source": [
        "- В центре СПб больше распространены 2-3 комнатные квартиры.\n",
        "- Более нормальное распределение стоимостей квартир в центре.\n",
        "- Стоимость последних этаже в среднем выше относительно других этажей.\n",
        "- Цена продажи менее зависит от расстояния до центра.\n",
        "- Зависимости цены продажи от общей площади и количества комнат менее выраженны."
      ]
    },
    {
      "cell_type": "markdown",
      "metadata": {
        "id": "zQuUXNW_GK5A"
      },
      "source": [
        "## Общий вывод"
      ]
    },
    {
      "cell_type": "markdown",
      "metadata": {
        "id": "SbOzyWD6Ry98"
      },
      "source": [
        "При осмотре данных, видно:  \n",
        "- имеется большое количество пропущенных значений;\n",
        "- столбец с датами, потребуется привести к формату даты;\n",
        "- наименование столбца 'cityCenters_nearest' привести к \"змеиному\" виду;\n",
        "- явно имеются некорректные максимальные и минимальные значения (выборосы), например: высота потолков, возможно балконы и т.д.\n",
        "\n",
        "При предобработке данных:\n",
        "- заменили пропущенные значения, кроме в двух столбцах: 'city_centers_nearest' и 'days_exposition', так как точно определить расстояние до центра мы не можем, а пропущенные значения в днях публикации, могут быть связаны с тем, что объявление еще не снято;\n",
        "- при изменении типов данных удалось снизить размер датасета с 2,7+ MB до 1,2 MB.\n",
        "\n",
        "Для СПб в целом характерно:\n",
        "- Чем больше плошадь квартиры, тем выше стоимость.\n",
        "- Чем больше комнат, тем выше цена квартиры.\n",
        "- Примерно до 5 км. от центра цена квартиры почти не меняется, далее чем дальше от центра, тем ниже стоимость.\n",
        "- В среднем первый этаж стоит 4,3 млн. руб, последний 5,39 млн. руб, другие 5,91 млн. руб.\n",
        "- Цена кваритры расчет до четверга, снижась в пятницу, и немного поднимается в субботу. \n",
        "- При этом видно, что в выходные дни размещают мало объявлений.\n",
        "- Цена немного проседает в начале лета, и потом растет к концу года. При этом наибольшая активность в феврале и в ноябрe.\n",
        "- Видны сплески в 2014, 2015, но из-за небольшой выборки, сложно оценить данные подъемы цены. В целом цена равномерная, и не сильно менялась по годам.\n",
        "\n",
        "Для центра СПб характерно:\n",
        "- Средняя площадь , цена, число комнат, а также высота потолков квартир в центре СПб больше, чем в среднем для СПб.\n",
        "- В центре СПб больше распространены 2-3 комнатные квартиры.\n",
        "- Более нормальное распределение стоимостей квартир в центре.\n",
        "- Стоимость последних этаже в среднем выше относительно других этажей.\n",
        "- Цена продажи менее зависит от расстояния до центра.\n",
        "- Зависимости цены продажи от общей площади и количества комнат менее выраженны."
      ]
    }
  ],
  "metadata": {
    "ExecuteTimeLog": [
      {
        "duration": 918,
        "start_time": "2021-12-20T19:29:52.089Z"
      },
      {
        "duration": 582,
        "start_time": "2021-12-20T19:29:53.010Z"
      },
      {
        "duration": 43,
        "start_time": "2021-12-20T19:29:53.595Z"
      },
      {
        "duration": 6,
        "start_time": "2021-12-20T19:29:53.641Z"
      },
      {
        "duration": 27,
        "start_time": "2021-12-20T19:29:53.650Z"
      },
      {
        "duration": 23,
        "start_time": "2021-12-20T19:29:53.679Z"
      },
      {
        "duration": 106,
        "start_time": "2021-12-20T19:29:53.704Z"
      },
      {
        "duration": 11,
        "start_time": "2021-12-20T19:29:53.823Z"
      },
      {
        "duration": 13,
        "start_time": "2021-12-20T19:29:53.837Z"
      },
      {
        "duration": 19,
        "start_time": "2021-12-20T19:29:53.853Z"
      },
      {
        "duration": 18,
        "start_time": "2021-12-20T19:29:53.875Z"
      },
      {
        "duration": 9,
        "start_time": "2021-12-20T19:29:53.896Z"
      },
      {
        "duration": 17,
        "start_time": "2021-12-20T19:29:53.907Z"
      },
      {
        "duration": 12,
        "start_time": "2021-12-20T19:29:53.927Z"
      },
      {
        "duration": 7,
        "start_time": "2021-12-20T19:29:53.942Z"
      },
      {
        "duration": 28,
        "start_time": "2021-12-20T19:29:53.952Z"
      },
      {
        "duration": 38,
        "start_time": "2021-12-20T19:29:53.983Z"
      },
      {
        "duration": 25,
        "start_time": "2021-12-20T19:29:54.024Z"
      },
      {
        "duration": 12,
        "start_time": "2021-12-20T19:29:54.051Z"
      },
      {
        "duration": 17,
        "start_time": "2021-12-20T19:29:54.065Z"
      },
      {
        "duration": 14,
        "start_time": "2021-12-20T19:29:54.084Z"
      },
      {
        "duration": 24,
        "start_time": "2021-12-20T19:29:54.101Z"
      },
      {
        "duration": 7,
        "start_time": "2021-12-20T19:29:54.130Z"
      },
      {
        "duration": 16,
        "start_time": "2021-12-20T19:29:54.142Z"
      },
      {
        "duration": 3832,
        "start_time": "2021-12-20T19:29:54.160Z"
      },
      {
        "duration": 3,
        "start_time": "2021-12-20T19:29:57.994Z"
      },
      {
        "duration": 3624,
        "start_time": "2021-12-20T19:29:57.999Z"
      },
      {
        "duration": 4,
        "start_time": "2021-12-20T19:30:01.625Z"
      },
      {
        "duration": 3632,
        "start_time": "2021-12-20T19:30:01.631Z"
      },
      {
        "duration": 31,
        "start_time": "2021-12-20T19:30:05.265Z"
      },
      {
        "duration": 26,
        "start_time": "2021-12-20T19:30:05.299Z"
      },
      {
        "duration": 695,
        "start_time": "2021-12-20T19:30:05.328Z"
      },
      {
        "duration": 11,
        "start_time": "2021-12-20T19:30:06.025Z"
      },
      {
        "duration": 688,
        "start_time": "2021-12-20T19:30:06.038Z"
      },
      {
        "duration": 10,
        "start_time": "2021-12-20T19:30:06.728Z"
      },
      {
        "duration": 622,
        "start_time": "2021-12-20T19:30:06.740Z"
      },
      {
        "duration": 11,
        "start_time": "2021-12-20T19:30:07.364Z"
      },
      {
        "duration": 610,
        "start_time": "2021-12-20T19:30:07.377Z"
      },
      {
        "duration": 12,
        "start_time": "2021-12-20T19:30:07.989Z"
      },
      {
        "duration": 699,
        "start_time": "2021-12-20T19:30:08.003Z"
      },
      {
        "duration": 300,
        "start_time": "2021-12-20T19:30:08.705Z"
      },
      {
        "duration": 24,
        "start_time": "2021-12-20T19:30:09.008Z"
      },
      {
        "duration": 28,
        "start_time": "2021-12-20T19:30:09.034Z"
      },
      {
        "duration": 6412,
        "start_time": "2021-12-20T19:30:09.064Z"
      },
      {
        "duration": 51,
        "start_time": "2021-12-20T19:30:15.479Z"
      },
      {
        "duration": 395,
        "start_time": "2021-12-20T19:30:15.533Z"
      },
      {
        "duration": 17,
        "start_time": "2021-12-20T19:30:15.931Z"
      },
      {
        "duration": 391,
        "start_time": "2021-12-20T19:30:15.950Z"
      },
      {
        "duration": 29,
        "start_time": "2021-12-20T19:30:16.344Z"
      },
      {
        "duration": 358,
        "start_time": "2021-12-20T19:30:16.375Z"
      },
      {
        "duration": 16,
        "start_time": "2021-12-20T19:30:16.736Z"
      },
      {
        "duration": 430,
        "start_time": "2021-12-20T19:30:16.755Z"
      },
      {
        "duration": 38,
        "start_time": "2021-12-20T19:30:17.187Z"
      },
      {
        "duration": 354,
        "start_time": "2021-12-20T19:30:17.227Z"
      },
      {
        "duration": 18,
        "start_time": "2021-12-20T19:30:17.583Z"
      },
      {
        "duration": 393,
        "start_time": "2021-12-20T19:30:17.604Z"
      },
      {
        "duration": 28,
        "start_time": "2021-12-20T19:30:18.000Z"
      },
      {
        "duration": 447,
        "start_time": "2021-12-20T19:30:18.031Z"
      },
      {
        "duration": 20,
        "start_time": "2021-12-20T19:30:18.480Z"
      },
      {
        "duration": 36,
        "start_time": "2021-12-20T19:30:18.503Z"
      },
      {
        "duration": 582,
        "start_time": "2021-12-20T19:30:18.542Z"
      },
      {
        "duration": 8,
        "start_time": "2021-12-20T19:30:19.127Z"
      },
      {
        "duration": 429,
        "start_time": "2021-12-20T19:30:19.138Z"
      },
      {
        "duration": 421,
        "start_time": "2021-12-20T19:30:19.570Z"
      },
      {
        "duration": 404,
        "start_time": "2021-12-20T19:30:19.994Z"
      },
      {
        "duration": 392,
        "start_time": "2021-12-20T19:30:20.400Z"
      },
      {
        "duration": 416,
        "start_time": "2021-12-20T19:30:20.795Z"
      },
      {
        "duration": 396,
        "start_time": "2021-12-20T19:30:21.217Z"
      },
      {
        "duration": 22,
        "start_time": "2021-12-20T19:30:21.616Z"
      },
      {
        "duration": 405,
        "start_time": "2021-12-20T19:30:21.641Z"
      },
      {
        "duration": 414,
        "start_time": "2021-12-20T19:30:22.049Z"
      },
      {
        "duration": 409,
        "start_time": "2021-12-20T19:30:22.466Z"
      },
      {
        "duration": 568,
        "start_time": "2021-12-20T19:30:22.878Z"
      },
      {
        "duration": 381,
        "start_time": "2021-12-20T19:30:23.448Z"
      },
      {
        "duration": 343,
        "start_time": "2021-12-20T19:30:23.831Z"
      },
      {
        "duration": 396,
        "start_time": "2021-12-20T19:30:24.177Z"
      },
      {
        "duration": 374,
        "start_time": "2021-12-20T19:30:24.575Z"
      },
      {
        "duration": 59,
        "start_time": "2021-12-21T11:40:27.154Z"
      },
      {
        "duration": 709,
        "start_time": "2021-12-21T17:20:25.208Z"
      },
      {
        "duration": 265,
        "start_time": "2021-12-21T17:20:25.919Z"
      },
      {
        "duration": 32,
        "start_time": "2021-12-21T17:20:26.187Z"
      },
      {
        "duration": 6,
        "start_time": "2021-12-21T17:20:26.221Z"
      },
      {
        "duration": 10,
        "start_time": "2021-12-21T17:20:26.229Z"
      },
      {
        "duration": 27,
        "start_time": "2021-12-21T17:20:26.241Z"
      },
      {
        "duration": 97,
        "start_time": "2021-12-21T17:20:26.270Z"
      },
      {
        "duration": 7,
        "start_time": "2021-12-21T17:20:26.369Z"
      },
      {
        "duration": 9,
        "start_time": "2021-12-21T17:20:30.877Z"
      },
      {
        "duration": 316,
        "start_time": "2021-12-21T17:20:36.488Z"
      },
      {
        "duration": 15,
        "start_time": "2021-12-21T17:20:41.035Z"
      },
      {
        "duration": 76,
        "start_time": "2021-12-21T17:26:38.815Z"
      },
      {
        "duration": 871,
        "start_time": "2021-12-21T17:29:34.440Z"
      },
      {
        "duration": 268,
        "start_time": "2021-12-21T17:29:35.314Z"
      },
      {
        "duration": 33,
        "start_time": "2021-12-21T17:29:35.588Z"
      },
      {
        "duration": 6,
        "start_time": "2021-12-21T17:29:35.623Z"
      },
      {
        "duration": 38,
        "start_time": "2021-12-21T17:29:35.631Z"
      },
      {
        "duration": 32,
        "start_time": "2021-12-21T17:29:35.671Z"
      },
      {
        "duration": 66,
        "start_time": "2021-12-21T17:29:35.706Z"
      },
      {
        "duration": 8,
        "start_time": "2021-12-21T17:29:35.774Z"
      },
      {
        "duration": 27,
        "start_time": "2021-12-21T17:29:35.783Z"
      },
      {
        "duration": 11,
        "start_time": "2021-12-21T17:29:35.812Z"
      },
      {
        "duration": 5,
        "start_time": "2021-12-21T17:29:35.825Z"
      },
      {
        "duration": 10,
        "start_time": "2021-12-21T17:29:35.831Z"
      },
      {
        "duration": 9,
        "start_time": "2021-12-21T17:29:35.843Z"
      },
      {
        "duration": 11,
        "start_time": "2021-12-21T17:29:35.854Z"
      },
      {
        "duration": 11,
        "start_time": "2021-12-21T17:29:35.867Z"
      },
      {
        "duration": 7,
        "start_time": "2021-12-21T17:29:35.880Z"
      },
      {
        "duration": 11,
        "start_time": "2021-12-21T17:29:35.889Z"
      },
      {
        "duration": 9,
        "start_time": "2021-12-21T17:29:35.901Z"
      },
      {
        "duration": 14,
        "start_time": "2021-12-21T17:29:35.911Z"
      },
      {
        "duration": 6,
        "start_time": "2021-12-21T17:29:35.927Z"
      },
      {
        "duration": 25,
        "start_time": "2021-12-21T17:29:35.935Z"
      },
      {
        "duration": 16,
        "start_time": "2021-12-21T17:29:35.966Z"
      },
      {
        "duration": 142,
        "start_time": "2021-12-21T17:29:35.985Z"
      },
      {
        "duration": 6,
        "start_time": "2021-12-21T17:29:36.129Z"
      },
      {
        "duration": 9,
        "start_time": "2021-12-21T17:29:36.136Z"
      },
      {
        "duration": 20,
        "start_time": "2021-12-21T17:29:36.147Z"
      },
      {
        "duration": 21,
        "start_time": "2021-12-21T17:29:36.169Z"
      },
      {
        "duration": 16,
        "start_time": "2021-12-21T17:29:36.192Z"
      },
      {
        "duration": 20,
        "start_time": "2021-12-21T17:29:36.210Z"
      },
      {
        "duration": 35,
        "start_time": "2021-12-21T17:29:36.232Z"
      },
      {
        "duration": 31,
        "start_time": "2021-12-21T17:29:36.269Z"
      },
      {
        "duration": 22,
        "start_time": "2021-12-21T17:29:36.302Z"
      },
      {
        "duration": 20,
        "start_time": "2021-12-21T17:29:36.326Z"
      },
      {
        "duration": 36,
        "start_time": "2021-12-21T17:29:36.348Z"
      },
      {
        "duration": 24,
        "start_time": "2021-12-21T17:29:36.387Z"
      },
      {
        "duration": 751,
        "start_time": "2021-12-21T17:29:36.413Z"
      },
      {
        "duration": 4,
        "start_time": "2021-12-21T17:29:37.166Z"
      },
      {
        "duration": 549,
        "start_time": "2021-12-21T17:29:37.171Z"
      },
      {
        "duration": 3,
        "start_time": "2021-12-21T17:29:37.722Z"
      },
      {
        "duration": 496,
        "start_time": "2021-12-21T17:29:37.727Z"
      },
      {
        "duration": 20,
        "start_time": "2021-12-21T17:29:38.225Z"
      },
      {
        "duration": 20,
        "start_time": "2021-12-21T17:29:38.247Z"
      },
      {
        "duration": 432,
        "start_time": "2021-12-21T17:29:38.269Z"
      },
      {
        "duration": 9,
        "start_time": "2021-12-21T17:29:38.703Z"
      },
      {
        "duration": 454,
        "start_time": "2021-12-21T17:29:38.714Z"
      },
      {
        "duration": 8,
        "start_time": "2021-12-21T17:29:39.170Z"
      },
      {
        "duration": 504,
        "start_time": "2021-12-21T17:29:39.180Z"
      },
      {
        "duration": 9,
        "start_time": "2021-12-21T17:29:39.685Z"
      },
      {
        "duration": 395,
        "start_time": "2021-12-21T17:29:39.696Z"
      },
      {
        "duration": 9,
        "start_time": "2021-12-21T17:29:40.093Z"
      },
      {
        "duration": 488,
        "start_time": "2021-12-21T17:29:40.103Z"
      },
      {
        "duration": 208,
        "start_time": "2021-12-21T17:29:40.593Z"
      },
      {
        "duration": 14,
        "start_time": "2021-12-21T17:29:40.803Z"
      },
      {
        "duration": 5,
        "start_time": "2021-12-21T17:29:40.819Z"
      },
      {
        "duration": 37,
        "start_time": "2021-12-21T17:29:40.825Z"
      },
      {
        "duration": 5538,
        "start_time": "2021-12-21T17:29:40.864Z"
      },
      {
        "duration": 27,
        "start_time": "2021-12-21T17:29:46.405Z"
      },
      {
        "duration": 284,
        "start_time": "2021-12-21T17:29:46.434Z"
      },
      {
        "duration": 12,
        "start_time": "2021-12-21T17:29:46.720Z"
      },
      {
        "duration": 257,
        "start_time": "2021-12-21T17:29:46.735Z"
      },
      {
        "duration": 26,
        "start_time": "2021-12-21T17:29:46.994Z"
      },
      {
        "duration": 301,
        "start_time": "2021-12-21T17:29:47.022Z"
      },
      {
        "duration": 16,
        "start_time": "2021-12-21T17:29:47.326Z"
      },
      {
        "duration": 390,
        "start_time": "2021-12-21T17:29:47.344Z"
      },
      {
        "duration": 33,
        "start_time": "2021-12-21T17:29:47.736Z"
      },
      {
        "duration": 234,
        "start_time": "2021-12-21T17:29:47.771Z"
      },
      {
        "duration": 13,
        "start_time": "2021-12-21T17:29:48.011Z"
      },
      {
        "duration": 244,
        "start_time": "2021-12-21T17:29:48.026Z"
      },
      {
        "duration": 16,
        "start_time": "2021-12-21T17:29:48.272Z"
      },
      {
        "duration": 238,
        "start_time": "2021-12-21T17:29:48.290Z"
      },
      {
        "duration": 13,
        "start_time": "2021-12-21T17:29:48.530Z"
      },
      {
        "duration": 15,
        "start_time": "2021-12-21T17:29:48.560Z"
      },
      {
        "duration": 404,
        "start_time": "2021-12-21T17:29:48.577Z"
      },
      {
        "duration": 7,
        "start_time": "2021-12-21T17:29:48.984Z"
      },
      {
        "duration": 298,
        "start_time": "2021-12-21T17:29:48.993Z"
      },
      {
        "duration": 290,
        "start_time": "2021-12-21T17:29:49.292Z"
      },
      {
        "duration": 405,
        "start_time": "2021-12-21T17:29:49.583Z"
      },
      {
        "duration": 306,
        "start_time": "2021-12-21T17:29:49.990Z"
      },
      {
        "duration": 16,
        "start_time": "2021-12-21T17:29:50.299Z"
      },
      {
        "duration": 11,
        "start_time": "2021-12-21T17:29:50.317Z"
      },
      {
        "duration": 333,
        "start_time": "2021-12-21T17:29:50.330Z"
      },
      {
        "duration": 289,
        "start_time": "2021-12-21T17:29:50.665Z"
      },
      {
        "duration": 11,
        "start_time": "2021-12-21T17:29:50.960Z"
      },
      {
        "duration": 275,
        "start_time": "2021-12-21T17:29:50.973Z"
      },
      {
        "duration": 296,
        "start_time": "2021-12-21T17:29:51.249Z"
      },
      {
        "duration": 284,
        "start_time": "2021-12-21T17:29:51.548Z"
      },
      {
        "duration": 329,
        "start_time": "2021-12-21T17:29:51.834Z"
      },
      {
        "duration": 279,
        "start_time": "2021-12-21T17:29:52.165Z"
      },
      {
        "duration": 270,
        "start_time": "2021-12-21T17:29:52.445Z"
      },
      {
        "duration": 302,
        "start_time": "2021-12-21T17:29:52.717Z"
      },
      {
        "duration": 287,
        "start_time": "2021-12-21T17:29:53.021Z"
      },
      {
        "duration": 754,
        "start_time": "2021-12-21T17:32:15.898Z"
      },
      {
        "duration": 184,
        "start_time": "2021-12-21T17:32:16.654Z"
      },
      {
        "duration": 31,
        "start_time": "2021-12-21T17:32:16.841Z"
      },
      {
        "duration": 6,
        "start_time": "2021-12-21T17:32:16.874Z"
      },
      {
        "duration": 9,
        "start_time": "2021-12-21T17:32:16.882Z"
      },
      {
        "duration": 15,
        "start_time": "2021-12-21T17:32:16.892Z"
      },
      {
        "duration": 89,
        "start_time": "2021-12-21T17:32:16.909Z"
      },
      {
        "duration": 9,
        "start_time": "2021-12-21T17:32:17.001Z"
      },
      {
        "duration": 12,
        "start_time": "2021-12-21T17:32:17.013Z"
      },
      {
        "duration": 35,
        "start_time": "2021-12-21T17:32:17.027Z"
      },
      {
        "duration": 4,
        "start_time": "2021-12-21T17:32:17.064Z"
      },
      {
        "duration": 18,
        "start_time": "2021-12-21T17:32:17.070Z"
      },
      {
        "duration": 8,
        "start_time": "2021-12-21T17:32:17.090Z"
      },
      {
        "duration": 8,
        "start_time": "2021-12-21T17:32:17.100Z"
      },
      {
        "duration": 7,
        "start_time": "2021-12-21T17:32:17.110Z"
      },
      {
        "duration": 8,
        "start_time": "2021-12-21T17:32:17.118Z"
      },
      {
        "duration": 7,
        "start_time": "2021-12-21T17:32:17.128Z"
      },
      {
        "duration": 23,
        "start_time": "2021-12-21T17:32:17.137Z"
      },
      {
        "duration": 9,
        "start_time": "2021-12-21T17:32:17.162Z"
      },
      {
        "duration": 6,
        "start_time": "2021-12-21T17:32:17.172Z"
      },
      {
        "duration": 9,
        "start_time": "2021-12-21T17:32:17.180Z"
      },
      {
        "duration": 20,
        "start_time": "2021-12-21T17:32:17.191Z"
      },
      {
        "duration": 156,
        "start_time": "2021-12-21T17:32:17.217Z"
      },
      {
        "duration": 6,
        "start_time": "2021-12-21T17:32:17.376Z"
      },
      {
        "duration": 7,
        "start_time": "2021-12-21T17:32:17.384Z"
      },
      {
        "duration": 9,
        "start_time": "2021-12-21T17:32:17.393Z"
      },
      {
        "duration": 21,
        "start_time": "2021-12-21T17:32:17.404Z"
      },
      {
        "duration": 51,
        "start_time": "2021-12-21T17:32:17.427Z"
      },
      {
        "duration": 19,
        "start_time": "2021-12-21T17:32:17.479Z"
      },
      {
        "duration": 10,
        "start_time": "2021-12-21T17:32:17.499Z"
      },
      {
        "duration": 6,
        "start_time": "2021-12-21T17:32:17.510Z"
      },
      {
        "duration": 9,
        "start_time": "2021-12-21T17:32:17.517Z"
      },
      {
        "duration": 34,
        "start_time": "2021-12-21T17:32:17.528Z"
      },
      {
        "duration": 6,
        "start_time": "2021-12-21T17:32:17.565Z"
      },
      {
        "duration": 7,
        "start_time": "2021-12-21T17:32:17.573Z"
      },
      {
        "duration": 600,
        "start_time": "2021-12-21T17:32:17.582Z"
      },
      {
        "duration": 3,
        "start_time": "2021-12-21T17:32:18.184Z"
      },
      {
        "duration": 548,
        "start_time": "2021-12-21T17:32:18.188Z"
      },
      {
        "duration": 3,
        "start_time": "2021-12-21T17:32:18.738Z"
      },
      {
        "duration": 573,
        "start_time": "2021-12-21T17:32:18.743Z"
      },
      {
        "duration": 31,
        "start_time": "2021-12-21T17:32:19.318Z"
      },
      {
        "duration": 10,
        "start_time": "2021-12-21T17:32:19.361Z"
      },
      {
        "duration": 521,
        "start_time": "2021-12-21T17:32:19.372Z"
      },
      {
        "duration": 11,
        "start_time": "2021-12-21T17:32:19.895Z"
      },
      {
        "duration": 638,
        "start_time": "2021-12-21T17:32:19.908Z"
      },
      {
        "duration": 17,
        "start_time": "2021-12-21T17:32:20.547Z"
      },
      {
        "duration": 487,
        "start_time": "2021-12-21T17:32:20.566Z"
      },
      {
        "duration": 15,
        "start_time": "2021-12-21T17:32:21.055Z"
      },
      {
        "duration": 478,
        "start_time": "2021-12-21T17:32:21.073Z"
      },
      {
        "duration": 14,
        "start_time": "2021-12-21T17:32:21.553Z"
      },
      {
        "duration": 465,
        "start_time": "2021-12-21T17:32:21.569Z"
      },
      {
        "duration": 215,
        "start_time": "2021-12-21T17:32:22.036Z"
      },
      {
        "duration": 20,
        "start_time": "2021-12-21T17:32:22.252Z"
      },
      {
        "duration": 11,
        "start_time": "2021-12-21T17:32:22.274Z"
      },
      {
        "duration": 29,
        "start_time": "2021-12-21T17:32:22.287Z"
      },
      {
        "duration": 5578,
        "start_time": "2021-12-21T17:32:22.318Z"
      },
      {
        "duration": 30,
        "start_time": "2021-12-21T17:32:27.898Z"
      },
      {
        "duration": 298,
        "start_time": "2021-12-21T17:32:27.930Z"
      },
      {
        "duration": 12,
        "start_time": "2021-12-21T17:32:28.230Z"
      },
      {
        "duration": 246,
        "start_time": "2021-12-21T17:32:28.244Z"
      },
      {
        "duration": 29,
        "start_time": "2021-12-21T17:32:28.493Z"
      },
      {
        "duration": 297,
        "start_time": "2021-12-21T17:32:28.524Z"
      },
      {
        "duration": 14,
        "start_time": "2021-12-21T17:32:28.823Z"
      },
      {
        "duration": 300,
        "start_time": "2021-12-21T17:32:28.840Z"
      },
      {
        "duration": 37,
        "start_time": "2021-12-21T17:32:29.142Z"
      },
      {
        "duration": 258,
        "start_time": "2021-12-21T17:32:29.182Z"
      },
      {
        "duration": 24,
        "start_time": "2021-12-21T17:32:29.442Z"
      },
      {
        "duration": 257,
        "start_time": "2021-12-21T17:32:29.473Z"
      },
      {
        "duration": 13,
        "start_time": "2021-12-21T17:32:29.732Z"
      },
      {
        "duration": 224,
        "start_time": "2021-12-21T17:32:29.762Z"
      },
      {
        "duration": 18,
        "start_time": "2021-12-21T17:32:29.988Z"
      },
      {
        "duration": 29,
        "start_time": "2021-12-21T17:32:30.009Z"
      },
      {
        "duration": 406,
        "start_time": "2021-12-21T17:32:30.040Z"
      },
      {
        "duration": 16,
        "start_time": "2021-12-21T17:32:30.448Z"
      },
      {
        "duration": 285,
        "start_time": "2021-12-21T17:32:30.465Z"
      },
      {
        "duration": 304,
        "start_time": "2021-12-21T17:32:30.752Z"
      },
      {
        "duration": 374,
        "start_time": "2021-12-21T17:32:31.060Z"
      },
      {
        "duration": 306,
        "start_time": "2021-12-21T17:32:31.436Z"
      },
      {
        "duration": 23,
        "start_time": "2021-12-21T17:32:31.744Z"
      },
      {
        "duration": 9,
        "start_time": "2021-12-21T17:32:31.769Z"
      },
      {
        "duration": 300,
        "start_time": "2021-12-21T17:32:31.780Z"
      },
      {
        "duration": 319,
        "start_time": "2021-12-21T17:32:32.082Z"
      },
      {
        "duration": 13,
        "start_time": "2021-12-21T17:32:32.402Z"
      },
      {
        "duration": 274,
        "start_time": "2021-12-21T17:32:32.417Z"
      },
      {
        "duration": 296,
        "start_time": "2021-12-21T17:32:32.693Z"
      },
      {
        "duration": 309,
        "start_time": "2021-12-21T17:32:32.991Z"
      },
      {
        "duration": 302,
        "start_time": "2021-12-21T17:32:33.302Z"
      },
      {
        "duration": 310,
        "start_time": "2021-12-21T17:32:33.606Z"
      },
      {
        "duration": 291,
        "start_time": "2021-12-21T17:32:33.919Z"
      },
      {
        "duration": 266,
        "start_time": "2021-12-21T17:32:34.212Z"
      },
      {
        "duration": 327,
        "start_time": "2021-12-21T17:32:34.480Z"
      }
    ],
    "colab": {
      "collapsed_sections": [],
      "name": "research_of_apartments_ads_for_sales.ipynb",
      "provenance": [],
      "toc_visible": true,
      "include_colab_link": true
    },
    "kernelspec": {
      "display_name": "Python 3",
      "language": "python",
      "name": "python3"
    },
    "language_info": {
      "codemirror_mode": {
        "name": "ipython",
        "version": 3
      },
      "file_extension": ".py",
      "mimetype": "text/x-python",
      "name": "python",
      "nbconvert_exporter": "python",
      "pygments_lexer": "ipython3",
      "version": "3.7.8"
    },
    "toc": {
      "base_numbering": 1,
      "nav_menu": {},
      "number_sections": true,
      "sideBar": true,
      "skip_h1_title": true,
      "title_cell": "Содержание",
      "title_sidebar": "Contents",
      "toc_cell": true,
      "toc_position": {},
      "toc_section_display": true,
      "toc_window_display": true
    }
  },
  "nbformat": 4,
  "nbformat_minor": 0
}