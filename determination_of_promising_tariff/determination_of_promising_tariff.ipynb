{
  "cells": [
    {
      "cell_type": "markdown",
      "metadata": {
        "id": "view-in-github",
        "colab_type": "text"
      },
      "source": [
        "<a href=\"https://colab.research.google.com/github/klipbn/klip_alex/blob/main/determination_of_promising_tariff/determination_of_promising_tariff.ipynb\" target=\"_parent\"><img src=\"https://colab.research.google.com/assets/colab-badge.svg\" alt=\"Open In Colab\"/></a>"
      ]
    },
    {
      "cell_type": "markdown",
      "metadata": {
        "id": "ZIsfpfxCGK43"
      },
      "source": [
        "# Определение перспективного тарифа для телеком-компании\n",
        "\n",
        "**Описание проекта**\n",
        "\n",
        "Компания «Мегалайн» — федеральный оператор сотовой связи. Которая предлогает клиентам два тарифных плана: «Смарт» и «Ультра». Чтобы скорректировать рекламный бюджет, коммерческий департамент хочет понять, какой тариф приносит больше денег.\n",
        "Требуется сделать предварительный анализ тарифов на небольшой выборке клиентов. В нашем распоряжении данные 500 пользователей «Мегалайна»: кто они, откуда, каким тарифом пользуются, сколько звонков и сообщений каждый отправил за 2018 год. Нужно проанализировать поведение клиентов и сделать вывод — какой тариф лучше.   \n",
        "\n",
        "**Описание тарифов**\n",
        "**Тариф «Смарт»**\n",
        "Ежемесячная плата: 550 рублей\n",
        "Включено 500 минут разговора, 50 сообщений и 15 Гб интернет-трафика\n",
        "Стоимость услуг сверх тарифного пакета:\n",
        "1. минута разговора: 3 рубля («Мегалайн» всегда округляет вверх значения минут и мегабайтов. Если пользователь проговорил всего 1 секунду, в тарифе засчитывается целая минута); \n",
        "2. сообщение: 3 рубля; 3. 1 Гб интернет-трафика: 200 рублей.\n",
        "**Тариф «Ультра»**\n",
        "Ежемесячная плата: 1950 рублей\n",
        "Включено 3000 минут разговора, 1000 сообщений и 30 Гб интернет-трафика\n",
        "Стоимость услуг сверх тарифного пакета: \n",
        "1. минута разговора: 1 рубль; \n",
        "2. сообщение: 1 рубль; 3. 1 Гб интернет-трафика: 150 рублей.\n",
        "\n",
        "**Примечание:**\n",
        "«Мегалайн» всегда округляет секунды до минут, а мегабайты — до гигабайт. Каждый звонок округляется отдельно: даже если он длился всего 1 секунду, будет засчитан как 1 минута.  \n",
        "Для веб-трафика отдельные сессии не считаются. Вместо этого общая сумма за месяц округляется в бо́льшую сторону. Если абонент использует 1025 мегабайт в этом месяце, с него возьмут плату за 2 гигабайта.\n",
        "\n",
        "\n",
        "**Этапы проведения исследования**  \n",
        "\n",
        "**Шаг 1.** Изучение общей информации о данных  \n",
        "Путь к файлам:  \n",
        "- ~/datasets/calls.csv.\n",
        "- ~/datasets/internet.csv. \n",
        "- ~/datasets/messages.csv.   \n",
        "- ~/datasets/tariffs.csv.   \n",
        "- ~/datasets/users.csv. \n",
        "\n",
        "**Шаг 2.** Предобработка данных    \n",
        "Приведием данные к нужным типам;  \n",
        "Найдем и исправим ошибки в данных, если они есть.  \n",
        "Поясним, какие ошибки мы нашли и как их исправили. В данных мы найдёте звонки с нулевой продолжительностью. Это не ошибка: нулями обозначены пропущенные звонки, поэтому их не нужно удалять.  \n",
        "Посчитаем для каждого пользователя:  \n",
        "- количество сделанных звонков и израсходованных минут разговора по месяцам;  \n",
        "- количество отправленных сообщений по месяцам;  \n",
        "- объем израсходованного интернет-трафика по месяцам;  \n",
        "- помесячную выручку с каждого пользователя (вычтем бесплатный лимит из - суммарного количества звонков, сообщений и интернет-трафика; остаток умножьте на значение из тарифного плана; прибавьте абонентскую плату, соответствующую тарифному плану).  \n",
        "\n",
        "**Шаг 3.** Анализ данных   \n",
        "Опишем поведение клиентов оператора, исходя из выборки.  \n",
        "Определим сколько минут разговора, сколько сообщений и какой объём интернет-трафика требуется пользователям каждого тарифа в месяц?  \n",
        "Посчитаем среднее количество, дисперсию и стандартное отклонение. Постройте гистограммы.  \n",
        "Опишем распределения.  \n",
        "\n",
        "**Шаг 4.** Проверка гипотез   \n",
        "\n",
        "Проверим гипотезы:  \n",
        "- средняя выручка пользователей тарифов «Ультра» и «Смарт» различаются;\n",
        "- средняя выручка пользователей из Москвы отличается от выручки пользователей из других регионов. \n",
        "\n",
        "Пороговое значение alpha (уровень статической значимости) задалим 0.05 %.  \n",
        "Дадим пояснения:  \n",
        "- как формулировали нулевую и альтернативную гипотезы;  \n",
        "- какой критерий использовали для проверки гипотез и почему.  \n",
        "\n",
        "**Шаг 5.** Общий вывод  \n",
        "\n",
        "Сделаем резюме исследования."
      ]
    },
    {
      "cell_type": "markdown",
      "metadata": {
        "id": "Ith3hbBHx0kG"
      },
      "source": [
        "## **Шаг 1.** Изучение общей информации о данных "
      ]
    },
    {
      "cell_type": "markdown",
      "metadata": {
        "id": "NerYXwHd7PcD"
      },
      "source": [
        "Импортируем библиотеки необходимыe для работы:"
      ]
    },
    {
      "cell_type": "code",
      "execution_count": null,
      "metadata": {
        "id": "TGMGqmO4zIaE"
      },
      "outputs": [],
      "source": [
        "import pandas as pd\n",
        "import numpy as np\n",
        "from matplotlib import pyplot as plt\n",
        "import seaborn as sns\n",
        "from scipy import stats as st\n",
        "import math as mt"
      ]
    },
    {
      "cell_type": "markdown",
      "metadata": {
        "id": "FLpxF0sf63me"
      },
      "source": [
        "### Таблица users"
      ]
    },
    {
      "cell_type": "code",
      "execution_count": null,
      "metadata": {
        "id": "CO_1rdujzm4L"
      },
      "outputs": [],
      "source": [
        "df_users = pd.read_csv('/datasets/users.csv') # читаем данные"
      ]
    },
    {
      "cell_type": "markdown",
      "metadata": {
        "id": "t7A5mqpB_zRM"
      },
      "source": [
        "Выведем информацию о таблице:"
      ]
    },
    {
      "cell_type": "code",
      "execution_count": null,
      "metadata": {
        "colab": {
          "base_uri": "https://localhost:8080/",
          "height": 206
        },
        "id": "EB37FyChzpUL",
        "outputId": "56e293c9-60d3-4205-e4a5-430383f8ab9d"
      },
      "outputs": [
        {
          "output_type": "execute_result",
          "data": {
            "text/html": [
              "\n",
              "  <div id=\"df-778ae093-1bcc-4af7-b4d3-6680ef2cf6c8\">\n",
              "    <div class=\"colab-df-container\">\n",
              "      <div>\n",
              "<style scoped>\n",
              "    .dataframe tbody tr th:only-of-type {\n",
              "        vertical-align: middle;\n",
              "    }\n",
              "\n",
              "    .dataframe tbody tr th {\n",
              "        vertical-align: top;\n",
              "    }\n",
              "\n",
              "    .dataframe thead th {\n",
              "        text-align: right;\n",
              "    }\n",
              "</style>\n",
              "<table border=\"1\" class=\"dataframe\">\n",
              "  <thead>\n",
              "    <tr style=\"text-align: right;\">\n",
              "      <th></th>\n",
              "      <th>user_id</th>\n",
              "      <th>age</th>\n",
              "      <th>churn_date</th>\n",
              "      <th>city</th>\n",
              "      <th>first_name</th>\n",
              "      <th>last_name</th>\n",
              "      <th>reg_date</th>\n",
              "      <th>tariff</th>\n",
              "    </tr>\n",
              "  </thead>\n",
              "  <tbody>\n",
              "    <tr>\n",
              "      <th>0</th>\n",
              "      <td>1000</td>\n",
              "      <td>52</td>\n",
              "      <td>NaN</td>\n",
              "      <td>Краснодар</td>\n",
              "      <td>Рафаил</td>\n",
              "      <td>Верещагин</td>\n",
              "      <td>2018-05-25</td>\n",
              "      <td>ultra</td>\n",
              "    </tr>\n",
              "    <tr>\n",
              "      <th>1</th>\n",
              "      <td>1001</td>\n",
              "      <td>41</td>\n",
              "      <td>NaN</td>\n",
              "      <td>Москва</td>\n",
              "      <td>Иван</td>\n",
              "      <td>Ежов</td>\n",
              "      <td>2018-11-01</td>\n",
              "      <td>smart</td>\n",
              "    </tr>\n",
              "    <tr>\n",
              "      <th>2</th>\n",
              "      <td>1002</td>\n",
              "      <td>59</td>\n",
              "      <td>NaN</td>\n",
              "      <td>Стерлитамак</td>\n",
              "      <td>Евгений</td>\n",
              "      <td>Абрамович</td>\n",
              "      <td>2018-06-17</td>\n",
              "      <td>smart</td>\n",
              "    </tr>\n",
              "    <tr>\n",
              "      <th>3</th>\n",
              "      <td>1003</td>\n",
              "      <td>23</td>\n",
              "      <td>NaN</td>\n",
              "      <td>Москва</td>\n",
              "      <td>Белла</td>\n",
              "      <td>Белякова</td>\n",
              "      <td>2018-08-17</td>\n",
              "      <td>ultra</td>\n",
              "    </tr>\n",
              "    <tr>\n",
              "      <th>4</th>\n",
              "      <td>1004</td>\n",
              "      <td>68</td>\n",
              "      <td>NaN</td>\n",
              "      <td>Новокузнецк</td>\n",
              "      <td>Татьяна</td>\n",
              "      <td>Авдеенко</td>\n",
              "      <td>2018-05-14</td>\n",
              "      <td>ultra</td>\n",
              "    </tr>\n",
              "  </tbody>\n",
              "</table>\n",
              "</div>\n",
              "      <button class=\"colab-df-convert\" onclick=\"convertToInteractive('df-778ae093-1bcc-4af7-b4d3-6680ef2cf6c8')\"\n",
              "              title=\"Convert this dataframe to an interactive table.\"\n",
              "              style=\"display:none;\">\n",
              "        \n",
              "  <svg xmlns=\"http://www.w3.org/2000/svg\" height=\"24px\"viewBox=\"0 0 24 24\"\n",
              "       width=\"24px\">\n",
              "    <path d=\"M0 0h24v24H0V0z\" fill=\"none\"/>\n",
              "    <path d=\"M18.56 5.44l.94 2.06.94-2.06 2.06-.94-2.06-.94-.94-2.06-.94 2.06-2.06.94zm-11 1L8.5 8.5l.94-2.06 2.06-.94-2.06-.94L8.5 2.5l-.94 2.06-2.06.94zm10 10l.94 2.06.94-2.06 2.06-.94-2.06-.94-.94-2.06-.94 2.06-2.06.94z\"/><path d=\"M17.41 7.96l-1.37-1.37c-.4-.4-.92-.59-1.43-.59-.52 0-1.04.2-1.43.59L10.3 9.45l-7.72 7.72c-.78.78-.78 2.05 0 2.83L4 21.41c.39.39.9.59 1.41.59.51 0 1.02-.2 1.41-.59l7.78-7.78 2.81-2.81c.8-.78.8-2.07 0-2.86zM5.41 20L4 18.59l7.72-7.72 1.47 1.35L5.41 20z\"/>\n",
              "  </svg>\n",
              "      </button>\n",
              "      \n",
              "  <style>\n",
              "    .colab-df-container {\n",
              "      display:flex;\n",
              "      flex-wrap:wrap;\n",
              "      gap: 12px;\n",
              "    }\n",
              "\n",
              "    .colab-df-convert {\n",
              "      background-color: #E8F0FE;\n",
              "      border: none;\n",
              "      border-radius: 50%;\n",
              "      cursor: pointer;\n",
              "      display: none;\n",
              "      fill: #1967D2;\n",
              "      height: 32px;\n",
              "      padding: 0 0 0 0;\n",
              "      width: 32px;\n",
              "    }\n",
              "\n",
              "    .colab-df-convert:hover {\n",
              "      background-color: #E2EBFA;\n",
              "      box-shadow: 0px 1px 2px rgba(60, 64, 67, 0.3), 0px 1px 3px 1px rgba(60, 64, 67, 0.15);\n",
              "      fill: #174EA6;\n",
              "    }\n",
              "\n",
              "    [theme=dark] .colab-df-convert {\n",
              "      background-color: #3B4455;\n",
              "      fill: #D2E3FC;\n",
              "    }\n",
              "\n",
              "    [theme=dark] .colab-df-convert:hover {\n",
              "      background-color: #434B5C;\n",
              "      box-shadow: 0px 1px 3px 1px rgba(0, 0, 0, 0.15);\n",
              "      filter: drop-shadow(0px 1px 2px rgba(0, 0, 0, 0.3));\n",
              "      fill: #FFFFFF;\n",
              "    }\n",
              "  </style>\n",
              "\n",
              "      <script>\n",
              "        const buttonEl =\n",
              "          document.querySelector('#df-778ae093-1bcc-4af7-b4d3-6680ef2cf6c8 button.colab-df-convert');\n",
              "        buttonEl.style.display =\n",
              "          google.colab.kernel.accessAllowed ? 'block' : 'none';\n",
              "\n",
              "        async function convertToInteractive(key) {\n",
              "          const element = document.querySelector('#df-778ae093-1bcc-4af7-b4d3-6680ef2cf6c8');\n",
              "          const dataTable =\n",
              "            await google.colab.kernel.invokeFunction('convertToInteractive',\n",
              "                                                     [key], {});\n",
              "          if (!dataTable) return;\n",
              "\n",
              "          const docLinkHtml = 'Like what you see? Visit the ' +\n",
              "            '<a target=\"_blank\" href=https://colab.research.google.com/notebooks/data_table.ipynb>data table notebook</a>'\n",
              "            + ' to learn more about interactive tables.';\n",
              "          element.innerHTML = '';\n",
              "          dataTable['output_type'] = 'display_data';\n",
              "          await google.colab.output.renderOutput(dataTable, element);\n",
              "          const docLink = document.createElement('div');\n",
              "          docLink.innerHTML = docLinkHtml;\n",
              "          element.appendChild(docLink);\n",
              "        }\n",
              "      </script>\n",
              "    </div>\n",
              "  </div>\n",
              "  "
            ],
            "text/plain": [
              "   user_id  age churn_date  ...  last_name    reg_date tariff\n",
              "0     1000   52        NaN  ...  Верещагин  2018-05-25  ultra\n",
              "1     1001   41        NaN  ...       Ежов  2018-11-01  smart\n",
              "2     1002   59        NaN  ...  Абрамович  2018-06-17  smart\n",
              "3     1003   23        NaN  ...   Белякова  2018-08-17  ultra\n",
              "4     1004   68        NaN  ...   Авдеенко  2018-05-14  ultra\n",
              "\n",
              "[5 rows x 8 columns]"
            ]
          },
          "metadata": {},
          "execution_count": 3
        }
      ],
      "source": [
        "df_users.head()"
      ]
    },
    {
      "cell_type": "markdown",
      "metadata": {
        "id": "fr8JUfvl6U2z"
      },
      "source": [
        "**Описание данных**  \n",
        "\n",
        "Таблица `users` (информация о пользователях):  \n",
        "- `user_id` — уникальный идентификатор пользователя  \n",
        "- `first_name` — имя пользователя  \n",
        "- `last_name` — фамилия пользователя  \n",
        "- `age` — возраст пользователя (годы)  \n",
        "- `reg_date` — дата подключения тарифа (день, месяц, год)  \n",
        "- `churn_date` — дата прекращения пользования тарифом (если значение пропущено, то тариф ещё действовал на момент выгрузки данных)  \n",
        "- `city` — город проживания пользователя  \n",
        "- `tariff` — название тарифного плана"
      ]
    },
    {
      "cell_type": "code",
      "execution_count": null,
      "metadata": {
        "colab": {
          "base_uri": "https://localhost:8080/"
        },
        "id": "9Ddf9ONfAbE1",
        "outputId": "ebd8f356-7573-406a-98b8-8f92b36768ba",
        "scrolled": false
      },
      "outputs": [
        {
          "output_type": "stream",
          "name": "stdout",
          "text": [
            "<class 'pandas.core.frame.DataFrame'>\n",
            "RangeIndex: 500 entries, 0 to 499\n",
            "Data columns (total 8 columns):\n",
            " #   Column      Non-Null Count  Dtype \n",
            "---  ------      --------------  ----- \n",
            " 0   user_id     500 non-null    int64 \n",
            " 1   age         500 non-null    int64 \n",
            " 2   churn_date  38 non-null     object\n",
            " 3   city        500 non-null    object\n",
            " 4   first_name  500 non-null    object\n",
            " 5   last_name   500 non-null    object\n",
            " 6   reg_date    500 non-null    object\n",
            " 7   tariff      500 non-null    object\n",
            "dtypes: int64(2), object(6)\n",
            "memory usage: 31.4+ KB\n"
          ]
        }
      ],
      "source": [
        "df_users.info()"
      ]
    },
    {
      "cell_type": "code",
      "execution_count": null,
      "metadata": {
        "colab": {
          "base_uri": "https://localhost:8080/",
          "height": 300
        },
        "id": "OBHxxLrR8dTo",
        "outputId": "c22a6908-1307-4237-cbb6-cca7f01cf738"
      },
      "outputs": [
        {
          "output_type": "execute_result",
          "data": {
            "text/html": [
              "\n",
              "  <div id=\"df-aaf2f174-d689-49f2-84b9-d964b3b4172b\">\n",
              "    <div class=\"colab-df-container\">\n",
              "      <div>\n",
              "<style scoped>\n",
              "    .dataframe tbody tr th:only-of-type {\n",
              "        vertical-align: middle;\n",
              "    }\n",
              "\n",
              "    .dataframe tbody tr th {\n",
              "        vertical-align: top;\n",
              "    }\n",
              "\n",
              "    .dataframe thead th {\n",
              "        text-align: right;\n",
              "    }\n",
              "</style>\n",
              "<table border=\"1\" class=\"dataframe\">\n",
              "  <thead>\n",
              "    <tr style=\"text-align: right;\">\n",
              "      <th></th>\n",
              "      <th>user_id</th>\n",
              "      <th>age</th>\n",
              "    </tr>\n",
              "  </thead>\n",
              "  <tbody>\n",
              "    <tr>\n",
              "      <th>count</th>\n",
              "      <td>500.000000</td>\n",
              "      <td>500.00000</td>\n",
              "    </tr>\n",
              "    <tr>\n",
              "      <th>mean</th>\n",
              "      <td>1249.500000</td>\n",
              "      <td>46.58800</td>\n",
              "    </tr>\n",
              "    <tr>\n",
              "      <th>std</th>\n",
              "      <td>144.481833</td>\n",
              "      <td>16.66763</td>\n",
              "    </tr>\n",
              "    <tr>\n",
              "      <th>min</th>\n",
              "      <td>1000.000000</td>\n",
              "      <td>18.00000</td>\n",
              "    </tr>\n",
              "    <tr>\n",
              "      <th>25%</th>\n",
              "      <td>1124.750000</td>\n",
              "      <td>32.00000</td>\n",
              "    </tr>\n",
              "    <tr>\n",
              "      <th>50%</th>\n",
              "      <td>1249.500000</td>\n",
              "      <td>46.00000</td>\n",
              "    </tr>\n",
              "    <tr>\n",
              "      <th>75%</th>\n",
              "      <td>1374.250000</td>\n",
              "      <td>62.00000</td>\n",
              "    </tr>\n",
              "    <tr>\n",
              "      <th>max</th>\n",
              "      <td>1499.000000</td>\n",
              "      <td>75.00000</td>\n",
              "    </tr>\n",
              "  </tbody>\n",
              "</table>\n",
              "</div>\n",
              "      <button class=\"colab-df-convert\" onclick=\"convertToInteractive('df-aaf2f174-d689-49f2-84b9-d964b3b4172b')\"\n",
              "              title=\"Convert this dataframe to an interactive table.\"\n",
              "              style=\"display:none;\">\n",
              "        \n",
              "  <svg xmlns=\"http://www.w3.org/2000/svg\" height=\"24px\"viewBox=\"0 0 24 24\"\n",
              "       width=\"24px\">\n",
              "    <path d=\"M0 0h24v24H0V0z\" fill=\"none\"/>\n",
              "    <path d=\"M18.56 5.44l.94 2.06.94-2.06 2.06-.94-2.06-.94-.94-2.06-.94 2.06-2.06.94zm-11 1L8.5 8.5l.94-2.06 2.06-.94-2.06-.94L8.5 2.5l-.94 2.06-2.06.94zm10 10l.94 2.06.94-2.06 2.06-.94-2.06-.94-.94-2.06-.94 2.06-2.06.94z\"/><path d=\"M17.41 7.96l-1.37-1.37c-.4-.4-.92-.59-1.43-.59-.52 0-1.04.2-1.43.59L10.3 9.45l-7.72 7.72c-.78.78-.78 2.05 0 2.83L4 21.41c.39.39.9.59 1.41.59.51 0 1.02-.2 1.41-.59l7.78-7.78 2.81-2.81c.8-.78.8-2.07 0-2.86zM5.41 20L4 18.59l7.72-7.72 1.47 1.35L5.41 20z\"/>\n",
              "  </svg>\n",
              "      </button>\n",
              "      \n",
              "  <style>\n",
              "    .colab-df-container {\n",
              "      display:flex;\n",
              "      flex-wrap:wrap;\n",
              "      gap: 12px;\n",
              "    }\n",
              "\n",
              "    .colab-df-convert {\n",
              "      background-color: #E8F0FE;\n",
              "      border: none;\n",
              "      border-radius: 50%;\n",
              "      cursor: pointer;\n",
              "      display: none;\n",
              "      fill: #1967D2;\n",
              "      height: 32px;\n",
              "      padding: 0 0 0 0;\n",
              "      width: 32px;\n",
              "    }\n",
              "\n",
              "    .colab-df-convert:hover {\n",
              "      background-color: #E2EBFA;\n",
              "      box-shadow: 0px 1px 2px rgba(60, 64, 67, 0.3), 0px 1px 3px 1px rgba(60, 64, 67, 0.15);\n",
              "      fill: #174EA6;\n",
              "    }\n",
              "\n",
              "    [theme=dark] .colab-df-convert {\n",
              "      background-color: #3B4455;\n",
              "      fill: #D2E3FC;\n",
              "    }\n",
              "\n",
              "    [theme=dark] .colab-df-convert:hover {\n",
              "      background-color: #434B5C;\n",
              "      box-shadow: 0px 1px 3px 1px rgba(0, 0, 0, 0.15);\n",
              "      filter: drop-shadow(0px 1px 2px rgba(0, 0, 0, 0.3));\n",
              "      fill: #FFFFFF;\n",
              "    }\n",
              "  </style>\n",
              "\n",
              "      <script>\n",
              "        const buttonEl =\n",
              "          document.querySelector('#df-aaf2f174-d689-49f2-84b9-d964b3b4172b button.colab-df-convert');\n",
              "        buttonEl.style.display =\n",
              "          google.colab.kernel.accessAllowed ? 'block' : 'none';\n",
              "\n",
              "        async function convertToInteractive(key) {\n",
              "          const element = document.querySelector('#df-aaf2f174-d689-49f2-84b9-d964b3b4172b');\n",
              "          const dataTable =\n",
              "            await google.colab.kernel.invokeFunction('convertToInteractive',\n",
              "                                                     [key], {});\n",
              "          if (!dataTable) return;\n",
              "\n",
              "          const docLinkHtml = 'Like what you see? Visit the ' +\n",
              "            '<a target=\"_blank\" href=https://colab.research.google.com/notebooks/data_table.ipynb>data table notebook</a>'\n",
              "            + ' to learn more about interactive tables.';\n",
              "          element.innerHTML = '';\n",
              "          dataTable['output_type'] = 'display_data';\n",
              "          await google.colab.output.renderOutput(dataTable, element);\n",
              "          const docLink = document.createElement('div');\n",
              "          docLink.innerHTML = docLinkHtml;\n",
              "          element.appendChild(docLink);\n",
              "        }\n",
              "      </script>\n",
              "    </div>\n",
              "  </div>\n",
              "  "
            ],
            "text/plain": [
              "           user_id        age\n",
              "count   500.000000  500.00000\n",
              "mean   1249.500000   46.58800\n",
              "std     144.481833   16.66763\n",
              "min    1000.000000   18.00000\n",
              "25%    1124.750000   32.00000\n",
              "50%    1249.500000   46.00000\n",
              "75%    1374.250000   62.00000\n",
              "max    1499.000000   75.00000"
            ]
          },
          "metadata": {},
          "execution_count": 5
        }
      ],
      "source": [
        "df_users.describe()"
      ]
    },
    {
      "cell_type": "markdown",
      "metadata": {
        "id": "xBdATHo469L_"
      },
      "source": [
        "### Таблица calls"
      ]
    },
    {
      "cell_type": "code",
      "execution_count": null,
      "metadata": {
        "id": "0145ZxMNzKN1"
      },
      "outputs": [],
      "source": [
        "df_calls = pd.read_csv('/datasets/calls.csv') # читаем данные"
      ]
    },
    {
      "cell_type": "markdown",
      "metadata": {
        "id": "sl-9lnD4_2KL"
      },
      "source": [
        "Выведем информацию о таблице:"
      ]
    },
    {
      "cell_type": "code",
      "execution_count": null,
      "metadata": {
        "colab": {
          "base_uri": "https://localhost:8080/",
          "height": 206
        },
        "id": "ewSG1t0qzTYr",
        "outputId": "efe4a0c1-2b81-4e41-a364-54364a14ca29"
      },
      "outputs": [
        {
          "output_type": "execute_result",
          "data": {
            "text/html": [
              "\n",
              "  <div id=\"df-7e3eec46-1a04-458c-8860-4d6a4a593066\">\n",
              "    <div class=\"colab-df-container\">\n",
              "      <div>\n",
              "<style scoped>\n",
              "    .dataframe tbody tr th:only-of-type {\n",
              "        vertical-align: middle;\n",
              "    }\n",
              "\n",
              "    .dataframe tbody tr th {\n",
              "        vertical-align: top;\n",
              "    }\n",
              "\n",
              "    .dataframe thead th {\n",
              "        text-align: right;\n",
              "    }\n",
              "</style>\n",
              "<table border=\"1\" class=\"dataframe\">\n",
              "  <thead>\n",
              "    <tr style=\"text-align: right;\">\n",
              "      <th></th>\n",
              "      <th>id</th>\n",
              "      <th>call_date</th>\n",
              "      <th>duration</th>\n",
              "      <th>user_id</th>\n",
              "    </tr>\n",
              "  </thead>\n",
              "  <tbody>\n",
              "    <tr>\n",
              "      <th>0</th>\n",
              "      <td>1000_0</td>\n",
              "      <td>2018-07-25</td>\n",
              "      <td>0.00</td>\n",
              "      <td>1000</td>\n",
              "    </tr>\n",
              "    <tr>\n",
              "      <th>1</th>\n",
              "      <td>1000_1</td>\n",
              "      <td>2018-08-17</td>\n",
              "      <td>0.00</td>\n",
              "      <td>1000</td>\n",
              "    </tr>\n",
              "    <tr>\n",
              "      <th>2</th>\n",
              "      <td>1000_2</td>\n",
              "      <td>2018-06-11</td>\n",
              "      <td>2.85</td>\n",
              "      <td>1000</td>\n",
              "    </tr>\n",
              "    <tr>\n",
              "      <th>3</th>\n",
              "      <td>1000_3</td>\n",
              "      <td>2018-09-21</td>\n",
              "      <td>13.80</td>\n",
              "      <td>1000</td>\n",
              "    </tr>\n",
              "    <tr>\n",
              "      <th>4</th>\n",
              "      <td>1000_4</td>\n",
              "      <td>2018-12-15</td>\n",
              "      <td>5.18</td>\n",
              "      <td>1000</td>\n",
              "    </tr>\n",
              "  </tbody>\n",
              "</table>\n",
              "</div>\n",
              "      <button class=\"colab-df-convert\" onclick=\"convertToInteractive('df-7e3eec46-1a04-458c-8860-4d6a4a593066')\"\n",
              "              title=\"Convert this dataframe to an interactive table.\"\n",
              "              style=\"display:none;\">\n",
              "        \n",
              "  <svg xmlns=\"http://www.w3.org/2000/svg\" height=\"24px\"viewBox=\"0 0 24 24\"\n",
              "       width=\"24px\">\n",
              "    <path d=\"M0 0h24v24H0V0z\" fill=\"none\"/>\n",
              "    <path d=\"M18.56 5.44l.94 2.06.94-2.06 2.06-.94-2.06-.94-.94-2.06-.94 2.06-2.06.94zm-11 1L8.5 8.5l.94-2.06 2.06-.94-2.06-.94L8.5 2.5l-.94 2.06-2.06.94zm10 10l.94 2.06.94-2.06 2.06-.94-2.06-.94-.94-2.06-.94 2.06-2.06.94z\"/><path d=\"M17.41 7.96l-1.37-1.37c-.4-.4-.92-.59-1.43-.59-.52 0-1.04.2-1.43.59L10.3 9.45l-7.72 7.72c-.78.78-.78 2.05 0 2.83L4 21.41c.39.39.9.59 1.41.59.51 0 1.02-.2 1.41-.59l7.78-7.78 2.81-2.81c.8-.78.8-2.07 0-2.86zM5.41 20L4 18.59l7.72-7.72 1.47 1.35L5.41 20z\"/>\n",
              "  </svg>\n",
              "      </button>\n",
              "      \n",
              "  <style>\n",
              "    .colab-df-container {\n",
              "      display:flex;\n",
              "      flex-wrap:wrap;\n",
              "      gap: 12px;\n",
              "    }\n",
              "\n",
              "    .colab-df-convert {\n",
              "      background-color: #E8F0FE;\n",
              "      border: none;\n",
              "      border-radius: 50%;\n",
              "      cursor: pointer;\n",
              "      display: none;\n",
              "      fill: #1967D2;\n",
              "      height: 32px;\n",
              "      padding: 0 0 0 0;\n",
              "      width: 32px;\n",
              "    }\n",
              "\n",
              "    .colab-df-convert:hover {\n",
              "      background-color: #E2EBFA;\n",
              "      box-shadow: 0px 1px 2px rgba(60, 64, 67, 0.3), 0px 1px 3px 1px rgba(60, 64, 67, 0.15);\n",
              "      fill: #174EA6;\n",
              "    }\n",
              "\n",
              "    [theme=dark] .colab-df-convert {\n",
              "      background-color: #3B4455;\n",
              "      fill: #D2E3FC;\n",
              "    }\n",
              "\n",
              "    [theme=dark] .colab-df-convert:hover {\n",
              "      background-color: #434B5C;\n",
              "      box-shadow: 0px 1px 3px 1px rgba(0, 0, 0, 0.15);\n",
              "      filter: drop-shadow(0px 1px 2px rgba(0, 0, 0, 0.3));\n",
              "      fill: #FFFFFF;\n",
              "    }\n",
              "  </style>\n",
              "\n",
              "      <script>\n",
              "        const buttonEl =\n",
              "          document.querySelector('#df-7e3eec46-1a04-458c-8860-4d6a4a593066 button.colab-df-convert');\n",
              "        buttonEl.style.display =\n",
              "          google.colab.kernel.accessAllowed ? 'block' : 'none';\n",
              "\n",
              "        async function convertToInteractive(key) {\n",
              "          const element = document.querySelector('#df-7e3eec46-1a04-458c-8860-4d6a4a593066');\n",
              "          const dataTable =\n",
              "            await google.colab.kernel.invokeFunction('convertToInteractive',\n",
              "                                                     [key], {});\n",
              "          if (!dataTable) return;\n",
              "\n",
              "          const docLinkHtml = 'Like what you see? Visit the ' +\n",
              "            '<a target=\"_blank\" href=https://colab.research.google.com/notebooks/data_table.ipynb>data table notebook</a>'\n",
              "            + ' to learn more about interactive tables.';\n",
              "          element.innerHTML = '';\n",
              "          dataTable['output_type'] = 'display_data';\n",
              "          await google.colab.output.renderOutput(dataTable, element);\n",
              "          const docLink = document.createElement('div');\n",
              "          docLink.innerHTML = docLinkHtml;\n",
              "          element.appendChild(docLink);\n",
              "        }\n",
              "      </script>\n",
              "    </div>\n",
              "  </div>\n",
              "  "
            ],
            "text/plain": [
              "       id   call_date  duration  user_id\n",
              "0  1000_0  2018-07-25      0.00     1000\n",
              "1  1000_1  2018-08-17      0.00     1000\n",
              "2  1000_2  2018-06-11      2.85     1000\n",
              "3  1000_3  2018-09-21     13.80     1000\n",
              "4  1000_4  2018-12-15      5.18     1000"
            ]
          },
          "metadata": {},
          "execution_count": 7
        }
      ],
      "source": [
        "df_calls.head()"
      ]
    },
    {
      "cell_type": "markdown",
      "metadata": {
        "id": "JbuK-xqk5vx4"
      },
      "source": [
        "**Описание данных**  \n",
        "\n",
        "\n",
        "Таблица `calls` (информация о звонках):\n",
        "- `id` — уникальный номер звонка  \n",
        "- `call_date` — дата звонка  \n",
        "- `duration` — длительность звонка в минутах  \n",
        "- `user_id` — идентификатор пользователя, сделавшего звонок    "
      ]
    },
    {
      "cell_type": "code",
      "execution_count": null,
      "metadata": {
        "colab": {
          "base_uri": "https://localhost:8080/"
        },
        "id": "YmXAwG7oAk33",
        "outputId": "fed40416-a387-4480-d538-8e52c049bb0e",
        "scrolled": false
      },
      "outputs": [
        {
          "output_type": "stream",
          "name": "stdout",
          "text": [
            "<class 'pandas.core.frame.DataFrame'>\n",
            "RangeIndex: 202607 entries, 0 to 202606\n",
            "Data columns (total 4 columns):\n",
            " #   Column     Non-Null Count   Dtype  \n",
            "---  ------     --------------   -----  \n",
            " 0   id         202607 non-null  object \n",
            " 1   call_date  202607 non-null  object \n",
            " 2   duration   202607 non-null  float64\n",
            " 3   user_id    202607 non-null  int64  \n",
            "dtypes: float64(1), int64(1), object(2)\n",
            "memory usage: 6.2+ MB\n"
          ]
        }
      ],
      "source": [
        "df_calls.info()"
      ]
    },
    {
      "cell_type": "code",
      "execution_count": null,
      "metadata": {
        "colab": {
          "base_uri": "https://localhost:8080/",
          "height": 300
        },
        "id": "1fNwpU238oSy",
        "outputId": "e3344537-ac19-4181-e289-d4a372441236"
      },
      "outputs": [
        {
          "output_type": "execute_result",
          "data": {
            "text/html": [
              "\n",
              "  <div id=\"df-1e082160-090e-47ad-8439-89b5844a7e40\">\n",
              "    <div class=\"colab-df-container\">\n",
              "      <div>\n",
              "<style scoped>\n",
              "    .dataframe tbody tr th:only-of-type {\n",
              "        vertical-align: middle;\n",
              "    }\n",
              "\n",
              "    .dataframe tbody tr th {\n",
              "        vertical-align: top;\n",
              "    }\n",
              "\n",
              "    .dataframe thead th {\n",
              "        text-align: right;\n",
              "    }\n",
              "</style>\n",
              "<table border=\"1\" class=\"dataframe\">\n",
              "  <thead>\n",
              "    <tr style=\"text-align: right;\">\n",
              "      <th></th>\n",
              "      <th>duration</th>\n",
              "      <th>user_id</th>\n",
              "    </tr>\n",
              "  </thead>\n",
              "  <tbody>\n",
              "    <tr>\n",
              "      <th>count</th>\n",
              "      <td>202607.000000</td>\n",
              "      <td>202607.000000</td>\n",
              "    </tr>\n",
              "    <tr>\n",
              "      <th>mean</th>\n",
              "      <td>6.755887</td>\n",
              "      <td>1253.940619</td>\n",
              "    </tr>\n",
              "    <tr>\n",
              "      <th>std</th>\n",
              "      <td>5.843365</td>\n",
              "      <td>144.722751</td>\n",
              "    </tr>\n",
              "    <tr>\n",
              "      <th>min</th>\n",
              "      <td>0.000000</td>\n",
              "      <td>1000.000000</td>\n",
              "    </tr>\n",
              "    <tr>\n",
              "      <th>25%</th>\n",
              "      <td>1.300000</td>\n",
              "      <td>1126.000000</td>\n",
              "    </tr>\n",
              "    <tr>\n",
              "      <th>50%</th>\n",
              "      <td>6.000000</td>\n",
              "      <td>1260.000000</td>\n",
              "    </tr>\n",
              "    <tr>\n",
              "      <th>75%</th>\n",
              "      <td>10.700000</td>\n",
              "      <td>1379.000000</td>\n",
              "    </tr>\n",
              "    <tr>\n",
              "      <th>max</th>\n",
              "      <td>38.000000</td>\n",
              "      <td>1499.000000</td>\n",
              "    </tr>\n",
              "  </tbody>\n",
              "</table>\n",
              "</div>\n",
              "      <button class=\"colab-df-convert\" onclick=\"convertToInteractive('df-1e082160-090e-47ad-8439-89b5844a7e40')\"\n",
              "              title=\"Convert this dataframe to an interactive table.\"\n",
              "              style=\"display:none;\">\n",
              "        \n",
              "  <svg xmlns=\"http://www.w3.org/2000/svg\" height=\"24px\"viewBox=\"0 0 24 24\"\n",
              "       width=\"24px\">\n",
              "    <path d=\"M0 0h24v24H0V0z\" fill=\"none\"/>\n",
              "    <path d=\"M18.56 5.44l.94 2.06.94-2.06 2.06-.94-2.06-.94-.94-2.06-.94 2.06-2.06.94zm-11 1L8.5 8.5l.94-2.06 2.06-.94-2.06-.94L8.5 2.5l-.94 2.06-2.06.94zm10 10l.94 2.06.94-2.06 2.06-.94-2.06-.94-.94-2.06-.94 2.06-2.06.94z\"/><path d=\"M17.41 7.96l-1.37-1.37c-.4-.4-.92-.59-1.43-.59-.52 0-1.04.2-1.43.59L10.3 9.45l-7.72 7.72c-.78.78-.78 2.05 0 2.83L4 21.41c.39.39.9.59 1.41.59.51 0 1.02-.2 1.41-.59l7.78-7.78 2.81-2.81c.8-.78.8-2.07 0-2.86zM5.41 20L4 18.59l7.72-7.72 1.47 1.35L5.41 20z\"/>\n",
              "  </svg>\n",
              "      </button>\n",
              "      \n",
              "  <style>\n",
              "    .colab-df-container {\n",
              "      display:flex;\n",
              "      flex-wrap:wrap;\n",
              "      gap: 12px;\n",
              "    }\n",
              "\n",
              "    .colab-df-convert {\n",
              "      background-color: #E8F0FE;\n",
              "      border: none;\n",
              "      border-radius: 50%;\n",
              "      cursor: pointer;\n",
              "      display: none;\n",
              "      fill: #1967D2;\n",
              "      height: 32px;\n",
              "      padding: 0 0 0 0;\n",
              "      width: 32px;\n",
              "    }\n",
              "\n",
              "    .colab-df-convert:hover {\n",
              "      background-color: #E2EBFA;\n",
              "      box-shadow: 0px 1px 2px rgba(60, 64, 67, 0.3), 0px 1px 3px 1px rgba(60, 64, 67, 0.15);\n",
              "      fill: #174EA6;\n",
              "    }\n",
              "\n",
              "    [theme=dark] .colab-df-convert {\n",
              "      background-color: #3B4455;\n",
              "      fill: #D2E3FC;\n",
              "    }\n",
              "\n",
              "    [theme=dark] .colab-df-convert:hover {\n",
              "      background-color: #434B5C;\n",
              "      box-shadow: 0px 1px 3px 1px rgba(0, 0, 0, 0.15);\n",
              "      filter: drop-shadow(0px 1px 2px rgba(0, 0, 0, 0.3));\n",
              "      fill: #FFFFFF;\n",
              "    }\n",
              "  </style>\n",
              "\n",
              "      <script>\n",
              "        const buttonEl =\n",
              "          document.querySelector('#df-1e082160-090e-47ad-8439-89b5844a7e40 button.colab-df-convert');\n",
              "        buttonEl.style.display =\n",
              "          google.colab.kernel.accessAllowed ? 'block' : 'none';\n",
              "\n",
              "        async function convertToInteractive(key) {\n",
              "          const element = document.querySelector('#df-1e082160-090e-47ad-8439-89b5844a7e40');\n",
              "          const dataTable =\n",
              "            await google.colab.kernel.invokeFunction('convertToInteractive',\n",
              "                                                     [key], {});\n",
              "          if (!dataTable) return;\n",
              "\n",
              "          const docLinkHtml = 'Like what you see? Visit the ' +\n",
              "            '<a target=\"_blank\" href=https://colab.research.google.com/notebooks/data_table.ipynb>data table notebook</a>'\n",
              "            + ' to learn more about interactive tables.';\n",
              "          element.innerHTML = '';\n",
              "          dataTable['output_type'] = 'display_data';\n",
              "          await google.colab.output.renderOutput(dataTable, element);\n",
              "          const docLink = document.createElement('div');\n",
              "          docLink.innerHTML = docLinkHtml;\n",
              "          element.appendChild(docLink);\n",
              "        }\n",
              "      </script>\n",
              "    </div>\n",
              "  </div>\n",
              "  "
            ],
            "text/plain": [
              "            duration        user_id\n",
              "count  202607.000000  202607.000000\n",
              "mean        6.755887    1253.940619\n",
              "std         5.843365     144.722751\n",
              "min         0.000000    1000.000000\n",
              "25%         1.300000    1126.000000\n",
              "50%         6.000000    1260.000000\n",
              "75%        10.700000    1379.000000\n",
              "max        38.000000    1499.000000"
            ]
          },
          "metadata": {},
          "execution_count": 9
        }
      ],
      "source": [
        "df_calls.describe()"
      ]
    },
    {
      "cell_type": "code",
      "execution_count": null,
      "metadata": {
        "colab": {
          "base_uri": "https://localhost:8080/",
          "height": 424
        },
        "id": "6A2txi01-U5f",
        "outputId": "3106f5eb-7e0e-4360-e164-8455428f6fa8"
      },
      "outputs": [
        {
          "output_type": "execute_result",
          "data": {
            "text/html": [
              "\n",
              "  <div id=\"df-ec180168-a937-45ce-9ab8-a92772c6389d\">\n",
              "    <div class=\"colab-df-container\">\n",
              "      <div>\n",
              "<style scoped>\n",
              "    .dataframe tbody tr th:only-of-type {\n",
              "        vertical-align: middle;\n",
              "    }\n",
              "\n",
              "    .dataframe tbody tr th {\n",
              "        vertical-align: top;\n",
              "    }\n",
              "\n",
              "    .dataframe thead th {\n",
              "        text-align: right;\n",
              "    }\n",
              "</style>\n",
              "<table border=\"1\" class=\"dataframe\">\n",
              "  <thead>\n",
              "    <tr style=\"text-align: right;\">\n",
              "      <th></th>\n",
              "      <th>id</th>\n",
              "      <th>call_date</th>\n",
              "      <th>duration</th>\n",
              "      <th>user_id</th>\n",
              "    </tr>\n",
              "  </thead>\n",
              "  <tbody>\n",
              "    <tr>\n",
              "      <th>0</th>\n",
              "      <td>1000_0</td>\n",
              "      <td>2018-07-25</td>\n",
              "      <td>0.0</td>\n",
              "      <td>1000</td>\n",
              "    </tr>\n",
              "    <tr>\n",
              "      <th>1</th>\n",
              "      <td>1000_1</td>\n",
              "      <td>2018-08-17</td>\n",
              "      <td>0.0</td>\n",
              "      <td>1000</td>\n",
              "    </tr>\n",
              "    <tr>\n",
              "      <th>5</th>\n",
              "      <td>1000_5</td>\n",
              "      <td>2018-11-02</td>\n",
              "      <td>0.0</td>\n",
              "      <td>1000</td>\n",
              "    </tr>\n",
              "    <tr>\n",
              "      <th>6</th>\n",
              "      <td>1000_6</td>\n",
              "      <td>2018-10-18</td>\n",
              "      <td>0.0</td>\n",
              "      <td>1000</td>\n",
              "    </tr>\n",
              "    <tr>\n",
              "      <th>9</th>\n",
              "      <td>1000_9</td>\n",
              "      <td>2018-08-15</td>\n",
              "      <td>0.0</td>\n",
              "      <td>1000</td>\n",
              "    </tr>\n",
              "    <tr>\n",
              "      <th>...</th>\n",
              "      <td>...</td>\n",
              "      <td>...</td>\n",
              "      <td>...</td>\n",
              "      <td>...</td>\n",
              "    </tr>\n",
              "    <tr>\n",
              "      <th>202590</th>\n",
              "      <td>1499_203</td>\n",
              "      <td>2018-12-03</td>\n",
              "      <td>0.0</td>\n",
              "      <td>1499</td>\n",
              "    </tr>\n",
              "    <tr>\n",
              "      <th>202592</th>\n",
              "      <td>1499_205</td>\n",
              "      <td>2018-10-13</td>\n",
              "      <td>0.0</td>\n",
              "      <td>1499</td>\n",
              "    </tr>\n",
              "    <tr>\n",
              "      <th>202593</th>\n",
              "      <td>1499_206</td>\n",
              "      <td>2018-12-26</td>\n",
              "      <td>0.0</td>\n",
              "      <td>1499</td>\n",
              "    </tr>\n",
              "    <tr>\n",
              "      <th>202594</th>\n",
              "      <td>1499_207</td>\n",
              "      <td>2018-10-28</td>\n",
              "      <td>0.0</td>\n",
              "      <td>1499</td>\n",
              "    </tr>\n",
              "    <tr>\n",
              "      <th>202596</th>\n",
              "      <td>1499_209</td>\n",
              "      <td>2018-12-16</td>\n",
              "      <td>0.0</td>\n",
              "      <td>1499</td>\n",
              "    </tr>\n",
              "  </tbody>\n",
              "</table>\n",
              "<p>39613 rows × 4 columns</p>\n",
              "</div>\n",
              "      <button class=\"colab-df-convert\" onclick=\"convertToInteractive('df-ec180168-a937-45ce-9ab8-a92772c6389d')\"\n",
              "              title=\"Convert this dataframe to an interactive table.\"\n",
              "              style=\"display:none;\">\n",
              "        \n",
              "  <svg xmlns=\"http://www.w3.org/2000/svg\" height=\"24px\"viewBox=\"0 0 24 24\"\n",
              "       width=\"24px\">\n",
              "    <path d=\"M0 0h24v24H0V0z\" fill=\"none\"/>\n",
              "    <path d=\"M18.56 5.44l.94 2.06.94-2.06 2.06-.94-2.06-.94-.94-2.06-.94 2.06-2.06.94zm-11 1L8.5 8.5l.94-2.06 2.06-.94-2.06-.94L8.5 2.5l-.94 2.06-2.06.94zm10 10l.94 2.06.94-2.06 2.06-.94-2.06-.94-.94-2.06-.94 2.06-2.06.94z\"/><path d=\"M17.41 7.96l-1.37-1.37c-.4-.4-.92-.59-1.43-.59-.52 0-1.04.2-1.43.59L10.3 9.45l-7.72 7.72c-.78.78-.78 2.05 0 2.83L4 21.41c.39.39.9.59 1.41.59.51 0 1.02-.2 1.41-.59l7.78-7.78 2.81-2.81c.8-.78.8-2.07 0-2.86zM5.41 20L4 18.59l7.72-7.72 1.47 1.35L5.41 20z\"/>\n",
              "  </svg>\n",
              "      </button>\n",
              "      \n",
              "  <style>\n",
              "    .colab-df-container {\n",
              "      display:flex;\n",
              "      flex-wrap:wrap;\n",
              "      gap: 12px;\n",
              "    }\n",
              "\n",
              "    .colab-df-convert {\n",
              "      background-color: #E8F0FE;\n",
              "      border: none;\n",
              "      border-radius: 50%;\n",
              "      cursor: pointer;\n",
              "      display: none;\n",
              "      fill: #1967D2;\n",
              "      height: 32px;\n",
              "      padding: 0 0 0 0;\n",
              "      width: 32px;\n",
              "    }\n",
              "\n",
              "    .colab-df-convert:hover {\n",
              "      background-color: #E2EBFA;\n",
              "      box-shadow: 0px 1px 2px rgba(60, 64, 67, 0.3), 0px 1px 3px 1px rgba(60, 64, 67, 0.15);\n",
              "      fill: #174EA6;\n",
              "    }\n",
              "\n",
              "    [theme=dark] .colab-df-convert {\n",
              "      background-color: #3B4455;\n",
              "      fill: #D2E3FC;\n",
              "    }\n",
              "\n",
              "    [theme=dark] .colab-df-convert:hover {\n",
              "      background-color: #434B5C;\n",
              "      box-shadow: 0px 1px 3px 1px rgba(0, 0, 0, 0.15);\n",
              "      filter: drop-shadow(0px 1px 2px rgba(0, 0, 0, 0.3));\n",
              "      fill: #FFFFFF;\n",
              "    }\n",
              "  </style>\n",
              "\n",
              "      <script>\n",
              "        const buttonEl =\n",
              "          document.querySelector('#df-ec180168-a937-45ce-9ab8-a92772c6389d button.colab-df-convert');\n",
              "        buttonEl.style.display =\n",
              "          google.colab.kernel.accessAllowed ? 'block' : 'none';\n",
              "\n",
              "        async function convertToInteractive(key) {\n",
              "          const element = document.querySelector('#df-ec180168-a937-45ce-9ab8-a92772c6389d');\n",
              "          const dataTable =\n",
              "            await google.colab.kernel.invokeFunction('convertToInteractive',\n",
              "                                                     [key], {});\n",
              "          if (!dataTable) return;\n",
              "\n",
              "          const docLinkHtml = 'Like what you see? Visit the ' +\n",
              "            '<a target=\"_blank\" href=https://colab.research.google.com/notebooks/data_table.ipynb>data table notebook</a>'\n",
              "            + ' to learn more about interactive tables.';\n",
              "          element.innerHTML = '';\n",
              "          dataTable['output_type'] = 'display_data';\n",
              "          await google.colab.output.renderOutput(dataTable, element);\n",
              "          const docLink = document.createElement('div');\n",
              "          docLink.innerHTML = docLinkHtml;\n",
              "          element.appendChild(docLink);\n",
              "        }\n",
              "      </script>\n",
              "    </div>\n",
              "  </div>\n",
              "  "
            ],
            "text/plain": [
              "              id   call_date  duration  user_id\n",
              "0         1000_0  2018-07-25       0.0     1000\n",
              "1         1000_1  2018-08-17       0.0     1000\n",
              "5         1000_5  2018-11-02       0.0     1000\n",
              "6         1000_6  2018-10-18       0.0     1000\n",
              "9         1000_9  2018-08-15       0.0     1000\n",
              "...          ...         ...       ...      ...\n",
              "202590  1499_203  2018-12-03       0.0     1499\n",
              "202592  1499_205  2018-10-13       0.0     1499\n",
              "202593  1499_206  2018-12-26       0.0     1499\n",
              "202594  1499_207  2018-10-28       0.0     1499\n",
              "202596  1499_209  2018-12-16       0.0     1499\n",
              "\n",
              "[39613 rows x 4 columns]"
            ]
          },
          "metadata": {},
          "execution_count": 10
        }
      ],
      "source": [
        "df_calls[df_calls['duration'] == 0]"
      ]
    },
    {
      "cell_type": "markdown",
      "metadata": {
        "id": "sf-wciyV7ArD"
      },
      "source": [
        "### Таблица internet"
      ]
    },
    {
      "cell_type": "code",
      "execution_count": null,
      "metadata": {
        "id": "X57BXPJhzUwM"
      },
      "outputs": [],
      "source": [
        "df_internet = pd.read_csv('/datasets/internet.csv', index_col=0) # читаем данные"
      ]
    },
    {
      "cell_type": "markdown",
      "metadata": {
        "id": "E7YbnFxI_3AW"
      },
      "source": [
        "Выведем информацию о таблице:"
      ]
    },
    {
      "cell_type": "code",
      "execution_count": null,
      "metadata": {
        "colab": {
          "base_uri": "https://localhost:8080/",
          "height": 206
        },
        "id": "uN5WkSR60ivM",
        "outputId": "b22ccad4-1625-45fb-cd44-2b021b2ecc8c"
      },
      "outputs": [
        {
          "output_type": "execute_result",
          "data": {
            "text/html": [
              "\n",
              "  <div id=\"df-c5e3ee09-7a4b-4f0c-9a04-dd3035a09762\">\n",
              "    <div class=\"colab-df-container\">\n",
              "      <div>\n",
              "<style scoped>\n",
              "    .dataframe tbody tr th:only-of-type {\n",
              "        vertical-align: middle;\n",
              "    }\n",
              "\n",
              "    .dataframe tbody tr th {\n",
              "        vertical-align: top;\n",
              "    }\n",
              "\n",
              "    .dataframe thead th {\n",
              "        text-align: right;\n",
              "    }\n",
              "</style>\n",
              "<table border=\"1\" class=\"dataframe\">\n",
              "  <thead>\n",
              "    <tr style=\"text-align: right;\">\n",
              "      <th></th>\n",
              "      <th>id</th>\n",
              "      <th>mb_used</th>\n",
              "      <th>session_date</th>\n",
              "      <th>user_id</th>\n",
              "    </tr>\n",
              "  </thead>\n",
              "  <tbody>\n",
              "    <tr>\n",
              "      <th>0</th>\n",
              "      <td>1000_0</td>\n",
              "      <td>112.95</td>\n",
              "      <td>2018-11-25</td>\n",
              "      <td>1000</td>\n",
              "    </tr>\n",
              "    <tr>\n",
              "      <th>1</th>\n",
              "      <td>1000_1</td>\n",
              "      <td>1052.81</td>\n",
              "      <td>2018-09-07</td>\n",
              "      <td>1000</td>\n",
              "    </tr>\n",
              "    <tr>\n",
              "      <th>2</th>\n",
              "      <td>1000_2</td>\n",
              "      <td>1197.26</td>\n",
              "      <td>2018-06-25</td>\n",
              "      <td>1000</td>\n",
              "    </tr>\n",
              "    <tr>\n",
              "      <th>3</th>\n",
              "      <td>1000_3</td>\n",
              "      <td>550.27</td>\n",
              "      <td>2018-08-22</td>\n",
              "      <td>1000</td>\n",
              "    </tr>\n",
              "    <tr>\n",
              "      <th>4</th>\n",
              "      <td>1000_4</td>\n",
              "      <td>302.56</td>\n",
              "      <td>2018-09-24</td>\n",
              "      <td>1000</td>\n",
              "    </tr>\n",
              "  </tbody>\n",
              "</table>\n",
              "</div>\n",
              "      <button class=\"colab-df-convert\" onclick=\"convertToInteractive('df-c5e3ee09-7a4b-4f0c-9a04-dd3035a09762')\"\n",
              "              title=\"Convert this dataframe to an interactive table.\"\n",
              "              style=\"display:none;\">\n",
              "        \n",
              "  <svg xmlns=\"http://www.w3.org/2000/svg\" height=\"24px\"viewBox=\"0 0 24 24\"\n",
              "       width=\"24px\">\n",
              "    <path d=\"M0 0h24v24H0V0z\" fill=\"none\"/>\n",
              "    <path d=\"M18.56 5.44l.94 2.06.94-2.06 2.06-.94-2.06-.94-.94-2.06-.94 2.06-2.06.94zm-11 1L8.5 8.5l.94-2.06 2.06-.94-2.06-.94L8.5 2.5l-.94 2.06-2.06.94zm10 10l.94 2.06.94-2.06 2.06-.94-2.06-.94-.94-2.06-.94 2.06-2.06.94z\"/><path d=\"M17.41 7.96l-1.37-1.37c-.4-.4-.92-.59-1.43-.59-.52 0-1.04.2-1.43.59L10.3 9.45l-7.72 7.72c-.78.78-.78 2.05 0 2.83L4 21.41c.39.39.9.59 1.41.59.51 0 1.02-.2 1.41-.59l7.78-7.78 2.81-2.81c.8-.78.8-2.07 0-2.86zM5.41 20L4 18.59l7.72-7.72 1.47 1.35L5.41 20z\"/>\n",
              "  </svg>\n",
              "      </button>\n",
              "      \n",
              "  <style>\n",
              "    .colab-df-container {\n",
              "      display:flex;\n",
              "      flex-wrap:wrap;\n",
              "      gap: 12px;\n",
              "    }\n",
              "\n",
              "    .colab-df-convert {\n",
              "      background-color: #E8F0FE;\n",
              "      border: none;\n",
              "      border-radius: 50%;\n",
              "      cursor: pointer;\n",
              "      display: none;\n",
              "      fill: #1967D2;\n",
              "      height: 32px;\n",
              "      padding: 0 0 0 0;\n",
              "      width: 32px;\n",
              "    }\n",
              "\n",
              "    .colab-df-convert:hover {\n",
              "      background-color: #E2EBFA;\n",
              "      box-shadow: 0px 1px 2px rgba(60, 64, 67, 0.3), 0px 1px 3px 1px rgba(60, 64, 67, 0.15);\n",
              "      fill: #174EA6;\n",
              "    }\n",
              "\n",
              "    [theme=dark] .colab-df-convert {\n",
              "      background-color: #3B4455;\n",
              "      fill: #D2E3FC;\n",
              "    }\n",
              "\n",
              "    [theme=dark] .colab-df-convert:hover {\n",
              "      background-color: #434B5C;\n",
              "      box-shadow: 0px 1px 3px 1px rgba(0, 0, 0, 0.15);\n",
              "      filter: drop-shadow(0px 1px 2px rgba(0, 0, 0, 0.3));\n",
              "      fill: #FFFFFF;\n",
              "    }\n",
              "  </style>\n",
              "\n",
              "      <script>\n",
              "        const buttonEl =\n",
              "          document.querySelector('#df-c5e3ee09-7a4b-4f0c-9a04-dd3035a09762 button.colab-df-convert');\n",
              "        buttonEl.style.display =\n",
              "          google.colab.kernel.accessAllowed ? 'block' : 'none';\n",
              "\n",
              "        async function convertToInteractive(key) {\n",
              "          const element = document.querySelector('#df-c5e3ee09-7a4b-4f0c-9a04-dd3035a09762');\n",
              "          const dataTable =\n",
              "            await google.colab.kernel.invokeFunction('convertToInteractive',\n",
              "                                                     [key], {});\n",
              "          if (!dataTable) return;\n",
              "\n",
              "          const docLinkHtml = 'Like what you see? Visit the ' +\n",
              "            '<a target=\"_blank\" href=https://colab.research.google.com/notebooks/data_table.ipynb>data table notebook</a>'\n",
              "            + ' to learn more about interactive tables.';\n",
              "          element.innerHTML = '';\n",
              "          dataTable['output_type'] = 'display_data';\n",
              "          await google.colab.output.renderOutput(dataTable, element);\n",
              "          const docLink = document.createElement('div');\n",
              "          docLink.innerHTML = docLinkHtml;\n",
              "          element.appendChild(docLink);\n",
              "        }\n",
              "      </script>\n",
              "    </div>\n",
              "  </div>\n",
              "  "
            ],
            "text/plain": [
              "       id  mb_used session_date  user_id\n",
              "0  1000_0   112.95   2018-11-25     1000\n",
              "1  1000_1  1052.81   2018-09-07     1000\n",
              "2  1000_2  1197.26   2018-06-25     1000\n",
              "3  1000_3   550.27   2018-08-22     1000\n",
              "4  1000_4   302.56   2018-09-24     1000"
            ]
          },
          "metadata": {},
          "execution_count": 12
        }
      ],
      "source": [
        "df_internet.head()"
      ]
    },
    {
      "cell_type": "markdown",
      "metadata": {
        "id": "mh0u0v_25zMC"
      },
      "source": [
        "**Описание данных**  \n",
        "\n",
        "\n",
        "Таблица `internet` (информация об интернет-сессиях):\n",
        "- `id` — уникальный номер сессии  \n",
        "- `mb_used` — объём потраченного за сессию интернет-трафика (в мегабайтах)  \n",
        "- `session_date` — дата интернет-сессии  \n",
        "- `user_id` — идентификатор пользователя"
      ]
    },
    {
      "cell_type": "code",
      "execution_count": null,
      "metadata": {
        "colab": {
          "base_uri": "https://localhost:8080/"
        },
        "id": "hW36rkjzAlzA",
        "outputId": "954e99c6-63b6-4fcf-e035-55c3f1a24ec6",
        "scrolled": false
      },
      "outputs": [
        {
          "output_type": "stream",
          "name": "stdout",
          "text": [
            "<class 'pandas.core.frame.DataFrame'>\n",
            "Int64Index: 149396 entries, 0 to 149395\n",
            "Data columns (total 4 columns):\n",
            " #   Column        Non-Null Count   Dtype  \n",
            "---  ------        --------------   -----  \n",
            " 0   id            149396 non-null  object \n",
            " 1   mb_used       149396 non-null  float64\n",
            " 2   session_date  149396 non-null  object \n",
            " 3   user_id       149396 non-null  int64  \n",
            "dtypes: float64(1), int64(1), object(2)\n",
            "memory usage: 5.7+ MB\n"
          ]
        }
      ],
      "source": [
        "df_internet.info()"
      ]
    },
    {
      "cell_type": "code",
      "execution_count": null,
      "metadata": {
        "colab": {
          "base_uri": "https://localhost:8080/",
          "height": 300
        },
        "id": "zT3Nf5vE8tbE",
        "outputId": "8f5ef762-7d23-46a6-ba9d-53b5eae1d4be"
      },
      "outputs": [
        {
          "output_type": "execute_result",
          "data": {
            "text/html": [
              "\n",
              "  <div id=\"df-6c064d04-6646-4b2d-abb0-fc553df5c61e\">\n",
              "    <div class=\"colab-df-container\">\n",
              "      <div>\n",
              "<style scoped>\n",
              "    .dataframe tbody tr th:only-of-type {\n",
              "        vertical-align: middle;\n",
              "    }\n",
              "\n",
              "    .dataframe tbody tr th {\n",
              "        vertical-align: top;\n",
              "    }\n",
              "\n",
              "    .dataframe thead th {\n",
              "        text-align: right;\n",
              "    }\n",
              "</style>\n",
              "<table border=\"1\" class=\"dataframe\">\n",
              "  <thead>\n",
              "    <tr style=\"text-align: right;\">\n",
              "      <th></th>\n",
              "      <th>mb_used</th>\n",
              "      <th>user_id</th>\n",
              "    </tr>\n",
              "  </thead>\n",
              "  <tbody>\n",
              "    <tr>\n",
              "      <th>count</th>\n",
              "      <td>149396.000000</td>\n",
              "      <td>149396.000000</td>\n",
              "    </tr>\n",
              "    <tr>\n",
              "      <th>mean</th>\n",
              "      <td>370.192426</td>\n",
              "      <td>1252.099842</td>\n",
              "    </tr>\n",
              "    <tr>\n",
              "      <th>std</th>\n",
              "      <td>278.300951</td>\n",
              "      <td>144.050823</td>\n",
              "    </tr>\n",
              "    <tr>\n",
              "      <th>min</th>\n",
              "      <td>0.000000</td>\n",
              "      <td>1000.000000</td>\n",
              "    </tr>\n",
              "    <tr>\n",
              "      <th>25%</th>\n",
              "      <td>138.187500</td>\n",
              "      <td>1130.000000</td>\n",
              "    </tr>\n",
              "    <tr>\n",
              "      <th>50%</th>\n",
              "      <td>348.015000</td>\n",
              "      <td>1251.000000</td>\n",
              "    </tr>\n",
              "    <tr>\n",
              "      <th>75%</th>\n",
              "      <td>559.552500</td>\n",
              "      <td>1380.000000</td>\n",
              "    </tr>\n",
              "    <tr>\n",
              "      <th>max</th>\n",
              "      <td>1724.830000</td>\n",
              "      <td>1499.000000</td>\n",
              "    </tr>\n",
              "  </tbody>\n",
              "</table>\n",
              "</div>\n",
              "      <button class=\"colab-df-convert\" onclick=\"convertToInteractive('df-6c064d04-6646-4b2d-abb0-fc553df5c61e')\"\n",
              "              title=\"Convert this dataframe to an interactive table.\"\n",
              "              style=\"display:none;\">\n",
              "        \n",
              "  <svg xmlns=\"http://www.w3.org/2000/svg\" height=\"24px\"viewBox=\"0 0 24 24\"\n",
              "       width=\"24px\">\n",
              "    <path d=\"M0 0h24v24H0V0z\" fill=\"none\"/>\n",
              "    <path d=\"M18.56 5.44l.94 2.06.94-2.06 2.06-.94-2.06-.94-.94-2.06-.94 2.06-2.06.94zm-11 1L8.5 8.5l.94-2.06 2.06-.94-2.06-.94L8.5 2.5l-.94 2.06-2.06.94zm10 10l.94 2.06.94-2.06 2.06-.94-2.06-.94-.94-2.06-.94 2.06-2.06.94z\"/><path d=\"M17.41 7.96l-1.37-1.37c-.4-.4-.92-.59-1.43-.59-.52 0-1.04.2-1.43.59L10.3 9.45l-7.72 7.72c-.78.78-.78 2.05 0 2.83L4 21.41c.39.39.9.59 1.41.59.51 0 1.02-.2 1.41-.59l7.78-7.78 2.81-2.81c.8-.78.8-2.07 0-2.86zM5.41 20L4 18.59l7.72-7.72 1.47 1.35L5.41 20z\"/>\n",
              "  </svg>\n",
              "      </button>\n",
              "      \n",
              "  <style>\n",
              "    .colab-df-container {\n",
              "      display:flex;\n",
              "      flex-wrap:wrap;\n",
              "      gap: 12px;\n",
              "    }\n",
              "\n",
              "    .colab-df-convert {\n",
              "      background-color: #E8F0FE;\n",
              "      border: none;\n",
              "      border-radius: 50%;\n",
              "      cursor: pointer;\n",
              "      display: none;\n",
              "      fill: #1967D2;\n",
              "      height: 32px;\n",
              "      padding: 0 0 0 0;\n",
              "      width: 32px;\n",
              "    }\n",
              "\n",
              "    .colab-df-convert:hover {\n",
              "      background-color: #E2EBFA;\n",
              "      box-shadow: 0px 1px 2px rgba(60, 64, 67, 0.3), 0px 1px 3px 1px rgba(60, 64, 67, 0.15);\n",
              "      fill: #174EA6;\n",
              "    }\n",
              "\n",
              "    [theme=dark] .colab-df-convert {\n",
              "      background-color: #3B4455;\n",
              "      fill: #D2E3FC;\n",
              "    }\n",
              "\n",
              "    [theme=dark] .colab-df-convert:hover {\n",
              "      background-color: #434B5C;\n",
              "      box-shadow: 0px 1px 3px 1px rgba(0, 0, 0, 0.15);\n",
              "      filter: drop-shadow(0px 1px 2px rgba(0, 0, 0, 0.3));\n",
              "      fill: #FFFFFF;\n",
              "    }\n",
              "  </style>\n",
              "\n",
              "      <script>\n",
              "        const buttonEl =\n",
              "          document.querySelector('#df-6c064d04-6646-4b2d-abb0-fc553df5c61e button.colab-df-convert');\n",
              "        buttonEl.style.display =\n",
              "          google.colab.kernel.accessAllowed ? 'block' : 'none';\n",
              "\n",
              "        async function convertToInteractive(key) {\n",
              "          const element = document.querySelector('#df-6c064d04-6646-4b2d-abb0-fc553df5c61e');\n",
              "          const dataTable =\n",
              "            await google.colab.kernel.invokeFunction('convertToInteractive',\n",
              "                                                     [key], {});\n",
              "          if (!dataTable) return;\n",
              "\n",
              "          const docLinkHtml = 'Like what you see? Visit the ' +\n",
              "            '<a target=\"_blank\" href=https://colab.research.google.com/notebooks/data_table.ipynb>data table notebook</a>'\n",
              "            + ' to learn more about interactive tables.';\n",
              "          element.innerHTML = '';\n",
              "          dataTable['output_type'] = 'display_data';\n",
              "          await google.colab.output.renderOutput(dataTable, element);\n",
              "          const docLink = document.createElement('div');\n",
              "          docLink.innerHTML = docLinkHtml;\n",
              "          element.appendChild(docLink);\n",
              "        }\n",
              "      </script>\n",
              "    </div>\n",
              "  </div>\n",
              "  "
            ],
            "text/plain": [
              "             mb_used        user_id\n",
              "count  149396.000000  149396.000000\n",
              "mean      370.192426    1252.099842\n",
              "std       278.300951     144.050823\n",
              "min         0.000000    1000.000000\n",
              "25%       138.187500    1130.000000\n",
              "50%       348.015000    1251.000000\n",
              "75%       559.552500    1380.000000\n",
              "max      1724.830000    1499.000000"
            ]
          },
          "metadata": {},
          "execution_count": 14
        }
      ],
      "source": [
        "df_internet.describe()"
      ]
    },
    {
      "cell_type": "code",
      "execution_count": null,
      "metadata": {
        "colab": {
          "base_uri": "https://localhost:8080/",
          "height": 424
        },
        "id": "724AFUUZ-GRk",
        "outputId": "7b2f4ddc-8fd5-4d50-a86a-b2c6c84173da"
      },
      "outputs": [
        {
          "output_type": "execute_result",
          "data": {
            "text/html": [
              "\n",
              "  <div id=\"df-d7e3efaa-5ee3-4bb2-a362-0639c9e97072\">\n",
              "    <div class=\"colab-df-container\">\n",
              "      <div>\n",
              "<style scoped>\n",
              "    .dataframe tbody tr th:only-of-type {\n",
              "        vertical-align: middle;\n",
              "    }\n",
              "\n",
              "    .dataframe tbody tr th {\n",
              "        vertical-align: top;\n",
              "    }\n",
              "\n",
              "    .dataframe thead th {\n",
              "        text-align: right;\n",
              "    }\n",
              "</style>\n",
              "<table border=\"1\" class=\"dataframe\">\n",
              "  <thead>\n",
              "    <tr style=\"text-align: right;\">\n",
              "      <th></th>\n",
              "      <th>id</th>\n",
              "      <th>mb_used</th>\n",
              "      <th>session_date</th>\n",
              "      <th>user_id</th>\n",
              "    </tr>\n",
              "  </thead>\n",
              "  <tbody>\n",
              "    <tr>\n",
              "      <th>11</th>\n",
              "      <td>1000_11</td>\n",
              "      <td>0.0</td>\n",
              "      <td>2018-08-28</td>\n",
              "      <td>1000</td>\n",
              "    </tr>\n",
              "    <tr>\n",
              "      <th>38</th>\n",
              "      <td>1000_38</td>\n",
              "      <td>0.0</td>\n",
              "      <td>2018-11-27</td>\n",
              "      <td>1000</td>\n",
              "    </tr>\n",
              "    <tr>\n",
              "      <th>46</th>\n",
              "      <td>1000_46</td>\n",
              "      <td>0.0</td>\n",
              "      <td>2018-06-30</td>\n",
              "      <td>1000</td>\n",
              "    </tr>\n",
              "    <tr>\n",
              "      <th>67</th>\n",
              "      <td>1000_67</td>\n",
              "      <td>0.0</td>\n",
              "      <td>2018-06-16</td>\n",
              "      <td>1000</td>\n",
              "    </tr>\n",
              "    <tr>\n",
              "      <th>72</th>\n",
              "      <td>1000_72</td>\n",
              "      <td>0.0</td>\n",
              "      <td>2018-06-15</td>\n",
              "      <td>1000</td>\n",
              "    </tr>\n",
              "    <tr>\n",
              "      <th>...</th>\n",
              "      <td>...</td>\n",
              "      <td>...</td>\n",
              "      <td>...</td>\n",
              "      <td>...</td>\n",
              "    </tr>\n",
              "    <tr>\n",
              "      <th>149380</th>\n",
              "      <td>1499_141</td>\n",
              "      <td>0.0</td>\n",
              "      <td>2018-12-11</td>\n",
              "      <td>1499</td>\n",
              "    </tr>\n",
              "    <tr>\n",
              "      <th>149381</th>\n",
              "      <td>1499_142</td>\n",
              "      <td>0.0</td>\n",
              "      <td>2018-11-01</td>\n",
              "      <td>1499</td>\n",
              "    </tr>\n",
              "    <tr>\n",
              "      <th>149383</th>\n",
              "      <td>1499_144</td>\n",
              "      <td>0.0</td>\n",
              "      <td>2018-11-27</td>\n",
              "      <td>1499</td>\n",
              "    </tr>\n",
              "    <tr>\n",
              "      <th>149386</th>\n",
              "      <td>1499_147</td>\n",
              "      <td>0.0</td>\n",
              "      <td>2018-10-21</td>\n",
              "      <td>1499</td>\n",
              "    </tr>\n",
              "    <tr>\n",
              "      <th>149393</th>\n",
              "      <td>1499_154</td>\n",
              "      <td>0.0</td>\n",
              "      <td>2018-10-27</td>\n",
              "      <td>1499</td>\n",
              "    </tr>\n",
              "  </tbody>\n",
              "</table>\n",
              "<p>19598 rows × 4 columns</p>\n",
              "</div>\n",
              "      <button class=\"colab-df-convert\" onclick=\"convertToInteractive('df-d7e3efaa-5ee3-4bb2-a362-0639c9e97072')\"\n",
              "              title=\"Convert this dataframe to an interactive table.\"\n",
              "              style=\"display:none;\">\n",
              "        \n",
              "  <svg xmlns=\"http://www.w3.org/2000/svg\" height=\"24px\"viewBox=\"0 0 24 24\"\n",
              "       width=\"24px\">\n",
              "    <path d=\"M0 0h24v24H0V0z\" fill=\"none\"/>\n",
              "    <path d=\"M18.56 5.44l.94 2.06.94-2.06 2.06-.94-2.06-.94-.94-2.06-.94 2.06-2.06.94zm-11 1L8.5 8.5l.94-2.06 2.06-.94-2.06-.94L8.5 2.5l-.94 2.06-2.06.94zm10 10l.94 2.06.94-2.06 2.06-.94-2.06-.94-.94-2.06-.94 2.06-2.06.94z\"/><path d=\"M17.41 7.96l-1.37-1.37c-.4-.4-.92-.59-1.43-.59-.52 0-1.04.2-1.43.59L10.3 9.45l-7.72 7.72c-.78.78-.78 2.05 0 2.83L4 21.41c.39.39.9.59 1.41.59.51 0 1.02-.2 1.41-.59l7.78-7.78 2.81-2.81c.8-.78.8-2.07 0-2.86zM5.41 20L4 18.59l7.72-7.72 1.47 1.35L5.41 20z\"/>\n",
              "  </svg>\n",
              "      </button>\n",
              "      \n",
              "  <style>\n",
              "    .colab-df-container {\n",
              "      display:flex;\n",
              "      flex-wrap:wrap;\n",
              "      gap: 12px;\n",
              "    }\n",
              "\n",
              "    .colab-df-convert {\n",
              "      background-color: #E8F0FE;\n",
              "      border: none;\n",
              "      border-radius: 50%;\n",
              "      cursor: pointer;\n",
              "      display: none;\n",
              "      fill: #1967D2;\n",
              "      height: 32px;\n",
              "      padding: 0 0 0 0;\n",
              "      width: 32px;\n",
              "    }\n",
              "\n",
              "    .colab-df-convert:hover {\n",
              "      background-color: #E2EBFA;\n",
              "      box-shadow: 0px 1px 2px rgba(60, 64, 67, 0.3), 0px 1px 3px 1px rgba(60, 64, 67, 0.15);\n",
              "      fill: #174EA6;\n",
              "    }\n",
              "\n",
              "    [theme=dark] .colab-df-convert {\n",
              "      background-color: #3B4455;\n",
              "      fill: #D2E3FC;\n",
              "    }\n",
              "\n",
              "    [theme=dark] .colab-df-convert:hover {\n",
              "      background-color: #434B5C;\n",
              "      box-shadow: 0px 1px 3px 1px rgba(0, 0, 0, 0.15);\n",
              "      filter: drop-shadow(0px 1px 2px rgba(0, 0, 0, 0.3));\n",
              "      fill: #FFFFFF;\n",
              "    }\n",
              "  </style>\n",
              "\n",
              "      <script>\n",
              "        const buttonEl =\n",
              "          document.querySelector('#df-d7e3efaa-5ee3-4bb2-a362-0639c9e97072 button.colab-df-convert');\n",
              "        buttonEl.style.display =\n",
              "          google.colab.kernel.accessAllowed ? 'block' : 'none';\n",
              "\n",
              "        async function convertToInteractive(key) {\n",
              "          const element = document.querySelector('#df-d7e3efaa-5ee3-4bb2-a362-0639c9e97072');\n",
              "          const dataTable =\n",
              "            await google.colab.kernel.invokeFunction('convertToInteractive',\n",
              "                                                     [key], {});\n",
              "          if (!dataTable) return;\n",
              "\n",
              "          const docLinkHtml = 'Like what you see? Visit the ' +\n",
              "            '<a target=\"_blank\" href=https://colab.research.google.com/notebooks/data_table.ipynb>data table notebook</a>'\n",
              "            + ' to learn more about interactive tables.';\n",
              "          element.innerHTML = '';\n",
              "          dataTable['output_type'] = 'display_data';\n",
              "          await google.colab.output.renderOutput(dataTable, element);\n",
              "          const docLink = document.createElement('div');\n",
              "          docLink.innerHTML = docLinkHtml;\n",
              "          element.appendChild(docLink);\n",
              "        }\n",
              "      </script>\n",
              "    </div>\n",
              "  </div>\n",
              "  "
            ],
            "text/plain": [
              "              id  mb_used session_date  user_id\n",
              "11       1000_11      0.0   2018-08-28     1000\n",
              "38       1000_38      0.0   2018-11-27     1000\n",
              "46       1000_46      0.0   2018-06-30     1000\n",
              "67       1000_67      0.0   2018-06-16     1000\n",
              "72       1000_72      0.0   2018-06-15     1000\n",
              "...          ...      ...          ...      ...\n",
              "149380  1499_141      0.0   2018-12-11     1499\n",
              "149381  1499_142      0.0   2018-11-01     1499\n",
              "149383  1499_144      0.0   2018-11-27     1499\n",
              "149386  1499_147      0.0   2018-10-21     1499\n",
              "149393  1499_154      0.0   2018-10-27     1499\n",
              "\n",
              "[19598 rows x 4 columns]"
            ]
          },
          "metadata": {},
          "execution_count": 15
        }
      ],
      "source": [
        "df_internet[df_internet['mb_used'] == 0]"
      ]
    },
    {
      "cell_type": "markdown",
      "metadata": {
        "id": "hGh7DoyhAOge"
      },
      "source": [
        "### Таблица messages"
      ]
    },
    {
      "cell_type": "code",
      "execution_count": null,
      "metadata": {
        "id": "bOLEVZk3zfVE"
      },
      "outputs": [],
      "source": [
        "df_messages = pd.read_csv('/datasets/messages.csv')"
      ]
    },
    {
      "cell_type": "markdown",
      "metadata": {
        "id": "Wq2iBVEPAV5E"
      },
      "source": [
        "Выведем информацию о таблице:"
      ]
    },
    {
      "cell_type": "code",
      "execution_count": null,
      "metadata": {
        "colab": {
          "base_uri": "https://localhost:8080/",
          "height": 206
        },
        "id": "KVr4tvCA0jB7",
        "outputId": "7fc11e62-ae78-4661-9213-aa554e291efe"
      },
      "outputs": [
        {
          "output_type": "execute_result",
          "data": {
            "text/html": [
              "\n",
              "  <div id=\"df-c17fdc49-12ae-4cca-9b82-8b52376d1ca9\">\n",
              "    <div class=\"colab-df-container\">\n",
              "      <div>\n",
              "<style scoped>\n",
              "    .dataframe tbody tr th:only-of-type {\n",
              "        vertical-align: middle;\n",
              "    }\n",
              "\n",
              "    .dataframe tbody tr th {\n",
              "        vertical-align: top;\n",
              "    }\n",
              "\n",
              "    .dataframe thead th {\n",
              "        text-align: right;\n",
              "    }\n",
              "</style>\n",
              "<table border=\"1\" class=\"dataframe\">\n",
              "  <thead>\n",
              "    <tr style=\"text-align: right;\">\n",
              "      <th></th>\n",
              "      <th>id</th>\n",
              "      <th>message_date</th>\n",
              "      <th>user_id</th>\n",
              "    </tr>\n",
              "  </thead>\n",
              "  <tbody>\n",
              "    <tr>\n",
              "      <th>0</th>\n",
              "      <td>1000_0</td>\n",
              "      <td>2018-06-27</td>\n",
              "      <td>1000</td>\n",
              "    </tr>\n",
              "    <tr>\n",
              "      <th>1</th>\n",
              "      <td>1000_1</td>\n",
              "      <td>2018-10-08</td>\n",
              "      <td>1000</td>\n",
              "    </tr>\n",
              "    <tr>\n",
              "      <th>2</th>\n",
              "      <td>1000_2</td>\n",
              "      <td>2018-08-04</td>\n",
              "      <td>1000</td>\n",
              "    </tr>\n",
              "    <tr>\n",
              "      <th>3</th>\n",
              "      <td>1000_3</td>\n",
              "      <td>2018-06-16</td>\n",
              "      <td>1000</td>\n",
              "    </tr>\n",
              "    <tr>\n",
              "      <th>4</th>\n",
              "      <td>1000_4</td>\n",
              "      <td>2018-12-05</td>\n",
              "      <td>1000</td>\n",
              "    </tr>\n",
              "  </tbody>\n",
              "</table>\n",
              "</div>\n",
              "      <button class=\"colab-df-convert\" onclick=\"convertToInteractive('df-c17fdc49-12ae-4cca-9b82-8b52376d1ca9')\"\n",
              "              title=\"Convert this dataframe to an interactive table.\"\n",
              "              style=\"display:none;\">\n",
              "        \n",
              "  <svg xmlns=\"http://www.w3.org/2000/svg\" height=\"24px\"viewBox=\"0 0 24 24\"\n",
              "       width=\"24px\">\n",
              "    <path d=\"M0 0h24v24H0V0z\" fill=\"none\"/>\n",
              "    <path d=\"M18.56 5.44l.94 2.06.94-2.06 2.06-.94-2.06-.94-.94-2.06-.94 2.06-2.06.94zm-11 1L8.5 8.5l.94-2.06 2.06-.94-2.06-.94L8.5 2.5l-.94 2.06-2.06.94zm10 10l.94 2.06.94-2.06 2.06-.94-2.06-.94-.94-2.06-.94 2.06-2.06.94z\"/><path d=\"M17.41 7.96l-1.37-1.37c-.4-.4-.92-.59-1.43-.59-.52 0-1.04.2-1.43.59L10.3 9.45l-7.72 7.72c-.78.78-.78 2.05 0 2.83L4 21.41c.39.39.9.59 1.41.59.51 0 1.02-.2 1.41-.59l7.78-7.78 2.81-2.81c.8-.78.8-2.07 0-2.86zM5.41 20L4 18.59l7.72-7.72 1.47 1.35L5.41 20z\"/>\n",
              "  </svg>\n",
              "      </button>\n",
              "      \n",
              "  <style>\n",
              "    .colab-df-container {\n",
              "      display:flex;\n",
              "      flex-wrap:wrap;\n",
              "      gap: 12px;\n",
              "    }\n",
              "\n",
              "    .colab-df-convert {\n",
              "      background-color: #E8F0FE;\n",
              "      border: none;\n",
              "      border-radius: 50%;\n",
              "      cursor: pointer;\n",
              "      display: none;\n",
              "      fill: #1967D2;\n",
              "      height: 32px;\n",
              "      padding: 0 0 0 0;\n",
              "      width: 32px;\n",
              "    }\n",
              "\n",
              "    .colab-df-convert:hover {\n",
              "      background-color: #E2EBFA;\n",
              "      box-shadow: 0px 1px 2px rgba(60, 64, 67, 0.3), 0px 1px 3px 1px rgba(60, 64, 67, 0.15);\n",
              "      fill: #174EA6;\n",
              "    }\n",
              "\n",
              "    [theme=dark] .colab-df-convert {\n",
              "      background-color: #3B4455;\n",
              "      fill: #D2E3FC;\n",
              "    }\n",
              "\n",
              "    [theme=dark] .colab-df-convert:hover {\n",
              "      background-color: #434B5C;\n",
              "      box-shadow: 0px 1px 3px 1px rgba(0, 0, 0, 0.15);\n",
              "      filter: drop-shadow(0px 1px 2px rgba(0, 0, 0, 0.3));\n",
              "      fill: #FFFFFF;\n",
              "    }\n",
              "  </style>\n",
              "\n",
              "      <script>\n",
              "        const buttonEl =\n",
              "          document.querySelector('#df-c17fdc49-12ae-4cca-9b82-8b52376d1ca9 button.colab-df-convert');\n",
              "        buttonEl.style.display =\n",
              "          google.colab.kernel.accessAllowed ? 'block' : 'none';\n",
              "\n",
              "        async function convertToInteractive(key) {\n",
              "          const element = document.querySelector('#df-c17fdc49-12ae-4cca-9b82-8b52376d1ca9');\n",
              "          const dataTable =\n",
              "            await google.colab.kernel.invokeFunction('convertToInteractive',\n",
              "                                                     [key], {});\n",
              "          if (!dataTable) return;\n",
              "\n",
              "          const docLinkHtml = 'Like what you see? Visit the ' +\n",
              "            '<a target=\"_blank\" href=https://colab.research.google.com/notebooks/data_table.ipynb>data table notebook</a>'\n",
              "            + ' to learn more about interactive tables.';\n",
              "          element.innerHTML = '';\n",
              "          dataTable['output_type'] = 'display_data';\n",
              "          await google.colab.output.renderOutput(dataTable, element);\n",
              "          const docLink = document.createElement('div');\n",
              "          docLink.innerHTML = docLinkHtml;\n",
              "          element.appendChild(docLink);\n",
              "        }\n",
              "      </script>\n",
              "    </div>\n",
              "  </div>\n",
              "  "
            ],
            "text/plain": [
              "       id message_date  user_id\n",
              "0  1000_0   2018-06-27     1000\n",
              "1  1000_1   2018-10-08     1000\n",
              "2  1000_2   2018-08-04     1000\n",
              "3  1000_3   2018-06-16     1000\n",
              "4  1000_4   2018-12-05     1000"
            ]
          },
          "metadata": {},
          "execution_count": 17
        }
      ],
      "source": [
        "df_messages.head()"
      ]
    },
    {
      "cell_type": "markdown",
      "metadata": {
        "id": "HvnzpaNdAGWA"
      },
      "source": [
        "Таблица `messages` (информация о сообщениях):  \n",
        "- `id` — уникальный номер сообщения  \n",
        "- `message_date` — дата сообщения  \n",
        "- `user_id` — идентификатор пользователя, отправившего сообщение  "
      ]
    },
    {
      "cell_type": "code",
      "execution_count": null,
      "metadata": {
        "colab": {
          "base_uri": "https://localhost:8080/"
        },
        "id": "rH0l9wA7AmdU",
        "outputId": "89276a18-09b9-4d11-9d36-19e2d94e12c9",
        "scrolled": false
      },
      "outputs": [
        {
          "output_type": "stream",
          "name": "stdout",
          "text": [
            "<class 'pandas.core.frame.DataFrame'>\n",
            "RangeIndex: 123036 entries, 0 to 123035\n",
            "Data columns (total 3 columns):\n",
            " #   Column        Non-Null Count   Dtype \n",
            "---  ------        --------------   ----- \n",
            " 0   id            123036 non-null  object\n",
            " 1   message_date  123036 non-null  object\n",
            " 2   user_id       123036 non-null  int64 \n",
            "dtypes: int64(1), object(2)\n",
            "memory usage: 2.8+ MB\n"
          ]
        }
      ],
      "source": [
        "df_messages.info()"
      ]
    },
    {
      "cell_type": "markdown",
      "metadata": {
        "id": "SyVpGaV47ERC"
      },
      "source": [
        "### Таблица tariffs"
      ]
    },
    {
      "cell_type": "code",
      "execution_count": null,
      "metadata": {
        "id": "VlJqZEBlzjRb"
      },
      "outputs": [],
      "source": [
        "df_tariffs = pd.read_csv('/datasets/tariffs.csv') # читаем данные"
      ]
    },
    {
      "cell_type": "markdown",
      "metadata": {
        "id": "13lVLxpz_486"
      },
      "source": [
        "Выведем информацию о таблице:"
      ]
    },
    {
      "cell_type": "code",
      "execution_count": null,
      "metadata": {
        "colab": {
          "base_uri": "https://localhost:8080/",
          "height": 112
        },
        "id": "8sbsoi800jSa",
        "outputId": "6f2730a2-8a86-4c99-98ba-4e68cced8946"
      },
      "outputs": [
        {
          "output_type": "execute_result",
          "data": {
            "text/html": [
              "\n",
              "  <div id=\"df-0ddac934-f628-4c5c-b2a3-c692c7b27ff2\">\n",
              "    <div class=\"colab-df-container\">\n",
              "      <div>\n",
              "<style scoped>\n",
              "    .dataframe tbody tr th:only-of-type {\n",
              "        vertical-align: middle;\n",
              "    }\n",
              "\n",
              "    .dataframe tbody tr th {\n",
              "        vertical-align: top;\n",
              "    }\n",
              "\n",
              "    .dataframe thead th {\n",
              "        text-align: right;\n",
              "    }\n",
              "</style>\n",
              "<table border=\"1\" class=\"dataframe\">\n",
              "  <thead>\n",
              "    <tr style=\"text-align: right;\">\n",
              "      <th></th>\n",
              "      <th>messages_included</th>\n",
              "      <th>mb_per_month_included</th>\n",
              "      <th>minutes_included</th>\n",
              "      <th>rub_monthly_fee</th>\n",
              "      <th>rub_per_gb</th>\n",
              "      <th>rub_per_message</th>\n",
              "      <th>rub_per_minute</th>\n",
              "      <th>tariff_name</th>\n",
              "    </tr>\n",
              "  </thead>\n",
              "  <tbody>\n",
              "    <tr>\n",
              "      <th>0</th>\n",
              "      <td>50</td>\n",
              "      <td>15360</td>\n",
              "      <td>500</td>\n",
              "      <td>550</td>\n",
              "      <td>200</td>\n",
              "      <td>3</td>\n",
              "      <td>3</td>\n",
              "      <td>smart</td>\n",
              "    </tr>\n",
              "    <tr>\n",
              "      <th>1</th>\n",
              "      <td>1000</td>\n",
              "      <td>30720</td>\n",
              "      <td>3000</td>\n",
              "      <td>1950</td>\n",
              "      <td>150</td>\n",
              "      <td>1</td>\n",
              "      <td>1</td>\n",
              "      <td>ultra</td>\n",
              "    </tr>\n",
              "  </tbody>\n",
              "</table>\n",
              "</div>\n",
              "      <button class=\"colab-df-convert\" onclick=\"convertToInteractive('df-0ddac934-f628-4c5c-b2a3-c692c7b27ff2')\"\n",
              "              title=\"Convert this dataframe to an interactive table.\"\n",
              "              style=\"display:none;\">\n",
              "        \n",
              "  <svg xmlns=\"http://www.w3.org/2000/svg\" height=\"24px\"viewBox=\"0 0 24 24\"\n",
              "       width=\"24px\">\n",
              "    <path d=\"M0 0h24v24H0V0z\" fill=\"none\"/>\n",
              "    <path d=\"M18.56 5.44l.94 2.06.94-2.06 2.06-.94-2.06-.94-.94-2.06-.94 2.06-2.06.94zm-11 1L8.5 8.5l.94-2.06 2.06-.94-2.06-.94L8.5 2.5l-.94 2.06-2.06.94zm10 10l.94 2.06.94-2.06 2.06-.94-2.06-.94-.94-2.06-.94 2.06-2.06.94z\"/><path d=\"M17.41 7.96l-1.37-1.37c-.4-.4-.92-.59-1.43-.59-.52 0-1.04.2-1.43.59L10.3 9.45l-7.72 7.72c-.78.78-.78 2.05 0 2.83L4 21.41c.39.39.9.59 1.41.59.51 0 1.02-.2 1.41-.59l7.78-7.78 2.81-2.81c.8-.78.8-2.07 0-2.86zM5.41 20L4 18.59l7.72-7.72 1.47 1.35L5.41 20z\"/>\n",
              "  </svg>\n",
              "      </button>\n",
              "      \n",
              "  <style>\n",
              "    .colab-df-container {\n",
              "      display:flex;\n",
              "      flex-wrap:wrap;\n",
              "      gap: 12px;\n",
              "    }\n",
              "\n",
              "    .colab-df-convert {\n",
              "      background-color: #E8F0FE;\n",
              "      border: none;\n",
              "      border-radius: 50%;\n",
              "      cursor: pointer;\n",
              "      display: none;\n",
              "      fill: #1967D2;\n",
              "      height: 32px;\n",
              "      padding: 0 0 0 0;\n",
              "      width: 32px;\n",
              "    }\n",
              "\n",
              "    .colab-df-convert:hover {\n",
              "      background-color: #E2EBFA;\n",
              "      box-shadow: 0px 1px 2px rgba(60, 64, 67, 0.3), 0px 1px 3px 1px rgba(60, 64, 67, 0.15);\n",
              "      fill: #174EA6;\n",
              "    }\n",
              "\n",
              "    [theme=dark] .colab-df-convert {\n",
              "      background-color: #3B4455;\n",
              "      fill: #D2E3FC;\n",
              "    }\n",
              "\n",
              "    [theme=dark] .colab-df-convert:hover {\n",
              "      background-color: #434B5C;\n",
              "      box-shadow: 0px 1px 3px 1px rgba(0, 0, 0, 0.15);\n",
              "      filter: drop-shadow(0px 1px 2px rgba(0, 0, 0, 0.3));\n",
              "      fill: #FFFFFF;\n",
              "    }\n",
              "  </style>\n",
              "\n",
              "      <script>\n",
              "        const buttonEl =\n",
              "          document.querySelector('#df-0ddac934-f628-4c5c-b2a3-c692c7b27ff2 button.colab-df-convert');\n",
              "        buttonEl.style.display =\n",
              "          google.colab.kernel.accessAllowed ? 'block' : 'none';\n",
              "\n",
              "        async function convertToInteractive(key) {\n",
              "          const element = document.querySelector('#df-0ddac934-f628-4c5c-b2a3-c692c7b27ff2');\n",
              "          const dataTable =\n",
              "            await google.colab.kernel.invokeFunction('convertToInteractive',\n",
              "                                                     [key], {});\n",
              "          if (!dataTable) return;\n",
              "\n",
              "          const docLinkHtml = 'Like what you see? Visit the ' +\n",
              "            '<a target=\"_blank\" href=https://colab.research.google.com/notebooks/data_table.ipynb>data table notebook</a>'\n",
              "            + ' to learn more about interactive tables.';\n",
              "          element.innerHTML = '';\n",
              "          dataTable['output_type'] = 'display_data';\n",
              "          await google.colab.output.renderOutput(dataTable, element);\n",
              "          const docLink = document.createElement('div');\n",
              "          docLink.innerHTML = docLinkHtml;\n",
              "          element.appendChild(docLink);\n",
              "        }\n",
              "      </script>\n",
              "    </div>\n",
              "  </div>\n",
              "  "
            ],
            "text/plain": [
              "   messages_included  mb_per_month_included  ...  rub_per_minute  tariff_name\n",
              "0                 50                  15360  ...               3        smart\n",
              "1               1000                  30720  ...               1        ultra\n",
              "\n",
              "[2 rows x 8 columns]"
            ]
          },
          "metadata": {},
          "execution_count": 20
        }
      ],
      "source": [
        "df_tariffs"
      ]
    },
    {
      "cell_type": "markdown",
      "metadata": {
        "id": "_8NEw9SZ6Mvz"
      },
      "source": [
        "**Описание данных**  \n",
        "\n",
        "Таблица `tariffs` (информация о тарифах):\n",
        "- `tariff_name` — название тарифа  \n",
        "- `rub_monthly_fee` — ежемесячная абонентская плата в рублях  \n",
        "- `minutes_included` — количество минут разговора в месяц, включённых в абонентскую плату  \n",
        "- `messages_included` — количество сообщений в месяц, включённых в абонентскую плату  \n",
        "- `mb_per_month_included` — объём интернет-трафика, включённого в абонентскую плату (в мегабайтах)  \n",
        "- `rub_per_minute` — стоимость минуты разговора сверх тарифного пакета (например, если в тарифе 100 минут разговора в месяц, то со 101 минуты будет взиматься плата)  \n",
        "- `rub_per_message` — стоимость отправки сообщения сверх тарифного пакета  \n",
        "- `rub_per_gb` — стоимость дополнительного гигабайта интернет-трафика сверх тарифного пакета (1 гигабайт = 1024 мегабайта)"
      ]
    },
    {
      "cell_type": "code",
      "execution_count": null,
      "metadata": {
        "colab": {
          "base_uri": "https://localhost:8080/"
        },
        "id": "mKJkjakIAnHs",
        "outputId": "cb758e3b-e58d-46a2-e8d9-04b6a8fadc32",
        "scrolled": false
      },
      "outputs": [
        {
          "output_type": "stream",
          "name": "stdout",
          "text": [
            "<class 'pandas.core.frame.DataFrame'>\n",
            "RangeIndex: 2 entries, 0 to 1\n",
            "Data columns (total 8 columns):\n",
            " #   Column                 Non-Null Count  Dtype \n",
            "---  ------                 --------------  ----- \n",
            " 0   messages_included      2 non-null      int64 \n",
            " 1   mb_per_month_included  2 non-null      int64 \n",
            " 2   minutes_included       2 non-null      int64 \n",
            " 3   rub_monthly_fee        2 non-null      int64 \n",
            " 4   rub_per_gb             2 non-null      int64 \n",
            " 5   rub_per_message        2 non-null      int64 \n",
            " 6   rub_per_minute         2 non-null      int64 \n",
            " 7   tariff_name            2 non-null      object\n",
            "dtypes: int64(7), object(1)\n",
            "memory usage: 256.0+ bytes\n"
          ]
        }
      ],
      "source": [
        "df_tariffs.info()"
      ]
    },
    {
      "cell_type": "markdown",
      "metadata": {
        "id": "U8X-aK947F-x"
      },
      "source": [
        "### Вывод"
      ]
    },
    {
      "cell_type": "markdown",
      "metadata": {
        "id": "Qdi1TQG47H-l"
      },
      "source": [
        "При изучении общей информации, стоит отметить:  \n",
        "- даные достаточно корретные, явных выбросов и анамалий не замечено;\n",
        "- признаки с датой требуется привести к формату даты;\n",
        "- имеются пропущенные значения в таблице `users` в колонке `churn_date`, что означет, пользователь еще пользуется тарифом; \n",
        "- в таблицах `calls` и `internet` имеются нулевые значения в продолжительности разговора и использовании интернет-трафика, что может соответстовать пропущенным звонкам, либо пользователь набрал и сбросил, так и трафик, предполжительно менее 0.04 МБ;\n",
        "- признаки продолжительность вызова и использования интернет-трафика требуется округлить согласно правилам оператор."
      ]
    },
    {
      "cell_type": "markdown",
      "metadata": {
        "id": "fV4e2IutBZcd"
      },
      "source": [
        "## **Шаг 2.** Предобработка данных"
      ]
    },
    {
      "cell_type": "markdown",
      "metadata": {
        "id": "hmdOuKGeCWyO"
      },
      "source": [
        "### Замена типов данных"
      ]
    },
    {
      "cell_type": "markdown",
      "metadata": {
        "id": "W7luoWsjDK02"
      },
      "source": [
        "Приведем данные в колонках с датами наших данных к формату даты:"
      ]
    },
    {
      "cell_type": "code",
      "execution_count": null,
      "metadata": {
        "id": "SfmRJZ7tCE1U"
      },
      "outputs": [],
      "source": [
        "df_calls['call_date'] = pd.to_datetime(df_calls['call_date'], format='%Y-%m-%d')\n",
        "df_messages['message_date'] = pd.to_datetime(df_messages['message_date'], format='%Y-%m-%d')\n",
        "df_internet['session_date'] = pd.to_datetime(df_internet['session_date'], format='%Y-%m-%d')\n",
        "df_users['churn_date'] = pd.to_datetime(df_users['churn_date'], format='%Y-%m-%d')\n",
        "df_users['reg_date'] = pd.to_datetime(df_users['reg_date'], format='%Y-%m-%d')"
      ]
    },
    {
      "cell_type": "markdown",
      "metadata": {
        "id": "YENl9SWhBs3N"
      },
      "source": [
        "### Расчет количества сделанных звонков и израсходованных минут разговора по месяцам"
      ]
    },
    {
      "cell_type": "code",
      "execution_count": null,
      "metadata": {
        "colab": {
          "base_uri": "https://localhost:8080/",
          "height": 206
        },
        "id": "6V1PamtlMtn9",
        "outputId": "404b0a01-7c10-4733-9190-2488586c82d6"
      },
      "outputs": [
        {
          "output_type": "execute_result",
          "data": {
            "text/html": [
              "\n",
              "  <div id=\"df-ef4db670-c981-42b3-9ef2-1feca500d47e\">\n",
              "    <div class=\"colab-df-container\">\n",
              "      <div>\n",
              "<style scoped>\n",
              "    .dataframe tbody tr th:only-of-type {\n",
              "        vertical-align: middle;\n",
              "    }\n",
              "\n",
              "    .dataframe tbody tr th {\n",
              "        vertical-align: top;\n",
              "    }\n",
              "\n",
              "    .dataframe thead th {\n",
              "        text-align: right;\n",
              "    }\n",
              "</style>\n",
              "<table border=\"1\" class=\"dataframe\">\n",
              "  <thead>\n",
              "    <tr style=\"text-align: right;\">\n",
              "      <th></th>\n",
              "      <th>id</th>\n",
              "      <th>call_date</th>\n",
              "      <th>duration</th>\n",
              "      <th>user_id</th>\n",
              "    </tr>\n",
              "  </thead>\n",
              "  <tbody>\n",
              "    <tr>\n",
              "      <th>0</th>\n",
              "      <td>1000_0</td>\n",
              "      <td>2018-07-25</td>\n",
              "      <td>0.00</td>\n",
              "      <td>1000</td>\n",
              "    </tr>\n",
              "    <tr>\n",
              "      <th>1</th>\n",
              "      <td>1000_1</td>\n",
              "      <td>2018-08-17</td>\n",
              "      <td>0.00</td>\n",
              "      <td>1000</td>\n",
              "    </tr>\n",
              "    <tr>\n",
              "      <th>2</th>\n",
              "      <td>1000_2</td>\n",
              "      <td>2018-06-11</td>\n",
              "      <td>2.85</td>\n",
              "      <td>1000</td>\n",
              "    </tr>\n",
              "    <tr>\n",
              "      <th>3</th>\n",
              "      <td>1000_3</td>\n",
              "      <td>2018-09-21</td>\n",
              "      <td>13.80</td>\n",
              "      <td>1000</td>\n",
              "    </tr>\n",
              "    <tr>\n",
              "      <th>4</th>\n",
              "      <td>1000_4</td>\n",
              "      <td>2018-12-15</td>\n",
              "      <td>5.18</td>\n",
              "      <td>1000</td>\n",
              "    </tr>\n",
              "  </tbody>\n",
              "</table>\n",
              "</div>\n",
              "      <button class=\"colab-df-convert\" onclick=\"convertToInteractive('df-ef4db670-c981-42b3-9ef2-1feca500d47e')\"\n",
              "              title=\"Convert this dataframe to an interactive table.\"\n",
              "              style=\"display:none;\">\n",
              "        \n",
              "  <svg xmlns=\"http://www.w3.org/2000/svg\" height=\"24px\"viewBox=\"0 0 24 24\"\n",
              "       width=\"24px\">\n",
              "    <path d=\"M0 0h24v24H0V0z\" fill=\"none\"/>\n",
              "    <path d=\"M18.56 5.44l.94 2.06.94-2.06 2.06-.94-2.06-.94-.94-2.06-.94 2.06-2.06.94zm-11 1L8.5 8.5l.94-2.06 2.06-.94-2.06-.94L8.5 2.5l-.94 2.06-2.06.94zm10 10l.94 2.06.94-2.06 2.06-.94-2.06-.94-.94-2.06-.94 2.06-2.06.94z\"/><path d=\"M17.41 7.96l-1.37-1.37c-.4-.4-.92-.59-1.43-.59-.52 0-1.04.2-1.43.59L10.3 9.45l-7.72 7.72c-.78.78-.78 2.05 0 2.83L4 21.41c.39.39.9.59 1.41.59.51 0 1.02-.2 1.41-.59l7.78-7.78 2.81-2.81c.8-.78.8-2.07 0-2.86zM5.41 20L4 18.59l7.72-7.72 1.47 1.35L5.41 20z\"/>\n",
              "  </svg>\n",
              "      </button>\n",
              "      \n",
              "  <style>\n",
              "    .colab-df-container {\n",
              "      display:flex;\n",
              "      flex-wrap:wrap;\n",
              "      gap: 12px;\n",
              "    }\n",
              "\n",
              "    .colab-df-convert {\n",
              "      background-color: #E8F0FE;\n",
              "      border: none;\n",
              "      border-radius: 50%;\n",
              "      cursor: pointer;\n",
              "      display: none;\n",
              "      fill: #1967D2;\n",
              "      height: 32px;\n",
              "      padding: 0 0 0 0;\n",
              "      width: 32px;\n",
              "    }\n",
              "\n",
              "    .colab-df-convert:hover {\n",
              "      background-color: #E2EBFA;\n",
              "      box-shadow: 0px 1px 2px rgba(60, 64, 67, 0.3), 0px 1px 3px 1px rgba(60, 64, 67, 0.15);\n",
              "      fill: #174EA6;\n",
              "    }\n",
              "\n",
              "    [theme=dark] .colab-df-convert {\n",
              "      background-color: #3B4455;\n",
              "      fill: #D2E3FC;\n",
              "    }\n",
              "\n",
              "    [theme=dark] .colab-df-convert:hover {\n",
              "      background-color: #434B5C;\n",
              "      box-shadow: 0px 1px 3px 1px rgba(0, 0, 0, 0.15);\n",
              "      filter: drop-shadow(0px 1px 2px rgba(0, 0, 0, 0.3));\n",
              "      fill: #FFFFFF;\n",
              "    }\n",
              "  </style>\n",
              "\n",
              "      <script>\n",
              "        const buttonEl =\n",
              "          document.querySelector('#df-ef4db670-c981-42b3-9ef2-1feca500d47e button.colab-df-convert');\n",
              "        buttonEl.style.display =\n",
              "          google.colab.kernel.accessAllowed ? 'block' : 'none';\n",
              "\n",
              "        async function convertToInteractive(key) {\n",
              "          const element = document.querySelector('#df-ef4db670-c981-42b3-9ef2-1feca500d47e');\n",
              "          const dataTable =\n",
              "            await google.colab.kernel.invokeFunction('convertToInteractive',\n",
              "                                                     [key], {});\n",
              "          if (!dataTable) return;\n",
              "\n",
              "          const docLinkHtml = 'Like what you see? Visit the ' +\n",
              "            '<a target=\"_blank\" href=https://colab.research.google.com/notebooks/data_table.ipynb>data table notebook</a>'\n",
              "            + ' to learn more about interactive tables.';\n",
              "          element.innerHTML = '';\n",
              "          dataTable['output_type'] = 'display_data';\n",
              "          await google.colab.output.renderOutput(dataTable, element);\n",
              "          const docLink = document.createElement('div');\n",
              "          docLink.innerHTML = docLinkHtml;\n",
              "          element.appendChild(docLink);\n",
              "        }\n",
              "      </script>\n",
              "    </div>\n",
              "  </div>\n",
              "  "
            ],
            "text/plain": [
              "       id  call_date  duration  user_id\n",
              "0  1000_0 2018-07-25      0.00     1000\n",
              "1  1000_1 2018-08-17      0.00     1000\n",
              "2  1000_2 2018-06-11      2.85     1000\n",
              "3  1000_3 2018-09-21     13.80     1000\n",
              "4  1000_4 2018-12-15      5.18     1000"
            ]
          },
          "metadata": {},
          "execution_count": 23
        }
      ],
      "source": [
        "df_calls.head()"
      ]
    },
    {
      "cell_type": "markdown",
      "metadata": {
        "id": "sM1TMQwBNrY3"
      },
      "source": [
        "Исходя из условий округлим минуты в большую сторону, а также приведет к типу целочисленных данных:"
      ]
    },
    {
      "cell_type": "code",
      "execution_count": null,
      "metadata": {
        "id": "v2L4dIcgDcAX"
      },
      "outputs": [],
      "source": [
        "df_calls['duration'] = df_calls['duration'].apply(np.ceil).astype('int')"
      ]
    },
    {
      "cell_type": "markdown",
      "metadata": {
        "id": "i_apn9__EOwd"
      },
      "source": [
        "Создадим колонку с месяцем, она потребуется для группировки, в том числе расчета помесячной выручки:"
      ]
    },
    {
      "cell_type": "code",
      "execution_count": null,
      "metadata": {
        "id": "rY19S0YVFIBY"
      },
      "outputs": [],
      "source": [
        "df_calls['month'] = df_calls['call_date'].dt.month"
      ]
    },
    {
      "cell_type": "markdown",
      "metadata": {
        "id": "4wWa_0cjEk98"
      },
      "source": [
        "Создадим свободную таблицу с количеством сделанных звонком и израсходованных минут, и выведем ее на экран:"
      ]
    },
    {
      "cell_type": "code",
      "execution_count": null,
      "metadata": {
        "id": "xb_uNzFkFQUI"
      },
      "outputs": [],
      "source": [
        "df_calls_month = df_calls.groupby(['user_id', 'month'])['duration'].agg(['count', 'sum']).reset_index().rename(columns = {'sum': 'minutes', 'count': 'call_number'})"
      ]
    },
    {
      "cell_type": "code",
      "execution_count": null,
      "metadata": {
        "colab": {
          "base_uri": "https://localhost:8080/",
          "height": 206
        },
        "id": "7HtIuTZJHdeV",
        "outputId": "67b85773-67f3-4a6a-cb42-ba4993da1055"
      },
      "outputs": [
        {
          "output_type": "execute_result",
          "data": {
            "text/html": [
              "\n",
              "  <div id=\"df-20e6f101-48ad-4b25-b171-858e716f87cf\">\n",
              "    <div class=\"colab-df-container\">\n",
              "      <div>\n",
              "<style scoped>\n",
              "    .dataframe tbody tr th:only-of-type {\n",
              "        vertical-align: middle;\n",
              "    }\n",
              "\n",
              "    .dataframe tbody tr th {\n",
              "        vertical-align: top;\n",
              "    }\n",
              "\n",
              "    .dataframe thead th {\n",
              "        text-align: right;\n",
              "    }\n",
              "</style>\n",
              "<table border=\"1\" class=\"dataframe\">\n",
              "  <thead>\n",
              "    <tr style=\"text-align: right;\">\n",
              "      <th></th>\n",
              "      <th>user_id</th>\n",
              "      <th>month</th>\n",
              "      <th>call_number</th>\n",
              "      <th>minutes</th>\n",
              "    </tr>\n",
              "  </thead>\n",
              "  <tbody>\n",
              "    <tr>\n",
              "      <th>0</th>\n",
              "      <td>1000</td>\n",
              "      <td>5</td>\n",
              "      <td>22</td>\n",
              "      <td>159</td>\n",
              "    </tr>\n",
              "    <tr>\n",
              "      <th>1</th>\n",
              "      <td>1000</td>\n",
              "      <td>6</td>\n",
              "      <td>43</td>\n",
              "      <td>172</td>\n",
              "    </tr>\n",
              "    <tr>\n",
              "      <th>2</th>\n",
              "      <td>1000</td>\n",
              "      <td>7</td>\n",
              "      <td>47</td>\n",
              "      <td>340</td>\n",
              "    </tr>\n",
              "    <tr>\n",
              "      <th>3</th>\n",
              "      <td>1000</td>\n",
              "      <td>8</td>\n",
              "      <td>52</td>\n",
              "      <td>408</td>\n",
              "    </tr>\n",
              "    <tr>\n",
              "      <th>4</th>\n",
              "      <td>1000</td>\n",
              "      <td>9</td>\n",
              "      <td>58</td>\n",
              "      <td>466</td>\n",
              "    </tr>\n",
              "  </tbody>\n",
              "</table>\n",
              "</div>\n",
              "      <button class=\"colab-df-convert\" onclick=\"convertToInteractive('df-20e6f101-48ad-4b25-b171-858e716f87cf')\"\n",
              "              title=\"Convert this dataframe to an interactive table.\"\n",
              "              style=\"display:none;\">\n",
              "        \n",
              "  <svg xmlns=\"http://www.w3.org/2000/svg\" height=\"24px\"viewBox=\"0 0 24 24\"\n",
              "       width=\"24px\">\n",
              "    <path d=\"M0 0h24v24H0V0z\" fill=\"none\"/>\n",
              "    <path d=\"M18.56 5.44l.94 2.06.94-2.06 2.06-.94-2.06-.94-.94-2.06-.94 2.06-2.06.94zm-11 1L8.5 8.5l.94-2.06 2.06-.94-2.06-.94L8.5 2.5l-.94 2.06-2.06.94zm10 10l.94 2.06.94-2.06 2.06-.94-2.06-.94-.94-2.06-.94 2.06-2.06.94z\"/><path d=\"M17.41 7.96l-1.37-1.37c-.4-.4-.92-.59-1.43-.59-.52 0-1.04.2-1.43.59L10.3 9.45l-7.72 7.72c-.78.78-.78 2.05 0 2.83L4 21.41c.39.39.9.59 1.41.59.51 0 1.02-.2 1.41-.59l7.78-7.78 2.81-2.81c.8-.78.8-2.07 0-2.86zM5.41 20L4 18.59l7.72-7.72 1.47 1.35L5.41 20z\"/>\n",
              "  </svg>\n",
              "      </button>\n",
              "      \n",
              "  <style>\n",
              "    .colab-df-container {\n",
              "      display:flex;\n",
              "      flex-wrap:wrap;\n",
              "      gap: 12px;\n",
              "    }\n",
              "\n",
              "    .colab-df-convert {\n",
              "      background-color: #E8F0FE;\n",
              "      border: none;\n",
              "      border-radius: 50%;\n",
              "      cursor: pointer;\n",
              "      display: none;\n",
              "      fill: #1967D2;\n",
              "      height: 32px;\n",
              "      padding: 0 0 0 0;\n",
              "      width: 32px;\n",
              "    }\n",
              "\n",
              "    .colab-df-convert:hover {\n",
              "      background-color: #E2EBFA;\n",
              "      box-shadow: 0px 1px 2px rgba(60, 64, 67, 0.3), 0px 1px 3px 1px rgba(60, 64, 67, 0.15);\n",
              "      fill: #174EA6;\n",
              "    }\n",
              "\n",
              "    [theme=dark] .colab-df-convert {\n",
              "      background-color: #3B4455;\n",
              "      fill: #D2E3FC;\n",
              "    }\n",
              "\n",
              "    [theme=dark] .colab-df-convert:hover {\n",
              "      background-color: #434B5C;\n",
              "      box-shadow: 0px 1px 3px 1px rgba(0, 0, 0, 0.15);\n",
              "      filter: drop-shadow(0px 1px 2px rgba(0, 0, 0, 0.3));\n",
              "      fill: #FFFFFF;\n",
              "    }\n",
              "  </style>\n",
              "\n",
              "      <script>\n",
              "        const buttonEl =\n",
              "          document.querySelector('#df-20e6f101-48ad-4b25-b171-858e716f87cf button.colab-df-convert');\n",
              "        buttonEl.style.display =\n",
              "          google.colab.kernel.accessAllowed ? 'block' : 'none';\n",
              "\n",
              "        async function convertToInteractive(key) {\n",
              "          const element = document.querySelector('#df-20e6f101-48ad-4b25-b171-858e716f87cf');\n",
              "          const dataTable =\n",
              "            await google.colab.kernel.invokeFunction('convertToInteractive',\n",
              "                                                     [key], {});\n",
              "          if (!dataTable) return;\n",
              "\n",
              "          const docLinkHtml = 'Like what you see? Visit the ' +\n",
              "            '<a target=\"_blank\" href=https://colab.research.google.com/notebooks/data_table.ipynb>data table notebook</a>'\n",
              "            + ' to learn more about interactive tables.';\n",
              "          element.innerHTML = '';\n",
              "          dataTable['output_type'] = 'display_data';\n",
              "          await google.colab.output.renderOutput(dataTable, element);\n",
              "          const docLink = document.createElement('div');\n",
              "          docLink.innerHTML = docLinkHtml;\n",
              "          element.appendChild(docLink);\n",
              "        }\n",
              "      </script>\n",
              "    </div>\n",
              "  </div>\n",
              "  "
            ],
            "text/plain": [
              "   user_id  month  call_number  minutes\n",
              "0     1000      5           22      159\n",
              "1     1000      6           43      172\n",
              "2     1000      7           47      340\n",
              "3     1000      8           52      408\n",
              "4     1000      9           58      466"
            ]
          },
          "metadata": {},
          "execution_count": 27
        }
      ],
      "source": [
        "df_calls_month.head()"
      ]
    },
    {
      "cell_type": "markdown",
      "metadata": {
        "id": "SRtEzHNbHd29"
      },
      "source": [
        "### Рассчет количества отправленных сообщений по месяцам"
      ]
    },
    {
      "cell_type": "code",
      "execution_count": null,
      "metadata": {
        "colab": {
          "base_uri": "https://localhost:8080/",
          "height": 206
        },
        "id": "affeuVxTJ491",
        "outputId": "16b0bf2a-4e30-4932-e0b9-a8bd53a28a15"
      },
      "outputs": [
        {
          "output_type": "execute_result",
          "data": {
            "text/html": [
              "\n",
              "  <div id=\"df-d797d290-dc46-49a6-b8d1-1f9482603ecb\">\n",
              "    <div class=\"colab-df-container\">\n",
              "      <div>\n",
              "<style scoped>\n",
              "    .dataframe tbody tr th:only-of-type {\n",
              "        vertical-align: middle;\n",
              "    }\n",
              "\n",
              "    .dataframe tbody tr th {\n",
              "        vertical-align: top;\n",
              "    }\n",
              "\n",
              "    .dataframe thead th {\n",
              "        text-align: right;\n",
              "    }\n",
              "</style>\n",
              "<table border=\"1\" class=\"dataframe\">\n",
              "  <thead>\n",
              "    <tr style=\"text-align: right;\">\n",
              "      <th></th>\n",
              "      <th>id</th>\n",
              "      <th>message_date</th>\n",
              "      <th>user_id</th>\n",
              "    </tr>\n",
              "  </thead>\n",
              "  <tbody>\n",
              "    <tr>\n",
              "      <th>0</th>\n",
              "      <td>1000_0</td>\n",
              "      <td>2018-06-27</td>\n",
              "      <td>1000</td>\n",
              "    </tr>\n",
              "    <tr>\n",
              "      <th>1</th>\n",
              "      <td>1000_1</td>\n",
              "      <td>2018-10-08</td>\n",
              "      <td>1000</td>\n",
              "    </tr>\n",
              "    <tr>\n",
              "      <th>2</th>\n",
              "      <td>1000_2</td>\n",
              "      <td>2018-08-04</td>\n",
              "      <td>1000</td>\n",
              "    </tr>\n",
              "    <tr>\n",
              "      <th>3</th>\n",
              "      <td>1000_3</td>\n",
              "      <td>2018-06-16</td>\n",
              "      <td>1000</td>\n",
              "    </tr>\n",
              "    <tr>\n",
              "      <th>4</th>\n",
              "      <td>1000_4</td>\n",
              "      <td>2018-12-05</td>\n",
              "      <td>1000</td>\n",
              "    </tr>\n",
              "  </tbody>\n",
              "</table>\n",
              "</div>\n",
              "      <button class=\"colab-df-convert\" onclick=\"convertToInteractive('df-d797d290-dc46-49a6-b8d1-1f9482603ecb')\"\n",
              "              title=\"Convert this dataframe to an interactive table.\"\n",
              "              style=\"display:none;\">\n",
              "        \n",
              "  <svg xmlns=\"http://www.w3.org/2000/svg\" height=\"24px\"viewBox=\"0 0 24 24\"\n",
              "       width=\"24px\">\n",
              "    <path d=\"M0 0h24v24H0V0z\" fill=\"none\"/>\n",
              "    <path d=\"M18.56 5.44l.94 2.06.94-2.06 2.06-.94-2.06-.94-.94-2.06-.94 2.06-2.06.94zm-11 1L8.5 8.5l.94-2.06 2.06-.94-2.06-.94L8.5 2.5l-.94 2.06-2.06.94zm10 10l.94 2.06.94-2.06 2.06-.94-2.06-.94-.94-2.06-.94 2.06-2.06.94z\"/><path d=\"M17.41 7.96l-1.37-1.37c-.4-.4-.92-.59-1.43-.59-.52 0-1.04.2-1.43.59L10.3 9.45l-7.72 7.72c-.78.78-.78 2.05 0 2.83L4 21.41c.39.39.9.59 1.41.59.51 0 1.02-.2 1.41-.59l7.78-7.78 2.81-2.81c.8-.78.8-2.07 0-2.86zM5.41 20L4 18.59l7.72-7.72 1.47 1.35L5.41 20z\"/>\n",
              "  </svg>\n",
              "      </button>\n",
              "      \n",
              "  <style>\n",
              "    .colab-df-container {\n",
              "      display:flex;\n",
              "      flex-wrap:wrap;\n",
              "      gap: 12px;\n",
              "    }\n",
              "\n",
              "    .colab-df-convert {\n",
              "      background-color: #E8F0FE;\n",
              "      border: none;\n",
              "      border-radius: 50%;\n",
              "      cursor: pointer;\n",
              "      display: none;\n",
              "      fill: #1967D2;\n",
              "      height: 32px;\n",
              "      padding: 0 0 0 0;\n",
              "      width: 32px;\n",
              "    }\n",
              "\n",
              "    .colab-df-convert:hover {\n",
              "      background-color: #E2EBFA;\n",
              "      box-shadow: 0px 1px 2px rgba(60, 64, 67, 0.3), 0px 1px 3px 1px rgba(60, 64, 67, 0.15);\n",
              "      fill: #174EA6;\n",
              "    }\n",
              "\n",
              "    [theme=dark] .colab-df-convert {\n",
              "      background-color: #3B4455;\n",
              "      fill: #D2E3FC;\n",
              "    }\n",
              "\n",
              "    [theme=dark] .colab-df-convert:hover {\n",
              "      background-color: #434B5C;\n",
              "      box-shadow: 0px 1px 3px 1px rgba(0, 0, 0, 0.15);\n",
              "      filter: drop-shadow(0px 1px 2px rgba(0, 0, 0, 0.3));\n",
              "      fill: #FFFFFF;\n",
              "    }\n",
              "  </style>\n",
              "\n",
              "      <script>\n",
              "        const buttonEl =\n",
              "          document.querySelector('#df-d797d290-dc46-49a6-b8d1-1f9482603ecb button.colab-df-convert');\n",
              "        buttonEl.style.display =\n",
              "          google.colab.kernel.accessAllowed ? 'block' : 'none';\n",
              "\n",
              "        async function convertToInteractive(key) {\n",
              "          const element = document.querySelector('#df-d797d290-dc46-49a6-b8d1-1f9482603ecb');\n",
              "          const dataTable =\n",
              "            await google.colab.kernel.invokeFunction('convertToInteractive',\n",
              "                                                     [key], {});\n",
              "          if (!dataTable) return;\n",
              "\n",
              "          const docLinkHtml = 'Like what you see? Visit the ' +\n",
              "            '<a target=\"_blank\" href=https://colab.research.google.com/notebooks/data_table.ipynb>data table notebook</a>'\n",
              "            + ' to learn more about interactive tables.';\n",
              "          element.innerHTML = '';\n",
              "          dataTable['output_type'] = 'display_data';\n",
              "          await google.colab.output.renderOutput(dataTable, element);\n",
              "          const docLink = document.createElement('div');\n",
              "          docLink.innerHTML = docLinkHtml;\n",
              "          element.appendChild(docLink);\n",
              "        }\n",
              "      </script>\n",
              "    </div>\n",
              "  </div>\n",
              "  "
            ],
            "text/plain": [
              "       id message_date  user_id\n",
              "0  1000_0   2018-06-27     1000\n",
              "1  1000_1   2018-10-08     1000\n",
              "2  1000_2   2018-08-04     1000\n",
              "3  1000_3   2018-06-16     1000\n",
              "4  1000_4   2018-12-05     1000"
            ]
          },
          "metadata": {},
          "execution_count": 28
        }
      ],
      "source": [
        "df_messages.head()"
      ]
    },
    {
      "cell_type": "markdown",
      "metadata": {
        "id": "lMKJtjIpEa5M"
      },
      "source": [
        "Создадим колонку с месяцем, она потребуется для группировки, в том числе расчета помесячной выручки:"
      ]
    },
    {
      "cell_type": "code",
      "execution_count": null,
      "metadata": {
        "id": "VZ-OW2g5MHm9"
      },
      "outputs": [],
      "source": [
        "df_messages['month'] = df_messages['message_date'].dt.month"
      ]
    },
    {
      "cell_type": "markdown",
      "metadata": {
        "id": "T-04Ll9VEv3q"
      },
      "source": [
        "Создадим свободную таблицу с количеством отправленных сообщений, и выведем ее на экран:"
      ]
    },
    {
      "cell_type": "code",
      "execution_count": null,
      "metadata": {
        "id": "PVyhDDSEJ7-8"
      },
      "outputs": [],
      "source": [
        "df_messages_month = df_messages.groupby(['user_id', 'month'])['user_id'].agg(['count']).reset_index().rename(columns = {'count': 'msg_number'})"
      ]
    },
    {
      "cell_type": "code",
      "execution_count": null,
      "metadata": {
        "colab": {
          "base_uri": "https://localhost:8080/",
          "height": 206
        },
        "id": "pz9WHBFoMPR7",
        "outputId": "04822235-ca12-4ea7-8a8e-28726d94aebe"
      },
      "outputs": [
        {
          "output_type": "execute_result",
          "data": {
            "text/html": [
              "\n",
              "  <div id=\"df-2a4d98e3-705b-49f3-a07f-003a74544b33\">\n",
              "    <div class=\"colab-df-container\">\n",
              "      <div>\n",
              "<style scoped>\n",
              "    .dataframe tbody tr th:only-of-type {\n",
              "        vertical-align: middle;\n",
              "    }\n",
              "\n",
              "    .dataframe tbody tr th {\n",
              "        vertical-align: top;\n",
              "    }\n",
              "\n",
              "    .dataframe thead th {\n",
              "        text-align: right;\n",
              "    }\n",
              "</style>\n",
              "<table border=\"1\" class=\"dataframe\">\n",
              "  <thead>\n",
              "    <tr style=\"text-align: right;\">\n",
              "      <th></th>\n",
              "      <th>user_id</th>\n",
              "      <th>month</th>\n",
              "      <th>msg_number</th>\n",
              "    </tr>\n",
              "  </thead>\n",
              "  <tbody>\n",
              "    <tr>\n",
              "      <th>0</th>\n",
              "      <td>1000</td>\n",
              "      <td>5</td>\n",
              "      <td>22</td>\n",
              "    </tr>\n",
              "    <tr>\n",
              "      <th>1</th>\n",
              "      <td>1000</td>\n",
              "      <td>6</td>\n",
              "      <td>60</td>\n",
              "    </tr>\n",
              "    <tr>\n",
              "      <th>2</th>\n",
              "      <td>1000</td>\n",
              "      <td>7</td>\n",
              "      <td>75</td>\n",
              "    </tr>\n",
              "    <tr>\n",
              "      <th>3</th>\n",
              "      <td>1000</td>\n",
              "      <td>8</td>\n",
              "      <td>81</td>\n",
              "    </tr>\n",
              "    <tr>\n",
              "      <th>4</th>\n",
              "      <td>1000</td>\n",
              "      <td>9</td>\n",
              "      <td>57</td>\n",
              "    </tr>\n",
              "  </tbody>\n",
              "</table>\n",
              "</div>\n",
              "      <button class=\"colab-df-convert\" onclick=\"convertToInteractive('df-2a4d98e3-705b-49f3-a07f-003a74544b33')\"\n",
              "              title=\"Convert this dataframe to an interactive table.\"\n",
              "              style=\"display:none;\">\n",
              "        \n",
              "  <svg xmlns=\"http://www.w3.org/2000/svg\" height=\"24px\"viewBox=\"0 0 24 24\"\n",
              "       width=\"24px\">\n",
              "    <path d=\"M0 0h24v24H0V0z\" fill=\"none\"/>\n",
              "    <path d=\"M18.56 5.44l.94 2.06.94-2.06 2.06-.94-2.06-.94-.94-2.06-.94 2.06-2.06.94zm-11 1L8.5 8.5l.94-2.06 2.06-.94-2.06-.94L8.5 2.5l-.94 2.06-2.06.94zm10 10l.94 2.06.94-2.06 2.06-.94-2.06-.94-.94-2.06-.94 2.06-2.06.94z\"/><path d=\"M17.41 7.96l-1.37-1.37c-.4-.4-.92-.59-1.43-.59-.52 0-1.04.2-1.43.59L10.3 9.45l-7.72 7.72c-.78.78-.78 2.05 0 2.83L4 21.41c.39.39.9.59 1.41.59.51 0 1.02-.2 1.41-.59l7.78-7.78 2.81-2.81c.8-.78.8-2.07 0-2.86zM5.41 20L4 18.59l7.72-7.72 1.47 1.35L5.41 20z\"/>\n",
              "  </svg>\n",
              "      </button>\n",
              "      \n",
              "  <style>\n",
              "    .colab-df-container {\n",
              "      display:flex;\n",
              "      flex-wrap:wrap;\n",
              "      gap: 12px;\n",
              "    }\n",
              "\n",
              "    .colab-df-convert {\n",
              "      background-color: #E8F0FE;\n",
              "      border: none;\n",
              "      border-radius: 50%;\n",
              "      cursor: pointer;\n",
              "      display: none;\n",
              "      fill: #1967D2;\n",
              "      height: 32px;\n",
              "      padding: 0 0 0 0;\n",
              "      width: 32px;\n",
              "    }\n",
              "\n",
              "    .colab-df-convert:hover {\n",
              "      background-color: #E2EBFA;\n",
              "      box-shadow: 0px 1px 2px rgba(60, 64, 67, 0.3), 0px 1px 3px 1px rgba(60, 64, 67, 0.15);\n",
              "      fill: #174EA6;\n",
              "    }\n",
              "\n",
              "    [theme=dark] .colab-df-convert {\n",
              "      background-color: #3B4455;\n",
              "      fill: #D2E3FC;\n",
              "    }\n",
              "\n",
              "    [theme=dark] .colab-df-convert:hover {\n",
              "      background-color: #434B5C;\n",
              "      box-shadow: 0px 1px 3px 1px rgba(0, 0, 0, 0.15);\n",
              "      filter: drop-shadow(0px 1px 2px rgba(0, 0, 0, 0.3));\n",
              "      fill: #FFFFFF;\n",
              "    }\n",
              "  </style>\n",
              "\n",
              "      <script>\n",
              "        const buttonEl =\n",
              "          document.querySelector('#df-2a4d98e3-705b-49f3-a07f-003a74544b33 button.colab-df-convert');\n",
              "        buttonEl.style.display =\n",
              "          google.colab.kernel.accessAllowed ? 'block' : 'none';\n",
              "\n",
              "        async function convertToInteractive(key) {\n",
              "          const element = document.querySelector('#df-2a4d98e3-705b-49f3-a07f-003a74544b33');\n",
              "          const dataTable =\n",
              "            await google.colab.kernel.invokeFunction('convertToInteractive',\n",
              "                                                     [key], {});\n",
              "          if (!dataTable) return;\n",
              "\n",
              "          const docLinkHtml = 'Like what you see? Visit the ' +\n",
              "            '<a target=\"_blank\" href=https://colab.research.google.com/notebooks/data_table.ipynb>data table notebook</a>'\n",
              "            + ' to learn more about interactive tables.';\n",
              "          element.innerHTML = '';\n",
              "          dataTable['output_type'] = 'display_data';\n",
              "          await google.colab.output.renderOutput(dataTable, element);\n",
              "          const docLink = document.createElement('div');\n",
              "          docLink.innerHTML = docLinkHtml;\n",
              "          element.appendChild(docLink);\n",
              "        }\n",
              "      </script>\n",
              "    </div>\n",
              "  </div>\n",
              "  "
            ],
            "text/plain": [
              "   user_id  month  msg_number\n",
              "0     1000      5          22\n",
              "1     1000      6          60\n",
              "2     1000      7          75\n",
              "3     1000      8          81\n",
              "4     1000      9          57"
            ]
          },
          "metadata": {},
          "execution_count": 31
        }
      ],
      "source": [
        "df_messages_month.head()"
      ]
    },
    {
      "cell_type": "markdown",
      "metadata": {
        "id": "5ZGc4kmlMQu6"
      },
      "source": [
        "### Рассчет объема израсходованного интернет-трафика по месяцам"
      ]
    },
    {
      "cell_type": "code",
      "execution_count": null,
      "metadata": {
        "colab": {
          "base_uri": "https://localhost:8080/",
          "height": 206
        },
        "id": "KmpHzE4UMp8L",
        "outputId": "e30bd5aa-a2cb-4172-96b6-d83f542de987"
      },
      "outputs": [
        {
          "output_type": "execute_result",
          "data": {
            "text/html": [
              "\n",
              "  <div id=\"df-66e2d6f7-dc23-4e8b-90e0-ae34d46608f5\">\n",
              "    <div class=\"colab-df-container\">\n",
              "      <div>\n",
              "<style scoped>\n",
              "    .dataframe tbody tr th:only-of-type {\n",
              "        vertical-align: middle;\n",
              "    }\n",
              "\n",
              "    .dataframe tbody tr th {\n",
              "        vertical-align: top;\n",
              "    }\n",
              "\n",
              "    .dataframe thead th {\n",
              "        text-align: right;\n",
              "    }\n",
              "</style>\n",
              "<table border=\"1\" class=\"dataframe\">\n",
              "  <thead>\n",
              "    <tr style=\"text-align: right;\">\n",
              "      <th></th>\n",
              "      <th>id</th>\n",
              "      <th>mb_used</th>\n",
              "      <th>session_date</th>\n",
              "      <th>user_id</th>\n",
              "    </tr>\n",
              "  </thead>\n",
              "  <tbody>\n",
              "    <tr>\n",
              "      <th>0</th>\n",
              "      <td>1000_0</td>\n",
              "      <td>112.95</td>\n",
              "      <td>2018-11-25</td>\n",
              "      <td>1000</td>\n",
              "    </tr>\n",
              "    <tr>\n",
              "      <th>1</th>\n",
              "      <td>1000_1</td>\n",
              "      <td>1052.81</td>\n",
              "      <td>2018-09-07</td>\n",
              "      <td>1000</td>\n",
              "    </tr>\n",
              "    <tr>\n",
              "      <th>2</th>\n",
              "      <td>1000_2</td>\n",
              "      <td>1197.26</td>\n",
              "      <td>2018-06-25</td>\n",
              "      <td>1000</td>\n",
              "    </tr>\n",
              "    <tr>\n",
              "      <th>3</th>\n",
              "      <td>1000_3</td>\n",
              "      <td>550.27</td>\n",
              "      <td>2018-08-22</td>\n",
              "      <td>1000</td>\n",
              "    </tr>\n",
              "    <tr>\n",
              "      <th>4</th>\n",
              "      <td>1000_4</td>\n",
              "      <td>302.56</td>\n",
              "      <td>2018-09-24</td>\n",
              "      <td>1000</td>\n",
              "    </tr>\n",
              "  </tbody>\n",
              "</table>\n",
              "</div>\n",
              "      <button class=\"colab-df-convert\" onclick=\"convertToInteractive('df-66e2d6f7-dc23-4e8b-90e0-ae34d46608f5')\"\n",
              "              title=\"Convert this dataframe to an interactive table.\"\n",
              "              style=\"display:none;\">\n",
              "        \n",
              "  <svg xmlns=\"http://www.w3.org/2000/svg\" height=\"24px\"viewBox=\"0 0 24 24\"\n",
              "       width=\"24px\">\n",
              "    <path d=\"M0 0h24v24H0V0z\" fill=\"none\"/>\n",
              "    <path d=\"M18.56 5.44l.94 2.06.94-2.06 2.06-.94-2.06-.94-.94-2.06-.94 2.06-2.06.94zm-11 1L8.5 8.5l.94-2.06 2.06-.94-2.06-.94L8.5 2.5l-.94 2.06-2.06.94zm10 10l.94 2.06.94-2.06 2.06-.94-2.06-.94-.94-2.06-.94 2.06-2.06.94z\"/><path d=\"M17.41 7.96l-1.37-1.37c-.4-.4-.92-.59-1.43-.59-.52 0-1.04.2-1.43.59L10.3 9.45l-7.72 7.72c-.78.78-.78 2.05 0 2.83L4 21.41c.39.39.9.59 1.41.59.51 0 1.02-.2 1.41-.59l7.78-7.78 2.81-2.81c.8-.78.8-2.07 0-2.86zM5.41 20L4 18.59l7.72-7.72 1.47 1.35L5.41 20z\"/>\n",
              "  </svg>\n",
              "      </button>\n",
              "      \n",
              "  <style>\n",
              "    .colab-df-container {\n",
              "      display:flex;\n",
              "      flex-wrap:wrap;\n",
              "      gap: 12px;\n",
              "    }\n",
              "\n",
              "    .colab-df-convert {\n",
              "      background-color: #E8F0FE;\n",
              "      border: none;\n",
              "      border-radius: 50%;\n",
              "      cursor: pointer;\n",
              "      display: none;\n",
              "      fill: #1967D2;\n",
              "      height: 32px;\n",
              "      padding: 0 0 0 0;\n",
              "      width: 32px;\n",
              "    }\n",
              "\n",
              "    .colab-df-convert:hover {\n",
              "      background-color: #E2EBFA;\n",
              "      box-shadow: 0px 1px 2px rgba(60, 64, 67, 0.3), 0px 1px 3px 1px rgba(60, 64, 67, 0.15);\n",
              "      fill: #174EA6;\n",
              "    }\n",
              "\n",
              "    [theme=dark] .colab-df-convert {\n",
              "      background-color: #3B4455;\n",
              "      fill: #D2E3FC;\n",
              "    }\n",
              "\n",
              "    [theme=dark] .colab-df-convert:hover {\n",
              "      background-color: #434B5C;\n",
              "      box-shadow: 0px 1px 3px 1px rgba(0, 0, 0, 0.15);\n",
              "      filter: drop-shadow(0px 1px 2px rgba(0, 0, 0, 0.3));\n",
              "      fill: #FFFFFF;\n",
              "    }\n",
              "  </style>\n",
              "\n",
              "      <script>\n",
              "        const buttonEl =\n",
              "          document.querySelector('#df-66e2d6f7-dc23-4e8b-90e0-ae34d46608f5 button.colab-df-convert');\n",
              "        buttonEl.style.display =\n",
              "          google.colab.kernel.accessAllowed ? 'block' : 'none';\n",
              "\n",
              "        async function convertToInteractive(key) {\n",
              "          const element = document.querySelector('#df-66e2d6f7-dc23-4e8b-90e0-ae34d46608f5');\n",
              "          const dataTable =\n",
              "            await google.colab.kernel.invokeFunction('convertToInteractive',\n",
              "                                                     [key], {});\n",
              "          if (!dataTable) return;\n",
              "\n",
              "          const docLinkHtml = 'Like what you see? Visit the ' +\n",
              "            '<a target=\"_blank\" href=https://colab.research.google.com/notebooks/data_table.ipynb>data table notebook</a>'\n",
              "            + ' to learn more about interactive tables.';\n",
              "          element.innerHTML = '';\n",
              "          dataTable['output_type'] = 'display_data';\n",
              "          await google.colab.output.renderOutput(dataTable, element);\n",
              "          const docLink = document.createElement('div');\n",
              "          docLink.innerHTML = docLinkHtml;\n",
              "          element.appendChild(docLink);\n",
              "        }\n",
              "      </script>\n",
              "    </div>\n",
              "  </div>\n",
              "  "
            ],
            "text/plain": [
              "       id  mb_used session_date  user_id\n",
              "0  1000_0   112.95   2018-11-25     1000\n",
              "1  1000_1  1052.81   2018-09-07     1000\n",
              "2  1000_2  1197.26   2018-06-25     1000\n",
              "3  1000_3   550.27   2018-08-22     1000\n",
              "4  1000_4   302.56   2018-09-24     1000"
            ]
          },
          "metadata": {},
          "execution_count": 32
        }
      ],
      "source": [
        "df_internet.head()"
      ]
    },
    {
      "cell_type": "markdown",
      "metadata": {
        "id": "UM7eF_COE1dy"
      },
      "source": [
        "Для однотипности величин измерения трафика, переведем МГ в ГБ:"
      ]
    },
    {
      "cell_type": "code",
      "execution_count": null,
      "metadata": {
        "id": "nl9PSxDGOEqT"
      },
      "outputs": [],
      "source": [
        "df_internet['mb_used'] = df_internet['mb_used']/1024"
      ]
    },
    {
      "cell_type": "markdown",
      "metadata": {
        "id": "pYa6n_8iE-Nj"
      },
      "source": [
        "Переименуем колонку с потреблением трафика:"
      ]
    },
    {
      "cell_type": "code",
      "execution_count": null,
      "metadata": {
        "id": "GNJuj-cYOe9L"
      },
      "outputs": [],
      "source": [
        "df_internet = df_internet.rename(columns={'mb_used': 'gb_used'})"
      ]
    },
    {
      "cell_type": "markdown",
      "metadata": {
        "id": "ZyNHf6a-EgG6"
      },
      "source": [
        "Создадим колонку с месяцем, она потребуется для группировки, в том числе расчета помесячной выручки:"
      ]
    },
    {
      "cell_type": "code",
      "execution_count": null,
      "metadata": {
        "id": "U3RKZxB-NIKU"
      },
      "outputs": [],
      "source": [
        "df_internet['month'] = df_internet['session_date'].dt.month"
      ]
    },
    {
      "cell_type": "markdown",
      "metadata": {
        "id": "qtCwYUHUFC_W"
      },
      "source": [
        "Создадим свободную таблицу с объемом израсходованного интернет-трафика, и выведем ее на экран:"
      ]
    },
    {
      "cell_type": "code",
      "execution_count": null,
      "metadata": {
        "id": "zRj4M16zNM97"
      },
      "outputs": [],
      "source": [
        "df_internet_month = df_internet.groupby(['user_id', 'month'])['gb_used'].agg(['sum']).reset_index().rename(columns = {'sum': 'gb_used'})"
      ]
    },
    {
      "cell_type": "markdown",
      "metadata": {
        "id": "qdTJgyv4FNmo"
      },
      "source": [
        "Округлим ГБ согласно правилам оператора:"
      ]
    },
    {
      "cell_type": "code",
      "execution_count": null,
      "metadata": {
        "id": "jPVcsvz2Osuy"
      },
      "outputs": [],
      "source": [
        "df_internet_month['gb_used'] = df_internet_month['gb_used'].apply(np.ceil).astype('int')"
      ]
    },
    {
      "cell_type": "code",
      "execution_count": null,
      "metadata": {
        "colab": {
          "base_uri": "https://localhost:8080/",
          "height": 206
        },
        "id": "3EJwkOgmNcbc",
        "outputId": "afc71e65-56df-48b5-bea6-372dfd6848af"
      },
      "outputs": [
        {
          "output_type": "execute_result",
          "data": {
            "text/html": [
              "\n",
              "  <div id=\"df-795bec84-eda4-4a94-aae6-a39d09717c1b\">\n",
              "    <div class=\"colab-df-container\">\n",
              "      <div>\n",
              "<style scoped>\n",
              "    .dataframe tbody tr th:only-of-type {\n",
              "        vertical-align: middle;\n",
              "    }\n",
              "\n",
              "    .dataframe tbody tr th {\n",
              "        vertical-align: top;\n",
              "    }\n",
              "\n",
              "    .dataframe thead th {\n",
              "        text-align: right;\n",
              "    }\n",
              "</style>\n",
              "<table border=\"1\" class=\"dataframe\">\n",
              "  <thead>\n",
              "    <tr style=\"text-align: right;\">\n",
              "      <th></th>\n",
              "      <th>user_id</th>\n",
              "      <th>month</th>\n",
              "      <th>gb_used</th>\n",
              "    </tr>\n",
              "  </thead>\n",
              "  <tbody>\n",
              "    <tr>\n",
              "      <th>0</th>\n",
              "      <td>1000</td>\n",
              "      <td>5</td>\n",
              "      <td>3</td>\n",
              "    </tr>\n",
              "    <tr>\n",
              "      <th>1</th>\n",
              "      <td>1000</td>\n",
              "      <td>6</td>\n",
              "      <td>23</td>\n",
              "    </tr>\n",
              "    <tr>\n",
              "      <th>2</th>\n",
              "      <td>1000</td>\n",
              "      <td>7</td>\n",
              "      <td>14</td>\n",
              "    </tr>\n",
              "    <tr>\n",
              "      <th>3</th>\n",
              "      <td>1000</td>\n",
              "      <td>8</td>\n",
              "      <td>14</td>\n",
              "    </tr>\n",
              "    <tr>\n",
              "      <th>4</th>\n",
              "      <td>1000</td>\n",
              "      <td>9</td>\n",
              "      <td>15</td>\n",
              "    </tr>\n",
              "  </tbody>\n",
              "</table>\n",
              "</div>\n",
              "      <button class=\"colab-df-convert\" onclick=\"convertToInteractive('df-795bec84-eda4-4a94-aae6-a39d09717c1b')\"\n",
              "              title=\"Convert this dataframe to an interactive table.\"\n",
              "              style=\"display:none;\">\n",
              "        \n",
              "  <svg xmlns=\"http://www.w3.org/2000/svg\" height=\"24px\"viewBox=\"0 0 24 24\"\n",
              "       width=\"24px\">\n",
              "    <path d=\"M0 0h24v24H0V0z\" fill=\"none\"/>\n",
              "    <path d=\"M18.56 5.44l.94 2.06.94-2.06 2.06-.94-2.06-.94-.94-2.06-.94 2.06-2.06.94zm-11 1L8.5 8.5l.94-2.06 2.06-.94-2.06-.94L8.5 2.5l-.94 2.06-2.06.94zm10 10l.94 2.06.94-2.06 2.06-.94-2.06-.94-.94-2.06-.94 2.06-2.06.94z\"/><path d=\"M17.41 7.96l-1.37-1.37c-.4-.4-.92-.59-1.43-.59-.52 0-1.04.2-1.43.59L10.3 9.45l-7.72 7.72c-.78.78-.78 2.05 0 2.83L4 21.41c.39.39.9.59 1.41.59.51 0 1.02-.2 1.41-.59l7.78-7.78 2.81-2.81c.8-.78.8-2.07 0-2.86zM5.41 20L4 18.59l7.72-7.72 1.47 1.35L5.41 20z\"/>\n",
              "  </svg>\n",
              "      </button>\n",
              "      \n",
              "  <style>\n",
              "    .colab-df-container {\n",
              "      display:flex;\n",
              "      flex-wrap:wrap;\n",
              "      gap: 12px;\n",
              "    }\n",
              "\n",
              "    .colab-df-convert {\n",
              "      background-color: #E8F0FE;\n",
              "      border: none;\n",
              "      border-radius: 50%;\n",
              "      cursor: pointer;\n",
              "      display: none;\n",
              "      fill: #1967D2;\n",
              "      height: 32px;\n",
              "      padding: 0 0 0 0;\n",
              "      width: 32px;\n",
              "    }\n",
              "\n",
              "    .colab-df-convert:hover {\n",
              "      background-color: #E2EBFA;\n",
              "      box-shadow: 0px 1px 2px rgba(60, 64, 67, 0.3), 0px 1px 3px 1px rgba(60, 64, 67, 0.15);\n",
              "      fill: #174EA6;\n",
              "    }\n",
              "\n",
              "    [theme=dark] .colab-df-convert {\n",
              "      background-color: #3B4455;\n",
              "      fill: #D2E3FC;\n",
              "    }\n",
              "\n",
              "    [theme=dark] .colab-df-convert:hover {\n",
              "      background-color: #434B5C;\n",
              "      box-shadow: 0px 1px 3px 1px rgba(0, 0, 0, 0.15);\n",
              "      filter: drop-shadow(0px 1px 2px rgba(0, 0, 0, 0.3));\n",
              "      fill: #FFFFFF;\n",
              "    }\n",
              "  </style>\n",
              "\n",
              "      <script>\n",
              "        const buttonEl =\n",
              "          document.querySelector('#df-795bec84-eda4-4a94-aae6-a39d09717c1b button.colab-df-convert');\n",
              "        buttonEl.style.display =\n",
              "          google.colab.kernel.accessAllowed ? 'block' : 'none';\n",
              "\n",
              "        async function convertToInteractive(key) {\n",
              "          const element = document.querySelector('#df-795bec84-eda4-4a94-aae6-a39d09717c1b');\n",
              "          const dataTable =\n",
              "            await google.colab.kernel.invokeFunction('convertToInteractive',\n",
              "                                                     [key], {});\n",
              "          if (!dataTable) return;\n",
              "\n",
              "          const docLinkHtml = 'Like what you see? Visit the ' +\n",
              "            '<a target=\"_blank\" href=https://colab.research.google.com/notebooks/data_table.ipynb>data table notebook</a>'\n",
              "            + ' to learn more about interactive tables.';\n",
              "          element.innerHTML = '';\n",
              "          dataTable['output_type'] = 'display_data';\n",
              "          await google.colab.output.renderOutput(dataTable, element);\n",
              "          const docLink = document.createElement('div');\n",
              "          docLink.innerHTML = docLinkHtml;\n",
              "          element.appendChild(docLink);\n",
              "        }\n",
              "      </script>\n",
              "    </div>\n",
              "  </div>\n",
              "  "
            ],
            "text/plain": [
              "   user_id  month  gb_used\n",
              "0     1000      5        3\n",
              "1     1000      6       23\n",
              "2     1000      7       14\n",
              "3     1000      8       14\n",
              "4     1000      9       15"
            ]
          },
          "metadata": {},
          "execution_count": 38
        }
      ],
      "source": [
        "df_internet_month.head()"
      ]
    },
    {
      "cell_type": "markdown",
      "metadata": {
        "id": "8HiJusDcO8yz"
      },
      "source": [
        "### Рассчет помесячной выручки с каждого пользователя"
      ]
    },
    {
      "cell_type": "markdown",
      "metadata": {
        "id": "KwlmXPcOqdkG"
      },
      "source": [
        "Для дальнейшей работы соединим таблицы со звонками, сообщениями и интернет-трафиком вместе:"
      ]
    },
    {
      "cell_type": "code",
      "execution_count": null,
      "metadata": {
        "id": "TUSaxVc6TqYJ"
      },
      "outputs": [],
      "source": [
        "df = df_calls_month.merge(df_messages_month, on=['user_id', 'month'], how='outer')"
      ]
    },
    {
      "cell_type": "code",
      "execution_count": null,
      "metadata": {
        "id": "VxpzZfUdWILB"
      },
      "outputs": [],
      "source": [
        "df = df.merge(df_internet_month, on=['user_id', 'month'], how='outer')"
      ]
    },
    {
      "cell_type": "markdown",
      "metadata": {
        "id": "8dLXeQTqqyug"
      },
      "source": [
        "Посмотрим, сколько пропущенных значений получилось (они возникают из-за того, что пользователь мог использовать только интернет или сообщения, или звонить):"
      ]
    },
    {
      "cell_type": "code",
      "execution_count": null,
      "metadata": {
        "colab": {
          "base_uri": "https://localhost:8080/"
        },
        "id": "LcgwZFzSrTuV",
        "outputId": "c5a0056b-01f1-426e-f4dd-14404ecf744f"
      },
      "outputs": [
        {
          "output_type": "execute_result",
          "data": {
            "text/plain": [
              "user_id          0\n",
              "month            0\n",
              "call_number     40\n",
              "minutes         40\n",
              "msg_number     497\n",
              "gb_used         11\n",
              "dtype: int64"
            ]
          },
          "metadata": {},
          "execution_count": 41
        }
      ],
      "source": [
        "df.isna().sum()"
      ]
    },
    {
      "cell_type": "markdown",
      "metadata": {
        "id": "is491tr6rtsV"
      },
      "source": [
        "Видим, что достаточное количество пользователей вообще не используют сообщения.  \n",
        "Данные пропуски можно заполнить \"0\". Заполним:"
      ]
    },
    {
      "cell_type": "code",
      "execution_count": null,
      "metadata": {
        "id": "rTDTvc8Dr2t_"
      },
      "outputs": [],
      "source": [
        "df = df.fillna(0).astype('int')"
      ]
    },
    {
      "cell_type": "markdown",
      "metadata": {
        "id": "taMlgo46sBVe"
      },
      "source": [
        "Добавим к нашим данным таблицу с данными пользователей:"
      ]
    },
    {
      "cell_type": "code",
      "execution_count": null,
      "metadata": {
        "id": "wNlQ-bQ-WoFw"
      },
      "outputs": [],
      "source": [
        "df = df.merge(df_users, on = 'user_id', how = 'left')"
      ]
    },
    {
      "cell_type": "markdown",
      "metadata": {
        "id": "8QtjyZS_sKVD"
      },
      "source": [
        "Для удобсва представления, признак включенный интернет-трафик в таблице описания тарифа переведем с МБ в ГБ, а также переименуем наименование колонки, в том числе и переименуем колонку с названием тарифа:"
      ]
    },
    {
      "cell_type": "code",
      "execution_count": null,
      "metadata": {
        "id": "N8OnxZk-a0FK"
      },
      "outputs": [],
      "source": [
        "df_tariffs['mb_per_month_included'] = df_tariffs['mb_per_month_included'] / 1024"
      ]
    },
    {
      "cell_type": "code",
      "execution_count": null,
      "metadata": {
        "id": "bcFXvqEkaTg7"
      },
      "outputs": [],
      "source": [
        "df_tariffs = df_tariffs.rename(columns={'tariff_name': 'tariff', 'mb_per_month_included': 'gb_per_month_included'})"
      ]
    },
    {
      "cell_type": "markdown",
      "metadata": {
        "id": "HY1aFdIIsh3K"
      },
      "source": [
        "Присоединим таблицу с описанием тарифа к нашим данным:"
      ]
    },
    {
      "cell_type": "code",
      "execution_count": null,
      "metadata": {
        "id": "aEsQ21sdaIVm"
      },
      "outputs": [],
      "source": [
        "df = df.merge(df_tariffs, on = 'tariff', how = 'outer')"
      ]
    },
    {
      "cell_type": "markdown",
      "metadata": {
        "id": "xYyC0wlZsmQK"
      },
      "source": [
        "Посмотрим на первые 10 строк наших данных:"
      ]
    },
    {
      "cell_type": "code",
      "execution_count": null,
      "metadata": {
        "colab": {
          "base_uri": "https://localhost:8080/",
          "height": 407
        },
        "id": "uZ23idHWdORO",
        "outputId": "084de06c-e9fd-4be2-d960-f3b121bf9a9e"
      },
      "outputs": [
        {
          "output_type": "execute_result",
          "data": {
            "text/html": [
              "\n",
              "  <div id=\"df-13dc28b0-4131-4b43-834b-108ae1eaf8e8\">\n",
              "    <div class=\"colab-df-container\">\n",
              "      <div>\n",
              "<style scoped>\n",
              "    .dataframe tbody tr th:only-of-type {\n",
              "        vertical-align: middle;\n",
              "    }\n",
              "\n",
              "    .dataframe tbody tr th {\n",
              "        vertical-align: top;\n",
              "    }\n",
              "\n",
              "    .dataframe thead th {\n",
              "        text-align: right;\n",
              "    }\n",
              "</style>\n",
              "<table border=\"1\" class=\"dataframe\">\n",
              "  <thead>\n",
              "    <tr style=\"text-align: right;\">\n",
              "      <th></th>\n",
              "      <th>user_id</th>\n",
              "      <th>month</th>\n",
              "      <th>call_number</th>\n",
              "      <th>minutes</th>\n",
              "      <th>msg_number</th>\n",
              "      <th>gb_used</th>\n",
              "      <th>age</th>\n",
              "      <th>churn_date</th>\n",
              "      <th>city</th>\n",
              "      <th>first_name</th>\n",
              "      <th>last_name</th>\n",
              "      <th>reg_date</th>\n",
              "      <th>tariff</th>\n",
              "      <th>messages_included</th>\n",
              "      <th>gb_per_month_included</th>\n",
              "      <th>minutes_included</th>\n",
              "      <th>rub_monthly_fee</th>\n",
              "      <th>rub_per_gb</th>\n",
              "      <th>rub_per_message</th>\n",
              "      <th>rub_per_minute</th>\n",
              "    </tr>\n",
              "  </thead>\n",
              "  <tbody>\n",
              "    <tr>\n",
              "      <th>0</th>\n",
              "      <td>1000</td>\n",
              "      <td>5</td>\n",
              "      <td>22</td>\n",
              "      <td>159</td>\n",
              "      <td>22</td>\n",
              "      <td>3</td>\n",
              "      <td>52</td>\n",
              "      <td>NaT</td>\n",
              "      <td>Краснодар</td>\n",
              "      <td>Рафаил</td>\n",
              "      <td>Верещагин</td>\n",
              "      <td>2018-05-25</td>\n",
              "      <td>ultra</td>\n",
              "      <td>1000</td>\n",
              "      <td>30.0</td>\n",
              "      <td>3000</td>\n",
              "      <td>1950</td>\n",
              "      <td>150</td>\n",
              "      <td>1</td>\n",
              "      <td>1</td>\n",
              "    </tr>\n",
              "    <tr>\n",
              "      <th>1</th>\n",
              "      <td>1000</td>\n",
              "      <td>6</td>\n",
              "      <td>43</td>\n",
              "      <td>172</td>\n",
              "      <td>60</td>\n",
              "      <td>23</td>\n",
              "      <td>52</td>\n",
              "      <td>NaT</td>\n",
              "      <td>Краснодар</td>\n",
              "      <td>Рафаил</td>\n",
              "      <td>Верещагин</td>\n",
              "      <td>2018-05-25</td>\n",
              "      <td>ultra</td>\n",
              "      <td>1000</td>\n",
              "      <td>30.0</td>\n",
              "      <td>3000</td>\n",
              "      <td>1950</td>\n",
              "      <td>150</td>\n",
              "      <td>1</td>\n",
              "      <td>1</td>\n",
              "    </tr>\n",
              "    <tr>\n",
              "      <th>2</th>\n",
              "      <td>1000</td>\n",
              "      <td>7</td>\n",
              "      <td>47</td>\n",
              "      <td>340</td>\n",
              "      <td>75</td>\n",
              "      <td>14</td>\n",
              "      <td>52</td>\n",
              "      <td>NaT</td>\n",
              "      <td>Краснодар</td>\n",
              "      <td>Рафаил</td>\n",
              "      <td>Верещагин</td>\n",
              "      <td>2018-05-25</td>\n",
              "      <td>ultra</td>\n",
              "      <td>1000</td>\n",
              "      <td>30.0</td>\n",
              "      <td>3000</td>\n",
              "      <td>1950</td>\n",
              "      <td>150</td>\n",
              "      <td>1</td>\n",
              "      <td>1</td>\n",
              "    </tr>\n",
              "    <tr>\n",
              "      <th>3</th>\n",
              "      <td>1000</td>\n",
              "      <td>8</td>\n",
              "      <td>52</td>\n",
              "      <td>408</td>\n",
              "      <td>81</td>\n",
              "      <td>14</td>\n",
              "      <td>52</td>\n",
              "      <td>NaT</td>\n",
              "      <td>Краснодар</td>\n",
              "      <td>Рафаил</td>\n",
              "      <td>Верещагин</td>\n",
              "      <td>2018-05-25</td>\n",
              "      <td>ultra</td>\n",
              "      <td>1000</td>\n",
              "      <td>30.0</td>\n",
              "      <td>3000</td>\n",
              "      <td>1950</td>\n",
              "      <td>150</td>\n",
              "      <td>1</td>\n",
              "      <td>1</td>\n",
              "    </tr>\n",
              "    <tr>\n",
              "      <th>4</th>\n",
              "      <td>1000</td>\n",
              "      <td>9</td>\n",
              "      <td>58</td>\n",
              "      <td>466</td>\n",
              "      <td>57</td>\n",
              "      <td>15</td>\n",
              "      <td>52</td>\n",
              "      <td>NaT</td>\n",
              "      <td>Краснодар</td>\n",
              "      <td>Рафаил</td>\n",
              "      <td>Верещагин</td>\n",
              "      <td>2018-05-25</td>\n",
              "      <td>ultra</td>\n",
              "      <td>1000</td>\n",
              "      <td>30.0</td>\n",
              "      <td>3000</td>\n",
              "      <td>1950</td>\n",
              "      <td>150</td>\n",
              "      <td>1</td>\n",
              "      <td>1</td>\n",
              "    </tr>\n",
              "    <tr>\n",
              "      <th>5</th>\n",
              "      <td>1000</td>\n",
              "      <td>10</td>\n",
              "      <td>57</td>\n",
              "      <td>350</td>\n",
              "      <td>73</td>\n",
              "      <td>15</td>\n",
              "      <td>52</td>\n",
              "      <td>NaT</td>\n",
              "      <td>Краснодар</td>\n",
              "      <td>Рафаил</td>\n",
              "      <td>Верещагин</td>\n",
              "      <td>2018-05-25</td>\n",
              "      <td>ultra</td>\n",
              "      <td>1000</td>\n",
              "      <td>30.0</td>\n",
              "      <td>3000</td>\n",
              "      <td>1950</td>\n",
              "      <td>150</td>\n",
              "      <td>1</td>\n",
              "      <td>1</td>\n",
              "    </tr>\n",
              "    <tr>\n",
              "      <th>6</th>\n",
              "      <td>1000</td>\n",
              "      <td>11</td>\n",
              "      <td>43</td>\n",
              "      <td>338</td>\n",
              "      <td>58</td>\n",
              "      <td>15</td>\n",
              "      <td>52</td>\n",
              "      <td>NaT</td>\n",
              "      <td>Краснодар</td>\n",
              "      <td>Рафаил</td>\n",
              "      <td>Верещагин</td>\n",
              "      <td>2018-05-25</td>\n",
              "      <td>ultra</td>\n",
              "      <td>1000</td>\n",
              "      <td>30.0</td>\n",
              "      <td>3000</td>\n",
              "      <td>1950</td>\n",
              "      <td>150</td>\n",
              "      <td>1</td>\n",
              "      <td>1</td>\n",
              "    </tr>\n",
              "    <tr>\n",
              "      <th>7</th>\n",
              "      <td>1000</td>\n",
              "      <td>12</td>\n",
              "      <td>46</td>\n",
              "      <td>333</td>\n",
              "      <td>70</td>\n",
              "      <td>10</td>\n",
              "      <td>52</td>\n",
              "      <td>NaT</td>\n",
              "      <td>Краснодар</td>\n",
              "      <td>Рафаил</td>\n",
              "      <td>Верещагин</td>\n",
              "      <td>2018-05-25</td>\n",
              "      <td>ultra</td>\n",
              "      <td>1000</td>\n",
              "      <td>30.0</td>\n",
              "      <td>3000</td>\n",
              "      <td>1950</td>\n",
              "      <td>150</td>\n",
              "      <td>1</td>\n",
              "      <td>1</td>\n",
              "    </tr>\n",
              "    <tr>\n",
              "      <th>8</th>\n",
              "      <td>1003</td>\n",
              "      <td>8</td>\n",
              "      <td>55</td>\n",
              "      <td>380</td>\n",
              "      <td>37</td>\n",
              "      <td>9</td>\n",
              "      <td>23</td>\n",
              "      <td>NaT</td>\n",
              "      <td>Москва</td>\n",
              "      <td>Белла</td>\n",
              "      <td>Белякова</td>\n",
              "      <td>2018-08-17</td>\n",
              "      <td>ultra</td>\n",
              "      <td>1000</td>\n",
              "      <td>30.0</td>\n",
              "      <td>3000</td>\n",
              "      <td>1950</td>\n",
              "      <td>150</td>\n",
              "      <td>1</td>\n",
              "      <td>1</td>\n",
              "    </tr>\n",
              "    <tr>\n",
              "      <th>9</th>\n",
              "      <td>1003</td>\n",
              "      <td>9</td>\n",
              "      <td>134</td>\n",
              "      <td>961</td>\n",
              "      <td>91</td>\n",
              "      <td>13</td>\n",
              "      <td>23</td>\n",
              "      <td>NaT</td>\n",
              "      <td>Москва</td>\n",
              "      <td>Белла</td>\n",
              "      <td>Белякова</td>\n",
              "      <td>2018-08-17</td>\n",
              "      <td>ultra</td>\n",
              "      <td>1000</td>\n",
              "      <td>30.0</td>\n",
              "      <td>3000</td>\n",
              "      <td>1950</td>\n",
              "      <td>150</td>\n",
              "      <td>1</td>\n",
              "      <td>1</td>\n",
              "    </tr>\n",
              "  </tbody>\n",
              "</table>\n",
              "</div>\n",
              "      <button class=\"colab-df-convert\" onclick=\"convertToInteractive('df-13dc28b0-4131-4b43-834b-108ae1eaf8e8')\"\n",
              "              title=\"Convert this dataframe to an interactive table.\"\n",
              "              style=\"display:none;\">\n",
              "        \n",
              "  <svg xmlns=\"http://www.w3.org/2000/svg\" height=\"24px\"viewBox=\"0 0 24 24\"\n",
              "       width=\"24px\">\n",
              "    <path d=\"M0 0h24v24H0V0z\" fill=\"none\"/>\n",
              "    <path d=\"M18.56 5.44l.94 2.06.94-2.06 2.06-.94-2.06-.94-.94-2.06-.94 2.06-2.06.94zm-11 1L8.5 8.5l.94-2.06 2.06-.94-2.06-.94L8.5 2.5l-.94 2.06-2.06.94zm10 10l.94 2.06.94-2.06 2.06-.94-2.06-.94-.94-2.06-.94 2.06-2.06.94z\"/><path d=\"M17.41 7.96l-1.37-1.37c-.4-.4-.92-.59-1.43-.59-.52 0-1.04.2-1.43.59L10.3 9.45l-7.72 7.72c-.78.78-.78 2.05 0 2.83L4 21.41c.39.39.9.59 1.41.59.51 0 1.02-.2 1.41-.59l7.78-7.78 2.81-2.81c.8-.78.8-2.07 0-2.86zM5.41 20L4 18.59l7.72-7.72 1.47 1.35L5.41 20z\"/>\n",
              "  </svg>\n",
              "      </button>\n",
              "      \n",
              "  <style>\n",
              "    .colab-df-container {\n",
              "      display:flex;\n",
              "      flex-wrap:wrap;\n",
              "      gap: 12px;\n",
              "    }\n",
              "\n",
              "    .colab-df-convert {\n",
              "      background-color: #E8F0FE;\n",
              "      border: none;\n",
              "      border-radius: 50%;\n",
              "      cursor: pointer;\n",
              "      display: none;\n",
              "      fill: #1967D2;\n",
              "      height: 32px;\n",
              "      padding: 0 0 0 0;\n",
              "      width: 32px;\n",
              "    }\n",
              "\n",
              "    .colab-df-convert:hover {\n",
              "      background-color: #E2EBFA;\n",
              "      box-shadow: 0px 1px 2px rgba(60, 64, 67, 0.3), 0px 1px 3px 1px rgba(60, 64, 67, 0.15);\n",
              "      fill: #174EA6;\n",
              "    }\n",
              "\n",
              "    [theme=dark] .colab-df-convert {\n",
              "      background-color: #3B4455;\n",
              "      fill: #D2E3FC;\n",
              "    }\n",
              "\n",
              "    [theme=dark] .colab-df-convert:hover {\n",
              "      background-color: #434B5C;\n",
              "      box-shadow: 0px 1px 3px 1px rgba(0, 0, 0, 0.15);\n",
              "      filter: drop-shadow(0px 1px 2px rgba(0, 0, 0, 0.3));\n",
              "      fill: #FFFFFF;\n",
              "    }\n",
              "  </style>\n",
              "\n",
              "      <script>\n",
              "        const buttonEl =\n",
              "          document.querySelector('#df-13dc28b0-4131-4b43-834b-108ae1eaf8e8 button.colab-df-convert');\n",
              "        buttonEl.style.display =\n",
              "          google.colab.kernel.accessAllowed ? 'block' : 'none';\n",
              "\n",
              "        async function convertToInteractive(key) {\n",
              "          const element = document.querySelector('#df-13dc28b0-4131-4b43-834b-108ae1eaf8e8');\n",
              "          const dataTable =\n",
              "            await google.colab.kernel.invokeFunction('convertToInteractive',\n",
              "                                                     [key], {});\n",
              "          if (!dataTable) return;\n",
              "\n",
              "          const docLinkHtml = 'Like what you see? Visit the ' +\n",
              "            '<a target=\"_blank\" href=https://colab.research.google.com/notebooks/data_table.ipynb>data table notebook</a>'\n",
              "            + ' to learn more about interactive tables.';\n",
              "          element.innerHTML = '';\n",
              "          dataTable['output_type'] = 'display_data';\n",
              "          await google.colab.output.renderOutput(dataTable, element);\n",
              "          const docLink = document.createElement('div');\n",
              "          docLink.innerHTML = docLinkHtml;\n",
              "          element.appendChild(docLink);\n",
              "        }\n",
              "      </script>\n",
              "    </div>\n",
              "  </div>\n",
              "  "
            ],
            "text/plain": [
              "   user_id  month  call_number  ...  rub_per_gb  rub_per_message  rub_per_minute\n",
              "0     1000      5           22  ...         150                1               1\n",
              "1     1000      6           43  ...         150                1               1\n",
              "2     1000      7           47  ...         150                1               1\n",
              "3     1000      8           52  ...         150                1               1\n",
              "4     1000      9           58  ...         150                1               1\n",
              "5     1000     10           57  ...         150                1               1\n",
              "6     1000     11           43  ...         150                1               1\n",
              "7     1000     12           46  ...         150                1               1\n",
              "8     1003      8           55  ...         150                1               1\n",
              "9     1003      9          134  ...         150                1               1\n",
              "\n",
              "[10 rows x 20 columns]"
            ]
          },
          "metadata": {},
          "execution_count": 47
        }
      ],
      "source": [
        "df.head(10)"
      ]
    },
    {
      "cell_type": "markdown",
      "metadata": {
        "id": "Dp2KmiF-s6zE"
      },
      "source": [
        "Выведем информацию о таблице:"
      ]
    },
    {
      "cell_type": "code",
      "execution_count": null,
      "metadata": {
        "colab": {
          "base_uri": "https://localhost:8080/"
        },
        "id": "IBvS56Zmlk51",
        "outputId": "f88c2f44-33e1-41fd-c012-23da88d9f5ab",
        "scrolled": false
      },
      "outputs": [
        {
          "output_type": "stream",
          "name": "stdout",
          "text": [
            "<class 'pandas.core.frame.DataFrame'>\n",
            "Int64Index: 3214 entries, 0 to 3213\n",
            "Data columns (total 20 columns):\n",
            " #   Column                 Non-Null Count  Dtype         \n",
            "---  ------                 --------------  -----         \n",
            " 0   user_id                3214 non-null   int64         \n",
            " 1   month                  3214 non-null   int64         \n",
            " 2   call_number            3214 non-null   int64         \n",
            " 3   minutes                3214 non-null   int64         \n",
            " 4   msg_number             3214 non-null   int64         \n",
            " 5   gb_used                3214 non-null   int64         \n",
            " 6   age                    3214 non-null   int64         \n",
            " 7   churn_date             187 non-null    datetime64[ns]\n",
            " 8   city                   3214 non-null   object        \n",
            " 9   first_name             3214 non-null   object        \n",
            " 10  last_name              3214 non-null   object        \n",
            " 11  reg_date               3214 non-null   datetime64[ns]\n",
            " 12  tariff                 3214 non-null   object        \n",
            " 13  messages_included      3214 non-null   int64         \n",
            " 14  gb_per_month_included  3214 non-null   float64       \n",
            " 15  minutes_included       3214 non-null   int64         \n",
            " 16  rub_monthly_fee        3214 non-null   int64         \n",
            " 17  rub_per_gb             3214 non-null   int64         \n",
            " 18  rub_per_message        3214 non-null   int64         \n",
            " 19  rub_per_minute         3214 non-null   int64         \n",
            "dtypes: datetime64[ns](2), float64(1), int64(13), object(4)\n",
            "memory usage: 527.3+ KB\n"
          ]
        }
      ],
      "source": [
        "df.info()"
      ]
    },
    {
      "cell_type": "markdown",
      "metadata": {
        "id": "tIVBCm5XtHVx"
      },
      "source": [
        "Для вычисления помесясячной выручки, опредлим функцию `total_fee`:"
      ]
    },
    {
      "cell_type": "code",
      "execution_count": null,
      "metadata": {
        "id": "7_4RsQ-Ydg-2"
      },
      "outputs": [],
      "source": [
        "def total_fee(row):\n",
        "  # присовим переменной total_fee_number значения с колонки \"rub_monthly_fee\",\n",
        "  # после чего сравним разность расхода и лимита, если она больше нула, полученое значения умножим на стоимость за ед.\n",
        "  total_fee_number = row['rub_monthly_fee']\n",
        "  if (row['minutes'] - row['minutes_included']) > 0:\n",
        "    total_fee_number +=  (row['minutes'] - row['minutes_included'])*row['rub_per_minute']\n",
        "  if (row['msg_number'] - row['messages_included']) > 0:\n",
        "    total_fee_number +=  (row['msg_number'] - row['messages_included'])*row['rub_per_message']\n",
        "  if (row['gb_used'] - row['gb_per_month_included']) > 0:\n",
        "    total_fee_number +=  (row['gb_used'] - row['gb_per_month_included'])*row['rub_per_gb']\n",
        "  return total_fee_number"
      ]
    },
    {
      "cell_type": "markdown",
      "metadata": {
        "id": "HkIsEt-vtrNQ"
      },
      "source": [
        "Создадим колонку с помесячной выручкой с каждого пользователя `'total_fee'` применяя ко всем строкам функцию `total_fee`:"
      ]
    },
    {
      "cell_type": "code",
      "execution_count": null,
      "metadata": {
        "id": "JG8HPirric5t"
      },
      "outputs": [],
      "source": [
        "df['total_fee'] = df.apply(total_fee, axis=1)"
      ]
    },
    {
      "cell_type": "markdown",
      "metadata": {
        "id": "GdCw2KG1uE3E"
      },
      "source": [
        "Посмотрим на 5 самых тратящих пользователей:"
      ]
    },
    {
      "cell_type": "code",
      "execution_count": null,
      "metadata": {
        "colab": {
          "base_uri": "https://localhost:8080/",
          "height": 357
        },
        "id": "gHBHPG3Riqf0",
        "outputId": "60a7a675-9d57-4631-b8d5-fb1683bc33b4"
      },
      "outputs": [
        {
          "output_type": "execute_result",
          "data": {
            "text/html": [
              "\n",
              "  <div id=\"df-c53d8851-a8ab-474c-974c-c8e842e75de6\">\n",
              "    <div class=\"colab-df-container\">\n",
              "      <div>\n",
              "<style scoped>\n",
              "    .dataframe tbody tr th:only-of-type {\n",
              "        vertical-align: middle;\n",
              "    }\n",
              "\n",
              "    .dataframe tbody tr th {\n",
              "        vertical-align: top;\n",
              "    }\n",
              "\n",
              "    .dataframe thead th {\n",
              "        text-align: right;\n",
              "    }\n",
              "</style>\n",
              "<table border=\"1\" class=\"dataframe\">\n",
              "  <thead>\n",
              "    <tr style=\"text-align: right;\">\n",
              "      <th></th>\n",
              "      <th>user_id</th>\n",
              "      <th>month</th>\n",
              "      <th>call_number</th>\n",
              "      <th>minutes</th>\n",
              "      <th>msg_number</th>\n",
              "      <th>gb_used</th>\n",
              "      <th>age</th>\n",
              "      <th>churn_date</th>\n",
              "      <th>city</th>\n",
              "      <th>first_name</th>\n",
              "      <th>last_name</th>\n",
              "      <th>reg_date</th>\n",
              "      <th>tariff</th>\n",
              "      <th>messages_included</th>\n",
              "      <th>gb_per_month_included</th>\n",
              "      <th>minutes_included</th>\n",
              "      <th>rub_monthly_fee</th>\n",
              "      <th>rub_per_gb</th>\n",
              "      <th>rub_per_message</th>\n",
              "      <th>rub_per_minute</th>\n",
              "      <th>total_fee</th>\n",
              "    </tr>\n",
              "  </thead>\n",
              "  <tbody>\n",
              "    <tr>\n",
              "      <th>3156</th>\n",
              "      <td>1486</td>\n",
              "      <td>12</td>\n",
              "      <td>133</td>\n",
              "      <td>1007</td>\n",
              "      <td>83</td>\n",
              "      <td>38</td>\n",
              "      <td>35</td>\n",
              "      <td>NaT</td>\n",
              "      <td>Нижний Новгород</td>\n",
              "      <td>Матвей</td>\n",
              "      <td>Моргунов</td>\n",
              "      <td>2018-10-31</td>\n",
              "      <td>smart</td>\n",
              "      <td>50</td>\n",
              "      <td>15.0</td>\n",
              "      <td>500</td>\n",
              "      <td>550</td>\n",
              "      <td>200</td>\n",
              "      <td>3</td>\n",
              "      <td>3</td>\n",
              "      <td>6770.0</td>\n",
              "    </tr>\n",
              "    <tr>\n",
              "      <th>1183</th>\n",
              "      <td>1042</td>\n",
              "      <td>12</td>\n",
              "      <td>121</td>\n",
              "      <td>728</td>\n",
              "      <td>75</td>\n",
              "      <td>37</td>\n",
              "      <td>42</td>\n",
              "      <td>NaT</td>\n",
              "      <td>Хабаровск</td>\n",
              "      <td>Константин</td>\n",
              "      <td>Добрынин</td>\n",
              "      <td>2018-11-25</td>\n",
              "      <td>smart</td>\n",
              "      <td>50</td>\n",
              "      <td>15.0</td>\n",
              "      <td>500</td>\n",
              "      <td>550</td>\n",
              "      <td>200</td>\n",
              "      <td>3</td>\n",
              "      <td>3</td>\n",
              "      <td>5709.0</td>\n",
              "    </tr>\n",
              "    <tr>\n",
              "      <th>3155</th>\n",
              "      <td>1486</td>\n",
              "      <td>11</td>\n",
              "      <td>108</td>\n",
              "      <td>764</td>\n",
              "      <td>96</td>\n",
              "      <td>36</td>\n",
              "      <td>35</td>\n",
              "      <td>NaT</td>\n",
              "      <td>Нижний Новгород</td>\n",
              "      <td>Матвей</td>\n",
              "      <td>Моргунов</td>\n",
              "      <td>2018-10-31</td>\n",
              "      <td>smart</td>\n",
              "      <td>50</td>\n",
              "      <td>15.0</td>\n",
              "      <td>500</td>\n",
              "      <td>550</td>\n",
              "      <td>200</td>\n",
              "      <td>3</td>\n",
              "      <td>3</td>\n",
              "      <td>5680.0</td>\n",
              "    </tr>\n",
              "    <tr>\n",
              "      <th>2177</th>\n",
              "      <td>1261</td>\n",
              "      <td>12</td>\n",
              "      <td>141</td>\n",
              "      <td>1074</td>\n",
              "      <td>22</td>\n",
              "      <td>32</td>\n",
              "      <td>46</td>\n",
              "      <td>NaT</td>\n",
              "      <td>Казань</td>\n",
              "      <td>Мадина</td>\n",
              "      <td>Пантелеева</td>\n",
              "      <td>2018-10-30</td>\n",
              "      <td>smart</td>\n",
              "      <td>50</td>\n",
              "      <td>15.0</td>\n",
              "      <td>500</td>\n",
              "      <td>550</td>\n",
              "      <td>200</td>\n",
              "      <td>3</td>\n",
              "      <td>3</td>\n",
              "      <td>5672.0</td>\n",
              "    </tr>\n",
              "    <tr>\n",
              "      <th>2298</th>\n",
              "      <td>1286</td>\n",
              "      <td>12</td>\n",
              "      <td>95</td>\n",
              "      <td>739</td>\n",
              "      <td>68</td>\n",
              "      <td>35</td>\n",
              "      <td>19</td>\n",
              "      <td>NaT</td>\n",
              "      <td>Москва</td>\n",
              "      <td>Рашид</td>\n",
              "      <td>Троицкий</td>\n",
              "      <td>2018-11-27</td>\n",
              "      <td>smart</td>\n",
              "      <td>50</td>\n",
              "      <td>15.0</td>\n",
              "      <td>500</td>\n",
              "      <td>550</td>\n",
              "      <td>200</td>\n",
              "      <td>3</td>\n",
              "      <td>3</td>\n",
              "      <td>5321.0</td>\n",
              "    </tr>\n",
              "  </tbody>\n",
              "</table>\n",
              "</div>\n",
              "      <button class=\"colab-df-convert\" onclick=\"convertToInteractive('df-c53d8851-a8ab-474c-974c-c8e842e75de6')\"\n",
              "              title=\"Convert this dataframe to an interactive table.\"\n",
              "              style=\"display:none;\">\n",
              "        \n",
              "  <svg xmlns=\"http://www.w3.org/2000/svg\" height=\"24px\"viewBox=\"0 0 24 24\"\n",
              "       width=\"24px\">\n",
              "    <path d=\"M0 0h24v24H0V0z\" fill=\"none\"/>\n",
              "    <path d=\"M18.56 5.44l.94 2.06.94-2.06 2.06-.94-2.06-.94-.94-2.06-.94 2.06-2.06.94zm-11 1L8.5 8.5l.94-2.06 2.06-.94-2.06-.94L8.5 2.5l-.94 2.06-2.06.94zm10 10l.94 2.06.94-2.06 2.06-.94-2.06-.94-.94-2.06-.94 2.06-2.06.94z\"/><path d=\"M17.41 7.96l-1.37-1.37c-.4-.4-.92-.59-1.43-.59-.52 0-1.04.2-1.43.59L10.3 9.45l-7.72 7.72c-.78.78-.78 2.05 0 2.83L4 21.41c.39.39.9.59 1.41.59.51 0 1.02-.2 1.41-.59l7.78-7.78 2.81-2.81c.8-.78.8-2.07 0-2.86zM5.41 20L4 18.59l7.72-7.72 1.47 1.35L5.41 20z\"/>\n",
              "  </svg>\n",
              "      </button>\n",
              "      \n",
              "  <style>\n",
              "    .colab-df-container {\n",
              "      display:flex;\n",
              "      flex-wrap:wrap;\n",
              "      gap: 12px;\n",
              "    }\n",
              "\n",
              "    .colab-df-convert {\n",
              "      background-color: #E8F0FE;\n",
              "      border: none;\n",
              "      border-radius: 50%;\n",
              "      cursor: pointer;\n",
              "      display: none;\n",
              "      fill: #1967D2;\n",
              "      height: 32px;\n",
              "      padding: 0 0 0 0;\n",
              "      width: 32px;\n",
              "    }\n",
              "\n",
              "    .colab-df-convert:hover {\n",
              "      background-color: #E2EBFA;\n",
              "      box-shadow: 0px 1px 2px rgba(60, 64, 67, 0.3), 0px 1px 3px 1px rgba(60, 64, 67, 0.15);\n",
              "      fill: #174EA6;\n",
              "    }\n",
              "\n",
              "    [theme=dark] .colab-df-convert {\n",
              "      background-color: #3B4455;\n",
              "      fill: #D2E3FC;\n",
              "    }\n",
              "\n",
              "    [theme=dark] .colab-df-convert:hover {\n",
              "      background-color: #434B5C;\n",
              "      box-shadow: 0px 1px 3px 1px rgba(0, 0, 0, 0.15);\n",
              "      filter: drop-shadow(0px 1px 2px rgba(0, 0, 0, 0.3));\n",
              "      fill: #FFFFFF;\n",
              "    }\n",
              "  </style>\n",
              "\n",
              "      <script>\n",
              "        const buttonEl =\n",
              "          document.querySelector('#df-c53d8851-a8ab-474c-974c-c8e842e75de6 button.colab-df-convert');\n",
              "        buttonEl.style.display =\n",
              "          google.colab.kernel.accessAllowed ? 'block' : 'none';\n",
              "\n",
              "        async function convertToInteractive(key) {\n",
              "          const element = document.querySelector('#df-c53d8851-a8ab-474c-974c-c8e842e75de6');\n",
              "          const dataTable =\n",
              "            await google.colab.kernel.invokeFunction('convertToInteractive',\n",
              "                                                     [key], {});\n",
              "          if (!dataTable) return;\n",
              "\n",
              "          const docLinkHtml = 'Like what you see? Visit the ' +\n",
              "            '<a target=\"_blank\" href=https://colab.research.google.com/notebooks/data_table.ipynb>data table notebook</a>'\n",
              "            + ' to learn more about interactive tables.';\n",
              "          element.innerHTML = '';\n",
              "          dataTable['output_type'] = 'display_data';\n",
              "          await google.colab.output.renderOutput(dataTable, element);\n",
              "          const docLink = document.createElement('div');\n",
              "          docLink.innerHTML = docLinkHtml;\n",
              "          element.appendChild(docLink);\n",
              "        }\n",
              "      </script>\n",
              "    </div>\n",
              "  </div>\n",
              "  "
            ],
            "text/plain": [
              "      user_id  month  call_number  ...  rub_per_message  rub_per_minute  total_fee\n",
              "3156     1486     12          133  ...                3               3     6770.0\n",
              "1183     1042     12          121  ...                3               3     5709.0\n",
              "3155     1486     11          108  ...                3               3     5680.0\n",
              "2177     1261     12          141  ...                3               3     5672.0\n",
              "2298     1286     12           95  ...                3               3     5321.0\n",
              "\n",
              "[5 rows x 21 columns]"
            ]
          },
          "metadata": {},
          "execution_count": 51
        }
      ],
      "source": [
        "df.sort_values(by='total_fee', ascending=False).head()"
      ]
    },
    {
      "cell_type": "code",
      "execution_count": null,
      "metadata": {
        "colab": {
          "base_uri": "https://localhost:8080/"
        },
        "id": "MLlCkJUmCcw3",
        "outputId": "3802f7ef-a9ef-434e-9292-b4427c8a3503"
      },
      "outputs": [
        {
          "output_type": "stream",
          "name": "stdout",
          "text": [
            "<class 'pandas.core.frame.DataFrame'>\n",
            "Int64Index: 3214 entries, 0 to 3213\n",
            "Data columns (total 21 columns):\n",
            " #   Column                 Non-Null Count  Dtype         \n",
            "---  ------                 --------------  -----         \n",
            " 0   user_id                3214 non-null   int64         \n",
            " 1   month                  3214 non-null   int64         \n",
            " 2   call_number            3214 non-null   int64         \n",
            " 3   minutes                3214 non-null   int64         \n",
            " 4   msg_number             3214 non-null   int64         \n",
            " 5   gb_used                3214 non-null   int64         \n",
            " 6   age                    3214 non-null   int64         \n",
            " 7   churn_date             187 non-null    datetime64[ns]\n",
            " 8   city                   3214 non-null   object        \n",
            " 9   first_name             3214 non-null   object        \n",
            " 10  last_name              3214 non-null   object        \n",
            " 11  reg_date               3214 non-null   datetime64[ns]\n",
            " 12  tariff                 3214 non-null   object        \n",
            " 13  messages_included      3214 non-null   int64         \n",
            " 14  gb_per_month_included  3214 non-null   float64       \n",
            " 15  minutes_included       3214 non-null   int64         \n",
            " 16  rub_monthly_fee        3214 non-null   int64         \n",
            " 17  rub_per_gb             3214 non-null   int64         \n",
            " 18  rub_per_message        3214 non-null   int64         \n",
            " 19  rub_per_minute         3214 non-null   int64         \n",
            " 20  total_fee              3214 non-null   float64       \n",
            "dtypes: datetime64[ns](2), float64(2), int64(13), object(4)\n",
            "memory usage: 552.4+ KB\n"
          ]
        }
      ],
      "source": [
        "df.info()"
      ]
    },
    {
      "cell_type": "markdown",
      "metadata": {
        "id": "A1tLG9AzBvkE"
      },
      "source": [
        "Для дальнейшей работе приведем финальную таблицу в нужный вид (уберем лишние признаки (Фамилию, Имя, данные о тарифах):)"
      ]
    },
    {
      "cell_type": "code",
      "execution_count": null,
      "metadata": {
        "id": "zJRJMDjqB-ZD"
      },
      "outputs": [],
      "source": [
        "df['total_fee'] = df['total_fee'].astype('int')"
      ]
    },
    {
      "cell_type": "code",
      "execution_count": null,
      "metadata": {
        "id": "iCXBNcVpEHz7"
      },
      "outputs": [],
      "source": [
        " df.drop((list(df_tariffs.columns)[:7] + ['first_name', 'last_name']), axis=1, inplace=True) "
      ]
    },
    {
      "cell_type": "markdown",
      "metadata": {
        "id": "BtL0IJrMFnVJ"
      },
      "source": [
        "Выведем финальную таблицу:"
      ]
    },
    {
      "cell_type": "code",
      "execution_count": null,
      "metadata": {
        "colab": {
          "base_uri": "https://localhost:8080/",
          "height": 206
        },
        "id": "mjT22MoTFpLs",
        "outputId": "81129f73-35a4-49b5-991b-ae7c470f149d"
      },
      "outputs": [
        {
          "output_type": "execute_result",
          "data": {
            "text/html": [
              "\n",
              "  <div id=\"df-ba618379-c548-47a2-96ef-66c7b308b09f\">\n",
              "    <div class=\"colab-df-container\">\n",
              "      <div>\n",
              "<style scoped>\n",
              "    .dataframe tbody tr th:only-of-type {\n",
              "        vertical-align: middle;\n",
              "    }\n",
              "\n",
              "    .dataframe tbody tr th {\n",
              "        vertical-align: top;\n",
              "    }\n",
              "\n",
              "    .dataframe thead th {\n",
              "        text-align: right;\n",
              "    }\n",
              "</style>\n",
              "<table border=\"1\" class=\"dataframe\">\n",
              "  <thead>\n",
              "    <tr style=\"text-align: right;\">\n",
              "      <th></th>\n",
              "      <th>user_id</th>\n",
              "      <th>month</th>\n",
              "      <th>call_number</th>\n",
              "      <th>minutes</th>\n",
              "      <th>msg_number</th>\n",
              "      <th>gb_used</th>\n",
              "      <th>age</th>\n",
              "      <th>churn_date</th>\n",
              "      <th>city</th>\n",
              "      <th>reg_date</th>\n",
              "      <th>tariff</th>\n",
              "      <th>total_fee</th>\n",
              "    </tr>\n",
              "  </thead>\n",
              "  <tbody>\n",
              "    <tr>\n",
              "      <th>0</th>\n",
              "      <td>1000</td>\n",
              "      <td>5</td>\n",
              "      <td>22</td>\n",
              "      <td>159</td>\n",
              "      <td>22</td>\n",
              "      <td>3</td>\n",
              "      <td>52</td>\n",
              "      <td>NaT</td>\n",
              "      <td>Краснодар</td>\n",
              "      <td>2018-05-25</td>\n",
              "      <td>ultra</td>\n",
              "      <td>1950</td>\n",
              "    </tr>\n",
              "    <tr>\n",
              "      <th>1</th>\n",
              "      <td>1000</td>\n",
              "      <td>6</td>\n",
              "      <td>43</td>\n",
              "      <td>172</td>\n",
              "      <td>60</td>\n",
              "      <td>23</td>\n",
              "      <td>52</td>\n",
              "      <td>NaT</td>\n",
              "      <td>Краснодар</td>\n",
              "      <td>2018-05-25</td>\n",
              "      <td>ultra</td>\n",
              "      <td>1950</td>\n",
              "    </tr>\n",
              "    <tr>\n",
              "      <th>2</th>\n",
              "      <td>1000</td>\n",
              "      <td>7</td>\n",
              "      <td>47</td>\n",
              "      <td>340</td>\n",
              "      <td>75</td>\n",
              "      <td>14</td>\n",
              "      <td>52</td>\n",
              "      <td>NaT</td>\n",
              "      <td>Краснодар</td>\n",
              "      <td>2018-05-25</td>\n",
              "      <td>ultra</td>\n",
              "      <td>1950</td>\n",
              "    </tr>\n",
              "    <tr>\n",
              "      <th>3</th>\n",
              "      <td>1000</td>\n",
              "      <td>8</td>\n",
              "      <td>52</td>\n",
              "      <td>408</td>\n",
              "      <td>81</td>\n",
              "      <td>14</td>\n",
              "      <td>52</td>\n",
              "      <td>NaT</td>\n",
              "      <td>Краснодар</td>\n",
              "      <td>2018-05-25</td>\n",
              "      <td>ultra</td>\n",
              "      <td>1950</td>\n",
              "    </tr>\n",
              "    <tr>\n",
              "      <th>4</th>\n",
              "      <td>1000</td>\n",
              "      <td>9</td>\n",
              "      <td>58</td>\n",
              "      <td>466</td>\n",
              "      <td>57</td>\n",
              "      <td>15</td>\n",
              "      <td>52</td>\n",
              "      <td>NaT</td>\n",
              "      <td>Краснодар</td>\n",
              "      <td>2018-05-25</td>\n",
              "      <td>ultra</td>\n",
              "      <td>1950</td>\n",
              "    </tr>\n",
              "  </tbody>\n",
              "</table>\n",
              "</div>\n",
              "      <button class=\"colab-df-convert\" onclick=\"convertToInteractive('df-ba618379-c548-47a2-96ef-66c7b308b09f')\"\n",
              "              title=\"Convert this dataframe to an interactive table.\"\n",
              "              style=\"display:none;\">\n",
              "        \n",
              "  <svg xmlns=\"http://www.w3.org/2000/svg\" height=\"24px\"viewBox=\"0 0 24 24\"\n",
              "       width=\"24px\">\n",
              "    <path d=\"M0 0h24v24H0V0z\" fill=\"none\"/>\n",
              "    <path d=\"M18.56 5.44l.94 2.06.94-2.06 2.06-.94-2.06-.94-.94-2.06-.94 2.06-2.06.94zm-11 1L8.5 8.5l.94-2.06 2.06-.94-2.06-.94L8.5 2.5l-.94 2.06-2.06.94zm10 10l.94 2.06.94-2.06 2.06-.94-2.06-.94-.94-2.06-.94 2.06-2.06.94z\"/><path d=\"M17.41 7.96l-1.37-1.37c-.4-.4-.92-.59-1.43-.59-.52 0-1.04.2-1.43.59L10.3 9.45l-7.72 7.72c-.78.78-.78 2.05 0 2.83L4 21.41c.39.39.9.59 1.41.59.51 0 1.02-.2 1.41-.59l7.78-7.78 2.81-2.81c.8-.78.8-2.07 0-2.86zM5.41 20L4 18.59l7.72-7.72 1.47 1.35L5.41 20z\"/>\n",
              "  </svg>\n",
              "      </button>\n",
              "      \n",
              "  <style>\n",
              "    .colab-df-container {\n",
              "      display:flex;\n",
              "      flex-wrap:wrap;\n",
              "      gap: 12px;\n",
              "    }\n",
              "\n",
              "    .colab-df-convert {\n",
              "      background-color: #E8F0FE;\n",
              "      border: none;\n",
              "      border-radius: 50%;\n",
              "      cursor: pointer;\n",
              "      display: none;\n",
              "      fill: #1967D2;\n",
              "      height: 32px;\n",
              "      padding: 0 0 0 0;\n",
              "      width: 32px;\n",
              "    }\n",
              "\n",
              "    .colab-df-convert:hover {\n",
              "      background-color: #E2EBFA;\n",
              "      box-shadow: 0px 1px 2px rgba(60, 64, 67, 0.3), 0px 1px 3px 1px rgba(60, 64, 67, 0.15);\n",
              "      fill: #174EA6;\n",
              "    }\n",
              "\n",
              "    [theme=dark] .colab-df-convert {\n",
              "      background-color: #3B4455;\n",
              "      fill: #D2E3FC;\n",
              "    }\n",
              "\n",
              "    [theme=dark] .colab-df-convert:hover {\n",
              "      background-color: #434B5C;\n",
              "      box-shadow: 0px 1px 3px 1px rgba(0, 0, 0, 0.15);\n",
              "      filter: drop-shadow(0px 1px 2px rgba(0, 0, 0, 0.3));\n",
              "      fill: #FFFFFF;\n",
              "    }\n",
              "  </style>\n",
              "\n",
              "      <script>\n",
              "        const buttonEl =\n",
              "          document.querySelector('#df-ba618379-c548-47a2-96ef-66c7b308b09f button.colab-df-convert');\n",
              "        buttonEl.style.display =\n",
              "          google.colab.kernel.accessAllowed ? 'block' : 'none';\n",
              "\n",
              "        async function convertToInteractive(key) {\n",
              "          const element = document.querySelector('#df-ba618379-c548-47a2-96ef-66c7b308b09f');\n",
              "          const dataTable =\n",
              "            await google.colab.kernel.invokeFunction('convertToInteractive',\n",
              "                                                     [key], {});\n",
              "          if (!dataTable) return;\n",
              "\n",
              "          const docLinkHtml = 'Like what you see? Visit the ' +\n",
              "            '<a target=\"_blank\" href=https://colab.research.google.com/notebooks/data_table.ipynb>data table notebook</a>'\n",
              "            + ' to learn more about interactive tables.';\n",
              "          element.innerHTML = '';\n",
              "          dataTable['output_type'] = 'display_data';\n",
              "          await google.colab.output.renderOutput(dataTable, element);\n",
              "          const docLink = document.createElement('div');\n",
              "          docLink.innerHTML = docLinkHtml;\n",
              "          element.appendChild(docLink);\n",
              "        }\n",
              "      </script>\n",
              "    </div>\n",
              "  </div>\n",
              "  "
            ],
            "text/plain": [
              "   user_id  month  call_number  minutes  ...       city   reg_date  tariff total_fee\n",
              "0     1000      5           22      159  ...  Краснодар 2018-05-25   ultra      1950\n",
              "1     1000      6           43      172  ...  Краснодар 2018-05-25   ultra      1950\n",
              "2     1000      7           47      340  ...  Краснодар 2018-05-25   ultra      1950\n",
              "3     1000      8           52      408  ...  Краснодар 2018-05-25   ultra      1950\n",
              "4     1000      9           58      466  ...  Краснодар 2018-05-25   ultra      1950\n",
              "\n",
              "[5 rows x 12 columns]"
            ]
          },
          "metadata": {},
          "execution_count": 55
        }
      ],
      "source": [
        "df.head()"
      ]
    },
    {
      "cell_type": "markdown",
      "metadata": {
        "id": "m3S5vIxtueJ1"
      },
      "source": [
        "Проверим наличие дубликатов:"
      ]
    },
    {
      "cell_type": "code",
      "execution_count": null,
      "metadata": {
        "colab": {
          "base_uri": "https://localhost:8080/"
        },
        "id": "jRBSu0OWucmI",
        "outputId": "2c08e2d1-dfa6-483c-b7a4-af9dddd3cd66"
      },
      "outputs": [
        {
          "output_type": "execute_result",
          "data": {
            "text/plain": [
              "0"
            ]
          },
          "metadata": {},
          "execution_count": 56
        }
      ],
      "source": [
        "df.duplicated().sum()"
      ]
    },
    {
      "cell_type": "markdown",
      "metadata": {
        "id": "kKKUUDU5uhzI"
      },
      "source": [
        "### Вывод"
      ]
    },
    {
      "cell_type": "markdown",
      "metadata": {
        "id": "CU7EQIqZulTi"
      },
      "source": [
        "Подготовили сводную общую таблицу для дальнейшей работы.  \n",
        "Добавили колонку `'total_fee'` с помесячной выручкой по каждому пользователю.  \n",
        "Определили отсутствие дубликатов, привели данные с датами к типу дата.\n"
      ]
    },
    {
      "cell_type": "markdown",
      "metadata": {
        "id": "V0sb4tuIlHga"
      },
      "source": [
        "## **Шаг 3.** Анализ данных"
      ]
    },
    {
      "cell_type": "markdown",
      "metadata": {
        "id": "y6kQ2E501JU6"
      },
      "source": [
        "Создадим датафрейм с тарифом \"Ультра\":"
      ]
    },
    {
      "cell_type": "code",
      "execution_count": null,
      "metadata": {
        "id": "ic6MTVqAlVZT"
      },
      "outputs": [],
      "source": [
        "df_ultra = (df[df['tariff'] == 'ultra']).copy()"
      ]
    },
    {
      "cell_type": "markdown",
      "metadata": {
        "id": "V4PP0RRB1c8U"
      },
      "source": [
        "Создадим датафрейм с тарифом \"Смарт\":"
      ]
    },
    {
      "cell_type": "code",
      "execution_count": null,
      "metadata": {
        "id": "HX69j2dGlK3M"
      },
      "outputs": [],
      "source": [
        "df_smart = (df[df['tariff'] == 'smart']).copy()"
      ]
    },
    {
      "cell_type": "markdown",
      "metadata": {
        "id": "EY7NLGMgFaPZ"
      },
      "source": [
        "### Минуты на тарифах"
      ]
    },
    {
      "cell_type": "markdown",
      "metadata": {
        "id": "EZKU8-T-2zWS"
      },
      "source": [
        "Посмотрим список характерных значения для минут, на тарифе \"Смарт\" и \"Ультра\":"
      ]
    },
    {
      "cell_type": "code",
      "execution_count": null,
      "metadata": {
        "colab": {
          "base_uri": "https://localhost:8080/",
          "height": 143
        },
        "id": "KAa3iYABF2j8",
        "outputId": "2a9e4ea0-e512-41f5-ef6e-02ed9009ebc5"
      },
      "outputs": [
        {
          "output_type": "execute_result",
          "data": {
            "text/html": [
              "\n",
              "  <div id=\"df-fbb40f59-9ddd-4f27-b16d-e32994ab9738\">\n",
              "    <div class=\"colab-df-container\">\n",
              "      <div>\n",
              "<style scoped>\n",
              "    .dataframe tbody tr th:only-of-type {\n",
              "        vertical-align: middle;\n",
              "    }\n",
              "\n",
              "    .dataframe tbody tr th {\n",
              "        vertical-align: top;\n",
              "    }\n",
              "\n",
              "    .dataframe thead tr th {\n",
              "        text-align: left;\n",
              "    }\n",
              "</style>\n",
              "<table border=\"1\" class=\"dataframe\">\n",
              "  <thead>\n",
              "    <tr>\n",
              "      <th></th>\n",
              "      <th>tariff</th>\n",
              "      <th colspan=\"8\" halign=\"left\">describe</th>\n",
              "      <th>var</th>\n",
              "    </tr>\n",
              "    <tr>\n",
              "      <th></th>\n",
              "      <th></th>\n",
              "      <th>count</th>\n",
              "      <th>mean</th>\n",
              "      <th>std</th>\n",
              "      <th>min</th>\n",
              "      <th>25%</th>\n",
              "      <th>50%</th>\n",
              "      <th>75%</th>\n",
              "      <th>max</th>\n",
              "      <th>minutes</th>\n",
              "    </tr>\n",
              "  </thead>\n",
              "  <tbody>\n",
              "    <tr>\n",
              "      <th>0</th>\n",
              "      <td>smart</td>\n",
              "      <td>2229.0</td>\n",
              "      <td>417.934948</td>\n",
              "      <td>190.313730</td>\n",
              "      <td>0.0</td>\n",
              "      <td>282.0</td>\n",
              "      <td>422.0</td>\n",
              "      <td>545.0</td>\n",
              "      <td>1435.0</td>\n",
              "      <td>36219.315784</td>\n",
              "    </tr>\n",
              "    <tr>\n",
              "      <th>1</th>\n",
              "      <td>ultra</td>\n",
              "      <td>985.0</td>\n",
              "      <td>526.623350</td>\n",
              "      <td>317.606098</td>\n",
              "      <td>0.0</td>\n",
              "      <td>284.0</td>\n",
              "      <td>518.0</td>\n",
              "      <td>752.0</td>\n",
              "      <td>1673.0</td>\n",
              "      <td>100873.633397</td>\n",
              "    </tr>\n",
              "  </tbody>\n",
              "</table>\n",
              "</div>\n",
              "      <button class=\"colab-df-convert\" onclick=\"convertToInteractive('df-fbb40f59-9ddd-4f27-b16d-e32994ab9738')\"\n",
              "              title=\"Convert this dataframe to an interactive table.\"\n",
              "              style=\"display:none;\">\n",
              "        \n",
              "  <svg xmlns=\"http://www.w3.org/2000/svg\" height=\"24px\"viewBox=\"0 0 24 24\"\n",
              "       width=\"24px\">\n",
              "    <path d=\"M0 0h24v24H0V0z\" fill=\"none\"/>\n",
              "    <path d=\"M18.56 5.44l.94 2.06.94-2.06 2.06-.94-2.06-.94-.94-2.06-.94 2.06-2.06.94zm-11 1L8.5 8.5l.94-2.06 2.06-.94-2.06-.94L8.5 2.5l-.94 2.06-2.06.94zm10 10l.94 2.06.94-2.06 2.06-.94-2.06-.94-.94-2.06-.94 2.06-2.06.94z\"/><path d=\"M17.41 7.96l-1.37-1.37c-.4-.4-.92-.59-1.43-.59-.52 0-1.04.2-1.43.59L10.3 9.45l-7.72 7.72c-.78.78-.78 2.05 0 2.83L4 21.41c.39.39.9.59 1.41.59.51 0 1.02-.2 1.41-.59l7.78-7.78 2.81-2.81c.8-.78.8-2.07 0-2.86zM5.41 20L4 18.59l7.72-7.72 1.47 1.35L5.41 20z\"/>\n",
              "  </svg>\n",
              "      </button>\n",
              "      \n",
              "  <style>\n",
              "    .colab-df-container {\n",
              "      display:flex;\n",
              "      flex-wrap:wrap;\n",
              "      gap: 12px;\n",
              "    }\n",
              "\n",
              "    .colab-df-convert {\n",
              "      background-color: #E8F0FE;\n",
              "      border: none;\n",
              "      border-radius: 50%;\n",
              "      cursor: pointer;\n",
              "      display: none;\n",
              "      fill: #1967D2;\n",
              "      height: 32px;\n",
              "      padding: 0 0 0 0;\n",
              "      width: 32px;\n",
              "    }\n",
              "\n",
              "    .colab-df-convert:hover {\n",
              "      background-color: #E2EBFA;\n",
              "      box-shadow: 0px 1px 2px rgba(60, 64, 67, 0.3), 0px 1px 3px 1px rgba(60, 64, 67, 0.15);\n",
              "      fill: #174EA6;\n",
              "    }\n",
              "\n",
              "    [theme=dark] .colab-df-convert {\n",
              "      background-color: #3B4455;\n",
              "      fill: #D2E3FC;\n",
              "    }\n",
              "\n",
              "    [theme=dark] .colab-df-convert:hover {\n",
              "      background-color: #434B5C;\n",
              "      box-shadow: 0px 1px 3px 1px rgba(0, 0, 0, 0.15);\n",
              "      filter: drop-shadow(0px 1px 2px rgba(0, 0, 0, 0.3));\n",
              "      fill: #FFFFFF;\n",
              "    }\n",
              "  </style>\n",
              "\n",
              "      <script>\n",
              "        const buttonEl =\n",
              "          document.querySelector('#df-fbb40f59-9ddd-4f27-b16d-e32994ab9738 button.colab-df-convert');\n",
              "        buttonEl.style.display =\n",
              "          google.colab.kernel.accessAllowed ? 'block' : 'none';\n",
              "\n",
              "        async function convertToInteractive(key) {\n",
              "          const element = document.querySelector('#df-fbb40f59-9ddd-4f27-b16d-e32994ab9738');\n",
              "          const dataTable =\n",
              "            await google.colab.kernel.invokeFunction('convertToInteractive',\n",
              "                                                     [key], {});\n",
              "          if (!dataTable) return;\n",
              "\n",
              "          const docLinkHtml = 'Like what you see? Visit the ' +\n",
              "            '<a target=\"_blank\" href=https://colab.research.google.com/notebooks/data_table.ipynb>data table notebook</a>'\n",
              "            + ' to learn more about interactive tables.';\n",
              "          element.innerHTML = '';\n",
              "          dataTable['output_type'] = 'display_data';\n",
              "          await google.colab.output.renderOutput(dataTable, element);\n",
              "          const docLink = document.createElement('div');\n",
              "          docLink.innerHTML = docLinkHtml;\n",
              "          element.appendChild(docLink);\n",
              "        }\n",
              "      </script>\n",
              "    </div>\n",
              "  </div>\n",
              "  "
            ],
            "text/plain": [
              "  tariff describe                          ...                                  var\n",
              "            count        mean         std  ...    50%    75%     max        minutes\n",
              "0  smart   2229.0  417.934948  190.313730  ...  422.0  545.0  1435.0   36219.315784\n",
              "1  ultra    985.0  526.623350  317.606098  ...  518.0  752.0  1673.0  100873.633397\n",
              "\n",
              "[2 rows x 10 columns]"
            ]
          },
          "metadata": {},
          "execution_count": 59
        }
      ],
      "source": [
        "df.groupby(['tariff'])['minutes'].agg(['describe', np.var]).reset_index()"
      ]
    },
    {
      "cell_type": "markdown",
      "metadata": {
        "id": "Ez65Gn9G9a0F"
      },
      "source": [
        "Построим распределение расхода минут на тарифах:"
      ]
    },
    {
      "cell_type": "code",
      "execution_count": null,
      "metadata": {
        "colab": {
          "base_uri": "https://localhost:8080/",
          "height": 350
        },
        "id": "31qD4m6WJKbR",
        "outputId": "a4ede1c3-46cf-48c5-fd2a-d3ca55b1f154"
      },
      "outputs": [
        {
          "output_type": "display_data",
          "data": {
            "image/png": "[encoded data removed]",
            "text/plain": [
              "<Figure size 720x360 with 1 Axes>"
            ]
          },
          "metadata": {
            "needs_background": "light"
          }
        }
      ],
      "source": [
        "plt.rcParams['figure.figsize']=(10, 5)\n",
        "sns.histplot(data=df_ultra, x=\"minutes\", kde=True)\n",
        "plt.title('Распределение расхода минут на тарифе Ultra')\n",
        "plt.ylabel('Плотность')\n",
        "plt.xlabel('Количество минут')\n",
        "plt.grid(color='grey', axis='both', alpha=0.8)\n",
        "plt.axvline(x=3000, c=\"orange\", linewidth = 3, linestyle='-.') # лимит на тарифе\n",
        "plt.axvline(x=np.median(df_ultra['minutes']), c=\"red\", linewidth = 3) # медиана\n",
        "# интервал наиболее частых значений\n",
        "plt.axvline(x=np.percentile(df_ultra['minutes'], 25), c='g', linestyle=':', linewidth = 3)\n",
        "plt.axvline(x=np.percentile(df_ultra['minutes'], 75), c='g', linestyle=':', linewidth = 3)\n",
        "plt.xticks(np.arange(0, 3100, 250))\n",
        "plt.yticks(np.arange(0, 150, 10))\n",
        "plt.show()"
      ]
    },
    {
      "cell_type": "markdown",
      "metadata": {
        "id": "rxdLSME8AVxc"
      },
      "source": [
        "Примечание:  \n",
        "Зеленые линии - интервал наиболее частных значений.  \n",
        "Красная линия - медиана.  \n",
        "Оранжевая линия - лимит по тарифу.  "
      ]
    },
    {
      "cell_type": "code",
      "execution_count": null,
      "metadata": {
        "colab": {
          "base_uri": "https://localhost:8080/",
          "height": 350
        },
        "id": "jHTo-oZlIO95",
        "outputId": "a2a80c86-b79d-41d1-bc23-71d367065c7b"
      },
      "outputs": [
        {
          "output_type": "display_data",
          "data": {
            "image/png": "[encoded data removed]",
            "text/plain": [
              "<Figure size 720x360 with 1 Axes>"
            ]
          },
          "metadata": {
            "needs_background": "light"
          }
        }
      ],
      "source": [
        "plt.rcParams['figure.figsize']=(10, 5)\n",
        "sns.histplot(data=df_smart, x=\"minutes\", kde=True)\n",
        "plt.title('Распределение расхода минут на тарифе Smart')\n",
        "plt.ylabel('Плотность')\n",
        "plt.xlabel('Количество минут')\n",
        "plt.grid(color='grey', axis='both', alpha=0.8)\n",
        "plt.axvline(x=500, c=\"orange\", linewidth = 3, linestyle='-.') # лимит на тарифе\n",
        "plt.axvline(x=np.median(df_smart['minutes']), c=\"red\", linewidth = 3) # медиана\n",
        "# интервал наиболее частых значений\n",
        "plt.axvline(x=np.percentile(df_smart['minutes'], 25), c='g', linestyle=':', linewidth = 3)\n",
        "plt.axvline(x=np.percentile(df_smart['minutes'], 75), c='g', linestyle=':', linewidth = 3)\n",
        "plt.xticks(np.arange(0, 1500, 100))\n",
        "plt.yticks(np.arange(0, 200, 20))\n",
        "plt.show()"
      ]
    },
    {
      "cell_type": "markdown",
      "metadata": {
        "id": "MkndxKJAAkVO"
      },
      "source": [
        "Примечание:  \n",
        "Зеленые линии - интервал наиболее частных значений.  \n",
        "Красная линия - медиана.  \n",
        "Оранжевая линия - лимит по тарифу.  "
      ]
    },
    {
      "cell_type": "markdown",
      "metadata": {
        "id": "1l47jEEwE_j8"
      },
      "source": [
        "Доля пользователей, которые расходуют минут больше, чем по лимиту на тарифе:"
      ]
    },
    {
      "cell_type": "code",
      "execution_count": null,
      "metadata": {
        "colab": {
          "base_uri": "https://localhost:8080/"
        },
        "id": "Yy9h70x-De7z",
        "outputId": "30f06805-b3a3-41e4-cd2d-727bb25fba57"
      },
      "outputs": [
        {
          "output_type": "execute_result",
          "data": {
            "text/plain": [
              "0.33315809361132764"
            ]
          },
          "metadata": {},
          "execution_count": 62
        }
      ],
      "source": [
        "1 - st.norm(df_smart['minutes'].mean(), df_smart['minutes'].std()).cdf(500)"
      ]
    },
    {
      "cell_type": "markdown",
      "metadata": {
        "id": "t5OWqrfJIK7G"
      },
      "source": [
        "Представим в виде диграммы размаха:"
      ]
    },
    {
      "cell_type": "code",
      "execution_count": null,
      "metadata": {
        "colab": {
          "base_uri": "https://localhost:8080/",
          "height": 295
        },
        "id": "-xM-fqOwoz3Z",
        "outputId": "6d466f5f-3264-4fe2-f718-9f9d3825a2ef"
      },
      "outputs": [
        {
          "output_type": "display_data",
          "data": {
            "image/png": "[encoded data removed]",
            "text/plain": [
              "<Figure size 1080x288 with 1 Axes>"
            ]
          },
          "metadata": {
            "needs_background": "light"
          }
        }
      ],
      "source": [
        "plt.rcParams['figure.figsize']=(15, 4)\n",
        "sns.boxplot(x=df['minutes'], y=df[\"tariff\"], orient=\"h\")\n",
        "plt.title('Диаграмма размаха среднего количества минут разговора по двум тарифам')\n",
        "plt.ylabel('Наименование тарифа')\n",
        "plt.xlabel('Количество минут')\n",
        "plt.grid(color='grey', axis='both', alpha=0.8)\n",
        "plt.xticks(np.arange(0, 2000, 100))\n",
        "plt.show()"
      ]
    },
    {
      "cell_type": "markdown",
      "metadata": {
        "id": "1Slk0LZGBnWa"
      },
      "source": [
        "#### Вывод"
      ]
    },
    {
      "cell_type": "markdown",
      "metadata": {
        "id": "Kj1XoxuJBq0z"
      },
      "source": [
        "Пользователи тарифа \"Ультра\" в среднем используют от 284 до 752 минут в месяц.  \n",
        "Пользователи тарифа \"Смарт\" в среднем используют от 282 до 545 минут в месяц.  \n",
        "Стоит отметить, что 33% клиентов тарифа \"Смарт\" не укладываются в лимит по минутам (500 минут).  \n",
        "Напротив, пользователи тарифа \"Ультра\" расходуют меньше минут, чем есть на тарифе."
      ]
    },
    {
      "cell_type": "markdown",
      "metadata": {
        "id": "MLNwXiZoCbWN"
      },
      "source": [
        "### Сообщения на тарифах"
      ]
    },
    {
      "cell_type": "markdown",
      "metadata": {
        "id": "JiIAnVVQIcor"
      },
      "source": [
        "Посмотрим список характерных значения для сообщений, на тарифе \"Смарт\" и \"Ультра\":"
      ]
    },
    {
      "cell_type": "code",
      "execution_count": null,
      "metadata": {
        "colab": {
          "base_uri": "https://localhost:8080/",
          "height": 143
        },
        "id": "hPQgDtERIcor",
        "outputId": "74920975-6867-4b11-ddd9-367e6847cf98"
      },
      "outputs": [
        {
          "output_type": "execute_result",
          "data": {
            "text/html": [
              "\n",
              "  <div id=\"df-7db634c1-a210-4b84-9cf1-f9845a000dc0\">\n",
              "    <div class=\"colab-df-container\">\n",
              "      <div>\n",
              "<style scoped>\n",
              "    .dataframe tbody tr th:only-of-type {\n",
              "        vertical-align: middle;\n",
              "    }\n",
              "\n",
              "    .dataframe tbody tr th {\n",
              "        vertical-align: top;\n",
              "    }\n",
              "\n",
              "    .dataframe thead tr th {\n",
              "        text-align: left;\n",
              "    }\n",
              "</style>\n",
              "<table border=\"1\" class=\"dataframe\">\n",
              "  <thead>\n",
              "    <tr>\n",
              "      <th></th>\n",
              "      <th>tariff</th>\n",
              "      <th colspan=\"8\" halign=\"left\">describe</th>\n",
              "      <th>var</th>\n",
              "    </tr>\n",
              "    <tr>\n",
              "      <th></th>\n",
              "      <th></th>\n",
              "      <th>count</th>\n",
              "      <th>mean</th>\n",
              "      <th>std</th>\n",
              "      <th>min</th>\n",
              "      <th>25%</th>\n",
              "      <th>50%</th>\n",
              "      <th>75%</th>\n",
              "      <th>max</th>\n",
              "      <th>msg_number</th>\n",
              "    </tr>\n",
              "  </thead>\n",
              "  <tbody>\n",
              "    <tr>\n",
              "      <th>0</th>\n",
              "      <td>smart</td>\n",
              "      <td>2229.0</td>\n",
              "      <td>33.384029</td>\n",
              "      <td>28.227876</td>\n",
              "      <td>0.0</td>\n",
              "      <td>10.0</td>\n",
              "      <td>28.0</td>\n",
              "      <td>51.0</td>\n",
              "      <td>143.0</td>\n",
              "      <td>796.812958</td>\n",
              "    </tr>\n",
              "    <tr>\n",
              "      <th>1</th>\n",
              "      <td>ultra</td>\n",
              "      <td>985.0</td>\n",
              "      <td>49.363452</td>\n",
              "      <td>47.804457</td>\n",
              "      <td>0.0</td>\n",
              "      <td>6.0</td>\n",
              "      <td>38.0</td>\n",
              "      <td>79.0</td>\n",
              "      <td>224.0</td>\n",
              "      <td>2285.266143</td>\n",
              "    </tr>\n",
              "  </tbody>\n",
              "</table>\n",
              "</div>\n",
              "      <button class=\"colab-df-convert\" onclick=\"convertToInteractive('df-7db634c1-a210-4b84-9cf1-f9845a000dc0')\"\n",
              "              title=\"Convert this dataframe to an interactive table.\"\n",
              "              style=\"display:none;\">\n",
              "        \n",
              "  <svg xmlns=\"http://www.w3.org/2000/svg\" height=\"24px\"viewBox=\"0 0 24 24\"\n",
              "       width=\"24px\">\n",
              "    <path d=\"M0 0h24v24H0V0z\" fill=\"none\"/>\n",
              "    <path d=\"M18.56 5.44l.94 2.06.94-2.06 2.06-.94-2.06-.94-.94-2.06-.94 2.06-2.06.94zm-11 1L8.5 8.5l.94-2.06 2.06-.94-2.06-.94L8.5 2.5l-.94 2.06-2.06.94zm10 10l.94 2.06.94-2.06 2.06-.94-2.06-.94-.94-2.06-.94 2.06-2.06.94z\"/><path d=\"M17.41 7.96l-1.37-1.37c-.4-.4-.92-.59-1.43-.59-.52 0-1.04.2-1.43.59L10.3 9.45l-7.72 7.72c-.78.78-.78 2.05 0 2.83L4 21.41c.39.39.9.59 1.41.59.51 0 1.02-.2 1.41-.59l7.78-7.78 2.81-2.81c.8-.78.8-2.07 0-2.86zM5.41 20L4 18.59l7.72-7.72 1.47 1.35L5.41 20z\"/>\n",
              "  </svg>\n",
              "      </button>\n",
              "      \n",
              "  <style>\n",
              "    .colab-df-container {\n",
              "      display:flex;\n",
              "      flex-wrap:wrap;\n",
              "      gap: 12px;\n",
              "    }\n",
              "\n",
              "    .colab-df-convert {\n",
              "      background-color: #E8F0FE;\n",
              "      border: none;\n",
              "      border-radius: 50%;\n",
              "      cursor: pointer;\n",
              "      display: none;\n",
              "      fill: #1967D2;\n",
              "      height: 32px;\n",
              "      padding: 0 0 0 0;\n",
              "      width: 32px;\n",
              "    }\n",
              "\n",
              "    .colab-df-convert:hover {\n",
              "      background-color: #E2EBFA;\n",
              "      box-shadow: 0px 1px 2px rgba(60, 64, 67, 0.3), 0px 1px 3px 1px rgba(60, 64, 67, 0.15);\n",
              "      fill: #174EA6;\n",
              "    }\n",
              "\n",
              "    [theme=dark] .colab-df-convert {\n",
              "      background-color: #3B4455;\n",
              "      fill: #D2E3FC;\n",
              "    }\n",
              "\n",
              "    [theme=dark] .colab-df-convert:hover {\n",
              "      background-color: #434B5C;\n",
              "      box-shadow: 0px 1px 3px 1px rgba(0, 0, 0, 0.15);\n",
              "      filter: drop-shadow(0px 1px 2px rgba(0, 0, 0, 0.3));\n",
              "      fill: #FFFFFF;\n",
              "    }\n",
              "  </style>\n",
              "\n",
              "      <script>\n",
              "        const buttonEl =\n",
              "          document.querySelector('#df-7db634c1-a210-4b84-9cf1-f9845a000dc0 button.colab-df-convert');\n",
              "        buttonEl.style.display =\n",
              "          google.colab.kernel.accessAllowed ? 'block' : 'none';\n",
              "\n",
              "        async function convertToInteractive(key) {\n",
              "          const element = document.querySelector('#df-7db634c1-a210-4b84-9cf1-f9845a000dc0');\n",
              "          const dataTable =\n",
              "            await google.colab.kernel.invokeFunction('convertToInteractive',\n",
              "                                                     [key], {});\n",
              "          if (!dataTable) return;\n",
              "\n",
              "          const docLinkHtml = 'Like what you see? Visit the ' +\n",
              "            '<a target=\"_blank\" href=https://colab.research.google.com/notebooks/data_table.ipynb>data table notebook</a>'\n",
              "            + ' to learn more about interactive tables.';\n",
              "          element.innerHTML = '';\n",
              "          dataTable['output_type'] = 'display_data';\n",
              "          await google.colab.output.renderOutput(dataTable, element);\n",
              "          const docLink = document.createElement('div');\n",
              "          docLink.innerHTML = docLinkHtml;\n",
              "          element.appendChild(docLink);\n",
              "        }\n",
              "      </script>\n",
              "    </div>\n",
              "  </div>\n",
              "  "
            ],
            "text/plain": [
              "  tariff describe                        ...                             var\n",
              "            count       mean        std  ...   50%   75%    max   msg_number\n",
              "0  smart   2229.0  33.384029  28.227876  ...  28.0  51.0  143.0   796.812958\n",
              "1  ultra    985.0  49.363452  47.804457  ...  38.0  79.0  224.0  2285.266143\n",
              "\n",
              "[2 rows x 10 columns]"
            ]
          },
          "metadata": {},
          "execution_count": 65
        }
      ],
      "source": [
        "df.groupby(['tariff'])['msg_number'].agg(['describe', np.var]).reset_index()"
      ]
    },
    {
      "cell_type": "markdown",
      "metadata": {
        "id": "FmYCKrUTIcos"
      },
      "source": [
        "Построим распределение расхода минут на тарифах:"
      ]
    },
    {
      "cell_type": "code",
      "execution_count": null,
      "metadata": {
        "colab": {
          "base_uri": "https://localhost:8080/",
          "height": 350
        },
        "id": "OqMDvBcMIcos",
        "outputId": "465f48bf-f2ca-408e-dba2-90031c1abcc9"
      },
      "outputs": [
        {
          "output_type": "display_data",
          "data": {
            "image/png": "[encoded data removed]",
            "text/plain": [
              "<Figure size 1080x360 with 1 Axes>"
            ]
          },
          "metadata": {
            "needs_background": "light"
          }
        }
      ],
      "source": [
        "plt.rcParams['figure.figsize']=(15, 5)\n",
        "sns.histplot(data=df_ultra, x=\"msg_number\", kde=True)\n",
        "plt.title('Распределение расхода сообщений на тарифе Ultra')\n",
        "plt.ylabel('Плотность')\n",
        "plt.xlabel('Количество сообщений')\n",
        "plt.grid(color='grey', axis='both', alpha=0.8)\n",
        "plt.axvline(x=1000, c=\"orange\", linewidth = 3, linestyle='-.') # лимит на тарифе\n",
        "plt.axvline(x=np.median(df_ultra['msg_number']), c=\"red\", linewidth = 3) # медиана\n",
        "# интервал наиболее частых значений\n",
        "plt.axvline(x=np.percentile(df_ultra['msg_number'], 25), c='g', linestyle=':', linewidth = 3)\n",
        "plt.axvline(x=np.percentile(df_ultra['msg_number'], 75), c='g', linestyle=':', linewidth = 3)\n",
        "plt.xticks(np.arange(0, 1100, 50))\n",
        "plt.yticks(np.arange(0, 300, 25))\n",
        "plt.show()"
      ]
    },
    {
      "cell_type": "markdown",
      "metadata": {
        "id": "Dl2vbHp9Icos"
      },
      "source": [
        "Примечание:  \n",
        "Зеленые линии - интервал наиболее частных значений.  \n",
        "Красная линия - медиана.  \n",
        "Оранжевая линия - лимит по тарифу.  "
      ]
    },
    {
      "cell_type": "code",
      "execution_count": null,
      "metadata": {
        "colab": {
          "base_uri": "https://localhost:8080/",
          "height": 350
        },
        "id": "A0BF0t5MIcos",
        "outputId": "6ab2610e-65a1-4a83-e5b7-0ce3f645112c"
      },
      "outputs": [
        {
          "output_type": "display_data",
          "data": {
            "image/png": "[encoded data removed]",
            "text/plain": [
              "<Figure size 1080x360 with 1 Axes>"
            ]
          },
          "metadata": {
            "needs_background": "light"
          }
        }
      ],
      "source": [
        "plt.rcParams['figure.figsize']=(15, 5)\n",
        "sns.histplot(data=df_smart, x=\"msg_number\", kde=True)\n",
        "plt.title('Распределение расхода сообщений на тарифе Smart')\n",
        "plt.ylabel('Плотность')\n",
        "plt.xlabel('Количество сообщений')\n",
        "plt.grid(color='grey', axis='both', alpha=0.8)\n",
        "plt.axvline(x=50, c=\"orange\", linewidth = 3, linestyle='-.') # лимит на тарифе\n",
        "plt.axvline(x=np.median(df_smart['msg_number']), c=\"red\", linewidth = 3) # медиана\n",
        "# интервал наиболее частых значений\n",
        "plt.axvline(x=np.percentile(df_smart['msg_number'], 25), c='g', linestyle=':', linewidth = 3)\n",
        "plt.axvline(x=np.percentile(df_smart['msg_number'], 75), c='g', linestyle=':', linewidth = 3)\n",
        "plt.xticks(np.arange(0, 150, 5))\n",
        "plt.yticks(np.arange(0, 500, 50))\n",
        "plt.show()"
      ]
    },
    {
      "cell_type": "markdown",
      "metadata": {
        "id": "h1rqGEyhIcos"
      },
      "source": [
        "Примечание:  \n",
        "Зеленые линии - интервал наиболее частных значений.  \n",
        "Красная линия - медиана.  \n",
        "Оранжевая линия - лимит по тарифу.  "
      ]
    },
    {
      "cell_type": "markdown",
      "metadata": {
        "id": "_IVVTqI5Icos"
      },
      "source": [
        "Доля пользователей, которые расходуют сообщений больше, чем по лимиту на тарифе:"
      ]
    },
    {
      "cell_type": "code",
      "execution_count": null,
      "metadata": {
        "colab": {
          "base_uri": "https://localhost:8080/"
        },
        "id": "DdWxYc9AIcos",
        "outputId": "820b4856-0f16-4b48-b4d7-e23383fb90bf"
      },
      "outputs": [
        {
          "output_type": "execute_result",
          "data": {
            "text/plain": [
              "0.27805241224107813"
            ]
          },
          "metadata": {},
          "execution_count": 68
        }
      ],
      "source": [
        "1 - st.norm(df_smart['msg_number'].mean(), df_smart['msg_number'].std()).cdf(50)"
      ]
    },
    {
      "cell_type": "markdown",
      "metadata": {
        "id": "APbNsfCJIcos"
      },
      "source": [
        "Представим в виде диграммы размаха:"
      ]
    },
    {
      "cell_type": "code",
      "execution_count": null,
      "metadata": {
        "colab": {
          "base_uri": "https://localhost:8080/",
          "height": 295
        },
        "id": "uCZdKXWDIcot",
        "outputId": "10ea4032-a83e-416e-e3dd-7679cb8ad2c9"
      },
      "outputs": [
        {
          "output_type": "display_data",
          "data": {
            "image/png": "[encoded data removed]",
            "text/plain": [
              "<Figure size 1080x288 with 1 Axes>"
            ]
          },
          "metadata": {
            "needs_background": "light"
          }
        }
      ],
      "source": [
        "plt.rcParams['figure.figsize']=(15, 4)\n",
        "sns.boxplot(x=df['msg_number'], y=df[\"tariff\"], orient=\"h\")\n",
        "plt.title('Диаграмма размаха среднего количества сообщений по двум тарифам')\n",
        "plt.ylabel('Наименование тарифа')\n",
        "plt.xlabel('Количество сообщений')\n",
        "plt.grid(color='grey', axis='both', alpha=0.8)\n",
        "plt.xticks(np.arange(0, 300, 10))\n",
        "plt.show()"
      ]
    },
    {
      "cell_type": "markdown",
      "metadata": {
        "id": "NQCOWxVML9iK"
      },
      "source": [
        "Определим сколько пользователей не используют сообщения:"
      ]
    },
    {
      "cell_type": "code",
      "execution_count": null,
      "metadata": {
        "colab": {
          "base_uri": "https://localhost:8080/",
          "height": 112
        },
        "id": "tybjm1fbMZVo",
        "outputId": "48929185-9e53-4192-9a09-bc8ad880f992"
      },
      "outputs": [
        {
          "output_type": "execute_result",
          "data": {
            "text/html": [
              "\n",
              "  <div id=\"df-8cc7f65f-06dc-4b02-856c-b06fb25e46f0\">\n",
              "    <div class=\"colab-df-container\">\n",
              "      <div>\n",
              "<style scoped>\n",
              "    .dataframe tbody tr th:only-of-type {\n",
              "        vertical-align: middle;\n",
              "    }\n",
              "\n",
              "    .dataframe tbody tr th {\n",
              "        vertical-align: top;\n",
              "    }\n",
              "\n",
              "    .dataframe thead th {\n",
              "        text-align: right;\n",
              "    }\n",
              "</style>\n",
              "<table border=\"1\" class=\"dataframe\">\n",
              "  <thead>\n",
              "    <tr style=\"text-align: right;\">\n",
              "      <th></th>\n",
              "      <th>tariff</th>\n",
              "      <th>count</th>\n",
              "    </tr>\n",
              "  </thead>\n",
              "  <tbody>\n",
              "    <tr>\n",
              "      <th>0</th>\n",
              "      <td>smart</td>\n",
              "      <td>307</td>\n",
              "    </tr>\n",
              "    <tr>\n",
              "      <th>1</th>\n",
              "      <td>ultra</td>\n",
              "      <td>190</td>\n",
              "    </tr>\n",
              "  </tbody>\n",
              "</table>\n",
              "</div>\n",
              "      <button class=\"colab-df-convert\" onclick=\"convertToInteractive('df-8cc7f65f-06dc-4b02-856c-b06fb25e46f0')\"\n",
              "              title=\"Convert this dataframe to an interactive table.\"\n",
              "              style=\"display:none;\">\n",
              "        \n",
              "  <svg xmlns=\"http://www.w3.org/2000/svg\" height=\"24px\"viewBox=\"0 0 24 24\"\n",
              "       width=\"24px\">\n",
              "    <path d=\"M0 0h24v24H0V0z\" fill=\"none\"/>\n",
              "    <path d=\"M18.56 5.44l.94 2.06.94-2.06 2.06-.94-2.06-.94-.94-2.06-.94 2.06-2.06.94zm-11 1L8.5 8.5l.94-2.06 2.06-.94-2.06-.94L8.5 2.5l-.94 2.06-2.06.94zm10 10l.94 2.06.94-2.06 2.06-.94-2.06-.94-.94-2.06-.94 2.06-2.06.94z\"/><path d=\"M17.41 7.96l-1.37-1.37c-.4-.4-.92-.59-1.43-.59-.52 0-1.04.2-1.43.59L10.3 9.45l-7.72 7.72c-.78.78-.78 2.05 0 2.83L4 21.41c.39.39.9.59 1.41.59.51 0 1.02-.2 1.41-.59l7.78-7.78 2.81-2.81c.8-.78.8-2.07 0-2.86zM5.41 20L4 18.59l7.72-7.72 1.47 1.35L5.41 20z\"/>\n",
              "  </svg>\n",
              "      </button>\n",
              "      \n",
              "  <style>\n",
              "    .colab-df-container {\n",
              "      display:flex;\n",
              "      flex-wrap:wrap;\n",
              "      gap: 12px;\n",
              "    }\n",
              "\n",
              "    .colab-df-convert {\n",
              "      background-color: #E8F0FE;\n",
              "      border: none;\n",
              "      border-radius: 50%;\n",
              "      cursor: pointer;\n",
              "      display: none;\n",
              "      fill: #1967D2;\n",
              "      height: 32px;\n",
              "      padding: 0 0 0 0;\n",
              "      width: 32px;\n",
              "    }\n",
              "\n",
              "    .colab-df-convert:hover {\n",
              "      background-color: #E2EBFA;\n",
              "      box-shadow: 0px 1px 2px rgba(60, 64, 67, 0.3), 0px 1px 3px 1px rgba(60, 64, 67, 0.15);\n",
              "      fill: #174EA6;\n",
              "    }\n",
              "\n",
              "    [theme=dark] .colab-df-convert {\n",
              "      background-color: #3B4455;\n",
              "      fill: #D2E3FC;\n",
              "    }\n",
              "\n",
              "    [theme=dark] .colab-df-convert:hover {\n",
              "      background-color: #434B5C;\n",
              "      box-shadow: 0px 1px 3px 1px rgba(0, 0, 0, 0.15);\n",
              "      filter: drop-shadow(0px 1px 2px rgba(0, 0, 0, 0.3));\n",
              "      fill: #FFFFFF;\n",
              "    }\n",
              "  </style>\n",
              "\n",
              "      <script>\n",
              "        const buttonEl =\n",
              "          document.querySelector('#df-8cc7f65f-06dc-4b02-856c-b06fb25e46f0 button.colab-df-convert');\n",
              "        buttonEl.style.display =\n",
              "          google.colab.kernel.accessAllowed ? 'block' : 'none';\n",
              "\n",
              "        async function convertToInteractive(key) {\n",
              "          const element = document.querySelector('#df-8cc7f65f-06dc-4b02-856c-b06fb25e46f0');\n",
              "          const dataTable =\n",
              "            await google.colab.kernel.invokeFunction('convertToInteractive',\n",
              "                                                     [key], {});\n",
              "          if (!dataTable) return;\n",
              "\n",
              "          const docLinkHtml = 'Like what you see? Visit the ' +\n",
              "            '<a target=\"_blank\" href=https://colab.research.google.com/notebooks/data_table.ipynb>data table notebook</a>'\n",
              "            + ' to learn more about interactive tables.';\n",
              "          element.innerHTML = '';\n",
              "          dataTable['output_type'] = 'display_data';\n",
              "          await google.colab.output.renderOutput(dataTable, element);\n",
              "          const docLink = document.createElement('div');\n",
              "          docLink.innerHTML = docLinkHtml;\n",
              "          element.appendChild(docLink);\n",
              "        }\n",
              "      </script>\n",
              "    </div>\n",
              "  </div>\n",
              "  "
            ],
            "text/plain": [
              "  tariff  count\n",
              "0  smart    307\n",
              "1  ultra    190"
            ]
          },
          "metadata": {},
          "execution_count": 70
        }
      ],
      "source": [
        "df[df['msg_number'] == 0].groupby(['tariff'])['msg_number'].agg(['count']).reset_index()"
      ]
    },
    {
      "cell_type": "markdown",
      "metadata": {
        "id": "r_PYxkVHIcot"
      },
      "source": [
        "#### Вывод"
      ]
    },
    {
      "cell_type": "markdown",
      "metadata": {
        "id": "7OnLAaUHIcot"
      },
      "source": [
        "Пользователи тарифа \"Ультра\" в среднем используют от 6 до 79 сообщений в месяц.  \n",
        "Пользователи тарифа \"Смарт\" в среднем используют от 10 до 51 сообщений в месяц.  \n",
        "Стоит отметить, что 29% клиентов тарифа \"Смарт\" не укладываются в лимит по сообщениям (50 сообщений).  \n",
        "Напротив, пользователи тарифа \"Ультра\" расходуют меньше сообщений, чем есть на тарифе.  \n",
        "При этом достаточное большое количество пользователей не используют сообщения вообще."
      ]
    },
    {
      "cell_type": "markdown",
      "metadata": {
        "id": "kEVde1LWKp6p"
      },
      "source": [
        "### Объём интернет-трафика"
      ]
    },
    {
      "cell_type": "markdown",
      "metadata": {
        "id": "X6XxyInhIde5"
      },
      "source": [
        "Посмотрим список характерных значения для минут, на тарифе \"Смарт\" и \"Ультра\":"
      ]
    },
    {
      "cell_type": "code",
      "execution_count": null,
      "metadata": {
        "colab": {
          "base_uri": "https://localhost:8080/",
          "height": 143
        },
        "id": "G9PHSDWJIde6",
        "outputId": "c3408294-f5fc-4966-ef58-1ee956340a47"
      },
      "outputs": [
        {
          "output_type": "execute_result",
          "data": {
            "text/html": [
              "\n",
              "  <div id=\"df-358a4de7-2611-462e-a9fc-c0092b77302d\">\n",
              "    <div class=\"colab-df-container\">\n",
              "      <div>\n",
              "<style scoped>\n",
              "    .dataframe tbody tr th:only-of-type {\n",
              "        vertical-align: middle;\n",
              "    }\n",
              "\n",
              "    .dataframe tbody tr th {\n",
              "        vertical-align: top;\n",
              "    }\n",
              "\n",
              "    .dataframe thead tr th {\n",
              "        text-align: left;\n",
              "    }\n",
              "</style>\n",
              "<table border=\"1\" class=\"dataframe\">\n",
              "  <thead>\n",
              "    <tr>\n",
              "      <th></th>\n",
              "      <th>tariff</th>\n",
              "      <th colspan=\"8\" halign=\"left\">describe</th>\n",
              "      <th>var</th>\n",
              "    </tr>\n",
              "    <tr>\n",
              "      <th></th>\n",
              "      <th></th>\n",
              "      <th>count</th>\n",
              "      <th>mean</th>\n",
              "      <th>std</th>\n",
              "      <th>min</th>\n",
              "      <th>25%</th>\n",
              "      <th>50%</th>\n",
              "      <th>75%</th>\n",
              "      <th>max</th>\n",
              "      <th>gb_used</th>\n",
              "    </tr>\n",
              "  </thead>\n",
              "  <tbody>\n",
              "    <tr>\n",
              "      <th>0</th>\n",
              "      <td>smart</td>\n",
              "      <td>2229.0</td>\n",
              "      <td>16.328847</td>\n",
              "      <td>5.747061</td>\n",
              "      <td>0.0</td>\n",
              "      <td>13.0</td>\n",
              "      <td>17.0</td>\n",
              "      <td>20.0</td>\n",
              "      <td>38.0</td>\n",
              "      <td>33.028705</td>\n",
              "    </tr>\n",
              "    <tr>\n",
              "      <th>1</th>\n",
              "      <td>ultra</td>\n",
              "      <td>985.0</td>\n",
              "      <td>19.494416</td>\n",
              "      <td>9.853511</td>\n",
              "      <td>0.0</td>\n",
              "      <td>12.0</td>\n",
              "      <td>19.0</td>\n",
              "      <td>27.0</td>\n",
              "      <td>49.0</td>\n",
              "      <td>97.091686</td>\n",
              "    </tr>\n",
              "  </tbody>\n",
              "</table>\n",
              "</div>\n",
              "      <button class=\"colab-df-convert\" onclick=\"convertToInteractive('df-358a4de7-2611-462e-a9fc-c0092b77302d')\"\n",
              "              title=\"Convert this dataframe to an interactive table.\"\n",
              "              style=\"display:none;\">\n",
              "        \n",
              "  <svg xmlns=\"http://www.w3.org/2000/svg\" height=\"24px\"viewBox=\"0 0 24 24\"\n",
              "       width=\"24px\">\n",
              "    <path d=\"M0 0h24v24H0V0z\" fill=\"none\"/>\n",
              "    <path d=\"M18.56 5.44l.94 2.06.94-2.06 2.06-.94-2.06-.94-.94-2.06-.94 2.06-2.06.94zm-11 1L8.5 8.5l.94-2.06 2.06-.94-2.06-.94L8.5 2.5l-.94 2.06-2.06.94zm10 10l.94 2.06.94-2.06 2.06-.94-2.06-.94-.94-2.06-.94 2.06-2.06.94z\"/><path d=\"M17.41 7.96l-1.37-1.37c-.4-.4-.92-.59-1.43-.59-.52 0-1.04.2-1.43.59L10.3 9.45l-7.72 7.72c-.78.78-.78 2.05 0 2.83L4 21.41c.39.39.9.59 1.41.59.51 0 1.02-.2 1.41-.59l7.78-7.78 2.81-2.81c.8-.78.8-2.07 0-2.86zM5.41 20L4 18.59l7.72-7.72 1.47 1.35L5.41 20z\"/>\n",
              "  </svg>\n",
              "      </button>\n",
              "      \n",
              "  <style>\n",
              "    .colab-df-container {\n",
              "      display:flex;\n",
              "      flex-wrap:wrap;\n",
              "      gap: 12px;\n",
              "    }\n",
              "\n",
              "    .colab-df-convert {\n",
              "      background-color: #E8F0FE;\n",
              "      border: none;\n",
              "      border-radius: 50%;\n",
              "      cursor: pointer;\n",
              "      display: none;\n",
              "      fill: #1967D2;\n",
              "      height: 32px;\n",
              "      padding: 0 0 0 0;\n",
              "      width: 32px;\n",
              "    }\n",
              "\n",
              "    .colab-df-convert:hover {\n",
              "      background-color: #E2EBFA;\n",
              "      box-shadow: 0px 1px 2px rgba(60, 64, 67, 0.3), 0px 1px 3px 1px rgba(60, 64, 67, 0.15);\n",
              "      fill: #174EA6;\n",
              "    }\n",
              "\n",
              "    [theme=dark] .colab-df-convert {\n",
              "      background-color: #3B4455;\n",
              "      fill: #D2E3FC;\n",
              "    }\n",
              "\n",
              "    [theme=dark] .colab-df-convert:hover {\n",
              "      background-color: #434B5C;\n",
              "      box-shadow: 0px 1px 3px 1px rgba(0, 0, 0, 0.15);\n",
              "      filter: drop-shadow(0px 1px 2px rgba(0, 0, 0, 0.3));\n",
              "      fill: #FFFFFF;\n",
              "    }\n",
              "  </style>\n",
              "\n",
              "      <script>\n",
              "        const buttonEl =\n",
              "          document.querySelector('#df-358a4de7-2611-462e-a9fc-c0092b77302d button.colab-df-convert');\n",
              "        buttonEl.style.display =\n",
              "          google.colab.kernel.accessAllowed ? 'block' : 'none';\n",
              "\n",
              "        async function convertToInteractive(key) {\n",
              "          const element = document.querySelector('#df-358a4de7-2611-462e-a9fc-c0092b77302d');\n",
              "          const dataTable =\n",
              "            await google.colab.kernel.invokeFunction('convertToInteractive',\n",
              "                                                     [key], {});\n",
              "          if (!dataTable) return;\n",
              "\n",
              "          const docLinkHtml = 'Like what you see? Visit the ' +\n",
              "            '<a target=\"_blank\" href=https://colab.research.google.com/notebooks/data_table.ipynb>data table notebook</a>'\n",
              "            + ' to learn more about interactive tables.';\n",
              "          element.innerHTML = '';\n",
              "          dataTable['output_type'] = 'display_data';\n",
              "          await google.colab.output.renderOutput(dataTable, element);\n",
              "          const docLink = document.createElement('div');\n",
              "          docLink.innerHTML = docLinkHtml;\n",
              "          element.appendChild(docLink);\n",
              "        }\n",
              "      </script>\n",
              "    </div>\n",
              "  </div>\n",
              "  "
            ],
            "text/plain": [
              "  tariff describe                                                          var\n",
              "            count       mean       std  min   25%   50%   75%   max    gb_used\n",
              "0  smart   2229.0  16.328847  5.747061  0.0  13.0  17.0  20.0  38.0  33.028705\n",
              "1  ultra    985.0  19.494416  9.853511  0.0  12.0  19.0  27.0  49.0  97.091686"
            ]
          },
          "metadata": {},
          "execution_count": 71
        }
      ],
      "source": [
        "df.groupby(['tariff'])['gb_used'].agg(['describe', np.var]).reset_index()"
      ]
    },
    {
      "cell_type": "markdown",
      "metadata": {
        "id": "Cftq_7gtIde7"
      },
      "source": [
        "Построим распределение расхода минут на тарифах:"
      ]
    },
    {
      "cell_type": "code",
      "execution_count": null,
      "metadata": {
        "colab": {
          "base_uri": "https://localhost:8080/",
          "height": 350
        },
        "id": "HYPHJfNYIde7",
        "outputId": "c20f0193-44a5-4b73-b906-b5e5d357f03b"
      },
      "outputs": [
        {
          "output_type": "display_data",
          "data": {
            "image/png": "[encoded data removed]",
            "text/plain": [
              "<Figure size 1080x360 with 1 Axes>"
            ]
          },
          "metadata": {
            "needs_background": "light"
          }
        }
      ],
      "source": [
        "plt.rcParams['figure.figsize']=(15, 5)\n",
        "sns.histplot(data=df_ultra, x=\"gb_used\", kde=True)\n",
        "plt.title('Распределение расхода трафика на тарифе Ultra')\n",
        "plt.ylabel('Плотность')\n",
        "plt.xlabel('Количество трафика, ГБ')\n",
        "plt.grid(color='grey', axis='both', alpha=0.8)\n",
        "plt.axvline(x=30, c=\"orange\", linewidth = 3, linestyle='-.') # лимит на тарифе\n",
        "plt.axvline(x=np.median(df_ultra['gb_used']), c=\"red\", linewidth = 3) # медиана\n",
        "# интервал наиболее частых значений\n",
        "plt.axvline(x=np.percentile(df_ultra['gb_used'], 25), c='g', linestyle=':', linewidth = 3)\n",
        "plt.axvline(x=np.percentile(df_ultra['gb_used'], 75), c='g', linestyle=':', linewidth = 3)\n",
        "plt.xticks(np.arange(0, 50, 2.5))\n",
        "plt.yticks(np.arange(0, 120, 10))\n",
        "plt.show()"
      ]
    },
    {
      "cell_type": "markdown",
      "metadata": {
        "id": "Zf2djtj9Ide7"
      },
      "source": [
        "Примечание:  \n",
        "Зеленые линии - интервал наиболее частных значений.  \n",
        "Красная линия - медиана.  \n",
        "Оранжевая линия - лимит по тарифу.  "
      ]
    },
    {
      "cell_type": "markdown",
      "metadata": {
        "id": "zSBiAi1wLOLq"
      },
      "source": [
        "Доля пользователей, которые расходуют трафика больше, чем по лимиту на тарифе:"
      ]
    },
    {
      "cell_type": "code",
      "execution_count": null,
      "metadata": {
        "colab": {
          "base_uri": "https://localhost:8080/"
        },
        "id": "n03hcwysLOLq",
        "outputId": "4c29efc3-4227-428c-ee4c-2919be7a4349"
      },
      "outputs": [
        {
          "output_type": "execute_result",
          "data": {
            "text/plain": [
              "0.14317189730814395"
            ]
          },
          "metadata": {},
          "execution_count": 73
        }
      ],
      "source": [
        "1 - st.norm(df_ultra['gb_used'].mean(), df_ultra['gb_used'].std()).cdf(30)"
      ]
    },
    {
      "cell_type": "code",
      "execution_count": null,
      "metadata": {
        "colab": {
          "base_uri": "https://localhost:8080/",
          "height": 350
        },
        "id": "rGixy0DjIde7",
        "outputId": "8851eb97-8aa7-4e40-87ed-522dd1a2e8e2"
      },
      "outputs": [
        {
          "output_type": "display_data",
          "data": {
            "image/png": "[encoded data removed]",
            "text/plain": [
              "<Figure size 1080x360 with 1 Axes>"
            ]
          },
          "metadata": {
            "needs_background": "light"
          }
        }
      ],
      "source": [
        "plt.rcParams['figure.figsize']=(15, 5)\n",
        "sns.histplot(data=df_smart, x=\"gb_used\", kde=True)\n",
        "plt.title('Распределение расхода трафика на тарифе Smart')\n",
        "plt.ylabel('Плотность')\n",
        "plt.xlabel('Количество трафика, ГБ')\n",
        "plt.grid(color='grey', axis='both', alpha=0.8)\n",
        "plt.axvline(x=15, c=\"orange\", linewidth = 3, linestyle='-.') # лимит на тарифе\n",
        "plt.axvline(x=np.median(df_smart['gb_used']), c=\"red\", linewidth = 3) # медиана\n",
        "# интервал наиболее частых значений\n",
        "plt.axvline(x=np.percentile(df_smart['gb_used'], 25), c='g', linestyle=':', linewidth = 3)\n",
        "plt.axvline(x=np.percentile(df_smart['gb_used'], 75), c='g', linestyle=':', linewidth = 3)\n",
        "plt.xticks(np.arange(0, 40, 1))\n",
        "plt.yticks(np.arange(0, 300, 25))\n",
        "plt.show()"
      ]
    },
    {
      "cell_type": "markdown",
      "metadata": {
        "id": "zejCE1_yIde8"
      },
      "source": [
        "Примечание:  \n",
        "Зеленые линии - интервал наиболее частных значений.  \n",
        "Красная линия - медиана.  \n",
        "Оранжевая линия - лимит по тарифу.  "
      ]
    },
    {
      "cell_type": "markdown",
      "metadata": {
        "id": "dAM_NTAdNwKP"
      },
      "source": [
        "Посмотрим на данные в районе [19; 20] ГБ (скачок данных на графике):"
      ]
    },
    {
      "cell_type": "code",
      "execution_count": null,
      "metadata": {
        "colab": {
          "base_uri": "https://localhost:8080/",
          "height": 332
        },
        "id": "8wNXJ6UGJota",
        "outputId": "41f4df87-be3c-4294-ea14-fa72a207433e"
      },
      "outputs": [
        {
          "output_type": "execute_result",
          "data": {
            "text/html": [
              "\n",
              "  <div id=\"df-721eb2ae-0523-490a-8d4d-1fd2d9aa1e48\">\n",
              "    <div class=\"colab-df-container\">\n",
              "      <div>\n",
              "<style scoped>\n",
              "    .dataframe tbody tr th:only-of-type {\n",
              "        vertical-align: middle;\n",
              "    }\n",
              "\n",
              "    .dataframe tbody tr th {\n",
              "        vertical-align: top;\n",
              "    }\n",
              "\n",
              "    .dataframe thead th {\n",
              "        text-align: right;\n",
              "    }\n",
              "</style>\n",
              "<table border=\"1\" class=\"dataframe\">\n",
              "  <thead>\n",
              "    <tr style=\"text-align: right;\">\n",
              "      <th></th>\n",
              "      <th>minutes</th>\n",
              "      <th>msg_number</th>\n",
              "      <th>gb_used</th>\n",
              "      <th>city</th>\n",
              "    </tr>\n",
              "  </thead>\n",
              "  <tbody>\n",
              "    <tr>\n",
              "      <th>989</th>\n",
              "      <td>289</td>\n",
              "      <td>13</td>\n",
              "      <td>20</td>\n",
              "      <td>Стерлитамак</td>\n",
              "    </tr>\n",
              "    <tr>\n",
              "      <th>992</th>\n",
              "      <td>243</td>\n",
              "      <td>16</td>\n",
              "      <td>19</td>\n",
              "      <td>Стерлитамак</td>\n",
              "    </tr>\n",
              "    <tr>\n",
              "      <th>1011</th>\n",
              "      <td>316</td>\n",
              "      <td>0</td>\n",
              "      <td>20</td>\n",
              "      <td>Ульяновск</td>\n",
              "    </tr>\n",
              "    <tr>\n",
              "      <th>1012</th>\n",
              "      <td>275</td>\n",
              "      <td>0</td>\n",
              "      <td>19</td>\n",
              "      <td>Ульяновск</td>\n",
              "    </tr>\n",
              "    <tr>\n",
              "      <th>1014</th>\n",
              "      <td>267</td>\n",
              "      <td>0</td>\n",
              "      <td>20</td>\n",
              "      <td>Ульяновск</td>\n",
              "    </tr>\n",
              "    <tr>\n",
              "      <th>1016</th>\n",
              "      <td>379</td>\n",
              "      <td>0</td>\n",
              "      <td>19</td>\n",
              "      <td>Ульяновск</td>\n",
              "    </tr>\n",
              "    <tr>\n",
              "      <th>1034</th>\n",
              "      <td>213</td>\n",
              "      <td>15</td>\n",
              "      <td>20</td>\n",
              "      <td>Пермь</td>\n",
              "    </tr>\n",
              "    <tr>\n",
              "      <th>1036</th>\n",
              "      <td>229</td>\n",
              "      <td>12</td>\n",
              "      <td>19</td>\n",
              "      <td>Пермь</td>\n",
              "    </tr>\n",
              "    <tr>\n",
              "      <th>1040</th>\n",
              "      <td>290</td>\n",
              "      <td>0</td>\n",
              "      <td>19</td>\n",
              "      <td>Тюмень</td>\n",
              "    </tr>\n",
              "  </tbody>\n",
              "</table>\n",
              "</div>\n",
              "      <button class=\"colab-df-convert\" onclick=\"convertToInteractive('df-721eb2ae-0523-490a-8d4d-1fd2d9aa1e48')\"\n",
              "              title=\"Convert this dataframe to an interactive table.\"\n",
              "              style=\"display:none;\">\n",
              "        \n",
              "  <svg xmlns=\"http://www.w3.org/2000/svg\" height=\"24px\"viewBox=\"0 0 24 24\"\n",
              "       width=\"24px\">\n",
              "    <path d=\"M0 0h24v24H0V0z\" fill=\"none\"/>\n",
              "    <path d=\"M18.56 5.44l.94 2.06.94-2.06 2.06-.94-2.06-.94-.94-2.06-.94 2.06-2.06.94zm-11 1L8.5 8.5l.94-2.06 2.06-.94-2.06-.94L8.5 2.5l-.94 2.06-2.06.94zm10 10l.94 2.06.94-2.06 2.06-.94-2.06-.94-.94-2.06-.94 2.06-2.06.94z\"/><path d=\"M17.41 7.96l-1.37-1.37c-.4-.4-.92-.59-1.43-.59-.52 0-1.04.2-1.43.59L10.3 9.45l-7.72 7.72c-.78.78-.78 2.05 0 2.83L4 21.41c.39.39.9.59 1.41.59.51 0 1.02-.2 1.41-.59l7.78-7.78 2.81-2.81c.8-.78.8-2.07 0-2.86zM5.41 20L4 18.59l7.72-7.72 1.47 1.35L5.41 20z\"/>\n",
              "  </svg>\n",
              "      </button>\n",
              "      \n",
              "  <style>\n",
              "    .colab-df-container {\n",
              "      display:flex;\n",
              "      flex-wrap:wrap;\n",
              "      gap: 12px;\n",
              "    }\n",
              "\n",
              "    .colab-df-convert {\n",
              "      background-color: #E8F0FE;\n",
              "      border: none;\n",
              "      border-radius: 50%;\n",
              "      cursor: pointer;\n",
              "      display: none;\n",
              "      fill: #1967D2;\n",
              "      height: 32px;\n",
              "      padding: 0 0 0 0;\n",
              "      width: 32px;\n",
              "    }\n",
              "\n",
              "    .colab-df-convert:hover {\n",
              "      background-color: #E2EBFA;\n",
              "      box-shadow: 0px 1px 2px rgba(60, 64, 67, 0.3), 0px 1px 3px 1px rgba(60, 64, 67, 0.15);\n",
              "      fill: #174EA6;\n",
              "    }\n",
              "\n",
              "    [theme=dark] .colab-df-convert {\n",
              "      background-color: #3B4455;\n",
              "      fill: #D2E3FC;\n",
              "    }\n",
              "\n",
              "    [theme=dark] .colab-df-convert:hover {\n",
              "      background-color: #434B5C;\n",
              "      box-shadow: 0px 1px 3px 1px rgba(0, 0, 0, 0.15);\n",
              "      filter: drop-shadow(0px 1px 2px rgba(0, 0, 0, 0.3));\n",
              "      fill: #FFFFFF;\n",
              "    }\n",
              "  </style>\n",
              "\n",
              "      <script>\n",
              "        const buttonEl =\n",
              "          document.querySelector('#df-721eb2ae-0523-490a-8d4d-1fd2d9aa1e48 button.colab-df-convert');\n",
              "        buttonEl.style.display =\n",
              "          google.colab.kernel.accessAllowed ? 'block' : 'none';\n",
              "\n",
              "        async function convertToInteractive(key) {\n",
              "          const element = document.querySelector('#df-721eb2ae-0523-490a-8d4d-1fd2d9aa1e48');\n",
              "          const dataTable =\n",
              "            await google.colab.kernel.invokeFunction('convertToInteractive',\n",
              "                                                     [key], {});\n",
              "          if (!dataTable) return;\n",
              "\n",
              "          const docLinkHtml = 'Like what you see? Visit the ' +\n",
              "            '<a target=\"_blank\" href=https://colab.research.google.com/notebooks/data_table.ipynb>data table notebook</a>'\n",
              "            + ' to learn more about interactive tables.';\n",
              "          element.innerHTML = '';\n",
              "          dataTable['output_type'] = 'display_data';\n",
              "          await google.colab.output.renderOutput(dataTable, element);\n",
              "          const docLink = document.createElement('div');\n",
              "          docLink.innerHTML = docLinkHtml;\n",
              "          element.appendChild(docLink);\n",
              "        }\n",
              "      </script>\n",
              "    </div>\n",
              "  </div>\n",
              "  "
            ],
            "text/plain": [
              "      minutes  msg_number  gb_used         city\n",
              "989       289          13       20  Стерлитамак\n",
              "992       243          16       19  Стерлитамак\n",
              "1011      316           0       20    Ульяновск\n",
              "1012      275           0       19    Ульяновск\n",
              "1014      267           0       20    Ульяновск\n",
              "1016      379           0       19    Ульяновск\n",
              "1034      213          15       20        Пермь\n",
              "1036      229          12       19        Пермь\n",
              "1040      290           0       19       Тюмень"
            ]
          },
          "metadata": {},
          "execution_count": 75
        }
      ],
      "source": [
        "df_smart[(df_smart['gb_used'] >= 19) & (df_smart['gb_used'] <= 20)][['minutes', 'msg_number', 'gb_used', 'city']].head(9)"
      ]
    },
    {
      "cell_type": "code",
      "execution_count": null,
      "metadata": {
        "colab": {
          "base_uri": "https://localhost:8080/",
          "height": 300
        },
        "id": "Fpvqh9gqN8XF",
        "outputId": "b189daa6-514f-4bd8-da79-764f4909dcdf"
      },
      "outputs": [
        {
          "output_type": "execute_result",
          "data": {
            "text/html": [
              "\n",
              "  <div id=\"df-321afae8-22fb-4a12-9082-638b0bd156af\">\n",
              "    <div class=\"colab-df-container\">\n",
              "      <div>\n",
              "<style scoped>\n",
              "    .dataframe tbody tr th:only-of-type {\n",
              "        vertical-align: middle;\n",
              "    }\n",
              "\n",
              "    .dataframe tbody tr th {\n",
              "        vertical-align: top;\n",
              "    }\n",
              "\n",
              "    .dataframe thead th {\n",
              "        text-align: right;\n",
              "    }\n",
              "</style>\n",
              "<table border=\"1\" class=\"dataframe\">\n",
              "  <thead>\n",
              "    <tr style=\"text-align: right;\">\n",
              "      <th></th>\n",
              "      <th>minutes</th>\n",
              "      <th>msg_number</th>\n",
              "      <th>gb_used</th>\n",
              "    </tr>\n",
              "  </thead>\n",
              "  <tbody>\n",
              "    <tr>\n",
              "      <th>count</th>\n",
              "      <td>295.000000</td>\n",
              "      <td>295.000000</td>\n",
              "      <td>295.000000</td>\n",
              "    </tr>\n",
              "    <tr>\n",
              "      <th>mean</th>\n",
              "      <td>436.138983</td>\n",
              "      <td>36.240678</td>\n",
              "      <td>19.474576</td>\n",
              "    </tr>\n",
              "    <tr>\n",
              "      <th>std</th>\n",
              "      <td>178.202660</td>\n",
              "      <td>27.973378</td>\n",
              "      <td>0.500202</td>\n",
              "    </tr>\n",
              "    <tr>\n",
              "      <th>min</th>\n",
              "      <td>0.000000</td>\n",
              "      <td>0.000000</td>\n",
              "      <td>19.000000</td>\n",
              "    </tr>\n",
              "    <tr>\n",
              "      <th>25%</th>\n",
              "      <td>297.500000</td>\n",
              "      <td>14.500000</td>\n",
              "      <td>19.000000</td>\n",
              "    </tr>\n",
              "    <tr>\n",
              "      <th>50%</th>\n",
              "      <td>442.000000</td>\n",
              "      <td>33.000000</td>\n",
              "      <td>19.000000</td>\n",
              "    </tr>\n",
              "    <tr>\n",
              "      <th>75%</th>\n",
              "      <td>544.500000</td>\n",
              "      <td>55.000000</td>\n",
              "      <td>20.000000</td>\n",
              "    </tr>\n",
              "    <tr>\n",
              "      <th>max</th>\n",
              "      <td>1435.000000</td>\n",
              "      <td>137.000000</td>\n",
              "      <td>20.000000</td>\n",
              "    </tr>\n",
              "  </tbody>\n",
              "</table>\n",
              "</div>\n",
              "      <button class=\"colab-df-convert\" onclick=\"convertToInteractive('df-321afae8-22fb-4a12-9082-638b0bd156af')\"\n",
              "              title=\"Convert this dataframe to an interactive table.\"\n",
              "              style=\"display:none;\">\n",
              "        \n",
              "  <svg xmlns=\"http://www.w3.org/2000/svg\" height=\"24px\"viewBox=\"0 0 24 24\"\n",
              "       width=\"24px\">\n",
              "    <path d=\"M0 0h24v24H0V0z\" fill=\"none\"/>\n",
              "    <path d=\"M18.56 5.44l.94 2.06.94-2.06 2.06-.94-2.06-.94-.94-2.06-.94 2.06-2.06.94zm-11 1L8.5 8.5l.94-2.06 2.06-.94-2.06-.94L8.5 2.5l-.94 2.06-2.06.94zm10 10l.94 2.06.94-2.06 2.06-.94-2.06-.94-.94-2.06-.94 2.06-2.06.94z\"/><path d=\"M17.41 7.96l-1.37-1.37c-.4-.4-.92-.59-1.43-.59-.52 0-1.04.2-1.43.59L10.3 9.45l-7.72 7.72c-.78.78-.78 2.05 0 2.83L4 21.41c.39.39.9.59 1.41.59.51 0 1.02-.2 1.41-.59l7.78-7.78 2.81-2.81c.8-.78.8-2.07 0-2.86zM5.41 20L4 18.59l7.72-7.72 1.47 1.35L5.41 20z\"/>\n",
              "  </svg>\n",
              "      </button>\n",
              "      \n",
              "  <style>\n",
              "    .colab-df-container {\n",
              "      display:flex;\n",
              "      flex-wrap:wrap;\n",
              "      gap: 12px;\n",
              "    }\n",
              "\n",
              "    .colab-df-convert {\n",
              "      background-color: #E8F0FE;\n",
              "      border: none;\n",
              "      border-radius: 50%;\n",
              "      cursor: pointer;\n",
              "      display: none;\n",
              "      fill: #1967D2;\n",
              "      height: 32px;\n",
              "      padding: 0 0 0 0;\n",
              "      width: 32px;\n",
              "    }\n",
              "\n",
              "    .colab-df-convert:hover {\n",
              "      background-color: #E2EBFA;\n",
              "      box-shadow: 0px 1px 2px rgba(60, 64, 67, 0.3), 0px 1px 3px 1px rgba(60, 64, 67, 0.15);\n",
              "      fill: #174EA6;\n",
              "    }\n",
              "\n",
              "    [theme=dark] .colab-df-convert {\n",
              "      background-color: #3B4455;\n",
              "      fill: #D2E3FC;\n",
              "    }\n",
              "\n",
              "    [theme=dark] .colab-df-convert:hover {\n",
              "      background-color: #434B5C;\n",
              "      box-shadow: 0px 1px 3px 1px rgba(0, 0, 0, 0.15);\n",
              "      filter: drop-shadow(0px 1px 2px rgba(0, 0, 0, 0.3));\n",
              "      fill: #FFFFFF;\n",
              "    }\n",
              "  </style>\n",
              "\n",
              "      <script>\n",
              "        const buttonEl =\n",
              "          document.querySelector('#df-321afae8-22fb-4a12-9082-638b0bd156af button.colab-df-convert');\n",
              "        buttonEl.style.display =\n",
              "          google.colab.kernel.accessAllowed ? 'block' : 'none';\n",
              "\n",
              "        async function convertToInteractive(key) {\n",
              "          const element = document.querySelector('#df-321afae8-22fb-4a12-9082-638b0bd156af');\n",
              "          const dataTable =\n",
              "            await google.colab.kernel.invokeFunction('convertToInteractive',\n",
              "                                                     [key], {});\n",
              "          if (!dataTable) return;\n",
              "\n",
              "          const docLinkHtml = 'Like what you see? Visit the ' +\n",
              "            '<a target=\"_blank\" href=https://colab.research.google.com/notebooks/data_table.ipynb>data table notebook</a>'\n",
              "            + ' to learn more about interactive tables.';\n",
              "          element.innerHTML = '';\n",
              "          dataTable['output_type'] = 'display_data';\n",
              "          await google.colab.output.renderOutput(dataTable, element);\n",
              "          const docLink = document.createElement('div');\n",
              "          docLink.innerHTML = docLinkHtml;\n",
              "          element.appendChild(docLink);\n",
              "        }\n",
              "      </script>\n",
              "    </div>\n",
              "  </div>\n",
              "  "
            ],
            "text/plain": [
              "           minutes  msg_number     gb_used\n",
              "count   295.000000  295.000000  295.000000\n",
              "mean    436.138983   36.240678   19.474576\n",
              "std     178.202660   27.973378    0.500202\n",
              "min       0.000000    0.000000   19.000000\n",
              "25%     297.500000   14.500000   19.000000\n",
              "50%     442.000000   33.000000   19.000000\n",
              "75%     544.500000   55.000000   20.000000\n",
              "max    1435.000000  137.000000   20.000000"
            ]
          },
          "metadata": {},
          "execution_count": 76
        }
      ],
      "source": [
        "df_smart[(df_smart['gb_used'] >= 19) & (df_smart['gb_used'] <= 20)][['minutes', 'msg_number', 'gb_used']].describe()"
      ]
    },
    {
      "cell_type": "markdown",
      "metadata": {
        "id": "rNc_5_shObgE"
      },
      "source": [
        "Явных артефактов, аномалий не видно, может сделать вывод до 20 ГБ расход трафика, достаточно обыденно"
      ]
    },
    {
      "cell_type": "markdown",
      "metadata": {
        "id": "36_DMAIKIde8"
      },
      "source": [
        "Доля пользователей, которые расходуют трафика больше, чем по лимиту на тарифе:"
      ]
    },
    {
      "cell_type": "code",
      "execution_count": null,
      "metadata": {
        "colab": {
          "base_uri": "https://localhost:8080/"
        },
        "id": "UqOlh4DQIde8",
        "outputId": "45b4d993-32af-4d7f-b386-535895c907f8"
      },
      "outputs": [
        {
          "output_type": "execute_result",
          "data": {
            "text/plain": [
              "0.5914288422588693"
            ]
          },
          "metadata": {},
          "execution_count": 77
        }
      ],
      "source": [
        "1 - st.norm(df_smart['gb_used'].mean(), df_smart['gb_used'].std()).cdf(15)"
      ]
    },
    {
      "cell_type": "markdown",
      "metadata": {
        "id": "qYx1ZOOFIde8"
      },
      "source": [
        "Представим в виде диграммы размаха:"
      ]
    },
    {
      "cell_type": "code",
      "execution_count": null,
      "metadata": {
        "colab": {
          "base_uri": "https://localhost:8080/",
          "height": 295
        },
        "id": "XFL7H8lfIde8",
        "outputId": "6d2deb00-b7b4-4a33-b841-8e24cde45075"
      },
      "outputs": [
        {
          "output_type": "display_data",
          "data": {
            "image/png": "[encoded data removed]",
            "text/plain": [
              "<Figure size 1080x288 with 1 Axes>"
            ]
          },
          "metadata": {
            "needs_background": "light"
          }
        }
      ],
      "source": [
        "plt.rcParams['figure.figsize']=(15, 4)\n",
        "sns.boxplot(x=df['minutes'], y=df[\"tariff\"], orient=\"h\")\n",
        "plt.title('Диаграмма размаха среднего количества трафика по двум тарифам')\n",
        "plt.ylabel('Наименование тарифа')\n",
        "plt.xlabel('Количество трафика, ГБ')\n",
        "plt.grid(color='grey', axis='both', alpha=0.8)\n",
        "plt.xticks(np.arange(0, 1800, 50))\n",
        "plt.show()"
      ]
    },
    {
      "cell_type": "markdown",
      "metadata": {
        "id": "pcviqsC3Ide9"
      },
      "source": [
        "#### Вывод"
      ]
    },
    {
      "cell_type": "markdown",
      "metadata": {
        "id": "SaZJQZvoIde9"
      },
      "source": [
        "Пользователи тарифа \"Ультра\" в среднем используют от 12 до 27 ГБ в месяц.  \n",
        "Пользователи тарифа \"Смарт\" в среднем используют от 13 до 20 ГБ в месяц.  \n",
        "Стоит отметить, что 14% клиентов тарифа \"Ультра\" не укладываются в лимит трафику (30 ГБ).  \n",
        "Стоит отметить, что 59% клиентов тарифа \"Смарт\" не укладываются в лимит трафику (15 ГБ). "
      ]
    },
    {
      "cell_type": "markdown",
      "metadata": {
        "id": "8k0NMct-K7Cy"
      },
      "source": [
        "## **Шаг 4.** Проверка гипотез  "
      ]
    },
    {
      "cell_type": "markdown",
      "metadata": {
        "id": "4YZvECzbK-do"
      },
      "source": [
        "### Гипотеза: средняя выручка пользователей тарифов «Ультра» и «Смарт» различаются\n"
      ]
    },
    {
      "cell_type": "markdown",
      "metadata": {
        "id": "I3RKxHpyO5J2"
      },
      "source": [
        "Выбираем двустроннею гипотезу, так как значения меньше и больше также важны.  \n",
        "За нулевую гипотезу H0 принимаем: средняя выручка пользователей тарифов «Ультра» и «Смарт» равны;  \n",
        "За альтернативную H1 принимаем: средняя выручка пользователей тарифов «Ультра» и «Смарт» различаются;  \n",
        "Уровень статической значимости берем: 5%.  \n",
        "\n",
        "Проведем расчет:"
      ]
    },
    {
      "cell_type": "code",
      "execution_count": null,
      "metadata": {
        "colab": {
          "base_uri": "https://localhost:8080/"
        },
        "id": "vHUzYUNiNePJ",
        "outputId": "1d57dba3-0f71-408b-c94c-413f1774ee29"
      },
      "outputs": [
        {
          "output_type": "stream",
          "name": "stdout",
          "text": [
            "p-значение:  1.4229814360764067e-160\n",
            "Отвергаем нулевую гипотезу\n"
          ]
        }
      ],
      "source": [
        "alpha = .05 \n",
        "\n",
        "results = st.ttest_ind(\n",
        "    df_smart['total_fee'], \n",
        "    df_ultra['total_fee'])\n",
        "\n",
        "print('p-значение: ', results.pvalue)\n",
        "\n",
        "if results.pvalue < alpha:\n",
        "    print(\"Отвергаем нулевую гипотезу\")\n",
        "else:\n",
        "    print(\"Не получилось отвергнуть нулевую гипотезу\")"
      ]
    },
    {
      "cell_type": "markdown",
      "metadata": {
        "id": "K7QhUw22NiaF"
      },
      "source": [
        "Проверим, расчитав средние выручки по тарифам:"
      ]
    },
    {
      "cell_type": "code",
      "execution_count": null,
      "metadata": {
        "colab": {
          "base_uri": "https://localhost:8080/",
          "height": 112
        },
        "id": "jZE1Ydy3Uvt7",
        "outputId": "c12f9151-dcb0-4349-85f7-a8549bc0ae7c"
      },
      "outputs": [
        {
          "output_type": "execute_result",
          "data": {
            "text/html": [
              "\n",
              "  <div id=\"df-8ba6fdd0-f5e0-4f46-ba0a-1a4cd94b6376\">\n",
              "    <div class=\"colab-df-container\">\n",
              "      <div>\n",
              "<style scoped>\n",
              "    .dataframe tbody tr th:only-of-type {\n",
              "        vertical-align: middle;\n",
              "    }\n",
              "\n",
              "    .dataframe tbody tr th {\n",
              "        vertical-align: top;\n",
              "    }\n",
              "\n",
              "    .dataframe thead th {\n",
              "        text-align: right;\n",
              "    }\n",
              "</style>\n",
              "<table border=\"1\" class=\"dataframe\">\n",
              "  <thead>\n",
              "    <tr style=\"text-align: right;\">\n",
              "      <th></th>\n",
              "      <th>tariff</th>\n",
              "      <th>count</th>\n",
              "      <th>mean</th>\n",
              "      <th>sum</th>\n",
              "    </tr>\n",
              "  </thead>\n",
              "  <tbody>\n",
              "    <tr>\n",
              "      <th>0</th>\n",
              "      <td>smart</td>\n",
              "      <td>2229</td>\n",
              "      <td>1289.973531</td>\n",
              "      <td>2875351</td>\n",
              "    </tr>\n",
              "    <tr>\n",
              "      <th>1</th>\n",
              "      <td>ultra</td>\n",
              "      <td>985</td>\n",
              "      <td>2070.152284</td>\n",
              "      <td>2039100</td>\n",
              "    </tr>\n",
              "  </tbody>\n",
              "</table>\n",
              "</div>\n",
              "      <button class=\"colab-df-convert\" onclick=\"convertToInteractive('df-8ba6fdd0-f5e0-4f46-ba0a-1a4cd94b6376')\"\n",
              "              title=\"Convert this dataframe to an interactive table.\"\n",
              "              style=\"display:none;\">\n",
              "        \n",
              "  <svg xmlns=\"http://www.w3.org/2000/svg\" height=\"24px\"viewBox=\"0 0 24 24\"\n",
              "       width=\"24px\">\n",
              "    <path d=\"M0 0h24v24H0V0z\" fill=\"none\"/>\n",
              "    <path d=\"M18.56 5.44l.94 2.06.94-2.06 2.06-.94-2.06-.94-.94-2.06-.94 2.06-2.06.94zm-11 1L8.5 8.5l.94-2.06 2.06-.94-2.06-.94L8.5 2.5l-.94 2.06-2.06.94zm10 10l.94 2.06.94-2.06 2.06-.94-2.06-.94-.94-2.06-.94 2.06-2.06.94z\"/><path d=\"M17.41 7.96l-1.37-1.37c-.4-.4-.92-.59-1.43-.59-.52 0-1.04.2-1.43.59L10.3 9.45l-7.72 7.72c-.78.78-.78 2.05 0 2.83L4 21.41c.39.39.9.59 1.41.59.51 0 1.02-.2 1.41-.59l7.78-7.78 2.81-2.81c.8-.78.8-2.07 0-2.86zM5.41 20L4 18.59l7.72-7.72 1.47 1.35L5.41 20z\"/>\n",
              "  </svg>\n",
              "      </button>\n",
              "      \n",
              "  <style>\n",
              "    .colab-df-container {\n",
              "      display:flex;\n",
              "      flex-wrap:wrap;\n",
              "      gap: 12px;\n",
              "    }\n",
              "\n",
              "    .colab-df-convert {\n",
              "      background-color: #E8F0FE;\n",
              "      border: none;\n",
              "      border-radius: 50%;\n",
              "      cursor: pointer;\n",
              "      display: none;\n",
              "      fill: #1967D2;\n",
              "      height: 32px;\n",
              "      padding: 0 0 0 0;\n",
              "      width: 32px;\n",
              "    }\n",
              "\n",
              "    .colab-df-convert:hover {\n",
              "      background-color: #E2EBFA;\n",
              "      box-shadow: 0px 1px 2px rgba(60, 64, 67, 0.3), 0px 1px 3px 1px rgba(60, 64, 67, 0.15);\n",
              "      fill: #174EA6;\n",
              "    }\n",
              "\n",
              "    [theme=dark] .colab-df-convert {\n",
              "      background-color: #3B4455;\n",
              "      fill: #D2E3FC;\n",
              "    }\n",
              "\n",
              "    [theme=dark] .colab-df-convert:hover {\n",
              "      background-color: #434B5C;\n",
              "      box-shadow: 0px 1px 3px 1px rgba(0, 0, 0, 0.15);\n",
              "      filter: drop-shadow(0px 1px 2px rgba(0, 0, 0, 0.3));\n",
              "      fill: #FFFFFF;\n",
              "    }\n",
              "  </style>\n",
              "\n",
              "      <script>\n",
              "        const buttonEl =\n",
              "          document.querySelector('#df-8ba6fdd0-f5e0-4f46-ba0a-1a4cd94b6376 button.colab-df-convert');\n",
              "        buttonEl.style.display =\n",
              "          google.colab.kernel.accessAllowed ? 'block' : 'none';\n",
              "\n",
              "        async function convertToInteractive(key) {\n",
              "          const element = document.querySelector('#df-8ba6fdd0-f5e0-4f46-ba0a-1a4cd94b6376');\n",
              "          const dataTable =\n",
              "            await google.colab.kernel.invokeFunction('convertToInteractive',\n",
              "                                                     [key], {});\n",
              "          if (!dataTable) return;\n",
              "\n",
              "          const docLinkHtml = 'Like what you see? Visit the ' +\n",
              "            '<a target=\"_blank\" href=https://colab.research.google.com/notebooks/data_table.ipynb>data table notebook</a>'\n",
              "            + ' to learn more about interactive tables.';\n",
              "          element.innerHTML = '';\n",
              "          dataTable['output_type'] = 'display_data';\n",
              "          await google.colab.output.renderOutput(dataTable, element);\n",
              "          const docLink = document.createElement('div');\n",
              "          docLink.innerHTML = docLinkHtml;\n",
              "          element.appendChild(docLink);\n",
              "        }\n",
              "      </script>\n",
              "    </div>\n",
              "  </div>\n",
              "  "
            ],
            "text/plain": [
              "  tariff  count         mean      sum\n",
              "0  smart   2229  1289.973531  2875351\n",
              "1  ultra    985  2070.152284  2039100"
            ]
          },
          "metadata": {},
          "execution_count": 80
        }
      ],
      "source": [
        "df.groupby(['tariff'])['total_fee'].agg(['count', np.mean, 'sum']).reset_index()"
      ]
    },
    {
      "cell_type": "markdown",
      "metadata": {
        "id": "JoiLsEefNoJu"
      },
      "source": [
        "#### Вывод:"
      ]
    },
    {
      "cell_type": "markdown",
      "metadata": {
        "id": "uNY2zwnCNpbm"
      },
      "source": [
        "Средние выручки пользователей тарифов \"Ультра\" и \"Смарт\" различаются (2070,15 и 1289,9 соотвественно)."
      ]
    },
    {
      "cell_type": "markdown",
      "metadata": {
        "id": "DkbtpWFEK9bH"
      },
      "source": [
        "### Гипотеза: средняя выручка пользователей из Москвы отличается от выручки пользователей из других регионов"
      ]
    },
    {
      "cell_type": "markdown",
      "metadata": {
        "id": "WBqwn_ezN47I"
      },
      "source": [
        "Создадим датафрейм, который отфильтруем по городу Москва:"
      ]
    },
    {
      "cell_type": "code",
      "execution_count": null,
      "metadata": {
        "id": "h5VPAk22QB6V"
      },
      "outputs": [],
      "source": [
        "df_msk = (df[df['city'] == 'Москва']).copy()"
      ]
    },
    {
      "cell_type": "markdown",
      "metadata": {
        "id": "Rs38KN1BOE59"
      },
      "source": [
        "Посмотрим информацию о получившийся таблице:"
      ]
    },
    {
      "cell_type": "code",
      "execution_count": null,
      "metadata": {
        "colab": {
          "base_uri": "https://localhost:8080/",
          "height": 206
        },
        "id": "JDC6UX2fQPSM",
        "outputId": "659799d9-97d0-40c9-9b69-d315816524b4"
      },
      "outputs": [
        {
          "output_type": "execute_result",
          "data": {
            "text/html": [
              "\n",
              "  <div id=\"df-e6b75cde-da6a-40cb-aadb-9503002f1ad1\">\n",
              "    <div class=\"colab-df-container\">\n",
              "      <div>\n",
              "<style scoped>\n",
              "    .dataframe tbody tr th:only-of-type {\n",
              "        vertical-align: middle;\n",
              "    }\n",
              "\n",
              "    .dataframe tbody tr th {\n",
              "        vertical-align: top;\n",
              "    }\n",
              "\n",
              "    .dataframe thead th {\n",
              "        text-align: right;\n",
              "    }\n",
              "</style>\n",
              "<table border=\"1\" class=\"dataframe\">\n",
              "  <thead>\n",
              "    <tr style=\"text-align: right;\">\n",
              "      <th></th>\n",
              "      <th>user_id</th>\n",
              "      <th>month</th>\n",
              "      <th>call_number</th>\n",
              "      <th>minutes</th>\n",
              "      <th>msg_number</th>\n",
              "      <th>gb_used</th>\n",
              "      <th>age</th>\n",
              "      <th>churn_date</th>\n",
              "      <th>city</th>\n",
              "      <th>reg_date</th>\n",
              "      <th>tariff</th>\n",
              "      <th>total_fee</th>\n",
              "    </tr>\n",
              "  </thead>\n",
              "  <tbody>\n",
              "    <tr>\n",
              "      <th>8</th>\n",
              "      <td>1003</td>\n",
              "      <td>8</td>\n",
              "      <td>55</td>\n",
              "      <td>380</td>\n",
              "      <td>37</td>\n",
              "      <td>9</td>\n",
              "      <td>23</td>\n",
              "      <td>NaT</td>\n",
              "      <td>Москва</td>\n",
              "      <td>2018-08-17</td>\n",
              "      <td>ultra</td>\n",
              "      <td>1950</td>\n",
              "    </tr>\n",
              "    <tr>\n",
              "      <th>9</th>\n",
              "      <td>1003</td>\n",
              "      <td>9</td>\n",
              "      <td>134</td>\n",
              "      <td>961</td>\n",
              "      <td>91</td>\n",
              "      <td>13</td>\n",
              "      <td>23</td>\n",
              "      <td>NaT</td>\n",
              "      <td>Москва</td>\n",
              "      <td>2018-08-17</td>\n",
              "      <td>ultra</td>\n",
              "      <td>1950</td>\n",
              "    </tr>\n",
              "    <tr>\n",
              "      <th>10</th>\n",
              "      <td>1003</td>\n",
              "      <td>10</td>\n",
              "      <td>108</td>\n",
              "      <td>855</td>\n",
              "      <td>83</td>\n",
              "      <td>15</td>\n",
              "      <td>23</td>\n",
              "      <td>NaT</td>\n",
              "      <td>Москва</td>\n",
              "      <td>2018-08-17</td>\n",
              "      <td>ultra</td>\n",
              "      <td>1950</td>\n",
              "    </tr>\n",
              "    <tr>\n",
              "      <th>11</th>\n",
              "      <td>1003</td>\n",
              "      <td>11</td>\n",
              "      <td>115</td>\n",
              "      <td>824</td>\n",
              "      <td>94</td>\n",
              "      <td>12</td>\n",
              "      <td>23</td>\n",
              "      <td>NaT</td>\n",
              "      <td>Москва</td>\n",
              "      <td>2018-08-17</td>\n",
              "      <td>ultra</td>\n",
              "      <td>1950</td>\n",
              "    </tr>\n",
              "    <tr>\n",
              "      <th>12</th>\n",
              "      <td>1003</td>\n",
              "      <td>12</td>\n",
              "      <td>108</td>\n",
              "      <td>802</td>\n",
              "      <td>75</td>\n",
              "      <td>10</td>\n",
              "      <td>23</td>\n",
              "      <td>NaT</td>\n",
              "      <td>Москва</td>\n",
              "      <td>2018-08-17</td>\n",
              "      <td>ultra</td>\n",
              "      <td>1950</td>\n",
              "    </tr>\n",
              "  </tbody>\n",
              "</table>\n",
              "</div>\n",
              "      <button class=\"colab-df-convert\" onclick=\"convertToInteractive('df-e6b75cde-da6a-40cb-aadb-9503002f1ad1')\"\n",
              "              title=\"Convert this dataframe to an interactive table.\"\n",
              "              style=\"display:none;\">\n",
              "        \n",
              "  <svg xmlns=\"http://www.w3.org/2000/svg\" height=\"24px\"viewBox=\"0 0 24 24\"\n",
              "       width=\"24px\">\n",
              "    <path d=\"M0 0h24v24H0V0z\" fill=\"none\"/>\n",
              "    <path d=\"M18.56 5.44l.94 2.06.94-2.06 2.06-.94-2.06-.94-.94-2.06-.94 2.06-2.06.94zm-11 1L8.5 8.5l.94-2.06 2.06-.94-2.06-.94L8.5 2.5l-.94 2.06-2.06.94zm10 10l.94 2.06.94-2.06 2.06-.94-2.06-.94-.94-2.06-.94 2.06-2.06.94z\"/><path d=\"M17.41 7.96l-1.37-1.37c-.4-.4-.92-.59-1.43-.59-.52 0-1.04.2-1.43.59L10.3 9.45l-7.72 7.72c-.78.78-.78 2.05 0 2.83L4 21.41c.39.39.9.59 1.41.59.51 0 1.02-.2 1.41-.59l7.78-7.78 2.81-2.81c.8-.78.8-2.07 0-2.86zM5.41 20L4 18.59l7.72-7.72 1.47 1.35L5.41 20z\"/>\n",
              "  </svg>\n",
              "      </button>\n",
              "      \n",
              "  <style>\n",
              "    .colab-df-container {\n",
              "      display:flex;\n",
              "      flex-wrap:wrap;\n",
              "      gap: 12px;\n",
              "    }\n",
              "\n",
              "    .colab-df-convert {\n",
              "      background-color: #E8F0FE;\n",
              "      border: none;\n",
              "      border-radius: 50%;\n",
              "      cursor: pointer;\n",
              "      display: none;\n",
              "      fill: #1967D2;\n",
              "      height: 32px;\n",
              "      padding: 0 0 0 0;\n",
              "      width: 32px;\n",
              "    }\n",
              "\n",
              "    .colab-df-convert:hover {\n",
              "      background-color: #E2EBFA;\n",
              "      box-shadow: 0px 1px 2px rgba(60, 64, 67, 0.3), 0px 1px 3px 1px rgba(60, 64, 67, 0.15);\n",
              "      fill: #174EA6;\n",
              "    }\n",
              "\n",
              "    [theme=dark] .colab-df-convert {\n",
              "      background-color: #3B4455;\n",
              "      fill: #D2E3FC;\n",
              "    }\n",
              "\n",
              "    [theme=dark] .colab-df-convert:hover {\n",
              "      background-color: #434B5C;\n",
              "      box-shadow: 0px 1px 3px 1px rgba(0, 0, 0, 0.15);\n",
              "      filter: drop-shadow(0px 1px 2px rgba(0, 0, 0, 0.3));\n",
              "      fill: #FFFFFF;\n",
              "    }\n",
              "  </style>\n",
              "\n",
              "      <script>\n",
              "        const buttonEl =\n",
              "          document.querySelector('#df-e6b75cde-da6a-40cb-aadb-9503002f1ad1 button.colab-df-convert');\n",
              "        buttonEl.style.display =\n",
              "          google.colab.kernel.accessAllowed ? 'block' : 'none';\n",
              "\n",
              "        async function convertToInteractive(key) {\n",
              "          const element = document.querySelector('#df-e6b75cde-da6a-40cb-aadb-9503002f1ad1');\n",
              "          const dataTable =\n",
              "            await google.colab.kernel.invokeFunction('convertToInteractive',\n",
              "                                                     [key], {});\n",
              "          if (!dataTable) return;\n",
              "\n",
              "          const docLinkHtml = 'Like what you see? Visit the ' +\n",
              "            '<a target=\"_blank\" href=https://colab.research.google.com/notebooks/data_table.ipynb>data table notebook</a>'\n",
              "            + ' to learn more about interactive tables.';\n",
              "          element.innerHTML = '';\n",
              "          dataTable['output_type'] = 'display_data';\n",
              "          await google.colab.output.renderOutput(dataTable, element);\n",
              "          const docLink = document.createElement('div');\n",
              "          docLink.innerHTML = docLinkHtml;\n",
              "          element.appendChild(docLink);\n",
              "        }\n",
              "      </script>\n",
              "    </div>\n",
              "  </div>\n",
              "  "
            ],
            "text/plain": [
              "    user_id  month  call_number  minutes  ...    city   reg_date  tariff total_fee\n",
              "8      1003      8           55      380  ...  Москва 2018-08-17   ultra      1950\n",
              "9      1003      9          134      961  ...  Москва 2018-08-17   ultra      1950\n",
              "10     1003     10          108      855  ...  Москва 2018-08-17   ultra      1950\n",
              "11     1003     11          115      824  ...  Москва 2018-08-17   ultra      1950\n",
              "12     1003     12          108      802  ...  Москва 2018-08-17   ultra      1950\n",
              "\n",
              "[5 rows x 12 columns]"
            ]
          },
          "metadata": {},
          "execution_count": 82
        }
      ],
      "source": [
        "df_msk.head()"
      ]
    },
    {
      "cell_type": "code",
      "execution_count": null,
      "metadata": {
        "colab": {
          "base_uri": "https://localhost:8080/"
        },
        "id": "sdQw6VewQTcH",
        "outputId": "3eecd3ed-637f-4691-ae80-1a8af5f09ef6"
      },
      "outputs": [
        {
          "output_type": "stream",
          "name": "stdout",
          "text": [
            "<class 'pandas.core.frame.DataFrame'>\n",
            "Int64Index: 611 entries, 8 to 3172\n",
            "Data columns (total 12 columns):\n",
            " #   Column       Non-Null Count  Dtype         \n",
            "---  ------       --------------  -----         \n",
            " 0   user_id      611 non-null    int64         \n",
            " 1   month        611 non-null    int64         \n",
            " 2   call_number  611 non-null    int64         \n",
            " 3   minutes      611 non-null    int64         \n",
            " 4   msg_number   611 non-null    int64         \n",
            " 5   gb_used      611 non-null    int64         \n",
            " 6   age          611 non-null    int64         \n",
            " 7   churn_date   41 non-null     datetime64[ns]\n",
            " 8   city         611 non-null    object        \n",
            " 9   reg_date     611 non-null    datetime64[ns]\n",
            " 10  tariff       611 non-null    object        \n",
            " 11  total_fee    611 non-null    int64         \n",
            "dtypes: datetime64[ns](2), int64(8), object(2)\n",
            "memory usage: 62.1+ KB\n"
          ]
        }
      ],
      "source": [
        "df_msk.info()"
      ]
    },
    {
      "cell_type": "markdown",
      "metadata": {
        "id": "eGIhhSI-ON1E"
      },
      "source": [
        "Создадим датафрейм, который отфильтруем по другим регионам (отличным от города Москва):"
      ]
    },
    {
      "cell_type": "code",
      "execution_count": null,
      "metadata": {
        "id": "4QbL0fJCQA-G"
      },
      "outputs": [],
      "source": [
        "df_not_msk = (df[df['city'] != 'Москва']).copy()"
      ]
    },
    {
      "cell_type": "markdown",
      "metadata": {
        "id": "kTHAGHSpOVbO"
      },
      "source": [
        "Посмотрим информацию о получившийся таблице:"
      ]
    },
    {
      "cell_type": "code",
      "execution_count": null,
      "metadata": {
        "colab": {
          "base_uri": "https://localhost:8080/",
          "height": 206
        },
        "id": "hiLqkRDOQlCW",
        "outputId": "bb5efd6e-1797-4b3a-fff7-2b83d1f4ca38"
      },
      "outputs": [
        {
          "output_type": "execute_result",
          "data": {
            "text/html": [
              "\n",
              "  <div id=\"df-3ddad52f-88ce-465c-a4cf-e6165d44fffc\">\n",
              "    <div class=\"colab-df-container\">\n",
              "      <div>\n",
              "<style scoped>\n",
              "    .dataframe tbody tr th:only-of-type {\n",
              "        vertical-align: middle;\n",
              "    }\n",
              "\n",
              "    .dataframe tbody tr th {\n",
              "        vertical-align: top;\n",
              "    }\n",
              "\n",
              "    .dataframe thead th {\n",
              "        text-align: right;\n",
              "    }\n",
              "</style>\n",
              "<table border=\"1\" class=\"dataframe\">\n",
              "  <thead>\n",
              "    <tr style=\"text-align: right;\">\n",
              "      <th></th>\n",
              "      <th>user_id</th>\n",
              "      <th>month</th>\n",
              "      <th>call_number</th>\n",
              "      <th>minutes</th>\n",
              "      <th>msg_number</th>\n",
              "      <th>gb_used</th>\n",
              "      <th>age</th>\n",
              "      <th>churn_date</th>\n",
              "      <th>city</th>\n",
              "      <th>reg_date</th>\n",
              "      <th>tariff</th>\n",
              "      <th>total_fee</th>\n",
              "    </tr>\n",
              "  </thead>\n",
              "  <tbody>\n",
              "    <tr>\n",
              "      <th>0</th>\n",
              "      <td>1000</td>\n",
              "      <td>5</td>\n",
              "      <td>22</td>\n",
              "      <td>159</td>\n",
              "      <td>22</td>\n",
              "      <td>3</td>\n",
              "      <td>52</td>\n",
              "      <td>NaT</td>\n",
              "      <td>Краснодар</td>\n",
              "      <td>2018-05-25</td>\n",
              "      <td>ultra</td>\n",
              "      <td>1950</td>\n",
              "    </tr>\n",
              "    <tr>\n",
              "      <th>1</th>\n",
              "      <td>1000</td>\n",
              "      <td>6</td>\n",
              "      <td>43</td>\n",
              "      <td>172</td>\n",
              "      <td>60</td>\n",
              "      <td>23</td>\n",
              "      <td>52</td>\n",
              "      <td>NaT</td>\n",
              "      <td>Краснодар</td>\n",
              "      <td>2018-05-25</td>\n",
              "      <td>ultra</td>\n",
              "      <td>1950</td>\n",
              "    </tr>\n",
              "    <tr>\n",
              "      <th>2</th>\n",
              "      <td>1000</td>\n",
              "      <td>7</td>\n",
              "      <td>47</td>\n",
              "      <td>340</td>\n",
              "      <td>75</td>\n",
              "      <td>14</td>\n",
              "      <td>52</td>\n",
              "      <td>NaT</td>\n",
              "      <td>Краснодар</td>\n",
              "      <td>2018-05-25</td>\n",
              "      <td>ultra</td>\n",
              "      <td>1950</td>\n",
              "    </tr>\n",
              "    <tr>\n",
              "      <th>3</th>\n",
              "      <td>1000</td>\n",
              "      <td>8</td>\n",
              "      <td>52</td>\n",
              "      <td>408</td>\n",
              "      <td>81</td>\n",
              "      <td>14</td>\n",
              "      <td>52</td>\n",
              "      <td>NaT</td>\n",
              "      <td>Краснодар</td>\n",
              "      <td>2018-05-25</td>\n",
              "      <td>ultra</td>\n",
              "      <td>1950</td>\n",
              "    </tr>\n",
              "    <tr>\n",
              "      <th>4</th>\n",
              "      <td>1000</td>\n",
              "      <td>9</td>\n",
              "      <td>58</td>\n",
              "      <td>466</td>\n",
              "      <td>57</td>\n",
              "      <td>15</td>\n",
              "      <td>52</td>\n",
              "      <td>NaT</td>\n",
              "      <td>Краснодар</td>\n",
              "      <td>2018-05-25</td>\n",
              "      <td>ultra</td>\n",
              "      <td>1950</td>\n",
              "    </tr>\n",
              "  </tbody>\n",
              "</table>\n",
              "</div>\n",
              "      <button class=\"colab-df-convert\" onclick=\"convertToInteractive('df-3ddad52f-88ce-465c-a4cf-e6165d44fffc')\"\n",
              "              title=\"Convert this dataframe to an interactive table.\"\n",
              "              style=\"display:none;\">\n",
              "        \n",
              "  <svg xmlns=\"http://www.w3.org/2000/svg\" height=\"24px\"viewBox=\"0 0 24 24\"\n",
              "       width=\"24px\">\n",
              "    <path d=\"M0 0h24v24H0V0z\" fill=\"none\"/>\n",
              "    <path d=\"M18.56 5.44l.94 2.06.94-2.06 2.06-.94-2.06-.94-.94-2.06-.94 2.06-2.06.94zm-11 1L8.5 8.5l.94-2.06 2.06-.94-2.06-.94L8.5 2.5l-.94 2.06-2.06.94zm10 10l.94 2.06.94-2.06 2.06-.94-2.06-.94-.94-2.06-.94 2.06-2.06.94z\"/><path d=\"M17.41 7.96l-1.37-1.37c-.4-.4-.92-.59-1.43-.59-.52 0-1.04.2-1.43.59L10.3 9.45l-7.72 7.72c-.78.78-.78 2.05 0 2.83L4 21.41c.39.39.9.59 1.41.59.51 0 1.02-.2 1.41-.59l7.78-7.78 2.81-2.81c.8-.78.8-2.07 0-2.86zM5.41 20L4 18.59l7.72-7.72 1.47 1.35L5.41 20z\"/>\n",
              "  </svg>\n",
              "      </button>\n",
              "      \n",
              "  <style>\n",
              "    .colab-df-container {\n",
              "      display:flex;\n",
              "      flex-wrap:wrap;\n",
              "      gap: 12px;\n",
              "    }\n",
              "\n",
              "    .colab-df-convert {\n",
              "      background-color: #E8F0FE;\n",
              "      border: none;\n",
              "      border-radius: 50%;\n",
              "      cursor: pointer;\n",
              "      display: none;\n",
              "      fill: #1967D2;\n",
              "      height: 32px;\n",
              "      padding: 0 0 0 0;\n",
              "      width: 32px;\n",
              "    }\n",
              "\n",
              "    .colab-df-convert:hover {\n",
              "      background-color: #E2EBFA;\n",
              "      box-shadow: 0px 1px 2px rgba(60, 64, 67, 0.3), 0px 1px 3px 1px rgba(60, 64, 67, 0.15);\n",
              "      fill: #174EA6;\n",
              "    }\n",
              "\n",
              "    [theme=dark] .colab-df-convert {\n",
              "      background-color: #3B4455;\n",
              "      fill: #D2E3FC;\n",
              "    }\n",
              "\n",
              "    [theme=dark] .colab-df-convert:hover {\n",
              "      background-color: #434B5C;\n",
              "      box-shadow: 0px 1px 3px 1px rgba(0, 0, 0, 0.15);\n",
              "      filter: drop-shadow(0px 1px 2px rgba(0, 0, 0, 0.3));\n",
              "      fill: #FFFFFF;\n",
              "    }\n",
              "  </style>\n",
              "\n",
              "      <script>\n",
              "        const buttonEl =\n",
              "          document.querySelector('#df-3ddad52f-88ce-465c-a4cf-e6165d44fffc button.colab-df-convert');\n",
              "        buttonEl.style.display =\n",
              "          google.colab.kernel.accessAllowed ? 'block' : 'none';\n",
              "\n",
              "        async function convertToInteractive(key) {\n",
              "          const element = document.querySelector('#df-3ddad52f-88ce-465c-a4cf-e6165d44fffc');\n",
              "          const dataTable =\n",
              "            await google.colab.kernel.invokeFunction('convertToInteractive',\n",
              "                                                     [key], {});\n",
              "          if (!dataTable) return;\n",
              "\n",
              "          const docLinkHtml = 'Like what you see? Visit the ' +\n",
              "            '<a target=\"_blank\" href=https://colab.research.google.com/notebooks/data_table.ipynb>data table notebook</a>'\n",
              "            + ' to learn more about interactive tables.';\n",
              "          element.innerHTML = '';\n",
              "          dataTable['output_type'] = 'display_data';\n",
              "          await google.colab.output.renderOutput(dataTable, element);\n",
              "          const docLink = document.createElement('div');\n",
              "          docLink.innerHTML = docLinkHtml;\n",
              "          element.appendChild(docLink);\n",
              "        }\n",
              "      </script>\n",
              "    </div>\n",
              "  </div>\n",
              "  "
            ],
            "text/plain": [
              "   user_id  month  call_number  minutes  ...       city   reg_date  tariff total_fee\n",
              "0     1000      5           22      159  ...  Краснодар 2018-05-25   ultra      1950\n",
              "1     1000      6           43      172  ...  Краснодар 2018-05-25   ultra      1950\n",
              "2     1000      7           47      340  ...  Краснодар 2018-05-25   ultra      1950\n",
              "3     1000      8           52      408  ...  Краснодар 2018-05-25   ultra      1950\n",
              "4     1000      9           58      466  ...  Краснодар 2018-05-25   ultra      1950\n",
              "\n",
              "[5 rows x 12 columns]"
            ]
          },
          "metadata": {},
          "execution_count": 85
        }
      ],
      "source": [
        "df_not_msk.head()"
      ]
    },
    {
      "cell_type": "code",
      "execution_count": null,
      "metadata": {
        "colab": {
          "base_uri": "https://localhost:8080/"
        },
        "id": "kF9hv3P6Qmm2",
        "outputId": "607f6b32-ee51-4dcb-b852-de98132b5955"
      },
      "outputs": [
        {
          "output_type": "stream",
          "name": "stdout",
          "text": [
            "<class 'pandas.core.frame.DataFrame'>\n",
            "Int64Index: 2603 entries, 0 to 3213\n",
            "Data columns (total 12 columns):\n",
            " #   Column       Non-Null Count  Dtype         \n",
            "---  ------       --------------  -----         \n",
            " 0   user_id      2603 non-null   int64         \n",
            " 1   month        2603 non-null   int64         \n",
            " 2   call_number  2603 non-null   int64         \n",
            " 3   minutes      2603 non-null   int64         \n",
            " 4   msg_number   2603 non-null   int64         \n",
            " 5   gb_used      2603 non-null   int64         \n",
            " 6   age          2603 non-null   int64         \n",
            " 7   churn_date   146 non-null    datetime64[ns]\n",
            " 8   city         2603 non-null   object        \n",
            " 9   reg_date     2603 non-null   datetime64[ns]\n",
            " 10  tariff       2603 non-null   object        \n",
            " 11  total_fee    2603 non-null   int64         \n",
            "dtypes: datetime64[ns](2), int64(8), object(2)\n",
            "memory usage: 264.4+ KB\n"
          ]
        }
      ],
      "source": [
        "df_not_msk.info()"
      ]
    },
    {
      "cell_type": "markdown",
      "metadata": {
        "id": "37eX-NfpP8gm"
      },
      "source": [
        "Выбираем двустроннею гипотезу, так как значения меньше и больше также важны.  \n",
        "За нулевую гипотезу H0 принимаем: средняя выручка пользователей из Москвы равна выручке пользователей из других регионов;  \n",
        "За альтернативную H1 принимаем: средняя выручка пользователей из Москвы отличается от выручки пользователей из других регионов;  \n",
        "Уровень статической значимости берем: 5%."
      ]
    },
    {
      "cell_type": "markdown",
      "metadata": {
        "id": "P9gf12q_O7UT"
      },
      "source": [
        "Проведем расчет:"
      ]
    },
    {
      "cell_type": "code",
      "execution_count": null,
      "metadata": {
        "colab": {
          "base_uri": "https://localhost:8080/"
        },
        "id": "bamgdO9wQzVl",
        "outputId": "3caa7390-1c75-4c2f-9a29-a82088db570e"
      },
      "outputs": [
        {
          "output_type": "stream",
          "name": "stdout",
          "text": [
            "p-значение:  0.5440152911670224\n",
            "Не получилось отвергнуть нулевую гипотезу\n"
          ]
        }
      ],
      "source": [
        "alpha = .05 \n",
        "\n",
        "results_msk = st.ttest_ind(\n",
        "    df_msk['total_fee'], \n",
        "    df_not_msk['total_fee'])\n",
        "\n",
        "print('p-значение: ', results_msk.pvalue)\n",
        "\n",
        "if results_msk.pvalue < alpha:\n",
        "    print(\"Отвергаем нулевую гипотезу\")\n",
        "else:\n",
        "    print(\"Не получилось отвергнуть нулевую гипотезу\")"
      ]
    },
    {
      "cell_type": "markdown",
      "metadata": {
        "id": "IsOpGaWiPF7T"
      },
      "source": [
        "Проверим, расчитав средние выручки по регионам:"
      ]
    },
    {
      "cell_type": "code",
      "execution_count": null,
      "metadata": {
        "colab": {
          "base_uri": "https://localhost:8080/"
        },
        "id": "IoKknzw9Q3J0",
        "outputId": "79fc95f6-d607-4f77-99d2-566e006461ff"
      },
      "outputs": [
        {
          "output_type": "execute_result",
          "data": {
            "text/plain": [
              "1546.7135842880523"
            ]
          },
          "metadata": {},
          "execution_count": 88
        }
      ],
      "source": [
        "df_msk['total_fee'].mean()"
      ]
    },
    {
      "cell_type": "code",
      "execution_count": null,
      "metadata": {
        "colab": {
          "base_uri": "https://localhost:8080/"
        },
        "id": "9nQ2DQ0XQ63G",
        "outputId": "e0dee8f3-54d3-405d-8721-970a2940f7b7"
      },
      "outputs": [
        {
          "output_type": "execute_result",
          "data": {
            "text/plain": [
              "1524.9362274298885"
            ]
          },
          "metadata": {},
          "execution_count": 89
        }
      ],
      "source": [
        "df_not_msk['total_fee'].mean()"
      ]
    },
    {
      "cell_type": "markdown",
      "metadata": {
        "id": "9-SaTpQgPJEZ"
      },
      "source": [
        "#### Вывод"
      ]
    },
    {
      "cell_type": "markdown",
      "metadata": {
        "id": "CL_Jd_rlPMTC"
      },
      "source": [
        "Средние выручки пользователей тарифов \"Ультра\" и \"Смарт\" в Москве и в регионах практически равны (1546,7 и 1524,9 соотвественно)."
      ]
    },
    {
      "cell_type": "markdown",
      "metadata": {
        "id": "hszot0ZELJF3"
      },
      "source": [
        "## **Шаг 5.** Общий вывод"
      ]
    },
    {
      "cell_type": "markdown",
      "metadata": {
        "id": "F2zZSMsXPnUY"
      },
      "source": [
        "1. При изучении общей информации, стоит отметить:  \n",
        "- даные достаточно корретные, явных выбросов и анамалий не замечено;\n",
        "- признаки с датой требуется привести к формату даты;\n",
        "- имеются пропущенные значения в таблице `users` в колонке `churn_date`, что означет, пользователь еще пользуется тарифом; \n",
        "- в таблицах `calls` и `internet` имеются нулевые значения в продолжительности разговора и использовании интернет-трафика, что может соответстовать пропущенным звонкам, либо пользователь набрал и сбросил, так и трафик, предполжительно менее 0,04 МБ;\n",
        "- признаки продолжительность вызова и использования интернет-трафика требуется округлить согласно правилам оператор.\n",
        "\n",
        "2. При проведении предобработки данных выполнили:  \n",
        "- Подготовили сводную общую таблицу для дальнейшей работы.  \n",
        "- Добавили колонку `'total_fee'` с помесячной выручкой по каждому пользователю.  \n",
        "- Определили отсутствие дубликатов, привели данные с датами к типу дата.\n",
        "\n",
        "\n",
        "3. Исходя из анализа данных по тарифам в разрезе использования минут, сообщений, интернет-трафика, можно выделить следующий средний расход, а также средную выручку:\n",
        "\n",
        "| Тариф    | Кол. абонентов | Расход минут | Расход сообщений | Расход интернет-трафика, ГБ | Средняя выручка, руб| Общая выручка, руб |\n",
        "|----------|-----|----------------|-------------|--------------|---------|-----| \n",
        "| Ультра   | 2229|от 284 до 752   | от 6 до 79  | от 12 до 27  | 2070,15 | 2039100 |\n",
        "| Смарт    | 985|от 284 до 545   | от 10 до 51 | от 13 до 20  | 1289,9  | 2875351 |\n",
        "\n",
        "При этом не менее 29 % клиентов тарифа \"Смарт\" не укладываются в установленные лимиты по сообщениям, звонкам и интернету.    \n",
        "А 14% пользователей тарифа \"Ультра\" не укладываются в лимиты только по интернет трафику, а минут и сообщений в избытке.  \n",
        "\n",
        "Также, региональная зависимость по выручке Москвы и регионов практически не отличается (1546,7 и 1524,9 соотвественно).  \n",
        "\n",
        "4. **Ответ на вопрос исследования**: Чтобы скорректировать рекламный бюджет, коммерческий департамент хочет понять, какой тариф приносит больше денег:  \n",
        "Тариф \"Смарт\" приносит больше прибыли, при меньшей абонентской плате, но из-за перерасхода пакета выручка повышается.\n",
        "\n",
        "При этом, требуется скорректировать тариф \"Ультра\", возможно уменьшив пакет минут, смс, и снизить абонентскую плату, что может привести к увеличению выручки с данного тарифа."
      ]
    }
  ],
  "metadata": {
    "ExecuteTimeLog": [
      {
        "duration": 918,
        "start_time": "2021-12-20T19:29:52.089Z"
      },
      {
        "duration": 582,
        "start_time": "2021-12-20T19:29:53.010Z"
      },
      {
        "duration": 43,
        "start_time": "2021-12-20T19:29:53.595Z"
      },
      {
        "duration": 6,
        "start_time": "2021-12-20T19:29:53.641Z"
      },
      {
        "duration": 27,
        "start_time": "2021-12-20T19:29:53.650Z"
      },
      {
        "duration": 23,
        "start_time": "2021-12-20T19:29:53.679Z"
      },
      {
        "duration": 106,
        "start_time": "2021-12-20T19:29:53.704Z"
      },
      {
        "duration": 11,
        "start_time": "2021-12-20T19:29:53.823Z"
      },
      {
        "duration": 13,
        "start_time": "2021-12-20T19:29:53.837Z"
      },
      {
        "duration": 19,
        "start_time": "2021-12-20T19:29:53.853Z"
      },
      {
        "duration": 18,
        "start_time": "2021-12-20T19:29:53.875Z"
      },
      {
        "duration": 9,
        "start_time": "2021-12-20T19:29:53.896Z"
      },
      {
        "duration": 17,
        "start_time": "2021-12-20T19:29:53.907Z"
      },
      {
        "duration": 12,
        "start_time": "2021-12-20T19:29:53.927Z"
      },
      {
        "duration": 7,
        "start_time": "2021-12-20T19:29:53.942Z"
      },
      {
        "duration": 28,
        "start_time": "2021-12-20T19:29:53.952Z"
      },
      {
        "duration": 38,
        "start_time": "2021-12-20T19:29:53.983Z"
      },
      {
        "duration": 25,
        "start_time": "2021-12-20T19:29:54.024Z"
      },
      {
        "duration": 12,
        "start_time": "2021-12-20T19:29:54.051Z"
      },
      {
        "duration": 17,
        "start_time": "2021-12-20T19:29:54.065Z"
      },
      {
        "duration": 14,
        "start_time": "2021-12-20T19:29:54.084Z"
      },
      {
        "duration": 24,
        "start_time": "2021-12-20T19:29:54.101Z"
      },
      {
        "duration": 7,
        "start_time": "2021-12-20T19:29:54.130Z"
      },
      {
        "duration": 16,
        "start_time": "2021-12-20T19:29:54.142Z"
      },
      {
        "duration": 3832,
        "start_time": "2021-12-20T19:29:54.160Z"
      },
      {
        "duration": 3,
        "start_time": "2021-12-20T19:29:57.994Z"
      },
      {
        "duration": 3624,
        "start_time": "2021-12-20T19:29:57.999Z"
      },
      {
        "duration": 4,
        "start_time": "2021-12-20T19:30:01.625Z"
      },
      {
        "duration": 3632,
        "start_time": "2021-12-20T19:30:01.631Z"
      },
      {
        "duration": 31,
        "start_time": "2021-12-20T19:30:05.265Z"
      },
      {
        "duration": 26,
        "start_time": "2021-12-20T19:30:05.299Z"
      },
      {
        "duration": 695,
        "start_time": "2021-12-20T19:30:05.328Z"
      },
      {
        "duration": 11,
        "start_time": "2021-12-20T19:30:06.025Z"
      },
      {
        "duration": 688,
        "start_time": "2021-12-20T19:30:06.038Z"
      },
      {
        "duration": 10,
        "start_time": "2021-12-20T19:30:06.728Z"
      },
      {
        "duration": 622,
        "start_time": "2021-12-20T19:30:06.740Z"
      },
      {
        "duration": 11,
        "start_time": "2021-12-20T19:30:07.364Z"
      },
      {
        "duration": 610,
        "start_time": "2021-12-20T19:30:07.377Z"
      },
      {
        "duration": 12,
        "start_time": "2021-12-20T19:30:07.989Z"
      },
      {
        "duration": 699,
        "start_time": "2021-12-20T19:30:08.003Z"
      },
      {
        "duration": 300,
        "start_time": "2021-12-20T19:30:08.705Z"
      },
      {
        "duration": 24,
        "start_time": "2021-12-20T19:30:09.008Z"
      },
      {
        "duration": 28,
        "start_time": "2021-12-20T19:30:09.034Z"
      },
      {
        "duration": 6412,
        "start_time": "2021-12-20T19:30:09.064Z"
      },
      {
        "duration": 51,
        "start_time": "2021-12-20T19:30:15.479Z"
      },
      {
        "duration": 395,
        "start_time": "2021-12-20T19:30:15.533Z"
      },
      {
        "duration": 17,
        "start_time": "2021-12-20T19:30:15.931Z"
      },
      {
        "duration": 391,
        "start_time": "2021-12-20T19:30:15.950Z"
      },
      {
        "duration": 29,
        "start_time": "2021-12-20T19:30:16.344Z"
      },
      {
        "duration": 358,
        "start_time": "2021-12-20T19:30:16.375Z"
      },
      {
        "duration": 16,
        "start_time": "2021-12-20T19:30:16.736Z"
      },
      {
        "duration": 430,
        "start_time": "2021-12-20T19:30:16.755Z"
      },
      {
        "duration": 38,
        "start_time": "2021-12-20T19:30:17.187Z"
      },
      {
        "duration": 354,
        "start_time": "2021-12-20T19:30:17.227Z"
      },
      {
        "duration": 18,
        "start_time": "2021-12-20T19:30:17.583Z"
      },
      {
        "duration": 393,
        "start_time": "2021-12-20T19:30:17.604Z"
      },
      {
        "duration": 28,
        "start_time": "2021-12-20T19:30:18.000Z"
      },
      {
        "duration": 447,
        "start_time": "2021-12-20T19:30:18.031Z"
      },
      {
        "duration": 20,
        "start_time": "2021-12-20T19:30:18.480Z"
      },
      {
        "duration": 36,
        "start_time": "2021-12-20T19:30:18.503Z"
      },
      {
        "duration": 582,
        "start_time": "2021-12-20T19:30:18.542Z"
      },
      {
        "duration": 8,
        "start_time": "2021-12-20T19:30:19.127Z"
      },
      {
        "duration": 429,
        "start_time": "2021-12-20T19:30:19.138Z"
      },
      {
        "duration": 421,
        "start_time": "2021-12-20T19:30:19.570Z"
      },
      {
        "duration": 404,
        "start_time": "2021-12-20T19:30:19.994Z"
      },
      {
        "duration": 392,
        "start_time": "2021-12-20T19:30:20.400Z"
      },
      {
        "duration": 416,
        "start_time": "2021-12-20T19:30:20.795Z"
      },
      {
        "duration": 396,
        "start_time": "2021-12-20T19:30:21.217Z"
      },
      {
        "duration": 22,
        "start_time": "2021-12-20T19:30:21.616Z"
      },
      {
        "duration": 405,
        "start_time": "2021-12-20T19:30:21.641Z"
      },
      {
        "duration": 414,
        "start_time": "2021-12-20T19:30:22.049Z"
      },
      {
        "duration": 409,
        "start_time": "2021-12-20T19:30:22.466Z"
      },
      {
        "duration": 568,
        "start_time": "2021-12-20T19:30:22.878Z"
      },
      {
        "duration": 381,
        "start_time": "2021-12-20T19:30:23.448Z"
      },
      {
        "duration": 343,
        "start_time": "2021-12-20T19:30:23.831Z"
      },
      {
        "duration": 396,
        "start_time": "2021-12-20T19:30:24.177Z"
      },
      {
        "duration": 374,
        "start_time": "2021-12-20T19:30:24.575Z"
      },
      {
        "duration": 59,
        "start_time": "2021-12-21T11:40:27.154Z"
      },
      {
        "duration": 709,
        "start_time": "2021-12-21T17:20:25.208Z"
      },
      {
        "duration": 265,
        "start_time": "2021-12-21T17:20:25.919Z"
      },
      {
        "duration": 32,
        "start_time": "2021-12-21T17:20:26.187Z"
      },
      {
        "duration": 6,
        "start_time": "2021-12-21T17:20:26.221Z"
      },
      {
        "duration": 10,
        "start_time": "2021-12-21T17:20:26.229Z"
      },
      {
        "duration": 27,
        "start_time": "2021-12-21T17:20:26.241Z"
      },
      {
        "duration": 97,
        "start_time": "2021-12-21T17:20:26.270Z"
      },
      {
        "duration": 7,
        "start_time": "2021-12-21T17:20:26.369Z"
      },
      {
        "duration": 9,
        "start_time": "2021-12-21T17:20:30.877Z"
      },
      {
        "duration": 316,
        "start_time": "2021-12-21T17:20:36.488Z"
      },
      {
        "duration": 15,
        "start_time": "2021-12-21T17:20:41.035Z"
      },
      {
        "duration": 76,
        "start_time": "2021-12-21T17:26:38.815Z"
      },
      {
        "duration": 871,
        "start_time": "2021-12-21T17:29:34.440Z"
      },
      {
        "duration": 268,
        "start_time": "2021-12-21T17:29:35.314Z"
      },
      {
        "duration": 33,
        "start_time": "2021-12-21T17:29:35.588Z"
      },
      {
        "duration": 6,
        "start_time": "2021-12-21T17:29:35.623Z"
      },
      {
        "duration": 38,
        "start_time": "2021-12-21T17:29:35.631Z"
      },
      {
        "duration": 32,
        "start_time": "2021-12-21T17:29:35.671Z"
      },
      {
        "duration": 66,
        "start_time": "2021-12-21T17:29:35.706Z"
      },
      {
        "duration": 8,
        "start_time": "2021-12-21T17:29:35.774Z"
      },
      {
        "duration": 27,
        "start_time": "2021-12-21T17:29:35.783Z"
      },
      {
        "duration": 11,
        "start_time": "2021-12-21T17:29:35.812Z"
      },
      {
        "duration": 5,
        "start_time": "2021-12-21T17:29:35.825Z"
      },
      {
        "duration": 10,
        "start_time": "2021-12-21T17:29:35.831Z"
      },
      {
        "duration": 9,
        "start_time": "2021-12-21T17:29:35.843Z"
      },
      {
        "duration": 11,
        "start_time": "2021-12-21T17:29:35.854Z"
      },
      {
        "duration": 11,
        "start_time": "2021-12-21T17:29:35.867Z"
      },
      {
        "duration": 7,
        "start_time": "2021-12-21T17:29:35.880Z"
      },
      {
        "duration": 11,
        "start_time": "2021-12-21T17:29:35.889Z"
      },
      {
        "duration": 9,
        "start_time": "2021-12-21T17:29:35.901Z"
      },
      {
        "duration": 14,
        "start_time": "2021-12-21T17:29:35.911Z"
      },
      {
        "duration": 6,
        "start_time": "2021-12-21T17:29:35.927Z"
      },
      {
        "duration": 25,
        "start_time": "2021-12-21T17:29:35.935Z"
      },
      {
        "duration": 16,
        "start_time": "2021-12-21T17:29:35.966Z"
      },
      {
        "duration": 142,
        "start_time": "2021-12-21T17:29:35.985Z"
      },
      {
        "duration": 6,
        "start_time": "2021-12-21T17:29:36.129Z"
      },
      {
        "duration": 9,
        "start_time": "2021-12-21T17:29:36.136Z"
      },
      {
        "duration": 20,
        "start_time": "2021-12-21T17:29:36.147Z"
      },
      {
        "duration": 21,
        "start_time": "2021-12-21T17:29:36.169Z"
      },
      {
        "duration": 16,
        "start_time": "2021-12-21T17:29:36.192Z"
      },
      {
        "duration": 20,
        "start_time": "2021-12-21T17:29:36.210Z"
      },
      {
        "duration": 35,
        "start_time": "2021-12-21T17:29:36.232Z"
      },
      {
        "duration": 31,
        "start_time": "2021-12-21T17:29:36.269Z"
      },
      {
        "duration": 22,
        "start_time": "2021-12-21T17:29:36.302Z"
      },
      {
        "duration": 20,
        "start_time": "2021-12-21T17:29:36.326Z"
      },
      {
        "duration": 36,
        "start_time": "2021-12-21T17:29:36.348Z"
      },
      {
        "duration": 24,
        "start_time": "2021-12-21T17:29:36.387Z"
      },
      {
        "duration": 751,
        "start_time": "2021-12-21T17:29:36.413Z"
      },
      {
        "duration": 4,
        "start_time": "2021-12-21T17:29:37.166Z"
      },
      {
        "duration": 549,
        "start_time": "2021-12-21T17:29:37.171Z"
      },
      {
        "duration": 3,
        "start_time": "2021-12-21T17:29:37.722Z"
      },
      {
        "duration": 496,
        "start_time": "2021-12-21T17:29:37.727Z"
      },
      {
        "duration": 20,
        "start_time": "2021-12-21T17:29:38.225Z"
      },
      {
        "duration": 20,
        "start_time": "2021-12-21T17:29:38.247Z"
      },
      {
        "duration": 432,
        "start_time": "2021-12-21T17:29:38.269Z"
      },
      {
        "duration": 9,
        "start_time": "2021-12-21T17:29:38.703Z"
      },
      {
        "duration": 454,
        "start_time": "2021-12-21T17:29:38.714Z"
      },
      {
        "duration": 8,
        "start_time": "2021-12-21T17:29:39.170Z"
      },
      {
        "duration": 504,
        "start_time": "2021-12-21T17:29:39.180Z"
      },
      {
        "duration": 9,
        "start_time": "2021-12-21T17:29:39.685Z"
      },
      {
        "duration": 395,
        "start_time": "2021-12-21T17:29:39.696Z"
      },
      {
        "duration": 9,
        "start_time": "2021-12-21T17:29:40.093Z"
      },
      {
        "duration": 488,
        "start_time": "2021-12-21T17:29:40.103Z"
      },
      {
        "duration": 208,
        "start_time": "2021-12-21T17:29:40.593Z"
      },
      {
        "duration": 14,
        "start_time": "2021-12-21T17:29:40.803Z"
      },
      {
        "duration": 5,
        "start_time": "2021-12-21T17:29:40.819Z"
      },
      {
        "duration": 37,
        "start_time": "2021-12-21T17:29:40.825Z"
      },
      {
        "duration": 5538,
        "start_time": "2021-12-21T17:29:40.864Z"
      },
      {
        "duration": 27,
        "start_time": "2021-12-21T17:29:46.405Z"
      },
      {
        "duration": 284,
        "start_time": "2021-12-21T17:29:46.434Z"
      },
      {
        "duration": 12,
        "start_time": "2021-12-21T17:29:46.720Z"
      },
      {
        "duration": 257,
        "start_time": "2021-12-21T17:29:46.735Z"
      },
      {
        "duration": 26,
        "start_time": "2021-12-21T17:29:46.994Z"
      },
      {
        "duration": 301,
        "start_time": "2021-12-21T17:29:47.022Z"
      },
      {
        "duration": 16,
        "start_time": "2021-12-21T17:29:47.326Z"
      },
      {
        "duration": 390,
        "start_time": "2021-12-21T17:29:47.344Z"
      },
      {
        "duration": 33,
        "start_time": "2021-12-21T17:29:47.736Z"
      },
      {
        "duration": 234,
        "start_time": "2021-12-21T17:29:47.771Z"
      },
      {
        "duration": 13,
        "start_time": "2021-12-21T17:29:48.011Z"
      },
      {
        "duration": 244,
        "start_time": "2021-12-21T17:29:48.026Z"
      },
      {
        "duration": 16,
        "start_time": "2021-12-21T17:29:48.272Z"
      },
      {
        "duration": 238,
        "start_time": "2021-12-21T17:29:48.290Z"
      },
      {
        "duration": 13,
        "start_time": "2021-12-21T17:29:48.530Z"
      },
      {
        "duration": 15,
        "start_time": "2021-12-21T17:29:48.560Z"
      },
      {
        "duration": 404,
        "start_time": "2021-12-21T17:29:48.577Z"
      },
      {
        "duration": 7,
        "start_time": "2021-12-21T17:29:48.984Z"
      },
      {
        "duration": 298,
        "start_time": "2021-12-21T17:29:48.993Z"
      },
      {
        "duration": 290,
        "start_time": "2021-12-21T17:29:49.292Z"
      },
      {
        "duration": 405,
        "start_time": "2021-12-21T17:29:49.583Z"
      },
      {
        "duration": 306,
        "start_time": "2021-12-21T17:29:49.990Z"
      },
      {
        "duration": 16,
        "start_time": "2021-12-21T17:29:50.299Z"
      },
      {
        "duration": 11,
        "start_time": "2021-12-21T17:29:50.317Z"
      },
      {
        "duration": 333,
        "start_time": "2021-12-21T17:29:50.330Z"
      },
      {
        "duration": 289,
        "start_time": "2021-12-21T17:29:50.665Z"
      },
      {
        "duration": 11,
        "start_time": "2021-12-21T17:29:50.960Z"
      },
      {
        "duration": 275,
        "start_time": "2021-12-21T17:29:50.973Z"
      },
      {
        "duration": 296,
        "start_time": "2021-12-21T17:29:51.249Z"
      },
      {
        "duration": 284,
        "start_time": "2021-12-21T17:29:51.548Z"
      },
      {
        "duration": 329,
        "start_time": "2021-12-21T17:29:51.834Z"
      },
      {
        "duration": 279,
        "start_time": "2021-12-21T17:29:52.165Z"
      },
      {
        "duration": 270,
        "start_time": "2021-12-21T17:29:52.445Z"
      },
      {
        "duration": 302,
        "start_time": "2021-12-21T17:29:52.717Z"
      },
      {
        "duration": 287,
        "start_time": "2021-12-21T17:29:53.021Z"
      },
      {
        "duration": 754,
        "start_time": "2021-12-21T17:32:15.898Z"
      },
      {
        "duration": 184,
        "start_time": "2021-12-21T17:32:16.654Z"
      },
      {
        "duration": 31,
        "start_time": "2021-12-21T17:32:16.841Z"
      },
      {
        "duration": 6,
        "start_time": "2021-12-21T17:32:16.874Z"
      },
      {
        "duration": 9,
        "start_time": "2021-12-21T17:32:16.882Z"
      },
      {
        "duration": 15,
        "start_time": "2021-12-21T17:32:16.892Z"
      },
      {
        "duration": 89,
        "start_time": "2021-12-21T17:32:16.909Z"
      },
      {
        "duration": 9,
        "start_time": "2021-12-21T17:32:17.001Z"
      },
      {
        "duration": 12,
        "start_time": "2021-12-21T17:32:17.013Z"
      },
      {
        "duration": 35,
        "start_time": "2021-12-21T17:32:17.027Z"
      },
      {
        "duration": 4,
        "start_time": "2021-12-21T17:32:17.064Z"
      },
      {
        "duration": 18,
        "start_time": "2021-12-21T17:32:17.070Z"
      },
      {
        "duration": 8,
        "start_time": "2021-12-21T17:32:17.090Z"
      },
      {
        "duration": 8,
        "start_time": "2021-12-21T17:32:17.100Z"
      },
      {
        "duration": 7,
        "start_time": "2021-12-21T17:32:17.110Z"
      },
      {
        "duration": 8,
        "start_time": "2021-12-21T17:32:17.118Z"
      },
      {
        "duration": 7,
        "start_time": "2021-12-21T17:32:17.128Z"
      },
      {
        "duration": 23,
        "start_time": "2021-12-21T17:32:17.137Z"
      },
      {
        "duration": 9,
        "start_time": "2021-12-21T17:32:17.162Z"
      },
      {
        "duration": 6,
        "start_time": "2021-12-21T17:32:17.172Z"
      },
      {
        "duration": 9,
        "start_time": "2021-12-21T17:32:17.180Z"
      },
      {
        "duration": 20,
        "start_time": "2021-12-21T17:32:17.191Z"
      },
      {
        "duration": 156,
        "start_time": "2021-12-21T17:32:17.217Z"
      },
      {
        "duration": 6,
        "start_time": "2021-12-21T17:32:17.376Z"
      },
      {
        "duration": 7,
        "start_time": "2021-12-21T17:32:17.384Z"
      },
      {
        "duration": 9,
        "start_time": "2021-12-21T17:32:17.393Z"
      },
      {
        "duration": 21,
        "start_time": "2021-12-21T17:32:17.404Z"
      },
      {
        "duration": 51,
        "start_time": "2021-12-21T17:32:17.427Z"
      },
      {
        "duration": 19,
        "start_time": "2021-12-21T17:32:17.479Z"
      },
      {
        "duration": 10,
        "start_time": "2021-12-21T17:32:17.499Z"
      },
      {
        "duration": 6,
        "start_time": "2021-12-21T17:32:17.510Z"
      },
      {
        "duration": 9,
        "start_time": "2021-12-21T17:32:17.517Z"
      },
      {
        "duration": 34,
        "start_time": "2021-12-21T17:32:17.528Z"
      },
      {
        "duration": 6,
        "start_time": "2021-12-21T17:32:17.565Z"
      },
      {
        "duration": 7,
        "start_time": "2021-12-21T17:32:17.573Z"
      },
      {
        "duration": 600,
        "start_time": "2021-12-21T17:32:17.582Z"
      },
      {
        "duration": 3,
        "start_time": "2021-12-21T17:32:18.184Z"
      },
      {
        "duration": 548,
        "start_time": "2021-12-21T17:32:18.188Z"
      },
      {
        "duration": 3,
        "start_time": "2021-12-21T17:32:18.738Z"
      },
      {
        "duration": 573,
        "start_time": "2021-12-21T17:32:18.743Z"
      },
      {
        "duration": 31,
        "start_time": "2021-12-21T17:32:19.318Z"
      },
      {
        "duration": 10,
        "start_time": "2021-12-21T17:32:19.361Z"
      },
      {
        "duration": 521,
        "start_time": "2021-12-21T17:32:19.372Z"
      },
      {
        "duration": 11,
        "start_time": "2021-12-21T17:32:19.895Z"
      },
      {
        "duration": 638,
        "start_time": "2021-12-21T17:32:19.908Z"
      },
      {
        "duration": 17,
        "start_time": "2021-12-21T17:32:20.547Z"
      },
      {
        "duration": 487,
        "start_time": "2021-12-21T17:32:20.566Z"
      },
      {
        "duration": 15,
        "start_time": "2021-12-21T17:32:21.055Z"
      },
      {
        "duration": 478,
        "start_time": "2021-12-21T17:32:21.073Z"
      },
      {
        "duration": 14,
        "start_time": "2021-12-21T17:32:21.553Z"
      },
      {
        "duration": 465,
        "start_time": "2021-12-21T17:32:21.569Z"
      },
      {
        "duration": 215,
        "start_time": "2021-12-21T17:32:22.036Z"
      },
      {
        "duration": 20,
        "start_time": "2021-12-21T17:32:22.252Z"
      },
      {
        "duration": 11,
        "start_time": "2021-12-21T17:32:22.274Z"
      },
      {
        "duration": 29,
        "start_time": "2021-12-21T17:32:22.287Z"
      },
      {
        "duration": 5578,
        "start_time": "2021-12-21T17:32:22.318Z"
      },
      {
        "duration": 30,
        "start_time": "2021-12-21T17:32:27.898Z"
      },
      {
        "duration": 298,
        "start_time": "2021-12-21T17:32:27.930Z"
      },
      {
        "duration": 12,
        "start_time": "2021-12-21T17:32:28.230Z"
      },
      {
        "duration": 246,
        "start_time": "2021-12-21T17:32:28.244Z"
      },
      {
        "duration": 29,
        "start_time": "2021-12-21T17:32:28.493Z"
      },
      {
        "duration": 297,
        "start_time": "2021-12-21T17:32:28.524Z"
      },
      {
        "duration": 14,
        "start_time": "2021-12-21T17:32:28.823Z"
      },
      {
        "duration": 300,
        "start_time": "2021-12-21T17:32:28.840Z"
      },
      {
        "duration": 37,
        "start_time": "2021-12-21T17:32:29.142Z"
      },
      {
        "duration": 258,
        "start_time": "2021-12-21T17:32:29.182Z"
      },
      {
        "duration": 24,
        "start_time": "2021-12-21T17:32:29.442Z"
      },
      {
        "duration": 257,
        "start_time": "2021-12-21T17:32:29.473Z"
      },
      {
        "duration": 13,
        "start_time": "2021-12-21T17:32:29.732Z"
      },
      {
        "duration": 224,
        "start_time": "2021-12-21T17:32:29.762Z"
      },
      {
        "duration": 18,
        "start_time": "2021-12-21T17:32:29.988Z"
      },
      {
        "duration": 29,
        "start_time": "2021-12-21T17:32:30.009Z"
      },
      {
        "duration": 406,
        "start_time": "2021-12-21T17:32:30.040Z"
      },
      {
        "duration": 16,
        "start_time": "2021-12-21T17:32:30.448Z"
      },
      {
        "duration": 285,
        "start_time": "2021-12-21T17:32:30.465Z"
      },
      {
        "duration": 304,
        "start_time": "2021-12-21T17:32:30.752Z"
      },
      {
        "duration": 374,
        "start_time": "2021-12-21T17:32:31.060Z"
      },
      {
        "duration": 306,
        "start_time": "2021-12-21T17:32:31.436Z"
      },
      {
        "duration": 23,
        "start_time": "2021-12-21T17:32:31.744Z"
      },
      {
        "duration": 9,
        "start_time": "2021-12-21T17:32:31.769Z"
      },
      {
        "duration": 300,
        "start_time": "2021-12-21T17:32:31.780Z"
      },
      {
        "duration": 319,
        "start_time": "2021-12-21T17:32:32.082Z"
      },
      {
        "duration": 13,
        "start_time": "2021-12-21T17:32:32.402Z"
      },
      {
        "duration": 274,
        "start_time": "2021-12-21T17:32:32.417Z"
      },
      {
        "duration": 296,
        "start_time": "2021-12-21T17:32:32.693Z"
      },
      {
        "duration": 309,
        "start_time": "2021-12-21T17:32:32.991Z"
      },
      {
        "duration": 302,
        "start_time": "2021-12-21T17:32:33.302Z"
      },
      {
        "duration": 310,
        "start_time": "2021-12-21T17:32:33.606Z"
      },
      {
        "duration": 291,
        "start_time": "2021-12-21T17:32:33.919Z"
      },
      {
        "duration": 266,
        "start_time": "2021-12-21T17:32:34.212Z"
      },
      {
        "duration": 327,
        "start_time": "2021-12-21T17:32:34.480Z"
      },
      {
        "duration": 3635,
        "start_time": "2022-01-10T18:21:31.507Z"
      },
      {
        "duration": 1479,
        "start_time": "2022-01-10T18:21:35.145Z"
      },
      {
        "duration": 64,
        "start_time": "2022-01-10T18:21:36.627Z"
      },
      {
        "duration": 21,
        "start_time": "2022-01-10T18:21:36.694Z"
      },
      {
        "duration": 24,
        "start_time": "2022-01-10T18:21:36.717Z"
      },
      {
        "duration": 32,
        "start_time": "2022-01-10T18:21:36.743Z"
      },
      {
        "duration": 364,
        "start_time": "2022-01-10T18:21:36.778Z"
      },
      {
        "duration": 12,
        "start_time": "2022-01-10T18:21:37.145Z"
      },
      {
        "duration": 28,
        "start_time": "2022-01-10T18:21:37.170Z"
      },
      {
        "duration": 73,
        "start_time": "2022-01-10T18:21:37.201Z"
      },
      {
        "duration": 23,
        "start_time": "2022-01-10T18:21:37.276Z"
      },
      {
        "duration": 532,
        "start_time": "2022-01-10T18:21:37.302Z"
      },
      {
        "duration": 12,
        "start_time": "2022-01-10T18:21:37.837Z"
      },
      {
        "duration": 38,
        "start_time": "2022-01-10T18:21:37.852Z"
      },
      {
        "duration": 33,
        "start_time": "2022-01-10T18:21:37.893Z"
      },
      {
        "duration": 54,
        "start_time": "2022-01-10T18:21:37.929Z"
      },
      {
        "duration": 206,
        "start_time": "2022-01-10T18:21:37.986Z"
      },
      {
        "duration": 10,
        "start_time": "2022-01-10T18:21:38.195Z"
      },
      {
        "duration": 29,
        "start_time": "2022-01-10T18:21:38.208Z"
      },
      {
        "duration": 57,
        "start_time": "2022-01-10T18:21:38.240Z"
      },
      {
        "duration": 12,
        "start_time": "2022-01-10T18:21:38.299Z"
      },
      {
        "duration": 12,
        "start_time": "2022-01-10T18:21:38.314Z"
      },
      {
        "duration": 99,
        "start_time": "2022-01-10T18:21:38.329Z"
      },
      {
        "duration": 13,
        "start_time": "2022-01-10T18:21:38.431Z"
      },
      {
        "duration": 21,
        "start_time": "2022-01-10T18:21:38.447Z"
      },
      {
        "duration": 33,
        "start_time": "2022-01-10T18:21:38.471Z"
      },
      {
        "duration": 69,
        "start_time": "2022-01-10T18:21:38.513Z"
      },
      {
        "duration": 10,
        "start_time": "2022-01-10T18:21:38.588Z"
      },
      {
        "duration": 17,
        "start_time": "2022-01-10T18:21:38.602Z"
      },
      {
        "duration": 49,
        "start_time": "2022-01-10T18:21:38.621Z"
      },
      {
        "duration": 19,
        "start_time": "2022-01-10T18:21:38.672Z"
      },
      {
        "duration": 10,
        "start_time": "2022-01-10T18:21:38.693Z"
      },
      {
        "duration": 15,
        "start_time": "2022-01-10T18:21:38.706Z"
      },
      {
        "duration": 44,
        "start_time": "2022-01-10T18:21:38.723Z"
      },
      {
        "duration": 12,
        "start_time": "2022-01-10T18:21:38.770Z"
      },
      {
        "duration": 26,
        "start_time": "2022-01-10T18:21:38.785Z"
      },
      {
        "duration": 59,
        "start_time": "2022-01-10T18:21:38.813Z"
      },
      {
        "duration": 6,
        "start_time": "2022-01-10T18:21:38.874Z"
      },
      {
        "duration": 20,
        "start_time": "2022-01-10T18:21:38.882Z"
      },
      {
        "duration": 19,
        "start_time": "2022-01-10T18:21:38.905Z"
      },
      {
        "duration": 14,
        "start_time": "2022-01-10T18:21:38.927Z"
      },
      {
        "duration": 30,
        "start_time": "2022-01-10T18:21:38.944Z"
      },
      {
        "duration": 6,
        "start_time": "2022-01-10T18:21:38.977Z"
      },
      {
        "duration": 15,
        "start_time": "2022-01-10T18:21:38.986Z"
      },
      {
        "duration": 6,
        "start_time": "2022-01-10T18:21:39.004Z"
      },
      {
        "duration": 12,
        "start_time": "2022-01-10T18:21:39.012Z"
      },
      {
        "duration": 45,
        "start_time": "2022-01-10T18:21:39.026Z"
      },
      {
        "duration": 33,
        "start_time": "2022-01-10T18:21:39.074Z"
      },
      {
        "duration": 14,
        "start_time": "2022-01-10T18:21:39.109Z"
      },
      {
        "duration": 6,
        "start_time": "2022-01-10T18:21:39.126Z"
      },
      {
        "duration": 400,
        "start_time": "2022-01-10T18:21:39.135Z"
      },
      {
        "duration": 41,
        "start_time": "2022-01-10T18:21:39.537Z"
      },
      {
        "duration": 19,
        "start_time": "2022-01-10T18:21:39.580Z"
      },
      {
        "duration": 7,
        "start_time": "2022-01-10T18:21:39.602Z"
      },
      {
        "duration": 28,
        "start_time": "2022-01-10T18:21:39.611Z"
      },
      {
        "duration": 57,
        "start_time": "2022-01-10T18:21:39.642Z"
      },
      {
        "duration": 633,
        "start_time": "2022-01-10T18:21:39.701Z"
      },
      {
        "duration": 668,
        "start_time": "2022-01-10T18:21:40.337Z"
      },
      {
        "duration": 8,
        "start_time": "2022-01-10T18:21:41.008Z"
      },
      {
        "duration": 431,
        "start_time": "2022-01-10T18:21:41.018Z"
      },
      {
        "duration": 49,
        "start_time": "2022-01-10T18:21:41.451Z"
      },
      {
        "duration": 661,
        "start_time": "2022-01-10T18:21:41.502Z"
      },
      {
        "duration": 805,
        "start_time": "2022-01-10T18:21:42.168Z"
      },
      {
        "duration": 8,
        "start_time": "2022-01-10T18:21:42.976Z"
      },
      {
        "duration": 470,
        "start_time": "2022-01-10T18:21:42.987Z"
      },
      {
        "duration": 17,
        "start_time": "2022-01-10T18:21:43.468Z"
      },
      {
        "duration": 40,
        "start_time": "2022-01-10T18:21:43.487Z"
      },
      {
        "duration": 792,
        "start_time": "2022-01-10T18:21:43.529Z"
      },
      {
        "duration": 8,
        "start_time": "2022-01-10T18:21:44.323Z"
      },
      {
        "duration": 1018,
        "start_time": "2022-01-10T18:21:44.333Z"
      },
      {
        "duration": 25,
        "start_time": "2022-01-10T18:21:45.354Z"
      },
      {
        "duration": 31,
        "start_time": "2022-01-10T18:21:45.382Z"
      },
      {
        "duration": 8,
        "start_time": "2022-01-10T18:21:45.416Z"
      },
      {
        "duration": 528,
        "start_time": "2022-01-10T18:21:45.427Z"
      },
      {
        "duration": 12,
        "start_time": "2022-01-10T18:21:45.958Z"
      },
      {
        "duration": 22,
        "start_time": "2022-01-10T18:21:45.973Z"
      },
      {
        "duration": 7,
        "start_time": "2022-01-10T18:21:45.997Z"
      },
      {
        "duration": 62,
        "start_time": "2022-01-10T18:21:46.006Z"
      },
      {
        "duration": 13,
        "start_time": "2022-01-10T18:21:46.070Z"
      },
      {
        "duration": 11,
        "start_time": "2022-01-10T18:21:46.085Z"
      },
      {
        "duration": 29,
        "start_time": "2022-01-10T18:21:46.104Z"
      },
      {
        "duration": 42,
        "start_time": "2022-01-10T18:21:46.136Z"
      },
      {
        "duration": 7,
        "start_time": "2022-01-10T18:21:46.181Z"
      },
      {
        "duration": 9,
        "start_time": "2022-01-10T18:21:46.191Z"
      },
      {
        "duration": 8,
        "start_time": "2022-01-10T18:21:46.202Z"
      },
      {
        "duration": 4644,
        "start_time": "2022-01-12T07:06:52.711Z"
      },
      {
        "duration": 1460,
        "start_time": "2022-01-12T07:06:57.359Z"
      },
      {
        "duration": 89,
        "start_time": "2022-01-12T07:06:58.822Z"
      },
      {
        "duration": 19,
        "start_time": "2022-01-12T07:06:58.914Z"
      },
      {
        "duration": 10,
        "start_time": "2022-01-12T07:06:58.935Z"
      },
      {
        "duration": 24,
        "start_time": "2022-01-12T07:06:58.948Z"
      },
      {
        "duration": 327,
        "start_time": "2022-01-12T07:06:58.974Z"
      },
      {
        "duration": 11,
        "start_time": "2022-01-12T07:06:59.305Z"
      },
      {
        "duration": 48,
        "start_time": "2022-01-12T07:06:59.319Z"
      },
      {
        "duration": 36,
        "start_time": "2022-01-12T07:06:59.370Z"
      },
      {
        "duration": 21,
        "start_time": "2022-01-12T07:06:59.408Z"
      },
      {
        "duration": 336,
        "start_time": "2022-01-12T07:06:59.431Z"
      },
      {
        "duration": 11,
        "start_time": "2022-01-12T07:06:59.769Z"
      },
      {
        "duration": 26,
        "start_time": "2022-01-12T07:06:59.783Z"
      },
      {
        "duration": 57,
        "start_time": "2022-01-12T07:06:59.811Z"
      },
      {
        "duration": 23,
        "start_time": "2022-01-12T07:06:59.871Z"
      },
      {
        "duration": 222,
        "start_time": "2022-01-12T07:06:59.896Z"
      },
      {
        "duration": 11,
        "start_time": "2022-01-12T07:07:00.120Z"
      },
      {
        "duration": 37,
        "start_time": "2022-01-12T07:07:00.134Z"
      },
      {
        "duration": 1070,
        "start_time": "2022-01-12T07:07:00.174Z"
      },
      {
        "duration": 11,
        "start_time": "2022-01-12T07:07:01.247Z"
      },
      {
        "duration": 26,
        "start_time": "2022-01-12T07:07:01.261Z"
      },
      {
        "duration": 116,
        "start_time": "2022-01-12T07:07:01.293Z"
      },
      {
        "duration": 12,
        "start_time": "2022-01-12T07:07:01.413Z"
      },
      {
        "duration": 8,
        "start_time": "2022-01-12T07:07:01.428Z"
      },
      {
        "duration": 53,
        "start_time": "2022-01-12T07:07:01.439Z"
      },
      {
        "duration": 35,
        "start_time": "2022-01-12T07:07:01.495Z"
      },
      {
        "duration": 11,
        "start_time": "2022-01-12T07:07:01.532Z"
      },
      {
        "duration": 31,
        "start_time": "2022-01-12T07:07:01.545Z"
      },
      {
        "duration": 52,
        "start_time": "2022-01-12T07:07:01.579Z"
      },
      {
        "duration": 19,
        "start_time": "2022-01-12T07:07:01.633Z"
      },
      {
        "duration": 24,
        "start_time": "2022-01-12T07:07:01.654Z"
      },
      {
        "duration": 33,
        "start_time": "2022-01-12T07:07:01.681Z"
      },
      {
        "duration": 17,
        "start_time": "2022-01-12T07:07:01.717Z"
      },
      {
        "duration": 16,
        "start_time": "2022-01-12T07:07:01.736Z"
      },
      {
        "duration": 33,
        "start_time": "2022-01-12T07:07:01.755Z"
      },
      {
        "duration": 35,
        "start_time": "2022-01-12T07:07:01.791Z"
      },
      {
        "duration": 5,
        "start_time": "2022-01-12T07:07:01.829Z"
      },
      {
        "duration": 35,
        "start_time": "2022-01-12T07:07:01.837Z"
      },
      {
        "duration": 30,
        "start_time": "2022-01-12T07:07:01.875Z"
      },
      {
        "duration": 14,
        "start_time": "2022-01-12T07:07:01.908Z"
      },
      {
        "duration": 8,
        "start_time": "2022-01-12T07:07:01.925Z"
      },
      {
        "duration": 9,
        "start_time": "2022-01-12T07:07:01.935Z"
      },
      {
        "duration": 26,
        "start_time": "2022-01-12T07:07:01.947Z"
      },
      {
        "duration": 8,
        "start_time": "2022-01-12T07:07:01.975Z"
      },
      {
        "duration": 15,
        "start_time": "2022-01-12T07:07:01.986Z"
      },
      {
        "duration": 13,
        "start_time": "2022-01-12T07:07:02.004Z"
      },
      {
        "duration": 48,
        "start_time": "2022-01-12T07:07:02.020Z"
      },
      {
        "duration": 12,
        "start_time": "2022-01-12T07:07:02.071Z"
      },
      {
        "duration": 17,
        "start_time": "2022-01-12T07:07:02.085Z"
      },
      {
        "duration": 465,
        "start_time": "2022-01-12T07:07:02.105Z"
      },
      {
        "duration": 32,
        "start_time": "2022-01-12T07:07:02.572Z"
      },
      {
        "duration": 19,
        "start_time": "2022-01-12T07:07:02.607Z"
      },
      {
        "duration": 39,
        "start_time": "2022-01-12T07:07:02.629Z"
      },
      {
        "duration": 12,
        "start_time": "2022-01-12T07:07:02.671Z"
      },
      {
        "duration": 28,
        "start_time": "2022-01-12T07:07:02.687Z"
      },
      {
        "duration": 14,
        "start_time": "2022-01-12T07:07:02.717Z"
      },
      {
        "duration": 37,
        "start_time": "2022-01-12T07:07:02.735Z"
      },
      {
        "duration": 10,
        "start_time": "2022-01-12T07:07:02.774Z"
      },
      {
        "duration": 37,
        "start_time": "2022-01-12T07:07:02.787Z"
      },
      {
        "duration": 659,
        "start_time": "2022-01-12T07:07:02.827Z"
      },
      {
        "duration": 645,
        "start_time": "2022-01-12T07:07:03.489Z"
      },
      {
        "duration": 9,
        "start_time": "2022-01-12T07:07:04.138Z"
      },
      {
        "duration": 410,
        "start_time": "2022-01-12T07:07:04.150Z"
      },
      {
        "duration": 37,
        "start_time": "2022-01-12T07:07:04.567Z"
      },
      {
        "duration": 677,
        "start_time": "2022-01-12T07:07:04.607Z"
      },
      {
        "duration": 720,
        "start_time": "2022-01-12T07:07:05.287Z"
      },
      {
        "duration": 8,
        "start_time": "2022-01-12T07:07:06.015Z"
      },
      {
        "duration": 467,
        "start_time": "2022-01-12T07:07:06.027Z"
      },
      {
        "duration": 17,
        "start_time": "2022-01-12T07:07:06.496Z"
      },
      {
        "duration": 59,
        "start_time": "2022-01-12T07:07:06.515Z"
      },
      {
        "duration": 763,
        "start_time": "2022-01-12T07:07:06.577Z"
      },
      {
        "duration": 8,
        "start_time": "2022-01-12T07:07:07.343Z"
      },
      {
        "duration": 969,
        "start_time": "2022-01-12T07:07:07.368Z"
      },
      {
        "duration": 28,
        "start_time": "2022-01-12T07:07:08.339Z"
      },
      {
        "duration": 31,
        "start_time": "2022-01-12T07:07:08.369Z"
      },
      {
        "duration": 7,
        "start_time": "2022-01-12T07:07:08.402Z"
      },
      {
        "duration": 523,
        "start_time": "2022-01-12T07:07:08.412Z"
      },
      {
        "duration": 8,
        "start_time": "2022-01-12T07:07:08.937Z"
      },
      {
        "duration": 33,
        "start_time": "2022-01-12T07:07:08.947Z"
      },
      {
        "duration": 6,
        "start_time": "2022-01-12T07:07:08.983Z"
      },
      {
        "duration": 20,
        "start_time": "2022-01-12T07:07:08.992Z"
      },
      {
        "duration": 10,
        "start_time": "2022-01-12T07:07:09.014Z"
      },
      {
        "duration": 43,
        "start_time": "2022-01-12T07:07:09.026Z"
      },
      {
        "duration": 17,
        "start_time": "2022-01-12T07:07:09.072Z"
      },
      {
        "duration": 10,
        "start_time": "2022-01-12T07:07:09.092Z"
      },
      {
        "duration": 7,
        "start_time": "2022-01-12T07:07:09.105Z"
      },
      {
        "duration": 8,
        "start_time": "2022-01-12T07:07:09.114Z"
      },
      {
        "duration": 47,
        "start_time": "2022-01-12T07:07:09.124Z"
      },
      {
        "duration": 80,
        "start_time": "2022-01-12T07:41:22.702Z"
      },
      {
        "duration": 3665,
        "start_time": "2022-01-12T07:48:33.046Z"
      },
      {
        "duration": 1598,
        "start_time": "2022-01-12T07:48:36.715Z"
      },
      {
        "duration": 70,
        "start_time": "2022-01-12T07:48:38.316Z"
      },
      {
        "duration": 19,
        "start_time": "2022-01-12T07:48:38.388Z"
      },
      {
        "duration": 43,
        "start_time": "2022-01-12T07:48:38.410Z"
      },
      {
        "duration": 26,
        "start_time": "2022-01-12T07:48:38.456Z"
      },
      {
        "duration": 350,
        "start_time": "2022-01-12T07:48:38.484Z"
      },
      {
        "duration": 11,
        "start_time": "2022-01-12T07:48:38.838Z"
      },
      {
        "duration": 36,
        "start_time": "2022-01-12T07:48:38.852Z"
      },
      {
        "duration": 37,
        "start_time": "2022-01-12T07:48:38.891Z"
      },
      {
        "duration": 46,
        "start_time": "2022-01-12T07:48:38.931Z"
      },
      {
        "duration": 381,
        "start_time": "2022-01-12T07:48:38.980Z"
      },
      {
        "duration": 11,
        "start_time": "2022-01-12T07:48:39.364Z"
      },
      {
        "duration": 25,
        "start_time": "2022-01-12T07:48:39.377Z"
      },
      {
        "duration": 30,
        "start_time": "2022-01-12T07:48:39.405Z"
      },
      {
        "duration": 21,
        "start_time": "2022-01-12T07:48:39.466Z"
      },
      {
        "duration": 289,
        "start_time": "2022-01-12T07:48:39.490Z"
      },
      {
        "duration": 10,
        "start_time": "2022-01-12T07:48:39.781Z"
      },
      {
        "duration": 20,
        "start_time": "2022-01-12T07:48:39.794Z"
      },
      {
        "duration": 52,
        "start_time": "2022-01-12T07:48:39.817Z"
      },
      {
        "duration": 11,
        "start_time": "2022-01-12T07:48:39.871Z"
      },
      {
        "duration": 13,
        "start_time": "2022-01-12T07:48:39.884Z"
      },
      {
        "duration": 123,
        "start_time": "2022-01-12T07:48:39.903Z"
      },
      {
        "duration": 11,
        "start_time": "2022-01-12T07:48:40.030Z"
      },
      {
        "duration": 23,
        "start_time": "2022-01-12T07:48:40.044Z"
      },
      {
        "duration": 33,
        "start_time": "2022-01-12T07:48:40.069Z"
      },
      {
        "duration": 41,
        "start_time": "2022-01-12T07:48:40.104Z"
      },
      {
        "duration": 14,
        "start_time": "2022-01-12T07:48:40.167Z"
      },
      {
        "duration": 14,
        "start_time": "2022-01-12T07:48:40.184Z"
      },
      {
        "duration": 29,
        "start_time": "2022-01-12T07:48:40.202Z"
      },
      {
        "duration": 48,
        "start_time": "2022-01-12T07:48:40.235Z"
      },
      {
        "duration": 10,
        "start_time": "2022-01-12T07:48:40.286Z"
      },
      {
        "duration": 15,
        "start_time": "2022-01-12T07:48:40.298Z"
      },
      {
        "duration": 12,
        "start_time": "2022-01-12T07:48:40.316Z"
      },
      {
        "duration": 46,
        "start_time": "2022-01-12T07:48:40.330Z"
      },
      {
        "duration": 25,
        "start_time": "2022-01-12T07:48:40.379Z"
      },
      {
        "duration": 62,
        "start_time": "2022-01-12T07:48:40.407Z"
      },
      {
        "duration": 5,
        "start_time": "2022-01-12T07:48:40.472Z"
      },
      {
        "duration": 12,
        "start_time": "2022-01-12T07:48:40.479Z"
      },
      {
        "duration": 11,
        "start_time": "2022-01-12T07:48:40.493Z"
      },
      {
        "duration": 12,
        "start_time": "2022-01-12T07:48:40.506Z"
      },
      {
        "duration": 7,
        "start_time": "2022-01-12T07:48:40.520Z"
      },
      {
        "duration": 5,
        "start_time": "2022-01-12T07:48:40.568Z"
      },
      {
        "duration": 15,
        "start_time": "2022-01-12T07:48:40.575Z"
      },
      {
        "duration": 4,
        "start_time": "2022-01-12T07:48:40.593Z"
      },
      {
        "duration": 8,
        "start_time": "2022-01-12T07:48:40.599Z"
      },
      {
        "duration": 12,
        "start_time": "2022-01-12T07:48:40.609Z"
      },
      {
        "duration": 58,
        "start_time": "2022-01-12T07:48:40.623Z"
      },
      {
        "duration": 13,
        "start_time": "2022-01-12T07:48:40.684Z"
      },
      {
        "duration": 6,
        "start_time": "2022-01-12T07:48:40.699Z"
      },
      {
        "duration": 587,
        "start_time": "2022-01-12T07:48:40.707Z"
      },
      {
        "duration": 48,
        "start_time": "2022-01-12T07:48:41.297Z"
      },
      {
        "duration": 36,
        "start_time": "2022-01-12T07:48:41.348Z"
      },
      {
        "duration": 7,
        "start_time": "2022-01-12T07:48:41.387Z"
      },
      {
        "duration": 8,
        "start_time": "2022-01-12T07:48:41.397Z"
      },
      {
        "duration": 18,
        "start_time": "2022-01-12T07:48:41.408Z"
      },
      {
        "duration": 48,
        "start_time": "2022-01-12T07:48:41.428Z"
      },
      {
        "duration": 10,
        "start_time": "2022-01-12T07:48:41.478Z"
      },
      {
        "duration": 8,
        "start_time": "2022-01-12T07:48:41.491Z"
      },
      {
        "duration": 36,
        "start_time": "2022-01-12T07:48:41.501Z"
      },
      {
        "duration": 611,
        "start_time": "2022-01-12T07:48:41.567Z"
      },
      {
        "duration": 614,
        "start_time": "2022-01-12T07:48:42.180Z"
      },
      {
        "duration": 8,
        "start_time": "2022-01-12T07:48:42.797Z"
      },
      {
        "duration": 412,
        "start_time": "2022-01-12T07:48:42.808Z"
      },
      {
        "duration": 49,
        "start_time": "2022-01-12T07:48:43.222Z"
      },
      {
        "duration": 690,
        "start_time": "2022-01-12T07:48:43.273Z"
      },
      {
        "duration": 741,
        "start_time": "2022-01-12T07:48:43.967Z"
      },
      {
        "duration": 8,
        "start_time": "2022-01-12T07:48:44.715Z"
      },
      {
        "duration": 472,
        "start_time": "2022-01-12T07:48:44.726Z"
      },
      {
        "duration": 19,
        "start_time": "2022-01-12T07:48:45.202Z"
      },
      {
        "duration": 63,
        "start_time": "2022-01-12T07:48:45.224Z"
      },
      {
        "duration": 748,
        "start_time": "2022-01-12T07:48:45.290Z"
      },
      {
        "duration": 7,
        "start_time": "2022-01-12T07:48:46.041Z"
      },
      {
        "duration": 1051,
        "start_time": "2022-01-12T07:48:46.066Z"
      },
      {
        "duration": 16,
        "start_time": "2022-01-12T07:48:47.119Z"
      },
      {
        "duration": 40,
        "start_time": "2022-01-12T07:48:47.137Z"
      },
      {
        "duration": 8,
        "start_time": "2022-01-12T07:48:47.179Z"
      },
      {
        "duration": 978,
        "start_time": "2022-01-12T07:48:47.189Z"
      },
      {
        "duration": 7,
        "start_time": "2022-01-12T07:48:48.170Z"
      },
      {
        "duration": 20,
        "start_time": "2022-01-12T07:48:48.180Z"
      },
      {
        "duration": 7,
        "start_time": "2022-01-12T07:48:48.203Z"
      },
      {
        "duration": 58,
        "start_time": "2022-01-12T07:48:48.214Z"
      },
      {
        "duration": 13,
        "start_time": "2022-01-12T07:48:48.275Z"
      },
      {
        "duration": 15,
        "start_time": "2022-01-12T07:48:48.290Z"
      },
      {
        "duration": 19,
        "start_time": "2022-01-12T07:48:48.308Z"
      },
      {
        "duration": 44,
        "start_time": "2022-01-12T07:48:48.329Z"
      },
      {
        "duration": 7,
        "start_time": "2022-01-12T07:48:48.376Z"
      },
      {
        "duration": 6,
        "start_time": "2022-01-12T07:48:48.385Z"
      },
      {
        "duration": 15,
        "start_time": "2022-01-12T07:48:48.393Z"
      },
      {
        "duration": 6,
        "start_time": "2022-01-12T07:49:19.678Z"
      }
    ],
    "colab": {
      "collapsed_sections": [],
      "name": "determination_of_promising_tariff.ipynb",
      "provenance": [],
      "include_colab_link": true
    },
    "kernelspec": {
      "display_name": "Python 3",
      "language": "python",
      "name": "python3"
    },
    "language_info": {
      "codemirror_mode": {
        "name": "ipython",
        "version": 3
      },
      "file_extension": ".py",
      "mimetype": "text/x-python",
      "name": "python",
      "nbconvert_exporter": "python",
      "pygments_lexer": "ipython3",
      "version": "3.7.8"
    },
    "toc": {
      "base_numbering": 1,
      "nav_menu": {},
      "number_sections": true,
      "sideBar": true,
      "skip_h1_title": true,
      "title_cell": "Содержание",
      "title_sidebar": "Contents",
      "toc_cell": true,
      "toc_position": {},
      "toc_section_display": true,
      "toc_window_display": true
    }
  },
  "nbformat": 4,
  "nbformat_minor": 0
}