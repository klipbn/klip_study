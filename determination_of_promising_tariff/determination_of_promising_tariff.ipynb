{
  "cells": [
    {
      "cell_type": "markdown",
      "metadata": {
        "id": "pVVsDoWTm3Ok",
        "toc": true
      },
      "source": [
        "<h1>Содержание<span class=\"tocSkip\"></span></h1>\n",
        "<div class=\"toc\"><ul class=\"toc-item\"><li><span><a href=\"#Изучение-данных-из-файла\" data-toc-modified-id=\"Изучение-данных-из-файла-1\"><span class=\"toc-item-num\">1&nbsp;&nbsp;</span>Изучение данных из файла</a></span><ul class=\"toc-item\"><li><span><a href=\"#Вывод\" data-toc-modified-id=\"Вывод-1.1\"><span class=\"toc-item-num\">1.1&nbsp;&nbsp;</span>Вывод</a></span></li></ul></li><li><span><a href=\"#Предобработка-данных\" data-toc-modified-id=\"Предобработка-данных-2\"><span class=\"toc-item-num\">2&nbsp;&nbsp;</span>Предобработка данных</a></span><ul class=\"toc-item\"><li><span><a href=\"#Вывод\" data-toc-modified-id=\"Вывод-2.1\"><span class=\"toc-item-num\">2.1&nbsp;&nbsp;</span>Вывод</a></span></li></ul></li><li><span><a href=\"#Расчёты-и-добавление-результатов-в-таблицу\" data-toc-modified-id=\"Расчёты-и-добавление-результатов-в-таблицу-3\"><span class=\"toc-item-num\">3&nbsp;&nbsp;</span>Расчёты и добавление результатов в таблицу</a></span></li><li><span><a href=\"#Исследовательский-анализ-данных\" data-toc-modified-id=\"Исследовательский-анализ-данных-4\"><span class=\"toc-item-num\">4&nbsp;&nbsp;</span>Исследовательский анализ данных</a></span><ul class=\"toc-item\"><li><span><a href=\"#Изучение-площади,-цены,-числа-комнат,-высоты-потолков\" data-toc-modified-id=\"Изучение-площади,-цены,-числа-комнат,-высоты-потолков-4.1\"><span class=\"toc-item-num\">4.1&nbsp;&nbsp;</span>Изучение площади, цены, числа комнат, высоты потолков</a></span></li><li><span><a href=\"#Время-продажи-квартиры\" data-toc-modified-id=\"Время-продажи-квартиры-4.2\"><span class=\"toc-item-num\">4.2&nbsp;&nbsp;</span>Время продажи квартиры</a></span></li><li><span><a href=\"#Редкие-и-выбивающиеся-значения\" data-toc-modified-id=\"Редкие-и-выбивающиеся-значения-4.3\"><span class=\"toc-item-num\">4.3&nbsp;&nbsp;</span>Редкие и выбивающиеся значения</a></span></li><li><span><a href=\"#Факторы-влияющие-на-стоимость-квартиры\" data-toc-modified-id=\"Факторы-влияющие-на-стоимость-квартиры-4.4\"><span class=\"toc-item-num\">4.4&nbsp;&nbsp;</span>Факторы влияющие на стоимость квартиры</a></span><ul class=\"toc-item\"><li><span><a href=\"#Цена-от-площади\" data-toc-modified-id=\"Цена-от-площади-4.4.1\"><span class=\"toc-item-num\">4.4.1&nbsp;&nbsp;</span>Цена от площади</a></span></li><li><span><a href=\"#Цена-от-числа-комнат\" data-toc-modified-id=\"Цена-от-числа-комнат-4.4.2\"><span class=\"toc-item-num\">4.4.2&nbsp;&nbsp;</span>Цена от числа комнат</a></span></li><li><span><a href=\"#Цена-от-удаленности-от-центра\" data-toc-modified-id=\"Цена-от-удаленности-от-центра-4.4.3\"><span class=\"toc-item-num\">4.4.3&nbsp;&nbsp;</span>Цена от удаленности от центра</a></span></li><li><span><a href=\"#Цена-взависимости-от-этажа\" data-toc-modified-id=\"Цена-взависимости-от-этажа-4.4.4\"><span class=\"toc-item-num\">4.4.4&nbsp;&nbsp;</span>Цена взависимости от этажа</a></span></li><li><span><a href=\"#Цена-от-даты-размещения\" data-toc-modified-id=\"Цена-от-даты-размещения-4.4.5\"><span class=\"toc-item-num\">4.4.5&nbsp;&nbsp;</span>Цена от даты размещения</a></span></li><li><span><a href=\"#Вывод\" data-toc-modified-id=\"Вывод-4.4.6\"><span class=\"toc-item-num\">4.4.6&nbsp;&nbsp;</span>Вывод</a></span></li></ul></li><li><span><a href=\"#Топ-10-населенных-пунктов\" data-toc-modified-id=\"Топ-10-населенных-пунктов-4.5\"><span class=\"toc-item-num\">4.5&nbsp;&nbsp;</span>Топ 10 населенных пунктов</a></span></li><li><span><a href=\"#Удаленность-от-центра\" data-toc-modified-id=\"Удаленность-от-центра-4.6\"><span class=\"toc-item-num\">4.6&nbsp;&nbsp;</span>Удаленность от центра</a></span></li><li><span><a href=\"#Факторы-влияющие-на-стоимость-квартиры-в-центре\" data-toc-modified-id=\"Факторы-влияющие-на-стоимость-квартиры-в-центре-4.7\"><span class=\"toc-item-num\">4.7&nbsp;&nbsp;</span>Факторы влияющие на стоимость квартиры в центре</a></span><ul class=\"toc-item\"><li><span><a href=\"#Изучение-площади,-цены,-числа-комнат,-высоты-потолков-в-центре\" data-toc-modified-id=\"Изучение-площади,-цены,-числа-комнат,-высоты-потолков-в-центре-4.7.1\"><span class=\"toc-item-num\">4.7.1&nbsp;&nbsp;</span>Изучение площади, цены, числа комнат, высоты потолков в центре</a></span><ul class=\"toc-item\"><li><span><a href=\"#Вывод\" data-toc-modified-id=\"Вывод-4.7.1.1\"><span class=\"toc-item-num\">4.7.1.1&nbsp;&nbsp;</span>Вывод</a></span></li></ul></li><li><span><a href=\"#Факторы-влияющие-на-стоимость-квартиры-в-центре\" data-toc-modified-id=\"Факторы-влияющие-на-стоимость-квартиры-в-центре-4.7.2\"><span class=\"toc-item-num\">4.7.2&nbsp;&nbsp;</span>Факторы влияющие на стоимость квартиры в центре</a></span><ul class=\"toc-item\"><li><span><a href=\"#Число-комнат\" data-toc-modified-id=\"Число-комнат-4.7.2.1\"><span class=\"toc-item-num\">4.7.2.1&nbsp;&nbsp;</span>Число комнат</a></span></li><li><span><a href=\"#Этаж\" data-toc-modified-id=\"Этаж-4.7.2.2\"><span class=\"toc-item-num\">4.7.2.2&nbsp;&nbsp;</span>Этаж</a></span></li><li><span><a href=\"#Удалённость-от-центра\" data-toc-modified-id=\"Удалённость-от-центра-4.7.2.3\"><span class=\"toc-item-num\">4.7.2.3&nbsp;&nbsp;</span>Удалённость от центра</a></span></li><li><span><a href=\"#Дата-размещения-объявления\" data-toc-modified-id=\"Дата-размещения-объявления-4.7.2.4\"><span class=\"toc-item-num\">4.7.2.4&nbsp;&nbsp;</span>Дата размещения объявления</a></span></li><li><span><a href=\"#Вывод\" data-toc-modified-id=\"Вывод-4.7.2.5\"><span class=\"toc-item-num\">4.7.2.5&nbsp;&nbsp;</span>Вывод</a></span></li></ul></li></ul></li></ul></li><li><span><a href=\"#Общий-вывод\" data-toc-modified-id=\"Общий-вывод-5\"><span class=\"toc-item-num\">5&nbsp;&nbsp;</span>Общий вывод</a></span></li></ul></div>"
      ]
    },
    {
      "cell_type": "markdown",
      "metadata": {
        "id": "ZIsfpfxCGK43"
      },
      "source": [
        "# Определение перспективного тарифа для телеком-компании\n",
        "\n",
        "**Описание проекта**\n",
        "\n",
        "Вы аналитик компании «Мегалайн» — федерального оператора сотовой связи. Клиентам предлагают два тарифных плана: «Смарт» и «Ультра». Чтобы скорректировать рекламный бюджет, коммерческий департамент хочет понять, какой тариф приносит больше денег.\n",
        "Вам предстоит сделать предварительный анализ тарифов на небольшой выборке клиентов. В вашем распоряжении данные 500 пользователей «Мегалайна»: кто они, откуда, каким тарифом пользуются, сколько звонков и сообщений каждый отправил за 2018 год. Нужно проанализировать поведение клиентов и сделать вывод — какой тариф лучше.   \n",
        "\n",
        "**Описание тарифов**\n",
        "**Тариф «Смарт»**\n",
        "Ежемесячная плата: 550 рублей\n",
        "Включено 500 минут разговора, 50 сообщений и 15 Гб интернет-трафика\n",
        "Стоимость услуг сверх тарифного пакета:\n",
        "1. минута разговора: 3 рубля («Мегалайн» всегда округляет вверх значения минут и мегабайтов. Если пользователь проговорил всего 1 секунду, в тарифе засчитывается целая минута); \n",
        "2. сообщение: 3 рубля; 3. 1 Гб интернет-трафика: 200 рублей.\n",
        "**Тариф «Ультра»**\n",
        "Ежемесячная плата: 1950 рублей\n",
        "Включено 3000 минут разговора, 1000 сообщений и 30 Гб интернет-трафика\n",
        "Стоимость услуг сверх тарифного пакета: \n",
        "1. минута разговора: 1 рубль; \n",
        "2. сообщение: 1 рубль; 3. 1 Гб интернет-трафика: 150 рублей.\n",
        "\n",
        "**Примечание:**\n",
        "«Мегалайн» всегда округляет секунды до минут, а мегабайты — до гигабайт. Каждый звонок округляется отдельно: даже если он длился всего 1 секунду, будет засчитан как 1 минута.  \n",
        "Для веб-трафика отдельные сессии не считаются. Вместо этого общая сумма за месяц округляется в бо́льшую сторону. Если абонент использует 1025 мегабайт в этом месяце, с него возьмут плату за 2 гигабайта.\n",
        "\n",
        "\n",
        "**Этапы проведения исследования**  \n",
        "\n",
        "**Шаг 1.** Изучение общей информации о данных  \n",
        "Путь к файлам:  \n",
        "- ~/datasets/calls.csv. [Скачать датасет](https://code.s3.yandex.net/datasets/calls.csv)   \n",
        "- ~/datasets/internet.csv. [Скачать датасет](https://code.s3.yandex.net/datasets/internet.csv)   \n",
        "- ~/datasets/messages.csv. [Скачать датасет](https://code.s3.yandex.net/datasets/messages.csv)   \n",
        "- ~/datasets/tariffs.csv. [Скачать датасет](https://code.s3.yandex.net/datasets/tariffs.csv)   \n",
        "- ~/datasets/users.csv. [Скачать датасет](https://code.s3.yandex.net/datasets/users.csv)  \n",
        "\n",
        "**Шаг 2.** Предобработка данных.   \n",
        "Приведите данные к нужным типам;  \n",
        "Найдите и исправьте ошибки в данных, если они есть.  \n",
        "Поясните, какие ошибки вы нашли и как их исправили. В данных вы найдёте звонки с нулевой продолжительностью. Это не ошибка: нулями обозначены пропущенные звонки, поэтому их не нужно удалять.  \n",
        "Посчитайте для каждого пользователя:  \n",
        "- количество сделанных звонков и израсходованных минут разговора по месяцам;  \n",
        "- количество отправленных сообщений по месяцам;  \n",
        "- объем израсходованного интернет-трафика по месяцам;  \n",
        "- помесячную выручку с каждого пользователя (вычтите бесплатный лимит из - суммарного количества звонков, сообщений и интернет-трафика; остаток умножьте на значение из тарифного плана; прибавьте абонентскую плату, соответствующую тарифному плану).  \n",
        "\n",
        "**Шаг 3.** Анализ данных   \n",
        "Опишите поведение клиентов оператора, исходя из выборки. Сколько минут разговора, сколько сообщений и какой объём интернет-трафика требуется пользователям каждого тарифа в месяц?  \n",
        "Посчитайте среднее количество, дисперсию и стандартное отклонение. Постройте гистограммы. Опишите распределения.  \n",
        "\n",
        "**Шаг 4.** Проверка гипотез  \n",
        "- средняя выручка пользователей тарифов «Ультра» и «Смарт» различаются;\n",
        "- средняя выручка пользователей из Москвы отличается от выручки пользователей из других регионов. \n",
        "\n",
        "Пороговое значение alpha задайте самостоятельно.  \n",
        "Поясните:  \n",
        "- как вы формулировали нулевую и альтернативную гипотезы;  \n",
        "- какой критерий использовали для проверки гипотез и почему.  \n",
        "\n",
        "**Шаг 5.** Общий вывод"
      ]
    },
    {
      "cell_type": "markdown",
      "source": [
        "**Описание данных**  \n",
        "\n",
        "Таблица `users` (информация о пользователях):  \n",
        "- `user_id` — уникальный идентификатор пользователя  \n",
        "- `first_name` — имя пользователя  \n",
        "- `last_name` — фамилия пользователя  \n",
        "- `age` — возраст пользователя (годы)  \n",
        "- `reg_date` — дата подключения тарифа (день, месяц, год)  \n",
        "- `churn_date` — дата прекращения пользования тарифом (если значение пропущено, то тариф ещё действовал на момент выгрузки данных)  \n",
        "- `city` — город проживания пользователя  \n",
        "- `tarif` — название тарифного плана    \n",
        "\n",
        "Таблица `calls` (информация о звонках):\n",
        "- `id` — уникальный номер звонка  \n",
        "- `call_date` — дата звонка  \n",
        "- `duration` — длительность звонка в минутах  \n",
        "- `user_id` — идентификатор пользователя, сделавшего звонок    \n",
        "\n",
        "Таблица `internet` (информация об интернет-сессиях):\n",
        "- `id` — уникальный номер сессии  \n",
        "- `mb_used` — объём потраченного за сессию интернет-трафика (в мегабайтах)  \n",
        "- `session_date` — дата интернет-сессии  \n",
        "- `user_id` — идентификатор пользователя  \n",
        "\n",
        "Таблица `messages` (информация о сообщениях):\n",
        "- `id` — уникальный номер сообщения  \n",
        "- `message_date` — дата сообщения  \n",
        "- `user_id` — идентификатор пользователя, отправившего сообщение  \n",
        "\n",
        "Таблица `tariffs` (информация о тарифах):\n",
        "- `tariff_name` — название тарифа  \n",
        "- `rub_monthly_fee` — ежемесячная абонентская плата в рублях  \n",
        "- `minutes_included` — количество минут разговора в месяц, включённых в абонентскую плату  \n",
        "- `messages_included` — количество сообщений в месяц, включённых в абонентскую плату  \n",
        "- `mb_per_month_included` — объём интернет-трафика, включённого в абонентскую плату (в мегабайтах)  \n",
        "- `rub_per_minute` — стоимость минуты разговора сверх тарифного пакета (например, если в тарифе 100 минут разговора в месяц, то со 101 минуты будет взиматься плата)  \n",
        "- `rub_per_message` — стоимость отправки сообщения сверх тарифного пакета  \n",
        "- `rub_per_gb` — стоимость дополнительного гигабайта интернет-трафика сверх тарифного пакета (1 гигабайт = 1024 мегабайта)"
      ],
      "metadata": {
        "id": "a9cWELTnxO6l"
      }
    },
    {
      "cell_type": "markdown",
      "source": [
        "# **Шаг 1.** Изучение общей информации о данных "
      ],
      "metadata": {
        "id": "Ith3hbBHx0kG"
      }
    },
    {
      "cell_type": "code",
      "source": [
        "import pandas as pd\n",
        "import numpy as np\n",
        "from matplotlib import pyplot as plt\n",
        "import seaborn as sns\n",
        "from scipy import stats as st"
      ],
      "metadata": {
        "id": "TGMGqmO4zIaE"
      },
      "execution_count": null,
      "outputs": []
    },
    {
      "cell_type": "code",
      "source": [
        "df_users = pd.read_csv('https://code.s3.yandex.net/datasets/users.csv')"
      ],
      "metadata": {
        "id": "CO_1rdujzm4L"
      },
      "execution_count": null,
      "outputs": []
    },
    {
      "cell_type": "code",
      "source": [
        "df_users.head()"
      ],
      "metadata": {
        "colab": {
          "base_uri": "https://localhost:8080/",
          "height": 206
        },
        "id": "EB37FyChzpUL",
        "outputId": "a6a5c4d1-2add-418f-b60a-b93bafd80fa5"
      },
      "execution_count": null,
      "outputs": [
        {
          "output_type": "execute_result",
          "data": {
            "text/html": [
              "\n",
              "  <div id=\"df-21a7ff67-4846-49b7-9bdf-f2d363b98746\">\n",
              "    <div class=\"colab-df-container\">\n",
              "      <div>\n",
              "<style scoped>\n",
              "    .dataframe tbody tr th:only-of-type {\n",
              "        vertical-align: middle;\n",
              "    }\n",
              "\n",
              "    .dataframe tbody tr th {\n",
              "        vertical-align: top;\n",
              "    }\n",
              "\n",
              "    .dataframe thead th {\n",
              "        text-align: right;\n",
              "    }\n",
              "</style>\n",
              "<table border=\"1\" class=\"dataframe\">\n",
              "  <thead>\n",
              "    <tr style=\"text-align: right;\">\n",
              "      <th></th>\n",
              "      <th>user_id</th>\n",
              "      <th>age</th>\n",
              "      <th>churn_date</th>\n",
              "      <th>city</th>\n",
              "      <th>first_name</th>\n",
              "      <th>last_name</th>\n",
              "      <th>reg_date</th>\n",
              "      <th>tariff</th>\n",
              "    </tr>\n",
              "  </thead>\n",
              "  <tbody>\n",
              "    <tr>\n",
              "      <th>0</th>\n",
              "      <td>1000</td>\n",
              "      <td>52</td>\n",
              "      <td>NaN</td>\n",
              "      <td>Краснодар</td>\n",
              "      <td>Рафаил</td>\n",
              "      <td>Верещагин</td>\n",
              "      <td>2018-05-25</td>\n",
              "      <td>ultra</td>\n",
              "    </tr>\n",
              "    <tr>\n",
              "      <th>1</th>\n",
              "      <td>1001</td>\n",
              "      <td>41</td>\n",
              "      <td>NaN</td>\n",
              "      <td>Москва</td>\n",
              "      <td>Иван</td>\n",
              "      <td>Ежов</td>\n",
              "      <td>2018-11-01</td>\n",
              "      <td>smart</td>\n",
              "    </tr>\n",
              "    <tr>\n",
              "      <th>2</th>\n",
              "      <td>1002</td>\n",
              "      <td>59</td>\n",
              "      <td>NaN</td>\n",
              "      <td>Стерлитамак</td>\n",
              "      <td>Евгений</td>\n",
              "      <td>Абрамович</td>\n",
              "      <td>2018-06-17</td>\n",
              "      <td>smart</td>\n",
              "    </tr>\n",
              "    <tr>\n",
              "      <th>3</th>\n",
              "      <td>1003</td>\n",
              "      <td>23</td>\n",
              "      <td>NaN</td>\n",
              "      <td>Москва</td>\n",
              "      <td>Белла</td>\n",
              "      <td>Белякова</td>\n",
              "      <td>2018-08-17</td>\n",
              "      <td>ultra</td>\n",
              "    </tr>\n",
              "    <tr>\n",
              "      <th>4</th>\n",
              "      <td>1004</td>\n",
              "      <td>68</td>\n",
              "      <td>NaN</td>\n",
              "      <td>Новокузнецк</td>\n",
              "      <td>Татьяна</td>\n",
              "      <td>Авдеенко</td>\n",
              "      <td>2018-05-14</td>\n",
              "      <td>ultra</td>\n",
              "    </tr>\n",
              "  </tbody>\n",
              "</table>\n",
              "</div>\n",
              "      <button class=\"colab-df-convert\" onclick=\"convertToInteractive('df-21a7ff67-4846-49b7-9bdf-f2d363b98746')\"\n",
              "              title=\"Convert this dataframe to an interactive table.\"\n",
              "              style=\"display:none;\">\n",
              "        \n",
              "  <svg xmlns=\"http://www.w3.org/2000/svg\" height=\"24px\"viewBox=\"0 0 24 24\"\n",
              "       width=\"24px\">\n",
              "    <path d=\"M0 0h24v24H0V0z\" fill=\"none\"/>\n",
              "    <path d=\"M18.56 5.44l.94 2.06.94-2.06 2.06-.94-2.06-.94-.94-2.06-.94 2.06-2.06.94zm-11 1L8.5 8.5l.94-2.06 2.06-.94-2.06-.94L8.5 2.5l-.94 2.06-2.06.94zm10 10l.94 2.06.94-2.06 2.06-.94-2.06-.94-.94-2.06-.94 2.06-2.06.94z\"/><path d=\"M17.41 7.96l-1.37-1.37c-.4-.4-.92-.59-1.43-.59-.52 0-1.04.2-1.43.59L10.3 9.45l-7.72 7.72c-.78.78-.78 2.05 0 2.83L4 21.41c.39.39.9.59 1.41.59.51 0 1.02-.2 1.41-.59l7.78-7.78 2.81-2.81c.8-.78.8-2.07 0-2.86zM5.41 20L4 18.59l7.72-7.72 1.47 1.35L5.41 20z\"/>\n",
              "  </svg>\n",
              "      </button>\n",
              "      \n",
              "  <style>\n",
              "    .colab-df-container {\n",
              "      display:flex;\n",
              "      flex-wrap:wrap;\n",
              "      gap: 12px;\n",
              "    }\n",
              "\n",
              "    .colab-df-convert {\n",
              "      background-color: #E8F0FE;\n",
              "      border: none;\n",
              "      border-radius: 50%;\n",
              "      cursor: pointer;\n",
              "      display: none;\n",
              "      fill: #1967D2;\n",
              "      height: 32px;\n",
              "      padding: 0 0 0 0;\n",
              "      width: 32px;\n",
              "    }\n",
              "\n",
              "    .colab-df-convert:hover {\n",
              "      background-color: #E2EBFA;\n",
              "      box-shadow: 0px 1px 2px rgba(60, 64, 67, 0.3), 0px 1px 3px 1px rgba(60, 64, 67, 0.15);\n",
              "      fill: #174EA6;\n",
              "    }\n",
              "\n",
              "    [theme=dark] .colab-df-convert {\n",
              "      background-color: #3B4455;\n",
              "      fill: #D2E3FC;\n",
              "    }\n",
              "\n",
              "    [theme=dark] .colab-df-convert:hover {\n",
              "      background-color: #434B5C;\n",
              "      box-shadow: 0px 1px 3px 1px rgba(0, 0, 0, 0.15);\n",
              "      filter: drop-shadow(0px 1px 2px rgba(0, 0, 0, 0.3));\n",
              "      fill: #FFFFFF;\n",
              "    }\n",
              "  </style>\n",
              "\n",
              "      <script>\n",
              "        const buttonEl =\n",
              "          document.querySelector('#df-21a7ff67-4846-49b7-9bdf-f2d363b98746 button.colab-df-convert');\n",
              "        buttonEl.style.display =\n",
              "          google.colab.kernel.accessAllowed ? 'block' : 'none';\n",
              "\n",
              "        async function convertToInteractive(key) {\n",
              "          const element = document.querySelector('#df-21a7ff67-4846-49b7-9bdf-f2d363b98746');\n",
              "          const dataTable =\n",
              "            await google.colab.kernel.invokeFunction('convertToInteractive',\n",
              "                                                     [key], {});\n",
              "          if (!dataTable) return;\n",
              "\n",
              "          const docLinkHtml = 'Like what you see? Visit the ' +\n",
              "            '<a target=\"_blank\" href=https://colab.research.google.com/notebooks/data_table.ipynb>data table notebook</a>'\n",
              "            + ' to learn more about interactive tables.';\n",
              "          element.innerHTML = '';\n",
              "          dataTable['output_type'] = 'display_data';\n",
              "          await google.colab.output.renderOutput(dataTable, element);\n",
              "          const docLink = document.createElement('div');\n",
              "          docLink.innerHTML = docLinkHtml;\n",
              "          element.appendChild(docLink);\n",
              "        }\n",
              "      </script>\n",
              "    </div>\n",
              "  </div>\n",
              "  "
            ],
            "text/plain": [
              "   user_id  age churn_date  ...  last_name    reg_date tariff\n",
              "0     1000   52        NaN  ...  Верещагин  2018-05-25  ultra\n",
              "1     1001   41        NaN  ...       Ежов  2018-11-01  smart\n",
              "2     1002   59        NaN  ...  Абрамович  2018-06-17  smart\n",
              "3     1003   23        NaN  ...   Белякова  2018-08-17  ultra\n",
              "4     1004   68        NaN  ...   Авдеенко  2018-05-14  ultra\n",
              "\n",
              "[5 rows x 8 columns]"
            ]
          },
          "metadata": {},
          "execution_count": 3
        }
      ]
    },
    {
      "cell_type": "code",
      "source": [
        "df_users.info()"
      ],
      "metadata": {
        "colab": {
          "base_uri": "https://localhost:8080/"
        },
        "id": "9Ddf9ONfAbE1",
        "outputId": "2c28dc84-19f5-4df8-fbbf-6d3dd271de7f"
      },
      "execution_count": null,
      "outputs": [
        {
          "output_type": "stream",
          "name": "stdout",
          "text": [
            "<class 'pandas.core.frame.DataFrame'>\n",
            "RangeIndex: 500 entries, 0 to 499\n",
            "Data columns (total 8 columns):\n",
            " #   Column      Non-Null Count  Dtype \n",
            "---  ------      --------------  ----- \n",
            " 0   user_id     500 non-null    int64 \n",
            " 1   age         500 non-null    int64 \n",
            " 2   churn_date  38 non-null     object\n",
            " 3   city        500 non-null    object\n",
            " 4   first_name  500 non-null    object\n",
            " 5   last_name   500 non-null    object\n",
            " 6   reg_date    500 non-null    object\n",
            " 7   tariff      500 non-null    object\n",
            "dtypes: int64(2), object(6)\n",
            "memory usage: 31.4+ KB\n"
          ]
        }
      ]
    },
    {
      "cell_type": "code",
      "source": [
        "df_calls = pd.read_csv('https://code.s3.yandex.net/datasets/calls.csv')"
      ],
      "metadata": {
        "id": "0145ZxMNzKN1"
      },
      "execution_count": null,
      "outputs": []
    },
    {
      "cell_type": "code",
      "source": [
        "df_calls.head()"
      ],
      "metadata": {
        "colab": {
          "base_uri": "https://localhost:8080/",
          "height": 206
        },
        "id": "ewSG1t0qzTYr",
        "outputId": "a8cd3c2c-44bf-4855-9e3f-55e2da4143ca"
      },
      "execution_count": null,
      "outputs": [
        {
          "output_type": "execute_result",
          "data": {
            "text/html": [
              "\n",
              "  <div id=\"df-a0d10be8-a410-4af0-99af-47cd3f065861\">\n",
              "    <div class=\"colab-df-container\">\n",
              "      <div>\n",
              "<style scoped>\n",
              "    .dataframe tbody tr th:only-of-type {\n",
              "        vertical-align: middle;\n",
              "    }\n",
              "\n",
              "    .dataframe tbody tr th {\n",
              "        vertical-align: top;\n",
              "    }\n",
              "\n",
              "    .dataframe thead th {\n",
              "        text-align: right;\n",
              "    }\n",
              "</style>\n",
              "<table border=\"1\" class=\"dataframe\">\n",
              "  <thead>\n",
              "    <tr style=\"text-align: right;\">\n",
              "      <th></th>\n",
              "      <th>id</th>\n",
              "      <th>call_date</th>\n",
              "      <th>duration</th>\n",
              "      <th>user_id</th>\n",
              "    </tr>\n",
              "  </thead>\n",
              "  <tbody>\n",
              "    <tr>\n",
              "      <th>0</th>\n",
              "      <td>1000_0</td>\n",
              "      <td>2018-07-25</td>\n",
              "      <td>0.00</td>\n",
              "      <td>1000</td>\n",
              "    </tr>\n",
              "    <tr>\n",
              "      <th>1</th>\n",
              "      <td>1000_1</td>\n",
              "      <td>2018-08-17</td>\n",
              "      <td>0.00</td>\n",
              "      <td>1000</td>\n",
              "    </tr>\n",
              "    <tr>\n",
              "      <th>2</th>\n",
              "      <td>1000_2</td>\n",
              "      <td>2018-06-11</td>\n",
              "      <td>2.85</td>\n",
              "      <td>1000</td>\n",
              "    </tr>\n",
              "    <tr>\n",
              "      <th>3</th>\n",
              "      <td>1000_3</td>\n",
              "      <td>2018-09-21</td>\n",
              "      <td>13.80</td>\n",
              "      <td>1000</td>\n",
              "    </tr>\n",
              "    <tr>\n",
              "      <th>4</th>\n",
              "      <td>1000_4</td>\n",
              "      <td>2018-12-15</td>\n",
              "      <td>5.18</td>\n",
              "      <td>1000</td>\n",
              "    </tr>\n",
              "  </tbody>\n",
              "</table>\n",
              "</div>\n",
              "      <button class=\"colab-df-convert\" onclick=\"convertToInteractive('df-a0d10be8-a410-4af0-99af-47cd3f065861')\"\n",
              "              title=\"Convert this dataframe to an interactive table.\"\n",
              "              style=\"display:none;\">\n",
              "        \n",
              "  <svg xmlns=\"http://www.w3.org/2000/svg\" height=\"24px\"viewBox=\"0 0 24 24\"\n",
              "       width=\"24px\">\n",
              "    <path d=\"M0 0h24v24H0V0z\" fill=\"none\"/>\n",
              "    <path d=\"M18.56 5.44l.94 2.06.94-2.06 2.06-.94-2.06-.94-.94-2.06-.94 2.06-2.06.94zm-11 1L8.5 8.5l.94-2.06 2.06-.94-2.06-.94L8.5 2.5l-.94 2.06-2.06.94zm10 10l.94 2.06.94-2.06 2.06-.94-2.06-.94-.94-2.06-.94 2.06-2.06.94z\"/><path d=\"M17.41 7.96l-1.37-1.37c-.4-.4-.92-.59-1.43-.59-.52 0-1.04.2-1.43.59L10.3 9.45l-7.72 7.72c-.78.78-.78 2.05 0 2.83L4 21.41c.39.39.9.59 1.41.59.51 0 1.02-.2 1.41-.59l7.78-7.78 2.81-2.81c.8-.78.8-2.07 0-2.86zM5.41 20L4 18.59l7.72-7.72 1.47 1.35L5.41 20z\"/>\n",
              "  </svg>\n",
              "      </button>\n",
              "      \n",
              "  <style>\n",
              "    .colab-df-container {\n",
              "      display:flex;\n",
              "      flex-wrap:wrap;\n",
              "      gap: 12px;\n",
              "    }\n",
              "\n",
              "    .colab-df-convert {\n",
              "      background-color: #E8F0FE;\n",
              "      border: none;\n",
              "      border-radius: 50%;\n",
              "      cursor: pointer;\n",
              "      display: none;\n",
              "      fill: #1967D2;\n",
              "      height: 32px;\n",
              "      padding: 0 0 0 0;\n",
              "      width: 32px;\n",
              "    }\n",
              "\n",
              "    .colab-df-convert:hover {\n",
              "      background-color: #E2EBFA;\n",
              "      box-shadow: 0px 1px 2px rgba(60, 64, 67, 0.3), 0px 1px 3px 1px rgba(60, 64, 67, 0.15);\n",
              "      fill: #174EA6;\n",
              "    }\n",
              "\n",
              "    [theme=dark] .colab-df-convert {\n",
              "      background-color: #3B4455;\n",
              "      fill: #D2E3FC;\n",
              "    }\n",
              "\n",
              "    [theme=dark] .colab-df-convert:hover {\n",
              "      background-color: #434B5C;\n",
              "      box-shadow: 0px 1px 3px 1px rgba(0, 0, 0, 0.15);\n",
              "      filter: drop-shadow(0px 1px 2px rgba(0, 0, 0, 0.3));\n",
              "      fill: #FFFFFF;\n",
              "    }\n",
              "  </style>\n",
              "\n",
              "      <script>\n",
              "        const buttonEl =\n",
              "          document.querySelector('#df-a0d10be8-a410-4af0-99af-47cd3f065861 button.colab-df-convert');\n",
              "        buttonEl.style.display =\n",
              "          google.colab.kernel.accessAllowed ? 'block' : 'none';\n",
              "\n",
              "        async function convertToInteractive(key) {\n",
              "          const element = document.querySelector('#df-a0d10be8-a410-4af0-99af-47cd3f065861');\n",
              "          const dataTable =\n",
              "            await google.colab.kernel.invokeFunction('convertToInteractive',\n",
              "                                                     [key], {});\n",
              "          if (!dataTable) return;\n",
              "\n",
              "          const docLinkHtml = 'Like what you see? Visit the ' +\n",
              "            '<a target=\"_blank\" href=https://colab.research.google.com/notebooks/data_table.ipynb>data table notebook</a>'\n",
              "            + ' to learn more about interactive tables.';\n",
              "          element.innerHTML = '';\n",
              "          dataTable['output_type'] = 'display_data';\n",
              "          await google.colab.output.renderOutput(dataTable, element);\n",
              "          const docLink = document.createElement('div');\n",
              "          docLink.innerHTML = docLinkHtml;\n",
              "          element.appendChild(docLink);\n",
              "        }\n",
              "      </script>\n",
              "    </div>\n",
              "  </div>\n",
              "  "
            ],
            "text/plain": [
              "       id   call_date  duration  user_id\n",
              "0  1000_0  2018-07-25      0.00     1000\n",
              "1  1000_1  2018-08-17      0.00     1000\n",
              "2  1000_2  2018-06-11      2.85     1000\n",
              "3  1000_3  2018-09-21     13.80     1000\n",
              "4  1000_4  2018-12-15      5.18     1000"
            ]
          },
          "metadata": {},
          "execution_count": 6
        }
      ]
    },
    {
      "cell_type": "code",
      "source": [
        "df_calls.info()"
      ],
      "metadata": {
        "colab": {
          "base_uri": "https://localhost:8080/"
        },
        "id": "YmXAwG7oAk33",
        "outputId": "86d4949c-9c5c-4f9a-df76-ec9a8b3b0e9f"
      },
      "execution_count": null,
      "outputs": [
        {
          "output_type": "stream",
          "name": "stdout",
          "text": [
            "<class 'pandas.core.frame.DataFrame'>\n",
            "RangeIndex: 202607 entries, 0 to 202606\n",
            "Data columns (total 4 columns):\n",
            " #   Column     Non-Null Count   Dtype  \n",
            "---  ------     --------------   -----  \n",
            " 0   id         202607 non-null  object \n",
            " 1   call_date  202607 non-null  object \n",
            " 2   duration   202607 non-null  float64\n",
            " 3   user_id    202607 non-null  int64  \n",
            "dtypes: float64(1), int64(1), object(2)\n",
            "memory usage: 6.2+ MB\n"
          ]
        }
      ]
    },
    {
      "cell_type": "code",
      "source": [
        "df_internet = pd.read_csv('https://code.s3.yandex.net/datasets/internet.csv', index_col=0)"
      ],
      "metadata": {
        "id": "X57BXPJhzUwM"
      },
      "execution_count": null,
      "outputs": []
    },
    {
      "cell_type": "code",
      "source": [
        "df_internet.head()"
      ],
      "metadata": {
        "colab": {
          "base_uri": "https://localhost:8080/",
          "height": 206
        },
        "id": "uN5WkSR60ivM",
        "outputId": "43dce593-7985-45b3-c376-85d9d96b546a"
      },
      "execution_count": null,
      "outputs": [
        {
          "output_type": "execute_result",
          "data": {
            "text/html": [
              "\n",
              "  <div id=\"df-572f04a0-cd69-4b2f-ae7e-14ad228d2630\">\n",
              "    <div class=\"colab-df-container\">\n",
              "      <div>\n",
              "<style scoped>\n",
              "    .dataframe tbody tr th:only-of-type {\n",
              "        vertical-align: middle;\n",
              "    }\n",
              "\n",
              "    .dataframe tbody tr th {\n",
              "        vertical-align: top;\n",
              "    }\n",
              "\n",
              "    .dataframe thead th {\n",
              "        text-align: right;\n",
              "    }\n",
              "</style>\n",
              "<table border=\"1\" class=\"dataframe\">\n",
              "  <thead>\n",
              "    <tr style=\"text-align: right;\">\n",
              "      <th></th>\n",
              "      <th>id</th>\n",
              "      <th>mb_used</th>\n",
              "      <th>session_date</th>\n",
              "      <th>user_id</th>\n",
              "    </tr>\n",
              "  </thead>\n",
              "  <tbody>\n",
              "    <tr>\n",
              "      <th>0</th>\n",
              "      <td>1000_0</td>\n",
              "      <td>112.95</td>\n",
              "      <td>2018-11-25</td>\n",
              "      <td>1000</td>\n",
              "    </tr>\n",
              "    <tr>\n",
              "      <th>1</th>\n",
              "      <td>1000_1</td>\n",
              "      <td>1052.81</td>\n",
              "      <td>2018-09-07</td>\n",
              "      <td>1000</td>\n",
              "    </tr>\n",
              "    <tr>\n",
              "      <th>2</th>\n",
              "      <td>1000_2</td>\n",
              "      <td>1197.26</td>\n",
              "      <td>2018-06-25</td>\n",
              "      <td>1000</td>\n",
              "    </tr>\n",
              "    <tr>\n",
              "      <th>3</th>\n",
              "      <td>1000_3</td>\n",
              "      <td>550.27</td>\n",
              "      <td>2018-08-22</td>\n",
              "      <td>1000</td>\n",
              "    </tr>\n",
              "    <tr>\n",
              "      <th>4</th>\n",
              "      <td>1000_4</td>\n",
              "      <td>302.56</td>\n",
              "      <td>2018-09-24</td>\n",
              "      <td>1000</td>\n",
              "    </tr>\n",
              "  </tbody>\n",
              "</table>\n",
              "</div>\n",
              "      <button class=\"colab-df-convert\" onclick=\"convertToInteractive('df-572f04a0-cd69-4b2f-ae7e-14ad228d2630')\"\n",
              "              title=\"Convert this dataframe to an interactive table.\"\n",
              "              style=\"display:none;\">\n",
              "        \n",
              "  <svg xmlns=\"http://www.w3.org/2000/svg\" height=\"24px\"viewBox=\"0 0 24 24\"\n",
              "       width=\"24px\">\n",
              "    <path d=\"M0 0h24v24H0V0z\" fill=\"none\"/>\n",
              "    <path d=\"M18.56 5.44l.94 2.06.94-2.06 2.06-.94-2.06-.94-.94-2.06-.94 2.06-2.06.94zm-11 1L8.5 8.5l.94-2.06 2.06-.94-2.06-.94L8.5 2.5l-.94 2.06-2.06.94zm10 10l.94 2.06.94-2.06 2.06-.94-2.06-.94-.94-2.06-.94 2.06-2.06.94z\"/><path d=\"M17.41 7.96l-1.37-1.37c-.4-.4-.92-.59-1.43-.59-.52 0-1.04.2-1.43.59L10.3 9.45l-7.72 7.72c-.78.78-.78 2.05 0 2.83L4 21.41c.39.39.9.59 1.41.59.51 0 1.02-.2 1.41-.59l7.78-7.78 2.81-2.81c.8-.78.8-2.07 0-2.86zM5.41 20L4 18.59l7.72-7.72 1.47 1.35L5.41 20z\"/>\n",
              "  </svg>\n",
              "      </button>\n",
              "      \n",
              "  <style>\n",
              "    .colab-df-container {\n",
              "      display:flex;\n",
              "      flex-wrap:wrap;\n",
              "      gap: 12px;\n",
              "    }\n",
              "\n",
              "    .colab-df-convert {\n",
              "      background-color: #E8F0FE;\n",
              "      border: none;\n",
              "      border-radius: 50%;\n",
              "      cursor: pointer;\n",
              "      display: none;\n",
              "      fill: #1967D2;\n",
              "      height: 32px;\n",
              "      padding: 0 0 0 0;\n",
              "      width: 32px;\n",
              "    }\n",
              "\n",
              "    .colab-df-convert:hover {\n",
              "      background-color: #E2EBFA;\n",
              "      box-shadow: 0px 1px 2px rgba(60, 64, 67, 0.3), 0px 1px 3px 1px rgba(60, 64, 67, 0.15);\n",
              "      fill: #174EA6;\n",
              "    }\n",
              "\n",
              "    [theme=dark] .colab-df-convert {\n",
              "      background-color: #3B4455;\n",
              "      fill: #D2E3FC;\n",
              "    }\n",
              "\n",
              "    [theme=dark] .colab-df-convert:hover {\n",
              "      background-color: #434B5C;\n",
              "      box-shadow: 0px 1px 3px 1px rgba(0, 0, 0, 0.15);\n",
              "      filter: drop-shadow(0px 1px 2px rgba(0, 0, 0, 0.3));\n",
              "      fill: #FFFFFF;\n",
              "    }\n",
              "  </style>\n",
              "\n",
              "      <script>\n",
              "        const buttonEl =\n",
              "          document.querySelector('#df-572f04a0-cd69-4b2f-ae7e-14ad228d2630 button.colab-df-convert');\n",
              "        buttonEl.style.display =\n",
              "          google.colab.kernel.accessAllowed ? 'block' : 'none';\n",
              "\n",
              "        async function convertToInteractive(key) {\n",
              "          const element = document.querySelector('#df-572f04a0-cd69-4b2f-ae7e-14ad228d2630');\n",
              "          const dataTable =\n",
              "            await google.colab.kernel.invokeFunction('convertToInteractive',\n",
              "                                                     [key], {});\n",
              "          if (!dataTable) return;\n",
              "\n",
              "          const docLinkHtml = 'Like what you see? Visit the ' +\n",
              "            '<a target=\"_blank\" href=https://colab.research.google.com/notebooks/data_table.ipynb>data table notebook</a>'\n",
              "            + ' to learn more about interactive tables.';\n",
              "          element.innerHTML = '';\n",
              "          dataTable['output_type'] = 'display_data';\n",
              "          await google.colab.output.renderOutput(dataTable, element);\n",
              "          const docLink = document.createElement('div');\n",
              "          docLink.innerHTML = docLinkHtml;\n",
              "          element.appendChild(docLink);\n",
              "        }\n",
              "      </script>\n",
              "    </div>\n",
              "  </div>\n",
              "  "
            ],
            "text/plain": [
              "       id  mb_used session_date  user_id\n",
              "0  1000_0   112.95   2018-11-25     1000\n",
              "1  1000_1  1052.81   2018-09-07     1000\n",
              "2  1000_2  1197.26   2018-06-25     1000\n",
              "3  1000_3   550.27   2018-08-22     1000\n",
              "4  1000_4   302.56   2018-09-24     1000"
            ]
          },
          "metadata": {},
          "execution_count": 9
        }
      ]
    },
    {
      "cell_type": "code",
      "source": [
        "df_internet.info()"
      ],
      "metadata": {
        "colab": {
          "base_uri": "https://localhost:8080/"
        },
        "id": "hW36rkjzAlzA",
        "outputId": "c6726cf4-cb51-4823-ba2b-435a15817eee"
      },
      "execution_count": null,
      "outputs": [
        {
          "output_type": "stream",
          "name": "stdout",
          "text": [
            "<class 'pandas.core.frame.DataFrame'>\n",
            "Int64Index: 149396 entries, 0 to 149395\n",
            "Data columns (total 4 columns):\n",
            " #   Column        Non-Null Count   Dtype  \n",
            "---  ------        --------------   -----  \n",
            " 0   id            149396 non-null  object \n",
            " 1   mb_used       149396 non-null  float64\n",
            " 2   session_date  149396 non-null  object \n",
            " 3   user_id       149396 non-null  int64  \n",
            "dtypes: float64(1), int64(1), object(2)\n",
            "memory usage: 5.7+ MB\n"
          ]
        }
      ]
    },
    {
      "cell_type": "code",
      "source": [
        "df_messages = pd.read_csv('https://code.s3.yandex.net/datasets/messages.csv')"
      ],
      "metadata": {
        "id": "bOLEVZk3zfVE"
      },
      "execution_count": null,
      "outputs": []
    },
    {
      "cell_type": "code",
      "source": [
        "df_messages.head()"
      ],
      "metadata": {
        "colab": {
          "base_uri": "https://localhost:8080/",
          "height": 206
        },
        "id": "KVr4tvCA0jB7",
        "outputId": "381c6417-c22f-4523-f466-9aac1f378875"
      },
      "execution_count": null,
      "outputs": [
        {
          "output_type": "execute_result",
          "data": {
            "text/html": [
              "\n",
              "  <div id=\"df-4f90c662-62c0-4b0b-925b-719dac96dade\">\n",
              "    <div class=\"colab-df-container\">\n",
              "      <div>\n",
              "<style scoped>\n",
              "    .dataframe tbody tr th:only-of-type {\n",
              "        vertical-align: middle;\n",
              "    }\n",
              "\n",
              "    .dataframe tbody tr th {\n",
              "        vertical-align: top;\n",
              "    }\n",
              "\n",
              "    .dataframe thead th {\n",
              "        text-align: right;\n",
              "    }\n",
              "</style>\n",
              "<table border=\"1\" class=\"dataframe\">\n",
              "  <thead>\n",
              "    <tr style=\"text-align: right;\">\n",
              "      <th></th>\n",
              "      <th>id</th>\n",
              "      <th>message_date</th>\n",
              "      <th>user_id</th>\n",
              "    </tr>\n",
              "  </thead>\n",
              "  <tbody>\n",
              "    <tr>\n",
              "      <th>0</th>\n",
              "      <td>1000_0</td>\n",
              "      <td>2018-06-27</td>\n",
              "      <td>1000</td>\n",
              "    </tr>\n",
              "    <tr>\n",
              "      <th>1</th>\n",
              "      <td>1000_1</td>\n",
              "      <td>2018-10-08</td>\n",
              "      <td>1000</td>\n",
              "    </tr>\n",
              "    <tr>\n",
              "      <th>2</th>\n",
              "      <td>1000_2</td>\n",
              "      <td>2018-08-04</td>\n",
              "      <td>1000</td>\n",
              "    </tr>\n",
              "    <tr>\n",
              "      <th>3</th>\n",
              "      <td>1000_3</td>\n",
              "      <td>2018-06-16</td>\n",
              "      <td>1000</td>\n",
              "    </tr>\n",
              "    <tr>\n",
              "      <th>4</th>\n",
              "      <td>1000_4</td>\n",
              "      <td>2018-12-05</td>\n",
              "      <td>1000</td>\n",
              "    </tr>\n",
              "  </tbody>\n",
              "</table>\n",
              "</div>\n",
              "      <button class=\"colab-df-convert\" onclick=\"convertToInteractive('df-4f90c662-62c0-4b0b-925b-719dac96dade')\"\n",
              "              title=\"Convert this dataframe to an interactive table.\"\n",
              "              style=\"display:none;\">\n",
              "        \n",
              "  <svg xmlns=\"http://www.w3.org/2000/svg\" height=\"24px\"viewBox=\"0 0 24 24\"\n",
              "       width=\"24px\">\n",
              "    <path d=\"M0 0h24v24H0V0z\" fill=\"none\"/>\n",
              "    <path d=\"M18.56 5.44l.94 2.06.94-2.06 2.06-.94-2.06-.94-.94-2.06-.94 2.06-2.06.94zm-11 1L8.5 8.5l.94-2.06 2.06-.94-2.06-.94L8.5 2.5l-.94 2.06-2.06.94zm10 10l.94 2.06.94-2.06 2.06-.94-2.06-.94-.94-2.06-.94 2.06-2.06.94z\"/><path d=\"M17.41 7.96l-1.37-1.37c-.4-.4-.92-.59-1.43-.59-.52 0-1.04.2-1.43.59L10.3 9.45l-7.72 7.72c-.78.78-.78 2.05 0 2.83L4 21.41c.39.39.9.59 1.41.59.51 0 1.02-.2 1.41-.59l7.78-7.78 2.81-2.81c.8-.78.8-2.07 0-2.86zM5.41 20L4 18.59l7.72-7.72 1.47 1.35L5.41 20z\"/>\n",
              "  </svg>\n",
              "      </button>\n",
              "      \n",
              "  <style>\n",
              "    .colab-df-container {\n",
              "      display:flex;\n",
              "      flex-wrap:wrap;\n",
              "      gap: 12px;\n",
              "    }\n",
              "\n",
              "    .colab-df-convert {\n",
              "      background-color: #E8F0FE;\n",
              "      border: none;\n",
              "      border-radius: 50%;\n",
              "      cursor: pointer;\n",
              "      display: none;\n",
              "      fill: #1967D2;\n",
              "      height: 32px;\n",
              "      padding: 0 0 0 0;\n",
              "      width: 32px;\n",
              "    }\n",
              "\n",
              "    .colab-df-convert:hover {\n",
              "      background-color: #E2EBFA;\n",
              "      box-shadow: 0px 1px 2px rgba(60, 64, 67, 0.3), 0px 1px 3px 1px rgba(60, 64, 67, 0.15);\n",
              "      fill: #174EA6;\n",
              "    }\n",
              "\n",
              "    [theme=dark] .colab-df-convert {\n",
              "      background-color: #3B4455;\n",
              "      fill: #D2E3FC;\n",
              "    }\n",
              "\n",
              "    [theme=dark] .colab-df-convert:hover {\n",
              "      background-color: #434B5C;\n",
              "      box-shadow: 0px 1px 3px 1px rgba(0, 0, 0, 0.15);\n",
              "      filter: drop-shadow(0px 1px 2px rgba(0, 0, 0, 0.3));\n",
              "      fill: #FFFFFF;\n",
              "    }\n",
              "  </style>\n",
              "\n",
              "      <script>\n",
              "        const buttonEl =\n",
              "          document.querySelector('#df-4f90c662-62c0-4b0b-925b-719dac96dade button.colab-df-convert');\n",
              "        buttonEl.style.display =\n",
              "          google.colab.kernel.accessAllowed ? 'block' : 'none';\n",
              "\n",
              "        async function convertToInteractive(key) {\n",
              "          const element = document.querySelector('#df-4f90c662-62c0-4b0b-925b-719dac96dade');\n",
              "          const dataTable =\n",
              "            await google.colab.kernel.invokeFunction('convertToInteractive',\n",
              "                                                     [key], {});\n",
              "          if (!dataTable) return;\n",
              "\n",
              "          const docLinkHtml = 'Like what you see? Visit the ' +\n",
              "            '<a target=\"_blank\" href=https://colab.research.google.com/notebooks/data_table.ipynb>data table notebook</a>'\n",
              "            + ' to learn more about interactive tables.';\n",
              "          element.innerHTML = '';\n",
              "          dataTable['output_type'] = 'display_data';\n",
              "          await google.colab.output.renderOutput(dataTable, element);\n",
              "          const docLink = document.createElement('div');\n",
              "          docLink.innerHTML = docLinkHtml;\n",
              "          element.appendChild(docLink);\n",
              "        }\n",
              "      </script>\n",
              "    </div>\n",
              "  </div>\n",
              "  "
            ],
            "text/plain": [
              "       id message_date  user_id\n",
              "0  1000_0   2018-06-27     1000\n",
              "1  1000_1   2018-10-08     1000\n",
              "2  1000_2   2018-08-04     1000\n",
              "3  1000_3   2018-06-16     1000\n",
              "4  1000_4   2018-12-05     1000"
            ]
          },
          "metadata": {},
          "execution_count": 12
        }
      ]
    },
    {
      "cell_type": "code",
      "source": [
        "df_messages.info()"
      ],
      "metadata": {
        "colab": {
          "base_uri": "https://localhost:8080/"
        },
        "id": "rH0l9wA7AmdU",
        "outputId": "99b20de8-4f28-4fec-97a1-a4e77de595dd"
      },
      "execution_count": null,
      "outputs": [
        {
          "output_type": "stream",
          "name": "stdout",
          "text": [
            "<class 'pandas.core.frame.DataFrame'>\n",
            "RangeIndex: 123036 entries, 0 to 123035\n",
            "Data columns (total 3 columns):\n",
            " #   Column        Non-Null Count   Dtype \n",
            "---  ------        --------------   ----- \n",
            " 0   id            123036 non-null  object\n",
            " 1   message_date  123036 non-null  object\n",
            " 2   user_id       123036 non-null  int64 \n",
            "dtypes: int64(1), object(2)\n",
            "memory usage: 2.8+ MB\n"
          ]
        }
      ]
    },
    {
      "cell_type": "code",
      "source": [
        "df_tariffs = pd.read_csv('https://code.s3.yandex.net/datasets/tariffs.csv')"
      ],
      "metadata": {
        "id": "VlJqZEBlzjRb"
      },
      "execution_count": null,
      "outputs": []
    },
    {
      "cell_type": "code",
      "source": [
        "df_tariffs"
      ],
      "metadata": {
        "colab": {
          "base_uri": "https://localhost:8080/",
          "height": 112
        },
        "id": "8sbsoi800jSa",
        "outputId": "a56bc6b2-1552-4604-e6aa-f6eb08517bff"
      },
      "execution_count": null,
      "outputs": [
        {
          "output_type": "execute_result",
          "data": {
            "text/html": [
              "\n",
              "  <div id=\"df-ab4f69ba-ce36-4aca-8a02-fbcfa64e4488\">\n",
              "    <div class=\"colab-df-container\">\n",
              "      <div>\n",
              "<style scoped>\n",
              "    .dataframe tbody tr th:only-of-type {\n",
              "        vertical-align: middle;\n",
              "    }\n",
              "\n",
              "    .dataframe tbody tr th {\n",
              "        vertical-align: top;\n",
              "    }\n",
              "\n",
              "    .dataframe thead th {\n",
              "        text-align: right;\n",
              "    }\n",
              "</style>\n",
              "<table border=\"1\" class=\"dataframe\">\n",
              "  <thead>\n",
              "    <tr style=\"text-align: right;\">\n",
              "      <th></th>\n",
              "      <th>messages_included</th>\n",
              "      <th>mb_per_month_included</th>\n",
              "      <th>minutes_included</th>\n",
              "      <th>rub_monthly_fee</th>\n",
              "      <th>rub_per_gb</th>\n",
              "      <th>rub_per_message</th>\n",
              "      <th>rub_per_minute</th>\n",
              "      <th>tariff_name</th>\n",
              "    </tr>\n",
              "  </thead>\n",
              "  <tbody>\n",
              "    <tr>\n",
              "      <th>0</th>\n",
              "      <td>50</td>\n",
              "      <td>15360</td>\n",
              "      <td>500</td>\n",
              "      <td>550</td>\n",
              "      <td>200</td>\n",
              "      <td>3</td>\n",
              "      <td>3</td>\n",
              "      <td>smart</td>\n",
              "    </tr>\n",
              "    <tr>\n",
              "      <th>1</th>\n",
              "      <td>1000</td>\n",
              "      <td>30720</td>\n",
              "      <td>3000</td>\n",
              "      <td>1950</td>\n",
              "      <td>150</td>\n",
              "      <td>1</td>\n",
              "      <td>1</td>\n",
              "      <td>ultra</td>\n",
              "    </tr>\n",
              "  </tbody>\n",
              "</table>\n",
              "</div>\n",
              "      <button class=\"colab-df-convert\" onclick=\"convertToInteractive('df-ab4f69ba-ce36-4aca-8a02-fbcfa64e4488')\"\n",
              "              title=\"Convert this dataframe to an interactive table.\"\n",
              "              style=\"display:none;\">\n",
              "        \n",
              "  <svg xmlns=\"http://www.w3.org/2000/svg\" height=\"24px\"viewBox=\"0 0 24 24\"\n",
              "       width=\"24px\">\n",
              "    <path d=\"M0 0h24v24H0V0z\" fill=\"none\"/>\n",
              "    <path d=\"M18.56 5.44l.94 2.06.94-2.06 2.06-.94-2.06-.94-.94-2.06-.94 2.06-2.06.94zm-11 1L8.5 8.5l.94-2.06 2.06-.94-2.06-.94L8.5 2.5l-.94 2.06-2.06.94zm10 10l.94 2.06.94-2.06 2.06-.94-2.06-.94-.94-2.06-.94 2.06-2.06.94z\"/><path d=\"M17.41 7.96l-1.37-1.37c-.4-.4-.92-.59-1.43-.59-.52 0-1.04.2-1.43.59L10.3 9.45l-7.72 7.72c-.78.78-.78 2.05 0 2.83L4 21.41c.39.39.9.59 1.41.59.51 0 1.02-.2 1.41-.59l7.78-7.78 2.81-2.81c.8-.78.8-2.07 0-2.86zM5.41 20L4 18.59l7.72-7.72 1.47 1.35L5.41 20z\"/>\n",
              "  </svg>\n",
              "      </button>\n",
              "      \n",
              "  <style>\n",
              "    .colab-df-container {\n",
              "      display:flex;\n",
              "      flex-wrap:wrap;\n",
              "      gap: 12px;\n",
              "    }\n",
              "\n",
              "    .colab-df-convert {\n",
              "      background-color: #E8F0FE;\n",
              "      border: none;\n",
              "      border-radius: 50%;\n",
              "      cursor: pointer;\n",
              "      display: none;\n",
              "      fill: #1967D2;\n",
              "      height: 32px;\n",
              "      padding: 0 0 0 0;\n",
              "      width: 32px;\n",
              "    }\n",
              "\n",
              "    .colab-df-convert:hover {\n",
              "      background-color: #E2EBFA;\n",
              "      box-shadow: 0px 1px 2px rgba(60, 64, 67, 0.3), 0px 1px 3px 1px rgba(60, 64, 67, 0.15);\n",
              "      fill: #174EA6;\n",
              "    }\n",
              "\n",
              "    [theme=dark] .colab-df-convert {\n",
              "      background-color: #3B4455;\n",
              "      fill: #D2E3FC;\n",
              "    }\n",
              "\n",
              "    [theme=dark] .colab-df-convert:hover {\n",
              "      background-color: #434B5C;\n",
              "      box-shadow: 0px 1px 3px 1px rgba(0, 0, 0, 0.15);\n",
              "      filter: drop-shadow(0px 1px 2px rgba(0, 0, 0, 0.3));\n",
              "      fill: #FFFFFF;\n",
              "    }\n",
              "  </style>\n",
              "\n",
              "      <script>\n",
              "        const buttonEl =\n",
              "          document.querySelector('#df-ab4f69ba-ce36-4aca-8a02-fbcfa64e4488 button.colab-df-convert');\n",
              "        buttonEl.style.display =\n",
              "          google.colab.kernel.accessAllowed ? 'block' : 'none';\n",
              "\n",
              "        async function convertToInteractive(key) {\n",
              "          const element = document.querySelector('#df-ab4f69ba-ce36-4aca-8a02-fbcfa64e4488');\n",
              "          const dataTable =\n",
              "            await google.colab.kernel.invokeFunction('convertToInteractive',\n",
              "                                                     [key], {});\n",
              "          if (!dataTable) return;\n",
              "\n",
              "          const docLinkHtml = 'Like what you see? Visit the ' +\n",
              "            '<a target=\"_blank\" href=https://colab.research.google.com/notebooks/data_table.ipynb>data table notebook</a>'\n",
              "            + ' to learn more about interactive tables.';\n",
              "          element.innerHTML = '';\n",
              "          dataTable['output_type'] = 'display_data';\n",
              "          await google.colab.output.renderOutput(dataTable, element);\n",
              "          const docLink = document.createElement('div');\n",
              "          docLink.innerHTML = docLinkHtml;\n",
              "          element.appendChild(docLink);\n",
              "        }\n",
              "      </script>\n",
              "    </div>\n",
              "  </div>\n",
              "  "
            ],
            "text/plain": [
              "   messages_included  mb_per_month_included  ...  rub_per_minute  tariff_name\n",
              "0                 50                  15360  ...               3        smart\n",
              "1               1000                  30720  ...               1        ultra\n",
              "\n",
              "[2 rows x 8 columns]"
            ]
          },
          "metadata": {},
          "execution_count": 15
        }
      ]
    },
    {
      "cell_type": "code",
      "source": [
        "df_tariffs.info()"
      ],
      "metadata": {
        "colab": {
          "base_uri": "https://localhost:8080/"
        },
        "id": "mKJkjakIAnHs",
        "outputId": "c785c9e2-1c12-4a44-be95-0e5d0253b0d3"
      },
      "execution_count": null,
      "outputs": [
        {
          "output_type": "stream",
          "name": "stdout",
          "text": [
            "<class 'pandas.core.frame.DataFrame'>\n",
            "RangeIndex: 2 entries, 0 to 1\n",
            "Data columns (total 8 columns):\n",
            " #   Column                 Non-Null Count  Dtype \n",
            "---  ------                 --------------  ----- \n",
            " 0   messages_included      2 non-null      int64 \n",
            " 1   mb_per_month_included  2 non-null      int64 \n",
            " 2   minutes_included       2 non-null      int64 \n",
            " 3   rub_monthly_fee        2 non-null      int64 \n",
            " 4   rub_per_gb             2 non-null      int64 \n",
            " 5   rub_per_message        2 non-null      int64 \n",
            " 6   rub_per_minute         2 non-null      int64 \n",
            " 7   tariff_name            2 non-null      object\n",
            "dtypes: int64(7), object(1)\n",
            "memory usage: 256.0+ bytes\n"
          ]
        }
      ]
    },
    {
      "cell_type": "markdown",
      "source": [
        "# **Шаг 2.** Предобработка данных"
      ],
      "metadata": {
        "id": "fV4e2IutBZcd"
      }
    },
    {
      "cell_type": "markdown",
      "source": [
        "## Заменим типы данных"
      ],
      "metadata": {
        "id": "hmdOuKGeCWyO"
      }
    },
    {
      "cell_type": "code",
      "source": [
        "df_calls['call_date'] = pd.to_datetime(df_calls['call_date'], format='%Y-%m-%d')\n",
        "df_messages['message_date'] = pd.to_datetime(df_messages['message_date'], format='%Y-%m-%d')\n",
        "df_internet['session_date'] = pd.to_datetime(df_internet['session_date'], format='%Y-%m-%d')"
      ],
      "metadata": {
        "id": "SfmRJZ7tCE1U"
      },
      "execution_count": null,
      "outputs": []
    },
    {
      "cell_type": "markdown",
      "source": [
        "Посчитайте для каждого пользователя:\n",
        "\n",
        "количество сделанных звонков и израсходованных минут разговора по месяцам;\n",
        "количество отправленных сообщений по месяцам;\n",
        "объем израсходованного интернет-трафика по месяцам;\n",
        "помесячную выручку с каждого пользователя (вычтите бесплатный лимит из - суммарного количества звонков, сообщений и интернет-трафика; остаток умножьте на значение из тарифного плана; прибавьте абонентскую плату, соответствующую тарифному плану)."
      ],
      "metadata": {
        "id": "TzOOPrJvBclR"
      }
    },
    {
      "cell_type": "markdown",
      "source": [
        "## Расчитаем количество сделанных звонков и израсходованных минут разговора по месяцам:"
      ],
      "metadata": {
        "id": "YENl9SWhBs3N"
      }
    },
    {
      "cell_type": "code",
      "source": [
        "df_calls.head()"
      ],
      "metadata": {
        "colab": {
          "base_uri": "https://localhost:8080/",
          "height": 206
        },
        "id": "6V1PamtlMtn9",
        "outputId": "3984591b-4aa4-4b87-f58a-bdd1bae7847d"
      },
      "execution_count": null,
      "outputs": [
        {
          "output_type": "execute_result",
          "data": {
            "text/html": [
              "\n",
              "  <div id=\"df-3358009b-3d7a-43d4-871f-8e55c5b2edee\">\n",
              "    <div class=\"colab-df-container\">\n",
              "      <div>\n",
              "<style scoped>\n",
              "    .dataframe tbody tr th:only-of-type {\n",
              "        vertical-align: middle;\n",
              "    }\n",
              "\n",
              "    .dataframe tbody tr th {\n",
              "        vertical-align: top;\n",
              "    }\n",
              "\n",
              "    .dataframe thead th {\n",
              "        text-align: right;\n",
              "    }\n",
              "</style>\n",
              "<table border=\"1\" class=\"dataframe\">\n",
              "  <thead>\n",
              "    <tr style=\"text-align: right;\">\n",
              "      <th></th>\n",
              "      <th>id</th>\n",
              "      <th>call_date</th>\n",
              "      <th>duration</th>\n",
              "      <th>user_id</th>\n",
              "    </tr>\n",
              "  </thead>\n",
              "  <tbody>\n",
              "    <tr>\n",
              "      <th>0</th>\n",
              "      <td>1000_0</td>\n",
              "      <td>2018-07-25</td>\n",
              "      <td>0.00</td>\n",
              "      <td>1000</td>\n",
              "    </tr>\n",
              "    <tr>\n",
              "      <th>1</th>\n",
              "      <td>1000_1</td>\n",
              "      <td>2018-08-17</td>\n",
              "      <td>0.00</td>\n",
              "      <td>1000</td>\n",
              "    </tr>\n",
              "    <tr>\n",
              "      <th>2</th>\n",
              "      <td>1000_2</td>\n",
              "      <td>2018-06-11</td>\n",
              "      <td>2.85</td>\n",
              "      <td>1000</td>\n",
              "    </tr>\n",
              "    <tr>\n",
              "      <th>3</th>\n",
              "      <td>1000_3</td>\n",
              "      <td>2018-09-21</td>\n",
              "      <td>13.80</td>\n",
              "      <td>1000</td>\n",
              "    </tr>\n",
              "    <tr>\n",
              "      <th>4</th>\n",
              "      <td>1000_4</td>\n",
              "      <td>2018-12-15</td>\n",
              "      <td>5.18</td>\n",
              "      <td>1000</td>\n",
              "    </tr>\n",
              "  </tbody>\n",
              "</table>\n",
              "</div>\n",
              "      <button class=\"colab-df-convert\" onclick=\"convertToInteractive('df-3358009b-3d7a-43d4-871f-8e55c5b2edee')\"\n",
              "              title=\"Convert this dataframe to an interactive table.\"\n",
              "              style=\"display:none;\">\n",
              "        \n",
              "  <svg xmlns=\"http://www.w3.org/2000/svg\" height=\"24px\"viewBox=\"0 0 24 24\"\n",
              "       width=\"24px\">\n",
              "    <path d=\"M0 0h24v24H0V0z\" fill=\"none\"/>\n",
              "    <path d=\"M18.56 5.44l.94 2.06.94-2.06 2.06-.94-2.06-.94-.94-2.06-.94 2.06-2.06.94zm-11 1L8.5 8.5l.94-2.06 2.06-.94-2.06-.94L8.5 2.5l-.94 2.06-2.06.94zm10 10l.94 2.06.94-2.06 2.06-.94-2.06-.94-.94-2.06-.94 2.06-2.06.94z\"/><path d=\"M17.41 7.96l-1.37-1.37c-.4-.4-.92-.59-1.43-.59-.52 0-1.04.2-1.43.59L10.3 9.45l-7.72 7.72c-.78.78-.78 2.05 0 2.83L4 21.41c.39.39.9.59 1.41.59.51 0 1.02-.2 1.41-.59l7.78-7.78 2.81-2.81c.8-.78.8-2.07 0-2.86zM5.41 20L4 18.59l7.72-7.72 1.47 1.35L5.41 20z\"/>\n",
              "  </svg>\n",
              "      </button>\n",
              "      \n",
              "  <style>\n",
              "    .colab-df-container {\n",
              "      display:flex;\n",
              "      flex-wrap:wrap;\n",
              "      gap: 12px;\n",
              "    }\n",
              "\n",
              "    .colab-df-convert {\n",
              "      background-color: #E8F0FE;\n",
              "      border: none;\n",
              "      border-radius: 50%;\n",
              "      cursor: pointer;\n",
              "      display: none;\n",
              "      fill: #1967D2;\n",
              "      height: 32px;\n",
              "      padding: 0 0 0 0;\n",
              "      width: 32px;\n",
              "    }\n",
              "\n",
              "    .colab-df-convert:hover {\n",
              "      background-color: #E2EBFA;\n",
              "      box-shadow: 0px 1px 2px rgba(60, 64, 67, 0.3), 0px 1px 3px 1px rgba(60, 64, 67, 0.15);\n",
              "      fill: #174EA6;\n",
              "    }\n",
              "\n",
              "    [theme=dark] .colab-df-convert {\n",
              "      background-color: #3B4455;\n",
              "      fill: #D2E3FC;\n",
              "    }\n",
              "\n",
              "    [theme=dark] .colab-df-convert:hover {\n",
              "      background-color: #434B5C;\n",
              "      box-shadow: 0px 1px 3px 1px rgba(0, 0, 0, 0.15);\n",
              "      filter: drop-shadow(0px 1px 2px rgba(0, 0, 0, 0.3));\n",
              "      fill: #FFFFFF;\n",
              "    }\n",
              "  </style>\n",
              "\n",
              "      <script>\n",
              "        const buttonEl =\n",
              "          document.querySelector('#df-3358009b-3d7a-43d4-871f-8e55c5b2edee button.colab-df-convert');\n",
              "        buttonEl.style.display =\n",
              "          google.colab.kernel.accessAllowed ? 'block' : 'none';\n",
              "\n",
              "        async function convertToInteractive(key) {\n",
              "          const element = document.querySelector('#df-3358009b-3d7a-43d4-871f-8e55c5b2edee');\n",
              "          const dataTable =\n",
              "            await google.colab.kernel.invokeFunction('convertToInteractive',\n",
              "                                                     [key], {});\n",
              "          if (!dataTable) return;\n",
              "\n",
              "          const docLinkHtml = 'Like what you see? Visit the ' +\n",
              "            '<a target=\"_blank\" href=https://colab.research.google.com/notebooks/data_table.ipynb>data table notebook</a>'\n",
              "            + ' to learn more about interactive tables.';\n",
              "          element.innerHTML = '';\n",
              "          dataTable['output_type'] = 'display_data';\n",
              "          await google.colab.output.renderOutput(dataTable, element);\n",
              "          const docLink = document.createElement('div');\n",
              "          docLink.innerHTML = docLinkHtml;\n",
              "          element.appendChild(docLink);\n",
              "        }\n",
              "      </script>\n",
              "    </div>\n",
              "  </div>\n",
              "  "
            ],
            "text/plain": [
              "       id  call_date  duration  user_id\n",
              "0  1000_0 2018-07-25      0.00     1000\n",
              "1  1000_1 2018-08-17      0.00     1000\n",
              "2  1000_2 2018-06-11      2.85     1000\n",
              "3  1000_3 2018-09-21     13.80     1000\n",
              "4  1000_4 2018-12-15      5.18     1000"
            ]
          },
          "metadata": {},
          "execution_count": 18
        }
      ]
    },
    {
      "cell_type": "markdown",
      "source": [
        "Исходя из условий окргулим минуты в большую сторону:"
      ],
      "metadata": {
        "id": "sM1TMQwBNrY3"
      }
    },
    {
      "cell_type": "code",
      "source": [
        "df_calls['duration'] = df_calls['duration'].apply(np.ceil).astype('int')"
      ],
      "metadata": {
        "id": "v2L4dIcgDcAX"
      },
      "execution_count": null,
      "outputs": []
    },
    {
      "cell_type": "code",
      "source": [
        "df_calls['month'] = df_calls['call_date'].dt.month"
      ],
      "metadata": {
        "id": "rY19S0YVFIBY"
      },
      "execution_count": null,
      "outputs": []
    },
    {
      "cell_type": "code",
      "source": [
        "df_calls_month = df_calls.groupby(['user_id', 'month'])['duration'].agg(['count', 'sum']).reset_index().rename(columns = {'sum': 'minutes', 'count': 'call_number'})"
      ],
      "metadata": {
        "id": "xb_uNzFkFQUI"
      },
      "execution_count": null,
      "outputs": []
    },
    {
      "cell_type": "code",
      "source": [
        "df_calls_month.head()"
      ],
      "metadata": {
        "colab": {
          "base_uri": "https://localhost:8080/",
          "height": 206
        },
        "id": "7HtIuTZJHdeV",
        "outputId": "fd3e1b7b-9aef-463e-ce34-c41f07f04430"
      },
      "execution_count": null,
      "outputs": [
        {
          "output_type": "execute_result",
          "data": {
            "text/html": [
              "\n",
              "  <div id=\"df-1d53e94c-21ae-454c-b2e5-8d49ae417ddc\">\n",
              "    <div class=\"colab-df-container\">\n",
              "      <div>\n",
              "<style scoped>\n",
              "    .dataframe tbody tr th:only-of-type {\n",
              "        vertical-align: middle;\n",
              "    }\n",
              "\n",
              "    .dataframe tbody tr th {\n",
              "        vertical-align: top;\n",
              "    }\n",
              "\n",
              "    .dataframe thead th {\n",
              "        text-align: right;\n",
              "    }\n",
              "</style>\n",
              "<table border=\"1\" class=\"dataframe\">\n",
              "  <thead>\n",
              "    <tr style=\"text-align: right;\">\n",
              "      <th></th>\n",
              "      <th>user_id</th>\n",
              "      <th>month</th>\n",
              "      <th>call_number</th>\n",
              "      <th>minutes</th>\n",
              "    </tr>\n",
              "  </thead>\n",
              "  <tbody>\n",
              "    <tr>\n",
              "      <th>0</th>\n",
              "      <td>1000</td>\n",
              "      <td>5</td>\n",
              "      <td>22</td>\n",
              "      <td>159</td>\n",
              "    </tr>\n",
              "    <tr>\n",
              "      <th>1</th>\n",
              "      <td>1000</td>\n",
              "      <td>6</td>\n",
              "      <td>43</td>\n",
              "      <td>172</td>\n",
              "    </tr>\n",
              "    <tr>\n",
              "      <th>2</th>\n",
              "      <td>1000</td>\n",
              "      <td>7</td>\n",
              "      <td>47</td>\n",
              "      <td>340</td>\n",
              "    </tr>\n",
              "    <tr>\n",
              "      <th>3</th>\n",
              "      <td>1000</td>\n",
              "      <td>8</td>\n",
              "      <td>52</td>\n",
              "      <td>408</td>\n",
              "    </tr>\n",
              "    <tr>\n",
              "      <th>4</th>\n",
              "      <td>1000</td>\n",
              "      <td>9</td>\n",
              "      <td>58</td>\n",
              "      <td>466</td>\n",
              "    </tr>\n",
              "  </tbody>\n",
              "</table>\n",
              "</div>\n",
              "      <button class=\"colab-df-convert\" onclick=\"convertToInteractive('df-1d53e94c-21ae-454c-b2e5-8d49ae417ddc')\"\n",
              "              title=\"Convert this dataframe to an interactive table.\"\n",
              "              style=\"display:none;\">\n",
              "        \n",
              "  <svg xmlns=\"http://www.w3.org/2000/svg\" height=\"24px\"viewBox=\"0 0 24 24\"\n",
              "       width=\"24px\">\n",
              "    <path d=\"M0 0h24v24H0V0z\" fill=\"none\"/>\n",
              "    <path d=\"M18.56 5.44l.94 2.06.94-2.06 2.06-.94-2.06-.94-.94-2.06-.94 2.06-2.06.94zm-11 1L8.5 8.5l.94-2.06 2.06-.94-2.06-.94L8.5 2.5l-.94 2.06-2.06.94zm10 10l.94 2.06.94-2.06 2.06-.94-2.06-.94-.94-2.06-.94 2.06-2.06.94z\"/><path d=\"M17.41 7.96l-1.37-1.37c-.4-.4-.92-.59-1.43-.59-.52 0-1.04.2-1.43.59L10.3 9.45l-7.72 7.72c-.78.78-.78 2.05 0 2.83L4 21.41c.39.39.9.59 1.41.59.51 0 1.02-.2 1.41-.59l7.78-7.78 2.81-2.81c.8-.78.8-2.07 0-2.86zM5.41 20L4 18.59l7.72-7.72 1.47 1.35L5.41 20z\"/>\n",
              "  </svg>\n",
              "      </button>\n",
              "      \n",
              "  <style>\n",
              "    .colab-df-container {\n",
              "      display:flex;\n",
              "      flex-wrap:wrap;\n",
              "      gap: 12px;\n",
              "    }\n",
              "\n",
              "    .colab-df-convert {\n",
              "      background-color: #E8F0FE;\n",
              "      border: none;\n",
              "      border-radius: 50%;\n",
              "      cursor: pointer;\n",
              "      display: none;\n",
              "      fill: #1967D2;\n",
              "      height: 32px;\n",
              "      padding: 0 0 0 0;\n",
              "      width: 32px;\n",
              "    }\n",
              "\n",
              "    .colab-df-convert:hover {\n",
              "      background-color: #E2EBFA;\n",
              "      box-shadow: 0px 1px 2px rgba(60, 64, 67, 0.3), 0px 1px 3px 1px rgba(60, 64, 67, 0.15);\n",
              "      fill: #174EA6;\n",
              "    }\n",
              "\n",
              "    [theme=dark] .colab-df-convert {\n",
              "      background-color: #3B4455;\n",
              "      fill: #D2E3FC;\n",
              "    }\n",
              "\n",
              "    [theme=dark] .colab-df-convert:hover {\n",
              "      background-color: #434B5C;\n",
              "      box-shadow: 0px 1px 3px 1px rgba(0, 0, 0, 0.15);\n",
              "      filter: drop-shadow(0px 1px 2px rgba(0, 0, 0, 0.3));\n",
              "      fill: #FFFFFF;\n",
              "    }\n",
              "  </style>\n",
              "\n",
              "      <script>\n",
              "        const buttonEl =\n",
              "          document.querySelector('#df-1d53e94c-21ae-454c-b2e5-8d49ae417ddc button.colab-df-convert');\n",
              "        buttonEl.style.display =\n",
              "          google.colab.kernel.accessAllowed ? 'block' : 'none';\n",
              "\n",
              "        async function convertToInteractive(key) {\n",
              "          const element = document.querySelector('#df-1d53e94c-21ae-454c-b2e5-8d49ae417ddc');\n",
              "          const dataTable =\n",
              "            await google.colab.kernel.invokeFunction('convertToInteractive',\n",
              "                                                     [key], {});\n",
              "          if (!dataTable) return;\n",
              "\n",
              "          const docLinkHtml = 'Like what you see? Visit the ' +\n",
              "            '<a target=\"_blank\" href=https://colab.research.google.com/notebooks/data_table.ipynb>data table notebook</a>'\n",
              "            + ' to learn more about interactive tables.';\n",
              "          element.innerHTML = '';\n",
              "          dataTable['output_type'] = 'display_data';\n",
              "          await google.colab.output.renderOutput(dataTable, element);\n",
              "          const docLink = document.createElement('div');\n",
              "          docLink.innerHTML = docLinkHtml;\n",
              "          element.appendChild(docLink);\n",
              "        }\n",
              "      </script>\n",
              "    </div>\n",
              "  </div>\n",
              "  "
            ],
            "text/plain": [
              "   user_id  month  call_number  minutes\n",
              "0     1000      5           22      159\n",
              "1     1000      6           43      172\n",
              "2     1000      7           47      340\n",
              "3     1000      8           52      408\n",
              "4     1000      9           58      466"
            ]
          },
          "metadata": {},
          "execution_count": 22
        }
      ]
    },
    {
      "cell_type": "markdown",
      "source": [
        "## Рассчитаем количество отправленных сообщений по месяцам"
      ],
      "metadata": {
        "id": "SRtEzHNbHd29"
      }
    },
    {
      "cell_type": "code",
      "source": [
        "df_messages.head()"
      ],
      "metadata": {
        "colab": {
          "base_uri": "https://localhost:8080/",
          "height": 206
        },
        "id": "affeuVxTJ491",
        "outputId": "859797eb-ff99-49ab-b60a-6ab948306eb4"
      },
      "execution_count": null,
      "outputs": [
        {
          "output_type": "execute_result",
          "data": {
            "text/html": [
              "\n",
              "  <div id=\"df-5b45414a-7578-493c-a661-0b6c0f138e5b\">\n",
              "    <div class=\"colab-df-container\">\n",
              "      <div>\n",
              "<style scoped>\n",
              "    .dataframe tbody tr th:only-of-type {\n",
              "        vertical-align: middle;\n",
              "    }\n",
              "\n",
              "    .dataframe tbody tr th {\n",
              "        vertical-align: top;\n",
              "    }\n",
              "\n",
              "    .dataframe thead th {\n",
              "        text-align: right;\n",
              "    }\n",
              "</style>\n",
              "<table border=\"1\" class=\"dataframe\">\n",
              "  <thead>\n",
              "    <tr style=\"text-align: right;\">\n",
              "      <th></th>\n",
              "      <th>id</th>\n",
              "      <th>message_date</th>\n",
              "      <th>user_id</th>\n",
              "    </tr>\n",
              "  </thead>\n",
              "  <tbody>\n",
              "    <tr>\n",
              "      <th>0</th>\n",
              "      <td>1000_0</td>\n",
              "      <td>2018-06-27</td>\n",
              "      <td>1000</td>\n",
              "    </tr>\n",
              "    <tr>\n",
              "      <th>1</th>\n",
              "      <td>1000_1</td>\n",
              "      <td>2018-10-08</td>\n",
              "      <td>1000</td>\n",
              "    </tr>\n",
              "    <tr>\n",
              "      <th>2</th>\n",
              "      <td>1000_2</td>\n",
              "      <td>2018-08-04</td>\n",
              "      <td>1000</td>\n",
              "    </tr>\n",
              "    <tr>\n",
              "      <th>3</th>\n",
              "      <td>1000_3</td>\n",
              "      <td>2018-06-16</td>\n",
              "      <td>1000</td>\n",
              "    </tr>\n",
              "    <tr>\n",
              "      <th>4</th>\n",
              "      <td>1000_4</td>\n",
              "      <td>2018-12-05</td>\n",
              "      <td>1000</td>\n",
              "    </tr>\n",
              "  </tbody>\n",
              "</table>\n",
              "</div>\n",
              "      <button class=\"colab-df-convert\" onclick=\"convertToInteractive('df-5b45414a-7578-493c-a661-0b6c0f138e5b')\"\n",
              "              title=\"Convert this dataframe to an interactive table.\"\n",
              "              style=\"display:none;\">\n",
              "        \n",
              "  <svg xmlns=\"http://www.w3.org/2000/svg\" height=\"24px\"viewBox=\"0 0 24 24\"\n",
              "       width=\"24px\">\n",
              "    <path d=\"M0 0h24v24H0V0z\" fill=\"none\"/>\n",
              "    <path d=\"M18.56 5.44l.94 2.06.94-2.06 2.06-.94-2.06-.94-.94-2.06-.94 2.06-2.06.94zm-11 1L8.5 8.5l.94-2.06 2.06-.94-2.06-.94L8.5 2.5l-.94 2.06-2.06.94zm10 10l.94 2.06.94-2.06 2.06-.94-2.06-.94-.94-2.06-.94 2.06-2.06.94z\"/><path d=\"M17.41 7.96l-1.37-1.37c-.4-.4-.92-.59-1.43-.59-.52 0-1.04.2-1.43.59L10.3 9.45l-7.72 7.72c-.78.78-.78 2.05 0 2.83L4 21.41c.39.39.9.59 1.41.59.51 0 1.02-.2 1.41-.59l7.78-7.78 2.81-2.81c.8-.78.8-2.07 0-2.86zM5.41 20L4 18.59l7.72-7.72 1.47 1.35L5.41 20z\"/>\n",
              "  </svg>\n",
              "      </button>\n",
              "      \n",
              "  <style>\n",
              "    .colab-df-container {\n",
              "      display:flex;\n",
              "      flex-wrap:wrap;\n",
              "      gap: 12px;\n",
              "    }\n",
              "\n",
              "    .colab-df-convert {\n",
              "      background-color: #E8F0FE;\n",
              "      border: none;\n",
              "      border-radius: 50%;\n",
              "      cursor: pointer;\n",
              "      display: none;\n",
              "      fill: #1967D2;\n",
              "      height: 32px;\n",
              "      padding: 0 0 0 0;\n",
              "      width: 32px;\n",
              "    }\n",
              "\n",
              "    .colab-df-convert:hover {\n",
              "      background-color: #E2EBFA;\n",
              "      box-shadow: 0px 1px 2px rgba(60, 64, 67, 0.3), 0px 1px 3px 1px rgba(60, 64, 67, 0.15);\n",
              "      fill: #174EA6;\n",
              "    }\n",
              "\n",
              "    [theme=dark] .colab-df-convert {\n",
              "      background-color: #3B4455;\n",
              "      fill: #D2E3FC;\n",
              "    }\n",
              "\n",
              "    [theme=dark] .colab-df-convert:hover {\n",
              "      background-color: #434B5C;\n",
              "      box-shadow: 0px 1px 3px 1px rgba(0, 0, 0, 0.15);\n",
              "      filter: drop-shadow(0px 1px 2px rgba(0, 0, 0, 0.3));\n",
              "      fill: #FFFFFF;\n",
              "    }\n",
              "  </style>\n",
              "\n",
              "      <script>\n",
              "        const buttonEl =\n",
              "          document.querySelector('#df-5b45414a-7578-493c-a661-0b6c0f138e5b button.colab-df-convert');\n",
              "        buttonEl.style.display =\n",
              "          google.colab.kernel.accessAllowed ? 'block' : 'none';\n",
              "\n",
              "        async function convertToInteractive(key) {\n",
              "          const element = document.querySelector('#df-5b45414a-7578-493c-a661-0b6c0f138e5b');\n",
              "          const dataTable =\n",
              "            await google.colab.kernel.invokeFunction('convertToInteractive',\n",
              "                                                     [key], {});\n",
              "          if (!dataTable) return;\n",
              "\n",
              "          const docLinkHtml = 'Like what you see? Visit the ' +\n",
              "            '<a target=\"_blank\" href=https://colab.research.google.com/notebooks/data_table.ipynb>data table notebook</a>'\n",
              "            + ' to learn more about interactive tables.';\n",
              "          element.innerHTML = '';\n",
              "          dataTable['output_type'] = 'display_data';\n",
              "          await google.colab.output.renderOutput(dataTable, element);\n",
              "          const docLink = document.createElement('div');\n",
              "          docLink.innerHTML = docLinkHtml;\n",
              "          element.appendChild(docLink);\n",
              "        }\n",
              "      </script>\n",
              "    </div>\n",
              "  </div>\n",
              "  "
            ],
            "text/plain": [
              "       id message_date  user_id\n",
              "0  1000_0   2018-06-27     1000\n",
              "1  1000_1   2018-10-08     1000\n",
              "2  1000_2   2018-08-04     1000\n",
              "3  1000_3   2018-06-16     1000\n",
              "4  1000_4   2018-12-05     1000"
            ]
          },
          "metadata": {},
          "execution_count": 23
        }
      ]
    },
    {
      "cell_type": "code",
      "source": [
        "df_messages['month'] = df_messages['message_date'].dt.month"
      ],
      "metadata": {
        "id": "VZ-OW2g5MHm9"
      },
      "execution_count": null,
      "outputs": []
    },
    {
      "cell_type": "code",
      "source": [
        "df_messages_month = df_messages.groupby(['user_id', 'month'])['user_id'].agg(['count']).reset_index().rename(columns = {'count': 'msg_number'})"
      ],
      "metadata": {
        "id": "PVyhDDSEJ7-8"
      },
      "execution_count": null,
      "outputs": []
    },
    {
      "cell_type": "code",
      "source": [
        "df_messages_month.head()"
      ],
      "metadata": {
        "colab": {
          "base_uri": "https://localhost:8080/",
          "height": 206
        },
        "id": "pz9WHBFoMPR7",
        "outputId": "3392ca9c-9d65-4d9c-835a-1f9bd5620caf"
      },
      "execution_count": null,
      "outputs": [
        {
          "output_type": "execute_result",
          "data": {
            "text/html": [
              "\n",
              "  <div id=\"df-bd0ccfa7-2d0d-4926-aa94-3fb7835be92b\">\n",
              "    <div class=\"colab-df-container\">\n",
              "      <div>\n",
              "<style scoped>\n",
              "    .dataframe tbody tr th:only-of-type {\n",
              "        vertical-align: middle;\n",
              "    }\n",
              "\n",
              "    .dataframe tbody tr th {\n",
              "        vertical-align: top;\n",
              "    }\n",
              "\n",
              "    .dataframe thead th {\n",
              "        text-align: right;\n",
              "    }\n",
              "</style>\n",
              "<table border=\"1\" class=\"dataframe\">\n",
              "  <thead>\n",
              "    <tr style=\"text-align: right;\">\n",
              "      <th></th>\n",
              "      <th>user_id</th>\n",
              "      <th>month</th>\n",
              "      <th>msg_number</th>\n",
              "    </tr>\n",
              "  </thead>\n",
              "  <tbody>\n",
              "    <tr>\n",
              "      <th>0</th>\n",
              "      <td>1000</td>\n",
              "      <td>5</td>\n",
              "      <td>22</td>\n",
              "    </tr>\n",
              "    <tr>\n",
              "      <th>1</th>\n",
              "      <td>1000</td>\n",
              "      <td>6</td>\n",
              "      <td>60</td>\n",
              "    </tr>\n",
              "    <tr>\n",
              "      <th>2</th>\n",
              "      <td>1000</td>\n",
              "      <td>7</td>\n",
              "      <td>75</td>\n",
              "    </tr>\n",
              "    <tr>\n",
              "      <th>3</th>\n",
              "      <td>1000</td>\n",
              "      <td>8</td>\n",
              "      <td>81</td>\n",
              "    </tr>\n",
              "    <tr>\n",
              "      <th>4</th>\n",
              "      <td>1000</td>\n",
              "      <td>9</td>\n",
              "      <td>57</td>\n",
              "    </tr>\n",
              "  </tbody>\n",
              "</table>\n",
              "</div>\n",
              "      <button class=\"colab-df-convert\" onclick=\"convertToInteractive('df-bd0ccfa7-2d0d-4926-aa94-3fb7835be92b')\"\n",
              "              title=\"Convert this dataframe to an interactive table.\"\n",
              "              style=\"display:none;\">\n",
              "        \n",
              "  <svg xmlns=\"http://www.w3.org/2000/svg\" height=\"24px\"viewBox=\"0 0 24 24\"\n",
              "       width=\"24px\">\n",
              "    <path d=\"M0 0h24v24H0V0z\" fill=\"none\"/>\n",
              "    <path d=\"M18.56 5.44l.94 2.06.94-2.06 2.06-.94-2.06-.94-.94-2.06-.94 2.06-2.06.94zm-11 1L8.5 8.5l.94-2.06 2.06-.94-2.06-.94L8.5 2.5l-.94 2.06-2.06.94zm10 10l.94 2.06.94-2.06 2.06-.94-2.06-.94-.94-2.06-.94 2.06-2.06.94z\"/><path d=\"M17.41 7.96l-1.37-1.37c-.4-.4-.92-.59-1.43-.59-.52 0-1.04.2-1.43.59L10.3 9.45l-7.72 7.72c-.78.78-.78 2.05 0 2.83L4 21.41c.39.39.9.59 1.41.59.51 0 1.02-.2 1.41-.59l7.78-7.78 2.81-2.81c.8-.78.8-2.07 0-2.86zM5.41 20L4 18.59l7.72-7.72 1.47 1.35L5.41 20z\"/>\n",
              "  </svg>\n",
              "      </button>\n",
              "      \n",
              "  <style>\n",
              "    .colab-df-container {\n",
              "      display:flex;\n",
              "      flex-wrap:wrap;\n",
              "      gap: 12px;\n",
              "    }\n",
              "\n",
              "    .colab-df-convert {\n",
              "      background-color: #E8F0FE;\n",
              "      border: none;\n",
              "      border-radius: 50%;\n",
              "      cursor: pointer;\n",
              "      display: none;\n",
              "      fill: #1967D2;\n",
              "      height: 32px;\n",
              "      padding: 0 0 0 0;\n",
              "      width: 32px;\n",
              "    }\n",
              "\n",
              "    .colab-df-convert:hover {\n",
              "      background-color: #E2EBFA;\n",
              "      box-shadow: 0px 1px 2px rgba(60, 64, 67, 0.3), 0px 1px 3px 1px rgba(60, 64, 67, 0.15);\n",
              "      fill: #174EA6;\n",
              "    }\n",
              "\n",
              "    [theme=dark] .colab-df-convert {\n",
              "      background-color: #3B4455;\n",
              "      fill: #D2E3FC;\n",
              "    }\n",
              "\n",
              "    [theme=dark] .colab-df-convert:hover {\n",
              "      background-color: #434B5C;\n",
              "      box-shadow: 0px 1px 3px 1px rgba(0, 0, 0, 0.15);\n",
              "      filter: drop-shadow(0px 1px 2px rgba(0, 0, 0, 0.3));\n",
              "      fill: #FFFFFF;\n",
              "    }\n",
              "  </style>\n",
              "\n",
              "      <script>\n",
              "        const buttonEl =\n",
              "          document.querySelector('#df-bd0ccfa7-2d0d-4926-aa94-3fb7835be92b button.colab-df-convert');\n",
              "        buttonEl.style.display =\n",
              "          google.colab.kernel.accessAllowed ? 'block' : 'none';\n",
              "\n",
              "        async function convertToInteractive(key) {\n",
              "          const element = document.querySelector('#df-bd0ccfa7-2d0d-4926-aa94-3fb7835be92b');\n",
              "          const dataTable =\n",
              "            await google.colab.kernel.invokeFunction('convertToInteractive',\n",
              "                                                     [key], {});\n",
              "          if (!dataTable) return;\n",
              "\n",
              "          const docLinkHtml = 'Like what you see? Visit the ' +\n",
              "            '<a target=\"_blank\" href=https://colab.research.google.com/notebooks/data_table.ipynb>data table notebook</a>'\n",
              "            + ' to learn more about interactive tables.';\n",
              "          element.innerHTML = '';\n",
              "          dataTable['output_type'] = 'display_data';\n",
              "          await google.colab.output.renderOutput(dataTable, element);\n",
              "          const docLink = document.createElement('div');\n",
              "          docLink.innerHTML = docLinkHtml;\n",
              "          element.appendChild(docLink);\n",
              "        }\n",
              "      </script>\n",
              "    </div>\n",
              "  </div>\n",
              "  "
            ],
            "text/plain": [
              "   user_id  month  msg_number\n",
              "0     1000      5          22\n",
              "1     1000      6          60\n",
              "2     1000      7          75\n",
              "3     1000      8          81\n",
              "4     1000      9          57"
            ]
          },
          "metadata": {},
          "execution_count": 26
        }
      ]
    },
    {
      "cell_type": "markdown",
      "source": [
        "## Рассчитаем объем израсходованного интернет-трафика по месяцам:"
      ],
      "metadata": {
        "id": "5ZGc4kmlMQu6"
      }
    },
    {
      "cell_type": "code",
      "source": [
        "df_internet.head()"
      ],
      "metadata": {
        "colab": {
          "base_uri": "https://localhost:8080/",
          "height": 206
        },
        "id": "KmpHzE4UMp8L",
        "outputId": "bee7688b-5d21-4681-f68d-8d7b98be288a"
      },
      "execution_count": null,
      "outputs": [
        {
          "output_type": "execute_result",
          "data": {
            "text/html": [
              "\n",
              "  <div id=\"df-2fb5e597-9cf7-43d0-8de5-ed7b3d56117c\">\n",
              "    <div class=\"colab-df-container\">\n",
              "      <div>\n",
              "<style scoped>\n",
              "    .dataframe tbody tr th:only-of-type {\n",
              "        vertical-align: middle;\n",
              "    }\n",
              "\n",
              "    .dataframe tbody tr th {\n",
              "        vertical-align: top;\n",
              "    }\n",
              "\n",
              "    .dataframe thead th {\n",
              "        text-align: right;\n",
              "    }\n",
              "</style>\n",
              "<table border=\"1\" class=\"dataframe\">\n",
              "  <thead>\n",
              "    <tr style=\"text-align: right;\">\n",
              "      <th></th>\n",
              "      <th>id</th>\n",
              "      <th>mb_used</th>\n",
              "      <th>session_date</th>\n",
              "      <th>user_id</th>\n",
              "    </tr>\n",
              "  </thead>\n",
              "  <tbody>\n",
              "    <tr>\n",
              "      <th>0</th>\n",
              "      <td>1000_0</td>\n",
              "      <td>112.95</td>\n",
              "      <td>2018-11-25</td>\n",
              "      <td>1000</td>\n",
              "    </tr>\n",
              "    <tr>\n",
              "      <th>1</th>\n",
              "      <td>1000_1</td>\n",
              "      <td>1052.81</td>\n",
              "      <td>2018-09-07</td>\n",
              "      <td>1000</td>\n",
              "    </tr>\n",
              "    <tr>\n",
              "      <th>2</th>\n",
              "      <td>1000_2</td>\n",
              "      <td>1197.26</td>\n",
              "      <td>2018-06-25</td>\n",
              "      <td>1000</td>\n",
              "    </tr>\n",
              "    <tr>\n",
              "      <th>3</th>\n",
              "      <td>1000_3</td>\n",
              "      <td>550.27</td>\n",
              "      <td>2018-08-22</td>\n",
              "      <td>1000</td>\n",
              "    </tr>\n",
              "    <tr>\n",
              "      <th>4</th>\n",
              "      <td>1000_4</td>\n",
              "      <td>302.56</td>\n",
              "      <td>2018-09-24</td>\n",
              "      <td>1000</td>\n",
              "    </tr>\n",
              "  </tbody>\n",
              "</table>\n",
              "</div>\n",
              "      <button class=\"colab-df-convert\" onclick=\"convertToInteractive('df-2fb5e597-9cf7-43d0-8de5-ed7b3d56117c')\"\n",
              "              title=\"Convert this dataframe to an interactive table.\"\n",
              "              style=\"display:none;\">\n",
              "        \n",
              "  <svg xmlns=\"http://www.w3.org/2000/svg\" height=\"24px\"viewBox=\"0 0 24 24\"\n",
              "       width=\"24px\">\n",
              "    <path d=\"M0 0h24v24H0V0z\" fill=\"none\"/>\n",
              "    <path d=\"M18.56 5.44l.94 2.06.94-2.06 2.06-.94-2.06-.94-.94-2.06-.94 2.06-2.06.94zm-11 1L8.5 8.5l.94-2.06 2.06-.94-2.06-.94L8.5 2.5l-.94 2.06-2.06.94zm10 10l.94 2.06.94-2.06 2.06-.94-2.06-.94-.94-2.06-.94 2.06-2.06.94z\"/><path d=\"M17.41 7.96l-1.37-1.37c-.4-.4-.92-.59-1.43-.59-.52 0-1.04.2-1.43.59L10.3 9.45l-7.72 7.72c-.78.78-.78 2.05 0 2.83L4 21.41c.39.39.9.59 1.41.59.51 0 1.02-.2 1.41-.59l7.78-7.78 2.81-2.81c.8-.78.8-2.07 0-2.86zM5.41 20L4 18.59l7.72-7.72 1.47 1.35L5.41 20z\"/>\n",
              "  </svg>\n",
              "      </button>\n",
              "      \n",
              "  <style>\n",
              "    .colab-df-container {\n",
              "      display:flex;\n",
              "      flex-wrap:wrap;\n",
              "      gap: 12px;\n",
              "    }\n",
              "\n",
              "    .colab-df-convert {\n",
              "      background-color: #E8F0FE;\n",
              "      border: none;\n",
              "      border-radius: 50%;\n",
              "      cursor: pointer;\n",
              "      display: none;\n",
              "      fill: #1967D2;\n",
              "      height: 32px;\n",
              "      padding: 0 0 0 0;\n",
              "      width: 32px;\n",
              "    }\n",
              "\n",
              "    .colab-df-convert:hover {\n",
              "      background-color: #E2EBFA;\n",
              "      box-shadow: 0px 1px 2px rgba(60, 64, 67, 0.3), 0px 1px 3px 1px rgba(60, 64, 67, 0.15);\n",
              "      fill: #174EA6;\n",
              "    }\n",
              "\n",
              "    [theme=dark] .colab-df-convert {\n",
              "      background-color: #3B4455;\n",
              "      fill: #D2E3FC;\n",
              "    }\n",
              "\n",
              "    [theme=dark] .colab-df-convert:hover {\n",
              "      background-color: #434B5C;\n",
              "      box-shadow: 0px 1px 3px 1px rgba(0, 0, 0, 0.15);\n",
              "      filter: drop-shadow(0px 1px 2px rgba(0, 0, 0, 0.3));\n",
              "      fill: #FFFFFF;\n",
              "    }\n",
              "  </style>\n",
              "\n",
              "      <script>\n",
              "        const buttonEl =\n",
              "          document.querySelector('#df-2fb5e597-9cf7-43d0-8de5-ed7b3d56117c button.colab-df-convert');\n",
              "        buttonEl.style.display =\n",
              "          google.colab.kernel.accessAllowed ? 'block' : 'none';\n",
              "\n",
              "        async function convertToInteractive(key) {\n",
              "          const element = document.querySelector('#df-2fb5e597-9cf7-43d0-8de5-ed7b3d56117c');\n",
              "          const dataTable =\n",
              "            await google.colab.kernel.invokeFunction('convertToInteractive',\n",
              "                                                     [key], {});\n",
              "          if (!dataTable) return;\n",
              "\n",
              "          const docLinkHtml = 'Like what you see? Visit the ' +\n",
              "            '<a target=\"_blank\" href=https://colab.research.google.com/notebooks/data_table.ipynb>data table notebook</a>'\n",
              "            + ' to learn more about interactive tables.';\n",
              "          element.innerHTML = '';\n",
              "          dataTable['output_type'] = 'display_data';\n",
              "          await google.colab.output.renderOutput(dataTable, element);\n",
              "          const docLink = document.createElement('div');\n",
              "          docLink.innerHTML = docLinkHtml;\n",
              "          element.appendChild(docLink);\n",
              "        }\n",
              "      </script>\n",
              "    </div>\n",
              "  </div>\n",
              "  "
            ],
            "text/plain": [
              "       id  mb_used session_date  user_id\n",
              "0  1000_0   112.95   2018-11-25     1000\n",
              "1  1000_1  1052.81   2018-09-07     1000\n",
              "2  1000_2  1197.26   2018-06-25     1000\n",
              "3  1000_3   550.27   2018-08-22     1000\n",
              "4  1000_4   302.56   2018-09-24     1000"
            ]
          },
          "metadata": {},
          "execution_count": 27
        }
      ]
    },
    {
      "cell_type": "code",
      "source": [
        "df_internet['mb_used'] = df_internet['mb_used']/1024"
      ],
      "metadata": {
        "id": "nl9PSxDGOEqT"
      },
      "execution_count": null,
      "outputs": []
    },
    {
      "cell_type": "code",
      "source": [
        "df_internet = df_internet.rename(columns={'mb_used': 'gb_used'})"
      ],
      "metadata": {
        "id": "GNJuj-cYOe9L"
      },
      "execution_count": null,
      "outputs": []
    },
    {
      "cell_type": "code",
      "source": [
        "df_internet['month'] = df_internet['session_date'].dt.month"
      ],
      "metadata": {
        "id": "U3RKZxB-NIKU"
      },
      "execution_count": null,
      "outputs": []
    },
    {
      "cell_type": "code",
      "source": [
        "df_internet_month = df_internet.groupby(['user_id', 'month'])['gb_used'].agg(['sum']).reset_index().rename(columns = {'sum': 'gb_used'})"
      ],
      "metadata": {
        "id": "zRj4M16zNM97"
      },
      "execution_count": null,
      "outputs": []
    },
    {
      "cell_type": "code",
      "source": [
        "df_internet_month['gb_used'] = df_internet_month['gb_used'].apply(np.ceil).astype('int')"
      ],
      "metadata": {
        "id": "jPVcsvz2Osuy"
      },
      "execution_count": null,
      "outputs": []
    },
    {
      "cell_type": "code",
      "source": [
        "df_internet_month"
      ],
      "metadata": {
        "colab": {
          "base_uri": "https://localhost:8080/",
          "height": 424
        },
        "id": "3EJwkOgmNcbc",
        "outputId": "12a5abee-5898-4f72-e75e-c8ff0250e4b0"
      },
      "execution_count": null,
      "outputs": [
        {
          "output_type": "execute_result",
          "data": {
            "text/html": [
              "\n",
              "  <div id=\"df-6465adbd-2369-4619-a64d-d28b89273dba\">\n",
              "    <div class=\"colab-df-container\">\n",
              "      <div>\n",
              "<style scoped>\n",
              "    .dataframe tbody tr th:only-of-type {\n",
              "        vertical-align: middle;\n",
              "    }\n",
              "\n",
              "    .dataframe tbody tr th {\n",
              "        vertical-align: top;\n",
              "    }\n",
              "\n",
              "    .dataframe thead th {\n",
              "        text-align: right;\n",
              "    }\n",
              "</style>\n",
              "<table border=\"1\" class=\"dataframe\">\n",
              "  <thead>\n",
              "    <tr style=\"text-align: right;\">\n",
              "      <th></th>\n",
              "      <th>user_id</th>\n",
              "      <th>month</th>\n",
              "      <th>gb_used</th>\n",
              "    </tr>\n",
              "  </thead>\n",
              "  <tbody>\n",
              "    <tr>\n",
              "      <th>0</th>\n",
              "      <td>1000</td>\n",
              "      <td>5</td>\n",
              "      <td>3</td>\n",
              "    </tr>\n",
              "    <tr>\n",
              "      <th>1</th>\n",
              "      <td>1000</td>\n",
              "      <td>6</td>\n",
              "      <td>23</td>\n",
              "    </tr>\n",
              "    <tr>\n",
              "      <th>2</th>\n",
              "      <td>1000</td>\n",
              "      <td>7</td>\n",
              "      <td>14</td>\n",
              "    </tr>\n",
              "    <tr>\n",
              "      <th>3</th>\n",
              "      <td>1000</td>\n",
              "      <td>8</td>\n",
              "      <td>14</td>\n",
              "    </tr>\n",
              "    <tr>\n",
              "      <th>4</th>\n",
              "      <td>1000</td>\n",
              "      <td>9</td>\n",
              "      <td>15</td>\n",
              "    </tr>\n",
              "    <tr>\n",
              "      <th>...</th>\n",
              "      <td>...</td>\n",
              "      <td>...</td>\n",
              "      <td>...</td>\n",
              "    </tr>\n",
              "    <tr>\n",
              "      <th>3198</th>\n",
              "      <td>1498</td>\n",
              "      <td>10</td>\n",
              "      <td>21</td>\n",
              "    </tr>\n",
              "    <tr>\n",
              "      <th>3199</th>\n",
              "      <td>1499</td>\n",
              "      <td>9</td>\n",
              "      <td>2</td>\n",
              "    </tr>\n",
              "    <tr>\n",
              "      <th>3200</th>\n",
              "      <td>1499</td>\n",
              "      <td>10</td>\n",
              "      <td>18</td>\n",
              "    </tr>\n",
              "    <tr>\n",
              "      <th>3201</th>\n",
              "      <td>1499</td>\n",
              "      <td>11</td>\n",
              "      <td>18</td>\n",
              "    </tr>\n",
              "    <tr>\n",
              "      <th>3202</th>\n",
              "      <td>1499</td>\n",
              "      <td>12</td>\n",
              "      <td>13</td>\n",
              "    </tr>\n",
              "  </tbody>\n",
              "</table>\n",
              "<p>3203 rows × 3 columns</p>\n",
              "</div>\n",
              "      <button class=\"colab-df-convert\" onclick=\"convertToInteractive('df-6465adbd-2369-4619-a64d-d28b89273dba')\"\n",
              "              title=\"Convert this dataframe to an interactive table.\"\n",
              "              style=\"display:none;\">\n",
              "        \n",
              "  <svg xmlns=\"http://www.w3.org/2000/svg\" height=\"24px\"viewBox=\"0 0 24 24\"\n",
              "       width=\"24px\">\n",
              "    <path d=\"M0 0h24v24H0V0z\" fill=\"none\"/>\n",
              "    <path d=\"M18.56 5.44l.94 2.06.94-2.06 2.06-.94-2.06-.94-.94-2.06-.94 2.06-2.06.94zm-11 1L8.5 8.5l.94-2.06 2.06-.94-2.06-.94L8.5 2.5l-.94 2.06-2.06.94zm10 10l.94 2.06.94-2.06 2.06-.94-2.06-.94-.94-2.06-.94 2.06-2.06.94z\"/><path d=\"M17.41 7.96l-1.37-1.37c-.4-.4-.92-.59-1.43-.59-.52 0-1.04.2-1.43.59L10.3 9.45l-7.72 7.72c-.78.78-.78 2.05 0 2.83L4 21.41c.39.39.9.59 1.41.59.51 0 1.02-.2 1.41-.59l7.78-7.78 2.81-2.81c.8-.78.8-2.07 0-2.86zM5.41 20L4 18.59l7.72-7.72 1.47 1.35L5.41 20z\"/>\n",
              "  </svg>\n",
              "      </button>\n",
              "      \n",
              "  <style>\n",
              "    .colab-df-container {\n",
              "      display:flex;\n",
              "      flex-wrap:wrap;\n",
              "      gap: 12px;\n",
              "    }\n",
              "\n",
              "    .colab-df-convert {\n",
              "      background-color: #E8F0FE;\n",
              "      border: none;\n",
              "      border-radius: 50%;\n",
              "      cursor: pointer;\n",
              "      display: none;\n",
              "      fill: #1967D2;\n",
              "      height: 32px;\n",
              "      padding: 0 0 0 0;\n",
              "      width: 32px;\n",
              "    }\n",
              "\n",
              "    .colab-df-convert:hover {\n",
              "      background-color: #E2EBFA;\n",
              "      box-shadow: 0px 1px 2px rgba(60, 64, 67, 0.3), 0px 1px 3px 1px rgba(60, 64, 67, 0.15);\n",
              "      fill: #174EA6;\n",
              "    }\n",
              "\n",
              "    [theme=dark] .colab-df-convert {\n",
              "      background-color: #3B4455;\n",
              "      fill: #D2E3FC;\n",
              "    }\n",
              "\n",
              "    [theme=dark] .colab-df-convert:hover {\n",
              "      background-color: #434B5C;\n",
              "      box-shadow: 0px 1px 3px 1px rgba(0, 0, 0, 0.15);\n",
              "      filter: drop-shadow(0px 1px 2px rgba(0, 0, 0, 0.3));\n",
              "      fill: #FFFFFF;\n",
              "    }\n",
              "  </style>\n",
              "\n",
              "      <script>\n",
              "        const buttonEl =\n",
              "          document.querySelector('#df-6465adbd-2369-4619-a64d-d28b89273dba button.colab-df-convert');\n",
              "        buttonEl.style.display =\n",
              "          google.colab.kernel.accessAllowed ? 'block' : 'none';\n",
              "\n",
              "        async function convertToInteractive(key) {\n",
              "          const element = document.querySelector('#df-6465adbd-2369-4619-a64d-d28b89273dba');\n",
              "          const dataTable =\n",
              "            await google.colab.kernel.invokeFunction('convertToInteractive',\n",
              "                                                     [key], {});\n",
              "          if (!dataTable) return;\n",
              "\n",
              "          const docLinkHtml = 'Like what you see? Visit the ' +\n",
              "            '<a target=\"_blank\" href=https://colab.research.google.com/notebooks/data_table.ipynb>data table notebook</a>'\n",
              "            + ' to learn more about interactive tables.';\n",
              "          element.innerHTML = '';\n",
              "          dataTable['output_type'] = 'display_data';\n",
              "          await google.colab.output.renderOutput(dataTable, element);\n",
              "          const docLink = document.createElement('div');\n",
              "          docLink.innerHTML = docLinkHtml;\n",
              "          element.appendChild(docLink);\n",
              "        }\n",
              "      </script>\n",
              "    </div>\n",
              "  </div>\n",
              "  "
            ],
            "text/plain": [
              "      user_id  month  gb_used\n",
              "0        1000      5        3\n",
              "1        1000      6       23\n",
              "2        1000      7       14\n",
              "3        1000      8       14\n",
              "4        1000      9       15\n",
              "...       ...    ...      ...\n",
              "3198     1498     10       21\n",
              "3199     1499      9        2\n",
              "3200     1499     10       18\n",
              "3201     1499     11       18\n",
              "3202     1499     12       13\n",
              "\n",
              "[3203 rows x 3 columns]"
            ]
          },
          "metadata": {},
          "execution_count": 33
        }
      ]
    },
    {
      "cell_type": "markdown",
      "source": [
        "## Рассчитаем помесячную выручку с каждого пользователя"
      ],
      "metadata": {
        "id": "8HiJusDcO8yz"
      }
    },
    {
      "cell_type": "code",
      "source": [
        "df = df_calls_month.merge(df_messages_month, on=['user_id', 'month'], how='outer')"
      ],
      "metadata": {
        "id": "TUSaxVc6TqYJ"
      },
      "execution_count": null,
      "outputs": []
    },
    {
      "cell_type": "code",
      "source": [
        "df = df.merge(df_internet_month, on=['user_id', 'month'], how='outer')"
      ],
      "metadata": {
        "id": "VxpzZfUdWILB"
      },
      "execution_count": null,
      "outputs": []
    },
    {
      "cell_type": "code",
      "source": [
        "df = df.merge(df_users, on = 'user_id', how = 'left')"
      ],
      "metadata": {
        "id": "wNlQ-bQ-WoFw"
      },
      "execution_count": null,
      "outputs": []
    },
    {
      "cell_type": "code",
      "source": [
        "df_tariffs['mb_per_month_included'] = df_tariffs['mb_per_month_included'] / 1024"
      ],
      "metadata": {
        "id": "N8OnxZk-a0FK"
      },
      "execution_count": null,
      "outputs": []
    },
    {
      "cell_type": "code",
      "source": [
        "df_tariffs = df_tariffs.rename(columns={'tariff_name': 'tariff', 'mb_per_month_included': 'gb_per_month_included'})"
      ],
      "metadata": {
        "id": "bcFXvqEkaTg7"
      },
      "execution_count": null,
      "outputs": []
    },
    {
      "cell_type": "code",
      "source": [
        "df = df.merge(df_tariffs, on = 'tariff', how = 'outer')"
      ],
      "metadata": {
        "id": "aEsQ21sdaIVm"
      },
      "execution_count": null,
      "outputs": []
    },
    {
      "cell_type": "code",
      "source": [
        "df.head(9)"
      ],
      "metadata": {
        "colab": {
          "base_uri": "https://localhost:8080/",
          "height": 552
        },
        "id": "uZ23idHWdORO",
        "outputId": "e360d659-57aa-4451-eb38-6ae2b3a7731d"
      },
      "execution_count": null,
      "outputs": [
        {
          "output_type": "execute_result",
          "data": {
            "text/html": [
              "\n",
              "  <div id=\"df-3e18f60b-5ac5-4f50-99ce-114b46f91880\">\n",
              "    <div class=\"colab-df-container\">\n",
              "      <div>\n",
              "<style scoped>\n",
              "    .dataframe tbody tr th:only-of-type {\n",
              "        vertical-align: middle;\n",
              "    }\n",
              "\n",
              "    .dataframe tbody tr th {\n",
              "        vertical-align: top;\n",
              "    }\n",
              "\n",
              "    .dataframe thead th {\n",
              "        text-align: right;\n",
              "    }\n",
              "</style>\n",
              "<table border=\"1\" class=\"dataframe\">\n",
              "  <thead>\n",
              "    <tr style=\"text-align: right;\">\n",
              "      <th></th>\n",
              "      <th>user_id</th>\n",
              "      <th>month</th>\n",
              "      <th>call_number</th>\n",
              "      <th>minutes</th>\n",
              "      <th>msg_number</th>\n",
              "      <th>gb_used</th>\n",
              "      <th>age</th>\n",
              "      <th>churn_date</th>\n",
              "      <th>city</th>\n",
              "      <th>first_name</th>\n",
              "      <th>last_name</th>\n",
              "      <th>reg_date</th>\n",
              "      <th>tariff</th>\n",
              "      <th>messages_included</th>\n",
              "      <th>gb_per_month_included</th>\n",
              "      <th>minutes_included</th>\n",
              "      <th>rub_monthly_fee</th>\n",
              "      <th>rub_per_gb</th>\n",
              "      <th>rub_per_message</th>\n",
              "      <th>rub_per_minute</th>\n",
              "    </tr>\n",
              "  </thead>\n",
              "  <tbody>\n",
              "    <tr>\n",
              "      <th>0</th>\n",
              "      <td>1000</td>\n",
              "      <td>5</td>\n",
              "      <td>22.0</td>\n",
              "      <td>159.0</td>\n",
              "      <td>22.0</td>\n",
              "      <td>3.0</td>\n",
              "      <td>52</td>\n",
              "      <td>NaN</td>\n",
              "      <td>Краснодар</td>\n",
              "      <td>Рафаил</td>\n",
              "      <td>Верещагин</td>\n",
              "      <td>2018-05-25</td>\n",
              "      <td>ultra</td>\n",
              "      <td>1000</td>\n",
              "      <td>30.0</td>\n",
              "      <td>3000</td>\n",
              "      <td>1950</td>\n",
              "      <td>150</td>\n",
              "      <td>1</td>\n",
              "      <td>1</td>\n",
              "    </tr>\n",
              "    <tr>\n",
              "      <th>1</th>\n",
              "      <td>1000</td>\n",
              "      <td>6</td>\n",
              "      <td>43.0</td>\n",
              "      <td>172.0</td>\n",
              "      <td>60.0</td>\n",
              "      <td>23.0</td>\n",
              "      <td>52</td>\n",
              "      <td>NaN</td>\n",
              "      <td>Краснодар</td>\n",
              "      <td>Рафаил</td>\n",
              "      <td>Верещагин</td>\n",
              "      <td>2018-05-25</td>\n",
              "      <td>ultra</td>\n",
              "      <td>1000</td>\n",
              "      <td>30.0</td>\n",
              "      <td>3000</td>\n",
              "      <td>1950</td>\n",
              "      <td>150</td>\n",
              "      <td>1</td>\n",
              "      <td>1</td>\n",
              "    </tr>\n",
              "    <tr>\n",
              "      <th>2</th>\n",
              "      <td>1000</td>\n",
              "      <td>7</td>\n",
              "      <td>47.0</td>\n",
              "      <td>340.0</td>\n",
              "      <td>75.0</td>\n",
              "      <td>14.0</td>\n",
              "      <td>52</td>\n",
              "      <td>NaN</td>\n",
              "      <td>Краснодар</td>\n",
              "      <td>Рафаил</td>\n",
              "      <td>Верещагин</td>\n",
              "      <td>2018-05-25</td>\n",
              "      <td>ultra</td>\n",
              "      <td>1000</td>\n",
              "      <td>30.0</td>\n",
              "      <td>3000</td>\n",
              "      <td>1950</td>\n",
              "      <td>150</td>\n",
              "      <td>1</td>\n",
              "      <td>1</td>\n",
              "    </tr>\n",
              "    <tr>\n",
              "      <th>3</th>\n",
              "      <td>1000</td>\n",
              "      <td>8</td>\n",
              "      <td>52.0</td>\n",
              "      <td>408.0</td>\n",
              "      <td>81.0</td>\n",
              "      <td>14.0</td>\n",
              "      <td>52</td>\n",
              "      <td>NaN</td>\n",
              "      <td>Краснодар</td>\n",
              "      <td>Рафаил</td>\n",
              "      <td>Верещагин</td>\n",
              "      <td>2018-05-25</td>\n",
              "      <td>ultra</td>\n",
              "      <td>1000</td>\n",
              "      <td>30.0</td>\n",
              "      <td>3000</td>\n",
              "      <td>1950</td>\n",
              "      <td>150</td>\n",
              "      <td>1</td>\n",
              "      <td>1</td>\n",
              "    </tr>\n",
              "    <tr>\n",
              "      <th>4</th>\n",
              "      <td>1000</td>\n",
              "      <td>9</td>\n",
              "      <td>58.0</td>\n",
              "      <td>466.0</td>\n",
              "      <td>57.0</td>\n",
              "      <td>15.0</td>\n",
              "      <td>52</td>\n",
              "      <td>NaN</td>\n",
              "      <td>Краснодар</td>\n",
              "      <td>Рафаил</td>\n",
              "      <td>Верещагин</td>\n",
              "      <td>2018-05-25</td>\n",
              "      <td>ultra</td>\n",
              "      <td>1000</td>\n",
              "      <td>30.0</td>\n",
              "      <td>3000</td>\n",
              "      <td>1950</td>\n",
              "      <td>150</td>\n",
              "      <td>1</td>\n",
              "      <td>1</td>\n",
              "    </tr>\n",
              "    <tr>\n",
              "      <th>5</th>\n",
              "      <td>1000</td>\n",
              "      <td>10</td>\n",
              "      <td>57.0</td>\n",
              "      <td>350.0</td>\n",
              "      <td>73.0</td>\n",
              "      <td>15.0</td>\n",
              "      <td>52</td>\n",
              "      <td>NaN</td>\n",
              "      <td>Краснодар</td>\n",
              "      <td>Рафаил</td>\n",
              "      <td>Верещагин</td>\n",
              "      <td>2018-05-25</td>\n",
              "      <td>ultra</td>\n",
              "      <td>1000</td>\n",
              "      <td>30.0</td>\n",
              "      <td>3000</td>\n",
              "      <td>1950</td>\n",
              "      <td>150</td>\n",
              "      <td>1</td>\n",
              "      <td>1</td>\n",
              "    </tr>\n",
              "    <tr>\n",
              "      <th>6</th>\n",
              "      <td>1000</td>\n",
              "      <td>11</td>\n",
              "      <td>43.0</td>\n",
              "      <td>338.0</td>\n",
              "      <td>58.0</td>\n",
              "      <td>15.0</td>\n",
              "      <td>52</td>\n",
              "      <td>NaN</td>\n",
              "      <td>Краснодар</td>\n",
              "      <td>Рафаил</td>\n",
              "      <td>Верещагин</td>\n",
              "      <td>2018-05-25</td>\n",
              "      <td>ultra</td>\n",
              "      <td>1000</td>\n",
              "      <td>30.0</td>\n",
              "      <td>3000</td>\n",
              "      <td>1950</td>\n",
              "      <td>150</td>\n",
              "      <td>1</td>\n",
              "      <td>1</td>\n",
              "    </tr>\n",
              "    <tr>\n",
              "      <th>7</th>\n",
              "      <td>1000</td>\n",
              "      <td>12</td>\n",
              "      <td>46.0</td>\n",
              "      <td>333.0</td>\n",
              "      <td>70.0</td>\n",
              "      <td>10.0</td>\n",
              "      <td>52</td>\n",
              "      <td>NaN</td>\n",
              "      <td>Краснодар</td>\n",
              "      <td>Рафаил</td>\n",
              "      <td>Верещагин</td>\n",
              "      <td>2018-05-25</td>\n",
              "      <td>ultra</td>\n",
              "      <td>1000</td>\n",
              "      <td>30.0</td>\n",
              "      <td>3000</td>\n",
              "      <td>1950</td>\n",
              "      <td>150</td>\n",
              "      <td>1</td>\n",
              "      <td>1</td>\n",
              "    </tr>\n",
              "    <tr>\n",
              "      <th>8</th>\n",
              "      <td>1003</td>\n",
              "      <td>8</td>\n",
              "      <td>55.0</td>\n",
              "      <td>380.0</td>\n",
              "      <td>37.0</td>\n",
              "      <td>9.0</td>\n",
              "      <td>23</td>\n",
              "      <td>NaN</td>\n",
              "      <td>Москва</td>\n",
              "      <td>Белла</td>\n",
              "      <td>Белякова</td>\n",
              "      <td>2018-08-17</td>\n",
              "      <td>ultra</td>\n",
              "      <td>1000</td>\n",
              "      <td>30.0</td>\n",
              "      <td>3000</td>\n",
              "      <td>1950</td>\n",
              "      <td>150</td>\n",
              "      <td>1</td>\n",
              "      <td>1</td>\n",
              "    </tr>\n",
              "  </tbody>\n",
              "</table>\n",
              "</div>\n",
              "      <button class=\"colab-df-convert\" onclick=\"convertToInteractive('df-3e18f60b-5ac5-4f50-99ce-114b46f91880')\"\n",
              "              title=\"Convert this dataframe to an interactive table.\"\n",
              "              style=\"display:none;\">\n",
              "        \n",
              "  <svg xmlns=\"http://www.w3.org/2000/svg\" height=\"24px\"viewBox=\"0 0 24 24\"\n",
              "       width=\"24px\">\n",
              "    <path d=\"M0 0h24v24H0V0z\" fill=\"none\"/>\n",
              "    <path d=\"M18.56 5.44l.94 2.06.94-2.06 2.06-.94-2.06-.94-.94-2.06-.94 2.06-2.06.94zm-11 1L8.5 8.5l.94-2.06 2.06-.94-2.06-.94L8.5 2.5l-.94 2.06-2.06.94zm10 10l.94 2.06.94-2.06 2.06-.94-2.06-.94-.94-2.06-.94 2.06-2.06.94z\"/><path d=\"M17.41 7.96l-1.37-1.37c-.4-.4-.92-.59-1.43-.59-.52 0-1.04.2-1.43.59L10.3 9.45l-7.72 7.72c-.78.78-.78 2.05 0 2.83L4 21.41c.39.39.9.59 1.41.59.51 0 1.02-.2 1.41-.59l7.78-7.78 2.81-2.81c.8-.78.8-2.07 0-2.86zM5.41 20L4 18.59l7.72-7.72 1.47 1.35L5.41 20z\"/>\n",
              "  </svg>\n",
              "      </button>\n",
              "      \n",
              "  <style>\n",
              "    .colab-df-container {\n",
              "      display:flex;\n",
              "      flex-wrap:wrap;\n",
              "      gap: 12px;\n",
              "    }\n",
              "\n",
              "    .colab-df-convert {\n",
              "      background-color: #E8F0FE;\n",
              "      border: none;\n",
              "      border-radius: 50%;\n",
              "      cursor: pointer;\n",
              "      display: none;\n",
              "      fill: #1967D2;\n",
              "      height: 32px;\n",
              "      padding: 0 0 0 0;\n",
              "      width: 32px;\n",
              "    }\n",
              "\n",
              "    .colab-df-convert:hover {\n",
              "      background-color: #E2EBFA;\n",
              "      box-shadow: 0px 1px 2px rgba(60, 64, 67, 0.3), 0px 1px 3px 1px rgba(60, 64, 67, 0.15);\n",
              "      fill: #174EA6;\n",
              "    }\n",
              "\n",
              "    [theme=dark] .colab-df-convert {\n",
              "      background-color: #3B4455;\n",
              "      fill: #D2E3FC;\n",
              "    }\n",
              "\n",
              "    [theme=dark] .colab-df-convert:hover {\n",
              "      background-color: #434B5C;\n",
              "      box-shadow: 0px 1px 3px 1px rgba(0, 0, 0, 0.15);\n",
              "      filter: drop-shadow(0px 1px 2px rgba(0, 0, 0, 0.3));\n",
              "      fill: #FFFFFF;\n",
              "    }\n",
              "  </style>\n",
              "\n",
              "      <script>\n",
              "        const buttonEl =\n",
              "          document.querySelector('#df-3e18f60b-5ac5-4f50-99ce-114b46f91880 button.colab-df-convert');\n",
              "        buttonEl.style.display =\n",
              "          google.colab.kernel.accessAllowed ? 'block' : 'none';\n",
              "\n",
              "        async function convertToInteractive(key) {\n",
              "          const element = document.querySelector('#df-3e18f60b-5ac5-4f50-99ce-114b46f91880');\n",
              "          const dataTable =\n",
              "            await google.colab.kernel.invokeFunction('convertToInteractive',\n",
              "                                                     [key], {});\n",
              "          if (!dataTable) return;\n",
              "\n",
              "          const docLinkHtml = 'Like what you see? Visit the ' +\n",
              "            '<a target=\"_blank\" href=https://colab.research.google.com/notebooks/data_table.ipynb>data table notebook</a>'\n",
              "            + ' to learn more about interactive tables.';\n",
              "          element.innerHTML = '';\n",
              "          dataTable['output_type'] = 'display_data';\n",
              "          await google.colab.output.renderOutput(dataTable, element);\n",
              "          const docLink = document.createElement('div');\n",
              "          docLink.innerHTML = docLinkHtml;\n",
              "          element.appendChild(docLink);\n",
              "        }\n",
              "      </script>\n",
              "    </div>\n",
              "  </div>\n",
              "  "
            ],
            "text/plain": [
              "   user_id  month  call_number  ...  rub_per_gb  rub_per_message  rub_per_minute\n",
              "0     1000      5         22.0  ...         150                1               1\n",
              "1     1000      6         43.0  ...         150                1               1\n",
              "2     1000      7         47.0  ...         150                1               1\n",
              "3     1000      8         52.0  ...         150                1               1\n",
              "4     1000      9         58.0  ...         150                1               1\n",
              "5     1000     10         57.0  ...         150                1               1\n",
              "6     1000     11         43.0  ...         150                1               1\n",
              "7     1000     12         46.0  ...         150                1               1\n",
              "8     1003      8         55.0  ...         150                1               1\n",
              "\n",
              "[9 rows x 20 columns]"
            ]
          },
          "metadata": {},
          "execution_count": 40
        }
      ]
    },
    {
      "cell_type": "code",
      "source": [
        "df.info()"
      ],
      "metadata": {
        "colab": {
          "base_uri": "https://localhost:8080/"
        },
        "id": "IBvS56Zmlk51",
        "outputId": "e9798c59-7310-4908-d37a-f9a5a4228c24"
      },
      "execution_count": null,
      "outputs": [
        {
          "output_type": "stream",
          "name": "stdout",
          "text": [
            "<class 'pandas.core.frame.DataFrame'>\n",
            "Int64Index: 3214 entries, 0 to 3213\n",
            "Data columns (total 20 columns):\n",
            " #   Column                 Non-Null Count  Dtype  \n",
            "---  ------                 --------------  -----  \n",
            " 0   user_id                3214 non-null   int64  \n",
            " 1   month                  3214 non-null   int64  \n",
            " 2   call_number            3174 non-null   float64\n",
            " 3   minutes                3174 non-null   float64\n",
            " 4   msg_number             2717 non-null   float64\n",
            " 5   gb_used                3203 non-null   float64\n",
            " 6   age                    3214 non-null   int64  \n",
            " 7   churn_date             187 non-null    object \n",
            " 8   city                   3214 non-null   object \n",
            " 9   first_name             3214 non-null   object \n",
            " 10  last_name              3214 non-null   object \n",
            " 11  reg_date               3214 non-null   object \n",
            " 12  tariff                 3214 non-null   object \n",
            " 13  messages_included      3214 non-null   int64  \n",
            " 14  gb_per_month_included  3214 non-null   float64\n",
            " 15  minutes_included       3214 non-null   int64  \n",
            " 16  rub_monthly_fee        3214 non-null   int64  \n",
            " 17  rub_per_gb             3214 non-null   int64  \n",
            " 18  rub_per_message        3214 non-null   int64  \n",
            " 19  rub_per_minute         3214 non-null   int64  \n",
            "dtypes: float64(5), int64(9), object(6)\n",
            "memory usage: 527.3+ KB\n"
          ]
        }
      ]
    },
    {
      "cell_type": "markdown",
      "source": [
        "(вычтите бесплатный лимит из - суммарного количества звонков, сообщений и интернет-трафика; остаток умножьте на значение из тарифного плана; прибавьте абонентскую плату, соответствующую тарифному плану)"
      ],
      "metadata": {
        "id": "PCKsyVTeTpiR"
      }
    },
    {
      "cell_type": "code",
      "source": [
        "def total_fee(row):\n",
        "  total_fee_number = row['rub_monthly_fee']\n",
        "  if (row['minutes'] - row['minutes_included']) > 0:\n",
        "    total_fee_number +=  (row['minutes'] - row['minutes_included'])*row['rub_per_minute']\n",
        "  if (row['msg_number'] - row['messages_included']) > 0:\n",
        "    total_fee_number +=  (row['msg_number'] - row['messages_included'])*row['rub_per_message']\n",
        "  if (row['gb_used'] - row['gb_per_month_included']) > 0:\n",
        "    total_fee_number +=  (row['gb_used'] - row['gb_per_month_included'])*row['rub_per_gb']\n",
        "  return total_fee_number"
      ],
      "metadata": {
        "id": "7_4RsQ-Ydg-2"
      },
      "execution_count": null,
      "outputs": []
    },
    {
      "cell_type": "code",
      "source": [
        "df['total_fee'] = df.apply(total_fee, axis=1)"
      ],
      "metadata": {
        "id": "JG8HPirric5t"
      },
      "execution_count": null,
      "outputs": []
    },
    {
      "cell_type": "code",
      "source": [
        "df.sort_values(by='total_fee', ascending=False).head()"
      ],
      "metadata": {
        "colab": {
          "base_uri": "https://localhost:8080/",
          "height": 357
        },
        "id": "gHBHPG3Riqf0",
        "outputId": "de6e2306-9e04-452b-f2f9-5b036e299f83"
      },
      "execution_count": null,
      "outputs": [
        {
          "output_type": "execute_result",
          "data": {
            "text/html": [
              "\n",
              "  <div id=\"df-2bea6774-8177-4328-9d82-b4bcb0a7f7c7\">\n",
              "    <div class=\"colab-df-container\">\n",
              "      <div>\n",
              "<style scoped>\n",
              "    .dataframe tbody tr th:only-of-type {\n",
              "        vertical-align: middle;\n",
              "    }\n",
              "\n",
              "    .dataframe tbody tr th {\n",
              "        vertical-align: top;\n",
              "    }\n",
              "\n",
              "    .dataframe thead th {\n",
              "        text-align: right;\n",
              "    }\n",
              "</style>\n",
              "<table border=\"1\" class=\"dataframe\">\n",
              "  <thead>\n",
              "    <tr style=\"text-align: right;\">\n",
              "      <th></th>\n",
              "      <th>user_id</th>\n",
              "      <th>month</th>\n",
              "      <th>call_number</th>\n",
              "      <th>minutes</th>\n",
              "      <th>msg_number</th>\n",
              "      <th>gb_used</th>\n",
              "      <th>age</th>\n",
              "      <th>churn_date</th>\n",
              "      <th>city</th>\n",
              "      <th>first_name</th>\n",
              "      <th>last_name</th>\n",
              "      <th>reg_date</th>\n",
              "      <th>tariff</th>\n",
              "      <th>messages_included</th>\n",
              "      <th>gb_per_month_included</th>\n",
              "      <th>minutes_included</th>\n",
              "      <th>rub_monthly_fee</th>\n",
              "      <th>rub_per_gb</th>\n",
              "      <th>rub_per_message</th>\n",
              "      <th>rub_per_minute</th>\n",
              "      <th>total_fee</th>\n",
              "    </tr>\n",
              "  </thead>\n",
              "  <tbody>\n",
              "    <tr>\n",
              "      <th>3156</th>\n",
              "      <td>1486</td>\n",
              "      <td>12</td>\n",
              "      <td>133.0</td>\n",
              "      <td>1007.0</td>\n",
              "      <td>83.0</td>\n",
              "      <td>38.0</td>\n",
              "      <td>35</td>\n",
              "      <td>NaN</td>\n",
              "      <td>Нижний Новгород</td>\n",
              "      <td>Матвей</td>\n",
              "      <td>Моргунов</td>\n",
              "      <td>2018-10-31</td>\n",
              "      <td>smart</td>\n",
              "      <td>50</td>\n",
              "      <td>15.0</td>\n",
              "      <td>500</td>\n",
              "      <td>550</td>\n",
              "      <td>200</td>\n",
              "      <td>3</td>\n",
              "      <td>3</td>\n",
              "      <td>6770.0</td>\n",
              "    </tr>\n",
              "    <tr>\n",
              "      <th>1183</th>\n",
              "      <td>1042</td>\n",
              "      <td>12</td>\n",
              "      <td>121.0</td>\n",
              "      <td>728.0</td>\n",
              "      <td>75.0</td>\n",
              "      <td>37.0</td>\n",
              "      <td>42</td>\n",
              "      <td>NaN</td>\n",
              "      <td>Хабаровск</td>\n",
              "      <td>Константин</td>\n",
              "      <td>Добрынин</td>\n",
              "      <td>2018-11-25</td>\n",
              "      <td>smart</td>\n",
              "      <td>50</td>\n",
              "      <td>15.0</td>\n",
              "      <td>500</td>\n",
              "      <td>550</td>\n",
              "      <td>200</td>\n",
              "      <td>3</td>\n",
              "      <td>3</td>\n",
              "      <td>5709.0</td>\n",
              "    </tr>\n",
              "    <tr>\n",
              "      <th>3155</th>\n",
              "      <td>1486</td>\n",
              "      <td>11</td>\n",
              "      <td>108.0</td>\n",
              "      <td>764.0</td>\n",
              "      <td>96.0</td>\n",
              "      <td>36.0</td>\n",
              "      <td>35</td>\n",
              "      <td>NaN</td>\n",
              "      <td>Нижний Новгород</td>\n",
              "      <td>Матвей</td>\n",
              "      <td>Моргунов</td>\n",
              "      <td>2018-10-31</td>\n",
              "      <td>smart</td>\n",
              "      <td>50</td>\n",
              "      <td>15.0</td>\n",
              "      <td>500</td>\n",
              "      <td>550</td>\n",
              "      <td>200</td>\n",
              "      <td>3</td>\n",
              "      <td>3</td>\n",
              "      <td>5680.0</td>\n",
              "    </tr>\n",
              "    <tr>\n",
              "      <th>2177</th>\n",
              "      <td>1261</td>\n",
              "      <td>12</td>\n",
              "      <td>141.0</td>\n",
              "      <td>1074.0</td>\n",
              "      <td>22.0</td>\n",
              "      <td>32.0</td>\n",
              "      <td>46</td>\n",
              "      <td>NaN</td>\n",
              "      <td>Казань</td>\n",
              "      <td>Мадина</td>\n",
              "      <td>Пантелеева</td>\n",
              "      <td>2018-10-30</td>\n",
              "      <td>smart</td>\n",
              "      <td>50</td>\n",
              "      <td>15.0</td>\n",
              "      <td>500</td>\n",
              "      <td>550</td>\n",
              "      <td>200</td>\n",
              "      <td>3</td>\n",
              "      <td>3</td>\n",
              "      <td>5672.0</td>\n",
              "    </tr>\n",
              "    <tr>\n",
              "      <th>2298</th>\n",
              "      <td>1286</td>\n",
              "      <td>12</td>\n",
              "      <td>95.0</td>\n",
              "      <td>739.0</td>\n",
              "      <td>68.0</td>\n",
              "      <td>35.0</td>\n",
              "      <td>19</td>\n",
              "      <td>NaN</td>\n",
              "      <td>Москва</td>\n",
              "      <td>Рашид</td>\n",
              "      <td>Троицкий</td>\n",
              "      <td>2018-11-27</td>\n",
              "      <td>smart</td>\n",
              "      <td>50</td>\n",
              "      <td>15.0</td>\n",
              "      <td>500</td>\n",
              "      <td>550</td>\n",
              "      <td>200</td>\n",
              "      <td>3</td>\n",
              "      <td>3</td>\n",
              "      <td>5321.0</td>\n",
              "    </tr>\n",
              "  </tbody>\n",
              "</table>\n",
              "</div>\n",
              "      <button class=\"colab-df-convert\" onclick=\"convertToInteractive('df-2bea6774-8177-4328-9d82-b4bcb0a7f7c7')\"\n",
              "              title=\"Convert this dataframe to an interactive table.\"\n",
              "              style=\"display:none;\">\n",
              "        \n",
              "  <svg xmlns=\"http://www.w3.org/2000/svg\" height=\"24px\"viewBox=\"0 0 24 24\"\n",
              "       width=\"24px\">\n",
              "    <path d=\"M0 0h24v24H0V0z\" fill=\"none\"/>\n",
              "    <path d=\"M18.56 5.44l.94 2.06.94-2.06 2.06-.94-2.06-.94-.94-2.06-.94 2.06-2.06.94zm-11 1L8.5 8.5l.94-2.06 2.06-.94-2.06-.94L8.5 2.5l-.94 2.06-2.06.94zm10 10l.94 2.06.94-2.06 2.06-.94-2.06-.94-.94-2.06-.94 2.06-2.06.94z\"/><path d=\"M17.41 7.96l-1.37-1.37c-.4-.4-.92-.59-1.43-.59-.52 0-1.04.2-1.43.59L10.3 9.45l-7.72 7.72c-.78.78-.78 2.05 0 2.83L4 21.41c.39.39.9.59 1.41.59.51 0 1.02-.2 1.41-.59l7.78-7.78 2.81-2.81c.8-.78.8-2.07 0-2.86zM5.41 20L4 18.59l7.72-7.72 1.47 1.35L5.41 20z\"/>\n",
              "  </svg>\n",
              "      </button>\n",
              "      \n",
              "  <style>\n",
              "    .colab-df-container {\n",
              "      display:flex;\n",
              "      flex-wrap:wrap;\n",
              "      gap: 12px;\n",
              "    }\n",
              "\n",
              "    .colab-df-convert {\n",
              "      background-color: #E8F0FE;\n",
              "      border: none;\n",
              "      border-radius: 50%;\n",
              "      cursor: pointer;\n",
              "      display: none;\n",
              "      fill: #1967D2;\n",
              "      height: 32px;\n",
              "      padding: 0 0 0 0;\n",
              "      width: 32px;\n",
              "    }\n",
              "\n",
              "    .colab-df-convert:hover {\n",
              "      background-color: #E2EBFA;\n",
              "      box-shadow: 0px 1px 2px rgba(60, 64, 67, 0.3), 0px 1px 3px 1px rgba(60, 64, 67, 0.15);\n",
              "      fill: #174EA6;\n",
              "    }\n",
              "\n",
              "    [theme=dark] .colab-df-convert {\n",
              "      background-color: #3B4455;\n",
              "      fill: #D2E3FC;\n",
              "    }\n",
              "\n",
              "    [theme=dark] .colab-df-convert:hover {\n",
              "      background-color: #434B5C;\n",
              "      box-shadow: 0px 1px 3px 1px rgba(0, 0, 0, 0.15);\n",
              "      filter: drop-shadow(0px 1px 2px rgba(0, 0, 0, 0.3));\n",
              "      fill: #FFFFFF;\n",
              "    }\n",
              "  </style>\n",
              "\n",
              "      <script>\n",
              "        const buttonEl =\n",
              "          document.querySelector('#df-2bea6774-8177-4328-9d82-b4bcb0a7f7c7 button.colab-df-convert');\n",
              "        buttonEl.style.display =\n",
              "          google.colab.kernel.accessAllowed ? 'block' : 'none';\n",
              "\n",
              "        async function convertToInteractive(key) {\n",
              "          const element = document.querySelector('#df-2bea6774-8177-4328-9d82-b4bcb0a7f7c7');\n",
              "          const dataTable =\n",
              "            await google.colab.kernel.invokeFunction('convertToInteractive',\n",
              "                                                     [key], {});\n",
              "          if (!dataTable) return;\n",
              "\n",
              "          const docLinkHtml = 'Like what you see? Visit the ' +\n",
              "            '<a target=\"_blank\" href=https://colab.research.google.com/notebooks/data_table.ipynb>data table notebook</a>'\n",
              "            + ' to learn more about interactive tables.';\n",
              "          element.innerHTML = '';\n",
              "          dataTable['output_type'] = 'display_data';\n",
              "          await google.colab.output.renderOutput(dataTable, element);\n",
              "          const docLink = document.createElement('div');\n",
              "          docLink.innerHTML = docLinkHtml;\n",
              "          element.appendChild(docLink);\n",
              "        }\n",
              "      </script>\n",
              "    </div>\n",
              "  </div>\n",
              "  "
            ],
            "text/plain": [
              "      user_id  month  call_number  ...  rub_per_message  rub_per_minute  total_fee\n",
              "3156     1486     12        133.0  ...                3               3     6770.0\n",
              "1183     1042     12        121.0  ...                3               3     5709.0\n",
              "3155     1486     11        108.0  ...                3               3     5680.0\n",
              "2177     1261     12        141.0  ...                3               3     5672.0\n",
              "2298     1286     12         95.0  ...                3               3     5321.0\n",
              "\n",
              "[5 rows x 21 columns]"
            ]
          },
          "metadata": {},
          "execution_count": 44
        }
      ]
    },
    {
      "cell_type": "markdown",
      "source": [
        "# Шаг 3. Анализ данных"
      ],
      "metadata": {
        "id": "V0sb4tuIlHga"
      }
    },
    {
      "cell_type": "markdown",
      "source": [
        "Опишите поведение клиентов оператора, исходя из выборки. Сколько минут разговора, сколько сообщений и какой объём интернет-трафика требуется пользователям каждого тарифа в месяц?\n",
        "Посчитайте среднее количество, дисперсию и стандартное отклонение. Постройте гистограммы. Опишите распределения."
      ],
      "metadata": {
        "id": "quImEc7elJQj"
      }
    },
    {
      "cell_type": "code",
      "source": [
        "df_ultra = (df[df['tariff'] == 'ultra']).copy()"
      ],
      "metadata": {
        "id": "ic6MTVqAlVZT"
      },
      "execution_count": null,
      "outputs": []
    },
    {
      "cell_type": "code",
      "source": [
        "df_smart = (df[df['tariff'] == 'smart']).copy()"
      ],
      "metadata": {
        "id": "HX69j2dGlK3M"
      },
      "execution_count": null,
      "outputs": []
    },
    {
      "cell_type": "code",
      "source": [
        "df_smart[['minutes', 'msg_number', 'gb_used']].describe()"
      ],
      "metadata": {
        "colab": {
          "base_uri": "https://localhost:8080/",
          "height": 300
        },
        "id": "Cp2aqPBLGCbS",
        "outputId": "e6158852-6226-41b2-9c19-5dbf5dda1247"
      },
      "execution_count": null,
      "outputs": [
        {
          "output_type": "execute_result",
          "data": {
            "text/html": [
              "\n",
              "  <div id=\"df-f401472c-43fe-4f05-a6d3-167988779421\">\n",
              "    <div class=\"colab-df-container\">\n",
              "      <div>\n",
              "<style scoped>\n",
              "    .dataframe tbody tr th:only-of-type {\n",
              "        vertical-align: middle;\n",
              "    }\n",
              "\n",
              "    .dataframe tbody tr th {\n",
              "        vertical-align: top;\n",
              "    }\n",
              "\n",
              "    .dataframe thead th {\n",
              "        text-align: right;\n",
              "    }\n",
              "</style>\n",
              "<table border=\"1\" class=\"dataframe\">\n",
              "  <thead>\n",
              "    <tr style=\"text-align: right;\">\n",
              "      <th></th>\n",
              "      <th>minutes</th>\n",
              "      <th>msg_number</th>\n",
              "      <th>gb_used</th>\n",
              "    </tr>\n",
              "  </thead>\n",
              "  <tbody>\n",
              "    <tr>\n",
              "      <th>count</th>\n",
              "      <td>2223.000000</td>\n",
              "      <td>1922.000000</td>\n",
              "      <td>2228.000000</td>\n",
              "    </tr>\n",
              "    <tr>\n",
              "      <th>mean</th>\n",
              "      <td>419.062978</td>\n",
              "      <td>38.716441</td>\n",
              "      <td>16.336176</td>\n",
              "    </tr>\n",
              "    <tr>\n",
              "      <th>std</th>\n",
              "      <td>189.325618</td>\n",
              "      <td>26.787949</td>\n",
              "      <td>5.737923</td>\n",
              "    </tr>\n",
              "    <tr>\n",
              "      <th>min</th>\n",
              "      <td>0.000000</td>\n",
              "      <td>1.000000</td>\n",
              "      <td>0.000000</td>\n",
              "    </tr>\n",
              "    <tr>\n",
              "      <th>25%</th>\n",
              "      <td>285.000000</td>\n",
              "      <td>17.000000</td>\n",
              "      <td>13.000000</td>\n",
              "    </tr>\n",
              "    <tr>\n",
              "      <th>50%</th>\n",
              "      <td>423.000000</td>\n",
              "      <td>34.000000</td>\n",
              "      <td>17.000000</td>\n",
              "    </tr>\n",
              "    <tr>\n",
              "      <th>75%</th>\n",
              "      <td>545.500000</td>\n",
              "      <td>55.000000</td>\n",
              "      <td>20.000000</td>\n",
              "    </tr>\n",
              "    <tr>\n",
              "      <th>max</th>\n",
              "      <td>1435.000000</td>\n",
              "      <td>143.000000</td>\n",
              "      <td>38.000000</td>\n",
              "    </tr>\n",
              "  </tbody>\n",
              "</table>\n",
              "</div>\n",
              "      <button class=\"colab-df-convert\" onclick=\"convertToInteractive('df-f401472c-43fe-4f05-a6d3-167988779421')\"\n",
              "              title=\"Convert this dataframe to an interactive table.\"\n",
              "              style=\"display:none;\">\n",
              "        \n",
              "  <svg xmlns=\"http://www.w3.org/2000/svg\" height=\"24px\"viewBox=\"0 0 24 24\"\n",
              "       width=\"24px\">\n",
              "    <path d=\"M0 0h24v24H0V0z\" fill=\"none\"/>\n",
              "    <path d=\"M18.56 5.44l.94 2.06.94-2.06 2.06-.94-2.06-.94-.94-2.06-.94 2.06-2.06.94zm-11 1L8.5 8.5l.94-2.06 2.06-.94-2.06-.94L8.5 2.5l-.94 2.06-2.06.94zm10 10l.94 2.06.94-2.06 2.06-.94-2.06-.94-.94-2.06-.94 2.06-2.06.94z\"/><path d=\"M17.41 7.96l-1.37-1.37c-.4-.4-.92-.59-1.43-.59-.52 0-1.04.2-1.43.59L10.3 9.45l-7.72 7.72c-.78.78-.78 2.05 0 2.83L4 21.41c.39.39.9.59 1.41.59.51 0 1.02-.2 1.41-.59l7.78-7.78 2.81-2.81c.8-.78.8-2.07 0-2.86zM5.41 20L4 18.59l7.72-7.72 1.47 1.35L5.41 20z\"/>\n",
              "  </svg>\n",
              "      </button>\n",
              "      \n",
              "  <style>\n",
              "    .colab-df-container {\n",
              "      display:flex;\n",
              "      flex-wrap:wrap;\n",
              "      gap: 12px;\n",
              "    }\n",
              "\n",
              "    .colab-df-convert {\n",
              "      background-color: #E8F0FE;\n",
              "      border: none;\n",
              "      border-radius: 50%;\n",
              "      cursor: pointer;\n",
              "      display: none;\n",
              "      fill: #1967D2;\n",
              "      height: 32px;\n",
              "      padding: 0 0 0 0;\n",
              "      width: 32px;\n",
              "    }\n",
              "\n",
              "    .colab-df-convert:hover {\n",
              "      background-color: #E2EBFA;\n",
              "      box-shadow: 0px 1px 2px rgba(60, 64, 67, 0.3), 0px 1px 3px 1px rgba(60, 64, 67, 0.15);\n",
              "      fill: #174EA6;\n",
              "    }\n",
              "\n",
              "    [theme=dark] .colab-df-convert {\n",
              "      background-color: #3B4455;\n",
              "      fill: #D2E3FC;\n",
              "    }\n",
              "\n",
              "    [theme=dark] .colab-df-convert:hover {\n",
              "      background-color: #434B5C;\n",
              "      box-shadow: 0px 1px 3px 1px rgba(0, 0, 0, 0.15);\n",
              "      filter: drop-shadow(0px 1px 2px rgba(0, 0, 0, 0.3));\n",
              "      fill: #FFFFFF;\n",
              "    }\n",
              "  </style>\n",
              "\n",
              "      <script>\n",
              "        const buttonEl =\n",
              "          document.querySelector('#df-f401472c-43fe-4f05-a6d3-167988779421 button.colab-df-convert');\n",
              "        buttonEl.style.display =\n",
              "          google.colab.kernel.accessAllowed ? 'block' : 'none';\n",
              "\n",
              "        async function convertToInteractive(key) {\n",
              "          const element = document.querySelector('#df-f401472c-43fe-4f05-a6d3-167988779421');\n",
              "          const dataTable =\n",
              "            await google.colab.kernel.invokeFunction('convertToInteractive',\n",
              "                                                     [key], {});\n",
              "          if (!dataTable) return;\n",
              "\n",
              "          const docLinkHtml = 'Like what you see? Visit the ' +\n",
              "            '<a target=\"_blank\" href=https://colab.research.google.com/notebooks/data_table.ipynb>data table notebook</a>'\n",
              "            + ' to learn more about interactive tables.';\n",
              "          element.innerHTML = '';\n",
              "          dataTable['output_type'] = 'display_data';\n",
              "          await google.colab.output.renderOutput(dataTable, element);\n",
              "          const docLink = document.createElement('div');\n",
              "          docLink.innerHTML = docLinkHtml;\n",
              "          element.appendChild(docLink);\n",
              "        }\n",
              "      </script>\n",
              "    </div>\n",
              "  </div>\n",
              "  "
            ],
            "text/plain": [
              "           minutes   msg_number      gb_used\n",
              "count  2223.000000  1922.000000  2228.000000\n",
              "mean    419.062978    38.716441    16.336176\n",
              "std     189.325618    26.787949     5.737923\n",
              "min       0.000000     1.000000     0.000000\n",
              "25%     285.000000    17.000000    13.000000\n",
              "50%     423.000000    34.000000    17.000000\n",
              "75%     545.500000    55.000000    20.000000\n",
              "max    1435.000000   143.000000    38.000000"
            ]
          },
          "metadata": {},
          "execution_count": 87
        }
      ]
    },
    {
      "cell_type": "markdown",
      "source": [
        "## Минуты на тарифах"
      ],
      "metadata": {
        "id": "EY7NLGMgFaPZ"
      }
    },
    {
      "cell_type": "code",
      "source": [
        "display(f\"Среднее количество минут на тарифе Ultra: {df_ultra['minutes'].mean():.3f}\")\n",
        "display(f\"Стандартное отклонение минут на тарифе Ultra: {df_ultra['minutes'].std():.3f}\")\n",
        "display(f\"Дисперсия минут на тарифе Ultra: {np.var(df_ultra['minutes']):.3f}\")"
      ],
      "metadata": {
        "colab": {
          "base_uri": "https://localhost:8080/",
          "height": 72
        },
        "id": "S0fi6_g6HQ3J",
        "outputId": "4ada2b14-0c66-4ae4-87ab-7a5396f5c4fa"
      },
      "execution_count": null,
      "outputs": [
        {
          "output_type": "display_data",
          "data": {
            "application/vnd.google.colaboratory.intrinsic+json": {
              "type": "string"
            },
            "text/plain": [
              "'Среднее количество минут на тарифе Ultra: 545.451'"
            ]
          },
          "metadata": {}
        },
        {
          "output_type": "display_data",
          "data": {
            "application/vnd.google.colaboratory.intrinsic+json": {
              "type": "string"
            },
            "text/plain": [
              "'Стандартное отклонение минут на тарифе Ultra: 306.926'"
            ]
          },
          "metadata": {}
        },
        {
          "output_type": "display_data",
          "data": {
            "application/vnd.google.colaboratory.intrinsic+json": {
              "type": "string"
            },
            "text/plain": [
              "'Дисперсия минут на тарифе Ultra: 94104.361'"
            ]
          },
          "metadata": {}
        }
      ]
    },
    {
      "cell_type": "code",
      "source": [
        "display(f\"Среднее количество минут на тарифе Smart: {df_smart['minutes'].mean():.3f}\")\n",
        "display(f\"Стандартное отклонение минут на тарифе Smart: {df_smart['minutes'].std():.3f}\")\n",
        "display(f\"Дисперсия минут на тарифе Smart: {np.var(df_smart['minutes']):.3f}\")"
      ],
      "metadata": {
        "colab": {
          "base_uri": "https://localhost:8080/",
          "height": 72
        },
        "id": "og1p6KG_p66t",
        "outputId": "0e66d8f9-4470-4fc6-bed4-36d351004174"
      },
      "execution_count": null,
      "outputs": [
        {
          "output_type": "display_data",
          "data": {
            "application/vnd.google.colaboratory.intrinsic+json": {
              "type": "string"
            },
            "text/plain": [
              "'Среднее количество минут на тарифе Smart: 419.063'"
            ]
          },
          "metadata": {}
        },
        {
          "output_type": "display_data",
          "data": {
            "application/vnd.google.colaboratory.intrinsic+json": {
              "type": "string"
            },
            "text/plain": [
              "'Стандартное отклонение минут на тарифе Smart: 189.326'"
            ]
          },
          "metadata": {}
        },
        {
          "output_type": "display_data",
          "data": {
            "application/vnd.google.colaboratory.intrinsic+json": {
              "type": "string"
            },
            "text/plain": [
              "'Дисперсия минут на тарифе Smart: 35828.065'"
            ]
          },
          "metadata": {}
        }
      ]
    },
    {
      "cell_type": "code",
      "source": [
        "plt.rcParams['figure.figsize']=(8, 4)\n",
        "sns.histplot(data=df_ultra, x=\"minutes\", kde=True)\n",
        "plt.title('Распределение расхода минут на тарифе Ultra')\n",
        "plt.ylabel('Плотность')\n",
        "plt.xlabel('Количество минут')\n",
        "plt.grid(color='grey', axis='both', alpha=0.8)\n",
        "plt.axvline(x=3000, c=\"orange\")"
      ],
      "metadata": {
        "colab": {
          "base_uri": "https://localhost:8080/",
          "height": 312
        },
        "id": "31qD4m6WJKbR",
        "outputId": "5f96de99-96fb-4c66-b913-fe8f876b29de"
      },
      "execution_count": null,
      "outputs": [
        {
          "output_type": "execute_result",
          "data": {
            "text/plain": [
              "<matplotlib.lines.Line2D at 0x7f49f8741490>"
            ]
          },
          "metadata": {},
          "execution_count": 125
        },
        {
          "output_type": "display_data",
          "data": {
            "image/png": "[encoded data removed]",
            "text/plain": [
              "<Figure size 576x288 with 1 Axes>"
            ]
          },
          "metadata": {
            "needs_background": "light"
          }
        }
      ]
    },
    {
      "cell_type": "code",
      "source": [
        "plt.rcParams['figure.figsize']=(8, 4)\n",
        "sns.histplot(data=df_smart, x=\"minutes\", kde=True)\n",
        "plt.title('Распределение расхода минут на тарифе Smart')\n",
        "plt.ylabel('Плотность')\n",
        "plt.xlabel('Количество минут')\n",
        "plt.grid(color='grey', axis='both', alpha=0.8)\n",
        "plt.axvline(x=500, c=\"orange\")"
      ],
      "metadata": {
        "colab": {
          "base_uri": "https://localhost:8080/",
          "height": 312
        },
        "id": "jHTo-oZlIO95",
        "outputId": "9ec8512d-7315-4c66-dc83-d9ff0ae116d8"
      },
      "execution_count": null,
      "outputs": [
        {
          "output_type": "execute_result",
          "data": {
            "text/plain": [
              "<matplotlib.lines.Line2D at 0x7f49f877d850>"
            ]
          },
          "metadata": {},
          "execution_count": 124
        },
        {
          "output_type": "display_data",
          "data": {
            "image/png": "[encoded data removed]",
            "text/plain": [
              "<Figure size 576x288 with 1 Axes>"
            ]
          },
          "metadata": {
            "needs_background": "light"
          }
        }
      ]
    },
    {
      "cell_type": "code",
      "source": [
        "plt.rcParams['figure.figsize']=(8, 4)\n",
        "sns.boxplot(x=df['minutes'], y=df[\"tariff\"], orient=\"h\")\n",
        "plt.title('Диаграмма размаха среднего количества минут разговора по двум тарифам')\n",
        "plt.ylabel('Наименование тарифа')\n",
        "plt.xlabel('Количество минут')\n",
        "plt.grid(color='grey', axis='y', alpha=0.8)"
      ],
      "metadata": {
        "id": "-xM-fqOwoz3Z",
        "colab": {
          "base_uri": "https://localhost:8080/",
          "height": 295
        },
        "outputId": "609ec90c-0ce9-446e-ac6f-9ea83a7e5f59"
      },
      "execution_count": null,
      "outputs": [
        {
          "output_type": "display_data",
          "data": {
            "image/png": "[encoded data removed]",
            "text/plain": [
              "<Figure size 576x288 with 1 Axes>"
            ]
          },
          "metadata": {
            "needs_background": "light"
          }
        }
      ]
    },
    {
      "cell_type": "markdown",
      "source": [
        "## Сообщение на тарифах"
      ],
      "metadata": {
        "id": "MLNwXiZoCbWN"
      }
    },
    {
      "cell_type": "code",
      "source": [
        "display(f\"Среднее количество сообщений на тарифе Ultra: {df_ultra['msg_number'].mean():.3f}\")\n",
        "display(f\"Стандартное отклонение сообщений на тарифе Ultra: {df_ultra['msg_number'].std():.3f}\")\n",
        "display(f\"Дисперсия сообщений на тарифе Ultra: {np.var(df_ultra['msg_number']):.3f}\")"
      ],
      "metadata": {
        "colab": {
          "base_uri": "https://localhost:8080/",
          "height": 72
        },
        "outputId": "33ead20a-1b9d-4929-808d-2723c7decef1",
        "id": "lBy4CelRLnwI"
      },
      "execution_count": null,
      "outputs": [
        {
          "output_type": "display_data",
          "data": {
            "application/vnd.google.colaboratory.intrinsic+json": {
              "type": "string"
            },
            "text/plain": [
              "'Среднее количество сообщений на тарифе Ultra: 61.161'"
            ]
          },
          "metadata": {}
        },
        {
          "output_type": "display_data",
          "data": {
            "application/vnd.google.colaboratory.intrinsic+json": {
              "type": "string"
            },
            "text/plain": [
              "'Стандартное отклонение сообщений на тарифе Ultra: 45.931'"
            ]
          },
          "metadata": {}
        },
        {
          "output_type": "display_data",
          "data": {
            "application/vnd.google.colaboratory.intrinsic+json": {
              "type": "string"
            },
            "text/plain": [
              "'Дисперсия сообщений на тарифе Ultra: 2107.006'"
            ]
          },
          "metadata": {}
        }
      ]
    },
    {
      "cell_type": "code",
      "source": [
        "display(f\"Среднее количество сообщений на тарифе Smart: {df_smart['msg_number'].mean():.3f}\")\n",
        "display(f\"Стандартное отклонение сообщений на тарифе Smart: {df_smart['msg_number'].std():.3f}\")\n",
        "display(f\"Дисперсия сообщений на тарифе Smart: {np.var(df_smart['msg_number']):.3f}\")"
      ],
      "metadata": {
        "colab": {
          "base_uri": "https://localhost:8080/",
          "height": 72
        },
        "outputId": "557af450-5935-4599-d157-6265f1a49158",
        "id": "G8nxi5EnLnwH"
      },
      "execution_count": null,
      "outputs": [
        {
          "output_type": "display_data",
          "data": {
            "application/vnd.google.colaboratory.intrinsic+json": {
              "type": "string"
            },
            "text/plain": [
              "'Среднее количество сообщений на тарифе Smart: 38.716'"
            ]
          },
          "metadata": {}
        },
        {
          "output_type": "display_data",
          "data": {
            "application/vnd.google.colaboratory.intrinsic+json": {
              "type": "string"
            },
            "text/plain": [
              "'Стандартное отклонение сообщений на тарифе Smart: 26.788'"
            ]
          },
          "metadata": {}
        },
        {
          "output_type": "display_data",
          "data": {
            "application/vnd.google.colaboratory.intrinsic+json": {
              "type": "string"
            },
            "text/plain": [
              "'Дисперсия сообщений на тарифе Smart: 717.221'"
            ]
          },
          "metadata": {}
        }
      ]
    },
    {
      "cell_type": "code",
      "source": [
        "plt.rcParams['figure.figsize']=(8, 4)\n",
        "sns.histplot(data=df_ultra, x=\"msg_number\", kde=True)\n",
        "plt.title('Распределение расхода сообщений на тарифе Ultra')\n",
        "plt.ylabel('Плотность')\n",
        "plt.xlabel('Количество сообщений')\n",
        "plt.grid(color='grey', axis='both', alpha=0.8)\n",
        "plt.axvline(x=1000, c=\"orange\")"
      ],
      "metadata": {
        "colab": {
          "base_uri": "https://localhost:8080/",
          "height": 312
        },
        "outputId": "e3692ff8-132b-490b-f160-a3428ef3b120",
        "id": "fWSH9VDWLnwI"
      },
      "execution_count": null,
      "outputs": [
        {
          "output_type": "execute_result",
          "data": {
            "text/plain": [
              "<matplotlib.lines.Line2D at 0x7f4a03fa1350>"
            ]
          },
          "metadata": {},
          "execution_count": 133
        },
        {
          "output_type": "display_data",
          "data": {
            "image/png": "[encoded data removed]",
            "text/plain": [
              "<Figure size 576x288 with 1 Axes>"
            ]
          },
          "metadata": {
            "needs_background": "light"
          }
        }
      ]
    },
    {
      "cell_type": "code",
      "source": [
        "plt.rcParams['figure.figsize']=(8, 4)\n",
        "sns.histplot(data=df_smart, x=\"msg_number\", kde=True)\n",
        "plt.title('Распределение расхода сообщений на тарифе Smart')\n",
        "plt.ylabel('Плотность')\n",
        "plt.xlabel('Количество сообщений')\n",
        "plt.grid(color='grey', axis='both', alpha=0.8)\n",
        "plt.axvline(x=50, c=\"orange\")"
      ],
      "metadata": {
        "colab": {
          "base_uri": "https://localhost:8080/",
          "height": 312
        },
        "outputId": "7891cb4a-6cf4-4248-ade5-1264cd749d11",
        "id": "FItmaNptLnwI"
      },
      "execution_count": null,
      "outputs": [
        {
          "output_type": "execute_result",
          "data": {
            "text/plain": [
              "<matplotlib.lines.Line2D at 0x7f4a013dbb90>"
            ]
          },
          "metadata": {},
          "execution_count": 132
        },
        {
          "output_type": "display_data",
          "data": {
            "image/png": "[encoded data removed]",
            "text/plain": [
              "<Figure size 576x288 with 1 Axes>"
            ]
          },
          "metadata": {
            "needs_background": "light"
          }
        }
      ]
    },
    {
      "cell_type": "code",
      "source": [
        "plt.rcParams['figure.figsize']=(8, 4)\n",
        "sns.boxplot(x=df['msg_number'], y=df[\"tariff\"], orient=\"h\")\n",
        "plt.title('Диаграмма размаха среднего количества сообщений разговора по двум тарифам')\n",
        "plt.ylabel('Наименование тарифа')\n",
        "plt.xlabel('Количество сообщений')\n",
        "plt.grid(color='grey', axis='y', alpha=0.8)"
      ],
      "metadata": {
        "colab": {
          "base_uri": "https://localhost:8080/",
          "height": 295
        },
        "outputId": "986b5940-f926-43bf-ecff-7245efd7e9b1",
        "id": "6zxQ1emqLnwJ"
      },
      "execution_count": null,
      "outputs": [
        {
          "output_type": "display_data",
          "data": {
            "image/png": "[encoded data removed]",
            "text/plain": [
              "<Figure size 576x288 with 1 Axes>"
            ]
          },
          "metadata": {
            "needs_background": "light"
          }
        }
      ]
    },
    {
      "cell_type": "markdown",
      "source": [
        "## Объём интернет-трафика"
      ],
      "metadata": {
        "id": "kEVde1LWKp6p"
      }
    },
    {
      "cell_type": "code",
      "source": [
        "display(f\"Среднее количество интернет-трафика на тарифе Ultra: {df_ultra['gb_used'].mean():.3f}\")\n",
        "display(f\"Стандартное отклонение интернет-трафика на тарифе Ultra: {df_ultra['gb_used'].std():.3f}\")\n",
        "display(f\"Дисперсия интернет-трафика на тарифе Ultra: {np.var(df_ultra['gb_used']):.3f}\")"
      ],
      "metadata": {
        "colab": {
          "base_uri": "https://localhost:8080/",
          "height": 72
        },
        "outputId": "723364dd-6ac0-4196-c33e-5bf315ace2c4",
        "id": "9nMRe7VYLpy4"
      },
      "execution_count": null,
      "outputs": [
        {
          "output_type": "display_data",
          "data": {
            "application/vnd.google.colaboratory.intrinsic+json": {
              "type": "string"
            },
            "text/plain": [
              "'Среднее количество интернет-трафика на тарифе Ultra: 19.694'"
            ]
          },
          "metadata": {}
        },
        {
          "output_type": "display_data",
          "data": {
            "application/vnd.google.colaboratory.intrinsic+json": {
              "type": "string"
            },
            "text/plain": [
              "'Стандартное отклонение интернет-трафика на тарифе Ultra: 9.703'"
            ]
          },
          "metadata": {}
        },
        {
          "output_type": "display_data",
          "data": {
            "application/vnd.google.colaboratory.intrinsic+json": {
              "type": "string"
            },
            "text/plain": [
              "'Дисперсия интернет-трафика на тарифе Ultra: 94.050'"
            ]
          },
          "metadata": {}
        }
      ]
    },
    {
      "cell_type": "code",
      "source": [
        "display(f\"Среднее количество интернет-трафика на тарифе Smart: {df_smart['gb_used'].mean():.3f}\")\n",
        "display(f\"Стандартное отклонение интернет-трафика на тарифе Smart: {df_smart['gb_used'].std():.3f}\")\n",
        "display(f\"Дисперсия интернет-трафика на тарифе Smart: {np.var(df_smart['gb_used']):.3f}\")"
      ],
      "metadata": {
        "colab": {
          "base_uri": "https://localhost:8080/",
          "height": 72
        },
        "outputId": "54711f08-1c17-4285-f4d9-6e02c944eb11",
        "id": "WF-KEGsGLpy3"
      },
      "execution_count": null,
      "outputs": [
        {
          "output_type": "display_data",
          "data": {
            "application/vnd.google.colaboratory.intrinsic+json": {
              "type": "string"
            },
            "text/plain": [
              "'Среднее количество интернет-трафика на тарифе Smart: 16.336'"
            ]
          },
          "metadata": {}
        },
        {
          "output_type": "display_data",
          "data": {
            "application/vnd.google.colaboratory.intrinsic+json": {
              "type": "string"
            },
            "text/plain": [
              "'Стандартное отклонение интернет-трафика на тарифе Smart: 5.738'"
            ]
          },
          "metadata": {}
        },
        {
          "output_type": "display_data",
          "data": {
            "application/vnd.google.colaboratory.intrinsic+json": {
              "type": "string"
            },
            "text/plain": [
              "'Дисперсия интернет-трафика на тарифе Smart: 32.909'"
            ]
          },
          "metadata": {}
        }
      ]
    },
    {
      "cell_type": "code",
      "source": [
        "plt.rcParams['figure.figsize']=(8, 4)\n",
        "sns.histplot(data=df_ultra, x=\"gb_used\", kde=True)\n",
        "plt.title('Распределение расхода интернет-трафика на тарифе Ultra')\n",
        "plt.ylabel('Плотность')\n",
        "plt.xlabel('Количество интернет-трафика, ГБ')\n",
        "plt.grid(color='grey', axis='both', alpha=0.8)\n",
        "plt.axvline(x=30, c=\"orange\")"
      ],
      "metadata": {
        "colab": {
          "base_uri": "https://localhost:8080/",
          "height": 312
        },
        "outputId": "328738a6-a863-470e-a684-1b248536c6c1",
        "id": "xSz7XH4kLpy5"
      },
      "execution_count": null,
      "outputs": [
        {
          "output_type": "execute_result",
          "data": {
            "text/plain": [
              "<matplotlib.lines.Line2D at 0x7f4a0119e250>"
            ]
          },
          "metadata": {},
          "execution_count": 140
        },
        {
          "output_type": "display_data",
          "data": {
            "image/png": "[encoded data removed]",
            "text/plain": [
              "<Figure size 576x288 with 1 Axes>"
            ]
          },
          "metadata": {
            "needs_background": "light"
          }
        }
      ]
    },
    {
      "cell_type": "code",
      "source": [
        "plt.rcParams['figure.figsize']=(8, 4)\n",
        "sns.histplot(data=df_smart, x=\"gb_used\", kde=True)\n",
        "plt.title('Распределение расхода интернет-трафика на тарифе Smart')\n",
        "plt.ylabel('Плотность')\n",
        "plt.xlabel('Количество интернет-трафика, ГБ')\n",
        "plt.grid(color='grey', axis='both', alpha=0.8)\n",
        "plt.axvline(x=15, c=\"orange\")"
      ],
      "metadata": {
        "colab": {
          "base_uri": "https://localhost:8080/",
          "height": 312
        },
        "outputId": "20a99632-e2e7-477f-8584-4de9004cbaad",
        "id": "wi22pjM1Lpy4"
      },
      "execution_count": null,
      "outputs": [
        {
          "output_type": "execute_result",
          "data": {
            "text/plain": [
              "<matplotlib.lines.Line2D at 0x7f4a0162d510>"
            ]
          },
          "metadata": {},
          "execution_count": 141
        },
        {
          "output_type": "display_data",
          "data": {
            "image/png": "[encoded data removed]",
            "text/plain": [
              "<Figure size 576x288 with 1 Axes>"
            ]
          },
          "metadata": {
            "needs_background": "light"
          }
        }
      ]
    },
    {
      "cell_type": "code",
      "source": [
        "plt.rcParams['figure.figsize']=(8, 4)\n",
        "sns.boxplot(x=df['gb_used'], y=df[\"tariff\"], orient=\"h\")\n",
        "plt.title('Диаграмма размаха среднего количества интернет-трафика разговора по двум тарифам')\n",
        "plt.ylabel('Наименование тарифа')\n",
        "plt.xlabel('Количество интернет-трафика, ГБ')\n",
        "plt.grid(color='grey', axis='y', alpha=0.8)"
      ],
      "metadata": {
        "colab": {
          "base_uri": "https://localhost:8080/",
          "height": 295
        },
        "outputId": "092ed472-8f06-425d-f157-d6f7b95e2b06",
        "id": "pVzg1sQpLpy5"
      },
      "execution_count": null,
      "outputs": [
        {
          "output_type": "display_data",
          "data": {
            "image/png": "[encoded data removed]",
            "text/plain": [
              "<Figure size 576x288 with 1 Axes>"
            ]
          },
          "metadata": {
            "needs_background": "light"
          }
        }
      ]
    },
    {
      "cell_type": "markdown",
      "source": [
        "# **Шаг 4.** Проверка гипотез  "
      ],
      "metadata": {
        "id": "8k0NMct-K7Cy"
      }
    },
    {
      "cell_type": "markdown",
      "source": [
        "## Гипотеза: средняя выручка пользователей тарифов «Ультра» и «Смарт» различаются\n"
      ],
      "metadata": {
        "id": "4YZvECzbK-do"
      }
    },
    {
      "cell_type": "markdown",
      "source": [
        "H0 - средняя выручка пользователей тарифов «Ультра» и «Смарт» равны;  \n",
        "H1 - средняя выручка пользователей тарифов «Ультра» и «Смарт» различаются;  \n",
        "Уровень статической значимости: 5% \n",
        " "
      ],
      "metadata": {
        "id": "I3RKxHpyO5J2"
      }
    },
    {
      "cell_type": "code",
      "source": [
        "alpha = .05 \n",
        "\n",
        "results = st.ttest_ind(\n",
        "    df_smart['total_fee'], \n",
        "    df_ultra['total_fee'])\n",
        "\n",
        "print('p-значение: ', results.pvalue)\n",
        "\n",
        "if results.pvalue < alpha:\n",
        "    print(\"Отвергаем нулевую гипотезу\")\n",
        "else:\n",
        "    print(\"Не получилось отвергнуть нулевую гипотезу\")"
      ],
      "metadata": {
        "colab": {
          "base_uri": "https://localhost:8080/"
        },
        "id": "vHUzYUNiNePJ",
        "outputId": "7e02a9b0-a324-49ad-aba5-a4da48121bac"
      },
      "execution_count": null,
      "outputs": [
        {
          "output_type": "stream",
          "name": "stdout",
          "text": [
            "p-значение:  1.4229814360764067e-160\n",
            "Отвергаем нулевую гипотезу\n"
          ]
        }
      ]
    },
    {
      "cell_type": "markdown",
      "source": [
        "## Гипотеза: средняя выручка пользователей из Москвы отличается от выручки пользователей из других регионов"
      ],
      "metadata": {
        "id": "DkbtpWFEK9bH"
      }
    },
    {
      "cell_type": "code",
      "source": [
        "df_msk = (df[df['city'] == 'Москва']).copy()"
      ],
      "metadata": {
        "id": "h5VPAk22QB6V"
      },
      "execution_count": null,
      "outputs": []
    },
    {
      "cell_type": "code",
      "source": [
        "df_msk.head()"
      ],
      "metadata": {
        "id": "JDC6UX2fQPSM"
      },
      "execution_count": null,
      "outputs": []
    },
    {
      "cell_type": "code",
      "source": [
        "df_msk.info()"
      ],
      "metadata": {
        "id": "sdQw6VewQTcH"
      },
      "execution_count": null,
      "outputs": []
    },
    {
      "cell_type": "code",
      "source": [
        "df_not_msk = (df[df['city'] != 'Москва']).copy()"
      ],
      "metadata": {
        "id": "4QbL0fJCQA-G"
      },
      "execution_count": null,
      "outputs": []
    },
    {
      "cell_type": "code",
      "source": [
        "df_not_msk.head()"
      ],
      "metadata": {
        "id": "hiLqkRDOQlCW"
      },
      "execution_count": null,
      "outputs": []
    },
    {
      "cell_type": "code",
      "source": [
        "df_not_msk.info()"
      ],
      "metadata": {
        "id": "kF9hv3P6Qmm2"
      },
      "execution_count": null,
      "outputs": []
    },
    {
      "cell_type": "markdown",
      "source": [
        "H0 - средняя выручка пользователей из Москвы отличается от выручки пользователей из других регионов равны;  \n",
        "H1 - средняя выручка пользователей из Москвы отличается от выручки пользователей из других регионов различаются;  \n",
        "Уровень статической значимости: 5% \n",
        " "
      ],
      "metadata": {
        "id": "37eX-NfpP8gm"
      }
    },
    {
      "cell_type": "code",
      "source": [
        "alpha = .05 \n",
        "\n",
        "results = st.ttest_ind(\n",
        "    df_msk['total_fee'], \n",
        "    df_not_msk['total_fee'])\n",
        "\n",
        "print('p-значение: ', results.pvalue)\n",
        "\n",
        "if results.pvalue < alpha:\n",
        "    print(\"Отвергаем нулевую гипотезу\")\n",
        "else:\n",
        "    print(\"Не получилось отвергнуть нулевую гипотезу\")"
      ],
      "metadata": {
        "colab": {
          "base_uri": "https://localhost:8080/"
        },
        "id": "bamgdO9wQzVl",
        "outputId": "38ef1dc2-5046-43e0-c25b-27640621f55f"
      },
      "execution_count": null,
      "outputs": [
        {
          "output_type": "stream",
          "name": "stdout",
          "text": [
            "p-значение:  0.5440152911670224\n",
            "Не получилось отвергнуть нулевую гипотезу\n"
          ]
        }
      ]
    },
    {
      "cell_type": "code",
      "source": [
        "df_msk['total_fee'].mean()"
      ],
      "metadata": {
        "colab": {
          "base_uri": "https://localhost:8080/"
        },
        "id": "IoKknzw9Q3J0",
        "outputId": "854cea44-47a8-43a5-99fc-1b6a221f8b12"
      },
      "execution_count": null,
      "outputs": [
        {
          "output_type": "execute_result",
          "data": {
            "text/plain": [
              "1546.7135842880523"
            ]
          },
          "metadata": {},
          "execution_count": 164
        }
      ]
    },
    {
      "cell_type": "code",
      "source": [
        "df_not_msk['total_fee'].mean()"
      ],
      "metadata": {
        "colab": {
          "base_uri": "https://localhost:8080/"
        },
        "id": "9nQ2DQ0XQ63G",
        "outputId": "bdc99f98-a8f3-40b3-e72a-7d1f624e00e5"
      },
      "execution_count": null,
      "outputs": [
        {
          "output_type": "execute_result",
          "data": {
            "text/plain": [
              "1524.9362274298885"
            ]
          },
          "metadata": {},
          "execution_count": 165
        }
      ]
    },
    {
      "cell_type": "markdown",
      "source": [
        "# **Шаг 5.** Общий вывод"
      ],
      "metadata": {
        "id": "hszot0ZELJF3"
      }
    },
    {
      "cell_type": "code",
      "source": [
        ""
      ],
      "metadata": {
        "id": "iqQBTghDLSK-"
      },
      "execution_count": null,
      "outputs": []
    }
  ],
  "metadata": {
    "ExecuteTimeLog": [
      {
        "duration": 918,
        "start_time": "2021-12-20T19:29:52.089Z"
      },
      {
        "duration": 582,
        "start_time": "2021-12-20T19:29:53.010Z"
      },
      {
        "duration": 43,
        "start_time": "2021-12-20T19:29:53.595Z"
      },
      {
        "duration": 6,
        "start_time": "2021-12-20T19:29:53.641Z"
      },
      {
        "duration": 27,
        "start_time": "2021-12-20T19:29:53.650Z"
      },
      {
        "duration": 23,
        "start_time": "2021-12-20T19:29:53.679Z"
      },
      {
        "duration": 106,
        "start_time": "2021-12-20T19:29:53.704Z"
      },
      {
        "duration": 11,
        "start_time": "2021-12-20T19:29:53.823Z"
      },
      {
        "duration": 13,
        "start_time": "2021-12-20T19:29:53.837Z"
      },
      {
        "duration": 19,
        "start_time": "2021-12-20T19:29:53.853Z"
      },
      {
        "duration": 18,
        "start_time": "2021-12-20T19:29:53.875Z"
      },
      {
        "duration": 9,
        "start_time": "2021-12-20T19:29:53.896Z"
      },
      {
        "duration": 17,
        "start_time": "2021-12-20T19:29:53.907Z"
      },
      {
        "duration": 12,
        "start_time": "2021-12-20T19:29:53.927Z"
      },
      {
        "duration": 7,
        "start_time": "2021-12-20T19:29:53.942Z"
      },
      {
        "duration": 28,
        "start_time": "2021-12-20T19:29:53.952Z"
      },
      {
        "duration": 38,
        "start_time": "2021-12-20T19:29:53.983Z"
      },
      {
        "duration": 25,
        "start_time": "2021-12-20T19:29:54.024Z"
      },
      {
        "duration": 12,
        "start_time": "2021-12-20T19:29:54.051Z"
      },
      {
        "duration": 17,
        "start_time": "2021-12-20T19:29:54.065Z"
      },
      {
        "duration": 14,
        "start_time": "2021-12-20T19:29:54.084Z"
      },
      {
        "duration": 24,
        "start_time": "2021-12-20T19:29:54.101Z"
      },
      {
        "duration": 7,
        "start_time": "2021-12-20T19:29:54.130Z"
      },
      {
        "duration": 16,
        "start_time": "2021-12-20T19:29:54.142Z"
      },
      {
        "duration": 3832,
        "start_time": "2021-12-20T19:29:54.160Z"
      },
      {
        "duration": 3,
        "start_time": "2021-12-20T19:29:57.994Z"
      },
      {
        "duration": 3624,
        "start_time": "2021-12-20T19:29:57.999Z"
      },
      {
        "duration": 4,
        "start_time": "2021-12-20T19:30:01.625Z"
      },
      {
        "duration": 3632,
        "start_time": "2021-12-20T19:30:01.631Z"
      },
      {
        "duration": 31,
        "start_time": "2021-12-20T19:30:05.265Z"
      },
      {
        "duration": 26,
        "start_time": "2021-12-20T19:30:05.299Z"
      },
      {
        "duration": 695,
        "start_time": "2021-12-20T19:30:05.328Z"
      },
      {
        "duration": 11,
        "start_time": "2021-12-20T19:30:06.025Z"
      },
      {
        "duration": 688,
        "start_time": "2021-12-20T19:30:06.038Z"
      },
      {
        "duration": 10,
        "start_time": "2021-12-20T19:30:06.728Z"
      },
      {
        "duration": 622,
        "start_time": "2021-12-20T19:30:06.740Z"
      },
      {
        "duration": 11,
        "start_time": "2021-12-20T19:30:07.364Z"
      },
      {
        "duration": 610,
        "start_time": "2021-12-20T19:30:07.377Z"
      },
      {
        "duration": 12,
        "start_time": "2021-12-20T19:30:07.989Z"
      },
      {
        "duration": 699,
        "start_time": "2021-12-20T19:30:08.003Z"
      },
      {
        "duration": 300,
        "start_time": "2021-12-20T19:30:08.705Z"
      },
      {
        "duration": 24,
        "start_time": "2021-12-20T19:30:09.008Z"
      },
      {
        "duration": 28,
        "start_time": "2021-12-20T19:30:09.034Z"
      },
      {
        "duration": 6412,
        "start_time": "2021-12-20T19:30:09.064Z"
      },
      {
        "duration": 51,
        "start_time": "2021-12-20T19:30:15.479Z"
      },
      {
        "duration": 395,
        "start_time": "2021-12-20T19:30:15.533Z"
      },
      {
        "duration": 17,
        "start_time": "2021-12-20T19:30:15.931Z"
      },
      {
        "duration": 391,
        "start_time": "2021-12-20T19:30:15.950Z"
      },
      {
        "duration": 29,
        "start_time": "2021-12-20T19:30:16.344Z"
      },
      {
        "duration": 358,
        "start_time": "2021-12-20T19:30:16.375Z"
      },
      {
        "duration": 16,
        "start_time": "2021-12-20T19:30:16.736Z"
      },
      {
        "duration": 430,
        "start_time": "2021-12-20T19:30:16.755Z"
      },
      {
        "duration": 38,
        "start_time": "2021-12-20T19:30:17.187Z"
      },
      {
        "duration": 354,
        "start_time": "2021-12-20T19:30:17.227Z"
      },
      {
        "duration": 18,
        "start_time": "2021-12-20T19:30:17.583Z"
      },
      {
        "duration": 393,
        "start_time": "2021-12-20T19:30:17.604Z"
      },
      {
        "duration": 28,
        "start_time": "2021-12-20T19:30:18.000Z"
      },
      {
        "duration": 447,
        "start_time": "2021-12-20T19:30:18.031Z"
      },
      {
        "duration": 20,
        "start_time": "2021-12-20T19:30:18.480Z"
      },
      {
        "duration": 36,
        "start_time": "2021-12-20T19:30:18.503Z"
      },
      {
        "duration": 582,
        "start_time": "2021-12-20T19:30:18.542Z"
      },
      {
        "duration": 8,
        "start_time": "2021-12-20T19:30:19.127Z"
      },
      {
        "duration": 429,
        "start_time": "2021-12-20T19:30:19.138Z"
      },
      {
        "duration": 421,
        "start_time": "2021-12-20T19:30:19.570Z"
      },
      {
        "duration": 404,
        "start_time": "2021-12-20T19:30:19.994Z"
      },
      {
        "duration": 392,
        "start_time": "2021-12-20T19:30:20.400Z"
      },
      {
        "duration": 416,
        "start_time": "2021-12-20T19:30:20.795Z"
      },
      {
        "duration": 396,
        "start_time": "2021-12-20T19:30:21.217Z"
      },
      {
        "duration": 22,
        "start_time": "2021-12-20T19:30:21.616Z"
      },
      {
        "duration": 405,
        "start_time": "2021-12-20T19:30:21.641Z"
      },
      {
        "duration": 414,
        "start_time": "2021-12-20T19:30:22.049Z"
      },
      {
        "duration": 409,
        "start_time": "2021-12-20T19:30:22.466Z"
      },
      {
        "duration": 568,
        "start_time": "2021-12-20T19:30:22.878Z"
      },
      {
        "duration": 381,
        "start_time": "2021-12-20T19:30:23.448Z"
      },
      {
        "duration": 343,
        "start_time": "2021-12-20T19:30:23.831Z"
      },
      {
        "duration": 396,
        "start_time": "2021-12-20T19:30:24.177Z"
      },
      {
        "duration": 374,
        "start_time": "2021-12-20T19:30:24.575Z"
      },
      {
        "duration": 59,
        "start_time": "2021-12-21T11:40:27.154Z"
      },
      {
        "duration": 709,
        "start_time": "2021-12-21T17:20:25.208Z"
      },
      {
        "duration": 265,
        "start_time": "2021-12-21T17:20:25.919Z"
      },
      {
        "duration": 32,
        "start_time": "2021-12-21T17:20:26.187Z"
      },
      {
        "duration": 6,
        "start_time": "2021-12-21T17:20:26.221Z"
      },
      {
        "duration": 10,
        "start_time": "2021-12-21T17:20:26.229Z"
      },
      {
        "duration": 27,
        "start_time": "2021-12-21T17:20:26.241Z"
      },
      {
        "duration": 97,
        "start_time": "2021-12-21T17:20:26.270Z"
      },
      {
        "duration": 7,
        "start_time": "2021-12-21T17:20:26.369Z"
      },
      {
        "duration": 9,
        "start_time": "2021-12-21T17:20:30.877Z"
      },
      {
        "duration": 316,
        "start_time": "2021-12-21T17:20:36.488Z"
      },
      {
        "duration": 15,
        "start_time": "2021-12-21T17:20:41.035Z"
      },
      {
        "duration": 76,
        "start_time": "2021-12-21T17:26:38.815Z"
      },
      {
        "duration": 871,
        "start_time": "2021-12-21T17:29:34.440Z"
      },
      {
        "duration": 268,
        "start_time": "2021-12-21T17:29:35.314Z"
      },
      {
        "duration": 33,
        "start_time": "2021-12-21T17:29:35.588Z"
      },
      {
        "duration": 6,
        "start_time": "2021-12-21T17:29:35.623Z"
      },
      {
        "duration": 38,
        "start_time": "2021-12-21T17:29:35.631Z"
      },
      {
        "duration": 32,
        "start_time": "2021-12-21T17:29:35.671Z"
      },
      {
        "duration": 66,
        "start_time": "2021-12-21T17:29:35.706Z"
      },
      {
        "duration": 8,
        "start_time": "2021-12-21T17:29:35.774Z"
      },
      {
        "duration": 27,
        "start_time": "2021-12-21T17:29:35.783Z"
      },
      {
        "duration": 11,
        "start_time": "2021-12-21T17:29:35.812Z"
      },
      {
        "duration": 5,
        "start_time": "2021-12-21T17:29:35.825Z"
      },
      {
        "duration": 10,
        "start_time": "2021-12-21T17:29:35.831Z"
      },
      {
        "duration": 9,
        "start_time": "2021-12-21T17:29:35.843Z"
      },
      {
        "duration": 11,
        "start_time": "2021-12-21T17:29:35.854Z"
      },
      {
        "duration": 11,
        "start_time": "2021-12-21T17:29:35.867Z"
      },
      {
        "duration": 7,
        "start_time": "2021-12-21T17:29:35.880Z"
      },
      {
        "duration": 11,
        "start_time": "2021-12-21T17:29:35.889Z"
      },
      {
        "duration": 9,
        "start_time": "2021-12-21T17:29:35.901Z"
      },
      {
        "duration": 14,
        "start_time": "2021-12-21T17:29:35.911Z"
      },
      {
        "duration": 6,
        "start_time": "2021-12-21T17:29:35.927Z"
      },
      {
        "duration": 25,
        "start_time": "2021-12-21T17:29:35.935Z"
      },
      {
        "duration": 16,
        "start_time": "2021-12-21T17:29:35.966Z"
      },
      {
        "duration": 142,
        "start_time": "2021-12-21T17:29:35.985Z"
      },
      {
        "duration": 6,
        "start_time": "2021-12-21T17:29:36.129Z"
      },
      {
        "duration": 9,
        "start_time": "2021-12-21T17:29:36.136Z"
      },
      {
        "duration": 20,
        "start_time": "2021-12-21T17:29:36.147Z"
      },
      {
        "duration": 21,
        "start_time": "2021-12-21T17:29:36.169Z"
      },
      {
        "duration": 16,
        "start_time": "2021-12-21T17:29:36.192Z"
      },
      {
        "duration": 20,
        "start_time": "2021-12-21T17:29:36.210Z"
      },
      {
        "duration": 35,
        "start_time": "2021-12-21T17:29:36.232Z"
      },
      {
        "duration": 31,
        "start_time": "2021-12-21T17:29:36.269Z"
      },
      {
        "duration": 22,
        "start_time": "2021-12-21T17:29:36.302Z"
      },
      {
        "duration": 20,
        "start_time": "2021-12-21T17:29:36.326Z"
      },
      {
        "duration": 36,
        "start_time": "2021-12-21T17:29:36.348Z"
      },
      {
        "duration": 24,
        "start_time": "2021-12-21T17:29:36.387Z"
      },
      {
        "duration": 751,
        "start_time": "2021-12-21T17:29:36.413Z"
      },
      {
        "duration": 4,
        "start_time": "2021-12-21T17:29:37.166Z"
      },
      {
        "duration": 549,
        "start_time": "2021-12-21T17:29:37.171Z"
      },
      {
        "duration": 3,
        "start_time": "2021-12-21T17:29:37.722Z"
      },
      {
        "duration": 496,
        "start_time": "2021-12-21T17:29:37.727Z"
      },
      {
        "duration": 20,
        "start_time": "2021-12-21T17:29:38.225Z"
      },
      {
        "duration": 20,
        "start_time": "2021-12-21T17:29:38.247Z"
      },
      {
        "duration": 432,
        "start_time": "2021-12-21T17:29:38.269Z"
      },
      {
        "duration": 9,
        "start_time": "2021-12-21T17:29:38.703Z"
      },
      {
        "duration": 454,
        "start_time": "2021-12-21T17:29:38.714Z"
      },
      {
        "duration": 8,
        "start_time": "2021-12-21T17:29:39.170Z"
      },
      {
        "duration": 504,
        "start_time": "2021-12-21T17:29:39.180Z"
      },
      {
        "duration": 9,
        "start_time": "2021-12-21T17:29:39.685Z"
      },
      {
        "duration": 395,
        "start_time": "2021-12-21T17:29:39.696Z"
      },
      {
        "duration": 9,
        "start_time": "2021-12-21T17:29:40.093Z"
      },
      {
        "duration": 488,
        "start_time": "2021-12-21T17:29:40.103Z"
      },
      {
        "duration": 208,
        "start_time": "2021-12-21T17:29:40.593Z"
      },
      {
        "duration": 14,
        "start_time": "2021-12-21T17:29:40.803Z"
      },
      {
        "duration": 5,
        "start_time": "2021-12-21T17:29:40.819Z"
      },
      {
        "duration": 37,
        "start_time": "2021-12-21T17:29:40.825Z"
      },
      {
        "duration": 5538,
        "start_time": "2021-12-21T17:29:40.864Z"
      },
      {
        "duration": 27,
        "start_time": "2021-12-21T17:29:46.405Z"
      },
      {
        "duration": 284,
        "start_time": "2021-12-21T17:29:46.434Z"
      },
      {
        "duration": 12,
        "start_time": "2021-12-21T17:29:46.720Z"
      },
      {
        "duration": 257,
        "start_time": "2021-12-21T17:29:46.735Z"
      },
      {
        "duration": 26,
        "start_time": "2021-12-21T17:29:46.994Z"
      },
      {
        "duration": 301,
        "start_time": "2021-12-21T17:29:47.022Z"
      },
      {
        "duration": 16,
        "start_time": "2021-12-21T17:29:47.326Z"
      },
      {
        "duration": 390,
        "start_time": "2021-12-21T17:29:47.344Z"
      },
      {
        "duration": 33,
        "start_time": "2021-12-21T17:29:47.736Z"
      },
      {
        "duration": 234,
        "start_time": "2021-12-21T17:29:47.771Z"
      },
      {
        "duration": 13,
        "start_time": "2021-12-21T17:29:48.011Z"
      },
      {
        "duration": 244,
        "start_time": "2021-12-21T17:29:48.026Z"
      },
      {
        "duration": 16,
        "start_time": "2021-12-21T17:29:48.272Z"
      },
      {
        "duration": 238,
        "start_time": "2021-12-21T17:29:48.290Z"
      },
      {
        "duration": 13,
        "start_time": "2021-12-21T17:29:48.530Z"
      },
      {
        "duration": 15,
        "start_time": "2021-12-21T17:29:48.560Z"
      },
      {
        "duration": 404,
        "start_time": "2021-12-21T17:29:48.577Z"
      },
      {
        "duration": 7,
        "start_time": "2021-12-21T17:29:48.984Z"
      },
      {
        "duration": 298,
        "start_time": "2021-12-21T17:29:48.993Z"
      },
      {
        "duration": 290,
        "start_time": "2021-12-21T17:29:49.292Z"
      },
      {
        "duration": 405,
        "start_time": "2021-12-21T17:29:49.583Z"
      },
      {
        "duration": 306,
        "start_time": "2021-12-21T17:29:49.990Z"
      },
      {
        "duration": 16,
        "start_time": "2021-12-21T17:29:50.299Z"
      },
      {
        "duration": 11,
        "start_time": "2021-12-21T17:29:50.317Z"
      },
      {
        "duration": 333,
        "start_time": "2021-12-21T17:29:50.330Z"
      },
      {
        "duration": 289,
        "start_time": "2021-12-21T17:29:50.665Z"
      },
      {
        "duration": 11,
        "start_time": "2021-12-21T17:29:50.960Z"
      },
      {
        "duration": 275,
        "start_time": "2021-12-21T17:29:50.973Z"
      },
      {
        "duration": 296,
        "start_time": "2021-12-21T17:29:51.249Z"
      },
      {
        "duration": 284,
        "start_time": "2021-12-21T17:29:51.548Z"
      },
      {
        "duration": 329,
        "start_time": "2021-12-21T17:29:51.834Z"
      },
      {
        "duration": 279,
        "start_time": "2021-12-21T17:29:52.165Z"
      },
      {
        "duration": 270,
        "start_time": "2021-12-21T17:29:52.445Z"
      },
      {
        "duration": 302,
        "start_time": "2021-12-21T17:29:52.717Z"
      },
      {
        "duration": 287,
        "start_time": "2021-12-21T17:29:53.021Z"
      },
      {
        "duration": 754,
        "start_time": "2021-12-21T17:32:15.898Z"
      },
      {
        "duration": 184,
        "start_time": "2021-12-21T17:32:16.654Z"
      },
      {
        "duration": 31,
        "start_time": "2021-12-21T17:32:16.841Z"
      },
      {
        "duration": 6,
        "start_time": "2021-12-21T17:32:16.874Z"
      },
      {
        "duration": 9,
        "start_time": "2021-12-21T17:32:16.882Z"
      },
      {
        "duration": 15,
        "start_time": "2021-12-21T17:32:16.892Z"
      },
      {
        "duration": 89,
        "start_time": "2021-12-21T17:32:16.909Z"
      },
      {
        "duration": 9,
        "start_time": "2021-12-21T17:32:17.001Z"
      },
      {
        "duration": 12,
        "start_time": "2021-12-21T17:32:17.013Z"
      },
      {
        "duration": 35,
        "start_time": "2021-12-21T17:32:17.027Z"
      },
      {
        "duration": 4,
        "start_time": "2021-12-21T17:32:17.064Z"
      },
      {
        "duration": 18,
        "start_time": "2021-12-21T17:32:17.070Z"
      },
      {
        "duration": 8,
        "start_time": "2021-12-21T17:32:17.090Z"
      },
      {
        "duration": 8,
        "start_time": "2021-12-21T17:32:17.100Z"
      },
      {
        "duration": 7,
        "start_time": "2021-12-21T17:32:17.110Z"
      },
      {
        "duration": 8,
        "start_time": "2021-12-21T17:32:17.118Z"
      },
      {
        "duration": 7,
        "start_time": "2021-12-21T17:32:17.128Z"
      },
      {
        "duration": 23,
        "start_time": "2021-12-21T17:32:17.137Z"
      },
      {
        "duration": 9,
        "start_time": "2021-12-21T17:32:17.162Z"
      },
      {
        "duration": 6,
        "start_time": "2021-12-21T17:32:17.172Z"
      },
      {
        "duration": 9,
        "start_time": "2021-12-21T17:32:17.180Z"
      },
      {
        "duration": 20,
        "start_time": "2021-12-21T17:32:17.191Z"
      },
      {
        "duration": 156,
        "start_time": "2021-12-21T17:32:17.217Z"
      },
      {
        "duration": 6,
        "start_time": "2021-12-21T17:32:17.376Z"
      },
      {
        "duration": 7,
        "start_time": "2021-12-21T17:32:17.384Z"
      },
      {
        "duration": 9,
        "start_time": "2021-12-21T17:32:17.393Z"
      },
      {
        "duration": 21,
        "start_time": "2021-12-21T17:32:17.404Z"
      },
      {
        "duration": 51,
        "start_time": "2021-12-21T17:32:17.427Z"
      },
      {
        "duration": 19,
        "start_time": "2021-12-21T17:32:17.479Z"
      },
      {
        "duration": 10,
        "start_time": "2021-12-21T17:32:17.499Z"
      },
      {
        "duration": 6,
        "start_time": "2021-12-21T17:32:17.510Z"
      },
      {
        "duration": 9,
        "start_time": "2021-12-21T17:32:17.517Z"
      },
      {
        "duration": 34,
        "start_time": "2021-12-21T17:32:17.528Z"
      },
      {
        "duration": 6,
        "start_time": "2021-12-21T17:32:17.565Z"
      },
      {
        "duration": 7,
        "start_time": "2021-12-21T17:32:17.573Z"
      },
      {
        "duration": 600,
        "start_time": "2021-12-21T17:32:17.582Z"
      },
      {
        "duration": 3,
        "start_time": "2021-12-21T17:32:18.184Z"
      },
      {
        "duration": 548,
        "start_time": "2021-12-21T17:32:18.188Z"
      },
      {
        "duration": 3,
        "start_time": "2021-12-21T17:32:18.738Z"
      },
      {
        "duration": 573,
        "start_time": "2021-12-21T17:32:18.743Z"
      },
      {
        "duration": 31,
        "start_time": "2021-12-21T17:32:19.318Z"
      },
      {
        "duration": 10,
        "start_time": "2021-12-21T17:32:19.361Z"
      },
      {
        "duration": 521,
        "start_time": "2021-12-21T17:32:19.372Z"
      },
      {
        "duration": 11,
        "start_time": "2021-12-21T17:32:19.895Z"
      },
      {
        "duration": 638,
        "start_time": "2021-12-21T17:32:19.908Z"
      },
      {
        "duration": 17,
        "start_time": "2021-12-21T17:32:20.547Z"
      },
      {
        "duration": 487,
        "start_time": "2021-12-21T17:32:20.566Z"
      },
      {
        "duration": 15,
        "start_time": "2021-12-21T17:32:21.055Z"
      },
      {
        "duration": 478,
        "start_time": "2021-12-21T17:32:21.073Z"
      },
      {
        "duration": 14,
        "start_time": "2021-12-21T17:32:21.553Z"
      },
      {
        "duration": 465,
        "start_time": "2021-12-21T17:32:21.569Z"
      },
      {
        "duration": 215,
        "start_time": "2021-12-21T17:32:22.036Z"
      },
      {
        "duration": 20,
        "start_time": "2021-12-21T17:32:22.252Z"
      },
      {
        "duration": 11,
        "start_time": "2021-12-21T17:32:22.274Z"
      },
      {
        "duration": 29,
        "start_time": "2021-12-21T17:32:22.287Z"
      },
      {
        "duration": 5578,
        "start_time": "2021-12-21T17:32:22.318Z"
      },
      {
        "duration": 30,
        "start_time": "2021-12-21T17:32:27.898Z"
      },
      {
        "duration": 298,
        "start_time": "2021-12-21T17:32:27.930Z"
      },
      {
        "duration": 12,
        "start_time": "2021-12-21T17:32:28.230Z"
      },
      {
        "duration": 246,
        "start_time": "2021-12-21T17:32:28.244Z"
      },
      {
        "duration": 29,
        "start_time": "2021-12-21T17:32:28.493Z"
      },
      {
        "duration": 297,
        "start_time": "2021-12-21T17:32:28.524Z"
      },
      {
        "duration": 14,
        "start_time": "2021-12-21T17:32:28.823Z"
      },
      {
        "duration": 300,
        "start_time": "2021-12-21T17:32:28.840Z"
      },
      {
        "duration": 37,
        "start_time": "2021-12-21T17:32:29.142Z"
      },
      {
        "duration": 258,
        "start_time": "2021-12-21T17:32:29.182Z"
      },
      {
        "duration": 24,
        "start_time": "2021-12-21T17:32:29.442Z"
      },
      {
        "duration": 257,
        "start_time": "2021-12-21T17:32:29.473Z"
      },
      {
        "duration": 13,
        "start_time": "2021-12-21T17:32:29.732Z"
      },
      {
        "duration": 224,
        "start_time": "2021-12-21T17:32:29.762Z"
      },
      {
        "duration": 18,
        "start_time": "2021-12-21T17:32:29.988Z"
      },
      {
        "duration": 29,
        "start_time": "2021-12-21T17:32:30.009Z"
      },
      {
        "duration": 406,
        "start_time": "2021-12-21T17:32:30.040Z"
      },
      {
        "duration": 16,
        "start_time": "2021-12-21T17:32:30.448Z"
      },
      {
        "duration": 285,
        "start_time": "2021-12-21T17:32:30.465Z"
      },
      {
        "duration": 304,
        "start_time": "2021-12-21T17:32:30.752Z"
      },
      {
        "duration": 374,
        "start_time": "2021-12-21T17:32:31.060Z"
      },
      {
        "duration": 306,
        "start_time": "2021-12-21T17:32:31.436Z"
      },
      {
        "duration": 23,
        "start_time": "2021-12-21T17:32:31.744Z"
      },
      {
        "duration": 9,
        "start_time": "2021-12-21T17:32:31.769Z"
      },
      {
        "duration": 300,
        "start_time": "2021-12-21T17:32:31.780Z"
      },
      {
        "duration": 319,
        "start_time": "2021-12-21T17:32:32.082Z"
      },
      {
        "duration": 13,
        "start_time": "2021-12-21T17:32:32.402Z"
      },
      {
        "duration": 274,
        "start_time": "2021-12-21T17:32:32.417Z"
      },
      {
        "duration": 296,
        "start_time": "2021-12-21T17:32:32.693Z"
      },
      {
        "duration": 309,
        "start_time": "2021-12-21T17:32:32.991Z"
      },
      {
        "duration": 302,
        "start_time": "2021-12-21T17:32:33.302Z"
      },
      {
        "duration": 310,
        "start_time": "2021-12-21T17:32:33.606Z"
      },
      {
        "duration": 291,
        "start_time": "2021-12-21T17:32:33.919Z"
      },
      {
        "duration": 266,
        "start_time": "2021-12-21T17:32:34.212Z"
      },
      {
        "duration": 327,
        "start_time": "2021-12-21T17:32:34.480Z"
      }
    ],
    "colab": {
      "collapsed_sections": [
        "MLNwXiZoCbWN"
      ],
      "name": "determination_of_promising_tariff.ipynb",
      "provenance": [],
      "toc_visible": true
    },
    "kernelspec": {
      "display_name": "Python 3",
      "language": "python",
      "name": "python3"
    },
    "language_info": {
      "codemirror_mode": {
        "name": "ipython",
        "version": 3
      },
      "file_extension": ".py",
      "mimetype": "text/x-python",
      "name": "python",
      "nbconvert_exporter": "python",
      "pygments_lexer": "ipython3",
      "version": "3.7.8"
    },
    "toc": {
      "base_numbering": 1,
      "nav_menu": {},
      "number_sections": true,
      "sideBar": true,
      "skip_h1_title": true,
      "title_cell": "Содержание",
      "title_sidebar": "Contents",
      "toc_cell": true,
      "toc_position": {},
      "toc_section_display": true,
      "toc_window_display": true
    }
  },
  "nbformat": 4,
  "nbformat_minor": 0
}