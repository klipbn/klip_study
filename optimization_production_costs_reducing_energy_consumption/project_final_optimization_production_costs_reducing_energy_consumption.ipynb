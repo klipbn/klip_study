{
  "cells": [
    {
      "cell_type": "code",
      "execution_count": null,
      "metadata": {
        "id": "RnGwfJGnyh8s"
      },
      "outputs": [],
      "source": [
        "# !pip install https://github.com/pandas-profiling/pandas-profiling/archive/master.zip"
      ]
    },
    {
      "cell_type": "code",
      "execution_count": null,
      "metadata": {
        "id": "wwjUkWDQ1gDB"
      },
      "outputs": [],
      "source": [
        "#  !pip install catboost\n",
        "#  !pip install xgboost\n",
        "#  !pip install lightgbm"
      ]
    },
    {
      "cell_type": "markdown",
      "metadata": {
        "id": "-nimR6p_IroR"
      },
      "source": [
        "# Оптимизация производственных расходов за счет снижения энергопотребления"
      ]
    },
    {
      "cell_type": "markdown",
      "metadata": {
        "id": "I3zlGwQGFck_"
      },
      "source": [
        "Чтобы оптимизировать производственные расходы, металлургический комбинат решил уменьшить потребление электроэнергии на этапе обработки стали. \n",
        "\n",
        "**Цель:** Построить модель, которая предскажет температуру стали. "
      ]
    },
    {
      "cell_type": "markdown",
      "metadata": {
        "id": "C3XAlNr_I5uD"
      },
      "source": [
        "**Описание технологического процесса:**  \n",
        "\n",
        "1. Сталь обрабатывают в металлическом ковше вместимостью около 100 тонн. Чтобы \n",
        "ковш выдерживал высокие температуры, изнутри его облицовывают огнеупорным кирпичом.   \n",
        "Расплавленную сталь заливают в ковш и подогревают до нужной температуры графитовыми электродами. Они установлены в крышке ковша.  \n",
        "2. Из сплава выводится сера (десульфурация), добавлением примесей корректируется химический состав и отбираются пробы.   \n",
        "Сталь легируют — изменяют её состав — подавая куски сплава из бункера для сыпучих материалов или проволоку через специальный трайб-аппарат (англ. tribe, «масса»).    \n",
        "3. Перед тем как первый раз ввести легирующие добавки, измеряют температуру стали и производят её химический анализ.  \n",
        "Потом температуру на несколько минут повышают, добавляют легирующие материалы и продувают сплав инертным газом.   \n",
        "4. Затем его перемешивают и снова проводят измерения.   \n",
        "\n",
        "Такой цикл повторяется до достижения целевого химического состава и оптимальной температуры плавки.  \n",
        "Тогда расплавленная сталь отправляется на доводку металла или поступает в машину непрерывной разливки. Оттуда готовый продукт выходит в виде заготовок-слябов (англ. slab, «плита»).  "
      ]
    },
    {
      "cell_type": "markdown",
      "metadata": {
        "id": "iU1k6wVLFZkG"
      },
      "source": [
        "**Описание данных**  \n",
        "\n",
        "Данные состоят из файлов, полученных из разных источников:  \n",
        "- `data_arc.csv` — данные об электродах; \n",
        "- `data_bulk.csv` — данные о подаче сыпучих материалов (объём); \n",
        "- `data_bulk_time.csv` — данные о подаче сыпучих материалов (время); \n",
        "- `data_gas.csv` — данные о продувке сплава газом; \n",
        "- `data_temp.csv` — результаты измерения температуры; \n",
        "- `data_wire.csv` — данные о проволочных материалах (объём); \n",
        "- `data_wire_time.csv` — данные о проволочных материалах (время). \n",
        "\n",
        "Во всех файлах столбец `key` содержит номер партии. В файлах может быть несколько строк с одинаковым значением `key`: они соответствуют разным итерациям обработки.  \n"
      ]
    },
    {
      "cell_type": "markdown",
      "metadata": {
        "id": "f8cK-L_qI6eB"
      },
      "source": [
        "Импорт библиотек:"
      ]
    },
    {
      "cell_type": "code",
      "execution_count": null,
      "metadata": {
        "id": "v9lmZZ0GI6oJ"
      },
      "outputs": [],
      "source": [
        "import lightgbm as ltb\n",
        "import numpy as np\n",
        "import pandas as pd\n",
        "import seaborn as sns\n",
        "import time\n",
        "import xgboost as xgb\n",
        "\n",
        "from catboost import CatBoostRegressor\n",
        "from matplotlib import pyplot as plt\n",
        "# from pandas_profiling import ProfileReport\n",
        "from sklearn.dummy import DummyRegressor\n",
        "from sklearn.ensemble import AdaBoostRegressor, GradientBoostingRegressor, RandomForestRegressor\n",
        "from sklearn.linear_model import LinearRegression\n",
        "from sklearn.metrics import mean_absolute_error\n",
        "from sklearn.model_selection import GridSearchCV, train_test_split"
      ]
    },
    {
      "cell_type": "code",
      "execution_count": null,
      "metadata": {
        "id": "tQ-0vNq2DUXU"
      },
      "outputs": [],
      "source": [
        "# from google.colab import drive\n",
        "# drive.mount('/content/drive')"
      ]
    },
    {
      "cell_type": "markdown",
      "metadata": {
        "id": "mnpNc2qz9YVn"
      },
      "source": [
        "## План работы"
      ]
    },
    {
      "cell_type": "markdown",
      "metadata": {
        "id": "UxwjTl5e9cl6"
      },
      "source": [
        "**План решения задачи:**\n",
        "1. Изучение данных.\n",
        "2. Деление на обучающую и тренировочную выборки. Выделение целевого атрибута.\n",
        "3. Попробывать провести Feature engineering, с целью создание дополнительных признаков.\n",
        "4. Обучение нескольких моделей.\n",
        "5. Выбор лучшей модели (MAE не более 7.6, но лучше ниже 6). Определение наиболее важных признаков.\n",
        "5. Выводы ко всем разделам, описание выполняемых шагов."
      ]
    },
    {
      "cell_type": "markdown",
      "metadata": {
        "id": "BdF3NgwyGMhk"
      },
      "source": [
        "## Изучение данных и исследовательский анализ данных"
      ]
    },
    {
      "cell_type": "markdown",
      "metadata": {
        "id": "moszTXfbnXJp"
      },
      "source": [
        "Прочитаем все данные:"
      ]
    },
    {
      "cell_type": "code",
      "execution_count": null,
      "metadata": {
        "id": "jqCxcB1qnZPM"
      },
      "outputs": [],
      "source": [
        "df_arc = pd.read_csv('/datasets/final_steel/data_arc.csv')\n",
        "df_bulk = pd.read_csv('/datasets/final_steel/data_bulk.csv')\n",
        "df_bulk_time = pd.read_csv('/datasets/final_steel/data_bulk_time.csv')\n",
        "df_wire = pd.read_csv('/datasets/final_steel/data_wire.csv')\n",
        "df_wire_time = pd.read_csv('/datasets/final_steel/data_wire_time.csv')\n",
        "df_gas = pd.read_csv('/datasets/final_steel/data_gas.csv')\n",
        "df_temp = pd.read_csv('/datasets/final_steel/data_temp.csv')"
      ]
    },
    {
      "cell_type": "markdown",
      "metadata": {
        "id": "MwUsEzo-H7by"
      },
      "source": [
        "### Данные об электродах"
      ]
    },
    {
      "cell_type": "markdown",
      "metadata": {
        "id": "gk3u9LWgiLiE"
      },
      "source": [
        "#### Изучение данных"
      ]
    },
    {
      "cell_type": "markdown",
      "metadata": {
        "id": "D7Oj6cqRQo9J"
      },
      "source": [
        "Выведем общие данные о электродах:"
      ]
    },
    {
      "cell_type": "code",
      "execution_count": null,
      "metadata": {
        "colab": {
          "base_uri": "https://localhost:8080/",
          "height": 206
        },
        "id": "qMarDBYhI665",
        "outputId": "66c30789-7555-4b94-b180-143597f08538"
      },
      "outputs": [
        {
          "data": {
            "text/html": [
              "<div>\n",
              "<style scoped>\n",
              "    .dataframe tbody tr th:only-of-type {\n",
              "        vertical-align: middle;\n",
              "    }\n",
              "\n",
              "    .dataframe tbody tr th {\n",
              "        vertical-align: top;\n",
              "    }\n",
              "\n",
              "    .dataframe thead th {\n",
              "        text-align: right;\n",
              "    }\n",
              "</style>\n",
              "<table border=\"1\" class=\"dataframe\">\n",
              "  <thead>\n",
              "    <tr style=\"text-align: right;\">\n",
              "      <th></th>\n",
              "      <th>key</th>\n",
              "      <th>Начало нагрева дугой</th>\n",
              "      <th>Конец нагрева дугой</th>\n",
              "      <th>Активная мощность</th>\n",
              "      <th>Реактивная мощность</th>\n",
              "    </tr>\n",
              "  </thead>\n",
              "  <tbody>\n",
              "    <tr>\n",
              "      <th>0</th>\n",
              "      <td>1</td>\n",
              "      <td>2019-05-03 11:02:14</td>\n",
              "      <td>2019-05-03 11:06:02</td>\n",
              "      <td>0.976059</td>\n",
              "      <td>0.687084</td>\n",
              "    </tr>\n",
              "    <tr>\n",
              "      <th>1</th>\n",
              "      <td>1</td>\n",
              "      <td>2019-05-03 11:07:28</td>\n",
              "      <td>2019-05-03 11:10:33</td>\n",
              "      <td>0.805607</td>\n",
              "      <td>0.520285</td>\n",
              "    </tr>\n",
              "    <tr>\n",
              "      <th>2</th>\n",
              "      <td>1</td>\n",
              "      <td>2019-05-03 11:11:44</td>\n",
              "      <td>2019-05-03 11:14:36</td>\n",
              "      <td>0.744363</td>\n",
              "      <td>0.498805</td>\n",
              "    </tr>\n",
              "    <tr>\n",
              "      <th>3</th>\n",
              "      <td>1</td>\n",
              "      <td>2019-05-03 11:18:14</td>\n",
              "      <td>2019-05-03 11:24:19</td>\n",
              "      <td>1.659363</td>\n",
              "      <td>1.062669</td>\n",
              "    </tr>\n",
              "    <tr>\n",
              "      <th>4</th>\n",
              "      <td>1</td>\n",
              "      <td>2019-05-03 11:26:09</td>\n",
              "      <td>2019-05-03 11:28:37</td>\n",
              "      <td>0.692755</td>\n",
              "      <td>0.414397</td>\n",
              "    </tr>\n",
              "  </tbody>\n",
              "</table>\n",
              "</div>"
            ],
            "text/plain": [
              "   key Начало нагрева дугой  Конец нагрева дугой  Активная мощность  \\\n",
              "0    1  2019-05-03 11:02:14  2019-05-03 11:06:02           0.976059   \n",
              "1    1  2019-05-03 11:07:28  2019-05-03 11:10:33           0.805607   \n",
              "2    1  2019-05-03 11:11:44  2019-05-03 11:14:36           0.744363   \n",
              "3    1  2019-05-03 11:18:14  2019-05-03 11:24:19           1.659363   \n",
              "4    1  2019-05-03 11:26:09  2019-05-03 11:28:37           0.692755   \n",
              "\n",
              "   Реактивная мощность  \n",
              "0             0.687084  \n",
              "1             0.520285  \n",
              "2             0.498805  \n",
              "3             1.062669  \n",
              "4             0.414397  "
            ]
          },
          "execution_count": 4,
          "metadata": {},
          "output_type": "execute_result"
        }
      ],
      "source": [
        "df_arc.head()"
      ]
    },
    {
      "cell_type": "code",
      "execution_count": null,
      "metadata": {
        "colab": {
          "base_uri": "https://localhost:8080/"
        },
        "id": "HZKrTX1EFmMO",
        "outputId": "80bf4922-2d2e-4908-fce3-47e75116b42e"
      },
      "outputs": [
        {
          "name": "stdout",
          "output_type": "stream",
          "text": [
            "<class 'pandas.core.frame.DataFrame'>\n",
            "RangeIndex: 14876 entries, 0 to 14875\n",
            "Data columns (total 5 columns):\n",
            " #   Column                Non-Null Count  Dtype  \n",
            "---  ------                --------------  -----  \n",
            " 0   key                   14876 non-null  int64  \n",
            " 1   Начало нагрева дугой  14876 non-null  object \n",
            " 2   Конец нагрева дугой   14876 non-null  object \n",
            " 3   Активная мощность     14876 non-null  float64\n",
            " 4   Реактивная мощность   14876 non-null  float64\n",
            "dtypes: float64(2), int64(1), object(2)\n",
            "memory usage: 581.2+ KB\n"
          ]
        }
      ],
      "source": [
        "df_arc.info()"
      ]
    },
    {
      "cell_type": "code",
      "execution_count": null,
      "metadata": {
        "colab": {
          "base_uri": "https://localhost:8080/",
          "height": 300
        },
        "id": "Dz5M0LjdP8oy",
        "outputId": "c96992ea-da00-43d0-abbe-c1bdbaac2228"
      },
      "outputs": [
        {
          "data": {
            "text/html": [
              "<div>\n",
              "<style scoped>\n",
              "    .dataframe tbody tr th:only-of-type {\n",
              "        vertical-align: middle;\n",
              "    }\n",
              "\n",
              "    .dataframe tbody tr th {\n",
              "        vertical-align: top;\n",
              "    }\n",
              "\n",
              "    .dataframe thead th {\n",
              "        text-align: right;\n",
              "    }\n",
              "</style>\n",
              "<table border=\"1\" class=\"dataframe\">\n",
              "  <thead>\n",
              "    <tr style=\"text-align: right;\">\n",
              "      <th></th>\n",
              "      <th>key</th>\n",
              "      <th>Активная мощность</th>\n",
              "      <th>Реактивная мощность</th>\n",
              "    </tr>\n",
              "  </thead>\n",
              "  <tbody>\n",
              "    <tr>\n",
              "      <th>count</th>\n",
              "      <td>14876.000000</td>\n",
              "      <td>14876.000000</td>\n",
              "      <td>14876.000000</td>\n",
              "    </tr>\n",
              "    <tr>\n",
              "      <th>mean</th>\n",
              "      <td>1615.220422</td>\n",
              "      <td>0.670441</td>\n",
              "      <td>0.452592</td>\n",
              "    </tr>\n",
              "    <tr>\n",
              "      <th>std</th>\n",
              "      <td>934.571502</td>\n",
              "      <td>0.408159</td>\n",
              "      <td>5.878702</td>\n",
              "    </tr>\n",
              "    <tr>\n",
              "      <th>min</th>\n",
              "      <td>1.000000</td>\n",
              "      <td>0.030002</td>\n",
              "      <td>-715.504924</td>\n",
              "    </tr>\n",
              "    <tr>\n",
              "      <th>25%</th>\n",
              "      <td>806.000000</td>\n",
              "      <td>0.395297</td>\n",
              "      <td>0.290991</td>\n",
              "    </tr>\n",
              "    <tr>\n",
              "      <th>50%</th>\n",
              "      <td>1617.000000</td>\n",
              "      <td>0.555517</td>\n",
              "      <td>0.415962</td>\n",
              "    </tr>\n",
              "    <tr>\n",
              "      <th>75%</th>\n",
              "      <td>2429.000000</td>\n",
              "      <td>0.857034</td>\n",
              "      <td>0.637371</td>\n",
              "    </tr>\n",
              "    <tr>\n",
              "      <th>max</th>\n",
              "      <td>3241.000000</td>\n",
              "      <td>3.731596</td>\n",
              "      <td>2.676388</td>\n",
              "    </tr>\n",
              "  </tbody>\n",
              "</table>\n",
              "</div>"
            ],
            "text/plain": [
              "                key  Активная мощность  Реактивная мощность\n",
              "count  14876.000000       14876.000000         14876.000000\n",
              "mean    1615.220422           0.670441             0.452592\n",
              "std      934.571502           0.408159             5.878702\n",
              "min        1.000000           0.030002          -715.504924\n",
              "25%      806.000000           0.395297             0.290991\n",
              "50%     1617.000000           0.555517             0.415962\n",
              "75%     2429.000000           0.857034             0.637371\n",
              "max     3241.000000           3.731596             2.676388"
            ]
          },
          "execution_count": 6,
          "metadata": {},
          "output_type": "execute_result"
        }
      ],
      "source": [
        "df_arc.describe()"
      ]
    },
    {
      "cell_type": "markdown",
      "metadata": {
        "id": "ZKRwgZ0ciLiG"
      },
      "source": [
        "#### Начальная обработка данных"
      ]
    },
    {
      "cell_type": "markdown",
      "metadata": {
        "id": "8qn6wseHQtTI"
      },
      "source": [
        "Приведем к нужным типам атрибуты:"
      ]
    },
    {
      "cell_type": "code",
      "execution_count": null,
      "metadata": {
        "id": "oSjM5kZF4LL7"
      },
      "outputs": [],
      "source": [
        "df_arc.columns = ['key', 'start_of_arc_heating', 'end_of_arc_heating',\n",
        "       'active_power', 'reactive_power']"
      ]
    },
    {
      "cell_type": "code",
      "execution_count": null,
      "metadata": {
        "id": "FaA4VydMKGix"
      },
      "outputs": [],
      "source": [
        "df_arc['start_of_arc_heating'] = pd.to_datetime(df_arc['start_of_arc_heating'], format='%Y-%m-%d  %H:%M:%S')\n",
        "df_arc['end_of_arc_heating'] = pd.to_datetime(df_arc['end_of_arc_heating'], format='%Y-%m-%d  %H:%M:%S')"
      ]
    },
    {
      "cell_type": "markdown",
      "metadata": {
        "id": "3QDntCNRiLiH"
      },
      "source": [
        "Посмотрим максимальное и минимальное время начала и окончания нагрева электрода:"
      ]
    },
    {
      "cell_type": "code",
      "execution_count": null,
      "metadata": {
        "colab": {
          "base_uri": "https://localhost:8080/"
        },
        "id": "DC9KjpfIZATw",
        "outputId": "6c8845bc-283f-4d09-adf8-e1a39ee7a08d"
      },
      "outputs": [
        {
          "data": {
            "text/plain": [
              "(Timestamp('2019-05-03 11:02:14'), Timestamp('2019-09-01 04:34:47'))"
            ]
          },
          "execution_count": 9,
          "metadata": {},
          "output_type": "execute_result"
        }
      ],
      "source": [
        "df_arc['start_of_arc_heating'].min(), df_arc['start_of_arc_heating'].max()"
      ]
    },
    {
      "cell_type": "code",
      "execution_count": null,
      "metadata": {
        "colab": {
          "base_uri": "https://localhost:8080/"
        },
        "id": "AgYHe7lEZQ_o",
        "outputId": "9e031389-11a6-4e40-b1b3-2d7349e10e28"
      },
      "outputs": [
        {
          "data": {
            "text/plain": [
              "Timedelta('120 days 17:32:33')"
            ]
          },
          "execution_count": 10,
          "metadata": {},
          "output_type": "execute_result"
        }
      ],
      "source": [
        "df_arc['start_of_arc_heating'].max() - df_arc['start_of_arc_heating'].min()"
      ]
    },
    {
      "cell_type": "code",
      "execution_count": null,
      "metadata": {
        "colab": {
          "base_uri": "https://localhost:8080/"
        },
        "id": "YT9NarwUZANx",
        "outputId": "7e4943cc-6505-45e6-841b-7ec7bd513793"
      },
      "outputs": [
        {
          "data": {
            "text/plain": [
              "(Timestamp('2019-05-03 11:06:02'), Timestamp('2019-09-01 04:36:08'))"
            ]
          },
          "execution_count": 11,
          "metadata": {},
          "output_type": "execute_result"
        }
      ],
      "source": [
        "df_arc['end_of_arc_heating'].min(), df_arc['end_of_arc_heating'].max()"
      ]
    },
    {
      "cell_type": "code",
      "execution_count": null,
      "metadata": {
        "colab": {
          "base_uri": "https://localhost:8080/"
        },
        "id": "TjzQDCpBZWe5",
        "outputId": "7e022fa2-fbf2-4459-bf2c-410e676ae535"
      },
      "outputs": [
        {
          "data": {
            "text/plain": [
              "Timedelta('120 days 17:30:06')"
            ]
          },
          "execution_count": 12,
          "metadata": {},
          "output_type": "execute_result"
        }
      ],
      "source": [
        "df_arc['end_of_arc_heating'].max() - df_arc['end_of_arc_heating'].min()"
      ]
    },
    {
      "cell_type": "markdown",
      "metadata": {
        "id": "j76ngukmiLiI"
      },
      "source": [
        "Переведем время продолжительности нагрева в секунды:"
      ]
    },
    {
      "cell_type": "code",
      "execution_count": null,
      "metadata": {
        "id": "K6ec6vTbTRn2"
      },
      "outputs": [],
      "source": [
        "df_arc['heating_duration'] = (df_arc['end_of_arc_heating'] - df_arc['start_of_arc_heating']).dt.seconds"
      ]
    },
    {
      "cell_type": "markdown",
      "metadata": {
        "id": "4tIscNtuGQca"
      },
      "source": [
        "Провериим партии, действительно ли во всех партиях использовали электроды:"
      ]
    },
    {
      "cell_type": "code",
      "execution_count": null,
      "metadata": {
        "colab": {
          "base_uri": "https://localhost:8080/"
        },
        "id": "mw0pmzKOKuAB",
        "outputId": "807f08a5-104d-4eea-e364-5054b74e191e"
      },
      "outputs": [
        {
          "data": {
            "text/plain": [
              "3214"
            ]
          },
          "execution_count": 14,
          "metadata": {},
          "output_type": "execute_result"
        }
      ],
      "source": [
        "len(df_arc['key'].unique())"
      ]
    },
    {
      "cell_type": "code",
      "execution_count": null,
      "metadata": {
        "colab": {
          "base_uri": "https://localhost:8080/"
        },
        "id": "zMqIrae0G2nn",
        "outputId": "9559fae5-9116-40ca-d005-2c3deece458e"
      },
      "outputs": [
        {
          "data": {
            "text/plain": [
              "27"
            ]
          },
          "execution_count": 15,
          "metadata": {},
          "output_type": "execute_result"
        }
      ],
      "source": [
        "len(set(range(1, 3242)) - set(df_arc['key']))"
      ]
    },
    {
      "cell_type": "markdown",
      "metadata": {
        "id": "NSP2tu2liLiK"
      },
      "source": [
        "#### Анализ данных"
      ]
    },
    {
      "cell_type": "markdown",
      "metadata": {
        "id": "VgwE9bB_iLiK"
      },
      "source": [
        "Посмотрим на распределение признаков"
      ]
    },
    {
      "cell_type": "code",
      "execution_count": null,
      "metadata": {
        "colab": {
          "base_uri": "https://localhost:8080/",
          "height": 295
        },
        "id": "wte_OXMoTm3-",
        "outputId": "32848d53-6db7-4245-fb8c-eb8d7818bdfe",
        "scrolled": true
      },
      "outputs": [
        {
          "data": {
            "image/png": "[encoded data removed]",
            "text/plain": [
              "<Figure size 1008x288 with 1 Axes>"
            ]
          },
          "metadata": {
            "needs_background": "light"
          },
          "output_type": "display_data"
        }
      ],
      "source": [
        "plt.figure(figsize=(14, 4))\n",
        "sns.histplot(data=df_arc, x=\"heating_duration\", kde=True, bins=37)\n",
        "plt.title('Распределение времени нагрева')\n",
        "plt.ylabel('Количество')\n",
        "plt.xlabel('Время нагрева')\n",
        "plt.grid(color='grey', axis='both', alpha=0.5)\n",
        "plt.xticks(np.arange(0, 900, 100))\n",
        "plt.yticks(np.arange(0, 2800, 200))\n",
        "plt.show()"
      ]
    },
    {
      "cell_type": "code",
      "execution_count": null,
      "metadata": {
        "colab": {
          "base_uri": "https://localhost:8080/",
          "height": 187
        },
        "id": "rz1rWEkmnKio",
        "outputId": "3c4f3c9a-b9e4-479c-fedf-179de7e536cd",
        "scrolled": true
      },
      "outputs": [
        {
          "data": {
            "image/png": "[encoded data removed]",
            "text/plain": [
              "<Figure size 1440x144 with 1 Axes>"
            ]
          },
          "metadata": {
            "needs_background": "light"
          },
          "output_type": "display_data"
        }
      ],
      "source": [
        "plt.rcParams['figure.figsize']=(20, 2)\n",
        "sns.boxplot(x=df_arc['heating_duration'])\n",
        "plt.title('Диаграмма размаха времени нагрева электрода')\n",
        "plt.xlabel('Время')\n",
        "plt.grid(color='grey', axis='both', alpha=.8)\n",
        "plt.xticks(np.arange(0, 900, 100))\n",
        "plt.show()"
      ]
    },
    {
      "cell_type": "markdown",
      "metadata": {
        "id": "hhtbQ5CJiLiM"
      },
      "source": [
        "Посольку нам требуется сформировать агрегированную таблицу, нужно убрать значения откровенно, которые являются выбрасами, что мы и сделаем по 95 перцентилю"
      ]
    },
    {
      "cell_type": "code",
      "execution_count": null,
      "metadata": {
        "id": "pczgzjQznKio"
      },
      "outputs": [],
      "source": [
        "df_arc =  df_arc[df_arc['heating_duration'] <=\n",
        "                 np.around(np.percentile(df_arc['heating_duration'], 95))]"
      ]
    },
    {
      "cell_type": "markdown",
      "metadata": {
        "id": "G6aBj-riiLiN"
      },
      "source": [
        "Посмотрим на распределение активной мощности:"
      ]
    },
    {
      "cell_type": "code",
      "execution_count": null,
      "metadata": {
        "colab": {
          "base_uri": "https://localhost:8080/",
          "height": 295
        },
        "id": "9aFhvb0dKGbk",
        "outputId": "14b22819-3d4f-4a14-b39b-8db5f6a6995d",
        "scrolled": true
      },
      "outputs": [
        {
          "data": {
            "image/png": "[encoded data removed]",
            "text/plain": [
              "<Figure size 1008x288 with 1 Axes>"
            ]
          },
          "metadata": {
            "needs_background": "light"
          },
          "output_type": "display_data"
        }
      ],
      "source": [
        "plt.figure(figsize=(14, 4))\n",
        "sns.histplot(data=df_arc, x=\"active_power\", kde=True, bins=37)\n",
        "plt.title('Распределение активной мощности')\n",
        "plt.ylabel('Количество')\n",
        "plt.xlabel('кВт')\n",
        "plt.grid(color='grey', axis='both', alpha=0.5)\n",
        "plt.xticks(np.arange(0, 2.1, 0.1))\n",
        "plt.yticks(np.arange(0, 1200, 100))\n",
        "plt.show()"
      ]
    },
    {
      "cell_type": "code",
      "execution_count": null,
      "metadata": {
        "colab": {
          "base_uri": "https://localhost:8080/",
          "height": 187
        },
        "id": "PU9OE40vnKio",
        "outputId": "b3af6f1f-2b17-4ba0-b053-c25a080c2aab",
        "scrolled": true
      },
      "outputs": [
        {
          "data": {
            "image/png": "[encoded data removed]",
            "text/plain": [
              "<Figure size 1440x144 with 1 Axes>"
            ]
          },
          "metadata": {
            "needs_background": "light"
          },
          "output_type": "display_data"
        }
      ],
      "source": [
        "plt.rcParams['figure.figsize']=(20, 2)\n",
        "sns.boxplot(x=df_arc['active_power'])\n",
        "plt.title('Диаграмма размаха активной мощности')\n",
        "plt.xlabel('Мощность')\n",
        "plt.grid(color='grey', axis='both', alpha=.8)\n",
        "plt.xticks(np.arange(0, 2.1, 0.1))\n",
        "plt.show()"
      ]
    },
    {
      "cell_type": "markdown",
      "metadata": {
        "id": "LgmG0IrriLiO"
      },
      "source": [
        "Также, уберем данные после 95 перцентиля:"
      ]
    },
    {
      "cell_type": "code",
      "execution_count": null,
      "metadata": {
        "id": "x5WVJ8lHnKio"
      },
      "outputs": [],
      "source": [
        "df_arc =  df_arc[df_arc['active_power'] <= np.around(np.percentile(df_arc['active_power'], 95))]"
      ]
    },
    {
      "cell_type": "markdown",
      "metadata": {
        "id": "UbZuU42eiLiO"
      },
      "source": [
        "Выведем граифк реактивной мощности:"
      ]
    },
    {
      "cell_type": "code",
      "execution_count": null,
      "metadata": {
        "colab": {
          "base_uri": "https://localhost:8080/",
          "height": 295
        },
        "id": "WR7WvR0nKGTb",
        "outputId": "3461e47a-af32-4898-c1bc-1fce9d7a8223"
      },
      "outputs": [
        {
          "data": {
            "image/png": "[encoded data removed]",
            "text/plain": [
              "<Figure size 1008x288 with 1 Axes>"
            ]
          },
          "metadata": {
            "needs_background": "light"
          },
          "output_type": "display_data"
        }
      ],
      "source": [
        "plt.figure(figsize=(14, 4))\n",
        "sns.histplot(data=df_arc, x=\"reactive_power\", kde=True, bins=35)\n",
        "plt.title('Распределение реактивной мощности')\n",
        "plt.ylabel('Количество')\n",
        "plt.xlabel('Мощность')\n",
        "plt.grid(color='grey', axis='both', alpha=0.5)\n",
        "plt.show()"
      ]
    },
    {
      "cell_type": "markdown",
      "metadata": {
        "id": "evyDocTdiLiP"
      },
      "source": [
        "Явно, виден выброс:"
      ]
    },
    {
      "cell_type": "code",
      "execution_count": null,
      "metadata": {
        "colab": {
          "base_uri": "https://localhost:8080/"
        },
        "id": "o3zLBhVVKGMT",
        "outputId": "9d42fa0a-2e4a-4d06-cc31-a6ccad6396f5"
      },
      "outputs": [
        {
          "data": {
            "text/plain": [
              "9780   -715.504924\n",
              "5596      0.020806\n",
              "2419      0.021154\n",
              "4914      0.022485\n",
              "Name: reactive_power, dtype: float64"
            ]
          },
          "execution_count": 23,
          "metadata": {},
          "output_type": "execute_result"
        }
      ],
      "source": [
        "df_arc['reactive_power'].sort_values().head(4)"
      ]
    },
    {
      "cell_type": "markdown",
      "metadata": {
        "id": "xoyyiAO4iLiP"
      },
      "source": [
        "Посмотрим на это значение:"
      ]
    },
    {
      "cell_type": "code",
      "execution_count": null,
      "metadata": {
        "colab": {
          "base_uri": "https://localhost:8080/",
          "height": 81
        },
        "id": "wujaR5jgQzIi",
        "outputId": "4d182516-4f50-4b6d-99f3-9590d955fa43",
        "scrolled": true
      },
      "outputs": [
        {
          "data": {
            "text/html": [
              "<div>\n",
              "<style scoped>\n",
              "    .dataframe tbody tr th:only-of-type {\n",
              "        vertical-align: middle;\n",
              "    }\n",
              "\n",
              "    .dataframe tbody tr th {\n",
              "        vertical-align: top;\n",
              "    }\n",
              "\n",
              "    .dataframe thead th {\n",
              "        text-align: right;\n",
              "    }\n",
              "</style>\n",
              "<table border=\"1\" class=\"dataframe\">\n",
              "  <thead>\n",
              "    <tr style=\"text-align: right;\">\n",
              "      <th></th>\n",
              "      <th>key</th>\n",
              "      <th>start_of_arc_heating</th>\n",
              "      <th>end_of_arc_heating</th>\n",
              "      <th>active_power</th>\n",
              "      <th>reactive_power</th>\n",
              "      <th>heating_duration</th>\n",
              "    </tr>\n",
              "  </thead>\n",
              "  <tbody>\n",
              "    <tr>\n",
              "      <th>9780</th>\n",
              "      <td>2116</td>\n",
              "      <td>2019-07-24 00:44:48</td>\n",
              "      <td>2019-07-24 00:46:37</td>\n",
              "      <td>0.495782</td>\n",
              "      <td>-715.504924</td>\n",
              "      <td>109</td>\n",
              "    </tr>\n",
              "  </tbody>\n",
              "</table>\n",
              "</div>"
            ],
            "text/plain": [
              "       key start_of_arc_heating  end_of_arc_heating  active_power  \\\n",
              "9780  2116  2019-07-24 00:44:48 2019-07-24 00:46:37      0.495782   \n",
              "\n",
              "      reactive_power  heating_duration  \n",
              "9780     -715.504924               109  "
            ]
          },
          "execution_count": 24,
          "metadata": {},
          "output_type": "execute_result"
        }
      ],
      "source": [
        "df_arc[df_arc['reactive_power'] == min(df_arc['reactive_power'])]"
      ]
    },
    {
      "cell_type": "markdown",
      "metadata": {
        "id": "qMCuhq_3iLiQ"
      },
      "source": [
        "Заменим его на медианное значение (замена на медиану оправдана тем, что мы не избавимся от значения активной мощности, а также времени нагрева, и в тоже время минимально повлияем на распределение данных)"
      ]
    },
    {
      "cell_type": "code",
      "execution_count": null,
      "metadata": {
        "id": "kyAbWotJQzG5"
      },
      "outputs": [],
      "source": [
        "df_arc['reactive_power'] = df_arc['reactive_power'].replace(\n",
        "    min(df_arc['reactive_power']), df_arc['reactive_power'].median())"
      ]
    },
    {
      "cell_type": "markdown",
      "metadata": {
        "id": "1F1GbRw6iLiQ"
      },
      "source": [
        "Посмотрим, какое распределение у нас получсилось для реактивной мощности:"
      ]
    },
    {
      "cell_type": "code",
      "execution_count": null,
      "metadata": {
        "colab": {
          "base_uri": "https://localhost:8080/",
          "height": 295
        },
        "id": "28zZ0HEWQzFE",
        "outputId": "ffddb43e-63d6-4614-84b8-0d09555bd74f",
        "scrolled": true
      },
      "outputs": [
        {
          "data": {
            "image/png": "[encoded data removed]",
            "text/plain": [
              "<Figure size 1008x288 with 1 Axes>"
            ]
          },
          "metadata": {
            "needs_background": "light"
          },
          "output_type": "display_data"
        }
      ],
      "source": [
        "plt.figure(figsize=(14, 4))\n",
        "sns.histplot(data=df_arc, x=\"reactive_power\", kde=True, bins=35)\n",
        "plt.title('Распределение реактивной мощности')\n",
        "plt.ylabel('Количество')\n",
        "plt.xlabel('Мощность')\n",
        "plt.grid(color='grey', axis='both', alpha=0.5)\n",
        "plt.show()"
      ]
    },
    {
      "cell_type": "code",
      "execution_count": null,
      "metadata": {
        "colab": {
          "base_uri": "https://localhost:8080/",
          "height": 187
        },
        "id": "Pc-UoQ62nKip",
        "outputId": "f59dfd26-10e0-49b3-aac0-c5b3900936bf",
        "scrolled": false
      },
      "outputs": [
        {
          "data": {
            "image/png": "[encoded data removed]",
            "text/plain": [
              "<Figure size 1440x144 with 1 Axes>"
            ]
          },
          "metadata": {
            "needs_background": "light"
          },
          "output_type": "display_data"
        }
      ],
      "source": [
        "plt.rcParams['figure.figsize']=(20, 2)\n",
        "sns.boxplot(x=df_arc['reactive_power'])\n",
        "plt.title('Диаграмма реактивной мощности')\n",
        "plt.xlabel('Мощность')\n",
        "plt.grid(color='grey', axis='both', alpha=.8)\n",
        "plt.show()"
      ]
    },
    {
      "cell_type": "markdown",
      "metadata": {
        "id": "t_tgtzTLiLiR"
      },
      "source": [
        "Также, с целью формирование итоговой агрегированной таблицы по электродам, удалим все выбросы по 95 перцентилю:"
      ]
    },
    {
      "cell_type": "code",
      "execution_count": null,
      "metadata": {
        "id": "_vLP0i5tnKiq"
      },
      "outputs": [],
      "source": [
        "df_arc =  df_arc[df_arc['reactive_power'] <= np.around(np.percentile(df_arc['reactive_power'], 95))]"
      ]
    },
    {
      "cell_type": "markdown",
      "metadata": {
        "id": "brMMrUIwiLiS"
      },
      "source": [
        "#### Агрегирование данных"
      ]
    },
    {
      "cell_type": "markdown",
      "metadata": {
        "id": "xEudB6WKQzDP"
      },
      "source": [
        "Рассчитаем полную мощность [Ссылка](https://m-strana.ru/articles/aktivnaya-i-reaktivnaya-moshchnost/)"
      ]
    },
    {
      "cell_type": "code",
      "execution_count": null,
      "metadata": {
        "id": "s7DIuyAtQzA6"
      },
      "outputs": [],
      "source": [
        "df_arc['full_power'] = np.sqrt(df_arc['active_power']**2 + df_arc['reactive_power']**2)"
      ]
    },
    {
      "cell_type": "markdown",
      "metadata": {
        "id": "wIVUZjS6-vFp"
      },
      "source": [
        "Рассчитем энергию [Ссылка](https://electric-220.ru/news/moshhnost_p_vremja_t_ehnergija_w/2017-05-28-1278)"
      ]
    },
    {
      "cell_type": "code",
      "execution_count": null,
      "metadata": {
        "id": "D7va1l_IQy9E"
      },
      "outputs": [],
      "source": [
        "df_arc['energy'] = df_arc['full_power'] * df_arc['heating_duration']"
      ]
    },
    {
      "cell_type": "code",
      "execution_count": null,
      "metadata": {
        "id": "-aHSD3jbWn2s"
      },
      "outputs": [],
      "source": [
        "df_arc_group = df_arc.groupby('key')[\n",
        "    ['active_power', 'reactive_power', 'heating_duration', 'full_power', 'energy']].sum().reset_index()"
      ]
    },
    {
      "cell_type": "code",
      "execution_count": null,
      "metadata": {
        "colab": {
          "base_uri": "https://localhost:8080/",
          "height": 237
        },
        "id": "Yk2lW9q5EPk1",
        "outputId": "028505b8-8123-405c-eebe-7b6dc9ab0299"
      },
      "outputs": [
        {
          "data": {
            "text/html": [
              "<style  type=\"text/css\" >\n",
              "#T_6dda1_row0_col0,#T_6dda1_row1_col1,#T_6dda1_row2_col2,#T_6dda1_row3_col3,#T_6dda1_row4_col4,#T_6dda1_row5_col5{\n",
              "            background-color:  #b40426;\n",
              "            color:  #f1f1f1;\n",
              "        }#T_6dda1_row0_col1,#T_6dda1_row0_col2,#T_6dda1_row0_col3,#T_6dda1_row0_col4,#T_6dda1_row0_col5,#T_6dda1_row1_col0{\n",
              "            background-color:  #3b4cc0;\n",
              "            color:  #f1f1f1;\n",
              "        }#T_6dda1_row1_col2,#T_6dda1_row2_col1{\n",
              "            background-color:  #c32e31;\n",
              "            color:  #f1f1f1;\n",
              "        }#T_6dda1_row1_col3,#T_6dda1_row3_col1{\n",
              "            background-color:  #bd1f2d;\n",
              "            color:  #f1f1f1;\n",
              "        }#T_6dda1_row1_col4,#T_6dda1_row4_col1{\n",
              "            background-color:  #b50927;\n",
              "            color:  #f1f1f1;\n",
              "        }#T_6dda1_row1_col5,#T_6dda1_row2_col5,#T_6dda1_row3_col5,#T_6dda1_row5_col1,#T_6dda1_row5_col3{\n",
              "            background-color:  #ca3b37;\n",
              "            color:  #f1f1f1;\n",
              "        }#T_6dda1_row2_col0{\n",
              "            background-color:  #4257c9;\n",
              "            color:  #f1f1f1;\n",
              "        }#T_6dda1_row2_col3,#T_6dda1_row3_col2{\n",
              "            background-color:  #c12b30;\n",
              "            color:  #f1f1f1;\n",
              "        }#T_6dda1_row2_col4,#T_6dda1_row4_col2{\n",
              "            background-color:  #b8122a;\n",
              "            color:  #f1f1f1;\n",
              "        }#T_6dda1_row3_col0{\n",
              "            background-color:  #3c4ec2;\n",
              "            color:  #f1f1f1;\n",
              "        }#T_6dda1_row3_col4,#T_6dda1_row4_col3{\n",
              "            background-color:  #ba162b;\n",
              "            color:  #f1f1f1;\n",
              "        }#T_6dda1_row4_col0{\n",
              "            background-color:  #3d50c3;\n",
              "            color:  #f1f1f1;\n",
              "        }#T_6dda1_row4_col5,#T_6dda1_row5_col4{\n",
              "            background-color:  #c73635;\n",
              "            color:  #f1f1f1;\n",
              "        }#T_6dda1_row5_col0{\n",
              "            background-color:  #3e51c5;\n",
              "            color:  #f1f1f1;\n",
              "        }#T_6dda1_row5_col2{\n",
              "            background-color:  #cb3e38;\n",
              "            color:  #f1f1f1;\n",
              "        }</style><table id=\"T_6dda1_\" ><thead>    <tr>        <th class=\"blank level0\" ></th>        <th class=\"col_heading level0 col0\" >key</th>        <th class=\"col_heading level0 col1\" >active_power</th>        <th class=\"col_heading level0 col2\" >reactive_power</th>        <th class=\"col_heading level0 col3\" >heating_duration</th>        <th class=\"col_heading level0 col4\" >full_power</th>        <th class=\"col_heading level0 col5\" >energy</th>    </tr></thead><tbody>\n",
              "                <tr>\n",
              "                        <th id=\"T_6dda1_level0_row0\" class=\"row_heading level0 row0\" >key</th>\n",
              "                        <td id=\"T_6dda1_row0_col0\" class=\"data row0 col0\" >1.000000</td>\n",
              "                        <td id=\"T_6dda1_row0_col1\" class=\"data row0 col1\" >-0.003679</td>\n",
              "                        <td id=\"T_6dda1_row0_col2\" class=\"data row0 col2\" >0.023556</td>\n",
              "                        <td id=\"T_6dda1_row0_col3\" class=\"data row0 col3\" >0.000360</td>\n",
              "                        <td id=\"T_6dda1_row0_col4\" class=\"data row0 col4\" >0.007340</td>\n",
              "                        <td id=\"T_6dda1_row0_col5\" class=\"data row0 col5\" >0.008573</td>\n",
              "            </tr>\n",
              "            <tr>\n",
              "                        <th id=\"T_6dda1_level0_row1\" class=\"row_heading level0 row1\" >active_power</th>\n",
              "                        <td id=\"T_6dda1_row1_col0\" class=\"data row1 col0\" >-0.003679</td>\n",
              "                        <td id=\"T_6dda1_row1_col1\" class=\"data row1 col1\" >1.000000</td>\n",
              "                        <td id=\"T_6dda1_row1_col2\" class=\"data row1 col2\" >0.959136</td>\n",
              "                        <td id=\"T_6dda1_row1_col3\" class=\"data row1 col3\" >0.976443</td>\n",
              "                        <td id=\"T_6dda1_row1_col4\" class=\"data row1 col4\" >0.993527</td>\n",
              "                        <td id=\"T_6dda1_row1_col5\" class=\"data row1 col5\" >0.939379</td>\n",
              "            </tr>\n",
              "            <tr>\n",
              "                        <th id=\"T_6dda1_level0_row2\" class=\"row_heading level0 row2\" >reactive_power</th>\n",
              "                        <td id=\"T_6dda1_row2_col0\" class=\"data row2 col0\" >0.023556</td>\n",
              "                        <td id=\"T_6dda1_row2_col1\" class=\"data row2 col1\" >0.959136</td>\n",
              "                        <td id=\"T_6dda1_row2_col2\" class=\"data row2 col2\" >1.000000</td>\n",
              "                        <td id=\"T_6dda1_row2_col3\" class=\"data row2 col3\" >0.963479</td>\n",
              "                        <td id=\"T_6dda1_row2_col4\" class=\"data row2 col4\" >0.984959</td>\n",
              "                        <td id=\"T_6dda1_row2_col5\" class=\"data row2 col5\" >0.938801</td>\n",
              "            </tr>\n",
              "            <tr>\n",
              "                        <th id=\"T_6dda1_level0_row3\" class=\"row_heading level0 row3\" >heating_duration</th>\n",
              "                        <td id=\"T_6dda1_row3_col0\" class=\"data row3 col0\" >0.000360</td>\n",
              "                        <td id=\"T_6dda1_row3_col1\" class=\"data row3 col1\" >0.976443</td>\n",
              "                        <td id=\"T_6dda1_row3_col2\" class=\"data row3 col2\" >0.963479</td>\n",
              "                        <td id=\"T_6dda1_row3_col3\" class=\"data row3 col3\" >1.000000</td>\n",
              "                        <td id=\"T_6dda1_row3_col4\" class=\"data row3 col4\" >0.980819</td>\n",
              "                        <td id=\"T_6dda1_row3_col5\" class=\"data row3 col5\" >0.938427</td>\n",
              "            </tr>\n",
              "            <tr>\n",
              "                        <th id=\"T_6dda1_level0_row4\" class=\"row_heading level0 row4\" >full_power</th>\n",
              "                        <td id=\"T_6dda1_row4_col0\" class=\"data row4 col0\" >0.007340</td>\n",
              "                        <td id=\"T_6dda1_row4_col1\" class=\"data row4 col1\" >0.993527</td>\n",
              "                        <td id=\"T_6dda1_row4_col2\" class=\"data row4 col2\" >0.984959</td>\n",
              "                        <td id=\"T_6dda1_row4_col3\" class=\"data row4 col3\" >0.980819</td>\n",
              "                        <td id=\"T_6dda1_row4_col4\" class=\"data row4 col4\" >1.000000</td>\n",
              "                        <td id=\"T_6dda1_row4_col5\" class=\"data row4 col5\" >0.948172</td>\n",
              "            </tr>\n",
              "            <tr>\n",
              "                        <th id=\"T_6dda1_level0_row5\" class=\"row_heading level0 row5\" >energy</th>\n",
              "                        <td id=\"T_6dda1_row5_col0\" class=\"data row5 col0\" >0.008573</td>\n",
              "                        <td id=\"T_6dda1_row5_col1\" class=\"data row5 col1\" >0.939379</td>\n",
              "                        <td id=\"T_6dda1_row5_col2\" class=\"data row5 col2\" >0.938801</td>\n",
              "                        <td id=\"T_6dda1_row5_col3\" class=\"data row5 col3\" >0.938427</td>\n",
              "                        <td id=\"T_6dda1_row5_col4\" class=\"data row5 col4\" >0.948172</td>\n",
              "                        <td id=\"T_6dda1_row5_col5\" class=\"data row5 col5\" >1.000000</td>\n",
              "            </tr>\n",
              "    </tbody></table>"
            ],
            "text/plain": [
              "<pandas.io.formats.style.Styler at 0x7feb2e693910>"
            ]
          },
          "execution_count": 32,
          "metadata": {},
          "output_type": "execute_result"
        }
      ],
      "source": [
        "df_arc_group.corr().style.background_gradient(cmap='coolwarm')"
      ]
    },
    {
      "cell_type": "markdown",
      "metadata": {
        "id": "s2HD3hdsiLiT"
      },
      "source": [
        "Наблюдается мультиколлинеарность, оставим только номер партии и энергию:"
      ]
    },
    {
      "cell_type": "code",
      "execution_count": null,
      "metadata": {
        "id": "F8Uf1SovN4sg"
      },
      "outputs": [],
      "source": [
        "df_arc_group = df_arc_group[['key', 'full_power']]"
      ]
    },
    {
      "cell_type": "code",
      "execution_count": null,
      "metadata": {
        "colab": {
          "base_uri": "https://localhost:8080/",
          "height": 206
        },
        "id": "WNEhKDC3MQA0",
        "outputId": "10ed867f-cf38-45d6-d4ed-b40c03462cd9",
        "scrolled": true
      },
      "outputs": [
        {
          "data": {
            "text/html": [
              "<div>\n",
              "<style scoped>\n",
              "    .dataframe tbody tr th:only-of-type {\n",
              "        vertical-align: middle;\n",
              "    }\n",
              "\n",
              "    .dataframe tbody tr th {\n",
              "        vertical-align: top;\n",
              "    }\n",
              "\n",
              "    .dataframe thead th {\n",
              "        text-align: right;\n",
              "    }\n",
              "</style>\n",
              "<table border=\"1\" class=\"dataframe\">\n",
              "  <thead>\n",
              "    <tr style=\"text-align: right;\">\n",
              "      <th></th>\n",
              "      <th>key</th>\n",
              "      <th>full_power</th>\n",
              "    </tr>\n",
              "  </thead>\n",
              "  <tbody>\n",
              "    <tr>\n",
              "      <th>0</th>\n",
              "      <td>1</td>\n",
              "      <td>3.855925</td>\n",
              "    </tr>\n",
              "    <tr>\n",
              "      <th>1</th>\n",
              "      <td>2</td>\n",
              "      <td>2.075054</td>\n",
              "    </tr>\n",
              "    <tr>\n",
              "      <th>2</th>\n",
              "      <td>3</td>\n",
              "      <td>1.733007</td>\n",
              "    </tr>\n",
              "    <tr>\n",
              "      <th>3</th>\n",
              "      <td>4</td>\n",
              "      <td>2.379577</td>\n",
              "    </tr>\n",
              "    <tr>\n",
              "      <th>4</th>\n",
              "      <td>5</td>\n",
              "      <td>2.105051</td>\n",
              "    </tr>\n",
              "  </tbody>\n",
              "</table>\n",
              "</div>"
            ],
            "text/plain": [
              "   key  full_power\n",
              "0    1    3.855925\n",
              "1    2    2.075054\n",
              "2    3    1.733007\n",
              "3    4    2.379577\n",
              "4    5    2.105051"
            ]
          },
          "execution_count": 34,
          "metadata": {},
          "output_type": "execute_result"
        }
      ],
      "source": [
        "df_arc_group.head()"
      ]
    },
    {
      "cell_type": "markdown",
      "metadata": {
        "id": "jewLuOm1iLiU"
      },
      "source": [
        "#### Вывод"
      ]
    },
    {
      "cell_type": "markdown",
      "metadata": {
        "id": "2s35NwYbiLiU"
      },
      "source": [
        "Провели предварительную обработку данных, анализ и агрегацию данных, таблицу по электродам подготовили."
      ]
    },
    {
      "cell_type": "markdown",
      "metadata": {
        "id": "eyhUT1WbIACe"
      },
      "source": [
        "### Данные о подаче сыпучих материалов (объём)"
      ]
    },
    {
      "cell_type": "markdown",
      "metadata": {
        "id": "j90jthxKiLiU"
      },
      "source": [
        "#### Изучение данных"
      ]
    },
    {
      "cell_type": "code",
      "execution_count": null,
      "metadata": {
        "colab": {
          "base_uri": "https://localhost:8080/",
          "height": 206
        },
        "id": "6s2FXuCLLxBs",
        "outputId": "d8d3d04b-e83c-49bc-eecc-7c3116a45303"
      },
      "outputs": [
        {
          "data": {
            "text/html": [
              "<div>\n",
              "<style scoped>\n",
              "    .dataframe tbody tr th:only-of-type {\n",
              "        vertical-align: middle;\n",
              "    }\n",
              "\n",
              "    .dataframe tbody tr th {\n",
              "        vertical-align: top;\n",
              "    }\n",
              "\n",
              "    .dataframe thead th {\n",
              "        text-align: right;\n",
              "    }\n",
              "</style>\n",
              "<table border=\"1\" class=\"dataframe\">\n",
              "  <thead>\n",
              "    <tr style=\"text-align: right;\">\n",
              "      <th></th>\n",
              "      <th>key</th>\n",
              "      <th>Bulk 1</th>\n",
              "      <th>Bulk 2</th>\n",
              "      <th>Bulk 3</th>\n",
              "      <th>Bulk 4</th>\n",
              "      <th>Bulk 5</th>\n",
              "      <th>Bulk 6</th>\n",
              "      <th>Bulk 7</th>\n",
              "      <th>Bulk 8</th>\n",
              "      <th>Bulk 9</th>\n",
              "      <th>Bulk 10</th>\n",
              "      <th>Bulk 11</th>\n",
              "      <th>Bulk 12</th>\n",
              "      <th>Bulk 13</th>\n",
              "      <th>Bulk 14</th>\n",
              "      <th>Bulk 15</th>\n",
              "    </tr>\n",
              "  </thead>\n",
              "  <tbody>\n",
              "    <tr>\n",
              "      <th>0</th>\n",
              "      <td>1</td>\n",
              "      <td>NaN</td>\n",
              "      <td>NaN</td>\n",
              "      <td>NaN</td>\n",
              "      <td>43.0</td>\n",
              "      <td>NaN</td>\n",
              "      <td>NaN</td>\n",
              "      <td>NaN</td>\n",
              "      <td>NaN</td>\n",
              "      <td>NaN</td>\n",
              "      <td>NaN</td>\n",
              "      <td>NaN</td>\n",
              "      <td>206.0</td>\n",
              "      <td>NaN</td>\n",
              "      <td>150.0</td>\n",
              "      <td>154.0</td>\n",
              "    </tr>\n",
              "    <tr>\n",
              "      <th>1</th>\n",
              "      <td>2</td>\n",
              "      <td>NaN</td>\n",
              "      <td>NaN</td>\n",
              "      <td>NaN</td>\n",
              "      <td>73.0</td>\n",
              "      <td>NaN</td>\n",
              "      <td>NaN</td>\n",
              "      <td>NaN</td>\n",
              "      <td>NaN</td>\n",
              "      <td>NaN</td>\n",
              "      <td>NaN</td>\n",
              "      <td>NaN</td>\n",
              "      <td>206.0</td>\n",
              "      <td>NaN</td>\n",
              "      <td>149.0</td>\n",
              "      <td>154.0</td>\n",
              "    </tr>\n",
              "    <tr>\n",
              "      <th>2</th>\n",
              "      <td>3</td>\n",
              "      <td>NaN</td>\n",
              "      <td>NaN</td>\n",
              "      <td>NaN</td>\n",
              "      <td>34.0</td>\n",
              "      <td>NaN</td>\n",
              "      <td>NaN</td>\n",
              "      <td>NaN</td>\n",
              "      <td>NaN</td>\n",
              "      <td>NaN</td>\n",
              "      <td>NaN</td>\n",
              "      <td>NaN</td>\n",
              "      <td>205.0</td>\n",
              "      <td>NaN</td>\n",
              "      <td>152.0</td>\n",
              "      <td>153.0</td>\n",
              "    </tr>\n",
              "    <tr>\n",
              "      <th>3</th>\n",
              "      <td>4</td>\n",
              "      <td>NaN</td>\n",
              "      <td>NaN</td>\n",
              "      <td>NaN</td>\n",
              "      <td>81.0</td>\n",
              "      <td>NaN</td>\n",
              "      <td>NaN</td>\n",
              "      <td>NaN</td>\n",
              "      <td>NaN</td>\n",
              "      <td>NaN</td>\n",
              "      <td>NaN</td>\n",
              "      <td>NaN</td>\n",
              "      <td>207.0</td>\n",
              "      <td>NaN</td>\n",
              "      <td>153.0</td>\n",
              "      <td>154.0</td>\n",
              "    </tr>\n",
              "    <tr>\n",
              "      <th>4</th>\n",
              "      <td>5</td>\n",
              "      <td>NaN</td>\n",
              "      <td>NaN</td>\n",
              "      <td>NaN</td>\n",
              "      <td>78.0</td>\n",
              "      <td>NaN</td>\n",
              "      <td>NaN</td>\n",
              "      <td>NaN</td>\n",
              "      <td>NaN</td>\n",
              "      <td>NaN</td>\n",
              "      <td>NaN</td>\n",
              "      <td>NaN</td>\n",
              "      <td>203.0</td>\n",
              "      <td>NaN</td>\n",
              "      <td>151.0</td>\n",
              "      <td>152.0</td>\n",
              "    </tr>\n",
              "  </tbody>\n",
              "</table>\n",
              "</div>"
            ],
            "text/plain": [
              "   key  Bulk 1  Bulk 2  Bulk 3  Bulk 4  Bulk 5  Bulk 6  Bulk 7  Bulk 8  \\\n",
              "0    1     NaN     NaN     NaN    43.0     NaN     NaN     NaN     NaN   \n",
              "1    2     NaN     NaN     NaN    73.0     NaN     NaN     NaN     NaN   \n",
              "2    3     NaN     NaN     NaN    34.0     NaN     NaN     NaN     NaN   \n",
              "3    4     NaN     NaN     NaN    81.0     NaN     NaN     NaN     NaN   \n",
              "4    5     NaN     NaN     NaN    78.0     NaN     NaN     NaN     NaN   \n",
              "\n",
              "   Bulk 9  Bulk 10  Bulk 11  Bulk 12  Bulk 13  Bulk 14  Bulk 15  \n",
              "0     NaN      NaN      NaN    206.0      NaN    150.0    154.0  \n",
              "1     NaN      NaN      NaN    206.0      NaN    149.0    154.0  \n",
              "2     NaN      NaN      NaN    205.0      NaN    152.0    153.0  \n",
              "3     NaN      NaN      NaN    207.0      NaN    153.0    154.0  \n",
              "4     NaN      NaN      NaN    203.0      NaN    151.0    152.0  "
            ]
          },
          "execution_count": 35,
          "metadata": {},
          "output_type": "execute_result"
        }
      ],
      "source": [
        "df_bulk.head()"
      ]
    },
    {
      "cell_type": "code",
      "execution_count": null,
      "metadata": {
        "colab": {
          "base_uri": "https://localhost:8080/"
        },
        "id": "22A2G_y3Fp3x",
        "outputId": "583801d5-b243-4d8a-b717-20f1ff926820"
      },
      "outputs": [
        {
          "name": "stdout",
          "output_type": "stream",
          "text": [
            "<class 'pandas.core.frame.DataFrame'>\n",
            "RangeIndex: 3129 entries, 0 to 3128\n",
            "Data columns (total 16 columns):\n",
            " #   Column   Non-Null Count  Dtype  \n",
            "---  ------   --------------  -----  \n",
            " 0   key      3129 non-null   int64  \n",
            " 1   Bulk 1   252 non-null    float64\n",
            " 2   Bulk 2   22 non-null     float64\n",
            " 3   Bulk 3   1298 non-null   float64\n",
            " 4   Bulk 4   1014 non-null   float64\n",
            " 5   Bulk 5   77 non-null     float64\n",
            " 6   Bulk 6   576 non-null    float64\n",
            " 7   Bulk 7   25 non-null     float64\n",
            " 8   Bulk 8   1 non-null      float64\n",
            " 9   Bulk 9   19 non-null     float64\n",
            " 10  Bulk 10  176 non-null    float64\n",
            " 11  Bulk 11  177 non-null    float64\n",
            " 12  Bulk 12  2450 non-null   float64\n",
            " 13  Bulk 13  18 non-null     float64\n",
            " 14  Bulk 14  2806 non-null   float64\n",
            " 15  Bulk 15  2248 non-null   float64\n",
            "dtypes: float64(15), int64(1)\n",
            "memory usage: 391.2 KB\n"
          ]
        }
      ],
      "source": [
        "df_bulk.info()"
      ]
    },
    {
      "cell_type": "code",
      "execution_count": null,
      "metadata": {
        "colab": {
          "base_uri": "https://localhost:8080/",
          "height": 300
        },
        "id": "zhmOqD8UZe4h",
        "outputId": "d9910e8c-9845-4251-9855-8677ff849973"
      },
      "outputs": [
        {
          "data": {
            "text/html": [
              "<div>\n",
              "<style scoped>\n",
              "    .dataframe tbody tr th:only-of-type {\n",
              "        vertical-align: middle;\n",
              "    }\n",
              "\n",
              "    .dataframe tbody tr th {\n",
              "        vertical-align: top;\n",
              "    }\n",
              "\n",
              "    .dataframe thead th {\n",
              "        text-align: right;\n",
              "    }\n",
              "</style>\n",
              "<table border=\"1\" class=\"dataframe\">\n",
              "  <thead>\n",
              "    <tr style=\"text-align: right;\">\n",
              "      <th></th>\n",
              "      <th>key</th>\n",
              "      <th>Bulk 1</th>\n",
              "      <th>Bulk 2</th>\n",
              "      <th>Bulk 3</th>\n",
              "      <th>Bulk 4</th>\n",
              "      <th>Bulk 5</th>\n",
              "      <th>Bulk 6</th>\n",
              "      <th>Bulk 7</th>\n",
              "      <th>Bulk 8</th>\n",
              "      <th>Bulk 9</th>\n",
              "      <th>Bulk 10</th>\n",
              "      <th>Bulk 11</th>\n",
              "      <th>Bulk 12</th>\n",
              "      <th>Bulk 13</th>\n",
              "      <th>Bulk 14</th>\n",
              "      <th>Bulk 15</th>\n",
              "    </tr>\n",
              "  </thead>\n",
              "  <tbody>\n",
              "    <tr>\n",
              "      <th>count</th>\n",
              "      <td>3129.000000</td>\n",
              "      <td>252.000000</td>\n",
              "      <td>22.000000</td>\n",
              "      <td>1298.000000</td>\n",
              "      <td>1014.000000</td>\n",
              "      <td>77.000000</td>\n",
              "      <td>576.000000</td>\n",
              "      <td>25.000000</td>\n",
              "      <td>1.0</td>\n",
              "      <td>19.000000</td>\n",
              "      <td>176.000000</td>\n",
              "      <td>177.000000</td>\n",
              "      <td>2450.000000</td>\n",
              "      <td>18.000000</td>\n",
              "      <td>2806.000000</td>\n",
              "      <td>2248.000000</td>\n",
              "    </tr>\n",
              "    <tr>\n",
              "      <th>mean</th>\n",
              "      <td>1624.383509</td>\n",
              "      <td>39.242063</td>\n",
              "      <td>253.045455</td>\n",
              "      <td>113.879045</td>\n",
              "      <td>104.394477</td>\n",
              "      <td>107.025974</td>\n",
              "      <td>118.925347</td>\n",
              "      <td>305.600000</td>\n",
              "      <td>49.0</td>\n",
              "      <td>76.315789</td>\n",
              "      <td>83.284091</td>\n",
              "      <td>76.819209</td>\n",
              "      <td>260.471020</td>\n",
              "      <td>181.111111</td>\n",
              "      <td>170.284747</td>\n",
              "      <td>160.513345</td>\n",
              "    </tr>\n",
              "    <tr>\n",
              "      <th>std</th>\n",
              "      <td>933.337642</td>\n",
              "      <td>18.277654</td>\n",
              "      <td>21.180578</td>\n",
              "      <td>75.483494</td>\n",
              "      <td>48.184126</td>\n",
              "      <td>81.790646</td>\n",
              "      <td>72.057776</td>\n",
              "      <td>191.022904</td>\n",
              "      <td>NaN</td>\n",
              "      <td>21.720581</td>\n",
              "      <td>26.060347</td>\n",
              "      <td>59.655365</td>\n",
              "      <td>120.649269</td>\n",
              "      <td>46.088009</td>\n",
              "      <td>65.868652</td>\n",
              "      <td>51.765319</td>\n",
              "    </tr>\n",
              "    <tr>\n",
              "      <th>min</th>\n",
              "      <td>1.000000</td>\n",
              "      <td>10.000000</td>\n",
              "      <td>228.000000</td>\n",
              "      <td>6.000000</td>\n",
              "      <td>12.000000</td>\n",
              "      <td>11.000000</td>\n",
              "      <td>17.000000</td>\n",
              "      <td>47.000000</td>\n",
              "      <td>49.0</td>\n",
              "      <td>63.000000</td>\n",
              "      <td>24.000000</td>\n",
              "      <td>8.000000</td>\n",
              "      <td>53.000000</td>\n",
              "      <td>151.000000</td>\n",
              "      <td>16.000000</td>\n",
              "      <td>1.000000</td>\n",
              "    </tr>\n",
              "    <tr>\n",
              "      <th>25%</th>\n",
              "      <td>816.000000</td>\n",
              "      <td>27.000000</td>\n",
              "      <td>242.000000</td>\n",
              "      <td>58.000000</td>\n",
              "      <td>72.000000</td>\n",
              "      <td>70.000000</td>\n",
              "      <td>69.750000</td>\n",
              "      <td>155.000000</td>\n",
              "      <td>49.0</td>\n",
              "      <td>66.000000</td>\n",
              "      <td>64.000000</td>\n",
              "      <td>25.000000</td>\n",
              "      <td>204.000000</td>\n",
              "      <td>153.250000</td>\n",
              "      <td>119.000000</td>\n",
              "      <td>105.000000</td>\n",
              "    </tr>\n",
              "    <tr>\n",
              "      <th>50%</th>\n",
              "      <td>1622.000000</td>\n",
              "      <td>31.000000</td>\n",
              "      <td>251.500000</td>\n",
              "      <td>97.500000</td>\n",
              "      <td>102.000000</td>\n",
              "      <td>86.000000</td>\n",
              "      <td>100.000000</td>\n",
              "      <td>298.000000</td>\n",
              "      <td>49.0</td>\n",
              "      <td>68.000000</td>\n",
              "      <td>86.500000</td>\n",
              "      <td>64.000000</td>\n",
              "      <td>208.000000</td>\n",
              "      <td>155.500000</td>\n",
              "      <td>151.000000</td>\n",
              "      <td>160.000000</td>\n",
              "    </tr>\n",
              "    <tr>\n",
              "      <th>75%</th>\n",
              "      <td>2431.000000</td>\n",
              "      <td>46.000000</td>\n",
              "      <td>257.750000</td>\n",
              "      <td>152.000000</td>\n",
              "      <td>133.000000</td>\n",
              "      <td>132.000000</td>\n",
              "      <td>157.000000</td>\n",
              "      <td>406.000000</td>\n",
              "      <td>49.0</td>\n",
              "      <td>70.500000</td>\n",
              "      <td>102.000000</td>\n",
              "      <td>106.000000</td>\n",
              "      <td>316.000000</td>\n",
              "      <td>203.500000</td>\n",
              "      <td>205.750000</td>\n",
              "      <td>205.000000</td>\n",
              "    </tr>\n",
              "    <tr>\n",
              "      <th>max</th>\n",
              "      <td>3241.000000</td>\n",
              "      <td>185.000000</td>\n",
              "      <td>325.000000</td>\n",
              "      <td>454.000000</td>\n",
              "      <td>281.000000</td>\n",
              "      <td>603.000000</td>\n",
              "      <td>503.000000</td>\n",
              "      <td>772.000000</td>\n",
              "      <td>49.0</td>\n",
              "      <td>147.000000</td>\n",
              "      <td>159.000000</td>\n",
              "      <td>313.000000</td>\n",
              "      <td>1849.000000</td>\n",
              "      <td>305.000000</td>\n",
              "      <td>636.000000</td>\n",
              "      <td>405.000000</td>\n",
              "    </tr>\n",
              "  </tbody>\n",
              "</table>\n",
              "</div>"
            ],
            "text/plain": [
              "               key      Bulk 1      Bulk 2       Bulk 3       Bulk 4  \\\n",
              "count  3129.000000  252.000000   22.000000  1298.000000  1014.000000   \n",
              "mean   1624.383509   39.242063  253.045455   113.879045   104.394477   \n",
              "std     933.337642   18.277654   21.180578    75.483494    48.184126   \n",
              "min       1.000000   10.000000  228.000000     6.000000    12.000000   \n",
              "25%     816.000000   27.000000  242.000000    58.000000    72.000000   \n",
              "50%    1622.000000   31.000000  251.500000    97.500000   102.000000   \n",
              "75%    2431.000000   46.000000  257.750000   152.000000   133.000000   \n",
              "max    3241.000000  185.000000  325.000000   454.000000   281.000000   \n",
              "\n",
              "           Bulk 5      Bulk 6      Bulk 7  Bulk 8      Bulk 9     Bulk 10  \\\n",
              "count   77.000000  576.000000   25.000000     1.0   19.000000  176.000000   \n",
              "mean   107.025974  118.925347  305.600000    49.0   76.315789   83.284091   \n",
              "std     81.790646   72.057776  191.022904     NaN   21.720581   26.060347   \n",
              "min     11.000000   17.000000   47.000000    49.0   63.000000   24.000000   \n",
              "25%     70.000000   69.750000  155.000000    49.0   66.000000   64.000000   \n",
              "50%     86.000000  100.000000  298.000000    49.0   68.000000   86.500000   \n",
              "75%    132.000000  157.000000  406.000000    49.0   70.500000  102.000000   \n",
              "max    603.000000  503.000000  772.000000    49.0  147.000000  159.000000   \n",
              "\n",
              "          Bulk 11      Bulk 12     Bulk 13      Bulk 14      Bulk 15  \n",
              "count  177.000000  2450.000000   18.000000  2806.000000  2248.000000  \n",
              "mean    76.819209   260.471020  181.111111   170.284747   160.513345  \n",
              "std     59.655365   120.649269   46.088009    65.868652    51.765319  \n",
              "min      8.000000    53.000000  151.000000    16.000000     1.000000  \n",
              "25%     25.000000   204.000000  153.250000   119.000000   105.000000  \n",
              "50%     64.000000   208.000000  155.500000   151.000000   160.000000  \n",
              "75%    106.000000   316.000000  203.500000   205.750000   205.000000  \n",
              "max    313.000000  1849.000000  305.000000   636.000000   405.000000  "
            ]
          },
          "execution_count": 37,
          "metadata": {},
          "output_type": "execute_result"
        }
      ],
      "source": [
        "df_bulk.describe()"
      ]
    },
    {
      "cell_type": "markdown",
      "metadata": {
        "id": "1QN0Sha8iLiV"
      },
      "source": [
        "Видим большое количество пропусков в данных, при этом некоторе материалы совсем редко использовались."
      ]
    },
    {
      "cell_type": "markdown",
      "metadata": {
        "id": "mXYuQnPriLiW"
      },
      "source": [
        "#### Начальная обработка данных"
      ]
    },
    {
      "cell_type": "code",
      "execution_count": null,
      "metadata": {
        "id": "J5jooxnyawb4"
      },
      "outputs": [],
      "source": [
        "df_bulk.columns = df_bulk.columns.str.replace(' ','_').str.lower()"
      ]
    },
    {
      "cell_type": "code",
      "execution_count": null,
      "metadata": {
        "colab": {
          "base_uri": "https://localhost:8080/"
        },
        "id": "v5xcM-HyC4Bq",
        "outputId": "6a2ab7a3-be79-4a59-a473-38ad08b4108c"
      },
      "outputs": [
        {
          "data": {
            "text/plain": [
              "112"
            ]
          },
          "execution_count": 39,
          "metadata": {},
          "output_type": "execute_result"
        }
      ],
      "source": [
        "len(set(range(1, 3242)) - set(df_bulk['key']))"
      ]
    },
    {
      "cell_type": "code",
      "execution_count": null,
      "metadata": {
        "id": "rbNUoQMRLDos"
      },
      "outputs": [],
      "source": [
        "df_bulk = df_bulk.fillna(0)"
      ]
    },
    {
      "cell_type": "markdown",
      "metadata": {
        "id": "YN8z8rZ-iLiW"
      },
      "source": [
        "Создадим признак с общей суммой всех добавляемых в партии материалов"
      ]
    },
    {
      "cell_type": "code",
      "execution_count": null,
      "metadata": {
        "id": "jFE3ZPj2KOA_"
      },
      "outputs": [],
      "source": [
        "df_bulk['bulk_sum'] = df_bulk.drop('key', axis=1).sum(axis=1)"
      ]
    },
    {
      "cell_type": "markdown",
      "metadata": {
        "id": "EjmPMmb3iLiX"
      },
      "source": [
        "Создадим признак коэффециент самых используемых материалов к общей сумме:"
      ]
    },
    {
      "cell_type": "code",
      "execution_count": null,
      "metadata": {
        "id": "-U51kAckOW4I"
      },
      "outputs": [],
      "source": [
        "df_bulk['ratio_bulk_sum'] = df_bulk[['bulk_12', 'bulk_14', 'bulk_15']].sum(axis=1) / df_bulk.drop(['key','bulk_12', 'bulk_14', 'bulk_15'], axis=1).sum(axis=1)"
      ]
    },
    {
      "cell_type": "markdown",
      "metadata": {
        "id": "CZe-hIYiiLiX"
      },
      "source": [
        "Отберем только те признаки, где материалы наиболее встречаются, а также наши новые признаки:"
      ]
    },
    {
      "cell_type": "code",
      "execution_count": null,
      "metadata": {
        "id": "JdJbgK0PKNyw"
      },
      "outputs": [],
      "source": [
        "df_bulk = df_bulk[['key', 'bulk_3', 'bulk_4', 'bulk_12', 'bulk_14', 'bulk_15', 'ratio_bulk_sum', 'bulk_sum']]"
      ]
    },
    {
      "cell_type": "code",
      "execution_count": null,
      "metadata": {
        "colab": {
          "base_uri": "https://localhost:8080/",
          "height": 206
        },
        "id": "22KgmhacLS94",
        "outputId": "207d5fb2-9191-44a3-f449-936b6907c76b",
        "scrolled": true
      },
      "outputs": [
        {
          "data": {
            "text/html": [
              "<div>\n",
              "<style scoped>\n",
              "    .dataframe tbody tr th:only-of-type {\n",
              "        vertical-align: middle;\n",
              "    }\n",
              "\n",
              "    .dataframe tbody tr th {\n",
              "        vertical-align: top;\n",
              "    }\n",
              "\n",
              "    .dataframe thead th {\n",
              "        text-align: right;\n",
              "    }\n",
              "</style>\n",
              "<table border=\"1\" class=\"dataframe\">\n",
              "  <thead>\n",
              "    <tr style=\"text-align: right;\">\n",
              "      <th></th>\n",
              "      <th>key</th>\n",
              "      <th>bulk_3</th>\n",
              "      <th>bulk_4</th>\n",
              "      <th>bulk_12</th>\n",
              "      <th>bulk_14</th>\n",
              "      <th>bulk_15</th>\n",
              "      <th>ratio_bulk_sum</th>\n",
              "      <th>bulk_sum</th>\n",
              "    </tr>\n",
              "  </thead>\n",
              "  <tbody>\n",
              "    <tr>\n",
              "      <th>0</th>\n",
              "      <td>1</td>\n",
              "      <td>0.0</td>\n",
              "      <td>43.0</td>\n",
              "      <td>206.0</td>\n",
              "      <td>150.0</td>\n",
              "      <td>154.0</td>\n",
              "      <td>0.855705</td>\n",
              "      <td>553.0</td>\n",
              "    </tr>\n",
              "    <tr>\n",
              "      <th>1</th>\n",
              "      <td>2</td>\n",
              "      <td>0.0</td>\n",
              "      <td>73.0</td>\n",
              "      <td>206.0</td>\n",
              "      <td>149.0</td>\n",
              "      <td>154.0</td>\n",
              "      <td>0.777099</td>\n",
              "      <td>582.0</td>\n",
              "    </tr>\n",
              "    <tr>\n",
              "      <th>2</th>\n",
              "      <td>3</td>\n",
              "      <td>0.0</td>\n",
              "      <td>34.0</td>\n",
              "      <td>205.0</td>\n",
              "      <td>152.0</td>\n",
              "      <td>153.0</td>\n",
              "      <td>0.882353</td>\n",
              "      <td>544.0</td>\n",
              "    </tr>\n",
              "    <tr>\n",
              "      <th>3</th>\n",
              "      <td>4</td>\n",
              "      <td>0.0</td>\n",
              "      <td>81.0</td>\n",
              "      <td>207.0</td>\n",
              "      <td>153.0</td>\n",
              "      <td>154.0</td>\n",
              "      <td>0.760355</td>\n",
              "      <td>595.0</td>\n",
              "    </tr>\n",
              "    <tr>\n",
              "      <th>4</th>\n",
              "      <td>5</td>\n",
              "      <td>0.0</td>\n",
              "      <td>78.0</td>\n",
              "      <td>203.0</td>\n",
              "      <td>151.0</td>\n",
              "      <td>152.0</td>\n",
              "      <td>0.764350</td>\n",
              "      <td>584.0</td>\n",
              "    </tr>\n",
              "  </tbody>\n",
              "</table>\n",
              "</div>"
            ],
            "text/plain": [
              "   key  bulk_3  bulk_4  bulk_12  bulk_14  bulk_15  ratio_bulk_sum  bulk_sum\n",
              "0    1     0.0    43.0    206.0    150.0    154.0        0.855705     553.0\n",
              "1    2     0.0    73.0    206.0    149.0    154.0        0.777099     582.0\n",
              "2    3     0.0    34.0    205.0    152.0    153.0        0.882353     544.0\n",
              "3    4     0.0    81.0    207.0    153.0    154.0        0.760355     595.0\n",
              "4    5     0.0    78.0    203.0    151.0    152.0        0.764350     584.0"
            ]
          },
          "execution_count": 44,
          "metadata": {},
          "output_type": "execute_result"
        }
      ],
      "source": [
        "df_bulk.head()"
      ]
    },
    {
      "cell_type": "markdown",
      "metadata": {
        "id": "qiqG-o1yiLiY"
      },
      "source": [
        "#### Вывод"
      ]
    },
    {
      "cell_type": "markdown",
      "metadata": {
        "id": "EQJHyAEDiLiY"
      },
      "source": [
        "Выбраны наиболее часто используемые материалы, добавлены два признака."
      ]
    },
    {
      "cell_type": "markdown",
      "metadata": {
        "id": "JGQI_N2EID9K"
      },
      "source": [
        "### Данные о подаче сыпучих материалов (время)"
      ]
    },
    {
      "cell_type": "markdown",
      "metadata": {
        "id": "S2YfOYjNiLiZ"
      },
      "source": [
        "#### Изучение данных"
      ]
    },
    {
      "cell_type": "code",
      "execution_count": null,
      "metadata": {
        "colab": {
          "base_uri": "https://localhost:8080/",
          "height": 206
        },
        "id": "OqTYhAO_LzIt",
        "outputId": "c2050660-7a97-468b-ea49-fd8a26cada4b"
      },
      "outputs": [
        {
          "data": {
            "text/html": [
              "<div>\n",
              "<style scoped>\n",
              "    .dataframe tbody tr th:only-of-type {\n",
              "        vertical-align: middle;\n",
              "    }\n",
              "\n",
              "    .dataframe tbody tr th {\n",
              "        vertical-align: top;\n",
              "    }\n",
              "\n",
              "    .dataframe thead th {\n",
              "        text-align: right;\n",
              "    }\n",
              "</style>\n",
              "<table border=\"1\" class=\"dataframe\">\n",
              "  <thead>\n",
              "    <tr style=\"text-align: right;\">\n",
              "      <th></th>\n",
              "      <th>key</th>\n",
              "      <th>Bulk 1</th>\n",
              "      <th>Bulk 2</th>\n",
              "      <th>Bulk 3</th>\n",
              "      <th>Bulk 4</th>\n",
              "      <th>Bulk 5</th>\n",
              "      <th>Bulk 6</th>\n",
              "      <th>Bulk 7</th>\n",
              "      <th>Bulk 8</th>\n",
              "      <th>Bulk 9</th>\n",
              "      <th>Bulk 10</th>\n",
              "      <th>Bulk 11</th>\n",
              "      <th>Bulk 12</th>\n",
              "      <th>Bulk 13</th>\n",
              "      <th>Bulk 14</th>\n",
              "      <th>Bulk 15</th>\n",
              "    </tr>\n",
              "  </thead>\n",
              "  <tbody>\n",
              "    <tr>\n",
              "      <th>0</th>\n",
              "      <td>1</td>\n",
              "      <td>NaN</td>\n",
              "      <td>NaN</td>\n",
              "      <td>NaN</td>\n",
              "      <td>2019-05-03 11:21:30</td>\n",
              "      <td>NaN</td>\n",
              "      <td>NaN</td>\n",
              "      <td>NaN</td>\n",
              "      <td>NaN</td>\n",
              "      <td>NaN</td>\n",
              "      <td>NaN</td>\n",
              "      <td>NaN</td>\n",
              "      <td>2019-05-03 11:03:52</td>\n",
              "      <td>NaN</td>\n",
              "      <td>2019-05-03 11:03:52</td>\n",
              "      <td>2019-05-03 11:03:52</td>\n",
              "    </tr>\n",
              "    <tr>\n",
              "      <th>1</th>\n",
              "      <td>2</td>\n",
              "      <td>NaN</td>\n",
              "      <td>NaN</td>\n",
              "      <td>NaN</td>\n",
              "      <td>2019-05-03 11:46:38</td>\n",
              "      <td>NaN</td>\n",
              "      <td>NaN</td>\n",
              "      <td>NaN</td>\n",
              "      <td>NaN</td>\n",
              "      <td>NaN</td>\n",
              "      <td>NaN</td>\n",
              "      <td>NaN</td>\n",
              "      <td>2019-05-03 11:40:20</td>\n",
              "      <td>NaN</td>\n",
              "      <td>2019-05-03 11:40:20</td>\n",
              "      <td>2019-05-03 11:40:20</td>\n",
              "    </tr>\n",
              "    <tr>\n",
              "      <th>2</th>\n",
              "      <td>3</td>\n",
              "      <td>NaN</td>\n",
              "      <td>NaN</td>\n",
              "      <td>NaN</td>\n",
              "      <td>2019-05-03 12:31:06</td>\n",
              "      <td>NaN</td>\n",
              "      <td>NaN</td>\n",
              "      <td>NaN</td>\n",
              "      <td>NaN</td>\n",
              "      <td>NaN</td>\n",
              "      <td>NaN</td>\n",
              "      <td>NaN</td>\n",
              "      <td>2019-05-03 12:09:40</td>\n",
              "      <td>NaN</td>\n",
              "      <td>2019-05-03 12:09:40</td>\n",
              "      <td>2019-05-03 12:09:40</td>\n",
              "    </tr>\n",
              "    <tr>\n",
              "      <th>3</th>\n",
              "      <td>4</td>\n",
              "      <td>NaN</td>\n",
              "      <td>NaN</td>\n",
              "      <td>NaN</td>\n",
              "      <td>2019-05-03 12:48:43</td>\n",
              "      <td>NaN</td>\n",
              "      <td>NaN</td>\n",
              "      <td>NaN</td>\n",
              "      <td>NaN</td>\n",
              "      <td>NaN</td>\n",
              "      <td>NaN</td>\n",
              "      <td>NaN</td>\n",
              "      <td>2019-05-03 12:41:24</td>\n",
              "      <td>NaN</td>\n",
              "      <td>2019-05-03 12:41:24</td>\n",
              "      <td>2019-05-03 12:41:24</td>\n",
              "    </tr>\n",
              "    <tr>\n",
              "      <th>4</th>\n",
              "      <td>5</td>\n",
              "      <td>NaN</td>\n",
              "      <td>NaN</td>\n",
              "      <td>NaN</td>\n",
              "      <td>2019-05-03 13:18:50</td>\n",
              "      <td>NaN</td>\n",
              "      <td>NaN</td>\n",
              "      <td>NaN</td>\n",
              "      <td>NaN</td>\n",
              "      <td>NaN</td>\n",
              "      <td>NaN</td>\n",
              "      <td>NaN</td>\n",
              "      <td>2019-05-03 13:12:56</td>\n",
              "      <td>NaN</td>\n",
              "      <td>2019-05-03 13:12:56</td>\n",
              "      <td>2019-05-03 13:12:56</td>\n",
              "    </tr>\n",
              "  </tbody>\n",
              "</table>\n",
              "</div>"
            ],
            "text/plain": [
              "   key Bulk 1 Bulk 2 Bulk 3               Bulk 4 Bulk 5 Bulk 6 Bulk 7 Bulk 8  \\\n",
              "0    1    NaN    NaN    NaN  2019-05-03 11:21:30    NaN    NaN    NaN    NaN   \n",
              "1    2    NaN    NaN    NaN  2019-05-03 11:46:38    NaN    NaN    NaN    NaN   \n",
              "2    3    NaN    NaN    NaN  2019-05-03 12:31:06    NaN    NaN    NaN    NaN   \n",
              "3    4    NaN    NaN    NaN  2019-05-03 12:48:43    NaN    NaN    NaN    NaN   \n",
              "4    5    NaN    NaN    NaN  2019-05-03 13:18:50    NaN    NaN    NaN    NaN   \n",
              "\n",
              "  Bulk 9 Bulk 10 Bulk 11              Bulk 12 Bulk 13              Bulk 14  \\\n",
              "0    NaN     NaN     NaN  2019-05-03 11:03:52     NaN  2019-05-03 11:03:52   \n",
              "1    NaN     NaN     NaN  2019-05-03 11:40:20     NaN  2019-05-03 11:40:20   \n",
              "2    NaN     NaN     NaN  2019-05-03 12:09:40     NaN  2019-05-03 12:09:40   \n",
              "3    NaN     NaN     NaN  2019-05-03 12:41:24     NaN  2019-05-03 12:41:24   \n",
              "4    NaN     NaN     NaN  2019-05-03 13:12:56     NaN  2019-05-03 13:12:56   \n",
              "\n",
              "               Bulk 15  \n",
              "0  2019-05-03 11:03:52  \n",
              "1  2019-05-03 11:40:20  \n",
              "2  2019-05-03 12:09:40  \n",
              "3  2019-05-03 12:41:24  \n",
              "4  2019-05-03 13:12:56  "
            ]
          },
          "execution_count": 45,
          "metadata": {},
          "output_type": "execute_result"
        }
      ],
      "source": [
        "df_bulk_time.head()"
      ]
    },
    {
      "cell_type": "code",
      "execution_count": null,
      "metadata": {
        "colab": {
          "base_uri": "https://localhost:8080/"
        },
        "id": "ApEceSt2FqQr",
        "outputId": "e00a588e-33ac-4198-c1b7-39199365fac6"
      },
      "outputs": [
        {
          "name": "stdout",
          "output_type": "stream",
          "text": [
            "<class 'pandas.core.frame.DataFrame'>\n",
            "RangeIndex: 3129 entries, 0 to 3128\n",
            "Data columns (total 16 columns):\n",
            " #   Column   Non-Null Count  Dtype \n",
            "---  ------   --------------  ----- \n",
            " 0   key      3129 non-null   int64 \n",
            " 1   Bulk 1   252 non-null    object\n",
            " 2   Bulk 2   22 non-null     object\n",
            " 3   Bulk 3   1298 non-null   object\n",
            " 4   Bulk 4   1014 non-null   object\n",
            " 5   Bulk 5   77 non-null     object\n",
            " 6   Bulk 6   576 non-null    object\n",
            " 7   Bulk 7   25 non-null     object\n",
            " 8   Bulk 8   1 non-null      object\n",
            " 9   Bulk 9   19 non-null     object\n",
            " 10  Bulk 10  176 non-null    object\n",
            " 11  Bulk 11  177 non-null    object\n",
            " 12  Bulk 12  2450 non-null   object\n",
            " 13  Bulk 13  18 non-null     object\n",
            " 14  Bulk 14  2806 non-null   object\n",
            " 15  Bulk 15  2248 non-null   object\n",
            "dtypes: int64(1), object(15)\n",
            "memory usage: 391.2+ KB\n"
          ]
        }
      ],
      "source": [
        "df_bulk_time.info()"
      ]
    },
    {
      "cell_type": "markdown",
      "metadata": {
        "id": "8f37VPPBiLiZ"
      },
      "source": [
        "#### Начальная обработка данных"
      ]
    },
    {
      "cell_type": "markdown",
      "metadata": {
        "id": "_7g3ZmxaGzp1"
      },
      "source": [
        "Заполним пропуск датой 1900-01-01, нужно для дальнейшей работы:"
      ]
    },
    {
      "cell_type": "code",
      "execution_count": null,
      "metadata": {
        "id": "70dRK0PaGTcQ"
      },
      "outputs": [],
      "source": [
        "df_bulk_time = df_bulk_time.fillna(pd.Timestamp('19000101'))"
      ]
    },
    {
      "cell_type": "code",
      "execution_count": null,
      "metadata": {
        "id": "U1OWZv2Jbi0O"
      },
      "outputs": [],
      "source": [
        "df_bulk_time.columns = df_bulk_time.columns.str.replace(' ','_').str.lower()"
      ]
    },
    {
      "cell_type": "markdown",
      "metadata": {
        "id": "HDLUKDdkiLia"
      },
      "source": [
        "Приведем даты к формату datetime:"
      ]
    },
    {
      "cell_type": "code",
      "execution_count": null,
      "metadata": {
        "id": "fa-5cop3bixr"
      },
      "outputs": [],
      "source": [
        "for i in range(1, 16):\n",
        "  df_bulk_time[f\"bulk_{i}\"] = pd.to_datetime(df_bulk_time[f\"bulk_{i}\"], format='%Y-%m-%d  %H:%M:%S')"
      ]
    },
    {
      "cell_type": "markdown",
      "metadata": {
        "id": "mRjmVJW4iLia"
      },
      "source": [
        "Посмотрим на количество промущенных партий:"
      ]
    },
    {
      "cell_type": "code",
      "execution_count": null,
      "metadata": {
        "colab": {
          "base_uri": "https://localhost:8080/"
        },
        "id": "HKnBrHwSbqDa",
        "outputId": "6611cd34-07ff-4cac-ac1e-ee3759954c73"
      },
      "outputs": [
        {
          "data": {
            "text/plain": [
              "112"
            ]
          },
          "execution_count": 50,
          "metadata": {},
          "output_type": "execute_result"
        }
      ],
      "source": [
        "len(set(range(1, 3242)) - set(df_bulk_time['key']))"
      ]
    },
    {
      "cell_type": "markdown",
      "metadata": {
        "id": "rUWA2YbJHBUP"
      },
      "source": [
        "#### Вывод"
      ]
    },
    {
      "cell_type": "markdown",
      "metadata": {
        "id": "cXvNqs-BiLib"
      },
      "source": [
        "Время подачи материалов может пригодиться для определения тех партий, где материал засыпали, после измерения конечной температуры. Что поможет исключить эти партии."
      ]
    },
    {
      "cell_type": "markdown",
      "metadata": {
        "id": "TLUeIv-gIQ4A"
      },
      "source": [
        "### Данные о проволочных материалах (объём)"
      ]
    },
    {
      "cell_type": "markdown",
      "metadata": {
        "id": "SIKq8cMHiLic"
      },
      "source": [
        "#### Изучение данных"
      ]
    },
    {
      "cell_type": "code",
      "execution_count": null,
      "metadata": {
        "colab": {
          "base_uri": "https://localhost:8080/",
          "height": 206
        },
        "id": "Vb5PPErGL15m",
        "outputId": "84327136-89c1-452c-df59-2ff823eb80ad",
        "scrolled": true
      },
      "outputs": [
        {
          "data": {
            "text/html": [
              "<div>\n",
              "<style scoped>\n",
              "    .dataframe tbody tr th:only-of-type {\n",
              "        vertical-align: middle;\n",
              "    }\n",
              "\n",
              "    .dataframe tbody tr th {\n",
              "        vertical-align: top;\n",
              "    }\n",
              "\n",
              "    .dataframe thead th {\n",
              "        text-align: right;\n",
              "    }\n",
              "</style>\n",
              "<table border=\"1\" class=\"dataframe\">\n",
              "  <thead>\n",
              "    <tr style=\"text-align: right;\">\n",
              "      <th></th>\n",
              "      <th>key</th>\n",
              "      <th>Wire 1</th>\n",
              "      <th>Wire 2</th>\n",
              "      <th>Wire 3</th>\n",
              "      <th>Wire 4</th>\n",
              "      <th>Wire 5</th>\n",
              "      <th>Wire 6</th>\n",
              "      <th>Wire 7</th>\n",
              "      <th>Wire 8</th>\n",
              "      <th>Wire 9</th>\n",
              "    </tr>\n",
              "  </thead>\n",
              "  <tbody>\n",
              "    <tr>\n",
              "      <th>0</th>\n",
              "      <td>1</td>\n",
              "      <td>60.059998</td>\n",
              "      <td>NaN</td>\n",
              "      <td>NaN</td>\n",
              "      <td>NaN</td>\n",
              "      <td>NaN</td>\n",
              "      <td>NaN</td>\n",
              "      <td>NaN</td>\n",
              "      <td>NaN</td>\n",
              "      <td>NaN</td>\n",
              "    </tr>\n",
              "    <tr>\n",
              "      <th>1</th>\n",
              "      <td>2</td>\n",
              "      <td>96.052315</td>\n",
              "      <td>NaN</td>\n",
              "      <td>NaN</td>\n",
              "      <td>NaN</td>\n",
              "      <td>NaN</td>\n",
              "      <td>NaN</td>\n",
              "      <td>NaN</td>\n",
              "      <td>NaN</td>\n",
              "      <td>NaN</td>\n",
              "    </tr>\n",
              "    <tr>\n",
              "      <th>2</th>\n",
              "      <td>3</td>\n",
              "      <td>91.160157</td>\n",
              "      <td>NaN</td>\n",
              "      <td>NaN</td>\n",
              "      <td>NaN</td>\n",
              "      <td>NaN</td>\n",
              "      <td>NaN</td>\n",
              "      <td>NaN</td>\n",
              "      <td>NaN</td>\n",
              "      <td>NaN</td>\n",
              "    </tr>\n",
              "    <tr>\n",
              "      <th>3</th>\n",
              "      <td>4</td>\n",
              "      <td>89.063515</td>\n",
              "      <td>NaN</td>\n",
              "      <td>NaN</td>\n",
              "      <td>NaN</td>\n",
              "      <td>NaN</td>\n",
              "      <td>NaN</td>\n",
              "      <td>NaN</td>\n",
              "      <td>NaN</td>\n",
              "      <td>NaN</td>\n",
              "    </tr>\n",
              "    <tr>\n",
              "      <th>4</th>\n",
              "      <td>5</td>\n",
              "      <td>89.238236</td>\n",
              "      <td>9.11456</td>\n",
              "      <td>NaN</td>\n",
              "      <td>NaN</td>\n",
              "      <td>NaN</td>\n",
              "      <td>NaN</td>\n",
              "      <td>NaN</td>\n",
              "      <td>NaN</td>\n",
              "      <td>NaN</td>\n",
              "    </tr>\n",
              "  </tbody>\n",
              "</table>\n",
              "</div>"
            ],
            "text/plain": [
              "   key     Wire 1   Wire 2  Wire 3  Wire 4  Wire 5  Wire 6  Wire 7  Wire 8  \\\n",
              "0    1  60.059998      NaN     NaN     NaN     NaN     NaN     NaN     NaN   \n",
              "1    2  96.052315      NaN     NaN     NaN     NaN     NaN     NaN     NaN   \n",
              "2    3  91.160157      NaN     NaN     NaN     NaN     NaN     NaN     NaN   \n",
              "3    4  89.063515      NaN     NaN     NaN     NaN     NaN     NaN     NaN   \n",
              "4    5  89.238236  9.11456     NaN     NaN     NaN     NaN     NaN     NaN   \n",
              "\n",
              "   Wire 9  \n",
              "0     NaN  \n",
              "1     NaN  \n",
              "2     NaN  \n",
              "3     NaN  \n",
              "4     NaN  "
            ]
          },
          "execution_count": 51,
          "metadata": {},
          "output_type": "execute_result"
        }
      ],
      "source": [
        "df_wire.head()"
      ]
    },
    {
      "cell_type": "code",
      "execution_count": null,
      "metadata": {
        "colab": {
          "base_uri": "https://localhost:8080/"
        },
        "id": "_R1rSl_uFrlg",
        "outputId": "19b75d5a-e694-4a02-d8d0-9fb4dd85917a"
      },
      "outputs": [
        {
          "name": "stdout",
          "output_type": "stream",
          "text": [
            "<class 'pandas.core.frame.DataFrame'>\n",
            "RangeIndex: 3081 entries, 0 to 3080\n",
            "Data columns (total 10 columns):\n",
            " #   Column  Non-Null Count  Dtype  \n",
            "---  ------  --------------  -----  \n",
            " 0   key     3081 non-null   int64  \n",
            " 1   Wire 1  3055 non-null   float64\n",
            " 2   Wire 2  1079 non-null   float64\n",
            " 3   Wire 3  63 non-null     float64\n",
            " 4   Wire 4  14 non-null     float64\n",
            " 5   Wire 5  1 non-null      float64\n",
            " 6   Wire 6  73 non-null     float64\n",
            " 7   Wire 7  11 non-null     float64\n",
            " 8   Wire 8  19 non-null     float64\n",
            " 9   Wire 9  29 non-null     float64\n",
            "dtypes: float64(9), int64(1)\n",
            "memory usage: 240.8 KB\n"
          ]
        }
      ],
      "source": [
        "df_wire.info()"
      ]
    },
    {
      "cell_type": "markdown",
      "metadata": {
        "id": "dajOJM0wiLic"
      },
      "source": [
        "#### Начальная обработка данных"
      ]
    },
    {
      "cell_type": "code",
      "execution_count": null,
      "metadata": {
        "id": "_jSxEoObCVH8"
      },
      "outputs": [],
      "source": [
        "df_wire.columns = df_wire.columns.str.replace(' ','_').str.lower()"
      ]
    },
    {
      "cell_type": "code",
      "execution_count": null,
      "metadata": {
        "colab": {
          "base_uri": "https://localhost:8080/"
        },
        "id": "fHeJScldCU3l",
        "outputId": "bc009a4e-ff0f-4107-c87f-b4f47dcd34ee"
      },
      "outputs": [
        {
          "data": {
            "text/plain": [
              "160"
            ]
          },
          "execution_count": 54,
          "metadata": {},
          "output_type": "execute_result"
        }
      ],
      "source": [
        "len(set(range(1, 3242)) - set(df_wire['key']))"
      ]
    },
    {
      "cell_type": "code",
      "execution_count": null,
      "metadata": {
        "id": "EELe2-mWLWVE"
      },
      "outputs": [],
      "source": [
        "df_wire = df_wire.fillna(0)"
      ]
    },
    {
      "cell_type": "markdown",
      "metadata": {
        "id": "BgD9eq6aiLif"
      },
      "source": [
        "Добавим новый признак, сумма всех проволочных материалов в партии, а также отберем наиболее значимые признаки, с точки зрения добавления по объему, а также наш новый признак"
      ]
    },
    {
      "cell_type": "code",
      "execution_count": null,
      "metadata": {
        "id": "aaQ1hIi3LWVF"
      },
      "outputs": [],
      "source": [
        "df_wire['wire_sum'] = df_wire.drop('key', axis=1).sum(axis=1)"
      ]
    },
    {
      "cell_type": "code",
      "execution_count": null,
      "metadata": {
        "id": "T1xX9zjCLWVF"
      },
      "outputs": [],
      "source": [
        "df_wire = df_wire[['key', 'wire_1', 'wire_2', 'wire_sum']]"
      ]
    },
    {
      "cell_type": "code",
      "execution_count": null,
      "metadata": {
        "colab": {
          "base_uri": "https://localhost:8080/",
          "height": 206
        },
        "id": "oeUyj1jHHDuk",
        "outputId": "3cf621b6-14be-4338-c0ed-c67aa3020180"
      },
      "outputs": [
        {
          "data": {
            "text/html": [
              "<div>\n",
              "<style scoped>\n",
              "    .dataframe tbody tr th:only-of-type {\n",
              "        vertical-align: middle;\n",
              "    }\n",
              "\n",
              "    .dataframe tbody tr th {\n",
              "        vertical-align: top;\n",
              "    }\n",
              "\n",
              "    .dataframe thead th {\n",
              "        text-align: right;\n",
              "    }\n",
              "</style>\n",
              "<table border=\"1\" class=\"dataframe\">\n",
              "  <thead>\n",
              "    <tr style=\"text-align: right;\">\n",
              "      <th></th>\n",
              "      <th>key</th>\n",
              "      <th>wire_1</th>\n",
              "      <th>wire_2</th>\n",
              "      <th>wire_sum</th>\n",
              "    </tr>\n",
              "  </thead>\n",
              "  <tbody>\n",
              "    <tr>\n",
              "      <th>0</th>\n",
              "      <td>1</td>\n",
              "      <td>60.059998</td>\n",
              "      <td>0.00000</td>\n",
              "      <td>60.059998</td>\n",
              "    </tr>\n",
              "    <tr>\n",
              "      <th>1</th>\n",
              "      <td>2</td>\n",
              "      <td>96.052315</td>\n",
              "      <td>0.00000</td>\n",
              "      <td>96.052315</td>\n",
              "    </tr>\n",
              "    <tr>\n",
              "      <th>2</th>\n",
              "      <td>3</td>\n",
              "      <td>91.160157</td>\n",
              "      <td>0.00000</td>\n",
              "      <td>91.160157</td>\n",
              "    </tr>\n",
              "    <tr>\n",
              "      <th>3</th>\n",
              "      <td>4</td>\n",
              "      <td>89.063515</td>\n",
              "      <td>0.00000</td>\n",
              "      <td>89.063515</td>\n",
              "    </tr>\n",
              "    <tr>\n",
              "      <th>4</th>\n",
              "      <td>5</td>\n",
              "      <td>89.238236</td>\n",
              "      <td>9.11456</td>\n",
              "      <td>98.352796</td>\n",
              "    </tr>\n",
              "  </tbody>\n",
              "</table>\n",
              "</div>"
            ],
            "text/plain": [
              "   key     wire_1   wire_2   wire_sum\n",
              "0    1  60.059998  0.00000  60.059998\n",
              "1    2  96.052315  0.00000  96.052315\n",
              "2    3  91.160157  0.00000  91.160157\n",
              "3    4  89.063515  0.00000  89.063515\n",
              "4    5  89.238236  9.11456  98.352796"
            ]
          },
          "execution_count": 58,
          "metadata": {},
          "output_type": "execute_result"
        }
      ],
      "source": [
        "df_wire.head()"
      ]
    },
    {
      "cell_type": "markdown",
      "metadata": {
        "id": "Hhwgr9JCnKiv"
      },
      "source": [
        "#### Вывод"
      ]
    },
    {
      "cell_type": "markdown",
      "metadata": {
        "id": "LkrUhvoNiLih"
      },
      "source": [
        "Выбраны самые самые массовые проволочные материалы, а также добавлен признак сумма всех проволочных материалов в партии"
      ]
    },
    {
      "cell_type": "markdown",
      "metadata": {
        "id": "AkAtRgI8IVdz"
      },
      "source": [
        "### Данные о проволочных материалах (время)"
      ]
    },
    {
      "cell_type": "markdown",
      "metadata": {
        "id": "_uvHbYqBiLih"
      },
      "source": [
        "#### Изучение данных"
      ]
    },
    {
      "cell_type": "code",
      "execution_count": null,
      "metadata": {
        "colab": {
          "base_uri": "https://localhost:8080/",
          "height": 206
        },
        "id": "V79FODLWI7mo",
        "outputId": "f81359d0-cf3b-43ec-ccf5-7a1c28bc20f5"
      },
      "outputs": [
        {
          "data": {
            "text/html": [
              "<div>\n",
              "<style scoped>\n",
              "    .dataframe tbody tr th:only-of-type {\n",
              "        vertical-align: middle;\n",
              "    }\n",
              "\n",
              "    .dataframe tbody tr th {\n",
              "        vertical-align: top;\n",
              "    }\n",
              "\n",
              "    .dataframe thead th {\n",
              "        text-align: right;\n",
              "    }\n",
              "</style>\n",
              "<table border=\"1\" class=\"dataframe\">\n",
              "  <thead>\n",
              "    <tr style=\"text-align: right;\">\n",
              "      <th></th>\n",
              "      <th>key</th>\n",
              "      <th>Wire 1</th>\n",
              "      <th>Wire 2</th>\n",
              "      <th>Wire 3</th>\n",
              "      <th>Wire 4</th>\n",
              "      <th>Wire 5</th>\n",
              "      <th>Wire 6</th>\n",
              "      <th>Wire 7</th>\n",
              "      <th>Wire 8</th>\n",
              "      <th>Wire 9</th>\n",
              "    </tr>\n",
              "  </thead>\n",
              "  <tbody>\n",
              "    <tr>\n",
              "      <th>0</th>\n",
              "      <td>1</td>\n",
              "      <td>2019-05-03 11:11:41</td>\n",
              "      <td>NaN</td>\n",
              "      <td>NaN</td>\n",
              "      <td>NaN</td>\n",
              "      <td>NaN</td>\n",
              "      <td>NaN</td>\n",
              "      <td>NaN</td>\n",
              "      <td>NaN</td>\n",
              "      <td>NaN</td>\n",
              "    </tr>\n",
              "    <tr>\n",
              "      <th>1</th>\n",
              "      <td>2</td>\n",
              "      <td>2019-05-03 11:46:10</td>\n",
              "      <td>NaN</td>\n",
              "      <td>NaN</td>\n",
              "      <td>NaN</td>\n",
              "      <td>NaN</td>\n",
              "      <td>NaN</td>\n",
              "      <td>NaN</td>\n",
              "      <td>NaN</td>\n",
              "      <td>NaN</td>\n",
              "    </tr>\n",
              "    <tr>\n",
              "      <th>2</th>\n",
              "      <td>3</td>\n",
              "      <td>2019-05-03 12:13:47</td>\n",
              "      <td>NaN</td>\n",
              "      <td>NaN</td>\n",
              "      <td>NaN</td>\n",
              "      <td>NaN</td>\n",
              "      <td>NaN</td>\n",
              "      <td>NaN</td>\n",
              "      <td>NaN</td>\n",
              "      <td>NaN</td>\n",
              "    </tr>\n",
              "    <tr>\n",
              "      <th>3</th>\n",
              "      <td>4</td>\n",
              "      <td>2019-05-03 12:48:05</td>\n",
              "      <td>NaN</td>\n",
              "      <td>NaN</td>\n",
              "      <td>NaN</td>\n",
              "      <td>NaN</td>\n",
              "      <td>NaN</td>\n",
              "      <td>NaN</td>\n",
              "      <td>NaN</td>\n",
              "      <td>NaN</td>\n",
              "    </tr>\n",
              "    <tr>\n",
              "      <th>4</th>\n",
              "      <td>5</td>\n",
              "      <td>2019-05-03 13:18:15</td>\n",
              "      <td>2019-05-03 13:32:06</td>\n",
              "      <td>NaN</td>\n",
              "      <td>NaN</td>\n",
              "      <td>NaN</td>\n",
              "      <td>NaN</td>\n",
              "      <td>NaN</td>\n",
              "      <td>NaN</td>\n",
              "      <td>NaN</td>\n",
              "    </tr>\n",
              "  </tbody>\n",
              "</table>\n",
              "</div>"
            ],
            "text/plain": [
              "   key               Wire 1               Wire 2 Wire 3 Wire 4 Wire 5 Wire 6  \\\n",
              "0    1  2019-05-03 11:11:41                  NaN    NaN    NaN    NaN    NaN   \n",
              "1    2  2019-05-03 11:46:10                  NaN    NaN    NaN    NaN    NaN   \n",
              "2    3  2019-05-03 12:13:47                  NaN    NaN    NaN    NaN    NaN   \n",
              "3    4  2019-05-03 12:48:05                  NaN    NaN    NaN    NaN    NaN   \n",
              "4    5  2019-05-03 13:18:15  2019-05-03 13:32:06    NaN    NaN    NaN    NaN   \n",
              "\n",
              "  Wire 7 Wire 8 Wire 9  \n",
              "0    NaN    NaN    NaN  \n",
              "1    NaN    NaN    NaN  \n",
              "2    NaN    NaN    NaN  \n",
              "3    NaN    NaN    NaN  \n",
              "4    NaN    NaN    NaN  "
            ]
          },
          "execution_count": 59,
          "metadata": {},
          "output_type": "execute_result"
        }
      ],
      "source": [
        "df_wire_time.head()"
      ]
    },
    {
      "cell_type": "code",
      "execution_count": null,
      "metadata": {
        "colab": {
          "base_uri": "https://localhost:8080/"
        },
        "id": "HQcByowTFr6Y",
        "outputId": "2d5f6fee-2dad-4434-e3f0-b6f0c28b4244"
      },
      "outputs": [
        {
          "name": "stdout",
          "output_type": "stream",
          "text": [
            "<class 'pandas.core.frame.DataFrame'>\n",
            "RangeIndex: 3081 entries, 0 to 3080\n",
            "Data columns (total 10 columns):\n",
            " #   Column  Non-Null Count  Dtype \n",
            "---  ------  --------------  ----- \n",
            " 0   key     3081 non-null   int64 \n",
            " 1   Wire 1  3055 non-null   object\n",
            " 2   Wire 2  1079 non-null   object\n",
            " 3   Wire 3  63 non-null     object\n",
            " 4   Wire 4  14 non-null     object\n",
            " 5   Wire 5  1 non-null      object\n",
            " 6   Wire 6  73 non-null     object\n",
            " 7   Wire 7  11 non-null     object\n",
            " 8   Wire 8  19 non-null     object\n",
            " 9   Wire 9  29 non-null     object\n",
            "dtypes: int64(1), object(9)\n",
            "memory usage: 240.8+ KB\n"
          ]
        }
      ],
      "source": [
        "df_wire_time.info()"
      ]
    },
    {
      "cell_type": "markdown",
      "metadata": {
        "id": "MR3b3pM0iLii"
      },
      "source": [
        "#### Начальная обработка данных"
      ]
    },
    {
      "cell_type": "markdown",
      "metadata": {
        "id": "KMBupsZYG8mX"
      },
      "source": [
        "Заполним пропуск датой 1900-01-01, нужно для дальнейшей работы:"
      ]
    },
    {
      "cell_type": "code",
      "execution_count": null,
      "metadata": {
        "id": "GOfs5H-yG8mY"
      },
      "outputs": [],
      "source": [
        "df_wire_time = df_wire_time.fillna(pd.Timestamp('19000101'))"
      ]
    },
    {
      "cell_type": "code",
      "execution_count": null,
      "metadata": {
        "id": "4wRkQD4LCSa0"
      },
      "outputs": [],
      "source": [
        "df_wire_time.columns = df_wire_time.columns.str.replace(' ','_').str.lower()"
      ]
    },
    {
      "cell_type": "markdown",
      "metadata": {
        "id": "JFUh3ss8iLii"
      },
      "source": [
        "Приведем даты к формату datetime:"
      ]
    },
    {
      "cell_type": "code",
      "execution_count": null,
      "metadata": {
        "id": "RnpmCQk4CeAu"
      },
      "outputs": [],
      "source": [
        "for i in range(1, 10):\n",
        "  df_wire_time[f\"wire_{i}\"] = pd.to_datetime(df_wire_time[f\"wire_{i}\"], format='%Y-%m-%d  %H:%M:%S')"
      ]
    },
    {
      "cell_type": "code",
      "execution_count": null,
      "metadata": {
        "colab": {
          "base_uri": "https://localhost:8080/"
        },
        "id": "NhKHRvfHCSGO",
        "outputId": "e6fbe979-7fe7-4414-8397-af8f32a47d54"
      },
      "outputs": [
        {
          "data": {
            "text/plain": [
              "160"
            ]
          },
          "execution_count": 64,
          "metadata": {},
          "output_type": "execute_result"
        }
      ],
      "source": [
        "len(set(range(1, 3242)) - set(df_wire_time['key']))"
      ]
    },
    {
      "cell_type": "markdown",
      "metadata": {
        "id": "2obaJDUPiLij"
      },
      "source": [
        "#### Вывод"
      ]
    },
    {
      "cell_type": "markdown",
      "metadata": {
        "id": "nZ2tVor9iLij"
      },
      "source": [
        "Время подачи материалов может пригодиться для определения тех партий, где материал засыпали, после измерения конечной температуры. Что поможет исключить эти партии."
      ]
    },
    {
      "cell_type": "markdown",
      "metadata": {
        "id": "sT5I45l3IIMu"
      },
      "source": [
        "### Данные о продувке сплава газом"
      ]
    },
    {
      "cell_type": "markdown",
      "metadata": {
        "id": "w9J1ukUjiLik"
      },
      "source": [
        "#### Изучение данных"
      ]
    },
    {
      "cell_type": "code",
      "execution_count": null,
      "metadata": {
        "colab": {
          "base_uri": "https://localhost:8080/",
          "height": 206
        },
        "id": "uMGV2EN2L1Pu",
        "outputId": "6cd88817-e742-41d3-c645-2292c05aee3f"
      },
      "outputs": [
        {
          "data": {
            "text/html": [
              "<div>\n",
              "<style scoped>\n",
              "    .dataframe tbody tr th:only-of-type {\n",
              "        vertical-align: middle;\n",
              "    }\n",
              "\n",
              "    .dataframe tbody tr th {\n",
              "        vertical-align: top;\n",
              "    }\n",
              "\n",
              "    .dataframe thead th {\n",
              "        text-align: right;\n",
              "    }\n",
              "</style>\n",
              "<table border=\"1\" class=\"dataframe\">\n",
              "  <thead>\n",
              "    <tr style=\"text-align: right;\">\n",
              "      <th></th>\n",
              "      <th>key</th>\n",
              "      <th>Газ 1</th>\n",
              "    </tr>\n",
              "  </thead>\n",
              "  <tbody>\n",
              "    <tr>\n",
              "      <th>0</th>\n",
              "      <td>1</td>\n",
              "      <td>29.749986</td>\n",
              "    </tr>\n",
              "    <tr>\n",
              "      <th>1</th>\n",
              "      <td>2</td>\n",
              "      <td>12.555561</td>\n",
              "    </tr>\n",
              "    <tr>\n",
              "      <th>2</th>\n",
              "      <td>3</td>\n",
              "      <td>28.554793</td>\n",
              "    </tr>\n",
              "    <tr>\n",
              "      <th>3</th>\n",
              "      <td>4</td>\n",
              "      <td>18.841219</td>\n",
              "    </tr>\n",
              "    <tr>\n",
              "      <th>4</th>\n",
              "      <td>5</td>\n",
              "      <td>5.413692</td>\n",
              "    </tr>\n",
              "  </tbody>\n",
              "</table>\n",
              "</div>"
            ],
            "text/plain": [
              "   key      Газ 1\n",
              "0    1  29.749986\n",
              "1    2  12.555561\n",
              "2    3  28.554793\n",
              "3    4  18.841219\n",
              "4    5   5.413692"
            ]
          },
          "execution_count": 65,
          "metadata": {},
          "output_type": "execute_result"
        }
      ],
      "source": [
        "df_gas.head()"
      ]
    },
    {
      "cell_type": "code",
      "execution_count": null,
      "metadata": {
        "colab": {
          "base_uri": "https://localhost:8080/"
        },
        "id": "wzXdL_4BFqly",
        "outputId": "80542427-3bf3-4506-eb08-3f4ec1984d35"
      },
      "outputs": [
        {
          "name": "stdout",
          "output_type": "stream",
          "text": [
            "<class 'pandas.core.frame.DataFrame'>\n",
            "RangeIndex: 3239 entries, 0 to 3238\n",
            "Data columns (total 2 columns):\n",
            " #   Column  Non-Null Count  Dtype  \n",
            "---  ------  --------------  -----  \n",
            " 0   key     3239 non-null   int64  \n",
            " 1   Газ 1   3239 non-null   float64\n",
            "dtypes: float64(1), int64(1)\n",
            "memory usage: 50.7 KB\n"
          ]
        }
      ],
      "source": [
        "df_gas.info()"
      ]
    },
    {
      "cell_type": "markdown",
      "metadata": {
        "id": "CreNltqJiLik"
      },
      "source": [
        "#### Начальная обработка данных"
      ]
    },
    {
      "cell_type": "code",
      "execution_count": null,
      "metadata": {
        "id": "WqdN49b6CrWP"
      },
      "outputs": [],
      "source": [
        "df_gas.columns = ['key', 'gas_1']"
      ]
    },
    {
      "cell_type": "code",
      "execution_count": null,
      "metadata": {
        "colab": {
          "base_uri": "https://localhost:8080/",
          "height": 295
        },
        "id": "Dzt-YvT0CvED",
        "outputId": "9ebb0a08-9a10-40d7-bd5c-3ecb8c65234d"
      },
      "outputs": [
        {
          "data": {
            "image/png": "[encoded data removed]",
            "text/plain": [
              "<Figure size 1008x288 with 1 Axes>"
            ]
          },
          "metadata": {
            "needs_background": "light"
          },
          "output_type": "display_data"
        }
      ],
      "source": [
        "plt.figure(figsize=(14, 4))\n",
        "sns.histplot(data=df_gas, x=\"gas_1\", kde=True, bins=35)\n",
        "plt.title('Распределение продувки газа')\n",
        "plt.ylabel('Количество')\n",
        "plt.xlabel('Объем')\n",
        "plt.grid(color='grey', axis='both', alpha=0.5)\n",
        "plt.xticks(np.arange(0, 80, 5))\n",
        "plt.yticks(np.arange(0, 800, 100))\n",
        "plt.show()"
      ]
    },
    {
      "cell_type": "code",
      "execution_count": null,
      "metadata": {
        "colab": {
          "base_uri": "https://localhost:8080/"
        },
        "id": "VnTWfCETDbHb",
        "outputId": "e9ba4381-1b3e-4cc7-9212-a88d410530d2"
      },
      "outputs": [
        {
          "data": {
            "text/plain": [
              "2"
            ]
          },
          "execution_count": 69,
          "metadata": {},
          "output_type": "execute_result"
        }
      ],
      "source": [
        "len(set(range(1, 3242)) - set(df_gas['key']))"
      ]
    },
    {
      "cell_type": "code",
      "execution_count": null,
      "metadata": {
        "colab": {
          "base_uri": "https://localhost:8080/",
          "height": 206
        },
        "id": "eDHilPrbDbCH",
        "outputId": "7d5471d7-2744-4775-a5e6-e558308dcfde"
      },
      "outputs": [
        {
          "data": {
            "text/html": [
              "<div>\n",
              "<style scoped>\n",
              "    .dataframe tbody tr th:only-of-type {\n",
              "        vertical-align: middle;\n",
              "    }\n",
              "\n",
              "    .dataframe tbody tr th {\n",
              "        vertical-align: top;\n",
              "    }\n",
              "\n",
              "    .dataframe thead th {\n",
              "        text-align: right;\n",
              "    }\n",
              "</style>\n",
              "<table border=\"1\" class=\"dataframe\">\n",
              "  <thead>\n",
              "    <tr style=\"text-align: right;\">\n",
              "      <th></th>\n",
              "      <th>key</th>\n",
              "      <th>gas_1</th>\n",
              "    </tr>\n",
              "  </thead>\n",
              "  <tbody>\n",
              "    <tr>\n",
              "      <th>0</th>\n",
              "      <td>1</td>\n",
              "      <td>29.749986</td>\n",
              "    </tr>\n",
              "    <tr>\n",
              "      <th>1</th>\n",
              "      <td>2</td>\n",
              "      <td>12.555561</td>\n",
              "    </tr>\n",
              "    <tr>\n",
              "      <th>2</th>\n",
              "      <td>3</td>\n",
              "      <td>28.554793</td>\n",
              "    </tr>\n",
              "    <tr>\n",
              "      <th>3</th>\n",
              "      <td>4</td>\n",
              "      <td>18.841219</td>\n",
              "    </tr>\n",
              "    <tr>\n",
              "      <th>4</th>\n",
              "      <td>5</td>\n",
              "      <td>5.413692</td>\n",
              "    </tr>\n",
              "  </tbody>\n",
              "</table>\n",
              "</div>"
            ],
            "text/plain": [
              "   key      gas_1\n",
              "0    1  29.749986\n",
              "1    2  12.555561\n",
              "2    3  28.554793\n",
              "3    4  18.841219\n",
              "4    5   5.413692"
            ]
          },
          "execution_count": 70,
          "metadata": {},
          "output_type": "execute_result"
        }
      ],
      "source": [
        "df_gas.head()"
      ]
    },
    {
      "cell_type": "markdown",
      "metadata": {
        "id": "hvHKYB9MRg8p"
      },
      "source": [
        "#### Вывод "
      ]
    },
    {
      "cell_type": "markdown",
      "metadata": {
        "id": "ZqyYZyk3iLil"
      },
      "source": [
        "Данные по газу имеют небольшие выбросы, с которыми мы поработаем в дальше. При этом, газом продувались почти все партии, только 2 не продувались."
      ]
    },
    {
      "cell_type": "markdown",
      "metadata": {
        "id": "JUW9BhKaIMUE"
      },
      "source": [
        "### Результаты измерения температуры"
      ]
    },
    {
      "cell_type": "markdown",
      "metadata": {
        "id": "s4dgXL-WiLil"
      },
      "source": [
        "#### Изучение данных"
      ]
    },
    {
      "cell_type": "code",
      "execution_count": null,
      "metadata": {
        "colab": {
          "base_uri": "https://localhost:8080/",
          "height": 206
        },
        "id": "bwghtHcuL1mY",
        "outputId": "ea90492e-737e-4f24-bc98-e529d05d8391"
      },
      "outputs": [
        {
          "data": {
            "text/html": [
              "<div>\n",
              "<style scoped>\n",
              "    .dataframe tbody tr th:only-of-type {\n",
              "        vertical-align: middle;\n",
              "    }\n",
              "\n",
              "    .dataframe tbody tr th {\n",
              "        vertical-align: top;\n",
              "    }\n",
              "\n",
              "    .dataframe thead th {\n",
              "        text-align: right;\n",
              "    }\n",
              "</style>\n",
              "<table border=\"1\" class=\"dataframe\">\n",
              "  <thead>\n",
              "    <tr style=\"text-align: right;\">\n",
              "      <th></th>\n",
              "      <th>key</th>\n",
              "      <th>Время замера</th>\n",
              "      <th>Температура</th>\n",
              "    </tr>\n",
              "  </thead>\n",
              "  <tbody>\n",
              "    <tr>\n",
              "      <th>0</th>\n",
              "      <td>1</td>\n",
              "      <td>2019-05-03 11:16:18</td>\n",
              "      <td>1571.0</td>\n",
              "    </tr>\n",
              "    <tr>\n",
              "      <th>1</th>\n",
              "      <td>1</td>\n",
              "      <td>2019-05-03 11:25:53</td>\n",
              "      <td>1604.0</td>\n",
              "    </tr>\n",
              "    <tr>\n",
              "      <th>2</th>\n",
              "      <td>1</td>\n",
              "      <td>2019-05-03 11:29:11</td>\n",
              "      <td>1618.0</td>\n",
              "    </tr>\n",
              "    <tr>\n",
              "      <th>3</th>\n",
              "      <td>1</td>\n",
              "      <td>2019-05-03 11:30:01</td>\n",
              "      <td>1601.0</td>\n",
              "    </tr>\n",
              "    <tr>\n",
              "      <th>4</th>\n",
              "      <td>1</td>\n",
              "      <td>2019-05-03 11:30:39</td>\n",
              "      <td>1613.0</td>\n",
              "    </tr>\n",
              "  </tbody>\n",
              "</table>\n",
              "</div>"
            ],
            "text/plain": [
              "   key         Время замера  Температура\n",
              "0    1  2019-05-03 11:16:18       1571.0\n",
              "1    1  2019-05-03 11:25:53       1604.0\n",
              "2    1  2019-05-03 11:29:11       1618.0\n",
              "3    1  2019-05-03 11:30:01       1601.0\n",
              "4    1  2019-05-03 11:30:39       1613.0"
            ]
          },
          "execution_count": 71,
          "metadata": {},
          "output_type": "execute_result"
        }
      ],
      "source": [
        "df_temp.head()"
      ]
    },
    {
      "cell_type": "code",
      "execution_count": null,
      "metadata": {
        "colab": {
          "base_uri": "https://localhost:8080/"
        },
        "id": "H3GSe7IRFrNY",
        "outputId": "969da200-3ece-4102-8cc8-a7654fe45ce1"
      },
      "outputs": [
        {
          "name": "stdout",
          "output_type": "stream",
          "text": [
            "<class 'pandas.core.frame.DataFrame'>\n",
            "RangeIndex: 15907 entries, 0 to 15906\n",
            "Data columns (total 3 columns):\n",
            " #   Column        Non-Null Count  Dtype  \n",
            "---  ------        --------------  -----  \n",
            " 0   key           15907 non-null  int64  \n",
            " 1   Время замера  15907 non-null  object \n",
            " 2   Температура   13006 non-null  float64\n",
            "dtypes: float64(1), int64(1), object(1)\n",
            "memory usage: 372.9+ KB\n"
          ]
        }
      ],
      "source": [
        "df_temp.info()"
      ]
    },
    {
      "cell_type": "markdown",
      "metadata": {
        "id": "UrRV-wSkiLim"
      },
      "source": [
        "Приведем название колонок в нужный вид и к нужнему типу данных:"
      ]
    },
    {
      "cell_type": "code",
      "execution_count": null,
      "metadata": {
        "id": "h66eo7_95GoV"
      },
      "outputs": [],
      "source": [
        "df_temp.columns = ['key', 'sample_time', 'temperature']"
      ]
    },
    {
      "cell_type": "code",
      "execution_count": null,
      "metadata": {
        "id": "54SQ_ReHYYFJ"
      },
      "outputs": [],
      "source": [
        "df_temp['sample_time'] = pd.to_datetime(df_temp['sample_time'], format='%Y-%m-%d  %H:%M:%S')"
      ]
    },
    {
      "cell_type": "code",
      "execution_count": null,
      "metadata": {
        "id": "IjlyJvbNiLim"
      },
      "outputs": [],
      "source": [
        ""
      ]
    },
    {
      "cell_type": "markdown",
      "metadata": {
        "id": "OtrZFXBtEnuq"
      },
      "source": [
        "#### Партии с материалами после последнего замера температуры "
      ]
    },
    {
      "cell_type": "markdown",
      "metadata": {
        "id": "HdrqHzbtiLim"
      },
      "source": [
        "Определим те партии, в которых засыпали материалы после замера температуры:"
      ]
    },
    {
      "cell_type": "markdown",
      "metadata": {
        "id": "ygLd_iCpiLin"
      },
      "source": [
        "Сыпучие материалы:"
      ]
    },
    {
      "cell_type": "code",
      "execution_count": null,
      "metadata": {
        "colab": {
          "base_uri": "https://localhost:8080/",
          "height": 81
        },
        "id": "qHRSLrh9EnSq",
        "outputId": "f6da7b83-eb62-43b3-821a-bd3492f6fd19"
      },
      "outputs": [
        {
          "data": {
            "text/html": [
              "<div>\n",
              "<style scoped>\n",
              "    .dataframe tbody tr th:only-of-type {\n",
              "        vertical-align: middle;\n",
              "    }\n",
              "\n",
              "    .dataframe tbody tr th {\n",
              "        vertical-align: top;\n",
              "    }\n",
              "\n",
              "    .dataframe thead th {\n",
              "        text-align: right;\n",
              "    }\n",
              "</style>\n",
              "<table border=\"1\" class=\"dataframe\">\n",
              "  <thead>\n",
              "    <tr style=\"text-align: right;\">\n",
              "      <th></th>\n",
              "      <th>key</th>\n",
              "      <th>bulk_1</th>\n",
              "      <th>bulk_2</th>\n",
              "      <th>bulk_3</th>\n",
              "      <th>bulk_4</th>\n",
              "      <th>bulk_5</th>\n",
              "      <th>bulk_6</th>\n",
              "      <th>bulk_7</th>\n",
              "      <th>bulk_8</th>\n",
              "      <th>bulk_9</th>\n",
              "      <th>bulk_10</th>\n",
              "      <th>bulk_11</th>\n",
              "      <th>bulk_12</th>\n",
              "      <th>bulk_13</th>\n",
              "      <th>bulk_14</th>\n",
              "      <th>bulk_15</th>\n",
              "    </tr>\n",
              "  </thead>\n",
              "  <tbody>\n",
              "    <tr>\n",
              "      <th>2864</th>\n",
              "      <td>2970</td>\n",
              "      <td>2019-08-23 06:50:00</td>\n",
              "      <td>1900-01-01</td>\n",
              "      <td>2019-08-23 06:52:26</td>\n",
              "      <td>2019-08-23 07:06:30</td>\n",
              "      <td>1900-01-01</td>\n",
              "      <td>1900-01-01</td>\n",
              "      <td>1900-01-01</td>\n",
              "      <td>1900-01-01</td>\n",
              "      <td>1900-01-01</td>\n",
              "      <td>1900-01-01</td>\n",
              "      <td>1900-01-01</td>\n",
              "      <td>2019-08-23 06:45:50</td>\n",
              "      <td>1900-01-01</td>\n",
              "      <td>2019-08-23 06:45:50</td>\n",
              "      <td>2019-08-23 06:45:50</td>\n",
              "    </tr>\n",
              "  </tbody>\n",
              "</table>\n",
              "</div>"
            ],
            "text/plain": [
              "       key              bulk_1     bulk_2              bulk_3  \\\n",
              "2864  2970 2019-08-23 06:50:00 1900-01-01 2019-08-23 06:52:26   \n",
              "\n",
              "                  bulk_4     bulk_5     bulk_6     bulk_7     bulk_8  \\\n",
              "2864 2019-08-23 07:06:30 1900-01-01 1900-01-01 1900-01-01 1900-01-01   \n",
              "\n",
              "         bulk_9    bulk_10    bulk_11             bulk_12    bulk_13  \\\n",
              "2864 1900-01-01 1900-01-01 1900-01-01 2019-08-23 06:45:50 1900-01-01   \n",
              "\n",
              "                 bulk_14             bulk_15  \n",
              "2864 2019-08-23 06:45:50 2019-08-23 06:45:50  "
            ]
          },
          "execution_count": 75,
          "metadata": {},
          "output_type": "execute_result"
        }
      ],
      "source": [
        "df_bulk_time.sample(1)"
      ]
    },
    {
      "cell_type": "code",
      "execution_count": null,
      "metadata": {
        "id": "ZWbhmJULFkcM"
      },
      "outputs": [],
      "source": [
        "df_bulk_time['max_bulk_time'] = df_bulk_time.drop('key', axis=1).max(axis=1, skipna=True, numeric_only=False)"
      ]
    },
    {
      "cell_type": "code",
      "execution_count": null,
      "metadata": {
        "id": "Hcl_vLxJFkUw"
      },
      "outputs": [],
      "source": [
        "df_bulk_time = df_bulk_time[['key', 'max_bulk_time']]"
      ]
    },
    {
      "cell_type": "markdown",
      "metadata": {
        "id": "sRZtNKr4iLin"
      },
      "source": [
        "Проволочные материалы:"
      ]
    },
    {
      "cell_type": "code",
      "execution_count": null,
      "metadata": {
        "colab": {
          "base_uri": "https://localhost:8080/",
          "height": 81
        },
        "id": "YZwlWN_lE20W",
        "outputId": "7e5ddf6f-face-4dff-b1a0-58447385bc68",
        "scrolled": true
      },
      "outputs": [
        {
          "data": {
            "text/html": [
              "<div>\n",
              "<style scoped>\n",
              "    .dataframe tbody tr th:only-of-type {\n",
              "        vertical-align: middle;\n",
              "    }\n",
              "\n",
              "    .dataframe tbody tr th {\n",
              "        vertical-align: top;\n",
              "    }\n",
              "\n",
              "    .dataframe thead th {\n",
              "        text-align: right;\n",
              "    }\n",
              "</style>\n",
              "<table border=\"1\" class=\"dataframe\">\n",
              "  <thead>\n",
              "    <tr style=\"text-align: right;\">\n",
              "      <th></th>\n",
              "      <th>key</th>\n",
              "      <th>wire_1</th>\n",
              "      <th>wire_2</th>\n",
              "      <th>wire_3</th>\n",
              "      <th>wire_4</th>\n",
              "      <th>wire_5</th>\n",
              "      <th>wire_6</th>\n",
              "      <th>wire_7</th>\n",
              "      <th>wire_8</th>\n",
              "      <th>wire_9</th>\n",
              "    </tr>\n",
              "  </thead>\n",
              "  <tbody>\n",
              "    <tr>\n",
              "      <th>1877</th>\n",
              "      <td>1968</td>\n",
              "      <td>2019-07-18 12:54:33</td>\n",
              "      <td>1900-01-01</td>\n",
              "      <td>1900-01-01</td>\n",
              "      <td>1900-01-01</td>\n",
              "      <td>1900-01-01</td>\n",
              "      <td>1900-01-01</td>\n",
              "      <td>1900-01-01</td>\n",
              "      <td>1900-01-01</td>\n",
              "      <td>1900-01-01</td>\n",
              "    </tr>\n",
              "  </tbody>\n",
              "</table>\n",
              "</div>"
            ],
            "text/plain": [
              "       key              wire_1     wire_2     wire_3     wire_4     wire_5  \\\n",
              "1877  1968 2019-07-18 12:54:33 1900-01-01 1900-01-01 1900-01-01 1900-01-01   \n",
              "\n",
              "         wire_6     wire_7     wire_8     wire_9  \n",
              "1877 1900-01-01 1900-01-01 1900-01-01 1900-01-01  "
            ]
          },
          "execution_count": 78,
          "metadata": {},
          "output_type": "execute_result"
        }
      ],
      "source": [
        "df_wire_time.sample(1)"
      ]
    },
    {
      "cell_type": "code",
      "execution_count": null,
      "metadata": {
        "id": "Rq8w--7hE2ys"
      },
      "outputs": [],
      "source": [
        "df_wire_time['max_wire_time'] = df_wire_time.drop('key', axis=1).max(axis=1, skipna=True, numeric_only=False)"
      ]
    },
    {
      "cell_type": "code",
      "execution_count": null,
      "metadata": {
        "id": "AiudO8HrE2w2"
      },
      "outputs": [],
      "source": [
        "df_wire_time = df_wire_time[['key', 'max_wire_time']]"
      ]
    },
    {
      "cell_type": "markdown",
      "metadata": {
        "id": "HvbU74CuiLio"
      },
      "source": [
        "Сгруппируем по последнему времени замера температуры:"
      ]
    },
    {
      "cell_type": "code",
      "execution_count": null,
      "metadata": {
        "id": "AYU9D45tE2s-"
      },
      "outputs": [],
      "source": [
        "df_temp_group_time = df_temp.groupby('key')['sample_time'].max().reset_index()"
      ]
    },
    {
      "cell_type": "markdown",
      "metadata": {
        "id": "iSWnvaRxiLio"
      },
      "source": [
        "Джойним данные по температуре, временем подачи материалов:"
      ]
    },
    {
      "cell_type": "code",
      "execution_count": null,
      "metadata": {
        "colab": {
          "base_uri": "https://localhost:8080/",
          "height": 206
        },
        "id": "i6dj6xFyE2pW",
        "outputId": "b02da767-f73d-462f-c26a-f190ef79c869"
      },
      "outputs": [
        {
          "data": {
            "text/html": [
              "<div>\n",
              "<style scoped>\n",
              "    .dataframe tbody tr th:only-of-type {\n",
              "        vertical-align: middle;\n",
              "    }\n",
              "\n",
              "    .dataframe tbody tr th {\n",
              "        vertical-align: top;\n",
              "    }\n",
              "\n",
              "    .dataframe thead th {\n",
              "        text-align: right;\n",
              "    }\n",
              "</style>\n",
              "<table border=\"1\" class=\"dataframe\">\n",
              "  <thead>\n",
              "    <tr style=\"text-align: right;\">\n",
              "      <th></th>\n",
              "      <th>key</th>\n",
              "      <th>sample_time</th>\n",
              "      <th>max_bulk_time</th>\n",
              "      <th>max_wire_time</th>\n",
              "    </tr>\n",
              "  </thead>\n",
              "  <tbody>\n",
              "    <tr>\n",
              "      <th>0</th>\n",
              "      <td>1</td>\n",
              "      <td>2019-05-03 11:30:39</td>\n",
              "      <td>2019-05-03 11:21:30</td>\n",
              "      <td>2019-05-03 11:11:41</td>\n",
              "    </tr>\n",
              "    <tr>\n",
              "      <th>1</th>\n",
              "      <td>2</td>\n",
              "      <td>2019-05-03 11:59:12</td>\n",
              "      <td>2019-05-03 11:46:38</td>\n",
              "      <td>2019-05-03 11:46:10</td>\n",
              "    </tr>\n",
              "    <tr>\n",
              "      <th>2</th>\n",
              "      <td>3</td>\n",
              "      <td>2019-05-03 12:34:57</td>\n",
              "      <td>2019-05-03 12:31:06</td>\n",
              "      <td>2019-05-03 12:13:47</td>\n",
              "    </tr>\n",
              "    <tr>\n",
              "      <th>3</th>\n",
              "      <td>4</td>\n",
              "      <td>2019-05-03 12:59:25</td>\n",
              "      <td>2019-05-03 12:48:43</td>\n",
              "      <td>2019-05-03 12:48:05</td>\n",
              "    </tr>\n",
              "    <tr>\n",
              "      <th>4</th>\n",
              "      <td>5</td>\n",
              "      <td>2019-05-03 13:36:01</td>\n",
              "      <td>2019-05-03 13:18:50</td>\n",
              "      <td>2019-05-03 13:32:06</td>\n",
              "    </tr>\n",
              "  </tbody>\n",
              "</table>\n",
              "</div>"
            ],
            "text/plain": [
              "   key         sample_time       max_bulk_time       max_wire_time\n",
              "0    1 2019-05-03 11:30:39 2019-05-03 11:21:30 2019-05-03 11:11:41\n",
              "1    2 2019-05-03 11:59:12 2019-05-03 11:46:38 2019-05-03 11:46:10\n",
              "2    3 2019-05-03 12:34:57 2019-05-03 12:31:06 2019-05-03 12:13:47\n",
              "3    4 2019-05-03 12:59:25 2019-05-03 12:48:43 2019-05-03 12:48:05\n",
              "4    5 2019-05-03 13:36:01 2019-05-03 13:18:50 2019-05-03 13:32:06"
            ]
          },
          "execution_count": 82,
          "metadata": {},
          "output_type": "execute_result"
        }
      ],
      "source": [
        "df_temp_group_time = df_temp_group_time.merge(df_bulk_time, on='key', how='left')\n",
        "df_temp_group_time = df_temp_group_time.merge(df_wire_time, on='key', how='left')\n",
        "df_temp_group_time.head()"
      ]
    },
    {
      "cell_type": "markdown",
      "metadata": {
        "id": "Mx6WfS4tiLip"
      },
      "source": [
        "Проведем логическую индексацию для определения партий"
      ]
    },
    {
      "cell_type": "code",
      "execution_count": null,
      "metadata": {
        "colab": {
          "base_uri": "https://localhost:8080/",
          "height": 363
        },
        "id": "p2Fbw1h4E2jj",
        "outputId": "ceb2a765-bec6-4330-d300-265adc542786"
      },
      "outputs": [
        {
          "data": {
            "text/html": [
              "<div>\n",
              "<style scoped>\n",
              "    .dataframe tbody tr th:only-of-type {\n",
              "        vertical-align: middle;\n",
              "    }\n",
              "\n",
              "    .dataframe tbody tr th {\n",
              "        vertical-align: top;\n",
              "    }\n",
              "\n",
              "    .dataframe thead th {\n",
              "        text-align: right;\n",
              "    }\n",
              "</style>\n",
              "<table border=\"1\" class=\"dataframe\">\n",
              "  <thead>\n",
              "    <tr style=\"text-align: right;\">\n",
              "      <th></th>\n",
              "      <th>key</th>\n",
              "      <th>sample_time</th>\n",
              "      <th>max_bulk_time</th>\n",
              "      <th>max_wire_time</th>\n",
              "    </tr>\n",
              "  </thead>\n",
              "  <tbody>\n",
              "    <tr>\n",
              "      <th>578</th>\n",
              "      <td>586</td>\n",
              "      <td>2019-05-25 01:28:18</td>\n",
              "      <td>2019-05-25 01:29:11</td>\n",
              "      <td>2019-05-25 01:17:33</td>\n",
              "    </tr>\n",
              "    <tr>\n",
              "      <th>1231</th>\n",
              "      <td>1244</td>\n",
              "      <td>2019-06-17 08:45:16</td>\n",
              "      <td>2019-06-17 08:49:23</td>\n",
              "      <td>2019-06-17 08:49:29</td>\n",
              "    </tr>\n",
              "    <tr>\n",
              "      <th>1302</th>\n",
              "      <td>1316</td>\n",
              "      <td>2019-06-19 17:34:42</td>\n",
              "      <td>2019-06-19 17:35:26</td>\n",
              "      <td>2019-06-19 17:23:55</td>\n",
              "    </tr>\n",
              "    <tr>\n",
              "      <th>1478</th>\n",
              "      <td>1493</td>\n",
              "      <td>2019-06-26 06:47:47</td>\n",
              "      <td>2019-06-26 06:51:49</td>\n",
              "      <td>2019-06-26 06:37:40</td>\n",
              "    </tr>\n",
              "    <tr>\n",
              "      <th>1490</th>\n",
              "      <td>1505</td>\n",
              "      <td>2019-06-26 14:14:29</td>\n",
              "      <td>2019-06-26 14:17:30</td>\n",
              "      <td>2019-06-26 14:18:01</td>\n",
              "    </tr>\n",
              "    <tr>\n",
              "      <th>1534</th>\n",
              "      <td>1549</td>\n",
              "      <td>2019-06-28 05:32:46</td>\n",
              "      <td>2019-06-28 05:33:18</td>\n",
              "      <td>2019-06-28 05:21:40</td>\n",
              "    </tr>\n",
              "    <tr>\n",
              "      <th>1858</th>\n",
              "      <td>1873</td>\n",
              "      <td>2019-07-08 22:09:51</td>\n",
              "      <td>2019-07-08 22:13:14</td>\n",
              "      <td>2019-07-08 22:00:47</td>\n",
              "    </tr>\n",
              "    <tr>\n",
              "      <th>2120</th>\n",
              "      <td>2137</td>\n",
              "      <td>2019-07-24 16:53:42</td>\n",
              "      <td>2019-07-24 16:53:54</td>\n",
              "      <td>2019-07-24 16:35:46</td>\n",
              "    </tr>\n",
              "    <tr>\n",
              "      <th>2401</th>\n",
              "      <td>2421</td>\n",
              "      <td>2019-08-03 09:06:23</td>\n",
              "      <td>2019-08-03 09:06:24</td>\n",
              "      <td>2019-08-03 08:54:27</td>\n",
              "    </tr>\n",
              "    <tr>\n",
              "      <th>2644</th>\n",
              "      <td>2667</td>\n",
              "      <td>2019-08-12 04:35:21</td>\n",
              "      <td>2019-08-12 04:35:33</td>\n",
              "      <td>2019-08-12 04:24:19</td>\n",
              "    </tr>\n",
              "  </tbody>\n",
              "</table>\n",
              "</div>"
            ],
            "text/plain": [
              "       key         sample_time       max_bulk_time       max_wire_time\n",
              "578    586 2019-05-25 01:28:18 2019-05-25 01:29:11 2019-05-25 01:17:33\n",
              "1231  1244 2019-06-17 08:45:16 2019-06-17 08:49:23 2019-06-17 08:49:29\n",
              "1302  1316 2019-06-19 17:34:42 2019-06-19 17:35:26 2019-06-19 17:23:55\n",
              "1478  1493 2019-06-26 06:47:47 2019-06-26 06:51:49 2019-06-26 06:37:40\n",
              "1490  1505 2019-06-26 14:14:29 2019-06-26 14:17:30 2019-06-26 14:18:01\n",
              "1534  1549 2019-06-28 05:32:46 2019-06-28 05:33:18 2019-06-28 05:21:40\n",
              "1858  1873 2019-07-08 22:09:51 2019-07-08 22:13:14 2019-07-08 22:00:47\n",
              "2120  2137 2019-07-24 16:53:42 2019-07-24 16:53:54 2019-07-24 16:35:46\n",
              "2401  2421 2019-08-03 09:06:23 2019-08-03 09:06:24 2019-08-03 08:54:27\n",
              "2644  2667 2019-08-12 04:35:21 2019-08-12 04:35:33 2019-08-12 04:24:19"
            ]
          },
          "execution_count": 83,
          "metadata": {},
          "output_type": "execute_result"
        }
      ],
      "source": [
        "df_temp_group_time_bad_key = df_temp_group_time[(df_temp_group_time['sample_time'] < df_temp_group_time['max_bulk_time']) | \n",
        "                   (df_temp_group_time['sample_time'] < df_temp_group_time['max_wire_time'])]\n",
        "df_temp_group_time_bad_key"
      ]
    },
    {
      "cell_type": "markdown",
      "metadata": {
        "id": "wYTDJfC5iLip"
      },
      "source": [
        "Посмотрим на некоторые из этих партий"
      ]
    },
    {
      "cell_type": "code",
      "execution_count": null,
      "metadata": {
        "colab": {
          "base_uri": "https://localhost:8080/",
          "height": 237
        },
        "id": "fvR2Zq0TE2hr",
        "outputId": "7cba5686-56a6-45ec-8c5e-481ad9c58400"
      },
      "outputs": [
        {
          "data": {
            "text/html": [
              "<div>\n",
              "<style scoped>\n",
              "    .dataframe tbody tr th:only-of-type {\n",
              "        vertical-align: middle;\n",
              "    }\n",
              "\n",
              "    .dataframe tbody tr th {\n",
              "        vertical-align: top;\n",
              "    }\n",
              "\n",
              "    .dataframe thead th {\n",
              "        text-align: right;\n",
              "    }\n",
              "</style>\n",
              "<table border=\"1\" class=\"dataframe\">\n",
              "  <thead>\n",
              "    <tr style=\"text-align: right;\">\n",
              "      <th></th>\n",
              "      <th>key</th>\n",
              "      <th>sample_time</th>\n",
              "      <th>temperature</th>\n",
              "    </tr>\n",
              "  </thead>\n",
              "  <tbody>\n",
              "    <tr>\n",
              "      <th>2999</th>\n",
              "      <td>586</td>\n",
              "      <td>2019-05-25 01:15:23</td>\n",
              "      <td>1594.0</td>\n",
              "    </tr>\n",
              "    <tr>\n",
              "      <th>3000</th>\n",
              "      <td>586</td>\n",
              "      <td>2019-05-25 01:23:27</td>\n",
              "      <td>1582.0</td>\n",
              "    </tr>\n",
              "    <tr>\n",
              "      <th>3001</th>\n",
              "      <td>586</td>\n",
              "      <td>2019-05-25 01:28:18</td>\n",
              "      <td>1594.0</td>\n",
              "    </tr>\n",
              "    <tr>\n",
              "      <th>13121</th>\n",
              "      <td>2667</td>\n",
              "      <td>2019-08-12 04:19:16</td>\n",
              "      <td>1583.0</td>\n",
              "    </tr>\n",
              "    <tr>\n",
              "      <th>13122</th>\n",
              "      <td>2667</td>\n",
              "      <td>2019-08-12 04:28:00</td>\n",
              "      <td>NaN</td>\n",
              "    </tr>\n",
              "    <tr>\n",
              "      <th>13123</th>\n",
              "      <td>2667</td>\n",
              "      <td>2019-08-12 04:35:21</td>\n",
              "      <td>NaN</td>\n",
              "    </tr>\n",
              "  </tbody>\n",
              "</table>\n",
              "</div>"
            ],
            "text/plain": [
              "        key         sample_time  temperature\n",
              "2999    586 2019-05-25 01:15:23       1594.0\n",
              "3000    586 2019-05-25 01:23:27       1582.0\n",
              "3001    586 2019-05-25 01:28:18       1594.0\n",
              "13121  2667 2019-08-12 04:19:16       1583.0\n",
              "13122  2667 2019-08-12 04:28:00          NaN\n",
              "13123  2667 2019-08-12 04:35:21          NaN"
            ]
          },
          "execution_count": 84,
          "metadata": {},
          "output_type": "execute_result"
        }
      ],
      "source": [
        "df_temp[(df_temp['key'] == 2667) | (df_temp['key'] == 586)]"
      ]
    },
    {
      "cell_type": "markdown",
      "metadata": {
        "id": "fpzx_Y-EK0Hq"
      },
      "source": [
        "Отфильтруем \"плохие\" партии:"
      ]
    },
    {
      "cell_type": "code",
      "execution_count": null,
      "metadata": {
        "id": "UnoNwCxDE2eK"
      },
      "outputs": [],
      "source": [
        "df_temp = df_temp[~df_temp['key'].isin(list(df_temp_group_time_bad_key['key'].values))]"
      ]
    },
    {
      "cell_type": "markdown",
      "metadata": {
        "id": "Fmf5z-L3iLiq"
      },
      "source": [
        "#### Начальная обработка данных"
      ]
    },
    {
      "cell_type": "markdown",
      "metadata": {
        "id": "UYtfKPrwiLiq"
      },
      "source": [
        "Перед агрегацией хороши убрать явные выбросы из данных, для этого посмотрим на них"
      ]
    },
    {
      "cell_type": "markdown",
      "metadata": {
        "id": "-aXuL_1JnKi3"
      },
      "source": [
        "Оценка количества партий:"
      ]
    },
    {
      "cell_type": "code",
      "execution_count": null,
      "metadata": {
        "colab": {
          "base_uri": "https://localhost:8080/",
          "height": 295
        },
        "id": "solDFmK-nKi3",
        "outputId": "690c7e85-a889-4482-e509-286d8fa6f4c3"
      },
      "outputs": [
        {
          "data": {
            "image/png": "[encoded data removed]",
            "text/plain": [
              "<Figure size 1008x288 with 1 Axes>"
            ]
          },
          "metadata": {
            "needs_background": "light"
          },
          "output_type": "display_data"
        }
      ],
      "source": [
        "plt.figure(figsize=(14, 4))\n",
        "sns.histplot(data=df_temp, x=\"key\", kde=True, bins=322)\n",
        "plt.title('Распределение количества замеров температуры')\n",
        "plt.ylabel('Количество')\n",
        "plt.xlabel('Партии')\n",
        "plt.grid(color='grey', axis='both', alpha=0.5)\n",
        "plt.xticks(np.arange(0, 3500, 250))\n",
        "plt.yticks(np.arange(0, 100, 10))\n",
        "plt.show()"
      ]
    },
    {
      "cell_type": "code",
      "execution_count": null,
      "metadata": {
        "colab": {
          "base_uri": "https://localhost:8080/",
          "height": 132
        },
        "id": "pPBA8ojWnKi3",
        "outputId": "f8153485-8121-4f6c-e5aa-283548acae07",
        "scrolled": true
      },
      "outputs": [
        {
          "data": {
            "image/png": "[encoded data removed]",
            "text/plain": [
              "<Figure size 1008x72 with 1 Axes>"
            ]
          },
          "metadata": {
            "needs_background": "light"
          },
          "output_type": "display_data"
        }
      ],
      "source": [
        "plt.figure(figsize=(14, 1))\n",
        "sns.boxplot(x=df_temp.groupby('key')['key'].agg('count'))\n",
        "plt.title('Диаграмма размаха количество замеров температуры')\n",
        "plt.xlabel('Количество')\n",
        "plt.grid(color='grey', axis='both', alpha=0.5)\n",
        "plt.show()"
      ]
    },
    {
      "cell_type": "markdown",
      "metadata": {
        "id": "uT6T5Kc0iLir"
      },
      "source": [
        "Видим явные выбросы, в которых число замеров было более 10, посмотрим на них"
      ]
    },
    {
      "cell_type": "code",
      "execution_count": null,
      "metadata": {
        "id": "D19e3t0rnKi3"
      },
      "outputs": [],
      "source": [
        "df_bad_key = df_temp['key'].value_counts().reset_index()[\n",
        "    df_temp['key'].value_counts().reset_index()['key'] >= 10]['index']"
      ]
    },
    {
      "cell_type": "markdown",
      "metadata": {
        "id": "vTGpqpnliLir"
      },
      "source": [
        "Выведем их количество в данных:"
      ]
    },
    {
      "cell_type": "code",
      "execution_count": null,
      "metadata": {
        "colab": {
          "base_uri": "https://localhost:8080/"
        },
        "id": "aOZ3IbmMnKi3",
        "outputId": "cf5dbb4b-2eb3-4cbd-e836-535341f5372f",
        "scrolled": true
      },
      "outputs": [
        {
          "data": {
            "text/plain": [
              "0.022457891453524642"
            ]
          },
          "execution_count": 89,
          "metadata": {},
          "output_type": "execute_result"
        }
      ],
      "source": [
        "len(df_bad_key) / len(df_temp['key'].value_counts().reset_index())"
      ]
    },
    {
      "cell_type": "markdown",
      "metadata": {
        "id": "hvxYZhIViLir"
      },
      "source": [
        "Их около 2 %, удалим данные партии"
      ]
    },
    {
      "cell_type": "code",
      "execution_count": null,
      "metadata": {
        "id": "iIQwVBVhnKi3"
      },
      "outputs": [],
      "source": [
        "for i in df_bad_key:\n",
        "    df_temp = df_temp[df_temp['key'] != i]"
      ]
    },
    {
      "cell_type": "markdown",
      "metadata": {
        "id": "gaZDAyUWnKi4"
      },
      "source": [
        "Оценка времени замеров:"
      ]
    },
    {
      "cell_type": "code",
      "execution_count": null,
      "metadata": {
        "colab": {
          "base_uri": "https://localhost:8080/",
          "height": 295
        },
        "id": "FMRdkqTwnKi4",
        "outputId": "4c0ecbff-9b74-4413-f918-18a70f92e1a8"
      },
      "outputs": [
        {
          "data": {
            "image/png": "[encoded data removed]",
            "text/plain": [
              "<Figure size 1008x288 with 1 Axes>"
            ]
          },
          "metadata": {
            "needs_background": "light"
          },
          "output_type": "display_data"
        }
      ],
      "source": [
        "plt.figure(figsize=(14, 4))\n",
        "sns.histplot(data=df_temp, x=\"sample_time\", kde=True, bins=322)\n",
        "plt.title('Распределение времени замеров температуры')\n",
        "plt.ylabel('Количество')\n",
        "plt.xlabel('Время')\n",
        "plt.grid(color='grey', axis='both', alpha=0.5)\n",
        "plt.show()"
      ]
    },
    {
      "cell_type": "markdown",
      "metadata": {
        "id": "sL1AGowhiLis"
      },
      "source": [
        "Видим какой-то перерым по времени замеров температуры"
      ]
    },
    {
      "cell_type": "markdown",
      "metadata": {
        "id": "w1anJ0YHnKi4"
      },
      "source": [
        "Оценка измеряемой температуры:"
      ]
    },
    {
      "cell_type": "markdown",
      "metadata": {
        "id": "0H9WKzLbnKi4"
      },
      "source": [
        "Число плавок, где замеряли только один раз температуру:"
      ]
    },
    {
      "cell_type": "code",
      "execution_count": null,
      "metadata": {
        "colab": {
          "base_uri": "https://localhost:8080/"
        },
        "id": "W6apmEKenKi4",
        "outputId": "4b992af3-f2c0-4826-c16b-274ad37db17d"
      },
      "outputs": [
        {
          "data": {
            "text/plain": [
              "723"
            ]
          },
          "execution_count": 92,
          "metadata": {},
          "output_type": "execute_result"
        }
      ],
      "source": [
        "len(df_temp[df_temp['temperature'].isna()].groupby('key'))"
      ]
    },
    {
      "cell_type": "markdown",
      "metadata": {
        "id": "Rxif9R1_nKi4"
      },
      "source": [
        "Данные парти требуется отбросить, так как они не дают нам никаких вариантов для предсказания."
      ]
    },
    {
      "cell_type": "code",
      "execution_count": null,
      "metadata": {
        "id": "bDvQcCqenKi4"
      },
      "outputs": [],
      "source": [
        "one_temp_meas = list(df_temp[df_temp['temperature'].isna()].\n",
        "                                   groupby('key')['temperature'].count().index)"
      ]
    },
    {
      "cell_type": "code",
      "execution_count": null,
      "metadata": {
        "id": "Tr6s9wxenKi4"
      },
      "outputs": [],
      "source": [
        "df_temp = df_temp[~df_temp['key'].isin(one_temp_meas)]"
      ]
    },
    {
      "cell_type": "code",
      "execution_count": null,
      "metadata": {
        "colab": {
          "base_uri": "https://localhost:8080/"
        },
        "id": "IwI594dnnKi5",
        "outputId": "bf8ad49a-3568-4376-ac90-3dc1000902e8"
      },
      "outputs": [
        {
          "data": {
            "text/plain": [
              "0"
            ]
          },
          "execution_count": 95,
          "metadata": {},
          "output_type": "execute_result"
        }
      ],
      "source": [
        "df_temp['temperature'].isna().sum()"
      ]
    },
    {
      "cell_type": "code",
      "execution_count": null,
      "metadata": {
        "colab": {
          "base_uri": "https://localhost:8080/",
          "height": 295
        },
        "id": "Mt-K2XoBnKi5",
        "outputId": "ada480e0-f039-40a1-a21e-557f835c53a8",
        "scrolled": true
      },
      "outputs": [
        {
          "data": {
            "image/png": "[encoded data removed]",
            "text/plain": [
              "<Figure size 1008x288 with 1 Axes>"
            ]
          },
          "metadata": {
            "needs_background": "light"
          },
          "output_type": "display_data"
        }
      ],
      "source": [
        "plt.figure(figsize=(14, 4))\n",
        "sns.histplot(data=df_temp, x=\"temperature\", kde=True, bins=42)\n",
        "plt.title('Распределение температуры')\n",
        "plt.ylabel('Количество')\n",
        "plt.xlabel('Температуры')\n",
        "plt.grid(color='grey', axis='both', alpha=0.5)\n",
        "plt.show()"
      ]
    },
    {
      "cell_type": "code",
      "execution_count": null,
      "metadata": {
        "colab": {
          "base_uri": "https://localhost:8080/",
          "height": 132
        },
        "id": "fGcvjiYUnKi5",
        "outputId": "5f56188b-a6b0-406a-8f27-b25e1995b593",
        "scrolled": true
      },
      "outputs": [
        {
          "data": {
            "image/png": "[encoded data removed]",
            "text/plain": [
              "<Figure size 1008x72 with 1 Axes>"
            ]
          },
          "metadata": {
            "needs_background": "light"
          },
          "output_type": "display_data"
        }
      ],
      "source": [
        "plt.figure(figsize=(14, 1))\n",
        "sns.boxplot(x=df_temp['temperature'])\n",
        "plt.title('Диаграмма размаха по температуре')\n",
        "plt.grid(color='grey', axis='both', alpha=0.5)\n",
        "plt.show()"
      ]
    },
    {
      "cell_type": "code",
      "execution_count": null,
      "metadata": {
        "colab": {
          "base_uri": "https://localhost:8080/"
        },
        "id": "PQczMgBInKi5",
        "outputId": "74eece75-1469-4a48-de1e-17ab605ab527",
        "scrolled": true
      },
      "outputs": [
        {
          "data": {
            "text/plain": [
              "count    11577.000000\n",
              "mean      1591.803490\n",
              "std         20.231371\n",
              "min       1191.000000\n",
              "25%       1581.000000\n",
              "50%       1591.000000\n",
              "75%       1600.000000\n",
              "max       1705.000000\n",
              "Name: temperature, dtype: float64"
            ]
          },
          "execution_count": 98,
          "metadata": {},
          "output_type": "execute_result"
        }
      ],
      "source": [
        "df_temp['temperature'].describe()"
      ]
    },
    {
      "cell_type": "markdown",
      "metadata": {
        "id": "NFsOTFhsiLiu"
      },
      "source": [
        "Видны выбросы измеряемой температуры, в том числе ниже плавления стали [Ссылка](https://nerzhaveyka-spb.ru/temperatura-plavleniya-nerzhaveyushhej-stali/)"
      ]
    },
    {
      "cell_type": "code",
      "execution_count": null,
      "metadata": {
        "colab": {
          "base_uri": "https://localhost:8080/"
        },
        "id": "BvgZ2UxMnKi5",
        "outputId": "62829a75-91b4-40ad-9355-4582f877e1c3",
        "scrolled": true
      },
      "outputs": [
        {
          "data": {
            "text/plain": [
              "0.06746134577178889"
            ]
          },
          "execution_count": 99,
          "metadata": {},
          "output_type": "execute_result"
        }
      ],
      "source": [
        "(len(df_temp) - len(df_temp[(df_temp['temperature'] >= 1540) & (df_temp['temperature'] <= 1620)])) / len(df_temp)"
      ]
    },
    {
      "cell_type": "markdown",
      "metadata": {
        "id": "xMKVNyXliLiu"
      },
      "source": [
        "Околок 6 % выбросов, удалим их"
      ]
    },
    {
      "cell_type": "code",
      "execution_count": null,
      "metadata": {
        "id": "xdV5lfBNnKi5"
      },
      "outputs": [],
      "source": [
        "df_temp = df_temp[(df_temp['temperature'] >= 1540) & (df_temp['temperature'] <= 1620)]"
      ]
    },
    {
      "cell_type": "markdown",
      "metadata": {
        "id": "wzbcfMynRSTm"
      },
      "source": [
        "Посмотрим на количество партий, в которых не делались замеры температуры:"
      ]
    },
    {
      "cell_type": "code",
      "execution_count": null,
      "metadata": {
        "colab": {
          "base_uri": "https://localhost:8080/"
        },
        "id": "3lB9xeabI7gB",
        "outputId": "7690b45a-23f5-4484-e604-a8c90e6daa02"
      },
      "outputs": [
        {
          "data": {
            "text/plain": [
              "891"
            ]
          },
          "execution_count": 101,
          "metadata": {},
          "output_type": "execute_result"
        }
      ],
      "source": [
        "len(set(range(1, 3242)) - set(df_temp['key']))"
      ]
    },
    {
      "cell_type": "markdown",
      "metadata": {
        "id": "Z_5XFx7DiLiv"
      },
      "source": [
        "Достатчно большое количество пропущенных партий, возможно технологический цикл"
      ]
    },
    {
      "cell_type": "markdown",
      "metadata": {
        "id": "KgnQ-JxSiLiv"
      },
      "source": [
        "#### Агрегация данных о измерении температуры"
      ]
    },
    {
      "cell_type": "markdown",
      "metadata": {
        "id": "eJ_TbcN06i7G"
      },
      "source": [
        "Сгруппируем данные:"
      ]
    },
    {
      "cell_type": "code",
      "execution_count": null,
      "metadata": {
        "id": "M0IlrO1VUd4R"
      },
      "outputs": [],
      "source": [
        "df_temp_group = pd.pivot_table(df_temp, values=['sample_time', 'temperature'], index=['key'],\n",
        "                    aggfunc={'sample_time': [np.min, np.max, 'count'],\n",
        "                             'temperature': [np.min, np.max, np.mean, 'first', 'last']}).reset_index()"
      ]
    },
    {
      "cell_type": "code",
      "execution_count": null,
      "metadata": {
        "id": "FTcuQWO2W7ld"
      },
      "outputs": [],
      "source": [
        "df_temp_group.columns = df_temp_group.columns.droplevel(0)\n",
        "df_temp_group.columns = ['key', 'time_first', 'time_last', 'count', 'temp_min', 'temp_max','temp_first', 'temp_last', 'temp_mean']"
      ]
    },
    {
      "cell_type": "code",
      "execution_count": null,
      "metadata": {
        "colab": {
          "base_uri": "https://localhost:8080/"
        },
        "id": "8Sv4cKvZYImy",
        "outputId": "7a7a5833-3bc4-412c-a261-139eb73e3001"
      },
      "outputs": [
        {
          "name": "stdout",
          "output_type": "stream",
          "text": [
            "<class 'pandas.core.frame.DataFrame'>\n",
            "RangeIndex: 2350 entries, 0 to 2349\n",
            "Data columns (total 9 columns):\n",
            " #   Column      Non-Null Count  Dtype         \n",
            "---  ------      --------------  -----         \n",
            " 0   key         2350 non-null   int64         \n",
            " 1   time_first  2350 non-null   datetime64[ns]\n",
            " 2   time_last   2350 non-null   datetime64[ns]\n",
            " 3   count       2350 non-null   int64         \n",
            " 4   temp_min    2350 non-null   float64       \n",
            " 5   temp_max    2350 non-null   float64       \n",
            " 6   temp_first  2350 non-null   float64       \n",
            " 7   temp_last   2350 non-null   float64       \n",
            " 8   temp_mean   2350 non-null   float64       \n",
            "dtypes: datetime64[ns](2), float64(5), int64(2)\n",
            "memory usage: 165.4 KB\n"
          ]
        }
      ],
      "source": [
        "df_temp_group.info()"
      ]
    },
    {
      "cell_type": "markdown",
      "metadata": {
        "id": "rsLoudZDiLiw"
      },
      "source": [
        "Добавим продолжительность измерения"
      ]
    },
    {
      "cell_type": "code",
      "execution_count": null,
      "metadata": {
        "id": "_pieWbmnXNn9"
      },
      "outputs": [],
      "source": [
        "df_temp_group['duration_temp_meas'] = (df_temp_group['time_first'] - df_temp_group['time_last']).dt.seconds"
      ]
    },
    {
      "cell_type": "code",
      "execution_count": null,
      "metadata": {
        "id": "l-z86E2vM8Av"
      },
      "outputs": [],
      "source": [
        "df_temp_group = df_temp_group[['key', 'count', 'temp_min', 'temp_max', 'temp_mean', \n",
        "                               'temp_first', 'temp_last', 'duration_temp_meas']]"
      ]
    },
    {
      "cell_type": "code",
      "execution_count": null,
      "metadata": {
        "colab": {
          "base_uri": "https://localhost:8080/",
          "height": 300
        },
        "id": "I09ucJ-JW-Fz",
        "outputId": "5bb43eeb-a547-4316-966b-f0a1c0b44a02",
        "scrolled": true
      },
      "outputs": [
        {
          "data": {
            "text/html": [
              "<style  type=\"text/css\" >\n",
              "#T_3c5fc_row0_col0,#T_3c5fc_row1_col1,#T_3c5fc_row2_col2,#T_3c5fc_row3_col3,#T_3c5fc_row4_col4,#T_3c5fc_row5_col5,#T_3c5fc_row6_col6,#T_3c5fc_row7_col7{\n",
              "            background-color:  #b40426;\n",
              "            color:  #f1f1f1;\n",
              "        }#T_3c5fc_row0_col1{\n",
              "            background-color:  #4961d2;\n",
              "            color:  #f1f1f1;\n",
              "        }#T_3c5fc_row0_col2,#T_3c5fc_row0_col4,#T_3c5fc_row0_col5,#T_3c5fc_row0_col6,#T_3c5fc_row1_col3,#T_3c5fc_row3_col1,#T_3c5fc_row3_col7,#T_3c5fc_row6_col0{\n",
              "            background-color:  #3b4cc0;\n",
              "            color:  #f1f1f1;\n",
              "        }#T_3c5fc_row0_col3{\n",
              "            background-color:  #485fd1;\n",
              "            color:  #f1f1f1;\n",
              "        }#T_3c5fc_row0_col7{\n",
              "            background-color:  #3c4ec2;\n",
              "            color:  #f1f1f1;\n",
              "        }#T_3c5fc_row1_col0{\n",
              "            background-color:  #455cce;\n",
              "            color:  #f1f1f1;\n",
              "        }#T_3c5fc_row1_col2{\n",
              "            background-color:  #81a4fb;\n",
              "            color:  #000000;\n",
              "        }#T_3c5fc_row1_col4,#T_3c5fc_row1_col5,#T_3c5fc_row6_col1{\n",
              "            background-color:  #5673e0;\n",
              "            color:  #000000;\n",
              "        }#T_3c5fc_row1_col6{\n",
              "            background-color:  #536edd;\n",
              "            color:  #000000;\n",
              "        }#T_3c5fc_row1_col7{\n",
              "            background-color:  #e4d9d2;\n",
              "            color:  #000000;\n",
              "        }#T_3c5fc_row2_col0{\n",
              "            background-color:  #3f53c6;\n",
              "            color:  #f1f1f1;\n",
              "        }#T_3c5fc_row2_col1{\n",
              "            background-color:  #88abfd;\n",
              "            color:  #000000;\n",
              "        }#T_3c5fc_row2_col3{\n",
              "            background-color:  #f7b99e;\n",
              "            color:  #000000;\n",
              "        }#T_3c5fc_row2_col4,#T_3c5fc_row4_col2,#T_3c5fc_row4_col3{\n",
              "            background-color:  #d95847;\n",
              "            color:  #000000;\n",
              "        }#T_3c5fc_row2_col5{\n",
              "            background-color:  #f7a889;\n",
              "            color:  #000000;\n",
              "        }#T_3c5fc_row2_col6{\n",
              "            background-color:  #f39778;\n",
              "            color:  #000000;\n",
              "        }#T_3c5fc_row2_col7{\n",
              "            background-color:  #90b2fe;\n",
              "            color:  #000000;\n",
              "        }#T_3c5fc_row3_col0{\n",
              "            background-color:  #445acc;\n",
              "            color:  #f1f1f1;\n",
              "        }#T_3c5fc_row3_col2{\n",
              "            background-color:  #f7bca1;\n",
              "            color:  #000000;\n",
              "        }#T_3c5fc_row3_col4{\n",
              "            background-color:  #da5a49;\n",
              "            color:  #000000;\n",
              "        }#T_3c5fc_row3_col5{\n",
              "            background-color:  #e36c55;\n",
              "            color:  #000000;\n",
              "        }#T_3c5fc_row3_col6{\n",
              "            background-color:  #ead5c9;\n",
              "            color:  #000000;\n",
              "        }#T_3c5fc_row4_col0{\n",
              "            background-color:  #3e51c5;\n",
              "            color:  #f1f1f1;\n",
              "        }#T_3c5fc_row4_col1{\n",
              "            background-color:  #5e7de7;\n",
              "            color:  #000000;\n",
              "        }#T_3c5fc_row4_col5{\n",
              "            background-color:  #ed8366;\n",
              "            color:  #000000;\n",
              "        }#T_3c5fc_row4_col6{\n",
              "            background-color:  #f29072;\n",
              "            color:  #000000;\n",
              "        }#T_3c5fc_row4_col7{\n",
              "            background-color:  #6282ea;\n",
              "            color:  #000000;\n",
              "        }#T_3c5fc_row5_col0{\n",
              "            background-color:  #4b64d5;\n",
              "            color:  #f1f1f1;\n",
              "        }#T_3c5fc_row5_col1{\n",
              "            background-color:  #6a8bef;\n",
              "            color:  #000000;\n",
              "        }#T_3c5fc_row5_col2{\n",
              "            background-color:  #f6a385;\n",
              "            color:  #000000;\n",
              "        }#T_3c5fc_row5_col3{\n",
              "            background-color:  #e26952;\n",
              "            color:  #000000;\n",
              "        }#T_3c5fc_row5_col4{\n",
              "            background-color:  #ec7f63;\n",
              "            color:  #000000;\n",
              "        }#T_3c5fc_row5_col6{\n",
              "            background-color:  #bad0f8;\n",
              "            color:  #000000;\n",
              "        }#T_3c5fc_row5_col7{\n",
              "            background-color:  #6f92f3;\n",
              "            color:  #000000;\n",
              "        }#T_3c5fc_row6_col2{\n",
              "            background-color:  #f4987a;\n",
              "            color:  #000000;\n",
              "        }#T_3c5fc_row6_col3{\n",
              "            background-color:  #ebd3c6;\n",
              "            color:  #000000;\n",
              "        }#T_3c5fc_row6_col4{\n",
              "            background-color:  #f29274;\n",
              "            color:  #000000;\n",
              "        }#T_3c5fc_row6_col5{\n",
              "            background-color:  #aec9fc;\n",
              "            color:  #000000;\n",
              "        }#T_3c5fc_row6_col7{\n",
              "            background-color:  #5d7ce6;\n",
              "            color:  #000000;\n",
              "        }#T_3c5fc_row7_col0{\n",
              "            background-color:  #506bda;\n",
              "            color:  #000000;\n",
              "        }#T_3c5fc_row7_col1{\n",
              "            background-color:  #ecd3c5;\n",
              "            color:  #000000;\n",
              "        }#T_3c5fc_row7_col2{\n",
              "            background-color:  #9dbdff;\n",
              "            color:  #000000;\n",
              "        }#T_3c5fc_row7_col3{\n",
              "            background-color:  #516ddb;\n",
              "            color:  #000000;\n",
              "        }#T_3c5fc_row7_col4{\n",
              "            background-color:  #7295f4;\n",
              "            color:  #000000;\n",
              "        }#T_3c5fc_row7_col5{\n",
              "            background-color:  #7396f5;\n",
              "            color:  #000000;\n",
              "        }#T_3c5fc_row7_col6{\n",
              "            background-color:  #7093f3;\n",
              "            color:  #000000;\n",
              "        }</style><table id=\"T_3c5fc_\" ><thead>    <tr>        <th class=\"blank level0\" ></th>        <th class=\"col_heading level0 col0\" >key</th>        <th class=\"col_heading level0 col1\" >count</th>        <th class=\"col_heading level0 col2\" >temp_min</th>        <th class=\"col_heading level0 col3\" >temp_max</th>        <th class=\"col_heading level0 col4\" >temp_mean</th>        <th class=\"col_heading level0 col5\" >temp_first</th>        <th class=\"col_heading level0 col6\" >temp_last</th>        <th class=\"col_heading level0 col7\" >duration_temp_meas</th>    </tr></thead><tbody>\n",
              "                <tr>\n",
              "                        <th id=\"T_3c5fc_level0_row0\" class=\"row_heading level0 row0\" >key</th>\n",
              "                        <td id=\"T_3c5fc_row0_col0\" class=\"data row0 col0\" >1.000000</td>\n",
              "                        <td id=\"T_3c5fc_row0_col1\" class=\"data row0 col1\" >-0.057199</td>\n",
              "                        <td id=\"T_3c5fc_row0_col2\" class=\"data row0 col2\" >-0.078829</td>\n",
              "                        <td id=\"T_3c5fc_row0_col3\" class=\"data row0 col3\" >-0.058381</td>\n",
              "                        <td id=\"T_3c5fc_row0_col4\" class=\"data row0 col4\" >-0.082456</td>\n",
              "                        <td id=\"T_3c5fc_row0_col5\" class=\"data row0 col5\" >-0.035489</td>\n",
              "                        <td id=\"T_3c5fc_row0_col6\" class=\"data row0 col6\" >-0.096831</td>\n",
              "                        <td id=\"T_3c5fc_row0_col7\" class=\"data row0 col7\" >-0.017099</td>\n",
              "            </tr>\n",
              "            <tr>\n",
              "                        <th id=\"T_3c5fc_level0_row1\" class=\"row_heading level0 row1\" >count</th>\n",
              "                        <td id=\"T_3c5fc_row1_col0\" class=\"data row1 col0\" >-0.057199</td>\n",
              "                        <td id=\"T_3c5fc_row1_col1\" class=\"data row1 col1\" >1.000000</td>\n",
              "                        <td id=\"T_3c5fc_row1_col2\" class=\"data row1 col2\" >0.153193</td>\n",
              "                        <td id=\"T_3c5fc_row1_col3\" class=\"data row1 col3\" >-0.109406</td>\n",
              "                        <td id=\"T_3c5fc_row1_col4\" class=\"data row1 col4\" >0.017659</td>\n",
              "                        <td id=\"T_3c5fc_row1_col5\" class=\"data row1 col5\" >0.059022</td>\n",
              "                        <td id=\"T_3c5fc_row1_col6\" class=\"data row1 col6\" >-0.009355</td>\n",
              "                        <td id=\"T_3c5fc_row1_col7\" class=\"data row1 col7\" >0.517738</td>\n",
              "            </tr>\n",
              "            <tr>\n",
              "                        <th id=\"T_3c5fc_level0_row2\" class=\"row_heading level0 row2\" >temp_min</th>\n",
              "                        <td id=\"T_3c5fc_row2_col0\" class=\"data row2 col0\" >-0.078829</td>\n",
              "                        <td id=\"T_3c5fc_row2_col1\" class=\"data row2 col1\" >0.153193</td>\n",
              "                        <td id=\"T_3c5fc_row2_col2\" class=\"data row2 col2\" >1.000000</td>\n",
              "                        <td id=\"T_3c5fc_row2_col3\" class=\"data row2 col3\" >0.625315</td>\n",
              "                        <td id=\"T_3c5fc_row2_col4\" class=\"data row2 col4\" >0.880142</td>\n",
              "                        <td id=\"T_3c5fc_row2_col5\" class=\"data row2 col5\" >0.701135</td>\n",
              "                        <td id=\"T_3c5fc_row2_col6\" class=\"data row2 col6\" >0.731599</td>\n",
              "                        <td id=\"T_3c5fc_row2_col7\" class=\"data row2 col7\" >0.240932</td>\n",
              "            </tr>\n",
              "            <tr>\n",
              "                        <th id=\"T_3c5fc_level0_row3\" class=\"row_heading level0 row3\" >temp_max</th>\n",
              "                        <td id=\"T_3c5fc_row3_col0\" class=\"data row3 col0\" >-0.058381</td>\n",
              "                        <td id=\"T_3c5fc_row3_col1\" class=\"data row3 col1\" >-0.109406</td>\n",
              "                        <td id=\"T_3c5fc_row3_col2\" class=\"data row3 col2\" >0.625315</td>\n",
              "                        <td id=\"T_3c5fc_row3_col3\" class=\"data row3 col3\" >1.000000</td>\n",
              "                        <td id=\"T_3c5fc_row3_col4\" class=\"data row3 col4\" >0.875099</td>\n",
              "                        <td id=\"T_3c5fc_row3_col5\" class=\"data row3 col5\" >0.843128</td>\n",
              "                        <td id=\"T_3c5fc_row3_col6\" class=\"data row3 col6\" >0.511098</td>\n",
              "                        <td id=\"T_3c5fc_row3_col7\" class=\"data row3 col7\" >-0.023391</td>\n",
              "            </tr>\n",
              "            <tr>\n",
              "                        <th id=\"T_3c5fc_level0_row4\" class=\"row_heading level0 row4\" >temp_mean</th>\n",
              "                        <td id=\"T_3c5fc_row4_col0\" class=\"data row4 col0\" >-0.082456</td>\n",
              "                        <td id=\"T_3c5fc_row4_col1\" class=\"data row4 col1\" >0.017659</td>\n",
              "                        <td id=\"T_3c5fc_row4_col2\" class=\"data row4 col2\" >0.880142</td>\n",
              "                        <td id=\"T_3c5fc_row4_col3\" class=\"data row4 col3\" >0.875099</td>\n",
              "                        <td id=\"T_3c5fc_row4_col4\" class=\"data row4 col4\" >1.000000</td>\n",
              "                        <td id=\"T_3c5fc_row4_col5\" class=\"data row4 col5\" >0.795930</td>\n",
              "                        <td id=\"T_3c5fc_row4_col6\" class=\"data row4 col6\" >0.748311</td>\n",
              "                        <td id=\"T_3c5fc_row4_col7\" class=\"data row4 col7\" >0.107426</td>\n",
              "            </tr>\n",
              "            <tr>\n",
              "                        <th id=\"T_3c5fc_level0_row5\" class=\"row_heading level0 row5\" >temp_first</th>\n",
              "                        <td id=\"T_3c5fc_row5_col0\" class=\"data row5 col0\" >-0.035489</td>\n",
              "                        <td id=\"T_3c5fc_row5_col1\" class=\"data row5 col1\" >0.059022</td>\n",
              "                        <td id=\"T_3c5fc_row5_col2\" class=\"data row5 col2\" >0.701135</td>\n",
              "                        <td id=\"T_3c5fc_row5_col3\" class=\"data row5 col3\" >0.843128</td>\n",
              "                        <td id=\"T_3c5fc_row5_col4\" class=\"data row5 col4\" >0.795930</td>\n",
              "                        <td id=\"T_3c5fc_row5_col5\" class=\"data row5 col5\" >1.000000</td>\n",
              "                        <td id=\"T_3c5fc_row5_col6\" class=\"data row5 col6\" >0.322295</td>\n",
              "                        <td id=\"T_3c5fc_row5_col7\" class=\"data row5 col7\" >0.147701</td>\n",
              "            </tr>\n",
              "            <tr>\n",
              "                        <th id=\"T_3c5fc_level0_row6\" class=\"row_heading level0 row6\" >temp_last</th>\n",
              "                        <td id=\"T_3c5fc_row6_col0\" class=\"data row6 col0\" >-0.096831</td>\n",
              "                        <td id=\"T_3c5fc_row6_col1\" class=\"data row6 col1\" >-0.009355</td>\n",
              "                        <td id=\"T_3c5fc_row6_col2\" class=\"data row6 col2\" >0.731599</td>\n",
              "                        <td id=\"T_3c5fc_row6_col3\" class=\"data row6 col3\" >0.511098</td>\n",
              "                        <td id=\"T_3c5fc_row6_col4\" class=\"data row6 col4\" >0.748311</td>\n",
              "                        <td id=\"T_3c5fc_row6_col5\" class=\"data row6 col5\" >0.322295</td>\n",
              "                        <td id=\"T_3c5fc_row6_col6\" class=\"data row6 col6\" >1.000000</td>\n",
              "                        <td id=\"T_3c5fc_row6_col7\" class=\"data row6 col7\" >0.091546</td>\n",
              "            </tr>\n",
              "            <tr>\n",
              "                        <th id=\"T_3c5fc_level0_row7\" class=\"row_heading level0 row7\" >duration_temp_meas</th>\n",
              "                        <td id=\"T_3c5fc_row7_col0\" class=\"data row7 col0\" >-0.017099</td>\n",
              "                        <td id=\"T_3c5fc_row7_col1\" class=\"data row7 col1\" >0.517738</td>\n",
              "                        <td id=\"T_3c5fc_row7_col2\" class=\"data row7 col2\" >0.240932</td>\n",
              "                        <td id=\"T_3c5fc_row7_col3\" class=\"data row7 col3\" >-0.023391</td>\n",
              "                        <td id=\"T_3c5fc_row7_col4\" class=\"data row7 col4\" >0.107426</td>\n",
              "                        <td id=\"T_3c5fc_row7_col5\" class=\"data row7 col5\" >0.147701</td>\n",
              "                        <td id=\"T_3c5fc_row7_col6\" class=\"data row7 col6\" >0.091546</td>\n",
              "                        <td id=\"T_3c5fc_row7_col7\" class=\"data row7 col7\" >1.000000</td>\n",
              "            </tr>\n",
              "    </tbody></table>"
            ],
            "text/plain": [
              "<pandas.io.formats.style.Styler at 0x7feb2e887ee0>"
            ]
          },
          "execution_count": 107,
          "metadata": {},
          "output_type": "execute_result"
        }
      ],
      "source": [
        "df_temp_group.corr().style.background_gradient(cmap='coolwarm')"
      ]
    },
    {
      "cell_type": "markdown",
      "metadata": {
        "id": "vi1_W811iLiw"
      },
      "source": [
        "Есть небольшая корреляция между количеством замеров и продолжительностью замеров в партиях, что в целом логично, но удалять не будем, оставим оба признака"
      ]
    },
    {
      "cell_type": "code",
      "execution_count": null,
      "metadata": {
        "id": "BdbkzIZzXFnw"
      },
      "outputs": [],
      "source": [
        "df_temp_group = df_temp_group[['key', 'count','temp_first', 'temp_last', \n",
        "                              'temp_min', 'temp_max', 'temp_mean', 'duration_temp_meas']]"
      ]
    },
    {
      "cell_type": "code",
      "execution_count": null,
      "metadata": {
        "colab": {
          "base_uri": "https://localhost:8080/",
          "height": 206
        },
        "id": "z1Le7wNs6_1m",
        "outputId": "4e0370fe-a07a-42bf-ac3a-07655af36ecb"
      },
      "outputs": [
        {
          "data": {
            "text/html": [
              "<div>\n",
              "<style scoped>\n",
              "    .dataframe tbody tr th:only-of-type {\n",
              "        vertical-align: middle;\n",
              "    }\n",
              "\n",
              "    .dataframe tbody tr th {\n",
              "        vertical-align: top;\n",
              "    }\n",
              "\n",
              "    .dataframe thead th {\n",
              "        text-align: right;\n",
              "    }\n",
              "</style>\n",
              "<table border=\"1\" class=\"dataframe\">\n",
              "  <thead>\n",
              "    <tr style=\"text-align: right;\">\n",
              "      <th></th>\n",
              "      <th>key</th>\n",
              "      <th>count</th>\n",
              "      <th>temp_first</th>\n",
              "      <th>temp_last</th>\n",
              "      <th>temp_min</th>\n",
              "      <th>temp_max</th>\n",
              "      <th>temp_mean</th>\n",
              "      <th>duration_temp_meas</th>\n",
              "    </tr>\n",
              "  </thead>\n",
              "  <tbody>\n",
              "    <tr>\n",
              "      <th>0</th>\n",
              "      <td>1</td>\n",
              "      <td>5</td>\n",
              "      <td>1571.0</td>\n",
              "      <td>1613.0</td>\n",
              "      <td>1618.0</td>\n",
              "      <td>1571.0</td>\n",
              "      <td>1601.4</td>\n",
              "      <td>861</td>\n",
              "    </tr>\n",
              "    <tr>\n",
              "      <th>1</th>\n",
              "      <td>2</td>\n",
              "      <td>6</td>\n",
              "      <td>1581.0</td>\n",
              "      <td>1602.0</td>\n",
              "      <td>1608.0</td>\n",
              "      <td>1577.0</td>\n",
              "      <td>1593.5</td>\n",
              "      <td>1305</td>\n",
              "    </tr>\n",
              "    <tr>\n",
              "      <th>2</th>\n",
              "      <td>3</td>\n",
              "      <td>5</td>\n",
              "      <td>1596.0</td>\n",
              "      <td>1599.0</td>\n",
              "      <td>1599.0</td>\n",
              "      <td>1596.0</td>\n",
              "      <td>1597.8</td>\n",
              "      <td>1300</td>\n",
              "    </tr>\n",
              "    <tr>\n",
              "      <th>3</th>\n",
              "      <td>4</td>\n",
              "      <td>1</td>\n",
              "      <td>1601.0</td>\n",
              "      <td>1601.0</td>\n",
              "      <td>1601.0</td>\n",
              "      <td>1601.0</td>\n",
              "      <td>1601.0</td>\n",
              "      <td>0</td>\n",
              "    </tr>\n",
              "    <tr>\n",
              "      <th>4</th>\n",
              "      <td>5</td>\n",
              "      <td>2</td>\n",
              "      <td>1576.0</td>\n",
              "      <td>1602.0</td>\n",
              "      <td>1602.0</td>\n",
              "      <td>1576.0</td>\n",
              "      <td>1589.0</td>\n",
              "      <td>762</td>\n",
              "    </tr>\n",
              "  </tbody>\n",
              "</table>\n",
              "</div>"
            ],
            "text/plain": [
              "   key  count  temp_first  temp_last  temp_min  temp_max  temp_mean  \\\n",
              "0    1      5      1571.0     1613.0    1618.0    1571.0     1601.4   \n",
              "1    2      6      1581.0     1602.0    1608.0    1577.0     1593.5   \n",
              "2    3      5      1596.0     1599.0    1599.0    1596.0     1597.8   \n",
              "3    4      1      1601.0     1601.0    1601.0    1601.0     1601.0   \n",
              "4    5      2      1576.0     1602.0    1602.0    1576.0     1589.0   \n",
              "\n",
              "   duration_temp_meas  \n",
              "0                 861  \n",
              "1                1305  \n",
              "2                1300  \n",
              "3                   0  \n",
              "4                 762  "
            ]
          },
          "execution_count": 109,
          "metadata": {},
          "output_type": "execute_result"
        }
      ],
      "source": [
        "df_temp_group.head()"
      ]
    },
    {
      "cell_type": "markdown",
      "metadata": {
        "id": "dhOfXHb5iLix"
      },
      "source": [
        "#### Вывод "
      ]
    },
    {
      "cell_type": "markdown",
      "metadata": {
        "id": "74JN9LzTiLix"
      },
      "source": [
        "Провери обработку партий, в которых делали последний замер температуры, до последней подачи материалов. Убрали выбросы. Проверили агрегацию данных о измерении температуру, с созданием новых признаков."
      ]
    },
    {
      "cell_type": "markdown",
      "metadata": {
        "id": "vE5eMYUInKi7"
      },
      "source": [
        "## Предобработка данных"
      ]
    },
    {
      "cell_type": "markdown",
      "metadata": {
        "id": "Fvmbe-_w6_xX"
      },
      "source": [
        "### Объеденение DataFrames"
      ]
    },
    {
      "cell_type": "code",
      "execution_count": null,
      "metadata": {
        "id": "7vVX7SG08uIy"
      },
      "outputs": [],
      "source": [
        "df_list = [df_bulk, df_gas, df_wire]"
      ]
    },
    {
      "cell_type": "code",
      "execution_count": null,
      "metadata": {
        "id": "0Fdfrsd685ez"
      },
      "outputs": [],
      "source": [
        "df = df_temp_group.merge(df_arc_group, on='key', how='left')\n",
        "for i in df_list:\n",
        "  df = df.merge(i, on='key', how='left')"
      ]
    },
    {
      "cell_type": "markdown",
      "metadata": {
        "id": "_u5Cw4moiLiy"
      },
      "source": [
        "Выведем полученную таблицу"
      ]
    },
    {
      "cell_type": "code",
      "execution_count": null,
      "metadata": {
        "colab": {
          "base_uri": "https://localhost:8080/",
          "height": 270
        },
        "id": "efVbozqj85YC",
        "outputId": "2b505a96-6b40-4b86-c7ca-831e480fca19",
        "scrolled": false
      },
      "outputs": [
        {
          "data": {
            "text/html": [
              "<div>\n",
              "<style scoped>\n",
              "    .dataframe tbody tr th:only-of-type {\n",
              "        vertical-align: middle;\n",
              "    }\n",
              "\n",
              "    .dataframe tbody tr th {\n",
              "        vertical-align: top;\n",
              "    }\n",
              "\n",
              "    .dataframe thead th {\n",
              "        text-align: right;\n",
              "    }\n",
              "</style>\n",
              "<table border=\"1\" class=\"dataframe\">\n",
              "  <thead>\n",
              "    <tr style=\"text-align: right;\">\n",
              "      <th></th>\n",
              "      <th>key</th>\n",
              "      <th>count</th>\n",
              "      <th>temp_first</th>\n",
              "      <th>temp_last</th>\n",
              "      <th>temp_min</th>\n",
              "      <th>temp_max</th>\n",
              "      <th>temp_mean</th>\n",
              "      <th>duration_temp_meas</th>\n",
              "      <th>full_power</th>\n",
              "      <th>bulk_3</th>\n",
              "      <th>bulk_4</th>\n",
              "      <th>bulk_12</th>\n",
              "      <th>bulk_14</th>\n",
              "      <th>bulk_15</th>\n",
              "      <th>ratio_bulk_sum</th>\n",
              "      <th>bulk_sum</th>\n",
              "      <th>gas_1</th>\n",
              "      <th>wire_1</th>\n",
              "      <th>wire_2</th>\n",
              "      <th>wire_sum</th>\n",
              "    </tr>\n",
              "  </thead>\n",
              "  <tbody>\n",
              "    <tr>\n",
              "      <th>0</th>\n",
              "      <td>1</td>\n",
              "      <td>5</td>\n",
              "      <td>1571.0</td>\n",
              "      <td>1613.0</td>\n",
              "      <td>1618.0</td>\n",
              "      <td>1571.0</td>\n",
              "      <td>1601.4</td>\n",
              "      <td>861</td>\n",
              "      <td>3.855925</td>\n",
              "      <td>0.0</td>\n",
              "      <td>43.0</td>\n",
              "      <td>206.0</td>\n",
              "      <td>150.0</td>\n",
              "      <td>154.0</td>\n",
              "      <td>0.855705</td>\n",
              "      <td>553.0</td>\n",
              "      <td>29.749986</td>\n",
              "      <td>60.059998</td>\n",
              "      <td>0.00000</td>\n",
              "      <td>60.059998</td>\n",
              "    </tr>\n",
              "    <tr>\n",
              "      <th>1</th>\n",
              "      <td>2</td>\n",
              "      <td>6</td>\n",
              "      <td>1581.0</td>\n",
              "      <td>1602.0</td>\n",
              "      <td>1608.0</td>\n",
              "      <td>1577.0</td>\n",
              "      <td>1593.5</td>\n",
              "      <td>1305</td>\n",
              "      <td>2.075054</td>\n",
              "      <td>0.0</td>\n",
              "      <td>73.0</td>\n",
              "      <td>206.0</td>\n",
              "      <td>149.0</td>\n",
              "      <td>154.0</td>\n",
              "      <td>0.777099</td>\n",
              "      <td>582.0</td>\n",
              "      <td>12.555561</td>\n",
              "      <td>96.052315</td>\n",
              "      <td>0.00000</td>\n",
              "      <td>96.052315</td>\n",
              "    </tr>\n",
              "    <tr>\n",
              "      <th>2</th>\n",
              "      <td>3</td>\n",
              "      <td>5</td>\n",
              "      <td>1596.0</td>\n",
              "      <td>1599.0</td>\n",
              "      <td>1599.0</td>\n",
              "      <td>1596.0</td>\n",
              "      <td>1597.8</td>\n",
              "      <td>1300</td>\n",
              "      <td>1.733007</td>\n",
              "      <td>0.0</td>\n",
              "      <td>34.0</td>\n",
              "      <td>205.0</td>\n",
              "      <td>152.0</td>\n",
              "      <td>153.0</td>\n",
              "      <td>0.882353</td>\n",
              "      <td>544.0</td>\n",
              "      <td>28.554793</td>\n",
              "      <td>91.160157</td>\n",
              "      <td>0.00000</td>\n",
              "      <td>91.160157</td>\n",
              "    </tr>\n",
              "    <tr>\n",
              "      <th>3</th>\n",
              "      <td>4</td>\n",
              "      <td>1</td>\n",
              "      <td>1601.0</td>\n",
              "      <td>1601.0</td>\n",
              "      <td>1601.0</td>\n",
              "      <td>1601.0</td>\n",
              "      <td>1601.0</td>\n",
              "      <td>0</td>\n",
              "      <td>2.379577</td>\n",
              "      <td>0.0</td>\n",
              "      <td>81.0</td>\n",
              "      <td>207.0</td>\n",
              "      <td>153.0</td>\n",
              "      <td>154.0</td>\n",
              "      <td>0.760355</td>\n",
              "      <td>595.0</td>\n",
              "      <td>18.841219</td>\n",
              "      <td>89.063515</td>\n",
              "      <td>0.00000</td>\n",
              "      <td>89.063515</td>\n",
              "    </tr>\n",
              "    <tr>\n",
              "      <th>4</th>\n",
              "      <td>5</td>\n",
              "      <td>2</td>\n",
              "      <td>1576.0</td>\n",
              "      <td>1602.0</td>\n",
              "      <td>1602.0</td>\n",
              "      <td>1576.0</td>\n",
              "      <td>1589.0</td>\n",
              "      <td>762</td>\n",
              "      <td>2.105051</td>\n",
              "      <td>0.0</td>\n",
              "      <td>78.0</td>\n",
              "      <td>203.0</td>\n",
              "      <td>151.0</td>\n",
              "      <td>152.0</td>\n",
              "      <td>0.764350</td>\n",
              "      <td>584.0</td>\n",
              "      <td>5.413692</td>\n",
              "      <td>89.238236</td>\n",
              "      <td>9.11456</td>\n",
              "      <td>98.352796</td>\n",
              "    </tr>\n",
              "  </tbody>\n",
              "</table>\n",
              "</div>"
            ],
            "text/plain": [
              "   key  count  temp_first  temp_last  temp_min  temp_max  temp_mean  \\\n",
              "0    1      5      1571.0     1613.0    1618.0    1571.0     1601.4   \n",
              "1    2      6      1581.0     1602.0    1608.0    1577.0     1593.5   \n",
              "2    3      5      1596.0     1599.0    1599.0    1596.0     1597.8   \n",
              "3    4      1      1601.0     1601.0    1601.0    1601.0     1601.0   \n",
              "4    5      2      1576.0     1602.0    1602.0    1576.0     1589.0   \n",
              "\n",
              "   duration_temp_meas  full_power  bulk_3  bulk_4  bulk_12  bulk_14  bulk_15  \\\n",
              "0                 861    3.855925     0.0    43.0    206.0    150.0    154.0   \n",
              "1                1305    2.075054     0.0    73.0    206.0    149.0    154.0   \n",
              "2                1300    1.733007     0.0    34.0    205.0    152.0    153.0   \n",
              "3                   0    2.379577     0.0    81.0    207.0    153.0    154.0   \n",
              "4                 762    2.105051     0.0    78.0    203.0    151.0    152.0   \n",
              "\n",
              "   ratio_bulk_sum  bulk_sum      gas_1     wire_1   wire_2   wire_sum  \n",
              "0        0.855705     553.0  29.749986  60.059998  0.00000  60.059998  \n",
              "1        0.777099     582.0  12.555561  96.052315  0.00000  96.052315  \n",
              "2        0.882353     544.0  28.554793  91.160157  0.00000  91.160157  \n",
              "3        0.760355     595.0  18.841219  89.063515  0.00000  89.063515  \n",
              "4        0.764350     584.0   5.413692  89.238236  9.11456  98.352796  "
            ]
          },
          "execution_count": 112,
          "metadata": {},
          "output_type": "execute_result"
        }
      ],
      "source": [
        "df.head()"
      ]
    },
    {
      "cell_type": "markdown",
      "metadata": {
        "id": "lJoFTcyuiLiy"
      },
      "source": [
        "Проверим на пропуски:"
      ]
    },
    {
      "cell_type": "code",
      "execution_count": null,
      "metadata": {
        "colab": {
          "base_uri": "https://localhost:8080/"
        },
        "id": "dMN_CHUMnKi8",
        "outputId": "f566a5b8-dfe3-4bfe-a1e1-923341b8bb32",
        "scrolled": true
      },
      "outputs": [
        {
          "data": {
            "text/plain": [
              "array([53, 43,  7,  2,  0])"
            ]
          },
          "execution_count": 113,
          "metadata": {},
          "output_type": "execute_result"
        }
      ],
      "source": [
        "df.isna().sum().sort_values(ascending=False).unique()"
      ]
    },
    {
      "cell_type": "markdown",
      "metadata": {
        "id": "S1vQHCcsnKi8"
      },
      "source": [
        "### Пропущеные значения, аномальные данные"
      ]
    },
    {
      "cell_type": "markdown",
      "metadata": {
        "id": "kdxrst6yiLiy"
      },
      "source": [
        "Выведем пропущенные значения:"
      ]
    },
    {
      "cell_type": "code",
      "execution_count": null,
      "metadata": {
        "colab": {
          "base_uri": "https://localhost:8080/",
          "height": 270
        },
        "id": "g5mM6aypnKi8",
        "outputId": "cb037376-c0fc-433d-edd3-471e4132e361",
        "scrolled": true
      },
      "outputs": [
        {
          "data": {
            "text/html": [
              "<div>\n",
              "<style scoped>\n",
              "    .dataframe tbody tr th:only-of-type {\n",
              "        vertical-align: middle;\n",
              "    }\n",
              "\n",
              "    .dataframe tbody tr th {\n",
              "        vertical-align: top;\n",
              "    }\n",
              "\n",
              "    .dataframe thead th {\n",
              "        text-align: right;\n",
              "    }\n",
              "</style>\n",
              "<table border=\"1\" class=\"dataframe\">\n",
              "  <thead>\n",
              "    <tr style=\"text-align: right;\">\n",
              "      <th></th>\n",
              "      <th>key</th>\n",
              "      <th>count</th>\n",
              "      <th>temp_first</th>\n",
              "      <th>temp_last</th>\n",
              "      <th>temp_min</th>\n",
              "      <th>temp_max</th>\n",
              "      <th>temp_mean</th>\n",
              "      <th>duration_temp_meas</th>\n",
              "      <th>full_power</th>\n",
              "      <th>bulk_3</th>\n",
              "      <th>bulk_4</th>\n",
              "      <th>bulk_12</th>\n",
              "      <th>bulk_14</th>\n",
              "      <th>bulk_15</th>\n",
              "      <th>ratio_bulk_sum</th>\n",
              "      <th>bulk_sum</th>\n",
              "      <th>gas_1</th>\n",
              "      <th>wire_1</th>\n",
              "      <th>wire_2</th>\n",
              "      <th>wire_sum</th>\n",
              "    </tr>\n",
              "  </thead>\n",
              "  <tbody>\n",
              "    <tr>\n",
              "      <th>44</th>\n",
              "      <td>51</td>\n",
              "      <td>1</td>\n",
              "      <td>1619.0</td>\n",
              "      <td>1619.0</td>\n",
              "      <td>1619.0</td>\n",
              "      <td>1619.0</td>\n",
              "      <td>1619.0</td>\n",
              "      <td>0</td>\n",
              "      <td>0.921064</td>\n",
              "      <td>NaN</td>\n",
              "      <td>NaN</td>\n",
              "      <td>NaN</td>\n",
              "      <td>NaN</td>\n",
              "      <td>NaN</td>\n",
              "      <td>NaN</td>\n",
              "      <td>NaN</td>\n",
              "      <td>9.236758</td>\n",
              "      <td>NaN</td>\n",
              "      <td>NaN</td>\n",
              "      <td>NaN</td>\n",
              "    </tr>\n",
              "    <tr>\n",
              "      <th>45</th>\n",
              "      <td>52</td>\n",
              "      <td>1</td>\n",
              "      <td>1617.0</td>\n",
              "      <td>1617.0</td>\n",
              "      <td>1617.0</td>\n",
              "      <td>1617.0</td>\n",
              "      <td>1617.0</td>\n",
              "      <td>0</td>\n",
              "      <td>2.186810</td>\n",
              "      <td>NaN</td>\n",
              "      <td>NaN</td>\n",
              "      <td>NaN</td>\n",
              "      <td>NaN</td>\n",
              "      <td>NaN</td>\n",
              "      <td>NaN</td>\n",
              "      <td>NaN</td>\n",
              "      <td>14.119615</td>\n",
              "      <td>NaN</td>\n",
              "      <td>NaN</td>\n",
              "      <td>NaN</td>\n",
              "    </tr>\n",
              "    <tr>\n",
              "      <th>46</th>\n",
              "      <td>55</td>\n",
              "      <td>1</td>\n",
              "      <td>1615.0</td>\n",
              "      <td>1615.0</td>\n",
              "      <td>1615.0</td>\n",
              "      <td>1615.0</td>\n",
              "      <td>1615.0</td>\n",
              "      <td>0</td>\n",
              "      <td>1.333661</td>\n",
              "      <td>NaN</td>\n",
              "      <td>NaN</td>\n",
              "      <td>NaN</td>\n",
              "      <td>NaN</td>\n",
              "      <td>NaN</td>\n",
              "      <td>NaN</td>\n",
              "      <td>NaN</td>\n",
              "      <td>8.915683</td>\n",
              "      <td>NaN</td>\n",
              "      <td>NaN</td>\n",
              "      <td>NaN</td>\n",
              "    </tr>\n",
              "    <tr>\n",
              "      <th>62</th>\n",
              "      <td>72</td>\n",
              "      <td>2</td>\n",
              "      <td>1590.0</td>\n",
              "      <td>1595.0</td>\n",
              "      <td>1595.0</td>\n",
              "      <td>1590.0</td>\n",
              "      <td>1592.5</td>\n",
              "      <td>465</td>\n",
              "      <td>1.088440</td>\n",
              "      <td>NaN</td>\n",
              "      <td>NaN</td>\n",
              "      <td>NaN</td>\n",
              "      <td>NaN</td>\n",
              "      <td>NaN</td>\n",
              "      <td>NaN</td>\n",
              "      <td>NaN</td>\n",
              "      <td>3.377227</td>\n",
              "      <td>71.853601</td>\n",
              "      <td>0.0</td>\n",
              "      <td>71.853601</td>\n",
              "    </tr>\n",
              "    <tr>\n",
              "      <th>69</th>\n",
              "      <td>80</td>\n",
              "      <td>4</td>\n",
              "      <td>1559.0</td>\n",
              "      <td>1580.0</td>\n",
              "      <td>1583.0</td>\n",
              "      <td>1559.0</td>\n",
              "      <td>1574.0</td>\n",
              "      <td>1050</td>\n",
              "      <td>1.313245</td>\n",
              "      <td>NaN</td>\n",
              "      <td>NaN</td>\n",
              "      <td>NaN</td>\n",
              "      <td>NaN</td>\n",
              "      <td>NaN</td>\n",
              "      <td>NaN</td>\n",
              "      <td>NaN</td>\n",
              "      <td>3.693344</td>\n",
              "      <td>23.150400</td>\n",
              "      <td>0.0</td>\n",
              "      <td>23.150400</td>\n",
              "    </tr>\n",
              "  </tbody>\n",
              "</table>\n",
              "</div>"
            ],
            "text/plain": [
              "    key  count  temp_first  temp_last  temp_min  temp_max  temp_mean  \\\n",
              "44   51      1      1619.0     1619.0    1619.0    1619.0     1619.0   \n",
              "45   52      1      1617.0     1617.0    1617.0    1617.0     1617.0   \n",
              "46   55      1      1615.0     1615.0    1615.0    1615.0     1615.0   \n",
              "62   72      2      1590.0     1595.0    1595.0    1590.0     1592.5   \n",
              "69   80      4      1559.0     1580.0    1583.0    1559.0     1574.0   \n",
              "\n",
              "    duration_temp_meas  full_power  bulk_3  bulk_4  bulk_12  bulk_14  bulk_15  \\\n",
              "44                   0    0.921064     NaN     NaN      NaN      NaN      NaN   \n",
              "45                   0    2.186810     NaN     NaN      NaN      NaN      NaN   \n",
              "46                   0    1.333661     NaN     NaN      NaN      NaN      NaN   \n",
              "62                 465    1.088440     NaN     NaN      NaN      NaN      NaN   \n",
              "69                1050    1.313245     NaN     NaN      NaN      NaN      NaN   \n",
              "\n",
              "    ratio_bulk_sum  bulk_sum      gas_1     wire_1  wire_2   wire_sum  \n",
              "44             NaN       NaN   9.236758        NaN     NaN        NaN  \n",
              "45             NaN       NaN  14.119615        NaN     NaN        NaN  \n",
              "46             NaN       NaN   8.915683        NaN     NaN        NaN  \n",
              "62             NaN       NaN   3.377227  71.853601     0.0  71.853601  \n",
              "69             NaN       NaN   3.693344  23.150400     0.0  23.150400  "
            ]
          },
          "execution_count": 114,
          "metadata": {},
          "output_type": "execute_result"
        }
      ],
      "source": [
        "df[df.isna().any(axis=1)].head()"
      ]
    },
    {
      "cell_type": "code",
      "execution_count": null,
      "metadata": {
        "colab": {
          "base_uri": "https://localhost:8080/"
        },
        "id": "pLDqihZsiLiz",
        "outputId": "ad458415-41ef-4d66-ca58-9752d5380349"
      },
      "outputs": [
        {
          "data": {
            "text/plain": [
              "key                    0\n",
              "count                  0\n",
              "temp_first             0\n",
              "temp_last              0\n",
              "temp_min               0\n",
              "temp_max               0\n",
              "temp_mean              0\n",
              "duration_temp_meas     0\n",
              "full_power             7\n",
              "bulk_3                53\n",
              "bulk_4                53\n",
              "bulk_12               53\n",
              "bulk_14               53\n",
              "bulk_15               53\n",
              "ratio_bulk_sum        53\n",
              "bulk_sum              53\n",
              "gas_1                  2\n",
              "wire_1                43\n",
              "wire_2                43\n",
              "wire_sum              43\n",
              "dtype: int64"
            ]
          },
          "execution_count": 115,
          "metadata": {},
          "output_type": "execute_result"
        }
      ],
      "source": [
        "df.isna().sum()"
      ]
    },
    {
      "cell_type": "markdown",
      "metadata": {
        "id": "Rw_lP-SeiLiz"
      },
      "source": [
        "Как видно это в основном материалы, удалим эти партии,  так не было присадок и из количество не большое:"
      ]
    },
    {
      "cell_type": "code",
      "execution_count": null,
      "metadata": {
        "id": "Ki_DGh-WnKi8"
      },
      "outputs": [],
      "source": [
        "df = df.dropna()"
      ]
    },
    {
      "cell_type": "code",
      "execution_count": null,
      "metadata": {
        "colab": {
          "base_uri": "https://localhost:8080/"
        },
        "id": "M7WqZJvdnKi8",
        "outputId": "e100d809-8eec-4298-c8a0-ef11bab47bad",
        "scrolled": true
      },
      "outputs": [
        {
          "data": {
            "text/plain": [
              "0"
            ]
          },
          "execution_count": 117,
          "metadata": {},
          "output_type": "execute_result"
        }
      ],
      "source": [
        "max(df.isna().sum())"
      ]
    },
    {
      "cell_type": "markdown",
      "metadata": {
        "id": "hZivAsAOiLiz"
      },
      "source": [
        "Посмотрим есть ли мультиколлинеарность"
      ]
    },
    {
      "cell_type": "code",
      "execution_count": null,
      "metadata": {
        "colab": {
          "base_uri": "https://localhost:8080/",
          "height": 696
        },
        "id": "7azCmucHnKi8",
        "outputId": "1692b85d-a3d6-4277-c1ac-3e2e461a1db9",
        "scrolled": true
      },
      "outputs": [
        {
          "data": {
            "text/html": [
              "<style  type=\"text/css\" >\n",
              "#T_dbced_row0_col0,#T_dbced_row1_col1,#T_dbced_row2_col2,#T_dbced_row3_col3,#T_dbced_row4_col4,#T_dbced_row5_col5,#T_dbced_row6_col6,#T_dbced_row7_col7,#T_dbced_row8_col8,#T_dbced_row9_col9,#T_dbced_row10_col10,#T_dbced_row11_col11,#T_dbced_row12_col12,#T_dbced_row13_col13,#T_dbced_row14_col14,#T_dbced_row15_col15,#T_dbced_row16_col16,#T_dbced_row17_col17,#T_dbced_row18_col18,#T_dbced_row19_col19{\n",
              "            background-color:  #fee838;\n",
              "            color:  #000000;\n",
              "        }#T_dbced_row0_col1,#T_dbced_row0_col7,#T_dbced_row2_col12,#T_dbced_row2_col15,#T_dbced_row5_col8,#T_dbced_row5_col16,#T_dbced_row9_col10,#T_dbced_row9_col14,#T_dbced_row10_col9,#T_dbced_row10_col18,#T_dbced_row12_col0,#T_dbced_row12_col2,#T_dbced_row14_col9,#T_dbced_row14_col19,#T_dbced_row18_col3,#T_dbced_row18_col4,#T_dbced_row18_col5,#T_dbced_row18_col6,#T_dbced_row18_col11,#T_dbced_row18_col13,#T_dbced_row18_col17{\n",
              "            background-color:  #00224e;\n",
              "            color:  #f1f1f1;\n",
              "        }#T_dbced_row0_col2,#T_dbced_row0_col8,#T_dbced_row5_col18,#T_dbced_row5_col19,#T_dbced_row19_col11{\n",
              "            background-color:  #083370;\n",
              "            color:  #f1f1f1;\n",
              "        }#T_dbced_row0_col3,#T_dbced_row8_col0,#T_dbced_row10_col8,#T_dbced_row13_col2,#T_dbced_row13_col16,#T_dbced_row19_col12{\n",
              "            background-color:  #0c3470;\n",
              "            color:  #f1f1f1;\n",
              "        }#T_dbced_row0_col4,#T_dbced_row3_col1,#T_dbced_row6_col12,#T_dbced_row9_col6,#T_dbced_row16_col5,#T_dbced_row19_col0,#T_dbced_row19_col15{\n",
              "            background-color:  #003171;\n",
              "            color:  #f1f1f1;\n",
              "        }#T_dbced_row0_col5{\n",
              "            background-color:  #003070;\n",
              "            color:  #f1f1f1;\n",
              "        }#T_dbced_row0_col6,#T_dbced_row1_col13,#T_dbced_row9_col17,#T_dbced_row10_col19,#T_dbced_row14_col7{\n",
              "            background-color:  #053371;\n",
              "            color:  #f1f1f1;\n",
              "        }#T_dbced_row0_col9,#T_dbced_row7_col10{\n",
              "            background-color:  #3b496c;\n",
              "            color:  #f1f1f1;\n",
              "        }#T_dbced_row0_col10,#T_dbced_row1_col2,#T_dbced_row10_col11,#T_dbced_row14_col4{\n",
              "            background-color:  #38476c;\n",
              "            color:  #f1f1f1;\n",
              "        }#T_dbced_row0_col11,#T_dbced_row2_col18,#T_dbced_row9_col12,#T_dbced_row13_col18,#T_dbced_row15_col18{\n",
              "            background-color:  #1e3a6f;\n",
              "            color:  #f1f1f1;\n",
              "        }#T_dbced_row0_col12,#T_dbced_row8_col5,#T_dbced_row14_col17,#T_dbced_row15_col5{\n",
              "            background-color:  #002a5f;\n",
              "            color:  #f1f1f1;\n",
              "        }#T_dbced_row0_col13,#T_dbced_row0_col17,#T_dbced_row0_col19,#T_dbced_row13_col0{\n",
              "            background-color:  #002b62;\n",
              "            color:  #f1f1f1;\n",
              "        }#T_dbced_row0_col14,#T_dbced_row15_col6{\n",
              "            background-color:  #34456c;\n",
              "            color:  #f1f1f1;\n",
              "        }#T_dbced_row0_col15,#T_dbced_row4_col8,#T_dbced_row7_col0,#T_dbced_row10_col0,#T_dbced_row14_col1{\n",
              "            background-color:  #002f6d;\n",
              "            color:  #f1f1f1;\n",
              "        }#T_dbced_row0_col16,#T_dbced_row3_col0,#T_dbced_row5_col1,#T_dbced_row5_col15,#T_dbced_row18_col15{\n",
              "            background-color:  #00234f;\n",
              "            color:  #f1f1f1;\n",
              "        }#T_dbced_row0_col18,#T_dbced_row8_col16,#T_dbced_row16_col4,#T_dbced_row16_col14,#T_dbced_row17_col9,#T_dbced_row19_col6{\n",
              "            background-color:  #434e6c;\n",
              "            color:  #f1f1f1;\n",
              "        }#T_dbced_row1_col0,#T_dbced_row6_col8,#T_dbced_row9_col5{\n",
              "            background-color:  #002859;\n",
              "            color:  #f1f1f1;\n",
              "        }#T_dbced_row1_col3,#T_dbced_row1_col10,#T_dbced_row3_col9,#T_dbced_row6_col13,#T_dbced_row16_col17,#T_dbced_row17_col13{\n",
              "            background-color:  #35456c;\n",
              "            color:  #f1f1f1;\n",
              "        }#T_dbced_row1_col4,#T_dbced_row15_col7{\n",
              "            background-color:  #51586d;\n",
              "            color:  #f1f1f1;\n",
              "        }#T_dbced_row1_col5,#T_dbced_row9_col7,#T_dbced_row11_col2,#T_dbced_row13_col1,#T_dbced_row15_col0{\n",
              "            background-color:  #002e6c;\n",
              "            color:  #f1f1f1;\n",
              "        }#T_dbced_row1_col6,#T_dbced_row13_col9,#T_dbced_row17_col7{\n",
              "            background-color:  #39486c;\n",
              "            color:  #f1f1f1;\n",
              "        }#T_dbced_row1_col7{\n",
              "            background-color:  #7e7d78;\n",
              "            color:  #000000;\n",
              "        }#T_dbced_row1_col8,#T_dbced_row4_col17{\n",
              "            background-color:  #666970;\n",
              "            color:  #000000;\n",
              "        }#T_dbced_row1_col9,#T_dbced_row4_col14,#T_dbced_row8_col14,#T_dbced_row16_col18,#T_dbced_row19_col4{\n",
              "            background-color:  #49536c;\n",
              "            color:  #f1f1f1;\n",
              "        }#T_dbced_row1_col11,#T_dbced_row4_col9,#T_dbced_row15_col1{\n",
              "            background-color:  #2a3f6d;\n",
              "            color:  #f1f1f1;\n",
              "        }#T_dbced_row1_col12,#T_dbced_row5_col14,#T_dbced_row11_col6,#T_dbced_row11_col16{\n",
              "            background-color:  #3c4a6c;\n",
              "            color:  #f1f1f1;\n",
              "        }#T_dbced_row1_col14,#T_dbced_row4_col1,#T_dbced_row4_col13,#T_dbced_row8_col11,#T_dbced_row11_col17,#T_dbced_row12_col9{\n",
              "            background-color:  #3e4b6c;\n",
              "            color:  #f1f1f1;\n",
              "        }#T_dbced_row1_col15,#T_dbced_row1_col19,#T_dbced_row2_col7,#T_dbced_row2_col14,#T_dbced_row4_col15,#T_dbced_row10_col13,#T_dbced_row14_col18{\n",
              "            background-color:  #33446d;\n",
              "            color:  #f1f1f1;\n",
              "        }#T_dbced_row1_col16,#T_dbced_row5_col17,#T_dbced_row8_col9,#T_dbced_row9_col15,#T_dbced_row13_col4{\n",
              "            background-color:  #4c556c;\n",
              "            color:  #f1f1f1;\n",
              "        }#T_dbced_row1_col17,#T_dbced_row8_col13,#T_dbced_row13_col7,#T_dbced_row13_col17,#T_dbced_row15_col17,#T_dbced_row17_col1{\n",
              "            background-color:  #2e416d;\n",
              "            color:  #f1f1f1;\n",
              "        }#T_dbced_row1_col18,#T_dbced_row7_col17,#T_dbced_row15_col4,#T_dbced_row16_col19{\n",
              "            background-color:  #424e6c;\n",
              "            color:  #f1f1f1;\n",
              "        }#T_dbced_row2_col0,#T_dbced_row8_col2,#T_dbced_row10_col16,#T_dbced_row14_col0,#T_dbced_row19_col13{\n",
              "            background-color:  #002d68;\n",
              "            color:  #f1f1f1;\n",
              "        }#T_dbced_row2_col1,#T_dbced_row4_col16,#T_dbced_row18_col8{\n",
              "            background-color:  #243c6e;\n",
              "            color:  #f1f1f1;\n",
              "        }#T_dbced_row2_col3,#T_dbced_row7_col8{\n",
              "            background-color:  #6c6e72;\n",
              "            color:  #000000;\n",
              "        }#T_dbced_row2_col4{\n",
              "            background-color:  #baac6d;\n",
              "            color:  #000000;\n",
              "        }#T_dbced_row2_col5,#T_dbced_row5_col2{\n",
              "            background-color:  #dac65b;\n",
              "            color:  #000000;\n",
              "        }#T_dbced_row2_col6{\n",
              "            background-color:  #d0be62;\n",
              "            color:  #000000;\n",
              "        }#T_dbced_row2_col8,#T_dbced_row4_col0,#T_dbced_row5_col12,#T_dbced_row12_col5,#T_dbced_row13_col19,#T_dbced_row18_col10{\n",
              "            background-color:  #002554;\n",
              "            color:  #f1f1f1;\n",
              "        }#T_dbced_row2_col9,#T_dbced_row5_col9,#T_dbced_row13_col5{\n",
              "            background-color:  #213b6e;\n",
              "            color:  #f1f1f1;\n",
              "        }#T_dbced_row2_col10,#T_dbced_row10_col3{\n",
              "            background-color:  #595e6e;\n",
              "            color:  #f1f1f1;\n",
              "        }#T_dbced_row2_col11,#T_dbced_row5_col0,#T_dbced_row11_col19,#T_dbced_row15_col19,#T_dbced_row18_col2{\n",
              "            background-color:  #002a61;\n",
              "            color:  #f1f1f1;\n",
              "        }#T_dbced_row2_col13,#T_dbced_row2_col16,#T_dbced_row4_col18{\n",
              "            background-color:  #002e6a;\n",
              "            color:  #f1f1f1;\n",
              "        }#T_dbced_row2_col17{\n",
              "            background-color:  #52596d;\n",
              "            color:  #f1f1f1;\n",
              "        }#T_dbced_row2_col19,#T_dbced_row6_col7,#T_dbced_row8_col17,#T_dbced_row9_col8,#T_dbced_row12_col10{\n",
              "            background-color:  #293f6e;\n",
              "            color:  #f1f1f1;\n",
              "        }#T_dbced_row3_col2,#T_dbced_row15_col9{\n",
              "            background-color:  #646770;\n",
              "            color:  #f1f1f1;\n",
              "        }#T_dbced_row3_col4{\n",
              "            background-color:  #c0b16a;\n",
              "            color:  #000000;\n",
              "        }#T_dbced_row3_col5,#T_dbced_row15_col14{\n",
              "            background-color:  #898578;\n",
              "            color:  #000000;\n",
              "        }#T_dbced_row3_col6{\n",
              "            background-color:  #c3b369;\n",
              "            color:  #000000;\n",
              "        }#T_dbced_row3_col7,#T_dbced_row7_col5,#T_dbced_row8_col4,#T_dbced_row18_col0{\n",
              "            background-color:  #203a6f;\n",
              "            color:  #f1f1f1;\n",
              "        }#T_dbced_row3_col8,#T_dbced_row8_col19,#T_dbced_row12_col1,#T_dbced_row19_col5{\n",
              "            background-color:  #2b406d;\n",
              "            color:  #f1f1f1;\n",
              "        }#T_dbced_row3_col10,#T_dbced_row6_col10{\n",
              "            background-color:  #62656f;\n",
              "            color:  #f1f1f1;\n",
              "        }#T_dbced_row3_col11,#T_dbced_row3_col13,#T_dbced_row15_col10,#T_dbced_row17_col5{\n",
              "            background-color:  #585e6d;\n",
              "            color:  #f1f1f1;\n",
              "        }#T_dbced_row3_col12,#T_dbced_row11_col8,#T_dbced_row12_col7,#T_dbced_row19_col7{\n",
              "            background-color:  #3a486c;\n",
              "            color:  #f1f1f1;\n",
              "        }#T_dbced_row3_col14,#T_dbced_row5_col10,#T_dbced_row16_col15{\n",
              "            background-color:  #5b606e;\n",
              "            color:  #f1f1f1;\n",
              "        }#T_dbced_row3_col15,#T_dbced_row12_col16{\n",
              "            background-color:  #4f576c;\n",
              "            color:  #f1f1f1;\n",
              "        }#T_dbced_row3_col16{\n",
              "            background-color:  #123570;\n",
              "            color:  #f1f1f1;\n",
              "        }#T_dbced_row3_col17,#T_dbced_row7_col15,#T_dbced_row10_col17,#T_dbced_row13_col12,#T_dbced_row17_col2{\n",
              "            background-color:  #5d616e;\n",
              "            color:  #f1f1f1;\n",
              "        }#T_dbced_row3_col18,#T_dbced_row5_col7,#T_dbced_row15_col2{\n",
              "            background-color:  #00295d;\n",
              "            color:  #f1f1f1;\n",
              "        }#T_dbced_row3_col19,#T_dbced_row4_col12,#T_dbced_row6_col1,#T_dbced_row9_col19,#T_dbced_row11_col0,#T_dbced_row11_col18,#T_dbced_row14_col10,#T_dbced_row18_col16{\n",
              "            background-color:  #163770;\n",
              "            color:  #f1f1f1;\n",
              "        }#T_dbced_row4_col2{\n",
              "            background-color:  #b7a96e;\n",
              "            color:  #000000;\n",
              "        }#T_dbced_row4_col3{\n",
              "            background-color:  #c2b369;\n",
              "            color:  #000000;\n",
              "        }#T_dbced_row4_col5,#T_dbced_row17_col19{\n",
              "            background-color:  #a59c74;\n",
              "            color:  #000000;\n",
              "        }#T_dbced_row4_col6,#T_dbced_row6_col4{\n",
              "            background-color:  #e5cf52;\n",
              "            color:  #000000;\n",
              "        }#T_dbced_row4_col7,#T_dbced_row7_col2,#T_dbced_row7_col3,#T_dbced_row15_col8,#T_dbced_row16_col9,#T_dbced_row16_col11{\n",
              "            background-color:  #4a536c;\n",
              "            color:  #f1f1f1;\n",
              "        }#T_dbced_row4_col10,#T_dbced_row8_col1,#T_dbced_row8_col7{\n",
              "            background-color:  #636670;\n",
              "            color:  #f1f1f1;\n",
              "        }#T_dbced_row4_col11,#T_dbced_row10_col15,#T_dbced_row12_col8,#T_dbced_row12_col18,#T_dbced_row19_col2{\n",
              "            background-color:  #3d4a6c;\n",
              "            color:  #f1f1f1;\n",
              "        }#T_dbced_row4_col19,#T_dbced_row17_col8,#T_dbced_row17_col16{\n",
              "            background-color:  #31436d;\n",
              "            color:  #f1f1f1;\n",
              "        }#T_dbced_row5_col3{\n",
              "            background-color:  #908b78;\n",
              "            color:  #000000;\n",
              "        }#T_dbced_row5_col4,#T_dbced_row13_col11{\n",
              "            background-color:  #a89e73;\n",
              "            color:  #000000;\n",
              "        }#T_dbced_row5_col6{\n",
              "            background-color:  #e2cd54;\n",
              "            color:  #000000;\n",
              "        }#T_dbced_row5_col11,#T_dbced_row6_col18,#T_dbced_row10_col12,#T_dbced_row16_col0{\n",
              "            background-color:  #002c66;\n",
              "            color:  #f1f1f1;\n",
              "        }#T_dbced_row5_col13,#T_dbced_row8_col6,#T_dbced_row9_col16,#T_dbced_row18_col1{\n",
              "            background-color:  #0f3570;\n",
              "            color:  #f1f1f1;\n",
              "        }#T_dbced_row6_col0{\n",
              "            background-color:  #002656;\n",
              "            color:  #f1f1f1;\n",
              "        }#T_dbced_row6_col2{\n",
              "            background-color:  #cebc63;\n",
              "            color:  #000000;\n",
              "        }#T_dbced_row6_col3{\n",
              "            background-color:  #c4b468;\n",
              "            color:  #000000;\n",
              "        }#T_dbced_row6_col5,#T_dbced_row15_col11{\n",
              "            background-color:  #e0cb56;\n",
              "            color:  #000000;\n",
              "        }#T_dbced_row6_col9,#T_dbced_row6_col19,#T_dbced_row9_col3{\n",
              "            background-color:  #263d6e;\n",
              "            color:  #f1f1f1;\n",
              "        }#T_dbced_row6_col11,#T_dbced_row13_col8{\n",
              "            background-color:  #2d416d;\n",
              "            color:  #f1f1f1;\n",
              "        }#T_dbced_row6_col14,#T_dbced_row7_col9,#T_dbced_row8_col12,#T_dbced_row8_col18,#T_dbced_row12_col3,#T_dbced_row13_col6,#T_dbced_row19_col10{\n",
              "            background-color:  #46516c;\n",
              "            color:  #f1f1f1;\n",
              "        }#T_dbced_row6_col15{\n",
              "            background-color:  #1c396f;\n",
              "            color:  #f1f1f1;\n",
              "        }#T_dbced_row6_col16,#T_dbced_row9_col4,#T_dbced_row14_col2{\n",
              "            background-color:  #013271;\n",
              "            color:  #f1f1f1;\n",
              "        }#T_dbced_row6_col17,#T_dbced_row7_col4{\n",
              "            background-color:  #61656f;\n",
              "            color:  #f1f1f1;\n",
              "        }#T_dbced_row7_col1{\n",
              "            background-color:  #848279;\n",
              "            color:  #000000;\n",
              "        }#T_dbced_row7_col6,#T_dbced_row7_col14,#T_dbced_row8_col15,#T_dbced_row9_col18,#T_dbced_row19_col9{\n",
              "            background-color:  #4b546c;\n",
              "            color:  #f1f1f1;\n",
              "        }#T_dbced_row7_col11,#T_dbced_row7_col12,#T_dbced_row16_col1{\n",
              "            background-color:  #50576c;\n",
              "            color:  #f1f1f1;\n",
              "        }#T_dbced_row7_col13,#T_dbced_row11_col7,#T_dbced_row16_col3{\n",
              "            background-color:  #3f4c6c;\n",
              "            color:  #f1f1f1;\n",
              "        }#T_dbced_row7_col16,#T_dbced_row17_col3{\n",
              "            background-color:  #6e6f73;\n",
              "            color:  #000000;\n",
              "        }#T_dbced_row7_col18,#T_dbced_row8_col3{\n",
              "            background-color:  #444f6c;\n",
              "            color:  #f1f1f1;\n",
              "        }#T_dbced_row7_col19,#T_dbced_row8_col10,#T_dbced_row11_col9,#T_dbced_row16_col10,#T_dbced_row19_col3,#T_dbced_row19_col16{\n",
              "            background-color:  #404c6c;\n",
              "            color:  #f1f1f1;\n",
              "        }#T_dbced_row9_col0,#T_dbced_row17_col12{\n",
              "            background-color:  #003170;\n",
              "            color:  #f1f1f1;\n",
              "        }#T_dbced_row9_col1,#T_dbced_row9_col11{\n",
              "            background-color:  #18376f;\n",
              "            color:  #f1f1f1;\n",
              "        }#T_dbced_row9_col2,#T_dbced_row10_col1{\n",
              "            background-color:  #00285b;\n",
              "            color:  #f1f1f1;\n",
              "        }#T_dbced_row9_col13,#T_dbced_row11_col5,#T_dbced_row14_col16,#T_dbced_row17_col0,#T_dbced_row18_col7{\n",
              "            background-color:  #00306f;\n",
              "            color:  #f1f1f1;\n",
              "        }#T_dbced_row10_col2{\n",
              "            background-color:  #45506c;\n",
              "            color:  #f1f1f1;\n",
              "        }#T_dbced_row10_col4,#T_dbced_row10_col6,#T_dbced_row12_col13{\n",
              "            background-color:  #565c6d;\n",
              "            color:  #f1f1f1;\n",
              "        }#T_dbced_row10_col5,#T_dbced_row17_col11{\n",
              "            background-color:  #47516c;\n",
              "            color:  #f1f1f1;\n",
              "        }#T_dbced_row10_col7,#T_dbced_row12_col17{\n",
              "            background-color:  #002553;\n",
              "            color:  #f1f1f1;\n",
              "        }#T_dbced_row10_col14{\n",
              "            background-color:  #143670;\n",
              "            color:  #f1f1f1;\n",
              "        }#T_dbced_row11_col1,#T_dbced_row12_col6,#T_dbced_row14_col5{\n",
              "            background-color:  #1a386f;\n",
              "            color:  #f1f1f1;\n",
              "        }#T_dbced_row11_col3{\n",
              "            background-color:  #656870;\n",
              "            color:  #f1f1f1;\n",
              "        }#T_dbced_row11_col4{\n",
              "            background-color:  #48526c;\n",
              "            color:  #f1f1f1;\n",
              "        }#T_dbced_row11_col10,#T_dbced_row13_col10,#T_dbced_row14_col3,#T_dbced_row15_col16{\n",
              "            background-color:  #535a6d;\n",
              "            color:  #f1f1f1;\n",
              "        }#T_dbced_row11_col12{\n",
              "            background-color:  #868379;\n",
              "            color:  #000000;\n",
              "        }#T_dbced_row11_col13,#T_dbced_row19_col17{\n",
              "            background-color:  #a69c74;\n",
              "            color:  #000000;\n",
              "        }#T_dbced_row11_col14{\n",
              "            background-color:  #a09875;\n",
              "            color:  #000000;\n",
              "        }#T_dbced_row11_col15{\n",
              "            background-color:  #dfca57;\n",
              "            color:  #000000;\n",
              "        }#T_dbced_row12_col4,#T_dbced_row14_col8,#T_dbced_row16_col2,#T_dbced_row16_col13,#T_dbced_row18_col12{\n",
              "            background-color:  #233c6e;\n",
              "            color:  #f1f1f1;\n",
              "        }#T_dbced_row12_col11{\n",
              "            background-color:  #838179;\n",
              "            color:  #000000;\n",
              "        }#T_dbced_row12_col14{\n",
              "            background-color:  #9e9676;\n",
              "            color:  #000000;\n",
              "        }#T_dbced_row12_col15{\n",
              "            background-color:  #a49b74;\n",
              "            color:  #000000;\n",
              "        }#T_dbced_row12_col19{\n",
              "            background-color:  #002758;\n",
              "            color:  #f1f1f1;\n",
              "        }#T_dbced_row13_col3{\n",
              "            background-color:  #676a71;\n",
              "            color:  #000000;\n",
              "        }#T_dbced_row13_col14{\n",
              "            background-color:  #a29975;\n",
              "            color:  #000000;\n",
              "        }#T_dbced_row13_col15,#T_dbced_row15_col13{\n",
              "            background-color:  #b6a96f;\n",
              "            color:  #000000;\n",
              "        }#T_dbced_row14_col6,#T_dbced_row16_col6,#T_dbced_row17_col14,#T_dbced_row17_col15,#T_dbced_row18_col14,#T_dbced_row19_col1,#T_dbced_row19_col8{\n",
              "            background-color:  #36466c;\n",
              "            color:  #f1f1f1;\n",
              "        }#T_dbced_row14_col11{\n",
              "            background-color:  #928d78;\n",
              "            color:  #000000;\n",
              "        }#T_dbced_row14_col12,#T_dbced_row14_col13{\n",
              "            background-color:  #938e78;\n",
              "            color:  #000000;\n",
              "        }#T_dbced_row14_col15{\n",
              "            background-color:  #777776;\n",
              "            color:  #000000;\n",
              "        }#T_dbced_row15_col3{\n",
              "            background-color:  #5e636f;\n",
              "            color:  #f1f1f1;\n",
              "        }#T_dbced_row15_col12{\n",
              "            background-color:  #a79d73;\n",
              "            color:  #000000;\n",
              "        }#T_dbced_row16_col7{\n",
              "            background-color:  #6b6d72;\n",
              "            color:  #000000;\n",
              "        }#T_dbced_row16_col8{\n",
              "            background-color:  #4d556c;\n",
              "            color:  #f1f1f1;\n",
              "        }#T_dbced_row16_col12{\n",
              "            background-color:  #5e626e;\n",
              "            color:  #f1f1f1;\n",
              "        }#T_dbced_row17_col4{\n",
              "            background-color:  #737475;\n",
              "            color:  #000000;\n",
              "        }#T_dbced_row17_col6{\n",
              "            background-color:  #707173;\n",
              "            color:  #000000;\n",
              "        }#T_dbced_row17_col10{\n",
              "            background-color:  #757575;\n",
              "            color:  #000000;\n",
              "        }#T_dbced_row17_col18{\n",
              "            background-color:  #273e6e;\n",
              "            color:  #f1f1f1;\n",
              "        }#T_dbced_row18_col9{\n",
              "            background-color:  #4e566c;\n",
              "            color:  #f1f1f1;\n",
              "        }#T_dbced_row18_col19{\n",
              "            background-color:  #8a8678;\n",
              "            color:  #000000;\n",
              "        }#T_dbced_row19_col14{\n",
              "            background-color:  #2f426d;\n",
              "            color:  #f1f1f1;\n",
              "        }#T_dbced_row19_col18{\n",
              "            background-color:  #9c9576;\n",
              "            color:  #000000;\n",
              "        }</style><table id=\"T_dbced_\" ><thead>    <tr>        <th class=\"blank level0\" ></th>        <th class=\"col_heading level0 col0\" >key</th>        <th class=\"col_heading level0 col1\" >count</th>        <th class=\"col_heading level0 col2\" >temp_first</th>        <th class=\"col_heading level0 col3\" >temp_last</th>        <th class=\"col_heading level0 col4\" >temp_min</th>        <th class=\"col_heading level0 col5\" >temp_max</th>        <th class=\"col_heading level0 col6\" >temp_mean</th>        <th class=\"col_heading level0 col7\" >duration_temp_meas</th>        <th class=\"col_heading level0 col8\" >full_power</th>        <th class=\"col_heading level0 col9\" >bulk_3</th>        <th class=\"col_heading level0 col10\" >bulk_4</th>        <th class=\"col_heading level0 col11\" >bulk_12</th>        <th class=\"col_heading level0 col12\" >bulk_14</th>        <th class=\"col_heading level0 col13\" >bulk_15</th>        <th class=\"col_heading level0 col14\" >ratio_bulk_sum</th>        <th class=\"col_heading level0 col15\" >bulk_sum</th>        <th class=\"col_heading level0 col16\" >gas_1</th>        <th class=\"col_heading level0 col17\" >wire_1</th>        <th class=\"col_heading level0 col18\" >wire_2</th>        <th class=\"col_heading level0 col19\" >wire_sum</th>    </tr></thead><tbody>\n",
              "                <tr>\n",
              "                        <th id=\"T_dbced_level0_row0\" class=\"row_heading level0 row0\" >key</th>\n",
              "                        <td id=\"T_dbced_row0_col0\" class=\"data row0 col0\" >1.000000</td>\n",
              "                        <td id=\"T_dbced_row0_col1\" class=\"data row0 col1\" >-0.070955</td>\n",
              "                        <td id=\"T_dbced_row0_col2\" class=\"data row0 col2\" >-0.035003</td>\n",
              "                        <td id=\"T_dbced_row0_col3\" class=\"data row0 col3\" >-0.097018</td>\n",
              "                        <td id=\"T_dbced_row0_col4\" class=\"data row0 col4\" >-0.082584</td>\n",
              "                        <td id=\"T_dbced_row0_col5\" class=\"data row0 col5\" >-0.054190</td>\n",
              "                        <td id=\"T_dbced_row0_col6\" class=\"data row0 col6\" >-0.081263</td>\n",
              "                        <td id=\"T_dbced_row0_col7\" class=\"data row0 col7\" >-0.024716</td>\n",
              "                        <td id=\"T_dbced_row0_col8\" class=\"data row0 col8\" >0.010000</td>\n",
              "                        <td id=\"T_dbced_row0_col9\" class=\"data row0 col9\" >-0.009476</td>\n",
              "                        <td id=\"T_dbced_row0_col10\" class=\"data row0 col10\" >-0.025668</td>\n",
              "                        <td id=\"T_dbced_row0_col11\" class=\"data row0 col11\" >0.027728</td>\n",
              "                        <td id=\"T_dbced_row0_col12\" class=\"data row0 col12\" >-0.103541</td>\n",
              "                        <td id=\"T_dbced_row0_col13\" class=\"data row0 col13\" >-0.050415</td>\n",
              "                        <td id=\"T_dbced_row0_col14\" class=\"data row0 col14\" >-0.035957</td>\n",
              "                        <td id=\"T_dbced_row0_col15\" class=\"data row0 col15\" >-0.027050</td>\n",
              "                        <td id=\"T_dbced_row0_col16\" class=\"data row0 col16\" >-0.039821</td>\n",
              "                        <td id=\"T_dbced_row0_col17\" class=\"data row0 col17\" >-0.019185</td>\n",
              "                        <td id=\"T_dbced_row0_col18\" class=\"data row0 col18\" >0.049574</td>\n",
              "                        <td id=\"T_dbced_row0_col19\" class=\"data row0 col19\" >-0.005824</td>\n",
              "            </tr>\n",
              "            <tr>\n",
              "                        <th id=\"T_dbced_level0_row1\" class=\"row_heading level0 row1\" >count</th>\n",
              "                        <td id=\"T_dbced_row1_col0\" class=\"data row1 col0\" >-0.070955</td>\n",
              "                        <td id=\"T_dbced_row1_col1\" class=\"data row1 col1\" >1.000000</td>\n",
              "                        <td id=\"T_dbced_row1_col2\" class=\"data row1 col2\" >0.089175</td>\n",
              "                        <td id=\"T_dbced_row1_col3\" class=\"data row1 col3\" >0.022711</td>\n",
              "                        <td id=\"T_dbced_row1_col4\" class=\"data row1 col4\" >0.177916</td>\n",
              "                        <td id=\"T_dbced_row1_col5\" class=\"data row1 col5\" >-0.066363</td>\n",
              "                        <td id=\"T_dbced_row1_col6\" class=\"data row1 col6\" >0.058572</td>\n",
              "                        <td id=\"T_dbced_row1_col7\" class=\"data row1 col7\" >0.498570</td>\n",
              "                        <td id=\"T_dbced_row1_col8\" class=\"data row1 col8\" >0.339533</td>\n",
              "                        <td id=\"T_dbced_row1_col9\" class=\"data row1 col9\" >0.059795</td>\n",
              "                        <td id=\"T_dbced_row1_col10\" class=\"data row1 col10\" >-0.036045</td>\n",
              "                        <td id=\"T_dbced_row1_col11\" class=\"data row1 col11\" >0.063835</td>\n",
              "                        <td id=\"T_dbced_row1_col12\" class=\"data row1 col12\" >0.109998</td>\n",
              "                        <td id=\"T_dbced_row1_col13\" class=\"data row1 col13\" >0.003673</td>\n",
              "                        <td id=\"T_dbced_row1_col14\" class=\"data row1 col14\" >0.006882</td>\n",
              "                        <td id=\"T_dbced_row1_col15\" class=\"data row1 col15\" >0.107248</td>\n",
              "                        <td id=\"T_dbced_row1_col16\" class=\"data row1 col16\" >0.251182</td>\n",
              "                        <td id=\"T_dbced_row1_col17\" class=\"data row1 col17\" >0.119348</td>\n",
              "                        <td id=\"T_dbced_row1_col18\" class=\"data row1 col18\" >0.044978</td>\n",
              "                        <td id=\"T_dbced_row1_col19\" class=\"data row1 col19\" >0.146599</td>\n",
              "            </tr>\n",
              "            <tr>\n",
              "                        <th id=\"T_dbced_level0_row2\" class=\"row_heading level0 row2\" >temp_first</th>\n",
              "                        <td id=\"T_dbced_row2_col0\" class=\"data row2 col0\" >-0.035003</td>\n",
              "                        <td id=\"T_dbced_row2_col1\" class=\"data row2 col1\" >0.089175</td>\n",
              "                        <td id=\"T_dbced_row2_col2\" class=\"data row2 col2\" >1.000000</td>\n",
              "                        <td id=\"T_dbced_row2_col3\" class=\"data row2 col3\" >0.298724</td>\n",
              "                        <td id=\"T_dbced_row2_col4\" class=\"data row2 col4\" >0.694273</td>\n",
              "                        <td id=\"T_dbced_row2_col5\" class=\"data row2 col5\" >0.840597</td>\n",
              "                        <td id=\"T_dbced_row2_col6\" class=\"data row2 col6\" >0.789975</td>\n",
              "                        <td id=\"T_dbced_row2_col7\" class=\"data row2 col7\" >0.174059</td>\n",
              "                        <td id=\"T_dbced_row2_col8\" class=\"data row2 col8\" >-0.079592</td>\n",
              "                        <td id=\"T_dbced_row2_col9\" class=\"data row2 col9\" >-0.112003</td>\n",
              "                        <td id=\"T_dbced_row2_col10\" class=\"data row2 col10\" >0.147822</td>\n",
              "                        <td id=\"T_dbced_row2_col11\" class=\"data row2 col11\" >-0.072637</td>\n",
              "                        <td id=\"T_dbced_row2_col12\" class=\"data row2 col12\" >-0.149009</td>\n",
              "                        <td id=\"T_dbced_row2_col13\" class=\"data row2 col13\" >-0.030241</td>\n",
              "                        <td id=\"T_dbced_row2_col14\" class=\"data row2 col14\" >-0.041338</td>\n",
              "                        <td id=\"T_dbced_row2_col15\" class=\"data row2 col15\" >-0.106693</td>\n",
              "                        <td id=\"T_dbced_row2_col16\" class=\"data row2 col16\" >0.020788</td>\n",
              "                        <td id=\"T_dbced_row2_col17\" class=\"data row2 col17\" >0.262658</td>\n",
              "                        <td id=\"T_dbced_row2_col18\" class=\"data row2 col18\" >-0.099306</td>\n",
              "                        <td id=\"T_dbced_row2_col19\" class=\"data row2 col19\" >0.114657</td>\n",
              "            </tr>\n",
              "            <tr>\n",
              "                        <th id=\"T_dbced_level0_row3\" class=\"row_heading level0 row3\" >temp_last</th>\n",
              "                        <td id=\"T_dbced_row3_col0\" class=\"data row3 col0\" >-0.097018</td>\n",
              "                        <td id=\"T_dbced_row3_col1\" class=\"data row3 col1\" >0.022711</td>\n",
              "                        <td id=\"T_dbced_row3_col2\" class=\"data row3 col2\" >0.298724</td>\n",
              "                        <td id=\"T_dbced_row3_col3\" class=\"data row3 col3\" >1.000000</td>\n",
              "                        <td id=\"T_dbced_row3_col4\" class=\"data row3 col4\" >0.724517</td>\n",
              "                        <td id=\"T_dbced_row3_col5\" class=\"data row3 col5\" >0.488109</td>\n",
              "                        <td id=\"T_dbced_row3_col6\" class=\"data row3 col6\" >0.736216</td>\n",
              "                        <td id=\"T_dbced_row3_col7\" class=\"data row3 col7\" >0.117066</td>\n",
              "                        <td id=\"T_dbced_row3_col8\" class=\"data row3 col8\" >0.088164</td>\n",
              "                        <td id=\"T_dbced_row3_col9\" class=\"data row3 col9\" >-0.033241</td>\n",
              "                        <td id=\"T_dbced_row3_col10\" class=\"data row3 col10\" >0.197711</td>\n",
              "                        <td id=\"T_dbced_row3_col11\" class=\"data row3 col11\" >0.255371</td>\n",
              "                        <td id=\"T_dbced_row3_col12\" class=\"data row3 col12\" >0.101897</td>\n",
              "                        <td id=\"T_dbced_row3_col13\" class=\"data row3 col13\" >0.270126</td>\n",
              "                        <td id=\"T_dbced_row3_col14\" class=\"data row3 col14\" >0.161586</td>\n",
              "                        <td id=\"T_dbced_row3_col15\" class=\"data row3 col15\" >0.223854</td>\n",
              "                        <td id=\"T_dbced_row3_col16\" class=\"data row3 col16\" >0.068907</td>\n",
              "                        <td id=\"T_dbced_row3_col17\" class=\"data row3 col17\" >0.311521</td>\n",
              "                        <td id=\"T_dbced_row3_col18\" class=\"data row3 col18\" >-0.222260</td>\n",
              "                        <td id=\"T_dbced_row3_col19\" class=\"data row3 col19\" >0.069583</td>\n",
              "            </tr>\n",
              "            <tr>\n",
              "                        <th id=\"T_dbced_level0_row4\" class=\"row_heading level0 row4\" >temp_min</th>\n",
              "                        <td id=\"T_dbced_row4_col0\" class=\"data row4 col0\" >-0.082584</td>\n",
              "                        <td id=\"T_dbced_row4_col1\" class=\"data row4 col1\" >0.177916</td>\n",
              "                        <td id=\"T_dbced_row4_col2\" class=\"data row4 col2\" >0.694273</td>\n",
              "                        <td id=\"T_dbced_row4_col3\" class=\"data row4 col3\" >0.724517</td>\n",
              "                        <td id=\"T_dbced_row4_col4\" class=\"data row4 col4\" >1.000000</td>\n",
              "                        <td id=\"T_dbced_row4_col5\" class=\"data row4 col5\" >0.619096</td>\n",
              "                        <td id=\"T_dbced_row4_col6\" class=\"data row4 col6\" >0.880083</td>\n",
              "                        <td id=\"T_dbced_row4_col7\" class=\"data row4 col7\" >0.260512</td>\n",
              "                        <td id=\"T_dbced_row4_col8\" class=\"data row4 col8\" >-0.022872</td>\n",
              "                        <td id=\"T_dbced_row4_col9\" class=\"data row4 col9\" >-0.079953</td>\n",
              "                        <td id=\"T_dbced_row4_col10\" class=\"data row4 col10\" >0.205419</td>\n",
              "                        <td id=\"T_dbced_row4_col11\" class=\"data row4 col11\" >0.136224</td>\n",
              "                        <td id=\"T_dbced_row4_col12\" class=\"data row4 col12\" >-0.012554</td>\n",
              "                        <td id=\"T_dbced_row4_col13\" class=\"data row4 col13\" >0.153912</td>\n",
              "                        <td id=\"T_dbced_row4_col14\" class=\"data row4 col14\" >0.061419</td>\n",
              "                        <td id=\"T_dbced_row4_col15\" class=\"data row4 col15\" >0.105675</td>\n",
              "                        <td id=\"T_dbced_row4_col16\" class=\"data row4 col16\" >0.111142</td>\n",
              "                        <td id=\"T_dbced_row4_col17\" class=\"data row4 col17\" >0.357843</td>\n",
              "                        <td id=\"T_dbced_row4_col18\" class=\"data row4 col18\" >-0.187679</td>\n",
              "                        <td id=\"T_dbced_row4_col19\" class=\"data row4 col19\" >0.141527</td>\n",
              "            </tr>\n",
              "            <tr>\n",
              "                        <th id=\"T_dbced_level0_row5\" class=\"row_heading level0 row5\" >temp_max</th>\n",
              "                        <td id=\"T_dbced_row5_col0\" class=\"data row5 col0\" >-0.054190</td>\n",
              "                        <td id=\"T_dbced_row5_col1\" class=\"data row5 col1\" >-0.066363</td>\n",
              "                        <td id=\"T_dbced_row5_col2\" class=\"data row5 col2\" >0.840597</td>\n",
              "                        <td id=\"T_dbced_row5_col3\" class=\"data row5 col3\" >0.488109</td>\n",
              "                        <td id=\"T_dbced_row5_col4\" class=\"data row5 col4\" >0.619096</td>\n",
              "                        <td id=\"T_dbced_row5_col5\" class=\"data row5 col5\" >1.000000</td>\n",
              "                        <td id=\"T_dbced_row5_col6\" class=\"data row5 col6\" >0.869620</td>\n",
              "                        <td id=\"T_dbced_row5_col7\" class=\"data row5 col7\" >0.013879</td>\n",
              "                        <td id=\"T_dbced_row5_col8\" class=\"data row5 col8\" >-0.100816</td>\n",
              "                        <td id=\"T_dbced_row5_col9\" class=\"data row5 col9\" >-0.111854</td>\n",
              "                        <td id=\"T_dbced_row5_col10\" class=\"data row5 col10\" >0.159160</td>\n",
              "                        <td id=\"T_dbced_row5_col11\" class=\"data row5 col11\" >-0.059028</td>\n",
              "                        <td id=\"T_dbced_row5_col12\" class=\"data row5 col12\" >-0.127965</td>\n",
              "                        <td id=\"T_dbced_row5_col13\" class=\"data row5 col13\" >0.016716</td>\n",
              "                        <td id=\"T_dbced_row5_col14\" class=\"data row5 col14\" >0.000719</td>\n",
              "                        <td id=\"T_dbced_row5_col15\" class=\"data row5 col15\" >-0.100358</td>\n",
              "                        <td id=\"T_dbced_row5_col16\" class=\"data row5 col16\" >-0.047817</td>\n",
              "                        <td id=\"T_dbced_row5_col17\" class=\"data row5 col17\" >0.238885</td>\n",
              "                        <td id=\"T_dbced_row5_col18\" class=\"data row5 col18\" >-0.146937</td>\n",
              "                        <td id=\"T_dbced_row5_col19\" class=\"data row5 col19\" >0.047999</td>\n",
              "            </tr>\n",
              "            <tr>\n",
              "                        <th id=\"T_dbced_level0_row6\" class=\"row_heading level0 row6\" >temp_mean</th>\n",
              "                        <td id=\"T_dbced_row6_col0\" class=\"data row6 col0\" >-0.081263</td>\n",
              "                        <td id=\"T_dbced_row6_col1\" class=\"data row6 col1\" >0.058572</td>\n",
              "                        <td id=\"T_dbced_row6_col2\" class=\"data row6 col2\" >0.789975</td>\n",
              "                        <td id=\"T_dbced_row6_col3\" class=\"data row6 col3\" >0.736216</td>\n",
              "                        <td id=\"T_dbced_row6_col4\" class=\"data row6 col4\" >0.880083</td>\n",
              "                        <td id=\"T_dbced_row6_col5\" class=\"data row6 col5\" >0.869620</td>\n",
              "                        <td id=\"T_dbced_row6_col6\" class=\"data row6 col6\" >1.000000</td>\n",
              "                        <td id=\"T_dbced_row6_col7\" class=\"data row6 col7\" >0.141637</td>\n",
              "                        <td id=\"T_dbced_row6_col8\" class=\"data row6 col8\" >-0.068534</td>\n",
              "                        <td id=\"T_dbced_row6_col9\" class=\"data row6 col9\" >-0.093342</td>\n",
              "                        <td id=\"T_dbced_row6_col10\" class=\"data row6 col10\" >0.199784</td>\n",
              "                        <td id=\"T_dbced_row6_col11\" class=\"data row6 col11\" >0.073485</td>\n",
              "                        <td id=\"T_dbced_row6_col12\" class=\"data row6 col12\" >-0.046834</td>\n",
              "                        <td id=\"T_dbced_row6_col13\" class=\"data row6 col13\" >0.120738</td>\n",
              "                        <td id=\"T_dbced_row6_col14\" class=\"data row6 col14\" >0.050595</td>\n",
              "                        <td id=\"T_dbced_row6_col15\" class=\"data row6 col15\" >0.038420</td>\n",
              "                        <td id=\"T_dbced_row6_col16\" class=\"data row6 col16\" >0.049000</td>\n",
              "                        <td id=\"T_dbced_row6_col17\" class=\"data row6 col17\" >0.334111</td>\n",
              "                        <td id=\"T_dbced_row6_col18\" class=\"data row6 col18\" >-0.197216</td>\n",
              "                        <td id=\"T_dbced_row6_col19\" class=\"data row6 col19\" >0.105120</td>\n",
              "            </tr>\n",
              "            <tr>\n",
              "                        <th id=\"T_dbced_level0_row7\" class=\"row_heading level0 row7\" >duration_temp_meas</th>\n",
              "                        <td id=\"T_dbced_row7_col0\" class=\"data row7 col0\" >-0.024716</td>\n",
              "                        <td id=\"T_dbced_row7_col1\" class=\"data row7 col1\" >0.498570</td>\n",
              "                        <td id=\"T_dbced_row7_col2\" class=\"data row7 col2\" >0.174059</td>\n",
              "                        <td id=\"T_dbced_row7_col3\" class=\"data row7 col3\" >0.117066</td>\n",
              "                        <td id=\"T_dbced_row7_col4\" class=\"data row7 col4\" >0.260512</td>\n",
              "                        <td id=\"T_dbced_row7_col5\" class=\"data row7 col5\" >0.013879</td>\n",
              "                        <td id=\"T_dbced_row7_col6\" class=\"data row7 col6\" >0.141637</td>\n",
              "                        <td id=\"T_dbced_row7_col7\" class=\"data row7 col7\" >1.000000</td>\n",
              "                        <td id=\"T_dbced_row7_col8\" class=\"data row7 col8\" >0.370165</td>\n",
              "                        <td id=\"T_dbced_row7_col9\" class=\"data row7 col9\" >0.046210</td>\n",
              "                        <td id=\"T_dbced_row7_col10\" class=\"data row7 col10\" >-0.010145</td>\n",
              "                        <td id=\"T_dbced_row7_col11\" class=\"data row7 col11\" >0.218946</td>\n",
              "                        <td id=\"T_dbced_row7_col12\" class=\"data row7 col12\" >0.196639</td>\n",
              "                        <td id=\"T_dbced_row7_col13\" class=\"data row7 col13\" >0.156876</td>\n",
              "                        <td id=\"T_dbced_row7_col14\" class=\"data row7 col14\" >0.072803</td>\n",
              "                        <td id=\"T_dbced_row7_col15\" class=\"data row7 col15\" >0.289210</td>\n",
              "                        <td id=\"T_dbced_row7_col16\" class=\"data row7 col16\" >0.407045</td>\n",
              "                        <td id=\"T_dbced_row7_col17\" class=\"data row7 col17\" >0.193956</td>\n",
              "                        <td id=\"T_dbced_row7_col18\" class=\"data row7 col18\" >0.053206</td>\n",
              "                        <td id=\"T_dbced_row7_col19\" class=\"data row7 col19\" >0.197281</td>\n",
              "            </tr>\n",
              "            <tr>\n",
              "                        <th id=\"T_dbced_level0_row8\" class=\"row_heading level0 row8\" >full_power</th>\n",
              "                        <td id=\"T_dbced_row8_col0\" class=\"data row8 col0\" >0.010000</td>\n",
              "                        <td id=\"T_dbced_row8_col1\" class=\"data row8 col1\" >0.339533</td>\n",
              "                        <td id=\"T_dbced_row8_col2\" class=\"data row8 col2\" >-0.079592</td>\n",
              "                        <td id=\"T_dbced_row8_col3\" class=\"data row8 col3\" >0.088164</td>\n",
              "                        <td id=\"T_dbced_row8_col4\" class=\"data row8 col4\" >-0.022872</td>\n",
              "                        <td id=\"T_dbced_row8_col5\" class=\"data row8 col5\" >-0.100816</td>\n",
              "                        <td id=\"T_dbced_row8_col6\" class=\"data row8 col6\" >-0.068534</td>\n",
              "                        <td id=\"T_dbced_row8_col7\" class=\"data row8 col7\" >0.370165</td>\n",
              "                        <td id=\"T_dbced_row8_col8\" class=\"data row8 col8\" >1.000000</td>\n",
              "                        <td id=\"T_dbced_row8_col9\" class=\"data row8 col9\" >0.076173</td>\n",
              "                        <td id=\"T_dbced_row8_col10\" class=\"data row8 col10\" >0.013514</td>\n",
              "                        <td id=\"T_dbced_row8_col11\" class=\"data row8 col11\" >0.136644</td>\n",
              "                        <td id=\"T_dbced_row8_col12\" class=\"data row8 col12\" >0.152015</td>\n",
              "                        <td id=\"T_dbced_row8_col13\" class=\"data row8 col13\" >0.092296</td>\n",
              "                        <td id=\"T_dbced_row8_col14\" class=\"data row8 col14\" >0.062402</td>\n",
              "                        <td id=\"T_dbced_row8_col15\" class=\"data row8 col15\" >0.207211</td>\n",
              "                        <td id=\"T_dbced_row8_col16\" class=\"data row8 col16\" >0.218172</td>\n",
              "                        <td id=\"T_dbced_row8_col17\" class=\"data row8 col17\" >0.102149</td>\n",
              "                        <td id=\"T_dbced_row8_col18\" class=\"data row8 col18\" >0.063207</td>\n",
              "                        <td id=\"T_dbced_row8_col19\" class=\"data row8 col19\" >0.125054</td>\n",
              "            </tr>\n",
              "            <tr>\n",
              "                        <th id=\"T_dbced_level0_row9\" class=\"row_heading level0 row9\" >bulk_3</th>\n",
              "                        <td id=\"T_dbced_row9_col0\" class=\"data row9 col0\" >-0.009476</td>\n",
              "                        <td id=\"T_dbced_row9_col1\" class=\"data row9 col1\" >0.059795</td>\n",
              "                        <td id=\"T_dbced_row9_col2\" class=\"data row9 col2\" >-0.112003</td>\n",
              "                        <td id=\"T_dbced_row9_col3\" class=\"data row9 col3\" >-0.033241</td>\n",
              "                        <td id=\"T_dbced_row9_col4\" class=\"data row9 col4\" >-0.079953</td>\n",
              "                        <td id=\"T_dbced_row9_col5\" class=\"data row9 col5\" >-0.111854</td>\n",
              "                        <td id=\"T_dbced_row9_col6\" class=\"data row9 col6\" >-0.093342</td>\n",
              "                        <td id=\"T_dbced_row9_col7\" class=\"data row9 col7\" >0.046210</td>\n",
              "                        <td id=\"T_dbced_row9_col8\" class=\"data row9 col8\" >0.076173</td>\n",
              "                        <td id=\"T_dbced_row9_col9\" class=\"data row9 col9\" >1.000000</td>\n",
              "                        <td id=\"T_dbced_row9_col10\" class=\"data row9 col10\" >-0.295141</td>\n",
              "                        <td id=\"T_dbced_row9_col11\" class=\"data row9 col11\" >0.015921</td>\n",
              "                        <td id=\"T_dbced_row9_col12\" class=\"data row9 col12\" >0.003770</td>\n",
              "                        <td id=\"T_dbced_row9_col13\" class=\"data row9 col13\" >-0.017589</td>\n",
              "                        <td id=\"T_dbced_row9_col14\" class=\"data row9 col14\" >-0.291962</td>\n",
              "                        <td id=\"T_dbced_row9_col15\" class=\"data row9 col15\" >0.209940</td>\n",
              "                        <td id=\"T_dbced_row9_col16\" class=\"data row9 col16\" >0.065605</td>\n",
              "                        <td id=\"T_dbced_row9_col17\" class=\"data row9 col17\" >0.030773</td>\n",
              "                        <td id=\"T_dbced_row9_col18\" class=\"data row9 col18\" >0.087732</td>\n",
              "                        <td id=\"T_dbced_row9_col19\" class=\"data row9 col19\" >0.071307</td>\n",
              "            </tr>\n",
              "            <tr>\n",
              "                        <th id=\"T_dbced_level0_row10\" class=\"row_heading level0 row10\" >bulk_4</th>\n",
              "                        <td id=\"T_dbced_row10_col0\" class=\"data row10 col0\" >-0.025668</td>\n",
              "                        <td id=\"T_dbced_row10_col1\" class=\"data row10 col1\" >-0.036045</td>\n",
              "                        <td id=\"T_dbced_row10_col2\" class=\"data row10 col2\" >0.147822</td>\n",
              "                        <td id=\"T_dbced_row10_col3\" class=\"data row10 col3\" >0.197711</td>\n",
              "                        <td id=\"T_dbced_row10_col4\" class=\"data row10 col4\" >0.205419</td>\n",
              "                        <td id=\"T_dbced_row10_col5\" class=\"data row10 col5\" >0.159160</td>\n",
              "                        <td id=\"T_dbced_row10_col6\" class=\"data row10 col6\" >0.199784</td>\n",
              "                        <td id=\"T_dbced_row10_col7\" class=\"data row10 col7\" >-0.010145</td>\n",
              "                        <td id=\"T_dbced_row10_col8\" class=\"data row10 col8\" >0.013514</td>\n",
              "                        <td id=\"T_dbced_row10_col9\" class=\"data row10 col9\" >-0.295141</td>\n",
              "                        <td id=\"T_dbced_row10_col10\" class=\"data row10 col10\" >1.000000</td>\n",
              "                        <td id=\"T_dbced_row10_col11\" class=\"data row10 col11\" >0.111708</td>\n",
              "                        <td id=\"T_dbced_row10_col12\" class=\"data row10 col12\" >-0.082806</td>\n",
              "                        <td id=\"T_dbced_row10_col13\" class=\"data row10 col13\" >0.111468</td>\n",
              "                        <td id=\"T_dbced_row10_col14\" class=\"data row10 col14\" >-0.142701</td>\n",
              "                        <td id=\"T_dbced_row10_col15\" class=\"data row10 col15\" >0.144678</td>\n",
              "                        <td id=\"T_dbced_row10_col16\" class=\"data row10 col16\" >0.015697</td>\n",
              "                        <td id=\"T_dbced_row10_col17\" class=\"data row10 col17\" >0.310898</td>\n",
              "                        <td id=\"T_dbced_row10_col18\" class=\"data row10 col18\" >-0.271270</td>\n",
              "                        <td id=\"T_dbced_row10_col19\" class=\"data row10 col19\" >0.045704</td>\n",
              "            </tr>\n",
              "            <tr>\n",
              "                        <th id=\"T_dbced_level0_row11\" class=\"row_heading level0 row11\" >bulk_12</th>\n",
              "                        <td id=\"T_dbced_row11_col0\" class=\"data row11 col0\" >0.027728</td>\n",
              "                        <td id=\"T_dbced_row11_col1\" class=\"data row11 col1\" >0.063835</td>\n",
              "                        <td id=\"T_dbced_row11_col2\" class=\"data row11 col2\" >-0.072637</td>\n",
              "                        <td id=\"T_dbced_row11_col3\" class=\"data row11 col3\" >0.255371</td>\n",
              "                        <td id=\"T_dbced_row11_col4\" class=\"data row11 col4\" >0.136224</td>\n",
              "                        <td id=\"T_dbced_row11_col5\" class=\"data row11 col5\" >-0.059028</td>\n",
              "                        <td id=\"T_dbced_row11_col6\" class=\"data row11 col6\" >0.073485</td>\n",
              "                        <td id=\"T_dbced_row11_col7\" class=\"data row11 col7\" >0.218946</td>\n",
              "                        <td id=\"T_dbced_row11_col8\" class=\"data row11 col8\" >0.136644</td>\n",
              "                        <td id=\"T_dbced_row11_col9\" class=\"data row11 col9\" >0.015921</td>\n",
              "                        <td id=\"T_dbced_row11_col10\" class=\"data row11 col10\" >0.111708</td>\n",
              "                        <td id=\"T_dbced_row11_col11\" class=\"data row11 col11\" >1.000000</td>\n",
              "                        <td id=\"T_dbced_row11_col12\" class=\"data row11 col12\" >0.472446</td>\n",
              "                        <td id=\"T_dbced_row11_col13\" class=\"data row11 col13\" >0.637874</td>\n",
              "                        <td id=\"T_dbced_row11_col14\" class=\"data row11 col14\" >0.543863</td>\n",
              "                        <td id=\"T_dbced_row11_col15\" class=\"data row11 col15\" >0.869010</td>\n",
              "                        <td id=\"T_dbced_row11_col16\" class=\"data row11 col16\" >0.189522</td>\n",
              "                        <td id=\"T_dbced_row11_col17\" class=\"data row11 col17\" >0.177791</td>\n",
              "                        <td id=\"T_dbced_row11_col18\" class=\"data row11 col18\" >-0.122144</td>\n",
              "                        <td id=\"T_dbced_row11_col19\" class=\"data row11 col19\" >-0.009166</td>\n",
              "            </tr>\n",
              "            <tr>\n",
              "                        <th id=\"T_dbced_level0_row12\" class=\"row_heading level0 row12\" >bulk_14</th>\n",
              "                        <td id=\"T_dbced_row12_col0\" class=\"data row12 col0\" >-0.103541</td>\n",
              "                        <td id=\"T_dbced_row12_col1\" class=\"data row12 col1\" >0.109998</td>\n",
              "                        <td id=\"T_dbced_row12_col2\" class=\"data row12 col2\" >-0.149009</td>\n",
              "                        <td id=\"T_dbced_row12_col3\" class=\"data row12 col3\" >0.101897</td>\n",
              "                        <td id=\"T_dbced_row12_col4\" class=\"data row12 col4\" >-0.012554</td>\n",
              "                        <td id=\"T_dbced_row12_col5\" class=\"data row12 col5\" >-0.127965</td>\n",
              "                        <td id=\"T_dbced_row12_col6\" class=\"data row12 col6\" >-0.046834</td>\n",
              "                        <td id=\"T_dbced_row12_col7\" class=\"data row12 col7\" >0.196639</td>\n",
              "                        <td id=\"T_dbced_row12_col8\" class=\"data row12 col8\" >0.152015</td>\n",
              "                        <td id=\"T_dbced_row12_col9\" class=\"data row12 col9\" >0.003770</td>\n",
              "                        <td id=\"T_dbced_row12_col10\" class=\"data row12 col10\" >-0.082806</td>\n",
              "                        <td id=\"T_dbced_row12_col11\" class=\"data row12 col11\" >0.472446</td>\n",
              "                        <td id=\"T_dbced_row12_col12\" class=\"data row12 col12\" >1.000000</td>\n",
              "                        <td id=\"T_dbced_row12_col13\" class=\"data row12 col13\" >0.262659</td>\n",
              "                        <td id=\"T_dbced_row12_col14\" class=\"data row12 col14\" >0.534471</td>\n",
              "                        <td id=\"T_dbced_row12_col15\" class=\"data row12 col15\" >0.625576</td>\n",
              "                        <td id=\"T_dbced_row12_col16\" class=\"data row12 col16\" >0.265608</td>\n",
              "                        <td id=\"T_dbced_row12_col17\" class=\"data row12 col17\" >-0.053887</td>\n",
              "                        <td id=\"T_dbced_row12_col18\" class=\"data row12 col18\" >0.021544</td>\n",
              "                        <td id=\"T_dbced_row12_col19\" class=\"data row12 col19\" >-0.030567</td>\n",
              "            </tr>\n",
              "            <tr>\n",
              "                        <th id=\"T_dbced_level0_row13\" class=\"row_heading level0 row13\" >bulk_15</th>\n",
              "                        <td id=\"T_dbced_row13_col0\" class=\"data row13 col0\" >-0.050415</td>\n",
              "                        <td id=\"T_dbced_row13_col1\" class=\"data row13 col1\" >0.003673</td>\n",
              "                        <td id=\"T_dbced_row13_col2\" class=\"data row13 col2\" >-0.030241</td>\n",
              "                        <td id=\"T_dbced_row13_col3\" class=\"data row13 col3\" >0.270126</td>\n",
              "                        <td id=\"T_dbced_row13_col4\" class=\"data row13 col4\" >0.153912</td>\n",
              "                        <td id=\"T_dbced_row13_col5\" class=\"data row13 col5\" >0.016716</td>\n",
              "                        <td id=\"T_dbced_row13_col6\" class=\"data row13 col6\" >0.120738</td>\n",
              "                        <td id=\"T_dbced_row13_col7\" class=\"data row13 col7\" >0.156876</td>\n",
              "                        <td id=\"T_dbced_row13_col8\" class=\"data row13 col8\" >0.092296</td>\n",
              "                        <td id=\"T_dbced_row13_col9\" class=\"data row13 col9\" >-0.017589</td>\n",
              "                        <td id=\"T_dbced_row13_col10\" class=\"data row13 col10\" >0.111468</td>\n",
              "                        <td id=\"T_dbced_row13_col11\" class=\"data row13 col11\" >0.637874</td>\n",
              "                        <td id=\"T_dbced_row13_col12\" class=\"data row13 col12\" >0.262659</td>\n",
              "                        <td id=\"T_dbced_row13_col13\" class=\"data row13 col13\" >1.000000</td>\n",
              "                        <td id=\"T_dbced_row13_col14\" class=\"data row13 col14\" >0.554830</td>\n",
              "                        <td id=\"T_dbced_row13_col15\" class=\"data row13 col15\" >0.701094</td>\n",
              "                        <td id=\"T_dbced_row13_col16\" class=\"data row13 col16\" >0.059264</td>\n",
              "                        <td id=\"T_dbced_row13_col17\" class=\"data row13 col17\" >0.119823</td>\n",
              "                        <td id=\"T_dbced_row13_col18\" class=\"data row13 col18\" >-0.102358</td>\n",
              "                        <td id=\"T_dbced_row13_col19\" class=\"data row13 col19\" >-0.037574</td>\n",
              "            </tr>\n",
              "            <tr>\n",
              "                        <th id=\"T_dbced_level0_row14\" class=\"row_heading level0 row14\" >ratio_bulk_sum</th>\n",
              "                        <td id=\"T_dbced_row14_col0\" class=\"data row14 col0\" >-0.035957</td>\n",
              "                        <td id=\"T_dbced_row14_col1\" class=\"data row14 col1\" >0.006882</td>\n",
              "                        <td id=\"T_dbced_row14_col2\" class=\"data row14 col2\" >-0.041338</td>\n",
              "                        <td id=\"T_dbced_row14_col3\" class=\"data row14 col3\" >0.161586</td>\n",
              "                        <td id=\"T_dbced_row14_col4\" class=\"data row14 col4\" >0.061419</td>\n",
              "                        <td id=\"T_dbced_row14_col5\" class=\"data row14 col5\" >0.000719</td>\n",
              "                        <td id=\"T_dbced_row14_col6\" class=\"data row14 col6\" >0.050595</td>\n",
              "                        <td id=\"T_dbced_row14_col7\" class=\"data row14 col7\" >0.072803</td>\n",
              "                        <td id=\"T_dbced_row14_col8\" class=\"data row14 col8\" >0.062402</td>\n",
              "                        <td id=\"T_dbced_row14_col9\" class=\"data row14 col9\" >-0.291962</td>\n",
              "                        <td id=\"T_dbced_row14_col10\" class=\"data row14 col10\" >-0.142701</td>\n",
              "                        <td id=\"T_dbced_row14_col11\" class=\"data row14 col11\" >0.543863</td>\n",
              "                        <td id=\"T_dbced_row14_col12\" class=\"data row14 col12\" >0.534471</td>\n",
              "                        <td id=\"T_dbced_row14_col13\" class=\"data row14 col13\" >0.554830</td>\n",
              "                        <td id=\"T_dbced_row14_col14\" class=\"data row14 col14\" >1.000000</td>\n",
              "                        <td id=\"T_dbced_row14_col15\" class=\"data row14 col15\" >0.419672</td>\n",
              "                        <td id=\"T_dbced_row14_col16\" class=\"data row14 col16\" >0.032864</td>\n",
              "                        <td id=\"T_dbced_row14_col17\" class=\"data row14 col17\" >-0.026251</td>\n",
              "                        <td id=\"T_dbced_row14_col18\" class=\"data row14 col18\" >-0.027630</td>\n",
              "                        <td id=\"T_dbced_row14_col19\" class=\"data row14 col19\" >-0.055758</td>\n",
              "            </tr>\n",
              "            <tr>\n",
              "                        <th id=\"T_dbced_level0_row15\" class=\"row_heading level0 row15\" >bulk_sum</th>\n",
              "                        <td id=\"T_dbced_row15_col0\" class=\"data row15 col0\" >-0.027050</td>\n",
              "                        <td id=\"T_dbced_row15_col1\" class=\"data row15 col1\" >0.107248</td>\n",
              "                        <td id=\"T_dbced_row15_col2\" class=\"data row15 col2\" >-0.106693</td>\n",
              "                        <td id=\"T_dbced_row15_col3\" class=\"data row15 col3\" >0.223854</td>\n",
              "                        <td id=\"T_dbced_row15_col4\" class=\"data row15 col4\" >0.105675</td>\n",
              "                        <td id=\"T_dbced_row15_col5\" class=\"data row15 col5\" >-0.100358</td>\n",
              "                        <td id=\"T_dbced_row15_col6\" class=\"data row15 col6\" >0.038420</td>\n",
              "                        <td id=\"T_dbced_row15_col7\" class=\"data row15 col7\" >0.289210</td>\n",
              "                        <td id=\"T_dbced_row15_col8\" class=\"data row15 col8\" >0.207211</td>\n",
              "                        <td id=\"T_dbced_row15_col9\" class=\"data row15 col9\" >0.209940</td>\n",
              "                        <td id=\"T_dbced_row15_col10\" class=\"data row15 col10\" >0.144678</td>\n",
              "                        <td id=\"T_dbced_row15_col11\" class=\"data row15 col11\" >0.869010</td>\n",
              "                        <td id=\"T_dbced_row15_col12\" class=\"data row15 col12\" >0.625576</td>\n",
              "                        <td id=\"T_dbced_row15_col13\" class=\"data row15 col13\" >0.701094</td>\n",
              "                        <td id=\"T_dbced_row15_col14\" class=\"data row15 col14\" >0.419672</td>\n",
              "                        <td id=\"T_dbced_row15_col15\" class=\"data row15 col15\" >1.000000</td>\n",
              "                        <td id=\"T_dbced_row15_col16\" class=\"data row15 col16\" >0.280612</td>\n",
              "                        <td id=\"T_dbced_row15_col17\" class=\"data row15 col17\" >0.120704</td>\n",
              "                        <td id=\"T_dbced_row15_col18\" class=\"data row15 col18\" >-0.098399</td>\n",
              "                        <td id=\"T_dbced_row15_col19\" class=\"data row15 col19\" >-0.007765</td>\n",
              "            </tr>\n",
              "            <tr>\n",
              "                        <th id=\"T_dbced_level0_row16\" class=\"row_heading level0 row16\" >gas_1</th>\n",
              "                        <td id=\"T_dbced_row16_col0\" class=\"data row16 col0\" >-0.039821</td>\n",
              "                        <td id=\"T_dbced_row16_col1\" class=\"data row16 col1\" >0.251182</td>\n",
              "                        <td id=\"T_dbced_row16_col2\" class=\"data row16 col2\" >0.020788</td>\n",
              "                        <td id=\"T_dbced_row16_col3\" class=\"data row16 col3\" >0.068907</td>\n",
              "                        <td id=\"T_dbced_row16_col4\" class=\"data row16 col4\" >0.111142</td>\n",
              "                        <td id=\"T_dbced_row16_col5\" class=\"data row16 col5\" >-0.047817</td>\n",
              "                        <td id=\"T_dbced_row16_col6\" class=\"data row16 col6\" >0.049000</td>\n",
              "                        <td id=\"T_dbced_row16_col7\" class=\"data row16 col7\" >0.407045</td>\n",
              "                        <td id=\"T_dbced_row16_col8\" class=\"data row16 col8\" >0.218172</td>\n",
              "                        <td id=\"T_dbced_row16_col9\" class=\"data row16 col9\" >0.065605</td>\n",
              "                        <td id=\"T_dbced_row16_col10\" class=\"data row16 col10\" >0.015697</td>\n",
              "                        <td id=\"T_dbced_row16_col11\" class=\"data row16 col11\" >0.189522</td>\n",
              "                        <td id=\"T_dbced_row16_col12\" class=\"data row16 col12\" >0.265608</td>\n",
              "                        <td id=\"T_dbced_row16_col13\" class=\"data row16 col13\" >0.059264</td>\n",
              "                        <td id=\"T_dbced_row16_col14\" class=\"data row16 col14\" >0.032864</td>\n",
              "                        <td id=\"T_dbced_row16_col15\" class=\"data row16 col15\" >0.280612</td>\n",
              "                        <td id=\"T_dbced_row16_col16\" class=\"data row16 col16\" >1.000000</td>\n",
              "                        <td id=\"T_dbced_row16_col17\" class=\"data row16 col17\" >0.147012</td>\n",
              "                        <td id=\"T_dbced_row16_col18\" class=\"data row16 col18\" >0.078136</td>\n",
              "                        <td id=\"T_dbced_row16_col19\" class=\"data row16 col19\" >0.205454</td>\n",
              "            </tr>\n",
              "            <tr>\n",
              "                        <th id=\"T_dbced_level0_row17\" class=\"row_heading level0 row17\" >wire_1</th>\n",
              "                        <td id=\"T_dbced_row17_col0\" class=\"data row17 col0\" >-0.019185</td>\n",
              "                        <td id=\"T_dbced_row17_col1\" class=\"data row17 col1\" >0.119348</td>\n",
              "                        <td id=\"T_dbced_row17_col2\" class=\"data row17 col2\" >0.262658</td>\n",
              "                        <td id=\"T_dbced_row17_col3\" class=\"data row17 col3\" >0.311521</td>\n",
              "                        <td id=\"T_dbced_row17_col4\" class=\"data row17 col4\" >0.357843</td>\n",
              "                        <td id=\"T_dbced_row17_col5\" class=\"data row17 col5\" >0.238885</td>\n",
              "                        <td id=\"T_dbced_row17_col6\" class=\"data row17 col6\" >0.334111</td>\n",
              "                        <td id=\"T_dbced_row17_col7\" class=\"data row17 col7\" >0.193956</td>\n",
              "                        <td id=\"T_dbced_row17_col8\" class=\"data row17 col8\" >0.102149</td>\n",
              "                        <td id=\"T_dbced_row17_col9\" class=\"data row17 col9\" >0.030773</td>\n",
              "                        <td id=\"T_dbced_row17_col10\" class=\"data row17 col10\" >0.310898</td>\n",
              "                        <td id=\"T_dbced_row17_col11\" class=\"data row17 col11\" >0.177791</td>\n",
              "                        <td id=\"T_dbced_row17_col12\" class=\"data row17 col12\" >-0.053887</td>\n",
              "                        <td id=\"T_dbced_row17_col13\" class=\"data row17 col13\" >0.119823</td>\n",
              "                        <td id=\"T_dbced_row17_col14\" class=\"data row17 col14\" >-0.026251</td>\n",
              "                        <td id=\"T_dbced_row17_col15\" class=\"data row17 col15\" >0.120704</td>\n",
              "                        <td id=\"T_dbced_row17_col16\" class=\"data row17 col16\" >0.147012</td>\n",
              "                        <td id=\"T_dbced_row17_col17\" class=\"data row17 col17\" >1.000000</td>\n",
              "                        <td id=\"T_dbced_row17_col18\" class=\"data row17 col18\" >-0.069965</td>\n",
              "                        <td id=\"T_dbced_row17_col19\" class=\"data row17 col19\" >0.647865</td>\n",
              "            </tr>\n",
              "            <tr>\n",
              "                        <th id=\"T_dbced_level0_row18\" class=\"row_heading level0 row18\" >wire_2</th>\n",
              "                        <td id=\"T_dbced_row18_col0\" class=\"data row18 col0\" >0.049574</td>\n",
              "                        <td id=\"T_dbced_row18_col1\" class=\"data row18 col1\" >0.044978</td>\n",
              "                        <td id=\"T_dbced_row18_col2\" class=\"data row18 col2\" >-0.099306</td>\n",
              "                        <td id=\"T_dbced_row18_col3\" class=\"data row18 col3\" >-0.222260</td>\n",
              "                        <td id=\"T_dbced_row18_col4\" class=\"data row18 col4\" >-0.187679</td>\n",
              "                        <td id=\"T_dbced_row18_col5\" class=\"data row18 col5\" >-0.146937</td>\n",
              "                        <td id=\"T_dbced_row18_col6\" class=\"data row18 col6\" >-0.197216</td>\n",
              "                        <td id=\"T_dbced_row18_col7\" class=\"data row18 col7\" >0.053206</td>\n",
              "                        <td id=\"T_dbced_row18_col8\" class=\"data row18 col8\" >0.063207</td>\n",
              "                        <td id=\"T_dbced_row18_col9\" class=\"data row18 col9\" >0.087732</td>\n",
              "                        <td id=\"T_dbced_row18_col10\" class=\"data row18 col10\" >-0.271270</td>\n",
              "                        <td id=\"T_dbced_row18_col11\" class=\"data row18 col11\" >-0.122144</td>\n",
              "                        <td id=\"T_dbced_row18_col12\" class=\"data row18 col12\" >0.021544</td>\n",
              "                        <td id=\"T_dbced_row18_col13\" class=\"data row18 col13\" >-0.102358</td>\n",
              "                        <td id=\"T_dbced_row18_col14\" class=\"data row18 col14\" >-0.027630</td>\n",
              "                        <td id=\"T_dbced_row18_col15\" class=\"data row18 col15\" >-0.098399</td>\n",
              "                        <td id=\"T_dbced_row18_col16\" class=\"data row18 col16\" >0.078136</td>\n",
              "                        <td id=\"T_dbced_row18_col17\" class=\"data row18 col17\" >-0.069965</td>\n",
              "                        <td id=\"T_dbced_row18_col18\" class=\"data row18 col18\" >1.000000</td>\n",
              "                        <td id=\"T_dbced_row18_col19\" class=\"data row18 col19\" >0.532186</td>\n",
              "            </tr>\n",
              "            <tr>\n",
              "                        <th id=\"T_dbced_level0_row19\" class=\"row_heading level0 row19\" >wire_sum</th>\n",
              "                        <td id=\"T_dbced_row19_col0\" class=\"data row19 col0\" >-0.005824</td>\n",
              "                        <td id=\"T_dbced_row19_col1\" class=\"data row19 col1\" >0.146599</td>\n",
              "                        <td id=\"T_dbced_row19_col2\" class=\"data row19 col2\" >0.114657</td>\n",
              "                        <td id=\"T_dbced_row19_col3\" class=\"data row19 col3\" >0.069583</td>\n",
              "                        <td id=\"T_dbced_row19_col4\" class=\"data row19 col4\" >0.141527</td>\n",
              "                        <td id=\"T_dbced_row19_col5\" class=\"data row19 col5\" >0.047999</td>\n",
              "                        <td id=\"T_dbced_row19_col6\" class=\"data row19 col6\" >0.105120</td>\n",
              "                        <td id=\"T_dbced_row19_col7\" class=\"data row19 col7\" >0.197281</td>\n",
              "                        <td id=\"T_dbced_row19_col8\" class=\"data row19 col8\" >0.125054</td>\n",
              "                        <td id=\"T_dbced_row19_col9\" class=\"data row19 col9\" >0.071307</td>\n",
              "                        <td id=\"T_dbced_row19_col10\" class=\"data row19 col10\" >0.045704</td>\n",
              "                        <td id=\"T_dbced_row19_col11\" class=\"data row19 col11\" >-0.009166</td>\n",
              "                        <td id=\"T_dbced_row19_col12\" class=\"data row19 col12\" >-0.030567</td>\n",
              "                        <td id=\"T_dbced_row19_col13\" class=\"data row19 col13\" >-0.037574</td>\n",
              "                        <td id=\"T_dbced_row19_col14\" class=\"data row19 col14\" >-0.055758</td>\n",
              "                        <td id=\"T_dbced_row19_col15\" class=\"data row19 col15\" >-0.007765</td>\n",
              "                        <td id=\"T_dbced_row19_col16\" class=\"data row19 col16\" >0.205454</td>\n",
              "                        <td id=\"T_dbced_row19_col17\" class=\"data row19 col17\" >0.647865</td>\n",
              "                        <td id=\"T_dbced_row19_col18\" class=\"data row19 col18\" >0.532186</td>\n",
              "                        <td id=\"T_dbced_row19_col19\" class=\"data row19 col19\" >1.000000</td>\n",
              "            </tr>\n",
              "    </tbody></table>"
            ],
            "text/plain": [
              "<pandas.io.formats.style.Styler at 0x7feb2f02d9d0>"
            ]
          },
          "execution_count": 118,
          "metadata": {},
          "output_type": "execute_result"
        }
      ],
      "source": [
        "df.corr().style.background_gradient(cmap='cividis')"
      ]
    },
    {
      "cell_type": "markdown",
      "metadata": {
        "id": "Kzs8bjEhiLi0"
      },
      "source": [
        "Удалим признаки коллинераные друг к другу:"
      ]
    },
    {
      "cell_type": "code",
      "execution_count": null,
      "metadata": {
        "id": "qJMT1EZBnKi8"
      },
      "outputs": [],
      "source": [
        "df = df.drop(['temp_min', 'temp_mean', 'count', 'temp_max', 'bulk_sum' ], axis=1)"
      ]
    },
    {
      "cell_type": "markdown",
      "metadata": {
        "id": "ap60REqyiLi0"
      },
      "source": [
        "Для анализа аномальных значений, посмтроим диаграммы размаха для каждого оставшевшиего признака, и попробуем убрать выбросы:"
      ]
    },
    {
      "cell_type": "code",
      "execution_count": null,
      "metadata": {
        "colab": {
          "base_uri": "https://localhost:8080/",
          "height": 1000
        },
        "id": "cA4U2PXinKi9",
        "outputId": "94e40e95-afe4-4198-b508-c19161ef7ffe"
      },
      "outputs": [
        {
          "data": {
            "image/png": "[encoded data removed]",
            "text/plain": [
              "<Figure size 1440x144 with 1 Axes>"
            ]
          },
          "metadata": {
            "needs_background": "light"
          },
          "output_type": "display_data"
        },
        {
          "data": {
            "image/png": "[encoded data removed]",
            "text/plain": [
              "<Figure size 1440x144 with 1 Axes>"
            ]
          },
          "metadata": {
            "needs_background": "light"
          },
          "output_type": "display_data"
        },
        {
          "data": {
            "image/png": "[encoded data removed]",
            "text/plain": [
              "<Figure size 1440x144 with 1 Axes>"
            ]
          },
          "metadata": {
            "needs_background": "light"
          },
          "output_type": "display_data"
        },
        {
          "data": {
            "image/png": "[encoded data removed]",
            "text/plain": [
              "<Figure size 1440x144 with 1 Axes>"
            ]
          },
          "metadata": {
            "needs_background": "light"
          },
          "output_type": "display_data"
        },
        {
          "data": {
            "image/png": "[encoded data removed]",
            "text/plain": [
              "<Figure size 1440x144 with 1 Axes>"
            ]
          },
          "metadata": {
            "needs_background": "light"
          },
          "output_type": "display_data"
        },
        {
          "data": {
            "image/png": "[encoded data removed]",
            "text/plain": [
              "<Figure size 1440x144 with 1 Axes>"
            ]
          },
          "metadata": {
            "needs_background": "light"
          },
          "output_type": "display_data"
        },
        {
          "data": {
            "image/png": "[encoded data removed]",
            "text/plain": [
              "<Figure size 1440x144 with 1 Axes>"
            ]
          },
          "metadata": {
            "needs_background": "light"
          },
          "output_type": "display_data"
        },
        {
          "data": {
            "image/png": "[encoded data removed]",
            "text/plain": [
              "<Figure size 1440x144 with 1 Axes>"
            ]
          },
          "metadata": {
            "needs_background": "light"
          },
          "output_type": "display_data"
        },
        {
          "data": {
            "image/png": "[encoded data removed]",
            "text/plain": [
              "<Figure size 1440x144 with 1 Axes>"
            ]
          },
          "metadata": {
            "needs_background": "light"
          },
          "output_type": "display_data"
        },
        {
          "data": {
            "image/png": "[encoded data removed]",
            "text/plain": [
              "<Figure size 1440x144 with 1 Axes>"
            ]
          },
          "metadata": {
            "needs_background": "light"
          },
          "output_type": "display_data"
        },
        {
          "data": {
            "image/png": "[encoded data removed]",
            "text/plain": [
              "<Figure size 1440x144 with 1 Axes>"
            ]
          },
          "metadata": {
            "needs_background": "light"
          },
          "output_type": "display_data"
        },
        {
          "data": {
            "image/png": "[encoded data removed]",
            "text/plain": [
              "<Figure size 1440x144 with 1 Axes>"
            ]
          },
          "metadata": {
            "needs_background": "light"
          },
          "output_type": "display_data"
        },
        {
          "data": {
            "image/png": "[encoded data removed]",
            "text/plain": [
              "<Figure size 1440x144 with 1 Axes>"
            ]
          },
          "metadata": {
            "needs_background": "light"
          },
          "output_type": "display_data"
        },
        {
          "data": {
            "image/png": "[encoded data removed]",
            "text/plain": [
              "<Figure size 1440x144 with 1 Axes>"
            ]
          },
          "metadata": {
            "needs_background": "light"
          },
          "output_type": "display_data"
        }
      ],
      "source": [
        "for i in df.drop('key', axis=1).columns:\n",
        "    plt.rcParams['figure.figsize']=(20, 2)\n",
        "    sns.boxplot(x=df[f\"{i}\"])\n",
        "    plt.title(f\"Диаграмма размаха {i}\")\n",
        "    plt.grid(color='grey', axis='both', alpha=.8)\n",
        "    plt.xticks(np.arange(df[f\"{i}\"].min(), (df[f\"{i}\"].max() + df[f\"{i}\"].max()/35), \n",
        "                         ((df[f\"{i}\"].max() - df[f\"{i}\"].min()) / 20)))\n",
        "    plt.show()"
      ]
    },
    {
      "cell_type": "markdown",
      "metadata": {
        "id": "uHXNVTooiLi0"
      },
      "source": [
        "Отфильтурем выборсы и выведем их количество в общих данных:"
      ]
    },
    {
      "cell_type": "code",
      "execution_count": null,
      "metadata": {
        "colab": {
          "base_uri": "https://localhost:8080/"
        },
        "id": "t0DoLVBnnKi9",
        "outputId": "2a7db56a-18ec-4056-8df1-4b08883f166d"
      },
      "outputs": [
        {
          "data": {
            "text/plain": [
              "0.05267817618415228"
            ]
          },
          "execution_count": 120,
          "metadata": {},
          "output_type": "execute_result"
        }
      ],
      "source": [
        "(len(df) - len(df[(df['duration_temp_meas'] <= 7500)\n",
        "#         & (df['energy'] <= 1539)                   \n",
        "        & (df['full_power'] <= 5.5) \n",
        "        & (df['bulk_3'] <= 300) #важно\n",
        "        & (df['bulk_4'] <= 240) \n",
        "        & (df['bulk_12'] <= 680) \n",
        "        & (df['bulk_14'] <= 385) \n",
        "        & (df['gas_1'] <= 42) \n",
        "        & (df['wire_1'] <= 230) \n",
        "        & (df['wire_2'] <= 150)         \n",
        "        & (df['wire_sum'] <= 380)])) / len(df) "
      ]
    },
    {
      "cell_type": "markdown",
      "metadata": {
        "id": "HIXAd_MdiLi1"
      },
      "source": [
        "Удалим 5 % данных с выбросами:"
      ]
    },
    {
      "cell_type": "code",
      "execution_count": null,
      "metadata": {
        "id": "CwclkAngnKi9"
      },
      "outputs": [],
      "source": [
        "df = df[(df['duration_temp_meas'] <= 7500)\n",
        "#         & (df['energy'] <= 1539) \n",
        "        & (df['full_power'] <= 5.5) \n",
        "        & (df['bulk_3'] <= 310) \n",
        "        & (df['bulk_4'] <= 240) \n",
        "        & (df['bulk_12'] <= 680) \n",
        "        & (df['bulk_14'] <= 385) \n",
        "        & (df['gas_1'] <= 42) \n",
        "        & (df['wire_1'] <= 230) \n",
        "        & (df['wire_2'] <= 150)         \n",
        "        & (df['wire_sum'] <= 380)]"
      ]
    },
    {
      "cell_type": "code",
      "execution_count": null,
      "metadata": {
        "colab": {
          "base_uri": "https://localhost:8080/"
        },
        "id": "__r9i9A6nKi9",
        "outputId": "c9efec65-4da7-4581-8f89-54f38520ef21",
        "scrolled": true
      },
      "outputs": [
        {
          "name": "stdout",
          "output_type": "stream",
          "text": [
            "<class 'pandas.core.frame.DataFrame'>\n",
            "Int64Index: 2148 entries, 0 to 2349\n",
            "Data columns (total 15 columns):\n",
            " #   Column              Non-Null Count  Dtype  \n",
            "---  ------              --------------  -----  \n",
            " 0   key                 2148 non-null   int64  \n",
            " 1   temp_first          2148 non-null   float64\n",
            " 2   temp_last           2148 non-null   float64\n",
            " 3   duration_temp_meas  2148 non-null   int64  \n",
            " 4   full_power          2148 non-null   float64\n",
            " 5   bulk_3              2148 non-null   float64\n",
            " 6   bulk_4              2148 non-null   float64\n",
            " 7   bulk_12             2148 non-null   float64\n",
            " 8   bulk_14             2148 non-null   float64\n",
            " 9   bulk_15             2148 non-null   float64\n",
            " 10  ratio_bulk_sum      2148 non-null   float64\n",
            " 11  gas_1               2148 non-null   float64\n",
            " 12  wire_1              2148 non-null   float64\n",
            " 13  wire_2              2148 non-null   float64\n",
            " 14  wire_sum            2148 non-null   float64\n",
            "dtypes: float64(13), int64(2)\n",
            "memory usage: 268.5 KB\n"
          ]
        }
      ],
      "source": [
        "df.info()"
      ]
    },
    {
      "cell_type": "markdown",
      "metadata": {
        "id": "HBr68Wv8iLi1"
      },
      "source": [
        "Выведем конечный DataFrame для обучения моделей:"
      ]
    },
    {
      "cell_type": "code",
      "execution_count": null,
      "metadata": {
        "colab": {
          "base_uri": "https://localhost:8080/",
          "height": 206
        },
        "id": "MAWi9fKknKi9",
        "outputId": "799f0d79-7b1f-4add-ae1a-6d52216d3409"
      },
      "outputs": [
        {
          "data": {
            "text/html": [
              "<div>\n",
              "<style scoped>\n",
              "    .dataframe tbody tr th:only-of-type {\n",
              "        vertical-align: middle;\n",
              "    }\n",
              "\n",
              "    .dataframe tbody tr th {\n",
              "        vertical-align: top;\n",
              "    }\n",
              "\n",
              "    .dataframe thead th {\n",
              "        text-align: right;\n",
              "    }\n",
              "</style>\n",
              "<table border=\"1\" class=\"dataframe\">\n",
              "  <thead>\n",
              "    <tr style=\"text-align: right;\">\n",
              "      <th></th>\n",
              "      <th>key</th>\n",
              "      <th>temp_first</th>\n",
              "      <th>temp_last</th>\n",
              "      <th>duration_temp_meas</th>\n",
              "      <th>full_power</th>\n",
              "      <th>bulk_3</th>\n",
              "      <th>bulk_4</th>\n",
              "      <th>bulk_12</th>\n",
              "      <th>bulk_14</th>\n",
              "      <th>bulk_15</th>\n",
              "      <th>ratio_bulk_sum</th>\n",
              "      <th>gas_1</th>\n",
              "      <th>wire_1</th>\n",
              "      <th>wire_2</th>\n",
              "      <th>wire_sum</th>\n",
              "    </tr>\n",
              "  </thead>\n",
              "  <tbody>\n",
              "    <tr>\n",
              "      <th>0</th>\n",
              "      <td>1</td>\n",
              "      <td>1571.0</td>\n",
              "      <td>1613.0</td>\n",
              "      <td>861</td>\n",
              "      <td>3.855925</td>\n",
              "      <td>0.0</td>\n",
              "      <td>43.0</td>\n",
              "      <td>206.0</td>\n",
              "      <td>150.0</td>\n",
              "      <td>154.0</td>\n",
              "      <td>0.855705</td>\n",
              "      <td>29.749986</td>\n",
              "      <td>60.059998</td>\n",
              "      <td>0.00000</td>\n",
              "      <td>60.059998</td>\n",
              "    </tr>\n",
              "    <tr>\n",
              "      <th>1</th>\n",
              "      <td>2</td>\n",
              "      <td>1581.0</td>\n",
              "      <td>1602.0</td>\n",
              "      <td>1305</td>\n",
              "      <td>2.075054</td>\n",
              "      <td>0.0</td>\n",
              "      <td>73.0</td>\n",
              "      <td>206.0</td>\n",
              "      <td>149.0</td>\n",
              "      <td>154.0</td>\n",
              "      <td>0.777099</td>\n",
              "      <td>12.555561</td>\n",
              "      <td>96.052315</td>\n",
              "      <td>0.00000</td>\n",
              "      <td>96.052315</td>\n",
              "    </tr>\n",
              "    <tr>\n",
              "      <th>2</th>\n",
              "      <td>3</td>\n",
              "      <td>1596.0</td>\n",
              "      <td>1599.0</td>\n",
              "      <td>1300</td>\n",
              "      <td>1.733007</td>\n",
              "      <td>0.0</td>\n",
              "      <td>34.0</td>\n",
              "      <td>205.0</td>\n",
              "      <td>152.0</td>\n",
              "      <td>153.0</td>\n",
              "      <td>0.882353</td>\n",
              "      <td>28.554793</td>\n",
              "      <td>91.160157</td>\n",
              "      <td>0.00000</td>\n",
              "      <td>91.160157</td>\n",
              "    </tr>\n",
              "    <tr>\n",
              "      <th>3</th>\n",
              "      <td>4</td>\n",
              "      <td>1601.0</td>\n",
              "      <td>1601.0</td>\n",
              "      <td>0</td>\n",
              "      <td>2.379577</td>\n",
              "      <td>0.0</td>\n",
              "      <td>81.0</td>\n",
              "      <td>207.0</td>\n",
              "      <td>153.0</td>\n",
              "      <td>154.0</td>\n",
              "      <td>0.760355</td>\n",
              "      <td>18.841219</td>\n",
              "      <td>89.063515</td>\n",
              "      <td>0.00000</td>\n",
              "      <td>89.063515</td>\n",
              "    </tr>\n",
              "    <tr>\n",
              "      <th>4</th>\n",
              "      <td>5</td>\n",
              "      <td>1576.0</td>\n",
              "      <td>1602.0</td>\n",
              "      <td>762</td>\n",
              "      <td>2.105051</td>\n",
              "      <td>0.0</td>\n",
              "      <td>78.0</td>\n",
              "      <td>203.0</td>\n",
              "      <td>151.0</td>\n",
              "      <td>152.0</td>\n",
              "      <td>0.764350</td>\n",
              "      <td>5.413692</td>\n",
              "      <td>89.238236</td>\n",
              "      <td>9.11456</td>\n",
              "      <td>98.352796</td>\n",
              "    </tr>\n",
              "  </tbody>\n",
              "</table>\n",
              "</div>"
            ],
            "text/plain": [
              "   key  temp_first  temp_last  duration_temp_meas  full_power  bulk_3  bulk_4  \\\n",
              "0    1      1571.0     1613.0                 861    3.855925     0.0    43.0   \n",
              "1    2      1581.0     1602.0                1305    2.075054     0.0    73.0   \n",
              "2    3      1596.0     1599.0                1300    1.733007     0.0    34.0   \n",
              "3    4      1601.0     1601.0                   0    2.379577     0.0    81.0   \n",
              "4    5      1576.0     1602.0                 762    2.105051     0.0    78.0   \n",
              "\n",
              "   bulk_12  bulk_14  bulk_15  ratio_bulk_sum      gas_1     wire_1   wire_2  \\\n",
              "0    206.0    150.0    154.0        0.855705  29.749986  60.059998  0.00000   \n",
              "1    206.0    149.0    154.0        0.777099  12.555561  96.052315  0.00000   \n",
              "2    205.0    152.0    153.0        0.882353  28.554793  91.160157  0.00000   \n",
              "3    207.0    153.0    154.0        0.760355  18.841219  89.063515  0.00000   \n",
              "4    203.0    151.0    152.0        0.764350   5.413692  89.238236  9.11456   \n",
              "\n",
              "    wire_sum  \n",
              "0  60.059998  \n",
              "1  96.052315  \n",
              "2  91.160157  \n",
              "3  89.063515  \n",
              "4  98.352796  "
            ]
          },
          "execution_count": 123,
          "metadata": {},
          "output_type": "execute_result"
        }
      ],
      "source": [
        "df.head()"
      ]
    },
    {
      "cell_type": "markdown",
      "metadata": {
        "id": "YnIVFio9O1F5"
      },
      "source": [
        "### Деление на тренировочную и тестовые выборки"
      ]
    },
    {
      "cell_type": "markdown",
      "metadata": {
        "id": "HvXFAv1CiLi2"
      },
      "source": [
        "Разделим данные на обучаюушую и тестовую выборки, а также выделем целевой признак:"
      ]
    },
    {
      "cell_type": "code",
      "execution_count": null,
      "metadata": {
        "id": "_kfirqwB3Ryx"
      },
      "outputs": [],
      "source": [
        "features = df.drop(['temp_last', 'key'], axis=1)\n",
        "target = df['temp_last']"
      ]
    },
    {
      "cell_type": "code",
      "execution_count": null,
      "metadata": {
        "id": "SEwN8AWXBYVB"
      },
      "outputs": [],
      "source": [
        "features_train, features_test = train_test_split(features, test_size=0.20, random_state=42)\n",
        "target_train, target_test = train_test_split(target, test_size=0.20, random_state=42)"
      ]
    },
    {
      "cell_type": "markdown",
      "metadata": {
        "id": "RGjm2A3enKi-"
      },
      "source": [
        "### Вывод "
      ]
    },
    {
      "cell_type": "markdown",
      "metadata": {
        "id": "CAORXbmbiLi2"
      },
      "source": [
        "Проведена предобработка данных, наши изночальные таблицы объеденены в одну, удалены выборсы. Выборка поделена на тренировочную и тестовую для обучения моделей."
      ]
    },
    {
      "cell_type": "markdown",
      "metadata": {
        "id": "Ww3iUh_Gz09i"
      },
      "source": [
        "## Обучение моделей"
      ]
    },
    {
      "cell_type": "markdown",
      "metadata": {
        "id": "N4psIRuqnKi-"
      },
      "source": [
        "### DummyRegressor"
      ]
    },
    {
      "cell_type": "code",
      "execution_count": null,
      "metadata": {
        "colab": {
          "base_uri": "https://localhost:8080/"
        },
        "id": "h1P2XdwrnKi-",
        "outputId": "e9cfcb0d-0e27-4fcb-972d-b2ed9085fecc"
      },
      "outputs": [
        {
          "name": "stdout",
          "output_type": "stream",
          "text": [
            "CPU times: user 1.6 ms, sys: 0 ns, total: 1.6 ms\n",
            "Wall time: 1.13 ms\n"
          ]
        }
      ],
      "source": [
        "%%time\n",
        "start = time.time()\n",
        "\n",
        "dummy_model = DummyRegressor(strategy='median')\n",
        "dummy_model.fit(features_train, target_train)\n",
        "\n",
        "end = time.time()\n",
        "dummy_fit_time = end - start"
      ]
    },
    {
      "cell_type": "code",
      "execution_count": null,
      "metadata": {
        "id": "l30IjOcZnKi-"
      },
      "outputs": [],
      "source": [
        "dummy_mae = mean_absolute_error(target_test, dummy_model.predict(features_test))"
      ]
    },
    {
      "cell_type": "markdown",
      "metadata": {
        "id": "b8_mGqIZRNNl"
      },
      "source": [
        "### LinearRegression"
      ]
    },
    {
      "cell_type": "code",
      "execution_count": null,
      "metadata": {
        "colab": {
          "base_uri": "https://localhost:8080/"
        },
        "id": "z0G_rMzOeX6T",
        "outputId": "c8c4246a-f47f-4a66-d3a8-49fe6f1e64fb"
      },
      "outputs": [
        {
          "name": "stdout",
          "output_type": "stream",
          "text": [
            "CPU times: user 5.89 ms, sys: 418 µs, total: 6.31 ms\n",
            "Wall time: 4.2 ms\n"
          ]
        }
      ],
      "source": [
        "%%time\n",
        "start = time.time()\n",
        "\n",
        "lr_model = LinearRegression()\n",
        "lr_model.fit(features_train, target_train)\n",
        "\n",
        "end = time.time()\n",
        "lr_fit_time = end - start"
      ]
    },
    {
      "cell_type": "code",
      "execution_count": null,
      "metadata": {
        "id": "_9gRCN81eX4e"
      },
      "outputs": [],
      "source": [
        "predict_lr_model = lr_model.predict(features_test)"
      ]
    },
    {
      "cell_type": "code",
      "execution_count": null,
      "metadata": {
        "id": "mLgDwEh5eX2i",
        "scrolled": false
      },
      "outputs": [],
      "source": [
        "lr_mae = mean_absolute_error(target_test, predict_lr_model)"
      ]
    },
    {
      "cell_type": "markdown",
      "metadata": {
        "id": "W_vFKyOVnKi_"
      },
      "source": [
        "### GradientBoostingRegressor"
      ]
    },
    {
      "cell_type": "code",
      "execution_count": null,
      "metadata": {
        "colab": {
          "base_uri": "https://localhost:8080/"
        },
        "id": "PEiNwQUbnKi_",
        "outputId": "14d8d3fb-3974-438c-c40c-0fb74639666c"
      },
      "outputs": [
        {
          "name": "stdout",
          "output_type": "stream",
          "text": [
            "CPU times: user 1min 26s, sys: 363 ms, total: 1min 26s\n",
            "Wall time: 1min 26s\n"
          ]
        }
      ],
      "source": [
        "%%time\n",
        "start = time.time()\n",
        "\n",
        "regressor = GradientBoostingRegressor() \n",
        "hyperparams = [{'n_estimators' : range (1, 20, 2), \n",
        "                'max_depth' : np.arange(1, 5, 1, dtype=int),\n",
        "               'subsample'    : [0.9, 0.5, 0.2, 0.1],\n",
        "               'learning_rate' : [0.01, 0.02, 0.03, 0.04, 0.05]}]\n",
        "\n",
        "gbr_search = GridSearchCV(regressor, hyperparams, scoring='neg_mean_absolute_error', n_jobs=-1, cv=5)\n",
        "gbr_search.fit(features_train, target_train)\n",
        "\n",
        "end = time.time()\n",
        "gbr_fit_time = end - start"
      ]
    },
    {
      "cell_type": "code",
      "execution_count": null,
      "metadata": {
        "id": "vQQwkzKXnKi_"
      },
      "outputs": [],
      "source": [
        "predict_gbr = gbr_search.predict(features_test)"
      ]
    },
    {
      "cell_type": "code",
      "execution_count": null,
      "metadata": {
        "id": "ampsEz_rnKi_"
      },
      "outputs": [],
      "source": [
        "gbr_mae = mean_absolute_error(target_test, predict_gbr)"
      ]
    },
    {
      "cell_type": "code",
      "execution_count": null,
      "metadata": {
        "id": "MP2Md49pnKi_"
      },
      "outputs": [],
      "source": [
        ""
      ]
    },
    {
      "cell_type": "markdown",
      "metadata": {
        "id": "MvYqKmIbPBsA"
      },
      "source": [
        "### RandomForestRegressor"
      ]
    },
    {
      "cell_type": "code",
      "execution_count": null,
      "metadata": {
        "id": "p9SyVbMfBYSv",
        "outputId": "591b28ea-1e7b-4ba1-88b4-e4dfb19fc050"
      },
      "outputs": [
        {
          "name": "stdout",
          "output_type": "stream",
          "text": [
            "CPU times: user 11 s, sys: 40 ms, total: 11 s\n",
            "Wall time: 11 s\n"
          ]
        }
      ],
      "source": [
        "%%time\n",
        "start = time.time()\n",
        "\n",
        "rfr = RandomForestRegressor(random_state=123)\n",
        "\n",
        "params = {'n_estimators': [100, 150, 300],\n",
        "          'max_depth': [5, 7, 9],\n",
        "          'min_samples_leaf' :[2],# [1, 2],\n",
        "          'max_features':['auto'],\n",
        "          'min_samples_split': [2, 4, 6],\n",
        "          'random_state':[42]\n",
        "          }\n",
        "\n",
        "rfr_model = GridSearchCV(estimator=rfr, param_grid=params, n_jobs=-1, cv=5, scoring='neg_mean_absolute_error')\n",
        "\n",
        "rfr_model.fit(features_train, target_train)\n",
        "\n",
        "end = time.time()\n",
        "rfr_fit_time = end - start"
      ]
    },
    {
      "cell_type": "code",
      "execution_count": null,
      "metadata": {
        "id": "erXrDi2YnKjA",
        "outputId": "3e14b522-3b51-495d-a963-d0d2238f8c72"
      },
      "outputs": [
        {
          "data": {
            "text/plain": [
              "{'max_depth': 9,\n",
              " 'max_features': 'auto',\n",
              " 'min_samples_leaf': 2,\n",
              " 'min_samples_split': 6,\n",
              " 'n_estimators': 300,\n",
              " 'random_state': 42}"
            ]
          },
          "execution_count": 135,
          "metadata": {},
          "output_type": "execute_result"
        }
      ],
      "source": [
        "rfr_model.best_params_"
      ]
    },
    {
      "cell_type": "code",
      "execution_count": null,
      "metadata": {
        "id": "rsUZLO8gBYRZ"
      },
      "outputs": [],
      "source": [
        "rfr_mae = mean_absolute_error(target_test, rfr_model.predict(features_test))"
      ]
    },
    {
      "cell_type": "code",
      "execution_count": null,
      "metadata": {
        "id": "2pe2ONiciLi6"
      },
      "outputs": [],
      "source": [
        ""
      ]
    },
    {
      "cell_type": "markdown",
      "metadata": {
        "id": "JODwzB59PG0E"
      },
      "source": [
        "### XGBRegressor"
      ]
    },
    {
      "cell_type": "code",
      "execution_count": null,
      "metadata": {
        "id": "w7oOvL-kBYLo"
      },
      "outputs": [],
      "source": [
        "%%time\n",
        "start = time.time()\n",
        "\n",
        "xgbr = xgb.XGBRegressor(verbosity=0, random_state=123)\n",
        "\n",
        "params = {'n_estimators':[100, 150, 200, 300], \n",
        "          'learning_rate' :[0.03, 0.05, 0.07, 0.09],\n",
        "         'max_depth' :[2, 3, 5, 7, 9],\n",
        "         }\n",
        "\n",
        "xgbr_model = GridSearchCV(estimator=xgbr, param_grid=params, n_jobs=-1, cv=5, scoring='neg_mean_absolute_error')\n",
        "\n",
        "xgbr_model.fit(features_train, target_train)\n",
        "\n",
        "end = time.time()\n",
        "xgbr_fit_time = end - start"
      ]
    },
    {
      "cell_type": "code",
      "execution_count": null,
      "metadata": {
        "id": "7c9wYVlgcVAq"
      },
      "outputs": [],
      "source": [
        "xgbr_model.best_params_"
      ]
    },
    {
      "cell_type": "code",
      "execution_count": null,
      "metadata": {
        "id": "qM_K3Cm_iLi6"
      },
      "outputs": [],
      "source": [
        "%%time\n",
        "start = time.time()\n",
        "\n",
        "xgbr_model = xgb.XGBRegressor(learning_rate = 0.07, max_depth = 3, n_estimators = 200)\n",
        "\n",
        "xgbr_model.fit(features_train, target_train)\n",
        "\n",
        "end = time.time()\n",
        "xgbr_fit_time = end - start  "
      ]
    },
    {
      "cell_type": "code",
      "execution_count": null,
      "metadata": {
        "id": "lYFUTybBWPqk"
      },
      "outputs": [],
      "source": [
        "predict_xgbr = xgbr_model.predict(features_test)"
      ]
    },
    {
      "cell_type": "code",
      "execution_count": null,
      "metadata": {
        "id": "ZjtCJ2EjnKjB"
      },
      "outputs": [],
      "source": [
        "xgbr_mae = mean_absolute_error(target_test, predict_xgbr)"
      ]
    },
    {
      "cell_type": "code",
      "execution_count": null,
      "metadata": {
        "id": "VSbzHFhXiLi7"
      },
      "outputs": [],
      "source": [
        ""
      ]
    },
    {
      "cell_type": "markdown",
      "metadata": {
        "id": "8QV50qh_nKjB"
      },
      "source": [
        "### LGBMRegressor"
      ]
    },
    {
      "cell_type": "code",
      "execution_count": null,
      "metadata": {
        "id": "zF4u3X5knKjB",
        "outputId": "8fce5324-4042-4991-9ace-f0439e7db30c"
      },
      "outputs": [
        {
          "name": "stdout",
          "output_type": "stream",
          "text": [
            "Fitting 6 folds for each of 90 candidates, totalling 540 fits\n",
            "[LightGBM] [Warning] min_data_in_leaf is set=13, min_child_samples=20 will be ignored. Current value: min_data_in_leaf=13\n",
            "CPU times: user 6.6 s, sys: 365 ms, total: 6.96 s\n",
            "Wall time: 8.31 s\n"
          ]
        }
      ],
      "source": [
        "%%time\n",
        "start = time.time()\n",
        "\n",
        "lgbm = ltb.LGBMRegressor(random_state=42)\n",
        "params_lgbm = { \n",
        "    'objective': ['regression'],\n",
        "    'boosting_type': ['gbdt'],\n",
        "    'max_depth': range(10, 11, 10),    \n",
        "    'num_leaves': range(30, 41, 10),\n",
        "    'min_data_in_leaf': range(12, 15, 1),   \n",
        "    'max_bin': range(80, 121, 10),\n",
        "    'learning_rate': [0.01, 0.02, 0.05],\n",
        "}    \n",
        "\n",
        "lgbm_model = GridSearchCV(lgbm, params_lgbm, cv=6, scoring='neg_mean_absolute_error',\n",
        "                          verbose=1, n_jobs=-1)                 \n",
        "lgbm_model.fit(features_train, target_train)\n",
        "\n",
        "end = time.time()\n",
        "lgbm_fit_time = end - start  "
      ]
    },
    {
      "cell_type": "code",
      "execution_count": null,
      "metadata": {
        "id": "HWaFItQ3iLi7",
        "outputId": "f3d49e86-d03e-42bb-ea4a-f73f8fb959c2"
      },
      "outputs": [
        {
          "data": {
            "text/plain": [
              "{'boosting_type': 'gbdt',\n",
              " 'learning_rate': 0.05,\n",
              " 'max_bin': 120,\n",
              " 'max_depth': 10,\n",
              " 'min_data_in_leaf': 13,\n",
              " 'num_leaves': 30,\n",
              " 'objective': 'regression'}"
            ]
          },
          "execution_count": 147,
          "metadata": {},
          "output_type": "execute_result"
        }
      ],
      "source": [
        "lgbm_model.best_params_"
      ]
    },
    {
      "cell_type": "code",
      "execution_count": null,
      "metadata": {
        "id": "P8dbyk-lnKjB"
      },
      "outputs": [],
      "source": [
        "lgbm_mae = mean_absolute_error(target_test, lgbm_model.predict(features_test))"
      ]
    },
    {
      "cell_type": "code",
      "execution_count": null,
      "metadata": {
        "id": "VKdbSgrVnKjC"
      },
      "outputs": [],
      "source": [
        ""
      ]
    },
    {
      "cell_type": "markdown",
      "metadata": {
        "id": "rABFi-WtcVAs"
      },
      "source": [
        "### CatBoostRegressor"
      ]
    },
    {
      "cell_type": "code",
      "execution_count": null,
      "metadata": {
        "id": "p4I2Ke31_G1_"
      },
      "outputs": [],
      "source": [
        "# cbr = CatBoostRegressor()\n",
        "\n",
        "# parameters = {'verbose' : [10],\n",
        "#               'early_stopping_rounds' : [5],\n",
        "#               'random_seed' : [100],\n",
        "#               'max_depth' : [5, 7],\n",
        "#               'learning_rate' : [0.02, 0.03, 0.05, 0.07],\n",
        "#               'iterations' :  [500, 1000],\n",
        "#               'loss_function' : ['MAE'],\n",
        "#               'eval_metric' : ['MAE'],\n",
        "#              }\n",
        "\n",
        "# cbr_grid = GridSearchCV(estimator=cbr, param_grid=parameters, cv=5, n_jobs=-1)\n",
        "# cbr_grid.fit(features_train, target_train, eval_set=(features_test, target_test))"
      ]
    },
    {
      "cell_type": "code",
      "execution_count": null,
      "metadata": {
        "id": "N_aOt1a7nKjC"
      },
      "outputs": [],
      "source": [
        "# mean_absolute_error(target_test, cbr_grid.predict(features_test))"
      ]
    },
    {
      "cell_type": "code",
      "execution_count": null,
      "metadata": {
        "id": "Ik77WCnX_G1_",
        "scrolled": false
      },
      "outputs": [],
      "source": [
        "# cbr_grid.best_params_"
      ]
    },
    {
      "cell_type": "code",
      "execution_count": null,
      "metadata": {
        "id": "cJPtClvMnKjC"
      },
      "outputs": [],
      "source": [
        ""
      ]
    },
    {
      "cell_type": "code",
      "execution_count": null,
      "metadata": {
        "id": "wF7zvyvhHt9i",
        "outputId": "90ea7719-467a-458c-ee89-4a171d5fda64"
      },
      "outputs": [
        {
          "name": "stdout",
          "output_type": "stream",
          "text": [
            "0:\tlearn: 7.5008779\ttest: 7.6279758\tbest: 7.6279758 (0)\ttotal: 50ms\tremaining: 50s\n",
            "1:\tlearn: 7.4600669\ttest: 7.5898771\tbest: 7.5898771 (1)\ttotal: 52.6ms\tremaining: 26.3s\n",
            "2:\tlearn: 7.4298232\ttest: 7.5577857\tbest: 7.5577857 (2)\ttotal: 55.3ms\tremaining: 18.4s\n",
            "3:\tlearn: 7.3910785\ttest: 7.5199900\tbest: 7.5199900 (3)\ttotal: 57.6ms\tremaining: 14.3s\n",
            "4:\tlearn: 7.3605686\ttest: 7.4930764\tbest: 7.4930764 (4)\ttotal: 59.8ms\tremaining: 11.9s\n",
            "5:\tlearn: 7.3254367\ttest: 7.4592412\tbest: 7.4592412 (5)\ttotal: 62.2ms\tremaining: 10.3s\n",
            "6:\tlearn: 7.2889240\ttest: 7.4249076\tbest: 7.4249076 (6)\ttotal: 64.4ms\tremaining: 9.14s\n",
            "7:\tlearn: 7.2518121\ttest: 7.3981443\tbest: 7.3981443 (7)\ttotal: 66.4ms\tremaining: 8.23s\n",
            "8:\tlearn: 7.2185219\ttest: 7.3751085\tbest: 7.3751085 (8)\ttotal: 68.3ms\tremaining: 7.52s\n",
            "9:\tlearn: 7.1884755\ttest: 7.3492060\tbest: 7.3492060 (9)\ttotal: 70.4ms\tremaining: 6.97s\n",
            "10:\tlearn: 7.1619739\ttest: 7.3228797\tbest: 7.3228797 (10)\ttotal: 72.4ms\tremaining: 6.51s\n",
            "11:\tlearn: 7.1277114\ttest: 7.2876316\tbest: 7.2876316 (11)\ttotal: 74.3ms\tremaining: 6.12s\n",
            "12:\tlearn: 7.0947332\ttest: 7.2490943\tbest: 7.2490943 (12)\ttotal: 76.3ms\tremaining: 5.79s\n",
            "13:\tlearn: 7.0653512\ttest: 7.2185352\tbest: 7.2185352 (13)\ttotal: 78.3ms\tremaining: 5.51s\n",
            "14:\tlearn: 7.0397347\ttest: 7.1933431\tbest: 7.1933431 (14)\ttotal: 80.3ms\tremaining: 5.27s\n",
            "15:\tlearn: 7.0116203\ttest: 7.1679360\tbest: 7.1679360 (15)\ttotal: 82.1ms\tremaining: 5.05s\n",
            "16:\tlearn: 6.9773438\ttest: 7.1383071\tbest: 7.1383071 (16)\ttotal: 84.3ms\tremaining: 4.87s\n",
            "17:\tlearn: 6.9554564\ttest: 7.1184629\tbest: 7.1184629 (17)\ttotal: 86.3ms\tremaining: 4.71s\n",
            "18:\tlearn: 6.9375932\ttest: 7.1006236\tbest: 7.1006236 (18)\ttotal: 88.3ms\tremaining: 4.56s\n",
            "19:\tlearn: 6.9134330\ttest: 7.0761633\tbest: 7.0761633 (19)\ttotal: 90.1ms\tremaining: 4.42s\n",
            "20:\tlearn: 6.8880917\ttest: 7.0574189\tbest: 7.0574189 (20)\ttotal: 92.3ms\tremaining: 4.3s\n",
            "21:\tlearn: 6.8578940\ttest: 7.0279795\tbest: 7.0279795 (21)\ttotal: 94.3ms\tremaining: 4.19s\n",
            "22:\tlearn: 6.8353920\ttest: 7.0094589\tbest: 7.0094589 (22)\ttotal: 96.1ms\tremaining: 4.08s\n",
            "23:\tlearn: 6.8071562\ttest: 6.9953368\tbest: 6.9953368 (23)\ttotal: 98.7ms\tremaining: 4.01s\n",
            "24:\tlearn: 6.7861066\ttest: 6.9806929\tbest: 6.9806929 (24)\ttotal: 101ms\tremaining: 3.93s\n",
            "25:\tlearn: 6.7695343\ttest: 6.9733743\tbest: 6.9733743 (25)\ttotal: 103ms\tremaining: 3.85s\n",
            "26:\tlearn: 6.7498219\ttest: 6.9614083\tbest: 6.9614083 (26)\ttotal: 105ms\tremaining: 3.78s\n",
            "27:\tlearn: 6.7324596\ttest: 6.9429548\tbest: 6.9429548 (27)\ttotal: 107ms\tremaining: 3.71s\n",
            "28:\tlearn: 6.7198129\ttest: 6.9303745\tbest: 6.9303745 (28)\ttotal: 109ms\tremaining: 3.64s\n",
            "29:\tlearn: 6.7015790\ttest: 6.9145248\tbest: 6.9145248 (29)\ttotal: 111ms\tremaining: 3.58s\n",
            "30:\tlearn: 6.6859366\ttest: 6.9004504\tbest: 6.9004504 (30)\ttotal: 112ms\tremaining: 3.51s\n",
            "31:\tlearn: 6.6651323\ttest: 6.8852963\tbest: 6.8852963 (31)\ttotal: 114ms\tremaining: 3.46s\n",
            "32:\tlearn: 6.6438693\ttest: 6.8691911\tbest: 6.8691911 (32)\ttotal: 116ms\tremaining: 3.41s\n",
            "33:\tlearn: 6.6278685\ttest: 6.8518504\tbest: 6.8518504 (33)\ttotal: 118ms\tremaining: 3.36s\n",
            "34:\tlearn: 6.6048425\ttest: 6.8347130\tbest: 6.8347130 (34)\ttotal: 120ms\tremaining: 3.31s\n",
            "35:\tlearn: 6.5892523\ttest: 6.8235868\tbest: 6.8235868 (35)\ttotal: 123ms\tremaining: 3.28s\n",
            "36:\tlearn: 6.5693353\ttest: 6.8068791\tbest: 6.8068791 (36)\ttotal: 125ms\tremaining: 3.25s\n",
            "37:\tlearn: 6.5566783\ttest: 6.7966415\tbest: 6.7966415 (37)\ttotal: 127ms\tremaining: 3.21s\n",
            "38:\tlearn: 6.5415113\ttest: 6.7843102\tbest: 6.7843102 (38)\ttotal: 129ms\tremaining: 3.17s\n",
            "39:\tlearn: 6.5271521\ttest: 6.7705152\tbest: 6.7705152 (39)\ttotal: 131ms\tremaining: 3.15s\n",
            "40:\tlearn: 6.5154958\ttest: 6.7679819\tbest: 6.7679819 (40)\ttotal: 133ms\tremaining: 3.12s\n",
            "41:\tlearn: 6.5001132\ttest: 6.7558775\tbest: 6.7558775 (41)\ttotal: 135ms\tremaining: 3.08s\n",
            "42:\tlearn: 6.4861153\ttest: 6.7453871\tbest: 6.7453871 (42)\ttotal: 136ms\tremaining: 3.02s\n",
            "43:\tlearn: 6.4709217\ttest: 6.7391639\tbest: 6.7391639 (43)\ttotal: 137ms\tremaining: 2.98s\n",
            "44:\tlearn: 6.4597718\ttest: 6.7280960\tbest: 6.7280960 (44)\ttotal: 138ms\tremaining: 2.93s\n",
            "45:\tlearn: 6.4461177\ttest: 6.7139739\tbest: 6.7139739 (45)\ttotal: 139ms\tremaining: 2.89s\n",
            "46:\tlearn: 6.4300404\ttest: 6.7075497\tbest: 6.7075497 (46)\ttotal: 141ms\tremaining: 2.85s\n",
            "47:\tlearn: 6.4117234\ttest: 6.6951143\tbest: 6.6951143 (47)\ttotal: 142ms\tremaining: 2.82s\n",
            "48:\tlearn: 6.3981089\ttest: 6.6849355\tbest: 6.6849355 (48)\ttotal: 144ms\tremaining: 2.79s\n",
            "49:\tlearn: 6.3833937\ttest: 6.6752402\tbest: 6.6752402 (49)\ttotal: 145ms\tremaining: 2.75s\n",
            "50:\tlearn: 6.3742228\ttest: 6.6677811\tbest: 6.6677811 (50)\ttotal: 146ms\tremaining: 2.71s\n",
            "51:\tlearn: 6.3642250\ttest: 6.6590813\tbest: 6.6590813 (51)\ttotal: 147ms\tremaining: 2.68s\n",
            "52:\tlearn: 6.3468613\ttest: 6.6551924\tbest: 6.6551924 (52)\ttotal: 148ms\tremaining: 2.65s\n",
            "53:\tlearn: 6.3328741\ttest: 6.6487843\tbest: 6.6487843 (53)\ttotal: 150ms\tremaining: 2.63s\n",
            "54:\tlearn: 6.3220924\ttest: 6.6477403\tbest: 6.6477403 (54)\ttotal: 151ms\tremaining: 2.59s\n",
            "55:\tlearn: 6.3128959\ttest: 6.6407529\tbest: 6.6407529 (55)\ttotal: 152ms\tremaining: 2.56s\n",
            "56:\tlearn: 6.3028733\ttest: 6.6366459\tbest: 6.6366459 (56)\ttotal: 153ms\tremaining: 2.54s\n",
            "57:\tlearn: 6.2934373\ttest: 6.6288459\tbest: 6.6288459 (57)\ttotal: 154ms\tremaining: 2.51s\n",
            "58:\tlearn: 6.2835047\ttest: 6.6255641\tbest: 6.6255641 (58)\ttotal: 156ms\tremaining: 2.48s\n",
            "59:\tlearn: 6.2710038\ttest: 6.6155335\tbest: 6.6155335 (59)\ttotal: 157ms\tremaining: 2.46s\n",
            "60:\tlearn: 6.2563327\ttest: 6.6094049\tbest: 6.6094049 (60)\ttotal: 158ms\tremaining: 2.43s\n",
            "61:\tlearn: 6.2459449\ttest: 6.6026028\tbest: 6.6026028 (61)\ttotal: 159ms\tremaining: 2.41s\n",
            "62:\tlearn: 6.2369751\ttest: 6.5995380\tbest: 6.5995380 (62)\ttotal: 160ms\tremaining: 2.39s\n",
            "63:\tlearn: 6.2258346\ttest: 6.5988934\tbest: 6.5988934 (63)\ttotal: 162ms\tremaining: 2.36s\n",
            "64:\tlearn: 6.2139312\ttest: 6.5893046\tbest: 6.5893046 (64)\ttotal: 163ms\tremaining: 2.35s\n",
            "65:\tlearn: 6.2029225\ttest: 6.5827111\tbest: 6.5827111 (65)\ttotal: 165ms\tremaining: 2.33s\n",
            "66:\tlearn: 6.1951928\ttest: 6.5778903\tbest: 6.5778903 (66)\ttotal: 166ms\tremaining: 2.31s\n",
            "67:\tlearn: 6.1841969\ttest: 6.5769786\tbest: 6.5769786 (67)\ttotal: 167ms\tremaining: 2.29s\n",
            "68:\tlearn: 6.1766018\ttest: 6.5741580\tbest: 6.5741580 (68)\ttotal: 168ms\tremaining: 2.27s\n",
            "69:\tlearn: 6.1658579\ttest: 6.5698601\tbest: 6.5698601 (69)\ttotal: 169ms\tremaining: 2.25s\n",
            "70:\tlearn: 6.1560856\ttest: 6.5608867\tbest: 6.5608867 (70)\ttotal: 170ms\tremaining: 2.23s\n",
            "71:\tlearn: 6.1484719\ttest: 6.5546751\tbest: 6.5546751 (71)\ttotal: 172ms\tremaining: 2.21s\n",
            "72:\tlearn: 6.1393772\ttest: 6.5495800\tbest: 6.5495800 (72)\ttotal: 173ms\tremaining: 2.19s\n",
            "73:\tlearn: 6.1332165\ttest: 6.5455337\tbest: 6.5455337 (73)\ttotal: 174ms\tremaining: 2.17s\n",
            "74:\tlearn: 6.1276723\ttest: 6.5374938\tbest: 6.5374938 (74)\ttotal: 175ms\tremaining: 2.16s\n",
            "75:\tlearn: 6.1193453\ttest: 6.5325603\tbest: 6.5325603 (75)\ttotal: 176ms\tremaining: 2.14s\n",
            "76:\tlearn: 6.1100491\ttest: 6.5294017\tbest: 6.5294017 (76)\ttotal: 178ms\tremaining: 2.13s\n",
            "77:\tlearn: 6.1025879\ttest: 6.5280927\tbest: 6.5280927 (77)\ttotal: 179ms\tremaining: 2.11s\n",
            "78:\tlearn: 6.0954284\ttest: 6.5231823\tbest: 6.5231823 (78)\ttotal: 180ms\tremaining: 2.1s\n",
            "79:\tlearn: 6.0846044\ttest: 6.5165358\tbest: 6.5165358 (79)\ttotal: 181ms\tremaining: 2.08s\n",
            "80:\tlearn: 6.0775343\ttest: 6.5138500\tbest: 6.5138500 (80)\ttotal: 182ms\tremaining: 2.06s\n",
            "81:\tlearn: 6.0703420\ttest: 6.5080891\tbest: 6.5080891 (81)\ttotal: 183ms\tremaining: 2.05s\n",
            "82:\tlearn: 6.0629740\ttest: 6.5051628\tbest: 6.5051628 (82)\ttotal: 184ms\tremaining: 2.04s\n",
            "83:\tlearn: 6.0563324\ttest: 6.5024438\tbest: 6.5024438 (83)\ttotal: 185ms\tremaining: 2.02s\n",
            "84:\tlearn: 6.0464752\ttest: 6.5017471\tbest: 6.5017471 (84)\ttotal: 186ms\tremaining: 2s\n",
            "85:\tlearn: 6.0390810\ttest: 6.5040747\tbest: 6.5017471 (84)\ttotal: 187ms\tremaining: 1.99s\n",
            "86:\tlearn: 6.0311637\ttest: 6.5032819\tbest: 6.5017471 (84)\ttotal: 188ms\tremaining: 1.98s\n",
            "87:\tlearn: 6.0256110\ttest: 6.4996377\tbest: 6.4996377 (87)\ttotal: 189ms\tremaining: 1.96s\n",
            "88:\tlearn: 6.0189427\ttest: 6.4954071\tbest: 6.4954071 (88)\ttotal: 190ms\tremaining: 1.95s\n",
            "89:\tlearn: 6.0108650\ttest: 6.4909064\tbest: 6.4909064 (89)\ttotal: 192ms\tremaining: 1.94s\n",
            "90:\tlearn: 6.0041670\ttest: 6.4883866\tbest: 6.4883866 (90)\ttotal: 193ms\tremaining: 1.93s\n",
            "91:\tlearn: 5.9979915\ttest: 6.4883832\tbest: 6.4883832 (91)\ttotal: 194ms\tremaining: 1.92s\n",
            "92:\tlearn: 5.9907803\ttest: 6.4876968\tbest: 6.4876968 (92)\ttotal: 195ms\tremaining: 1.91s\n",
            "93:\tlearn: 5.9822406\ttest: 6.4865867\tbest: 6.4865867 (93)\ttotal: 197ms\tremaining: 1.9s\n",
            "94:\tlearn: 5.9760665\ttest: 6.4808733\tbest: 6.4808733 (94)\ttotal: 198ms\tremaining: 1.88s\n",
            "95:\tlearn: 5.9671106\ttest: 6.4770548\tbest: 6.4770548 (95)\ttotal: 199ms\tremaining: 1.87s\n",
            "96:\tlearn: 5.9581511\ttest: 6.4740901\tbest: 6.4740901 (96)\ttotal: 200ms\tremaining: 1.86s\n",
            "97:\tlearn: 5.9491744\ttest: 6.4725910\tbest: 6.4725910 (97)\ttotal: 201ms\tremaining: 1.85s\n",
            "98:\tlearn: 5.9414294\ttest: 6.4692208\tbest: 6.4692208 (98)\ttotal: 202ms\tremaining: 1.84s\n",
            "99:\tlearn: 5.9348377\ttest: 6.4667035\tbest: 6.4667035 (99)\ttotal: 203ms\tremaining: 1.82s\n",
            "100:\tlearn: 5.9287220\ttest: 6.4653474\tbest: 6.4653474 (100)\ttotal: 204ms\tremaining: 1.81s\n",
            "101:\tlearn: 5.9247584\ttest: 6.4628960\tbest: 6.4628960 (101)\ttotal: 205ms\tremaining: 1.8s\n",
            "102:\tlearn: 5.9188970\ttest: 6.4600946\tbest: 6.4600946 (102)\ttotal: 206ms\tremaining: 1.79s\n",
            "103:\tlearn: 5.9121613\ttest: 6.4608939\tbest: 6.4600946 (102)\ttotal: 207ms\tremaining: 1.78s\n",
            "104:\tlearn: 5.9017004\ttest: 6.4623693\tbest: 6.4600946 (102)\ttotal: 208ms\tremaining: 1.78s\n",
            "105:\tlearn: 5.8918386\ttest: 6.4567569\tbest: 6.4567569 (105)\ttotal: 210ms\tremaining: 1.77s\n",
            "106:\tlearn: 5.8815845\ttest: 6.4582322\tbest: 6.4567569 (105)\ttotal: 211ms\tremaining: 1.76s\n",
            "107:\tlearn: 5.8755888\ttest: 6.4579763\tbest: 6.4567569 (105)\ttotal: 212ms\tremaining: 1.75s\n",
            "108:\tlearn: 5.8700128\ttest: 6.4555383\tbest: 6.4555383 (108)\ttotal: 213ms\tremaining: 1.74s\n",
            "109:\tlearn: 5.8628776\ttest: 6.4488402\tbest: 6.4488402 (109)\ttotal: 214ms\tremaining: 1.73s\n",
            "110:\tlearn: 5.8562425\ttest: 6.4477455\tbest: 6.4477455 (110)\ttotal: 215ms\tremaining: 1.72s\n",
            "111:\tlearn: 5.8509074\ttest: 6.4492123\tbest: 6.4477455 (110)\ttotal: 216ms\tremaining: 1.72s\n",
            "112:\tlearn: 5.8457241\ttest: 6.4483335\tbest: 6.4477455 (110)\ttotal: 217ms\tremaining: 1.71s\n",
            "113:\tlearn: 5.8413818\ttest: 6.4464258\tbest: 6.4464258 (113)\ttotal: 218ms\tremaining: 1.7s\n",
            "114:\tlearn: 5.8364862\ttest: 6.4433624\tbest: 6.4433624 (114)\ttotal: 219ms\tremaining: 1.69s\n",
            "115:\tlearn: 5.8302682\ttest: 6.4365161\tbest: 6.4365161 (115)\ttotal: 220ms\tremaining: 1.68s\n",
            "116:\tlearn: 5.8250328\ttest: 6.4323347\tbest: 6.4323347 (116)\ttotal: 222ms\tremaining: 1.67s\n",
            "117:\tlearn: 5.8202397\ttest: 6.4313536\tbest: 6.4313536 (117)\ttotal: 223ms\tremaining: 1.67s\n",
            "118:\tlearn: 5.8154438\ttest: 6.4278476\tbest: 6.4278476 (118)\ttotal: 225ms\tremaining: 1.66s\n",
            "119:\tlearn: 5.8097089\ttest: 6.4276492\tbest: 6.4276492 (119)\ttotal: 226ms\tremaining: 1.66s\n",
            "120:\tlearn: 5.8033121\ttest: 6.4263982\tbest: 6.4263982 (120)\ttotal: 227ms\tremaining: 1.65s\n",
            "121:\tlearn: 5.7962139\ttest: 6.4212884\tbest: 6.4212884 (121)\ttotal: 228ms\tremaining: 1.64s\n",
            "122:\tlearn: 5.7926139\ttest: 6.4199379\tbest: 6.4199379 (122)\ttotal: 229ms\tremaining: 1.63s\n",
            "123:\tlearn: 5.7854061\ttest: 6.4139119\tbest: 6.4139119 (123)\ttotal: 230ms\tremaining: 1.63s\n",
            "124:\tlearn: 5.7788828\ttest: 6.4112322\tbest: 6.4112322 (124)\ttotal: 233ms\tremaining: 1.63s\n",
            "125:\tlearn: 5.7732187\ttest: 6.4093329\tbest: 6.4093329 (125)\ttotal: 234ms\tremaining: 1.63s\n",
            "126:\tlearn: 5.7674653\ttest: 6.4096290\tbest: 6.4093329 (125)\ttotal: 236ms\tremaining: 1.62s\n",
            "127:\tlearn: 5.7618362\ttest: 6.4067220\tbest: 6.4067220 (127)\ttotal: 237ms\tremaining: 1.61s\n",
            "128:\tlearn: 5.7564711\ttest: 6.4071216\tbest: 6.4067220 (127)\ttotal: 238ms\tremaining: 1.6s\n",
            "129:\tlearn: 5.7539160\ttest: 6.4054477\tbest: 6.4054477 (129)\ttotal: 239ms\tremaining: 1.6s\n",
            "130:\tlearn: 5.7493856\ttest: 6.4032701\tbest: 6.4032701 (130)\ttotal: 240ms\tremaining: 1.59s\n",
            "131:\tlearn: 5.7449704\ttest: 6.4038823\tbest: 6.4032701 (130)\ttotal: 242ms\tremaining: 1.59s\n",
            "132:\tlearn: 5.7398404\ttest: 6.4046538\tbest: 6.4032701 (130)\ttotal: 243ms\tremaining: 1.58s\n",
            "133:\tlearn: 5.7371400\ttest: 6.4033243\tbest: 6.4032701 (130)\ttotal: 244ms\tremaining: 1.58s\n",
            "134:\tlearn: 5.7346997\ttest: 6.4035565\tbest: 6.4032701 (130)\ttotal: 245ms\tremaining: 1.57s\n",
            "135:\tlearn: 5.7266606\ttest: 6.4055839\tbest: 6.4032701 (130)\ttotal: 246ms\tremaining: 1.56s\n",
            "136:\tlearn: 5.7227893\ttest: 6.4047555\tbest: 6.4032701 (130)\ttotal: 247ms\tremaining: 1.56s\n",
            "137:\tlearn: 5.7171832\ttest: 6.4000102\tbest: 6.4000102 (137)\ttotal: 248ms\tremaining: 1.55s\n",
            "138:\tlearn: 5.7144235\ttest: 6.3980325\tbest: 6.3980325 (138)\ttotal: 250ms\tremaining: 1.55s\n",
            "139:\tlearn: 5.7102381\ttest: 6.3977063\tbest: 6.3977063 (139)\ttotal: 251ms\tremaining: 1.54s\n",
            "140:\tlearn: 5.7058767\ttest: 6.3960328\tbest: 6.3960328 (140)\ttotal: 252ms\tremaining: 1.53s\n",
            "141:\tlearn: 5.7025767\ttest: 6.3964016\tbest: 6.3960328 (140)\ttotal: 253ms\tremaining: 1.53s\n",
            "142:\tlearn: 5.6986252\ttest: 6.3987343\tbest: 6.3960328 (140)\ttotal: 254ms\tremaining: 1.52s\n",
            "143:\tlearn: 5.6920661\ttest: 6.3977751\tbest: 6.3960328 (140)\ttotal: 257ms\tremaining: 1.52s\n",
            "144:\tlearn: 5.6872434\ttest: 6.3966655\tbest: 6.3960328 (140)\ttotal: 258ms\tremaining: 1.52s\n",
            "145:\tlearn: 5.6802640\ttest: 6.4011306\tbest: 6.3960328 (140)\ttotal: 259ms\tremaining: 1.51s\n",
            "146:\tlearn: 5.6747918\ttest: 6.3998132\tbest: 6.3960328 (140)\ttotal: 260ms\tremaining: 1.51s\n",
            "147:\tlearn: 5.6685170\ttest: 6.4006072\tbest: 6.3960328 (140)\ttotal: 262ms\tremaining: 1.51s\n",
            "148:\tlearn: 5.6622963\ttest: 6.3992316\tbest: 6.3960328 (140)\ttotal: 263ms\tremaining: 1.5s\n",
            "149:\tlearn: 5.6587715\ttest: 6.3989409\tbest: 6.3960328 (140)\ttotal: 265ms\tremaining: 1.5s\n",
            "150:\tlearn: 5.6540316\ttest: 6.3985166\tbest: 6.3960328 (140)\ttotal: 266ms\tremaining: 1.49s\n",
            "151:\tlearn: 5.6460105\ttest: 6.3958554\tbest: 6.3958554 (151)\ttotal: 267ms\tremaining: 1.49s\n",
            "152:\tlearn: 5.6368756\ttest: 6.3924078\tbest: 6.3924078 (152)\ttotal: 268ms\tremaining: 1.48s\n",
            "153:\tlearn: 5.6322611\ttest: 6.3929307\tbest: 6.3924078 (152)\ttotal: 269ms\tremaining: 1.48s\n",
            "154:\tlearn: 5.6233068\ttest: 6.3936724\tbest: 6.3924078 (152)\ttotal: 272ms\tremaining: 1.48s\n",
            "155:\tlearn: 5.6184155\ttest: 6.3885401\tbest: 6.3885401 (155)\ttotal: 273ms\tremaining: 1.48s\n",
            "156:\tlearn: 5.6159127\ttest: 6.3840674\tbest: 6.3840674 (156)\ttotal: 275ms\tremaining: 1.47s\n",
            "157:\tlearn: 5.6140386\ttest: 6.3826444\tbest: 6.3826444 (157)\ttotal: 276ms\tremaining: 1.47s\n",
            "158:\tlearn: 5.6088743\ttest: 6.3788461\tbest: 6.3788461 (158)\ttotal: 277ms\tremaining: 1.46s\n",
            "159:\tlearn: 5.6059197\ttest: 6.3762636\tbest: 6.3762636 (159)\ttotal: 278ms\tremaining: 1.46s\n",
            "160:\tlearn: 5.6008424\ttest: 6.3726291\tbest: 6.3726291 (160)\ttotal: 279ms\tremaining: 1.45s\n",
            "161:\tlearn: 5.5949032\ttest: 6.3713424\tbest: 6.3713424 (161)\ttotal: 280ms\tremaining: 1.45s\n",
            "162:\tlearn: 5.5899034\ttest: 6.3717278\tbest: 6.3713424 (161)\ttotal: 281ms\tremaining: 1.44s\n",
            "163:\tlearn: 5.5811011\ttest: 6.3738267\tbest: 6.3713424 (161)\ttotal: 283ms\tremaining: 1.44s\n",
            "164:\tlearn: 5.5777019\ttest: 6.3741830\tbest: 6.3713424 (161)\ttotal: 284ms\tremaining: 1.44s\n",
            "165:\tlearn: 5.5701553\ttest: 6.3709650\tbest: 6.3709650 (165)\ttotal: 285ms\tremaining: 1.43s\n",
            "166:\tlearn: 5.5669130\ttest: 6.3711884\tbest: 6.3709650 (165)\ttotal: 286ms\tremaining: 1.43s\n",
            "167:\tlearn: 5.5632047\ttest: 6.3723794\tbest: 6.3709650 (165)\ttotal: 288ms\tremaining: 1.42s\n",
            "168:\tlearn: 5.5566105\ttest: 6.3716433\tbest: 6.3709650 (165)\ttotal: 289ms\tremaining: 1.42s\n",
            "169:\tlearn: 5.5505433\ttest: 6.3712699\tbest: 6.3709650 (165)\ttotal: 290ms\tremaining: 1.42s\n",
            "170:\tlearn: 5.5448629\ttest: 6.3738964\tbest: 6.3709650 (165)\ttotal: 291ms\tremaining: 1.41s\n",
            "171:\tlearn: 5.5388248\ttest: 6.3736658\tbest: 6.3709650 (165)\ttotal: 292ms\tremaining: 1.41s\n",
            "172:\tlearn: 5.5348699\ttest: 6.3710406\tbest: 6.3709650 (165)\ttotal: 294ms\tremaining: 1.4s\n",
            "173:\tlearn: 5.5248281\ttest: 6.3670358\tbest: 6.3670358 (173)\ttotal: 295ms\tremaining: 1.4s\n",
            "174:\tlearn: 5.5202459\ttest: 6.3684426\tbest: 6.3670358 (173)\ttotal: 296ms\tremaining: 1.4s\n",
            "175:\tlearn: 5.5161095\ttest: 6.3667413\tbest: 6.3667413 (175)\ttotal: 298ms\tremaining: 1.39s\n",
            "176:\tlearn: 5.5109571\ttest: 6.3648804\tbest: 6.3648804 (176)\ttotal: 299ms\tremaining: 1.39s\n",
            "177:\tlearn: 5.5053513\ttest: 6.3633679\tbest: 6.3633679 (177)\ttotal: 301ms\tremaining: 1.39s\n",
            "178:\tlearn: 5.4979563\ttest: 6.3624568\tbest: 6.3624568 (178)\ttotal: 302ms\tremaining: 1.38s\n",
            "179:\tlearn: 5.4923406\ttest: 6.3633272\tbest: 6.3624568 (178)\ttotal: 303ms\tremaining: 1.38s\n",
            "180:\tlearn: 5.4865795\ttest: 6.3567052\tbest: 6.3567052 (180)\ttotal: 305ms\tremaining: 1.38s\n",
            "181:\tlearn: 5.4825200\ttest: 6.3560379\tbest: 6.3560379 (181)\ttotal: 306ms\tremaining: 1.38s\n",
            "182:\tlearn: 5.4802206\ttest: 6.3552950\tbest: 6.3552950 (182)\ttotal: 307ms\tremaining: 1.37s\n",
            "183:\tlearn: 5.4744424\ttest: 6.3562027\tbest: 6.3552950 (182)\ttotal: 309ms\tremaining: 1.37s\n",
            "184:\tlearn: 5.4685776\ttest: 6.3557823\tbest: 6.3552950 (182)\ttotal: 310ms\tremaining: 1.37s\n",
            "185:\tlearn: 5.4652576\ttest: 6.3536838\tbest: 6.3536838 (185)\ttotal: 312ms\tremaining: 1.36s\n",
            "186:\tlearn: 5.4610911\ttest: 6.3542984\tbest: 6.3536838 (185)\ttotal: 313ms\tremaining: 1.36s\n",
            "187:\tlearn: 5.4560830\ttest: 6.3520091\tbest: 6.3520091 (187)\ttotal: 315ms\tremaining: 1.36s\n",
            "188:\tlearn: 5.4509206\ttest: 6.3487715\tbest: 6.3487715 (188)\ttotal: 316ms\tremaining: 1.36s\n",
            "189:\tlearn: 5.4460881\ttest: 6.3475681\tbest: 6.3475681 (189)\ttotal: 317ms\tremaining: 1.35s\n",
            "190:\tlearn: 5.4406399\ttest: 6.3479643\tbest: 6.3475681 (189)\ttotal: 319ms\tremaining: 1.35s\n",
            "191:\tlearn: 5.4320653\ttest: 6.3420576\tbest: 6.3420576 (191)\ttotal: 320ms\tremaining: 1.34s\n",
            "192:\tlearn: 5.4292844\ttest: 6.3419154\tbest: 6.3419154 (192)\ttotal: 321ms\tremaining: 1.34s\n",
            "193:\tlearn: 5.4259916\ttest: 6.3417922\tbest: 6.3417922 (193)\ttotal: 322ms\tremaining: 1.34s\n",
            "194:\tlearn: 5.4200657\ttest: 6.3431513\tbest: 6.3417922 (193)\ttotal: 323ms\tremaining: 1.33s\n",
            "195:\tlearn: 5.4165816\ttest: 6.3429228\tbest: 6.3417922 (193)\ttotal: 324ms\tremaining: 1.33s\n",
            "196:\tlearn: 5.4136184\ttest: 6.3418037\tbest: 6.3417922 (193)\ttotal: 325ms\tremaining: 1.32s\n",
            "197:\tlearn: 5.4071324\ttest: 6.3410245\tbest: 6.3410245 (197)\ttotal: 326ms\tremaining: 1.32s\n",
            "198:\tlearn: 5.4034681\ttest: 6.3403120\tbest: 6.3403120 (198)\ttotal: 328ms\tremaining: 1.32s\n",
            "199:\tlearn: 5.3995194\ttest: 6.3420823\tbest: 6.3403120 (198)\ttotal: 329ms\tremaining: 1.31s\n",
            "200:\tlearn: 5.3936984\ttest: 6.3416767\tbest: 6.3403120 (198)\ttotal: 330ms\tremaining: 1.31s\n",
            "201:\tlearn: 5.3879461\ttest: 6.3392780\tbest: 6.3392780 (201)\ttotal: 331ms\tremaining: 1.31s\n",
            "202:\tlearn: 5.3826430\ttest: 6.3388861\tbest: 6.3388861 (202)\ttotal: 332ms\tremaining: 1.3s\n",
            "203:\tlearn: 5.3772174\ttest: 6.3384735\tbest: 6.3384735 (203)\ttotal: 333ms\tremaining: 1.3s\n",
            "204:\tlearn: 5.3719304\ttest: 6.3348473\tbest: 6.3348473 (204)\ttotal: 334ms\tremaining: 1.3s\n",
            "205:\tlearn: 5.3670195\ttest: 6.3361806\tbest: 6.3348473 (204)\ttotal: 336ms\tremaining: 1.29s\n",
            "206:\tlearn: 5.3604087\ttest: 6.3360005\tbest: 6.3348473 (204)\ttotal: 337ms\tremaining: 1.29s\n",
            "207:\tlearn: 5.3557660\ttest: 6.3369982\tbest: 6.3348473 (204)\ttotal: 338ms\tremaining: 1.29s\n",
            "208:\tlearn: 5.3530031\ttest: 6.3352402\tbest: 6.3348473 (204)\ttotal: 339ms\tremaining: 1.28s\n",
            "209:\tlearn: 5.3482780\ttest: 6.3343048\tbest: 6.3343048 (209)\ttotal: 341ms\tremaining: 1.28s\n",
            "210:\tlearn: 5.3457227\ttest: 6.3343437\tbest: 6.3343048 (209)\ttotal: 342ms\tremaining: 1.28s\n",
            "211:\tlearn: 5.3424055\ttest: 6.3366805\tbest: 6.3343048 (209)\ttotal: 343ms\tremaining: 1.27s\n",
            "212:\tlearn: 5.3359555\ttest: 6.3383524\tbest: 6.3343048 (209)\ttotal: 345ms\tremaining: 1.27s\n",
            "213:\tlearn: 5.3342709\ttest: 6.3385044\tbest: 6.3343048 (209)\ttotal: 346ms\tremaining: 1.27s\n",
            "214:\tlearn: 5.3292232\ttest: 6.3408891\tbest: 6.3343048 (209)\ttotal: 347ms\tremaining: 1.26s\n",
            "215:\tlearn: 5.3269492\ttest: 6.3405931\tbest: 6.3343048 (209)\ttotal: 348ms\tremaining: 1.26s\n",
            "216:\tlearn: 5.3236926\ttest: 6.3372973\tbest: 6.3343048 (209)\ttotal: 349ms\tremaining: 1.26s\n",
            "217:\tlearn: 5.3210259\ttest: 6.3353062\tbest: 6.3343048 (209)\ttotal: 350ms\tremaining: 1.26s\n",
            "218:\tlearn: 5.3168681\ttest: 6.3356847\tbest: 6.3343048 (209)\ttotal: 351ms\tremaining: 1.25s\n",
            "219:\tlearn: 5.3142297\ttest: 6.3355432\tbest: 6.3343048 (209)\ttotal: 353ms\tremaining: 1.25s\n",
            "220:\tlearn: 5.3084334\ttest: 6.3330673\tbest: 6.3330673 (220)\ttotal: 354ms\tremaining: 1.25s\n",
            "221:\tlearn: 5.3049045\ttest: 6.3330128\tbest: 6.3330128 (221)\ttotal: 355ms\tremaining: 1.24s\n",
            "222:\tlearn: 5.3017049\ttest: 6.3329054\tbest: 6.3329054 (222)\ttotal: 357ms\tremaining: 1.24s\n",
            "223:\tlearn: 5.2980396\ttest: 6.3347067\tbest: 6.3329054 (222)\ttotal: 358ms\tremaining: 1.24s\n",
            "224:\tlearn: 5.2936910\ttest: 6.3351429\tbest: 6.3329054 (222)\ttotal: 363ms\tremaining: 1.25s\n",
            "225:\tlearn: 5.2876844\ttest: 6.3340991\tbest: 6.3329054 (222)\ttotal: 368ms\tremaining: 1.26s\n",
            "226:\tlearn: 5.2853124\ttest: 6.3336402\tbest: 6.3329054 (222)\ttotal: 370ms\tremaining: 1.26s\n",
            "227:\tlearn: 5.2810973\ttest: 6.3333933\tbest: 6.3329054 (222)\ttotal: 371ms\tremaining: 1.26s\n",
            "228:\tlearn: 5.2781584\ttest: 6.3345075\tbest: 6.3329054 (222)\ttotal: 373ms\tremaining: 1.25s\n",
            "229:\tlearn: 5.2726879\ttest: 6.3341260\tbest: 6.3329054 (222)\ttotal: 374ms\tremaining: 1.25s\n",
            "230:\tlearn: 5.2683808\ttest: 6.3316814\tbest: 6.3316814 (230)\ttotal: 376ms\tremaining: 1.25s\n",
            "231:\tlearn: 5.2649988\ttest: 6.3300678\tbest: 6.3300678 (231)\ttotal: 378ms\tremaining: 1.25s\n",
            "232:\tlearn: 5.2603695\ttest: 6.3295034\tbest: 6.3295034 (232)\ttotal: 380ms\tremaining: 1.25s\n",
            "233:\tlearn: 5.2580359\ttest: 6.3302104\tbest: 6.3295034 (232)\ttotal: 381ms\tremaining: 1.25s\n",
            "234:\tlearn: 5.2548511\ttest: 6.3293492\tbest: 6.3293492 (234)\ttotal: 383ms\tremaining: 1.25s\n",
            "235:\tlearn: 5.2504684\ttest: 6.3278015\tbest: 6.3278015 (235)\ttotal: 386ms\tremaining: 1.25s\n",
            "236:\tlearn: 5.2472670\ttest: 6.3278790\tbest: 6.3278015 (235)\ttotal: 387ms\tremaining: 1.25s\n",
            "237:\tlearn: 5.2423027\ttest: 6.3255113\tbest: 6.3255113 (237)\ttotal: 389ms\tremaining: 1.24s\n",
            "238:\tlearn: 5.2403727\ttest: 6.3241489\tbest: 6.3241489 (238)\ttotal: 390ms\tremaining: 1.24s\n",
            "239:\tlearn: 5.2350384\ttest: 6.3221846\tbest: 6.3221846 (239)\ttotal: 392ms\tremaining: 1.24s\n",
            "240:\tlearn: 5.2287397\ttest: 6.3224116\tbest: 6.3221846 (239)\ttotal: 394ms\tremaining: 1.24s\n",
            "241:\tlearn: 5.2236511\ttest: 6.3206038\tbest: 6.3206038 (241)\ttotal: 395ms\tremaining: 1.24s\n",
            "242:\tlearn: 5.2181264\ttest: 6.3216322\tbest: 6.3206038 (241)\ttotal: 397ms\tremaining: 1.24s\n",
            "243:\tlearn: 5.2146341\ttest: 6.3219425\tbest: 6.3206038 (241)\ttotal: 399ms\tremaining: 1.24s\n",
            "244:\tlearn: 5.2120213\ttest: 6.3222209\tbest: 6.3206038 (241)\ttotal: 400ms\tremaining: 1.23s\n",
            "245:\tlearn: 5.2073534\ttest: 6.3211382\tbest: 6.3206038 (241)\ttotal: 401ms\tremaining: 1.23s\n",
            "246:\tlearn: 5.2005338\ttest: 6.3205818\tbest: 6.3205818 (246)\ttotal: 403ms\tremaining: 1.23s\n",
            "247:\tlearn: 5.1957270\ttest: 6.3198859\tbest: 6.3198859 (247)\ttotal: 405ms\tremaining: 1.23s\n",
            "248:\tlearn: 5.1885581\ttest: 6.3201834\tbest: 6.3198859 (247)\ttotal: 406ms\tremaining: 1.22s\n",
            "249:\tlearn: 5.1842104\ttest: 6.3179833\tbest: 6.3179833 (249)\ttotal: 408ms\tremaining: 1.22s\n",
            "250:\tlearn: 5.1819112\ttest: 6.3185143\tbest: 6.3179833 (249)\ttotal: 409ms\tremaining: 1.22s\n",
            "251:\tlearn: 5.1772557\ttest: 6.3179989\tbest: 6.3179833 (249)\ttotal: 412ms\tremaining: 1.22s\n",
            "252:\tlearn: 5.1748535\ttest: 6.3180599\tbest: 6.3179833 (249)\ttotal: 413ms\tremaining: 1.22s\n",
            "253:\tlearn: 5.1722677\ttest: 6.3176041\tbest: 6.3176041 (253)\ttotal: 414ms\tremaining: 1.22s\n",
            "254:\tlearn: 5.1643670\ttest: 6.3204355\tbest: 6.3176041 (253)\ttotal: 416ms\tremaining: 1.21s\n",
            "255:\tlearn: 5.1583282\ttest: 6.3244919\tbest: 6.3176041 (253)\ttotal: 417ms\tremaining: 1.21s\n",
            "256:\tlearn: 5.1527507\ttest: 6.3244847\tbest: 6.3176041 (253)\ttotal: 418ms\tremaining: 1.21s\n",
            "257:\tlearn: 5.1505298\ttest: 6.3240307\tbest: 6.3176041 (253)\ttotal: 419ms\tremaining: 1.21s\n",
            "258:\tlearn: 5.1480787\ttest: 6.3232800\tbest: 6.3176041 (253)\ttotal: 421ms\tremaining: 1.2s\n",
            "259:\tlearn: 5.1436495\ttest: 6.3223006\tbest: 6.3176041 (253)\ttotal: 422ms\tremaining: 1.2s\n",
            "260:\tlearn: 5.1385212\ttest: 6.3225054\tbest: 6.3176041 (253)\ttotal: 423ms\tremaining: 1.2s\n",
            "261:\tlearn: 5.1355825\ttest: 6.3217160\tbest: 6.3176041 (253)\ttotal: 424ms\tremaining: 1.19s\n",
            "262:\tlearn: 5.1315075\ttest: 6.3207769\tbest: 6.3176041 (253)\ttotal: 425ms\tremaining: 1.19s\n",
            "263:\tlearn: 5.1275764\ttest: 6.3219393\tbest: 6.3176041 (253)\ttotal: 427ms\tremaining: 1.19s\n",
            "264:\tlearn: 5.1225969\ttest: 6.3214645\tbest: 6.3176041 (253)\ttotal: 428ms\tremaining: 1.19s\n",
            "265:\tlearn: 5.1192264\ttest: 6.3203695\tbest: 6.3176041 (253)\ttotal: 429ms\tremaining: 1.18s\n",
            "266:\tlearn: 5.1167021\ttest: 6.3194955\tbest: 6.3176041 (253)\ttotal: 430ms\tremaining: 1.18s\n",
            "267:\tlearn: 5.1126911\ttest: 6.3194076\tbest: 6.3176041 (253)\ttotal: 431ms\tremaining: 1.18s\n",
            "268:\tlearn: 5.1088840\ttest: 6.3215688\tbest: 6.3176041 (253)\ttotal: 432ms\tremaining: 1.17s\n",
            "269:\tlearn: 5.1063401\ttest: 6.3203493\tbest: 6.3176041 (253)\ttotal: 433ms\tremaining: 1.17s\n",
            "270:\tlearn: 5.1016056\ttest: 6.3231857\tbest: 6.3176041 (253)\ttotal: 434ms\tremaining: 1.17s\n",
            "271:\tlearn: 5.0974304\ttest: 6.3227151\tbest: 6.3176041 (253)\ttotal: 436ms\tremaining: 1.17s\n",
            "272:\tlearn: 5.0920249\ttest: 6.3236908\tbest: 6.3176041 (253)\ttotal: 437ms\tremaining: 1.16s\n",
            "273:\tlearn: 5.0877092\ttest: 6.3245597\tbest: 6.3176041 (253)\ttotal: 438ms\tremaining: 1.16s\n",
            "274:\tlearn: 5.0828311\ttest: 6.3267291\tbest: 6.3176041 (253)\ttotal: 440ms\tremaining: 1.16s\n",
            "275:\tlearn: 5.0789479\ttest: 6.3270819\tbest: 6.3176041 (253)\ttotal: 441ms\tremaining: 1.16s\n",
            "276:\tlearn: 5.0763735\ttest: 6.3271942\tbest: 6.3176041 (253)\ttotal: 443ms\tremaining: 1.16s\n",
            "277:\tlearn: 5.0745289\ttest: 6.3266817\tbest: 6.3176041 (253)\ttotal: 444ms\tremaining: 1.15s\n",
            "278:\tlearn: 5.0715410\ttest: 6.3265343\tbest: 6.3176041 (253)\ttotal: 445ms\tremaining: 1.15s\n",
            "279:\tlearn: 5.0694962\ttest: 6.3269210\tbest: 6.3176041 (253)\ttotal: 446ms\tremaining: 1.15s\n",
            "280:\tlearn: 5.0669971\ttest: 6.3261340\tbest: 6.3176041 (253)\ttotal: 448ms\tremaining: 1.15s\n",
            "281:\tlearn: 5.0621995\ttest: 6.3262374\tbest: 6.3176041 (253)\ttotal: 449ms\tremaining: 1.14s\n",
            "282:\tlearn: 5.0566103\ttest: 6.3262275\tbest: 6.3176041 (253)\ttotal: 451ms\tremaining: 1.14s\n",
            "283:\tlearn: 5.0523104\ttest: 6.3213096\tbest: 6.3176041 (253)\ttotal: 452ms\tremaining: 1.14s\n",
            "284:\tlearn: 5.0485480\ttest: 6.3239882\tbest: 6.3176041 (253)\ttotal: 453ms\tremaining: 1.14s\n",
            "285:\tlearn: 5.0461193\ttest: 6.3241934\tbest: 6.3176041 (253)\ttotal: 454ms\tremaining: 1.13s\n",
            "286:\tlearn: 5.0422586\ttest: 6.3231628\tbest: 6.3176041 (253)\ttotal: 455ms\tremaining: 1.13s\n",
            "287:\tlearn: 5.0372835\ttest: 6.3229628\tbest: 6.3176041 (253)\ttotal: 456ms\tremaining: 1.13s\n",
            "288:\tlearn: 5.0320599\ttest: 6.3218794\tbest: 6.3176041 (253)\ttotal: 458ms\tremaining: 1.13s\n",
            "289:\tlearn: 5.0265660\ttest: 6.3225111\tbest: 6.3176041 (253)\ttotal: 459ms\tremaining: 1.12s\n",
            "290:\tlearn: 5.0201277\ttest: 6.3224038\tbest: 6.3176041 (253)\ttotal: 460ms\tremaining: 1.12s\n",
            "291:\tlearn: 5.0181984\ttest: 6.3211049\tbest: 6.3176041 (253)\ttotal: 461ms\tremaining: 1.12s\n",
            "292:\tlearn: 5.0141805\ttest: 6.3220275\tbest: 6.3176041 (253)\ttotal: 462ms\tremaining: 1.11s\n",
            "293:\tlearn: 5.0091646\ttest: 6.3213999\tbest: 6.3176041 (253)\ttotal: 463ms\tremaining: 1.11s\n",
            "294:\tlearn: 5.0068424\ttest: 6.3201629\tbest: 6.3176041 (253)\ttotal: 464ms\tremaining: 1.11s\n",
            "295:\tlearn: 5.0007438\ttest: 6.3205604\tbest: 6.3176041 (253)\ttotal: 465ms\tremaining: 1.11s\n",
            "296:\tlearn: 4.9954754\ttest: 6.3201454\tbest: 6.3176041 (253)\ttotal: 466ms\tremaining: 1.1s\n",
            "297:\tlearn: 4.9859014\ttest: 6.3230248\tbest: 6.3176041 (253)\ttotal: 467ms\tremaining: 1.1s\n",
            "298:\tlearn: 4.9777617\ttest: 6.3210345\tbest: 6.3176041 (253)\ttotal: 468ms\tremaining: 1.1s\n",
            "299:\tlearn: 4.9718813\ttest: 6.3202329\tbest: 6.3176041 (253)\ttotal: 469ms\tremaining: 1.09s\n",
            "300:\tlearn: 4.9654893\ttest: 6.3193503\tbest: 6.3176041 (253)\ttotal: 471ms\tremaining: 1.09s\n",
            "301:\tlearn: 4.9618710\ttest: 6.3210260\tbest: 6.3176041 (253)\ttotal: 472ms\tremaining: 1.09s\n",
            "302:\tlearn: 4.9575872\ttest: 6.3218361\tbest: 6.3176041 (253)\ttotal: 473ms\tremaining: 1.09s\n",
            "303:\tlearn: 4.9535712\ttest: 6.3206088\tbest: 6.3176041 (253)\ttotal: 474ms\tremaining: 1.08s\n",
            "304:\tlearn: 4.9483429\ttest: 6.3187083\tbest: 6.3176041 (253)\ttotal: 475ms\tremaining: 1.08s\n",
            "305:\tlearn: 4.9455257\ttest: 6.3182103\tbest: 6.3176041 (253)\ttotal: 476ms\tremaining: 1.08s\n",
            "306:\tlearn: 4.9400744\ttest: 6.3233349\tbest: 6.3176041 (253)\ttotal: 477ms\tremaining: 1.08s\n",
            "307:\tlearn: 4.9372235\ttest: 6.3228356\tbest: 6.3176041 (253)\ttotal: 478ms\tremaining: 1.07s\n",
            "308:\tlearn: 4.9327276\ttest: 6.3219936\tbest: 6.3176041 (253)\ttotal: 479ms\tremaining: 1.07s\n",
            "309:\tlearn: 4.9288260\ttest: 6.3177312\tbest: 6.3176041 (253)\ttotal: 480ms\tremaining: 1.07s\n",
            "310:\tlearn: 4.9275072\ttest: 6.3177278\tbest: 6.3176041 (253)\ttotal: 481ms\tremaining: 1.07s\n",
            "311:\tlearn: 4.9255660\ttest: 6.3168228\tbest: 6.3168228 (311)\ttotal: 482ms\tremaining: 1.06s\n",
            "312:\tlearn: 4.9212074\ttest: 6.3171792\tbest: 6.3168228 (311)\ttotal: 483ms\tremaining: 1.06s\n",
            "313:\tlearn: 4.9166388\ttest: 6.3226792\tbest: 6.3168228 (311)\ttotal: 484ms\tremaining: 1.06s\n",
            "314:\tlearn: 4.9133640\ttest: 6.3222548\tbest: 6.3168228 (311)\ttotal: 485ms\tremaining: 1.05s\n",
            "315:\tlearn: 4.9102974\ttest: 6.3205314\tbest: 6.3168228 (311)\ttotal: 487ms\tremaining: 1.05s\n",
            "316:\tlearn: 4.9052616\ttest: 6.3200850\tbest: 6.3168228 (311)\ttotal: 488ms\tremaining: 1.05s\n",
            "317:\tlearn: 4.9015531\ttest: 6.3201047\tbest: 6.3168228 (311)\ttotal: 489ms\tremaining: 1.05s\n",
            "318:\tlearn: 4.8995245\ttest: 6.3188003\tbest: 6.3168228 (311)\ttotal: 490ms\tremaining: 1.05s\n",
            "319:\tlearn: 4.8963578\ttest: 6.3179173\tbest: 6.3168228 (311)\ttotal: 491ms\tremaining: 1.04s\n",
            "320:\tlearn: 4.8947213\ttest: 6.3165112\tbest: 6.3165112 (320)\ttotal: 492ms\tremaining: 1.04s\n",
            "321:\tlearn: 4.8903631\ttest: 6.3173621\tbest: 6.3165112 (320)\ttotal: 493ms\tremaining: 1.04s\n",
            "322:\tlearn: 4.8857219\ttest: 6.3163166\tbest: 6.3163166 (322)\ttotal: 494ms\tremaining: 1.04s\n",
            "323:\tlearn: 4.8836718\ttest: 6.3154479\tbest: 6.3154479 (323)\ttotal: 495ms\tremaining: 1.03s\n",
            "324:\tlearn: 4.8794642\ttest: 6.3156248\tbest: 6.3154479 (323)\ttotal: 497ms\tremaining: 1.03s\n",
            "325:\tlearn: 4.8775727\ttest: 6.3145552\tbest: 6.3145552 (325)\ttotal: 498ms\tremaining: 1.03s\n",
            "326:\tlearn: 4.8729420\ttest: 6.3150833\tbest: 6.3145552 (325)\ttotal: 499ms\tremaining: 1.03s\n",
            "327:\tlearn: 4.8711600\ttest: 6.3153485\tbest: 6.3145552 (325)\ttotal: 500ms\tremaining: 1.02s\n",
            "328:\tlearn: 4.8692563\ttest: 6.3153265\tbest: 6.3145552 (325)\ttotal: 501ms\tremaining: 1.02s\n",
            "329:\tlearn: 4.8669090\ttest: 6.3159785\tbest: 6.3145552 (325)\ttotal: 502ms\tremaining: 1.02s\n",
            "330:\tlearn: 4.8605365\ttest: 6.3181638\tbest: 6.3145552 (325)\ttotal: 503ms\tremaining: 1.02s\n",
            "331:\tlearn: 4.8565008\ttest: 6.3192890\tbest: 6.3145552 (325)\ttotal: 505ms\tremaining: 1.01s\n",
            "332:\tlearn: 4.8506591\ttest: 6.3162405\tbest: 6.3145552 (325)\ttotal: 506ms\tremaining: 1.01s\n",
            "333:\tlearn: 4.8455875\ttest: 6.3168910\tbest: 6.3145552 (325)\ttotal: 507ms\tremaining: 1.01s\n",
            "334:\tlearn: 4.8417393\ttest: 6.3176032\tbest: 6.3145552 (325)\ttotal: 508ms\tremaining: 1.01s\n",
            "335:\tlearn: 4.8387811\ttest: 6.3173499\tbest: 6.3145552 (325)\ttotal: 509ms\tremaining: 1.01s\n",
            "336:\tlearn: 4.8344875\ttest: 6.3177262\tbest: 6.3145552 (325)\ttotal: 510ms\tremaining: 1s\n",
            "337:\tlearn: 4.8309416\ttest: 6.3166701\tbest: 6.3145552 (325)\ttotal: 512ms\tremaining: 1s\n",
            "338:\tlearn: 4.8264310\ttest: 6.3168181\tbest: 6.3145552 (325)\ttotal: 513ms\tremaining: 1000ms\n",
            "339:\tlearn: 4.8241110\ttest: 6.3162426\tbest: 6.3145552 (325)\ttotal: 514ms\tremaining: 997ms\n",
            "340:\tlearn: 4.8213713\ttest: 6.3170302\tbest: 6.3145552 (325)\ttotal: 515ms\tremaining: 995ms\n",
            "341:\tlearn: 4.8169687\ttest: 6.3163940\tbest: 6.3145552 (325)\ttotal: 516ms\tremaining: 992ms\n",
            "342:\tlearn: 4.8129381\ttest: 6.3155214\tbest: 6.3145552 (325)\ttotal: 517ms\tremaining: 990ms\n",
            "343:\tlearn: 4.8099733\ttest: 6.3147237\tbest: 6.3145552 (325)\ttotal: 519ms\tremaining: 990ms\n",
            "344:\tlearn: 4.8080167\ttest: 6.3135955\tbest: 6.3135955 (344)\ttotal: 520ms\tremaining: 988ms\n",
            "345:\tlearn: 4.8049386\ttest: 6.3134912\tbest: 6.3134912 (345)\ttotal: 521ms\tremaining: 985ms\n",
            "346:\tlearn: 4.7999692\ttest: 6.3134471\tbest: 6.3134471 (346)\ttotal: 522ms\tremaining: 983ms\n",
            "347:\tlearn: 4.7968991\ttest: 6.3135365\tbest: 6.3134471 (346)\ttotal: 523ms\tremaining: 981ms\n",
            "348:\tlearn: 4.7932533\ttest: 6.3120242\tbest: 6.3120242 (348)\ttotal: 524ms\tremaining: 978ms\n",
            "349:\tlearn: 4.7876383\ttest: 6.3115339\tbest: 6.3115339 (349)\ttotal: 526ms\tremaining: 976ms\n",
            "350:\tlearn: 4.7842217\ttest: 6.3131013\tbest: 6.3115339 (349)\ttotal: 527ms\tremaining: 974ms\n",
            "351:\tlearn: 4.7799448\ttest: 6.3142675\tbest: 6.3115339 (349)\ttotal: 528ms\tremaining: 971ms\n",
            "352:\tlearn: 4.7757869\ttest: 6.3138624\tbest: 6.3115339 (349)\ttotal: 529ms\tremaining: 969ms\n",
            "353:\tlearn: 4.7712631\ttest: 6.3138401\tbest: 6.3115339 (349)\ttotal: 530ms\tremaining: 967ms\n",
            "354:\tlearn: 4.7655786\ttest: 6.3148254\tbest: 6.3115339 (349)\ttotal: 531ms\tremaining: 965ms\n",
            "355:\tlearn: 4.7634271\ttest: 6.3152383\tbest: 6.3115339 (349)\ttotal: 532ms\tremaining: 962ms\n",
            "356:\tlearn: 4.7580636\ttest: 6.3157608\tbest: 6.3115339 (349)\ttotal: 533ms\tremaining: 960ms\n",
            "357:\tlearn: 4.7557454\ttest: 6.3154752\tbest: 6.3115339 (349)\ttotal: 534ms\tremaining: 958ms\n",
            "358:\tlearn: 4.7507416\ttest: 6.3171060\tbest: 6.3115339 (349)\ttotal: 535ms\tremaining: 956ms\n",
            "359:\tlearn: 4.7457811\ttest: 6.3165976\tbest: 6.3115339 (349)\ttotal: 536ms\tremaining: 954ms\n",
            "360:\tlearn: 4.7414189\ttest: 6.3191996\tbest: 6.3115339 (349)\ttotal: 538ms\tremaining: 952ms\n",
            "361:\tlearn: 4.7386770\ttest: 6.3182198\tbest: 6.3115339 (349)\ttotal: 539ms\tremaining: 950ms\n",
            "362:\tlearn: 4.7373093\ttest: 6.3172514\tbest: 6.3115339 (349)\ttotal: 540ms\tremaining: 948ms\n",
            "363:\tlearn: 4.7339442\ttest: 6.3173741\tbest: 6.3115339 (349)\ttotal: 541ms\tremaining: 946ms\n",
            "364:\tlearn: 4.7312159\ttest: 6.3172152\tbest: 6.3115339 (349)\ttotal: 543ms\tremaining: 945ms\n",
            "365:\tlearn: 4.7265947\ttest: 6.3177198\tbest: 6.3115339 (349)\ttotal: 544ms\tremaining: 942ms\n",
            "366:\tlearn: 4.7228696\ttest: 6.3176669\tbest: 6.3115339 (349)\ttotal: 545ms\tremaining: 940ms\n",
            "367:\tlearn: 4.7186117\ttest: 6.3160546\tbest: 6.3115339 (349)\ttotal: 546ms\tremaining: 938ms\n",
            "368:\tlearn: 4.7168523\ttest: 6.3153424\tbest: 6.3115339 (349)\ttotal: 547ms\tremaining: 936ms\n",
            "369:\tlearn: 4.7150982\ttest: 6.3148096\tbest: 6.3115339 (349)\ttotal: 548ms\tremaining: 933ms\n",
            "370:\tlearn: 4.7118265\ttest: 6.3134710\tbest: 6.3115339 (349)\ttotal: 549ms\tremaining: 931ms\n",
            "371:\tlearn: 4.7093403\ttest: 6.3146938\tbest: 6.3115339 (349)\ttotal: 550ms\tremaining: 929ms\n",
            "372:\tlearn: 4.7058495\ttest: 6.3127355\tbest: 6.3115339 (349)\ttotal: 552ms\tremaining: 927ms\n",
            "373:\tlearn: 4.7029849\ttest: 6.3120581\tbest: 6.3115339 (349)\ttotal: 553ms\tremaining: 925ms\n",
            "374:\tlearn: 4.6997407\ttest: 6.3109050\tbest: 6.3109050 (374)\ttotal: 554ms\tremaining: 923ms\n",
            "375:\tlearn: 4.6978123\ttest: 6.3120224\tbest: 6.3109050 (374)\ttotal: 555ms\tremaining: 921ms\n",
            "376:\tlearn: 4.6938258\ttest: 6.3104829\tbest: 6.3104829 (376)\ttotal: 556ms\tremaining: 919ms\n",
            "377:\tlearn: 4.6901218\ttest: 6.3113116\tbest: 6.3104829 (376)\ttotal: 557ms\tremaining: 917ms\n",
            "378:\tlearn: 4.6851202\ttest: 6.3084253\tbest: 6.3084253 (378)\ttotal: 558ms\tremaining: 915ms\n",
            "379:\tlearn: 4.6808146\ttest: 6.3083317\tbest: 6.3083317 (379)\ttotal: 559ms\tremaining: 912ms\n",
            "380:\tlearn: 4.6782908\ttest: 6.3056933\tbest: 6.3056933 (380)\ttotal: 560ms\tremaining: 910ms\n",
            "381:\tlearn: 4.6729965\ttest: 6.3074705\tbest: 6.3056933 (380)\ttotal: 561ms\tremaining: 908ms\n",
            "382:\tlearn: 4.6719325\ttest: 6.3075251\tbest: 6.3056933 (380)\ttotal: 562ms\tremaining: 906ms\n",
            "383:\tlearn: 4.6655379\ttest: 6.3056001\tbest: 6.3056001 (383)\ttotal: 563ms\tremaining: 904ms\n",
            "384:\tlearn: 4.6644433\ttest: 6.3050575\tbest: 6.3050575 (384)\ttotal: 564ms\tremaining: 901ms\n",
            "385:\tlearn: 4.6627015\ttest: 6.3049553\tbest: 6.3049553 (385)\ttotal: 565ms\tremaining: 899ms\n",
            "386:\tlearn: 4.6600478\ttest: 6.3037024\tbest: 6.3037024 (386)\ttotal: 567ms\tremaining: 897ms\n",
            "387:\tlearn: 4.6554588\ttest: 6.3045287\tbest: 6.3037024 (386)\ttotal: 568ms\tremaining: 896ms\n",
            "388:\tlearn: 4.6520796\ttest: 6.3038751\tbest: 6.3037024 (386)\ttotal: 569ms\tremaining: 893ms\n",
            "389:\tlearn: 4.6504824\ttest: 6.3024240\tbest: 6.3024240 (389)\ttotal: 570ms\tremaining: 891ms\n",
            "390:\tlearn: 4.6485715\ttest: 6.3029438\tbest: 6.3024240 (389)\ttotal: 571ms\tremaining: 889ms\n",
            "391:\tlearn: 4.6441750\ttest: 6.3024167\tbest: 6.3024167 (391)\ttotal: 572ms\tremaining: 887ms\n",
            "392:\tlearn: 4.6405154\ttest: 6.3014057\tbest: 6.3014057 (392)\ttotal: 574ms\tremaining: 886ms\n",
            "393:\tlearn: 4.6381494\ttest: 6.2995952\tbest: 6.2995952 (393)\ttotal: 575ms\tremaining: 884ms\n",
            "394:\tlearn: 4.6359000\ttest: 6.2996571\tbest: 6.2995952 (393)\ttotal: 576ms\tremaining: 882ms\n",
            "395:\tlearn: 4.6338572\ttest: 6.2998969\tbest: 6.2995952 (393)\ttotal: 577ms\tremaining: 880ms\n",
            "396:\tlearn: 4.6298123\ttest: 6.3014418\tbest: 6.2995952 (393)\ttotal: 578ms\tremaining: 878ms\n",
            "397:\tlearn: 4.6248933\ttest: 6.3013259\tbest: 6.2995952 (393)\ttotal: 579ms\tremaining: 876ms\n",
            "398:\tlearn: 4.6218898\ttest: 6.3016581\tbest: 6.2995952 (393)\ttotal: 581ms\tremaining: 875ms\n",
            "399:\tlearn: 4.6174082\ttest: 6.2996046\tbest: 6.2995952 (393)\ttotal: 583ms\tremaining: 874ms\n",
            "400:\tlearn: 4.6159173\ttest: 6.3000088\tbest: 6.2995952 (393)\ttotal: 584ms\tremaining: 872ms\n",
            "401:\tlearn: 4.6144357\ttest: 6.2996674\tbest: 6.2995952 (393)\ttotal: 586ms\tremaining: 871ms\n",
            "402:\tlearn: 4.6116218\ttest: 6.3006731\tbest: 6.2995952 (393)\ttotal: 587ms\tremaining: 869ms\n",
            "403:\tlearn: 4.6083575\ttest: 6.3006697\tbest: 6.2995952 (393)\ttotal: 588ms\tremaining: 868ms\n",
            "404:\tlearn: 4.6045717\ttest: 6.3031503\tbest: 6.2995952 (393)\ttotal: 590ms\tremaining: 867ms\n",
            "405:\tlearn: 4.6019379\ttest: 6.3043809\tbest: 6.2995952 (393)\ttotal: 592ms\tremaining: 866ms\n",
            "406:\tlearn: 4.5997828\ttest: 6.3042321\tbest: 6.2995952 (393)\ttotal: 596ms\tremaining: 869ms\n",
            "407:\tlearn: 4.5948545\ttest: 6.3039843\tbest: 6.2995952 (393)\ttotal: 598ms\tremaining: 867ms\n",
            "408:\tlearn: 4.5915540\ttest: 6.3034737\tbest: 6.2995952 (393)\ttotal: 599ms\tremaining: 866ms\n",
            "409:\tlearn: 4.5887651\ttest: 6.3035574\tbest: 6.2995952 (393)\ttotal: 601ms\tremaining: 864ms\n",
            "410:\tlearn: 4.5868179\ttest: 6.3049539\tbest: 6.2995952 (393)\ttotal: 602ms\tremaining: 862ms\n",
            "411:\tlearn: 4.5848209\ttest: 6.3035604\tbest: 6.2995952 (393)\ttotal: 603ms\tremaining: 860ms\n",
            "412:\tlearn: 4.5798769\ttest: 6.3013707\tbest: 6.2995952 (393)\ttotal: 604ms\tremaining: 859ms\n",
            "413:\tlearn: 4.5769556\ttest: 6.3018192\tbest: 6.2995952 (393)\ttotal: 606ms\tremaining: 857ms\n",
            "414:\tlearn: 4.5734184\ttest: 6.3013563\tbest: 6.2995952 (393)\ttotal: 608ms\tremaining: 856ms\n",
            "415:\tlearn: 4.5700287\ttest: 6.2994356\tbest: 6.2994356 (415)\ttotal: 609ms\tremaining: 855ms\n",
            "416:\tlearn: 4.5674161\ttest: 6.2992365\tbest: 6.2992365 (416)\ttotal: 610ms\tremaining: 853ms\n",
            "417:\tlearn: 4.5645643\ttest: 6.2988170\tbest: 6.2988170 (417)\ttotal: 612ms\tremaining: 852ms\n",
            "418:\tlearn: 4.5610998\ttest: 6.2990933\tbest: 6.2988170 (417)\ttotal: 613ms\tremaining: 850ms\n",
            "419:\tlearn: 4.5593504\ttest: 6.2993912\tbest: 6.2988170 (417)\ttotal: 615ms\tremaining: 849ms\n",
            "420:\tlearn: 4.5574975\ttest: 6.2990862\tbest: 6.2988170 (417)\ttotal: 616ms\tremaining: 848ms\n",
            "421:\tlearn: 4.5530941\ttest: 6.2978039\tbest: 6.2978039 (421)\ttotal: 618ms\tremaining: 847ms\n",
            "422:\tlearn: 4.5504080\ttest: 6.2969856\tbest: 6.2969856 (422)\ttotal: 619ms\tremaining: 845ms\n",
            "423:\tlearn: 4.5481544\ttest: 6.2967534\tbest: 6.2967534 (423)\ttotal: 622ms\tremaining: 845ms\n",
            "424:\tlearn: 4.5452614\ttest: 6.2972199\tbest: 6.2967534 (423)\ttotal: 624ms\tremaining: 844ms\n",
            "425:\tlearn: 4.5432937\ttest: 6.2959659\tbest: 6.2959659 (425)\ttotal: 627ms\tremaining: 844ms\n",
            "426:\tlearn: 4.5406104\ttest: 6.2961738\tbest: 6.2959659 (425)\ttotal: 629ms\tremaining: 844ms\n",
            "427:\tlearn: 4.5370925\ttest: 6.2975162\tbest: 6.2959659 (425)\ttotal: 630ms\tremaining: 842ms\n",
            "428:\tlearn: 4.5337515\ttest: 6.2998673\tbest: 6.2959659 (425)\ttotal: 632ms\tremaining: 841ms\n",
            "429:\tlearn: 4.5311533\ttest: 6.2980766\tbest: 6.2959659 (425)\ttotal: 634ms\tremaining: 840ms\n",
            "430:\tlearn: 4.5283302\ttest: 6.2976420\tbest: 6.2959659 (425)\ttotal: 636ms\tremaining: 840ms\n",
            "431:\tlearn: 4.5235995\ttest: 6.2956302\tbest: 6.2956302 (431)\ttotal: 639ms\tremaining: 840ms\n",
            "432:\tlearn: 4.5211033\ttest: 6.2953427\tbest: 6.2953427 (432)\ttotal: 640ms\tremaining: 838ms\n",
            "433:\tlearn: 4.5186648\ttest: 6.2959827\tbest: 6.2953427 (432)\ttotal: 642ms\tremaining: 837ms\n",
            "434:\tlearn: 4.5153864\ttest: 6.2937848\tbest: 6.2937848 (434)\ttotal: 643ms\tremaining: 835ms\n",
            "435:\tlearn: 4.5127349\ttest: 6.2940105\tbest: 6.2937848 (434)\ttotal: 645ms\tremaining: 835ms\n",
            "436:\tlearn: 4.5123255\ttest: 6.2941680\tbest: 6.2937848 (434)\ttotal: 646ms\tremaining: 833ms\n",
            "437:\tlearn: 4.5077405\ttest: 6.2943270\tbest: 6.2937848 (434)\ttotal: 648ms\tremaining: 831ms\n",
            "438:\tlearn: 4.5057634\ttest: 6.2951435\tbest: 6.2937848 (434)\ttotal: 649ms\tremaining: 829ms\n",
            "439:\tlearn: 4.5026014\ttest: 6.2959954\tbest: 6.2937848 (434)\ttotal: 650ms\tremaining: 827ms\n",
            "440:\tlearn: 4.5010909\ttest: 6.2958248\tbest: 6.2937848 (434)\ttotal: 651ms\tremaining: 825ms\n",
            "441:\tlearn: 4.4987770\ttest: 6.2986561\tbest: 6.2937848 (434)\ttotal: 652ms\tremaining: 823ms\n",
            "442:\tlearn: 4.4965395\ttest: 6.2995734\tbest: 6.2937848 (434)\ttotal: 653ms\tremaining: 821ms\n",
            "443:\tlearn: 4.4941547\ttest: 6.2994834\tbest: 6.2937848 (434)\ttotal: 654ms\tremaining: 819ms\n",
            "444:\tlearn: 4.4925120\ttest: 6.2998643\tbest: 6.2937848 (434)\ttotal: 655ms\tremaining: 817ms\n",
            "445:\tlearn: 4.4890524\ttest: 6.3008547\tbest: 6.2937848 (434)\ttotal: 656ms\tremaining: 815ms\n",
            "446:\tlearn: 4.4862283\ttest: 6.3049057\tbest: 6.2937848 (434)\ttotal: 657ms\tremaining: 813ms\n",
            "447:\tlearn: 4.4826996\ttest: 6.3055294\tbest: 6.2937848 (434)\ttotal: 658ms\tremaining: 811ms\n",
            "448:\tlearn: 4.4811116\ttest: 6.3051527\tbest: 6.2937848 (434)\ttotal: 660ms\tremaining: 809ms\n",
            "449:\tlearn: 4.4786590\ttest: 6.3058658\tbest: 6.2937848 (434)\ttotal: 661ms\tremaining: 807ms\n",
            "450:\tlearn: 4.4755158\ttest: 6.3046214\tbest: 6.2937848 (434)\ttotal: 662ms\tremaining: 805ms\n",
            "451:\tlearn: 4.4737169\ttest: 6.3056795\tbest: 6.2937848 (434)\ttotal: 663ms\tremaining: 804ms\n",
            "452:\tlearn: 4.4697340\ttest: 6.3084861\tbest: 6.2937848 (434)\ttotal: 664ms\tremaining: 802ms\n",
            "453:\tlearn: 4.4676923\ttest: 6.3073402\tbest: 6.2937848 (434)\ttotal: 665ms\tremaining: 800ms\n",
            "454:\tlearn: 4.4653516\ttest: 6.3066683\tbest: 6.2937848 (434)\ttotal: 666ms\tremaining: 798ms\n",
            "455:\tlearn: 4.4648610\ttest: 6.3067026\tbest: 6.2937848 (434)\ttotal: 667ms\tremaining: 796ms\n",
            "456:\tlearn: 4.4638266\ttest: 6.3063481\tbest: 6.2937848 (434)\ttotal: 668ms\tremaining: 794ms\n",
            "457:\tlearn: 4.4597898\ttest: 6.3055315\tbest: 6.2937848 (434)\ttotal: 669ms\tremaining: 792ms\n",
            "458:\tlearn: 4.4568006\ttest: 6.3048183\tbest: 6.2937848 (434)\ttotal: 670ms\tremaining: 790ms\n",
            "459:\tlearn: 4.4528973\ttest: 6.3034607\tbest: 6.2937848 (434)\ttotal: 671ms\tremaining: 788ms\n",
            "460:\tlearn: 4.4494931\ttest: 6.3030827\tbest: 6.2937848 (434)\ttotal: 673ms\tremaining: 787ms\n",
            "461:\tlearn: 4.4470960\ttest: 6.3017027\tbest: 6.2937848 (434)\ttotal: 674ms\tremaining: 785ms\n",
            "462:\tlearn: 4.4460511\ttest: 6.3025468\tbest: 6.2937848 (434)\ttotal: 675ms\tremaining: 783ms\n",
            "463:\tlearn: 4.4441652\ttest: 6.3033348\tbest: 6.2937848 (434)\ttotal: 676ms\tremaining: 781ms\n",
            "464:\tlearn: 4.4410519\ttest: 6.3039743\tbest: 6.2937848 (434)\ttotal: 678ms\tremaining: 780ms\n",
            "465:\tlearn: 4.4379962\ttest: 6.3022630\tbest: 6.2937848 (434)\ttotal: 679ms\tremaining: 779ms\n",
            "466:\tlearn: 4.4331172\ttest: 6.3031314\tbest: 6.2937848 (434)\ttotal: 681ms\tremaining: 777ms\n",
            "467:\tlearn: 4.4300246\ttest: 6.3044421\tbest: 6.2937848 (434)\ttotal: 682ms\tremaining: 775ms\n",
            "468:\tlearn: 4.4290540\ttest: 6.3042602\tbest: 6.2937848 (434)\ttotal: 683ms\tremaining: 773ms\n",
            "469:\tlearn: 4.4278965\ttest: 6.3047338\tbest: 6.2937848 (434)\ttotal: 684ms\tremaining: 772ms\n",
            "470:\tlearn: 4.4256586\ttest: 6.3061927\tbest: 6.2937848 (434)\ttotal: 685ms\tremaining: 770ms\n",
            "471:\tlearn: 4.4201664\ttest: 6.3057749\tbest: 6.2937848 (434)\ttotal: 687ms\tremaining: 769ms\n",
            "472:\tlearn: 4.4173813\ttest: 6.3047434\tbest: 6.2937848 (434)\ttotal: 688ms\tremaining: 767ms\n",
            "473:\tlearn: 4.4155134\ttest: 6.3058730\tbest: 6.2937848 (434)\ttotal: 690ms\tremaining: 766ms\n",
            "474:\tlearn: 4.4137828\ttest: 6.3060795\tbest: 6.2937848 (434)\ttotal: 691ms\tremaining: 764ms\n",
            "475:\tlearn: 4.4090405\ttest: 6.3052329\tbest: 6.2937848 (434)\ttotal: 692ms\tremaining: 762ms\n",
            "476:\tlearn: 4.4070782\ttest: 6.3039852\tbest: 6.2937848 (434)\ttotal: 693ms\tremaining: 760ms\n",
            "477:\tlearn: 4.4041279\ttest: 6.3039492\tbest: 6.2937848 (434)\ttotal: 694ms\tremaining: 758ms\n",
            "478:\tlearn: 4.4022897\ttest: 6.3028888\tbest: 6.2937848 (434)\ttotal: 696ms\tremaining: 757ms\n",
            "479:\tlearn: 4.3999215\ttest: 6.3022355\tbest: 6.2937848 (434)\ttotal: 697ms\tremaining: 755ms\n",
            "480:\tlearn: 4.3965332\ttest: 6.3015278\tbest: 6.2937848 (434)\ttotal: 698ms\tremaining: 753ms\n",
            "481:\tlearn: 4.3937475\ttest: 6.3015090\tbest: 6.2937848 (434)\ttotal: 699ms\tremaining: 751ms\n",
            "482:\tlearn: 4.3900989\ttest: 6.2986229\tbest: 6.2937848 (434)\ttotal: 700ms\tremaining: 749ms\n",
            "483:\tlearn: 4.3872458\ttest: 6.2979039\tbest: 6.2937848 (434)\ttotal: 701ms\tremaining: 748ms\n",
            "484:\tlearn: 4.3853791\ttest: 6.2977966\tbest: 6.2937848 (434)\ttotal: 702ms\tremaining: 746ms\n",
            "485:\tlearn: 4.3825287\ttest: 6.2978638\tbest: 6.2937848 (434)\ttotal: 704ms\tremaining: 744ms\n",
            "486:\tlearn: 4.3798529\ttest: 6.2988472\tbest: 6.2937848 (434)\ttotal: 705ms\tremaining: 742ms\n",
            "487:\tlearn: 4.3777172\ttest: 6.2979274\tbest: 6.2937848 (434)\ttotal: 706ms\tremaining: 741ms\n",
            "488:\tlearn: 4.3745510\ttest: 6.2985984\tbest: 6.2937848 (434)\ttotal: 707ms\tremaining: 739ms\n",
            "489:\tlearn: 4.3726604\ttest: 6.2969315\tbest: 6.2937848 (434)\ttotal: 708ms\tremaining: 737ms\n",
            "490:\tlearn: 4.3691681\ttest: 6.2961292\tbest: 6.2937848 (434)\ttotal: 709ms\tremaining: 735ms\n",
            "491:\tlearn: 4.3669815\ttest: 6.2964169\tbest: 6.2937848 (434)\ttotal: 710ms\tremaining: 734ms\n",
            "492:\tlearn: 4.3655343\ttest: 6.2953821\tbest: 6.2937848 (434)\ttotal: 712ms\tremaining: 732ms\n",
            "493:\tlearn: 4.3617105\ttest: 6.2972223\tbest: 6.2937848 (434)\ttotal: 713ms\tremaining: 730ms\n",
            "494:\tlearn: 4.3597867\ttest: 6.2974943\tbest: 6.2937848 (434)\ttotal: 714ms\tremaining: 728ms\n",
            "495:\tlearn: 4.3559086\ttest: 6.2992779\tbest: 6.2937848 (434)\ttotal: 715ms\tremaining: 727ms\n",
            "496:\tlearn: 4.3543073\ttest: 6.2985538\tbest: 6.2937848 (434)\ttotal: 717ms\tremaining: 725ms\n",
            "497:\tlearn: 4.3517099\ttest: 6.2976614\tbest: 6.2937848 (434)\ttotal: 718ms\tremaining: 724ms\n",
            "498:\tlearn: 4.3497463\ttest: 6.2965283\tbest: 6.2937848 (434)\ttotal: 719ms\tremaining: 722ms\n",
            "499:\tlearn: 4.3463683\ttest: 6.2960337\tbest: 6.2937848 (434)\ttotal: 721ms\tremaining: 721ms\n",
            "500:\tlearn: 4.3434575\ttest: 6.2963857\tbest: 6.2937848 (434)\ttotal: 722ms\tremaining: 719ms\n",
            "501:\tlearn: 4.3409729\ttest: 6.2968261\tbest: 6.2937848 (434)\ttotal: 723ms\tremaining: 718ms\n",
            "502:\tlearn: 4.3392211\ttest: 6.2968279\tbest: 6.2937848 (434)\ttotal: 725ms\tremaining: 716ms\n",
            "503:\tlearn: 4.3372331\ttest: 6.2969225\tbest: 6.2937848 (434)\ttotal: 727ms\tremaining: 716ms\n",
            "504:\tlearn: 4.3354273\ttest: 6.2954732\tbest: 6.2937848 (434)\ttotal: 729ms\tremaining: 715ms\n",
            "505:\tlearn: 4.3335217\ttest: 6.2949897\tbest: 6.2937848 (434)\ttotal: 731ms\tremaining: 713ms\n",
            "506:\tlearn: 4.3314592\ttest: 6.2950443\tbest: 6.2937848 (434)\ttotal: 732ms\tremaining: 712ms\n",
            "507:\tlearn: 4.3299186\ttest: 6.2941892\tbest: 6.2937848 (434)\ttotal: 734ms\tremaining: 710ms\n",
            "508:\tlearn: 4.3268778\ttest: 6.2938170\tbest: 6.2937848 (434)\ttotal: 735ms\tremaining: 709ms\n",
            "509:\tlearn: 4.3249354\ttest: 6.2940932\tbest: 6.2937848 (434)\ttotal: 736ms\tremaining: 707ms\n",
            "510:\tlearn: 4.3238636\ttest: 6.2950864\tbest: 6.2937848 (434)\ttotal: 737ms\tremaining: 706ms\n",
            "511:\tlearn: 4.3216564\ttest: 6.2944542\tbest: 6.2937848 (434)\ttotal: 738ms\tremaining: 704ms\n",
            "512:\tlearn: 4.3192642\ttest: 6.2953061\tbest: 6.2937848 (434)\ttotal: 740ms\tremaining: 702ms\n",
            "513:\tlearn: 4.3164206\ttest: 6.2950678\tbest: 6.2937848 (434)\ttotal: 741ms\tremaining: 701ms\n",
            "514:\tlearn: 4.3145187\ttest: 6.3000984\tbest: 6.2937848 (434)\ttotal: 742ms\tremaining: 699ms\n",
            "515:\tlearn: 4.3135531\ttest: 6.2998358\tbest: 6.2937848 (434)\ttotal: 744ms\tremaining: 698ms\n",
            "516:\tlearn: 4.3111065\ttest: 6.3029143\tbest: 6.2937848 (434)\ttotal: 745ms\tremaining: 696ms\n",
            "517:\tlearn: 4.3092030\ttest: 6.3031542\tbest: 6.2937848 (434)\ttotal: 746ms\tremaining: 694ms\n",
            "518:\tlearn: 4.3063805\ttest: 6.3013170\tbest: 6.2937848 (434)\ttotal: 748ms\tremaining: 693ms\n",
            "519:\tlearn: 4.3041700\ttest: 6.3013202\tbest: 6.2937848 (434)\ttotal: 749ms\tremaining: 691ms\n",
            "520:\tlearn: 4.3006839\ttest: 6.2991124\tbest: 6.2937848 (434)\ttotal: 750ms\tremaining: 690ms\n",
            "521:\tlearn: 4.2973989\ttest: 6.2982727\tbest: 6.2937848 (434)\ttotal: 752ms\tremaining: 688ms\n",
            "522:\tlearn: 4.2952785\ttest: 6.2977132\tbest: 6.2937848 (434)\ttotal: 753ms\tremaining: 686ms\n",
            "523:\tlearn: 4.2950750\ttest: 6.2977797\tbest: 6.2937848 (434)\ttotal: 754ms\tremaining: 685ms\n",
            "524:\tlearn: 4.2911252\ttest: 6.2992448\tbest: 6.2937848 (434)\ttotal: 755ms\tremaining: 683ms\n",
            "525:\tlearn: 4.2888826\ttest: 6.2982697\tbest: 6.2937848 (434)\ttotal: 756ms\tremaining: 681ms\n",
            "526:\tlearn: 4.2854354\ttest: 6.2970057\tbest: 6.2937848 (434)\ttotal: 757ms\tremaining: 679ms\n",
            "527:\tlearn: 4.2837643\ttest: 6.2968199\tbest: 6.2937848 (434)\ttotal: 758ms\tremaining: 678ms\n",
            "528:\tlearn: 4.2824726\ttest: 6.2960304\tbest: 6.2937848 (434)\ttotal: 759ms\tremaining: 676ms\n",
            "529:\tlearn: 4.2766716\ttest: 6.2978066\tbest: 6.2937848 (434)\ttotal: 761ms\tremaining: 675ms\n",
            "530:\tlearn: 4.2762388\ttest: 6.2977179\tbest: 6.2937848 (434)\ttotal: 763ms\tremaining: 674ms\n",
            "531:\tlearn: 4.2737896\ttest: 6.2987586\tbest: 6.2937848 (434)\ttotal: 764ms\tremaining: 672ms\n",
            "532:\tlearn: 4.2693725\ttest: 6.3001563\tbest: 6.2937848 (434)\ttotal: 765ms\tremaining: 670ms\n",
            "533:\tlearn: 4.2674712\ttest: 6.2990336\tbest: 6.2937848 (434)\ttotal: 767ms\tremaining: 669ms\n",
            "534:\tlearn: 4.2664440\ttest: 6.2993841\tbest: 6.2937848 (434)\ttotal: 768ms\tremaining: 667ms\n",
            "535:\tlearn: 4.2621119\ttest: 6.2976899\tbest: 6.2937848 (434)\ttotal: 769ms\tremaining: 666ms\n",
            "536:\tlearn: 4.2606748\ttest: 6.2987767\tbest: 6.2937848 (434)\ttotal: 770ms\tremaining: 664ms\n",
            "537:\tlearn: 4.2567250\ttest: 6.2966283\tbest: 6.2937848 (434)\ttotal: 772ms\tremaining: 663ms\n",
            "538:\tlearn: 4.2562634\ttest: 6.2967665\tbest: 6.2937848 (434)\ttotal: 774ms\tremaining: 662ms\n",
            "539:\tlearn: 4.2543896\ttest: 6.2972371\tbest: 6.2937848 (434)\ttotal: 775ms\tremaining: 660ms\n",
            "540:\tlearn: 4.2510593\ttest: 6.2981524\tbest: 6.2937848 (434)\ttotal: 776ms\tremaining: 658ms\n",
            "541:\tlearn: 4.2490540\ttest: 6.2978108\tbest: 6.2937848 (434)\ttotal: 777ms\tremaining: 657ms\n",
            "542:\tlearn: 4.2457929\ttest: 6.2967375\tbest: 6.2937848 (434)\ttotal: 780ms\tremaining: 656ms\n",
            "543:\tlearn: 4.2434349\ttest: 6.2964014\tbest: 6.2937848 (434)\ttotal: 781ms\tremaining: 655ms\n",
            "544:\tlearn: 4.2390478\ttest: 6.2949226\tbest: 6.2937848 (434)\ttotal: 782ms\tremaining: 653ms\n",
            "545:\tlearn: 4.2377824\ttest: 6.2946270\tbest: 6.2937848 (434)\ttotal: 783ms\tremaining: 651ms\n",
            "546:\tlearn: 4.2367218\ttest: 6.2943242\tbest: 6.2937848 (434)\ttotal: 784ms\tremaining: 650ms\n",
            "547:\tlearn: 4.2354040\ttest: 6.2938820\tbest: 6.2937848 (434)\ttotal: 785ms\tremaining: 648ms\n",
            "548:\tlearn: 4.2323269\ttest: 6.2963437\tbest: 6.2937848 (434)\ttotal: 786ms\tremaining: 646ms\n",
            "549:\tlearn: 4.2305550\ttest: 6.2971880\tbest: 6.2937848 (434)\ttotal: 787ms\tremaining: 644ms\n",
            "550:\tlearn: 4.2284120\ttest: 6.2979606\tbest: 6.2937848 (434)\ttotal: 789ms\tremaining: 643ms\n",
            "551:\tlearn: 4.2267788\ttest: 6.2976968\tbest: 6.2937848 (434)\ttotal: 790ms\tremaining: 641ms\n",
            "552:\tlearn: 4.2242780\ttest: 6.2972978\tbest: 6.2937848 (434)\ttotal: 791ms\tremaining: 639ms\n",
            "553:\tlearn: 4.2209265\ttest: 6.2925811\tbest: 6.2925811 (553)\ttotal: 792ms\tremaining: 637ms\n",
            "554:\tlearn: 4.2199531\ttest: 6.2921552\tbest: 6.2921552 (554)\ttotal: 793ms\tremaining: 636ms\n",
            "555:\tlearn: 4.2181502\ttest: 6.2906918\tbest: 6.2906918 (555)\ttotal: 795ms\tremaining: 635ms\n",
            "556:\tlearn: 4.2166950\ttest: 6.2901962\tbest: 6.2901962 (556)\ttotal: 796ms\tremaining: 633ms\n",
            "557:\tlearn: 4.2160973\ttest: 6.2904299\tbest: 6.2901962 (556)\ttotal: 797ms\tremaining: 631ms\n",
            "558:\tlearn: 4.2134757\ttest: 6.2898723\tbest: 6.2898723 (558)\ttotal: 798ms\tremaining: 630ms\n",
            "559:\tlearn: 4.2121617\ttest: 6.2900867\tbest: 6.2898723 (558)\ttotal: 799ms\tremaining: 628ms\n",
            "560:\tlearn: 4.2094507\ttest: 6.2898997\tbest: 6.2898723 (558)\ttotal: 800ms\tremaining: 626ms\n",
            "561:\tlearn: 4.2090459\ttest: 6.2898808\tbest: 6.2898723 (558)\ttotal: 801ms\tremaining: 625ms\n",
            "562:\tlearn: 4.2067111\ttest: 6.2907157\tbest: 6.2898723 (558)\ttotal: 803ms\tremaining: 623ms\n",
            "563:\tlearn: 4.2045833\ttest: 6.2919203\tbest: 6.2898723 (558)\ttotal: 804ms\tremaining: 621ms\n",
            "564:\tlearn: 4.2031008\ttest: 6.2910300\tbest: 6.2898723 (558)\ttotal: 805ms\tremaining: 620ms\n",
            "565:\tlearn: 4.1994856\ttest: 6.2898321\tbest: 6.2898321 (565)\ttotal: 806ms\tremaining: 618ms\n",
            "566:\tlearn: 4.1971371\ttest: 6.2903633\tbest: 6.2898321 (565)\ttotal: 808ms\tremaining: 617ms\n",
            "567:\tlearn: 4.1954542\ttest: 6.2892275\tbest: 6.2892275 (567)\ttotal: 809ms\tremaining: 615ms\n",
            "568:\tlearn: 4.1931403\ttest: 6.2893082\tbest: 6.2892275 (567)\ttotal: 811ms\tremaining: 614ms\n",
            "569:\tlearn: 4.1906877\ttest: 6.2905804\tbest: 6.2892275 (567)\ttotal: 813ms\tremaining: 614ms\n",
            "570:\tlearn: 4.1885869\ttest: 6.2901563\tbest: 6.2892275 (567)\ttotal: 815ms\tremaining: 612ms\n",
            "571:\tlearn: 4.1871823\ttest: 6.2907007\tbest: 6.2892275 (567)\ttotal: 817ms\tremaining: 611ms\n",
            "572:\tlearn: 4.1843157\ttest: 6.2882511\tbest: 6.2882511 (572)\ttotal: 818ms\tremaining: 610ms\n",
            "573:\tlearn: 4.1820004\ttest: 6.2882025\tbest: 6.2882025 (573)\ttotal: 820ms\tremaining: 608ms\n",
            "574:\tlearn: 4.1791948\ttest: 6.2881629\tbest: 6.2881629 (574)\ttotal: 822ms\tremaining: 607ms\n",
            "575:\tlearn: 4.1783499\ttest: 6.2882125\tbest: 6.2881629 (574)\ttotal: 824ms\tremaining: 606ms\n",
            "576:\tlearn: 4.1774527\ttest: 6.2879116\tbest: 6.2879116 (576)\ttotal: 825ms\tremaining: 605ms\n",
            "577:\tlearn: 4.1751251\ttest: 6.2866108\tbest: 6.2866108 (577)\ttotal: 826ms\tremaining: 603ms\n",
            "578:\tlearn: 4.1739580\ttest: 6.2869812\tbest: 6.2866108 (577)\ttotal: 827ms\tremaining: 602ms\n",
            "579:\tlearn: 4.1716007\ttest: 6.2873653\tbest: 6.2866108 (577)\ttotal: 829ms\tremaining: 600ms\n",
            "580:\tlearn: 4.1694646\ttest: 6.2876813\tbest: 6.2866108 (577)\ttotal: 830ms\tremaining: 598ms\n",
            "581:\tlearn: 4.1678129\ttest: 6.2870394\tbest: 6.2866108 (577)\ttotal: 831ms\tremaining: 597ms\n",
            "582:\tlearn: 4.1653300\ttest: 6.2865469\tbest: 6.2865469 (582)\ttotal: 832ms\tremaining: 595ms\n",
            "583:\tlearn: 4.1634583\ttest: 6.2870852\tbest: 6.2865469 (582)\ttotal: 834ms\tremaining: 594ms\n",
            "584:\tlearn: 4.1615426\ttest: 6.2861129\tbest: 6.2861129 (584)\ttotal: 835ms\tremaining: 592ms\n",
            "585:\tlearn: 4.1589220\ttest: 6.2855734\tbest: 6.2855734 (585)\ttotal: 836ms\tremaining: 591ms\n",
            "586:\tlearn: 4.1576149\ttest: 6.2852677\tbest: 6.2852677 (586)\ttotal: 837ms\tremaining: 589ms\n",
            "587:\tlearn: 4.1551266\ttest: 6.2854251\tbest: 6.2852677 (586)\ttotal: 839ms\tremaining: 588ms\n",
            "588:\tlearn: 4.1540769\ttest: 6.2860082\tbest: 6.2852677 (586)\ttotal: 840ms\tremaining: 586ms\n",
            "589:\tlearn: 4.1516377\ttest: 6.2856838\tbest: 6.2852677 (586)\ttotal: 841ms\tremaining: 584ms\n",
            "590:\tlearn: 4.1506571\ttest: 6.2849686\tbest: 6.2849686 (590)\ttotal: 842ms\tremaining: 583ms\n",
            "591:\tlearn: 4.1493061\ttest: 6.2855306\tbest: 6.2849686 (590)\ttotal: 843ms\tremaining: 581ms\n",
            "592:\tlearn: 4.1475443\ttest: 6.2851686\tbest: 6.2849686 (590)\ttotal: 845ms\tremaining: 580ms\n",
            "593:\tlearn: 4.1464100\ttest: 6.2847387\tbest: 6.2847387 (593)\ttotal: 846ms\tremaining: 578ms\n",
            "594:\tlearn: 4.1448320\ttest: 6.2845200\tbest: 6.2845200 (594)\ttotal: 847ms\tremaining: 577ms\n",
            "595:\tlearn: 4.1426582\ttest: 6.2854447\tbest: 6.2845200 (594)\ttotal: 848ms\tremaining: 575ms\n",
            "596:\tlearn: 4.1381797\ttest: 6.2836042\tbest: 6.2836042 (596)\ttotal: 850ms\tremaining: 574ms\n",
            "597:\tlearn: 4.1365783\ttest: 6.2835554\tbest: 6.2835554 (597)\ttotal: 851ms\tremaining: 572ms\n",
            "598:\tlearn: 4.1354489\ttest: 6.2836216\tbest: 6.2835554 (597)\ttotal: 852ms\tremaining: 571ms\n",
            "599:\tlearn: 4.1345310\ttest: 6.2841014\tbest: 6.2835554 (597)\ttotal: 853ms\tremaining: 569ms\n",
            "600:\tlearn: 4.1330748\ttest: 6.2843026\tbest: 6.2835554 (597)\ttotal: 855ms\tremaining: 567ms\n",
            "601:\tlearn: 4.1317769\ttest: 6.2839626\tbest: 6.2835554 (597)\ttotal: 856ms\tremaining: 566ms\n",
            "602:\tlearn: 4.1281003\ttest: 6.2817733\tbest: 6.2817733 (602)\ttotal: 857ms\tremaining: 565ms\n",
            "603:\tlearn: 4.1254512\ttest: 6.2802460\tbest: 6.2802460 (603)\ttotal: 859ms\tremaining: 563ms\n",
            "604:\tlearn: 4.1246405\ttest: 6.2802720\tbest: 6.2802460 (603)\ttotal: 860ms\tremaining: 561ms\n",
            "605:\tlearn: 4.1228438\ttest: 6.2806219\tbest: 6.2802460 (603)\ttotal: 861ms\tremaining: 560ms\n",
            "606:\tlearn: 4.1207107\ttest: 6.2820006\tbest: 6.2802460 (603)\ttotal: 862ms\tremaining: 558ms\n",
            "607:\tlearn: 4.1186782\ttest: 6.2824900\tbest: 6.2802460 (603)\ttotal: 863ms\tremaining: 557ms\n",
            "608:\tlearn: 4.1174593\ttest: 6.2832785\tbest: 6.2802460 (603)\ttotal: 864ms\tremaining: 555ms\n",
            "609:\tlearn: 4.1160722\ttest: 6.2828807\tbest: 6.2802460 (603)\ttotal: 865ms\tremaining: 553ms\n",
            "610:\tlearn: 4.1146868\ttest: 6.2826199\tbest: 6.2802460 (603)\ttotal: 866ms\tremaining: 552ms\n",
            "611:\tlearn: 4.1130626\ttest: 6.2843000\tbest: 6.2802460 (603)\ttotal: 867ms\tremaining: 550ms\n",
            "612:\tlearn: 4.1110457\ttest: 6.2844379\tbest: 6.2802460 (603)\ttotal: 870ms\tremaining: 549ms\n",
            "613:\tlearn: 4.1086000\ttest: 6.2858330\tbest: 6.2802460 (603)\ttotal: 871ms\tremaining: 547ms\n",
            "614:\tlearn: 4.1070927\ttest: 6.2855651\tbest: 6.2802460 (603)\ttotal: 872ms\tremaining: 546ms\n",
            "615:\tlearn: 4.1051765\ttest: 6.2872609\tbest: 6.2802460 (603)\ttotal: 873ms\tremaining: 544ms\n",
            "616:\tlearn: 4.1028796\ttest: 6.2866523\tbest: 6.2802460 (603)\ttotal: 874ms\tremaining: 542ms\n",
            "617:\tlearn: 4.1009015\ttest: 6.2858947\tbest: 6.2802460 (603)\ttotal: 875ms\tremaining: 541ms\n",
            "618:\tlearn: 4.0997803\ttest: 6.2857604\tbest: 6.2802460 (603)\ttotal: 876ms\tremaining: 539ms\n",
            "619:\tlearn: 4.0989311\ttest: 6.2859749\tbest: 6.2802460 (603)\ttotal: 877ms\tremaining: 537ms\n",
            "620:\tlearn: 4.0975178\ttest: 6.2860718\tbest: 6.2802460 (603)\ttotal: 878ms\tremaining: 536ms\n",
            "621:\tlearn: 4.0954170\ttest: 6.2859649\tbest: 6.2802460 (603)\ttotal: 879ms\tremaining: 534ms\n",
            "622:\tlearn: 4.0942765\ttest: 6.2866724\tbest: 6.2802460 (603)\ttotal: 880ms\tremaining: 533ms\n",
            "623:\tlearn: 4.0927526\ttest: 6.2860041\tbest: 6.2802460 (603)\ttotal: 881ms\tremaining: 531ms\n",
            "624:\tlearn: 4.0904623\ttest: 6.2856267\tbest: 6.2802460 (603)\ttotal: 882ms\tremaining: 529ms\n",
            "625:\tlearn: 4.0901855\ttest: 6.2854978\tbest: 6.2802460 (603)\ttotal: 883ms\tremaining: 528ms\n",
            "626:\tlearn: 4.0893984\ttest: 6.2854540\tbest: 6.2802460 (603)\ttotal: 884ms\tremaining: 526ms\n",
            "627:\tlearn: 4.0882577\ttest: 6.2854432\tbest: 6.2802460 (603)\ttotal: 885ms\tremaining: 524ms\n",
            "628:\tlearn: 4.0858584\ttest: 6.2862916\tbest: 6.2802460 (603)\ttotal: 886ms\tremaining: 523ms\n",
            "629:\tlearn: 4.0829828\ttest: 6.2878567\tbest: 6.2802460 (603)\ttotal: 888ms\tremaining: 521ms\n",
            "630:\tlearn: 4.0824951\ttest: 6.2879222\tbest: 6.2802460 (603)\ttotal: 889ms\tremaining: 520ms\n",
            "631:\tlearn: 4.0806324\ttest: 6.2894652\tbest: 6.2802460 (603)\ttotal: 890ms\tremaining: 518ms\n",
            "632:\tlearn: 4.0787331\ttest: 6.2915155\tbest: 6.2802460 (603)\ttotal: 891ms\tremaining: 516ms\n",
            "633:\tlearn: 4.0777334\ttest: 6.2912066\tbest: 6.2802460 (603)\ttotal: 892ms\tremaining: 515ms\n",
            "634:\tlearn: 4.0763754\ttest: 6.2912939\tbest: 6.2802460 (603)\ttotal: 893ms\tremaining: 513ms\n",
            "635:\tlearn: 4.0736471\ttest: 6.2925885\tbest: 6.2802460 (603)\ttotal: 894ms\tremaining: 512ms\n",
            "636:\tlearn: 4.0717484\ttest: 6.2930610\tbest: 6.2802460 (603)\ttotal: 895ms\tremaining: 510ms\n",
            "637:\tlearn: 4.0695444\ttest: 6.2917796\tbest: 6.2802460 (603)\ttotal: 896ms\tremaining: 508ms\n",
            "638:\tlearn: 4.0664897\ttest: 6.2912521\tbest: 6.2802460 (603)\ttotal: 897ms\tremaining: 507ms\n",
            "639:\tlearn: 4.0635388\ttest: 6.2923112\tbest: 6.2802460 (603)\ttotal: 898ms\tremaining: 505ms\n",
            "640:\tlearn: 4.0625619\ttest: 6.2922970\tbest: 6.2802460 (603)\ttotal: 899ms\tremaining: 504ms\n",
            "641:\tlearn: 4.0616276\ttest: 6.2926765\tbest: 6.2802460 (603)\ttotal: 900ms\tremaining: 502ms\n",
            "642:\tlearn: 4.0604443\ttest: 6.2915708\tbest: 6.2802460 (603)\ttotal: 901ms\tremaining: 500ms\n",
            "643:\tlearn: 4.0584260\ttest: 6.2903632\tbest: 6.2802460 (603)\ttotal: 902ms\tremaining: 499ms\n",
            "644:\tlearn: 4.0557536\ttest: 6.2890792\tbest: 6.2802460 (603)\ttotal: 904ms\tremaining: 497ms\n",
            "645:\tlearn: 4.0549386\ttest: 6.2892825\tbest: 6.2802460 (603)\ttotal: 905ms\tremaining: 496ms\n",
            "646:\tlearn: 4.0541261\ttest: 6.2891103\tbest: 6.2802460 (603)\ttotal: 906ms\tremaining: 494ms\n",
            "647:\tlearn: 4.0522140\ttest: 6.2898688\tbest: 6.2802460 (603)\ttotal: 907ms\tremaining: 493ms\n",
            "648:\tlearn: 4.0510249\ttest: 6.2894532\tbest: 6.2802460 (603)\ttotal: 908ms\tremaining: 491ms\n",
            "649:\tlearn: 4.0495736\ttest: 6.2885102\tbest: 6.2802460 (603)\ttotal: 909ms\tremaining: 489ms\n",
            "650:\tlearn: 4.0476019\ttest: 6.2889189\tbest: 6.2802460 (603)\ttotal: 910ms\tremaining: 488ms\n",
            "651:\tlearn: 4.0466505\ttest: 6.2884769\tbest: 6.2802460 (603)\ttotal: 911ms\tremaining: 486ms\n",
            "652:\tlearn: 4.0438805\ttest: 6.2885382\tbest: 6.2802460 (603)\ttotal: 912ms\tremaining: 485ms\n",
            "653:\tlearn: 4.0425620\ttest: 6.2884042\tbest: 6.2802460 (603)\ttotal: 913ms\tremaining: 483ms\n",
            "654:\tlearn: 4.0416214\ttest: 6.2878896\tbest: 6.2802460 (603)\ttotal: 915ms\tremaining: 482ms\n",
            "655:\tlearn: 4.0382400\ttest: 6.2872236\tbest: 6.2802460 (603)\ttotal: 916ms\tremaining: 480ms\n",
            "656:\tlearn: 4.0371111\ttest: 6.2879092\tbest: 6.2802460 (603)\ttotal: 917ms\tremaining: 479ms\n",
            "657:\tlearn: 4.0347232\ttest: 6.2894508\tbest: 6.2802460 (603)\ttotal: 918ms\tremaining: 477ms\n",
            "658:\tlearn: 4.0326466\ttest: 6.2898629\tbest: 6.2802460 (603)\ttotal: 919ms\tremaining: 476ms\n",
            "659:\tlearn: 4.0313145\ttest: 6.2898590\tbest: 6.2802460 (603)\ttotal: 920ms\tremaining: 474ms\n",
            "660:\tlearn: 4.0301850\ttest: 6.2906120\tbest: 6.2802460 (603)\ttotal: 921ms\tremaining: 473ms\n",
            "661:\tlearn: 4.0277085\ttest: 6.2917191\tbest: 6.2802460 (603)\ttotal: 922ms\tremaining: 471ms\n",
            "662:\tlearn: 4.0250807\ttest: 6.2890894\tbest: 6.2802460 (603)\ttotal: 923ms\tremaining: 469ms\n",
            "663:\tlearn: 4.0219929\ttest: 6.2911540\tbest: 6.2802460 (603)\ttotal: 925ms\tremaining: 468ms\n",
            "664:\tlearn: 4.0201358\ttest: 6.2898777\tbest: 6.2802460 (603)\ttotal: 926ms\tremaining: 466ms\n",
            "665:\tlearn: 4.0190524\ttest: 6.2887201\tbest: 6.2802460 (603)\ttotal: 927ms\tremaining: 465ms\n",
            "666:\tlearn: 4.0180117\ttest: 6.2891898\tbest: 6.2802460 (603)\ttotal: 928ms\tremaining: 463ms\n",
            "667:\tlearn: 4.0170417\ttest: 6.2895242\tbest: 6.2802460 (603)\ttotal: 929ms\tremaining: 462ms\n",
            "668:\tlearn: 4.0156826\ttest: 6.2885944\tbest: 6.2802460 (603)\ttotal: 930ms\tremaining: 460ms\n",
            "669:\tlearn: 4.0149048\ttest: 6.2883263\tbest: 6.2802460 (603)\ttotal: 931ms\tremaining: 459ms\n",
            "670:\tlearn: 4.0130545\ttest: 6.2875378\tbest: 6.2802460 (603)\ttotal: 932ms\tremaining: 457ms\n",
            "671:\tlearn: 4.0117832\ttest: 6.2878668\tbest: 6.2802460 (603)\ttotal: 933ms\tremaining: 456ms\n",
            "672:\tlearn: 4.0106893\ttest: 6.2882082\tbest: 6.2802460 (603)\ttotal: 935ms\tremaining: 454ms\n",
            "673:\tlearn: 4.0073350\ttest: 6.2881534\tbest: 6.2802460 (603)\ttotal: 936ms\tremaining: 453ms\n",
            "674:\tlearn: 4.0044098\ttest: 6.2886084\tbest: 6.2802460 (603)\ttotal: 937ms\tremaining: 451ms\n",
            "675:\tlearn: 4.0035081\ttest: 6.2881148\tbest: 6.2802460 (603)\ttotal: 938ms\tremaining: 449ms\n",
            "676:\tlearn: 4.0008395\ttest: 6.2883865\tbest: 6.2802460 (603)\ttotal: 939ms\tremaining: 448ms\n",
            "677:\tlearn: 3.9985249\ttest: 6.2878783\tbest: 6.2802460 (603)\ttotal: 940ms\tremaining: 446ms\n",
            "678:\tlearn: 3.9963354\ttest: 6.2882968\tbest: 6.2802460 (603)\ttotal: 941ms\tremaining: 445ms\n",
            "679:\tlearn: 3.9945143\ttest: 6.2889642\tbest: 6.2802460 (603)\ttotal: 942ms\tremaining: 443ms\n",
            "680:\tlearn: 3.9931058\ttest: 6.2895696\tbest: 6.2802460 (603)\ttotal: 943ms\tremaining: 442ms\n",
            "681:\tlearn: 3.9926147\ttest: 6.2890539\tbest: 6.2802460 (603)\ttotal: 944ms\tremaining: 440ms\n",
            "682:\tlearn: 3.9896622\ttest: 6.2900244\tbest: 6.2802460 (603)\ttotal: 945ms\tremaining: 439ms\n",
            "683:\tlearn: 3.9879640\ttest: 6.2890439\tbest: 6.2802460 (603)\ttotal: 947ms\tremaining: 437ms\n",
            "684:\tlearn: 3.9869163\ttest: 6.2901442\tbest: 6.2802460 (603)\ttotal: 948ms\tremaining: 436ms\n",
            "685:\tlearn: 3.9839954\ttest: 6.2864923\tbest: 6.2802460 (603)\ttotal: 949ms\tremaining: 434ms\n",
            "686:\tlearn: 3.9813663\ttest: 6.2862464\tbest: 6.2802460 (603)\ttotal: 950ms\tremaining: 433ms\n",
            "687:\tlearn: 3.9786404\ttest: 6.2851488\tbest: 6.2802460 (603)\ttotal: 951ms\tremaining: 431ms\n",
            "688:\tlearn: 3.9767504\ttest: 6.2854778\tbest: 6.2802460 (603)\ttotal: 952ms\tremaining: 430ms\n",
            "689:\tlearn: 3.9755817\ttest: 6.2853893\tbest: 6.2802460 (603)\ttotal: 953ms\tremaining: 428ms\n",
            "690:\tlearn: 3.9739369\ttest: 6.2849113\tbest: 6.2802460 (603)\ttotal: 954ms\tremaining: 427ms\n",
            "691:\tlearn: 3.9723050\ttest: 6.2853751\tbest: 6.2802460 (603)\ttotal: 955ms\tremaining: 425ms\n",
            "692:\tlearn: 3.9711202\ttest: 6.2854510\tbest: 6.2802460 (603)\ttotal: 956ms\tremaining: 424ms\n",
            "693:\tlearn: 3.9696169\ttest: 6.2851682\tbest: 6.2802460 (603)\ttotal: 957ms\tremaining: 422ms\n",
            "694:\tlearn: 3.9673654\ttest: 6.2851596\tbest: 6.2802460 (603)\ttotal: 958ms\tremaining: 421ms\n",
            "695:\tlearn: 3.9649682\ttest: 6.2855872\tbest: 6.2802460 (603)\ttotal: 959ms\tremaining: 419ms\n",
            "696:\tlearn: 3.9636352\ttest: 6.2874260\tbest: 6.2802460 (603)\ttotal: 960ms\tremaining: 417ms\n",
            "697:\tlearn: 3.9618997\ttest: 6.2874526\tbest: 6.2802460 (603)\ttotal: 961ms\tremaining: 416ms\n",
            "698:\tlearn: 3.9605801\ttest: 6.2879853\tbest: 6.2802460 (603)\ttotal: 963ms\tremaining: 414ms\n",
            "699:\tlearn: 3.9589115\ttest: 6.2897594\tbest: 6.2802460 (603)\ttotal: 964ms\tremaining: 413ms\n",
            "700:\tlearn: 3.9559778\ttest: 6.2921948\tbest: 6.2802460 (603)\ttotal: 965ms\tremaining: 412ms\n",
            "701:\tlearn: 3.9552706\ttest: 6.2915392\tbest: 6.2802460 (603)\ttotal: 966ms\tremaining: 410ms\n",
            "702:\tlearn: 3.9546904\ttest: 6.2916083\tbest: 6.2802460 (603)\ttotal: 967ms\tremaining: 409ms\n",
            "703:\tlearn: 3.9534933\ttest: 6.2922222\tbest: 6.2802460 (603)\ttotal: 968ms\tremaining: 407ms\n",
            "704:\tlearn: 3.9519661\ttest: 6.2925699\tbest: 6.2802460 (603)\ttotal: 969ms\tremaining: 406ms\n",
            "705:\tlearn: 3.9492823\ttest: 6.2939168\tbest: 6.2802460 (603)\ttotal: 970ms\tremaining: 404ms\n",
            "706:\tlearn: 3.9476702\ttest: 6.2916449\tbest: 6.2802460 (603)\ttotal: 971ms\tremaining: 403ms\n",
            "707:\tlearn: 3.9469003\ttest: 6.2918079\tbest: 6.2802460 (603)\ttotal: 972ms\tremaining: 401ms\n",
            "708:\tlearn: 3.9463928\ttest: 6.2917254\tbest: 6.2802460 (603)\ttotal: 973ms\tremaining: 399ms\n",
            "709:\tlearn: 3.9450182\ttest: 6.2916145\tbest: 6.2802460 (603)\ttotal: 974ms\tremaining: 398ms\n",
            "710:\tlearn: 3.9435377\ttest: 6.2921951\tbest: 6.2802460 (603)\ttotal: 976ms\tremaining: 397ms\n",
            "711:\tlearn: 3.9429155\ttest: 6.2927736\tbest: 6.2802460 (603)\ttotal: 977ms\tremaining: 395ms\n",
            "712:\tlearn: 3.9395959\ttest: 6.2929983\tbest: 6.2802460 (603)\ttotal: 978ms\tremaining: 394ms\n",
            "713:\tlearn: 3.9370387\ttest: 6.2939153\tbest: 6.2802460 (603)\ttotal: 979ms\tremaining: 392ms\n",
            "714:\tlearn: 3.9345222\ttest: 6.2925966\tbest: 6.2802460 (603)\ttotal: 980ms\tremaining: 391ms\n",
            "715:\tlearn: 3.9337646\ttest: 6.2927738\tbest: 6.2802460 (603)\ttotal: 981ms\tremaining: 389ms\n",
            "716:\tlearn: 3.9322048\ttest: 6.2925093\tbest: 6.2802460 (603)\ttotal: 982ms\tremaining: 388ms\n",
            "717:\tlearn: 3.9299067\ttest: 6.2912343\tbest: 6.2802460 (603)\ttotal: 983ms\tremaining: 386ms\n",
            "718:\tlearn: 3.9287517\ttest: 6.2917067\tbest: 6.2802460 (603)\ttotal: 984ms\tremaining: 385ms\n",
            "719:\tlearn: 3.9282089\ttest: 6.2913470\tbest: 6.2802460 (603)\ttotal: 985ms\tremaining: 383ms\n",
            "720:\tlearn: 3.9258232\ttest: 6.2914829\tbest: 6.2802460 (603)\ttotal: 986ms\tremaining: 382ms\n",
            "721:\tlearn: 3.9255672\ttest: 6.2913863\tbest: 6.2802460 (603)\ttotal: 988ms\tremaining: 380ms\n",
            "722:\tlearn: 3.9238354\ttest: 6.2943151\tbest: 6.2802460 (603)\ttotal: 989ms\tremaining: 379ms\n",
            "723:\tlearn: 3.9220619\ttest: 6.2925380\tbest: 6.2802460 (603)\ttotal: 990ms\tremaining: 377ms\n",
            "724:\tlearn: 3.9206017\ttest: 6.2923019\tbest: 6.2802460 (603)\ttotal: 991ms\tremaining: 376ms\n",
            "725:\tlearn: 3.9188315\ttest: 6.2939193\tbest: 6.2802460 (603)\ttotal: 992ms\tremaining: 375ms\n",
            "726:\tlearn: 3.9179045\ttest: 6.2932922\tbest: 6.2802460 (603)\ttotal: 993ms\tremaining: 373ms\n",
            "727:\tlearn: 3.9169894\ttest: 6.2943787\tbest: 6.2802460 (603)\ttotal: 995ms\tremaining: 372ms\n",
            "728:\tlearn: 3.9148010\ttest: 6.2944231\tbest: 6.2802460 (603)\ttotal: 996ms\tremaining: 370ms\n",
            "729:\tlearn: 3.9135087\ttest: 6.2947986\tbest: 6.2802460 (603)\ttotal: 997ms\tremaining: 369ms\n",
            "730:\tlearn: 3.9122037\ttest: 6.2949625\tbest: 6.2802460 (603)\ttotal: 998ms\tremaining: 367ms\n",
            "731:\tlearn: 3.9099522\ttest: 6.2946727\tbest: 6.2802460 (603)\ttotal: 999ms\tremaining: 366ms\n",
            "732:\tlearn: 3.9080942\ttest: 6.2936336\tbest: 6.2802460 (603)\ttotal: 1s\tremaining: 364ms\n",
            "733:\tlearn: 3.9063815\ttest: 6.2918601\tbest: 6.2802460 (603)\ttotal: 1s\tremaining: 363ms\n",
            "734:\tlearn: 3.9023014\ttest: 6.2936501\tbest: 6.2802460 (603)\ttotal: 1s\tremaining: 361ms\n",
            "735:\tlearn: 3.9018101\ttest: 6.2935395\tbest: 6.2802460 (603)\ttotal: 1s\tremaining: 360ms\n",
            "736:\tlearn: 3.8998277\ttest: 6.2922424\tbest: 6.2802460 (603)\ttotal: 1s\tremaining: 359ms\n",
            "737:\tlearn: 3.8969433\ttest: 6.2928065\tbest: 6.2802460 (603)\ttotal: 1s\tremaining: 357ms\n",
            "738:\tlearn: 3.8958475\ttest: 6.2927723\tbest: 6.2802460 (603)\ttotal: 1.01s\tremaining: 356ms\n",
            "739:\tlearn: 3.8934048\ttest: 6.2907936\tbest: 6.2802460 (603)\ttotal: 1.01s\tremaining: 354ms\n",
            "740:\tlearn: 3.8911424\ttest: 6.2930007\tbest: 6.2802460 (603)\ttotal: 1.01s\tremaining: 353ms\n",
            "741:\tlearn: 3.8885536\ttest: 6.2942596\tbest: 6.2802460 (603)\ttotal: 1.01s\tremaining: 351ms\n",
            "742:\tlearn: 3.8873789\ttest: 6.2953925\tbest: 6.2802460 (603)\ttotal: 1.01s\tremaining: 350ms\n",
            "743:\tlearn: 3.8859244\ttest: 6.2952917\tbest: 6.2802460 (603)\ttotal: 1.01s\tremaining: 349ms\n",
            "744:\tlearn: 3.8843141\ttest: 6.2950048\tbest: 6.2802460 (603)\ttotal: 1.01s\tremaining: 347ms\n",
            "745:\tlearn: 3.8825113\ttest: 6.2965713\tbest: 6.2802460 (603)\ttotal: 1.01s\tremaining: 346ms\n",
            "746:\tlearn: 3.8810083\ttest: 6.2967588\tbest: 6.2802460 (603)\ttotal: 1.02s\tremaining: 344ms\n",
            "747:\tlearn: 3.8794576\ttest: 6.2963305\tbest: 6.2802460 (603)\ttotal: 1.02s\tremaining: 343ms\n",
            "748:\tlearn: 3.8778491\ttest: 6.2963138\tbest: 6.2802460 (603)\ttotal: 1.02s\tremaining: 341ms\n",
            "749:\tlearn: 3.8761969\ttest: 6.2957278\tbest: 6.2802460 (603)\ttotal: 1.02s\tremaining: 340ms\n",
            "750:\tlearn: 3.8750053\ttest: 6.2963926\tbest: 6.2802460 (603)\ttotal: 1.02s\tremaining: 338ms\n",
            "751:\tlearn: 3.8742541\ttest: 6.2958935\tbest: 6.2802460 (603)\ttotal: 1.02s\tremaining: 337ms\n",
            "752:\tlearn: 3.8715052\ttest: 6.2954756\tbest: 6.2802460 (603)\ttotal: 1.02s\tremaining: 335ms\n",
            "753:\tlearn: 3.8693821\ttest: 6.2962120\tbest: 6.2802460 (603)\ttotal: 1.02s\tremaining: 334ms\n",
            "754:\tlearn: 3.8677407\ttest: 6.2963153\tbest: 6.2802460 (603)\ttotal: 1.02s\tremaining: 333ms\n",
            "755:\tlearn: 3.8659687\ttest: 6.2957522\tbest: 6.2802460 (603)\ttotal: 1.02s\tremaining: 331ms\n",
            "756:\tlearn: 3.8653544\ttest: 6.2959870\tbest: 6.2802460 (603)\ttotal: 1.03s\tremaining: 330ms\n",
            "757:\tlearn: 3.8642945\ttest: 6.2967547\tbest: 6.2802460 (603)\ttotal: 1.03s\tremaining: 328ms\n",
            "758:\tlearn: 3.8638187\ttest: 6.2966267\tbest: 6.2802460 (603)\ttotal: 1.03s\tremaining: 327ms\n",
            "759:\tlearn: 3.8628526\ttest: 6.2955302\tbest: 6.2802460 (603)\ttotal: 1.03s\tremaining: 325ms\n",
            "760:\tlearn: 3.8614443\ttest: 6.2949702\tbest: 6.2802460 (603)\ttotal: 1.03s\tremaining: 324ms\n",
            "761:\tlearn: 3.8593455\ttest: 6.2951321\tbest: 6.2802460 (603)\ttotal: 1.03s\tremaining: 322ms\n",
            "762:\tlearn: 3.8574212\ttest: 6.2960296\tbest: 6.2802460 (603)\ttotal: 1.03s\tremaining: 321ms\n",
            "763:\tlearn: 3.8547676\ttest: 6.2967603\tbest: 6.2802460 (603)\ttotal: 1.03s\tremaining: 320ms\n",
            "764:\tlearn: 3.8532114\ttest: 6.2968732\tbest: 6.2802460 (603)\ttotal: 1.04s\tremaining: 318ms\n",
            "765:\tlearn: 3.8514035\ttest: 6.2952017\tbest: 6.2802460 (603)\ttotal: 1.04s\tremaining: 317ms\n",
            "766:\tlearn: 3.8483169\ttest: 6.2960647\tbest: 6.2802460 (603)\ttotal: 1.04s\tremaining: 316ms\n",
            "767:\tlearn: 3.8476200\ttest: 6.2958803\tbest: 6.2802460 (603)\ttotal: 1.04s\tremaining: 314ms\n",
            "768:\tlearn: 3.8458796\ttest: 6.2959579\tbest: 6.2802460 (603)\ttotal: 1.04s\tremaining: 313ms\n",
            "769:\tlearn: 3.8442795\ttest: 6.2959605\tbest: 6.2802460 (603)\ttotal: 1.04s\tremaining: 311ms\n",
            "770:\tlearn: 3.8436330\ttest: 6.2968235\tbest: 6.2802460 (603)\ttotal: 1.04s\tremaining: 310ms\n",
            "771:\tlearn: 3.8420895\ttest: 6.2964132\tbest: 6.2802460 (603)\ttotal: 1.04s\tremaining: 309ms\n",
            "772:\tlearn: 3.8406308\ttest: 6.2966144\tbest: 6.2802460 (603)\ttotal: 1.04s\tremaining: 307ms\n",
            "773:\tlearn: 3.8392399\ttest: 6.2962609\tbest: 6.2802460 (603)\ttotal: 1.05s\tremaining: 306ms\n",
            "774:\tlearn: 3.8372670\ttest: 6.2963257\tbest: 6.2802460 (603)\ttotal: 1.05s\tremaining: 304ms\n",
            "775:\tlearn: 3.8355727\ttest: 6.2961489\tbest: 6.2802460 (603)\ttotal: 1.05s\tremaining: 303ms\n",
            "776:\tlearn: 3.8349558\ttest: 6.2968006\tbest: 6.2802460 (603)\ttotal: 1.05s\tremaining: 301ms\n",
            "777:\tlearn: 3.8336442\ttest: 6.2952170\tbest: 6.2802460 (603)\ttotal: 1.05s\tremaining: 300ms\n",
            "778:\tlearn: 3.8323813\ttest: 6.2963392\tbest: 6.2802460 (603)\ttotal: 1.05s\tremaining: 299ms\n",
            "779:\tlearn: 3.8317364\ttest: 6.2966378\tbest: 6.2802460 (603)\ttotal: 1.05s\tremaining: 297ms\n",
            "780:\tlearn: 3.8297654\ttest: 6.2974292\tbest: 6.2802460 (603)\ttotal: 1.05s\tremaining: 296ms\n",
            "781:\tlearn: 3.8290689\ttest: 6.2975310\tbest: 6.2802460 (603)\ttotal: 1.06s\tremaining: 294ms\n",
            "782:\tlearn: 3.8279188\ttest: 6.2972349\tbest: 6.2802460 (603)\ttotal: 1.06s\tremaining: 293ms\n",
            "783:\tlearn: 3.8265962\ttest: 6.2973384\tbest: 6.2802460 (603)\ttotal: 1.06s\tremaining: 292ms\n",
            "784:\tlearn: 3.8259345\ttest: 6.2974162\tbest: 6.2802460 (603)\ttotal: 1.06s\tremaining: 290ms\n",
            "785:\tlearn: 3.8235740\ttest: 6.2961128\tbest: 6.2802460 (603)\ttotal: 1.06s\tremaining: 289ms\n",
            "786:\tlearn: 3.8214464\ttest: 6.2967601\tbest: 6.2802460 (603)\ttotal: 1.06s\tremaining: 288ms\n",
            "787:\tlearn: 3.8194533\ttest: 6.2991394\tbest: 6.2802460 (603)\ttotal: 1.06s\tremaining: 286ms\n",
            "788:\tlearn: 3.8170373\ttest: 6.2991913\tbest: 6.2802460 (603)\ttotal: 1.06s\tremaining: 285ms\n",
            "789:\tlearn: 3.8133662\ttest: 6.2984468\tbest: 6.2802460 (603)\ttotal: 1.07s\tremaining: 284ms\n",
            "790:\tlearn: 3.8127984\ttest: 6.2990191\tbest: 6.2802460 (603)\ttotal: 1.07s\tremaining: 282ms\n",
            "791:\tlearn: 3.8110538\ttest: 6.2972750\tbest: 6.2802460 (603)\ttotal: 1.07s\tremaining: 281ms\n",
            "792:\tlearn: 3.8100264\ttest: 6.2967422\tbest: 6.2802460 (603)\ttotal: 1.07s\tremaining: 279ms\n",
            "793:\tlearn: 3.8088256\ttest: 6.2967714\tbest: 6.2802460 (603)\ttotal: 1.07s\tremaining: 278ms\n",
            "794:\tlearn: 3.8064026\ttest: 6.2970459\tbest: 6.2802460 (603)\ttotal: 1.07s\tremaining: 277ms\n",
            "795:\tlearn: 3.8045651\ttest: 6.2969556\tbest: 6.2802460 (603)\ttotal: 1.07s\tremaining: 275ms\n",
            "796:\tlearn: 3.8027892\ttest: 6.2968701\tbest: 6.2802460 (603)\ttotal: 1.07s\tremaining: 274ms\n",
            "797:\tlearn: 3.8019101\ttest: 6.2968415\tbest: 6.2802460 (603)\ttotal: 1.08s\tremaining: 272ms\n",
            "798:\tlearn: 3.8014888\ttest: 6.2963536\tbest: 6.2802460 (603)\ttotal: 1.08s\tremaining: 271ms\n",
            "799:\tlearn: 3.7997819\ttest: 6.2958533\tbest: 6.2802460 (603)\ttotal: 1.08s\tremaining: 270ms\n",
            "800:\tlearn: 3.7987184\ttest: 6.2947912\tbest: 6.2802460 (603)\ttotal: 1.08s\tremaining: 268ms\n",
            "801:\tlearn: 3.7964723\ttest: 6.2963256\tbest: 6.2802460 (603)\ttotal: 1.08s\tremaining: 267ms\n",
            "802:\tlearn: 3.7959532\ttest: 6.2955667\tbest: 6.2802460 (603)\ttotal: 1.08s\tremaining: 266ms\n",
            "803:\tlearn: 3.7953327\ttest: 6.2957209\tbest: 6.2802460 (603)\ttotal: 1.08s\tremaining: 264ms\n",
            "804:\tlearn: 3.7936210\ttest: 6.2953898\tbest: 6.2802460 (603)\ttotal: 1.08s\tremaining: 263ms\n",
            "805:\tlearn: 3.7925576\ttest: 6.2953674\tbest: 6.2802460 (603)\ttotal: 1.09s\tremaining: 262ms\n",
            "806:\tlearn: 3.7909203\ttest: 6.2956152\tbest: 6.2802460 (603)\ttotal: 1.09s\tremaining: 260ms\n",
            "807:\tlearn: 3.7895290\ttest: 6.2958485\tbest: 6.2802460 (603)\ttotal: 1.09s\tremaining: 259ms\n",
            "808:\tlearn: 3.7889187\ttest: 6.2958770\tbest: 6.2802460 (603)\ttotal: 1.09s\tremaining: 258ms\n",
            "809:\tlearn: 3.7873870\ttest: 6.2945231\tbest: 6.2802460 (603)\ttotal: 1.09s\tremaining: 256ms\n",
            "810:\tlearn: 3.7857048\ttest: 6.2944292\tbest: 6.2802460 (603)\ttotal: 1.09s\tremaining: 255ms\n",
            "811:\tlearn: 3.7848079\ttest: 6.2950268\tbest: 6.2802460 (603)\ttotal: 1.09s\tremaining: 253ms\n",
            "812:\tlearn: 3.7839967\ttest: 6.2944537\tbest: 6.2802460 (603)\ttotal: 1.09s\tremaining: 252ms\n",
            "813:\tlearn: 3.7824187\ttest: 6.2947217\tbest: 6.2802460 (603)\ttotal: 1.1s\tremaining: 251ms\n",
            "814:\tlearn: 3.7809442\ttest: 6.2945706\tbest: 6.2802460 (603)\ttotal: 1.1s\tremaining: 249ms\n",
            "815:\tlearn: 3.7794345\ttest: 6.2940582\tbest: 6.2802460 (603)\ttotal: 1.1s\tremaining: 249ms\n",
            "816:\tlearn: 3.7787645\ttest: 6.2941090\tbest: 6.2802460 (603)\ttotal: 1.1s\tremaining: 247ms\n",
            "817:\tlearn: 3.7759443\ttest: 6.2942880\tbest: 6.2802460 (603)\ttotal: 1.1s\tremaining: 246ms\n",
            "818:\tlearn: 3.7754869\ttest: 6.2942152\tbest: 6.2802460 (603)\ttotal: 1.11s\tremaining: 245ms\n",
            "819:\tlearn: 3.7749269\ttest: 6.2943145\tbest: 6.2802460 (603)\ttotal: 1.11s\tremaining: 245ms\n",
            "820:\tlearn: 3.7735426\ttest: 6.2934369\tbest: 6.2802460 (603)\ttotal: 1.12s\tremaining: 244ms\n",
            "821:\tlearn: 3.7728760\ttest: 6.2941996\tbest: 6.2802460 (603)\ttotal: 1.12s\tremaining: 243ms\n",
            "822:\tlearn: 3.7703661\ttest: 6.2966928\tbest: 6.2802460 (603)\ttotal: 1.12s\tremaining: 242ms\n",
            "823:\tlearn: 3.7690842\ttest: 6.2960406\tbest: 6.2802460 (603)\ttotal: 1.13s\tremaining: 241ms\n",
            "824:\tlearn: 3.7678241\ttest: 6.2959841\tbest: 6.2802460 (603)\ttotal: 1.13s\tremaining: 240ms\n",
            "825:\tlearn: 3.7669572\ttest: 6.2963008\tbest: 6.2802460 (603)\ttotal: 1.13s\tremaining: 238ms\n",
            "826:\tlearn: 3.7656678\ttest: 6.2957917\tbest: 6.2802460 (603)\ttotal: 1.13s\tremaining: 237ms\n",
            "827:\tlearn: 3.7647427\ttest: 6.2957371\tbest: 6.2802460 (603)\ttotal: 1.13s\tremaining: 236ms\n",
            "828:\tlearn: 3.7643507\ttest: 6.2958750\tbest: 6.2802460 (603)\ttotal: 1.14s\tremaining: 234ms\n",
            "829:\tlearn: 3.7630179\ttest: 6.2967293\tbest: 6.2802460 (603)\ttotal: 1.14s\tremaining: 233ms\n",
            "830:\tlearn: 3.7617089\ttest: 6.2968620\tbest: 6.2802460 (603)\ttotal: 1.14s\tremaining: 232ms\n",
            "831:\tlearn: 3.7597276\ttest: 6.2967873\tbest: 6.2802460 (603)\ttotal: 1.14s\tremaining: 230ms\n",
            "832:\tlearn: 3.7590194\ttest: 6.2966398\tbest: 6.2802460 (603)\ttotal: 1.14s\tremaining: 229ms\n",
            "833:\tlearn: 3.7572522\ttest: 6.2965565\tbest: 6.2802460 (603)\ttotal: 1.14s\tremaining: 228ms\n",
            "834:\tlearn: 3.7532893\ttest: 6.2954808\tbest: 6.2802460 (603)\ttotal: 1.15s\tremaining: 226ms\n",
            "835:\tlearn: 3.7514036\ttest: 6.2961929\tbest: 6.2802460 (603)\ttotal: 1.15s\tremaining: 225ms\n",
            "836:\tlearn: 3.7501994\ttest: 6.2965507\tbest: 6.2802460 (603)\ttotal: 1.15s\tremaining: 224ms\n",
            "837:\tlearn: 3.7497691\ttest: 6.2965847\tbest: 6.2802460 (603)\ttotal: 1.15s\tremaining: 222ms\n",
            "838:\tlearn: 3.7483785\ttest: 6.2982382\tbest: 6.2802460 (603)\ttotal: 1.15s\tremaining: 221ms\n",
            "839:\tlearn: 3.7464851\ttest: 6.2969230\tbest: 6.2802460 (603)\ttotal: 1.15s\tremaining: 219ms\n",
            "840:\tlearn: 3.7451788\ttest: 6.2963161\tbest: 6.2802460 (603)\ttotal: 1.15s\tremaining: 218ms\n",
            "841:\tlearn: 3.7446491\ttest: 6.2966714\tbest: 6.2802460 (603)\ttotal: 1.15s\tremaining: 217ms\n",
            "842:\tlearn: 3.7427489\ttest: 6.2973533\tbest: 6.2802460 (603)\ttotal: 1.16s\tremaining: 215ms\n",
            "843:\tlearn: 3.7407990\ttest: 6.2956667\tbest: 6.2802460 (603)\ttotal: 1.16s\tremaining: 214ms\n",
            "844:\tlearn: 3.7398556\ttest: 6.2951085\tbest: 6.2802460 (603)\ttotal: 1.16s\tremaining: 212ms\n",
            "845:\tlearn: 3.7371795\ttest: 6.2967615\tbest: 6.2802460 (603)\ttotal: 1.16s\tremaining: 211ms\n",
            "846:\tlearn: 3.7361191\ttest: 6.2959147\tbest: 6.2802460 (603)\ttotal: 1.16s\tremaining: 210ms\n",
            "847:\tlearn: 3.7352122\ttest: 6.2961114\tbest: 6.2802460 (603)\ttotal: 1.16s\tremaining: 208ms\n",
            "848:\tlearn: 3.7343354\ttest: 6.2953592\tbest: 6.2802460 (603)\ttotal: 1.16s\tremaining: 207ms\n",
            "849:\tlearn: 3.7322602\ttest: 6.2952322\tbest: 6.2802460 (603)\ttotal: 1.16s\tremaining: 205ms\n",
            "850:\tlearn: 3.7306984\ttest: 6.2971248\tbest: 6.2802460 (603)\ttotal: 1.16s\tremaining: 204ms\n",
            "851:\tlearn: 3.7296411\ttest: 6.2975654\tbest: 6.2802460 (603)\ttotal: 1.17s\tremaining: 203ms\n",
            "852:\tlearn: 3.7277400\ttest: 6.2978655\tbest: 6.2802460 (603)\ttotal: 1.17s\tremaining: 201ms\n",
            "853:\tlearn: 3.7265986\ttest: 6.2976191\tbest: 6.2802460 (603)\ttotal: 1.17s\tremaining: 200ms\n",
            "854:\tlearn: 3.7242863\ttest: 6.2979817\tbest: 6.2802460 (603)\ttotal: 1.17s\tremaining: 198ms\n",
            "855:\tlearn: 3.7223088\ttest: 6.2967955\tbest: 6.2802460 (603)\ttotal: 1.17s\tremaining: 197ms\n",
            "856:\tlearn: 3.7211509\ttest: 6.2974402\tbest: 6.2802460 (603)\ttotal: 1.17s\tremaining: 196ms\n",
            "857:\tlearn: 3.7195625\ttest: 6.2982537\tbest: 6.2802460 (603)\ttotal: 1.17s\tremaining: 194ms\n",
            "858:\tlearn: 3.7184770\ttest: 6.2979786\tbest: 6.2802460 (603)\ttotal: 1.17s\tremaining: 193ms\n",
            "859:\tlearn: 3.7174141\ttest: 6.2980227\tbest: 6.2802460 (603)\ttotal: 1.18s\tremaining: 191ms\n",
            "860:\tlearn: 3.7165364\ttest: 6.2987733\tbest: 6.2802460 (603)\ttotal: 1.18s\tremaining: 190ms\n",
            "861:\tlearn: 3.7153699\ttest: 6.2991280\tbest: 6.2802460 (603)\ttotal: 1.18s\tremaining: 189ms\n",
            "862:\tlearn: 3.7141928\ttest: 6.2986026\tbest: 6.2802460 (603)\ttotal: 1.18s\tremaining: 187ms\n",
            "863:\tlearn: 3.7130818\ttest: 6.2987567\tbest: 6.2802460 (603)\ttotal: 1.18s\tremaining: 186ms\n",
            "864:\tlearn: 3.7127741\ttest: 6.2984400\tbest: 6.2802460 (603)\ttotal: 1.18s\tremaining: 185ms\n",
            "865:\tlearn: 3.7112744\ttest: 6.2985667\tbest: 6.2802460 (603)\ttotal: 1.18s\tremaining: 183ms\n",
            "866:\tlearn: 3.7100077\ttest: 6.2986016\tbest: 6.2802460 (603)\ttotal: 1.19s\tremaining: 182ms\n",
            "867:\tlearn: 3.7083483\ttest: 6.2978623\tbest: 6.2802460 (603)\ttotal: 1.19s\tremaining: 181ms\n",
            "868:\tlearn: 3.7072056\ttest: 6.2973868\tbest: 6.2802460 (603)\ttotal: 1.19s\tremaining: 179ms\n",
            "869:\tlearn: 3.7053137\ttest: 6.2973932\tbest: 6.2802460 (603)\ttotal: 1.19s\tremaining: 178ms\n",
            "870:\tlearn: 3.7034061\ttest: 6.2963991\tbest: 6.2802460 (603)\ttotal: 1.19s\tremaining: 176ms\n",
            "871:\tlearn: 3.7010700\ttest: 6.2959971\tbest: 6.2802460 (603)\ttotal: 1.19s\tremaining: 175ms\n",
            "872:\tlearn: 3.7006001\ttest: 6.2953049\tbest: 6.2802460 (603)\ttotal: 1.19s\tremaining: 174ms\n",
            "873:\tlearn: 3.6978488\ttest: 6.2961070\tbest: 6.2802460 (603)\ttotal: 1.2s\tremaining: 173ms\n",
            "874:\tlearn: 3.6957630\ttest: 6.2946181\tbest: 6.2802460 (603)\ttotal: 1.2s\tremaining: 171ms\n",
            "875:\tlearn: 3.6936082\ttest: 6.2968192\tbest: 6.2802460 (603)\ttotal: 1.2s\tremaining: 170ms\n",
            "876:\tlearn: 3.6918633\ttest: 6.2951163\tbest: 6.2802460 (603)\ttotal: 1.2s\tremaining: 169ms\n",
            "877:\tlearn: 3.6892600\ttest: 6.2948748\tbest: 6.2802460 (603)\ttotal: 1.2s\tremaining: 167ms\n",
            "878:\tlearn: 3.6876415\ttest: 6.2938557\tbest: 6.2802460 (603)\ttotal: 1.21s\tremaining: 166ms\n",
            "879:\tlearn: 3.6866287\ttest: 6.2935402\tbest: 6.2802460 (603)\ttotal: 1.21s\tremaining: 165ms\n",
            "880:\tlearn: 3.6851341\ttest: 6.2935395\tbest: 6.2802460 (603)\ttotal: 1.21s\tremaining: 163ms\n",
            "881:\tlearn: 3.6839254\ttest: 6.2937075\tbest: 6.2802460 (603)\ttotal: 1.21s\tremaining: 162ms\n",
            "882:\tlearn: 3.6827467\ttest: 6.2933462\tbest: 6.2802460 (603)\ttotal: 1.21s\tremaining: 161ms\n",
            "883:\tlearn: 3.6814726\ttest: 6.2945107\tbest: 6.2802460 (603)\ttotal: 1.21s\tremaining: 159ms\n",
            "884:\tlearn: 3.6801994\ttest: 6.2941314\tbest: 6.2802460 (603)\ttotal: 1.21s\tremaining: 158ms\n",
            "885:\tlearn: 3.6795465\ttest: 6.2941807\tbest: 6.2802460 (603)\ttotal: 1.22s\tremaining: 156ms\n",
            "886:\tlearn: 3.6775443\ttest: 6.2940606\tbest: 6.2802460 (603)\ttotal: 1.22s\tremaining: 155ms\n",
            "887:\tlearn: 3.6769549\ttest: 6.2938539\tbest: 6.2802460 (603)\ttotal: 1.22s\tremaining: 154ms\n",
            "888:\tlearn: 3.6754347\ttest: 6.2947604\tbest: 6.2802460 (603)\ttotal: 1.22s\tremaining: 152ms\n",
            "889:\tlearn: 3.6729564\ttest: 6.2955670\tbest: 6.2802460 (603)\ttotal: 1.22s\tremaining: 151ms\n",
            "890:\tlearn: 3.6711341\ttest: 6.2957430\tbest: 6.2802460 (603)\ttotal: 1.22s\tremaining: 150ms\n",
            "891:\tlearn: 3.6696910\ttest: 6.2946164\tbest: 6.2802460 (603)\ttotal: 1.22s\tremaining: 148ms\n",
            "892:\tlearn: 3.6680339\ttest: 6.2952779\tbest: 6.2802460 (603)\ttotal: 1.22s\tremaining: 147ms\n",
            "893:\tlearn: 3.6661637\ttest: 6.2945286\tbest: 6.2802460 (603)\ttotal: 1.23s\tremaining: 145ms\n",
            "894:\tlearn: 3.6656372\ttest: 6.2945522\tbest: 6.2802460 (603)\ttotal: 1.23s\tremaining: 144ms\n",
            "895:\tlearn: 3.6640768\ttest: 6.2947491\tbest: 6.2802460 (603)\ttotal: 1.23s\tremaining: 143ms\n",
            "896:\tlearn: 3.6631248\ttest: 6.2950116\tbest: 6.2802460 (603)\ttotal: 1.23s\tremaining: 141ms\n",
            "897:\tlearn: 3.6617273\ttest: 6.2942588\tbest: 6.2802460 (603)\ttotal: 1.23s\tremaining: 140ms\n",
            "898:\tlearn: 3.6603873\ttest: 6.2942250\tbest: 6.2802460 (603)\ttotal: 1.23s\tremaining: 138ms\n",
            "899:\tlearn: 3.6596445\ttest: 6.2944603\tbest: 6.2802460 (603)\ttotal: 1.23s\tremaining: 137ms\n",
            "900:\tlearn: 3.6586642\ttest: 6.2953031\tbest: 6.2802460 (603)\ttotal: 1.23s\tremaining: 136ms\n",
            "901:\tlearn: 3.6568409\ttest: 6.2951597\tbest: 6.2802460 (603)\ttotal: 1.23s\tremaining: 134ms\n",
            "902:\tlearn: 3.6551730\ttest: 6.2958946\tbest: 6.2802460 (603)\ttotal: 1.24s\tremaining: 133ms\n",
            "903:\tlearn: 3.6543383\ttest: 6.2959780\tbest: 6.2802460 (603)\ttotal: 1.24s\tremaining: 131ms\n",
            "904:\tlearn: 3.6522487\ttest: 6.2952734\tbest: 6.2802460 (603)\ttotal: 1.24s\tremaining: 130ms\n",
            "905:\tlearn: 3.6518423\ttest: 6.2950223\tbest: 6.2802460 (603)\ttotal: 1.24s\tremaining: 129ms\n",
            "906:\tlearn: 3.6508615\ttest: 6.2947818\tbest: 6.2802460 (603)\ttotal: 1.24s\tremaining: 127ms\n",
            "907:\tlearn: 3.6505833\ttest: 6.2951187\tbest: 6.2802460 (603)\ttotal: 1.24s\tremaining: 126ms\n",
            "908:\tlearn: 3.6499537\ttest: 6.2953868\tbest: 6.2802460 (603)\ttotal: 1.24s\tremaining: 124ms\n",
            "909:\tlearn: 3.6492483\ttest: 6.2954754\tbest: 6.2802460 (603)\ttotal: 1.24s\tremaining: 123ms\n",
            "910:\tlearn: 3.6485250\ttest: 6.2953515\tbest: 6.2802460 (603)\ttotal: 1.24s\tremaining: 122ms\n",
            "911:\tlearn: 3.6472432\ttest: 6.2953090\tbest: 6.2802460 (603)\ttotal: 1.25s\tremaining: 120ms\n",
            "912:\tlearn: 3.6466033\ttest: 6.2952572\tbest: 6.2802460 (603)\ttotal: 1.25s\tremaining: 119ms\n",
            "913:\tlearn: 3.6449981\ttest: 6.2943335\tbest: 6.2802460 (603)\ttotal: 1.25s\tremaining: 117ms\n",
            "914:\tlearn: 3.6441539\ttest: 6.2941917\tbest: 6.2802460 (603)\ttotal: 1.25s\tremaining: 116ms\n",
            "915:\tlearn: 3.6419992\ttest: 6.2924009\tbest: 6.2802460 (603)\ttotal: 1.25s\tremaining: 115ms\n",
            "916:\tlearn: 3.6409952\ttest: 6.2927018\tbest: 6.2802460 (603)\ttotal: 1.25s\tremaining: 113ms\n",
            "917:\tlearn: 3.6387602\ttest: 6.2940488\tbest: 6.2802460 (603)\ttotal: 1.25s\tremaining: 112ms\n",
            "918:\tlearn: 3.6377834\ttest: 6.2938218\tbest: 6.2802460 (603)\ttotal: 1.25s\tremaining: 110ms\n",
            "919:\tlearn: 3.6351695\ttest: 6.2943836\tbest: 6.2802460 (603)\ttotal: 1.25s\tremaining: 109ms\n",
            "920:\tlearn: 3.6336116\ttest: 6.2950496\tbest: 6.2802460 (603)\ttotal: 1.25s\tremaining: 108ms\n",
            "921:\tlearn: 3.6329377\ttest: 6.2951900\tbest: 6.2802460 (603)\ttotal: 1.25s\tremaining: 106ms\n",
            "922:\tlearn: 3.6311480\ttest: 6.2960792\tbest: 6.2802460 (603)\ttotal: 1.26s\tremaining: 105ms\n",
            "923:\tlearn: 3.6291919\ttest: 6.2964601\tbest: 6.2802460 (603)\ttotal: 1.26s\tremaining: 103ms\n",
            "924:\tlearn: 3.6272831\ttest: 6.2961235\tbest: 6.2802460 (603)\ttotal: 1.26s\tremaining: 102ms\n",
            "925:\tlearn: 3.6259950\ttest: 6.2955866\tbest: 6.2802460 (603)\ttotal: 1.26s\tremaining: 101ms\n",
            "926:\tlearn: 3.6247886\ttest: 6.2956984\tbest: 6.2802460 (603)\ttotal: 1.26s\tremaining: 99.3ms\n",
            "927:\tlearn: 3.6236563\ttest: 6.2956269\tbest: 6.2802460 (603)\ttotal: 1.26s\tremaining: 97.9ms\n",
            "928:\tlearn: 3.6221872\ttest: 6.2937125\tbest: 6.2802460 (603)\ttotal: 1.26s\tremaining: 96.5ms\n",
            "929:\tlearn: 3.6205197\ttest: 6.2936084\tbest: 6.2802460 (603)\ttotal: 1.26s\tremaining: 95.1ms\n",
            "930:\tlearn: 3.6181037\ttest: 6.2921706\tbest: 6.2802460 (603)\ttotal: 1.26s\tremaining: 93.8ms\n",
            "931:\tlearn: 3.6175306\ttest: 6.2922672\tbest: 6.2802460 (603)\ttotal: 1.27s\tremaining: 92.4ms\n",
            "932:\tlearn: 3.6166486\ttest: 6.2921664\tbest: 6.2802460 (603)\ttotal: 1.27s\tremaining: 91ms\n",
            "933:\tlearn: 3.6152538\ttest: 6.2933143\tbest: 6.2802460 (603)\ttotal: 1.27s\tremaining: 89.6ms\n",
            "934:\tlearn: 3.6141571\ttest: 6.2926376\tbest: 6.2802460 (603)\ttotal: 1.27s\tremaining: 88.2ms\n",
            "935:\tlearn: 3.6127650\ttest: 6.2899414\tbest: 6.2802460 (603)\ttotal: 1.27s\tremaining: 86.9ms\n",
            "936:\tlearn: 3.6115521\ttest: 6.2900346\tbest: 6.2802460 (603)\ttotal: 1.27s\tremaining: 85.5ms\n",
            "937:\tlearn: 3.6090520\ttest: 6.2896970\tbest: 6.2802460 (603)\ttotal: 1.27s\tremaining: 84.1ms\n",
            "938:\tlearn: 3.6081042\ttest: 6.2890945\tbest: 6.2802460 (603)\ttotal: 1.27s\tremaining: 82.8ms\n",
            "939:\tlearn: 3.6057337\ttest: 6.2904936\tbest: 6.2802460 (603)\ttotal: 1.27s\tremaining: 81.4ms\n",
            "940:\tlearn: 3.6035634\ttest: 6.2897114\tbest: 6.2802460 (603)\ttotal: 1.28s\tremaining: 80ms\n",
            "941:\tlearn: 3.6029683\ttest: 6.2897258\tbest: 6.2802460 (603)\ttotal: 1.28s\tremaining: 78.6ms\n",
            "942:\tlearn: 3.6018929\ttest: 6.2882861\tbest: 6.2802460 (603)\ttotal: 1.28s\tremaining: 77.3ms\n",
            "943:\tlearn: 3.5998714\ttest: 6.2889543\tbest: 6.2802460 (603)\ttotal: 1.28s\tremaining: 75.9ms\n",
            "944:\tlearn: 3.5990016\ttest: 6.2907344\tbest: 6.2802460 (603)\ttotal: 1.28s\tremaining: 74.5ms\n",
            "945:\tlearn: 3.5983798\ttest: 6.2904514\tbest: 6.2802460 (603)\ttotal: 1.28s\tremaining: 73.2ms\n",
            "946:\tlearn: 3.5973988\ttest: 6.2907997\tbest: 6.2802460 (603)\ttotal: 1.28s\tremaining: 71.8ms\n",
            "947:\tlearn: 3.5958152\ttest: 6.2903538\tbest: 6.2802460 (603)\ttotal: 1.28s\tremaining: 70.4ms\n",
            "948:\tlearn: 3.5943591\ttest: 6.2903218\tbest: 6.2802460 (603)\ttotal: 1.28s\tremaining: 69.1ms\n",
            "949:\tlearn: 3.5936056\ttest: 6.2898895\tbest: 6.2802460 (603)\ttotal: 1.29s\tremaining: 67.7ms\n",
            "950:\tlearn: 3.5929871\ttest: 6.2902225\tbest: 6.2802460 (603)\ttotal: 1.29s\tremaining: 66.4ms\n",
            "951:\tlearn: 3.5928721\ttest: 6.2900639\tbest: 6.2802460 (603)\ttotal: 1.29s\tremaining: 65ms\n",
            "952:\tlearn: 3.5926583\ttest: 6.2899179\tbest: 6.2802460 (603)\ttotal: 1.29s\tremaining: 63.6ms\n",
            "953:\tlearn: 3.5914957\ttest: 6.2883777\tbest: 6.2802460 (603)\ttotal: 1.29s\tremaining: 62.2ms\n",
            "954:\tlearn: 3.5912670\ttest: 6.2884787\tbest: 6.2802460 (603)\ttotal: 1.29s\tremaining: 60.9ms\n",
            "955:\tlearn: 3.5904268\ttest: 6.2880834\tbest: 6.2802460 (603)\ttotal: 1.29s\tremaining: 59.5ms\n",
            "956:\tlearn: 3.5896784\ttest: 6.2879703\tbest: 6.2802460 (603)\ttotal: 1.29s\tremaining: 58.2ms\n",
            "957:\tlearn: 3.5888638\ttest: 6.2886067\tbest: 6.2802460 (603)\ttotal: 1.29s\tremaining: 56.8ms\n",
            "958:\tlearn: 3.5876758\ttest: 6.2894972\tbest: 6.2802460 (603)\ttotal: 1.3s\tremaining: 55.4ms\n",
            "959:\tlearn: 3.5863858\ttest: 6.2910464\tbest: 6.2802460 (603)\ttotal: 1.3s\tremaining: 54.1ms\n",
            "960:\tlearn: 3.5856894\ttest: 6.2909831\tbest: 6.2802460 (603)\ttotal: 1.3s\tremaining: 52.7ms\n",
            "961:\tlearn: 3.5832564\ttest: 6.2913416\tbest: 6.2802460 (603)\ttotal: 1.3s\tremaining: 51.3ms\n",
            "962:\tlearn: 3.5819217\ttest: 6.2903701\tbest: 6.2802460 (603)\ttotal: 1.3s\tremaining: 50ms\n",
            "963:\tlearn: 3.5812687\ttest: 6.2897967\tbest: 6.2802460 (603)\ttotal: 1.3s\tremaining: 48.6ms\n",
            "964:\tlearn: 3.5807032\ttest: 6.2896192\tbest: 6.2802460 (603)\ttotal: 1.3s\tremaining: 47.3ms\n",
            "965:\tlearn: 3.5799958\ttest: 6.2900266\tbest: 6.2802460 (603)\ttotal: 1.3s\tremaining: 45.9ms\n",
            "966:\tlearn: 3.5785048\ttest: 6.2898956\tbest: 6.2802460 (603)\ttotal: 1.3s\tremaining: 44.6ms\n",
            "967:\tlearn: 3.5781690\ttest: 6.2897658\tbest: 6.2802460 (603)\ttotal: 1.31s\tremaining: 43.2ms\n",
            "968:\tlearn: 3.5770102\ttest: 6.2894179\tbest: 6.2802460 (603)\ttotal: 1.31s\tremaining: 41.8ms\n",
            "969:\tlearn: 3.5749648\ttest: 6.2900862\tbest: 6.2802460 (603)\ttotal: 1.31s\tremaining: 40.5ms\n",
            "970:\tlearn: 3.5733914\ttest: 6.2901748\tbest: 6.2802460 (603)\ttotal: 1.31s\tremaining: 39.1ms\n",
            "971:\tlearn: 3.5729561\ttest: 6.2902387\tbest: 6.2802460 (603)\ttotal: 1.31s\tremaining: 37.8ms\n",
            "972:\tlearn: 3.5725498\ttest: 6.2902319\tbest: 6.2802460 (603)\ttotal: 1.31s\tremaining: 36.4ms\n",
            "973:\tlearn: 3.5719859\ttest: 6.2902712\tbest: 6.2802460 (603)\ttotal: 1.31s\tremaining: 35.1ms\n",
            "974:\tlearn: 3.5710169\ttest: 6.2891284\tbest: 6.2802460 (603)\ttotal: 1.31s\tremaining: 33.7ms\n",
            "975:\tlearn: 3.5704957\ttest: 6.2892569\tbest: 6.2802460 (603)\ttotal: 1.32s\tremaining: 32.4ms\n",
            "976:\tlearn: 3.5700711\ttest: 6.2893352\tbest: 6.2802460 (603)\ttotal: 1.32s\tremaining: 31ms\n",
            "977:\tlearn: 3.5692289\ttest: 6.2896856\tbest: 6.2802460 (603)\ttotal: 1.32s\tremaining: 29.6ms\n",
            "978:\tlearn: 3.5678686\ttest: 6.2892244\tbest: 6.2802460 (603)\ttotal: 1.32s\tremaining: 28.3ms\n",
            "979:\tlearn: 3.5672934\ttest: 6.2897643\tbest: 6.2802460 (603)\ttotal: 1.32s\tremaining: 26.9ms\n",
            "980:\tlearn: 3.5655836\ttest: 6.2892934\tbest: 6.2802460 (603)\ttotal: 1.32s\tremaining: 25.6ms\n",
            "981:\tlearn: 3.5637133\ttest: 6.2895188\tbest: 6.2802460 (603)\ttotal: 1.32s\tremaining: 24.2ms\n",
            "982:\tlearn: 3.5626828\ttest: 6.2895296\tbest: 6.2802460 (603)\ttotal: 1.32s\tremaining: 22.9ms\n",
            "983:\tlearn: 3.5607075\ttest: 6.2894693\tbest: 6.2802460 (603)\ttotal: 1.32s\tremaining: 21.5ms\n",
            "984:\tlearn: 3.5591308\ttest: 6.2896048\tbest: 6.2802460 (603)\ttotal: 1.32s\tremaining: 20.2ms\n",
            "985:\tlearn: 3.5579607\ttest: 6.2887591\tbest: 6.2802460 (603)\ttotal: 1.33s\tremaining: 18.8ms\n",
            "986:\tlearn: 3.5566497\ttest: 6.2874656\tbest: 6.2802460 (603)\ttotal: 1.33s\tremaining: 17.5ms\n",
            "987:\tlearn: 3.5559857\ttest: 6.2871959\tbest: 6.2802460 (603)\ttotal: 1.33s\tremaining: 16.1ms\n",
            "988:\tlearn: 3.5552738\ttest: 6.2871225\tbest: 6.2802460 (603)\ttotal: 1.33s\tremaining: 14.8ms\n",
            "989:\tlearn: 3.5543537\ttest: 6.2871645\tbest: 6.2802460 (603)\ttotal: 1.33s\tremaining: 13.4ms\n",
            "990:\tlearn: 3.5536940\ttest: 6.2874556\tbest: 6.2802460 (603)\ttotal: 1.33s\tremaining: 12.1ms\n",
            "991:\tlearn: 3.5525525\ttest: 6.2877068\tbest: 6.2802460 (603)\ttotal: 1.33s\tremaining: 10.7ms\n",
            "992:\tlearn: 3.5517250\ttest: 6.2883067\tbest: 6.2802460 (603)\ttotal: 1.33s\tremaining: 9.4ms\n",
            "993:\tlearn: 3.5505046\ttest: 6.2888160\tbest: 6.2802460 (603)\ttotal: 1.33s\tremaining: 8.06ms\n",
            "994:\tlearn: 3.5487756\ttest: 6.2891363\tbest: 6.2802460 (603)\ttotal: 1.33s\tremaining: 6.71ms\n",
            "995:\tlearn: 3.5475624\ttest: 6.2886373\tbest: 6.2802460 (603)\ttotal: 1.34s\tremaining: 5.37ms\n",
            "996:\tlearn: 3.5472854\ttest: 6.2885674\tbest: 6.2802460 (603)\ttotal: 1.34s\tremaining: 4.03ms\n",
            "997:\tlearn: 3.5471516\ttest: 6.2888231\tbest: 6.2802460 (603)\ttotal: 1.34s\tremaining: 2.68ms\n",
            "998:\tlearn: 3.5454223\ttest: 6.2886510\tbest: 6.2802460 (603)\ttotal: 1.34s\tremaining: 1.34ms\n",
            "999:\tlearn: 3.5443890\ttest: 6.2879883\tbest: 6.2802460 (603)\ttotal: 1.34s\tremaining: 0us\n",
            "\n",
            "bestTest = 6.280246025\n",
            "bestIteration = 603\n",
            "\n",
            "Shrink model to first 604 iterations.\n",
            "CPU times: user 11 s, sys: 1.99 s, total: 13 s\n",
            "Wall time: 1.83 s\n"
          ]
        }
      ],
      "source": [
        "%%time\n",
        "start = time.time()\n",
        "\n",
        "cbr_model = CatBoostRegressor(eval_metric='MAE', loss_function='MAE')\n",
        "\n",
        "cbr_model.fit(features_train, target_train, eval_set=(features_test, target_test))\n",
        "\n",
        "end = time.time()\n",
        "cbr_fit_time = end - start  "
      ]
    },
    {
      "cell_type": "code",
      "execution_count": null,
      "metadata": {
        "id": "qQww8pR-cVAt"
      },
      "outputs": [],
      "source": [
        "predictions_valid = cbr_model.predict(features_test)"
      ]
    },
    {
      "cell_type": "code",
      "execution_count": null,
      "metadata": {
        "id": "3z9hWvhgcVAt"
      },
      "outputs": [],
      "source": [
        "cbr_mae = mean_absolute_error(target_test, predictions_valid)"
      ]
    },
    {
      "cell_type": "code",
      "execution_count": null,
      "metadata": {
        "id": "OmBm4SfuVAZ-",
        "outputId": "f78032cb-2d17-4d7d-f189-b40bdbf5dfb7"
      },
      "outputs": [
        {
          "data": {
            "text/plain": [
              "6.2802470253506915"
            ]
          },
          "execution_count": 155,
          "metadata": {},
          "output_type": "execute_result"
        }
      ],
      "source": [
        "cbr_mae"
      ]
    },
    {
      "cell_type": "markdown",
      "metadata": {
        "id": "yU0sIhqxnKjD"
      },
      "source": [
        "## Анализ моделей"
      ]
    },
    {
      "cell_type": "markdown",
      "metadata": {
        "id": "HCVhIXz-iLi9"
      },
      "source": [
        "### Вывод результатов моделирования"
      ]
    },
    {
      "cell_type": "markdown",
      "metadata": {
        "id": "owQI9IzaiLi9"
      },
      "source": [
        "Составим таблицу с результатами обучения (добавим метрику и время обучения)"
      ]
    },
    {
      "cell_type": "code",
      "execution_count": null,
      "metadata": {
        "id": "_nGPVgYoiLi9"
      },
      "outputs": [],
      "source": [
        "model_results = {\n",
        "                'MAE_score': [dummy_mae, lr_mae, gbr_mae, rfr_mae, xgbr_mae, lgbm_mae, cbr_mae],\n",
        "                'fit_time, sec': [dummy_fit_time, lr_fit_time, gbr_fit_time, \n",
        "                                  rfr_fit_time, xgbr_fit_time, lgbm_fit_time, cbr_fit_time]\n",
        "                 }"
      ]
    },
    {
      "cell_type": "code",
      "execution_count": null,
      "metadata": {
        "id": "ubmwjH-IiLi9"
      },
      "outputs": [],
      "source": [
        "results = pd.DataFrame(data=model_results, index=('DummyRegressor', 'LinearRegression', 'GradientBoostingRegressor',\n",
        "                                                  'RandomForestRegressor', 'XGBRegressor', 'LGBMRegressor',\n",
        "                                                 'CatBoostRegressor'))"
      ]
    },
    {
      "cell_type": "code",
      "execution_count": null,
      "metadata": {
        "id": "nYQ-VLAMiLi9",
        "outputId": "2c26f3b1-b073-43e0-9339-23d3cf24b055"
      },
      "outputs": [
        {
          "data": {
            "text/html": [
              "<div>\n",
              "<style scoped>\n",
              "    .dataframe tbody tr th:only-of-type {\n",
              "        vertical-align: middle;\n",
              "    }\n",
              "\n",
              "    .dataframe tbody tr th {\n",
              "        vertical-align: top;\n",
              "    }\n",
              "\n",
              "    .dataframe thead th {\n",
              "        text-align: right;\n",
              "    }\n",
              "</style>\n",
              "<table border=\"1\" class=\"dataframe\">\n",
              "  <thead>\n",
              "    <tr style=\"text-align: right;\">\n",
              "      <th></th>\n",
              "      <th>MAE_score</th>\n",
              "      <th>fit_time, sec</th>\n",
              "    </tr>\n",
              "  </thead>\n",
              "  <tbody>\n",
              "    <tr>\n",
              "      <th>CatBoostRegressor</th>\n",
              "      <td>6.280247</td>\n",
              "      <td>1.827675</td>\n",
              "    </tr>\n",
              "    <tr>\n",
              "      <th>RandomForestRegressor</th>\n",
              "      <td>6.389748</td>\n",
              "      <td>30.483586</td>\n",
              "    </tr>\n",
              "    <tr>\n",
              "      <th>LGBMRegressor</th>\n",
              "      <td>6.499022</td>\n",
              "      <td>8.309704</td>\n",
              "    </tr>\n",
              "    <tr>\n",
              "      <th>XGBRegressor</th>\n",
              "      <td>6.548771</td>\n",
              "      <td>1.713296</td>\n",
              "    </tr>\n",
              "    <tr>\n",
              "      <th>GradientBoostingRegressor</th>\n",
              "      <td>6.855304</td>\n",
              "      <td>12.737662</td>\n",
              "    </tr>\n",
              "    <tr>\n",
              "      <th>LinearRegression</th>\n",
              "      <td>6.878715</td>\n",
              "      <td>0.003785</td>\n",
              "    </tr>\n",
              "    <tr>\n",
              "      <th>DummyRegressor</th>\n",
              "      <td>7.648837</td>\n",
              "      <td>0.000873</td>\n",
              "    </tr>\n",
              "  </tbody>\n",
              "</table>\n",
              "</div>"
            ],
            "text/plain": [
              "                           MAE_score  fit_time, sec\n",
              "CatBoostRegressor           6.280247       1.827675\n",
              "RandomForestRegressor       6.389748      30.483586\n",
              "LGBMRegressor               6.499022       8.309704\n",
              "XGBRegressor                6.548771       1.713296\n",
              "GradientBoostingRegressor   6.855304      12.737662\n",
              "LinearRegression            6.878715       0.003785\n",
              "DummyRegressor              7.648837       0.000873"
            ]
          },
          "execution_count": 158,
          "metadata": {},
          "output_type": "execute_result"
        }
      ],
      "source": [
        "results.sort_values(by='MAE_score')"
      ]
    },
    {
      "cell_type": "markdown",
      "metadata": {
        "id": "R9MjjVu4iLi-"
      },
      "source": [
        "### Важность признаков"
      ]
    },
    {
      "cell_type": "markdown",
      "metadata": {
        "id": "H1e5V9vgiLi-"
      },
      "source": [
        "Определим функцию для построения графика вжаности признаков:"
      ]
    },
    {
      "cell_type": "code",
      "execution_count": null,
      "metadata": {
        "id": "r8J8lmN9iLi-"
      },
      "outputs": [],
      "source": [
        "def plot_feature_importance(importance,names,model_type):\n",
        "    \n",
        "    #Create arrays from feature importance and feature names\n",
        "    feature_importance = np.array(importance)\n",
        "    feature_names = np.array(names)\n",
        "    \n",
        "    #Create a DataFrame using a Dictionary\n",
        "    data={'feature_names':feature_names,'feature_importance':feature_importance}\n",
        "    fi_df = pd.DataFrame(data)\n",
        "    \n",
        "    #Sort the DataFrame in order decreasing feature importance\n",
        "    fi_df.sort_values(by=['feature_importance'], ascending=False,inplace=True)\n",
        "    \n",
        "    #Define size of bar plot\n",
        "    plt.figure(figsize=(10, 5))\n",
        "    #Plot Searborn bar chart\n",
        "    sns.barplot(x=fi_df['feature_importance'], y=fi_df['feature_names'])\n",
        "    #Add chart labels\n",
        "    plt.title(model_type + 'FEATURE IMPORTANCE')\n",
        "    plt.grid(color='grey', axis='both', alpha=.6)\n",
        "    plt.xlabel('FEATURE IMPORTANCE')\n",
        "    plt.ylabel('FEATURE NAMES')"
      ]
    },
    {
      "cell_type": "markdown",
      "metadata": {
        "id": "8n6GfusjiLi-"
      },
      "source": [
        "Посмотрим на важность признаков для CatBoostRegressor и для XGBRegressor (наши две топ-2 модели):"
      ]
    },
    {
      "cell_type": "code",
      "execution_count": null,
      "metadata": {
        "id": "eNhr1yOYiLi-",
        "scrolled": true,
        "outputId": "faf73bb8-52dd-4ce3-a54d-e896629eabe4"
      },
      "outputs": [
        {
          "data": {
            "image/png": "[encoded data removed]",
            "text/plain": [
              "<Figure size 720x360 with 1 Axes>"
            ]
          },
          "metadata": {
            "needs_background": "light"
          },
          "output_type": "display_data"
        }
      ],
      "source": [
        "plot_feature_importance(cbr_model.get_feature_importance(),features.columns,'CATBOOST ')"
      ]
    },
    {
      "cell_type": "code",
      "execution_count": null,
      "metadata": {
        "id": "SHHlT32QiLi-",
        "outputId": "14fb5259-3532-4231-dc84-68169083dbcf"
      },
      "outputs": [
        {
          "data": {
            "image/png": "[encoded data removed]",
            "text/plain": [
              "<Figure size 720x360 with 1 Axes>"
            ]
          },
          "metadata": {
            "needs_background": "light"
          },
          "output_type": "display_data"
        }
      ],
      "source": [
        "plot_feature_importance(xgbr_model.feature_importances_,features.columns,'XGBR ')"
      ]
    },
    {
      "cell_type": "markdown",
      "metadata": {
        "id": "ws2tcYEFiLi_"
      },
      "source": [
        "## Вывод"
      ]
    },
    {
      "cell_type": "markdown",
      "metadata": {
        "id": "5VtyQpEeiLi_"
      },
      "source": [
        "В ходе работы была проведена предобработка данных, объеденения данных в один DataFrame.  \n",
        "Обучены модели, с лучше метрикой MAE у CatBoostRegressor `6.28`. Наиболее важные признаки для модели CatBoostReegressor, это первая температура замера, энергия, проволока Wire 1 и сыпучий материал Bulk 12."
      ]
    },
    {
      "cell_type": "markdown",
      "source": [
        "## Отчёт по решению"
      ],
      "metadata": {
        "id": "3GcuskGuVAaA"
      }
    },
    {
      "cell_type": "markdown",
      "source": [
        "### Выполнение пунктов плана проекта"
      ],
      "metadata": {
        "id": "amSC4cKoVGBE"
      }
    },
    {
      "cell_type": "markdown",
      "source": [
        "Согласно плана:\n",
        "- изучены данные;\n",
        "- проведено деление на обучающую и тренировочную выборки, с выделение целевого атрибута;  \n",
        "- обучены 7 моделей;\n",
        "- выполнено оформление проекта."
      ],
      "metadata": {
        "id": "NtoouUb1VF_n"
      }
    },
    {
      "cell_type": "markdown",
      "source": [
        "### Трудности при выполнении проекта"
      ],
      "metadata": {
        "id": "gZzGnTjSVF9_"
      }
    },
    {
      "cell_type": "markdown",
      "source": [
        "Понимание технологического процесса, важности присадок в виде сыпучих материалов и проволоки. Считаю, недостатчным проработку создания новых признаков."
      ],
      "metadata": {
        "id": "hsY9XKCbVF5j"
      }
    },
    {
      "cell_type": "markdown",
      "source": [
        "### Ключевые шаги в решении задачи"
      ],
      "metadata": {
        "id": "2xCnamPEVF1e"
      }
    },
    {
      "cell_type": "markdown",
      "source": [
        "- Исследовательский анализ данных, с изучением не только самих данных, а также поверхностное понимание технологического процесса.\n",
        "- Выделение целевого признака, обучение модели и предсказание на ней.\n",
        "- Определение лучшей модели исходя из самой низкой метрики MAE равной `6.28`, которая получена на модели `CatBoostRegressor`.\n",
        "- Показаны наиболее \n",
        "\n",
        "1. Понимание технологического процесса изготовления стали.\n",
        "2. Анализ данных на предмет их корректности и необходимости правок.\n",
        "3. Установить целевой признак и набор признаков для обучения/ предсказания модели. Сформировать итоговую таблицу признаков. Провести проверку признаков на корреляцию.\n",
        "4. Обучение и предсказание температуры стали на выбранных моделях (оценка по метрике MAE). Построен график 'feature_importances_' для лучшей модели."
      ],
      "metadata": {
        "id": "D1EQAbIAX6mU"
      }
    },
    {
      "cell_type": "markdown",
      "source": [
        "### Анализ итоговой модели"
      ],
      "metadata": {
        "id": "Xq7FSW69X6k6"
      }
    },
    {
      "cell_type": "markdown",
      "source": [
        "Лучше метрика MAE равная 6.28 получена на модели CatBoostRegressor со стандартными гиперпарамтерами и настройками, при этом она удовлетворяет требованиям к метрике."
      ],
      "metadata": {
        "id": "DrpVRQoEX6jK"
      }
    },
    {
      "cell_type": "code",
      "source": [
        ""
      ],
      "metadata": {
        "id": "TwnhgyR8X6eg"
      },
      "execution_count": null,
      "outputs": []
    }
  ],
  "metadata": {
    "ExecuteTimeLog": [
      {
        "duration": 1515,
        "start_time": "2022-06-29T23:00:10.032Z"
      },
      {
        "duration": 0,
        "start_time": "2022-06-29T23:00:11.551Z"
      },
      {
        "duration": 0,
        "start_time": "2022-06-29T23:00:11.553Z"
      },
      {
        "duration": 1,
        "start_time": "2022-06-29T23:00:11.554Z"
      },
      {
        "duration": 13,
        "start_time": "2022-06-29T23:00:12.268Z"
      },
      {
        "duration": 4,
        "start_time": "2022-06-29T23:00:19.759Z"
      },
      {
        "duration": 51,
        "start_time": "2022-06-29T23:00:24.018Z"
      },
      {
        "duration": 14,
        "start_time": "2022-06-29T23:00:24.633Z"
      },
      {
        "duration": 19,
        "start_time": "2022-06-29T23:00:24.967Z"
      },
      {
        "duration": 24,
        "start_time": "2022-06-29T23:00:25.843Z"
      },
      {
        "duration": 3,
        "start_time": "2022-06-29T23:00:29.672Z"
      },
      {
        "duration": 92,
        "start_time": "2022-06-29T23:00:29.914Z"
      },
      {
        "duration": 7,
        "start_time": "2022-06-29T23:00:30.442Z"
      },
      {
        "duration": 6,
        "start_time": "2022-06-29T23:00:31.098Z"
      },
      {
        "duration": 5,
        "start_time": "2022-06-29T23:00:32.302Z"
      },
      {
        "duration": 5,
        "start_time": "2022-06-29T23:00:32.994Z"
      },
      {
        "duration": 15,
        "start_time": "2022-06-29T23:00:33.753Z"
      },
      {
        "duration": 3859,
        "start_time": "2022-07-05T06:39:37.092Z"
      },
      {
        "duration": 3,
        "start_time": "2022-07-05T06:39:40.953Z"
      },
      {
        "duration": 140,
        "start_time": "2022-07-05T06:39:40.957Z"
      },
      {
        "duration": 18,
        "start_time": "2022-07-05T06:39:41.099Z"
      },
      {
        "duration": 17,
        "start_time": "2022-07-05T06:39:41.241Z"
      },
      {
        "duration": 18,
        "start_time": "2022-07-05T06:39:41.474Z"
      },
      {
        "duration": 3,
        "start_time": "2022-07-05T06:39:41.992Z"
      },
      {
        "duration": 98,
        "start_time": "2022-07-05T06:39:42.127Z"
      },
      {
        "duration": 5,
        "start_time": "2022-07-05T06:39:42.479Z"
      },
      {
        "duration": 5,
        "start_time": "2022-07-05T06:39:42.664Z"
      },
      {
        "duration": 5,
        "start_time": "2022-07-05T06:39:42.817Z"
      },
      {
        "duration": 5,
        "start_time": "2022-07-05T06:39:43.009Z"
      },
      {
        "duration": 6,
        "start_time": "2022-07-05T06:39:43.388Z"
      },
      {
        "duration": 5,
        "start_time": "2022-07-05T06:39:43.705Z"
      },
      {
        "duration": 6,
        "start_time": "2022-07-05T06:39:43.900Z"
      },
      {
        "duration": 643,
        "start_time": "2022-07-05T06:39:44.384Z"
      },
      {
        "duration": 162,
        "start_time": "2022-07-05T06:39:45.030Z"
      },
      {
        "duration": 6,
        "start_time": "2022-07-05T06:39:45.233Z"
      },
      {
        "duration": 593,
        "start_time": "2022-07-05T06:39:45.727Z"
      },
      {
        "duration": 171,
        "start_time": "2022-07-05T06:39:46.323Z"
      },
      {
        "duration": 5,
        "start_time": "2022-07-05T06:39:46.496Z"
      },
      {
        "duration": 381,
        "start_time": "2022-07-05T06:39:46.549Z"
      },
      {
        "duration": 7,
        "start_time": "2022-07-05T06:39:46.932Z"
      },
      {
        "duration": 12,
        "start_time": "2022-07-05T06:39:47.223Z"
      },
      {
        "duration": 11,
        "start_time": "2022-07-05T06:39:47.568Z"
      },
      {
        "duration": 431,
        "start_time": "2022-07-05T06:39:47.925Z"
      },
      {
        "duration": 130,
        "start_time": "2022-07-05T06:39:48.358Z"
      },
      {
        "duration": 5,
        "start_time": "2022-07-05T06:39:48.490Z"
      },
      {
        "duration": 6,
        "start_time": "2022-07-05T06:39:49.025Z"
      },
      {
        "duration": 4,
        "start_time": "2022-07-05T06:39:49.443Z"
      },
      {
        "duration": 11,
        "start_time": "2022-07-05T06:39:49.696Z"
      },
      {
        "duration": 55,
        "start_time": "2022-07-05T06:39:50.408Z"
      },
      {
        "duration": 4,
        "start_time": "2022-07-05T06:39:52.512Z"
      },
      {
        "duration": 8,
        "start_time": "2022-07-05T06:39:52.718Z"
      },
      {
        "duration": 19,
        "start_time": "2022-07-05T06:39:55.605Z"
      },
      {
        "duration": 12,
        "start_time": "2022-07-05T06:39:55.768Z"
      },
      {
        "duration": 59,
        "start_time": "2022-07-05T06:39:55.966Z"
      },
      {
        "duration": 4,
        "start_time": "2022-07-05T06:39:56.418Z"
      },
      {
        "duration": 5,
        "start_time": "2022-07-05T06:39:56.572Z"
      },
      {
        "duration": 4,
        "start_time": "2022-07-05T06:39:56.760Z"
      },
      {
        "duration": 5,
        "start_time": "2022-07-05T06:39:57.542Z"
      },
      {
        "duration": 7,
        "start_time": "2022-07-05T06:39:57.898Z"
      },
      {
        "duration": 5,
        "start_time": "2022-07-05T06:39:58.230Z"
      },
      {
        "duration": 12,
        "start_time": "2022-07-05T06:39:58.388Z"
      },
      {
        "duration": 15,
        "start_time": "2022-07-05T06:39:59.386Z"
      },
      {
        "duration": 15,
        "start_time": "2022-07-05T06:39:59.584Z"
      },
      {
        "duration": 9,
        "start_time": "2022-07-05T06:40:00.343Z"
      },
      {
        "duration": 4,
        "start_time": "2022-07-05T06:40:00.558Z"
      },
      {
        "duration": 68,
        "start_time": "2022-07-05T06:40:01.157Z"
      },
      {
        "duration": 5,
        "start_time": "2022-07-05T06:40:01.515Z"
      },
      {
        "duration": 12,
        "start_time": "2022-07-05T06:40:02.976Z"
      },
      {
        "duration": 11,
        "start_time": "2022-07-05T06:40:03.166Z"
      },
      {
        "duration": 4,
        "start_time": "2022-07-05T06:40:03.517Z"
      },
      {
        "duration": 6,
        "start_time": "2022-07-05T06:40:03.691Z"
      },
      {
        "duration": 4,
        "start_time": "2022-07-05T06:40:04.157Z"
      },
      {
        "duration": 6,
        "start_time": "2022-07-05T06:40:04.513Z"
      },
      {
        "duration": 5,
        "start_time": "2022-07-05T06:40:04.688Z"
      },
      {
        "duration": 10,
        "start_time": "2022-07-05T06:40:04.861Z"
      },
      {
        "duration": 13,
        "start_time": "2022-07-05T06:40:05.835Z"
      },
      {
        "duration": 18,
        "start_time": "2022-07-05T06:40:06.021Z"
      },
      {
        "duration": 10,
        "start_time": "2022-07-05T06:40:06.569Z"
      },
      {
        "duration": 4,
        "start_time": "2022-07-05T06:40:06.968Z"
      },
      {
        "duration": 51,
        "start_time": "2022-07-05T06:40:07.331Z"
      },
      {
        "duration": 6,
        "start_time": "2022-07-05T06:40:07.491Z"
      },
      {
        "duration": 9,
        "start_time": "2022-07-05T06:40:08.625Z"
      },
      {
        "duration": 10,
        "start_time": "2022-07-05T06:40:08.841Z"
      },
      {
        "duration": 4,
        "start_time": "2022-07-05T06:40:09.195Z"
      },
      {
        "duration": 270,
        "start_time": "2022-07-05T06:40:09.391Z"
      },
      {
        "duration": 6,
        "start_time": "2022-07-05T06:40:09.663Z"
      },
      {
        "duration": 8,
        "start_time": "2022-07-05T06:40:09.900Z"
      },
      {
        "duration": 11,
        "start_time": "2022-07-05T06:40:12.017Z"
      },
      {
        "duration": 13,
        "start_time": "2022-07-05T06:40:12.165Z"
      },
      {
        "duration": 4,
        "start_time": "2022-07-05T06:40:12.550Z"
      },
      {
        "duration": 53,
        "start_time": "2022-07-05T06:40:12.722Z"
      },
      {
        "duration": 22,
        "start_time": "2022-07-05T06:40:13.643Z"
      },
      {
        "duration": 7,
        "start_time": "2022-07-05T06:40:13.828Z"
      },
      {
        "duration": 5,
        "start_time": "2022-07-05T06:40:14.017Z"
      },
      {
        "duration": 17,
        "start_time": "2022-07-05T06:40:14.359Z"
      },
      {
        "duration": 8,
        "start_time": "2022-07-05T06:40:14.551Z"
      },
      {
        "duration": 5,
        "start_time": "2022-07-05T06:40:14.729Z"
      },
      {
        "duration": 7,
        "start_time": "2022-07-05T06:40:15.097Z"
      },
      {
        "duration": 20,
        "start_time": "2022-07-05T06:40:15.449Z"
      },
      {
        "duration": 13,
        "start_time": "2022-07-05T06:40:15.981Z"
      },
      {
        "duration": 11,
        "start_time": "2022-07-05T06:40:16.345Z"
      },
      {
        "duration": 6,
        "start_time": "2022-07-05T06:40:16.718Z"
      },
      {
        "duration": 1050,
        "start_time": "2022-07-05T06:40:17.557Z"
      },
      {
        "duration": 121,
        "start_time": "2022-07-05T06:40:18.609Z"
      },
      {
        "duration": 8,
        "start_time": "2022-07-05T06:40:18.731Z"
      },
      {
        "duration": 14,
        "start_time": "2022-07-05T06:40:18.740Z"
      },
      {
        "duration": 86,
        "start_time": "2022-07-05T06:40:18.812Z"
      },
      {
        "duration": 936,
        "start_time": "2022-07-05T06:40:19.211Z"
      },
      {
        "duration": 129,
        "start_time": "2022-07-05T06:40:20.282Z"
      },
      {
        "duration": 7,
        "start_time": "2022-07-05T06:40:21.257Z"
      },
      {
        "duration": 6,
        "start_time": "2022-07-05T06:40:21.423Z"
      },
      {
        "duration": 7,
        "start_time": "2022-07-05T06:40:21.637Z"
      },
      {
        "duration": 474,
        "start_time": "2022-07-05T06:40:21.821Z"
      },
      {
        "duration": 111,
        "start_time": "2022-07-05T06:40:22.297Z"
      },
      {
        "duration": 17,
        "start_time": "2022-07-05T06:40:22.410Z"
      },
      {
        "duration": 8,
        "start_time": "2022-07-05T06:40:22.594Z"
      },
      {
        "duration": 6,
        "start_time": "2022-07-05T06:40:23.036Z"
      },
      {
        "duration": 5,
        "start_time": "2022-07-05T06:40:23.543Z"
      },
      {
        "duration": 17,
        "start_time": "2022-07-05T06:40:25.311Z"
      },
      {
        "duration": 4,
        "start_time": "2022-07-05T06:40:25.942Z"
      },
      {
        "duration": 12,
        "start_time": "2022-07-05T06:40:26.192Z"
      },
      {
        "duration": 6,
        "start_time": "2022-07-05T06:40:26.687Z"
      },
      {
        "duration": 5,
        "start_time": "2022-07-05T06:40:27.042Z"
      },
      {
        "duration": 32,
        "start_time": "2022-07-05T06:40:27.347Z"
      },
      {
        "duration": 4,
        "start_time": "2022-07-05T06:40:28.474Z"
      },
      {
        "duration": 12,
        "start_time": "2022-07-05T06:40:28.923Z"
      },
      {
        "duration": 3,
        "start_time": "2022-07-05T06:43:11.437Z"
      },
      {
        "duration": 25,
        "start_time": "2022-07-05T06:43:11.950Z"
      },
      {
        "duration": 21,
        "start_time": "2022-07-05T06:43:13.073Z"
      },
      {
        "duration": 7,
        "start_time": "2022-07-05T06:43:20.436Z"
      },
      {
        "duration": 21,
        "start_time": "2022-07-05T06:43:26.401Z"
      },
      {
        "duration": 7,
        "start_time": "2022-07-05T06:43:28.339Z"
      },
      {
        "duration": 6,
        "start_time": "2022-07-05T06:44:11.256Z"
      },
      {
        "duration": 6,
        "start_time": "2022-07-05T06:44:12.254Z"
      },
      {
        "duration": 59,
        "start_time": "2022-07-05T06:44:13.829Z"
      },
      {
        "duration": 4,
        "start_time": "2022-07-05T06:44:43.593Z"
      },
      {
        "duration": 13,
        "start_time": "2022-07-05T06:46:49.106Z"
      },
      {
        "duration": 11,
        "start_time": "2022-07-05T06:46:50.318Z"
      },
      {
        "duration": 11,
        "start_time": "2022-07-05T06:46:51.473Z"
      },
      {
        "duration": 15,
        "start_time": "2022-07-05T06:46:53.131Z"
      },
      {
        "duration": 4,
        "start_time": "2022-07-05T06:46:54.813Z"
      },
      {
        "duration": 7,
        "start_time": "2022-07-05T06:46:54.970Z"
      },
      {
        "duration": 5,
        "start_time": "2022-07-05T06:46:59.197Z"
      },
      {
        "duration": 4,
        "start_time": "2022-07-05T06:47:00.219Z"
      },
      {
        "duration": 8,
        "start_time": "2022-07-05T06:47:05.212Z"
      },
      {
        "duration": 5,
        "start_time": "2022-07-05T06:47:05.832Z"
      },
      {
        "duration": 3,
        "start_time": "2022-07-05T06:47:06.640Z"
      },
      {
        "duration": 86527,
        "start_time": "2022-07-05T06:47:13.980Z"
      },
      {
        "duration": 13,
        "start_time": "2022-07-05T06:48:40.510Z"
      },
      {
        "duration": 5,
        "start_time": "2022-07-05T06:48:40.526Z"
      },
      {
        "duration": 11059,
        "start_time": "2022-07-05T06:48:40.533Z"
      },
      {
        "duration": 5,
        "start_time": "2022-07-05T06:48:51.594Z"
      },
      {
        "duration": 53,
        "start_time": "2022-07-05T06:48:51.601Z"
      }
    ],
    "colab": {
      "collapsed_sections": [],
      "name": "project_final_optimization_production_costs_reducing_energy_consumption.ipynb",
      "provenance": [],
      "toc_visible": true
    },
    "kernelspec": {
      "display_name": "Python 3 (ipykernel)",
      "language": "python",
      "name": "python3"
    },
    "language_info": {
      "codemirror_mode": {
        "name": "ipython",
        "version": 3
      },
      "file_extension": ".py",
      "mimetype": "text/x-python",
      "name": "python",
      "nbconvert_exporter": "python",
      "pygments_lexer": "ipython3",
      "version": "3.9.5"
    },
    "toc": {
      "base_numbering": 1,
      "nav_menu": {},
      "number_sections": true,
      "sideBar": true,
      "skip_h1_title": false,
      "title_cell": "Table of Contents",
      "title_sidebar": "Contents",
      "toc_cell": false,
      "toc_position": {
        "height": "calc(100% - 180px)",
        "left": "10px",
        "top": "150px",
        "width": "452px"
      },
      "toc_section_display": true,
      "toc_window_display": false
    }
  },
  "nbformat": 4,
  "nbformat_minor": 0
}