{
  "cells": [
    {
      "cell_type": "markdown",
      "metadata": {
        "id": "7I_f-O1qHu1X"
      },
      "source": [
        "# Выбор локации для скважины"
      ]
    },
    {
      "cell_type": "markdown",
      "metadata": {
        "id": "V_lWbffbH6kg"
      },
      "source": [
        "Требуется определить, где бурить новую скважину.\n",
        "\n",
        "Предоставлены пробы нефти в трёх регионах: в каждом 10 000 месторождений, где измерили качество нефти и объём её запасов.   \n",
        "Требуется модель машинного обучения, которая поможет определить регион, где добыча принесёт наибольшую прибыль.   \n",
        "Проанализировать возможную прибыль и риски техникой *Bootstrap.*\n",
        "\n",
        "  \n",
        "Шаги для выбора локации:\n",
        "\n",
        "- В избранном регионе ищут месторождения, для каждого определяют значения признаков;\n",
        "- Строят модель и оценивают объём запасов;\n",
        "- Выбирают месторождения с самым высокими оценками значений. Количество месторождений зависит от бюджета компании и стоимости разработки одной скважины;\n",
        "- Прибыль равна суммарной прибыли отобранных месторождений."
      ]
    },
    {
      "cell_type": "code",
      "execution_count": null,
      "metadata": {
        "id": "mGjI6QjjNDXq"
      },
      "outputs": [],
      "source": [
        "import pandas as pd\n",
        "import numpy as np\n",
        "from sklearn.model_selection import train_test_split\n",
        "from sklearn.linear_model import LinearRegression\n",
        "from sklearn.metrics import mean_squared_error, r2_score\n",
        "from matplotlib import pyplot as plt"
      ]
    },
    {
      "cell_type": "markdown",
      "metadata": {
        "id": "FjkVzbwmH6ia"
      },
      "source": [
        "## Загрузка и подготовка данных"
      ]
    },
    {
      "cell_type": "markdown",
      "metadata": {
        "id": "8QOOcmGKIief"
      },
      "source": [
        "**Описание данных:**  \n",
        "\n",
        "`id` — уникальный идентификатор скважины;  \n",
        "`f0`, `f1`, `f2` — три признака точек (для нашего исследования их интерпретация нек важна, но сами признаки значимы);  \n",
        "`product` — объём запасов в скважине (тыс. баррелей)"
      ]
    },
    {
      "cell_type": "markdown",
      "metadata": {
        "id": "r2SwWKB8Ry2m"
      },
      "source": [
        "Прочитаем данные с 1-ого региона:"
      ]
    },
    {
      "cell_type": "code",
      "execution_count": null,
      "metadata": {
        "id": "_BONs7baH6fV"
      },
      "outputs": [],
      "source": [
        "df_geo_0 = pd.read_csv('https://code.s3.yandex.net/datasets/geo_data_0.csv')"
      ]
    },
    {
      "cell_type": "code",
      "execution_count": null,
      "metadata": {
        "colab": {
          "base_uri": "https://localhost:8080/",
          "height": 206
        },
        "id": "GOplVM5IIihd",
        "outputId": "18ab5fcc-5698-4c0d-b010-7bb8ee4c3be0"
      },
      "outputs": [
        {
          "data": {
            "text/html": [
              "<div>\n",
              "<style scoped>\n",
              "    .dataframe tbody tr th:only-of-type {\n",
              "        vertical-align: middle;\n",
              "    }\n",
              "\n",
              "    .dataframe tbody tr th {\n",
              "        vertical-align: top;\n",
              "    }\n",
              "\n",
              "    .dataframe thead th {\n",
              "        text-align: right;\n",
              "    }\n",
              "</style>\n",
              "<table border=\"1\" class=\"dataframe\">\n",
              "  <thead>\n",
              "    <tr style=\"text-align: right;\">\n",
              "      <th></th>\n",
              "      <th>id</th>\n",
              "      <th>f0</th>\n",
              "      <th>f1</th>\n",
              "      <th>f2</th>\n",
              "      <th>product</th>\n",
              "    </tr>\n",
              "  </thead>\n",
              "  <tbody>\n",
              "    <tr>\n",
              "      <td>0</td>\n",
              "      <td>txEyH</td>\n",
              "      <td>0.705745</td>\n",
              "      <td>-0.497823</td>\n",
              "      <td>1.221170</td>\n",
              "      <td>105.280062</td>\n",
              "    </tr>\n",
              "    <tr>\n",
              "      <td>1</td>\n",
              "      <td>2acmU</td>\n",
              "      <td>1.334711</td>\n",
              "      <td>-0.340164</td>\n",
              "      <td>4.365080</td>\n",
              "      <td>73.037750</td>\n",
              "    </tr>\n",
              "    <tr>\n",
              "      <td>2</td>\n",
              "      <td>409Wp</td>\n",
              "      <td>1.022732</td>\n",
              "      <td>0.151990</td>\n",
              "      <td>1.419926</td>\n",
              "      <td>85.265647</td>\n",
              "    </tr>\n",
              "    <tr>\n",
              "      <td>3</td>\n",
              "      <td>iJLyR</td>\n",
              "      <td>-0.032172</td>\n",
              "      <td>0.139033</td>\n",
              "      <td>2.978566</td>\n",
              "      <td>168.620776</td>\n",
              "    </tr>\n",
              "    <tr>\n",
              "      <td>4</td>\n",
              "      <td>Xdl7t</td>\n",
              "      <td>1.988431</td>\n",
              "      <td>0.155413</td>\n",
              "      <td>4.751769</td>\n",
              "      <td>154.036647</td>\n",
              "    </tr>\n",
              "  </tbody>\n",
              "</table>\n",
              "</div>"
            ],
            "text/plain": [
              "      id        f0        f1        f2     product\n",
              "0  txEyH  0.705745 -0.497823  1.221170  105.280062\n",
              "1  2acmU  1.334711 -0.340164  4.365080   73.037750\n",
              "2  409Wp  1.022732  0.151990  1.419926   85.265647\n",
              "3  iJLyR -0.032172  0.139033  2.978566  168.620776\n",
              "4  Xdl7t  1.988431  0.155413  4.751769  154.036647"
            ]
          },
          "execution_count": 3,
          "metadata": {},
          "output_type": "execute_result"
        }
      ],
      "source": [
        "df_geo_0.head()"
      ]
    },
    {
      "cell_type": "code",
      "execution_count": null,
      "metadata": {
        "colab": {
          "base_uri": "https://localhost:8080/"
        },
        "id": "Ll9t2AaXIia9",
        "outputId": "16f0379f-604c-477e-ddae-3b7d76e1967c"
      },
      "outputs": [
        {
          "name": "stdout",
          "output_type": "stream",
          "text": [
            "<class 'pandas.core.frame.DataFrame'>\n",
            "RangeIndex: 100000 entries, 0 to 99999\n",
            "Data columns (total 5 columns):\n",
            "id         100000 non-null object\n",
            "f0         100000 non-null float64\n",
            "f1         100000 non-null float64\n",
            "f2         100000 non-null float64\n",
            "product    100000 non-null float64\n",
            "dtypes: float64(4), object(1)\n",
            "memory usage: 3.8+ MB\n"
          ]
        }
      ],
      "source": [
        "df_geo_0.info()"
      ]
    },
    {
      "cell_type": "code",
      "execution_count": null,
      "metadata": {
        "colab": {
          "base_uri": "https://localhost:8080/",
          "height": 175
        },
        "id": "FW_jaEJPIiXx",
        "outputId": "c31d936a-9346-4f32-966e-30f19aa3f16b"
      },
      "outputs": [
        {
          "data": {
            "text/html": [
              "<div>\n",
              "<style scoped>\n",
              "    .dataframe tbody tr th:only-of-type {\n",
              "        vertical-align: middle;\n",
              "    }\n",
              "\n",
              "    .dataframe tbody tr th {\n",
              "        vertical-align: top;\n",
              "    }\n",
              "\n",
              "    .dataframe thead th {\n",
              "        text-align: right;\n",
              "    }\n",
              "</style>\n",
              "<table border=\"1\" class=\"dataframe\">\n",
              "  <thead>\n",
              "    <tr style=\"text-align: right;\">\n",
              "      <th></th>\n",
              "      <th>f0</th>\n",
              "      <th>f1</th>\n",
              "      <th>f2</th>\n",
              "      <th>product</th>\n",
              "    </tr>\n",
              "  </thead>\n",
              "  <tbody>\n",
              "    <tr>\n",
              "      <td>f0</td>\n",
              "      <td>1.000000</td>\n",
              "      <td>-0.440723</td>\n",
              "      <td>-0.003153</td>\n",
              "      <td>0.143536</td>\n",
              "    </tr>\n",
              "    <tr>\n",
              "      <td>f1</td>\n",
              "      <td>-0.440723</td>\n",
              "      <td>1.000000</td>\n",
              "      <td>0.001724</td>\n",
              "      <td>-0.192356</td>\n",
              "    </tr>\n",
              "    <tr>\n",
              "      <td>f2</td>\n",
              "      <td>-0.003153</td>\n",
              "      <td>0.001724</td>\n",
              "      <td>1.000000</td>\n",
              "      <td>0.483663</td>\n",
              "    </tr>\n",
              "    <tr>\n",
              "      <td>product</td>\n",
              "      <td>0.143536</td>\n",
              "      <td>-0.192356</td>\n",
              "      <td>0.483663</td>\n",
              "      <td>1.000000</td>\n",
              "    </tr>\n",
              "  </tbody>\n",
              "</table>\n",
              "</div>"
            ],
            "text/plain": [
              "               f0        f1        f2   product\n",
              "f0       1.000000 -0.440723 -0.003153  0.143536\n",
              "f1      -0.440723  1.000000  0.001724 -0.192356\n",
              "f2      -0.003153  0.001724  1.000000  0.483663\n",
              "product  0.143536 -0.192356  0.483663  1.000000"
            ]
          },
          "execution_count": 5,
          "metadata": {},
          "output_type": "execute_result"
        }
      ],
      "source": [
        "df_geo_0.corr()"
      ]
    },
    {
      "cell_type": "markdown",
      "metadata": {
        "id": "_3XtegN7SDUk"
      },
      "source": [
        "Прочитаем данные с 2-ого региона:"
      ]
    },
    {
      "cell_type": "code",
      "execution_count": null,
      "metadata": {
        "id": "682znjLkR_EV"
      },
      "outputs": [],
      "source": [
        "df_geo_1 = pd.read_csv('https://code.s3.yandex.net/datasets/geo_data_1.csv')"
      ]
    },
    {
      "cell_type": "code",
      "execution_count": null,
      "metadata": {
        "colab": {
          "base_uri": "https://localhost:8080/",
          "height": 206
        },
        "id": "_Lw1yw7iQeeA",
        "outputId": "55d17831-6e4b-4998-da7a-405b9ae1875f"
      },
      "outputs": [
        {
          "data": {
            "text/html": [
              "<div>\n",
              "<style scoped>\n",
              "    .dataframe tbody tr th:only-of-type {\n",
              "        vertical-align: middle;\n",
              "    }\n",
              "\n",
              "    .dataframe tbody tr th {\n",
              "        vertical-align: top;\n",
              "    }\n",
              "\n",
              "    .dataframe thead th {\n",
              "        text-align: right;\n",
              "    }\n",
              "</style>\n",
              "<table border=\"1\" class=\"dataframe\">\n",
              "  <thead>\n",
              "    <tr style=\"text-align: right;\">\n",
              "      <th></th>\n",
              "      <th>id</th>\n",
              "      <th>f0</th>\n",
              "      <th>f1</th>\n",
              "      <th>f2</th>\n",
              "      <th>product</th>\n",
              "    </tr>\n",
              "  </thead>\n",
              "  <tbody>\n",
              "    <tr>\n",
              "      <td>0</td>\n",
              "      <td>kBEdx</td>\n",
              "      <td>-15.001348</td>\n",
              "      <td>-8.276000</td>\n",
              "      <td>-0.005876</td>\n",
              "      <td>3.179103</td>\n",
              "    </tr>\n",
              "    <tr>\n",
              "      <td>1</td>\n",
              "      <td>62mP7</td>\n",
              "      <td>14.272088</td>\n",
              "      <td>-3.475083</td>\n",
              "      <td>0.999183</td>\n",
              "      <td>26.953261</td>\n",
              "    </tr>\n",
              "    <tr>\n",
              "      <td>2</td>\n",
              "      <td>vyE1P</td>\n",
              "      <td>6.263187</td>\n",
              "      <td>-5.948386</td>\n",
              "      <td>5.001160</td>\n",
              "      <td>134.766305</td>\n",
              "    </tr>\n",
              "    <tr>\n",
              "      <td>3</td>\n",
              "      <td>KcrkZ</td>\n",
              "      <td>-13.081196</td>\n",
              "      <td>-11.506057</td>\n",
              "      <td>4.999415</td>\n",
              "      <td>137.945408</td>\n",
              "    </tr>\n",
              "    <tr>\n",
              "      <td>4</td>\n",
              "      <td>AHL4O</td>\n",
              "      <td>12.702195</td>\n",
              "      <td>-8.147433</td>\n",
              "      <td>5.004363</td>\n",
              "      <td>134.766305</td>\n",
              "    </tr>\n",
              "  </tbody>\n",
              "</table>\n",
              "</div>"
            ],
            "text/plain": [
              "      id         f0         f1        f2     product\n",
              "0  kBEdx -15.001348  -8.276000 -0.005876    3.179103\n",
              "1  62mP7  14.272088  -3.475083  0.999183   26.953261\n",
              "2  vyE1P   6.263187  -5.948386  5.001160  134.766305\n",
              "3  KcrkZ -13.081196 -11.506057  4.999415  137.945408\n",
              "4  AHL4O  12.702195  -8.147433  5.004363  134.766305"
            ]
          },
          "execution_count": 7,
          "metadata": {},
          "output_type": "execute_result"
        }
      ],
      "source": [
        "df_geo_1.head()"
      ]
    },
    {
      "cell_type": "code",
      "execution_count": null,
      "metadata": {
        "colab": {
          "base_uri": "https://localhost:8080/"
        },
        "id": "IJC4YTsKQeeK",
        "outputId": "15026d1a-01bd-4f4a-9ebd-3273fc15efc4"
      },
      "outputs": [
        {
          "name": "stdout",
          "output_type": "stream",
          "text": [
            "<class 'pandas.core.frame.DataFrame'>\n",
            "RangeIndex: 100000 entries, 0 to 99999\n",
            "Data columns (total 5 columns):\n",
            "id         100000 non-null object\n",
            "f0         100000 non-null float64\n",
            "f1         100000 non-null float64\n",
            "f2         100000 non-null float64\n",
            "product    100000 non-null float64\n",
            "dtypes: float64(4), object(1)\n",
            "memory usage: 3.8+ MB\n"
          ]
        }
      ],
      "source": [
        "df_geo_1.info()"
      ]
    },
    {
      "cell_type": "code",
      "execution_count": null,
      "metadata": {
        "colab": {
          "base_uri": "https://localhost:8080/",
          "height": 175
        },
        "id": "XjOwVfesQeeK",
        "outputId": "c425bb53-849a-4418-9185-dfe76f1a9129"
      },
      "outputs": [
        {
          "data": {
            "text/html": [
              "<div>\n",
              "<style scoped>\n",
              "    .dataframe tbody tr th:only-of-type {\n",
              "        vertical-align: middle;\n",
              "    }\n",
              "\n",
              "    .dataframe tbody tr th {\n",
              "        vertical-align: top;\n",
              "    }\n",
              "\n",
              "    .dataframe thead th {\n",
              "        text-align: right;\n",
              "    }\n",
              "</style>\n",
              "<table border=\"1\" class=\"dataframe\">\n",
              "  <thead>\n",
              "    <tr style=\"text-align: right;\">\n",
              "      <th></th>\n",
              "      <th>f0</th>\n",
              "      <th>f1</th>\n",
              "      <th>f2</th>\n",
              "      <th>product</th>\n",
              "    </tr>\n",
              "  </thead>\n",
              "  <tbody>\n",
              "    <tr>\n",
              "      <td>f0</td>\n",
              "      <td>1.000000</td>\n",
              "      <td>0.182287</td>\n",
              "      <td>-0.001777</td>\n",
              "      <td>-0.030491</td>\n",
              "    </tr>\n",
              "    <tr>\n",
              "      <td>f1</td>\n",
              "      <td>0.182287</td>\n",
              "      <td>1.000000</td>\n",
              "      <td>-0.002595</td>\n",
              "      <td>-0.010155</td>\n",
              "    </tr>\n",
              "    <tr>\n",
              "      <td>f2</td>\n",
              "      <td>-0.001777</td>\n",
              "      <td>-0.002595</td>\n",
              "      <td>1.000000</td>\n",
              "      <td>0.999397</td>\n",
              "    </tr>\n",
              "    <tr>\n",
              "      <td>product</td>\n",
              "      <td>-0.030491</td>\n",
              "      <td>-0.010155</td>\n",
              "      <td>0.999397</td>\n",
              "      <td>1.000000</td>\n",
              "    </tr>\n",
              "  </tbody>\n",
              "</table>\n",
              "</div>"
            ],
            "text/plain": [
              "               f0        f1        f2   product\n",
              "f0       1.000000  0.182287 -0.001777 -0.030491\n",
              "f1       0.182287  1.000000 -0.002595 -0.010155\n",
              "f2      -0.001777 -0.002595  1.000000  0.999397\n",
              "product -0.030491 -0.010155  0.999397  1.000000"
            ]
          },
          "execution_count": 9,
          "metadata": {},
          "output_type": "execute_result"
        }
      ],
      "source": [
        "df_geo_1.corr()"
      ]
    },
    {
      "cell_type": "markdown",
      "metadata": {
        "id": "ueO1qS-ISFYs"
      },
      "source": [
        "Прочитаем данные с 3-ого региона:"
      ]
    },
    {
      "cell_type": "code",
      "execution_count": null,
      "metadata": {
        "id": "yc99dhe-SAll"
      },
      "outputs": [],
      "source": [
        "df_geo_2 = pd.read_csv('https://code.s3.yandex.net/datasets/geo_data_2.csv')"
      ]
    },
    {
      "cell_type": "code",
      "execution_count": null,
      "metadata": {
        "colab": {
          "base_uri": "https://localhost:8080/",
          "height": 206
        },
        "id": "82Utn9H-QfDD",
        "outputId": "aa0c0c3e-bb0d-4b9c-b52a-7c2d6798ec9b"
      },
      "outputs": [
        {
          "data": {
            "text/html": [
              "<div>\n",
              "<style scoped>\n",
              "    .dataframe tbody tr th:only-of-type {\n",
              "        vertical-align: middle;\n",
              "    }\n",
              "\n",
              "    .dataframe tbody tr th {\n",
              "        vertical-align: top;\n",
              "    }\n",
              "\n",
              "    .dataframe thead th {\n",
              "        text-align: right;\n",
              "    }\n",
              "</style>\n",
              "<table border=\"1\" class=\"dataframe\">\n",
              "  <thead>\n",
              "    <tr style=\"text-align: right;\">\n",
              "      <th></th>\n",
              "      <th>id</th>\n",
              "      <th>f0</th>\n",
              "      <th>f1</th>\n",
              "      <th>f2</th>\n",
              "      <th>product</th>\n",
              "    </tr>\n",
              "  </thead>\n",
              "  <tbody>\n",
              "    <tr>\n",
              "      <td>0</td>\n",
              "      <td>fwXo0</td>\n",
              "      <td>-1.146987</td>\n",
              "      <td>0.963328</td>\n",
              "      <td>-0.828965</td>\n",
              "      <td>27.758673</td>\n",
              "    </tr>\n",
              "    <tr>\n",
              "      <td>1</td>\n",
              "      <td>WJtFt</td>\n",
              "      <td>0.262778</td>\n",
              "      <td>0.269839</td>\n",
              "      <td>-2.530187</td>\n",
              "      <td>56.069697</td>\n",
              "    </tr>\n",
              "    <tr>\n",
              "      <td>2</td>\n",
              "      <td>ovLUW</td>\n",
              "      <td>0.194587</td>\n",
              "      <td>0.289035</td>\n",
              "      <td>-5.586433</td>\n",
              "      <td>62.871910</td>\n",
              "    </tr>\n",
              "    <tr>\n",
              "      <td>3</td>\n",
              "      <td>q6cA6</td>\n",
              "      <td>2.236060</td>\n",
              "      <td>-0.553760</td>\n",
              "      <td>0.930038</td>\n",
              "      <td>114.572842</td>\n",
              "    </tr>\n",
              "    <tr>\n",
              "      <td>4</td>\n",
              "      <td>WPMUX</td>\n",
              "      <td>-0.515993</td>\n",
              "      <td>1.716266</td>\n",
              "      <td>5.899011</td>\n",
              "      <td>149.600746</td>\n",
              "    </tr>\n",
              "  </tbody>\n",
              "</table>\n",
              "</div>"
            ],
            "text/plain": [
              "      id        f0        f1        f2     product\n",
              "0  fwXo0 -1.146987  0.963328 -0.828965   27.758673\n",
              "1  WJtFt  0.262778  0.269839 -2.530187   56.069697\n",
              "2  ovLUW  0.194587  0.289035 -5.586433   62.871910\n",
              "3  q6cA6  2.236060 -0.553760  0.930038  114.572842\n",
              "4  WPMUX -0.515993  1.716266  5.899011  149.600746"
            ]
          },
          "execution_count": 11,
          "metadata": {},
          "output_type": "execute_result"
        }
      ],
      "source": [
        "df_geo_2.head()"
      ]
    },
    {
      "cell_type": "code",
      "execution_count": null,
      "metadata": {
        "colab": {
          "base_uri": "https://localhost:8080/"
        },
        "id": "bH7-5YYIQfDE",
        "outputId": "92d87221-aa86-467a-b542-59031eefc719"
      },
      "outputs": [
        {
          "name": "stdout",
          "output_type": "stream",
          "text": [
            "<class 'pandas.core.frame.DataFrame'>\n",
            "RangeIndex: 100000 entries, 0 to 99999\n",
            "Data columns (total 5 columns):\n",
            "id         100000 non-null object\n",
            "f0         100000 non-null float64\n",
            "f1         100000 non-null float64\n",
            "f2         100000 non-null float64\n",
            "product    100000 non-null float64\n",
            "dtypes: float64(4), object(1)\n",
            "memory usage: 3.8+ MB\n"
          ]
        }
      ],
      "source": [
        "df_geo_2.info()"
      ]
    },
    {
      "cell_type": "code",
      "execution_count": null,
      "metadata": {
        "colab": {
          "base_uri": "https://localhost:8080/",
          "height": 175
        },
        "id": "DkyBWaqSQfDE",
        "outputId": "610a149e-f86b-4f8a-f292-d75dedb63f93"
      },
      "outputs": [
        {
          "data": {
            "text/html": [
              "<div>\n",
              "<style scoped>\n",
              "    .dataframe tbody tr th:only-of-type {\n",
              "        vertical-align: middle;\n",
              "    }\n",
              "\n",
              "    .dataframe tbody tr th {\n",
              "        vertical-align: top;\n",
              "    }\n",
              "\n",
              "    .dataframe thead th {\n",
              "        text-align: right;\n",
              "    }\n",
              "</style>\n",
              "<table border=\"1\" class=\"dataframe\">\n",
              "  <thead>\n",
              "    <tr style=\"text-align: right;\">\n",
              "      <th></th>\n",
              "      <th>f0</th>\n",
              "      <th>f1</th>\n",
              "      <th>f2</th>\n",
              "      <th>product</th>\n",
              "    </tr>\n",
              "  </thead>\n",
              "  <tbody>\n",
              "    <tr>\n",
              "      <td>f0</td>\n",
              "      <td>1.000000</td>\n",
              "      <td>0.000528</td>\n",
              "      <td>-0.000448</td>\n",
              "      <td>-0.001987</td>\n",
              "    </tr>\n",
              "    <tr>\n",
              "      <td>f1</td>\n",
              "      <td>0.000528</td>\n",
              "      <td>1.000000</td>\n",
              "      <td>0.000779</td>\n",
              "      <td>-0.001012</td>\n",
              "    </tr>\n",
              "    <tr>\n",
              "      <td>f2</td>\n",
              "      <td>-0.000448</td>\n",
              "      <td>0.000779</td>\n",
              "      <td>1.000000</td>\n",
              "      <td>0.445871</td>\n",
              "    </tr>\n",
              "    <tr>\n",
              "      <td>product</td>\n",
              "      <td>-0.001987</td>\n",
              "      <td>-0.001012</td>\n",
              "      <td>0.445871</td>\n",
              "      <td>1.000000</td>\n",
              "    </tr>\n",
              "  </tbody>\n",
              "</table>\n",
              "</div>"
            ],
            "text/plain": [
              "               f0        f1        f2   product\n",
              "f0       1.000000  0.000528 -0.000448 -0.001987\n",
              "f1       0.000528  1.000000  0.000779 -0.001012\n",
              "f2      -0.000448  0.000779  1.000000  0.445871\n",
              "product -0.001987 -0.001012  0.445871  1.000000"
            ]
          },
          "execution_count": 13,
          "metadata": {},
          "output_type": "execute_result"
        }
      ],
      "source": [
        "df_geo_2.corr()"
      ]
    },
    {
      "cell_type": "markdown",
      "metadata": {
        "id": "XWv8X6ouIiT6"
      },
      "source": [
        "### Вывод"
      ]
    },
    {
      "cell_type": "markdown",
      "metadata": {
        "id": "uKVZ13_ezWkv"
      },
      "source": [
        "- пропусков в данных нет;\n",
        "- наблюдается высокая корреляция между колонками \"f2\" и \"product\", особенно во втором регионе."
      ]
    },
    {
      "cell_type": "markdown",
      "metadata": {
        "id": "N4SL7mGnH6dX"
      },
      "source": [
        "## Обучение и проверка модели"
      ]
    },
    {
      "cell_type": "markdown",
      "metadata": {
        "id": "ihGNz8eZH6b1"
      },
      "source": [
        "Разделим данные на целевые признаки и целевые признаки, а также разделим  на обучающую и валидационную выборки в соотношении 75/25:"
      ]
    },
    {
      "cell_type": "code",
      "execution_count": null,
      "metadata": {
        "id": "pelxe9COTsVC"
      },
      "outputs": [],
      "source": [
        "target_geo_0 = df_geo_0['product']\n",
        "features_geo_0 = df_geo_0.drop(['id', 'product'], axis=1)    \n",
        "features_train_geo_0, features_valid_geo_0, target_train_geo_0, target_valid_geo_0 = train_test_split(features_geo_0, target_geo_0, test_size=0.25, random_state=12345)"
      ]
    },
    {
      "cell_type": "code",
      "execution_count": null,
      "metadata": {
        "id": "0AiENFo2TsRn"
      },
      "outputs": [],
      "source": [
        "target_geo_1 = df_geo_1['product']\n",
        "features_geo_1 = df_geo_1.drop(['id', 'product'], axis=1)    \n",
        "features_train_geo_1, features_valid_geo_1, target_train_geo_1, target_valid_geo_1 = train_test_split(features_geo_1, target_geo_1, test_size=0.25, random_state=12345)"
      ]
    },
    {
      "cell_type": "code",
      "execution_count": null,
      "metadata": {
        "id": "ApJPTrWqTsPi"
      },
      "outputs": [],
      "source": [
        "target_geo_2 = df_geo_2['product']\n",
        "features_geo_2 = df_geo_2.drop(['id', 'product'], axis=1)    \n",
        "features_train_geo_2, features_valid_geo_2, target_train_geo_2, target_valid_geo_2 = train_test_split(features_geo_2, target_geo_2, test_size=0.25, random_state=12345)"
      ]
    },
    {
      "cell_type": "markdown",
      "metadata": {
        "id": "9CzVye2mz0OI"
      },
      "source": [
        "Обучим модель Линейная регрессия для 1-го региона:"
      ]
    },
    {
      "cell_type": "code",
      "execution_count": null,
      "metadata": {
        "colab": {
          "base_uri": "https://localhost:8080/",
          "height": 35
        },
        "id": "o7KAYWASXyHB",
        "outputId": "bddcb7f6-7176-4cfc-d23c-700065af85f3"
      },
      "outputs": [
        {
          "data": {
            "text/plain": [
              "'Cредний запас предсказанного сырья в 1-ом регионе: 92.5926 тыс. баррелей, RMSE модели для 1-го региона: 37.5794'"
            ]
          },
          "metadata": {},
          "output_type": "display_data"
        }
      ],
      "source": [
        "model_geo_0 = LinearRegression().fit(features_train_geo_0, target_train_geo_0)\n",
        "predictions_geo_0 = model_geo_0.predict(features_valid_geo_0)\n",
        "predictions_geo_0_mean = predictions_geo_0.mean().round(4)\n",
        "rmse_geo_0 = ((mean_squared_error(target_valid_geo_0, predictions_geo_0)) ** 0.5).round(4)\n",
        "predictions_geo_0_done = pd.Series(predictions_geo_0, index=target_valid_geo_0.index)\n",
        "\n",
        "display(f'Cредний запас предсказанного сырья в 1-ом регионе: {predictions_geo_0_mean} тыс. баррелей, RMSE модели для 1-го региона: {rmse_geo_0}')"
      ]
    },
    {
      "cell_type": "markdown",
      "metadata": {
        "id": "gmtIfaOwz5-f"
      },
      "source": [
        "Обучим модель Линейная регрессия для 2-го региона:"
      ]
    },
    {
      "cell_type": "code",
      "execution_count": null,
      "metadata": {
        "colab": {
          "base_uri": "https://localhost:8080/",
          "height": 35
        },
        "id": "QVmJl9ISTsEt",
        "outputId": "2c976880-f9cd-4e62-a22f-260249d49816"
      },
      "outputs": [
        {
          "data": {
            "text/plain": [
              "'Cредний запас предсказанного сырья в 2-ом регионе: 68.7285 тыс. баррелей, RMSE модели для 2-го региона: 0.8931'"
            ]
          },
          "metadata": {},
          "output_type": "display_data"
        }
      ],
      "source": [
        "model_geo_1 = LinearRegression().fit(features_train_geo_1, target_train_geo_1)\n",
        "predictions_geo_1 = model_geo_1.predict(features_valid_geo_1)\n",
        "predictions_geo_1_mean = predictions_geo_1.mean().round(4)\n",
        "rmse_geo_1 = ((mean_squared_error(target_valid_geo_1, predictions_geo_1)) ** 0.5).round(4)\n",
        "predictions_geo_1_done = pd.Series(predictions_geo_1, index=target_valid_geo_1.index)\n",
        "\n",
        "display(f'Cредний запас предсказанного сырья в 2-ом регионе: {predictions_geo_1_mean} тыс. баррелей, RMSE модели для 2-го региона: {rmse_geo_1}')"
      ]
    },
    {
      "cell_type": "markdown",
      "metadata": {
        "id": "Z38nnOFVz7lY"
      },
      "source": [
        "Обучим модель Линейная регрессия для 3-го региона:"
      ]
    },
    {
      "cell_type": "code",
      "execution_count": null,
      "metadata": {
        "colab": {
          "base_uri": "https://localhost:8080/",
          "height": 35
        },
        "id": "DxnFDhemTsDC",
        "outputId": "33fea736-1b22-443c-8c0d-61d4684deab7"
      },
      "outputs": [
        {
          "data": {
            "text/plain": [
              "'Cредний запас предсказанного сырья в 3-ом регионе: 94.965 тыс. баррелей, RMSE модели для 3-го региона: 40.0297'"
            ]
          },
          "metadata": {},
          "output_type": "display_data"
        }
      ],
      "source": [
        "model_geo_2 = LinearRegression().fit(features_train_geo_2, target_train_geo_2)\n",
        "predictions_geo_2 = model_geo_2.predict(features_valid_geo_2)\n",
        "predictions_geo_2_mean = predictions_geo_2.mean().round(4)\n",
        "rmse_geo_2 = ((mean_squared_error(target_valid_geo_2, predictions_geo_2)) ** 0.5).round(4)\n",
        "predictions_geo_2_done = pd.Series(predictions_geo_2, index=target_valid_geo_2.index)\n",
        "\n",
        "display(f'Cредний запас предсказанного сырья в 3-ом регионе: {predictions_geo_2_mean} тыс. баррелей, RMSE модели для 3-го региона: {rmse_geo_2}')"
      ]
    },
    {
      "cell_type": "markdown",
      "metadata": {
        "id": "V9c8RZIvTr3C"
      },
      "source": [
        "### Вывод"
      ]
    },
    {
      "cell_type": "markdown",
      "metadata": {
        "id": "Ba5sb8rN0aEH"
      },
      "source": [
        "- в регионах 1 и 3, показатель среднего запаса сырья `92.59` и `94.97` тыс. баррелей, но при RMSE равном `37.58` и `40.03`, что свидетельствует о неоднозначности показателя, неточности модели регрессии;\n",
        "- в регионе 2 `68.72` тыс. баррелей, при RMSE равном `0.89`, что хорошо."
      ]
    },
    {
      "cell_type": "markdown",
      "metadata": {
        "id": "qhsXFToVH6Z5"
      },
      "source": [
        "## Подготовка к расчёту прибыли"
      ]
    },
    {
      "cell_type": "markdown",
      "metadata": {
        "id": "UOf1Yz0PH6YI"
      },
      "source": [
        "Учитывая, что:  \n",
        "При разведке региона исследуют 500 точек, из которых с помощью машинного обучения выбирают 200 лучших для разработки.  \n",
        "Бюджет на разработку скважин в регионе — 10 млрд рублей.  \n",
        "При нынешних ценах один баррель сырья приносит 450 рублей дохода. Доход с каждой единицы продукта составляет 450 тыс. рублей, поскольку объём указан в тысячах баррелей.  \n",
        "После оценки рисков нужно оставить лишь те регионы, в которых вероятность убытков меньше 2.5%. Среди них выбирают регион с наибольшей средней прибылью.  "
      ]
    },
    {
      "cell_type": "markdown",
      "metadata": {
        "id": "KMjKWW611Gvg"
      },
      "source": [
        "Рассчитаем минимально необходимый объем добычи:"
      ]
    },
    {
      "cell_type": "code",
      "execution_count": null,
      "metadata": {
        "id": "x5jpJ7chqwtE"
      },
      "outputs": [],
      "source": [
        "budget = 10000000000\n",
        "well_income = 450000\n",
        "n_best = 200\n",
        "min_volume = budget / well_income / n_best"
      ]
    },
    {
      "cell_type": "code",
      "execution_count": null,
      "metadata": {
        "colab": {
          "base_uri": "https://localhost:8080/",
          "height": 35
        },
        "id": "r8CfLj45adVx",
        "outputId": "762e7569-f440-4b37-ef3d-ba09e5785559"
      },
      "outputs": [
        {
          "data": {
            "text/plain": [
              "'Необходимый объем с одной скважины для безубыточности: 111.1111 тыс. баррелей'"
            ]
          },
          "execution_count": 21,
          "metadata": {},
          "output_type": "execute_result"
        }
      ],
      "source": [
        "f\"Необходимый объем с одной скважины для безубыточности: {min_volume:.4f} тыс. баррелей\""
      ]
    },
    {
      "cell_type": "markdown",
      "metadata": {
        "id": "kkM6bceY1QDo"
      },
      "source": [
        "Оценим среднии запасы сырья в регионых 1, 2, 3:"
      ]
    },
    {
      "cell_type": "code",
      "execution_count": null,
      "metadata": {
        "colab": {
          "base_uri": "https://localhost:8080/",
          "height": 35
        },
        "id": "QNPmnC-XadS5",
        "outputId": "69610465-8750-4c7f-acfd-2f6c6cbc3a26"
      },
      "outputs": [
        {
          "data": {
            "text/plain": [
              "'Средний объем сырья в 1-ом регионе: 92.5000 тыс. баррелей'"
            ]
          },
          "metadata": {},
          "output_type": "display_data"
        }
      ],
      "source": [
        "display(f\"Средний объем сырья в 1-ом регионе: {df_geo_0['product'].mean():.4f} тыс. баррелей\")"
      ]
    },
    {
      "cell_type": "code",
      "execution_count": null,
      "metadata": {
        "colab": {
          "base_uri": "https://localhost:8080/",
          "height": 35
        },
        "id": "rC4S9sSwadQ9",
        "outputId": "a5adfb39-661a-4157-d18c-1d2319df8bfe"
      },
      "outputs": [
        {
          "data": {
            "text/plain": [
              "'Средний объем сырья во 2-ом регионе: 68.8250 тыс. баррелей'"
            ]
          },
          "metadata": {},
          "output_type": "display_data"
        }
      ],
      "source": [
        "display(f\"Средний объем сырья во 2-ом регионе: {df_geo_1['product'].mean():.4f} тыс. баррелей\")"
      ]
    },
    {
      "cell_type": "code",
      "execution_count": null,
      "metadata": {
        "colab": {
          "base_uri": "https://localhost:8080/",
          "height": 35
        },
        "id": "a_WFLEwUadPH",
        "outputId": "f98ac858-4058-4e83-935d-88676aec493f"
      },
      "outputs": [
        {
          "data": {
            "text/plain": [
              "'Средний объем сырья в 3-ем регионе: 95.0000 тыс. баррелей'"
            ]
          },
          "metadata": {},
          "output_type": "display_data"
        }
      ],
      "source": [
        "display(f\"Средний объем сырья в 3-ем регионе: {df_geo_2['product'].mean():.4f} тыс. баррелей\")"
      ]
    },
    {
      "cell_type": "markdown",
      "metadata": {
        "id": "svFkU-0kadIu"
      },
      "source": [
        "### Вывод"
      ]
    },
    {
      "cell_type": "markdown",
      "metadata": {
        "id": "KeWlZzhi1aqd"
      },
      "source": [
        "- необходимый объем с одной скважины для безубыточности: `111.11` тыс. баррелей;\n",
        "- при этом данный показатель превышаем средний запас сырья в регионах, при среднем: в регионе 1 = `92.50`  тыс. баррелей , в регионе 2 `68.82` тыс. баррелей, в регионе 3 = `95.00` тыс. баррелей."
      ]
    },
    {
      "cell_type": "markdown",
      "metadata": {
        "id": "bI12NZU7H6WU"
      },
      "source": [
        "## Расчёт прибыли и рисков "
      ]
    },
    {
      "cell_type": "markdown",
      "metadata": {
        "id": "vr_yReBV2FEI"
      },
      "source": [
        "Определим функцию для расчёта прибыли:"
      ]
    },
    {
      "cell_type": "code",
      "execution_count": null,
      "metadata": {
        "id": "WdrHk-zxH6Uk"
      },
      "outputs": [],
      "source": [
        "def revenue(predict, target):\n",
        "    predictions_top_200 = predict.sort_values(ascending=False)\n",
        "    target_top_200 = target[predictions_top_200.index][:200]\n",
        "    rev = sum(target_top_200) * well_income - budget\n",
        "    return rev"
      ]
    },
    {
      "cell_type": "markdown",
      "metadata": {
        "id": "SZz5B3ic2Lnz"
      },
      "source": [
        "Определим функцию для расчёта вероятности риска и прибыли для каждого региона:"
      ]
    },
    {
      "cell_type": "code",
      "execution_count": null,
      "metadata": {
        "id": "ciUQUTcWwIle"
      },
      "outputs": [],
      "source": [
        "def risk_det(prediction, target):\n",
        "  state = np.random.RandomState(12345)\n",
        "  results = []\n",
        "\n",
        "  for i in range(1000):\n",
        "      target_subsample = target.sample(n=500, replace=True, random_state=state)\n",
        "      prediction_subsample = prediction[target_subsample.index]\n",
        "      results.append(revenue(prediction_subsample, target_subsample))\n",
        "\n",
        "  results = pd.Series(results)    \n",
        "  results_mean = (results.mean() / 1000000)\n",
        "\n",
        "  lower = (results.quantile(0.025) / 1000000)\n",
        "  upper = (results.quantile(0.975) / 1000000)\n",
        "\n",
        "  risk = (results < 0).mean() * 100\n",
        "\n",
        "  answer = {'Средняя прибыль': '{0:.2f}'.format(results_mean),\n",
        "              'Нижняя граница': '{0:.2f}'.format(lower),\n",
        "              'Верхняя граница': '{0:.2f}'.format(upper),\n",
        "              'Вероятность убытка': '{0:.2f}%'.format(risk)}\n",
        "\n",
        "  return answer"
      ]
    },
    {
      "cell_type": "markdown",
      "metadata": {
        "id": "GWZaUJa22Qqo"
      },
      "source": [
        "Проведем расчеты для каждого региона:"
      ]
    },
    {
      "cell_type": "code",
      "execution_count": null,
      "metadata": {
        "id": "IRjQ0Y4vs03v"
      },
      "outputs": [],
      "source": [
        "answer_reg_0 = risk_det(predictions_geo_0_done, target_valid_geo_0)"
      ]
    },
    {
      "cell_type": "code",
      "execution_count": null,
      "metadata": {
        "id": "m0AVRPFls0un"
      },
      "outputs": [],
      "source": [
        "answer_reg_1 = risk_det(predictions_geo_1_done, target_valid_geo_1)"
      ]
    },
    {
      "cell_type": "code",
      "execution_count": null,
      "metadata": {
        "id": "KWWpgvOIs0sN"
      },
      "outputs": [],
      "source": [
        "answer_reg_2 = risk_det(predictions_geo_2_done, target_valid_geo_2)"
      ]
    },
    {
      "cell_type": "markdown",
      "metadata": {
        "id": "_xcfXFXT2XkR"
      },
      "source": [
        "Выведем результаты:"
      ]
    },
    {
      "cell_type": "code",
      "execution_count": null,
      "metadata": {
        "colab": {
          "base_uri": "https://localhost:8080/",
          "height": 143
        },
        "id": "bwX6vaxgs0ps",
        "outputId": "97a24f6b-9fa4-46d7-ff01-d8c6b484b502"
      },
      "outputs": [
        {
          "data": {
            "text/html": [
              "<div>\n",
              "<style scoped>\n",
              "    .dataframe tbody tr th:only-of-type {\n",
              "        vertical-align: middle;\n",
              "    }\n",
              "\n",
              "    .dataframe tbody tr th {\n",
              "        vertical-align: top;\n",
              "    }\n",
              "\n",
              "    .dataframe thead th {\n",
              "        text-align: right;\n",
              "    }\n",
              "</style>\n",
              "<table border=\"1\" class=\"dataframe\">\n",
              "  <thead>\n",
              "    <tr style=\"text-align: right;\">\n",
              "      <th></th>\n",
              "      <th>Средняя прибыль</th>\n",
              "      <th>Нижняя граница</th>\n",
              "      <th>Верхняя граница</th>\n",
              "      <th>Вероятность убытка</th>\n",
              "    </tr>\n",
              "  </thead>\n",
              "  <tbody>\n",
              "    <tr>\n",
              "      <td>Регион 1</td>\n",
              "      <td>425.94</td>\n",
              "      <td>-102.09</td>\n",
              "      <td>947.98</td>\n",
              "      <td>6.00%</td>\n",
              "    </tr>\n",
              "    <tr>\n",
              "      <td>Регион 2</td>\n",
              "      <td>515.22</td>\n",
              "      <td>68.87</td>\n",
              "      <td>931.55</td>\n",
              "      <td>1.00%</td>\n",
              "    </tr>\n",
              "    <tr>\n",
              "      <td>Регион 3</td>\n",
              "      <td>435.01</td>\n",
              "      <td>-128.88</td>\n",
              "      <td>969.71</td>\n",
              "      <td>6.40%</td>\n",
              "    </tr>\n",
              "  </tbody>\n",
              "</table>\n",
              "</div>"
            ],
            "text/plain": [
              "         Средняя прибыль Нижняя граница Верхняя граница Вероятность убытка\n",
              "Регион 1          425.94        -102.09          947.98              6.00%\n",
              "Регион 2          515.22          68.87          931.55              1.00%\n",
              "Регион 3          435.01        -128.88          969.71              6.40%"
            ]
          },
          "execution_count": 30,
          "metadata": {},
          "output_type": "execute_result"
        }
      ],
      "source": [
        "answer = answer_reg_0, answer_reg_1, answer_reg_2\n",
        "results = pd.DataFrame(data=answer, index=('Регион 1', 'Регион 2', 'Регион 3'))\n",
        "results"
      ]
    },
    {
      "cell_type": "markdown",
      "metadata": {
        "id": "FKNhysEXs0nr"
      },
      "source": [
        "### Вывод"
      ]
    },
    {
      "cell_type": "markdown",
      "metadata": {
        "id": "_Wbv-1U82a9R"
      },
      "source": [
        "Исходя из моделирования регион 2 показал себя как наименее рискованым для разработки и получения сырья (вероятность убытка `1.00%`), при средней прибыли `435.01` млн. руб."
      ]
    }
  ],
  "metadata": {
    "ExecuteTimeLog": [
      {
        "duration": 1424,
        "start_time": "2022-03-13T20:06:56.934Z"
      },
      {
        "duration": 394,
        "start_time": "2022-03-13T20:06:58.360Z"
      },
      {
        "duration": 17,
        "start_time": "2022-03-13T20:06:58.757Z"
      },
      {
        "duration": 17,
        "start_time": "2022-03-13T20:06:58.776Z"
      },
      {
        "duration": 42,
        "start_time": "2022-03-13T20:06:58.795Z"
      },
      {
        "duration": 602,
        "start_time": "2022-03-13T20:06:58.839Z"
      },
      {
        "duration": 12,
        "start_time": "2022-03-13T20:06:59.444Z"
      },
      {
        "duration": 15,
        "start_time": "2022-03-13T20:06:59.460Z"
      },
      {
        "duration": 16,
        "start_time": "2022-03-13T20:06:59.478Z"
      },
      {
        "duration": 430,
        "start_time": "2022-03-13T20:06:59.497Z"
      },
      {
        "duration": 14,
        "start_time": "2022-03-13T20:06:59.929Z"
      },
      {
        "duration": 18,
        "start_time": "2022-03-13T20:06:59.945Z"
      },
      {
        "duration": 17,
        "start_time": "2022-03-13T20:06:59.965Z"
      },
      {
        "duration": 58,
        "start_time": "2022-03-13T20:06:59.984Z"
      },
      {
        "duration": 19,
        "start_time": "2022-03-13T20:07:00.045Z"
      },
      {
        "duration": 20,
        "start_time": "2022-03-13T20:07:00.067Z"
      },
      {
        "duration": 144,
        "start_time": "2022-03-13T20:07:00.089Z"
      },
      {
        "duration": 107,
        "start_time": "2022-03-13T20:07:00.236Z"
      },
      {
        "duration": 188,
        "start_time": "2022-03-13T20:07:00.347Z"
      },
      {
        "duration": 5,
        "start_time": "2022-03-13T20:07:00.539Z"
      },
      {
        "duration": 11,
        "start_time": "2022-03-13T20:07:00.633Z"
      },
      {
        "duration": 19,
        "start_time": "2022-03-13T20:07:00.647Z"
      },
      {
        "duration": 16,
        "start_time": "2022-03-13T20:07:00.670Z"
      },
      {
        "duration": 10,
        "start_time": "2022-03-13T20:07:00.689Z"
      },
      {
        "duration": 18,
        "start_time": "2022-03-13T20:07:00.701Z"
      },
      {
        "duration": 12,
        "start_time": "2022-03-13T20:07:00.722Z"
      },
      {
        "duration": 4999,
        "start_time": "2022-03-13T20:07:00.737Z"
      },
      {
        "duration": 5366,
        "start_time": "2022-03-13T20:07:05.738Z"
      },
      {
        "duration": 5059,
        "start_time": "2022-03-13T20:07:11.106Z"
      },
      {
        "duration": 16,
        "start_time": "2022-03-13T20:07:16.167Z"
      }
    ],
    "colab": {
      "collapsed_sections": [],
      "name": "choosing_location_for_well.ipynb",
      "provenance": [],
      "toc_visible": true
    },
    "kernelspec": {
      "display_name": "Python 3 (ipykernel)",
      "language": "python",
      "name": "python3"
    },
    "language_info": {
      "codemirror_mode": {
        "name": "ipython",
        "version": 3
      },
      "file_extension": ".py",
      "mimetype": "text/x-python",
      "name": "python",
      "nbconvert_exporter": "python",
      "pygments_lexer": "ipython3",
      "version": "3.9.7"
    },
    "toc": {
      "base_numbering": 1,
      "nav_menu": {},
      "number_sections": true,
      "sideBar": true,
      "skip_h1_title": true,
      "title_cell": "Table of Contents",
      "title_sidebar": "Contents",
      "toc_cell": false,
      "toc_position": {},
      "toc_section_display": true,
      "toc_window_display": false
    }
  },
  "nbformat": 4,
  "nbformat_minor": 0
}