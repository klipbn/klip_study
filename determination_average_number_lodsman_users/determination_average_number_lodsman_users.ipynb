{
  "nbformat": 4,
  "nbformat_minor": 0,
  "metadata": {
    "colab": {
      "name": "determination_average_number_lodsman_users.ipynb",
      "provenance": [],
      "collapsed_sections": [],
      "authorship_tag": "ABX9TyOimBEgP6Qf+Yo/nr7ZMWLi",
      "include_colab_link": true
    },
    "kernelspec": {
      "name": "python3",
      "display_name": "Python 3"
    },
    "language_info": {
      "name": "python"
    }
  },
  "cells": [
    {
      "cell_type": "markdown",
      "metadata": {
        "id": "view-in-github",
        "colab_type": "text"
      },
      "source": [
        "<a href=\"https://colab.research.google.com/github/klipbn/klip_alex/blob/main/determination_average_number_lodsman_users/determination_average_number_lodsman_users.ipynb\" target=\"_parent\"><img src=\"https://colab.research.google.com/assets/colab-badge.svg\" alt=\"Open In Colab\"/></a>"
      ]
    },
    {
      "cell_type": "markdown",
      "source": [
        "Key ID:  \n",
        "458744584072543631 - not actived \n",
        "719635943846940421 - ЛОЦМАН:КБ 2022,HSL,сетвр  \n",
        "834732166184233058 - ОЭ КОМПАC-3D v20,HSL,сетвр  \n",
        "982786152807025115 - ЛОЦМАН:КБ 2021,HSL,сетвр \n",
        "\n",
        "Productid:  \n",
        "3197 ЛОЦМАН:КБ 2022,HSL,сетвр   \n",
        "3258 КОМПАC-3D v20,HSL,сетвр "
      ],
      "metadata": {
        "id": "QdZQ6FdpV1I_"
      }
    },
    {
      "cell_type": "code",
      "execution_count": null,
      "metadata": {
        "id": "gD03zBmaDBPB"
      },
      "outputs": [],
      "source": [
        "import pandas as pd\n",
        "import numpy as np"
      ]
    },
    {
      "cell_type": "code",
      "source": [
        "pd.options.display.max_colwidth = 100"
      ],
      "metadata": {
        "id": "egR7Fsf6Ydqj"
      },
      "execution_count": null,
      "outputs": []
    },
    {
      "cell_type": "code",
      "source": [
        "from google.colab import drive\n",
        "drive.mount('/content/drive')"
      ],
      "metadata": {
        "colab": {
          "base_uri": "https://localhost:8080/"
        },
        "id": "vCsQ88YLEozb",
        "outputId": "f6317cef-9c7a-4f9a-fa48-97a88d3d0705"
      },
      "execution_count": null,
      "outputs": [
        {
          "output_type": "stream",
          "name": "stdout",
          "text": [
            "Drive already mounted at /content/drive; to attempt to forcibly remount, call drive.mount(\"/content/drive\", force_remount=True).\n"
          ]
        }
      ]
    },
    {
      "cell_type": "markdown",
      "source": [
        "Читаем данные с логами:"
      ],
      "metadata": {
        "id": "lcYfrdx3FOR9"
      }
    },
    {
      "cell_type": "code",
      "source": [
        "def merge_logs(month, day):\n",
        "\n",
        "  for i in range(1, day):\n",
        "\n",
        "    # чтение файла\n",
        "    df = pd.read_csv(f\"/content/drive/My Drive/Projects/determination_average_number_lodsman_users/logs/2021_{month:02d}_{i:02d}_access.log\", \n",
        "                    sep=r' ', skiprows=1, error_bad_lines=False, warn_bad_lines=False) \n",
        "    # задаем признаки\n",
        "    df.columns = ['nan',\t'nan1',\t'date', 'time',\t'ip',\t'user',\t'port',\t'api' ,\t'features' ,\t'result' ,\t'nan2']\n",
        "    # уберем лишнии признаки\n",
        "    df.drop(['nan', 'nan1', 'nan2'], axis=1, inplace=True)\n",
        "    # удалим пропущенные значения\n",
        "    df = df.dropna(subset=['user', 'features'])\n",
        "\n",
        "    # проведем логическую индексацию\n",
        "    mask = df[\"user\"].str.contains(r\"Администратор\")\n",
        "    dff = df.loc[mask]\n",
        "    mask = dff[\"features\"].str.contains(r\"productid=3197\")\n",
        "    dff = dff.loc[mask]\n",
        "\n",
        "\n",
        "  # соединим логи в одну таблицу\n",
        "    if i == 1: \n",
        "      df_null = pd.DataFrame([np.NaN, np.NaN, np.NaN, np.NaN, np.NaN, np.NaN, np.NaN, np.NaN]).T\n",
        "      df_null.columns = ['median_time', 'haspid', 'productid', 'feat', 'sess', 'api', 'span', 'dtype' ]\n",
        "\n",
        "      df_null = pd.concat([df_null, dff], ignore_index=True)\n",
        "    else:\n",
        "\n",
        "      df_null = pd.concat([df_null, dff], ignore_index=True)  \n",
        "\n",
        "  # уберем лишние признаки и пропущенные значения из созданного переходного датафрейма\n",
        "  df_null.drop(['median_time', 'haspid', 'productid', 'feat', 'sess', 'api', 'span', 'dtype'], axis=1, inplace=True) \n",
        "  df_null = df_null.dropna()\n",
        "  return df_null"
      ],
      "metadata": {
        "id": "yczQT6NXS3NB"
      },
      "execution_count": null,
      "outputs": []
    },
    {
      "cell_type": "markdown",
      "source": [
        "Сделаем из признака `'features'` датафрейм:"
      ],
      "metadata": {
        "id": "npJpsueMJEow"
      }
    },
    {
      "cell_type": "code",
      "source": [
        "def split_features(data):\n",
        "  for i in range(len(data)-1):\n",
        "    try:\n",
        "      if i == 0: \n",
        "        zz555 = pd.DataFrame([np.NaN, np.NaN, np.NaN, np.NaN, np.NaN, np.NaN, np.NaN, np.NaN]).T\n",
        "        zz555.columns = ['median_time', 'haspid', 'productid', 'feat', 'sess', 'api', 'span', 'dtype' ]\n",
        "        zz = pd.DataFrame(str(data[\"features\"][i:i+1]).split(',')).T\n",
        "        zz.columns = ['median_time', 'haspid', 'productid', 'feat', 'sess', 'api', 'span', 'dtype' ]\n",
        "        zz2 = pd.DataFrame(str(data[\"features\"][i+1:i+2]).split(',')).T\n",
        "        zz2.columns = ['median_time', 'haspid', 'productid', 'feat', 'sess', 'api', 'span', 'dtype' ]\n",
        "        zz555 = pd.concat([zz555, zz, zz2], ignore_index=True)\n",
        "      else:\n",
        "        zz = pd.DataFrame(str(data[\"features\"][i:i+1]).split(',')).T\n",
        "        zz.columns = ['median_time', 'haspid', 'productid', 'feat', 'sess', 'api', 'span', 'dtype' ]\n",
        "        zz2 = pd.DataFrame(str(data[\"features\"][i+1:i+2]).split(',')).T\n",
        "        zz2.columns = ['median_time', 'haspid', 'productid', 'feat', 'sess', 'api', 'span', 'dtype' ]\n",
        "        zz555 = pd.concat([zz555, zz, zz2], ignore_index=True)\n",
        "    except: # если будет проблемная строка\n",
        "      i += 1\n",
        "\n",
        "  zzz5556 = zz555.drop_duplicates().dropna().reset_index()   # датафрейм из признака \n",
        "  return zzz5556"
      ],
      "metadata": {
        "id": "tYQWmE4VUlmk"
      },
      "execution_count": null,
      "outputs": []
    },
    {
      "cell_type": "markdown",
      "source": [
        "Соединим наши датафреймы с признаком `'features'` и с логами. Уберем лишние признаки, пропуски:"
      ],
      "metadata": {
        "id": "43wHNdOpV9Oy"
      }
    },
    {
      "cell_type": "code",
      "source": [
        "def merge_logs_features(data1, data2):\n",
        "  df = data1.merge(data2, how='outer', left_index=True, right_index=True)\n",
        "  df.drop(['port', 'features', 'result', 'index', 'median_time', 'span', 'dtype'], axis=1, inplace=True)\n",
        "  df = df.dropna().reset_index()\n",
        "  return df"
      ],
      "metadata": {
        "id": "YI4TVb8HVQoS"
      },
      "execution_count": null,
      "outputs": []
    },
    {
      "cell_type": "markdown",
      "source": [
        "Прочитаем данные за октябрь:"
      ],
      "metadata": {
        "id": "1uYKGtmcWNDi"
      }
    },
    {
      "cell_type": "code",
      "source": [
        "oct = merge_logs(10, 32)\n",
        "oct_feat = split_features(oct)\n",
        "df_oct = merge_logs_features(oct, oct_feat)"
      ],
      "metadata": {
        "id": "v8YUP9CRTZ6X"
      },
      "execution_count": null,
      "outputs": []
    },
    {
      "cell_type": "markdown",
      "source": [
        "Прочитаем данные за ноябрь:"
      ],
      "metadata": {
        "id": "18tiSaRNWPQe"
      }
    },
    {
      "cell_type": "code",
      "source": [
        "nov = merge_logs(11, 31)\n",
        "nov_feat = split_features(nov)\n",
        "df_nov = merge_logs_features(nov, nov_feat)"
      ],
      "metadata": {
        "id": "wAaXAQGzUy4_"
      },
      "execution_count": null,
      "outputs": []
    },
    {
      "cell_type": "markdown",
      "source": [
        "Прочитаем данные за декабрь:"
      ],
      "metadata": {
        "id": "mm2_4acdWRHo"
      }
    },
    {
      "cell_type": "code",
      "source": [
        "dec = merge_logs(12, 32)\n",
        "dec_feat = split_features(dec)\n",
        "df_dec = merge_logs_features(dec, dec_feat)"
      ],
      "metadata": {
        "id": "gcLzJB28Vg7l"
      },
      "execution_count": null,
      "outputs": []
    },
    {
      "cell_type": "markdown",
      "source": [
        "Соединим все данные вместе:"
      ],
      "metadata": {
        "id": "Nxgcb1EeYq9H"
      }
    },
    {
      "cell_type": "code",
      "source": [
        "df = pd.concat([df_oct, df_nov, df_dec], ignore_index=True)"
      ],
      "metadata": {
        "id": "P1PzwAPkXOD1"
      },
      "execution_count": null,
      "outputs": []
    },
    {
      "cell_type": "code",
      "source": [
        "df.tail()"
      ],
      "metadata": {
        "colab": {
          "base_uri": "https://localhost:8080/",
          "height": 206
        },
        "id": "Vl_HVVLGYlb4",
        "outputId": "9f8133b5-76ab-4a6e-b38f-a6174d730487"
      },
      "execution_count": null,
      "outputs": [
        {
          "output_type": "execute_result",
          "data": {
            "text/html": [
              "\n",
              "  <div id=\"df-5d7f758f-524a-4a9d-b3fc-97a52685dcc9\">\n",
              "    <div class=\"colab-df-container\">\n",
              "      <div>\n",
              "<style scoped>\n",
              "    .dataframe tbody tr th:only-of-type {\n",
              "        vertical-align: middle;\n",
              "    }\n",
              "\n",
              "    .dataframe tbody tr th {\n",
              "        vertical-align: top;\n",
              "    }\n",
              "\n",
              "    .dataframe thead th {\n",
              "        text-align: right;\n",
              "    }\n",
              "</style>\n",
              "<table border=\"1\" class=\"dataframe\">\n",
              "  <thead>\n",
              "    <tr style=\"text-align: right;\">\n",
              "      <th></th>\n",
              "      <th>index</th>\n",
              "      <th>date</th>\n",
              "      <th>time</th>\n",
              "      <th>ip</th>\n",
              "      <th>user</th>\n",
              "      <th>haspid</th>\n",
              "      <th>productid</th>\n",
              "      <th>feat</th>\n",
              "      <th>sess</th>\n",
              "      <th>api</th>\n",
              "    </tr>\n",
              "  </thead>\n",
              "  <tbody>\n",
              "    <tr>\n",
              "      <th>7404</th>\n",
              "      <td>361</td>\n",
              "      <td>0}2021-12-29</td>\n",
              "      <td>11:44:48</td>\n",
              "      <td>192.168.0.158:62833</td>\n",
              "      <td>Администратор@SRV-KB</td>\n",
              "      <td>haspid=719635943846940421</td>\n",
              "      <td>productid=3197</td>\n",
              "      <td>feat=622</td>\n",
              "      <td>sess=000001E9</td>\n",
              "      <td>api=7.50</td>\n",
              "    </tr>\n",
              "    <tr>\n",
              "      <th>7405</th>\n",
              "      <td>362</td>\n",
              "      <td>0}2021-12-29</td>\n",
              "      <td>11:59:07</td>\n",
              "      <td>192.168.0.158:62915</td>\n",
              "      <td>Администратор@SRV-KB</td>\n",
              "      <td>haspid=719635943846940421</td>\n",
              "      <td>productid=3197</td>\n",
              "      <td>feat=622</td>\n",
              "      <td>sess=000001E9</td>\n",
              "      <td>duration=7</td>\n",
              "    </tr>\n",
              "    <tr>\n",
              "      <th>7406</th>\n",
              "      <td>363</td>\n",
              "      <td>0}2021-12-29</td>\n",
              "      <td>14:17:39</td>\n",
              "      <td>192.168.0.158:63737</td>\n",
              "      <td>Администратор@SRV-KB</td>\n",
              "      <td>haspid=719635943846940421</td>\n",
              "      <td>productid=3197</td>\n",
              "      <td>feat=622</td>\n",
              "      <td>sess=000001DD</td>\n",
              "      <td>duration=12271</td>\n",
              "    </tr>\n",
              "    <tr>\n",
              "      <th>7407</th>\n",
              "      <td>364</td>\n",
              "      <td>0}2021-12-29</td>\n",
              "      <td>14:17:46</td>\n",
              "      <td>192.168.0.158:63737</td>\n",
              "      <td>Администратор@SRV-KB</td>\n",
              "      <td>haspid=719635943846940421</td>\n",
              "      <td>productid=3197</td>\n",
              "      <td>feat=622</td>\n",
              "      <td>sess=000001C1</td>\n",
              "      <td>duration=20529</td>\n",
              "    </tr>\n",
              "    <tr>\n",
              "      <th>7408</th>\n",
              "      <td>365</td>\n",
              "      <td>0}2021-12-29</td>\n",
              "      <td>14:50:16</td>\n",
              "      <td>192.168.0.158:63922</td>\n",
              "      <td>Администратор@SRV-KB</td>\n",
              "      <td>haspid=719635943846940421</td>\n",
              "      <td>productid=3197</td>\n",
              "      <td>feat=622</td>\n",
              "      <td>sess=000001C4</td>\n",
              "      <td>duration=27022</td>\n",
              "    </tr>\n",
              "  </tbody>\n",
              "</table>\n",
              "</div>\n",
              "      <button class=\"colab-df-convert\" onclick=\"convertToInteractive('df-5d7f758f-524a-4a9d-b3fc-97a52685dcc9')\"\n",
              "              title=\"Convert this dataframe to an interactive table.\"\n",
              "              style=\"display:none;\">\n",
              "        \n",
              "  <svg xmlns=\"http://www.w3.org/2000/svg\" height=\"24px\"viewBox=\"0 0 24 24\"\n",
              "       width=\"24px\">\n",
              "    <path d=\"M0 0h24v24H0V0z\" fill=\"none\"/>\n",
              "    <path d=\"M18.56 5.44l.94 2.06.94-2.06 2.06-.94-2.06-.94-.94-2.06-.94 2.06-2.06.94zm-11 1L8.5 8.5l.94-2.06 2.06-.94-2.06-.94L8.5 2.5l-.94 2.06-2.06.94zm10 10l.94 2.06.94-2.06 2.06-.94-2.06-.94-.94-2.06-.94 2.06-2.06.94z\"/><path d=\"M17.41 7.96l-1.37-1.37c-.4-.4-.92-.59-1.43-.59-.52 0-1.04.2-1.43.59L10.3 9.45l-7.72 7.72c-.78.78-.78 2.05 0 2.83L4 21.41c.39.39.9.59 1.41.59.51 0 1.02-.2 1.41-.59l7.78-7.78 2.81-2.81c.8-.78.8-2.07 0-2.86zM5.41 20L4 18.59l7.72-7.72 1.47 1.35L5.41 20z\"/>\n",
              "  </svg>\n",
              "      </button>\n",
              "      \n",
              "  <style>\n",
              "    .colab-df-container {\n",
              "      display:flex;\n",
              "      flex-wrap:wrap;\n",
              "      gap: 12px;\n",
              "    }\n",
              "\n",
              "    .colab-df-convert {\n",
              "      background-color: #E8F0FE;\n",
              "      border: none;\n",
              "      border-radius: 50%;\n",
              "      cursor: pointer;\n",
              "      display: none;\n",
              "      fill: #1967D2;\n",
              "      height: 32px;\n",
              "      padding: 0 0 0 0;\n",
              "      width: 32px;\n",
              "    }\n",
              "\n",
              "    .colab-df-convert:hover {\n",
              "      background-color: #E2EBFA;\n",
              "      box-shadow: 0px 1px 2px rgba(60, 64, 67, 0.3), 0px 1px 3px 1px rgba(60, 64, 67, 0.15);\n",
              "      fill: #174EA6;\n",
              "    }\n",
              "\n",
              "    [theme=dark] .colab-df-convert {\n",
              "      background-color: #3B4455;\n",
              "      fill: #D2E3FC;\n",
              "    }\n",
              "\n",
              "    [theme=dark] .colab-df-convert:hover {\n",
              "      background-color: #434B5C;\n",
              "      box-shadow: 0px 1px 3px 1px rgba(0, 0, 0, 0.15);\n",
              "      filter: drop-shadow(0px 1px 2px rgba(0, 0, 0, 0.3));\n",
              "      fill: #FFFFFF;\n",
              "    }\n",
              "  </style>\n",
              "\n",
              "      <script>\n",
              "        const buttonEl =\n",
              "          document.querySelector('#df-5d7f758f-524a-4a9d-b3fc-97a52685dcc9 button.colab-df-convert');\n",
              "        buttonEl.style.display =\n",
              "          google.colab.kernel.accessAllowed ? 'block' : 'none';\n",
              "\n",
              "        async function convertToInteractive(key) {\n",
              "          const element = document.querySelector('#df-5d7f758f-524a-4a9d-b3fc-97a52685dcc9');\n",
              "          const dataTable =\n",
              "            await google.colab.kernel.invokeFunction('convertToInteractive',\n",
              "                                                     [key], {});\n",
              "          if (!dataTable) return;\n",
              "\n",
              "          const docLinkHtml = 'Like what you see? Visit the ' +\n",
              "            '<a target=\"_blank\" href=https://colab.research.google.com/notebooks/data_table.ipynb>data table notebook</a>'\n",
              "            + ' to learn more about interactive tables.';\n",
              "          element.innerHTML = '';\n",
              "          dataTable['output_type'] = 'display_data';\n",
              "          await google.colab.output.renderOutput(dataTable, element);\n",
              "          const docLink = document.createElement('div');\n",
              "          docLink.innerHTML = docLinkHtml;\n",
              "          element.appendChild(docLink);\n",
              "        }\n",
              "      </script>\n",
              "    </div>\n",
              "  </div>\n",
              "  "
            ],
            "text/plain": [
              "      index          date      time  ...      feat           sess             api\n",
              "7404    361  0}2021-12-29  11:44:48  ...  feat=622  sess=000001E9        api=7.50\n",
              "7405    362  0}2021-12-29  11:59:07  ...  feat=622  sess=000001E9      duration=7\n",
              "7406    363  0}2021-12-29  14:17:39  ...  feat=622  sess=000001DD  duration=12271\n",
              "7407    364  0}2021-12-29  14:17:46  ...  feat=622  sess=000001C1  duration=20529\n",
              "7408    365  0}2021-12-29  14:50:16  ...  feat=622  sess=000001C4  duration=27022\n",
              "\n",
              "[5 rows x 10 columns]"
            ]
          },
          "metadata": {},
          "execution_count": 62
        }
      ]
    },
    {
      "cell_type": "code",
      "source": [
        "df.info()"
      ],
      "metadata": {
        "colab": {
          "base_uri": "https://localhost:8080/"
        },
        "id": "O6MXjxntYpO4",
        "outputId": "4af3b352-9611-47eb-822f-d54b78c9b9a3"
      },
      "execution_count": null,
      "outputs": [
        {
          "output_type": "stream",
          "name": "stdout",
          "text": [
            "<class 'pandas.core.frame.DataFrame'>\n",
            "RangeIndex: 7409 entries, 0 to 7408\n",
            "Data columns (total 10 columns):\n",
            " #   Column     Non-Null Count  Dtype \n",
            "---  ------     --------------  ----- \n",
            " 0   index      7409 non-null   int64 \n",
            " 1   date       7409 non-null   object\n",
            " 2   time       7409 non-null   object\n",
            " 3   ip         7409 non-null   object\n",
            " 4   user       7409 non-null   object\n",
            " 5   haspid     7409 non-null   object\n",
            " 6   productid  7409 non-null   object\n",
            " 7   feat       7409 non-null   object\n",
            " 8   sess       7409 non-null   object\n",
            " 9   api        7409 non-null   object\n",
            "dtypes: int64(1), object(9)\n",
            "memory usage: 579.0+ KB\n"
          ]
        }
      ]
    },
    {
      "cell_type": "code",
      "source": [
        "df['time'] = (pd.to_datetime(df['time'], format='%H:%M:%S')).dt.time"
      ],
      "metadata": {
        "id": "PmW3_PgJbjt0"
      },
      "execution_count": null,
      "outputs": []
    },
    {
      "cell_type": "code",
      "source": [
        "df.describe()"
      ],
      "metadata": {
        "colab": {
          "base_uri": "https://localhost:8080/",
          "height": 300
        },
        "id": "yDqJxJ1lamjD",
        "outputId": "aa0c2ee7-b960-4a36-bcfc-fddc884f82f1"
      },
      "execution_count": null,
      "outputs": [
        {
          "output_type": "execute_result",
          "data": {
            "text/html": [
              "\n",
              "  <div id=\"df-125296f3-469f-44f4-81af-8341a18a92b5\">\n",
              "    <div class=\"colab-df-container\">\n",
              "      <div>\n",
              "<style scoped>\n",
              "    .dataframe tbody tr th:only-of-type {\n",
              "        vertical-align: middle;\n",
              "    }\n",
              "\n",
              "    .dataframe tbody tr th {\n",
              "        vertical-align: top;\n",
              "    }\n",
              "\n",
              "    .dataframe thead th {\n",
              "        text-align: right;\n",
              "    }\n",
              "</style>\n",
              "<table border=\"1\" class=\"dataframe\">\n",
              "  <thead>\n",
              "    <tr style=\"text-align: right;\">\n",
              "      <th></th>\n",
              "      <th>index</th>\n",
              "    </tr>\n",
              "  </thead>\n",
              "  <tbody>\n",
              "    <tr>\n",
              "      <th>count</th>\n",
              "      <td>7409.000000</td>\n",
              "    </tr>\n",
              "    <tr>\n",
              "      <th>mean</th>\n",
              "      <td>1903.837225</td>\n",
              "    </tr>\n",
              "    <tr>\n",
              "      <th>std</th>\n",
              "      <td>1364.282426</td>\n",
              "    </tr>\n",
              "    <tr>\n",
              "      <th>min</th>\n",
              "      <td>1.000000</td>\n",
              "    </tr>\n",
              "    <tr>\n",
              "      <th>25%</th>\n",
              "      <td>744.000000</td>\n",
              "    </tr>\n",
              "    <tr>\n",
              "      <th>50%</th>\n",
              "      <td>1670.000000</td>\n",
              "    </tr>\n",
              "    <tr>\n",
              "      <th>75%</th>\n",
              "      <td>2947.000000</td>\n",
              "    </tr>\n",
              "    <tr>\n",
              "      <th>max</th>\n",
              "      <td>4799.000000</td>\n",
              "    </tr>\n",
              "  </tbody>\n",
              "</table>\n",
              "</div>\n",
              "      <button class=\"colab-df-convert\" onclick=\"convertToInteractive('df-125296f3-469f-44f4-81af-8341a18a92b5')\"\n",
              "              title=\"Convert this dataframe to an interactive table.\"\n",
              "              style=\"display:none;\">\n",
              "        \n",
              "  <svg xmlns=\"http://www.w3.org/2000/svg\" height=\"24px\"viewBox=\"0 0 24 24\"\n",
              "       width=\"24px\">\n",
              "    <path d=\"M0 0h24v24H0V0z\" fill=\"none\"/>\n",
              "    <path d=\"M18.56 5.44l.94 2.06.94-2.06 2.06-.94-2.06-.94-.94-2.06-.94 2.06-2.06.94zm-11 1L8.5 8.5l.94-2.06 2.06-.94-2.06-.94L8.5 2.5l-.94 2.06-2.06.94zm10 10l.94 2.06.94-2.06 2.06-.94-2.06-.94-.94-2.06-.94 2.06-2.06.94z\"/><path d=\"M17.41 7.96l-1.37-1.37c-.4-.4-.92-.59-1.43-.59-.52 0-1.04.2-1.43.59L10.3 9.45l-7.72 7.72c-.78.78-.78 2.05 0 2.83L4 21.41c.39.39.9.59 1.41.59.51 0 1.02-.2 1.41-.59l7.78-7.78 2.81-2.81c.8-.78.8-2.07 0-2.86zM5.41 20L4 18.59l7.72-7.72 1.47 1.35L5.41 20z\"/>\n",
              "  </svg>\n",
              "      </button>\n",
              "      \n",
              "  <style>\n",
              "    .colab-df-container {\n",
              "      display:flex;\n",
              "      flex-wrap:wrap;\n",
              "      gap: 12px;\n",
              "    }\n",
              "\n",
              "    .colab-df-convert {\n",
              "      background-color: #E8F0FE;\n",
              "      border: none;\n",
              "      border-radius: 50%;\n",
              "      cursor: pointer;\n",
              "      display: none;\n",
              "      fill: #1967D2;\n",
              "      height: 32px;\n",
              "      padding: 0 0 0 0;\n",
              "      width: 32px;\n",
              "    }\n",
              "\n",
              "    .colab-df-convert:hover {\n",
              "      background-color: #E2EBFA;\n",
              "      box-shadow: 0px 1px 2px rgba(60, 64, 67, 0.3), 0px 1px 3px 1px rgba(60, 64, 67, 0.15);\n",
              "      fill: #174EA6;\n",
              "    }\n",
              "\n",
              "    [theme=dark] .colab-df-convert {\n",
              "      background-color: #3B4455;\n",
              "      fill: #D2E3FC;\n",
              "    }\n",
              "\n",
              "    [theme=dark] .colab-df-convert:hover {\n",
              "      background-color: #434B5C;\n",
              "      box-shadow: 0px 1px 3px 1px rgba(0, 0, 0, 0.15);\n",
              "      filter: drop-shadow(0px 1px 2px rgba(0, 0, 0, 0.3));\n",
              "      fill: #FFFFFF;\n",
              "    }\n",
              "  </style>\n",
              "\n",
              "      <script>\n",
              "        const buttonEl =\n",
              "          document.querySelector('#df-125296f3-469f-44f4-81af-8341a18a92b5 button.colab-df-convert');\n",
              "        buttonEl.style.display =\n",
              "          google.colab.kernel.accessAllowed ? 'block' : 'none';\n",
              "\n",
              "        async function convertToInteractive(key) {\n",
              "          const element = document.querySelector('#df-125296f3-469f-44f4-81af-8341a18a92b5');\n",
              "          const dataTable =\n",
              "            await google.colab.kernel.invokeFunction('convertToInteractive',\n",
              "                                                     [key], {});\n",
              "          if (!dataTable) return;\n",
              "\n",
              "          const docLinkHtml = 'Like what you see? Visit the ' +\n",
              "            '<a target=\"_blank\" href=https://colab.research.google.com/notebooks/data_table.ipynb>data table notebook</a>'\n",
              "            + ' to learn more about interactive tables.';\n",
              "          element.innerHTML = '';\n",
              "          dataTable['output_type'] = 'display_data';\n",
              "          await google.colab.output.renderOutput(dataTable, element);\n",
              "          const docLink = document.createElement('div');\n",
              "          docLink.innerHTML = docLinkHtml;\n",
              "          element.appendChild(docLink);\n",
              "        }\n",
              "      </script>\n",
              "    </div>\n",
              "  </div>\n",
              "  "
            ],
            "text/plain": [
              "             index\n",
              "count  7409.000000\n",
              "mean   1903.837225\n",
              "std    1364.282426\n",
              "min       1.000000\n",
              "25%     744.000000\n",
              "50%    1670.000000\n",
              "75%    2947.000000\n",
              "max    4799.000000"
            ]
          },
          "metadata": {},
          "execution_count": 60
        }
      ]
    },
    {
      "cell_type": "code",
      "source": [
        ""
      ],
      "metadata": {
        "id": "5I-FQAsIanb8"
      },
      "execution_count": null,
      "outputs": []
    }
  ]
}
