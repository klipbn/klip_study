{
  "nbformat": 4,
  "nbformat_minor": 0,
  "metadata": {
    "colab": {
      "name": "determination_average_number_lodsman_users.ipynb",
      "provenance": [],
      "collapsed_sections": [],
      "toc_visible": true,
      "authorship_tag": "ABX9TyOHOCPv+oHQcQLHltubGmjW"
    },
    "kernelspec": {
      "name": "python3",
      "display_name": "Python 3"
    },
    "language_info": {
      "name": "python"
    }
  },
  "cells": [
    {
      "cell_type": "markdown",
      "source": [
        "Key ID:  \n",
        "458744584072543631 - not actived  \n",
        "719635943846940421 - ЛОЦМАН:КБ 2022,HSL,сетвр  \n",
        "834732166184233058 - ОЭ КОМПАC-3D v20,HSL,сетвр  \n",
        "982786152807025115 - ЛОЦМАН:КБ 2021,HSL,сетвр  \n",
        "\n",
        "Productid:  \n",
        "3197 ЛОЦМАН:КБ 2022,HSL,сетвр   \n",
        "3258 КОМПАC-3D v20,HSL,сетвр "
      ],
      "metadata": {
        "id": "QdZQ6FdpV1I_"
      }
    },
    {
      "cell_type": "code",
      "execution_count": 1,
      "metadata": {
        "id": "gD03zBmaDBPB"
      },
      "outputs": [],
      "source": [
        "import pandas as pd\n",
        "import numpy as np\n",
        "import re"
      ]
    },
    {
      "cell_type": "code",
      "source": [
        "pd.options.display.max_colwidth = 100"
      ],
      "metadata": {
        "id": "egR7Fsf6Ydqj"
      },
      "execution_count": 2,
      "outputs": []
    },
    {
      "cell_type": "code",
      "source": [
        "from google.colab import drive\n",
        "drive.mount('/content/drive')"
      ],
      "metadata": {
        "colab": {
          "base_uri": "https://localhost:8080/"
        },
        "id": "vCsQ88YLEozb",
        "outputId": "67048be6-141f-492c-ba99-e576e4307863"
      },
      "execution_count": 3,
      "outputs": [
        {
          "output_type": "stream",
          "name": "stdout",
          "text": [
            "Drive already mounted at /content/drive; to attempt to forcibly remount, call drive.mount(\"/content/drive\", force_remount=True).\n"
          ]
        }
      ]
    },
    {
      "cell_type": "markdown",
      "source": [
        "Читаем данные с логами:"
      ],
      "metadata": {
        "id": "lcYfrdx3FOR9"
      }
    },
    {
      "cell_type": "code",
      "source": [
        "def merge_logs(year, month, day):\n",
        "\n",
        "  for i in range(1, day):\n",
        "\n",
        "    # чтение файла\n",
        "    df = pd.read_csv(f\"/content/drive/My Drive/projects/determination_average_number_lodsman_users/logs/{year}_{month:02d}_{i:02d}_access.log\", \n",
        "                    sep=r' ', skiprows=1, error_bad_lines=False, warn_bad_lines=False) \n",
        "    # задаем признаки\n",
        "    df.columns = ['nan',\t'nan1',\t'date', 'time',\t'ip',\t'user',\t'port',\t'api' ,\t'features' ,\t'result' ,\t'nan2']\n",
        "    # уберем лишнии признаки\n",
        "    df.drop(['nan', 'nan1', 'nan2'], axis=1, inplace=True)\n",
        "    # удалим пропущенные значения\n",
        "    df = df.dropna(subset=['user', 'features'])\n",
        "\n",
        "    # проведем логическую индексацию\n",
        "    mask = df[\"user\"].str.contains(r\"Администратор\")\n",
        "    dff = df.loc[mask]\n",
        "    mask = dff[\"features\"].str.contains(r\"productid=3197\")\n",
        "    dff = dff.loc[mask]\n",
        "\n",
        "\n",
        "  # соединим логи в одну таблицу\n",
        "    if i == 1: \n",
        "      df_null = pd.DataFrame([np.NaN, np.NaN, np.NaN, np.NaN, np.NaN, np.NaN, np.NaN, np.NaN]).T\n",
        "      df_null.columns = ['median_time', 'haspid', 'productid', 'feat', 'sess', 'api', 'span', 'dtype' ]\n",
        "\n",
        "      df_null = pd.concat([df_null, dff], ignore_index=True)\n",
        "    else:\n",
        "\n",
        "      df_null = pd.concat([df_null, dff], ignore_index=True)  \n",
        "\n",
        "  # уберем лишние признаки и пропущенные значения из созданного переходного датафрейма\n",
        "  df_null.drop(['median_time', 'haspid', 'productid', 'feat', 'sess', 'api', 'span', 'dtype'], axis=1, inplace=True) \n",
        "  df_null = df_null.dropna()\n",
        "  return df_null"
      ],
      "metadata": {
        "id": "yczQT6NXS3NB"
      },
      "execution_count": 4,
      "outputs": []
    },
    {
      "cell_type": "markdown",
      "source": [
        "Сделаем из признака `'features'` датафрейм:"
      ],
      "metadata": {
        "id": "npJpsueMJEow"
      }
    },
    {
      "cell_type": "code",
      "source": [
        "def split_features(data):\n",
        "  for i in range(len(data)-1):\n",
        "    try:\n",
        "      if i == 0: \n",
        "        zz555 = pd.DataFrame([np.NaN, np.NaN, np.NaN, np.NaN, np.NaN, np.NaN, np.NaN, np.NaN]).T\n",
        "        zz555.columns = ['log', 'haspid', 'productid', 'feat', 'sess', 'api', 'span', 'dtype' ]\n",
        "        zz = pd.DataFrame(str(data[\"features\"][i:i+1]).split(',')).T\n",
        "        zz.columns = ['log', 'haspid', 'productid', 'feat', 'sess', 'api', 'span', 'dtype' ]\n",
        "        zz2 = pd.DataFrame(str(data[\"features\"][i+1:i+2]).split(',')).T\n",
        "        zz2.columns = ['log', 'haspid', 'productid', 'feat', 'sess', 'api', 'span', 'dtype' ]\n",
        "        zz555 = pd.concat([zz555, zz, zz2], ignore_index=True)\n",
        "      else:\n",
        "        zz = pd.DataFrame(str(data[\"features\"][i:i+1]).split(',')).T\n",
        "        zz.columns = ['log', 'haspid', 'productid', 'feat', 'sess', 'api', 'span', 'dtype' ]\n",
        "        zz2 = pd.DataFrame(str(data[\"features\"][i+1:i+2]).split(',')).T\n",
        "        zz2.columns = ['log', 'haspid', 'productid', 'feat', 'sess', 'api', 'span', 'dtype' ]\n",
        "        zz555 = pd.concat([zz555, zz, zz2], ignore_index=True)\n",
        "    except: # если будет проблемная строка\n",
        "      i += 1\n",
        "\n",
        "  zzz5556 = zz555.drop_duplicates().dropna().reset_index()   # датафрейм из признака \n",
        "  return zzz5556"
      ],
      "metadata": {
        "id": "tYQWmE4VUlmk"
      },
      "execution_count": 5,
      "outputs": []
    },
    {
      "cell_type": "markdown",
      "source": [
        "Соединим наши датафреймы с признаком `'features'` и с логами. Уберем лишние признаки, пропуски:"
      ],
      "metadata": {
        "id": "43wHNdOpV9Oy"
      }
    },
    {
      "cell_type": "code",
      "source": [
        "def merge_logs_features(data1, data2):\n",
        "  df = data1.merge(data2, how='outer', left_index=True, right_index=True)\n",
        "  df.drop(['port', 'features', 'result', 'index', 'span', 'dtype'], axis=1, inplace=True)\n",
        "  df = df.dropna().reset_index()\n",
        "  return df"
      ],
      "metadata": {
        "id": "YI4TVb8HVQoS"
      },
      "execution_count": 6,
      "outputs": []
    },
    {
      "cell_type": "markdown",
      "source": [
        "Прочитаем данные за октябрь 2021:"
      ],
      "metadata": {
        "id": "1uYKGtmcWNDi"
      }
    },
    {
      "cell_type": "code",
      "source": [
        "oct = merge_logs(2021, 10, 32)\n",
        "oct_feat = split_features(oct)\n",
        "df_oct = merge_logs_features(oct, oct_feat)"
      ],
      "metadata": {
        "id": "v8YUP9CRTZ6X"
      },
      "execution_count": 7,
      "outputs": []
    },
    {
      "cell_type": "markdown",
      "source": [
        "Прочитаем данные за ноябрь 2021:"
      ],
      "metadata": {
        "id": "18tiSaRNWPQe"
      }
    },
    {
      "cell_type": "code",
      "source": [
        "nov = merge_logs(2021, 11, 31)\n",
        "nov_feat = split_features(nov)\n",
        "df_nov = merge_logs_features(nov, nov_feat)"
      ],
      "metadata": {
        "id": "wAaXAQGzUy4_"
      },
      "execution_count": 8,
      "outputs": []
    },
    {
      "cell_type": "markdown",
      "source": [
        "Прочитаем данные за декабрь 2021:"
      ],
      "metadata": {
        "id": "mm2_4acdWRHo"
      }
    },
    {
      "cell_type": "code",
      "source": [
        "dec = merge_logs(2021, 12, 32)\n",
        "dec_feat = split_features(dec)\n",
        "df_dec = merge_logs_features(dec, dec_feat)"
      ],
      "metadata": {
        "id": "gcLzJB28Vg7l"
      },
      "execution_count": 9,
      "outputs": []
    },
    {
      "cell_type": "markdown",
      "source": [
        "Прочитаем данные за январь 2022:"
      ],
      "metadata": {
        "id": "iTK2qPvU1IYo"
      }
    },
    {
      "cell_type": "code",
      "source": [
        "jan = merge_logs(2022, 1, 19)\n",
        "jan_feat = split_features(jan)\n",
        "df_jan = merge_logs_features(jan, jan_feat)"
      ],
      "metadata": {
        "colab": {
          "base_uri": "https://localhost:8080/"
        },
        "id": "4Ho-aFeB1LZm",
        "outputId": "7c8d910d-8dba-4101-b9bf-4df31f1dd3ad"
      },
      "execution_count": 14,
      "outputs": [
        {
          "output_type": "stream",
          "name": "stderr",
          "text": [
            "/usr/local/lib/python3.7/dist-packages/IPython/core/interactiveshell.py:2822: DtypeWarning: Columns (0,10) have mixed types.Specify dtype option on import or set low_memory=False.\n",
            "  if self.run_code(code, result):\n",
            "/usr/local/lib/python3.7/dist-packages/IPython/core/interactiveshell.py:2822: DtypeWarning: Columns (0,10) have mixed types.Specify dtype option on import or set low_memory=False.\n",
            "  if self.run_code(code, result):\n",
            "/usr/local/lib/python3.7/dist-packages/IPython/core/interactiveshell.py:2822: DtypeWarning: Columns (10) have mixed types.Specify dtype option on import or set low_memory=False.\n",
            "  if self.run_code(code, result):\n"
          ]
        }
      ]
    },
    {
      "cell_type": "markdown",
      "source": [
        "Соединим все данные вместе и выведем информацию на экран:"
      ],
      "metadata": {
        "id": "Nxgcb1EeYq9H"
      }
    },
    {
      "cell_type": "code",
      "source": [
        "df = pd.concat([df_oct, df_nov, df_dec, df_jan], ignore_index=True)"
      ],
      "metadata": {
        "id": "P1PzwAPkXOD1"
      },
      "execution_count": 15,
      "outputs": []
    },
    {
      "cell_type": "markdown",
      "source": [
        "Вывыдем последние 5 строк:"
      ],
      "metadata": {
        "id": "kbslXLZwILju"
      }
    },
    {
      "cell_type": "code",
      "source": [
        "df.tail()"
      ],
      "metadata": {
        "colab": {
          "base_uri": "https://localhost:8080/",
          "height": 206
        },
        "id": "Vl_HVVLGYlb4",
        "outputId": "aec13783-a724-4b63-e615-d27d9a6fab00"
      },
      "execution_count": 16,
      "outputs": [
        {
          "output_type": "execute_result",
          "data": {
            "text/html": [
              "\n",
              "  <div id=\"df-9d2a6b68-e27f-4757-8250-45651269e0fb\">\n",
              "    <div class=\"colab-df-container\">\n",
              "      <div>\n",
              "<style scoped>\n",
              "    .dataframe tbody tr th:only-of-type {\n",
              "        vertical-align: middle;\n",
              "    }\n",
              "\n",
              "    .dataframe tbody tr th {\n",
              "        vertical-align: top;\n",
              "    }\n",
              "\n",
              "    .dataframe thead th {\n",
              "        text-align: right;\n",
              "    }\n",
              "</style>\n",
              "<table border=\"1\" class=\"dataframe\">\n",
              "  <thead>\n",
              "    <tr style=\"text-align: right;\">\n",
              "      <th></th>\n",
              "      <th>index</th>\n",
              "      <th>date</th>\n",
              "      <th>time</th>\n",
              "      <th>ip</th>\n",
              "      <th>user</th>\n",
              "      <th>log</th>\n",
              "      <th>haspid</th>\n",
              "      <th>productid</th>\n",
              "      <th>feat</th>\n",
              "      <th>sess</th>\n",
              "      <th>api</th>\n",
              "    </tr>\n",
              "  </thead>\n",
              "  <tbody>\n",
              "    <tr>\n",
              "      <th>7543</th>\n",
              "      <td>135</td>\n",
              "      <td>0}2022-01-18</td>\n",
              "      <td>17:09:36</td>\n",
              "      <td>192.168.0.158:54035</td>\n",
              "      <td>Администратор@SRV-KB</td>\n",
              "      <td>136    LOGOUT(lm=local</td>\n",
              "      <td>haspid=719635943846940421</td>\n",
              "      <td>productid=3197</td>\n",
              "      <td>feat=622</td>\n",
              "      <td>sess=000004E0</td>\n",
              "      <td>duration=24653</td>\n",
              "    </tr>\n",
              "    <tr>\n",
              "      <th>7544</th>\n",
              "      <td>136</td>\n",
              "      <td>0}2022-01-18</td>\n",
              "      <td>17:14:33</td>\n",
              "      <td>192.168.0.158:57951</td>\n",
              "      <td>Администратор@SRV-KB</td>\n",
              "      <td>137    LOGIN_EX(lm=local</td>\n",
              "      <td>haspid=719635943846940421</td>\n",
              "      <td>productid=3197</td>\n",
              "      <td>feat=622</td>\n",
              "      <td>sess=0000051D</td>\n",
              "      <td>api=7.50</td>\n",
              "    </tr>\n",
              "    <tr>\n",
              "      <th>7545</th>\n",
              "      <td>137</td>\n",
              "      <td>0}2022-01-18</td>\n",
              "      <td>17:41:16</td>\n",
              "      <td>192.168.0.158:57932</td>\n",
              "      <td>Администратор@SRV-KB</td>\n",
              "      <td>138    LOGOUT(lm=local</td>\n",
              "      <td>haspid=719635943846940421</td>\n",
              "      <td>productid=3197</td>\n",
              "      <td>feat=622</td>\n",
              "      <td>sess=0000051D</td>\n",
              "      <td>duration=151</td>\n",
              "    </tr>\n",
              "    <tr>\n",
              "      <th>7546</th>\n",
              "      <td>138</td>\n",
              "      <td>0}2022-01-18</td>\n",
              "      <td>17:43:47</td>\n",
              "      <td>192.168.0.158:61336</td>\n",
              "      <td>Администратор@SRV-KB</td>\n",
              "      <td>139    LOGOUT(lm=local</td>\n",
              "      <td>haspid=719635943846940421</td>\n",
              "      <td>productid=3197</td>\n",
              "      <td>feat=622</td>\n",
              "      <td>sess=00000511</td>\n",
              "      <td>duration=8065</td>\n",
              "    </tr>\n",
              "    <tr>\n",
              "      <th>7547</th>\n",
              "      <td>139</td>\n",
              "      <td>0}2022-01-18</td>\n",
              "      <td>17:54:23</td>\n",
              "      <td>192.168.0.158:56374</td>\n",
              "      <td>Администратор@SRV-KB</td>\n",
              "      <td>140    LOGOUT(lm=local</td>\n",
              "      <td>haspid=719635943846940421</td>\n",
              "      <td>productid=3197</td>\n",
              "      <td>feat=622</td>\n",
              "      <td>sess=000004D9</td>\n",
              "      <td>duration=31040</td>\n",
              "    </tr>\n",
              "  </tbody>\n",
              "</table>\n",
              "</div>\n",
              "      <button class=\"colab-df-convert\" onclick=\"convertToInteractive('df-9d2a6b68-e27f-4757-8250-45651269e0fb')\"\n",
              "              title=\"Convert this dataframe to an interactive table.\"\n",
              "              style=\"display:none;\">\n",
              "        \n",
              "  <svg xmlns=\"http://www.w3.org/2000/svg\" height=\"24px\"viewBox=\"0 0 24 24\"\n",
              "       width=\"24px\">\n",
              "    <path d=\"M0 0h24v24H0V0z\" fill=\"none\"/>\n",
              "    <path d=\"M18.56 5.44l.94 2.06.94-2.06 2.06-.94-2.06-.94-.94-2.06-.94 2.06-2.06.94zm-11 1L8.5 8.5l.94-2.06 2.06-.94-2.06-.94L8.5 2.5l-.94 2.06-2.06.94zm10 10l.94 2.06.94-2.06 2.06-.94-2.06-.94-.94-2.06-.94 2.06-2.06.94z\"/><path d=\"M17.41 7.96l-1.37-1.37c-.4-.4-.92-.59-1.43-.59-.52 0-1.04.2-1.43.59L10.3 9.45l-7.72 7.72c-.78.78-.78 2.05 0 2.83L4 21.41c.39.39.9.59 1.41.59.51 0 1.02-.2 1.41-.59l7.78-7.78 2.81-2.81c.8-.78.8-2.07 0-2.86zM5.41 20L4 18.59l7.72-7.72 1.47 1.35L5.41 20z\"/>\n",
              "  </svg>\n",
              "      </button>\n",
              "      \n",
              "  <style>\n",
              "    .colab-df-container {\n",
              "      display:flex;\n",
              "      flex-wrap:wrap;\n",
              "      gap: 12px;\n",
              "    }\n",
              "\n",
              "    .colab-df-convert {\n",
              "      background-color: #E8F0FE;\n",
              "      border: none;\n",
              "      border-radius: 50%;\n",
              "      cursor: pointer;\n",
              "      display: none;\n",
              "      fill: #1967D2;\n",
              "      height: 32px;\n",
              "      padding: 0 0 0 0;\n",
              "      width: 32px;\n",
              "    }\n",
              "\n",
              "    .colab-df-convert:hover {\n",
              "      background-color: #E2EBFA;\n",
              "      box-shadow: 0px 1px 2px rgba(60, 64, 67, 0.3), 0px 1px 3px 1px rgba(60, 64, 67, 0.15);\n",
              "      fill: #174EA6;\n",
              "    }\n",
              "\n",
              "    [theme=dark] .colab-df-convert {\n",
              "      background-color: #3B4455;\n",
              "      fill: #D2E3FC;\n",
              "    }\n",
              "\n",
              "    [theme=dark] .colab-df-convert:hover {\n",
              "      background-color: #434B5C;\n",
              "      box-shadow: 0px 1px 3px 1px rgba(0, 0, 0, 0.15);\n",
              "      filter: drop-shadow(0px 1px 2px rgba(0, 0, 0, 0.3));\n",
              "      fill: #FFFFFF;\n",
              "    }\n",
              "  </style>\n",
              "\n",
              "      <script>\n",
              "        const buttonEl =\n",
              "          document.querySelector('#df-9d2a6b68-e27f-4757-8250-45651269e0fb button.colab-df-convert');\n",
              "        buttonEl.style.display =\n",
              "          google.colab.kernel.accessAllowed ? 'block' : 'none';\n",
              "\n",
              "        async function convertToInteractive(key) {\n",
              "          const element = document.querySelector('#df-9d2a6b68-e27f-4757-8250-45651269e0fb');\n",
              "          const dataTable =\n",
              "            await google.colab.kernel.invokeFunction('convertToInteractive',\n",
              "                                                     [key], {});\n",
              "          if (!dataTable) return;\n",
              "\n",
              "          const docLinkHtml = 'Like what you see? Visit the ' +\n",
              "            '<a target=\"_blank\" href=https://colab.research.google.com/notebooks/data_table.ipynb>data table notebook</a>'\n",
              "            + ' to learn more about interactive tables.';\n",
              "          element.innerHTML = '';\n",
              "          dataTable['output_type'] = 'display_data';\n",
              "          await google.colab.output.renderOutput(dataTable, element);\n",
              "          const docLink = document.createElement('div');\n",
              "          docLink.innerHTML = docLinkHtml;\n",
              "          element.appendChild(docLink);\n",
              "        }\n",
              "      </script>\n",
              "    </div>\n",
              "  </div>\n",
              "  "
            ],
            "text/plain": [
              "      index          date      time  ...      feat           sess             api\n",
              "7543    135  0}2022-01-18  17:09:36  ...  feat=622  sess=000004E0  duration=24653\n",
              "7544    136  0}2022-01-18  17:14:33  ...  feat=622  sess=0000051D        api=7.50\n",
              "7545    137  0}2022-01-18  17:41:16  ...  feat=622  sess=0000051D    duration=151\n",
              "7546    138  0}2022-01-18  17:43:47  ...  feat=622  sess=00000511   duration=8065\n",
              "7547    139  0}2022-01-18  17:54:23  ...  feat=622  sess=000004D9  duration=31040\n",
              "\n",
              "[5 rows x 11 columns]"
            ]
          },
          "metadata": {},
          "execution_count": 16
        }
      ]
    },
    {
      "cell_type": "markdown",
      "source": [
        "Удалим лишние признаки:"
      ],
      "metadata": {
        "id": "eXlreQBpINvq"
      }
    },
    {
      "cell_type": "code",
      "source": [
        "df.drop(['index', 'haspid', 'productid'], axis=1, inplace=True)"
      ],
      "metadata": {
        "id": "7KVp6fWlHidN"
      },
      "execution_count": 17,
      "outputs": []
    },
    {
      "cell_type": "markdown",
      "source": [
        "Приведем столбец `'log'` к нормальному виду:"
      ],
      "metadata": {
        "id": "DXvDd4nDMEAu"
      }
    },
    {
      "cell_type": "code",
      "source": [
        "def replace_bad_space(row):\n",
        "  text = re.sub(r'\\w+\\ ', '', row)\n",
        "  return text"
      ],
      "metadata": {
        "id": "2TckHLuAKtrd"
      },
      "execution_count": 18,
      "outputs": []
    },
    {
      "cell_type": "code",
      "source": [
        "df['log'] = df['log'].apply(replace_bad_space)"
      ],
      "metadata": {
        "id": "T94HWsvJLyRm"
      },
      "execution_count": 19,
      "outputs": []
    },
    {
      "cell_type": "code",
      "source": [
        "df['log'] = df['log'].str.split('(').str[0].add('')"
      ],
      "metadata": {
        "id": "Xn7d_7g7LQ5J"
      },
      "execution_count": 20,
      "outputs": []
    },
    {
      "cell_type": "code",
      "source": [
        "df['log'].value_counts()"
      ],
      "metadata": {
        "colab": {
          "base_uri": "https://localhost:8080/"
        },
        "id": "DemCrU9pLXQD",
        "outputId": "2c786589-2d40-4062-9407-6abf77fc2f90"
      },
      "execution_count": 21,
      "outputs": [
        {
          "output_type": "execute_result",
          "data": {
            "text/plain": [
              "   LOGIN_EX    3812\n",
              "   LOGOUT      3736\n",
              "Name: log, dtype: int64"
            ]
          },
          "metadata": {},
          "execution_count": 21
        }
      ]
    },
    {
      "cell_type": "code",
      "source": [
        "df['log'] = df['log'].replace('   LOGIN_EX', 'login')\n",
        "df['log'] = df['log'].replace('   LOGOUT', 'logout')"
      ],
      "metadata": {
        "id": "40z49avpMXek"
      },
      "execution_count": 22,
      "outputs": []
    },
    {
      "cell_type": "markdown",
      "source": [
        "Приведем признаки с датами и временем к нужнемому типу:"
      ],
      "metadata": {
        "id": "JwRe-QiTGX67"
      }
    },
    {
      "cell_type": "code",
      "source": [
        "def replace_bad_symbols(row):\n",
        "  text = re.sub(r'\\w+\\}', '', row)\n",
        "  return text"
      ],
      "metadata": {
        "id": "6sgHATpHFzH8"
      },
      "execution_count": 23,
      "outputs": []
    },
    {
      "cell_type": "code",
      "source": [
        "df['date'] = df['date'].apply(replace_bad_symbols)"
      ],
      "metadata": {
        "id": "zH5o39LvGpxB"
      },
      "execution_count": 24,
      "outputs": []
    },
    {
      "cell_type": "code",
      "source": [
        "df['date'] = pd.to_datetime(df['date'], format='%Y-%m-%d')"
      ],
      "metadata": {
        "id": "b4xnAIskGGhU"
      },
      "execution_count": 25,
      "outputs": []
    },
    {
      "cell_type": "code",
      "source": [
        "df['time'] = pd.to_datetime(df['time'], format='%H:%M:%S')"
      ],
      "metadata": {
        "id": "16aDyRXTmeCS"
      },
      "execution_count": 26,
      "outputs": []
    },
    {
      "cell_type": "markdown",
      "source": [
        "Создадим столбец с переводом времени в секунды:"
      ],
      "metadata": {
        "id": "qx1eoQA4nnMG"
      }
    },
    {
      "cell_type": "code",
      "source": [
        "df['duration'] = (df['time'].dt.hour*60+df['time'].dt.minute)*60 + df['time'].dt.second"
      ],
      "metadata": {
        "id": "uaC6TTHSYban"
      },
      "execution_count": 27,
      "outputs": []
    },
    {
      "cell_type": "code",
      "source": [
        "df['time'] = (pd.to_datetime(df['time'], format='%H:%M:%S')).dt.time"
      ],
      "metadata": {
        "id": "lDUidSgpwbZd"
      },
      "execution_count": 28,
      "outputs": []
    },
    {
      "cell_type": "markdown",
      "source": [
        "Выведем информацию о получившийся таблице:"
      ],
      "metadata": {
        "id": "TxHpo5-bHZ-P"
      }
    },
    {
      "cell_type": "code",
      "source": [
        "df.info()"
      ],
      "metadata": {
        "colab": {
          "base_uri": "https://localhost:8080/"
        },
        "id": "aHg2ZaVhHWaP",
        "outputId": "143f3343-b35a-4f9c-d6e3-730067ef3d3c"
      },
      "execution_count": 29,
      "outputs": [
        {
          "output_type": "stream",
          "name": "stdout",
          "text": [
            "<class 'pandas.core.frame.DataFrame'>\n",
            "RangeIndex: 7548 entries, 0 to 7547\n",
            "Data columns (total 9 columns):\n",
            " #   Column    Non-Null Count  Dtype         \n",
            "---  ------    --------------  -----         \n",
            " 0   date      7548 non-null   datetime64[ns]\n",
            " 1   time      7548 non-null   object        \n",
            " 2   ip        7548 non-null   object        \n",
            " 3   user      7548 non-null   object        \n",
            " 4   log       7548 non-null   object        \n",
            " 5   feat      7548 non-null   object        \n",
            " 6   sess      7548 non-null   object        \n",
            " 7   api       7548 non-null   object        \n",
            " 8   duration  7548 non-null   int64         \n",
            "dtypes: datetime64[ns](1), int64(1), object(7)\n",
            "memory usage: 530.8+ KB\n"
          ]
        }
      ]
    },
    {
      "cell_type": "code",
      "source": [
        "df.head()"
      ],
      "metadata": {
        "colab": {
          "base_uri": "https://localhost:8080/",
          "height": 206
        },
        "id": "g4nciyfYnVSx",
        "outputId": "26670f45-932d-4b62-b568-2afbf99af99e"
      },
      "execution_count": 30,
      "outputs": [
        {
          "output_type": "execute_result",
          "data": {
            "text/html": [
              "\n",
              "  <div id=\"df-9f26fb86-e98e-4481-9930-94e68f0c024a\">\n",
              "    <div class=\"colab-df-container\">\n",
              "      <div>\n",
              "<style scoped>\n",
              "    .dataframe tbody tr th:only-of-type {\n",
              "        vertical-align: middle;\n",
              "    }\n",
              "\n",
              "    .dataframe tbody tr th {\n",
              "        vertical-align: top;\n",
              "    }\n",
              "\n",
              "    .dataframe thead th {\n",
              "        text-align: right;\n",
              "    }\n",
              "</style>\n",
              "<table border=\"1\" class=\"dataframe\">\n",
              "  <thead>\n",
              "    <tr style=\"text-align: right;\">\n",
              "      <th></th>\n",
              "      <th>date</th>\n",
              "      <th>time</th>\n",
              "      <th>ip</th>\n",
              "      <th>user</th>\n",
              "      <th>log</th>\n",
              "      <th>feat</th>\n",
              "      <th>sess</th>\n",
              "      <th>api</th>\n",
              "      <th>duration</th>\n",
              "    </tr>\n",
              "  </thead>\n",
              "  <tbody>\n",
              "    <tr>\n",
              "      <th>0</th>\n",
              "      <td>2021-10-01</td>\n",
              "      <td>00:40:58</td>\n",
              "      <td>192.168.0.158:59813</td>\n",
              "      <td>Администратор@SRV-KB</td>\n",
              "      <td>login</td>\n",
              "      <td>feat=594</td>\n",
              "      <td>sess=000003F3</td>\n",
              "      <td>api=7.50</td>\n",
              "      <td>2458</td>\n",
              "    </tr>\n",
              "    <tr>\n",
              "      <th>1</th>\n",
              "      <td>2021-10-01</td>\n",
              "      <td>05:03:18</td>\n",
              "      <td>192.168.0.158:60775</td>\n",
              "      <td>Администратор@SRV-KB</td>\n",
              "      <td>logout</td>\n",
              "      <td>feat=594</td>\n",
              "      <td>sess=000003F3</td>\n",
              "      <td>duration=1</td>\n",
              "      <td>18198</td>\n",
              "    </tr>\n",
              "    <tr>\n",
              "      <th>2</th>\n",
              "      <td>2021-10-01</td>\n",
              "      <td>05:03:18</td>\n",
              "      <td>192.168.0.158:60775</td>\n",
              "      <td>Администратор@SRV-KB</td>\n",
              "      <td>login</td>\n",
              "      <td>feat=594</td>\n",
              "      <td>sess=00000404</td>\n",
              "      <td>api=7.50</td>\n",
              "      <td>18198</td>\n",
              "    </tr>\n",
              "    <tr>\n",
              "      <th>3</th>\n",
              "      <td>2021-10-01</td>\n",
              "      <td>08:03:42</td>\n",
              "      <td>192.168.0.158:61435</td>\n",
              "      <td>Администратор@SRV-KB</td>\n",
              "      <td>logout</td>\n",
              "      <td>feat=594</td>\n",
              "      <td>sess=00000404</td>\n",
              "      <td>duration=0</td>\n",
              "      <td>29022</td>\n",
              "    </tr>\n",
              "    <tr>\n",
              "      <th>4</th>\n",
              "      <td>2021-10-01</td>\n",
              "      <td>08:03:43</td>\n",
              "      <td>192.168.0.158:61435</td>\n",
              "      <td>Администратор@SRV-KB</td>\n",
              "      <td>login</td>\n",
              "      <td>feat=594</td>\n",
              "      <td>sess=00000406</td>\n",
              "      <td>api=7.50</td>\n",
              "      <td>29023</td>\n",
              "    </tr>\n",
              "  </tbody>\n",
              "</table>\n",
              "</div>\n",
              "      <button class=\"colab-df-convert\" onclick=\"convertToInteractive('df-9f26fb86-e98e-4481-9930-94e68f0c024a')\"\n",
              "              title=\"Convert this dataframe to an interactive table.\"\n",
              "              style=\"display:none;\">\n",
              "        \n",
              "  <svg xmlns=\"http://www.w3.org/2000/svg\" height=\"24px\"viewBox=\"0 0 24 24\"\n",
              "       width=\"24px\">\n",
              "    <path d=\"M0 0h24v24H0V0z\" fill=\"none\"/>\n",
              "    <path d=\"M18.56 5.44l.94 2.06.94-2.06 2.06-.94-2.06-.94-.94-2.06-.94 2.06-2.06.94zm-11 1L8.5 8.5l.94-2.06 2.06-.94-2.06-.94L8.5 2.5l-.94 2.06-2.06.94zm10 10l.94 2.06.94-2.06 2.06-.94-2.06-.94-.94-2.06-.94 2.06-2.06.94z\"/><path d=\"M17.41 7.96l-1.37-1.37c-.4-.4-.92-.59-1.43-.59-.52 0-1.04.2-1.43.59L10.3 9.45l-7.72 7.72c-.78.78-.78 2.05 0 2.83L4 21.41c.39.39.9.59 1.41.59.51 0 1.02-.2 1.41-.59l7.78-7.78 2.81-2.81c.8-.78.8-2.07 0-2.86zM5.41 20L4 18.59l7.72-7.72 1.47 1.35L5.41 20z\"/>\n",
              "  </svg>\n",
              "      </button>\n",
              "      \n",
              "  <style>\n",
              "    .colab-df-container {\n",
              "      display:flex;\n",
              "      flex-wrap:wrap;\n",
              "      gap: 12px;\n",
              "    }\n",
              "\n",
              "    .colab-df-convert {\n",
              "      background-color: #E8F0FE;\n",
              "      border: none;\n",
              "      border-radius: 50%;\n",
              "      cursor: pointer;\n",
              "      display: none;\n",
              "      fill: #1967D2;\n",
              "      height: 32px;\n",
              "      padding: 0 0 0 0;\n",
              "      width: 32px;\n",
              "    }\n",
              "\n",
              "    .colab-df-convert:hover {\n",
              "      background-color: #E2EBFA;\n",
              "      box-shadow: 0px 1px 2px rgba(60, 64, 67, 0.3), 0px 1px 3px 1px rgba(60, 64, 67, 0.15);\n",
              "      fill: #174EA6;\n",
              "    }\n",
              "\n",
              "    [theme=dark] .colab-df-convert {\n",
              "      background-color: #3B4455;\n",
              "      fill: #D2E3FC;\n",
              "    }\n",
              "\n",
              "    [theme=dark] .colab-df-convert:hover {\n",
              "      background-color: #434B5C;\n",
              "      box-shadow: 0px 1px 3px 1px rgba(0, 0, 0, 0.15);\n",
              "      filter: drop-shadow(0px 1px 2px rgba(0, 0, 0, 0.3));\n",
              "      fill: #FFFFFF;\n",
              "    }\n",
              "  </style>\n",
              "\n",
              "      <script>\n",
              "        const buttonEl =\n",
              "          document.querySelector('#df-9f26fb86-e98e-4481-9930-94e68f0c024a button.colab-df-convert');\n",
              "        buttonEl.style.display =\n",
              "          google.colab.kernel.accessAllowed ? 'block' : 'none';\n",
              "\n",
              "        async function convertToInteractive(key) {\n",
              "          const element = document.querySelector('#df-9f26fb86-e98e-4481-9930-94e68f0c024a');\n",
              "          const dataTable =\n",
              "            await google.colab.kernel.invokeFunction('convertToInteractive',\n",
              "                                                     [key], {});\n",
              "          if (!dataTable) return;\n",
              "\n",
              "          const docLinkHtml = 'Like what you see? Visit the ' +\n",
              "            '<a target=\"_blank\" href=https://colab.research.google.com/notebooks/data_table.ipynb>data table notebook</a>'\n",
              "            + ' to learn more about interactive tables.';\n",
              "          element.innerHTML = '';\n",
              "          dataTable['output_type'] = 'display_data';\n",
              "          await google.colab.output.renderOutput(dataTable, element);\n",
              "          const docLink = document.createElement('div');\n",
              "          docLink.innerHTML = docLinkHtml;\n",
              "          element.appendChild(docLink);\n",
              "        }\n",
              "      </script>\n",
              "    </div>\n",
              "  </div>\n",
              "  "
            ],
            "text/plain": [
              "        date      time  ...         api duration\n",
              "0 2021-10-01  00:40:58  ...    api=7.50     2458\n",
              "1 2021-10-01  05:03:18  ...  duration=1    18198\n",
              "2 2021-10-01  05:03:18  ...    api=7.50    18198\n",
              "3 2021-10-01  08:03:42  ...  duration=0    29022\n",
              "4 2021-10-01  08:03:43  ...    api=7.50    29023\n",
              "\n",
              "[5 rows x 9 columns]"
            ]
          },
          "metadata": {},
          "execution_count": 30
        }
      ]
    },
    {
      "cell_type": "markdown",
      "source": [
        "Создадим сводную таблицу по датам, в которую положим индификатор сессии, дату, продолжительность сессии:"
      ],
      "metadata": {
        "id": "3C1lMTPAvfVz"
      }
    },
    {
      "cell_type": "code",
      "source": [
        "#df_sample = df[df['date'] == '2021-10-01']\n",
        "df_sample = df"
      ],
      "metadata": {
        "id": "XzvUcoj6qGVV"
      },
      "execution_count": 31,
      "outputs": []
    },
    {
      "cell_type": "code",
      "source": [
        "df_group_sess = df_sample.pivot_table(index=['sess', 'date'], values='duration', aggfunc=['first', 'last']).reset_index()"
      ],
      "metadata": {
        "id": "pnkz5yB0qcND"
      },
      "execution_count": 32,
      "outputs": []
    },
    {
      "cell_type": "code",
      "source": [
        "df_group_sess = df_group_sess.droplevel(level=1, axis=1)"
      ],
      "metadata": {
        "id": "z_xvFZRIrER7"
      },
      "execution_count": 33,
      "outputs": []
    },
    {
      "cell_type": "code",
      "source": [
        "df_group_sess['duration'] = df_group_sess['last'] - df_group_sess['first']"
      ],
      "metadata": {
        "id": "N31tVG9rvrdk"
      },
      "execution_count": 34,
      "outputs": []
    },
    {
      "cell_type": "markdown",
      "source": [
        "Выберем сессии продолжительностью более чем 2 минуты:"
      ],
      "metadata": {
        "id": "jK_7h_2EzpTL"
      }
    },
    {
      "cell_type": "code",
      "source": [
        "df_group_sess = (df_group_sess[df_group_sess['duration'] > 120]).reset_index()"
      ],
      "metadata": {
        "id": "MeOnDqQ3yXFN"
      },
      "execution_count": 35,
      "outputs": []
    },
    {
      "cell_type": "code",
      "source": [
        "df_group_sess = df_group_sess.drop(['index', 'first', 'last'], axis=1)"
      ],
      "metadata": {
        "id": "KHy1Hs6Myi_N"
      },
      "execution_count": 36,
      "outputs": []
    },
    {
      "cell_type": "markdown",
      "source": [
        "Проведем группировку по датам, и создадим признаки количество сессий, продолжительность, среднеяя, медианна:"
      ],
      "metadata": {
        "id": "rDUkTv6Ey3Qg"
      }
    },
    {
      "cell_type": "code",
      "source": [
        "df_group_sess_days = df_group_sess.pivot_table(index='date', values=['duration'], aggfunc=['count', 'sum', 'mean', 'median']).reset_index()"
      ],
      "metadata": {
        "id": "qxibdjJIu3l4"
      },
      "execution_count": 37,
      "outputs": []
    },
    {
      "cell_type": "code",
      "source": [
        "df_group_sess_days = df_group_sess_days.droplevel(level=1, axis=1)"
      ],
      "metadata": {
        "id": "85ALwn_Czzi4"
      },
      "execution_count": 38,
      "outputs": []
    },
    {
      "cell_type": "markdown",
      "source": [
        "Посмотрим на таблицу:"
      ],
      "metadata": {
        "id": "As7xQPfy0A8B"
      }
    },
    {
      "cell_type": "code",
      "source": [
        "df_group_sess_days"
      ],
      "metadata": {
        "colab": {
          "base_uri": "https://localhost:8080/",
          "height": 424
        },
        "id": "ABj6w_9WxvH_",
        "outputId": "8cca1af7-95da-41cd-de1d-a1aa6eb0474a"
      },
      "execution_count": 39,
      "outputs": [
        {
          "output_type": "execute_result",
          "data": {
            "text/html": [
              "\n",
              "  <div id=\"df-47629a24-b3cc-4861-84ae-6d440b77b882\">\n",
              "    <div class=\"colab-df-container\">\n",
              "      <div>\n",
              "<style scoped>\n",
              "    .dataframe tbody tr th:only-of-type {\n",
              "        vertical-align: middle;\n",
              "    }\n",
              "\n",
              "    .dataframe tbody tr th {\n",
              "        vertical-align: top;\n",
              "    }\n",
              "\n",
              "    .dataframe thead th {\n",
              "        text-align: right;\n",
              "    }\n",
              "</style>\n",
              "<table border=\"1\" class=\"dataframe\">\n",
              "  <thead>\n",
              "    <tr style=\"text-align: right;\">\n",
              "      <th></th>\n",
              "      <th>date</th>\n",
              "      <th>count</th>\n",
              "      <th>sum</th>\n",
              "      <th>mean</th>\n",
              "      <th>median</th>\n",
              "    </tr>\n",
              "  </thead>\n",
              "  <tbody>\n",
              "    <tr>\n",
              "      <th>0</th>\n",
              "      <td>2021-10-01</td>\n",
              "      <td>9</td>\n",
              "      <td>53122</td>\n",
              "      <td>5902.444444</td>\n",
              "      <td>2915.0</td>\n",
              "    </tr>\n",
              "    <tr>\n",
              "      <th>1</th>\n",
              "      <td>2021-10-02</td>\n",
              "      <td>1</td>\n",
              "      <td>19680</td>\n",
              "      <td>19680.000000</td>\n",
              "      <td>19680.0</td>\n",
              "    </tr>\n",
              "    <tr>\n",
              "      <th>2</th>\n",
              "      <td>2021-10-04</td>\n",
              "      <td>13</td>\n",
              "      <td>69754</td>\n",
              "      <td>5365.692308</td>\n",
              "      <td>979.0</td>\n",
              "    </tr>\n",
              "    <tr>\n",
              "      <th>3</th>\n",
              "      <td>2021-10-05</td>\n",
              "      <td>13</td>\n",
              "      <td>52593</td>\n",
              "      <td>4045.615385</td>\n",
              "      <td>1351.0</td>\n",
              "    </tr>\n",
              "    <tr>\n",
              "      <th>4</th>\n",
              "      <td>2021-10-06</td>\n",
              "      <td>18</td>\n",
              "      <td>70276</td>\n",
              "      <td>3904.222222</td>\n",
              "      <td>1407.5</td>\n",
              "    </tr>\n",
              "    <tr>\n",
              "      <th>...</th>\n",
              "      <td>...</td>\n",
              "      <td>...</td>\n",
              "      <td>...</td>\n",
              "      <td>...</td>\n",
              "      <td>...</td>\n",
              "    </tr>\n",
              "    <tr>\n",
              "      <th>62</th>\n",
              "      <td>2022-01-12</td>\n",
              "      <td>11</td>\n",
              "      <td>100632</td>\n",
              "      <td>9148.363636</td>\n",
              "      <td>4018.0</td>\n",
              "    </tr>\n",
              "    <tr>\n",
              "      <th>63</th>\n",
              "      <td>2022-01-13</td>\n",
              "      <td>9</td>\n",
              "      <td>41386</td>\n",
              "      <td>4598.444444</td>\n",
              "      <td>2841.0</td>\n",
              "    </tr>\n",
              "    <tr>\n",
              "      <th>64</th>\n",
              "      <td>2022-01-14</td>\n",
              "      <td>17</td>\n",
              "      <td>105638</td>\n",
              "      <td>6214.000000</td>\n",
              "      <td>1450.0</td>\n",
              "    </tr>\n",
              "    <tr>\n",
              "      <th>65</th>\n",
              "      <td>2022-01-17</td>\n",
              "      <td>4</td>\n",
              "      <td>87936</td>\n",
              "      <td>21984.000000</td>\n",
              "      <td>21930.0</td>\n",
              "    </tr>\n",
              "    <tr>\n",
              "      <th>66</th>\n",
              "      <td>2022-01-18</td>\n",
              "      <td>11</td>\n",
              "      <td>91081</td>\n",
              "      <td>8280.090909</td>\n",
              "      <td>3750.0</td>\n",
              "    </tr>\n",
              "  </tbody>\n",
              "</table>\n",
              "<p>67 rows × 5 columns</p>\n",
              "</div>\n",
              "      <button class=\"colab-df-convert\" onclick=\"convertToInteractive('df-47629a24-b3cc-4861-84ae-6d440b77b882')\"\n",
              "              title=\"Convert this dataframe to an interactive table.\"\n",
              "              style=\"display:none;\">\n",
              "        \n",
              "  <svg xmlns=\"http://www.w3.org/2000/svg\" height=\"24px\"viewBox=\"0 0 24 24\"\n",
              "       width=\"24px\">\n",
              "    <path d=\"M0 0h24v24H0V0z\" fill=\"none\"/>\n",
              "    <path d=\"M18.56 5.44l.94 2.06.94-2.06 2.06-.94-2.06-.94-.94-2.06-.94 2.06-2.06.94zm-11 1L8.5 8.5l.94-2.06 2.06-.94-2.06-.94L8.5 2.5l-.94 2.06-2.06.94zm10 10l.94 2.06.94-2.06 2.06-.94-2.06-.94-.94-2.06-.94 2.06-2.06.94z\"/><path d=\"M17.41 7.96l-1.37-1.37c-.4-.4-.92-.59-1.43-.59-.52 0-1.04.2-1.43.59L10.3 9.45l-7.72 7.72c-.78.78-.78 2.05 0 2.83L4 21.41c.39.39.9.59 1.41.59.51 0 1.02-.2 1.41-.59l7.78-7.78 2.81-2.81c.8-.78.8-2.07 0-2.86zM5.41 20L4 18.59l7.72-7.72 1.47 1.35L5.41 20z\"/>\n",
              "  </svg>\n",
              "      </button>\n",
              "      \n",
              "  <style>\n",
              "    .colab-df-container {\n",
              "      display:flex;\n",
              "      flex-wrap:wrap;\n",
              "      gap: 12px;\n",
              "    }\n",
              "\n",
              "    .colab-df-convert {\n",
              "      background-color: #E8F0FE;\n",
              "      border: none;\n",
              "      border-radius: 50%;\n",
              "      cursor: pointer;\n",
              "      display: none;\n",
              "      fill: #1967D2;\n",
              "      height: 32px;\n",
              "      padding: 0 0 0 0;\n",
              "      width: 32px;\n",
              "    }\n",
              "\n",
              "    .colab-df-convert:hover {\n",
              "      background-color: #E2EBFA;\n",
              "      box-shadow: 0px 1px 2px rgba(60, 64, 67, 0.3), 0px 1px 3px 1px rgba(60, 64, 67, 0.15);\n",
              "      fill: #174EA6;\n",
              "    }\n",
              "\n",
              "    [theme=dark] .colab-df-convert {\n",
              "      background-color: #3B4455;\n",
              "      fill: #D2E3FC;\n",
              "    }\n",
              "\n",
              "    [theme=dark] .colab-df-convert:hover {\n",
              "      background-color: #434B5C;\n",
              "      box-shadow: 0px 1px 3px 1px rgba(0, 0, 0, 0.15);\n",
              "      filter: drop-shadow(0px 1px 2px rgba(0, 0, 0, 0.3));\n",
              "      fill: #FFFFFF;\n",
              "    }\n",
              "  </style>\n",
              "\n",
              "      <script>\n",
              "        const buttonEl =\n",
              "          document.querySelector('#df-47629a24-b3cc-4861-84ae-6d440b77b882 button.colab-df-convert');\n",
              "        buttonEl.style.display =\n",
              "          google.colab.kernel.accessAllowed ? 'block' : 'none';\n",
              "\n",
              "        async function convertToInteractive(key) {\n",
              "          const element = document.querySelector('#df-47629a24-b3cc-4861-84ae-6d440b77b882');\n",
              "          const dataTable =\n",
              "            await google.colab.kernel.invokeFunction('convertToInteractive',\n",
              "                                                     [key], {});\n",
              "          if (!dataTable) return;\n",
              "\n",
              "          const docLinkHtml = 'Like what you see? Visit the ' +\n",
              "            '<a target=\"_blank\" href=https://colab.research.google.com/notebooks/data_table.ipynb>data table notebook</a>'\n",
              "            + ' to learn more about interactive tables.';\n",
              "          element.innerHTML = '';\n",
              "          dataTable['output_type'] = 'display_data';\n",
              "          await google.colab.output.renderOutput(dataTable, element);\n",
              "          const docLink = document.createElement('div');\n",
              "          docLink.innerHTML = docLinkHtml;\n",
              "          element.appendChild(docLink);\n",
              "        }\n",
              "      </script>\n",
              "    </div>\n",
              "  </div>\n",
              "  "
            ],
            "text/plain": [
              "         date  count     sum          mean   median\n",
              "0  2021-10-01      9   53122   5902.444444   2915.0\n",
              "1  2021-10-02      1   19680  19680.000000  19680.0\n",
              "2  2021-10-04     13   69754   5365.692308    979.0\n",
              "3  2021-10-05     13   52593   4045.615385   1351.0\n",
              "4  2021-10-06     18   70276   3904.222222   1407.5\n",
              "..        ...    ...     ...           ...      ...\n",
              "62 2022-01-12     11  100632   9148.363636   4018.0\n",
              "63 2022-01-13      9   41386   4598.444444   2841.0\n",
              "64 2022-01-14     17  105638   6214.000000   1450.0\n",
              "65 2022-01-17      4   87936  21984.000000  21930.0\n",
              "66 2022-01-18     11   91081   8280.090909   3750.0\n",
              "\n",
              "[67 rows x 5 columns]"
            ]
          },
          "metadata": {},
          "execution_count": 39
        }
      ]
    },
    {
      "cell_type": "code",
      "source": [
        ""
      ],
      "metadata": {
        "id": "Z4Fz24Egytfl"
      },
      "execution_count": 39,
      "outputs": []
    }
  ]
}