{
  "nbformat": 4,
  "nbformat_minor": 0,
  "metadata": {
    "colab": {
      "name": "determination_average_number_lodsman_users.ipynb",
      "provenance": [],
      "collapsed_sections": [],
      "authorship_tag": "ABX9TyNOgc4BKkOr3bDLp0u+LIno",
      "include_colab_link": true
    },
    "kernelspec": {
      "name": "python3",
      "display_name": "Python 3"
    },
    "language_info": {
      "name": "python"
    }
  },
  "cells": [
    {
      "cell_type": "markdown",
      "metadata": {
        "id": "view-in-github",
        "colab_type": "text"
      },
      "source": [
        "<a href=\"https://colab.research.google.com/github/klipbn/klip_alex/blob/main/determination_average_number_lodsman_users/determination_average_number_lodsman_users.ipynb\" target=\"_parent\"><img src=\"https://colab.research.google.com/assets/colab-badge.svg\" alt=\"Open In Colab\"/></a>"
      ]
    },
    {
      "cell_type": "markdown",
      "source": [
        "Key ID:  \n",
        "458744584072543631 - not actived  \n",
        "719635943846940421 - ЛОЦМАН:КБ 2022,HSL,сетвр  \n",
        "834732166184233058 - ОЭ КОМПАC-3D v20,HSL,сетвр  \n",
        "982786152807025115 - ЛОЦМАН:КБ 2021,HSL,сетвр  \n",
        "\n",
        "Productid:  \n",
        "3197 ЛОЦМАН:КБ 2022,HSL,сетвр   \n",
        "3258 КОМПАC-3D v20,HSL,сетвр "
      ],
      "metadata": {
        "id": "QdZQ6FdpV1I_"
      }
    },
    {
      "cell_type": "code",
      "execution_count": 1,
      "metadata": {
        "id": "gD03zBmaDBPB"
      },
      "outputs": [],
      "source": [
        "import pandas as pd\n",
        "import numpy as np"
      ]
    },
    {
      "cell_type": "code",
      "source": [
        "pd.options.display.max_colwidth = 100"
      ],
      "metadata": {
        "id": "egR7Fsf6Ydqj"
      },
      "execution_count": 2,
      "outputs": []
    },
    {
      "cell_type": "code",
      "source": [
        "from google.colab import drive\n",
        "drive.mount('/content/drive')"
      ],
      "metadata": {
        "colab": {
          "base_uri": "https://localhost:8080/"
        },
        "id": "vCsQ88YLEozb",
        "outputId": "713ff87d-9365-461f-a4fc-5d793adbeb61"
      },
      "execution_count": 3,
      "outputs": [
        {
          "output_type": "stream",
          "name": "stdout",
          "text": [
            "Drive already mounted at /content/drive; to attempt to forcibly remount, call drive.mount(\"/content/drive\", force_remount=True).\n"
          ]
        }
      ]
    },
    {
      "cell_type": "markdown",
      "source": [
        "Читаем данные с логами:"
      ],
      "metadata": {
        "id": "lcYfrdx3FOR9"
      }
    },
    {
      "cell_type": "code",
      "source": [
        "for i in range(1, 15):\n",
        "\n",
        "  # чтение файла\n",
        "  df = pd.read_csv(f\"/content/drive/My Drive/Projects/determination_average_number_lodsman_users/logs/2021_11_{i:02d}_access.log\", \n",
        "                  sep=r' ', skiprows=1, error_bad_lines=False, warn_bad_lines=False) \n",
        "  # задаем признаки\n",
        "  df.columns = ['nan',\t'nan1',\t'date', 'time',\t'ip',\t'user',\t'port',\t'api' ,\t'features' ,\t'result' ,\t'nan2']\n",
        "  # уберем лишнии признаки\n",
        "  df.drop(['nan', 'nan1', 'nan2'], axis=1, inplace=True)\n",
        "  # удалим пропущенные значения\n",
        "  df = df.dropna(subset=['user', 'features'])\n",
        "\n",
        "  # проведем логическую индексацию\n",
        "  mask = df[\"user\"].str.contains(r\"Администратор\")\n",
        "  dff = df.loc[mask]\n",
        "  mask = dff[\"features\"].str.contains(r\"productid=3197\")\n",
        "  dff = dff.loc[mask]\n",
        "\n",
        "\n",
        "# соединим логи в одну таблицу\n",
        "  if i == 1: \n",
        "    df_null = pd.DataFrame([np.NaN, np.NaN, np.NaN, np.NaN, np.NaN, np.NaN, np.NaN, np.NaN]).T\n",
        "    df_null.columns = ['median_time', 'haspid', 'productid', 'feat', 'sess', 'api', 'span', 'dtype' ]\n",
        "\n",
        "    df_null = pd.concat([df_null, dff], ignore_index=True)\n",
        "  else:\n",
        "\n",
        "    df_null = pd.concat([df_null, dff], ignore_index=True)  \n",
        "\n",
        "# уберем лишние признаки и пропущенные значения из созданного переходного датафрейма\n",
        "df_null.drop(['median_time', 'haspid', 'productid', 'feat', 'sess', 'api', 'span', 'dtype'], axis=1, inplace=True) \n",
        "df_null = df_null.dropna()"
      ],
      "metadata": {
        "id": "rL3bwmTwGo0P"
      },
      "execution_count": 20,
      "outputs": []
    },
    {
      "cell_type": "markdown",
      "source": [
        "Сделаем из признака `'features'` датафрейм:"
      ],
      "metadata": {
        "id": "npJpsueMJEow"
      }
    },
    {
      "cell_type": "code",
      "source": [
        "for i in range(len(df_null)-1):\n",
        "  if i == 0: \n",
        "    zz555 = pd.DataFrame([np.NaN, np.NaN, np.NaN, np.NaN, np.NaN, np.NaN, np.NaN, np.NaN]).T\n",
        "    zz555.columns = ['median_time', 'haspid', 'productid', 'feat', 'sess', 'api', 'span', 'dtype' ]\n",
        "    zz = pd.DataFrame(str(df_null[\"features\"][i:i+1]).split(',')).T\n",
        "    zz.columns = ['median_time', 'haspid', 'productid', 'feat', 'sess', 'api', 'span', 'dtype' ]\n",
        "    zz2 = pd.DataFrame(str(df_null[\"features\"][i+1:i+2]).split(',')).T\n",
        "    zz2.columns = ['median_time', 'haspid', 'productid', 'feat', 'sess', 'api', 'span', 'dtype' ]\n",
        "    zz555 = pd.concat([zz555, zz, zz2], ignore_index=True)\n",
        "  else:\n",
        "    zz = pd.DataFrame(str(df_null[\"features\"][i:i+1]).split(',')).T\n",
        "    zz.columns = ['median_time', 'haspid', 'productid', 'feat', 'sess', 'api', 'span', 'dtype' ]\n",
        "    zz2 = pd.DataFrame(str(df_null[\"features\"][i+1:i+2]).split(',')).T\n",
        "    zz2.columns = ['median_time', 'haspid', 'productid', 'feat', 'sess', 'api', 'span', 'dtype' ]\n",
        "    zz555 = pd.concat([zz555, zz, zz2], ignore_index=True)\n",
        "\n",
        "zzz5556 = zz555.drop_duplicates().dropna().reset_index()   # датафрейм из признака "
      ],
      "metadata": {
        "id": "_mluXbh0IALK"
      },
      "execution_count": 21,
      "outputs": []
    },
    {
      "cell_type": "markdown",
      "source": [
        "Соединим наши датафреймы с признаком `'features'` и с логами. Уберем лишние признаки, пропуски:"
      ],
      "metadata": {
        "id": "VZhPHn7XKnpf"
      }
    },
    {
      "cell_type": "code",
      "source": [
        "df = df_null.merge(zzz5556, how='outer', left_index=True, right_index=True)\n",
        "df.drop(['port', 'features', 'result', 'index', 'median_time', 'span', 'dtype'], axis=1, inplace=True)\n",
        "df = df.dropna().reset_index()"
      ],
      "metadata": {
        "id": "zNO62qvmJjLM"
      },
      "execution_count": 22,
      "outputs": []
    },
    {
      "cell_type": "code",
      "source": [
        "df.info()"
      ],
      "metadata": {
        "colab": {
          "base_uri": "https://localhost:8080/"
        },
        "id": "ssZV_laKJQgA",
        "outputId": "bae85b41-9404-4718-c497-8fdc3343f18e"
      },
      "execution_count": 23,
      "outputs": [
        {
          "output_type": "stream",
          "name": "stdout",
          "text": [
            "<class 'pandas.core.frame.DataFrame'>\n",
            "RangeIndex: 3109 entries, 0 to 3108\n",
            "Data columns (total 10 columns):\n",
            " #   Column     Non-Null Count  Dtype \n",
            "---  ------     --------------  ----- \n",
            " 0   index      3109 non-null   int64 \n",
            " 1   date       3109 non-null   object\n",
            " 2   time       3109 non-null   object\n",
            " 3   ip         3109 non-null   object\n",
            " 4   user       3109 non-null   object\n",
            " 5   haspid     3109 non-null   object\n",
            " 6   productid  3109 non-null   object\n",
            " 7   feat       3109 non-null   object\n",
            " 8   sess       3109 non-null   object\n",
            " 9   api        3109 non-null   object\n",
            "dtypes: int64(1), object(9)\n",
            "memory usage: 243.0+ KB\n"
          ]
        }
      ]
    },
    {
      "cell_type": "code",
      "source": [
        ""
      ],
      "metadata": {
        "id": "65THIZp7LuSp"
      },
      "execution_count": null,
      "outputs": []
    }
  ]
}