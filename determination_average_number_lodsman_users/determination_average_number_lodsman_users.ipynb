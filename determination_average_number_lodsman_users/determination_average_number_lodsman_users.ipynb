{
  "nbformat": 4,
  "nbformat_minor": 0,
  "metadata": {
    "colab": {
      "name": "determination_average_number_lodsman_users.ipynb",
      "provenance": [],
      "collapsed_sections": [],
      "toc_visible": true,
      "authorship_tag": "ABX9TyN55Sor5iu6gMgt4mBaN3b7"
    },
    "kernelspec": {
      "name": "python3",
      "display_name": "Python 3"
    },
    "language_info": {
      "name": "python"
    }
  },
  "cells": [
    {
      "cell_type": "markdown",
      "source": [
        "Key ID:  \n",
        "458744584072543631 - not actived  \n",
        "719635943846940421 - ЛОЦМАН:КБ 2022,HSL,сетвр  \n",
        "834732166184233058 - ОЭ КОМПАC-3D v20,HSL,сетвр  \n",
        "982786152807025115 - ЛОЦМАН:КБ 2021,HSL,сетвр  \n",
        "\n",
        "Productid:  \n",
        "3197 ЛОЦМАН:КБ 2022,HSL,сетвр   \n",
        "3258 КОМПАC-3D v20,HSL,сетвр "
      ],
      "metadata": {
        "id": "QdZQ6FdpV1I_"
      }
    },
    {
      "cell_type": "code",
      "execution_count": 1,
      "metadata": {
        "id": "gD03zBmaDBPB"
      },
      "outputs": [],
      "source": [
        "import pandas as pd\n",
        "import numpy as np\n",
        "import re"
      ]
    },
    {
      "cell_type": "code",
      "source": [
        "pd.options.display.max_colwidth = 100"
      ],
      "metadata": {
        "id": "egR7Fsf6Ydqj"
      },
      "execution_count": 2,
      "outputs": []
    },
    {
      "cell_type": "code",
      "source": [
        "from google.colab import drive\n",
        "drive.mount('/content/drive')"
      ],
      "metadata": {
        "colab": {
          "base_uri": "https://localhost:8080/"
        },
        "id": "vCsQ88YLEozb",
        "outputId": "deddec72-412f-4f63-dc07-8af4e5d77bef"
      },
      "execution_count": 3,
      "outputs": [
        {
          "output_type": "stream",
          "name": "stdout",
          "text": [
            "Drive already mounted at /content/drive; to attempt to forcibly remount, call drive.mount(\"/content/drive\", force_remount=True).\n"
          ]
        }
      ]
    },
    {
      "cell_type": "markdown",
      "source": [
        "Читаем данные с логами:"
      ],
      "metadata": {
        "id": "lcYfrdx3FOR9"
      }
    },
    {
      "cell_type": "code",
      "source": [
        "def merge_logs(month, day):\n",
        "\n",
        "  for i in range(1, day):\n",
        "\n",
        "    # чтение файла\n",
        "    df = pd.read_csv(f\"/content/drive/My Drive/projects/determination_average_number_lodsman_users/logs/2021_{month:02d}_{i:02d}_access.log\", \n",
        "                    sep=r' ', skiprows=1, error_bad_lines=False, warn_bad_lines=False) \n",
        "    # задаем признаки\n",
        "    df.columns = ['nan',\t'nan1',\t'date', 'time',\t'ip',\t'user',\t'port',\t'api' ,\t'features' ,\t'result' ,\t'nan2']\n",
        "    # уберем лишнии признаки\n",
        "    df.drop(['nan', 'nan1', 'nan2'], axis=1, inplace=True)\n",
        "    # удалим пропущенные значения\n",
        "    df = df.dropna(subset=['user', 'features'])\n",
        "\n",
        "    # проведем логическую индексацию\n",
        "    mask = df[\"user\"].str.contains(r\"Администратор\")\n",
        "    dff = df.loc[mask]\n",
        "    mask = dff[\"features\"].str.contains(r\"productid=3197\")\n",
        "    dff = dff.loc[mask]\n",
        "\n",
        "\n",
        "  # соединим логи в одну таблицу\n",
        "    if i == 1: \n",
        "      df_null = pd.DataFrame([np.NaN, np.NaN, np.NaN, np.NaN, np.NaN, np.NaN, np.NaN, np.NaN]).T\n",
        "      df_null.columns = ['median_time', 'haspid', 'productid', 'feat', 'sess', 'api', 'span', 'dtype' ]\n",
        "\n",
        "      df_null = pd.concat([df_null, dff], ignore_index=True)\n",
        "    else:\n",
        "\n",
        "      df_null = pd.concat([df_null, dff], ignore_index=True)  \n",
        "\n",
        "  # уберем лишние признаки и пропущенные значения из созданного переходного датафрейма\n",
        "  df_null.drop(['median_time', 'haspid', 'productid', 'feat', 'sess', 'api', 'span', 'dtype'], axis=1, inplace=True) \n",
        "  df_null = df_null.dropna()\n",
        "  return df_null"
      ],
      "metadata": {
        "id": "yczQT6NXS3NB"
      },
      "execution_count": 4,
      "outputs": []
    },
    {
      "cell_type": "markdown",
      "source": [
        "Сделаем из признака `'features'` датафрейм:"
      ],
      "metadata": {
        "id": "npJpsueMJEow"
      }
    },
    {
      "cell_type": "code",
      "source": [
        "def split_features(data):\n",
        "  for i in range(len(data)-1):\n",
        "    try:\n",
        "      if i == 0: \n",
        "        zz555 = pd.DataFrame([np.NaN, np.NaN, np.NaN, np.NaN, np.NaN, np.NaN, np.NaN, np.NaN]).T\n",
        "        zz555.columns = ['log', 'haspid', 'productid', 'feat', 'sess', 'api', 'span', 'dtype' ]\n",
        "        zz = pd.DataFrame(str(data[\"features\"][i:i+1]).split(',')).T\n",
        "        zz.columns = ['log', 'haspid', 'productid', 'feat', 'sess', 'api', 'span', 'dtype' ]\n",
        "        zz2 = pd.DataFrame(str(data[\"features\"][i+1:i+2]).split(',')).T\n",
        "        zz2.columns = ['log', 'haspid', 'productid', 'feat', 'sess', 'api', 'span', 'dtype' ]\n",
        "        zz555 = pd.concat([zz555, zz, zz2], ignore_index=True)\n",
        "      else:\n",
        "        zz = pd.DataFrame(str(data[\"features\"][i:i+1]).split(',')).T\n",
        "        zz.columns = ['log', 'haspid', 'productid', 'feat', 'sess', 'api', 'span', 'dtype' ]\n",
        "        zz2 = pd.DataFrame(str(data[\"features\"][i+1:i+2]).split(',')).T\n",
        "        zz2.columns = ['log', 'haspid', 'productid', 'feat', 'sess', 'api', 'span', 'dtype' ]\n",
        "        zz555 = pd.concat([zz555, zz, zz2], ignore_index=True)\n",
        "    except: # если будет проблемная строка\n",
        "      i += 1\n",
        "\n",
        "  zzz5556 = zz555.drop_duplicates().dropna().reset_index()   # датафрейм из признака \n",
        "  return zzz5556"
      ],
      "metadata": {
        "id": "tYQWmE4VUlmk"
      },
      "execution_count": 5,
      "outputs": []
    },
    {
      "cell_type": "markdown",
      "source": [
        "Соединим наши датафреймы с признаком `'features'` и с логами. Уберем лишние признаки, пропуски:"
      ],
      "metadata": {
        "id": "43wHNdOpV9Oy"
      }
    },
    {
      "cell_type": "code",
      "source": [
        "def merge_logs_features(data1, data2):\n",
        "  df = data1.merge(data2, how='outer', left_index=True, right_index=True)\n",
        "  df.drop(['port', 'features', 'result', 'index', 'span', 'dtype'], axis=1, inplace=True)\n",
        "  df = df.dropna().reset_index()\n",
        "  return df"
      ],
      "metadata": {
        "id": "YI4TVb8HVQoS"
      },
      "execution_count": 6,
      "outputs": []
    },
    {
      "cell_type": "markdown",
      "source": [
        "Прочитаем данные за октябрь:"
      ],
      "metadata": {
        "id": "1uYKGtmcWNDi"
      }
    },
    {
      "cell_type": "code",
      "source": [
        "oct = merge_logs(10, 32)\n",
        "oct_feat = split_features(oct)\n",
        "df_oct = merge_logs_features(oct, oct_feat)"
      ],
      "metadata": {
        "id": "v8YUP9CRTZ6X"
      },
      "execution_count": 7,
      "outputs": []
    },
    {
      "cell_type": "markdown",
      "source": [
        "Прочитаем данные за ноябрь:"
      ],
      "metadata": {
        "id": "18tiSaRNWPQe"
      }
    },
    {
      "cell_type": "code",
      "source": [
        "nov = merge_logs(11, 31)\n",
        "nov_feat = split_features(nov)\n",
        "df_nov = merge_logs_features(nov, nov_feat)"
      ],
      "metadata": {
        "id": "wAaXAQGzUy4_"
      },
      "execution_count": 8,
      "outputs": []
    },
    {
      "cell_type": "markdown",
      "source": [
        "Прочитаем данные за декабрь:"
      ],
      "metadata": {
        "id": "mm2_4acdWRHo"
      }
    },
    {
      "cell_type": "code",
      "source": [
        "dec = merge_logs(12, 32)\n",
        "dec_feat = split_features(dec)\n",
        "df_dec = merge_logs_features(dec, dec_feat)"
      ],
      "metadata": {
        "id": "gcLzJB28Vg7l"
      },
      "execution_count": 9,
      "outputs": []
    },
    {
      "cell_type": "markdown",
      "source": [
        "Соединим все данные вместе и выведем информацию на экран:"
      ],
      "metadata": {
        "id": "Nxgcb1EeYq9H"
      }
    },
    {
      "cell_type": "code",
      "source": [
        "df = pd.concat([df_oct, df_nov, df_dec], ignore_index=True)"
      ],
      "metadata": {
        "id": "P1PzwAPkXOD1"
      },
      "execution_count": 10,
      "outputs": []
    },
    {
      "cell_type": "markdown",
      "source": [
        "Вывыдем последние 5 строк:"
      ],
      "metadata": {
        "id": "kbslXLZwILju"
      }
    },
    {
      "cell_type": "code",
      "source": [
        "df.tail()"
      ],
      "metadata": {
        "colab": {
          "base_uri": "https://localhost:8080/",
          "height": 206
        },
        "id": "Vl_HVVLGYlb4",
        "outputId": "293b1bfb-b12c-41d5-a6e5-5f68ef146258"
      },
      "execution_count": 11,
      "outputs": [
        {
          "output_type": "execute_result",
          "data": {
            "text/html": [
              "\n",
              "  <div id=\"df-72f2afeb-6a12-41f7-a4d0-7586b3ca22f0\">\n",
              "    <div class=\"colab-df-container\">\n",
              "      <div>\n",
              "<style scoped>\n",
              "    .dataframe tbody tr th:only-of-type {\n",
              "        vertical-align: middle;\n",
              "    }\n",
              "\n",
              "    .dataframe tbody tr th {\n",
              "        vertical-align: top;\n",
              "    }\n",
              "\n",
              "    .dataframe thead th {\n",
              "        text-align: right;\n",
              "    }\n",
              "</style>\n",
              "<table border=\"1\" class=\"dataframe\">\n",
              "  <thead>\n",
              "    <tr style=\"text-align: right;\">\n",
              "      <th></th>\n",
              "      <th>index</th>\n",
              "      <th>date</th>\n",
              "      <th>time</th>\n",
              "      <th>ip</th>\n",
              "      <th>user</th>\n",
              "      <th>log</th>\n",
              "      <th>haspid</th>\n",
              "      <th>productid</th>\n",
              "      <th>feat</th>\n",
              "      <th>sess</th>\n",
              "      <th>api</th>\n",
              "    </tr>\n",
              "  </thead>\n",
              "  <tbody>\n",
              "    <tr>\n",
              "      <th>7404</th>\n",
              "      <td>361</td>\n",
              "      <td>0}2021-12-29</td>\n",
              "      <td>11:44:48</td>\n",
              "      <td>192.168.0.158:62833</td>\n",
              "      <td>Администратор@SRV-KB</td>\n",
              "      <td>363    LOGIN_EX(lm=local</td>\n",
              "      <td>haspid=719635943846940421</td>\n",
              "      <td>productid=3197</td>\n",
              "      <td>feat=622</td>\n",
              "      <td>sess=000001E9</td>\n",
              "      <td>api=7.50</td>\n",
              "    </tr>\n",
              "    <tr>\n",
              "      <th>7405</th>\n",
              "      <td>362</td>\n",
              "      <td>0}2021-12-29</td>\n",
              "      <td>11:59:07</td>\n",
              "      <td>192.168.0.158:62915</td>\n",
              "      <td>Администратор@SRV-KB</td>\n",
              "      <td>364    LOGOUT(lm=local</td>\n",
              "      <td>haspid=719635943846940421</td>\n",
              "      <td>productid=3197</td>\n",
              "      <td>feat=622</td>\n",
              "      <td>sess=000001E9</td>\n",
              "      <td>duration=7</td>\n",
              "    </tr>\n",
              "    <tr>\n",
              "      <th>7406</th>\n",
              "      <td>363</td>\n",
              "      <td>0}2021-12-29</td>\n",
              "      <td>14:17:39</td>\n",
              "      <td>192.168.0.158:63737</td>\n",
              "      <td>Администратор@SRV-KB</td>\n",
              "      <td>365    LOGOUT(lm=local</td>\n",
              "      <td>haspid=719635943846940421</td>\n",
              "      <td>productid=3197</td>\n",
              "      <td>feat=622</td>\n",
              "      <td>sess=000001DD</td>\n",
              "      <td>duration=12271</td>\n",
              "    </tr>\n",
              "    <tr>\n",
              "      <th>7407</th>\n",
              "      <td>364</td>\n",
              "      <td>0}2021-12-29</td>\n",
              "      <td>14:17:46</td>\n",
              "      <td>192.168.0.158:63737</td>\n",
              "      <td>Администратор@SRV-KB</td>\n",
              "      <td>366    LOGOUT(lm=local</td>\n",
              "      <td>haspid=719635943846940421</td>\n",
              "      <td>productid=3197</td>\n",
              "      <td>feat=622</td>\n",
              "      <td>sess=000001C1</td>\n",
              "      <td>duration=20529</td>\n",
              "    </tr>\n",
              "    <tr>\n",
              "      <th>7408</th>\n",
              "      <td>365</td>\n",
              "      <td>0}2021-12-29</td>\n",
              "      <td>14:50:16</td>\n",
              "      <td>192.168.0.158:63922</td>\n",
              "      <td>Администратор@SRV-KB</td>\n",
              "      <td>367    LOGOUT(lm=local</td>\n",
              "      <td>haspid=719635943846940421</td>\n",
              "      <td>productid=3197</td>\n",
              "      <td>feat=622</td>\n",
              "      <td>sess=000001C4</td>\n",
              "      <td>duration=27022</td>\n",
              "    </tr>\n",
              "  </tbody>\n",
              "</table>\n",
              "</div>\n",
              "      <button class=\"colab-df-convert\" onclick=\"convertToInteractive('df-72f2afeb-6a12-41f7-a4d0-7586b3ca22f0')\"\n",
              "              title=\"Convert this dataframe to an interactive table.\"\n",
              "              style=\"display:none;\">\n",
              "        \n",
              "  <svg xmlns=\"http://www.w3.org/2000/svg\" height=\"24px\"viewBox=\"0 0 24 24\"\n",
              "       width=\"24px\">\n",
              "    <path d=\"M0 0h24v24H0V0z\" fill=\"none\"/>\n",
              "    <path d=\"M18.56 5.44l.94 2.06.94-2.06 2.06-.94-2.06-.94-.94-2.06-.94 2.06-2.06.94zm-11 1L8.5 8.5l.94-2.06 2.06-.94-2.06-.94L8.5 2.5l-.94 2.06-2.06.94zm10 10l.94 2.06.94-2.06 2.06-.94-2.06-.94-.94-2.06-.94 2.06-2.06.94z\"/><path d=\"M17.41 7.96l-1.37-1.37c-.4-.4-.92-.59-1.43-.59-.52 0-1.04.2-1.43.59L10.3 9.45l-7.72 7.72c-.78.78-.78 2.05 0 2.83L4 21.41c.39.39.9.59 1.41.59.51 0 1.02-.2 1.41-.59l7.78-7.78 2.81-2.81c.8-.78.8-2.07 0-2.86zM5.41 20L4 18.59l7.72-7.72 1.47 1.35L5.41 20z\"/>\n",
              "  </svg>\n",
              "      </button>\n",
              "      \n",
              "  <style>\n",
              "    .colab-df-container {\n",
              "      display:flex;\n",
              "      flex-wrap:wrap;\n",
              "      gap: 12px;\n",
              "    }\n",
              "\n",
              "    .colab-df-convert {\n",
              "      background-color: #E8F0FE;\n",
              "      border: none;\n",
              "      border-radius: 50%;\n",
              "      cursor: pointer;\n",
              "      display: none;\n",
              "      fill: #1967D2;\n",
              "      height: 32px;\n",
              "      padding: 0 0 0 0;\n",
              "      width: 32px;\n",
              "    }\n",
              "\n",
              "    .colab-df-convert:hover {\n",
              "      background-color: #E2EBFA;\n",
              "      box-shadow: 0px 1px 2px rgba(60, 64, 67, 0.3), 0px 1px 3px 1px rgba(60, 64, 67, 0.15);\n",
              "      fill: #174EA6;\n",
              "    }\n",
              "\n",
              "    [theme=dark] .colab-df-convert {\n",
              "      background-color: #3B4455;\n",
              "      fill: #D2E3FC;\n",
              "    }\n",
              "\n",
              "    [theme=dark] .colab-df-convert:hover {\n",
              "      background-color: #434B5C;\n",
              "      box-shadow: 0px 1px 3px 1px rgba(0, 0, 0, 0.15);\n",
              "      filter: drop-shadow(0px 1px 2px rgba(0, 0, 0, 0.3));\n",
              "      fill: #FFFFFF;\n",
              "    }\n",
              "  </style>\n",
              "\n",
              "      <script>\n",
              "        const buttonEl =\n",
              "          document.querySelector('#df-72f2afeb-6a12-41f7-a4d0-7586b3ca22f0 button.colab-df-convert');\n",
              "        buttonEl.style.display =\n",
              "          google.colab.kernel.accessAllowed ? 'block' : 'none';\n",
              "\n",
              "        async function convertToInteractive(key) {\n",
              "          const element = document.querySelector('#df-72f2afeb-6a12-41f7-a4d0-7586b3ca22f0');\n",
              "          const dataTable =\n",
              "            await google.colab.kernel.invokeFunction('convertToInteractive',\n",
              "                                                     [key], {});\n",
              "          if (!dataTable) return;\n",
              "\n",
              "          const docLinkHtml = 'Like what you see? Visit the ' +\n",
              "            '<a target=\"_blank\" href=https://colab.research.google.com/notebooks/data_table.ipynb>data table notebook</a>'\n",
              "            + ' to learn more about interactive tables.';\n",
              "          element.innerHTML = '';\n",
              "          dataTable['output_type'] = 'display_data';\n",
              "          await google.colab.output.renderOutput(dataTable, element);\n",
              "          const docLink = document.createElement('div');\n",
              "          docLink.innerHTML = docLinkHtml;\n",
              "          element.appendChild(docLink);\n",
              "        }\n",
              "      </script>\n",
              "    </div>\n",
              "  </div>\n",
              "  "
            ],
            "text/plain": [
              "      index          date      time  ...      feat           sess             api\n",
              "7404    361  0}2021-12-29  11:44:48  ...  feat=622  sess=000001E9        api=7.50\n",
              "7405    362  0}2021-12-29  11:59:07  ...  feat=622  sess=000001E9      duration=7\n",
              "7406    363  0}2021-12-29  14:17:39  ...  feat=622  sess=000001DD  duration=12271\n",
              "7407    364  0}2021-12-29  14:17:46  ...  feat=622  sess=000001C1  duration=20529\n",
              "7408    365  0}2021-12-29  14:50:16  ...  feat=622  sess=000001C4  duration=27022\n",
              "\n",
              "[5 rows x 11 columns]"
            ]
          },
          "metadata": {},
          "execution_count": 11
        }
      ]
    },
    {
      "cell_type": "markdown",
      "source": [
        "Удалим лишние признаки:"
      ],
      "metadata": {
        "id": "eXlreQBpINvq"
      }
    },
    {
      "cell_type": "code",
      "source": [
        "df.drop(['index', 'haspid', 'productid'], axis=1, inplace=True)"
      ],
      "metadata": {
        "id": "7KVp6fWlHidN"
      },
      "execution_count": 12,
      "outputs": []
    },
    {
      "cell_type": "markdown",
      "source": [
        "Приведем столбец `'log'` к нормальному виду:"
      ],
      "metadata": {
        "id": "DXvDd4nDMEAu"
      }
    },
    {
      "cell_type": "code",
      "source": [
        "def replace_bad_space(row):\n",
        "  text = re.sub(r'\\w+\\ ', '', row)\n",
        "  return text"
      ],
      "metadata": {
        "id": "2TckHLuAKtrd"
      },
      "execution_count": 13,
      "outputs": []
    },
    {
      "cell_type": "code",
      "source": [
        "df['log'] = df['log'].apply(replace_bad_space)"
      ],
      "metadata": {
        "id": "T94HWsvJLyRm"
      },
      "execution_count": 14,
      "outputs": []
    },
    {
      "cell_type": "code",
      "source": [
        "df['log'] = df['log'].str.split('(').str[0].add('')"
      ],
      "metadata": {
        "id": "Xn7d_7g7LQ5J"
      },
      "execution_count": 15,
      "outputs": []
    },
    {
      "cell_type": "code",
      "source": [
        "df['log'].value_counts()"
      ],
      "metadata": {
        "colab": {
          "base_uri": "https://localhost:8080/"
        },
        "id": "DemCrU9pLXQD",
        "outputId": "ff64cc82-3d21-4849-8ca4-4cb62f24636d"
      },
      "execution_count": 16,
      "outputs": [
        {
          "output_type": "execute_result",
          "data": {
            "text/plain": [
              "   LOGIN_EX    3742\n",
              "   LOGOUT      3667\n",
              "Name: log, dtype: int64"
            ]
          },
          "metadata": {},
          "execution_count": 16
        }
      ]
    },
    {
      "cell_type": "code",
      "source": [
        "df['log'] = df['log'].replace('   LOGIN_EX', 'login')\n",
        "df['log'] = df['log'].replace('   LOGOUT', 'logout')"
      ],
      "metadata": {
        "id": "40z49avpMXek"
      },
      "execution_count": 17,
      "outputs": []
    },
    {
      "cell_type": "markdown",
      "source": [
        "Приведем признаки с датами и временем к нужнемому типу:"
      ],
      "metadata": {
        "id": "JwRe-QiTGX67"
      }
    },
    {
      "cell_type": "code",
      "source": [
        "def replace_bad_symbols(row):\n",
        "  text = re.sub(r'\\w+\\}', '', row)\n",
        "  return text"
      ],
      "metadata": {
        "id": "6sgHATpHFzH8"
      },
      "execution_count": 18,
      "outputs": []
    },
    {
      "cell_type": "code",
      "source": [
        "df['date'] = df['date'].apply(replace_bad_symbols)"
      ],
      "metadata": {
        "id": "zH5o39LvGpxB"
      },
      "execution_count": 19,
      "outputs": []
    },
    {
      "cell_type": "code",
      "source": [
        "df['date'] = pd.to_datetime(df['date'], format='%Y-%m-%d')"
      ],
      "metadata": {
        "id": "b4xnAIskGGhU"
      },
      "execution_count": 20,
      "outputs": []
    },
    {
      "cell_type": "code",
      "source": [
        "df['time'] = pd.to_datetime(df['time'], format='%H:%M:%S')"
      ],
      "metadata": {
        "id": "16aDyRXTmeCS"
      },
      "execution_count": 21,
      "outputs": []
    },
    {
      "cell_type": "markdown",
      "source": [
        "Создадим столбец с переводом времени в секунды:"
      ],
      "metadata": {
        "id": "qx1eoQA4nnMG"
      }
    },
    {
      "cell_type": "code",
      "source": [
        "df['duration'] = (df['time'].dt.hour*60+df['time'].dt.minute)*60 + df['time'].dt.second"
      ],
      "metadata": {
        "id": "uaC6TTHSYban"
      },
      "execution_count": 22,
      "outputs": []
    },
    {
      "cell_type": "code",
      "source": [
        "df['time'] = (pd.to_datetime(df['time'], format='%H:%M:%S')).dt.time"
      ],
      "metadata": {
        "id": "lDUidSgpwbZd"
      },
      "execution_count": 34,
      "outputs": []
    },
    {
      "cell_type": "markdown",
      "source": [
        "Выведем информацию о получившийся таблице:"
      ],
      "metadata": {
        "id": "TxHpo5-bHZ-P"
      }
    },
    {
      "cell_type": "code",
      "source": [
        "df.info()"
      ],
      "metadata": {
        "colab": {
          "base_uri": "https://localhost:8080/"
        },
        "id": "aHg2ZaVhHWaP",
        "outputId": "081e3a7c-1249-4677-b840-3019c0c5a053"
      },
      "execution_count": 24,
      "outputs": [
        {
          "output_type": "stream",
          "name": "stdout",
          "text": [
            "<class 'pandas.core.frame.DataFrame'>\n",
            "RangeIndex: 7409 entries, 0 to 7408\n",
            "Data columns (total 10 columns):\n",
            " #   Column    Non-Null Count  Dtype         \n",
            "---  ------    --------------  -----         \n",
            " 0   date      7409 non-null   datetime64[ns]\n",
            " 1   time      7409 non-null   datetime64[ns]\n",
            " 2   ip        7409 non-null   object        \n",
            " 3   user      7409 non-null   object        \n",
            " 4   log       7409 non-null   object        \n",
            " 5   feat      7409 non-null   object        \n",
            " 6   sess      7409 non-null   object        \n",
            " 7   api       7409 non-null   object        \n",
            " 8   duration  7409 non-null   int64         \n",
            " 9   time_hms  7409 non-null   object        \n",
            "dtypes: datetime64[ns](2), int64(1), object(7)\n",
            "memory usage: 579.0+ KB\n"
          ]
        }
      ]
    },
    {
      "cell_type": "code",
      "source": [
        "df.head()"
      ],
      "metadata": {
        "colab": {
          "base_uri": "https://localhost:8080/",
          "height": 206
        },
        "id": "g4nciyfYnVSx",
        "outputId": "c5cbeaa4-872e-427e-a787-d6c947ffb84e"
      },
      "execution_count": 35,
      "outputs": [
        {
          "output_type": "execute_result",
          "data": {
            "text/html": [
              "\n",
              "  <div id=\"df-a7ef8528-f023-42ab-9a09-1b17bb09b3a1\">\n",
              "    <div class=\"colab-df-container\">\n",
              "      <div>\n",
              "<style scoped>\n",
              "    .dataframe tbody tr th:only-of-type {\n",
              "        vertical-align: middle;\n",
              "    }\n",
              "\n",
              "    .dataframe tbody tr th {\n",
              "        vertical-align: top;\n",
              "    }\n",
              "\n",
              "    .dataframe thead th {\n",
              "        text-align: right;\n",
              "    }\n",
              "</style>\n",
              "<table border=\"1\" class=\"dataframe\">\n",
              "  <thead>\n",
              "    <tr style=\"text-align: right;\">\n",
              "      <th></th>\n",
              "      <th>date</th>\n",
              "      <th>time</th>\n",
              "      <th>ip</th>\n",
              "      <th>user</th>\n",
              "      <th>log</th>\n",
              "      <th>feat</th>\n",
              "      <th>sess</th>\n",
              "      <th>api</th>\n",
              "      <th>duration</th>\n",
              "      <th>time_hms</th>\n",
              "    </tr>\n",
              "  </thead>\n",
              "  <tbody>\n",
              "    <tr>\n",
              "      <th>0</th>\n",
              "      <td>2021-10-01</td>\n",
              "      <td>00:40:58</td>\n",
              "      <td>192.168.0.158:59813</td>\n",
              "      <td>Администратор@SRV-KB</td>\n",
              "      <td>login</td>\n",
              "      <td>feat=594</td>\n",
              "      <td>sess=000003F3</td>\n",
              "      <td>api=7.50</td>\n",
              "      <td>2458</td>\n",
              "      <td>00:40:58</td>\n",
              "    </tr>\n",
              "    <tr>\n",
              "      <th>1</th>\n",
              "      <td>2021-10-01</td>\n",
              "      <td>05:03:18</td>\n",
              "      <td>192.168.0.158:60775</td>\n",
              "      <td>Администратор@SRV-KB</td>\n",
              "      <td>logout</td>\n",
              "      <td>feat=594</td>\n",
              "      <td>sess=000003F3</td>\n",
              "      <td>duration=1</td>\n",
              "      <td>18198</td>\n",
              "      <td>05:03:18</td>\n",
              "    </tr>\n",
              "    <tr>\n",
              "      <th>2</th>\n",
              "      <td>2021-10-01</td>\n",
              "      <td>05:03:18</td>\n",
              "      <td>192.168.0.158:60775</td>\n",
              "      <td>Администратор@SRV-KB</td>\n",
              "      <td>login</td>\n",
              "      <td>feat=594</td>\n",
              "      <td>sess=00000404</td>\n",
              "      <td>api=7.50</td>\n",
              "      <td>18198</td>\n",
              "      <td>05:03:18</td>\n",
              "    </tr>\n",
              "    <tr>\n",
              "      <th>3</th>\n",
              "      <td>2021-10-01</td>\n",
              "      <td>08:03:42</td>\n",
              "      <td>192.168.0.158:61435</td>\n",
              "      <td>Администратор@SRV-KB</td>\n",
              "      <td>logout</td>\n",
              "      <td>feat=594</td>\n",
              "      <td>sess=00000404</td>\n",
              "      <td>duration=0</td>\n",
              "      <td>29022</td>\n",
              "      <td>08:03:42</td>\n",
              "    </tr>\n",
              "    <tr>\n",
              "      <th>4</th>\n",
              "      <td>2021-10-01</td>\n",
              "      <td>08:03:43</td>\n",
              "      <td>192.168.0.158:61435</td>\n",
              "      <td>Администратор@SRV-KB</td>\n",
              "      <td>login</td>\n",
              "      <td>feat=594</td>\n",
              "      <td>sess=00000406</td>\n",
              "      <td>api=7.50</td>\n",
              "      <td>29023</td>\n",
              "      <td>08:03:43</td>\n",
              "    </tr>\n",
              "  </tbody>\n",
              "</table>\n",
              "</div>\n",
              "      <button class=\"colab-df-convert\" onclick=\"convertToInteractive('df-a7ef8528-f023-42ab-9a09-1b17bb09b3a1')\"\n",
              "              title=\"Convert this dataframe to an interactive table.\"\n",
              "              style=\"display:none;\">\n",
              "        \n",
              "  <svg xmlns=\"http://www.w3.org/2000/svg\" height=\"24px\"viewBox=\"0 0 24 24\"\n",
              "       width=\"24px\">\n",
              "    <path d=\"M0 0h24v24H0V0z\" fill=\"none\"/>\n",
              "    <path d=\"M18.56 5.44l.94 2.06.94-2.06 2.06-.94-2.06-.94-.94-2.06-.94 2.06-2.06.94zm-11 1L8.5 8.5l.94-2.06 2.06-.94-2.06-.94L8.5 2.5l-.94 2.06-2.06.94zm10 10l.94 2.06.94-2.06 2.06-.94-2.06-.94-.94-2.06-.94 2.06-2.06.94z\"/><path d=\"M17.41 7.96l-1.37-1.37c-.4-.4-.92-.59-1.43-.59-.52 0-1.04.2-1.43.59L10.3 9.45l-7.72 7.72c-.78.78-.78 2.05 0 2.83L4 21.41c.39.39.9.59 1.41.59.51 0 1.02-.2 1.41-.59l7.78-7.78 2.81-2.81c.8-.78.8-2.07 0-2.86zM5.41 20L4 18.59l7.72-7.72 1.47 1.35L5.41 20z\"/>\n",
              "  </svg>\n",
              "      </button>\n",
              "      \n",
              "  <style>\n",
              "    .colab-df-container {\n",
              "      display:flex;\n",
              "      flex-wrap:wrap;\n",
              "      gap: 12px;\n",
              "    }\n",
              "\n",
              "    .colab-df-convert {\n",
              "      background-color: #E8F0FE;\n",
              "      border: none;\n",
              "      border-radius: 50%;\n",
              "      cursor: pointer;\n",
              "      display: none;\n",
              "      fill: #1967D2;\n",
              "      height: 32px;\n",
              "      padding: 0 0 0 0;\n",
              "      width: 32px;\n",
              "    }\n",
              "\n",
              "    .colab-df-convert:hover {\n",
              "      background-color: #E2EBFA;\n",
              "      box-shadow: 0px 1px 2px rgba(60, 64, 67, 0.3), 0px 1px 3px 1px rgba(60, 64, 67, 0.15);\n",
              "      fill: #174EA6;\n",
              "    }\n",
              "\n",
              "    [theme=dark] .colab-df-convert {\n",
              "      background-color: #3B4455;\n",
              "      fill: #D2E3FC;\n",
              "    }\n",
              "\n",
              "    [theme=dark] .colab-df-convert:hover {\n",
              "      background-color: #434B5C;\n",
              "      box-shadow: 0px 1px 3px 1px rgba(0, 0, 0, 0.15);\n",
              "      filter: drop-shadow(0px 1px 2px rgba(0, 0, 0, 0.3));\n",
              "      fill: #FFFFFF;\n",
              "    }\n",
              "  </style>\n",
              "\n",
              "      <script>\n",
              "        const buttonEl =\n",
              "          document.querySelector('#df-a7ef8528-f023-42ab-9a09-1b17bb09b3a1 button.colab-df-convert');\n",
              "        buttonEl.style.display =\n",
              "          google.colab.kernel.accessAllowed ? 'block' : 'none';\n",
              "\n",
              "        async function convertToInteractive(key) {\n",
              "          const element = document.querySelector('#df-a7ef8528-f023-42ab-9a09-1b17bb09b3a1');\n",
              "          const dataTable =\n",
              "            await google.colab.kernel.invokeFunction('convertToInteractive',\n",
              "                                                     [key], {});\n",
              "          if (!dataTable) return;\n",
              "\n",
              "          const docLinkHtml = 'Like what you see? Visit the ' +\n",
              "            '<a target=\"_blank\" href=https://colab.research.google.com/notebooks/data_table.ipynb>data table notebook</a>'\n",
              "            + ' to learn more about interactive tables.';\n",
              "          element.innerHTML = '';\n",
              "          dataTable['output_type'] = 'display_data';\n",
              "          await google.colab.output.renderOutput(dataTable, element);\n",
              "          const docLink = document.createElement('div');\n",
              "          docLink.innerHTML = docLinkHtml;\n",
              "          element.appendChild(docLink);\n",
              "        }\n",
              "      </script>\n",
              "    </div>\n",
              "  </div>\n",
              "  "
            ],
            "text/plain": [
              "        date      time                   ip  ...         api duration  time_hms\n",
              "0 2021-10-01  00:40:58  192.168.0.158:59813  ...    api=7.50     2458  00:40:58\n",
              "1 2021-10-01  05:03:18  192.168.0.158:60775  ...  duration=1    18198  05:03:18\n",
              "2 2021-10-01  05:03:18  192.168.0.158:60775  ...    api=7.50    18198  05:03:18\n",
              "3 2021-10-01  08:03:42  192.168.0.158:61435  ...  duration=0    29022  08:03:42\n",
              "4 2021-10-01  08:03:43  192.168.0.158:61435  ...    api=7.50    29023  08:03:43\n",
              "\n",
              "[5 rows x 10 columns]"
            ]
          },
          "metadata": {},
          "execution_count": 35
        }
      ]
    },
    {
      "cell_type": "markdown",
      "source": [
        "Создадим сводную таблицу по датам, в которую положим индификатор сессии, дату, продолжительность сессии:"
      ],
      "metadata": {
        "id": "3C1lMTPAvfVz"
      }
    },
    {
      "cell_type": "code",
      "source": [
        "#df_sample = df[df['date'] == '2021-10-01']\n",
        "df_sample = df"
      ],
      "metadata": {
        "id": "XzvUcoj6qGVV"
      },
      "execution_count": 69,
      "outputs": []
    },
    {
      "cell_type": "code",
      "source": [
        "df_group_sess = df_sample.pivot_table(index=['sess', 'date'], values='duration', aggfunc=['first', 'last']).reset_index()"
      ],
      "metadata": {
        "id": "pnkz5yB0qcND"
      },
      "execution_count": 70,
      "outputs": []
    },
    {
      "cell_type": "code",
      "source": [
        "df_group_sess = df_group_sess.droplevel(level=1, axis=1)"
      ],
      "metadata": {
        "id": "z_xvFZRIrER7"
      },
      "execution_count": 71,
      "outputs": []
    },
    {
      "cell_type": "code",
      "source": [
        "df_group_sess['duration'] = df_group_sess['last'] - df_group_sess['first']"
      ],
      "metadata": {
        "id": "N31tVG9rvrdk"
      },
      "execution_count": 72,
      "outputs": []
    },
    {
      "cell_type": "markdown",
      "source": [
        "Выберем сессии продолжительностью более чем 2 минуты:"
      ],
      "metadata": {
        "id": "jK_7h_2EzpTL"
      }
    },
    {
      "cell_type": "code",
      "source": [
        "df_group_sess = (df_group_sess[df_group_sess['duration'] > 120]).reset_index()"
      ],
      "metadata": {
        "id": "MeOnDqQ3yXFN"
      },
      "execution_count": 73,
      "outputs": []
    },
    {
      "cell_type": "code",
      "source": [
        "df_group_sess = df_group_sess.drop(['index', 'first', 'last'], axis=1)"
      ],
      "metadata": {
        "id": "KHy1Hs6Myi_N"
      },
      "execution_count": 74,
      "outputs": []
    },
    {
      "cell_type": "markdown",
      "source": [
        "Проведем группировку по датам, и создадим признаки количество сессий, продолжительность, среднеяя, медианна:"
      ],
      "metadata": {
        "id": "rDUkTv6Ey3Qg"
      }
    },
    {
      "cell_type": "code",
      "source": [
        "df_group_sess_days = df_group_sess.pivot_table(index='date', values=['duration'], aggfunc=['count', 'sum', 'mean', 'median']).reset_index()"
      ],
      "metadata": {
        "id": "qxibdjJIu3l4"
      },
      "execution_count": 79,
      "outputs": []
    },
    {
      "cell_type": "code",
      "source": [
        "df_group_sess_days = df_group_sess_days.droplevel(level=1, axis=1)"
      ],
      "metadata": {
        "id": "85ALwn_Czzi4"
      },
      "execution_count": 80,
      "outputs": []
    },
    {
      "cell_type": "markdown",
      "source": [
        "Посмотрим на таблицу:"
      ],
      "metadata": {
        "id": "As7xQPfy0A8B"
      }
    },
    {
      "cell_type": "code",
      "source": [
        "df_group_sess_days.head()"
      ],
      "metadata": {
        "colab": {
          "base_uri": "https://localhost:8080/",
          "height": 206
        },
        "id": "ABj6w_9WxvH_",
        "outputId": "388c8b5b-e4fc-4453-852b-9cefdf58f01f"
      },
      "execution_count": 82,
      "outputs": [
        {
          "output_type": "execute_result",
          "data": {
            "text/html": [
              "\n",
              "  <div id=\"df-18e4c14a-b9dc-400a-a3f6-715c81e4b017\">\n",
              "    <div class=\"colab-df-container\">\n",
              "      <div>\n",
              "<style scoped>\n",
              "    .dataframe tbody tr th:only-of-type {\n",
              "        vertical-align: middle;\n",
              "    }\n",
              "\n",
              "    .dataframe tbody tr th {\n",
              "        vertical-align: top;\n",
              "    }\n",
              "\n",
              "    .dataframe thead th {\n",
              "        text-align: right;\n",
              "    }\n",
              "</style>\n",
              "<table border=\"1\" class=\"dataframe\">\n",
              "  <thead>\n",
              "    <tr style=\"text-align: right;\">\n",
              "      <th></th>\n",
              "      <th>date</th>\n",
              "      <th>count</th>\n",
              "      <th>sum</th>\n",
              "      <th>mean</th>\n",
              "      <th>median</th>\n",
              "    </tr>\n",
              "  </thead>\n",
              "  <tbody>\n",
              "    <tr>\n",
              "      <th>0</th>\n",
              "      <td>2021-10-01</td>\n",
              "      <td>9</td>\n",
              "      <td>53122</td>\n",
              "      <td>5902.444444</td>\n",
              "      <td>2915.0</td>\n",
              "    </tr>\n",
              "    <tr>\n",
              "      <th>1</th>\n",
              "      <td>2021-10-02</td>\n",
              "      <td>1</td>\n",
              "      <td>19680</td>\n",
              "      <td>19680.000000</td>\n",
              "      <td>19680.0</td>\n",
              "    </tr>\n",
              "    <tr>\n",
              "      <th>2</th>\n",
              "      <td>2021-10-04</td>\n",
              "      <td>13</td>\n",
              "      <td>69754</td>\n",
              "      <td>5365.692308</td>\n",
              "      <td>979.0</td>\n",
              "    </tr>\n",
              "    <tr>\n",
              "      <th>3</th>\n",
              "      <td>2021-10-05</td>\n",
              "      <td>13</td>\n",
              "      <td>52593</td>\n",
              "      <td>4045.615385</td>\n",
              "      <td>1351.0</td>\n",
              "    </tr>\n",
              "    <tr>\n",
              "      <th>4</th>\n",
              "      <td>2021-10-06</td>\n",
              "      <td>18</td>\n",
              "      <td>70276</td>\n",
              "      <td>3904.222222</td>\n",
              "      <td>1407.5</td>\n",
              "    </tr>\n",
              "  </tbody>\n",
              "</table>\n",
              "</div>\n",
              "      <button class=\"colab-df-convert\" onclick=\"convertToInteractive('df-18e4c14a-b9dc-400a-a3f6-715c81e4b017')\"\n",
              "              title=\"Convert this dataframe to an interactive table.\"\n",
              "              style=\"display:none;\">\n",
              "        \n",
              "  <svg xmlns=\"http://www.w3.org/2000/svg\" height=\"24px\"viewBox=\"0 0 24 24\"\n",
              "       width=\"24px\">\n",
              "    <path d=\"M0 0h24v24H0V0z\" fill=\"none\"/>\n",
              "    <path d=\"M18.56 5.44l.94 2.06.94-2.06 2.06-.94-2.06-.94-.94-2.06-.94 2.06-2.06.94zm-11 1L8.5 8.5l.94-2.06 2.06-.94-2.06-.94L8.5 2.5l-.94 2.06-2.06.94zm10 10l.94 2.06.94-2.06 2.06-.94-2.06-.94-.94-2.06-.94 2.06-2.06.94z\"/><path d=\"M17.41 7.96l-1.37-1.37c-.4-.4-.92-.59-1.43-.59-.52 0-1.04.2-1.43.59L10.3 9.45l-7.72 7.72c-.78.78-.78 2.05 0 2.83L4 21.41c.39.39.9.59 1.41.59.51 0 1.02-.2 1.41-.59l7.78-7.78 2.81-2.81c.8-.78.8-2.07 0-2.86zM5.41 20L4 18.59l7.72-7.72 1.47 1.35L5.41 20z\"/>\n",
              "  </svg>\n",
              "      </button>\n",
              "      \n",
              "  <style>\n",
              "    .colab-df-container {\n",
              "      display:flex;\n",
              "      flex-wrap:wrap;\n",
              "      gap: 12px;\n",
              "    }\n",
              "\n",
              "    .colab-df-convert {\n",
              "      background-color: #E8F0FE;\n",
              "      border: none;\n",
              "      border-radius: 50%;\n",
              "      cursor: pointer;\n",
              "      display: none;\n",
              "      fill: #1967D2;\n",
              "      height: 32px;\n",
              "      padding: 0 0 0 0;\n",
              "      width: 32px;\n",
              "    }\n",
              "\n",
              "    .colab-df-convert:hover {\n",
              "      background-color: #E2EBFA;\n",
              "      box-shadow: 0px 1px 2px rgba(60, 64, 67, 0.3), 0px 1px 3px 1px rgba(60, 64, 67, 0.15);\n",
              "      fill: #174EA6;\n",
              "    }\n",
              "\n",
              "    [theme=dark] .colab-df-convert {\n",
              "      background-color: #3B4455;\n",
              "      fill: #D2E3FC;\n",
              "    }\n",
              "\n",
              "    [theme=dark] .colab-df-convert:hover {\n",
              "      background-color: #434B5C;\n",
              "      box-shadow: 0px 1px 3px 1px rgba(0, 0, 0, 0.15);\n",
              "      filter: drop-shadow(0px 1px 2px rgba(0, 0, 0, 0.3));\n",
              "      fill: #FFFFFF;\n",
              "    }\n",
              "  </style>\n",
              "\n",
              "      <script>\n",
              "        const buttonEl =\n",
              "          document.querySelector('#df-18e4c14a-b9dc-400a-a3f6-715c81e4b017 button.colab-df-convert');\n",
              "        buttonEl.style.display =\n",
              "          google.colab.kernel.accessAllowed ? 'block' : 'none';\n",
              "\n",
              "        async function convertToInteractive(key) {\n",
              "          const element = document.querySelector('#df-18e4c14a-b9dc-400a-a3f6-715c81e4b017');\n",
              "          const dataTable =\n",
              "            await google.colab.kernel.invokeFunction('convertToInteractive',\n",
              "                                                     [key], {});\n",
              "          if (!dataTable) return;\n",
              "\n",
              "          const docLinkHtml = 'Like what you see? Visit the ' +\n",
              "            '<a target=\"_blank\" href=https://colab.research.google.com/notebooks/data_table.ipynb>data table notebook</a>'\n",
              "            + ' to learn more about interactive tables.';\n",
              "          element.innerHTML = '';\n",
              "          dataTable['output_type'] = 'display_data';\n",
              "          await google.colab.output.renderOutput(dataTable, element);\n",
              "          const docLink = document.createElement('div');\n",
              "          docLink.innerHTML = docLinkHtml;\n",
              "          element.appendChild(docLink);\n",
              "        }\n",
              "      </script>\n",
              "    </div>\n",
              "  </div>\n",
              "  "
            ],
            "text/plain": [
              "        date  count    sum          mean   median\n",
              "0 2021-10-01      9  53122   5902.444444   2915.0\n",
              "1 2021-10-02      1  19680  19680.000000  19680.0\n",
              "2 2021-10-04     13  69754   5365.692308    979.0\n",
              "3 2021-10-05     13  52593   4045.615385   1351.0\n",
              "4 2021-10-06     18  70276   3904.222222   1407.5"
            ]
          },
          "metadata": {},
          "execution_count": 82
        }
      ]
    },
    {
      "cell_type": "code",
      "source": [
        ""
      ],
      "metadata": {
        "id": "Z4Fz24Egytfl"
      },
      "execution_count": 81,
      "outputs": []
    }
  ]
}