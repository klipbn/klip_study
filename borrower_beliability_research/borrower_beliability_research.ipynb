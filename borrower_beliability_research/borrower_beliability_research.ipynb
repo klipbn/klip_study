{
  "nbformat": 4,
  "nbformat_minor": 0,
  "metadata": {
    "ExecuteTimeLog": [
      {
        "duration": 375,
        "start_time": "2021-12-02T10:24:05.974Z"
      },
      {
        "duration": 1594,
        "start_time": "2021-12-02T10:24:12.834Z"
      },
      {
        "duration": 65,
        "start_time": "2021-12-02T10:24:14.431Z"
      },
      {
        "duration": 17,
        "start_time": "2021-12-02T10:24:14.499Z"
      },
      {
        "duration": 36,
        "start_time": "2021-12-02T10:24:14.519Z"
      },
      {
        "duration": 33,
        "start_time": "2021-12-02T10:24:14.557Z"
      },
      {
        "duration": 50,
        "start_time": "2021-12-02T10:24:14.594Z"
      },
      {
        "duration": 168,
        "start_time": "2021-12-02T10:24:14.648Z"
      },
      {
        "duration": 15,
        "start_time": "2021-12-02T10:24:14.831Z"
      },
      {
        "duration": 38,
        "start_time": "2021-12-02T10:24:14.851Z"
      },
      {
        "duration": 45,
        "start_time": "2021-12-02T10:24:14.893Z"
      },
      {
        "duration": 21,
        "start_time": "2021-12-02T10:24:14.942Z"
      },
      {
        "duration": 24,
        "start_time": "2021-12-02T10:24:14.967Z"
      },
      {
        "duration": 27,
        "start_time": "2021-12-02T10:24:14.994Z"
      },
      {
        "duration": 24,
        "start_time": "2021-12-02T10:24:15.024Z"
      },
      {
        "duration": 44,
        "start_time": "2021-12-02T10:24:15.051Z"
      },
      {
        "duration": 25,
        "start_time": "2021-12-02T10:24:15.098Z"
      },
      {
        "duration": 21,
        "start_time": "2021-12-02T10:24:15.126Z"
      },
      {
        "duration": 17,
        "start_time": "2021-12-02T10:24:15.149Z"
      },
      {
        "duration": 40,
        "start_time": "2021-12-02T10:24:15.168Z"
      },
      {
        "duration": 20,
        "start_time": "2021-12-02T10:24:15.211Z"
      },
      {
        "duration": 32,
        "start_time": "2021-12-02T10:24:15.234Z"
      },
      {
        "duration": 28,
        "start_time": "2021-12-02T10:24:15.269Z"
      },
      {
        "duration": 12,
        "start_time": "2021-12-02T10:24:15.305Z"
      },
      {
        "duration": 10,
        "start_time": "2021-12-02T10:24:15.332Z"
      },
      {
        "duration": 16,
        "start_time": "2021-12-02T10:24:15.345Z"
      },
      {
        "duration": 15,
        "start_time": "2021-12-02T10:24:15.363Z"
      },
      {
        "duration": 55,
        "start_time": "2021-12-02T10:24:15.380Z"
      },
      {
        "duration": 16,
        "start_time": "2021-12-02T10:24:15.438Z"
      },
      {
        "duration": 15,
        "start_time": "2021-12-02T10:24:15.457Z"
      },
      {
        "duration": 37,
        "start_time": "2021-12-02T10:24:15.474Z"
      },
      {
        "duration": 19,
        "start_time": "2021-12-02T10:24:15.513Z"
      },
      {
        "duration": 7,
        "start_time": "2021-12-02T10:24:15.535Z"
      },
      {
        "duration": 28,
        "start_time": "2021-12-02T10:24:15.544Z"
      },
      {
        "duration": 51,
        "start_time": "2021-12-02T10:24:15.574Z"
      },
      {
        "duration": 45,
        "start_time": "2021-12-02T10:24:15.628Z"
      },
      {
        "duration": 28,
        "start_time": "2021-12-02T10:24:15.675Z"
      },
      {
        "duration": 15,
        "start_time": "2021-12-02T10:24:15.706Z"
      },
      {
        "duration": 27,
        "start_time": "2021-12-02T10:24:15.723Z"
      },
      {
        "duration": 22,
        "start_time": "2021-12-02T10:24:15.753Z"
      },
      {
        "duration": 26,
        "start_time": "2021-12-02T10:24:15.778Z"
      },
      {
        "duration": 18,
        "start_time": "2021-12-02T10:24:15.807Z"
      },
      {
        "duration": 18,
        "start_time": "2021-12-02T10:24:15.828Z"
      },
      {
        "duration": 25,
        "start_time": "2021-12-02T10:24:15.848Z"
      },
      {
        "duration": 28,
        "start_time": "2021-12-02T10:24:15.877Z"
      },
      {
        "duration": 45,
        "start_time": "2021-12-02T10:24:15.909Z"
      },
      {
        "duration": 4,
        "start_time": "2021-12-02T10:24:15.957Z"
      },
      {
        "duration": 26,
        "start_time": "2021-12-02T10:24:15.965Z"
      },
      {
        "duration": 12,
        "start_time": "2021-12-02T10:24:15.994Z"
      },
      {
        "duration": 956,
        "start_time": "2021-12-02T10:24:16.010Z"
      },
      {
        "duration": 5,
        "start_time": "2021-12-02T10:24:16.970Z"
      },
      {
        "duration": 3983,
        "start_time": "2021-12-02T10:24:16.979Z"
      },
      {
        "duration": 5,
        "start_time": "2021-12-02T10:24:20.964Z"
      },
      {
        "duration": 46,
        "start_time": "2021-12-02T10:24:20.971Z"
      },
      {
        "duration": 12,
        "start_time": "2021-12-02T10:24:21.028Z"
      },
      {
        "duration": 19,
        "start_time": "2021-12-02T10:24:21.043Z"
      },
      {
        "duration": 34,
        "start_time": "2021-12-02T10:24:21.065Z"
      },
      {
        "duration": 17,
        "start_time": "2021-12-02T10:24:21.102Z"
      },
      {
        "duration": 619,
        "start_time": "2021-12-02T10:24:21.121Z"
      },
      {
        "duration": 21,
        "start_time": "2021-12-02T10:24:21.744Z"
      },
      {
        "duration": 18,
        "start_time": "2021-12-02T10:24:21.767Z"
      },
      {
        "duration": 49,
        "start_time": "2021-12-02T10:24:21.788Z"
      },
      {
        "duration": 13,
        "start_time": "2021-12-02T10:24:21.839Z"
      },
      {
        "duration": 21,
        "start_time": "2021-12-02T10:24:21.854Z"
      },
      {
        "duration": 27,
        "start_time": "2021-12-02T10:24:21.878Z"
      },
      {
        "duration": 546,
        "start_time": "2021-12-02T10:24:21.907Z"
      },
      {
        "duration": 19,
        "start_time": "2021-12-02T10:24:22.456Z"
      },
      {
        "duration": 8,
        "start_time": "2021-12-02T10:24:22.477Z"
      },
      {
        "duration": 56,
        "start_time": "2021-12-02T10:24:22.493Z"
      },
      {
        "duration": 14,
        "start_time": "2021-12-02T10:24:22.552Z"
      },
      {
        "duration": 67,
        "start_time": "2021-12-02T10:24:22.570Z"
      },
      {
        "duration": 53,
        "start_time": "2021-12-02T10:24:22.641Z"
      },
      {
        "duration": 11,
        "start_time": "2021-12-02T10:24:22.697Z"
      },
      {
        "duration": 91,
        "start_time": "2021-12-02T10:24:22.712Z"
      },
      {
        "duration": 58,
        "start_time": "2021-12-02T10:24:22.807Z"
      },
      {
        "duration": 70,
        "start_time": "2021-12-02T10:24:22.868Z"
      },
      {
        "duration": 60,
        "start_time": "2021-12-02T10:24:22.942Z"
      },
      {
        "duration": 89,
        "start_time": "2021-12-02T10:24:23.006Z"
      },
      {
        "duration": 77,
        "start_time": "2021-12-02T10:24:23.098Z"
      },
      {
        "duration": 73,
        "start_time": "2021-12-02T10:24:23.178Z"
      },
      {
        "duration": 81,
        "start_time": "2021-12-02T10:24:23.254Z"
      },
      {
        "duration": 46,
        "start_time": "2021-12-02T10:24:38.371Z"
      },
      {
        "duration": 1572,
        "start_time": "2021-12-02T10:33:17.279Z"
      },
      {
        "duration": 66,
        "start_time": "2021-12-02T10:33:18.857Z"
      },
      {
        "duration": 17,
        "start_time": "2021-12-02T10:33:18.926Z"
      },
      {
        "duration": 24,
        "start_time": "2021-12-02T10:33:18.946Z"
      },
      {
        "duration": 26,
        "start_time": "2021-12-02T10:33:18.972Z"
      },
      {
        "duration": 28,
        "start_time": "2021-12-02T10:33:19.001Z"
      },
      {
        "duration": 154,
        "start_time": "2021-12-02T10:33:19.031Z"
      },
      {
        "duration": 8,
        "start_time": "2021-12-02T10:33:19.189Z"
      },
      {
        "duration": 10,
        "start_time": "2021-12-02T10:33:19.201Z"
      },
      {
        "duration": 18,
        "start_time": "2021-12-02T10:33:19.213Z"
      },
      {
        "duration": 9,
        "start_time": "2021-12-02T10:33:19.235Z"
      },
      {
        "duration": 20,
        "start_time": "2021-12-02T10:33:19.246Z"
      },
      {
        "duration": 20,
        "start_time": "2021-12-02T10:33:19.269Z"
      },
      {
        "duration": 23,
        "start_time": "2021-12-02T10:33:19.292Z"
      },
      {
        "duration": 22,
        "start_time": "2021-12-02T10:33:19.317Z"
      },
      {
        "duration": 16,
        "start_time": "2021-12-02T10:33:19.341Z"
      },
      {
        "duration": 18,
        "start_time": "2021-12-02T10:33:19.360Z"
      },
      {
        "duration": 6,
        "start_time": "2021-12-02T10:33:19.381Z"
      },
      {
        "duration": 7,
        "start_time": "2021-12-02T10:33:19.390Z"
      },
      {
        "duration": 12,
        "start_time": "2021-12-02T10:33:19.399Z"
      },
      {
        "duration": 20,
        "start_time": "2021-12-02T10:33:19.413Z"
      },
      {
        "duration": 24,
        "start_time": "2021-12-02T10:33:19.436Z"
      },
      {
        "duration": 11,
        "start_time": "2021-12-02T10:33:19.462Z"
      },
      {
        "duration": 12,
        "start_time": "2021-12-02T10:33:19.476Z"
      },
      {
        "duration": 7,
        "start_time": "2021-12-02T10:33:19.490Z"
      },
      {
        "duration": 12,
        "start_time": "2021-12-02T10:33:19.504Z"
      },
      {
        "duration": 36,
        "start_time": "2021-12-02T10:33:19.520Z"
      },
      {
        "duration": 10,
        "start_time": "2021-12-02T10:33:19.559Z"
      },
      {
        "duration": 14,
        "start_time": "2021-12-02T10:33:19.571Z"
      },
      {
        "duration": 28,
        "start_time": "2021-12-02T10:33:19.587Z"
      },
      {
        "duration": 7,
        "start_time": "2021-12-02T10:33:19.618Z"
      },
      {
        "duration": 8,
        "start_time": "2021-12-02T10:33:19.630Z"
      },
      {
        "duration": 7,
        "start_time": "2021-12-02T10:33:19.640Z"
      },
      {
        "duration": 18,
        "start_time": "2021-12-02T10:33:19.650Z"
      },
      {
        "duration": 28,
        "start_time": "2021-12-02T10:33:19.671Z"
      },
      {
        "duration": 18,
        "start_time": "2021-12-02T10:33:19.702Z"
      },
      {
        "duration": 13,
        "start_time": "2021-12-02T10:33:19.723Z"
      },
      {
        "duration": 15,
        "start_time": "2021-12-02T10:33:19.740Z"
      },
      {
        "duration": 8,
        "start_time": "2021-12-02T10:33:19.758Z"
      },
      {
        "duration": 20,
        "start_time": "2021-12-02T10:33:19.768Z"
      },
      {
        "duration": 8,
        "start_time": "2021-12-02T10:33:19.791Z"
      },
      {
        "duration": 15,
        "start_time": "2021-12-02T10:33:19.801Z"
      },
      {
        "duration": 12,
        "start_time": "2021-12-02T10:33:19.819Z"
      },
      {
        "duration": 17,
        "start_time": "2021-12-02T10:33:19.834Z"
      },
      {
        "duration": 24,
        "start_time": "2021-12-02T10:33:19.854Z"
      },
      {
        "duration": 3,
        "start_time": "2021-12-02T10:33:19.881Z"
      },
      {
        "duration": 20,
        "start_time": "2021-12-02T10:33:19.887Z"
      },
      {
        "duration": 19,
        "start_time": "2021-12-02T10:33:19.909Z"
      },
      {
        "duration": 2113,
        "start_time": "2021-12-02T10:33:19.931Z"
      },
      {
        "duration": 4,
        "start_time": "2021-12-02T10:33:22.047Z"
      },
      {
        "duration": 4458,
        "start_time": "2021-12-02T10:33:22.054Z"
      },
      {
        "duration": 15,
        "start_time": "2021-12-02T10:33:26.515Z"
      },
      {
        "duration": 53,
        "start_time": "2021-12-02T10:33:26.533Z"
      },
      {
        "duration": 13,
        "start_time": "2021-12-02T10:33:26.589Z"
      },
      {
        "duration": 29,
        "start_time": "2021-12-02T10:33:26.605Z"
      },
      {
        "duration": 23,
        "start_time": "2021-12-02T10:33:26.637Z"
      },
      {
        "duration": 9,
        "start_time": "2021-12-02T10:33:26.663Z"
      },
      {
        "duration": 654,
        "start_time": "2021-12-02T10:33:26.675Z"
      },
      {
        "duration": 23,
        "start_time": "2021-12-02T10:33:27.331Z"
      },
      {
        "duration": 6,
        "start_time": "2021-12-02T10:33:27.357Z"
      },
      {
        "duration": 65,
        "start_time": "2021-12-02T10:33:27.366Z"
      },
      {
        "duration": 10,
        "start_time": "2021-12-02T10:33:27.434Z"
      },
      {
        "duration": 8,
        "start_time": "2021-12-02T10:33:27.446Z"
      },
      {
        "duration": 18,
        "start_time": "2021-12-02T10:33:27.456Z"
      },
      {
        "duration": 583,
        "start_time": "2021-12-02T10:33:27.477Z"
      },
      {
        "duration": 19,
        "start_time": "2021-12-02T10:33:28.062Z"
      },
      {
        "duration": 5,
        "start_time": "2021-12-02T10:33:28.084Z"
      },
      {
        "duration": 57,
        "start_time": "2021-12-02T10:33:28.092Z"
      },
      {
        "duration": 9,
        "start_time": "2021-12-02T10:33:28.152Z"
      },
      {
        "duration": 26,
        "start_time": "2021-12-02T10:33:28.164Z"
      },
      {
        "duration": 44,
        "start_time": "2021-12-02T10:33:28.193Z"
      },
      {
        "duration": 6,
        "start_time": "2021-12-02T10:33:28.239Z"
      },
      {
        "duration": 65,
        "start_time": "2021-12-02T10:33:28.248Z"
      },
      {
        "duration": 49,
        "start_time": "2021-12-02T10:33:28.329Z"
      },
      {
        "duration": 61,
        "start_time": "2021-12-02T10:33:28.381Z"
      },
      {
        "duration": 32,
        "start_time": "2021-12-02T10:33:28.444Z"
      },
      {
        "duration": 68,
        "start_time": "2021-12-02T10:33:28.479Z"
      },
      {
        "duration": 35,
        "start_time": "2021-12-02T10:33:28.551Z"
      },
      {
        "duration": 60,
        "start_time": "2021-12-02T10:33:28.590Z"
      },
      {
        "duration": 41,
        "start_time": "2021-12-02T10:33:28.658Z"
      }
    ],
    "colab": {
      "name": "project_2_borrower_beliability_research.ipynb",
      "provenance": [],
      "collapsed_sections": [],
      "toc_visible": true,
      "include_colab_link": true
    },
    "kernelspec": {
      "display_name": "Python 3",
      "language": "python",
      "name": "python3"
    },
    "language_info": {
      "codemirror_mode": {
        "name": "ipython",
        "version": 3
      },
      "file_extension": ".py",
      "mimetype": "text/x-python",
      "name": "python",
      "nbconvert_exporter": "python",
      "pygments_lexer": "ipython3",
      "version": "3.8.8"
    },
    "toc": {
      "base_numbering": 1,
      "nav_menu": {},
      "number_sections": true,
      "sideBar": true,
      "skip_h1_title": true,
      "title_cell": "Table of Contents",
      "title_sidebar": "Contents",
      "toc_cell": false,
      "toc_position": {
        "height": "calc(100% - 180px)",
        "left": "10px",
        "top": "150px",
        "width": "260px"
      },
      "toc_section_display": true,
      "toc_window_display": true
    }
  },
  "cells": [
    {
      "cell_type": "markdown",
      "metadata": {
        "id": "view-in-github",
        "colab_type": "text"
      },
      "source": [
        "<a href=\"https://colab.research.google.com/github/klipbn/klip_alex/blob/main/borrower_beliability_research/borrower_beliability_research.ipynb\" target=\"_parent\"><img src=\"https://colab.research.google.com/assets/colab-badge.svg\" alt=\"Open In Colab\"/></a>"
      ]
    },
    {
      "cell_type": "markdown",
      "metadata": {
        "id": "T0C-i-egvEkH"
      },
      "source": [
        "# Исследование надёжности заёмщиков\n",
        "\n",
        "**Описание проекта**  \n",
        "Заказчик — кредитный отдел банка. Нужно разобраться, влияет ли семейное положение и количество детей клиента на факт погашения кредита в срок. Входные данные от банка — статистика о платёжеспособности клиентов.\n",
        "\n",
        "Результаты исследования будут учтены при построении модели **кредитного скоринга** — специальной системы, которая оценивает способность потенциального заёмщика вернуть кредит банку.    \n",
        "  \n",
        "**Цель исследования**\n",
        "1. Определить есть ли зависимость между наличием детей и возвратом кредита в срок.\n",
        "2. Выяснить есть ли зависимость между семейным положением и возвратом кредита в срок.\n",
        "3. Понять есть ли зависимость между уровнем дохода и возвратом кредита в срок.\n",
        "4. Выявить как разные цели кредита влияют на его возврат в срок.\n",
        "5. Выявить как возраст клиента влияет на возврат кредита в срок.\n",
        "6. Определить есть ли зависимость между типом занятости клиента и возврат кредита в срок.\n",
        "7. Выяснить каким образом уровень образования влияет на возврат кредита.\n",
        "8. Понять есть ли влияние пола клиента на возврат кредита в срок.\n",
        "\n",
        "**Ход исследования**  \n",
        "Данные о поведении пользователей получаем из файла `/datasets/data.csv`. О качестве данных ничего не известно. Поэтому перед проверкой гипотез нам требуется выполнить обзор данных и их предобработку.  \n",
        "\n",
        "Предобработку данных выполним по следующему сценарию:  \n",
        "1. Определим и заполним пропущенные значения:  \n",
        "опишем пропущенные значения;  \n",
        "приведем возможные причины появления пропусков в данных;  \n",
        "объясним, по какому принципу заполнены пропуски.\n",
        "2. Заменим вещественный тип данных на целочисленный:  \n",
        "поясним, как выбираем метод для изменения типа данных.  \n",
        "3. Удалим дубликаты:  \n",
        "поясним, как выбираем метод для поиска и удаления дубликатов в данных;  \n",
        "приведем возможные причины появления дубликатов.  \n",
        "4. Выделим леммы в значениях столбца с целями получения кредита:  \n",
        "опишем, как проводим лемматизацию целей кредита.  \n",
        "5. Категоризируем данные:  \n",
        "перечислим и объясним выбраныне категории данных. \n",
        "\n",
        "Таким образом, исследование проведем в три этапа:\n",
        " 1. Обзор данных.\n",
        " 2. Предобработка данных.\n",
        " 3. Ответы на вопросы цели исследования.\n",
        " 4. Вывод."
      ]
    },
    {
      "cell_type": "markdown",
      "metadata": {
        "id": "LoAnFfPnvEkM"
      },
      "source": [
        "## Обзор данных"
      ]
    },
    {
      "cell_type": "markdown",
      "metadata": {
        "id": "-EYDBQ0sn2bz"
      },
      "source": [
        "Импортируем библиотеки необходимые для проведения исследования"
      ]
    },
    {
      "cell_type": "code",
      "metadata": {
        "id": "pC8oaiSXvEkN",
        "colab": {
          "base_uri": "https://localhost:8080/"
        },
        "outputId": "7b47ec5e-5eb4-416b-fd4d-7e392afe8d74"
      },
      "source": [
        "import pandas as pd # подключим библиотеку pandas\n",
        "from pymystem3 import Mystem # выполним импорт Mystem из библиотеки pymystem3. MyStem производит морфологический анализ текста на русском языке\n",
        "m = Mystem() # упростим вызов функции mystem, определив ее переменно m\n",
        "from collections import Counter # вызовем контейнер Counter из модуля collections\n",
        "import seaborn as sns # подключим библиотеку seaborn\n",
        "import matplotlib.pyplot as plt # подключим библиотеку matplotlib"
      ],
      "execution_count": null,
      "outputs": [
        {
          "output_type": "stream",
          "name": "stderr",
          "text": [
            "Installing mystem to /root/.local/bin/mystem from http://download.cdn.yandex.net/mystem/mystem-3.1-linux-64bit.tar.gz\n"
          ]
        }
      ]
    },
    {
      "cell_type": "code",
      "metadata": {
        "id": "wVzpgmLG7F-b"
      },
      "source": [
        "!wget http://download.cdn.yandex.net/mystem/mystem-3.0-linux3.1-64bit.tar.gz\n",
        "!tar -xvf mystem-3.0-linux3.1-64bit.tar.gz\n",
        "!cp mystem /root/.local/bin/mystem"
      ],
      "execution_count": null,
      "outputs": []
    },
    {
      "cell_type": "markdown",
      "metadata": {
        "id": "z6ppAs1x3nTF"
      },
      "source": [
        "Подключаемся к google диску:"
      ]
    },
    {
      "cell_type": "code",
      "metadata": {
        "id": "igGQ2-8p3mPK",
        "colab": {
          "base_uri": "https://localhost:8080/"
        },
        "outputId": "544392ba-f3a4-4db2-a9c6-3224df935946"
      },
      "source": [
        "from google.colab import drive # подключяем либу гугл драйва, для загрузки с гугл диска\n",
        "drive.mount('/content/drive')"
      ],
      "execution_count": null,
      "outputs": [
        {
          "output_type": "stream",
          "name": "stdout",
          "text": [
            "Mounted at /content/drive\n"
          ]
        }
      ]
    },
    {
      "cell_type": "markdown",
      "metadata": {
        "id": "8lVb9vrUn90X"
      },
      "source": [
        "Прочитаем файл `data.csv` из папки `/datasets` и сохраним его в переменной `data`:"
      ]
    },
    {
      "cell_type": "code",
      "metadata": {
        "id": "PVgVBzR8vVz4"
      },
      "source": [
        "data = pd.read_csv('/content/drive/MyDrive/Yandex_DS/project_2_borrower_beliability_research/data.csv') # прочитаем файл с данными по исселедованию"
      ],
      "execution_count": null,
      "outputs": []
    },
    {
      "cell_type": "markdown",
      "metadata": {
        "id": "NESekVkroHGF"
      },
      "source": [
        "Выведем информацию о датасете:"
      ]
    },
    {
      "cell_type": "code",
      "metadata": {
        "colab": {
          "base_uri": "https://localhost:8080/"
        },
        "id": "_YJL5p1UvuRG",
        "outputId": "5292abc2-c5fb-4371-9570-c2054b804781"
      },
      "source": [
        "data.info() # вызовем метод для просмотра сводной информации о таблице"
      ],
      "execution_count": null,
      "outputs": [
        {
          "output_type": "stream",
          "name": "stdout",
          "text": [
            "<class 'pandas.core.frame.DataFrame'>\n",
            "RangeIndex: 21525 entries, 0 to 21524\n",
            "Data columns (total 12 columns):\n",
            " #   Column            Non-Null Count  Dtype  \n",
            "---  ------            --------------  -----  \n",
            " 0   children          21525 non-null  int64  \n",
            " 1   days_employed     19351 non-null  float64\n",
            " 2   dob_years         21525 non-null  int64  \n",
            " 3   education         21525 non-null  object \n",
            " 4   education_id      21525 non-null  int64  \n",
            " 5   family_status     21525 non-null  object \n",
            " 6   family_status_id  21525 non-null  int64  \n",
            " 7   gender            21525 non-null  object \n",
            " 8   income_type       21525 non-null  object \n",
            " 9   debt              21525 non-null  int64  \n",
            " 10  total_income      19351 non-null  float64\n",
            " 11  purpose           21525 non-null  object \n",
            "dtypes: float64(2), int64(5), object(5)\n",
            "memory usage: 2.0+ MB\n"
          ]
        }
      ]
    },
    {
      "cell_type": "markdown",
      "metadata": {
        "id": "_JzJHUy3oOAU"
      },
      "source": [
        "Мы видим, что имеются пропущенные значения в столбцах `days_employed` и  `total_income`. Тип данных в таблице int, float, object."
      ]
    },
    {
      "cell_type": "markdown",
      "metadata": {
        "id": "cJgyjfSeoh_J"
      },
      "source": [
        "Посмотрим первые 10 строк:"
      ]
    },
    {
      "cell_type": "code",
      "metadata": {
        "colab": {
          "base_uri": "https://localhost:8080/",
          "height": 542
        },
        "id": "qmRnba1UcafO",
        "outputId": "9b149e3f-bd3e-4718-c73f-99d026b0aff8"
      },
      "source": [
        "data.head(10) # метод .head() для просмотра верхней части таблицы"
      ],
      "execution_count": null,
      "outputs": [
        {
          "output_type": "execute_result",
          "data": {
            "text/html": [
              "<div>\n",
              "<style scoped>\n",
              "    .dataframe tbody tr th:only-of-type {\n",
              "        vertical-align: middle;\n",
              "    }\n",
              "\n",
              "    .dataframe tbody tr th {\n",
              "        vertical-align: top;\n",
              "    }\n",
              "\n",
              "    .dataframe thead th {\n",
              "        text-align: right;\n",
              "    }\n",
              "</style>\n",
              "<table border=\"1\" class=\"dataframe\">\n",
              "  <thead>\n",
              "    <tr style=\"text-align: right;\">\n",
              "      <th></th>\n",
              "      <th>children</th>\n",
              "      <th>days_employed</th>\n",
              "      <th>dob_years</th>\n",
              "      <th>education</th>\n",
              "      <th>education_id</th>\n",
              "      <th>family_status</th>\n",
              "      <th>family_status_id</th>\n",
              "      <th>gender</th>\n",
              "      <th>income_type</th>\n",
              "      <th>debt</th>\n",
              "      <th>total_income</th>\n",
              "      <th>purpose</th>\n",
              "    </tr>\n",
              "  </thead>\n",
              "  <tbody>\n",
              "    <tr>\n",
              "      <th>0</th>\n",
              "      <td>1</td>\n",
              "      <td>-8437.673028</td>\n",
              "      <td>42</td>\n",
              "      <td>высшее</td>\n",
              "      <td>0</td>\n",
              "      <td>женат / замужем</td>\n",
              "      <td>0</td>\n",
              "      <td>F</td>\n",
              "      <td>сотрудник</td>\n",
              "      <td>0</td>\n",
              "      <td>253875.639453</td>\n",
              "      <td>покупка жилья</td>\n",
              "    </tr>\n",
              "    <tr>\n",
              "      <th>1</th>\n",
              "      <td>1</td>\n",
              "      <td>-4024.803754</td>\n",
              "      <td>36</td>\n",
              "      <td>среднее</td>\n",
              "      <td>1</td>\n",
              "      <td>женат / замужем</td>\n",
              "      <td>0</td>\n",
              "      <td>F</td>\n",
              "      <td>сотрудник</td>\n",
              "      <td>0</td>\n",
              "      <td>112080.014102</td>\n",
              "      <td>приобретение автомобиля</td>\n",
              "    </tr>\n",
              "    <tr>\n",
              "      <th>2</th>\n",
              "      <td>0</td>\n",
              "      <td>-5623.422610</td>\n",
              "      <td>33</td>\n",
              "      <td>Среднее</td>\n",
              "      <td>1</td>\n",
              "      <td>женат / замужем</td>\n",
              "      <td>0</td>\n",
              "      <td>M</td>\n",
              "      <td>сотрудник</td>\n",
              "      <td>0</td>\n",
              "      <td>145885.952297</td>\n",
              "      <td>покупка жилья</td>\n",
              "    </tr>\n",
              "    <tr>\n",
              "      <th>3</th>\n",
              "      <td>3</td>\n",
              "      <td>-4124.747207</td>\n",
              "      <td>32</td>\n",
              "      <td>среднее</td>\n",
              "      <td>1</td>\n",
              "      <td>женат / замужем</td>\n",
              "      <td>0</td>\n",
              "      <td>M</td>\n",
              "      <td>сотрудник</td>\n",
              "      <td>0</td>\n",
              "      <td>267628.550329</td>\n",
              "      <td>дополнительное образование</td>\n",
              "    </tr>\n",
              "    <tr>\n",
              "      <th>4</th>\n",
              "      <td>0</td>\n",
              "      <td>340266.072047</td>\n",
              "      <td>53</td>\n",
              "      <td>среднее</td>\n",
              "      <td>1</td>\n",
              "      <td>гражданский брак</td>\n",
              "      <td>1</td>\n",
              "      <td>F</td>\n",
              "      <td>пенсионер</td>\n",
              "      <td>0</td>\n",
              "      <td>158616.077870</td>\n",
              "      <td>сыграть свадьбу</td>\n",
              "    </tr>\n",
              "    <tr>\n",
              "      <th>5</th>\n",
              "      <td>0</td>\n",
              "      <td>-926.185831</td>\n",
              "      <td>27</td>\n",
              "      <td>высшее</td>\n",
              "      <td>0</td>\n",
              "      <td>гражданский брак</td>\n",
              "      <td>1</td>\n",
              "      <td>M</td>\n",
              "      <td>компаньон</td>\n",
              "      <td>0</td>\n",
              "      <td>255763.565419</td>\n",
              "      <td>покупка жилья</td>\n",
              "    </tr>\n",
              "    <tr>\n",
              "      <th>6</th>\n",
              "      <td>0</td>\n",
              "      <td>-2879.202052</td>\n",
              "      <td>43</td>\n",
              "      <td>высшее</td>\n",
              "      <td>0</td>\n",
              "      <td>женат / замужем</td>\n",
              "      <td>0</td>\n",
              "      <td>F</td>\n",
              "      <td>компаньон</td>\n",
              "      <td>0</td>\n",
              "      <td>240525.971920</td>\n",
              "      <td>операции с жильем</td>\n",
              "    </tr>\n",
              "    <tr>\n",
              "      <th>7</th>\n",
              "      <td>0</td>\n",
              "      <td>-152.779569</td>\n",
              "      <td>50</td>\n",
              "      <td>СРЕДНЕЕ</td>\n",
              "      <td>1</td>\n",
              "      <td>женат / замужем</td>\n",
              "      <td>0</td>\n",
              "      <td>M</td>\n",
              "      <td>сотрудник</td>\n",
              "      <td>0</td>\n",
              "      <td>135823.934197</td>\n",
              "      <td>образование</td>\n",
              "    </tr>\n",
              "    <tr>\n",
              "      <th>8</th>\n",
              "      <td>2</td>\n",
              "      <td>-6929.865299</td>\n",
              "      <td>35</td>\n",
              "      <td>ВЫСШЕЕ</td>\n",
              "      <td>0</td>\n",
              "      <td>гражданский брак</td>\n",
              "      <td>1</td>\n",
              "      <td>F</td>\n",
              "      <td>сотрудник</td>\n",
              "      <td>0</td>\n",
              "      <td>95856.832424</td>\n",
              "      <td>на проведение свадьбы</td>\n",
              "    </tr>\n",
              "    <tr>\n",
              "      <th>9</th>\n",
              "      <td>0</td>\n",
              "      <td>-2188.756445</td>\n",
              "      <td>41</td>\n",
              "      <td>среднее</td>\n",
              "      <td>1</td>\n",
              "      <td>женат / замужем</td>\n",
              "      <td>0</td>\n",
              "      <td>M</td>\n",
              "      <td>сотрудник</td>\n",
              "      <td>0</td>\n",
              "      <td>144425.938277</td>\n",
              "      <td>покупка жилья для семьи</td>\n",
              "    </tr>\n",
              "  </tbody>\n",
              "</table>\n",
              "</div>"
            ],
            "text/plain": [
              "   children  days_employed  ...   total_income                     purpose\n",
              "0         1   -8437.673028  ...  253875.639453               покупка жилья\n",
              "1         1   -4024.803754  ...  112080.014102     приобретение автомобиля\n",
              "2         0   -5623.422610  ...  145885.952297               покупка жилья\n",
              "3         3   -4124.747207  ...  267628.550329  дополнительное образование\n",
              "4         0  340266.072047  ...  158616.077870             сыграть свадьбу\n",
              "5         0    -926.185831  ...  255763.565419               покупка жилья\n",
              "6         0   -2879.202052  ...  240525.971920           операции с жильем\n",
              "7         0    -152.779569  ...  135823.934197                 образование\n",
              "8         2   -6929.865299  ...   95856.832424       на проведение свадьбы\n",
              "9         0   -2188.756445  ...  144425.938277     покупка жилья для семьи\n",
              "\n",
              "[10 rows x 12 columns]"
            ]
          },
          "metadata": {},
          "execution_count": 6
        }
      ]
    },
    {
      "cell_type": "markdown",
      "metadata": {
        "id": "R997RrkyESUN"
      },
      "source": [
        "Посмотрим 10 строк с конца:"
      ]
    },
    {
      "cell_type": "code",
      "metadata": {
        "colab": {
          "base_uri": "https://localhost:8080/",
          "height": 592
        },
        "id": "khB1TFdEEW3h",
        "outputId": "06489e34-0ad9-4ddb-f805-d35bfc61b0dc"
      },
      "source": [
        "data.tail(10) # метод .tail() для просмотра нижней части таблицы"
      ],
      "execution_count": null,
      "outputs": [
        {
          "output_type": "execute_result",
          "data": {
            "text/html": [
              "<div>\n",
              "<style scoped>\n",
              "    .dataframe tbody tr th:only-of-type {\n",
              "        vertical-align: middle;\n",
              "    }\n",
              "\n",
              "    .dataframe tbody tr th {\n",
              "        vertical-align: top;\n",
              "    }\n",
              "\n",
              "    .dataframe thead th {\n",
              "        text-align: right;\n",
              "    }\n",
              "</style>\n",
              "<table border=\"1\" class=\"dataframe\">\n",
              "  <thead>\n",
              "    <tr style=\"text-align: right;\">\n",
              "      <th></th>\n",
              "      <th>children</th>\n",
              "      <th>days_employed</th>\n",
              "      <th>dob_years</th>\n",
              "      <th>education</th>\n",
              "      <th>education_id</th>\n",
              "      <th>family_status</th>\n",
              "      <th>family_status_id</th>\n",
              "      <th>gender</th>\n",
              "      <th>income_type</th>\n",
              "      <th>debt</th>\n",
              "      <th>total_income</th>\n",
              "      <th>purpose</th>\n",
              "    </tr>\n",
              "  </thead>\n",
              "  <tbody>\n",
              "    <tr>\n",
              "      <th>21515</th>\n",
              "      <td>1</td>\n",
              "      <td>-467.685130</td>\n",
              "      <td>28</td>\n",
              "      <td>среднее</td>\n",
              "      <td>1</td>\n",
              "      <td>женат / замужем</td>\n",
              "      <td>0</td>\n",
              "      <td>F</td>\n",
              "      <td>сотрудник</td>\n",
              "      <td>1</td>\n",
              "      <td>109486.327999</td>\n",
              "      <td>заняться образованием</td>\n",
              "    </tr>\n",
              "    <tr>\n",
              "      <th>21516</th>\n",
              "      <td>0</td>\n",
              "      <td>-914.391429</td>\n",
              "      <td>42</td>\n",
              "      <td>высшее</td>\n",
              "      <td>0</td>\n",
              "      <td>женат / замужем</td>\n",
              "      <td>0</td>\n",
              "      <td>F</td>\n",
              "      <td>компаньон</td>\n",
              "      <td>0</td>\n",
              "      <td>322807.776603</td>\n",
              "      <td>покупка своего жилья</td>\n",
              "    </tr>\n",
              "    <tr>\n",
              "      <th>21517</th>\n",
              "      <td>0</td>\n",
              "      <td>-404.679034</td>\n",
              "      <td>42</td>\n",
              "      <td>высшее</td>\n",
              "      <td>0</td>\n",
              "      <td>гражданский брак</td>\n",
              "      <td>1</td>\n",
              "      <td>F</td>\n",
              "      <td>компаньон</td>\n",
              "      <td>0</td>\n",
              "      <td>178059.553491</td>\n",
              "      <td>на покупку своего автомобиля</td>\n",
              "    </tr>\n",
              "    <tr>\n",
              "      <th>21518</th>\n",
              "      <td>0</td>\n",
              "      <td>373995.710838</td>\n",
              "      <td>59</td>\n",
              "      <td>СРЕДНЕЕ</td>\n",
              "      <td>1</td>\n",
              "      <td>женат / замужем</td>\n",
              "      <td>0</td>\n",
              "      <td>F</td>\n",
              "      <td>пенсионер</td>\n",
              "      <td>0</td>\n",
              "      <td>153864.650328</td>\n",
              "      <td>сделка с автомобилем</td>\n",
              "    </tr>\n",
              "    <tr>\n",
              "      <th>21519</th>\n",
              "      <td>1</td>\n",
              "      <td>-2351.431934</td>\n",
              "      <td>37</td>\n",
              "      <td>ученая степень</td>\n",
              "      <td>4</td>\n",
              "      <td>в разводе</td>\n",
              "      <td>3</td>\n",
              "      <td>M</td>\n",
              "      <td>сотрудник</td>\n",
              "      <td>0</td>\n",
              "      <td>115949.039788</td>\n",
              "      <td>покупка коммерческой недвижимости</td>\n",
              "    </tr>\n",
              "    <tr>\n",
              "      <th>21520</th>\n",
              "      <td>1</td>\n",
              "      <td>-4529.316663</td>\n",
              "      <td>43</td>\n",
              "      <td>среднее</td>\n",
              "      <td>1</td>\n",
              "      <td>гражданский брак</td>\n",
              "      <td>1</td>\n",
              "      <td>F</td>\n",
              "      <td>компаньон</td>\n",
              "      <td>0</td>\n",
              "      <td>224791.862382</td>\n",
              "      <td>операции с жильем</td>\n",
              "    </tr>\n",
              "    <tr>\n",
              "      <th>21521</th>\n",
              "      <td>0</td>\n",
              "      <td>343937.404131</td>\n",
              "      <td>67</td>\n",
              "      <td>среднее</td>\n",
              "      <td>1</td>\n",
              "      <td>женат / замужем</td>\n",
              "      <td>0</td>\n",
              "      <td>F</td>\n",
              "      <td>пенсионер</td>\n",
              "      <td>0</td>\n",
              "      <td>155999.806512</td>\n",
              "      <td>сделка с автомобилем</td>\n",
              "    </tr>\n",
              "    <tr>\n",
              "      <th>21522</th>\n",
              "      <td>1</td>\n",
              "      <td>-2113.346888</td>\n",
              "      <td>38</td>\n",
              "      <td>среднее</td>\n",
              "      <td>1</td>\n",
              "      <td>гражданский брак</td>\n",
              "      <td>1</td>\n",
              "      <td>M</td>\n",
              "      <td>сотрудник</td>\n",
              "      <td>1</td>\n",
              "      <td>89672.561153</td>\n",
              "      <td>недвижимость</td>\n",
              "    </tr>\n",
              "    <tr>\n",
              "      <th>21523</th>\n",
              "      <td>3</td>\n",
              "      <td>-3112.481705</td>\n",
              "      <td>38</td>\n",
              "      <td>среднее</td>\n",
              "      <td>1</td>\n",
              "      <td>женат / замужем</td>\n",
              "      <td>0</td>\n",
              "      <td>M</td>\n",
              "      <td>сотрудник</td>\n",
              "      <td>1</td>\n",
              "      <td>244093.050500</td>\n",
              "      <td>на покупку своего автомобиля</td>\n",
              "    </tr>\n",
              "    <tr>\n",
              "      <th>21524</th>\n",
              "      <td>2</td>\n",
              "      <td>-1984.507589</td>\n",
              "      <td>40</td>\n",
              "      <td>среднее</td>\n",
              "      <td>1</td>\n",
              "      <td>женат / замужем</td>\n",
              "      <td>0</td>\n",
              "      <td>F</td>\n",
              "      <td>сотрудник</td>\n",
              "      <td>0</td>\n",
              "      <td>82047.418899</td>\n",
              "      <td>на покупку автомобиля</td>\n",
              "    </tr>\n",
              "  </tbody>\n",
              "</table>\n",
              "</div>"
            ],
            "text/plain": [
              "       children  ...                            purpose\n",
              "21515         1  ...              заняться образованием\n",
              "21516         0  ...               покупка своего жилья\n",
              "21517         0  ...       на покупку своего автомобиля\n",
              "21518         0  ...               сделка с автомобилем\n",
              "21519         1  ...  покупка коммерческой недвижимости\n",
              "21520         1  ...                  операции с жильем\n",
              "21521         0  ...               сделка с автомобилем\n",
              "21522         1  ...                       недвижимость\n",
              "21523         3  ...       на покупку своего автомобиля\n",
              "21524         2  ...              на покупку автомобиля\n",
              "\n",
              "[10 rows x 12 columns]"
            ]
          },
          "metadata": {},
          "execution_count": 7
        }
      ]
    },
    {
      "cell_type": "markdown",
      "metadata": {
        "id": "kj0DyHLpo8Yg"
      },
      "source": [
        "Выведем на экран 3 случайных строки и запишем их в контейнер:"
      ]
    },
    {
      "cell_type": "code",
      "metadata": {
        "colab": {
          "base_uri": "https://localhost:8080/",
          "height": 211
        },
        "id": "qqNv6ahrFhXG",
        "outputId": "083cdca0-6674-4b70-eec9-2839d0ee7925"
      },
      "source": [
        "data.sample(n=3, random_state = 9) # выведем  случайных строки и положим их в контейнер \"9\""
      ],
      "execution_count": null,
      "outputs": [
        {
          "output_type": "execute_result",
          "data": {
            "text/html": [
              "<div>\n",
              "<style scoped>\n",
              "    .dataframe tbody tr th:only-of-type {\n",
              "        vertical-align: middle;\n",
              "    }\n",
              "\n",
              "    .dataframe tbody tr th {\n",
              "        vertical-align: top;\n",
              "    }\n",
              "\n",
              "    .dataframe thead th {\n",
              "        text-align: right;\n",
              "    }\n",
              "</style>\n",
              "<table border=\"1\" class=\"dataframe\">\n",
              "  <thead>\n",
              "    <tr style=\"text-align: right;\">\n",
              "      <th></th>\n",
              "      <th>children</th>\n",
              "      <th>days_employed</th>\n",
              "      <th>dob_years</th>\n",
              "      <th>education</th>\n",
              "      <th>education_id</th>\n",
              "      <th>family_status</th>\n",
              "      <th>family_status_id</th>\n",
              "      <th>gender</th>\n",
              "      <th>income_type</th>\n",
              "      <th>debt</th>\n",
              "      <th>total_income</th>\n",
              "      <th>purpose</th>\n",
              "    </tr>\n",
              "  </thead>\n",
              "  <tbody>\n",
              "    <tr>\n",
              "      <th>15421</th>\n",
              "      <td>2</td>\n",
              "      <td>-212.242887</td>\n",
              "      <td>38</td>\n",
              "      <td>среднее</td>\n",
              "      <td>1</td>\n",
              "      <td>Не женат / не замужем</td>\n",
              "      <td>4</td>\n",
              "      <td>F</td>\n",
              "      <td>сотрудник</td>\n",
              "      <td>0</td>\n",
              "      <td>136057.871391</td>\n",
              "      <td>образование</td>\n",
              "    </tr>\n",
              "    <tr>\n",
              "      <th>17701</th>\n",
              "      <td>0</td>\n",
              "      <td>-903.764781</td>\n",
              "      <td>28</td>\n",
              "      <td>среднее</td>\n",
              "      <td>1</td>\n",
              "      <td>в разводе</td>\n",
              "      <td>3</td>\n",
              "      <td>M</td>\n",
              "      <td>компаньон</td>\n",
              "      <td>0</td>\n",
              "      <td>149712.217720</td>\n",
              "      <td>недвижимость</td>\n",
              "    </tr>\n",
              "    <tr>\n",
              "      <th>19288</th>\n",
              "      <td>0</td>\n",
              "      <td>349287.472752</td>\n",
              "      <td>66</td>\n",
              "      <td>среднее</td>\n",
              "      <td>1</td>\n",
              "      <td>Не женат / не замужем</td>\n",
              "      <td>4</td>\n",
              "      <td>F</td>\n",
              "      <td>пенсионер</td>\n",
              "      <td>0</td>\n",
              "      <td>63392.483784</td>\n",
              "      <td>строительство жилой недвижимости</td>\n",
              "    </tr>\n",
              "  </tbody>\n",
              "</table>\n",
              "</div>"
            ],
            "text/plain": [
              "       children  days_employed  ...   total_income                           purpose\n",
              "15421         2    -212.242887  ...  136057.871391                       образование\n",
              "17701         0    -903.764781  ...  149712.217720                      недвижимость\n",
              "19288         0  349287.472752  ...   63392.483784  строительство жилой недвижимости\n",
              "\n",
              "[3 rows x 12 columns]"
            ]
          },
          "metadata": {},
          "execution_count": 8
        }
      ]
    },
    {
      "cell_type": "markdown",
      "metadata": {
        "id": "eXM11gespBpk"
      },
      "source": [
        "Посмотрим описание таблицы:"
      ]
    },
    {
      "cell_type": "code",
      "metadata": {
        "colab": {
          "base_uri": "https://localhost:8080/",
          "height": 416
        },
        "id": "bkH-gappGUQ9",
        "outputId": "230b666f-05d3-423b-e795-ac76cc0e9944"
      },
      "source": [
        "data.describe(include='all').T # выведем описание все таблицы, и транспонируем ее"
      ],
      "execution_count": null,
      "outputs": [
        {
          "output_type": "execute_result",
          "data": {
            "text/html": [
              "<div>\n",
              "<style scoped>\n",
              "    .dataframe tbody tr th:only-of-type {\n",
              "        vertical-align: middle;\n",
              "    }\n",
              "\n",
              "    .dataframe tbody tr th {\n",
              "        vertical-align: top;\n",
              "    }\n",
              "\n",
              "    .dataframe thead th {\n",
              "        text-align: right;\n",
              "    }\n",
              "</style>\n",
              "<table border=\"1\" class=\"dataframe\">\n",
              "  <thead>\n",
              "    <tr style=\"text-align: right;\">\n",
              "      <th></th>\n",
              "      <th>count</th>\n",
              "      <th>unique</th>\n",
              "      <th>top</th>\n",
              "      <th>freq</th>\n",
              "      <th>mean</th>\n",
              "      <th>std</th>\n",
              "      <th>min</th>\n",
              "      <th>25%</th>\n",
              "      <th>50%</th>\n",
              "      <th>75%</th>\n",
              "      <th>max</th>\n",
              "    </tr>\n",
              "  </thead>\n",
              "  <tbody>\n",
              "    <tr>\n",
              "      <th>children</th>\n",
              "      <td>21525</td>\n",
              "      <td>NaN</td>\n",
              "      <td>NaN</td>\n",
              "      <td>NaN</td>\n",
              "      <td>0.538908</td>\n",
              "      <td>1.38159</td>\n",
              "      <td>-1</td>\n",
              "      <td>0</td>\n",
              "      <td>0</td>\n",
              "      <td>1</td>\n",
              "      <td>20</td>\n",
              "    </tr>\n",
              "    <tr>\n",
              "      <th>days_employed</th>\n",
              "      <td>19351</td>\n",
              "      <td>NaN</td>\n",
              "      <td>NaN</td>\n",
              "      <td>NaN</td>\n",
              "      <td>63046.5</td>\n",
              "      <td>140827</td>\n",
              "      <td>-18388.9</td>\n",
              "      <td>-2747.42</td>\n",
              "      <td>-1203.37</td>\n",
              "      <td>-291.096</td>\n",
              "      <td>401755</td>\n",
              "    </tr>\n",
              "    <tr>\n",
              "      <th>dob_years</th>\n",
              "      <td>21525</td>\n",
              "      <td>NaN</td>\n",
              "      <td>NaN</td>\n",
              "      <td>NaN</td>\n",
              "      <td>43.2934</td>\n",
              "      <td>12.5746</td>\n",
              "      <td>0</td>\n",
              "      <td>33</td>\n",
              "      <td>42</td>\n",
              "      <td>53</td>\n",
              "      <td>75</td>\n",
              "    </tr>\n",
              "    <tr>\n",
              "      <th>education</th>\n",
              "      <td>21525</td>\n",
              "      <td>15</td>\n",
              "      <td>среднее</td>\n",
              "      <td>13750</td>\n",
              "      <td>NaN</td>\n",
              "      <td>NaN</td>\n",
              "      <td>NaN</td>\n",
              "      <td>NaN</td>\n",
              "      <td>NaN</td>\n",
              "      <td>NaN</td>\n",
              "      <td>NaN</td>\n",
              "    </tr>\n",
              "    <tr>\n",
              "      <th>education_id</th>\n",
              "      <td>21525</td>\n",
              "      <td>NaN</td>\n",
              "      <td>NaN</td>\n",
              "      <td>NaN</td>\n",
              "      <td>0.817236</td>\n",
              "      <td>0.548138</td>\n",
              "      <td>0</td>\n",
              "      <td>1</td>\n",
              "      <td>1</td>\n",
              "      <td>1</td>\n",
              "      <td>4</td>\n",
              "    </tr>\n",
              "    <tr>\n",
              "      <th>family_status</th>\n",
              "      <td>21525</td>\n",
              "      <td>5</td>\n",
              "      <td>женат / замужем</td>\n",
              "      <td>12380</td>\n",
              "      <td>NaN</td>\n",
              "      <td>NaN</td>\n",
              "      <td>NaN</td>\n",
              "      <td>NaN</td>\n",
              "      <td>NaN</td>\n",
              "      <td>NaN</td>\n",
              "      <td>NaN</td>\n",
              "    </tr>\n",
              "    <tr>\n",
              "      <th>family_status_id</th>\n",
              "      <td>21525</td>\n",
              "      <td>NaN</td>\n",
              "      <td>NaN</td>\n",
              "      <td>NaN</td>\n",
              "      <td>0.972544</td>\n",
              "      <td>1.42032</td>\n",
              "      <td>0</td>\n",
              "      <td>0</td>\n",
              "      <td>0</td>\n",
              "      <td>1</td>\n",
              "      <td>4</td>\n",
              "    </tr>\n",
              "    <tr>\n",
              "      <th>gender</th>\n",
              "      <td>21525</td>\n",
              "      <td>3</td>\n",
              "      <td>F</td>\n",
              "      <td>14236</td>\n",
              "      <td>NaN</td>\n",
              "      <td>NaN</td>\n",
              "      <td>NaN</td>\n",
              "      <td>NaN</td>\n",
              "      <td>NaN</td>\n",
              "      <td>NaN</td>\n",
              "      <td>NaN</td>\n",
              "    </tr>\n",
              "    <tr>\n",
              "      <th>income_type</th>\n",
              "      <td>21525</td>\n",
              "      <td>8</td>\n",
              "      <td>сотрудник</td>\n",
              "      <td>11119</td>\n",
              "      <td>NaN</td>\n",
              "      <td>NaN</td>\n",
              "      <td>NaN</td>\n",
              "      <td>NaN</td>\n",
              "      <td>NaN</td>\n",
              "      <td>NaN</td>\n",
              "      <td>NaN</td>\n",
              "    </tr>\n",
              "    <tr>\n",
              "      <th>debt</th>\n",
              "      <td>21525</td>\n",
              "      <td>NaN</td>\n",
              "      <td>NaN</td>\n",
              "      <td>NaN</td>\n",
              "      <td>0.0808827</td>\n",
              "      <td>0.272661</td>\n",
              "      <td>0</td>\n",
              "      <td>0</td>\n",
              "      <td>0</td>\n",
              "      <td>0</td>\n",
              "      <td>1</td>\n",
              "    </tr>\n",
              "    <tr>\n",
              "      <th>total_income</th>\n",
              "      <td>19351</td>\n",
              "      <td>NaN</td>\n",
              "      <td>NaN</td>\n",
              "      <td>NaN</td>\n",
              "      <td>167422</td>\n",
              "      <td>102972</td>\n",
              "      <td>20667.3</td>\n",
              "      <td>103053</td>\n",
              "      <td>145018</td>\n",
              "      <td>203435</td>\n",
              "      <td>2.2656e+06</td>\n",
              "    </tr>\n",
              "    <tr>\n",
              "      <th>purpose</th>\n",
              "      <td>21525</td>\n",
              "      <td>38</td>\n",
              "      <td>свадьба</td>\n",
              "      <td>797</td>\n",
              "      <td>NaN</td>\n",
              "      <td>NaN</td>\n",
              "      <td>NaN</td>\n",
              "      <td>NaN</td>\n",
              "      <td>NaN</td>\n",
              "      <td>NaN</td>\n",
              "      <td>NaN</td>\n",
              "    </tr>\n",
              "  </tbody>\n",
              "</table>\n",
              "</div>"
            ],
            "text/plain": [
              "                  count unique              top  ...      50%      75%         max\n",
              "children          21525    NaN              NaN  ...        0        1          20\n",
              "days_employed     19351    NaN              NaN  ... -1203.37 -291.096      401755\n",
              "dob_years         21525    NaN              NaN  ...       42       53          75\n",
              "education         21525     15          среднее  ...      NaN      NaN         NaN\n",
              "education_id      21525    NaN              NaN  ...        1        1           4\n",
              "family_status     21525      5  женат / замужем  ...      NaN      NaN         NaN\n",
              "family_status_id  21525    NaN              NaN  ...        0        1           4\n",
              "gender            21525      3                F  ...      NaN      NaN         NaN\n",
              "income_type       21525      8        сотрудник  ...      NaN      NaN         NaN\n",
              "debt              21525    NaN              NaN  ...        0        0           1\n",
              "total_income      19351    NaN              NaN  ...   145018   203435  2.2656e+06\n",
              "purpose           21525     38          свадьба  ...      NaN      NaN         NaN\n",
              "\n",
              "[12 rows x 11 columns]"
            ]
          },
          "metadata": {},
          "execution_count": 9
        }
      ]
    },
    {
      "cell_type": "markdown",
      "metadata": {
        "id": "KjDQjHwTkG2f"
      },
      "source": [
        "Описание наименования столбцов\n",
        "* children — количество детей в семье\n",
        "* days_employed — общий трудовой стаж в днях\n",
        "* dob_years — возраст клиента в годах\n",
        "* education — уровень образования клиента\n",
        "* education_id — идентификатор уровня образования\n",
        "* family_status — семейное положение\n",
        "* family_status_id — идентификатор семейного положения\n",
        "* gender — пол клиента\n",
        "* income_type — тип занятости\n",
        "* debt — имел ли задолженность по возврату кредитов\n",
        "* total_income — ежемесячный доход\n",
        "* purpose — цель получения кредита"
      ]
    },
    {
      "cell_type": "markdown",
      "metadata": {
        "id": "ZLtAS6P4osll"
      },
      "source": [
        "При анализе таблицы уже видны странные значения в столбцах:\n",
        "- `days_employed` - трудовой стаж не может быть отрицательный или слишком большой, и при этом тип данных должен быть целочисленный.\n",
        "- `education` - текст имеет прописные и строчные буквы, нужно привести к одному виду;\n",
        "- `total_income` - ежемесячный доход должен иметь тип даных целочисленный.\n",
        "\n",
        "Посмотрим, что содержат в себе каждый столбец для более подброного обзора данных:"
      ]
    },
    {
      "cell_type": "markdown",
      "metadata": {
        "id": "UAvrcx9tp4It"
      },
      "source": [
        "Посмотрим уникальные значения столбца `children` и их количество:"
      ]
    },
    {
      "cell_type": "code",
      "metadata": {
        "colab": {
          "base_uri": "https://localhost:8080/"
        },
        "id": "5bSqHgu_rSpw",
        "outputId": "68445adb-86cc-4dfc-8f20-8d2c8a53234b"
      },
      "source": [
        "data['children'].value_counts() # просмотр уникальных значений столбца и их количества"
      ],
      "execution_count": null,
      "outputs": [
        {
          "output_type": "execute_result",
          "data": {
            "text/plain": [
              " 0     14149\n",
              " 1      4818\n",
              " 2      2055\n",
              " 3       330\n",
              " 20       76\n",
              "-1        47\n",
              " 4        41\n",
              " 5         9\n",
              "Name: children, dtype: int64"
            ]
          },
          "metadata": {},
          "execution_count": 10
        }
      ]
    },
    {
      "cell_type": "markdown",
      "metadata": {
        "id": "7oDrrwo_qfJs"
      },
      "source": [
        "Видно, что количество детей \"-1\" быть не может, в тоже время 20 детей у 76 семей очень маловероятное."
      ]
    },
    {
      "cell_type": "markdown",
      "metadata": {
        "id": "kFNgWAK2qDQc"
      },
      "source": [
        "Посмотрим уникальные значения столбца `dob_years` и их количество:"
      ]
    },
    {
      "cell_type": "code",
      "metadata": {
        "colab": {
          "base_uri": "https://localhost:8080/"
        },
        "id": "6jRV9PMNEHp7",
        "outputId": "06eeb858-c451-499c-82c9-3543448affb2"
      },
      "source": [
        "data['dob_years'].value_counts() # просмотр уникальных значений столбца и их количества"
      ],
      "execution_count": null,
      "outputs": [
        {
          "output_type": "execute_result",
          "data": {
            "text/plain": [
              "35    617\n",
              "40    609\n",
              "41    607\n",
              "34    603\n",
              "38    598\n",
              "42    597\n",
              "33    581\n",
              "39    573\n",
              "31    560\n",
              "36    555\n",
              "44    547\n",
              "29    545\n",
              "30    540\n",
              "48    538\n",
              "37    537\n",
              "50    514\n",
              "43    513\n",
              "32    510\n",
              "49    508\n",
              "28    503\n",
              "45    497\n",
              "27    493\n",
              "56    487\n",
              "52    484\n",
              "47    480\n",
              "54    479\n",
              "46    475\n",
              "58    461\n",
              "57    460\n",
              "53    459\n",
              "51    448\n",
              "59    444\n",
              "55    443\n",
              "26    408\n",
              "60    377\n",
              "25    357\n",
              "61    355\n",
              "62    352\n",
              "63    269\n",
              "64    265\n",
              "24    264\n",
              "23    254\n",
              "65    194\n",
              "66    183\n",
              "22    183\n",
              "67    167\n",
              "21    111\n",
              "0     101\n",
              "68     99\n",
              "69     85\n",
              "70     65\n",
              "71     58\n",
              "20     51\n",
              "72     33\n",
              "19     14\n",
              "73      8\n",
              "74      6\n",
              "75      1\n",
              "Name: dob_years, dtype: int64"
            ]
          },
          "metadata": {},
          "execution_count": 11
        }
      ]
    },
    {
      "cell_type": "markdown",
      "metadata": {
        "id": "5mzrGB6Kqqyz"
      },
      "source": [
        "В столбце присутствуют ячейки со значениями \"0\" лет, что является неправильным."
      ]
    },
    {
      "cell_type": "markdown",
      "metadata": {
        "id": "P2o0b4kcqGc4"
      },
      "source": [
        "Посмотрим уникальные значения столбца `education` и их количество:"
      ]
    },
    {
      "cell_type": "code",
      "metadata": {
        "colab": {
          "base_uri": "https://localhost:8080/"
        },
        "id": "pjPNmXQtrft3",
        "outputId": "b2419451-b2a6-42cf-e154-e79d0a487c89"
      },
      "source": [
        "data['education'].value_counts() # просмотр уникальных значений столбца и их количества"
      ],
      "execution_count": null,
      "outputs": [
        {
          "output_type": "execute_result",
          "data": {
            "text/plain": [
              "среднее                13750\n",
              "высшее                  4718\n",
              "СРЕДНЕЕ                  772\n",
              "Среднее                  711\n",
              "неоконченное высшее      668\n",
              "ВЫСШЕЕ                   274\n",
              "Высшее                   268\n",
              "начальное                250\n",
              "Неоконченное высшее       47\n",
              "НЕОКОНЧЕННОЕ ВЫСШЕЕ       29\n",
              "НАЧАЛЬНОЕ                 17\n",
              "Начальное                 15\n",
              "ученая степень             4\n",
              "Ученая степень             1\n",
              "УЧЕНАЯ СТЕПЕНЬ             1\n",
              "Name: education, dtype: int64"
            ]
          },
          "metadata": {},
          "execution_count": 12
        }
      ]
    },
    {
      "cell_type": "markdown",
      "metadata": {
        "id": "Fe8dcwevq1Vf"
      },
      "source": [
        "Значения в столбце имеют прописные и строчные буквы, далее приведем столбец к строчным буквам."
      ]
    },
    {
      "cell_type": "markdown",
      "metadata": {
        "id": "ZgBkBJLRqJle"
      },
      "source": [
        "Посмотрим уникальные значения столбца `education_id` и их количество:"
      ]
    },
    {
      "cell_type": "code",
      "metadata": {
        "colab": {
          "base_uri": "https://localhost:8080/"
        },
        "id": "ZODeqXyAr063",
        "outputId": "be267b48-e22d-425d-ca0d-2c7e81c95525"
      },
      "source": [
        "data['education_id'].value_counts() # просмотр уникальных значений столбца и их количества"
      ],
      "execution_count": null,
      "outputs": [
        {
          "output_type": "execute_result",
          "data": {
            "text/plain": [
              "1    15233\n",
              "0     5260\n",
              "2      744\n",
              "3      282\n",
              "4        6\n",
              "Name: education_id, dtype: int64"
            ]
          },
          "metadata": {},
          "execution_count": 13
        }
      ]
    },
    {
      "cell_type": "markdown",
      "metadata": {
        "id": "PHAc19QPq9WV"
      },
      "source": [
        "Явных артефактов не замечено."
      ]
    },
    {
      "cell_type": "markdown",
      "metadata": {
        "id": "F3-So_XdqL1_"
      },
      "source": [
        "Посмотрим уникальные значения столбца `family_status` и их количество:"
      ]
    },
    {
      "cell_type": "code",
      "metadata": {
        "colab": {
          "base_uri": "https://localhost:8080/"
        },
        "id": "Q8jf_tJ5r0ym",
        "outputId": "5bd20dc5-1e80-4169-b422-66726c8a4f50"
      },
      "source": [
        "data['family_status'].value_counts() # просмотр уникальных значений столбца и их количества"
      ],
      "execution_count": null,
      "outputs": [
        {
          "output_type": "execute_result",
          "data": {
            "text/plain": [
              "женат / замужем          12380\n",
              "гражданский брак          4177\n",
              "Не женат / не замужем     2813\n",
              "в разводе                 1195\n",
              "вдовец / вдова             960\n",
              "Name: family_status, dtype: int64"
            ]
          },
          "metadata": {},
          "execution_count": 14
        }
      ]
    },
    {
      "cell_type": "markdown",
      "metadata": {
        "id": "pJnAZtZHrDSY"
      },
      "source": [
        "ячейки для \"Не женатых\" требуется привести к строчным буквам."
      ]
    },
    {
      "cell_type": "markdown",
      "metadata": {
        "id": "km5GlR0EqO90"
      },
      "source": [
        "Посмотрим уникальные значения столбца `family_status_id` и их количество:"
      ]
    },
    {
      "cell_type": "code",
      "metadata": {
        "colab": {
          "base_uri": "https://localhost:8080/"
        },
        "id": "aGUTPkjAr0qh",
        "outputId": "8e852b98-bdee-4357-c5fd-5a6ce281817e"
      },
      "source": [
        "data['family_status_id'].value_counts() # просмотр уникальных значений столбца и их количества"
      ],
      "execution_count": null,
      "outputs": [
        {
          "output_type": "execute_result",
          "data": {
            "text/plain": [
              "0    12380\n",
              "1     4177\n",
              "4     2813\n",
              "3     1195\n",
              "2      960\n",
              "Name: family_status_id, dtype: int64"
            ]
          },
          "metadata": {},
          "execution_count": 15
        }
      ]
    },
    {
      "cell_type": "markdown",
      "metadata": {
        "id": "QhuP9wJErIzn"
      },
      "source": [
        "Явных артефактов не замечено."
      ]
    },
    {
      "cell_type": "markdown",
      "metadata": {
        "id": "scLrCzk5qRvw"
      },
      "source": [
        "Посмотрим уникальные значения столбца `gender` и их количество:"
      ]
    },
    {
      "cell_type": "code",
      "metadata": {
        "colab": {
          "base_uri": "https://localhost:8080/"
        },
        "id": "ZPuEbqNOr0f2",
        "outputId": "da41e1e6-fd98-465d-90f3-e4bdbd182fb5"
      },
      "source": [
        "data['gender'].value_counts() # просмотр уникальных значений столбца и их количества"
      ],
      "execution_count": null,
      "outputs": [
        {
          "output_type": "execute_result",
          "data": {
            "text/plain": [
              "F      14236\n",
              "M       7288\n",
              "XNA        1\n",
              "Name: gender, dtype: int64"
            ]
          },
          "metadata": {},
          "execution_count": 16
        }
      ]
    },
    {
      "cell_type": "markdown",
      "metadata": {
        "id": "WYQKO28TrMMH"
      },
      "source": [
        "По-скольку столбец `gender` в нашем датасете это пол, то XNA - явно артефакт в данных."
      ]
    },
    {
      "cell_type": "markdown",
      "metadata": {
        "id": "qilnMZPIqT8f"
      },
      "source": [
        "Посмотрим уникальные значения столбца `income_type` и их количество:"
      ]
    },
    {
      "cell_type": "code",
      "metadata": {
        "colab": {
          "base_uri": "https://localhost:8080/"
        },
        "id": "t_gHKbONDfAi",
        "outputId": "0b87cbba-664e-465b-a590-f9b752469714"
      },
      "source": [
        "data['income_type'].value_counts() # просмотр уникальных значений столбца и их количества"
      ],
      "execution_count": null,
      "outputs": [
        {
          "output_type": "execute_result",
          "data": {
            "text/plain": [
              "сотрудник          11119\n",
              "компаньон           5085\n",
              "пенсионер           3856\n",
              "госслужащий         1459\n",
              "предприниматель        2\n",
              "безработный            2\n",
              "студент                1\n",
              "в декрете              1\n",
              "Name: income_type, dtype: int64"
            ]
          },
          "metadata": {},
          "execution_count": 17
        }
      ]
    },
    {
      "cell_type": "markdown",
      "metadata": {
        "id": "PXcDlaLcrV2o"
      },
      "source": [
        "Явных артефактов не замечено. Хотя вопрос возникает, каким образов безработный, студент, в декрете получили кредит."
      ]
    },
    {
      "cell_type": "markdown",
      "metadata": {
        "id": "wRkskBg3qWAP"
      },
      "source": [
        "Посмотрим уникальные значения столбца `debt` и их количество:"
      ]
    },
    {
      "cell_type": "code",
      "metadata": {
        "colab": {
          "base_uri": "https://localhost:8080/"
        },
        "id": "RZiOc2hLr0S_",
        "outputId": "3ce3b6d5-9d24-4276-9ceb-f9ae73e9c5f2"
      },
      "source": [
        "data['debt'].value_counts() # просмотр уникальных значений столбца и их количества"
      ],
      "execution_count": null,
      "outputs": [
        {
          "output_type": "execute_result",
          "data": {
            "text/plain": [
              "0    19784\n",
              "1     1741\n",
              "Name: debt, dtype: int64"
            ]
          },
          "metadata": {},
          "execution_count": 18
        }
      ]
    },
    {
      "cell_type": "markdown",
      "metadata": {
        "id": "JzVCpm7Jrd6U"
      },
      "source": [
        "Явных артефактов не замечено."
      ]
    },
    {
      "cell_type": "markdown",
      "metadata": {
        "id": "BV-sWj0dqX52"
      },
      "source": [
        "Посмотрим уникальные значения столбца `total_income` и их количество:"
      ]
    },
    {
      "cell_type": "code",
      "metadata": {
        "colab": {
          "base_uri": "https://localhost:8080/"
        },
        "id": "T1X8WMJ04rOI",
        "outputId": "bbd9028c-5d42-4db6-879f-ff649bf3c9f1"
      },
      "source": [
        "data['total_income'].value_counts() # просмотр уникальных значений столбца и их количества"
      ],
      "execution_count": null,
      "outputs": [
        {
          "output_type": "execute_result",
          "data": {
            "text/plain": [
              "112874.418757    1\n",
              "133912.272223    1\n",
              "182036.676828    1\n",
              "122421.963500    1\n",
              "198271.837248    1\n",
              "                ..\n",
              "133299.194693    1\n",
              "115080.782380    1\n",
              "84896.781597     1\n",
              "153838.839212    1\n",
              "150014.128510    1\n",
              "Name: total_income, Length: 19351, dtype: int64"
            ]
          },
          "metadata": {},
          "execution_count": 19
        }
      ]
    },
    {
      "cell_type": "markdown",
      "metadata": {
        "id": "HnKx9MJMxjOx"
      },
      "source": [
        "Посмотрим минимальный и максимальный доходы, к сожалению данных о валюте у нас нет, результаты выводем числом:"
      ]
    },
    {
      "cell_type": "code",
      "metadata": {
        "colab": {
          "base_uri": "https://localhost:8080/",
          "height": 35
        },
        "id": "MDMYr6GVxrfF",
        "outputId": "97d0eda6-fc1e-4bc9-f661-e7d6bc165e78"
      },
      "source": [
        "f\"Максимальный доход: {data['total_income'].max()}\""
      ],
      "execution_count": null,
      "outputs": [
        {
          "output_type": "execute_result",
          "data": {
            "application/vnd.google.colaboratory.intrinsic+json": {
              "type": "string"
            },
            "text/plain": [
              "'Максимальный доход: 2265604.028722744'"
            ]
          },
          "metadata": {},
          "execution_count": 20
        }
      ]
    },
    {
      "cell_type": "code",
      "metadata": {
        "colab": {
          "base_uri": "https://localhost:8080/",
          "height": 35
        },
        "id": "AOjJi-rayQ8I",
        "outputId": "f154fea8-f8e2-496d-909a-e44b49e84269"
      },
      "source": [
        "f\"Минимальный доход: {data['total_income'].min()}\""
      ],
      "execution_count": null,
      "outputs": [
        {
          "output_type": "execute_result",
          "data": {
            "application/vnd.google.colaboratory.intrinsic+json": {
              "type": "string"
            },
            "text/plain": [
              "'Минимальный доход: 20667.26379327158'"
            ]
          },
          "metadata": {},
          "execution_count": 21
        }
      ]
    },
    {
      "cell_type": "markdown",
      "metadata": {
        "id": "t-72S8wIrfmE"
      },
      "source": [
        "Явных артефактов не замечено. При этом нужно привести к типу int64."
      ]
    },
    {
      "cell_type": "markdown",
      "metadata": {
        "id": "ujnH6x-1qbbq"
      },
      "source": [
        "Посмотрим уникальные значения столбца `purpose` и их количество:"
      ]
    },
    {
      "cell_type": "code",
      "metadata": {
        "colab": {
          "base_uri": "https://localhost:8080/"
        },
        "id": "xaebSwZFr0DH",
        "outputId": "5d68dc63-082f-49fb-b74f-b60920b92497"
      },
      "source": [
        "data['purpose'].value_counts() # просмотр уникальных значений столбца и их количества"
      ],
      "execution_count": null,
      "outputs": [
        {
          "output_type": "execute_result",
          "data": {
            "text/plain": [
              "свадьба                                   797\n",
              "на проведение свадьбы                     777\n",
              "сыграть свадьбу                           774\n",
              "операции с недвижимостью                  676\n",
              "покупка коммерческой недвижимости         664\n",
              "покупка жилья для сдачи                   653\n",
              "операции с жильем                         653\n",
              "операции с коммерческой недвижимостью     651\n",
              "покупка жилья                             647\n",
              "жилье                                     647\n",
              "покупка жилья для семьи                   641\n",
              "строительство собственной недвижимости    635\n",
              "недвижимость                              634\n",
              "операции со своей недвижимостью           630\n",
              "строительство жилой недвижимости          626\n",
              "покупка недвижимости                      624\n",
              "строительство недвижимости                620\n",
              "покупка своего жилья                      620\n",
              "ремонт жилью                              612\n",
              "покупка жилой недвижимости                607\n",
              "на покупку своего автомобиля              505\n",
              "заняться высшим образованием              496\n",
              "автомобиль                                495\n",
              "сделка с подержанным автомобилем          489\n",
              "свой автомобиль                           480\n",
              "на покупку подержанного автомобиля        479\n",
              "автомобили                                478\n",
              "на покупку автомобиля                     472\n",
              "дополнительное образование                462\n",
              "приобретение автомобиля                   462\n",
              "сделка с автомобилем                      455\n",
              "высшее образование                        453\n",
              "образование                               447\n",
              "получение дополнительного образования     447\n",
              "получение образования                     443\n",
              "профильное образование                    436\n",
              "получение высшего образования             426\n",
              "заняться образованием                     412\n",
              "Name: purpose, dtype: int64"
            ]
          },
          "metadata": {},
          "execution_count": 22
        }
      ]
    },
    {
      "cell_type": "markdown",
      "metadata": {
        "id": "f7psCnw9rrIH"
      },
      "source": [
        "Явных артефактов не замечено. Требуется провести категоризацию данных, даже при первом приблежении видно, что \"Свадьба\", \"Сыграть свадьбу\", одни и теже цели кредита."
      ]
    },
    {
      "cell_type": "markdown",
      "metadata": {
        "id": "4YrBE1shvEkO"
      },
      "source": [
        "**Вывод**  \n",
        "\n",
        "В колонках видны нарушения:\n",
        "1. Строчные буквы сочетаются с прописными (столбцы: `'education'` образование, `'family_status'` семейное положение).\n",
        "2. Встречаются отрицательные значения, которых быть не может (столбцы: `'days_employed'` стаж, `'children'` количество детей).\n",
        "3. В столбце с `'gender'` полом имеется артефакт.\n",
        "4. Имеются несоотвествия значений ячеек и типа данных (столбцы: `'days_employed'` стаж и `'total_income'` доход должны быть целочисленные).\n",
        "5. Некорректные значения в столбце со стажем `'days_employed'`, имеются значения слишком большие по числу.\n",
        "\n",
        "Количество значений в столбцах различается. Значит, в данных есть пропущенные значения."
      ]
    },
    {
      "cell_type": "markdown",
      "metadata": {
        "id": "g2mTifN1vEkP"
      },
      "source": [
        "## Предобработка данных"
      ]
    },
    {
      "cell_type": "markdown",
      "metadata": {
        "id": "mX0IDyDivEkP"
      },
      "source": [
        "### Обработка пропусков"
      ]
    },
    {
      "cell_type": "markdown",
      "metadata": {
        "id": "7NC4kqbMZ-y4"
      },
      "source": [
        "Рассчитаем количество пропущенных значениях в колонках:"
      ]
    },
    {
      "cell_type": "code",
      "metadata": {
        "colab": {
          "base_uri": "https://localhost:8080/"
        },
        "id": "k9JPhWnbgOM6",
        "outputId": "ff48d7dc-fcb3-4f09-87c1-1d9af8b3c657"
      },
      "source": [
        "data.isna().sum()  # применяем метод isna() для определения пропущенных значений и используя метод sum() найдем их общее количество"
      ],
      "execution_count": null,
      "outputs": [
        {
          "output_type": "execute_result",
          "data": {
            "text/plain": [
              "children               0\n",
              "days_employed       2174\n",
              "dob_years              0\n",
              "education              0\n",
              "education_id           0\n",
              "family_status          0\n",
              "family_status_id       0\n",
              "gender                 0\n",
              "income_type            0\n",
              "debt                   0\n",
              "total_income        2174\n",
              "purpose                0\n",
              "dtype: int64"
            ]
          },
          "metadata": {},
          "execution_count": 23
        }
      ]
    },
    {
      "cell_type": "markdown",
      "metadata": {
        "id": "gCznjAEZaD_Q"
      },
      "source": [
        "Мы видим, что столбцы `'days_employed'` и `'total_income'` имеют 2174 пропущенных значений."
      ]
    },
    {
      "cell_type": "markdown",
      "metadata": {
        "id": "FgGo229McJly"
      },
      "source": [
        "Посмотрим на пропущенные значения:"
      ]
    },
    {
      "cell_type": "code",
      "metadata": {
        "colab": {
          "base_uri": "https://localhost:8080/",
          "height": 608
        },
        "id": "AALm99WLfCVB",
        "outputId": "ac910d54-febd-46cd-a41b-eb105efbf24b"
      },
      "source": [
        "data[data['days_employed'].isna()].head(10) # применим логическую индексацию использую сокращенную запись, для получения элементов по условию найти пропущенные значения в столбце 'days_employed' и выведем первые 10 строк"
      ],
      "execution_count": null,
      "outputs": [
        {
          "output_type": "execute_result",
          "data": {
            "text/html": [
              "<div>\n",
              "<style scoped>\n",
              "    .dataframe tbody tr th:only-of-type {\n",
              "        vertical-align: middle;\n",
              "    }\n",
              "\n",
              "    .dataframe tbody tr th {\n",
              "        vertical-align: top;\n",
              "    }\n",
              "\n",
              "    .dataframe thead th {\n",
              "        text-align: right;\n",
              "    }\n",
              "</style>\n",
              "<table border=\"1\" class=\"dataframe\">\n",
              "  <thead>\n",
              "    <tr style=\"text-align: right;\">\n",
              "      <th></th>\n",
              "      <th>children</th>\n",
              "      <th>days_employed</th>\n",
              "      <th>dob_years</th>\n",
              "      <th>education</th>\n",
              "      <th>education_id</th>\n",
              "      <th>family_status</th>\n",
              "      <th>family_status_id</th>\n",
              "      <th>gender</th>\n",
              "      <th>income_type</th>\n",
              "      <th>debt</th>\n",
              "      <th>total_income</th>\n",
              "      <th>purpose</th>\n",
              "    </tr>\n",
              "  </thead>\n",
              "  <tbody>\n",
              "    <tr>\n",
              "      <th>12</th>\n",
              "      <td>0</td>\n",
              "      <td>NaN</td>\n",
              "      <td>65</td>\n",
              "      <td>среднее</td>\n",
              "      <td>1</td>\n",
              "      <td>гражданский брак</td>\n",
              "      <td>1</td>\n",
              "      <td>M</td>\n",
              "      <td>пенсионер</td>\n",
              "      <td>0</td>\n",
              "      <td>NaN</td>\n",
              "      <td>сыграть свадьбу</td>\n",
              "    </tr>\n",
              "    <tr>\n",
              "      <th>26</th>\n",
              "      <td>0</td>\n",
              "      <td>NaN</td>\n",
              "      <td>41</td>\n",
              "      <td>среднее</td>\n",
              "      <td>1</td>\n",
              "      <td>женат / замужем</td>\n",
              "      <td>0</td>\n",
              "      <td>M</td>\n",
              "      <td>госслужащий</td>\n",
              "      <td>0</td>\n",
              "      <td>NaN</td>\n",
              "      <td>образование</td>\n",
              "    </tr>\n",
              "    <tr>\n",
              "      <th>29</th>\n",
              "      <td>0</td>\n",
              "      <td>NaN</td>\n",
              "      <td>63</td>\n",
              "      <td>среднее</td>\n",
              "      <td>1</td>\n",
              "      <td>Не женат / не замужем</td>\n",
              "      <td>4</td>\n",
              "      <td>F</td>\n",
              "      <td>пенсионер</td>\n",
              "      <td>0</td>\n",
              "      <td>NaN</td>\n",
              "      <td>строительство жилой недвижимости</td>\n",
              "    </tr>\n",
              "    <tr>\n",
              "      <th>41</th>\n",
              "      <td>0</td>\n",
              "      <td>NaN</td>\n",
              "      <td>50</td>\n",
              "      <td>среднее</td>\n",
              "      <td>1</td>\n",
              "      <td>женат / замужем</td>\n",
              "      <td>0</td>\n",
              "      <td>F</td>\n",
              "      <td>госслужащий</td>\n",
              "      <td>0</td>\n",
              "      <td>NaN</td>\n",
              "      <td>сделка с подержанным автомобилем</td>\n",
              "    </tr>\n",
              "    <tr>\n",
              "      <th>55</th>\n",
              "      <td>0</td>\n",
              "      <td>NaN</td>\n",
              "      <td>54</td>\n",
              "      <td>среднее</td>\n",
              "      <td>1</td>\n",
              "      <td>гражданский брак</td>\n",
              "      <td>1</td>\n",
              "      <td>F</td>\n",
              "      <td>пенсионер</td>\n",
              "      <td>1</td>\n",
              "      <td>NaN</td>\n",
              "      <td>сыграть свадьбу</td>\n",
              "    </tr>\n",
              "    <tr>\n",
              "      <th>65</th>\n",
              "      <td>0</td>\n",
              "      <td>NaN</td>\n",
              "      <td>21</td>\n",
              "      <td>среднее</td>\n",
              "      <td>1</td>\n",
              "      <td>Не женат / не замужем</td>\n",
              "      <td>4</td>\n",
              "      <td>M</td>\n",
              "      <td>компаньон</td>\n",
              "      <td>0</td>\n",
              "      <td>NaN</td>\n",
              "      <td>операции с коммерческой недвижимостью</td>\n",
              "    </tr>\n",
              "    <tr>\n",
              "      <th>67</th>\n",
              "      <td>0</td>\n",
              "      <td>NaN</td>\n",
              "      <td>52</td>\n",
              "      <td>высшее</td>\n",
              "      <td>0</td>\n",
              "      <td>женат / замужем</td>\n",
              "      <td>0</td>\n",
              "      <td>F</td>\n",
              "      <td>пенсионер</td>\n",
              "      <td>0</td>\n",
              "      <td>NaN</td>\n",
              "      <td>покупка жилья для семьи</td>\n",
              "    </tr>\n",
              "    <tr>\n",
              "      <th>72</th>\n",
              "      <td>1</td>\n",
              "      <td>NaN</td>\n",
              "      <td>32</td>\n",
              "      <td>высшее</td>\n",
              "      <td>0</td>\n",
              "      <td>женат / замужем</td>\n",
              "      <td>0</td>\n",
              "      <td>M</td>\n",
              "      <td>госслужащий</td>\n",
              "      <td>0</td>\n",
              "      <td>NaN</td>\n",
              "      <td>операции с коммерческой недвижимостью</td>\n",
              "    </tr>\n",
              "    <tr>\n",
              "      <th>82</th>\n",
              "      <td>2</td>\n",
              "      <td>NaN</td>\n",
              "      <td>50</td>\n",
              "      <td>высшее</td>\n",
              "      <td>0</td>\n",
              "      <td>женат / замужем</td>\n",
              "      <td>0</td>\n",
              "      <td>F</td>\n",
              "      <td>сотрудник</td>\n",
              "      <td>0</td>\n",
              "      <td>NaN</td>\n",
              "      <td>жилье</td>\n",
              "    </tr>\n",
              "    <tr>\n",
              "      <th>83</th>\n",
              "      <td>0</td>\n",
              "      <td>NaN</td>\n",
              "      <td>52</td>\n",
              "      <td>среднее</td>\n",
              "      <td>1</td>\n",
              "      <td>женат / замужем</td>\n",
              "      <td>0</td>\n",
              "      <td>M</td>\n",
              "      <td>сотрудник</td>\n",
              "      <td>0</td>\n",
              "      <td>NaN</td>\n",
              "      <td>жилье</td>\n",
              "    </tr>\n",
              "  </tbody>\n",
              "</table>\n",
              "</div>"
            ],
            "text/plain": [
              "    children  ...                                purpose\n",
              "12         0  ...                        сыграть свадьбу\n",
              "26         0  ...                            образование\n",
              "29         0  ...       строительство жилой недвижимости\n",
              "41         0  ...       сделка с подержанным автомобилем\n",
              "55         0  ...                        сыграть свадьбу\n",
              "65         0  ...  операции с коммерческой недвижимостью\n",
              "67         0  ...                покупка жилья для семьи\n",
              "72         1  ...  операции с коммерческой недвижимостью\n",
              "82         2  ...                                  жилье\n",
              "83         0  ...                                  жилье\n",
              "\n",
              "[10 rows x 12 columns]"
            ]
          },
          "metadata": {},
          "execution_count": 24
        }
      ]
    },
    {
      "cell_type": "markdown",
      "metadata": {
        "id": "7rh7imipcNk4"
      },
      "source": [
        "Убедимся, что пропущенные значения в `'days_employed'` и `'total_income'` находятся в одних и техже строках:"
      ]
    },
    {
      "cell_type": "code",
      "metadata": {
        "colab": {
          "base_uri": "https://localhost:8080/"
        },
        "id": "UCxJDqzwa8ij",
        "outputId": "2abeaeb3-b3f7-4a31-99ff-cbf49ebb25f9"
      },
      "source": [
        "days_employed_miss = data['days_employed'][data['days_employed'].isna()] # находим пропущенные значения в столбце 'days_employed'\n",
        "total_income_miss = data['total_income'][data['total_income'].isna()] # находим пропущенные значения в столбце 'total_income'\n",
        "\n",
        "differences_employed_income = days_employed_miss.append(total_income_miss).drop_duplicates(keep=False) # соеденим два столбца и удалим дубликаты, если столбцы идентичны, то удалиться все\n",
        "differences_employed_income # выведем на экран"
      ],
      "execution_count": null,
      "outputs": [
        {
          "output_type": "execute_result",
          "data": {
            "text/plain": [
              "Series([], dtype: float64)"
            ]
          },
          "metadata": {},
          "execution_count": 25
        }
      ]
    },
    {
      "cell_type": "markdown",
      "metadata": {
        "id": "gIl6Wr6Vcrno"
      },
      "source": [
        "Пропущенные значения в столбцах `'days_employed'` и `'total_income'` находятся на одних строках. Можем предположить, что клиенты не указали доход, либо стаж. В тоже время возможен технических сбой при выгрузки данных."
      ]
    },
    {
      "cell_type": "markdown",
      "metadata": {
        "id": "7uzThxc-vfSt"
      },
      "source": [
        "Посмотрим уникальные записи в столбце `'income_type'` в которых пропущенные значения:"
      ]
    },
    {
      "cell_type": "code",
      "metadata": {
        "colab": {
          "base_uri": "https://localhost:8080/"
        },
        "id": "8rAcvDpYkA9w",
        "outputId": "2a1e7386-4bcf-46a7-90ba-5cde6c0f9240"
      },
      "source": [
        "data[data['days_employed'].isna()]['income_type'].unique()"
      ],
      "execution_count": null,
      "outputs": [
        {
          "output_type": "execute_result",
          "data": {
            "text/plain": [
              "array(['пенсионер', 'госслужащий', 'компаньон', 'сотрудник',\n",
              "       'предприниматель'], dtype=object)"
            ]
          },
          "metadata": {},
          "execution_count": 26
        }
      ]
    },
    {
      "cell_type": "markdown",
      "metadata": {
        "id": "xPKknQbivs_o"
      },
      "source": [
        "Значения выведены без аномалий. Если предположим, были бы только госслужащие, можно было бы выдвинуть гипотезу, что им нельзя указывать уровень дохода и стаж, но сокрее всего в столбцах `'days_employed'` и `'total_income'` пропущены значения из-за технической ошибки или человеческого фактора."
      ]
    },
    {
      "cell_type": "markdown",
      "metadata": {
        "id": "7LZlmJ0XZsl5"
      },
      "source": [
        "Заполним пропуски в столбце с доходами, правильно их заполнить медианными значениями дохода клиента.\n",
        "Для этого, мы расчитаем медианный доход клиентов по столбцу `'total_income'`:"
      ]
    },
    {
      "cell_type": "code",
      "metadata": {
        "id": "qT0MexXUkpAa"
      },
      "source": [
        "total_income_median = data['total_income'].median() # применим метод для расчета медианного значения"
      ],
      "execution_count": null,
      "outputs": []
    },
    {
      "cell_type": "markdown",
      "metadata": {
        "id": "qpF5tV4zZx-g"
      },
      "source": [
        "Заполним пропущенные значения в столбце `'total_income'` значениями медианного дохода:"
      ]
    },
    {
      "cell_type": "code",
      "metadata": {
        "id": "Ul5H5xNai8xJ"
      },
      "source": [
        "data['total_income'] = data['total_income'].fillna(total_income_median) # используем метод для заполнения пропущенных значений в столбце 'total_income', и перезапишем его"
      ],
      "execution_count": null,
      "outputs": []
    },
    {
      "cell_type": "markdown",
      "metadata": {
        "id": "c174spMcdTQj"
      },
      "source": [
        "Со значениями в трудовом стаже сложнее. Мы имеем артефакты в данных, некоторое количество клиентов имеет отрицательный стаж, некоторое имеет стаж со слишком большим значеним для человеской продолжительности работы (более 100 лет)."
      ]
    },
    {
      "cell_type": "markdown",
      "metadata": {
        "id": "G_W7OkuWDAdT"
      },
      "source": [
        "Выведем на экран таблица в которой значения в столбце `'days_employed'` меньше нуля (отрицательные):"
      ]
    },
    {
      "cell_type": "code",
      "metadata": {
        "colab": {
          "base_uri": "https://localhost:8080/",
          "height": 322
        },
        "id": "apBmEBlHeMmu",
        "outputId": "5e3ddce1-9a18-4e06-c744-5bd65a53d4c3"
      },
      "source": [
        "days_employed_neg = data[data['days_employed'] < 0] # применим логическую индексацию по столбцу `'days_employed'` для нахождения всех отрицательных значений\n",
        "days_employed_neg.sort_values(by = 'days_employed', ascending=True).head() # вывыдем на экран все отрицательные значения в порядке возрастания"
      ],
      "execution_count": null,
      "outputs": [
        {
          "output_type": "execute_result",
          "data": {
            "text/html": [
              "<div>\n",
              "<style scoped>\n",
              "    .dataframe tbody tr th:only-of-type {\n",
              "        vertical-align: middle;\n",
              "    }\n",
              "\n",
              "    .dataframe tbody tr th {\n",
              "        vertical-align: top;\n",
              "    }\n",
              "\n",
              "    .dataframe thead th {\n",
              "        text-align: right;\n",
              "    }\n",
              "</style>\n",
              "<table border=\"1\" class=\"dataframe\">\n",
              "  <thead>\n",
              "    <tr style=\"text-align: right;\">\n",
              "      <th></th>\n",
              "      <th>children</th>\n",
              "      <th>days_employed</th>\n",
              "      <th>dob_years</th>\n",
              "      <th>education</th>\n",
              "      <th>education_id</th>\n",
              "      <th>family_status</th>\n",
              "      <th>family_status_id</th>\n",
              "      <th>gender</th>\n",
              "      <th>income_type</th>\n",
              "      <th>debt</th>\n",
              "      <th>total_income</th>\n",
              "      <th>purpose</th>\n",
              "    </tr>\n",
              "  </thead>\n",
              "  <tbody>\n",
              "    <tr>\n",
              "      <th>16335</th>\n",
              "      <td>1</td>\n",
              "      <td>-18388.949901</td>\n",
              "      <td>61</td>\n",
              "      <td>среднее</td>\n",
              "      <td>1</td>\n",
              "      <td>женат / замужем</td>\n",
              "      <td>0</td>\n",
              "      <td>F</td>\n",
              "      <td>сотрудник</td>\n",
              "      <td>0</td>\n",
              "      <td>186178.934089</td>\n",
              "      <td>операции с недвижимостью</td>\n",
              "    </tr>\n",
              "    <tr>\n",
              "      <th>4299</th>\n",
              "      <td>0</td>\n",
              "      <td>-17615.563266</td>\n",
              "      <td>61</td>\n",
              "      <td>среднее</td>\n",
              "      <td>1</td>\n",
              "      <td>женат / замужем</td>\n",
              "      <td>0</td>\n",
              "      <td>F</td>\n",
              "      <td>компаньон</td>\n",
              "      <td>0</td>\n",
              "      <td>122560.741753</td>\n",
              "      <td>покупка жилья</td>\n",
              "    </tr>\n",
              "    <tr>\n",
              "      <th>7329</th>\n",
              "      <td>0</td>\n",
              "      <td>-16593.472817</td>\n",
              "      <td>60</td>\n",
              "      <td>высшее</td>\n",
              "      <td>0</td>\n",
              "      <td>женат / замужем</td>\n",
              "      <td>0</td>\n",
              "      <td>F</td>\n",
              "      <td>сотрудник</td>\n",
              "      <td>0</td>\n",
              "      <td>124697.846781</td>\n",
              "      <td>заняться высшим образованием</td>\n",
              "    </tr>\n",
              "    <tr>\n",
              "      <th>17838</th>\n",
              "      <td>0</td>\n",
              "      <td>-16264.699501</td>\n",
              "      <td>59</td>\n",
              "      <td>среднее</td>\n",
              "      <td>1</td>\n",
              "      <td>женат / замужем</td>\n",
              "      <td>0</td>\n",
              "      <td>F</td>\n",
              "      <td>сотрудник</td>\n",
              "      <td>0</td>\n",
              "      <td>51238.967133</td>\n",
              "      <td>на покупку автомобиля</td>\n",
              "    </tr>\n",
              "    <tr>\n",
              "      <th>16825</th>\n",
              "      <td>0</td>\n",
              "      <td>-16119.687737</td>\n",
              "      <td>64</td>\n",
              "      <td>среднее</td>\n",
              "      <td>1</td>\n",
              "      <td>женат / замужем</td>\n",
              "      <td>0</td>\n",
              "      <td>F</td>\n",
              "      <td>сотрудник</td>\n",
              "      <td>0</td>\n",
              "      <td>91527.685995</td>\n",
              "      <td>покупка жилой недвижимости</td>\n",
              "    </tr>\n",
              "  </tbody>\n",
              "</table>\n",
              "</div>"
            ],
            "text/plain": [
              "       children  days_employed  ...   total_income                       purpose\n",
              "16335         1  -18388.949901  ...  186178.934089      операции с недвижимостью\n",
              "4299          0  -17615.563266  ...  122560.741753                 покупка жилья\n",
              "7329          0  -16593.472817  ...  124697.846781  заняться высшим образованием\n",
              "17838         0  -16264.699501  ...   51238.967133         на покупку автомобиля\n",
              "16825         0  -16119.687737  ...   91527.685995    покупка жилой недвижимости\n",
              "\n",
              "[5 rows x 12 columns]"
            ]
          },
          "metadata": {},
          "execution_count": 29
        }
      ]
    },
    {
      "cell_type": "markdown",
      "metadata": {
        "id": "6bb80Sk4CNHT"
      },
      "source": [
        "Выведем количество клиентов у которых стаж работы менее 1 года:"
      ]
    },
    {
      "cell_type": "code",
      "metadata": {
        "colab": {
          "base_uri": "https://localhost:8080/"
        },
        "id": "srSOB0t-iQGV",
        "outputId": "c9ad3152-1289-405e-b945-79d290e58e9f"
      },
      "source": [
        "data[(data['days_employed'] < 0) & (data['days_employed'] > -365)]['days_employed'].count() # используем логическую индексацию и метод для подсчета количества строк"
      ],
      "execution_count": null,
      "outputs": [
        {
          "output_type": "execute_result",
          "data": {
            "text/plain": [
              "1827"
            ]
          },
          "metadata": {},
          "execution_count": 30
        }
      ]
    },
    {
      "cell_type": "markdown",
      "metadata": {
        "id": "INhFv2gIl3BU"
      },
      "source": [
        "Выведем уникальные строки для клиентов у которых отрицательный стаж работы:\n",
        "\n"
      ]
    },
    {
      "cell_type": "code",
      "metadata": {
        "colab": {
          "base_uri": "https://localhost:8080/"
        },
        "id": "-7tBkyjKjxWt",
        "outputId": "d28e1be4-9ccb-4b91-87f6-1a6d0919e805"
      },
      "source": [
        "days_employed_neg['income_type'].unique() # используем метод для нахждения уникальных значений в колонке 'income_type'"
      ],
      "execution_count": null,
      "outputs": [
        {
          "output_type": "execute_result",
          "data": {
            "text/plain": [
              "array(['сотрудник', 'компаньон', 'госслужащий', 'студент',\n",
              "       'предприниматель', 'в декрете'], dtype=object)"
            ]
          },
          "metadata": {},
          "execution_count": 31
        }
      ]
    },
    {
      "cell_type": "markdown",
      "metadata": {
        "id": "Q_bF_Ws8l_ej"
      },
      "source": [
        "Значения в столбце `'income_type'` - типы занятности, явным образом закономерностей не наблюдается.  \n",
        "Можно предположить, что была техническая ошибка."
      ]
    },
    {
      "cell_type": "markdown",
      "metadata": {
        "id": "DQ4NatP9C8_0"
      },
      "source": [
        "Выведем на экран таблица в которой значения в столбце `'days_employed'`, больше нуля:"
      ]
    },
    {
      "cell_type": "code",
      "metadata": {
        "colab": {
          "base_uri": "https://localhost:8080/",
          "height": 355
        },
        "id": "UY448gKxeu6-",
        "outputId": "ac1128df-9d80-40d1-d393-41469237ba99"
      },
      "source": [
        "days_employed_positive = data[data['days_employed'] > 0] # применим логическую индексацию по столбцу `'days_employed'` для нахождения всех значений больше нуля\n",
        "days_employed_positive.sort_values(by = 'days_employed', ascending=True).head() # вывыдем на экран все положительные значения в порядке возрастания"
      ],
      "execution_count": null,
      "outputs": [
        {
          "output_type": "execute_result",
          "data": {
            "text/html": [
              "<div>\n",
              "<style scoped>\n",
              "    .dataframe tbody tr th:only-of-type {\n",
              "        vertical-align: middle;\n",
              "    }\n",
              "\n",
              "    .dataframe tbody tr th {\n",
              "        vertical-align: top;\n",
              "    }\n",
              "\n",
              "    .dataframe thead th {\n",
              "        text-align: right;\n",
              "    }\n",
              "</style>\n",
              "<table border=\"1\" class=\"dataframe\">\n",
              "  <thead>\n",
              "    <tr style=\"text-align: right;\">\n",
              "      <th></th>\n",
              "      <th>children</th>\n",
              "      <th>days_employed</th>\n",
              "      <th>dob_years</th>\n",
              "      <th>education</th>\n",
              "      <th>education_id</th>\n",
              "      <th>family_status</th>\n",
              "      <th>family_status_id</th>\n",
              "      <th>gender</th>\n",
              "      <th>income_type</th>\n",
              "      <th>debt</th>\n",
              "      <th>total_income</th>\n",
              "      <th>purpose</th>\n",
              "    </tr>\n",
              "  </thead>\n",
              "  <tbody>\n",
              "    <tr>\n",
              "      <th>20444</th>\n",
              "      <td>0</td>\n",
              "      <td>328728.720605</td>\n",
              "      <td>72</td>\n",
              "      <td>среднее</td>\n",
              "      <td>1</td>\n",
              "      <td>вдовец / вдова</td>\n",
              "      <td>2</td>\n",
              "      <td>F</td>\n",
              "      <td>пенсионер</td>\n",
              "      <td>0</td>\n",
              "      <td>96519.339647</td>\n",
              "      <td>покупка жилья для семьи</td>\n",
              "    </tr>\n",
              "    <tr>\n",
              "      <th>9328</th>\n",
              "      <td>2</td>\n",
              "      <td>328734.923996</td>\n",
              "      <td>41</td>\n",
              "      <td>высшее</td>\n",
              "      <td>0</td>\n",
              "      <td>женат / замужем</td>\n",
              "      <td>0</td>\n",
              "      <td>M</td>\n",
              "      <td>пенсионер</td>\n",
              "      <td>0</td>\n",
              "      <td>126997.497760</td>\n",
              "      <td>операции со своей недвижимостью</td>\n",
              "    </tr>\n",
              "    <tr>\n",
              "      <th>17782</th>\n",
              "      <td>0</td>\n",
              "      <td>328771.341387</td>\n",
              "      <td>56</td>\n",
              "      <td>среднее</td>\n",
              "      <td>1</td>\n",
              "      <td>женат / замужем</td>\n",
              "      <td>0</td>\n",
              "      <td>F</td>\n",
              "      <td>пенсионер</td>\n",
              "      <td>0</td>\n",
              "      <td>68648.047062</td>\n",
              "      <td>операции с коммерческой недвижимостью</td>\n",
              "    </tr>\n",
              "    <tr>\n",
              "      <th>14783</th>\n",
              "      <td>0</td>\n",
              "      <td>328795.726728</td>\n",
              "      <td>62</td>\n",
              "      <td>высшее</td>\n",
              "      <td>0</td>\n",
              "      <td>женат / замужем</td>\n",
              "      <td>0</td>\n",
              "      <td>F</td>\n",
              "      <td>пенсионер</td>\n",
              "      <td>0</td>\n",
              "      <td>79940.196752</td>\n",
              "      <td>на покупку своего автомобиля</td>\n",
              "    </tr>\n",
              "    <tr>\n",
              "      <th>7229</th>\n",
              "      <td>1</td>\n",
              "      <td>328827.345667</td>\n",
              "      <td>32</td>\n",
              "      <td>среднее</td>\n",
              "      <td>1</td>\n",
              "      <td>гражданский брак</td>\n",
              "      <td>1</td>\n",
              "      <td>F</td>\n",
              "      <td>пенсионер</td>\n",
              "      <td>0</td>\n",
              "      <td>122162.965695</td>\n",
              "      <td>сыграть свадьбу</td>\n",
              "    </tr>\n",
              "  </tbody>\n",
              "</table>\n",
              "</div>"
            ],
            "text/plain": [
              "       children  ...                                purpose\n",
              "20444         0  ...                покупка жилья для семьи\n",
              "9328          2  ...        операции со своей недвижимостью\n",
              "17782         0  ...  операции с коммерческой недвижимостью\n",
              "14783         0  ...           на покупку своего автомобиля\n",
              "7229          1  ...                        сыграть свадьбу\n",
              "\n",
              "[5 rows x 12 columns]"
            ]
          },
          "metadata": {},
          "execution_count": 32
        }
      ]
    },
    {
      "cell_type": "markdown",
      "metadata": {
        "id": "GOij2NJ5EC-r"
      },
      "source": [
        "Положительные значения в столбце `'days_employed'` начаниются от 900 лет стажа, что явно не может быть правдой, значит это ошибочные данные."
      ]
    },
    {
      "cell_type": "markdown",
      "metadata": {
        "id": "_alw76XEmGnM"
      },
      "source": [
        "Посмотрим уникальные значения для типа занятости для клиентов у которых стах больше \"0\":"
      ]
    },
    {
      "cell_type": "code",
      "metadata": {
        "colab": {
          "base_uri": "https://localhost:8080/"
        },
        "id": "K2eg0OWVlmNV",
        "outputId": "388336eb-e7a3-4704-e958-eb9cff994b02"
      },
      "source": [
        "days_employed_positive['income_type'].unique() # используем метод для нахждения уникальных значений в колонке 'income_type'"
      ],
      "execution_count": null,
      "outputs": [
        {
          "output_type": "execute_result",
          "data": {
            "text/plain": [
              "array(['пенсионер', 'безработный'], dtype=object)"
            ]
          },
          "metadata": {},
          "execution_count": 33
        }
      ]
    },
    {
      "cell_type": "markdown",
      "metadata": {
        "id": "gTKCjc1hmI1T"
      },
      "source": [
        "Значения типа занятости для стажа в столбце `'days_employed'`, которые больше нуля, и при этом больше 900 лет, имееют  категории: пенсионер и безработный."
      ]
    },
    {
      "cell_type": "markdown",
      "metadata": {
        "id": "w4TK-n5wvEkR"
      },
      "source": [
        "#### **Вывод**"
      ]
    },
    {
      "cell_type": "markdown",
      "metadata": {
        "id": "b5wDQCbIoNmm"
      },
      "source": [
        "В столбцах `'days_employed'` и `'total_income'` имелось 2174 пропущенных значений.\n",
        "\n",
        "* Значения в `'total_income'`  заполнили медианными доходами клиентов.  \n",
        "* Значения в столбце `'days_employed'` имееют артефакты, причем если рассматривать отрицательные значения, можно было бы предположить, что при расчете стажа перепутали даты и воспользоваться abs(), при этом 1827 клиентов имеют стаж менее 1 года, что может быть вызвано не оффициальным заработком. Значения в стаже более 900 лет, имеются у категорий пенсионер и безработный. При этом все данные в столбце имееют тип вещественный `float64`, а должны иметь целочисленный `int64` \n",
        "* Для ответов на вопросы настоящего исселедования значения в столбеце `'days_employed'` не требуются, а также их явная некорректность, и в тоже время невозможность определить причины появления артефактов, данный столбец мы удалим из нашей общей таблицы."
      ]
    },
    {
      "cell_type": "markdown",
      "metadata": {
        "id": "srdYgZOj_r0E"
      },
      "source": [
        "Удалим столбец `'days_employed'`, ввиду того, что он не требуется для нашего исследования:"
      ]
    },
    {
      "cell_type": "code",
      "metadata": {
        "id": "RGCVYcQInm3p"
      },
      "source": [
        "data = data.drop('days_employed', 1) # применим метод для удаления столбца 'days_employed'"
      ],
      "execution_count": null,
      "outputs": []
    },
    {
      "cell_type": "markdown",
      "metadata": {
        "id": "bjW7dbBKvEkR"
      },
      "source": [
        "### Замена типа данных"
      ]
    },
    {
      "cell_type": "markdown",
      "metadata": {
        "id": "yUdEKcWAFzGH"
      },
      "source": [
        "Заменем тип данных в столбце `'total_income'` с вещественного на целочисленный:"
      ]
    },
    {
      "cell_type": "code",
      "metadata": {
        "id": "JOxxfELovEkS"
      },
      "source": [
        "# data['total_income'] = data['total_income'].astype('int') # переводем значения столбца 'total_income' в целочисленный тип, и перезапишем столбец"
      ],
      "execution_count": null,
      "outputs": []
    },
    {
      "cell_type": "markdown",
      "metadata": {
        "id": "fINBX8aWfvhp"
      },
      "source": [
        "Проверим потребление памяти нашего датасета, и какие типы данных в нем:"
      ]
    },
    {
      "cell_type": "code",
      "metadata": {
        "colab": {
          "base_uri": "https://localhost:8080/"
        },
        "id": "tD6wF1oBaKrn",
        "outputId": "7845b395-1c15-4181-a90b-0fe846f6d0d7"
      },
      "source": [
        "data.info() # выводим информацию о таблице"
      ],
      "execution_count": null,
      "outputs": [
        {
          "output_type": "stream",
          "name": "stdout",
          "text": [
            "<class 'pandas.core.frame.DataFrame'>\n",
            "RangeIndex: 21525 entries, 0 to 21524\n",
            "Data columns (total 11 columns):\n",
            " #   Column            Non-Null Count  Dtype  \n",
            "---  ------            --------------  -----  \n",
            " 0   children          21525 non-null  int64  \n",
            " 1   dob_years         21525 non-null  int64  \n",
            " 2   education         21525 non-null  object \n",
            " 3   education_id      21525 non-null  int64  \n",
            " 4   family_status     21525 non-null  object \n",
            " 5   family_status_id  21525 non-null  int64  \n",
            " 6   gender            21525 non-null  object \n",
            " 7   income_type       21525 non-null  object \n",
            " 8   debt              21525 non-null  int64  \n",
            " 9   total_income      21525 non-null  float64\n",
            " 10  purpose           21525 non-null  object \n",
            "dtypes: float64(1), int64(5), object(5)\n",
            "memory usage: 1.8+ MB\n"
          ]
        }
      ]
    },
    {
      "cell_type": "markdown",
      "metadata": {
        "id": "qni9oVJ2f4fS"
      },
      "source": [
        "Потребление памяти: 1,8+ MB."
      ]
    },
    {
      "cell_type": "markdown",
      "metadata": {
        "id": "xgOEz2NYhM_G"
      },
      "source": [
        "Проведет оптимизацию данных в таблице:"
      ]
    },
    {
      "cell_type": "code",
      "metadata": {
        "id": "f8ncsiKzbJlO"
      },
      "source": [
        "data['education_id'] = data['education_id'].astype('category') # заменим данные на категориальные (Ограниченный список текстовых значений)\n",
        "data['education'] = data['education'].astype('category') # заменим данные на категориальные (Ограниченный список текстовых значений)\n",
        "data['family_status_id'] = data['family_status_id'].astype('category') # заменим данные на категориальные (Ограниченный список текстовых значений)\n",
        "data['family_status'] = data['family_status'].astype('category') # заменим данные на категориальные (Ограниченный список текстовых значений)\n",
        "data['gender'] = data['gender'].astype('category') # заменим данные на категориальные (Ограниченный список текстовых значений)\n",
        "data['debt'] = data['debt'].astype('uint8') # заменим данные на целочисленные (Целые числа в диапазоне от 0 по 255 (числа размером 1 байт))\n",
        "data['children'] = data['children'].astype('int8') # заменим данные на целочисленные (Целые числа в диапазоне от -128 по 127 (числа размером 1 байт))\n",
        "data['dob_years'] = data['dob_years'].astype('int8') # заменим данные на целочисленные (Целые числа в диапазоне от 0 по 255 (числа размером 1 байт))\n",
        "data['total_income'] = data['total_income'].astype('int32') # заменим данные на целочисленные (Целые числа в диапазоне от -2147483648 по 2147483647, (числа размером 4 байта)\n",
        "data['income_type'] = data['income_type'].astype('category') # заменим данные на категориальные (Ограниченный список текстовых значений)"
      ],
      "execution_count": null,
      "outputs": []
    },
    {
      "cell_type": "markdown",
      "metadata": {
        "id": "Y7ftZdz7pLeI"
      },
      "source": [
        "Проверим сколько потребляет памяти датасет:"
      ]
    },
    {
      "cell_type": "code",
      "metadata": {
        "colab": {
          "base_uri": "https://localhost:8080/"
        },
        "id": "tQDh8aHqiL0V",
        "outputId": "37dbd251-4883-4e3a-cfbc-52c83bbebfad"
      },
      "source": [
        "data.info() # выводим информацию о таблице"
      ],
      "execution_count": null,
      "outputs": [
        {
          "output_type": "stream",
          "name": "stdout",
          "text": [
            "<class 'pandas.core.frame.DataFrame'>\n",
            "RangeIndex: 21525 entries, 0 to 21524\n",
            "Data columns (total 11 columns):\n",
            " #   Column            Non-Null Count  Dtype   \n",
            "---  ------            --------------  -----   \n",
            " 0   children          21525 non-null  int8    \n",
            " 1   dob_years         21525 non-null  int8    \n",
            " 2   education         21525 non-null  category\n",
            " 3   education_id      21525 non-null  category\n",
            " 4   family_status     21525 non-null  category\n",
            " 5   family_status_id  21525 non-null  category\n",
            " 6   gender            21525 non-null  category\n",
            " 7   income_type       21525 non-null  category\n",
            " 8   debt              21525 non-null  uint8   \n",
            " 9   total_income      21525 non-null  int32   \n",
            " 10  purpose           21525 non-null  object  \n",
            "dtypes: category(6), int32(1), int8(2), object(1), uint8(1)\n",
            "memory usage: 443.4+ KB\n"
          ]
        }
      ]
    },
    {
      "cell_type": "markdown",
      "metadata": {
        "id": "cQbA_rONpR7s"
      },
      "source": [
        "При изменении типов данных удалось снизить потребление памяти до 443,4 KB."
      ]
    },
    {
      "cell_type": "markdown",
      "metadata": {
        "id": "VinRQgOOvEkS"
      },
      "source": [
        "#### **Вывод**"
      ]
    },
    {
      "cell_type": "markdown",
      "metadata": {
        "id": "W6Po-xGpvEkT"
      },
      "source": [
        "Провели замену типовы данных, что позволили снизить потребление памяти датасета более, чем в 4 раза. "
      ]
    },
    {
      "cell_type": "markdown",
      "metadata": {
        "id": "ibIbS8N8vEkT"
      },
      "source": [
        "### Обработка дубликатов"
      ]
    },
    {
      "cell_type": "markdown",
      "metadata": {
        "id": "u6vbgU1RofDO"
      },
      "source": [
        "Приведем к нижнему регистру значение в столбцах образованием `'education'` и семейное положение `'family_status'`:"
      ]
    },
    {
      "cell_type": "code",
      "metadata": {
        "id": "uEq49p9SvEkT"
      },
      "source": [
        "data['education'] = data['education'].str.lower() # приводим значение в столбце к нижнему регистру"
      ],
      "execution_count": null,
      "outputs": []
    },
    {
      "cell_type": "code",
      "metadata": {
        "id": "d4EPCtMwuopw"
      },
      "source": [
        "data['family_status'] = data['family_status'].str.lower() # приводим значение в столбце к нижнему регистру"
      ],
      "execution_count": null,
      "outputs": []
    },
    {
      "cell_type": "markdown",
      "metadata": {
        "id": "D9CjM8k5tovp"
      },
      "source": [
        "Также в данных присутсвуют неявные пропуски в столбце `'children'` , в которых имеются строки со значением \"-1\" и \"20\", что может сведетельствовать о случайном характере ошибки.  \n",
        "Приведем значение \"-1\" к \"1\", а значение \"20\" к \"2\", т.к. вероятнее всего были ошибки с добавилением знака \"-\" и цифры \"0\":"
      ]
    },
    {
      "cell_type": "code",
      "metadata": {
        "id": "nvJxPHCsu2pm"
      },
      "source": [
        "data['children'] = data['children'].abs() # используем функцию abs для приведения всех отрицательных значений в положительное"
      ],
      "execution_count": null,
      "outputs": []
    },
    {
      "cell_type": "code",
      "metadata": {
        "id": "wXJd0Gyqv_j4"
      },
      "source": [
        "data.loc[data['children'] == 20, 'children'] = 2 # проведем логическую индекцию для замены количество детей с \"20\" на \"2\""
      ],
      "execution_count": null,
      "outputs": []
    },
    {
      "cell_type": "markdown",
      "metadata": {
        "id": "qBYnjaN234jI"
      },
      "source": [
        "В тоже время есть странное значение `\"XNA\"` в количетве 1 шт.  в столбце `'gender'`.  \n",
        "Исправим его, примем, что `\"XNA\"` техническая ошибка и заменим на `\"М\"`:"
      ]
    },
    {
      "cell_type": "code",
      "metadata": {
        "id": "sZ0WIimU4AUt"
      },
      "source": [
        "data.loc[data['gender'] == 'XNA', 'gender'] = 'M' # проведем логическую индекцию для замены количество детей с \"XNA\" на \"M\""
      ],
      "execution_count": null,
      "outputs": []
    },
    {
      "cell_type": "markdown",
      "metadata": {
        "id": "-onlgxx0Eq5A"
      },
      "source": [
        "В столбце `'dob_years'` имеется записи с возрастом клиента \"0\".  \n",
        "\n",
        "Посмотрим каким все уникальные значения в данном столбце и выведем их на экран в порядке возрастания. Результат выведем в строку, так как так удобнее прочитать данные:"
      ]
    },
    {
      "cell_type": "code",
      "metadata": {
        "colab": {
          "base_uri": "https://localhost:8080/",
          "height": 53
        },
        "id": "LUQN3BUfirHa",
        "outputId": "77429c15-1d3d-496d-a04a-f517b0040b33"
      },
      "source": [
        "''.join(str(sorted(data['dob_years'].unique()))) # в столбеце 'dob_years' выбираем уникальные значения, их сортируем в порядке возрастание и выводи в строку"
      ],
      "execution_count": null,
      "outputs": [
        {
          "output_type": "execute_result",
          "data": {
            "application/vnd.google.colaboratory.intrinsic+json": {
              "type": "string"
            },
            "text/plain": [
              "'[0, 19, 20, 21, 22, 23, 24, 25, 26, 27, 28, 29, 30, 31, 32, 33, 34, 35, 36, 37, 38, 39, 40, 41, 42, 43, 44, 45, 46, 47, 48, 49, 50, 51, 52, 53, 54, 55, 56, 57, 58, 59, 60, 61, 62, 63, 64, 65, 66, 67, 68, 69, 70, 71, 72, 73, 74, 75]'"
            ]
          },
          "metadata": {},
          "execution_count": 44
        }
      ]
    },
    {
      "cell_type": "markdown",
      "metadata": {
        "id": "GeNBY5l6lmti"
      },
      "source": [
        "В столбце `'dob_years'` значения годов идут по поярдку от 19 до 75. При этом можно было бы предположить что значение \"0\" это пропуск какого-нибудь десятичного числа 20, 30, 40 и т.д., но это не факт, хотя при этом они все присутствуют.  \n",
        "Принимает решение заменить ячейки со значение \"0\" в столбце `'dob_years'` на медианный возраст:"
      ]
    },
    {
      "cell_type": "code",
      "metadata": {
        "id": "P-y5Vzj0FTMv"
      },
      "source": [
        "dob_years_median = int(data['dob_years'].median()) # находим медиану в столбце dob_years'"
      ],
      "execution_count": null,
      "outputs": []
    },
    {
      "cell_type": "code",
      "metadata": {
        "id": "06Xy_BDfFaiL"
      },
      "source": [
        "data.loc[data['dob_years'] == 0, 'dob_years'] = dob_years_median # используем логическую индексацию для перезаписи значений \"0\" на медианное значение возраста"
      ],
      "execution_count": null,
      "outputs": []
    },
    {
      "cell_type": "markdown",
      "metadata": {
        "id": "1Y8K_Ju6qADH"
      },
      "source": [
        "Проверим количество дубликатов:"
      ]
    },
    {
      "cell_type": "code",
      "metadata": {
        "colab": {
          "base_uri": "https://localhost:8080/"
        },
        "id": "spAa2HG4u4-w",
        "outputId": "aa8ef156-f98e-4373-b6d6-732b99dc59c6"
      },
      "source": [
        "data.duplicated().sum() # применяем метод определение дубликатов и суммируем их количество"
      ],
      "execution_count": null,
      "outputs": [
        {
          "output_type": "execute_result",
          "data": {
            "text/plain": [
              "72"
            ]
          },
          "metadata": {},
          "execution_count": 47
        }
      ]
    },
    {
      "cell_type": "markdown",
      "metadata": {
        "id": "1hvEF8Z6qDl6"
      },
      "source": [
        "Проведем удаление дубликатов:"
      ]
    },
    {
      "cell_type": "code",
      "metadata": {
        "id": "f9arLqKEwgGI"
      },
      "source": [
        "# data = data.drop_duplicates().reset_index(drop= True) # перезапишем нашу таблицу с данными с удалением дубликатов и сборосом индексов"
      ],
      "execution_count": null,
      "outputs": []
    },
    {
      "cell_type": "markdown",
      "metadata": {
        "id": "-XbnPhB5vEkT"
      },
      "source": [
        "#### **Вывод**"
      ]
    },
    {
      "cell_type": "markdown",
      "metadata": {
        "id": "kkJy0zD-LZtc"
      },
      "source": [
        "Проработали неявные дубликаты, привели столбцы `'education'` и `'family_status'` к нижнему регистру.  \n",
        "Заменили непонятные значения в столбцах `'children'`, `'gender'`, `'dob_years'`.  \n",
        "Поскольку в нашем датасете нет уникального ид клиента, мы не можем удалить дублирующие строки, т.к. они могут иметь отношение к разных клиентам, а что они повтрояются случайность."
      ]
    },
    {
      "cell_type": "markdown",
      "metadata": {
        "id": "pu2VB9TqvEkU"
      },
      "source": [
        "### Лемматизация"
      ]
    },
    {
      "cell_type": "markdown",
      "metadata": {
        "id": "Jzt4m4TlnfUq"
      },
      "source": [
        "При анализе таблицы с данными выделить леммы для дальнешей категоризации требуется в столбце `'purpose'`, т.к. в нем имеется множество повторяющихся значений одинаковых категория кредитов."
      ]
    },
    {
      "cell_type": "markdown",
      "metadata": {
        "id": "IFwFxA__nuDa"
      },
      "source": [
        "Посмотрим уникальные значения столбца `'purpose'`:"
      ]
    },
    {
      "cell_type": "code",
      "metadata": {
        "colab": {
          "base_uri": "https://localhost:8080/"
        },
        "id": "XkHkWJDS4nQD",
        "outputId": "6511d252-030b-4469-ef90-a20d70e2e66b"
      },
      "source": [
        "data['purpose'].unique()"
      ],
      "execution_count": null,
      "outputs": [
        {
          "output_type": "execute_result",
          "data": {
            "text/plain": [
              "array(['покупка жилья', 'приобретение автомобиля',\n",
              "       'дополнительное образование', 'сыграть свадьбу',\n",
              "       'операции с жильем', 'образование', 'на проведение свадьбы',\n",
              "       'покупка жилья для семьи', 'покупка недвижимости',\n",
              "       'покупка коммерческой недвижимости', 'покупка жилой недвижимости',\n",
              "       'строительство собственной недвижимости', 'недвижимость',\n",
              "       'строительство недвижимости', 'на покупку подержанного автомобиля',\n",
              "       'на покупку своего автомобиля',\n",
              "       'операции с коммерческой недвижимостью',\n",
              "       'строительство жилой недвижимости', 'жилье',\n",
              "       'операции со своей недвижимостью', 'автомобили',\n",
              "       'заняться образованием', 'сделка с подержанным автомобилем',\n",
              "       'получение образования', 'автомобиль', 'свадьба',\n",
              "       'получение дополнительного образования', 'покупка своего жилья',\n",
              "       'операции с недвижимостью', 'получение высшего образования',\n",
              "       'свой автомобиль', 'сделка с автомобилем',\n",
              "       'профильное образование', 'высшее образование',\n",
              "       'покупка жилья для сдачи', 'на покупку автомобиля', 'ремонт жилью',\n",
              "       'заняться высшим образованием'], dtype=object)"
            ]
          },
          "metadata": {},
          "execution_count": 49
        }
      ]
    },
    {
      "cell_type": "markdown",
      "metadata": {
        "id": "eCkezEU6nzar"
      },
      "source": [
        "Посмотрим количество упоминаний лемматизированных слов.  \n",
        "Для этого, переведем столбец `'purpose'` в строку:"
      ]
    },
    {
      "cell_type": "code",
      "metadata": {
        "id": "ejnGS2-Hoc6z"
      },
      "source": [
        "string = ''.join(str(data['purpose'].unique())) # определим переменну string, в которую запижем в строке все уникальные значения ячеек из столбца 'purpose'"
      ],
      "execution_count": null,
      "outputs": []
    },
    {
      "cell_type": "markdown",
      "metadata": {
        "id": "QUiSjV7QAvEe"
      },
      "source": [
        "Вызовем контейнер для подсчета количества лемм:"
      ]
    },
    {
      "cell_type": "code",
      "metadata": {
        "colab": {
          "base_uri": "https://localhost:8080/"
        },
        "id": "5NRqO-uuvEkV",
        "outputId": "40946233-9427-40a3-e835-e168cd25a116"
      },
      "source": [
        "lemmas = m.lemmatize(string) # вызовем функцию Mystem для строки со значениями из 'purpose'\n",
        "Counter(lemmas) # подсчитаем число упоминаний"
      ],
      "execution_count": null,
      "outputs": [
        {
          "output_type": "execute_result",
          "data": {
            "text/plain": [
              "Counter({' ': 59,\n",
              "         \" '\": 14,\n",
              "         \"'\\n\": 14,\n",
              "         \"' '\": 23,\n",
              "         \"']\\n\": 1,\n",
              "         \"['\": 1,\n",
              "         'автомобиль': 9,\n",
              "         'высокий': 3,\n",
              "         'для': 2,\n",
              "         'дополнительный': 2,\n",
              "         'жилой': 2,\n",
              "         'жилье': 7,\n",
              "         'заниматься': 2,\n",
              "         'коммерческий': 2,\n",
              "         'на': 4,\n",
              "         'недвижимость': 10,\n",
              "         'образование': 9,\n",
              "         'операция': 4,\n",
              "         'подержать': 2,\n",
              "         'покупка': 10,\n",
              "         'получение': 3,\n",
              "         'приобретение': 1,\n",
              "         'проведение': 1,\n",
              "         'профильный': 1,\n",
              "         'ремонт': 1,\n",
              "         'с': 5,\n",
              "         'свадьба': 3,\n",
              "         'свой': 4,\n",
              "         'сдача': 1,\n",
              "         'сделка': 2,\n",
              "         'семья': 1,\n",
              "         'со': 1,\n",
              "         'собственный': 1,\n",
              "         'строительство': 3,\n",
              "         'сыграть': 1})"
            ]
          },
          "metadata": {},
          "execution_count": 51
        }
      ]
    },
    {
      "cell_type": "markdown",
      "metadata": {
        "id": "LtnjcBOWpbhS"
      },
      "source": [
        "Исходя из подсчета лемм, можно сделать вывод, что наиболее популярные категории кредитов: \n",
        "* связанные с недвижмостью, образованием, автомобилем, свадьбой и прочие кредиты. Данные категории помогут нам в дальнешем для ответов на вопросы исследования."
      ]
    },
    {
      "cell_type": "markdown",
      "metadata": {
        "id": "P9uG8uX9q1qr"
      },
      "source": [
        "Создим столбец с леммами.  \n",
        "Для этого определим функцию, которая будет выделять леммы:"
      ]
    },
    {
      "cell_type": "code",
      "metadata": {
        "id": "JNVwd-tQ8CXT"
      },
      "source": [
        "def lemma(purpose): # определим функцию lemma с аргументов purpose\n",
        "  word = m.lemmatize(purpose) # получаем леммы из purpose\n",
        "  return word # возвращаем значение лемм"
      ],
      "execution_count": null,
      "outputs": []
    },
    {
      "cell_type": "markdown",
      "metadata": {
        "id": "FNhoymcLrbEb"
      },
      "source": [
        "Создадим в нашей таблице с данными новый столбец `'lemma'` и добавим в него леммы из столбца `'purpose'`:"
      ]
    },
    {
      "cell_type": "code",
      "metadata": {
        "id": "qQ5bw7RHrMx8"
      },
      "source": [
        "data['lemma'] = data['purpose'].apply(lemma)\n",
        "#data['lemma'] = data['lemma'].astype('category') # заменим данные на категориальные (Ограниченный список текстовых значений)"
      ],
      "execution_count": null,
      "outputs": []
    },
    {
      "cell_type": "markdown",
      "metadata": {
        "id": "p8d-w155vEkV"
      },
      "source": [
        "#### **Вывод**"
      ]
    },
    {
      "cell_type": "markdown",
      "metadata": {
        "id": "V1xFeFklvEkV"
      },
      "source": [
        "В ходе лемматизации определили, что явным образом нужно выделить леммы столбца `'purpose'`.  \n",
        "Выявлено, что наиболее частые категории кредитов это: недвижемость, жилье, автомобиль, образование, свадьба и прочие, данные категории помогут нам в дальнейшей исследовании.  \n",
        "Создали столбец с леммами `'lemma'` из столбца `'purpose'`"
      ]
    },
    {
      "cell_type": "markdown",
      "metadata": {
        "id": "jAczNcxbvEkV"
      },
      "source": [
        "### Категоризация данных"
      ]
    },
    {
      "cell_type": "markdown",
      "metadata": {
        "id": "lhTVkARN_e8I"
      },
      "source": [
        "#### Столбец `'purpose'`"
      ]
    },
    {
      "cell_type": "markdown",
      "metadata": {
        "id": "Vri6aMz91cpW"
      },
      "source": [
        "Рассмотрим столбец `'purpose'`, после выделения лемм, мы определили, что основные категории получения кредитов это: жилищный кредит, автокредит, кредит на образование, кредит на свадьбу, предположим, что имеется категория для прочих кредитов.  \n",
        "Зададим функцию для определения категорий из значений ячеек в столбце `'purpose'`:"
      ]
    },
    {
      "cell_type": "code",
      "metadata": {
        "id": "_7R40QfFvEkV"
      },
      "source": [
        "def purpose_group(purpose): # определим функцию purpose_group\n",
        "# используем условия для возврата наименование категории кредита взависимости от определенных лемм\n",
        "    if (('недвижимость' in purpose) or ('жилье' in purpose)): \n",
        "        return 'жилищный кредит'\n",
        "    if 'автомобиль' in purpose:\n",
        "        return 'автокредит'\n",
        "    if 'образование' in purpose:\n",
        "        return 'кредит на образование '\n",
        "    if 'свадьба' in purpose:\n",
        "        return 'кредит на свадьбу'        \n",
        "    return 'прочий кредит' "
      ],
      "execution_count": null,
      "outputs": []
    },
    {
      "cell_type": "markdown",
      "metadata": {
        "id": "vdsXSFCd2dSh"
      },
      "source": [
        "Создадим новый столбец `'purpose_group'` в который положим через функцию `purpose_group` категории кредитов исодя из столбца лемм:"
      ]
    },
    {
      "cell_type": "code",
      "metadata": {
        "id": "cob0ZfIr2Fxv"
      },
      "source": [
        "data['purpose_group'] = data['lemma'].apply(purpose_group) # создаем новый столбец с категориями\n",
        "data = data.drop('lemma', 1) # применим метод для удаления столбца 'lemma'\n",
        "data['purpose_group'] = data['purpose_group'].astype('category') # заменим данные на категориальные"
      ],
      "execution_count": null,
      "outputs": []
    },
    {
      "cell_type": "markdown",
      "metadata": {
        "id": "GoGkdEIW2xRc"
      },
      "source": [
        "Посмотрим уникальные значения в столбце `'purpose_group'`:"
      ]
    },
    {
      "cell_type": "code",
      "metadata": {
        "colab": {
          "base_uri": "https://localhost:8080/"
        },
        "id": "7bF28fojsHCr",
        "outputId": "9d864c82-c540-4c87-c83e-54908f1114ae"
      },
      "source": [
        "data['purpose_group'].value_counts() # определяем уникальные значения"
      ],
      "execution_count": null,
      "outputs": [
        {
          "output_type": "execute_result",
          "data": {
            "text/plain": [
              "жилищный кредит           10840\n",
              "автокредит                 4315\n",
              "кредит на образование      4022\n",
              "кредит на свадьбу          2348\n",
              "Name: purpose_group, dtype: int64"
            ]
          },
          "metadata": {},
          "execution_count": 56
        }
      ]
    },
    {
      "cell_type": "markdown",
      "metadata": {
        "id": "ssd8PKKX27s6"
      },
      "source": [
        "Видим что, категории \"прочий кредит\" не имеется в столбце, значит в нашем датасете клиенты брали кредиты только на 4 основные категории."
      ]
    },
    {
      "cell_type": "markdown",
      "metadata": {
        "id": "d_nZldih_qfA"
      },
      "source": [
        "#### Столбец `'children'`"
      ]
    },
    {
      "cell_type": "markdown",
      "metadata": {
        "id": "C8LGL32y3Hz5"
      },
      "source": [
        "Определим функцю для категоризации столбца `'children'` и запишем новый столбец `'children_group'`:"
      ]
    },
    {
      "cell_type": "code",
      "metadata": {
        "id": "cyOakjJmBEQY"
      },
      "source": [
        "def children_group(children): # определим функцию children_group\n",
        "# используем оператор условия для разделение клиентов по количеству детей\n",
        "    if children == 0 :\n",
        "        return 'без детей'\n",
        "    if children == 1:\n",
        "        return 'один ребенок'       \n",
        "    return 'многодетные' "
      ],
      "execution_count": null,
      "outputs": []
    },
    {
      "cell_type": "code",
      "metadata": {
        "id": "kCLH9L0_3Zsb"
      },
      "source": [
        "data['children_group'] = data['children'].apply(children_group) # создадим новый столбец в датасете\n",
        "data = data.drop('children', 1) # применим метод для удаления столбца\n",
        "data['children_group'] = data['children_group'].astype('category') # заменим данные на категориальные"
      ],
      "execution_count": null,
      "outputs": []
    },
    {
      "cell_type": "markdown",
      "metadata": {
        "id": "hzYDOv1k32Jo"
      },
      "source": [
        "Посмотрим уникальные значене в новом столбце `'children_group'`:"
      ]
    },
    {
      "cell_type": "code",
      "metadata": {
        "colab": {
          "base_uri": "https://localhost:8080/"
        },
        "id": "0-91uQOa3xK_",
        "outputId": "2936b000-57e3-47d4-8c34-87836102ad97"
      },
      "source": [
        "data['children_group'].value_counts() # вывод количества уникальных значений"
      ],
      "execution_count": null,
      "outputs": [
        {
          "output_type": "execute_result",
          "data": {
            "text/plain": [
              "без детей       14149\n",
              "один ребенок     4865\n",
              "многодетные      2511\n",
              "Name: children_group, dtype: int64"
            ]
          },
          "metadata": {},
          "execution_count": 59
        }
      ]
    },
    {
      "cell_type": "markdown",
      "metadata": {
        "id": "46ayCWhl_wsP"
      },
      "source": [
        "#### Столбец `'total_income'`"
      ]
    },
    {
      "cell_type": "markdown",
      "metadata": {
        "id": "EQ_Zlo4j4LL8"
      },
      "source": [
        "Следующим этапом создадим категории взависимости от уровня дохода, столбец `'total_income'`.  \n",
        "Для определение деления по категориям уровня дохода построим график распределения, при этом верхнее значении возьмем 500000, поскольку мы определяли, что максимальных доход 2265604 и так удобнее читать:"
      ]
    },
    {
      "cell_type": "code",
      "metadata": {
        "colab": {
          "base_uri": "https://localhost:8080/",
          "height": 487
        },
        "id": "tcGTVFzTtnGU",
        "outputId": "d494e491-4ff9-413d-fc05-0d264d3814c5"
      },
      "source": [
        "plt.figure(figsize=(16, 6)) # зададим размер графика\n",
        "displot_income = sns.distplot(data.loc[data['total_income'] < 500000, 'total_income']) # определим какие данные мы читаем для построения графика\n",
        "displot_income.set_title('Плотность уровня дохода клиентов банка', fontdict={'fontsize':14}, pad=16) # напишем заголовок графика\n",
        "displot_income.set_ylabel('Плотность распределение клиентов') # подпишем ось ординат\n",
        "displot_income.set_xlabel(\"Уровень дохода\") # подпишем ось абцисс"
      ],
      "execution_count": null,
      "outputs": [
        {
          "output_type": "stream",
          "name": "stderr",
          "text": [
            "/usr/local/lib/python3.7/dist-packages/seaborn/distributions.py:2619: FutureWarning: `distplot` is a deprecated function and will be removed in a future version. Please adapt your code to use either `displot` (a figure-level function with similar flexibility) or `histplot` (an axes-level function for histograms).\n",
            "  warnings.warn(msg, FutureWarning)\n"
          ]
        },
        {
          "output_type": "execute_result",
          "data": {
            "text/plain": [
              "Text(0.5, 0, 'Уровень дохода')"
            ]
          },
          "metadata": {},
          "execution_count": 60
        },
        {
          "output_type": "display_data",
          "data": {
            "image/png": "[encoded data removed]",
            "text/plain": [
              "<Figure size 1152x432 with 1 Axes>"
            ]
          },
          "metadata": {
            "needs_background": "light"
          }
        }
      ]
    },
    {
      "cell_type": "markdown",
      "metadata": {
        "id": "d4HLu8QVscpZ"
      },
      "source": [
        "Для уточнение категорий воспользуемся методом `pandas.qcut` для деление столбца `'total_income'` на 6 равных:"
      ]
    },
    {
      "cell_type": "code",
      "metadata": {
        "colab": {
          "base_uri": "https://localhost:8080/"
        },
        "id": "4WY88qtKr4Gw",
        "outputId": "c739df4a-f571-408e-920c-fdfe08421564"
      },
      "source": [
        "pd.qcut(data['total_income'], 6) # делим столбец total_income на 6 частей"
      ],
      "execution_count": null,
      "outputs": [
        {
          "output_type": "execute_result",
          "data": {
            "text/plain": [
              "0          (228602.0, 2265604.0]\n",
              "1        (92267.333, 123082.667]\n",
              "2           (145017.0, 170468.0]\n",
              "3          (228602.0, 2265604.0]\n",
              "4           (145017.0, 170468.0]\n",
              "                  ...           \n",
              "21520       (170468.0, 228602.0]\n",
              "21521       (145017.0, 170468.0]\n",
              "21522     (20666.999, 92267.333]\n",
              "21523      (228602.0, 2265604.0]\n",
              "21524     (20666.999, 92267.333]\n",
              "Name: total_income, Length: 21525, dtype: category\n",
              "Categories (6, interval[float64]): [(20666.999, 92267.333] < (92267.333, 123082.667] <\n",
              "                                    (123082.667, 145017.0] < (145017.0, 170468.0] < (170468.0, 228602.0] <\n",
              "                                    (228602.0, 2265604.0]]"
            ]
          },
          "metadata": {},
          "execution_count": 61
        }
      ]
    },
    {
      "cell_type": "markdown",
      "metadata": {
        "id": "o-EmHbOg7SIn"
      },
      "source": [
        "По графику наблюдаем резкое увеличение плотности распределения клиентов в районе 140 тыс. до 150 тыс.  \n",
        "Исходя из графика, а также деления методом `.qcut`, можно выделать следующие основные категории по уровню дохода:\n",
        "* меньше 95 тыс.;\n",
        "* от 95 тыс. до 125 тыс.;\n",
        "* от 125 тыс. до 145 тыс.;\n",
        "* от 145 тыс. до 170 тыс.;\n",
        "* от 170 тыс. до 230 тыс.;\n",
        "* свыше 230 тыс."
      ]
    },
    {
      "cell_type": "markdown",
      "metadata": {
        "id": "-VEtNTqH7lDP"
      },
      "source": [
        "Определим функцию для категоризация данных по уровню дохода:"
      ]
    },
    {
      "cell_type": "code",
      "metadata": {
        "id": "-8u7WB4QG7Je"
      },
      "source": [
        "def total_income_group(total_income): # определим функцию total_income_group\n",
        "# используем оператор условия для разделение клиентов по уровню дохода\n",
        "    if total_income <= 95000 :\n",
        "        return 'меньше 95 тыс.'\n",
        "    if ((total_income > 95000) and (total_income <= 125000)):\n",
        "        return 'от 95 тыс. до 125 тыс.'\n",
        "    if ((total_income > 125000) and (total_income <= 145000)):\n",
        "        return 'от 125 тыс. до 145 тыс.'\n",
        "    if ((total_income > 145000) and (total_income <= 170000)):\n",
        "        return 'от 145 тыс. до 170 тыс.'  \n",
        "    if ((total_income > 170000) and (total_income <= 230000)):\n",
        "        return 'от 170 тыс. до 230 тыс.'     \n",
        "    return 'свыше 230 тыс.' "
      ],
      "execution_count": null,
      "outputs": []
    },
    {
      "cell_type": "markdown",
      "metadata": {
        "id": "fxVenLt-8MyW"
      },
      "source": [
        "Запишем новый столбец `'total_income_group'` используя функцию total_income_group:"
      ]
    },
    {
      "cell_type": "code",
      "metadata": {
        "id": "sp5QEHKD7-9Z"
      },
      "source": [
        "data['total_income_group'] = data['total_income'].apply(total_income_group) # создаем новые столбец\n",
        "data = data.drop('total_income', 1) # применим метод для удаления столбца\n",
        "data['total_income_group'] = data['total_income_group'].astype('category') # заменим данные на категориальные"
      ],
      "execution_count": null,
      "outputs": []
    },
    {
      "cell_type": "markdown",
      "metadata": {
        "id": "4V7DsoBz8Wu_"
      },
      "source": [
        "Посмотрим уникальные значение нового столбца:"
      ]
    },
    {
      "cell_type": "code",
      "metadata": {
        "colab": {
          "base_uri": "https://localhost:8080/"
        },
        "id": "MaIiB7mawmX0",
        "outputId": "98ff192c-761c-4cde-a016-88a9503b86bd"
      },
      "source": [
        "data['total_income_group'].value_counts() # вызовем метод для определение количества уникальных значений"
      ],
      "execution_count": null,
      "outputs": [
        {
          "output_type": "execute_result",
          "data": {
            "text/plain": [
              "от 145 тыс. до 170 тыс.    4635\n",
              "меньше 95 тыс.             3891\n",
              "от 170 тыс. до 230 тыс.    3701\n",
              "свыше 230 тыс.             3515\n",
              "от 95 тыс. до 125 тыс.     3478\n",
              "от 125 тыс. до 145 тыс.    2305\n",
              "Name: total_income_group, dtype: int64"
            ]
          },
          "metadata": {},
          "execution_count": 64
        }
      ]
    },
    {
      "cell_type": "markdown",
      "metadata": {
        "id": "Id4G1PUe9c3f"
      },
      "source": [
        "Значения в категориях столбца доходов расположены достаточно удачно. Это позволит получить корректные данные при ответах на вопросы."
      ]
    },
    {
      "cell_type": "markdown",
      "metadata": {
        "id": "daraHk3V_8Ao"
      },
      "source": [
        "#### Столбец `'debt'`"
      ]
    },
    {
      "cell_type": "markdown",
      "metadata": {
        "id": "DbqR7cWY9o5Y"
      },
      "source": [
        "Для лучшего понимания и чтения столбца `'debt'` сгруппируем его, и создадим новый столбец `'debt_group'`.  \n",
        "Для этого определим функцию debt_group и использую создадим новый столбец `'debt_group'`:"
      ]
    },
    {
      "cell_type": "code",
      "metadata": {
        "id": "Gj9c7yOvJSQ2"
      },
      "source": [
        "def debt_group(debt): # определим функцию debt_group\n",
        "# используем оператор условия группировке по задолженности\n",
        "    if debt == 0 :\n",
        "        return 'returned_on_time'\n",
        "    return 'didnt_returned_on_time' "
      ],
      "execution_count": null,
      "outputs": []
    },
    {
      "cell_type": "code",
      "metadata": {
        "id": "bPyjcK6O-AlJ"
      },
      "source": [
        "data['debt_group'] = data['debt'].apply(debt_group) # создадим столбец с группировкой по наличию задолженности"
      ],
      "execution_count": null,
      "outputs": []
    },
    {
      "cell_type": "markdown",
      "metadata": {
        "id": "7Ek4R-BmgEq4"
      },
      "source": [
        "#### Столбец `'dob_years'`"
      ]
    },
    {
      "cell_type": "markdown",
      "metadata": {
        "id": "t4cFHjzegItR"
      },
      "source": [
        "Для лучшего понимания и чтения столбца `'dob_years'` сгруппируем его, и создадим новый столбец `'dob_years_group'`.  \n",
        "Для этого определим функцию dob_years_group и использую создадим новый столбец `'dob_years_group'`:"
      ]
    },
    {
      "cell_type": "code",
      "metadata": {
        "colab": {
          "base_uri": "https://localhost:8080/",
          "height": 487
        },
        "id": "UFGr6suxgWru",
        "outputId": "3a0ffc7f-4527-4c4a-ef08-86f154e6dabb"
      },
      "source": [
        "plt.figure(figsize=(16, 6)) # зададим размер графика\n",
        "displot_dob_years= sns.distplot(data.loc[data['dob_years'], 'dob_years']) # определим какие данные мы читаем для построения графика\n",
        "displot_dob_years.set_title('Плотность распределение клиентов взависимости от возраста', fontdict={'fontsize':14}, pad=16) # напишем заголовок графика\n",
        "displot_dob_years.set_ylabel('Плотность распределение клиентов') # подпишем ось ординат\n",
        "displot_dob_years.set_xlabel(\"Возраст\") # подпишем ось абцисс"
      ],
      "execution_count": null,
      "outputs": [
        {
          "output_type": "stream",
          "name": "stderr",
          "text": [
            "/usr/local/lib/python3.7/dist-packages/seaborn/distributions.py:2619: FutureWarning: `distplot` is a deprecated function and will be removed in a future version. Please adapt your code to use either `displot` (a figure-level function with similar flexibility) or `histplot` (an axes-level function for histograms).\n",
            "  warnings.warn(msg, FutureWarning)\n"
          ]
        },
        {
          "output_type": "execute_result",
          "data": {
            "text/plain": [
              "Text(0.5, 0, 'Возраст')"
            ]
          },
          "metadata": {},
          "execution_count": 67
        },
        {
          "output_type": "display_data",
          "data": {
            "image/png": "[encoded data removed]",
            "text/plain": [
              "<Figure size 1152x432 with 1 Axes>"
            ]
          },
          "metadata": {
            "needs_background": "light"
          }
        }
      ]
    },
    {
      "cell_type": "markdown",
      "metadata": {
        "id": "itFbMjwSgxB-"
      },
      "source": [
        "Для уточнение категорий воспользуемся методом `pandas.qcut` для деление столбца `'dob_years'` на 6 равных:"
      ]
    },
    {
      "cell_type": "code",
      "metadata": {
        "colab": {
          "base_uri": "https://localhost:8080/"
        },
        "id": "TxQf9QE_g-QR",
        "outputId": "60ee67c3-5edf-44f5-e6d1-69e57a7df31e"
      },
      "source": [
        "pd.qcut(data['dob_years'], 6) # делим столбец dob_years на 6 частей"
      ],
      "execution_count": null,
      "outputs": [
        {
          "output_type": "execute_result",
          "data": {
            "text/plain": [
              "0        (37.0, 42.0]\n",
              "1        (30.0, 37.0]\n",
              "2        (30.0, 37.0]\n",
              "3        (30.0, 37.0]\n",
              "4        (50.0, 57.0]\n",
              "             ...     \n",
              "21520    (42.0, 50.0]\n",
              "21521    (57.0, 75.0]\n",
              "21522    (37.0, 42.0]\n",
              "21523    (37.0, 42.0]\n",
              "21524    (37.0, 42.0]\n",
              "Name: dob_years, Length: 21525, dtype: category\n",
              "Categories (6, interval[float64]): [(18.999, 30.0] < (30.0, 37.0] < (37.0, 42.0] < (42.0, 50.0] <\n",
              "                                    (50.0, 57.0] < (57.0, 75.0]]"
            ]
          },
          "metadata": {},
          "execution_count": 68
        }
      ]
    },
    {
      "cell_type": "markdown",
      "metadata": {
        "id": "anvbi39UhHQt"
      },
      "source": [
        "По графику наблюдаем два спада по возрастам клинетов в районе 40 лет, а также в районе 60 лет.  \n",
        "Исходя из графика, а также деления методом `.qcut`, можно выделать следующие основные категории по уровню дохода:\n",
        "* до 30 лет;\n",
        "* от 30 до 37 лет;\n",
        "* от 37 до 42 лет;\n",
        "* от 42 до 50 лет;\n",
        "* от 50 до 57 лет;\n",
        "* свыше 57 лет."
      ]
    },
    {
      "cell_type": "code",
      "metadata": {
        "id": "t39cll3Yh5zk"
      },
      "source": [
        "def dob_years_group(dob_years): # определим функцию dob_years_group\n",
        "# используем оператор условия для разделение клиентов по уровню дохода\n",
        "    if dob_years <= 30 :\n",
        "        return 'до 30 лет'\n",
        "    if ((dob_years > 30) and (dob_years <= 37)):\n",
        "        return 'от 30 до 37 лет'\n",
        "    if ((dob_years > 37) and (dob_years <= 42)):\n",
        "        return 'от 37 до 42 лет'\n",
        "    if ((dob_years > 42) and (dob_years <= 50)):\n",
        "        return 'от 42 до 50 лет'  \n",
        "    if ((dob_years > 50) and (dob_years <= 57)):\n",
        "        return 'от 50 до 57 лет'     \n",
        "    return 'свыше 57 лет' "
      ],
      "execution_count": null,
      "outputs": []
    },
    {
      "cell_type": "markdown",
      "metadata": {
        "id": "P49kpUfbiRvZ"
      },
      "source": [
        "Запишем новый столбец `'dob_years_group'` используя функцию dob_years_group:"
      ]
    },
    {
      "cell_type": "code",
      "metadata": {
        "id": "CX6yQivyieK_"
      },
      "source": [
        "data['dob_years_group'] = data['dob_years'].apply(dob_years_group) # создаем новые столбец\n",
        "data = data.drop('dob_years', 1) # применим метод для удаления столбца\n",
        "data['dob_years_group'] = data['dob_years_group'].astype('category') # заменим данные на категориальные"
      ],
      "execution_count": null,
      "outputs": []
    },
    {
      "cell_type": "markdown",
      "metadata": {
        "id": "P-O8CdcqijTw"
      },
      "source": [
        "Посмотрим уникальные значение нового столбца:"
      ]
    },
    {
      "cell_type": "code",
      "metadata": {
        "colab": {
          "base_uri": "https://localhost:8080/"
        },
        "id": "iJKhz8p-imV9",
        "outputId": "aea04419-5099-4fe2-ac4f-7027148e1fea"
      },
      "source": [
        "data['dob_years_group'].value_counts() # вызовем метод для определение количества уникальных значений"
      ],
      "execution_count": null,
      "outputs": [
        {
          "output_type": "execute_result",
          "data": {
            "text/plain": [
              "от 42 до 50 лет    4072\n",
              "от 30 до 37 лет    3963\n",
              "до 30 лет          3723\n",
              "свыше 57 лет       3422\n",
              "от 50 до 57 лет    3260\n",
              "от 37 до 42 лет    3085\n",
              "Name: dob_years_group, dtype: int64"
            ]
          },
          "metadata": {},
          "execution_count": 71
        }
      ]
    },
    {
      "cell_type": "markdown",
      "metadata": {
        "id": "fi-bEnTEvEkV"
      },
      "source": [
        "#### **Вывод**"
      ]
    },
    {
      "cell_type": "markdown",
      "metadata": {
        "id": "Xkpf_533-bSJ"
      },
      "source": [
        "Выведем 5 строк обновленной таблицы:"
      ]
    },
    {
      "cell_type": "code",
      "metadata": {
        "colab": {
          "base_uri": "https://localhost:8080/",
          "height": 305
        },
        "id": "Z6y0kciwB4S7",
        "outputId": "7b738986-7b5c-4c01-e4c7-2fa24562066f"
      },
      "source": [
        "data.head()"
      ],
      "execution_count": null,
      "outputs": [
        {
          "output_type": "execute_result",
          "data": {
            "text/html": [
              "<div>\n",
              "<style scoped>\n",
              "    .dataframe tbody tr th:only-of-type {\n",
              "        vertical-align: middle;\n",
              "    }\n",
              "\n",
              "    .dataframe tbody tr th {\n",
              "        vertical-align: top;\n",
              "    }\n",
              "\n",
              "    .dataframe thead th {\n",
              "        text-align: right;\n",
              "    }\n",
              "</style>\n",
              "<table border=\"1\" class=\"dataframe\">\n",
              "  <thead>\n",
              "    <tr style=\"text-align: right;\">\n",
              "      <th></th>\n",
              "      <th>education</th>\n",
              "      <th>education_id</th>\n",
              "      <th>family_status</th>\n",
              "      <th>family_status_id</th>\n",
              "      <th>gender</th>\n",
              "      <th>income_type</th>\n",
              "      <th>debt</th>\n",
              "      <th>purpose</th>\n",
              "      <th>purpose_group</th>\n",
              "      <th>children_group</th>\n",
              "      <th>total_income_group</th>\n",
              "      <th>debt_group</th>\n",
              "      <th>dob_years_group</th>\n",
              "    </tr>\n",
              "  </thead>\n",
              "  <tbody>\n",
              "    <tr>\n",
              "      <th>0</th>\n",
              "      <td>высшее</td>\n",
              "      <td>0</td>\n",
              "      <td>женат / замужем</td>\n",
              "      <td>0</td>\n",
              "      <td>F</td>\n",
              "      <td>сотрудник</td>\n",
              "      <td>0</td>\n",
              "      <td>покупка жилья</td>\n",
              "      <td>жилищный кредит</td>\n",
              "      <td>один ребенок</td>\n",
              "      <td>свыше 230 тыс.</td>\n",
              "      <td>returned_on_time</td>\n",
              "      <td>от 37 до 42 лет</td>\n",
              "    </tr>\n",
              "    <tr>\n",
              "      <th>1</th>\n",
              "      <td>среднее</td>\n",
              "      <td>1</td>\n",
              "      <td>женат / замужем</td>\n",
              "      <td>0</td>\n",
              "      <td>F</td>\n",
              "      <td>сотрудник</td>\n",
              "      <td>0</td>\n",
              "      <td>приобретение автомобиля</td>\n",
              "      <td>автокредит</td>\n",
              "      <td>один ребенок</td>\n",
              "      <td>от 95 тыс. до 125 тыс.</td>\n",
              "      <td>returned_on_time</td>\n",
              "      <td>от 30 до 37 лет</td>\n",
              "    </tr>\n",
              "    <tr>\n",
              "      <th>2</th>\n",
              "      <td>среднее</td>\n",
              "      <td>1</td>\n",
              "      <td>женат / замужем</td>\n",
              "      <td>0</td>\n",
              "      <td>M</td>\n",
              "      <td>сотрудник</td>\n",
              "      <td>0</td>\n",
              "      <td>покупка жилья</td>\n",
              "      <td>жилищный кредит</td>\n",
              "      <td>без детей</td>\n",
              "      <td>от 145 тыс. до 170 тыс.</td>\n",
              "      <td>returned_on_time</td>\n",
              "      <td>от 30 до 37 лет</td>\n",
              "    </tr>\n",
              "    <tr>\n",
              "      <th>3</th>\n",
              "      <td>среднее</td>\n",
              "      <td>1</td>\n",
              "      <td>женат / замужем</td>\n",
              "      <td>0</td>\n",
              "      <td>M</td>\n",
              "      <td>сотрудник</td>\n",
              "      <td>0</td>\n",
              "      <td>дополнительное образование</td>\n",
              "      <td>кредит на образование</td>\n",
              "      <td>многодетные</td>\n",
              "      <td>свыше 230 тыс.</td>\n",
              "      <td>returned_on_time</td>\n",
              "      <td>от 30 до 37 лет</td>\n",
              "    </tr>\n",
              "    <tr>\n",
              "      <th>4</th>\n",
              "      <td>среднее</td>\n",
              "      <td>1</td>\n",
              "      <td>гражданский брак</td>\n",
              "      <td>1</td>\n",
              "      <td>F</td>\n",
              "      <td>пенсионер</td>\n",
              "      <td>0</td>\n",
              "      <td>сыграть свадьбу</td>\n",
              "      <td>кредит на свадьбу</td>\n",
              "      <td>без детей</td>\n",
              "      <td>от 145 тыс. до 170 тыс.</td>\n",
              "      <td>returned_on_time</td>\n",
              "      <td>от 50 до 57 лет</td>\n",
              "    </tr>\n",
              "  </tbody>\n",
              "</table>\n",
              "</div>"
            ],
            "text/plain": [
              "  education education_id  ...        debt_group  dob_years_group\n",
              "0    высшее            0  ...  returned_on_time  от 37 до 42 лет\n",
              "1   среднее            1  ...  returned_on_time  от 30 до 37 лет\n",
              "2   среднее            1  ...  returned_on_time  от 30 до 37 лет\n",
              "3   среднее            1  ...  returned_on_time  от 30 до 37 лет\n",
              "4   среднее            1  ...  returned_on_time  от 50 до 57 лет\n",
              "\n",
              "[5 rows x 13 columns]"
            ]
          },
          "metadata": {},
          "execution_count": 72
        }
      ]
    },
    {
      "cell_type": "code",
      "metadata": {
        "colab": {
          "base_uri": "https://localhost:8080/"
        },
        "id": "eiSaineNjEY9",
        "outputId": "0c5d8074-f82e-48bd-9b3e-93967f04e16f"
      },
      "source": [
        "data.info()"
      ],
      "execution_count": null,
      "outputs": [
        {
          "output_type": "stream",
          "name": "stdout",
          "text": [
            "<class 'pandas.core.frame.DataFrame'>\n",
            "RangeIndex: 21525 entries, 0 to 21524\n",
            "Data columns (total 13 columns):\n",
            " #   Column              Non-Null Count  Dtype   \n",
            "---  ------              --------------  -----   \n",
            " 0   education           21525 non-null  object  \n",
            " 1   education_id        21525 non-null  category\n",
            " 2   family_status       21525 non-null  object  \n",
            " 3   family_status_id    21525 non-null  category\n",
            " 4   gender              21525 non-null  category\n",
            " 5   income_type         21525 non-null  category\n",
            " 6   debt                21525 non-null  uint8   \n",
            " 7   purpose             21525 non-null  object  \n",
            " 8   purpose_group       21525 non-null  category\n",
            " 9   children_group      21525 non-null  category\n",
            " 10  total_income_group  21525 non-null  category\n",
            " 11  debt_group          21525 non-null  object  \n",
            " 12  dob_years_group     21525 non-null  category\n",
            "dtypes: category(8), object(4), uint8(1)\n",
            "memory usage: 863.5+ KB\n"
          ]
        }
      ]
    },
    {
      "cell_type": "markdown",
      "metadata": {
        "id": "zA6XXFeuvEkV"
      },
      "source": [
        "Провели категоризацию по столбцам: `'children'`, `'total_income'`, `'purpose'`, `'debt'`, с создаем новых столбцов с припиской `'..._group'`.  \n",
        "\n",
        "При определении категорий уровня дохода, построили график, на котором видны большое количество значения для уровня дохода в пределах с 140 тыс. до 150 тыс. Данное обстоятельство требуется изучение."
      ]
    },
    {
      "cell_type": "markdown",
      "metadata": {
        "id": "U_oLVioVvEkW"
      },
      "source": [
        "## Ответы на вопросы цели исследования"
      ]
    },
    {
      "cell_type": "markdown",
      "metadata": {
        "id": "yFrFc8hgIeIp"
      },
      "source": [
        "Для ответа на поставленные вопросы мы воспользуемся инструментом -  свободная таблица.  \n",
        "Для этого определим функцию `'pivot_repayment_credit'` для построения сводной таблицы, и расчета процента возврата кредита в срок для требуемой категории:"
      ]
    },
    {
      "cell_type": "code",
      "metadata": {
        "id": "jpZNGCS2Iu4Z"
      },
      "source": [
        "# определяем функцию pivot_repayment_credit c аргументом group\n",
        "def pivot_repayment_credit(group):\n",
        "# Определим переменную data_children_pivot в которую запишем сводоную таблицу,\n",
        "# используя в качестве аргументов, для:\n",
        "# index — столбец или столбцы, по которым группируют данные\n",
        "# columns — столбец, по значениям которого происходит группировка (debt_group)\n",
        "# values — значения, по которым мы хотим увидеть сводную таблицу (debt)\n",
        "# aggfunc — функция, применяемая к значениям (count)\n",
        "  \n",
        "  data_pivot = data.pivot_table(index=[group], columns='debt_group', values='debt', aggfunc='count')\n",
        "  # удалим пропуски данных, если клиент не имел просрочки по кредиты\n",
        "  data_pivot['didnt_returned_on_time'] = data_pivot['didnt_returned_on_time'].fillna(0)\n",
        "  # удалим пропуски данных, если клиент всегда возвращал кредит не в срок\n",
        "  data_pivot['returned_on_time'] = data_pivot['returned_on_time'].fillna(0)\n",
        "  # объявим переменную data_pivot в которую запишем отношение количества клиентов, которые не имели задолженности к общему числу для данной категории\n",
        "  data_pivot['repayment_credit'] = data_pivot['returned_on_time'] / (data_pivot['didnt_returned_on_time'] + data_pivot['returned_on_time'])\n",
        "  # для определения процентов умножим на 100 и округлим значения до сотых\n",
        "  data_pivot['repayment_credit'] = round(data_pivot['repayment_credit'] * 100, 2)\n",
        "  # выведем свободную таблицу, с сортировкой по столбцу repayment_credit в порядке возрастания\n",
        "  return data_pivot.sort_values(by = 'repayment_credit', ascending=False)"
      ],
      "execution_count": null,
      "outputs": []
    },
    {
      "cell_type": "markdown",
      "metadata": {
        "id": "YVMYBfACAmsf"
      },
      "source": [
        "#### Зависимость между наличием детей и возвратом кредита в срок"
      ]
    },
    {
      "cell_type": "markdown",
      "metadata": {
        "id": "GjS4nsNQvEkW"
      },
      "source": [
        "Для определения зависимости между наличием детей и возвратом кредита в срок, мы воспользуемся функцией `pivot_repayment_credit` задав на нее столбец `'children_group'` для построения сводной таблицы: "
      ]
    },
    {
      "cell_type": "code",
      "metadata": {
        "colab": {
          "base_uri": "https://localhost:8080/",
          "height": 171
        },
        "id": "Lp-kZVTKB7KS",
        "outputId": "5e5adfc1-c9a2-46e5-c0a5-f6c952f1a4c1"
      },
      "source": [
        "pivot_repayment_credit('children_group') # вызываем функцию pivot_repayment_credit с аргументом 'children_group'"
      ],
      "execution_count": null,
      "outputs": [
        {
          "output_type": "execute_result",
          "data": {
            "text/html": [
              "<div>\n",
              "<style scoped>\n",
              "    .dataframe tbody tr th:only-of-type {\n",
              "        vertical-align: middle;\n",
              "    }\n",
              "\n",
              "    .dataframe tbody tr th {\n",
              "        vertical-align: top;\n",
              "    }\n",
              "\n",
              "    .dataframe thead th {\n",
              "        text-align: right;\n",
              "    }\n",
              "</style>\n",
              "<table border=\"1\" class=\"dataframe\">\n",
              "  <thead>\n",
              "    <tr style=\"text-align: right;\">\n",
              "      <th>debt_group</th>\n",
              "      <th>didnt_returned_on_time</th>\n",
              "      <th>returned_on_time</th>\n",
              "      <th>repayment_credit</th>\n",
              "    </tr>\n",
              "    <tr>\n",
              "      <th>children_group</th>\n",
              "      <th></th>\n",
              "      <th></th>\n",
              "      <th></th>\n",
              "    </tr>\n",
              "  </thead>\n",
              "  <tbody>\n",
              "    <tr>\n",
              "      <th>без детей</th>\n",
              "      <td>1063</td>\n",
              "      <td>13086</td>\n",
              "      <td>92.49</td>\n",
              "    </tr>\n",
              "    <tr>\n",
              "      <th>один ребенок</th>\n",
              "      <td>445</td>\n",
              "      <td>4420</td>\n",
              "      <td>90.85</td>\n",
              "    </tr>\n",
              "    <tr>\n",
              "      <th>многодетные</th>\n",
              "      <td>233</td>\n",
              "      <td>2278</td>\n",
              "      <td>90.72</td>\n",
              "    </tr>\n",
              "  </tbody>\n",
              "</table>\n",
              "</div>"
            ],
            "text/plain": [
              "debt_group      didnt_returned_on_time  returned_on_time  repayment_credit\n",
              "children_group                                                            \n",
              "без детей                         1063             13086             92.49\n",
              "один ребенок                       445              4420             90.85\n",
              "многодетные                        233              2278             90.72"
            ]
          },
          "metadata": {},
          "execution_count": 75
        }
      ]
    },
    {
      "cell_type": "markdown",
      "metadata": {
        "id": "7L9xQENivEkW"
      },
      "source": [
        "**Вывод**"
      ]
    },
    {
      "cell_type": "markdown",
      "metadata": {
        "id": "WFC5xeOFvEkW"
      },
      "source": [
        "Клиенты у которых нет детей, кредит возвращают чаще (`92,49 %` возврата в срок), так и  семьи с одним ребенком возвращают кредит чаще (`90,85 %` возврата в срок), чем многодетные (`90,72 %` возврата в срок)."
      ]
    },
    {
      "cell_type": "markdown",
      "metadata": {
        "id": "nxRDUErJA120"
      },
      "source": [
        "#### Зависимость между семейным положением и возвратом кредита в срок"
      ]
    },
    {
      "cell_type": "markdown",
      "metadata": {
        "id": "Kuj6zuM3vEkW"
      },
      "source": [
        "Для определения зависимоти между семейным положением и возвратом кредита в срок, мы воспользуемся функцией `pivot_repayment_credit` задав на нее наименование столбца `'family_status'` для построения сводной таблицы: "
      ]
    },
    {
      "cell_type": "code",
      "metadata": {
        "colab": {
          "base_uri": "https://localhost:8080/",
          "height": 232
        },
        "id": "7JjfyA8yFnrg",
        "outputId": "94e80f40-bfdf-404c-fc24-55b485e7cc28"
      },
      "source": [
        "pivot_repayment_credit('family_status') # вызываем функцию pivot_repayment_credit с аргументом 'family_status'"
      ],
      "execution_count": null,
      "outputs": [
        {
          "output_type": "execute_result",
          "data": {
            "text/html": [
              "<div>\n",
              "<style scoped>\n",
              "    .dataframe tbody tr th:only-of-type {\n",
              "        vertical-align: middle;\n",
              "    }\n",
              "\n",
              "    .dataframe tbody tr th {\n",
              "        vertical-align: top;\n",
              "    }\n",
              "\n",
              "    .dataframe thead th {\n",
              "        text-align: right;\n",
              "    }\n",
              "</style>\n",
              "<table border=\"1\" class=\"dataframe\">\n",
              "  <thead>\n",
              "    <tr style=\"text-align: right;\">\n",
              "      <th>debt_group</th>\n",
              "      <th>didnt_returned_on_time</th>\n",
              "      <th>returned_on_time</th>\n",
              "      <th>repayment_credit</th>\n",
              "    </tr>\n",
              "    <tr>\n",
              "      <th>family_status</th>\n",
              "      <th></th>\n",
              "      <th></th>\n",
              "      <th></th>\n",
              "    </tr>\n",
              "  </thead>\n",
              "  <tbody>\n",
              "    <tr>\n",
              "      <th>вдовец / вдова</th>\n",
              "      <td>63</td>\n",
              "      <td>897</td>\n",
              "      <td>93.44</td>\n",
              "    </tr>\n",
              "    <tr>\n",
              "      <th>в разводе</th>\n",
              "      <td>85</td>\n",
              "      <td>1110</td>\n",
              "      <td>92.89</td>\n",
              "    </tr>\n",
              "    <tr>\n",
              "      <th>женат / замужем</th>\n",
              "      <td>931</td>\n",
              "      <td>11449</td>\n",
              "      <td>92.48</td>\n",
              "    </tr>\n",
              "    <tr>\n",
              "      <th>гражданский брак</th>\n",
              "      <td>388</td>\n",
              "      <td>3789</td>\n",
              "      <td>90.71</td>\n",
              "    </tr>\n",
              "    <tr>\n",
              "      <th>не женат / не замужем</th>\n",
              "      <td>274</td>\n",
              "      <td>2539</td>\n",
              "      <td>90.26</td>\n",
              "    </tr>\n",
              "  </tbody>\n",
              "</table>\n",
              "</div>"
            ],
            "text/plain": [
              "debt_group             didnt_returned_on_time  ...  repayment_credit\n",
              "family_status                                  ...                  \n",
              "вдовец / вдова                             63  ...             93.44\n",
              "в разводе                                  85  ...             92.89\n",
              "женат / замужем                           931  ...             92.48\n",
              "гражданский брак                          388  ...             90.71\n",
              "не женат / не замужем                     274  ...             90.26\n",
              "\n",
              "[5 rows x 3 columns]"
            ]
          },
          "metadata": {},
          "execution_count": 76
        }
      ]
    },
    {
      "cell_type": "markdown",
      "metadata": {
        "id": "YIZwGhahvEkW"
      },
      "source": [
        "**Вывод**"
      ]
    },
    {
      "cell_type": "markdown",
      "metadata": {
        "id": "y4xfjbdqvEkW"
      },
      "source": [
        "Наиболее платёжеспособные категории клиентов: \n",
        "* `вдовец / вдова` - процент возврат кредитов `93,44 %`; \n",
        "* `в разводе` - процент возврат кредитов `92,89 %`;\n",
        "* `женат / замужем` - процент возврат кредитов `92,48 %`.  \n",
        "  \n",
        "\n",
        "При этом клиенты находящийся в `гражданском браке` и `не женат / не замужем` менее платежеспособные, и имеют процент возврата `90,71 %` и `90.26 %`."
      ]
    },
    {
      "cell_type": "markdown",
      "metadata": {
        "id": "73TLMEYIA7Mn"
      },
      "source": [
        "#### Зависимость между уровнем дохода и возвратом кредита в срок"
      ]
    },
    {
      "cell_type": "markdown",
      "metadata": {
        "id": "b_EUMg0AvEkX"
      },
      "source": [
        "Для определения зависимости между уровнем дохода и возвратом кредита в срок, мы воспользуемся функцией `pivot_repayment_credit` задав на нее наименование столбца `'total_income_group'` для построения сводной таблицы: "
      ]
    },
    {
      "cell_type": "code",
      "metadata": {
        "colab": {
          "base_uri": "https://localhost:8080/",
          "height": 263
        },
        "id": "XtSxmO35KVIq",
        "outputId": "11ef4dae-0b34-4b2c-bc32-117999ba3373"
      },
      "source": [
        "pivot_repayment_credit('total_income_group') # вызываем функцию pivot_repayment_credit с аргументом 'total_income_group'"
      ],
      "execution_count": null,
      "outputs": [
        {
          "output_type": "execute_result",
          "data": {
            "text/html": [
              "<div>\n",
              "<style scoped>\n",
              "    .dataframe tbody tr th:only-of-type {\n",
              "        vertical-align: middle;\n",
              "    }\n",
              "\n",
              "    .dataframe tbody tr th {\n",
              "        vertical-align: top;\n",
              "    }\n",
              "\n",
              "    .dataframe thead th {\n",
              "        text-align: right;\n",
              "    }\n",
              "</style>\n",
              "<table border=\"1\" class=\"dataframe\">\n",
              "  <thead>\n",
              "    <tr style=\"text-align: right;\">\n",
              "      <th>debt_group</th>\n",
              "      <th>didnt_returned_on_time</th>\n",
              "      <th>returned_on_time</th>\n",
              "      <th>repayment_credit</th>\n",
              "    </tr>\n",
              "    <tr>\n",
              "      <th>total_income_group</th>\n",
              "      <th></th>\n",
              "      <th></th>\n",
              "      <th></th>\n",
              "    </tr>\n",
              "  </thead>\n",
              "  <tbody>\n",
              "    <tr>\n",
              "      <th>свыше 230 тыс.</th>\n",
              "      <td>243</td>\n",
              "      <td>3272</td>\n",
              "      <td>93.09</td>\n",
              "    </tr>\n",
              "    <tr>\n",
              "      <th>меньше 95 тыс.</th>\n",
              "      <td>312</td>\n",
              "      <td>3579</td>\n",
              "      <td>91.98</td>\n",
              "    </tr>\n",
              "    <tr>\n",
              "      <th>от 170 тыс. до 230 тыс.</th>\n",
              "      <td>304</td>\n",
              "      <td>3397</td>\n",
              "      <td>91.79</td>\n",
              "    </tr>\n",
              "    <tr>\n",
              "      <th>от 145 тыс. до 170 тыс.</th>\n",
              "      <td>390</td>\n",
              "      <td>4245</td>\n",
              "      <td>91.59</td>\n",
              "    </tr>\n",
              "    <tr>\n",
              "      <th>от 125 тыс. до 145 тыс.</th>\n",
              "      <td>196</td>\n",
              "      <td>2109</td>\n",
              "      <td>91.50</td>\n",
              "    </tr>\n",
              "    <tr>\n",
              "      <th>от 95 тыс. до 125 тыс.</th>\n",
              "      <td>296</td>\n",
              "      <td>3182</td>\n",
              "      <td>91.49</td>\n",
              "    </tr>\n",
              "  </tbody>\n",
              "</table>\n",
              "</div>"
            ],
            "text/plain": [
              "debt_group               didnt_returned_on_time  ...  repayment_credit\n",
              "total_income_group                               ...                  \n",
              "свыше 230 тыс.                              243  ...             93.09\n",
              "меньше 95 тыс.                              312  ...             91.98\n",
              "от 170 тыс. до 230 тыс.                     304  ...             91.79\n",
              "от 145 тыс. до 170 тыс.                     390  ...             91.59\n",
              "от 125 тыс. до 145 тыс.                     196  ...             91.50\n",
              "от 95 тыс. до 125 тыс.                      296  ...             91.49\n",
              "\n",
              "[6 rows x 3 columns]"
            ]
          },
          "metadata": {},
          "execution_count": 77
        }
      ]
    },
    {
      "cell_type": "markdown",
      "metadata": {
        "id": "TWlbQXUmvEkX"
      },
      "source": [
        "**Вывод**"
      ]
    },
    {
      "cell_type": "markdown",
      "metadata": {
        "id": "o4M4OQt9vEkX"
      },
      "source": [
        "Наиболее платежеспособные клиенты, у которых доход:\n",
        "* свыше 230 тыс. – процент возврат кредитов `93,09 %`;\n",
        "\n",
        "Клиенты с остальным доходом, примерно на одном уровне по возврату кредита:\n",
        "* меньше 95 тыс. – процент возврат кредитов `91,98 %`;\n",
        "* от 170 тыс. до 230 тыс. – процент возврат кредитов `91,79 %`;\n",
        "* от 125 тыс. до 145 тыс. – процент возврат кредитов `91,59 %`;\n",
        "* от 95 тыс. до 125 тыс. – процент возврат кредитов `91,50 %`;\n",
        "* от 145 тыс. до 170 тыс. – процент возврат кредитов `91,49 %`."
      ]
    },
    {
      "cell_type": "markdown",
      "metadata": {
        "id": "37YzOAApBAL4"
      },
      "source": [
        "#### Влияние разных целей кредита на его возврат в срок"
      ]
    },
    {
      "cell_type": "markdown",
      "metadata": {
        "id": "zJuKJs6SvEkX"
      },
      "source": [
        "Для определения влияния разных целей кредита на его возврат в срок, мы воспользуемся функцией `pivot_repayment_credit` задав на нее наименование столбца `'purpose_group'` для построения сводной таблицы: "
      ]
    },
    {
      "cell_type": "code",
      "metadata": {
        "colab": {
          "base_uri": "https://localhost:8080/",
          "height": 202
        },
        "id": "iDwo9aAQKcGl",
        "outputId": "b508a515-a206-442c-989e-8304844f68c4"
      },
      "source": [
        "pivot_repayment_credit('purpose_group') # вызываем функцию pivot_repayment_credit с аргументом 'purpose_group'"
      ],
      "execution_count": null,
      "outputs": [
        {
          "output_type": "execute_result",
          "data": {
            "text/html": [
              "<div>\n",
              "<style scoped>\n",
              "    .dataframe tbody tr th:only-of-type {\n",
              "        vertical-align: middle;\n",
              "    }\n",
              "\n",
              "    .dataframe tbody tr th {\n",
              "        vertical-align: top;\n",
              "    }\n",
              "\n",
              "    .dataframe thead th {\n",
              "        text-align: right;\n",
              "    }\n",
              "</style>\n",
              "<table border=\"1\" class=\"dataframe\">\n",
              "  <thead>\n",
              "    <tr style=\"text-align: right;\">\n",
              "      <th>debt_group</th>\n",
              "      <th>didnt_returned_on_time</th>\n",
              "      <th>returned_on_time</th>\n",
              "      <th>repayment_credit</th>\n",
              "    </tr>\n",
              "    <tr>\n",
              "      <th>purpose_group</th>\n",
              "      <th></th>\n",
              "      <th></th>\n",
              "      <th></th>\n",
              "    </tr>\n",
              "  </thead>\n",
              "  <tbody>\n",
              "    <tr>\n",
              "      <th>жилищный кредит</th>\n",
              "      <td>782</td>\n",
              "      <td>10058</td>\n",
              "      <td>92.79</td>\n",
              "    </tr>\n",
              "    <tr>\n",
              "      <th>кредит на свадьбу</th>\n",
              "      <td>186</td>\n",
              "      <td>2162</td>\n",
              "      <td>92.08</td>\n",
              "    </tr>\n",
              "    <tr>\n",
              "      <th>кредит на образование</th>\n",
              "      <td>370</td>\n",
              "      <td>3652</td>\n",
              "      <td>90.80</td>\n",
              "    </tr>\n",
              "    <tr>\n",
              "      <th>автокредит</th>\n",
              "      <td>403</td>\n",
              "      <td>3912</td>\n",
              "      <td>90.66</td>\n",
              "    </tr>\n",
              "  </tbody>\n",
              "</table>\n",
              "</div>"
            ],
            "text/plain": [
              "debt_group              didnt_returned_on_time  ...  repayment_credit\n",
              "purpose_group                                   ...                  \n",
              "жилищный кредит                            782  ...             92.79\n",
              "кредит на свадьбу                          186  ...             92.08\n",
              "кредит на образование                      370  ...             90.80\n",
              "автокредит                                 403  ...             90.66\n",
              "\n",
              "[4 rows x 3 columns]"
            ]
          },
          "metadata": {},
          "execution_count": 78
        }
      ]
    },
    {
      "cell_type": "markdown",
      "metadata": {
        "id": "ttJE784EvEkX"
      },
      "source": [
        "**Вывод**"
      ]
    },
    {
      "cell_type": "markdown",
      "metadata": {
        "id": "4LSTHOBBvEkX"
      },
      "source": [
        "Наиболее платежеспособные клиенты, в зависимости от целей кредита:\n",
        "* клиенты берущие кредит в категории: жилищный кредит – процент возврат кредитов `92,79 %`;\n",
        "* кредит на свадьбу – процент возврат кредитов `92,08 %`;\n",
        "\n",
        "Более критичные с точки зрения возврата кредита:\n",
        "* кредит на образование\t – процент возврат кредитов `90,80 %`;\n",
        "* автокредит – процент возврат кредитов `90,66 %`."
      ]
    },
    {
      "cell_type": "markdown",
      "metadata": {
        "id": "xK7HkDGWfI7W"
      },
      "source": [
        "#### Влияние пола клиента на возврат кредита в срок"
      ]
    },
    {
      "cell_type": "markdown",
      "metadata": {
        "id": "YER2dq1ofP5z"
      },
      "source": [
        "Для определения влияния полка клиента на возврат кредита в срок, мы воспользуемся функцией `pivot_repayment_credit` задав на нее наименование столбца `'gender'` для построения сводной таблицы: "
      ]
    },
    {
      "cell_type": "code",
      "metadata": {
        "colab": {
          "base_uri": "https://localhost:8080/",
          "height": 141
        },
        "id": "_2SbQwvGfYvb",
        "outputId": "80e500fa-0352-499a-bd58-0920ea391b6b"
      },
      "source": [
        "pivot_repayment_credit('gender') # вызываем функцию pivot_repayment_credit с аргументом 'gender'"
      ],
      "execution_count": null,
      "outputs": [
        {
          "output_type": "execute_result",
          "data": {
            "text/html": [
              "<div>\n",
              "<style scoped>\n",
              "    .dataframe tbody tr th:only-of-type {\n",
              "        vertical-align: middle;\n",
              "    }\n",
              "\n",
              "    .dataframe tbody tr th {\n",
              "        vertical-align: top;\n",
              "    }\n",
              "\n",
              "    .dataframe thead th {\n",
              "        text-align: right;\n",
              "    }\n",
              "</style>\n",
              "<table border=\"1\" class=\"dataframe\">\n",
              "  <thead>\n",
              "    <tr style=\"text-align: right;\">\n",
              "      <th>debt_group</th>\n",
              "      <th>didnt_returned_on_time</th>\n",
              "      <th>returned_on_time</th>\n",
              "      <th>repayment_credit</th>\n",
              "    </tr>\n",
              "    <tr>\n",
              "      <th>gender</th>\n",
              "      <th></th>\n",
              "      <th></th>\n",
              "      <th></th>\n",
              "    </tr>\n",
              "  </thead>\n",
              "  <tbody>\n",
              "    <tr>\n",
              "      <th>F</th>\n",
              "      <td>994.0</td>\n",
              "      <td>13242.0</td>\n",
              "      <td>93.02</td>\n",
              "    </tr>\n",
              "    <tr>\n",
              "      <th>M</th>\n",
              "      <td>747.0</td>\n",
              "      <td>6542.0</td>\n",
              "      <td>89.75</td>\n",
              "    </tr>\n",
              "  </tbody>\n",
              "</table>\n",
              "</div>"
            ],
            "text/plain": [
              "debt_group  didnt_returned_on_time  returned_on_time  repayment_credit\n",
              "gender                                                                \n",
              "F                            994.0           13242.0             93.02\n",
              "M                            747.0            6542.0             89.75"
            ]
          },
          "metadata": {},
          "execution_count": 79
        }
      ]
    },
    {
      "cell_type": "markdown",
      "metadata": {
        "id": "vBNxECrnfis7"
      },
      "source": [
        "**Вывод**"
      ]
    },
    {
      "cell_type": "markdown",
      "metadata": {
        "id": "N_Wt0YHdflho"
      },
      "source": [
        "Клиенты женщины возвращают кредит чаще, чем клиенты мужчины. `93,02 %` возвратов срок против `89,75 %` соответственно."
      ]
    },
    {
      "cell_type": "markdown",
      "metadata": {
        "id": "OXXtgIOTi7qm"
      },
      "source": [
        "#### Влияние возраста клиента на возврат кредита в срок"
      ]
    },
    {
      "cell_type": "markdown",
      "metadata": {
        "id": "yPe4fNsPi99A"
      },
      "source": [
        "Для определения влияния полка клиента на возврат кредита в срок, мы воспользуемся функцией `pivot_repayment_credit` задав на нее наименование столбца `'dob_years_group'` для построения сводной таблицы: \n"
      ]
    },
    {
      "cell_type": "code",
      "metadata": {
        "colab": {
          "base_uri": "https://localhost:8080/",
          "height": 263
        },
        "id": "EuLPCRuIjDzT",
        "outputId": "089948f3-e166-4724-a972-3205d54335f4"
      },
      "source": [
        "pivot_repayment_credit('dob_years_group') # вызываем функцию pivot_repayment_credit с аргументом 'dob_years_group'"
      ],
      "execution_count": null,
      "outputs": [
        {
          "output_type": "execute_result",
          "data": {
            "text/html": [
              "<div>\n",
              "<style scoped>\n",
              "    .dataframe tbody tr th:only-of-type {\n",
              "        vertical-align: middle;\n",
              "    }\n",
              "\n",
              "    .dataframe tbody tr th {\n",
              "        vertical-align: top;\n",
              "    }\n",
              "\n",
              "    .dataframe thead th {\n",
              "        text-align: right;\n",
              "    }\n",
              "</style>\n",
              "<table border=\"1\" class=\"dataframe\">\n",
              "  <thead>\n",
              "    <tr style=\"text-align: right;\">\n",
              "      <th>debt_group</th>\n",
              "      <th>didnt_returned_on_time</th>\n",
              "      <th>returned_on_time</th>\n",
              "      <th>repayment_credit</th>\n",
              "    </tr>\n",
              "    <tr>\n",
              "      <th>dob_years_group</th>\n",
              "      <th></th>\n",
              "      <th></th>\n",
              "      <th></th>\n",
              "    </tr>\n",
              "  </thead>\n",
              "  <tbody>\n",
              "    <tr>\n",
              "      <th>свыше 57 лет</th>\n",
              "      <td>177</td>\n",
              "      <td>3245</td>\n",
              "      <td>94.83</td>\n",
              "    </tr>\n",
              "    <tr>\n",
              "      <th>от 50 до 57 лет</th>\n",
              "      <td>204</td>\n",
              "      <td>3056</td>\n",
              "      <td>93.74</td>\n",
              "    </tr>\n",
              "    <tr>\n",
              "      <th>от 42 до 50 лет</th>\n",
              "      <td>312</td>\n",
              "      <td>3760</td>\n",
              "      <td>92.34</td>\n",
              "    </tr>\n",
              "    <tr>\n",
              "      <th>от 37 до 42 лет</th>\n",
              "      <td>255</td>\n",
              "      <td>2830</td>\n",
              "      <td>91.73</td>\n",
              "    </tr>\n",
              "    <tr>\n",
              "      <th>от 30 до 37 лет</th>\n",
              "      <td>390</td>\n",
              "      <td>3573</td>\n",
              "      <td>90.16</td>\n",
              "    </tr>\n",
              "    <tr>\n",
              "      <th>до 30 лет</th>\n",
              "      <td>403</td>\n",
              "      <td>3320</td>\n",
              "      <td>89.18</td>\n",
              "    </tr>\n",
              "  </tbody>\n",
              "</table>\n",
              "</div>"
            ],
            "text/plain": [
              "debt_group       didnt_returned_on_time  returned_on_time  repayment_credit\n",
              "dob_years_group                                                            \n",
              "свыше 57 лет                        177              3245             94.83\n",
              "от 50 до 57 лет                     204              3056             93.74\n",
              "от 42 до 50 лет                     312              3760             92.34\n",
              "от 37 до 42 лет                     255              2830             91.73\n",
              "от 30 до 37 лет                     390              3573             90.16\n",
              "до 30 лет                           403              3320             89.18"
            ]
          },
          "metadata": {},
          "execution_count": 80
        }
      ]
    },
    {
      "cell_type": "markdown",
      "metadata": {
        "id": "FkakYH4BjXMI"
      },
      "source": [
        "Вывод"
      ]
    },
    {
      "cell_type": "markdown",
      "metadata": {
        "id": "skO3wZd3jY2d"
      },
      "source": [
        "Чем старше клиент, тем больше вероятность возврата его кредита в срок."
      ]
    },
    {
      "cell_type": "markdown",
      "metadata": {
        "id": "S8DaX66mj2pt"
      },
      "source": [
        "#### Влияние уровня образования клиента на возврат кредита в срок"
      ]
    },
    {
      "cell_type": "markdown",
      "metadata": {
        "id": "ORneiVZDj5cl"
      },
      "source": [
        "Для определения влияния полка клиента на возврат кредита в срок, мы воспользуемся функцией `pivot_repayment_credit` задав на нее наименование столбца `'education'` для построения сводной таблицы: "
      ]
    },
    {
      "cell_type": "code",
      "metadata": {
        "colab": {
          "base_uri": "https://localhost:8080/",
          "height": 232
        },
        "id": "mPIVLJzUkAZH",
        "outputId": "12ef4dca-8046-4db1-9dbb-616c11c0ae28"
      },
      "source": [
        "pivot_repayment_credit('education') # вызываем функцию pivot_repayment_credit с аргументом 'education'"
      ],
      "execution_count": null,
      "outputs": [
        {
          "output_type": "execute_result",
          "data": {
            "text/html": [
              "<div>\n",
              "<style scoped>\n",
              "    .dataframe tbody tr th:only-of-type {\n",
              "        vertical-align: middle;\n",
              "    }\n",
              "\n",
              "    .dataframe tbody tr th {\n",
              "        vertical-align: top;\n",
              "    }\n",
              "\n",
              "    .dataframe thead th {\n",
              "        text-align: right;\n",
              "    }\n",
              "</style>\n",
              "<table border=\"1\" class=\"dataframe\">\n",
              "  <thead>\n",
              "    <tr style=\"text-align: right;\">\n",
              "      <th>debt_group</th>\n",
              "      <th>didnt_returned_on_time</th>\n",
              "      <th>returned_on_time</th>\n",
              "      <th>repayment_credit</th>\n",
              "    </tr>\n",
              "    <tr>\n",
              "      <th>education</th>\n",
              "      <th></th>\n",
              "      <th></th>\n",
              "      <th></th>\n",
              "    </tr>\n",
              "  </thead>\n",
              "  <tbody>\n",
              "    <tr>\n",
              "      <th>ученая степень</th>\n",
              "      <td>0.0</td>\n",
              "      <td>6.0</td>\n",
              "      <td>100.00</td>\n",
              "    </tr>\n",
              "    <tr>\n",
              "      <th>высшее</th>\n",
              "      <td>278.0</td>\n",
              "      <td>4982.0</td>\n",
              "      <td>94.71</td>\n",
              "    </tr>\n",
              "    <tr>\n",
              "      <th>среднее</th>\n",
              "      <td>1364.0</td>\n",
              "      <td>13869.0</td>\n",
              "      <td>91.05</td>\n",
              "    </tr>\n",
              "    <tr>\n",
              "      <th>неоконченное высшее</th>\n",
              "      <td>68.0</td>\n",
              "      <td>676.0</td>\n",
              "      <td>90.86</td>\n",
              "    </tr>\n",
              "    <tr>\n",
              "      <th>начальное</th>\n",
              "      <td>31.0</td>\n",
              "      <td>251.0</td>\n",
              "      <td>89.01</td>\n",
              "    </tr>\n",
              "  </tbody>\n",
              "</table>\n",
              "</div>"
            ],
            "text/plain": [
              "debt_group           didnt_returned_on_time  returned_on_time  repayment_credit\n",
              "education                                                                      \n",
              "ученая степень                          0.0               6.0            100.00\n",
              "высшее                                278.0            4982.0             94.71\n",
              "среднее                              1364.0           13869.0             91.05\n",
              "неоконченное высшее                    68.0             676.0             90.86\n",
              "начальное                              31.0             251.0             89.01"
            ]
          },
          "metadata": {},
          "execution_count": 81
        }
      ]
    },
    {
      "cell_type": "markdown",
      "metadata": {
        "id": "Glv7vfrjkLvt"
      },
      "source": [
        "Вывод"
      ]
    },
    {
      "cell_type": "markdown",
      "metadata": {
        "id": "zddW-14tsE6i"
      },
      "source": [
        "Чем выше уровень образования, тем больше вероятность, что клиент вернет кредит в срок."
      ]
    },
    {
      "cell_type": "markdown",
      "metadata": {
        "id": "1r-sg_iItVMM"
      },
      "source": [
        "#### Влияние категории занятости клиента на возврат кредита в срок"
      ]
    },
    {
      "cell_type": "markdown",
      "metadata": {
        "id": "Y_3hdpY3tapk"
      },
      "source": [
        "Для определения влияния полка клиента на возврат кредита в срок, мы воспользуемся функцией `pivot_repayment_credit` задав на нее наименование столбца `'income_type'` для построения сводной таблицы: "
      ]
    },
    {
      "cell_type": "code",
      "metadata": {
        "colab": {
          "base_uri": "https://localhost:8080/",
          "height": 324
        },
        "id": "hQlNKvQHtexx",
        "outputId": "19ce4b79-f644-4136-a7f3-522e801e0406"
      },
      "source": [
        "pivot_repayment_credit('income_type') # вызываем функцию pivot_repayment_credit с аргументом 'income_type'"
      ],
      "execution_count": null,
      "outputs": [
        {
          "output_type": "execute_result",
          "data": {
            "text/html": [
              "<div>\n",
              "<style scoped>\n",
              "    .dataframe tbody tr th:only-of-type {\n",
              "        vertical-align: middle;\n",
              "    }\n",
              "\n",
              "    .dataframe tbody tr th {\n",
              "        vertical-align: top;\n",
              "    }\n",
              "\n",
              "    .dataframe thead th {\n",
              "        text-align: right;\n",
              "    }\n",
              "</style>\n",
              "<table border=\"1\" class=\"dataframe\">\n",
              "  <thead>\n",
              "    <tr style=\"text-align: right;\">\n",
              "      <th>debt_group</th>\n",
              "      <th>didnt_returned_on_time</th>\n",
              "      <th>returned_on_time</th>\n",
              "      <th>repayment_credit</th>\n",
              "    </tr>\n",
              "    <tr>\n",
              "      <th>income_type</th>\n",
              "      <th></th>\n",
              "      <th></th>\n",
              "      <th></th>\n",
              "    </tr>\n",
              "  </thead>\n",
              "  <tbody>\n",
              "    <tr>\n",
              "      <th>предприниматель</th>\n",
              "      <td>0.0</td>\n",
              "      <td>2.0</td>\n",
              "      <td>100.00</td>\n",
              "    </tr>\n",
              "    <tr>\n",
              "      <th>студент</th>\n",
              "      <td>0.0</td>\n",
              "      <td>1.0</td>\n",
              "      <td>100.00</td>\n",
              "    </tr>\n",
              "    <tr>\n",
              "      <th>пенсионер</th>\n",
              "      <td>216.0</td>\n",
              "      <td>3640.0</td>\n",
              "      <td>94.40</td>\n",
              "    </tr>\n",
              "    <tr>\n",
              "      <th>госслужащий</th>\n",
              "      <td>86.0</td>\n",
              "      <td>1373.0</td>\n",
              "      <td>94.11</td>\n",
              "    </tr>\n",
              "    <tr>\n",
              "      <th>компаньон</th>\n",
              "      <td>376.0</td>\n",
              "      <td>4709.0</td>\n",
              "      <td>92.61</td>\n",
              "    </tr>\n",
              "    <tr>\n",
              "      <th>сотрудник</th>\n",
              "      <td>1061.0</td>\n",
              "      <td>10058.0</td>\n",
              "      <td>90.46</td>\n",
              "    </tr>\n",
              "    <tr>\n",
              "      <th>безработный</th>\n",
              "      <td>1.0</td>\n",
              "      <td>1.0</td>\n",
              "      <td>50.00</td>\n",
              "    </tr>\n",
              "    <tr>\n",
              "      <th>в декрете</th>\n",
              "      <td>1.0</td>\n",
              "      <td>0.0</td>\n",
              "      <td>0.00</td>\n",
              "    </tr>\n",
              "  </tbody>\n",
              "</table>\n",
              "</div>"
            ],
            "text/plain": [
              "debt_group       didnt_returned_on_time  returned_on_time  repayment_credit\n",
              "income_type                                                                \n",
              "предприниматель                     0.0               2.0            100.00\n",
              "студент                             0.0               1.0            100.00\n",
              "пенсионер                         216.0            3640.0             94.40\n",
              "госслужащий                        86.0            1373.0             94.11\n",
              "компаньон                         376.0            4709.0             92.61\n",
              "сотрудник                        1061.0           10058.0             90.46\n",
              "безработный                         1.0               1.0             50.00\n",
              "в декрете                           1.0               0.0              0.00"
            ]
          },
          "metadata": {},
          "execution_count": 83
        }
      ]
    },
    {
      "cell_type": "markdown",
      "metadata": {
        "id": "jNVAOjrQtiyw"
      },
      "source": [
        "Вывод"
      ]
    },
    {
      "cell_type": "markdown",
      "metadata": {
        "id": "cglf3ls9ton0"
      },
      "source": [
        "Категории `предприиматель`, `студент`, `безработный` и в `декрете` ввиду малого количества клиентов мы рассматривать не можем.  \n",
        "Оставшиеся категории, наиболее низкий риск по возврату кредита у категорий `пенсионер` и `госслужащий`."
      ]
    },
    {
      "cell_type": "markdown",
      "metadata": {
        "id": "RG_au7j9vEkX"
      },
      "source": [
        "## Итоги исследования"
      ]
    },
    {
      "cell_type": "markdown",
      "metadata": {
        "id": "BkVaROpJNHYE"
      },
      "source": [
        "В ходе исследования были получены ответы на вопросы:\n",
        "\n",
        "* Клиенты, не имеющие детей возвращают кредит в срок (`92,49 %`), чаще, чем клиенты с детьми (возврат срок менее `90,85 %`).\n",
        "* Клиенты, вдовцы (`93,44 %`), в разводе (`92,89 %`), а также женатые (`92,48 %`), возвращают кредит чаще, чем клиенты находящиеся в гражданском браке, не женатые клиенты (менее `90,71 %`).\n",
        "* Клиенты, имеющие доход свыше 230 тыс. возвращают кредит в срок (`93,09 %`), чаще чем остальные клиенты (менее `91,98 %`).\n",
        "* Клиенты, берущие кредит на жилищные нужды (`92,77 %`), возвращают его чаще, чем по остальных категориям кредитов (менее `91,99 %`).\n",
        "* Клиенты женщины возвращают кредиты чаще (`93,02 %`), чем клиенты мужчины (`89,75 %`).\n",
        "* Клиенты за 50 лет возвращают кредиты (более `93,72 %`), чаще, чем клиенты кому меньше 50 лет (менее `92,31 %`).\n",
        "* Клиенты с высшим образование возвращают кредиты чаще (`94,71 %`), чем без образование или со средним (менее `91,05 %`).\n",
        "* Клиенты пенсионеры и госслужащие возвращают (`94,40 %`) кредиты чаще других категорий (менее `90,46 %`).\n",
        "\n",
        "Таким образом можно составить портрет наиболее привлекательного, с точки зрения возврата кредита, клиента:\n",
        "* Женщина за 50 лет, не имеющая детей, в разводе или вдова, с доходом свыше 230 тыс., которая взяла кредит на жилищные нужды, с высшим образованием, пенсионерка или госслужащая. У таких клиентов возврат кредитов в срок не менее `92,48 %`.\n",
        "\n",
        "Клиент наименее привлекательный, с точки зрения возврата кредита:\n",
        "* Мужчина до 30 лет, находящийся в гражданском брак или не женат, имеющий средний доход, с целью получения автокредита или кредита на образование, получивший образование ниже среднего, являющийся сотрудником. При этом, возврат кредита в срок не менее `89,75 %`.\n",
        "\n"
      ]
    }
  ]
}