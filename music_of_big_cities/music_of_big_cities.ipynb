{
  "nbformat": 4,
  "nbformat_minor": 0,
  "metadata": {
    "ExecuteTimeLog": [
      {
        "duration": 688,
        "start_time": "2021-11-14T09:56:25.665Z"
      },
      {
        "duration": 4,
        "start_time": "2021-11-14T09:56:29.375Z"
      },
      {
        "duration": 3,
        "start_time": "2021-11-14T09:56:30.381Z"
      },
      {
        "duration": 3,
        "start_time": "2021-11-14T09:56:34.977Z"
      },
      {
        "duration": 826,
        "start_time": "2021-11-14T09:56:49.636Z"
      },
      {
        "duration": 381,
        "start_time": "2021-11-14T09:57:35.840Z"
      },
      {
        "duration": 202,
        "start_time": "2021-11-14T09:57:51.294Z"
      },
      {
        "duration": 21,
        "start_time": "2021-11-14T09:58:08.474Z"
      },
      {
        "duration": 358,
        "start_time": "2021-11-14T12:42:54.398Z"
      },
      {
        "duration": 294,
        "start_time": "2021-11-14T12:43:06.775Z"
      },
      {
        "duration": 287,
        "start_time": "2021-11-14T12:43:14.269Z"
      },
      {
        "duration": 747,
        "start_time": "2021-11-14T12:43:20.458Z"
      },
      {
        "duration": 190,
        "start_time": "2021-11-14T12:43:21.208Z"
      },
      {
        "duration": 12,
        "start_time": "2021-11-14T12:43:21.400Z"
      },
      {
        "duration": 32,
        "start_time": "2021-11-14T12:43:25.945Z"
      },
      {
        "duration": 14,
        "start_time": "2021-11-14T12:49:38.826Z"
      },
      {
        "duration": 322,
        "start_time": "2021-11-14T12:49:47.915Z"
      },
      {
        "duration": 6,
        "start_time": "2021-11-14T12:49:51.843Z"
      },
      {
        "duration": 5,
        "start_time": "2021-11-14T12:49:56.947Z"
      },
      {
        "duration": 6,
        "start_time": "2021-11-14T12:50:00.323Z"
      },
      {
        "duration": 4,
        "start_time": "2021-11-14T12:50:17.483Z"
      },
      {
        "duration": 317,
        "start_time": "2021-11-14T12:55:51.573Z"
      },
      {
        "duration": 44,
        "start_time": "2021-11-14T12:55:59.031Z"
      },
      {
        "duration": 6,
        "start_time": "2021-11-14T12:56:53.399Z"
      },
      {
        "duration": 12,
        "start_time": "2021-11-14T12:57:38.934Z"
      },
      {
        "duration": 37,
        "start_time": "2021-11-14T12:57:44.720Z"
      },
      {
        "duration": 33,
        "start_time": "2021-11-14T12:57:52.496Z"
      },
      {
        "duration": -30956,
        "start_time": "2021-11-14T13:02:30.832Z"
      },
      {
        "duration": 32,
        "start_time": "2021-11-14T13:02:02.027Z"
      },
      {
        "duration": 7854,
        "start_time": "2021-11-14T13:02:21.115Z"
      },
      {
        "duration": -30970,
        "start_time": "2021-11-14T13:02:59.944Z"
      },
      {
        "duration": 7310,
        "start_time": "2021-11-14T13:02:39.716Z"
      },
      {
        "duration": -30967,
        "start_time": "2021-11-14T13:03:17.997Z"
      },
      {
        "duration": -30955,
        "start_time": "2021-11-14T13:03:35.952Z"
      },
      {
        "duration": 34,
        "start_time": "2021-11-14T13:03:31.340Z"
      },
      {
        "duration": 7943,
        "start_time": "2021-11-14T13:03:33.148Z"
      },
      {
        "duration": 39,
        "start_time": "2021-11-14T13:04:16.965Z"
      },
      {
        "duration": 6,
        "start_time": "2021-11-14T13:04:19.156Z"
      },
      {
        "duration": 21,
        "start_time": "2021-11-14T13:05:10.373Z"
      },
      {
        "duration": 24,
        "start_time": "2021-11-14T13:05:13.789Z"
      },
      {
        "duration": 5,
        "start_time": "2021-11-14T13:05:15.877Z"
      },
      {
        "duration": 33,
        "start_time": "2021-11-14T13:05:17.469Z"
      },
      {
        "duration": 31,
        "start_time": "2021-11-14T13:05:21.157Z"
      },
      {
        "duration": 23,
        "start_time": "2021-11-14T13:05:28.901Z"
      },
      {
        "duration": 31,
        "start_time": "2021-11-14T13:05:30.341Z"
      },
      {
        "duration": 93,
        "start_time": "2021-11-14T13:06:05.669Z"
      },
      {
        "duration": 109,
        "start_time": "2021-11-14T13:07:06.566Z"
      },
      {
        "duration": 88,
        "start_time": "2021-11-14T13:07:19.813Z"
      },
      {
        "duration": 106,
        "start_time": "2021-11-14T13:07:22.952Z"
      },
      {
        "duration": 84,
        "start_time": "2021-11-14T13:07:24.358Z"
      },
      {
        "duration": 10,
        "start_time": "2021-11-14T13:09:26.447Z"
      },
      {
        "duration": 377,
        "start_time": "2021-11-14T13:09:37.385Z"
      },
      {
        "duration": 296,
        "start_time": "2021-11-14T13:09:39.607Z"
      },
      {
        "duration": 15,
        "start_time": "2021-11-14T13:11:33.544Z"
      },
      {
        "duration": 14,
        "start_time": "2021-11-14T13:11:49.033Z"
      },
      {
        "duration": 27,
        "start_time": "2021-11-14T13:11:57.450Z"
      },
      {
        "duration": 15,
        "start_time": "2021-11-14T13:23:46.735Z"
      },
      {
        "duration": 11,
        "start_time": "2021-11-14T13:24:10.354Z"
      },
      {
        "duration": 15,
        "start_time": "2021-11-14T13:24:24.618Z"
      },
      {
        "duration": 16,
        "start_time": "2021-11-14T13:24:37.026Z"
      },
      {
        "duration": 17,
        "start_time": "2021-11-14T13:24:37.849Z"
      },
      {
        "duration": 22,
        "start_time": "2021-11-14T13:27:16.531Z"
      },
      {
        "duration": 17,
        "start_time": "2021-11-14T13:27:17.379Z"
      },
      {
        "duration": 15,
        "start_time": "2021-11-14T13:27:56.524Z"
      },
      {
        "duration": 5,
        "start_time": "2021-11-14T13:27:58.060Z"
      },
      {
        "duration": 21,
        "start_time": "2021-11-14T13:27:59.155Z"
      },
      {
        "duration": 15,
        "start_time": "2021-11-14T13:28:00.162Z"
      },
      {
        "duration": 103,
        "start_time": "2021-11-14T13:39:14.228Z"
      },
      {
        "duration": 15,
        "start_time": "2021-11-14T13:39:16.355Z"
      },
      {
        "duration": 17,
        "start_time": "2021-11-14T13:40:59.475Z"
      },
      {
        "duration": 23,
        "start_time": "2021-11-14T13:41:13.108Z"
      },
      {
        "duration": 102,
        "start_time": "2021-11-14T13:51:54.453Z"
      },
      {
        "duration": 322,
        "start_time": "2021-11-14T13:52:09.371Z"
      },
      {
        "duration": 28,
        "start_time": "2021-11-14T13:52:29.499Z"
      },
      {
        "duration": 7369,
        "start_time": "2021-11-14T13:52:49.556Z"
      },
      {
        "duration": 484,
        "start_time": "2021-11-14T13:54:30.749Z"
      },
      {
        "duration": -30920,
        "start_time": "2021-11-14T13:55:46.694Z"
      },
      {
        "duration": 907,
        "start_time": "2021-11-14T13:55:23.636Z"
      },
      {
        "duration": 275,
        "start_time": "2021-11-14T13:55:36.965Z"
      },
      {
        "duration": 695,
        "start_time": "2021-11-14T13:55:45.524Z"
      },
      {
        "duration": 286,
        "start_time": "2021-11-14T13:55:53.006Z"
      },
      {
        "duration": 348,
        "start_time": "2021-11-14T13:56:53.102Z"
      },
      {
        "duration": -30916,
        "start_time": "2021-11-14T13:58:02.331Z"
      },
      {
        "duration": 7440,
        "start_time": "2021-11-14T13:57:39.719Z"
      },
      {
        "duration": 22,
        "start_time": "2021-11-14T13:58:04.048Z"
      },
      {
        "duration": 28,
        "start_time": "2021-11-14T13:58:19.775Z"
      },
      {
        "duration": 330,
        "start_time": "2021-11-14T13:58:32.877Z"
      },
      {
        "duration": 301,
        "start_time": "2021-11-14T13:58:43.431Z"
      },
      {
        "duration": 39,
        "start_time": "2021-11-14T13:59:12.847Z"
      },
      {
        "duration": 4,
        "start_time": "2021-11-14T13:59:23.040Z"
      },
      {
        "duration": 40,
        "start_time": "2021-11-14T13:59:25.614Z"
      },
      {
        "duration": 304,
        "start_time": "2021-11-14T14:00:56.800Z"
      },
      {
        "duration": 493,
        "start_time": "2021-11-14T14:01:03.056Z"
      },
      {
        "duration": 496,
        "start_time": "2021-11-14T14:01:28.929Z"
      },
      {
        "duration": 7316,
        "start_time": "2021-11-14T14:01:44.930Z"
      },
      {
        "duration": 11,
        "start_time": "2021-11-14T14:02:00.986Z"
      },
      {
        "duration": 30,
        "start_time": "2021-11-14T14:02:12.437Z"
      },
      {
        "duration": 317,
        "start_time": "2021-11-14T14:02:22.313Z"
      },
      {
        "duration": 291,
        "start_time": "2021-11-14T14:02:38.586Z"
      },
      {
        "duration": 294,
        "start_time": "2021-11-14T14:02:41.778Z"
      },
      {
        "duration": 14,
        "start_time": "2021-11-14T14:02:56.329Z"
      },
      {
        "duration": 14,
        "start_time": "2021-11-14T14:03:03.537Z"
      },
      {
        "duration": 10,
        "start_time": "2021-11-14T14:03:04.689Z"
      },
      {
        "duration": 15,
        "start_time": "2021-11-14T14:03:07.913Z"
      },
      {
        "duration": 15,
        "start_time": "2021-11-14T14:04:08.299Z"
      },
      {
        "duration": 16,
        "start_time": "2021-11-14T14:04:14.843Z"
      },
      {
        "duration": 23,
        "start_time": "2021-11-14T14:04:29.386Z"
      },
      {
        "duration": 27,
        "start_time": "2021-11-14T14:04:47.435Z"
      },
      {
        "duration": 29,
        "start_time": "2021-11-14T14:04:56.298Z"
      },
      {
        "duration": 28,
        "start_time": "2021-11-14T14:05:23.124Z"
      },
      {
        "duration": 35,
        "start_time": "2021-11-14T14:05:29.595Z"
      },
      {
        "duration": 30,
        "start_time": "2021-11-14T14:05:56.923Z"
      },
      {
        "duration": 29,
        "start_time": "2021-11-14T14:06:01.556Z"
      },
      {
        "duration": 490,
        "start_time": "2021-11-14T14:07:21.156Z"
      },
      {
        "duration": 489,
        "start_time": "2021-11-14T14:07:35.956Z"
      },
      {
        "duration": 534,
        "start_time": "2021-11-14T14:09:23.182Z"
      },
      {
        "duration": 932,
        "start_time": "2021-11-14T14:10:28.007Z"
      },
      {
        "duration": 40,
        "start_time": "2021-11-14T14:11:08.183Z"
      },
      {
        "duration": 44,
        "start_time": "2021-11-14T14:12:00.535Z"
      },
      {
        "duration": 59,
        "start_time": "2021-11-14T14:12:06.754Z"
      },
      {
        "duration": 41,
        "start_time": "2021-11-14T14:12:33.904Z"
      },
      {
        "duration": 2295,
        "start_time": "2021-11-14T14:13:38.088Z"
      },
      {
        "duration": 49,
        "start_time": "2021-11-14T14:13:47.361Z"
      },
      {
        "duration": 5,
        "start_time": "2021-11-14T14:15:05.793Z"
      },
      {
        "duration": 6,
        "start_time": "2021-11-14T14:16:05.543Z"
      },
      {
        "duration": 38,
        "start_time": "2021-11-14T14:16:06.433Z"
      },
      {
        "duration": 30,
        "start_time": "2021-11-14T14:16:07.249Z"
      },
      {
        "duration": 37,
        "start_time": "2021-11-14T14:16:07.857Z"
      },
      {
        "duration": 28,
        "start_time": "2021-11-14T14:16:08.377Z"
      },
      {
        "duration": 26,
        "start_time": "2021-11-14T14:16:08.929Z"
      },
      {
        "duration": 28,
        "start_time": "2021-11-14T14:16:09.417Z"
      },
      {
        "duration": 15,
        "start_time": "2021-11-14T14:19:21.260Z"
      },
      {
        "duration": 160,
        "start_time": "2021-11-14T14:20:05.173Z"
      },
      {
        "duration": 5,
        "start_time": "2021-11-14T14:21:44.603Z"
      },
      {
        "duration": 38,
        "start_time": "2021-11-14T14:21:45.213Z"
      },
      {
        "duration": 30,
        "start_time": "2021-11-14T14:21:45.557Z"
      },
      {
        "duration": 36,
        "start_time": "2021-11-14T14:21:47.141Z"
      },
      {
        "duration": 25,
        "start_time": "2021-11-14T14:21:47.476Z"
      },
      {
        "duration": 23,
        "start_time": "2021-11-14T14:21:47.806Z"
      },
      {
        "duration": 25,
        "start_time": "2021-11-14T14:21:48.309Z"
      },
      {
        "duration": 12,
        "start_time": "2021-11-14T14:22:38.771Z"
      },
      {
        "duration": 39,
        "start_time": "2021-11-14T14:27:31.974Z"
      },
      {
        "duration": 28,
        "start_time": "2021-11-14T14:27:32.457Z"
      },
      {
        "duration": 37,
        "start_time": "2021-11-14T14:27:32.921Z"
      },
      {
        "duration": 28,
        "start_time": "2021-11-14T14:27:33.376Z"
      },
      {
        "duration": 24,
        "start_time": "2021-11-14T14:27:33.809Z"
      },
      {
        "duration": 24,
        "start_time": "2021-11-14T14:27:34.264Z"
      },
      {
        "duration": 15,
        "start_time": "2021-11-14T14:27:35.198Z"
      },
      {
        "duration": 95,
        "start_time": "2021-11-14T16:56:03.620Z"
      },
      {
        "duration": 102,
        "start_time": "2021-11-14T16:56:09.870Z"
      },
      {
        "duration": 119,
        "start_time": "2021-11-14T16:56:22.047Z"
      },
      {
        "duration": 90,
        "start_time": "2021-11-14T16:56:32.590Z"
      },
      {
        "duration": 326,
        "start_time": "2021-11-14T16:56:36.663Z"
      },
      {
        "duration": 664,
        "start_time": "2021-11-14T16:56:57.787Z"
      },
      {
        "duration": 133,
        "start_time": "2021-11-14T16:56:58.453Z"
      },
      {
        "duration": 8,
        "start_time": "2021-11-14T16:56:58.588Z"
      },
      {
        "duration": 24,
        "start_time": "2021-11-14T16:56:58.598Z"
      },
      {
        "duration": 21,
        "start_time": "2021-11-14T16:56:58.624Z"
      },
      {
        "duration": 22,
        "start_time": "2021-11-14T16:56:58.647Z"
      },
      {
        "duration": 4,
        "start_time": "2021-11-14T16:56:58.671Z"
      },
      {
        "duration": 31,
        "start_time": "2021-11-14T16:56:58.677Z"
      },
      {
        "duration": 17,
        "start_time": "2021-11-14T16:56:58.711Z"
      },
      {
        "duration": 31,
        "start_time": "2021-11-14T16:56:58.731Z"
      },
      {
        "duration": 62,
        "start_time": "2021-11-14T16:56:58.764Z"
      },
      {
        "duration": 80,
        "start_time": "2021-11-14T16:56:58.827Z"
      },
      {
        "duration": 62,
        "start_time": "2021-11-14T16:56:58.909Z"
      },
      {
        "duration": 9,
        "start_time": "2021-11-14T16:56:58.973Z"
      },
      {
        "duration": 6,
        "start_time": "2021-11-14T16:56:58.983Z"
      },
      {
        "duration": 22,
        "start_time": "2021-11-14T16:56:58.990Z"
      },
      {
        "duration": 12,
        "start_time": "2021-11-14T16:56:59.014Z"
      },
      {
        "duration": 24,
        "start_time": "2021-11-14T16:56:59.027Z"
      },
      {
        "duration": 10,
        "start_time": "2021-11-14T16:56:59.052Z"
      },
      {
        "duration": 10,
        "start_time": "2021-11-14T16:56:59.063Z"
      },
      {
        "duration": 35,
        "start_time": "2021-11-14T16:56:59.075Z"
      },
      {
        "duration": 33,
        "start_time": "2021-11-14T16:56:59.111Z"
      },
      {
        "duration": 26,
        "start_time": "2021-11-14T16:56:59.146Z"
      },
      {
        "duration": 17,
        "start_time": "2021-11-14T16:56:59.173Z"
      },
      {
        "duration": 17,
        "start_time": "2021-11-14T16:56:59.191Z"
      },
      {
        "duration": 38,
        "start_time": "2021-11-14T16:56:59.210Z"
      },
      {
        "duration": 9,
        "start_time": "2021-11-14T16:56:59.250Z"
      },
      {
        "duration": 10,
        "start_time": "2021-11-14T16:57:02.225Z"
      },
      {
        "duration": 12,
        "start_time": "2021-11-14T16:57:06.422Z"
      },
      {
        "duration": 22,
        "start_time": "2021-11-14T16:57:16.356Z"
      },
      {
        "duration": 18,
        "start_time": "2021-11-14T16:58:33.993Z"
      },
      {
        "duration": 11,
        "start_time": "2021-11-14T16:59:57.337Z"
      },
      {
        "duration": 11,
        "start_time": "2021-11-14T17:00:01.708Z"
      },
      {
        "duration": 93,
        "start_time": "2021-11-14T17:07:36.967Z"
      },
      {
        "duration": 93,
        "start_time": "2021-11-14T17:07:47.445Z"
      },
      {
        "duration": 95,
        "start_time": "2021-11-14T17:08:20.925Z"
      },
      {
        "duration": 581,
        "start_time": "2021-11-14T17:08:41.254Z"
      },
      {
        "duration": 24,
        "start_time": "2021-11-14T17:08:51.106Z"
      },
      {
        "duration": 24,
        "start_time": "2021-11-14T17:08:57.452Z"
      },
      {
        "duration": 22,
        "start_time": "2021-11-14T17:10:28.909Z"
      },
      {
        "duration": 25,
        "start_time": "2021-11-14T17:10:33.800Z"
      },
      {
        "duration": 24,
        "start_time": "2021-11-14T17:10:45.765Z"
      },
      {
        "duration": 35,
        "start_time": "2021-11-14T17:10:54.639Z"
      },
      {
        "duration": 4,
        "start_time": "2021-11-14T17:12:07.664Z"
      },
      {
        "duration": 23,
        "start_time": "2021-11-14T17:13:27.837Z"
      },
      {
        "duration": 23,
        "start_time": "2021-11-14T17:13:28.913Z"
      },
      {
        "duration": 28,
        "start_time": "2021-11-14T17:13:40.359Z"
      },
      {
        "duration": 18,
        "start_time": "2021-11-14T17:13:41.352Z"
      },
      {
        "duration": 4,
        "start_time": "2021-11-14T17:16:02.718Z"
      },
      {
        "duration": 22,
        "start_time": "2021-11-14T17:16:03.712Z"
      },
      {
        "duration": 22,
        "start_time": "2021-11-14T17:16:04.267Z"
      },
      {
        "duration": 23,
        "start_time": "2021-11-14T17:17:12.970Z"
      },
      {
        "duration": 20,
        "start_time": "2021-11-14T17:17:13.204Z"
      },
      {
        "duration": 20,
        "start_time": "2021-11-14T17:17:13.786Z"
      },
      {
        "duration": 9,
        "start_time": "2021-11-14T17:18:26.230Z"
      },
      {
        "duration": 436,
        "start_time": "2021-11-14T17:18:36.498Z"
      },
      {
        "duration": 19,
        "start_time": "2021-11-14T17:18:37.629Z"
      },
      {
        "duration": 20,
        "start_time": "2021-11-14T17:18:38.417Z"
      },
      {
        "duration": 18,
        "start_time": "2021-11-14T17:18:39.253Z"
      },
      {
        "duration": 17,
        "start_time": "2021-11-14T17:18:40.596Z"
      },
      {
        "duration": 4,
        "start_time": "2021-11-14T17:18:50.615Z"
      },
      {
        "duration": 22,
        "start_time": "2021-11-14T17:19:06.102Z"
      },
      {
        "duration": 4,
        "start_time": "2021-11-14T17:19:10.471Z"
      },
      {
        "duration": 21,
        "start_time": "2021-11-14T17:19:12.092Z"
      },
      {
        "duration": 20,
        "start_time": "2021-11-14T17:19:13.520Z"
      },
      {
        "duration": 20,
        "start_time": "2021-11-14T17:19:51.892Z"
      },
      {
        "duration": 19,
        "start_time": "2021-11-14T17:20:08.564Z"
      },
      {
        "duration": 4,
        "start_time": "2021-11-14T17:20:22.633Z"
      },
      {
        "duration": 551,
        "start_time": "2021-11-14T17:20:24.694Z"
      },
      {
        "duration": 557,
        "start_time": "2021-11-14T17:20:25.357Z"
      },
      {
        "duration": 4,
        "start_time": "2021-11-14T17:20:38.145Z"
      },
      {
        "duration": 20,
        "start_time": "2021-11-14T17:20:39.056Z"
      },
      {
        "duration": 20,
        "start_time": "2021-11-14T17:20:39.669Z"
      },
      {
        "duration": 18,
        "start_time": "2021-11-14T17:20:41.141Z"
      },
      {
        "duration": 17,
        "start_time": "2021-11-14T17:20:41.685Z"
      },
      {
        "duration": 4,
        "start_time": "2021-11-14T17:21:08.271Z"
      },
      {
        "duration": 20,
        "start_time": "2021-11-14T17:21:09.223Z"
      },
      {
        "duration": 20,
        "start_time": "2021-11-14T17:21:09.719Z"
      },
      {
        "duration": 19,
        "start_time": "2021-11-14T17:21:10.359Z"
      },
      {
        "duration": 19,
        "start_time": "2021-11-14T17:21:10.911Z"
      },
      {
        "duration": 4,
        "start_time": "2021-11-14T17:21:35.673Z"
      },
      {
        "duration": 24,
        "start_time": "2021-11-14T17:21:36.340Z"
      },
      {
        "duration": 24,
        "start_time": "2021-11-14T17:21:37.152Z"
      },
      {
        "duration": 4,
        "start_time": "2021-11-14T17:21:51.125Z"
      },
      {
        "duration": 19,
        "start_time": "2021-11-14T17:21:51.994Z"
      },
      {
        "duration": 18,
        "start_time": "2021-11-14T17:21:52.714Z"
      },
      {
        "duration": 3,
        "start_time": "2021-11-14T17:22:09.265Z"
      },
      {
        "duration": 25,
        "start_time": "2021-11-14T17:22:10.269Z"
      },
      {
        "duration": 32,
        "start_time": "2021-11-14T17:22:10.941Z"
      },
      {
        "duration": 23,
        "start_time": "2021-11-14T17:22:11.913Z"
      },
      {
        "duration": 4,
        "start_time": "2021-11-14T17:22:52.870Z"
      },
      {
        "duration": 25,
        "start_time": "2021-11-14T17:22:53.728Z"
      },
      {
        "duration": 18,
        "start_time": "2021-11-14T17:22:54.360Z"
      },
      {
        "duration": 3,
        "start_time": "2021-11-14T17:24:26.234Z"
      },
      {
        "duration": 17,
        "start_time": "2021-11-14T17:24:27.155Z"
      },
      {
        "duration": 13,
        "start_time": "2021-11-14T17:24:28.815Z"
      },
      {
        "duration": 3,
        "start_time": "2021-11-14T17:24:35.241Z"
      },
      {
        "duration": 19,
        "start_time": "2021-11-14T17:24:35.904Z"
      },
      {
        "duration": 13,
        "start_time": "2021-11-14T17:24:36.453Z"
      },
      {
        "duration": 17,
        "start_time": "2021-11-14T17:24:37.619Z"
      },
      {
        "duration": 12,
        "start_time": "2021-11-14T17:24:38.304Z"
      },
      {
        "duration": 8,
        "start_time": "2021-11-14T17:28:24.161Z"
      },
      {
        "duration": 6,
        "start_time": "2021-11-14T17:28:25.020Z"
      },
      {
        "duration": 304,
        "start_time": "2021-11-14T17:29:55.345Z"
      },
      {
        "duration": 296,
        "start_time": "2021-11-14T17:30:09.060Z"
      },
      {
        "duration": 283,
        "start_time": "2021-11-14T17:30:18.472Z"
      },
      {
        "duration": 8,
        "start_time": "2021-11-14T17:30:24.669Z"
      },
      {
        "duration": 5,
        "start_time": "2021-11-14T17:30:34.746Z"
      },
      {
        "duration": 3,
        "start_time": "2021-11-14T17:32:46.917Z"
      },
      {
        "duration": 164,
        "start_time": "2021-11-14T17:32:46.922Z"
      },
      {
        "duration": 7,
        "start_time": "2021-11-14T17:32:47.088Z"
      },
      {
        "duration": 27,
        "start_time": "2021-11-14T17:32:47.098Z"
      },
      {
        "duration": 5,
        "start_time": "2021-11-14T17:32:47.144Z"
      },
      {
        "duration": 25,
        "start_time": "2021-11-14T17:32:47.151Z"
      },
      {
        "duration": 3,
        "start_time": "2021-11-14T17:32:47.178Z"
      },
      {
        "duration": 25,
        "start_time": "2021-11-14T17:32:47.185Z"
      },
      {
        "duration": 41,
        "start_time": "2021-11-14T17:32:47.212Z"
      },
      {
        "duration": 23,
        "start_time": "2021-11-14T17:32:47.255Z"
      },
      {
        "duration": 86,
        "start_time": "2021-11-14T17:32:47.280Z"
      },
      {
        "duration": 58,
        "start_time": "2021-11-14T17:32:47.367Z"
      },
      {
        "duration": 60,
        "start_time": "2021-11-14T17:32:47.427Z"
      },
      {
        "duration": 9,
        "start_time": "2021-11-14T17:32:47.489Z"
      },
      {
        "duration": 3,
        "start_time": "2021-11-14T17:32:47.500Z"
      },
      {
        "duration": 19,
        "start_time": "2021-11-14T17:32:47.504Z"
      },
      {
        "duration": 26,
        "start_time": "2021-11-14T17:32:47.524Z"
      },
      {
        "duration": 10,
        "start_time": "2021-11-14T17:32:47.552Z"
      },
      {
        "duration": 10,
        "start_time": "2021-11-14T17:32:47.564Z"
      },
      {
        "duration": 4,
        "start_time": "2021-11-14T17:32:47.575Z"
      },
      {
        "duration": 34,
        "start_time": "2021-11-14T17:32:47.580Z"
      },
      {
        "duration": 47,
        "start_time": "2021-11-14T17:32:47.615Z"
      },
      {
        "duration": 25,
        "start_time": "2021-11-14T17:32:47.665Z"
      },
      {
        "duration": 17,
        "start_time": "2021-11-14T17:32:47.693Z"
      },
      {
        "duration": 39,
        "start_time": "2021-11-14T17:32:47.711Z"
      },
      {
        "duration": 17,
        "start_time": "2021-11-14T17:32:47.751Z"
      },
      {
        "duration": 7,
        "start_time": "2021-11-14T17:32:47.770Z"
      },
      {
        "duration": 30,
        "start_time": "2021-11-14T17:32:47.779Z"
      },
      {
        "duration": 35,
        "start_time": "2021-11-14T17:32:47.810Z"
      },
      {
        "duration": 3,
        "start_time": "2021-11-14T17:32:47.847Z"
      },
      {
        "duration": 26,
        "start_time": "2021-11-14T17:32:47.852Z"
      },
      {
        "duration": 11,
        "start_time": "2021-11-14T17:32:47.880Z"
      },
      {
        "duration": 16,
        "start_time": "2021-11-14T17:32:47.893Z"
      },
      {
        "duration": 38,
        "start_time": "2021-11-14T17:32:47.910Z"
      },
      {
        "duration": 9,
        "start_time": "2021-11-14T17:32:47.950Z"
      },
      {
        "duration": 5,
        "start_time": "2021-11-14T17:32:47.961Z"
      },
      {
        "duration": 8,
        "start_time": "2021-11-14T17:32:47.968Z"
      },
      {
        "duration": 5,
        "start_time": "2021-11-14T17:32:47.978Z"
      },
      {
        "duration": 2,
        "start_time": "2021-11-14T17:39:37.840Z"
      },
      {
        "duration": 7,
        "start_time": "2021-11-14T17:40:03.485Z"
      },
      {
        "duration": 22,
        "start_time": "2021-11-14T17:40:24.279Z"
      },
      {
        "duration": 4,
        "start_time": "2021-11-14T17:42:44.640Z"
      },
      {
        "duration": 13,
        "start_time": "2021-11-14T17:43:04.356Z"
      },
      {
        "duration": 4,
        "start_time": "2021-11-14T17:43:21.832Z"
      },
      {
        "duration": 21,
        "start_time": "2021-11-14T17:43:41.265Z"
      },
      {
        "duration": 17,
        "start_time": "2021-11-14T17:45:31.026Z"
      },
      {
        "duration": 22,
        "start_time": "2021-11-14T17:45:33.301Z"
      },
      {
        "duration": 22,
        "start_time": "2021-11-14T17:46:09.950Z"
      },
      {
        "duration": 49,
        "start_time": "2021-11-14T17:46:30.341Z"
      },
      {
        "duration": 15,
        "start_time": "2021-11-14T17:46:53.944Z"
      },
      {
        "duration": 22,
        "start_time": "2021-11-14T17:46:54.846Z"
      },
      {
        "duration": 51,
        "start_time": "2021-11-14T17:46:56.098Z"
      },
      {
        "duration": 3,
        "start_time": "2021-11-14T17:48:09.018Z"
      },
      {
        "duration": 584,
        "start_time": "2021-11-14T17:49:04.008Z"
      },
      {
        "duration": 130,
        "start_time": "2021-11-14T17:49:05.124Z"
      },
      {
        "duration": 7,
        "start_time": "2021-11-14T17:49:06.573Z"
      },
      {
        "duration": 24,
        "start_time": "2021-11-14T17:49:08.066Z"
      },
      {
        "duration": 10,
        "start_time": "2021-11-14T17:49:12.322Z"
      },
      {
        "duration": 20,
        "start_time": "2021-11-14T17:49:13.600Z"
      },
      {
        "duration": 4,
        "start_time": "2021-11-14T17:49:14.688Z"
      },
      {
        "duration": 30,
        "start_time": "2021-11-14T17:49:16.104Z"
      },
      {
        "duration": 17,
        "start_time": "2021-11-14T17:49:20.781Z"
      },
      {
        "duration": 23,
        "start_time": "2021-11-14T17:49:22.628Z"
      },
      {
        "duration": 55,
        "start_time": "2021-11-14T17:49:29.889Z"
      },
      {
        "duration": 60,
        "start_time": "2021-11-14T17:49:50.199Z"
      },
      {
        "duration": 51,
        "start_time": "2021-11-14T17:50:24.881Z"
      },
      {
        "duration": 8,
        "start_time": "2021-11-14T17:51:28.157Z"
      },
      {
        "duration": 3,
        "start_time": "2021-11-14T17:52:34.865Z"
      },
      {
        "duration": 68,
        "start_time": "2021-11-14T17:53:33.612Z"
      },
      {
        "duration": 63,
        "start_time": "2021-11-14T17:53:38.281Z"
      },
      {
        "duration": 10,
        "start_time": "2021-11-14T17:54:11.505Z"
      },
      {
        "duration": 11,
        "start_time": "2021-11-14T17:56:42.359Z"
      },
      {
        "duration": 4,
        "start_time": "2021-11-14T18:04:04.743Z"
      },
      {
        "duration": 26,
        "start_time": "2021-11-14T18:04:05.922Z"
      },
      {
        "duration": 22,
        "start_time": "2021-11-14T18:04:07.581Z"
      },
      {
        "duration": 30,
        "start_time": "2021-11-14T18:04:08.326Z"
      },
      {
        "duration": 17,
        "start_time": "2021-11-14T18:04:08.789Z"
      },
      {
        "duration": 22,
        "start_time": "2021-11-14T18:04:09.347Z"
      },
      {
        "duration": 22,
        "start_time": "2021-11-14T18:04:09.936Z"
      },
      {
        "duration": 9,
        "start_time": "2021-11-14T18:04:12.053Z"
      },
      {
        "duration": 9,
        "start_time": "2021-11-14T18:07:09.349Z"
      },
      {
        "duration": 8,
        "start_time": "2021-11-14T18:08:50.971Z"
      },
      {
        "duration": 11,
        "start_time": "2021-11-14T18:09:22.743Z"
      },
      {
        "duration": 9,
        "start_time": "2021-11-14T18:09:29.671Z"
      },
      {
        "duration": 2,
        "start_time": "2021-11-14T18:14:01.891Z"
      },
      {
        "duration": 407,
        "start_time": "2021-11-14T18:14:16.741Z"
      },
      {
        "duration": 4,
        "start_time": "2021-11-14T18:14:22.886Z"
      },
      {
        "duration": 18,
        "start_time": "2021-11-14T18:14:27.914Z"
      },
      {
        "duration": 13,
        "start_time": "2021-11-14T18:14:49.868Z"
      },
      {
        "duration": 17,
        "start_time": "2021-11-14T18:14:50.478Z"
      },
      {
        "duration": 17,
        "start_time": "2021-11-14T18:14:58.523Z"
      },
      {
        "duration": 12,
        "start_time": "2021-11-14T18:15:08.209Z"
      },
      {
        "duration": 8,
        "start_time": "2021-11-14T18:16:46.089Z"
      },
      {
        "duration": 5,
        "start_time": "2021-11-14T18:17:05.653Z"
      },
      {
        "duration": 6,
        "start_time": "2021-11-14T18:18:11.484Z"
      },
      {
        "duration": 5,
        "start_time": "2021-11-14T18:18:29.981Z"
      },
      {
        "duration": 583,
        "start_time": "2021-11-14T18:20:01.280Z"
      },
      {
        "duration": 142,
        "start_time": "2021-11-14T18:20:01.864Z"
      },
      {
        "duration": 8,
        "start_time": "2021-11-14T18:20:02.008Z"
      },
      {
        "duration": 40,
        "start_time": "2021-11-14T18:20:02.018Z"
      },
      {
        "duration": 19,
        "start_time": "2021-11-14T18:20:02.059Z"
      },
      {
        "duration": 35,
        "start_time": "2021-11-14T18:20:02.079Z"
      },
      {
        "duration": 25,
        "start_time": "2021-11-14T18:20:02.115Z"
      },
      {
        "duration": 59,
        "start_time": "2021-11-14T18:20:02.142Z"
      },
      {
        "duration": 26,
        "start_time": "2021-11-14T18:20:02.204Z"
      },
      {
        "duration": 43,
        "start_time": "2021-11-14T18:20:02.233Z"
      },
      {
        "duration": 60,
        "start_time": "2021-11-14T18:20:02.278Z"
      },
      {
        "duration": 61,
        "start_time": "2021-11-14T18:20:02.339Z"
      },
      {
        "duration": 61,
        "start_time": "2021-11-14T18:20:02.402Z"
      },
      {
        "duration": 9,
        "start_time": "2021-11-14T18:20:02.465Z"
      },
      {
        "duration": 12,
        "start_time": "2021-11-14T18:20:02.476Z"
      },
      {
        "duration": 34,
        "start_time": "2021-11-14T18:20:02.490Z"
      },
      {
        "duration": 16,
        "start_time": "2021-11-14T18:20:02.526Z"
      },
      {
        "duration": 15,
        "start_time": "2021-11-14T18:20:02.544Z"
      },
      {
        "duration": 22,
        "start_time": "2021-11-14T18:20:02.561Z"
      },
      {
        "duration": 38,
        "start_time": "2021-11-14T18:20:02.584Z"
      },
      {
        "duration": 46,
        "start_time": "2021-11-14T18:20:02.623Z"
      },
      {
        "duration": 19,
        "start_time": "2021-11-14T18:20:02.671Z"
      },
      {
        "duration": 24,
        "start_time": "2021-11-14T18:20:02.691Z"
      },
      {
        "duration": 29,
        "start_time": "2021-11-14T18:20:02.717Z"
      },
      {
        "duration": 20,
        "start_time": "2021-11-14T18:20:02.747Z"
      },
      {
        "duration": 17,
        "start_time": "2021-11-14T18:20:02.769Z"
      },
      {
        "duration": 9,
        "start_time": "2021-11-14T18:20:02.789Z"
      },
      {
        "duration": 20,
        "start_time": "2021-11-14T18:20:02.800Z"
      },
      {
        "duration": 13,
        "start_time": "2021-11-14T18:20:02.821Z"
      },
      {
        "duration": 4,
        "start_time": "2021-11-14T18:20:02.844Z"
      },
      {
        "duration": 43,
        "start_time": "2021-11-14T18:20:02.849Z"
      },
      {
        "duration": 12,
        "start_time": "2021-11-14T18:20:02.893Z"
      },
      {
        "duration": 17,
        "start_time": "2021-11-14T18:20:02.907Z"
      },
      {
        "duration": 19,
        "start_time": "2021-11-14T18:20:02.926Z"
      },
      {
        "duration": 10,
        "start_time": "2021-11-14T18:20:02.947Z"
      },
      {
        "duration": 8,
        "start_time": "2021-11-14T18:20:02.959Z"
      },
      {
        "duration": 12,
        "start_time": "2021-11-14T18:20:02.969Z"
      },
      {
        "duration": 12,
        "start_time": "2021-11-14T18:20:02.982Z"
      }
    ],
    "colab": {
      "name": "project_1_music_of_big_cities.ipynb",
      "provenance": [],
      "collapsed_sections": [],
      "toc_visible": true,
      "include_colab_link": true
    },
    "kernelspec": {
      "display_name": "Python 3",
      "language": "python",
      "name": "python3"
    },
    "language_info": {
      "codemirror_mode": {
        "name": "ipython",
        "version": 3
      },
      "file_extension": ".py",
      "mimetype": "text/x-python",
      "name": "python",
      "nbconvert_exporter": "python",
      "pygments_lexer": "ipython3",
      "version": "3.8.8"
    },
    "toc": {
      "base_numbering": 1,
      "nav_menu": {},
      "number_sections": true,
      "sideBar": true,
      "skip_h1_title": true,
      "title_cell": "Table of Contents",
      "title_sidebar": "Contents",
      "toc_cell": false,
      "toc_position": {
        "height": "calc(100% - 180px)",
        "left": "10px",
        "top": "150px",
        "width": "280px"
      },
      "toc_section_display": true,
      "toc_window_display": true
    }
  },
  "cells": [
    {
      "cell_type": "markdown",
      "metadata": {
        "id": "view-in-github",
        "colab_type": "text"
      },
      "source": [
        "<a href=\"https://colab.research.google.com/github/klipbn/klip_alex/blob/main/music_of_big_cities/music_of_big_cities.ipynb\" target=\"_parent\"><img src=\"https://colab.research.google.com/assets/colab-badge.svg\" alt=\"Open In Colab\"/></a>"
      ]
    },
    {
      "cell_type": "markdown",
      "metadata": {
        "id": "E0vqbgi9ay0H"
      },
      "source": [
        "# Яндекс.Музыка"
      ]
    },
    {
      "cell_type": "markdown",
      "metadata": {
        "id": "VUC88oWjTJw2"
      },
      "source": [
        "Сравнение Москвы и Петербурга окружено мифами. Например:\n",
        " * Москва — мегаполис, подчинённый жёсткому ритму рабочей недели;\n",
        " * Петербург — культурная столица, со своими вкусами.\n",
        "\n",
        "На данных Яндекс.Музыки проведем сравнение поведения пользователей двух столиц.\n",
        "\n",
        "**Цель исследования** — проверьте три гипотезы:\n",
        "1. Активность пользователей зависит от дня недели. Причём в Москве и Петербурге это проявляется по-разному.\n",
        "2. В понедельник утром в Москве преобладают одни жанры, а в Петербурге — другие. Так же и вечером пятницы преобладают разные жанры — в зависимости от города. \n",
        "3. Москва и Петербург предпочитают разные жанры музыки. В Москве чаще слушают поп-музыку, в Петербурге — русский рэп.\n",
        "\n",
        "**Ход исследования**\n",
        "\n",
        "Данные о поведении пользователей получаем из файла `yandex_music_project.csv`. О качестве данных ничего не известно. Поэтому перед проверкой гипотез нам понадобится обзор данных. \n",
        "\n",
        "Проверим данные на ошибки и оценим их влияние на исследование. Затем, на этапе предобработки поищем возможность исправить самые критичные ошибки данных.\n",
        " \n",
        "Таким образом, исследование проведем в три этапа:\n",
        " 1. Обзор данных.\n",
        " 2. Предобработка данных.\n",
        " 3. Проверка гипотез.\n",
        "\n"
      ]
    },
    {
      "cell_type": "code",
      "metadata": {
        "colab": {
          "base_uri": "https://localhost:8080/"
        },
        "id": "h_-PPGIninGG",
        "outputId": "947d6beb-ad82-4e0d-c00a-8419f037ebf0"
      },
      "source": [
        "from google.colab import drive\n",
        "drive.mount('/content/drive')"
      ],
      "execution_count": null,
      "outputs": [
        {
          "output_type": "stream",
          "name": "stdout",
          "text": [
            "Drive already mounted at /content/drive; to attempt to forcibly remount, call drive.mount(\"/content/drive\", force_remount=True).\n"
          ]
        }
      ]
    },
    {
      "cell_type": "markdown",
      "metadata": {
        "id": "Ml1hmfXC_Zcs"
      },
      "source": [
        "## Обзор данных\n",
        "\n",
        "Составляем первое представление о данных Яндекс.Музыки.\n",
        "\n",
        "\n"
      ]
    },
    {
      "cell_type": "markdown",
      "metadata": {
        "id": "57eAOGIz_Zcs"
      },
      "source": [
        "Импортируем библиотеку - `pandas`"
      ]
    },
    {
      "cell_type": "code",
      "metadata": {
        "id": "AXN7PHPN_Zcs"
      },
      "source": [
        "import pandas as pd # импорт библиотеки pandas"
      ],
      "execution_count": null,
      "outputs": []
    },
    {
      "cell_type": "markdown",
      "metadata": {
        "id": "SG23P8tt_Zcs"
      },
      "source": [
        "Прочитаем файл `yandex_music_project.csv` из папки `/datasets` и сохраним его в переменной `df`:"
      ]
    },
    {
      "cell_type": "code",
      "metadata": {
        "id": "fFVu7vqh_Zct"
      },
      "source": [
        "df = pd.read_csv('/content/drive/My Drive/Yandex_DS/project_1_Music_of_big_cities/yandex_music_project.csv') # чтение файла с данными и сохранение в df"
      ],
      "execution_count": null,
      "outputs": []
    },
    {
      "cell_type": "markdown",
      "metadata": {
        "id": "rDoOMd3uTqnZ"
      },
      "source": [
        "Выведем на экран первые десять строк таблицы:"
      ]
    },
    {
      "cell_type": "code",
      "metadata": {
        "id": "oWTVX3gW_Zct",
        "colab": {
          "base_uri": "https://localhost:8080/"
        },
        "outputId": "9cc39468-b52a-4abe-9df1-0e6da9a1e5d1"
      },
      "source": [
        "print(df.head(10)) # получение первых 10 строк таблицы df"
      ],
      "execution_count": null,
      "outputs": [
        {
          "output_type": "stream",
          "name": "stdout",
          "text": [
            "   Unnamed: 0    userID  ...      time        Day\n",
            "0           0  FFB692EC  ...  20:28:33  Wednesday\n",
            "1           1  55204538  ...  14:07:09     Friday\n",
            "2           2    20EC38  ...  20:58:07  Wednesday\n",
            "3           3  A3DD03C9  ...  08:37:09     Monday\n",
            "4           4  E2DC1FAE  ...  08:34:34     Monday\n",
            "5           5  842029A1  ...  13:09:41     Friday\n",
            "6           6  4CB90AA5  ...  13:00:07  Wednesday\n",
            "7           7  F03E1C1F  ...  20:47:49  Wednesday\n",
            "8           8  8FA1D3BE  ...  09:17:40     Friday\n",
            "9           9  E772D5C0  ...  21:20:49  Wednesday\n",
            "\n",
            "[10 rows x 8 columns]\n"
          ]
        }
      ]
    },
    {
      "cell_type": "markdown",
      "metadata": {
        "id": "EO73Kwic_Zct"
      },
      "source": [
        "Получаем общую информацию о таблице:"
      ]
    },
    {
      "cell_type": "code",
      "metadata": {
        "id": "DSf2kIb-_Zct",
        "colab": {
          "base_uri": "https://localhost:8080/"
        },
        "outputId": "cc833e19-3f00-4fc0-fecd-b8a4a31b7509"
      },
      "source": [
        "df.info() # получение общей информации о данных в таблице df"
      ],
      "execution_count": null,
      "outputs": [
        {
          "output_type": "stream",
          "name": "stdout",
          "text": [
            "<class 'pandas.core.frame.DataFrame'>\n",
            "RangeIndex: 65079 entries, 0 to 65078\n",
            "Data columns (total 8 columns):\n",
            " #   Column      Non-Null Count  Dtype \n",
            "---  ------      --------------  ----- \n",
            " 0   Unnamed: 0  65079 non-null  int64 \n",
            " 1     userID    65079 non-null  object\n",
            " 2   Track       63848 non-null  object\n",
            " 3   artist      57876 non-null  object\n",
            " 4   genre       63881 non-null  object\n",
            " 5     City      65079 non-null  object\n",
            " 6   time        65079 non-null  object\n",
            " 7   Day         65079 non-null  object\n",
            "dtypes: int64(1), object(7)\n",
            "memory usage: 4.0+ MB\n"
          ]
        }
      ]
    },
    {
      "cell_type": "markdown",
      "metadata": {
        "id": "TaQ2Iwbr_Zct"
      },
      "source": [
        "В таблице семь столбцов. Тип данных во всех столбцах — `object`.\n",
        "\n",
        "Согласно документации к данным:\n",
        "* `userID` — идентификатор пользователя;\n",
        "* `Track` — название трека;  \n",
        "* `artist` — имя исполнителя;\n",
        "* `genre` — название жанра;\n",
        "* `City` — город пользователя;\n",
        "* `time` — время начала прослушивания;\n",
        "* `Day` — день недели.\n",
        "\n",
        "В названиях колонок видны три нарушения стиля:\n",
        "1. Строчные буквы сочетаются с прописными.\n",
        "2. Встречаются пробелы.\n",
        "3. Наименование столбца недостатачно полно отражает, что он содержит.\n",
        "4. Несколько слов корректнее разделить \"_\".\n",
        "\n",
        "\n",
        "Количество значений в столбцах различается. Значит, в данных есть пропущенные значения.\n"
      ]
    },
    {
      "cell_type": "markdown",
      "metadata": {
        "id": "MCB6-dXG_Zct"
      },
      "source": [
        "**Выводы**\n",
        "\n",
        "В каждой строке таблицы — данные о прослушанном треке. Часть колонок описывает саму композицию: название, исполнителя и жанр. Остальные данные рассказывают о пользователе: из какого он города, когда он слушал музыку. \n",
        "\n",
        "Предварительно можно утверждать, что, данных достаточно для проверки гипотез. Но встречаются пропуски в данных, а в названиях колонок — расхождения с хорошим стилем.\n",
        "\n",
        "На следующем шаге устраним проблемы в данных."
      ]
    },
    {
      "cell_type": "markdown",
      "metadata": {
        "id": "SjYF6Ub9_Zct"
      },
      "source": [
        "## Предобработка данных\n",
        "Исправим стиль в заголовках столбцов, исключите пропуски. Затем проверим данные на дубликаты."
      ]
    },
    {
      "cell_type": "markdown",
      "metadata": {
        "id": "dIaKXr29_Zct"
      },
      "source": [
        "### Стиль заголовков\n",
        "Выведим на экран названия столбцов:"
      ]
    },
    {
      "cell_type": "code",
      "metadata": {
        "id": "oKOTdF_Q_Zct",
        "colab": {
          "base_uri": "https://localhost:8080/"
        },
        "outputId": "edb93e36-2f9b-479c-d11a-38207666dbc9"
      },
      "source": [
        "df.columns # перечень названий столбцов таблицы df"
      ],
      "execution_count": null,
      "outputs": [
        {
          "output_type": "execute_result",
          "data": {
            "text/plain": [
              "Index(['Unnamed: 0', '  userID', 'Track', 'artist', 'genre', '  City  ',\n",
              "       'time', 'Day'],\n",
              "      dtype='object')"
            ]
          },
          "metadata": {},
          "execution_count": 15
        }
      ]
    },
    {
      "cell_type": "markdown",
      "metadata": {
        "id": "zj5534cv_Zct"
      },
      "source": [
        "Приведем названия в соответствие с хорошим стилем:\n",
        "* несколько слов в названии запишите в «змеином_регистре»,\n",
        "* все символы сделайте строчными,\n",
        "* устраните пробелы.\n",
        "\n",
        "Для этого переименуем колонки так:\n",
        "* `'  userID'` → `'user_id'`;\n",
        "* `'Track'` → `'track'`;\n",
        "* `'  City  '` → `'city'`;\n",
        "* `'Day'` → `'day'`."
      ]
    },
    {
      "cell_type": "code",
      "metadata": {
        "id": "ISlFqs5y_Zct"
      },
      "source": [
        "df = df.rename(columns = {'  userID' : 'user_id', 'Track' : 'track', '  City  ' : 'city', 'Day' : 'day'}) # переименование столбцов"
      ],
      "execution_count": null,
      "outputs": []
    },
    {
      "cell_type": "markdown",
      "metadata": {
        "id": "1dqbh00J_Zct"
      },
      "source": [
        "Проверим результат. Выведем на экран названия столбцов:"
      ]
    },
    {
      "cell_type": "code",
      "metadata": {
        "id": "d4NOAmTW_Zct",
        "colab": {
          "base_uri": "https://localhost:8080/"
        },
        "outputId": "f9183982-729c-480f-db7e-cd071866afbf"
      },
      "source": [
        "df.columns # проверка результатов - перечень названий столбцов"
      ],
      "execution_count": null,
      "outputs": [
        {
          "output_type": "execute_result",
          "data": {
            "text/plain": [
              "Index(['Unnamed: 0', 'user_id', 'track', 'artist', 'genre', 'city', 'time',\n",
              "       'day'],\n",
              "      dtype='object')"
            ]
          },
          "metadata": {},
          "execution_count": 17
        }
      ]
    },
    {
      "cell_type": "markdown",
      "metadata": {
        "id": "5ISfbcfY_Zct"
      },
      "source": [
        "### Пропуски значений\n",
        "Сначала посчитаем, сколько в таблице пропущенных значений:"
      ]
    },
    {
      "cell_type": "code",
      "metadata": {
        "id": "RskX29qr_Zct",
        "colab": {
          "base_uri": "https://localhost:8080/"
        },
        "outputId": "3c7e9e32-0766-40c0-e0d2-00c78b32e340"
      },
      "source": [
        "df.isna().sum() # подсчёт пропусков"
      ],
      "execution_count": null,
      "outputs": [
        {
          "output_type": "execute_result",
          "data": {
            "text/plain": [
              "Unnamed: 0       0\n",
              "user_id          0\n",
              "track         1231\n",
              "artist        7203\n",
              "genre         1198\n",
              "city             0\n",
              "time             0\n",
              "day              0\n",
              "dtype: int64"
            ]
          },
          "metadata": {},
          "execution_count": 18
        }
      ]
    },
    {
      "cell_type": "markdown",
      "metadata": {
        "id": "qubhgnlO_Zct"
      },
      "source": [
        "Не все пропущенные значения влияют на исследование. Так в `track` и `artist` пропуски не важны для нашей работы. Достаточно заменить их явными обозначениями.\n",
        "\n",
        "Но пропуски в `genre` могут помешать сравнению музыкальных вкусов в Москве и Санкт-Петербурге. \n",
        "Принимае решение:\n",
        "* заполнить эти пропуски явными обозначениями,\n",
        "* оценить, насколько они повредят расчётам. "
      ]
    },
    {
      "cell_type": "markdown",
      "metadata": {
        "id": "fSv2laPA_Zct"
      },
      "source": [
        "Заменим пропущенные значения в столбцах `track`, `artist` и `genre` на строку `'unknown'`. Для этого создаем список `columns_to_replace`, перебераем его элементы циклом `for` и для каждого столбца выполняем замену пропущенных значений:"
      ]
    },
    {
      "cell_type": "code",
      "metadata": {
        "id": "KplB5qWs_Zct"
      },
      "source": [
        "columns_to_replace = ['track', 'artist', 'genre'] # создание списка с столбцами, которые имеют пропущенные значения\n",
        "\n",
        "for i in columns_to_replace: # перебор названий столбцов в цикле и замена пропущенных значений на 'unknown' \n",
        "        df[i] = df[i].fillna('unknown')"
      ],
      "execution_count": null,
      "outputs": []
    },
    {
      "cell_type": "markdown",
      "metadata": {
        "id": "Ilsm-MZo_Zct"
      },
      "source": [
        "Проверяем, что в таблице не осталось пропусков. Для этого ещё раз проведем подсчет пропущенных значений."
      ]
    },
    {
      "cell_type": "code",
      "metadata": {
        "id": "Tq4nYRX4_Zct",
        "colab": {
          "base_uri": "https://localhost:8080/"
        },
        "outputId": "6a3a852f-3ab8-44e2-9358-db0da4c64571"
      },
      "source": [
        "df.isna().sum() # подсчёт пропусков"
      ],
      "execution_count": null,
      "outputs": [
        {
          "output_type": "execute_result",
          "data": {
            "text/plain": [
              "Unnamed: 0    0\n",
              "user_id       0\n",
              "track         0\n",
              "artist        0\n",
              "genre         0\n",
              "city          0\n",
              "time          0\n",
              "day           0\n",
              "dtype: int64"
            ]
          },
          "metadata": {},
          "execution_count": 20
        }
      ]
    },
    {
      "cell_type": "markdown",
      "metadata": {
        "id": "BWKRtBJ3_Zct"
      },
      "source": [
        "### Дубликаты\n",
        "Посчитаем явные дубликаты в таблице:"
      ]
    },
    {
      "cell_type": "code",
      "metadata": {
        "id": "36eES_S0_Zct",
        "colab": {
          "base_uri": "https://localhost:8080/"
        },
        "outputId": "0c3850b1-83d1-4a6f-9452-e47fee4880f9"
      },
      "source": [
        "df.duplicated().sum() # подсчёт явных дубликатов"
      ],
      "execution_count": null,
      "outputs": [
        {
          "output_type": "execute_result",
          "data": {
            "text/plain": [
              "0"
            ]
          },
          "metadata": {},
          "execution_count": 21
        }
      ]
    },
    {
      "cell_type": "markdown",
      "metadata": {
        "id": "Ot25h6XR_Zct"
      },
      "source": [
        "Удаляем явные дубликаты:"
      ]
    },
    {
      "cell_type": "code",
      "metadata": {
        "id": "exFHq6tt_Zct"
      },
      "source": [
        "# удаление явных дубликатов (с удалением старых индексов и формированием новых)\n",
        "df = df.drop_duplicates().reset_index(drop = True)"
      ],
      "execution_count": null,
      "outputs": []
    },
    {
      "cell_type": "markdown",
      "metadata": {
        "id": "Im2YwBEG_Zct"
      },
      "source": [
        "Проверяем, что полностью избавились от явных дубликатов:"
      ]
    },
    {
      "cell_type": "code",
      "metadata": {
        "id": "-8PuNWQ0_Zct",
        "colab": {
          "base_uri": "https://localhost:8080/"
        },
        "outputId": "25abaf14-55ad-41bd-b0a9-2c1ab94269de"
      },
      "source": [
        "df.duplicated().sum() # проверка на отсутствие дубликатов"
      ],
      "execution_count": null,
      "outputs": [
        {
          "output_type": "execute_result",
          "data": {
            "text/plain": [
              "0"
            ]
          },
          "metadata": {},
          "execution_count": 23
        }
      ]
    },
    {
      "cell_type": "markdown",
      "metadata": {
        "id": "QlFBsxAr_Zct"
      },
      "source": [
        "Далее избавимся от неявных дубликатов в колонке `genre`. Например, название одного и того же жанра может быть записано немного по-разному. Такие ошибки тоже повлияют на результат исследования."
      ]
    },
    {
      "cell_type": "markdown",
      "metadata": {
        "id": "eSjWwsOh_Zct"
      },
      "source": [
        "Выведем на экран список уникальных названий жанров, отсортированный в алфавитном порядке. Для этого:\n",
        "* извлекем нужный столбец датафрейма, \n",
        "* применим к нему метод сортировки,\n",
        "* для отсортированного столбца вызовем метод, который вернёт уникальные значения из столбца."
      ]
    },
    {
      "cell_type": "code",
      "metadata": {
        "id": "JIUcqzZN_Zct",
        "colab": {
          "base_uri": "https://localhost:8080/"
        },
        "outputId": "550254b5-bfa2-4403-c845-3fdc8b32cdb5"
      },
      "source": [
        "sorted(df['genre'].unique()) # Просмотр уникальных названий жанров"
      ],
      "execution_count": null,
      "outputs": [
        {
          "output_type": "execute_result",
          "data": {
            "text/plain": [
              "['acid',\n",
              " 'acoustic',\n",
              " 'action',\n",
              " 'adult',\n",
              " 'africa',\n",
              " 'afrikaans',\n",
              " 'alternative',\n",
              " 'alternativepunk',\n",
              " 'ambient',\n",
              " 'americana',\n",
              " 'animated',\n",
              " 'anime',\n",
              " 'arabesk',\n",
              " 'arabic',\n",
              " 'arena',\n",
              " 'argentinetango',\n",
              " 'art',\n",
              " 'audiobook',\n",
              " 'author',\n",
              " 'avantgarde',\n",
              " 'axé',\n",
              " 'baile',\n",
              " 'balkan',\n",
              " 'beats',\n",
              " 'bigroom',\n",
              " 'black',\n",
              " 'bluegrass',\n",
              " 'blues',\n",
              " 'bollywood',\n",
              " 'bossa',\n",
              " 'brazilian',\n",
              " 'breakbeat',\n",
              " 'breaks',\n",
              " 'broadway',\n",
              " 'cantautori',\n",
              " 'cantopop',\n",
              " 'canzone',\n",
              " 'caribbean',\n",
              " 'caucasian',\n",
              " 'celtic',\n",
              " 'chamber',\n",
              " 'chanson',\n",
              " 'children',\n",
              " 'chill',\n",
              " 'chinese',\n",
              " 'choral',\n",
              " 'christian',\n",
              " 'christmas',\n",
              " 'classical',\n",
              " 'classicmetal',\n",
              " 'club',\n",
              " 'colombian',\n",
              " 'comedy',\n",
              " 'conjazz',\n",
              " 'contemporary',\n",
              " 'country',\n",
              " 'cuban',\n",
              " 'dance',\n",
              " 'dancehall',\n",
              " 'dancepop',\n",
              " 'dark',\n",
              " 'death',\n",
              " 'deep',\n",
              " 'deutschrock',\n",
              " 'deutschspr',\n",
              " 'dirty',\n",
              " 'disco',\n",
              " 'dnb',\n",
              " 'documentary',\n",
              " 'downbeat',\n",
              " 'downtempo',\n",
              " 'drum',\n",
              " 'dub',\n",
              " 'dubstep',\n",
              " 'eastern',\n",
              " 'easy',\n",
              " 'electronic',\n",
              " 'electropop',\n",
              " 'emo',\n",
              " 'entehno',\n",
              " 'epicmetal',\n",
              " 'estrada',\n",
              " 'ethnic',\n",
              " 'eurofolk',\n",
              " 'european',\n",
              " 'experimental',\n",
              " 'extrememetal',\n",
              " 'fado',\n",
              " 'fairytail',\n",
              " 'film',\n",
              " 'fitness',\n",
              " 'flamenco',\n",
              " 'folk',\n",
              " 'folklore',\n",
              " 'folkmetal',\n",
              " 'folkrock',\n",
              " 'folktronica',\n",
              " 'forró',\n",
              " 'frankreich',\n",
              " 'französisch',\n",
              " 'french',\n",
              " 'funk',\n",
              " 'future',\n",
              " 'gangsta',\n",
              " 'garage',\n",
              " 'german',\n",
              " 'ghazal',\n",
              " 'gitarre',\n",
              " 'glitch',\n",
              " 'gospel',\n",
              " 'gothic',\n",
              " 'grime',\n",
              " 'grunge',\n",
              " 'gypsy',\n",
              " 'handsup',\n",
              " \"hard'n'heavy\",\n",
              " 'hardcore',\n",
              " 'hardstyle',\n",
              " 'hardtechno',\n",
              " 'hip',\n",
              " 'hip-hop',\n",
              " 'hiphop',\n",
              " 'historisch',\n",
              " 'holiday',\n",
              " 'hop',\n",
              " 'horror',\n",
              " 'house',\n",
              " 'hymn',\n",
              " 'idm',\n",
              " 'independent',\n",
              " 'indian',\n",
              " 'indie',\n",
              " 'indipop',\n",
              " 'industrial',\n",
              " 'inspirational',\n",
              " 'instrumental',\n",
              " 'international',\n",
              " 'irish',\n",
              " 'jam',\n",
              " 'japanese',\n",
              " 'jazz',\n",
              " 'jewish',\n",
              " 'jpop',\n",
              " 'jungle',\n",
              " 'k-pop',\n",
              " 'karadeniz',\n",
              " 'karaoke',\n",
              " 'kayokyoku',\n",
              " 'korean',\n",
              " 'laiko',\n",
              " 'latin',\n",
              " 'latino',\n",
              " 'leftfield',\n",
              " 'local',\n",
              " 'lounge',\n",
              " 'loungeelectronic',\n",
              " 'lovers',\n",
              " 'malaysian',\n",
              " 'mandopop',\n",
              " 'marschmusik',\n",
              " 'meditative',\n",
              " 'mediterranean',\n",
              " 'melodic',\n",
              " 'metal',\n",
              " 'metalcore',\n",
              " 'mexican',\n",
              " 'middle',\n",
              " 'minimal',\n",
              " 'miscellaneous',\n",
              " 'modern',\n",
              " 'mood',\n",
              " 'mpb',\n",
              " 'muslim',\n",
              " 'native',\n",
              " 'neoklassik',\n",
              " 'neue',\n",
              " 'new',\n",
              " 'newage',\n",
              " 'newwave',\n",
              " 'nu',\n",
              " 'nujazz',\n",
              " 'numetal',\n",
              " 'oceania',\n",
              " 'old',\n",
              " 'opera',\n",
              " 'orchestral',\n",
              " 'other',\n",
              " 'piano',\n",
              " 'podcasts',\n",
              " 'pop',\n",
              " 'popdance',\n",
              " 'popelectronic',\n",
              " 'popeurodance',\n",
              " 'poprussian',\n",
              " 'post',\n",
              " 'posthardcore',\n",
              " 'postrock',\n",
              " 'power',\n",
              " 'progmetal',\n",
              " 'progressive',\n",
              " 'psychedelic',\n",
              " 'punjabi',\n",
              " 'punk',\n",
              " 'quebecois',\n",
              " 'ragga',\n",
              " 'ram',\n",
              " 'rancheras',\n",
              " 'rap',\n",
              " 'rave',\n",
              " 'reggae',\n",
              " 'reggaeton',\n",
              " 'regional',\n",
              " 'relax',\n",
              " 'religious',\n",
              " 'retro',\n",
              " 'rhythm',\n",
              " 'rnb',\n",
              " 'rnr',\n",
              " 'rock',\n",
              " 'rockabilly',\n",
              " 'rockalternative',\n",
              " 'rockindie',\n",
              " 'rockother',\n",
              " 'romance',\n",
              " 'roots',\n",
              " 'ruspop',\n",
              " 'rusrap',\n",
              " 'rusrock',\n",
              " 'russian',\n",
              " 'salsa',\n",
              " 'samba',\n",
              " 'scenic',\n",
              " 'schlager',\n",
              " 'self',\n",
              " 'sertanejo',\n",
              " 'shanson',\n",
              " 'shoegazing',\n",
              " 'showtunes',\n",
              " 'singer',\n",
              " 'ska',\n",
              " 'skarock',\n",
              " 'slow',\n",
              " 'smooth',\n",
              " 'soft',\n",
              " 'soul',\n",
              " 'soulful',\n",
              " 'sound',\n",
              " 'soundtrack',\n",
              " 'southern',\n",
              " 'specialty',\n",
              " 'speech',\n",
              " 'spiritual',\n",
              " 'sport',\n",
              " 'stonerrock',\n",
              " 'surf',\n",
              " 'swing',\n",
              " 'synthpop',\n",
              " 'synthrock',\n",
              " 'sängerportrait',\n",
              " 'tango',\n",
              " 'tanzorchester',\n",
              " 'taraftar',\n",
              " 'tatar',\n",
              " 'tech',\n",
              " 'techno',\n",
              " 'teen',\n",
              " 'thrash',\n",
              " 'top',\n",
              " 'traditional',\n",
              " 'tradjazz',\n",
              " 'trance',\n",
              " 'tribal',\n",
              " 'trip',\n",
              " 'triphop',\n",
              " 'tropical',\n",
              " 'türk',\n",
              " 'türkçe',\n",
              " 'ukrrock',\n",
              " 'unknown',\n",
              " 'urban',\n",
              " 'uzbek',\n",
              " 'variété',\n",
              " 'vi',\n",
              " 'videogame',\n",
              " 'vocal',\n",
              " 'western',\n",
              " 'world',\n",
              " 'worldbeat',\n",
              " 'ïîï',\n",
              " 'электроника']"
            ]
          },
          "metadata": {},
          "execution_count": 24
        }
      ]
    },
    {
      "cell_type": "markdown",
      "metadata": {
        "id": "qej-Qmuo_Zct"
      },
      "source": [
        "Зададим функцию `replace_wrong_genres()` с двумя параметрами: \n",
        "* `wrong_genres` — список дубликатов,\n",
        "* `correct_genre` — строка с правильным значением.\n",
        "\n",
        "Функция исправляет колонку `genre` в таблице `df`: заменяет каждое значение из списка `wrong_genres` на значение из `correct_genre`."
      ]
    },
    {
      "cell_type": "code",
      "metadata": {
        "id": "ErNDkmns_Zct"
      },
      "source": [
        "def replace_wrong_genres(wrong_genres, correct_genre): # Функция для замены неявных дубликатов\n",
        "    for i in range(len(wrong_genres)):\n",
        "        df['genre'] = df['genre'].replace(wrong_genres[i], correct_genre)"
      ],
      "execution_count": null,
      "outputs": []
    },
    {
      "cell_type": "markdown",
      "metadata": {
        "id": "aDoBJxbA_Zct"
      },
      "source": [
        "Вызовем `replace_wrong_genres()` и передадим ей такие аргументы, чтобы она устранила неявные дубликаты"
      ]
    },
    {
      "cell_type": "code",
      "metadata": {
        "id": "YN5i2hpmSo09"
      },
      "source": [
        "# Устранение неявных дубликатов\n",
        "replace_wrong_genres(wrong_genres = ['hip', 'hop', 'hip-hop'], correct_genre = 'hiphop')\n",
        "replace_wrong_genres(wrong_genres = ['электроника'], correct_genre = 'electronic')\n",
        "replace_wrong_genres(wrong_genres = ['ïîï'], correct_genre = 'pop')\n",
        "replace_wrong_genres(wrong_genres = ['variété'], correct_genre = 'frpop')"
      ],
      "execution_count": null,
      "outputs": []
    },
    {
      "cell_type": "markdown",
      "metadata": {
        "id": "zQKF16_RG15m"
      },
      "source": [
        "Выведем отсортированный список уникальных значений столбца `genre`:"
      ]
    },
    {
      "cell_type": "code",
      "metadata": {
        "id": "wvixALnFG15m",
        "colab": {
          "base_uri": "https://localhost:8080/"
        },
        "outputId": "71e496ca-5184-4ba9-901c-a9518510e10e"
      },
      "source": [
        "sorted(df['genre'].unique()) # Проверка на неявные дубликаты"
      ],
      "execution_count": null,
      "outputs": [
        {
          "output_type": "execute_result",
          "data": {
            "text/plain": [
              "['acid',\n",
              " 'acoustic',\n",
              " 'action',\n",
              " 'adult',\n",
              " 'africa',\n",
              " 'afrikaans',\n",
              " 'alternative',\n",
              " 'alternativepunk',\n",
              " 'ambient',\n",
              " 'americana',\n",
              " 'animated',\n",
              " 'anime',\n",
              " 'arabesk',\n",
              " 'arabic',\n",
              " 'arena',\n",
              " 'argentinetango',\n",
              " 'art',\n",
              " 'audiobook',\n",
              " 'author',\n",
              " 'avantgarde',\n",
              " 'axé',\n",
              " 'baile',\n",
              " 'balkan',\n",
              " 'beats',\n",
              " 'bigroom',\n",
              " 'black',\n",
              " 'bluegrass',\n",
              " 'blues',\n",
              " 'bollywood',\n",
              " 'bossa',\n",
              " 'brazilian',\n",
              " 'breakbeat',\n",
              " 'breaks',\n",
              " 'broadway',\n",
              " 'cantautori',\n",
              " 'cantopop',\n",
              " 'canzone',\n",
              " 'caribbean',\n",
              " 'caucasian',\n",
              " 'celtic',\n",
              " 'chamber',\n",
              " 'chanson',\n",
              " 'children',\n",
              " 'chill',\n",
              " 'chinese',\n",
              " 'choral',\n",
              " 'christian',\n",
              " 'christmas',\n",
              " 'classical',\n",
              " 'classicmetal',\n",
              " 'club',\n",
              " 'colombian',\n",
              " 'comedy',\n",
              " 'conjazz',\n",
              " 'contemporary',\n",
              " 'country',\n",
              " 'cuban',\n",
              " 'dance',\n",
              " 'dancehall',\n",
              " 'dancepop',\n",
              " 'dark',\n",
              " 'death',\n",
              " 'deep',\n",
              " 'deutschrock',\n",
              " 'deutschspr',\n",
              " 'dirty',\n",
              " 'disco',\n",
              " 'dnb',\n",
              " 'documentary',\n",
              " 'downbeat',\n",
              " 'downtempo',\n",
              " 'drum',\n",
              " 'dub',\n",
              " 'dubstep',\n",
              " 'eastern',\n",
              " 'easy',\n",
              " 'electronic',\n",
              " 'electropop',\n",
              " 'emo',\n",
              " 'entehno',\n",
              " 'epicmetal',\n",
              " 'estrada',\n",
              " 'ethnic',\n",
              " 'eurofolk',\n",
              " 'european',\n",
              " 'experimental',\n",
              " 'extrememetal',\n",
              " 'fado',\n",
              " 'fairytail',\n",
              " 'film',\n",
              " 'fitness',\n",
              " 'flamenco',\n",
              " 'folk',\n",
              " 'folklore',\n",
              " 'folkmetal',\n",
              " 'folkrock',\n",
              " 'folktronica',\n",
              " 'forró',\n",
              " 'frankreich',\n",
              " 'französisch',\n",
              " 'french',\n",
              " 'frpop',\n",
              " 'funk',\n",
              " 'future',\n",
              " 'gangsta',\n",
              " 'garage',\n",
              " 'german',\n",
              " 'ghazal',\n",
              " 'gitarre',\n",
              " 'glitch',\n",
              " 'gospel',\n",
              " 'gothic',\n",
              " 'grime',\n",
              " 'grunge',\n",
              " 'gypsy',\n",
              " 'handsup',\n",
              " \"hard'n'heavy\",\n",
              " 'hardcore',\n",
              " 'hardstyle',\n",
              " 'hardtechno',\n",
              " 'hiphop',\n",
              " 'historisch',\n",
              " 'holiday',\n",
              " 'horror',\n",
              " 'house',\n",
              " 'hymn',\n",
              " 'idm',\n",
              " 'independent',\n",
              " 'indian',\n",
              " 'indie',\n",
              " 'indipop',\n",
              " 'industrial',\n",
              " 'inspirational',\n",
              " 'instrumental',\n",
              " 'international',\n",
              " 'irish',\n",
              " 'jam',\n",
              " 'japanese',\n",
              " 'jazz',\n",
              " 'jewish',\n",
              " 'jpop',\n",
              " 'jungle',\n",
              " 'k-pop',\n",
              " 'karadeniz',\n",
              " 'karaoke',\n",
              " 'kayokyoku',\n",
              " 'korean',\n",
              " 'laiko',\n",
              " 'latin',\n",
              " 'latino',\n",
              " 'leftfield',\n",
              " 'local',\n",
              " 'lounge',\n",
              " 'loungeelectronic',\n",
              " 'lovers',\n",
              " 'malaysian',\n",
              " 'mandopop',\n",
              " 'marschmusik',\n",
              " 'meditative',\n",
              " 'mediterranean',\n",
              " 'melodic',\n",
              " 'metal',\n",
              " 'metalcore',\n",
              " 'mexican',\n",
              " 'middle',\n",
              " 'minimal',\n",
              " 'miscellaneous',\n",
              " 'modern',\n",
              " 'mood',\n",
              " 'mpb',\n",
              " 'muslim',\n",
              " 'native',\n",
              " 'neoklassik',\n",
              " 'neue',\n",
              " 'new',\n",
              " 'newage',\n",
              " 'newwave',\n",
              " 'nu',\n",
              " 'nujazz',\n",
              " 'numetal',\n",
              " 'oceania',\n",
              " 'old',\n",
              " 'opera',\n",
              " 'orchestral',\n",
              " 'other',\n",
              " 'piano',\n",
              " 'podcasts',\n",
              " 'pop',\n",
              " 'popdance',\n",
              " 'popelectronic',\n",
              " 'popeurodance',\n",
              " 'poprussian',\n",
              " 'post',\n",
              " 'posthardcore',\n",
              " 'postrock',\n",
              " 'power',\n",
              " 'progmetal',\n",
              " 'progressive',\n",
              " 'psychedelic',\n",
              " 'punjabi',\n",
              " 'punk',\n",
              " 'quebecois',\n",
              " 'ragga',\n",
              " 'ram',\n",
              " 'rancheras',\n",
              " 'rap',\n",
              " 'rave',\n",
              " 'reggae',\n",
              " 'reggaeton',\n",
              " 'regional',\n",
              " 'relax',\n",
              " 'religious',\n",
              " 'retro',\n",
              " 'rhythm',\n",
              " 'rnb',\n",
              " 'rnr',\n",
              " 'rock',\n",
              " 'rockabilly',\n",
              " 'rockalternative',\n",
              " 'rockindie',\n",
              " 'rockother',\n",
              " 'romance',\n",
              " 'roots',\n",
              " 'ruspop',\n",
              " 'rusrap',\n",
              " 'rusrock',\n",
              " 'russian',\n",
              " 'salsa',\n",
              " 'samba',\n",
              " 'scenic',\n",
              " 'schlager',\n",
              " 'self',\n",
              " 'sertanejo',\n",
              " 'shanson',\n",
              " 'shoegazing',\n",
              " 'showtunes',\n",
              " 'singer',\n",
              " 'ska',\n",
              " 'skarock',\n",
              " 'slow',\n",
              " 'smooth',\n",
              " 'soft',\n",
              " 'soul',\n",
              " 'soulful',\n",
              " 'sound',\n",
              " 'soundtrack',\n",
              " 'southern',\n",
              " 'specialty',\n",
              " 'speech',\n",
              " 'spiritual',\n",
              " 'sport',\n",
              " 'stonerrock',\n",
              " 'surf',\n",
              " 'swing',\n",
              " 'synthpop',\n",
              " 'synthrock',\n",
              " 'sängerportrait',\n",
              " 'tango',\n",
              " 'tanzorchester',\n",
              " 'taraftar',\n",
              " 'tatar',\n",
              " 'tech',\n",
              " 'techno',\n",
              " 'teen',\n",
              " 'thrash',\n",
              " 'top',\n",
              " 'traditional',\n",
              " 'tradjazz',\n",
              " 'trance',\n",
              " 'tribal',\n",
              " 'trip',\n",
              " 'triphop',\n",
              " 'tropical',\n",
              " 'türk',\n",
              " 'türkçe',\n",
              " 'ukrrock',\n",
              " 'unknown',\n",
              " 'urban',\n",
              " 'uzbek',\n",
              " 'vi',\n",
              " 'videogame',\n",
              " 'vocal',\n",
              " 'western',\n",
              " 'world',\n",
              " 'worldbeat']"
            ]
          },
          "metadata": {},
          "execution_count": 27
        }
      ]
    },
    {
      "cell_type": "markdown",
      "metadata": {
        "id": "jz6a9-7HQUDd"
      },
      "source": [
        "**Выводы**\n",
        "\n",
        "Предобработка обнаружила три проблемы в данных:\n",
        "\n",
        "- нарушения в стиле заголовков,\n",
        "- пропущенные значения,\n",
        "- дубликаты — явные и неявные.\n",
        "\n",
        "Исправлены заголовки, чтобы упростить работу с таблицей. Без дубликатов исследование станет более точным.\n",
        "\n",
        "Пропущенные значения заменены на `'unknown'`."
      ]
    },
    {
      "cell_type": "markdown",
      "metadata": {
        "id": "WttZHXH0SqKk"
      },
      "source": [
        "## Проверка гипотез"
      ]
    },
    {
      "cell_type": "markdown",
      "metadata": {
        "id": "Im936VVi_Zcu"
      },
      "source": [
        "### Сравнение поведения пользователей двух столиц"
      ]
    },
    {
      "cell_type": "markdown",
      "metadata": {
        "id": "nwt_MuaL_Zcu"
      },
      "source": [
        "Первая гипотеза утверждает, что пользователи по-разному слушают музыку в Москве и Санкт-Петербурге. Проверем это предположение по данным о трёх днях недели — понедельнике, среде и пятнице. Для этого:\n",
        "\n",
        "* Разделим пользователей Москвы и Санкт-Петербурга\n",
        "* Сравним, сколько треков послушала каждая группа пользователей в понедельник, среду и пятницу.\n"
      ]
    },
    {
      "cell_type": "markdown",
      "metadata": {
        "id": "8Dw_YMmT_Zcu"
      },
      "source": [
        "\n",
        "Оценим активность пользователей в каждом городе. Сгруппируем данные по городу и посчитаем прослушивания в каждой группе.\n"
      ]
    },
    {
      "cell_type": "code",
      "metadata": {
        "id": "0_Qs96oh_Zcu",
        "colab": {
          "base_uri": "https://localhost:8080/"
        },
        "outputId": "742e0d49-8b26-4c3b-de99-462b2c3a2490"
      },
      "source": [
        "df.groupby('city')['genre'].count() # Подсчёт прослушиваний в каждом городе"
      ],
      "execution_count": null,
      "outputs": [
        {
          "output_type": "execute_result",
          "data": {
            "text/plain": [
              "city\n",
              "Moscow              45360\n",
              "Saint-Petersburg    19719\n",
              "Name: genre, dtype: int64"
            ]
          },
          "metadata": {},
          "execution_count": 28
        }
      ]
    },
    {
      "cell_type": "markdown",
      "metadata": {
        "id": "dzli3w8o_Zcu"
      },
      "source": [
        "В Москве прослушиваний больше, чем в Петербурге. Из этого не следует, что московские пользователи чаще слушают музыку. Просто самих пользователей в Москве больше.\n",
        "\n",
        "Далее сгрупируем данные по дню недели и подсчитаем прослушивания в понедельник, среду и пятницу.\n"
      ]
    },
    {
      "cell_type": "code",
      "metadata": {
        "id": "uZMKjiJz_Zcu",
        "colab": {
          "base_uri": "https://localhost:8080/"
        },
        "outputId": "ef5813ca-3c51-4787-ad7e-92671a08a73d"
      },
      "source": [
        "df.groupby('day')['genre'].count() # Подсчёт прослушиваний в каждый из трёх дней"
      ],
      "execution_count": null,
      "outputs": [
        {
          "output_type": "execute_result",
          "data": {
            "text/plain": [
              "day\n",
              "Friday       23149\n",
              "Monday       22697\n",
              "Wednesday    19233\n",
              "Name: genre, dtype: int64"
            ]
          },
          "metadata": {},
          "execution_count": 29
        }
      ]
    },
    {
      "cell_type": "markdown",
      "metadata": {
        "id": "cC2tNrlL_Zcu"
      },
      "source": [
        "В среднем пользователи из двух городов менее активны по средам. Но картина может измениться, если рассмотреть каждый город в отдельности."
      ]
    },
    {
      "cell_type": "markdown",
      "metadata": {
        "id": "POzs8bGa_Zcu"
      },
      "source": [
        "\n",
        "Создаем функцию `number_tracks()`, которая посчитает прослушивания для заданного дня и города. Ей понадобятся два параметра:\n",
        "* день недели,\n",
        "* название города.\n",
        "\n",
        "В функции сохраним в переменную строки исходной таблицы, у которых значение:\n",
        "  * в колонке `day` равно параметру `day`,\n",
        "  * в колонке `city` равно параметру `city`.\n",
        "\n",
        "Для этого применим последовательную фильтрацию с логической индексацией.\n",
        "\n",
        "Затем посчитаем значения в столбце `user_id` получившейся таблицы. Результат сохраним в новую переменную. Вернем эту переменную из функции."
      ]
    },
    {
      "cell_type": "code",
      "metadata": {
        "id": "Nz3GdQB1_Zcu"
      },
      "source": [
        "# <создание функции number_tracks()>  \n",
        "\n",
        "def number_tracks(day, city): # Объявляется функция с двумя параметрами: day, city.\n",
        "\n",
        "    track_list = df[df['day'] == day] # В переменной track_list сохраняются те строки таблицы df, для которых \n",
        "                                      # значение в столбце 'day' равно параметру day и одновременно значение\n",
        "                                      # в столбце 'city' равно параметру city (используйте последовательную фильтрацию\n",
        "                                      # с помощью логической индексации).\n",
        "    track_list = track_list[track_list['city'] == city]\n",
        "    # В переменной track_list_count сохраняется число значений столбца 'user_id',\n",
        "    # рассчитанное методом count() для таблицы track_list.\n",
        "    track_list_count = track_list.groupby('user_id')['genre'].count().sum() \n",
        "    return track_list_count # Функция возвращает число - значение track_list_count."
      ],
      "execution_count": null,
      "outputs": []
    },
    {
      "cell_type": "markdown",
      "metadata": {
        "id": "ytf7xFrFJQ2r"
      },
      "source": [
        "Вызовите `number_tracks()` шесть раз, меняя значение параметров — так, чтобы получить данные для каждого города в каждый из трёх дней."
      ]
    },
    {
      "cell_type": "code",
      "metadata": {
        "id": "rJcRATNQ_Zcu"
      },
      "source": [
        "num_tracks_mon_mos = number_tracks('Monday', 'Moscow') # количество прослушиваний в Москве по понедельникам"
      ],
      "execution_count": null,
      "outputs": []
    },
    {
      "cell_type": "code",
      "metadata": {
        "id": "hq_ncZ5T_Zcu"
      },
      "source": [
        "num_tracks_wed_mos = number_tracks('Wednesday', 'Moscow') # количество прослушиваний в Санкт-Петербурге по понедельникам"
      ],
      "execution_count": null,
      "outputs": []
    },
    {
      "cell_type": "code",
      "metadata": {
        "id": "_NTy2VPU_Zcu"
      },
      "source": [
        "num_tracks_fri_mos = number_tracks('Friday', 'Moscow') # количество прослушиваний в Москве по средам"
      ],
      "execution_count": null,
      "outputs": []
    },
    {
      "cell_type": "code",
      "metadata": {
        "id": "j2y3TAwo_Zcu"
      },
      "source": [
        "num_tracks_mon_spb = number_tracks('Monday', 'Saint-Petersburg') # количество прослушиваний в Санкт-Петербурге по средам"
      ],
      "execution_count": null,
      "outputs": []
    },
    {
      "cell_type": "code",
      "metadata": {
        "id": "vYDw5u_K_Zcu"
      },
      "source": [
        "num_tracks_wed_spb = number_tracks('Wednesday', 'Saint-Petersburg') # количество прослушиваний в Москве по пятницам"
      ],
      "execution_count": null,
      "outputs": []
    },
    {
      "cell_type": "code",
      "metadata": {
        "id": "8_yzFtW3_Zcu"
      },
      "source": [
        "num_tracks_fri_spb = number_tracks('Friday', 'Saint-Petersburg') # количество прослушиваний в Санкт-Петербурге по пятницам"
      ],
      "execution_count": null,
      "outputs": []
    },
    {
      "cell_type": "markdown",
      "metadata": {
        "id": "7QXffbO-_Zcu"
      },
      "source": [
        "Создадим c помощью конструктора `pd.DataFrame` таблицу, где\n",
        "* названия колонок — `['city', 'monday', 'wednesday', 'friday']`;\n",
        "* данные — результаты, которые были получены с помощью `number_tracks`."
      ]
    },
    {
      "cell_type": "code",
      "metadata": {
        "id": "APAcLpOr_Zcu",
        "colab": {
          "base_uri": "https://localhost:8080/",
          "height": 111
        },
        "outputId": "02848090-05ce-4355-8957-951b40aff35a"
      },
      "source": [
        "columns_tracks_of_days = ['city', 'monday', 'wednesday', 'friday'] # создаем список загаловка таблицы\n",
        "data_tracks_of_days = [\n",
        "    ['Moscow', num_tracks_mon_mos, num_tracks_wed_mos, num_tracks_fri_mos],\n",
        "    ['Saint-Petersburg', num_tracks_mon_spb, num_tracks_wed_spb, num_tracks_fri_spb] \n",
        "] # создаем список списков с результатами выполнения number_tracks\n",
        "\n",
        "pd.DataFrame(data = data_tracks_of_days, columns = columns_tracks_of_days) # выводим таблицу"
      ],
      "execution_count": null,
      "outputs": [
        {
          "output_type": "execute_result",
          "data": {
            "text/html": [
              "<div>\n",
              "<style scoped>\n",
              "    .dataframe tbody tr th:only-of-type {\n",
              "        vertical-align: middle;\n",
              "    }\n",
              "\n",
              "    .dataframe tbody tr th {\n",
              "        vertical-align: top;\n",
              "    }\n",
              "\n",
              "    .dataframe thead th {\n",
              "        text-align: right;\n",
              "    }\n",
              "</style>\n",
              "<table border=\"1\" class=\"dataframe\">\n",
              "  <thead>\n",
              "    <tr style=\"text-align: right;\">\n",
              "      <th></th>\n",
              "      <th>city</th>\n",
              "      <th>monday</th>\n",
              "      <th>wednesday</th>\n",
              "      <th>friday</th>\n",
              "    </tr>\n",
              "  </thead>\n",
              "  <tbody>\n",
              "    <tr>\n",
              "      <th>0</th>\n",
              "      <td>Moscow</td>\n",
              "      <td>16715</td>\n",
              "      <td>11755</td>\n",
              "      <td>16890</td>\n",
              "    </tr>\n",
              "    <tr>\n",
              "      <th>1</th>\n",
              "      <td>Saint-Petersburg</td>\n",
              "      <td>5982</td>\n",
              "      <td>7478</td>\n",
              "      <td>6259</td>\n",
              "    </tr>\n",
              "  </tbody>\n",
              "</table>\n",
              "</div>"
            ],
            "text/plain": [
              "               city  monday  wednesday  friday\n",
              "0            Moscow   16715      11755   16890\n",
              "1  Saint-Petersburg    5982       7478    6259"
            ]
          },
          "metadata": {},
          "execution_count": 37
        }
      ]
    },
    {
      "cell_type": "markdown",
      "metadata": {
        "id": "-EgPIHYu_Zcu"
      },
      "source": [
        "**Выводы**\n",
        "\n",
        "Данные показывают разницу поведения пользователей:\n",
        "\n",
        "- В Москве пик прослушиваний приходится на понедельник и пятницу, а в среду заметен спад.\n",
        "- В Петербурге, наоборот, больше слушают музыку по средам. Активность в понедельник и пятницу здесь почти в равной мере уступает среде.\n",
        "\n",
        "Значит, данные говорят в пользу первой гипотезы."
      ]
    },
    {
      "cell_type": "markdown",
      "metadata": {
        "id": "atZAxtq4_Zcu"
      },
      "source": [
        "### Музыка в начале и в конце недели"
      ]
    },
    {
      "cell_type": "markdown",
      "metadata": {
        "id": "eXrQqXFH_Zcu"
      },
      "source": [
        "Согласно второй гипотезе, утром в понедельник в Москве преобладают одни жанры, а в Петербурге — другие. Так же и вечером пятницы преобладают разные жанры — в зависимости от города."
      ]
    },
    {
      "cell_type": "markdown",
      "metadata": {
        "id": "S8UcW6Hw_Zcu"
      },
      "source": [
        "Сохраним таблицы с данными в две переменные:\n",
        "* по Москве — в `moscow_general`;\n",
        "* по Санкт-Петербургу — в `spb_general`."
      ]
    },
    {
      "cell_type": "code",
      "metadata": {
        "id": "qeaFfM_P_Zcu"
      },
      "source": [
        "moscow_general = df[df['city'] == 'Moscow'] # получение таблицы moscow_general из тех строк таблицы df, \n",
        "# для которых значение в столбце 'city' равно 'Moscow'"
      ],
      "execution_count": null,
      "outputs": []
    },
    {
      "cell_type": "code",
      "metadata": {
        "id": "ORaVRKto_Zcu"
      },
      "source": [
        "spb_general = df[df['city'] == 'Saint-Petersburg'] # получение таблицы spb_general из тех строк таблицы df,\n",
        "# для которых значение в столбце 'city' равно 'Saint-Petersburg'"
      ],
      "execution_count": null,
      "outputs": []
    },
    {
      "cell_type": "markdown",
      "metadata": {
        "id": "MEJV-CX2_Zcu"
      },
      "source": [
        "Создадим функцию `genre_weekday()` с четырьмя параметрами:\n",
        "* таблица (датафрейм) с данными,\n",
        "* день недели,\n",
        "* начальная временная метка в формате 'hh:mm', \n",
        "* последняя временная метка в формате 'hh:mm'.\n",
        "\n",
        "Функция вернет информацию о топ-10 жанров тех треков, которые прослушивали в указанный день, в промежутке между двумя отметками времени."
      ]
    },
    {
      "cell_type": "code",
      "metadata": {
        "id": "laJT9BYl_Zcu"
      },
      "source": [
        "# 1) в переменную genre_df сохраняются те строки переданного датафрейма table, для\n",
        "#    которых одновременно:\n",
        "#    - значение в столбце day равно значению аргумента day\n",
        "#    - значение в столбце time больше значения аргумента time1\n",
        "#    - значение в столбце time меньше значения аргумента time2\n",
        "def genre_weekday(table, day, time1, time2):\n",
        "#    Используем последовательную фильтрацию с помощью логической индексации.\n",
        "# 2) сгруппируем датафрейм genre_df по столбцу genre, берем один из его\n",
        "#    столбцов и посчитать методом count() количество записей для каждого из\n",
        "#    присутствующих жанров, получившийся Series запиываем в переменную\n",
        "#    genre_df_count\n",
        "    genre_df = table[table['day'] == day]\n",
        "    genre_df = genre_df[genre_df['time'] > time1]\n",
        "    genre_df = genre_df[genre_df['time'] < time2]\n",
        "    genre_df_count = genre_df.groupby('genre')['city'].count()\n",
        "# 3) отсортируем genre_df_count по убыванию встречаемости и сохраним в переменную genre_df_sorted\n",
        "    genre_df_count = genre_df_count.sort_values(ascending = False)\n",
        "# 4) вернем Series из 10 первых значений genre_df_sorted, это будут топ-10 популярных жанров \n",
        "    return genre_df_count.head(10)"
      ],
      "execution_count": null,
      "outputs": []
    },
    {
      "cell_type": "markdown",
      "metadata": {
        "id": "la2s2_PF_Zcu"
      },
      "source": [
        "Cравним результаты функции `genre_weekday()` для Москвы и Санкт-Петербурга в понедельник утром (с 7:00 до 11:00) и в пятницу вечером (с 17:00 до 23:00):"
      ]
    },
    {
      "cell_type": "code",
      "metadata": {
        "id": "yz7itPUQ_Zcu",
        "colab": {
          "base_uri": "https://localhost:8080/"
        },
        "outputId": "3bff4eec-3f0d-4459-e937-d970d4d1e872"
      },
      "source": [
        "# вызов функции для утра понедельника в Москве\n",
        "genre_weekday(moscow_general, 'Monday', '07:00', '11:00')"
      ],
      "execution_count": null,
      "outputs": [
        {
          "output_type": "execute_result",
          "data": {
            "text/plain": [
              "genre\n",
              "pop            830\n",
              "dance          589\n",
              "rock           511\n",
              "electronic     501\n",
              "hiphop         311\n",
              "ruspop         203\n",
              "world          190\n",
              "rusrap         188\n",
              "alternative    175\n",
              "unknown        172\n",
              "Name: city, dtype: int64"
            ]
          },
          "metadata": {},
          "execution_count": 41
        }
      ]
    },
    {
      "cell_type": "code",
      "metadata": {
        "id": "kwUcHPdy_Zcu",
        "colab": {
          "base_uri": "https://localhost:8080/"
        },
        "outputId": "7485ddf4-f5e0-478b-af0d-9b0d15a72b4d"
      },
      "source": [
        "# вызов функции для утра понедельника в Петербурге\n",
        "genre_weekday(spb_general, 'Monday', '07:00', '11:00')"
      ],
      "execution_count": null,
      "outputs": [
        {
          "output_type": "execute_result",
          "data": {
            "text/plain": [
              "genre\n",
              "pop            238\n",
              "dance          192\n",
              "rock           173\n",
              "electronic     154\n",
              "hiphop          88\n",
              "ruspop          68\n",
              "alternative     65\n",
              "rusrap          56\n",
              "jazz            47\n",
              "classical       42\n",
              "Name: city, dtype: int64"
            ]
          },
          "metadata": {},
          "execution_count": 42
        }
      ]
    },
    {
      "cell_type": "code",
      "metadata": {
        "id": "EzXVRE1o_Zcu",
        "colab": {
          "base_uri": "https://localhost:8080/"
        },
        "outputId": "4bfa639a-6372-419b-9bc0-a10b95a9f5d0"
      },
      "source": [
        "# вызов функции для вечера пятницы в Москве\n",
        "genre_weekday(moscow_general, 'Friday', '17:00', '23:00')"
      ],
      "execution_count": null,
      "outputs": [
        {
          "output_type": "execute_result",
          "data": {
            "text/plain": [
              "genre\n",
              "pop            761\n",
              "rock           546\n",
              "dance          521\n",
              "electronic     510\n",
              "hiphop         282\n",
              "world          220\n",
              "ruspop         184\n",
              "alternative    176\n",
              "classical      171\n",
              "rusrap         151\n",
              "Name: city, dtype: int64"
            ]
          },
          "metadata": {},
          "execution_count": 43
        }
      ]
    },
    {
      "cell_type": "code",
      "metadata": {
        "id": "JZaEKu5v_Zcu",
        "colab": {
          "base_uri": "https://localhost:8080/"
        },
        "outputId": "733bd8f5-38aa-4a97-87b3-b0b3de20ba66"
      },
      "source": [
        "# вызов функции для вечера пятницы в Петербурге\n",
        "genre_weekday(spb_general, 'Friday', '17:00', '23:00')"
      ],
      "execution_count": null,
      "outputs": [
        {
          "output_type": "execute_result",
          "data": {
            "text/plain": [
              "genre\n",
              "pop            279\n",
              "rock           230\n",
              "electronic     227\n",
              "dance          221\n",
              "hiphop         103\n",
              "alternative     67\n",
              "jazz            66\n",
              "rusrap          66\n",
              "classical       64\n",
              "world           60\n",
              "Name: city, dtype: int64"
            ]
          },
          "metadata": {},
          "execution_count": 44
        }
      ]
    },
    {
      "cell_type": "markdown",
      "metadata": {
        "id": "wrCe4MNX_Zcu"
      },
      "source": [
        "**Выводы**\n",
        "\n",
        "Если сравнить топ-10 жанров в понедельник утром, можно сделать такие выводы:\n",
        "\n",
        "1. В Москве и Петербурге слушают похожую музыку. Единственное отличие — в московский рейтинг вошёл жанр “world”, а в петербургский — джаз и классика.\n",
        "\n",
        "2. В Москве пропущенных значений оказалось так много, что значение `'unknown'` заняло десятое место среди самых популярных жанров. Значит, пропущенные значения занимают существенную долю в данных и угрожают достоверности исследования.\n",
        "\n",
        "Вечер пятницы не меняет эту картину. Некоторые жанры поднимаются немного выше, другие спускаются, но в целом топ-10 остаётся тем же самым.\n",
        "\n",
        "Таким образом, вторая гипотеза подтвердилась лишь частично:\n",
        "* Пользователи слушают похожую музыку в начале недели и в конце.\n",
        "* Разница между Москвой и Петербургом не слишком выражена. В Москве чаще слушают русскую популярную музыку, в Петербурге — джаз.\n",
        "\n",
        "Однако пропуски в данных ставят под сомнение этот результат. В Москве их так много, что рейтинг топ-10 мог бы выглядеть иначе, если бы не утерянные  данные о жанрах."
      ]
    },
    {
      "cell_type": "markdown",
      "metadata": {
        "id": "JolODAqr_Zcu"
      },
      "source": [
        "### Жанровые предпочтения в Москве и Петербурге\n",
        "\n",
        "Гипотеза: Петербург — столица рэпа, музыку этого жанра там слушают чаще, чем в Москве.  А Москва — город контрастов, в котором, тем не менее, преобладает поп-музыка."
      ]
    },
    {
      "cell_type": "markdown",
      "metadata": {
        "id": "DlegSvaT_Zcu"
      },
      "source": [
        "Сгруппируем таблицу `moscow_general` по жанру и посчитаем прослушивания треков каждого жанра методом `count()`. Затем отсортируем результат в порядке убывания и сохраним его в таблице `moscow_genres`."
      ]
    },
    {
      "cell_type": "code",
      "metadata": {
        "id": "r19lIPke_Zcu"
      },
      "source": [
        "# сгруппируем таблицу moscow_general по столбцу 'genre', \n",
        "# и проведем подсчёт числа значений 'genre' в этой группировке методом count(), \n",
        "moscow_genres = moscow_general.groupby('genre')['city'].count()\n",
        "# сортируем получившегося Series в порядке убывания и сохраняем в moscow_genres\n",
        "moscow_genres = moscow_genres.sort_values(ascending = False)"
      ],
      "execution_count": null,
      "outputs": []
    },
    {
      "cell_type": "markdown",
      "metadata": {
        "id": "6kMuomxTiIr8"
      },
      "source": [
        "Выведем на экран первые десять строк `moscow_genres`:"
      ]
    },
    {
      "cell_type": "code",
      "metadata": {
        "id": "WhCSooF8_Zcv",
        "colab": {
          "base_uri": "https://localhost:8080/"
        },
        "outputId": "bd9641c4-5434-4940-841d-ef3502a1b5e3"
      },
      "source": [
        "moscow_genres.head(10) # просмотр первых 10 строк moscow_genres"
      ],
      "execution_count": null,
      "outputs": [
        {
          "output_type": "execute_result",
          "data": {
            "text/plain": [
              "genre\n",
              "pop            6254\n",
              "dance          4707\n",
              "rock           4188\n",
              "electronic     4010\n",
              "hiphop         2215\n",
              "classical      1712\n",
              "world          1516\n",
              "alternative    1466\n",
              "ruspop         1453\n",
              "rusrap         1239\n",
              "Name: city, dtype: int64"
            ]
          },
          "metadata": {},
          "execution_count": 46
        }
      ]
    },
    {
      "cell_type": "markdown",
      "metadata": {
        "id": "cnPG2vnN_Zcv"
      },
      "source": [
        "\n",
        "Сгруппируем таблицу `spb_general` по жанру. Посчитаем прослушивания треков каждого жанра. Результат отсортируем в порядке убывания и сохраним в таблице `spb_genres`:\n"
      ]
    },
    {
      "cell_type": "code",
      "metadata": {
        "id": "gluLIpE7_Zcv"
      },
      "source": [
        "# сгруппируем таблицу spb_general по столбцу 'genre', \n",
        "# и проведем подсчёт числа значений 'genre' в этой группировке методом count(), \n",
        "spb_genres = spb_general.groupby('genre')['city'].count()\n",
        "# сортируем получившегося Series в порядке убывания и сохраняем в spb_general\n",
        "spb_genres = spb_genres.sort_values(ascending = False)"
      ],
      "execution_count": null,
      "outputs": []
    },
    {
      "cell_type": "markdown",
      "metadata": {
        "id": "5Doha_ODgyQ8"
      },
      "source": [
        "Выведем на экран первые десять строк `spb_genres`:"
      ]
    },
    {
      "cell_type": "code",
      "metadata": {
        "id": "uaGJHjVU_Zcv",
        "colab": {
          "base_uri": "https://localhost:8080/"
        },
        "outputId": "c43394fb-3381-4795-fb3f-129e7bbd166e"
      },
      "source": [
        "spb_genres.head(10) # просмотр первых 10 строк spb_genres"
      ],
      "execution_count": null,
      "outputs": [
        {
          "output_type": "execute_result",
          "data": {
            "text/plain": [
              "genre\n",
              "pop            2597\n",
              "dance          2054\n",
              "rock           2004\n",
              "electronic     1843\n",
              "hiphop         1020\n",
              "alternative     700\n",
              "classical       684\n",
              "rusrap          604\n",
              "ruspop          565\n",
              "world           553\n",
              "Name: city, dtype: int64"
            ]
          },
          "metadata": {},
          "execution_count": 48
        }
      ]
    },
    {
      "cell_type": "markdown",
      "metadata": {
        "id": "RY51YJYu_Zcv"
      },
      "source": [
        "**Выводы**"
      ]
    },
    {
      "cell_type": "markdown",
      "metadata": {
        "id": "nVhnJEm__Zcv"
      },
      "source": [
        "Гипотеза частично подтвердилась:\n",
        "* Поп-музыка — самый популярный жанр в Москве, как и предполагала гипотеза. Более того, в топ-10 жанров встречается близкий жанр — русская популярная музыка.\n",
        "* Вопреки ожиданиям, рэп одинаково популярен в Москве и Петербурге. \n"
      ]
    },
    {
      "cell_type": "markdown",
      "metadata": {
        "id": "ykKQ0N65_Zcv"
      },
      "source": [
        "## Итоги исследования"
      ]
    },
    {
      "cell_type": "markdown",
      "metadata": {
        "id": "tjUwbHb3_Zcv"
      },
      "source": [
        "Были проверены три гипотезы и установлено:\n",
        "\n",
        "1. День недели по-разному влияет на активность пользователей в Москве и Петербурге. \n",
        "\n",
        "Первая гипотеза полностью подтвердилась.\n",
        "\n",
        "2. Музыкальные предпочтения не сильно меняются в течение недели — будь то Москва или Петербург. Небольшие различия заметны в начале недели, по понедельникам:\n",
        "* в Москве слушают музыку жанра “world”,\n",
        "* в Петербурге — джаз и классику.\n",
        "\n",
        "Таким образом, вторая гипотеза подтвердилась лишь отчасти. Этот результат мог оказаться иным, если бы не пропуски в данных.\n",
        "\n",
        "3. Во вкусах пользователей Москвы и Петербурга больше общего чем различий. Вопреки ожиданиям, предпочтения жанров в Петербурге напоминают московские.\n",
        "\n",
        "Третья гипотеза не подтвердилась. Если различия в предпочтениях и существуют, на основной массе пользователей они незаметны."
      ]
    }
  ]
}